{
 "cells": [
  {
   "cell_type": "code",
   "execution_count": 1,
   "metadata": {},
   "outputs": [],
   "source": [
    "Packages <- c(\"dplyr\",\"broom\",\"cubature\", \"geosphere\", \"data.table\",  \"ggplot2\", \"bbmle\", \"dplyr\",\"tidyr\", \"stringr\", \"tidyverse\", \"lubridate\", \"RColorBrewer\")\n",
    "\n",
    "invisible(suppressPackageStartupMessages(lapply(Packages, library, character.only = TRUE)))\n",
    "\n",
    "setwd('/local/home/katrinac/oceanography')\n",
    "\"%!in%\" <- function(x,table) match(x,table, nomatch = 0) == 0\n",
    "source(\"~/parentage/kernel_fitting/1340_loci/functions/ll_kt_both_bbmle.R\")\n",
    "source(\"~/parentage/kernel_fitting/1340_loci/functions/GenGausKernInt_sum0.5.R\") #integrate_kernel_sum1\n",
    "source(\"~/parentage/kernel_fitting/1340_loci/functions/GenGausKernInt_sum1.R\") #integrate_kernel_sum0.5\n",
    "source(\"~/parentage/kernel_fitting/1340_loci/functions/cdf_solve.R\") #median\n",
    "source(\"~/parentage/kernel_fitting/1340_loci/functions/cdf_solve90.R\") #dist 90% retained\n"
   ]
  },
  {
   "cell_type": "code",
   "execution_count": null,
   "metadata": {},
   "outputs": [],
   "source": [
    "#calculate summary stats like mdd, median, kerutosis, and dist 90 retained\n",
    "#plot summary stats with overlays of empirical fits\n",
    "#test for rank ordered correlations\n"
   ]
  },
  {
   "cell_type": "code",
   "execution_count": 6,
   "metadata": {},
   "outputs": [],
   "source": [
    "#read in the kernel ensembles with no adjustments\n",
    "SimKernels2012 <- read.csv(file=\"~/oceanography/script_output/KernelFits/NoAdjust/1000SimulatedKernels2012.csv\", header=T) %>%\n",
    "    mutate(year=as.character(year)) %>%\n",
    "    mutate(Adj=\"no\")\n",
    "SimKernels2013 <- read.csv(file=\"~/oceanography/script_output/KernelFits/NoAdjust/1000SimulatedKernels2013.csv\", header=T) %>%\n",
    "    mutate(year=as.character(year)) %>%\n",
    "    mutate(Adj=\"no\")\n",
    "SimKernels2014 <- read.csv(file=\"~/oceanography/script_output/KernelFits/NoAdjust/1000SimulatedKernels2014.csv\", header=T) %>%\n",
    "    mutate(year=as.character(year)) %>%\n",
    "    mutate(Adj=\"no\")\n",
    "SimKernelsAll <- read.csv(file=\"~/oceanography/script_output/KernelFits/NoAdjust/1000SimulatedKernelsAll.csv\", header=T) %>%\n",
    "    mutate(year=\"2012-14\") %>%\n",
    "    mutate(Adj=\"no\") \n",
    "\n",
    "\n",
    "#read in the kernel ensembles with survival and NoRecentRec adjustments\n",
    "SimKernels2012SurvNoRecentRec <- read.csv(file=\"~/oceanography/script_output/KernelFits/Adjust_Survival_NoRecentRecruits/1000SimulatedKernels2012SurvNoRecentRec.csv\", header=T) %>%\n",
    "    mutate(year=as.character(year)) %>%\n",
    "    mutate(Adj=\"SurvNoRecentRec\")\n",
    "SimKernels2013SurvNoRecentRec <- read.csv(file=\"~/oceanography/script_output/KernelFits/Adjust_Survival_NoRecentRecruits/1000SimulatedKernels2013SurvNoRecentRec.csv\", header=T) %>%\n",
    "    mutate(year=as.character(year)) %>%\n",
    "    mutate(Adj=\"SurvNoRecentRec\")\n",
    "SimKernels2014SurvNoRecentRec <- read.csv(file=\"~/oceanography/script_output/KernelFits/Adjust_Survival_NoRecentRecruits/1000SimulatedKernels2014SurvNoRecentRec.csv\", header=T) %>%\n",
    "    mutate(year=as.character(year)) %>%\n",
    "    mutate(Adj=\"SurvNoRecentRec\")\n",
    "#SimKernelsAllSurvNoRecentRec <- read.csv(file=\"~/oceanography/script_output/KernelFits/Adjust_Survival_NoRecentRecruits/1000SimulatedKernelsAllSurvNoRecentRec.csv\", header=T) %>%\n",
    "#    mutate(year=\"2012-14\") %>%\n",
    "#    mutate(Adj=\"SurvNoRecentRec\")\n",
    "\n",
    "\n",
    "#read in the kernel ensembles with only NoRecentRec adjustments\n",
    "SimKernels2012NoRecentRec <- read.csv(file=\"~/oceanography/script_output/KernelFits/Adjust_NoRecentRecruits/1000SimulatedKernels2012NoRecentRec.csv\", header=T) %>%\n",
    "    mutate(year=as.character(year)) %>%\n",
    "    mutate(Adj=\"NoRecentRec\")\n",
    "SimKernels2013NoRecentRec <- read.csv(file=\"~/oceanography/script_output/KernelFits/Adjust_NoRecentRecruits/1000SimulatedKernels2013NoRecentRec.csv\", header=T) %>%\n",
    "    mutate(year=as.character(year)) %>%\n",
    "    mutate(Adj=\"NoRecentRec\")\n",
    "SimKernels2014NoRecentRec <- read.csv(file=\"~/oceanography/script_output/KernelFits/Adjust_NoRecentRecruits/1000SimulatedKernels2014NoRecentRec.csv\", header=T) %>%\n",
    "    mutate(year=as.character(year)) %>%\n",
    "    mutate(Adj=\"NoRecentRec\")\n",
    "SimKernelsAllNoRecentRec <- read.csv(file=\"~/oceanography/script_output/KernelFits/Adjust_NoRecentRecruits/1000SimulatedKernelsAllNoRecentRec.csv\", header=T) %>%\n",
    "    mutate(year=\"2012-14\") %>%\n",
    "    mutate(Adj=\"NoRecentRec\")\n",
    "\n",
    "#read in the kernel ensembles with only NoRecentRec adjustments\n",
    "SimKernels2012Surv <- read.csv(file=\"~/oceanography/script_output/KernelFits/Adjust_Survival/1000SimulatedKernels2012Surv.csv\", header=T) %>%\n",
    "    mutate(year=as.character(year)) %>%\n",
    "    mutate(Adj=\"Surv\")\n",
    "SimKernels2013Surv <- read.csv(file=\"~/oceanography/script_output/KernelFits/Adjust_Survival/1000SimulatedKernels2013Surv.csv\", header=T) %>%\n",
    "    mutate(year=as.character(year)) %>%\n",
    "    mutate(Adj=\"Surv\")\n",
    "SimKernels2014Surv <- read.csv(file=\"~/oceanography/script_output/KernelFits/Adjust_Survival/1000SimulatedKernels2014Surv.csv\", header=T) %>%\n",
    "    mutate(year=as.character(year)) %>%\n",
    "    mutate(Adj=\"Surv\")\n",
    "#SimKernelsAllSurv <- read.csv(file=\"~/oceanography/script_output/KernelFits/Adjust_Survival/1000SimulatedKernelsAllSurv.csv\", header=T) %>%\n",
    "#    mutate(year=\"2012-14\") %>%\n",
    "#    mutate(Adj=\"Surv\")\n",
    "#\n",
    "\n",
    "CombinedSims <- bind_rows(SimKernels2012, SimKernels2013, SimKernels2014,  SimKernelsAll, \n",
    "                          SimKernels2012SurvNoRecentRec, SimKernels2013SurvNoRecentRec, SimKernels2014SurvNoRecentRec,\n",
    "                             \n",
    "                          SimKernels2012NoRecentRec, SimKernels2013NoRecentRec, SimKernels2014NoRecentRec,  \n",
    "                              SimKernelsAllNoRecentRec,\n",
    "                          SimKernels2012Surv, SimKernels2013Surv, SimKernels2014Surv\n",
    "                              ) \n",
    "# SimKernelsAllSurvNoRecentRec, SimKernelsAllSurv\n",
    "\n"
   ]
  },
  {
   "cell_type": "code",
   "execution_count": 43,
   "metadata": {},
   "outputs": [
    {
     "data": {
      "text/html": [
       "<table>\n",
       "<thead><tr><th scope=col>year</th><th scope=col>k</th><th scope=col>theta</th><th scope=col>mdd</th><th scope=col>med</th><th scope=col>dist90</th><th scope=col>iteration</th><th scope=col>Adj</th></tr></thead>\n",
       "<tbody>\n",
       "\t<tr><td>2012      </td><td>-2.8047543</td><td>2.4693966 </td><td> 8.699709 </td><td>7.64      </td><td>17.43     </td><td>1         </td><td>no        </td></tr>\n",
       "\t<tr><td>2012      </td><td>-2.8511524</td><td>2.7437224 </td><td> 8.893662 </td><td>7.94      </td><td>17.59     </td><td>2         </td><td>no        </td></tr>\n",
       "\t<tr><td>2012      </td><td>-1.5418595</td><td>0.6919798 </td><td> 9.559210 </td><td>5.57      </td><td>23.29     </td><td>3         </td><td>no        </td></tr>\n",
       "\t<tr><td>2012      </td><td>-2.1396522</td><td>1.0090828 </td><td> 8.388683 </td><td>5.84      </td><td>19.29     </td><td>4         </td><td>no        </td></tr>\n",
       "\t<tr><td>2012      </td><td>-2.1590598</td><td>1.0295803 </td><td> 8.319246 </td><td>5.83      </td><td>19.06     </td><td>5         </td><td>no        </td></tr>\n",
       "\t<tr><td>2012      </td><td>-0.8263778</td><td>0.5313308 </td><td>10.753144 </td><td>5.28      </td><td>26.99     </td><td>6         </td><td>no        </td></tr>\n",
       "</tbody>\n",
       "</table>\n"
      ],
      "text/latex": [
       "\\begin{tabular}{r|llllllll}\n",
       " year & k & theta & mdd & med & dist90 & iteration & Adj\\\\\n",
       "\\hline\n",
       "\t 2012       & -2.8047543 & 2.4693966  &  8.699709  & 7.64       & 17.43      & 1          & no        \\\\\n",
       "\t 2012       & -2.8511524 & 2.7437224  &  8.893662  & 7.94       & 17.59      & 2          & no        \\\\\n",
       "\t 2012       & -1.5418595 & 0.6919798  &  9.559210  & 5.57       & 23.29      & 3          & no        \\\\\n",
       "\t 2012       & -2.1396522 & 1.0090828  &  8.388683  & 5.84       & 19.29      & 4          & no        \\\\\n",
       "\t 2012       & -2.1590598 & 1.0295803  &  8.319246  & 5.83       & 19.06      & 5          & no        \\\\\n",
       "\t 2012       & -0.8263778 & 0.5313308  & 10.753144  & 5.28       & 26.99      & 6          & no        \\\\\n",
       "\\end{tabular}\n"
      ],
      "text/markdown": [
       "\n",
       "| year | k | theta | mdd | med | dist90 | iteration | Adj |\n",
       "|---|---|---|---|---|---|---|---|\n",
       "| 2012       | -2.8047543 | 2.4693966  |  8.699709  | 7.64       | 17.43      | 1          | no         |\n",
       "| 2012       | -2.8511524 | 2.7437224  |  8.893662  | 7.94       | 17.59      | 2          | no         |\n",
       "| 2012       | -1.5418595 | 0.6919798  |  9.559210  | 5.57       | 23.29      | 3          | no         |\n",
       "| 2012       | -2.1396522 | 1.0090828  |  8.388683  | 5.84       | 19.29      | 4          | no         |\n",
       "| 2012       | -2.1590598 | 1.0295803  |  8.319246  | 5.83       | 19.06      | 5          | no         |\n",
       "| 2012       | -0.8263778 | 0.5313308  | 10.753144  | 5.28       | 26.99      | 6          | no         |\n",
       "\n"
      ],
      "text/plain": [
       "  year k          theta     mdd       med  dist90 iteration Adj\n",
       "1 2012 -2.8047543 2.4693966  8.699709 7.64 17.43  1         no \n",
       "2 2012 -2.8511524 2.7437224  8.893662 7.94 17.59  2         no \n",
       "3 2012 -1.5418595 0.6919798  9.559210 5.57 23.29  3         no \n",
       "4 2012 -2.1396522 1.0090828  8.388683 5.84 19.29  4         no \n",
       "5 2012 -2.1590598 1.0295803  8.319246 5.83 19.06  5         no \n",
       "6 2012 -0.8263778 0.5313308 10.753144 5.28 26.99  6         no "
      ]
     },
     "metadata": {},
     "output_type": "display_data"
    },
    {
     "data": {
      "text/html": [
       "<table>\n",
       "<thead><tr><th></th><th scope=col>year</th><th scope=col>k</th><th scope=col>theta</th><th scope=col>mdd</th><th scope=col>med</th><th scope=col>dist90</th><th scope=col>iteration</th><th scope=col>Adj</th></tr></thead>\n",
       "<tbody>\n",
       "\t<tr><th scope=row>13995</th><td>2014     </td><td>-2.715347</td><td>1.5572910</td><td> 9.713832</td><td>7.76     </td><td>20.80    </td><td> 995     </td><td>Surv     </td></tr>\n",
       "\t<tr><th scope=row>13996</th><td>2014     </td><td>-2.826804</td><td>1.7345976</td><td>10.185642</td><td>8.35     </td><td>21.44    </td><td> 996     </td><td>Surv     </td></tr>\n",
       "\t<tr><th scope=row>13997</th><td>2014     </td><td>-2.949267</td><td>2.1559225</td><td>10.472362</td><td>8.98     </td><td>21.36    </td><td> 997     </td><td>Surv     </td></tr>\n",
       "\t<tr><th scope=row>13998</th><td>2014     </td><td>-1.210953</td><td>0.5812250</td><td>11.459204</td><td>6.00     </td><td>28.52    </td><td> 998     </td><td>Surv     </td></tr>\n",
       "\t<tr><th scope=row>13999</th><td>2014     </td><td>-2.229513</td><td>1.0897929</td><td> 8.294037</td><td>5.94     </td><td>18.83    </td><td> 999     </td><td>Surv     </td></tr>\n",
       "\t<tr><th scope=row>14000</th><td>2014     </td><td>-1.468902</td><td>0.6267337</td><td>11.688674</td><td>6.42     </td><td>28.84    </td><td>1000     </td><td>Surv     </td></tr>\n",
       "</tbody>\n",
       "</table>\n"
      ],
      "text/latex": [
       "\\begin{tabular}{r|llllllll}\n",
       "  & year & k & theta & mdd & med & dist90 & iteration & Adj\\\\\n",
       "\\hline\n",
       "\t13995 & 2014      & -2.715347 & 1.5572910 &  9.713832 & 7.76      & 20.80     &  995      & Surv     \\\\\n",
       "\t13996 & 2014      & -2.826804 & 1.7345976 & 10.185642 & 8.35      & 21.44     &  996      & Surv     \\\\\n",
       "\t13997 & 2014      & -2.949267 & 2.1559225 & 10.472362 & 8.98      & 21.36     &  997      & Surv     \\\\\n",
       "\t13998 & 2014      & -1.210953 & 0.5812250 & 11.459204 & 6.00      & 28.52     &  998      & Surv     \\\\\n",
       "\t13999 & 2014      & -2.229513 & 1.0897929 &  8.294037 & 5.94      & 18.83     &  999      & Surv     \\\\\n",
       "\t14000 & 2014      & -1.468902 & 0.6267337 & 11.688674 & 6.42      & 28.84     & 1000      & Surv     \\\\\n",
       "\\end{tabular}\n"
      ],
      "text/markdown": [
       "\n",
       "| <!--/--> | year | k | theta | mdd | med | dist90 | iteration | Adj |\n",
       "|---|---|---|---|---|---|---|---|---|\n",
       "| 13995 | 2014      | -2.715347 | 1.5572910 |  9.713832 | 7.76      | 20.80     |  995      | Surv      |\n",
       "| 13996 | 2014      | -2.826804 | 1.7345976 | 10.185642 | 8.35      | 21.44     |  996      | Surv      |\n",
       "| 13997 | 2014      | -2.949267 | 2.1559225 | 10.472362 | 8.98      | 21.36     |  997      | Surv      |\n",
       "| 13998 | 2014      | -1.210953 | 0.5812250 | 11.459204 | 6.00      | 28.52     |  998      | Surv      |\n",
       "| 13999 | 2014      | -2.229513 | 1.0897929 |  8.294037 | 5.94      | 18.83     |  999      | Surv      |\n",
       "| 14000 | 2014      | -1.468902 | 0.6267337 | 11.688674 | 6.42      | 28.84     | 1000      | Surv      |\n",
       "\n"
      ],
      "text/plain": [
       "      year k         theta     mdd       med  dist90 iteration Adj \n",
       "13995 2014 -2.715347 1.5572910  9.713832 7.76 20.80   995      Surv\n",
       "13996 2014 -2.826804 1.7345976 10.185642 8.35 21.44   996      Surv\n",
       "13997 2014 -2.949267 2.1559225 10.472362 8.98 21.36   997      Surv\n",
       "13998 2014 -1.210953 0.5812250 11.459204 6.00 28.52   998      Surv\n",
       "13999 2014 -2.229513 1.0897929  8.294037 5.94 18.83   999      Surv\n",
       "14000 2014 -1.468902 0.6267337 11.688674 6.42 28.84  1000      Surv"
      ]
     },
     "metadata": {},
     "output_type": "display_data"
    }
   ],
   "source": [
    "head(CombinedSims)\n",
    "tail(CombinedSims)"
   ]
  },
  {
   "cell_type": "code",
   "execution_count": 8,
   "metadata": {},
   "outputs": [
    {
     "data": {
      "image/png": "[encoded data removed]",
      "text/plain": [
       "plot without title"
      ]
     },
     "metadata": {},
     "output_type": "display_data"
    },
    {
     "data": {
      "image/png": "[encoded data removed]",
      "text/plain": [
       "plot without title"
      ]
     },
     "metadata": {},
     "output_type": "display_data"
    }
   ],
   "source": [
    "#check for obvious bias based on iteration, which would point to a problem in the for loop. Seems fine to me though 03/23/2021\n",
    "plot(CombinedSims$mdd ~ CombinedSims$iteration)\n",
    "plot(CombinedSims$theta ~ CombinedSims$iteration)"
   ]
  },
  {
   "cell_type": "code",
   "execution_count": 11,
   "metadata": {},
   "outputs": [
    {
     "name": "stderr",
     "output_type": "stream",
     "text": [
      "`summarise()` regrouping output by 'Adj' (override with `.groups` argument)\n"
     ]
    },
    {
     "data": {
      "text/html": [
       "<table>\n",
       "<thead><tr><th scope=col>NObsBoundary2014</th></tr></thead>\n",
       "<tbody>\n",
       "\t<tr><td>1187</td></tr>\n",
       "</tbody>\n",
       "</table>\n"
      ],
      "text/latex": [
       "\\begin{tabular}{r|l}\n",
       " NObsBoundary2014\\\\\n",
       "\\hline\n",
       "\t 1187\\\\\n",
       "\\end{tabular}\n"
      ],
      "text/markdown": [
       "\n",
       "| NObsBoundary2014 |\n",
       "|---|\n",
       "| 1187 |\n",
       "\n"
      ],
      "text/plain": [
       "  NObsBoundary2014\n",
       "1 1187            "
      ]
     },
     "metadata": {},
     "output_type": "display_data"
    },
    {
     "data": {
      "text/html": [
       "1172"
      ],
      "text/latex": [
       "1172"
      ],
      "text/markdown": [
       "1172"
      ],
      "text/plain": [
       "[1] 1172"
      ]
     },
     "metadata": {},
     "output_type": "display_data"
    }
   ],
   "source": [
    "#FROM AFTER 1000 SIMS AND SAND FLATS excluded\n",
    "\n",
    "#that's a fit where theta is at the boundary, not a good fit\n",
    "CombinedSims %>%\n",
    "    group_by(Adj, year) %>%\n",
    "    filter(k==10 |k==-10 | theta==0.15 |theta== 8) %>% #how often are the fits at the boundary? as in, bad\n",
    "    summarise(NObsBoundary=n()) %>%\n",
    "    arrange(NObsBoundary) %>%\n",
    "    filter(year==\"2014\") %>% #zero in on 2014\n",
    "    ungroup() %>%\n",
    "    summarise(NObsBoundary2014=sum(NObsBoundary))\n",
    "\n",
    "nrow(CombinedSims %>% filter(year==\"2014\" & theta==8))\n"
   ]
  },
  {
   "cell_type": "code",
   "execution_count": 198,
   "metadata": {},
   "outputs": [
    {
     "data": {
      "text/html": [
       "<table>\n",
       "<thead><tr><th scope=col>Adj</th><th scope=col>year</th><th scope=col>k</th><th scope=col>theta</th><th scope=col>mdd</th><th scope=col>med</th><th scope=col>dist90</th><th scope=col>iteration</th></tr></thead>\n",
       "<tbody>\n",
       "\t<tr><td>Growth    </td><td>2012      </td><td>-3.053527 </td><td>0.1500000 </td><td>7.801439  </td><td>4.96      </td><td>16.26     </td><td>1         </td></tr>\n",
       "\t<tr><td>Growth    </td><td>2013      </td><td>-1.729249 </td><td>1.3854956 </td><td>2.877126  </td><td>2.30      </td><td> 6.14     </td><td>1         </td></tr>\n",
       "\t<tr><td>Growth    </td><td>2014      </td><td>-1.374318 </td><td>1.0217415 </td><td>2.281533  </td><td>1.59      </td><td> 5.14     </td><td>1         </td></tr>\n",
       "\t<tr><td>Growth    </td><td>2012-14   </td><td>-3.340957 </td><td>0.3062867 </td><td>8.363322  </td><td>5.01      </td><td>18.11     </td><td>1         </td></tr>\n",
       "\t<tr><td>no        </td><td>2012      </td><td>-2.982347 </td><td>0.1500000 </td><td>7.723438  </td><td>4.92      </td><td>16.26     </td><td>1         </td></tr>\n",
       "\t<tr><td>no        </td><td>2013      </td><td>-2.676413 </td><td>0.3023630 </td><td>6.191923  </td><td>3.34      </td><td>14.50     </td><td>1         </td></tr>\n",
       "\t<tr><td>no        </td><td>2014      </td><td>-3.348197 </td><td>0.1500000 </td><td>8.710534  </td><td>5.29      </td><td>19.15     </td><td>1         </td></tr>\n",
       "\t<tr><td>no        </td><td>2012-14   </td><td>-3.338111 </td><td>0.3745957 </td><td>8.340042  </td><td>4.94      </td><td>17.81     </td><td>1         </td></tr>\n",
       "\t<tr><td>SurvGrowth</td><td>2012      </td><td>-2.751642 </td><td>0.1500000 </td><td>7.762852  </td><td>4.99      </td><td>16.25     </td><td>1         </td></tr>\n",
       "\t<tr><td>SurvGrowth</td><td>2013      </td><td>-2.022038 </td><td>0.2457217 </td><td>6.164708  </td><td>3.08      </td><td>15.24     </td><td>1         </td></tr>\n",
       "\t<tr><td>SurvGrowth</td><td>2014      </td><td>-3.379969 </td><td>0.1997507 </td><td>8.795665  </td><td>5.96      </td><td>18.89     </td><td>1         </td></tr>\n",
       "\t<tr><td>SurvGrowth</td><td>2012-14   </td><td>-3.331635 </td><td>0.3989553 </td><td>2.975040  </td><td>1.68      </td><td> 7.30     </td><td>1         </td></tr>\n",
       "</tbody>\n",
       "</table>\n"
      ],
      "text/latex": [
       "\\begin{tabular}{r|llllllll}\n",
       " Adj & year & k & theta & mdd & med & dist90 & iteration\\\\\n",
       "\\hline\n",
       "\t Growth     & 2012       & -3.053527  & 0.1500000  & 7.801439   & 4.96       & 16.26      & 1         \\\\\n",
       "\t Growth     & 2013       & -1.729249  & 1.3854956  & 2.877126   & 2.30       &  6.14      & 1         \\\\\n",
       "\t Growth     & 2014       & -1.374318  & 1.0217415  & 2.281533   & 1.59       &  5.14      & 1         \\\\\n",
       "\t Growth     & 2012-14    & -3.340957  & 0.3062867  & 8.363322   & 5.01       & 18.11      & 1         \\\\\n",
       "\t no         & 2012       & -2.982347  & 0.1500000  & 7.723438   & 4.92       & 16.26      & 1         \\\\\n",
       "\t no         & 2013       & -2.676413  & 0.3023630  & 6.191923   & 3.34       & 14.50      & 1         \\\\\n",
       "\t no         & 2014       & -3.348197  & 0.1500000  & 8.710534   & 5.29       & 19.15      & 1         \\\\\n",
       "\t no         & 2012-14    & -3.338111  & 0.3745957  & 8.340042   & 4.94       & 17.81      & 1         \\\\\n",
       "\t SurvGrowth & 2012       & -2.751642  & 0.1500000  & 7.762852   & 4.99       & 16.25      & 1         \\\\\n",
       "\t SurvGrowth & 2013       & -2.022038  & 0.2457217  & 6.164708   & 3.08       & 15.24      & 1         \\\\\n",
       "\t SurvGrowth & 2014       & -3.379969  & 0.1997507  & 8.795665   & 5.96       & 18.89      & 1         \\\\\n",
       "\t SurvGrowth & 2012-14    & -3.331635  & 0.3989553  & 2.975040   & 1.68       &  7.30      & 1         \\\\\n",
       "\\end{tabular}\n"
      ],
      "text/markdown": [
       "\n",
       "| Adj | year | k | theta | mdd | med | dist90 | iteration |\n",
       "|---|---|---|---|---|---|---|---|\n",
       "| Growth     | 2012       | -3.053527  | 0.1500000  | 7.801439   | 4.96       | 16.26      | 1          |\n",
       "| Growth     | 2013       | -1.729249  | 1.3854956  | 2.877126   | 2.30       |  6.14      | 1          |\n",
       "| Growth     | 2014       | -1.374318  | 1.0217415  | 2.281533   | 1.59       |  5.14      | 1          |\n",
       "| Growth     | 2012-14    | -3.340957  | 0.3062867  | 8.363322   | 5.01       | 18.11      | 1          |\n",
       "| no         | 2012       | -2.982347  | 0.1500000  | 7.723438   | 4.92       | 16.26      | 1          |\n",
       "| no         | 2013       | -2.676413  | 0.3023630  | 6.191923   | 3.34       | 14.50      | 1          |\n",
       "| no         | 2014       | -3.348197  | 0.1500000  | 8.710534   | 5.29       | 19.15      | 1          |\n",
       "| no         | 2012-14    | -3.338111  | 0.3745957  | 8.340042   | 4.94       | 17.81      | 1          |\n",
       "| SurvGrowth | 2012       | -2.751642  | 0.1500000  | 7.762852   | 4.99       | 16.25      | 1          |\n",
       "| SurvGrowth | 2013       | -2.022038  | 0.2457217  | 6.164708   | 3.08       | 15.24      | 1          |\n",
       "| SurvGrowth | 2014       | -3.379969  | 0.1997507  | 8.795665   | 5.96       | 18.89      | 1          |\n",
       "| SurvGrowth | 2012-14    | -3.331635  | 0.3989553  | 2.975040   | 1.68       |  7.30      | 1          |\n",
       "\n"
      ],
      "text/plain": [
       "   Adj        year    k         theta     mdd      med  dist90 iteration\n",
       "1  Growth     2012    -3.053527 0.1500000 7.801439 4.96 16.26  1        \n",
       "2  Growth     2013    -1.729249 1.3854956 2.877126 2.30  6.14  1        \n",
       "3  Growth     2014    -1.374318 1.0217415 2.281533 1.59  5.14  1        \n",
       "4  Growth     2012-14 -3.340957 0.3062867 8.363322 5.01 18.11  1        \n",
       "5  no         2012    -2.982347 0.1500000 7.723438 4.92 16.26  1        \n",
       "6  no         2013    -2.676413 0.3023630 6.191923 3.34 14.50  1        \n",
       "7  no         2014    -3.348197 0.1500000 8.710534 5.29 19.15  1        \n",
       "8  no         2012-14 -3.338111 0.3745957 8.340042 4.94 17.81  1        \n",
       "9  SurvGrowth 2012    -2.751642 0.1500000 7.762852 4.99 16.25  1        \n",
       "10 SurvGrowth 2013    -2.022038 0.2457217 6.164708 3.08 15.24  1        \n",
       "11 SurvGrowth 2014    -3.379969 0.1997507 8.795665 5.96 18.89  1        \n",
       "12 SurvGrowth 2012-14 -3.331635 0.3989553 2.975040 1.68  7.30  1        "
      ]
     },
     "metadata": {},
     "output_type": "display_data"
    },
    {
     "data": {
      "text/html": [
       "<table>\n",
       "<thead><tr><th scope=col>year</th><th scope=col>k</th><th scope=col>theta</th><th scope=col>mdd</th><th scope=col>med</th><th scope=col>dist90</th><th scope=col>iteration</th><th scope=col>Adj</th></tr></thead>\n",
       "<tbody>\n",
       "\t<tr><td>2012      </td><td>-2.751642 </td><td>0.1500000 </td><td>7.762852  </td><td>4.99      </td><td>16.25     </td><td>1         </td><td>SurvGrowth</td></tr>\n",
       "\t<tr><td>2013      </td><td>-2.022038 </td><td>0.2457217 </td><td>6.164708  </td><td>3.08      </td><td>15.24     </td><td>1         </td><td>SurvGrowth</td></tr>\n",
       "\t<tr><td>2014      </td><td>-3.379969 </td><td>0.1997507 </td><td>8.795665  </td><td>5.96      </td><td>18.89     </td><td>1         </td><td>SurvGrowth</td></tr>\n",
       "\t<tr><td>2012-14   </td><td>-3.331635 </td><td>0.3989553 </td><td>2.975040  </td><td>1.68      </td><td> 7.30     </td><td>1         </td><td>SurvGrowth</td></tr>\n",
       "</tbody>\n",
       "</table>\n"
      ],
      "text/latex": [
       "\\begin{tabular}{r|llllllll}\n",
       " year & k & theta & mdd & med & dist90 & iteration & Adj\\\\\n",
       "\\hline\n",
       "\t 2012       & -2.751642  & 0.1500000  & 7.762852   & 4.99       & 16.25      & 1          & SurvGrowth\\\\\n",
       "\t 2013       & -2.022038  & 0.2457217  & 6.164708   & 3.08       & 15.24      & 1          & SurvGrowth\\\\\n",
       "\t 2014       & -3.379969  & 0.1997507  & 8.795665   & 5.96       & 18.89      & 1          & SurvGrowth\\\\\n",
       "\t 2012-14    & -3.331635  & 0.3989553  & 2.975040   & 1.68       &  7.30      & 1          & SurvGrowth\\\\\n",
       "\\end{tabular}\n"
      ],
      "text/markdown": [
       "\n",
       "| year | k | theta | mdd | med | dist90 | iteration | Adj |\n",
       "|---|---|---|---|---|---|---|---|\n",
       "| 2012       | -2.751642  | 0.1500000  | 7.762852   | 4.99       | 16.25      | 1          | SurvGrowth |\n",
       "| 2013       | -2.022038  | 0.2457217  | 6.164708   | 3.08       | 15.24      | 1          | SurvGrowth |\n",
       "| 2014       | -3.379969  | 0.1997507  | 8.795665   | 5.96       | 18.89      | 1          | SurvGrowth |\n",
       "| 2012-14    | -3.331635  | 0.3989553  | 2.975040   | 1.68       |  7.30      | 1          | SurvGrowth |\n",
       "\n"
      ],
      "text/plain": [
       "  year    k         theta     mdd      med  dist90 iteration Adj       \n",
       "1 2012    -2.751642 0.1500000 7.762852 4.99 16.25  1         SurvGrowth\n",
       "2 2013    -2.022038 0.2457217 6.164708 3.08 15.24  1         SurvGrowth\n",
       "3 2014    -3.379969 0.1997507 8.795665 5.96 18.89  1         SurvGrowth\n",
       "4 2012-14 -3.331635 0.3989553 2.975040 1.68  7.30  1         SurvGrowth"
      ]
     },
     "metadata": {},
     "output_type": "display_data"
    }
   ],
   "source": [
    "CombinedSims %>%\n",
    "    group_by(Adj, year) %>%\n",
    "    summarise_each(funs(min))\n",
    "\n",
    "CombinedSims %>%\n",
    "    filter(Adj==\"SurvGrowth\") %>%\n",
    "    group_by(year) %>%\n",
    "    summarise_each(funs(min))"
   ]
  },
  {
   "cell_type": "code",
   "execution_count": 57,
   "metadata": {
    "scrolled": true
   },
   "outputs": [],
   "source": [
    "AvgFits <-  CombinedSims %>% \n",
    "    select(-iteration) %>%\n",
    "    group_by(year, Adj) %>%\n",
    "    summarise_each(funs(mean)) %>%\n",
    "    rename(Year=\"year\", AvgSimK=\"k\", AvgSimTheta=\"theta\", AvgSimMDD=\"mdd\", AvgSimMed=\"med\", AvgSimDist90=\"dist90\")\n",
    "\n",
    "MinFits <-  CombinedSims %>% \n",
    "    select(-iteration) %>%\n",
    "    group_by(year, Adj) %>%\n",
    "    summarise_each(funs(min)) %>%\n",
    "    rename(Year=\"year\", MinSimK=\"k\", MinSimTheta=\"theta\", MinSimMDD=\"mdd\", MinSimMed=\"med\", MinSimDist90=\"dist90\")\n",
    "\n",
    "MaxFits <-  CombinedSims %>% \n",
    "    select(-iteration) %>%\n",
    "    group_by(year, Adj) %>%\n",
    "    summarise_each(funs(max)) %>%\n",
    "    rename(Year=\"year\", MaxSimK=\"k\", MaxSimTheta=\"theta\", MaxSimMDD=\"mdd\", MaxSimMed=\"med\", MaxSimDist90=\"dist90\")\n",
    "\n",
    "MedFits <-  CombinedSims %>% \n",
    "    select(-iteration) %>%\n",
    "    group_by(year, Adj) %>%\n",
    "    summarise_each(funs(median)) %>%\n",
    "    rename(Year=\"year\", MedSimK=\"k\", MedSimTheta=\"theta\", MedSimMDD=\"mdd\", MedSimMed=\"med\", MedSimDist90=\"dist90\")\n",
    "\n",
    "SDFits <-  CombinedSims %>% \n",
    "    select(-iteration) %>%\n",
    "    group_by(year, Adj) %>%\n",
    "    summarise_each(funs(sd)) %>%\n",
    "    rename(Year=\"year\", SDSimK=\"k\", SDSimTheta=\"theta\", SDSimMDD=\"mdd\", SDSimMed=\"med\", SDSimDist90=\"dist90\")\n",
    "\n",
    "SimSummary <- left_join(AvgFits, SDFits, by=c(\"Year\", \"Adj\"))\n",
    "SimSummary <- left_join(SimSummary, MinFits, by=c(\"Year\", \"Adj\"))\n",
    "SimSummary <- left_join(SimSummary, MaxFits, by=c(\"Year\", \"Adj\"))\n",
    "SimSummary2 <- left_join(SimSummary, MedFits, by=c(\"Year\", \"Adj\")) \n",
    "                      \n",
    "                        \n",
    "                        #MaxFits, MedFits, by=c(\"Year\", \"Adj\"))\n"
   ]
  },
  {
   "cell_type": "code",
   "execution_count": 58,
   "metadata": {},
   "outputs": [],
   "source": [
    "SimCVWithin <- CombinedSims %>% #make a data frame that has the CV for select parameters/summary stats WITHIN an ensemble\n",
    "    select(-iteration) %>%\n",
    "    group_by(year, Adj) %>%\n",
    "    mutate(CVSimMDDWithin=sd(mdd)/mean(mdd)) %>%\n",
    "    mutate(CVSimKWithin=sd(k)/mean(k)) %>%\n",
    "    mutate(CVSimThetaWithin=sd(theta)/mean(theta)) %>%\n",
    "    mutate(CVSimMedWithin=sd(med)/mean(med)) %>%\n",
    "    distinct(year, Adj, .keep_all = T) %>%\n",
    "    select(year, Adj,CVSimMDDWithin, CVSimKWithin, CVSimThetaWithin, CVSimMedWithin) %>%\n",
    "    rename(Year=\"year\")\n",
    "\n",
    "\n",
    "\n"
   ]
  },
  {
   "cell_type": "code",
   "execution_count": 95,
   "metadata": {},
   "outputs": [
    {
     "data": {
      "text/html": [
       "<ol class=list-inline>\n",
       "\t<li>14</li>\n",
       "\t<li>35</li>\n",
       "</ol>\n"
      ],
      "text/latex": [
       "\\begin{enumerate*}\n",
       "\\item 14\n",
       "\\item 35\n",
       "\\end{enumerate*}\n"
      ],
      "text/markdown": [
       "1. 14\n",
       "2. 35\n",
       "\n",
       "\n"
      ],
      "text/plain": [
       "[1] 14 35"
      ]
     },
     "metadata": {},
     "output_type": "display_data"
    }
   ],
   "source": [
    "dim(SimSummary)"
   ]
  },
  {
   "cell_type": "code",
   "execution_count": 96,
   "metadata": {},
   "outputs": [
    {
     "data": {
      "text/html": [
       "<table>\n",
       "<thead><tr><th scope=col>Year</th><th scope=col>Adj</th><th scope=col>Stat</th><th scope=col>value</th></tr></thead>\n",
       "<tbody>\n",
       "\t<tr><td>2012           </td><td>no             </td><td>AvgSimK        </td><td>-1.38          </td></tr>\n",
       "\t<tr><td>2012           </td><td>NoRecentRec    </td><td>AvgSimK        </td><td>-1.29          </td></tr>\n",
       "\t<tr><td>2012           </td><td>Surv           </td><td>AvgSimK        </td><td>-1.47          </td></tr>\n",
       "\t<tr><td>2012           </td><td>SurvNoRecentRec</td><td>AvgSimK        </td><td>-1.11          </td></tr>\n",
       "\t<tr><td>2012-14        </td><td>no             </td><td>AvgSimK        </td><td>-2.14          </td></tr>\n",
       "\t<tr><td>2012-14        </td><td>NoRecentRec    </td><td>AvgSimK        </td><td>-1.69          </td></tr>\n",
       "\t<tr><td>2013           </td><td>no             </td><td>AvgSimK        </td><td>-1.39          </td></tr>\n",
       "\t<tr><td>2013           </td><td>NoRecentRec    </td><td>AvgSimK        </td><td>-0.83          </td></tr>\n",
       "\t<tr><td>2013           </td><td>Surv           </td><td>AvgSimK        </td><td>-1.63          </td></tr>\n",
       "\t<tr><td>2013           </td><td>SurvNoRecentRec</td><td>AvgSimK        </td><td>-0.61          </td></tr>\n",
       "\t<tr><td>2014           </td><td>no             </td><td>AvgSimK        </td><td>-2.28          </td></tr>\n",
       "\t<tr><td>2014           </td><td>NoRecentRec    </td><td>AvgSimK        </td><td>-1.88          </td></tr>\n",
       "\t<tr><td>2014           </td><td>Surv           </td><td>AvgSimK        </td><td>-2.40          </td></tr>\n",
       "\t<tr><td>2014           </td><td>SurvNoRecentRec</td><td>AvgSimK        </td><td>-1.61          </td></tr>\n",
       "\t<tr><td>2012           </td><td>no             </td><td>AvgSimTheta    </td><td> 1.20          </td></tr>\n",
       "\t<tr><td>2012           </td><td>NoRecentRec    </td><td>AvgSimTheta    </td><td> 1.01          </td></tr>\n",
       "\t<tr><td>2012           </td><td>Surv           </td><td>AvgSimTheta    </td><td> 1.38          </td></tr>\n",
       "\t<tr><td>2012           </td><td>SurvNoRecentRec</td><td>AvgSimTheta    </td><td> 0.95          </td></tr>\n",
       "\t<tr><td>2012-14        </td><td>no             </td><td>AvgSimTheta    </td><td> 1.31          </td></tr>\n",
       "\t<tr><td>2012-14        </td><td>NoRecentRec    </td><td>AvgSimTheta    </td><td> 1.20          </td></tr>\n",
       "\t<tr><td>2013           </td><td>no             </td><td>AvgSimTheta    </td><td> 0.87          </td></tr>\n",
       "\t<tr><td>2013           </td><td>NoRecentRec    </td><td>AvgSimTheta    </td><td> 0.66          </td></tr>\n",
       "\t<tr><td>2013           </td><td>Surv           </td><td>AvgSimTheta    </td><td> 0.97          </td></tr>\n",
       "\t<tr><td>2013           </td><td>SurvNoRecentRec</td><td>AvgSimTheta    </td><td> 0.60          </td></tr>\n",
       "\t<tr><td>2014           </td><td>no             </td><td>AvgSimTheta    </td><td> 2.93          </td></tr>\n",
       "\t<tr><td>2014           </td><td>NoRecentRec    </td><td>AvgSimTheta    </td><td> 3.30          </td></tr>\n",
       "\t<tr><td>2014           </td><td>Surv           </td><td>AvgSimTheta    </td><td> 3.06          </td></tr>\n",
       "\t<tr><td>2014           </td><td>SurvNoRecentRec</td><td>AvgSimTheta    </td><td> 3.08          </td></tr>\n",
       "\t<tr><td>2012           </td><td>no             </td><td>AvgSimMDD      </td><td>54.32          </td></tr>\n",
       "\t<tr><td>2012           </td><td>NoRecentRec    </td><td>AvgSimMDD      </td><td>40.07          </td></tr>\n",
       "\t<tr><td>...</td><td>...</td><td>...</td><td>...</td></tr>\n",
       "\t<tr><td>2014           </td><td>Surv           </td><td>CVSimKAmong    </td><td>-0.27          </td></tr>\n",
       "\t<tr><td>2014           </td><td>SurvNoRecentRec</td><td>CVSimKAmong    </td><td>-0.45          </td></tr>\n",
       "\t<tr><td>2012           </td><td>no             </td><td>CVSimThetaAmong</td><td> 0.58          </td></tr>\n",
       "\t<tr><td>2012           </td><td>NoRecentRec    </td><td>CVSimThetaAmong</td><td> 0.77          </td></tr>\n",
       "\t<tr><td>2012           </td><td>Surv           </td><td>CVSimThetaAmong</td><td> 0.61          </td></tr>\n",
       "\t<tr><td>2012           </td><td>SurvNoRecentRec</td><td>CVSimThetaAmong</td><td> 0.87          </td></tr>\n",
       "\t<tr><td>2012-14        </td><td>no             </td><td>CVSimThetaAmong</td><td> 0.58          </td></tr>\n",
       "\t<tr><td>2012-14        </td><td>NoRecentRec    </td><td>CVSimThetaAmong</td><td> 0.77          </td></tr>\n",
       "\t<tr><td>2013           </td><td>no             </td><td>CVSimThetaAmong</td><td> 0.58          </td></tr>\n",
       "\t<tr><td>2013           </td><td>NoRecentRec    </td><td>CVSimThetaAmong</td><td> 0.77          </td></tr>\n",
       "\t<tr><td>2013           </td><td>Surv           </td><td>CVSimThetaAmong</td><td> 0.61          </td></tr>\n",
       "\t<tr><td>2013           </td><td>SurvNoRecentRec</td><td>CVSimThetaAmong</td><td> 0.87          </td></tr>\n",
       "\t<tr><td>2014           </td><td>no             </td><td>CVSimThetaAmong</td><td> 0.58          </td></tr>\n",
       "\t<tr><td>2014           </td><td>NoRecentRec    </td><td>CVSimThetaAmong</td><td> 0.77          </td></tr>\n",
       "\t<tr><td>2014           </td><td>Surv           </td><td>CVSimThetaAmong</td><td> 0.61          </td></tr>\n",
       "\t<tr><td>2014           </td><td>SurvNoRecentRec</td><td>CVSimThetaAmong</td><td> 0.87          </td></tr>\n",
       "\t<tr><td>2012           </td><td>no             </td><td>CVSimMedAmong  </td><td> 0.38          </td></tr>\n",
       "\t<tr><td>2012           </td><td>NoRecentRec    </td><td>CVSimMedAmong  </td><td> 0.56          </td></tr>\n",
       "\t<tr><td>2012           </td><td>Surv           </td><td>CVSimMedAmong  </td><td> 0.41          </td></tr>\n",
       "\t<tr><td>2012           </td><td>SurvNoRecentRec</td><td>CVSimMedAmong  </td><td> 0.62          </td></tr>\n",
       "\t<tr><td>2012-14        </td><td>no             </td><td>CVSimMedAmong  </td><td> 0.38          </td></tr>\n",
       "\t<tr><td>2012-14        </td><td>NoRecentRec    </td><td>CVSimMedAmong  </td><td> 0.56          </td></tr>\n",
       "\t<tr><td>2013           </td><td>no             </td><td>CVSimMedAmong  </td><td> 0.38          </td></tr>\n",
       "\t<tr><td>2013           </td><td>NoRecentRec    </td><td>CVSimMedAmong  </td><td> 0.56          </td></tr>\n",
       "\t<tr><td>2013           </td><td>Surv           </td><td>CVSimMedAmong  </td><td> 0.41          </td></tr>\n",
       "\t<tr><td>2013           </td><td>SurvNoRecentRec</td><td>CVSimMedAmong  </td><td> 0.62          </td></tr>\n",
       "\t<tr><td>2014           </td><td>no             </td><td>CVSimMedAmong  </td><td> 0.38          </td></tr>\n",
       "\t<tr><td>2014           </td><td>NoRecentRec    </td><td>CVSimMedAmong  </td><td> 0.56          </td></tr>\n",
       "\t<tr><td>2014           </td><td>Surv           </td><td>CVSimMedAmong  </td><td> 0.41          </td></tr>\n",
       "\t<tr><td>2014           </td><td>SurvNoRecentRec</td><td>CVSimMedAmong  </td><td> 0.62          </td></tr>\n",
       "</tbody>\n",
       "</table>\n"
      ],
      "text/latex": [
       "\\begin{tabular}{r|llll}\n",
       " Year & Adj & Stat & value\\\\\n",
       "\\hline\n",
       "\t 2012            & no              & AvgSimK         & -1.38          \\\\\n",
       "\t 2012            & NoRecentRec     & AvgSimK         & -1.29          \\\\\n",
       "\t 2012            & Surv            & AvgSimK         & -1.47          \\\\\n",
       "\t 2012            & SurvNoRecentRec & AvgSimK         & -1.11          \\\\\n",
       "\t 2012-14         & no              & AvgSimK         & -2.14          \\\\\n",
       "\t 2012-14         & NoRecentRec     & AvgSimK         & -1.69          \\\\\n",
       "\t 2013            & no              & AvgSimK         & -1.39          \\\\\n",
       "\t 2013            & NoRecentRec     & AvgSimK         & -0.83          \\\\\n",
       "\t 2013            & Surv            & AvgSimK         & -1.63          \\\\\n",
       "\t 2013            & SurvNoRecentRec & AvgSimK         & -0.61          \\\\\n",
       "\t 2014            & no              & AvgSimK         & -2.28          \\\\\n",
       "\t 2014            & NoRecentRec     & AvgSimK         & -1.88          \\\\\n",
       "\t 2014            & Surv            & AvgSimK         & -2.40          \\\\\n",
       "\t 2014            & SurvNoRecentRec & AvgSimK         & -1.61          \\\\\n",
       "\t 2012            & no              & AvgSimTheta     &  1.20          \\\\\n",
       "\t 2012            & NoRecentRec     & AvgSimTheta     &  1.01          \\\\\n",
       "\t 2012            & Surv            & AvgSimTheta     &  1.38          \\\\\n",
       "\t 2012            & SurvNoRecentRec & AvgSimTheta     &  0.95          \\\\\n",
       "\t 2012-14         & no              & AvgSimTheta     &  1.31          \\\\\n",
       "\t 2012-14         & NoRecentRec     & AvgSimTheta     &  1.20          \\\\\n",
       "\t 2013            & no              & AvgSimTheta     &  0.87          \\\\\n",
       "\t 2013            & NoRecentRec     & AvgSimTheta     &  0.66          \\\\\n",
       "\t 2013            & Surv            & AvgSimTheta     &  0.97          \\\\\n",
       "\t 2013            & SurvNoRecentRec & AvgSimTheta     &  0.60          \\\\\n",
       "\t 2014            & no              & AvgSimTheta     &  2.93          \\\\\n",
       "\t 2014            & NoRecentRec     & AvgSimTheta     &  3.30          \\\\\n",
       "\t 2014            & Surv            & AvgSimTheta     &  3.06          \\\\\n",
       "\t 2014            & SurvNoRecentRec & AvgSimTheta     &  3.08          \\\\\n",
       "\t 2012            & no              & AvgSimMDD       & 54.32          \\\\\n",
       "\t 2012            & NoRecentRec     & AvgSimMDD       & 40.07          \\\\\n",
       "\t ... & ... & ... & ...\\\\\n",
       "\t 2014            & Surv            & CVSimKAmong     & -0.27          \\\\\n",
       "\t 2014            & SurvNoRecentRec & CVSimKAmong     & -0.45          \\\\\n",
       "\t 2012            & no              & CVSimThetaAmong &  0.58          \\\\\n",
       "\t 2012            & NoRecentRec     & CVSimThetaAmong &  0.77          \\\\\n",
       "\t 2012            & Surv            & CVSimThetaAmong &  0.61          \\\\\n",
       "\t 2012            & SurvNoRecentRec & CVSimThetaAmong &  0.87          \\\\\n",
       "\t 2012-14         & no              & CVSimThetaAmong &  0.58          \\\\\n",
       "\t 2012-14         & NoRecentRec     & CVSimThetaAmong &  0.77          \\\\\n",
       "\t 2013            & no              & CVSimThetaAmong &  0.58          \\\\\n",
       "\t 2013            & NoRecentRec     & CVSimThetaAmong &  0.77          \\\\\n",
       "\t 2013            & Surv            & CVSimThetaAmong &  0.61          \\\\\n",
       "\t 2013            & SurvNoRecentRec & CVSimThetaAmong &  0.87          \\\\\n",
       "\t 2014            & no              & CVSimThetaAmong &  0.58          \\\\\n",
       "\t 2014            & NoRecentRec     & CVSimThetaAmong &  0.77          \\\\\n",
       "\t 2014            & Surv            & CVSimThetaAmong &  0.61          \\\\\n",
       "\t 2014            & SurvNoRecentRec & CVSimThetaAmong &  0.87          \\\\\n",
       "\t 2012            & no              & CVSimMedAmong   &  0.38          \\\\\n",
       "\t 2012            & NoRecentRec     & CVSimMedAmong   &  0.56          \\\\\n",
       "\t 2012            & Surv            & CVSimMedAmong   &  0.41          \\\\\n",
       "\t 2012            & SurvNoRecentRec & CVSimMedAmong   &  0.62          \\\\\n",
       "\t 2012-14         & no              & CVSimMedAmong   &  0.38          \\\\\n",
       "\t 2012-14         & NoRecentRec     & CVSimMedAmong   &  0.56          \\\\\n",
       "\t 2013            & no              & CVSimMedAmong   &  0.38          \\\\\n",
       "\t 2013            & NoRecentRec     & CVSimMedAmong   &  0.56          \\\\\n",
       "\t 2013            & Surv            & CVSimMedAmong   &  0.41          \\\\\n",
       "\t 2013            & SurvNoRecentRec & CVSimMedAmong   &  0.62          \\\\\n",
       "\t 2014            & no              & CVSimMedAmong   &  0.38          \\\\\n",
       "\t 2014            & NoRecentRec     & CVSimMedAmong   &  0.56          \\\\\n",
       "\t 2014            & Surv            & CVSimMedAmong   &  0.41          \\\\\n",
       "\t 2014            & SurvNoRecentRec & CVSimMedAmong   &  0.62          \\\\\n",
       "\\end{tabular}\n"
      ],
      "text/markdown": [
       "\n",
       "| Year | Adj | Stat | value |\n",
       "|---|---|---|---|\n",
       "| 2012            | no              | AvgSimK         | -1.38           |\n",
       "| 2012            | NoRecentRec     | AvgSimK         | -1.29           |\n",
       "| 2012            | Surv            | AvgSimK         | -1.47           |\n",
       "| 2012            | SurvNoRecentRec | AvgSimK         | -1.11           |\n",
       "| 2012-14         | no              | AvgSimK         | -2.14           |\n",
       "| 2012-14         | NoRecentRec     | AvgSimK         | -1.69           |\n",
       "| 2013            | no              | AvgSimK         | -1.39           |\n",
       "| 2013            | NoRecentRec     | AvgSimK         | -0.83           |\n",
       "| 2013            | Surv            | AvgSimK         | -1.63           |\n",
       "| 2013            | SurvNoRecentRec | AvgSimK         | -0.61           |\n",
       "| 2014            | no              | AvgSimK         | -2.28           |\n",
       "| 2014            | NoRecentRec     | AvgSimK         | -1.88           |\n",
       "| 2014            | Surv            | AvgSimK         | -2.40           |\n",
       "| 2014            | SurvNoRecentRec | AvgSimK         | -1.61           |\n",
       "| 2012            | no              | AvgSimTheta     |  1.20           |\n",
       "| 2012            | NoRecentRec     | AvgSimTheta     |  1.01           |\n",
       "| 2012            | Surv            | AvgSimTheta     |  1.38           |\n",
       "| 2012            | SurvNoRecentRec | AvgSimTheta     |  0.95           |\n",
       "| 2012-14         | no              | AvgSimTheta     |  1.31           |\n",
       "| 2012-14         | NoRecentRec     | AvgSimTheta     |  1.20           |\n",
       "| 2013            | no              | AvgSimTheta     |  0.87           |\n",
       "| 2013            | NoRecentRec     | AvgSimTheta     |  0.66           |\n",
       "| 2013            | Surv            | AvgSimTheta     |  0.97           |\n",
       "| 2013            | SurvNoRecentRec | AvgSimTheta     |  0.60           |\n",
       "| 2014            | no              | AvgSimTheta     |  2.93           |\n",
       "| 2014            | NoRecentRec     | AvgSimTheta     |  3.30           |\n",
       "| 2014            | Surv            | AvgSimTheta     |  3.06           |\n",
       "| 2014            | SurvNoRecentRec | AvgSimTheta     |  3.08           |\n",
       "| 2012            | no              | AvgSimMDD       | 54.32           |\n",
       "| 2012            | NoRecentRec     | AvgSimMDD       | 40.07           |\n",
       "| ... | ... | ... | ... |\n",
       "| 2014            | Surv            | CVSimKAmong     | -0.27           |\n",
       "| 2014            | SurvNoRecentRec | CVSimKAmong     | -0.45           |\n",
       "| 2012            | no              | CVSimThetaAmong |  0.58           |\n",
       "| 2012            | NoRecentRec     | CVSimThetaAmong |  0.77           |\n",
       "| 2012            | Surv            | CVSimThetaAmong |  0.61           |\n",
       "| 2012            | SurvNoRecentRec | CVSimThetaAmong |  0.87           |\n",
       "| 2012-14         | no              | CVSimThetaAmong |  0.58           |\n",
       "| 2012-14         | NoRecentRec     | CVSimThetaAmong |  0.77           |\n",
       "| 2013            | no              | CVSimThetaAmong |  0.58           |\n",
       "| 2013            | NoRecentRec     | CVSimThetaAmong |  0.77           |\n",
       "| 2013            | Surv            | CVSimThetaAmong |  0.61           |\n",
       "| 2013            | SurvNoRecentRec | CVSimThetaAmong |  0.87           |\n",
       "| 2014            | no              | CVSimThetaAmong |  0.58           |\n",
       "| 2014            | NoRecentRec     | CVSimThetaAmong |  0.77           |\n",
       "| 2014            | Surv            | CVSimThetaAmong |  0.61           |\n",
       "| 2014            | SurvNoRecentRec | CVSimThetaAmong |  0.87           |\n",
       "| 2012            | no              | CVSimMedAmong   |  0.38           |\n",
       "| 2012            | NoRecentRec     | CVSimMedAmong   |  0.56           |\n",
       "| 2012            | Surv            | CVSimMedAmong   |  0.41           |\n",
       "| 2012            | SurvNoRecentRec | CVSimMedAmong   |  0.62           |\n",
       "| 2012-14         | no              | CVSimMedAmong   |  0.38           |\n",
       "| 2012-14         | NoRecentRec     | CVSimMedAmong   |  0.56           |\n",
       "| 2013            | no              | CVSimMedAmong   |  0.38           |\n",
       "| 2013            | NoRecentRec     | CVSimMedAmong   |  0.56           |\n",
       "| 2013            | Surv            | CVSimMedAmong   |  0.41           |\n",
       "| 2013            | SurvNoRecentRec | CVSimMedAmong   |  0.62           |\n",
       "| 2014            | no              | CVSimMedAmong   |  0.38           |\n",
       "| 2014            | NoRecentRec     | CVSimMedAmong   |  0.56           |\n",
       "| 2014            | Surv            | CVSimMedAmong   |  0.41           |\n",
       "| 2014            | SurvNoRecentRec | CVSimMedAmong   |  0.62           |\n",
       "\n"
      ],
      "text/plain": [
       "    Year    Adj             Stat            value\n",
       "1   2012    no              AvgSimK         -1.38\n",
       "2   2012    NoRecentRec     AvgSimK         -1.29\n",
       "3   2012    Surv            AvgSimK         -1.47\n",
       "4   2012    SurvNoRecentRec AvgSimK         -1.11\n",
       "5   2012-14 no              AvgSimK         -2.14\n",
       "6   2012-14 NoRecentRec     AvgSimK         -1.69\n",
       "7   2013    no              AvgSimK         -1.39\n",
       "8   2013    NoRecentRec     AvgSimK         -0.83\n",
       "9   2013    Surv            AvgSimK         -1.63\n",
       "10  2013    SurvNoRecentRec AvgSimK         -0.61\n",
       "11  2014    no              AvgSimK         -2.28\n",
       "12  2014    NoRecentRec     AvgSimK         -1.88\n",
       "13  2014    Surv            AvgSimK         -2.40\n",
       "14  2014    SurvNoRecentRec AvgSimK         -1.61\n",
       "15  2012    no              AvgSimTheta      1.20\n",
       "16  2012    NoRecentRec     AvgSimTheta      1.01\n",
       "17  2012    Surv            AvgSimTheta      1.38\n",
       "18  2012    SurvNoRecentRec AvgSimTheta      0.95\n",
       "19  2012-14 no              AvgSimTheta      1.31\n",
       "20  2012-14 NoRecentRec     AvgSimTheta      1.20\n",
       "21  2013    no              AvgSimTheta      0.87\n",
       "22  2013    NoRecentRec     AvgSimTheta      0.66\n",
       "23  2013    Surv            AvgSimTheta      0.97\n",
       "24  2013    SurvNoRecentRec AvgSimTheta      0.60\n",
       "25  2014    no              AvgSimTheta      2.93\n",
       "26  2014    NoRecentRec     AvgSimTheta      3.30\n",
       "27  2014    Surv            AvgSimTheta      3.06\n",
       "28  2014    SurvNoRecentRec AvgSimTheta      3.08\n",
       "29  2012    no              AvgSimMDD       54.32\n",
       "30  2012    NoRecentRec     AvgSimMDD       40.07\n",
       "... ...     ...             ...             ...  \n",
       "433 2014    Surv            CVSimKAmong     -0.27\n",
       "434 2014    SurvNoRecentRec CVSimKAmong     -0.45\n",
       "435 2012    no              CVSimThetaAmong  0.58\n",
       "436 2012    NoRecentRec     CVSimThetaAmong  0.77\n",
       "437 2012    Surv            CVSimThetaAmong  0.61\n",
       "438 2012    SurvNoRecentRec CVSimThetaAmong  0.87\n",
       "439 2012-14 no              CVSimThetaAmong  0.58\n",
       "440 2012-14 NoRecentRec     CVSimThetaAmong  0.77\n",
       "441 2013    no              CVSimThetaAmong  0.58\n",
       "442 2013    NoRecentRec     CVSimThetaAmong  0.77\n",
       "443 2013    Surv            CVSimThetaAmong  0.61\n",
       "444 2013    SurvNoRecentRec CVSimThetaAmong  0.87\n",
       "445 2014    no              CVSimThetaAmong  0.58\n",
       "446 2014    NoRecentRec     CVSimThetaAmong  0.77\n",
       "447 2014    Surv            CVSimThetaAmong  0.61\n",
       "448 2014    SurvNoRecentRec CVSimThetaAmong  0.87\n",
       "449 2012    no              CVSimMedAmong    0.38\n",
       "450 2012    NoRecentRec     CVSimMedAmong    0.56\n",
       "451 2012    Surv            CVSimMedAmong    0.41\n",
       "452 2012    SurvNoRecentRec CVSimMedAmong    0.62\n",
       "453 2012-14 no              CVSimMedAmong    0.38\n",
       "454 2012-14 NoRecentRec     CVSimMedAmong    0.56\n",
       "455 2013    no              CVSimMedAmong    0.38\n",
       "456 2013    NoRecentRec     CVSimMedAmong    0.56\n",
       "457 2013    Surv            CVSimMedAmong    0.41\n",
       "458 2013    SurvNoRecentRec CVSimMedAmong    0.62\n",
       "459 2014    no              CVSimMedAmong    0.38\n",
       "460 2014    NoRecentRec     CVSimMedAmong    0.56\n",
       "461 2014    Surv            CVSimMedAmong    0.41\n",
       "462 2014    SurvNoRecentRec CVSimMedAmong    0.62"
      ]
     },
     "metadata": {},
     "output_type": "display_data"
    }
   ],
   "source": [
    "gather(SimSummary, 3:35, key=Stat, value=value)"
   ]
  },
  {
   "cell_type": "code",
   "execution_count": 69,
   "metadata": {},
   "outputs": [
    {
     "data": {
      "text/html": [
       "<table>\n",
       "<thead><tr><th scope=col>Year</th><th scope=col>Adj</th><th scope=col>AvgSimK</th><th scope=col>AvgSimTheta</th><th scope=col>AvgSimMDD</th><th scope=col>AvgSimMed</th><th scope=col>AvgSimDist90</th><th scope=col>SDSimK</th><th scope=col>SDSimTheta</th><th scope=col>SDSimMDD</th><th scope=col>...</th><th scope=col>MedSimMed</th><th scope=col>MedSimDist90</th><th scope=col>CVSimMDDWithin</th><th scope=col>CVSimKWithin</th><th scope=col>CVSimThetaWithin</th><th scope=col>CVSimMedWithin</th><th scope=col>CVSimMDDAmong</th><th scope=col>CVSimKAmong</th><th scope=col>CVSimThetaAmong</th><th scope=col>CVSimMedAmong</th></tr></thead>\n",
       "<tbody>\n",
       "\t<tr><td>2012           </td><td>no             </td><td>-1.38          </td><td>1.20           </td><td>54.32          </td><td> 9.88          </td><td>103.09         </td><td>1.83           </td><td>0.99           </td><td>343.03         </td><td>...            </td><td>6.05           </td><td>20.07          </td><td>6.31           </td><td>-1.32          </td><td>0.83           </td><td>2.66           </td><td>0.81           </td><td>-0.26          </td><td>0.58           </td><td>0.38           </td></tr>\n",
       "\t<tr><td>2012           </td><td>NoRecentRec    </td><td>-1.29          </td><td>1.01           </td><td>40.07          </td><td> 8.44          </td><td> 77.89         </td><td>1.66           </td><td>0.76           </td><td>268.28         </td><td>...            </td><td>5.74           </td><td>20.79          </td><td>6.70           </td><td>-1.29          </td><td>0.75           </td><td>2.40           </td><td>0.96           </td><td>-0.33          </td><td>0.77           </td><td>0.56           </td></tr>\n",
       "\t<tr><td>2012           </td><td>Surv           </td><td>-1.47          </td><td>1.38           </td><td>83.09          </td><td>12.24          </td><td>152.65         </td><td>1.94           </td><td>1.27           </td><td>471.55         </td><td>...            </td><td>6.33           </td><td>19.90          </td><td>5.67           </td><td>-1.32          </td><td>0.92           </td><td>2.94           </td><td>1.13           </td><td>-0.27          </td><td>0.61           </td><td>0.41           </td></tr>\n",
       "\t<tr><td>2012           </td><td>SurvNoRecentRec</td><td>-1.11          </td><td>0.95           </td><td>56.54          </td><td> 9.67          </td><td>107.20         </td><td>1.86           </td><td>0.65           </td><td>328.07         </td><td>...            </td><td>5.74           </td><td>21.17          </td><td>5.80           </td><td>-1.67          </td><td>0.68           </td><td>2.55           </td><td>0.79           </td><td>-0.45          </td><td>0.87           </td><td>0.62           </td></tr>\n",
       "\t<tr><td>2012-14        </td><td>no             </td><td>-2.14          </td><td>1.31           </td><td>10.06          </td><td> 6.90          </td><td> 22.89         </td><td>0.78           </td><td>1.10           </td><td>  2.24         </td><td>...            </td><td>6.72           </td><td>21.13          </td><td>0.22           </td><td>-0.37          </td><td>0.84           </td><td>0.19           </td><td>0.81           </td><td>-0.26          </td><td>0.58           </td><td>0.38           </td></tr>\n",
       "\t<tr><td>2012-14        </td><td>NoRecentRec    </td><td>-1.69          </td><td>1.20           </td><td>11.58          </td><td> 6.84          </td><td> 27.35         </td><td>1.00           </td><td>1.54           </td><td>  5.54         </td><td>...            </td><td>6.34           </td><td>23.46          </td><td>0.48           </td><td>-0.59          </td><td>1.29           </td><td>0.26           </td><td>0.96           </td><td>-0.33          </td><td>0.77           </td><td>0.56           </td></tr>\n",
       "\t<tr><td>2013           </td><td>no             </td><td>-1.39          </td><td>0.87           </td><td> 7.88          </td><td> 4.77          </td><td> 18.71         </td><td>0.90           </td><td>0.50           </td><td>  1.83         </td><td>...            </td><td>4.56           </td><td>17.70          </td><td>0.23           </td><td>-0.65          </td><td>0.58           </td><td>0.21           </td><td>0.81           </td><td>-0.26          </td><td>0.58           </td><td>0.38           </td></tr>\n",
       "\t<tr><td>2013           </td><td>NoRecentRec    </td><td>-0.83          </td><td>0.66           </td><td> 8.18          </td><td> 4.27          </td><td> 20.05         </td><td>0.90           </td><td>0.39           </td><td>  3.70         </td><td>...            </td><td>4.12           </td><td>18.59          </td><td>0.45           </td><td>-1.09          </td><td>0.58           </td><td>0.21           </td><td>0.96           </td><td>-0.33          </td><td>0.77           </td><td>0.56           </td></tr>\n",
       "\t<tr><td>2013           </td><td>Surv           </td><td>-1.63          </td><td>0.97           </td><td> 7.79          </td><td> 5.00          </td><td> 18.21         </td><td>0.85           </td><td>0.47           </td><td>  2.01         </td><td>...            </td><td>4.90           </td><td>17.37          </td><td>0.26           </td><td>-0.52          </td><td>0.49           </td><td>0.20           </td><td>1.13           </td><td>-0.27          </td><td>0.61           </td><td>0.41           </td></tr>\n",
       "\t<tr><td>2013           </td><td>SurvNoRecentRec</td><td>-0.61          </td><td>0.60           </td><td> 8.36          </td><td> 4.14          </td><td> 20.69         </td><td>0.88           </td><td>0.37           </td><td>  2.98         </td><td>...            </td><td>4.02           </td><td>19.23          </td><td>0.36           </td><td>-1.44          </td><td>0.61           </td><td>0.18           </td><td>0.79           </td><td>-0.45          </td><td>0.87           </td><td>0.62           </td></tr>\n",
       "\t<tr><td>2014           </td><td>no             </td><td>-2.28          </td><td>2.93           </td><td>42.12          </td><td>11.87          </td><td> 82.06         </td><td>1.42           </td><td>2.98           </td><td>408.28         </td><td>...            </td><td>8.38           </td><td>23.49          </td><td>9.69           </td><td>-0.62          </td><td>1.02           </td><td>2.67           </td><td>0.81           </td><td>-0.26          </td><td>0.58           </td><td>0.38           </td></tr>\n",
       "\t<tr><td>2014           </td><td>NoRecentRec    </td><td>-1.88          </td><td>3.30           </td><td>81.42          </td><td>15.83          </td><td>156.09         </td><td>1.85           </td><td>3.41           </td><td>556.57         </td><td>...            </td><td>9.00           </td><td>24.70          </td><td>6.84           </td><td>-0.98          </td><td>1.03           </td><td>2.78           </td><td>0.96           </td><td>-0.33          </td><td>0.77           </td><td>0.56           </td></tr>\n",
       "\t<tr><td>2014           </td><td>Surv           </td><td>-2.40          </td><td>3.06           </td><td>17.77          </td><td>10.03          </td><td> 38.50         </td><td>1.24           </td><td>2.97           </td><td> 53.99         </td><td>...            </td><td>8.49           </td><td>23.09          </td><td>3.04           </td><td>-0.52          </td><td>0.97           </td><td>0.70           </td><td>1.13           </td><td>-0.27          </td><td>0.61           </td><td>0.41           </td></tr>\n",
       "\t<tr><td>2014           </td><td>SurvNoRecentRec</td><td>-1.61          </td><td>3.08           </td><td>89.32          </td><td>16.66          </td><td>173.13         </td><td>1.95           </td><td>3.42           </td><td>583.31         </td><td>...            </td><td>9.77           </td><td>25.06          </td><td>6.53           </td><td>-1.21          </td><td>1.11           </td><td>2.81           </td><td>0.79           </td><td>-0.45          </td><td>0.87           </td><td>0.62           </td></tr>\n",
       "</tbody>\n",
       "</table>\n"
      ],
      "text/latex": [
       "\\begin{tabular}{r|lllllllllllllllllllllllllllllllllll}\n",
       " Year & Adj & AvgSimK & AvgSimTheta & AvgSimMDD & AvgSimMed & AvgSimDist90 & SDSimK & SDSimTheta & SDSimMDD & ... & MedSimMed & MedSimDist90 & CVSimMDDWithin & CVSimKWithin & CVSimThetaWithin & CVSimMedWithin & CVSimMDDAmong & CVSimKAmong & CVSimThetaAmong & CVSimMedAmong\\\\\n",
       "\\hline\n",
       "\t 2012            & no              & -1.38           & 1.20            & 54.32           &  9.88           & 103.09          & 1.83            & 0.99            & 343.03          & ...             & 6.05            & 20.07           & 6.31            & -1.32           & 0.83            & 2.66            & 0.81            & -0.26           & 0.58            & 0.38           \\\\\n",
       "\t 2012            & NoRecentRec     & -1.29           & 1.01            & 40.07           &  8.44           &  77.89          & 1.66            & 0.76            & 268.28          & ...             & 5.74            & 20.79           & 6.70            & -1.29           & 0.75            & 2.40            & 0.96            & -0.33           & 0.77            & 0.56           \\\\\n",
       "\t 2012            & Surv            & -1.47           & 1.38            & 83.09           & 12.24           & 152.65          & 1.94            & 1.27            & 471.55          & ...             & 6.33            & 19.90           & 5.67            & -1.32           & 0.92            & 2.94            & 1.13            & -0.27           & 0.61            & 0.41           \\\\\n",
       "\t 2012            & SurvNoRecentRec & -1.11           & 0.95            & 56.54           &  9.67           & 107.20          & 1.86            & 0.65            & 328.07          & ...             & 5.74            & 21.17           & 5.80            & -1.67           & 0.68            & 2.55            & 0.79            & -0.45           & 0.87            & 0.62           \\\\\n",
       "\t 2012-14         & no              & -2.14           & 1.31            & 10.06           &  6.90           &  22.89          & 0.78            & 1.10            &   2.24          & ...             & 6.72            & 21.13           & 0.22            & -0.37           & 0.84            & 0.19            & 0.81            & -0.26           & 0.58            & 0.38           \\\\\n",
       "\t 2012-14         & NoRecentRec     & -1.69           & 1.20            & 11.58           &  6.84           &  27.35          & 1.00            & 1.54            &   5.54          & ...             & 6.34            & 23.46           & 0.48            & -0.59           & 1.29            & 0.26            & 0.96            & -0.33           & 0.77            & 0.56           \\\\\n",
       "\t 2013            & no              & -1.39           & 0.87            &  7.88           &  4.77           &  18.71          & 0.90            & 0.50            &   1.83          & ...             & 4.56            & 17.70           & 0.23            & -0.65           & 0.58            & 0.21            & 0.81            & -0.26           & 0.58            & 0.38           \\\\\n",
       "\t 2013            & NoRecentRec     & -0.83           & 0.66            &  8.18           &  4.27           &  20.05          & 0.90            & 0.39            &   3.70          & ...             & 4.12            & 18.59           & 0.45            & -1.09           & 0.58            & 0.21            & 0.96            & -0.33           & 0.77            & 0.56           \\\\\n",
       "\t 2013            & Surv            & -1.63           & 0.97            &  7.79           &  5.00           &  18.21          & 0.85            & 0.47            &   2.01          & ...             & 4.90            & 17.37           & 0.26            & -0.52           & 0.49            & 0.20            & 1.13            & -0.27           & 0.61            & 0.41           \\\\\n",
       "\t 2013            & SurvNoRecentRec & -0.61           & 0.60            &  8.36           &  4.14           &  20.69          & 0.88            & 0.37            &   2.98          & ...             & 4.02            & 19.23           & 0.36            & -1.44           & 0.61            & 0.18            & 0.79            & -0.45           & 0.87            & 0.62           \\\\\n",
       "\t 2014            & no              & -2.28           & 2.93            & 42.12           & 11.87           &  82.06          & 1.42            & 2.98            & 408.28          & ...             & 8.38            & 23.49           & 9.69            & -0.62           & 1.02            & 2.67            & 0.81            & -0.26           & 0.58            & 0.38           \\\\\n",
       "\t 2014            & NoRecentRec     & -1.88           & 3.30            & 81.42           & 15.83           & 156.09          & 1.85            & 3.41            & 556.57          & ...             & 9.00            & 24.70           & 6.84            & -0.98           & 1.03            & 2.78            & 0.96            & -0.33           & 0.77            & 0.56           \\\\\n",
       "\t 2014            & Surv            & -2.40           & 3.06            & 17.77           & 10.03           &  38.50          & 1.24            & 2.97            &  53.99          & ...             & 8.49            & 23.09           & 3.04            & -0.52           & 0.97            & 0.70            & 1.13            & -0.27           & 0.61            & 0.41           \\\\\n",
       "\t 2014            & SurvNoRecentRec & -1.61           & 3.08            & 89.32           & 16.66           & 173.13          & 1.95            & 3.42            & 583.31          & ...             & 9.77            & 25.06           & 6.53            & -1.21           & 1.11            & 2.81            & 0.79            & -0.45           & 0.87            & 0.62           \\\\\n",
       "\\end{tabular}\n"
      ],
      "text/markdown": [
       "\n",
       "| Year | Adj | AvgSimK | AvgSimTheta | AvgSimMDD | AvgSimMed | AvgSimDist90 | SDSimK | SDSimTheta | SDSimMDD | ... | MedSimMed | MedSimDist90 | CVSimMDDWithin | CVSimKWithin | CVSimThetaWithin | CVSimMedWithin | CVSimMDDAmong | CVSimKAmong | CVSimThetaAmong | CVSimMedAmong |\n",
       "|---|---|---|---|---|---|---|---|---|---|---|---|---|---|---|---|---|---|---|---|---|\n",
       "| 2012            | no              | -1.38           | 1.20            | 54.32           |  9.88           | 103.09          | 1.83            | 0.99            | 343.03          | ...             | 6.05            | 20.07           | 6.31            | -1.32           | 0.83            | 2.66            | 0.81            | -0.26           | 0.58            | 0.38            |\n",
       "| 2012            | NoRecentRec     | -1.29           | 1.01            | 40.07           |  8.44           |  77.89          | 1.66            | 0.76            | 268.28          | ...             | 5.74            | 20.79           | 6.70            | -1.29           | 0.75            | 2.40            | 0.96            | -0.33           | 0.77            | 0.56            |\n",
       "| 2012            | Surv            | -1.47           | 1.38            | 83.09           | 12.24           | 152.65          | 1.94            | 1.27            | 471.55          | ...             | 6.33            | 19.90           | 5.67            | -1.32           | 0.92            | 2.94            | 1.13            | -0.27           | 0.61            | 0.41            |\n",
       "| 2012            | SurvNoRecentRec | -1.11           | 0.95            | 56.54           |  9.67           | 107.20          | 1.86            | 0.65            | 328.07          | ...             | 5.74            | 21.17           | 5.80            | -1.67           | 0.68            | 2.55            | 0.79            | -0.45           | 0.87            | 0.62            |\n",
       "| 2012-14         | no              | -2.14           | 1.31            | 10.06           |  6.90           |  22.89          | 0.78            | 1.10            |   2.24          | ...             | 6.72            | 21.13           | 0.22            | -0.37           | 0.84            | 0.19            | 0.81            | -0.26           | 0.58            | 0.38            |\n",
       "| 2012-14         | NoRecentRec     | -1.69           | 1.20            | 11.58           |  6.84           |  27.35          | 1.00            | 1.54            |   5.54          | ...             | 6.34            | 23.46           | 0.48            | -0.59           | 1.29            | 0.26            | 0.96            | -0.33           | 0.77            | 0.56            |\n",
       "| 2013            | no              | -1.39           | 0.87            |  7.88           |  4.77           |  18.71          | 0.90            | 0.50            |   1.83          | ...             | 4.56            | 17.70           | 0.23            | -0.65           | 0.58            | 0.21            | 0.81            | -0.26           | 0.58            | 0.38            |\n",
       "| 2013            | NoRecentRec     | -0.83           | 0.66            |  8.18           |  4.27           |  20.05          | 0.90            | 0.39            |   3.70          | ...             | 4.12            | 18.59           | 0.45            | -1.09           | 0.58            | 0.21            | 0.96            | -0.33           | 0.77            | 0.56            |\n",
       "| 2013            | Surv            | -1.63           | 0.97            |  7.79           |  5.00           |  18.21          | 0.85            | 0.47            |   2.01          | ...             | 4.90            | 17.37           | 0.26            | -0.52           | 0.49            | 0.20            | 1.13            | -0.27           | 0.61            | 0.41            |\n",
       "| 2013            | SurvNoRecentRec | -0.61           | 0.60            |  8.36           |  4.14           |  20.69          | 0.88            | 0.37            |   2.98          | ...             | 4.02            | 19.23           | 0.36            | -1.44           | 0.61            | 0.18            | 0.79            | -0.45           | 0.87            | 0.62            |\n",
       "| 2014            | no              | -2.28           | 2.93            | 42.12           | 11.87           |  82.06          | 1.42            | 2.98            | 408.28          | ...             | 8.38            | 23.49           | 9.69            | -0.62           | 1.02            | 2.67            | 0.81            | -0.26           | 0.58            | 0.38            |\n",
       "| 2014            | NoRecentRec     | -1.88           | 3.30            | 81.42           | 15.83           | 156.09          | 1.85            | 3.41            | 556.57          | ...             | 9.00            | 24.70           | 6.84            | -0.98           | 1.03            | 2.78            | 0.96            | -0.33           | 0.77            | 0.56            |\n",
       "| 2014            | Surv            | -2.40           | 3.06            | 17.77           | 10.03           |  38.50          | 1.24            | 2.97            |  53.99          | ...             | 8.49            | 23.09           | 3.04            | -0.52           | 0.97            | 0.70            | 1.13            | -0.27           | 0.61            | 0.41            |\n",
       "| 2014            | SurvNoRecentRec | -1.61           | 3.08            | 89.32           | 16.66           | 173.13          | 1.95            | 3.42            | 583.31          | ...             | 9.77            | 25.06           | 6.53            | -1.21           | 1.11            | 2.81            | 0.79            | -0.45           | 0.87            | 0.62            |\n",
       "\n"
      ],
      "text/plain": [
       "   Year    Adj             AvgSimK AvgSimTheta AvgSimMDD AvgSimMed AvgSimDist90\n",
       "1  2012    no              -1.38   1.20        54.32      9.88     103.09      \n",
       "2  2012    NoRecentRec     -1.29   1.01        40.07      8.44      77.89      \n",
       "3  2012    Surv            -1.47   1.38        83.09     12.24     152.65      \n",
       "4  2012    SurvNoRecentRec -1.11   0.95        56.54      9.67     107.20      \n",
       "5  2012-14 no              -2.14   1.31        10.06      6.90      22.89      \n",
       "6  2012-14 NoRecentRec     -1.69   1.20        11.58      6.84      27.35      \n",
       "7  2013    no              -1.39   0.87         7.88      4.77      18.71      \n",
       "8  2013    NoRecentRec     -0.83   0.66         8.18      4.27      20.05      \n",
       "9  2013    Surv            -1.63   0.97         7.79      5.00      18.21      \n",
       "10 2013    SurvNoRecentRec -0.61   0.60         8.36      4.14      20.69      \n",
       "11 2014    no              -2.28   2.93        42.12     11.87      82.06      \n",
       "12 2014    NoRecentRec     -1.88   3.30        81.42     15.83     156.09      \n",
       "13 2014    Surv            -2.40   3.06        17.77     10.03      38.50      \n",
       "14 2014    SurvNoRecentRec -1.61   3.08        89.32     16.66     173.13      \n",
       "   SDSimK SDSimTheta SDSimMDD ... MedSimMed MedSimDist90 CVSimMDDWithin\n",
       "1  1.83   0.99       343.03   ... 6.05      20.07        6.31          \n",
       "2  1.66   0.76       268.28   ... 5.74      20.79        6.70          \n",
       "3  1.94   1.27       471.55   ... 6.33      19.90        5.67          \n",
       "4  1.86   0.65       328.07   ... 5.74      21.17        5.80          \n",
       "5  0.78   1.10         2.24   ... 6.72      21.13        0.22          \n",
       "6  1.00   1.54         5.54   ... 6.34      23.46        0.48          \n",
       "7  0.90   0.50         1.83   ... 4.56      17.70        0.23          \n",
       "8  0.90   0.39         3.70   ... 4.12      18.59        0.45          \n",
       "9  0.85   0.47         2.01   ... 4.90      17.37        0.26          \n",
       "10 0.88   0.37         2.98   ... 4.02      19.23        0.36          \n",
       "11 1.42   2.98       408.28   ... 8.38      23.49        9.69          \n",
       "12 1.85   3.41       556.57   ... 9.00      24.70        6.84          \n",
       "13 1.24   2.97        53.99   ... 8.49      23.09        3.04          \n",
       "14 1.95   3.42       583.31   ... 9.77      25.06        6.53          \n",
       "   CVSimKWithin CVSimThetaWithin CVSimMedWithin CVSimMDDAmong CVSimKAmong\n",
       "1  -1.32        0.83             2.66           0.81          -0.26      \n",
       "2  -1.29        0.75             2.40           0.96          -0.33      \n",
       "3  -1.32        0.92             2.94           1.13          -0.27      \n",
       "4  -1.67        0.68             2.55           0.79          -0.45      \n",
       "5  -0.37        0.84             0.19           0.81          -0.26      \n",
       "6  -0.59        1.29             0.26           0.96          -0.33      \n",
       "7  -0.65        0.58             0.21           0.81          -0.26      \n",
       "8  -1.09        0.58             0.21           0.96          -0.33      \n",
       "9  -0.52        0.49             0.20           1.13          -0.27      \n",
       "10 -1.44        0.61             0.18           0.79          -0.45      \n",
       "11 -0.62        1.02             2.67           0.81          -0.26      \n",
       "12 -0.98        1.03             2.78           0.96          -0.33      \n",
       "13 -0.52        0.97             0.70           1.13          -0.27      \n",
       "14 -1.21        1.11             2.81           0.79          -0.45      \n",
       "   CVSimThetaAmong CVSimMedAmong\n",
       "1  0.58            0.38         \n",
       "2  0.77            0.56         \n",
       "3  0.61            0.41         \n",
       "4  0.87            0.62         \n",
       "5  0.58            0.38         \n",
       "6  0.77            0.56         \n",
       "7  0.58            0.38         \n",
       "8  0.77            0.56         \n",
       "9  0.61            0.41         \n",
       "10 0.87            0.62         \n",
       "11 0.58            0.38         \n",
       "12 0.77            0.56         \n",
       "13 0.61            0.41         \n",
       "14 0.87            0.62         "
      ]
     },
     "metadata": {},
     "output_type": "display_data"
    }
   ],
   "source": [
    "SimSummary <- left_join(SimSummary2, SimCVWithin, by=c(\"Year\", \"Adj\")) %>%\n",
    "    group_by(Adj) %>% #calculate the CV between years within an adjustment case\n",
    "    mutate(CVSimMDDAmong=sd(AvgSimMDD)/mean(AvgSimMDD)) %>%\n",
    "    mutate(CVSimKAmong=sd(AvgSimK)/mean(AvgSimK)) %>%\n",
    "    mutate(CVSimThetaAmong=sd(AvgSimTheta)/mean(AvgSimTheta)) %>%\n",
    "    mutate(CVSimMedAmong=sd(AvgSimMed)/mean(AvgSimMed)) \n",
    "\n",
    "SimSummary[,3:35] <- round(SimSummary[,3:35], digits=2)\n",
    "SimSummary\n",
    "\n",
    "#write.csv(SimSummary, file=\"~/oceanography/script_output/KernelFits/SimulationKernelFitsSummary.csv\", row.names=F)"
   ]
  },
  {
   "cell_type": "code",
   "execution_count": 84,
   "metadata": {},
   "outputs": [
    {
     "data": {
      "text/html": [
       "<table>\n",
       "<thead><tr><th scope=col>Year</th><th scope=col>Adj</th><th scope=col>MinSimMDD</th><th scope=col>AvgSimMDD</th><th scope=col>MaxSimMDD</th></tr></thead>\n",
       "<tbody>\n",
       "\t<tr><td>2012           </td><td>no             </td><td>7.72           </td><td>54.32          </td><td>3983.21        </td></tr>\n",
       "\t<tr><td>2012           </td><td>NoRecentRec    </td><td>7.72           </td><td>40.07          </td><td>4057.83        </td></tr>\n",
       "\t<tr><td>2012           </td><td>Surv           </td><td>7.73           </td><td>83.09          </td><td>4046.13        </td></tr>\n",
       "\t<tr><td>2012           </td><td>SurvNoRecentRec</td><td>7.73           </td><td>56.54          </td><td>3977.85        </td></tr>\n",
       "\t<tr><td>2012-14        </td><td>no             </td><td>7.88           </td><td>10.06          </td><td>  32.74        </td></tr>\n",
       "\t<tr><td>2012-14        </td><td>NoRecentRec    </td><td>8.10           </td><td>11.58          </td><td>  96.08        </td></tr>\n",
       "\t<tr><td>2013           </td><td>no             </td><td>5.88           </td><td> 7.88          </td><td>  39.04        </td></tr>\n",
       "\t<tr><td>2013           </td><td>NoRecentRec    </td><td>5.77           </td><td> 8.18          </td><td>  93.65        </td></tr>\n",
       "\t<tr><td>2013           </td><td>Surv           </td><td>5.90           </td><td> 7.79          </td><td>  58.74        </td></tr>\n",
       "\t<tr><td>2013           </td><td>SurvNoRecentRec</td><td>5.89           </td><td> 8.36          </td><td>  56.51        </td></tr>\n",
       "\t<tr><td>2014           </td><td>no             </td><td>7.93           </td><td>42.12          </td><td>8329.52        </td></tr>\n",
       "\t<tr><td>2014           </td><td>NoRecentRec    </td><td>8.64           </td><td>81.42          </td><td>8340.70        </td></tr>\n",
       "\t<tr><td>2014           </td><td>Surv           </td><td>7.90           </td><td>17.77          </td><td>1219.57        </td></tr>\n",
       "\t<tr><td>2014           </td><td>SurvNoRecentRec</td><td>8.32           </td><td>89.32          </td><td>8180.07        </td></tr>\n",
       "</tbody>\n",
       "</table>\n"
      ],
      "text/latex": [
       "\\begin{tabular}{r|lllll}\n",
       " Year & Adj & MinSimMDD & AvgSimMDD & MaxSimMDD\\\\\n",
       "\\hline\n",
       "\t 2012            & no              & 7.72            & 54.32           & 3983.21        \\\\\n",
       "\t 2012            & NoRecentRec     & 7.72            & 40.07           & 4057.83        \\\\\n",
       "\t 2012            & Surv            & 7.73            & 83.09           & 4046.13        \\\\\n",
       "\t 2012            & SurvNoRecentRec & 7.73            & 56.54           & 3977.85        \\\\\n",
       "\t 2012-14         & no              & 7.88            & 10.06           &   32.74        \\\\\n",
       "\t 2012-14         & NoRecentRec     & 8.10            & 11.58           &   96.08        \\\\\n",
       "\t 2013            & no              & 5.88            &  7.88           &   39.04        \\\\\n",
       "\t 2013            & NoRecentRec     & 5.77            &  8.18           &   93.65        \\\\\n",
       "\t 2013            & Surv            & 5.90            &  7.79           &   58.74        \\\\\n",
       "\t 2013            & SurvNoRecentRec & 5.89            &  8.36           &   56.51        \\\\\n",
       "\t 2014            & no              & 7.93            & 42.12           & 8329.52        \\\\\n",
       "\t 2014            & NoRecentRec     & 8.64            & 81.42           & 8340.70        \\\\\n",
       "\t 2014            & Surv            & 7.90            & 17.77           & 1219.57        \\\\\n",
       "\t 2014            & SurvNoRecentRec & 8.32            & 89.32           & 8180.07        \\\\\n",
       "\\end{tabular}\n"
      ],
      "text/markdown": [
       "\n",
       "| Year | Adj | MinSimMDD | AvgSimMDD | MaxSimMDD |\n",
       "|---|---|---|---|---|\n",
       "| 2012            | no              | 7.72            | 54.32           | 3983.21         |\n",
       "| 2012            | NoRecentRec     | 7.72            | 40.07           | 4057.83         |\n",
       "| 2012            | Surv            | 7.73            | 83.09           | 4046.13         |\n",
       "| 2012            | SurvNoRecentRec | 7.73            | 56.54           | 3977.85         |\n",
       "| 2012-14         | no              | 7.88            | 10.06           |   32.74         |\n",
       "| 2012-14         | NoRecentRec     | 8.10            | 11.58           |   96.08         |\n",
       "| 2013            | no              | 5.88            |  7.88           |   39.04         |\n",
       "| 2013            | NoRecentRec     | 5.77            |  8.18           |   93.65         |\n",
       "| 2013            | Surv            | 5.90            |  7.79           |   58.74         |\n",
       "| 2013            | SurvNoRecentRec | 5.89            |  8.36           |   56.51         |\n",
       "| 2014            | no              | 7.93            | 42.12           | 8329.52         |\n",
       "| 2014            | NoRecentRec     | 8.64            | 81.42           | 8340.70         |\n",
       "| 2014            | Surv            | 7.90            | 17.77           | 1219.57         |\n",
       "| 2014            | SurvNoRecentRec | 8.32            | 89.32           | 8180.07         |\n",
       "\n"
      ],
      "text/plain": [
       "   Year    Adj             MinSimMDD AvgSimMDD MaxSimMDD\n",
       "1  2012    no              7.72      54.32     3983.21  \n",
       "2  2012    NoRecentRec     7.72      40.07     4057.83  \n",
       "3  2012    Surv            7.73      83.09     4046.13  \n",
       "4  2012    SurvNoRecentRec 7.73      56.54     3977.85  \n",
       "5  2012-14 no              7.88      10.06       32.74  \n",
       "6  2012-14 NoRecentRec     8.10      11.58       96.08  \n",
       "7  2013    no              5.88       7.88       39.04  \n",
       "8  2013    NoRecentRec     5.77       8.18       93.65  \n",
       "9  2013    Surv            5.90       7.79       58.74  \n",
       "10 2013    SurvNoRecentRec 5.89       8.36       56.51  \n",
       "11 2014    no              7.93      42.12     8329.52  \n",
       "12 2014    NoRecentRec     8.64      81.42     8340.70  \n",
       "13 2014    Surv            7.90      17.77     1219.57  \n",
       "14 2014    SurvNoRecentRec 8.32      89.32     8180.07  "
      ]
     },
     "metadata": {},
     "output_type": "display_data"
    }
   ],
   "source": [
    "SimSummary %>%\n",
    "    select(Year, Adj, MinSimMDD, AvgSimMDD, MaxSimMDD)"
   ]
  },
  {
   "cell_type": "code",
   "execution_count": 62,
   "metadata": {},
   "outputs": [],
   "source": [
    "#read in the empirical data\n",
    "kernels <- read.csv(file=\"~/parentage/kernel_fitting/1340_loci/final_results/tables/kernel_fitting_summary.csv\", header=T, stringsAsFactors = F) %>%\n",
    "    select(Year, best_k, best_theta, MeanDispDist, MedianDispDist, Dist90Retained) %>%\n",
    "    rename(GenK=\"best_k\", GenTheta=\"best_theta\", GenMDD=\"MeanDispDist\", GenMed=\"MedianDispDist\", GenDist90=\"Dist90Retained\") %>%\n",
    "    mutate(GenMDD=round(GenMDD, digits=2))\n",
    "\n",
    "kernel2012_14 <- read.csv(file=\"~/oceanography/empirical_data/genetics/GenKernelsForROMSComp2012-14.csv\", header=T, stringsAsFactors = F) %>%\n",
    "    rename(Year=\"year\",GenK=\"k\", GenTheta=\"theta\", GenMDD=\"mdd\", GenMed=\"med\", GenDist90=\"dist90\") %>%\n",
    "    mutate(GenK=round(GenK, digits=2)) %>%\n",
    "    mutate(GenTheta=round(GenTheta, digits=2)) %>%\n",
    "    mutate(GenMDD=round(GenMDD, digits=2))\n",
    "\n",
    "kernels2 <- bind_rows(kernels, kernel2012_14)"
   ]
  },
  {
   "cell_type": "code",
   "execution_count": 78,
   "metadata": {},
   "outputs": [],
   "source": [
    "SimPlusGenFits <- left_join(SimSummary, kernels2, by=\"Year\")\n",
    "\n",
    "#write.csv(SimPlusGenFits, file=\"~/oceanography/script_output/KernelFits/SimPlusGenKernelFits.csv\", row.names=F)"
   ]
  },
  {
   "cell_type": "code",
   "execution_count": 77,
   "metadata": {},
   "outputs": [
    {
     "data": {
      "text/html": [
       "<table>\n",
       "<thead><tr><th scope=col>Year</th><th scope=col>Adj</th><th scope=col>AvgSimK</th><th scope=col>AvgSimTheta</th><th scope=col>AvgSimMDD</th><th scope=col>AvgSimMed</th><th scope=col>AvgSimDist90</th><th scope=col>SDSimK</th><th scope=col>SDSimTheta</th><th scope=col>SDSimMDD</th><th scope=col>...</th><th scope=col>CVSimMedWithin</th><th scope=col>CVSimMDDAmong</th><th scope=col>CVSimKAmong</th><th scope=col>CVSimThetaAmong</th><th scope=col>CVSimMedAmong</th><th scope=col>GenK</th><th scope=col>GenTheta</th><th scope=col>GenMDD</th><th scope=col>GenMed</th><th scope=col>GenDist90</th></tr></thead>\n",
       "<tbody>\n",
       "\t<tr><td>2012           </td><td>no             </td><td>-1.38          </td><td>1.20           </td><td>54.32          </td><td> 9.88          </td><td>103.09         </td><td>1.83           </td><td>0.99           </td><td>343.03         </td><td>...            </td><td>2.66           </td><td>0.81           </td><td>-0.26          </td><td>0.58           </td><td>0.38           </td><td>-2.36          </td><td>1.03           </td><td>10.17          </td><td> 7.13          </td><td> 23.29         </td></tr>\n",
       "\t<tr><td>2012           </td><td>NoRecentRec    </td><td>-1.29          </td><td>1.01           </td><td>40.07          </td><td> 8.44          </td><td> 77.89         </td><td>1.66           </td><td>0.76           </td><td>268.28         </td><td>...            </td><td>2.40           </td><td>0.96           </td><td>-0.33          </td><td>0.77           </td><td>0.56           </td><td>-2.36          </td><td>1.03           </td><td>10.17          </td><td> 7.13          </td><td> 23.29         </td></tr>\n",
       "\t<tr><td>2012           </td><td>Surv           </td><td>-1.47          </td><td>1.38           </td><td>83.09          </td><td>12.24          </td><td>152.65         </td><td>1.94           </td><td>1.27           </td><td>471.55         </td><td>...            </td><td>2.94           </td><td>1.13           </td><td>-0.27          </td><td>0.61           </td><td>0.41           </td><td>-2.36          </td><td>1.03           </td><td>10.17          </td><td> 7.13          </td><td> 23.29         </td></tr>\n",
       "\t<tr><td>2012           </td><td>SurvNoRecentRec</td><td>-1.11          </td><td>0.95           </td><td>56.54          </td><td> 9.67          </td><td>107.20         </td><td>1.86           </td><td>0.65           </td><td>328.07         </td><td>...            </td><td>2.55           </td><td>0.79           </td><td>-0.45          </td><td>0.87           </td><td>0.62           </td><td>-2.36          </td><td>1.03           </td><td>10.17          </td><td> 7.13          </td><td> 23.29         </td></tr>\n",
       "\t<tr><td>2012-14        </td><td>no             </td><td>-2.14          </td><td>1.31           </td><td>10.06          </td><td> 6.90          </td><td> 22.89         </td><td>0.78           </td><td>1.10           </td><td>  2.24         </td><td>...            </td><td>0.19           </td><td>0.81           </td><td>-0.26          </td><td>0.58           </td><td>0.38           </td><td> 1.68          </td><td>0.30           </td><td>27.77          </td><td> 7.71          </td><td> 68.69         </td></tr>\n",
       "\t<tr><td>2012-14        </td><td>NoRecentRec    </td><td>-1.69          </td><td>1.20           </td><td>11.58          </td><td> 6.84          </td><td> 27.35         </td><td>1.00           </td><td>1.54           </td><td>  5.54         </td><td>...            </td><td>0.26           </td><td>0.96           </td><td>-0.33          </td><td>0.77           </td><td>0.56           </td><td> 1.68          </td><td>0.30           </td><td>27.77          </td><td> 7.71          </td><td> 68.69         </td></tr>\n",
       "\t<tr><td>2013           </td><td>no             </td><td>-1.39          </td><td>0.87           </td><td> 7.88          </td><td> 4.77          </td><td> 18.71         </td><td>0.90           </td><td>0.50           </td><td>  1.83         </td><td>...            </td><td>0.21           </td><td>0.81           </td><td>-0.26          </td><td>0.58           </td><td>0.38           </td><td> 4.04          </td><td>0.22           </td><td>69.59          </td><td>12.20          </td><td>157.36         </td></tr>\n",
       "\t<tr><td>2013           </td><td>NoRecentRec    </td><td>-0.83          </td><td>0.66           </td><td> 8.18          </td><td> 4.27          </td><td> 20.05         </td><td>0.90           </td><td>0.39           </td><td>  3.70         </td><td>...            </td><td>0.21           </td><td>0.96           </td><td>-0.33          </td><td>0.77           </td><td>0.56           </td><td> 4.04          </td><td>0.22           </td><td>69.59          </td><td>12.20          </td><td>157.36         </td></tr>\n",
       "\t<tr><td>2013           </td><td>Surv           </td><td>-1.63          </td><td>0.97           </td><td> 7.79          </td><td> 5.00          </td><td> 18.21         </td><td>0.85           </td><td>0.47           </td><td>  2.01         </td><td>...            </td><td>0.20           </td><td>1.13           </td><td>-0.27          </td><td>0.61           </td><td>0.41           </td><td> 4.04          </td><td>0.22           </td><td>69.59          </td><td>12.20          </td><td>157.36         </td></tr>\n",
       "\t<tr><td>2013           </td><td>SurvNoRecentRec</td><td>-0.61          </td><td>0.60           </td><td> 8.36          </td><td> 4.14          </td><td> 20.69         </td><td>0.88           </td><td>0.37           </td><td>  2.98         </td><td>...            </td><td>0.18           </td><td>0.79           </td><td>-0.45          </td><td>0.87           </td><td>0.62           </td><td> 4.04          </td><td>0.22           </td><td>69.59          </td><td>12.20          </td><td>157.36         </td></tr>\n",
       "\t<tr><td>2014           </td><td>no             </td><td>-2.28          </td><td>2.93           </td><td>42.12          </td><td>11.87          </td><td> 82.06         </td><td>1.42           </td><td>2.98           </td><td>408.28         </td><td>...            </td><td>2.67           </td><td>0.81           </td><td>-0.26          </td><td>0.58           </td><td>0.38           </td><td> 0.49          </td><td>0.38           </td><td>15.04          </td><td> 5.53          </td><td> 38.13         </td></tr>\n",
       "\t<tr><td>2014           </td><td>NoRecentRec    </td><td>-1.88          </td><td>3.30           </td><td>81.42          </td><td>15.83          </td><td>156.09         </td><td>1.85           </td><td>3.41           </td><td>556.57         </td><td>...            </td><td>2.78           </td><td>0.96           </td><td>-0.33          </td><td>0.77           </td><td>0.56           </td><td> 0.49          </td><td>0.38           </td><td>15.04          </td><td> 5.53          </td><td> 38.13         </td></tr>\n",
       "\t<tr><td>2014           </td><td>Surv           </td><td>-2.40          </td><td>3.06           </td><td>17.77          </td><td>10.03          </td><td> 38.50         </td><td>1.24           </td><td>2.97           </td><td> 53.99         </td><td>...            </td><td>0.70           </td><td>1.13           </td><td>-0.27          </td><td>0.61           </td><td>0.41           </td><td> 0.49          </td><td>0.38           </td><td>15.04          </td><td> 5.53          </td><td> 38.13         </td></tr>\n",
       "\t<tr><td>2014           </td><td>SurvNoRecentRec</td><td>-1.61          </td><td>3.08           </td><td>89.32          </td><td>16.66          </td><td>173.13         </td><td>1.95           </td><td>3.42           </td><td>583.31         </td><td>...            </td><td>2.81           </td><td>0.79           </td><td>-0.45          </td><td>0.87           </td><td>0.62           </td><td> 0.49          </td><td>0.38           </td><td>15.04          </td><td> 5.53          </td><td> 38.13         </td></tr>\n",
       "</tbody>\n",
       "</table>\n"
      ],
      "text/latex": [
       "\\begin{tabular}{r|llllllllllllllllllllllllllllllllllllllll}\n",
       " Year & Adj & AvgSimK & AvgSimTheta & AvgSimMDD & AvgSimMed & AvgSimDist90 & SDSimK & SDSimTheta & SDSimMDD & ... & CVSimMedWithin & CVSimMDDAmong & CVSimKAmong & CVSimThetaAmong & CVSimMedAmong & GenK & GenTheta & GenMDD & GenMed & GenDist90\\\\\n",
       "\\hline\n",
       "\t 2012            & no              & -1.38           & 1.20            & 54.32           &  9.88           & 103.09          & 1.83            & 0.99            & 343.03          & ...             & 2.66            & 0.81            & -0.26           & 0.58            & 0.38            & -2.36           & 1.03            & 10.17           &  7.13           &  23.29         \\\\\n",
       "\t 2012            & NoRecentRec     & -1.29           & 1.01            & 40.07           &  8.44           &  77.89          & 1.66            & 0.76            & 268.28          & ...             & 2.40            & 0.96            & -0.33           & 0.77            & 0.56            & -2.36           & 1.03            & 10.17           &  7.13           &  23.29         \\\\\n",
       "\t 2012            & Surv            & -1.47           & 1.38            & 83.09           & 12.24           & 152.65          & 1.94            & 1.27            & 471.55          & ...             & 2.94            & 1.13            & -0.27           & 0.61            & 0.41            & -2.36           & 1.03            & 10.17           &  7.13           &  23.29         \\\\\n",
       "\t 2012            & SurvNoRecentRec & -1.11           & 0.95            & 56.54           &  9.67           & 107.20          & 1.86            & 0.65            & 328.07          & ...             & 2.55            & 0.79            & -0.45           & 0.87            & 0.62            & -2.36           & 1.03            & 10.17           &  7.13           &  23.29         \\\\\n",
       "\t 2012-14         & no              & -2.14           & 1.31            & 10.06           &  6.90           &  22.89          & 0.78            & 1.10            &   2.24          & ...             & 0.19            & 0.81            & -0.26           & 0.58            & 0.38            &  1.68           & 0.30            & 27.77           &  7.71           &  68.69         \\\\\n",
       "\t 2012-14         & NoRecentRec     & -1.69           & 1.20            & 11.58           &  6.84           &  27.35          & 1.00            & 1.54            &   5.54          & ...             & 0.26            & 0.96            & -0.33           & 0.77            & 0.56            &  1.68           & 0.30            & 27.77           &  7.71           &  68.69         \\\\\n",
       "\t 2013            & no              & -1.39           & 0.87            &  7.88           &  4.77           &  18.71          & 0.90            & 0.50            &   1.83          & ...             & 0.21            & 0.81            & -0.26           & 0.58            & 0.38            &  4.04           & 0.22            & 69.59           & 12.20           & 157.36         \\\\\n",
       "\t 2013            & NoRecentRec     & -0.83           & 0.66            &  8.18           &  4.27           &  20.05          & 0.90            & 0.39            &   3.70          & ...             & 0.21            & 0.96            & -0.33           & 0.77            & 0.56            &  4.04           & 0.22            & 69.59           & 12.20           & 157.36         \\\\\n",
       "\t 2013            & Surv            & -1.63           & 0.97            &  7.79           &  5.00           &  18.21          & 0.85            & 0.47            &   2.01          & ...             & 0.20            & 1.13            & -0.27           & 0.61            & 0.41            &  4.04           & 0.22            & 69.59           & 12.20           & 157.36         \\\\\n",
       "\t 2013            & SurvNoRecentRec & -0.61           & 0.60            &  8.36           &  4.14           &  20.69          & 0.88            & 0.37            &   2.98          & ...             & 0.18            & 0.79            & -0.45           & 0.87            & 0.62            &  4.04           & 0.22            & 69.59           & 12.20           & 157.36         \\\\\n",
       "\t 2014            & no              & -2.28           & 2.93            & 42.12           & 11.87           &  82.06          & 1.42            & 2.98            & 408.28          & ...             & 2.67            & 0.81            & -0.26           & 0.58            & 0.38            &  0.49           & 0.38            & 15.04           &  5.53           &  38.13         \\\\\n",
       "\t 2014            & NoRecentRec     & -1.88           & 3.30            & 81.42           & 15.83           & 156.09          & 1.85            & 3.41            & 556.57          & ...             & 2.78            & 0.96            & -0.33           & 0.77            & 0.56            &  0.49           & 0.38            & 15.04           &  5.53           &  38.13         \\\\\n",
       "\t 2014            & Surv            & -2.40           & 3.06            & 17.77           & 10.03           &  38.50          & 1.24            & 2.97            &  53.99          & ...             & 0.70            & 1.13            & -0.27           & 0.61            & 0.41            &  0.49           & 0.38            & 15.04           &  5.53           &  38.13         \\\\\n",
       "\t 2014            & SurvNoRecentRec & -1.61           & 3.08            & 89.32           & 16.66           & 173.13          & 1.95            & 3.42            & 583.31          & ...             & 2.81            & 0.79            & -0.45           & 0.87            & 0.62            &  0.49           & 0.38            & 15.04           &  5.53           &  38.13         \\\\\n",
       "\\end{tabular}\n"
      ],
      "text/markdown": [
       "\n",
       "| Year | Adj | AvgSimK | AvgSimTheta | AvgSimMDD | AvgSimMed | AvgSimDist90 | SDSimK | SDSimTheta | SDSimMDD | ... | CVSimMedWithin | CVSimMDDAmong | CVSimKAmong | CVSimThetaAmong | CVSimMedAmong | GenK | GenTheta | GenMDD | GenMed | GenDist90 |\n",
       "|---|---|---|---|---|---|---|---|---|---|---|---|---|---|---|---|---|---|---|---|---|\n",
       "| 2012            | no              | -1.38           | 1.20            | 54.32           |  9.88           | 103.09          | 1.83            | 0.99            | 343.03          | ...             | 2.66            | 0.81            | -0.26           | 0.58            | 0.38            | -2.36           | 1.03            | 10.17           |  7.13           |  23.29          |\n",
       "| 2012            | NoRecentRec     | -1.29           | 1.01            | 40.07           |  8.44           |  77.89          | 1.66            | 0.76            | 268.28          | ...             | 2.40            | 0.96            | -0.33           | 0.77            | 0.56            | -2.36           | 1.03            | 10.17           |  7.13           |  23.29          |\n",
       "| 2012            | Surv            | -1.47           | 1.38            | 83.09           | 12.24           | 152.65          | 1.94            | 1.27            | 471.55          | ...             | 2.94            | 1.13            | -0.27           | 0.61            | 0.41            | -2.36           | 1.03            | 10.17           |  7.13           |  23.29          |\n",
       "| 2012            | SurvNoRecentRec | -1.11           | 0.95            | 56.54           |  9.67           | 107.20          | 1.86            | 0.65            | 328.07          | ...             | 2.55            | 0.79            | -0.45           | 0.87            | 0.62            | -2.36           | 1.03            | 10.17           |  7.13           |  23.29          |\n",
       "| 2012-14         | no              | -2.14           | 1.31            | 10.06           |  6.90           |  22.89          | 0.78            | 1.10            |   2.24          | ...             | 0.19            | 0.81            | -0.26           | 0.58            | 0.38            |  1.68           | 0.30            | 27.77           |  7.71           |  68.69          |\n",
       "| 2012-14         | NoRecentRec     | -1.69           | 1.20            | 11.58           |  6.84           |  27.35          | 1.00            | 1.54            |   5.54          | ...             | 0.26            | 0.96            | -0.33           | 0.77            | 0.56            |  1.68           | 0.30            | 27.77           |  7.71           |  68.69          |\n",
       "| 2013            | no              | -1.39           | 0.87            |  7.88           |  4.77           |  18.71          | 0.90            | 0.50            |   1.83          | ...             | 0.21            | 0.81            | -0.26           | 0.58            | 0.38            |  4.04           | 0.22            | 69.59           | 12.20           | 157.36          |\n",
       "| 2013            | NoRecentRec     | -0.83           | 0.66            |  8.18           |  4.27           |  20.05          | 0.90            | 0.39            |   3.70          | ...             | 0.21            | 0.96            | -0.33           | 0.77            | 0.56            |  4.04           | 0.22            | 69.59           | 12.20           | 157.36          |\n",
       "| 2013            | Surv            | -1.63           | 0.97            |  7.79           |  5.00           |  18.21          | 0.85            | 0.47            |   2.01          | ...             | 0.20            | 1.13            | -0.27           | 0.61            | 0.41            |  4.04           | 0.22            | 69.59           | 12.20           | 157.36          |\n",
       "| 2013            | SurvNoRecentRec | -0.61           | 0.60            |  8.36           |  4.14           |  20.69          | 0.88            | 0.37            |   2.98          | ...             | 0.18            | 0.79            | -0.45           | 0.87            | 0.62            |  4.04           | 0.22            | 69.59           | 12.20           | 157.36          |\n",
       "| 2014            | no              | -2.28           | 2.93            | 42.12           | 11.87           |  82.06          | 1.42            | 2.98            | 408.28          | ...             | 2.67            | 0.81            | -0.26           | 0.58            | 0.38            |  0.49           | 0.38            | 15.04           |  5.53           |  38.13          |\n",
       "| 2014            | NoRecentRec     | -1.88           | 3.30            | 81.42           | 15.83           | 156.09          | 1.85            | 3.41            | 556.57          | ...             | 2.78            | 0.96            | -0.33           | 0.77            | 0.56            |  0.49           | 0.38            | 15.04           |  5.53           |  38.13          |\n",
       "| 2014            | Surv            | -2.40           | 3.06            | 17.77           | 10.03           |  38.50          | 1.24            | 2.97            |  53.99          | ...             | 0.70            | 1.13            | -0.27           | 0.61            | 0.41            |  0.49           | 0.38            | 15.04           |  5.53           |  38.13          |\n",
       "| 2014            | SurvNoRecentRec | -1.61           | 3.08            | 89.32           | 16.66           | 173.13          | 1.95            | 3.42            | 583.31          | ...             | 2.81            | 0.79            | -0.45           | 0.87            | 0.62            |  0.49           | 0.38            | 15.04           |  5.53           |  38.13          |\n",
       "\n"
      ],
      "text/plain": [
       "   Year    Adj             AvgSimK AvgSimTheta AvgSimMDD AvgSimMed AvgSimDist90\n",
       "1  2012    no              -1.38   1.20        54.32      9.88     103.09      \n",
       "2  2012    NoRecentRec     -1.29   1.01        40.07      8.44      77.89      \n",
       "3  2012    Surv            -1.47   1.38        83.09     12.24     152.65      \n",
       "4  2012    SurvNoRecentRec -1.11   0.95        56.54      9.67     107.20      \n",
       "5  2012-14 no              -2.14   1.31        10.06      6.90      22.89      \n",
       "6  2012-14 NoRecentRec     -1.69   1.20        11.58      6.84      27.35      \n",
       "7  2013    no              -1.39   0.87         7.88      4.77      18.71      \n",
       "8  2013    NoRecentRec     -0.83   0.66         8.18      4.27      20.05      \n",
       "9  2013    Surv            -1.63   0.97         7.79      5.00      18.21      \n",
       "10 2013    SurvNoRecentRec -0.61   0.60         8.36      4.14      20.69      \n",
       "11 2014    no              -2.28   2.93        42.12     11.87      82.06      \n",
       "12 2014    NoRecentRec     -1.88   3.30        81.42     15.83     156.09      \n",
       "13 2014    Surv            -2.40   3.06        17.77     10.03      38.50      \n",
       "14 2014    SurvNoRecentRec -1.61   3.08        89.32     16.66     173.13      \n",
       "   SDSimK SDSimTheta SDSimMDD ... CVSimMedWithin CVSimMDDAmong CVSimKAmong\n",
       "1  1.83   0.99       343.03   ... 2.66           0.81          -0.26      \n",
       "2  1.66   0.76       268.28   ... 2.40           0.96          -0.33      \n",
       "3  1.94   1.27       471.55   ... 2.94           1.13          -0.27      \n",
       "4  1.86   0.65       328.07   ... 2.55           0.79          -0.45      \n",
       "5  0.78   1.10         2.24   ... 0.19           0.81          -0.26      \n",
       "6  1.00   1.54         5.54   ... 0.26           0.96          -0.33      \n",
       "7  0.90   0.50         1.83   ... 0.21           0.81          -0.26      \n",
       "8  0.90   0.39         3.70   ... 0.21           0.96          -0.33      \n",
       "9  0.85   0.47         2.01   ... 0.20           1.13          -0.27      \n",
       "10 0.88   0.37         2.98   ... 0.18           0.79          -0.45      \n",
       "11 1.42   2.98       408.28   ... 2.67           0.81          -0.26      \n",
       "12 1.85   3.41       556.57   ... 2.78           0.96          -0.33      \n",
       "13 1.24   2.97        53.99   ... 0.70           1.13          -0.27      \n",
       "14 1.95   3.42       583.31   ... 2.81           0.79          -0.45      \n",
       "   CVSimThetaAmong CVSimMedAmong GenK  GenTheta GenMDD GenMed GenDist90\n",
       "1  0.58            0.38          -2.36 1.03     10.17   7.13   23.29   \n",
       "2  0.77            0.56          -2.36 1.03     10.17   7.13   23.29   \n",
       "3  0.61            0.41          -2.36 1.03     10.17   7.13   23.29   \n",
       "4  0.87            0.62          -2.36 1.03     10.17   7.13   23.29   \n",
       "5  0.58            0.38           1.68 0.30     27.77   7.71   68.69   \n",
       "6  0.77            0.56           1.68 0.30     27.77   7.71   68.69   \n",
       "7  0.58            0.38           4.04 0.22     69.59  12.20  157.36   \n",
       "8  0.77            0.56           4.04 0.22     69.59  12.20  157.36   \n",
       "9  0.61            0.41           4.04 0.22     69.59  12.20  157.36   \n",
       "10 0.87            0.62           4.04 0.22     69.59  12.20  157.36   \n",
       "11 0.58            0.38           0.49 0.38     15.04   5.53   38.13   \n",
       "12 0.77            0.56           0.49 0.38     15.04   5.53   38.13   \n",
       "13 0.61            0.41           0.49 0.38     15.04   5.53   38.13   \n",
       "14 0.87            0.62           0.49 0.38     15.04   5.53   38.13   "
      ]
     },
     "metadata": {},
     "output_type": "display_data"
    }
   ],
   "source": [
    "SimPlusGenFits"
   ]
  },
  {
   "cell_type": "code",
   "execution_count": 81,
   "metadata": {
    "scrolled": false
   },
   "outputs": [
    {
     "data": {
      "text/html": [
       "<table>\n",
       "<thead><tr><th scope=col>Year</th><th scope=col>Adj</th><th scope=col>AvgSimK</th><th scope=col>AvgSimTheta</th><th scope=col>AvgSimMDD</th><th scope=col>AvgSimMed</th><th scope=col>AvgSimDist90</th><th scope=col>SDSimK</th><th scope=col>SDSimTheta</th><th scope=col>SDSimMDD</th><th scope=col>...</th><th scope=col>CVSimMDDAmong</th><th scope=col>CVSimKAmong</th><th scope=col>CVSimThetaAmong</th><th scope=col>CVSimMedAmong</th><th scope=col>GenK</th><th scope=col>GenTheta</th><th scope=col>GenMDD</th><th scope=col>GenMed</th><th scope=col>GenDist90</th><th scope=col>MDDDiffGenVSim</th></tr></thead>\n",
       "<tbody>\n",
       "\t<tr><td>2014           </td><td>Surv           </td><td>-2.40          </td><td>3.06           </td><td>17.77          </td><td>10.03          </td><td>38.50          </td><td>1.24           </td><td>2.97           </td><td> 53.99         </td><td>...            </td><td>1.13           </td><td>-0.27          </td><td>0.61           </td><td>0.41           </td><td> 0.49          </td><td>0.38           </td><td>15.04          </td><td> 5.53          </td><td> 38.13         </td><td> 2.73          </td></tr>\n",
       "\t<tr><td>2012-14        </td><td>NoRecentRec    </td><td>-1.69          </td><td>1.20           </td><td>11.58          </td><td> 6.84          </td><td>27.35          </td><td>1.00           </td><td>1.54           </td><td>  5.54         </td><td>...            </td><td>0.96           </td><td>-0.33          </td><td>0.77           </td><td>0.56           </td><td> 1.68          </td><td>0.30           </td><td>27.77          </td><td> 7.71          </td><td> 68.69         </td><td>16.19          </td></tr>\n",
       "\t<tr><td>2012           </td><td>NoRecentRec    </td><td>-1.29          </td><td>1.01           </td><td>40.07          </td><td> 8.44          </td><td>77.89          </td><td>1.66           </td><td>0.76           </td><td>268.28         </td><td>...            </td><td>0.96           </td><td>-0.33          </td><td>0.77           </td><td>0.56           </td><td>-2.36          </td><td>1.03           </td><td>10.17          </td><td> 7.13          </td><td> 23.29         </td><td>29.90          </td></tr>\n",
       "\t<tr><td>2013           </td><td>SurvNoRecentRec</td><td>-0.61          </td><td>0.60           </td><td> 8.36          </td><td> 4.14          </td><td>20.69          </td><td>0.88           </td><td>0.37           </td><td>  2.98         </td><td>...            </td><td>0.79           </td><td>-0.45          </td><td>0.87           </td><td>0.62           </td><td> 4.04          </td><td>0.22           </td><td>69.59          </td><td>12.20          </td><td>157.36         </td><td>61.23          </td></tr>\n",
       "</tbody>\n",
       "</table>\n"
      ],
      "text/latex": [
       "\\begin{tabular}{r|lllllllllllllllllllllllllllllllllllllllll}\n",
       " Year & Adj & AvgSimK & AvgSimTheta & AvgSimMDD & AvgSimMed & AvgSimDist90 & SDSimK & SDSimTheta & SDSimMDD & ... & CVSimMDDAmong & CVSimKAmong & CVSimThetaAmong & CVSimMedAmong & GenK & GenTheta & GenMDD & GenMed & GenDist90 & MDDDiffGenVSim\\\\\n",
       "\\hline\n",
       "\t 2014            & Surv            & -2.40           & 3.06            & 17.77           & 10.03           & 38.50           & 1.24            & 2.97            &  53.99          & ...             & 1.13            & -0.27           & 0.61            & 0.41            &  0.49           & 0.38            & 15.04           &  5.53           &  38.13          &  2.73          \\\\\n",
       "\t 2012-14         & NoRecentRec     & -1.69           & 1.20            & 11.58           &  6.84           & 27.35           & 1.00            & 1.54            &   5.54          & ...             & 0.96            & -0.33           & 0.77            & 0.56            &  1.68           & 0.30            & 27.77           &  7.71           &  68.69          & 16.19          \\\\\n",
       "\t 2012            & NoRecentRec     & -1.29           & 1.01            & 40.07           &  8.44           & 77.89           & 1.66            & 0.76            & 268.28          & ...             & 0.96            & -0.33           & 0.77            & 0.56            & -2.36           & 1.03            & 10.17           &  7.13           &  23.29          & 29.90          \\\\\n",
       "\t 2013            & SurvNoRecentRec & -0.61           & 0.60            &  8.36           &  4.14           & 20.69           & 0.88            & 0.37            &   2.98          & ...             & 0.79            & -0.45           & 0.87            & 0.62            &  4.04           & 0.22            & 69.59           & 12.20           & 157.36          & 61.23          \\\\\n",
       "\\end{tabular}\n"
      ],
      "text/markdown": [
       "\n",
       "| Year | Adj | AvgSimK | AvgSimTheta | AvgSimMDD | AvgSimMed | AvgSimDist90 | SDSimK | SDSimTheta | SDSimMDD | ... | CVSimMDDAmong | CVSimKAmong | CVSimThetaAmong | CVSimMedAmong | GenK | GenTheta | GenMDD | GenMed | GenDist90 | MDDDiffGenVSim |\n",
       "|---|---|---|---|---|---|---|---|---|---|---|---|---|---|---|---|---|---|---|---|---|\n",
       "| 2014            | Surv            | -2.40           | 3.06            | 17.77           | 10.03           | 38.50           | 1.24            | 2.97            |  53.99          | ...             | 1.13            | -0.27           | 0.61            | 0.41            |  0.49           | 0.38            | 15.04           |  5.53           |  38.13          |  2.73           |\n",
       "| 2012-14         | NoRecentRec     | -1.69           | 1.20            | 11.58           |  6.84           | 27.35           | 1.00            | 1.54            |   5.54          | ...             | 0.96            | -0.33           | 0.77            | 0.56            |  1.68           | 0.30            | 27.77           |  7.71           |  68.69          | 16.19           |\n",
       "| 2012            | NoRecentRec     | -1.29           | 1.01            | 40.07           |  8.44           | 77.89           | 1.66            | 0.76            | 268.28          | ...             | 0.96            | -0.33           | 0.77            | 0.56            | -2.36           | 1.03            | 10.17           |  7.13           |  23.29          | 29.90           |\n",
       "| 2013            | SurvNoRecentRec | -0.61           | 0.60            |  8.36           |  4.14           | 20.69           | 0.88            | 0.37            |   2.98          | ...             | 0.79            | -0.45           | 0.87            | 0.62            |  4.04           | 0.22            | 69.59           | 12.20           | 157.36          | 61.23           |\n",
       "\n"
      ],
      "text/plain": [
       "  Year    Adj             AvgSimK AvgSimTheta AvgSimMDD AvgSimMed AvgSimDist90\n",
       "1 2014    Surv            -2.40   3.06        17.77     10.03     38.50       \n",
       "2 2012-14 NoRecentRec     -1.69   1.20        11.58      6.84     27.35       \n",
       "3 2012    NoRecentRec     -1.29   1.01        40.07      8.44     77.89       \n",
       "4 2013    SurvNoRecentRec -0.61   0.60         8.36      4.14     20.69       \n",
       "  SDSimK SDSimTheta SDSimMDD ... CVSimMDDAmong CVSimKAmong CVSimThetaAmong\n",
       "1 1.24   2.97        53.99   ... 1.13          -0.27       0.61           \n",
       "2 1.00   1.54         5.54   ... 0.96          -0.33       0.77           \n",
       "3 1.66   0.76       268.28   ... 0.96          -0.33       0.77           \n",
       "4 0.88   0.37         2.98   ... 0.79          -0.45       0.87           \n",
       "  CVSimMedAmong GenK  GenTheta GenMDD GenMed GenDist90 MDDDiffGenVSim\n",
       "1 0.41           0.49 0.38     15.04   5.53   38.13     2.73         \n",
       "2 0.56           1.68 0.30     27.77   7.71   68.69    16.19         \n",
       "3 0.56          -2.36 1.03     10.17   7.13   23.29    29.90         \n",
       "4 0.62           4.04 0.22     69.59  12.20  157.36    61.23         "
      ]
     },
     "metadata": {},
     "output_type": "display_data"
    }
   ],
   "source": [
    "#what simulations best represent the genetic data, based on MDD as a rough summary stat that incorporates shape and scale of fit\n",
    "SimPlusGenFits %>%\n",
    "    mutate(MDDDiffGenVSim=abs(GenMDD-AvgSimMDD)) %>%\n",
    "    group_by(Year) %>%\n",
    "    arrange(MDDDiffGenVSim) %>%\n",
    "    filter(MDDDiffGenVSim==min(MDDDiffGenVSim))\n",
    "#SimPlusGenFits %>%\n",
    "#    mutate(MDDDiffGenVSim=abs(GenMDD-AvgSimMDD)) %>%\n",
    "#    group_by(Year) %>%\n",
    "#    arrange(MDDDiffGenVSim)\n",
    "#\n",
    "#\n",
    "#write.csv(SimPlusGenFits, file=\"~/oceanography/script_output/KernelFits/SimPlusGenKernelFitsAnnual.csv\", row.names=F)"
   ]
  },
  {
   "cell_type": "code",
   "execution_count": 83,
   "metadata": {},
   "outputs": [
    {
     "data": {
      "text/html": [
       "<table>\n",
       "<thead><tr><th scope=col>Year</th><th scope=col>Adj</th><th scope=col>AvgSimK</th><th scope=col>GenK</th><th scope=col>AvgSimTheta</th><th scope=col>GenTheta</th><th scope=col>AvgSimMDD</th><th scope=col>GenMDD</th></tr></thead>\n",
       "<tbody>\n",
       "\t<tr><td>2012           </td><td>NoRecentRec    </td><td>-1.29          </td><td>-2.36          </td><td>1.01           </td><td>1.03           </td><td>40.07          </td><td>10.17          </td></tr>\n",
       "\t<tr><td>2013           </td><td>SurvNoRecentRec</td><td>-0.61          </td><td> 4.04          </td><td>0.60           </td><td>0.22           </td><td> 8.36          </td><td>69.59          </td></tr>\n",
       "\t<tr><td>2012-14        </td><td>NoRecentRec    </td><td>-1.69          </td><td> 1.68          </td><td>1.20           </td><td>0.30           </td><td>11.58          </td><td>27.77          </td></tr>\n",
       "\t<tr><td>2014           </td><td>no             </td><td>-2.28          </td><td> 0.49          </td><td>2.93           </td><td>0.38           </td><td>42.12          </td><td>15.04          </td></tr>\n",
       "</tbody>\n",
       "</table>\n"
      ],
      "text/latex": [
       "\\begin{tabular}{r|llllllll}\n",
       " Year & Adj & AvgSimK & GenK & AvgSimTheta & GenTheta & AvgSimMDD & GenMDD\\\\\n",
       "\\hline\n",
       "\t 2012            & NoRecentRec     & -1.29           & -2.36           & 1.01            & 1.03            & 40.07           & 10.17          \\\\\n",
       "\t 2013            & SurvNoRecentRec & -0.61           &  4.04           & 0.60            & 0.22            &  8.36           & 69.59          \\\\\n",
       "\t 2012-14         & NoRecentRec     & -1.69           &  1.68           & 1.20            & 0.30            & 11.58           & 27.77          \\\\\n",
       "\t 2014            & no              & -2.28           &  0.49           & 2.93            & 0.38            & 42.12           & 15.04          \\\\\n",
       "\\end{tabular}\n"
      ],
      "text/markdown": [
       "\n",
       "| Year | Adj | AvgSimK | GenK | AvgSimTheta | GenTheta | AvgSimMDD | GenMDD |\n",
       "|---|---|---|---|---|---|---|---|\n",
       "| 2012            | NoRecentRec     | -1.29           | -2.36           | 1.01            | 1.03            | 40.07           | 10.17           |\n",
       "| 2013            | SurvNoRecentRec | -0.61           |  4.04           | 0.60            | 0.22            |  8.36           | 69.59           |\n",
       "| 2012-14         | NoRecentRec     | -1.69           |  1.68           | 1.20            | 0.30            | 11.58           | 27.77           |\n",
       "| 2014            | no              | -2.28           |  0.49           | 2.93            | 0.38            | 42.12           | 15.04           |\n",
       "\n"
      ],
      "text/plain": [
       "  Year    Adj             AvgSimK GenK  AvgSimTheta GenTheta AvgSimMDD GenMDD\n",
       "1 2012    NoRecentRec     -1.29   -2.36 1.01        1.03     40.07     10.17 \n",
       "2 2013    SurvNoRecentRec -0.61    4.04 0.60        0.22      8.36     69.59 \n",
       "3 2012-14 NoRecentRec     -1.69    1.68 1.20        0.30     11.58     27.77 \n",
       "4 2014    no              -2.28    0.49 2.93        0.38     42.12     15.04 "
      ]
     },
     "metadata": {},
     "output_type": "display_data"
    }
   ],
   "source": [
    "\n",
    "#what about just looking at theta?\n",
    "SimPlusGenFits %>%\n",
    "    mutate(ThetaDiffGenVSim=abs(GenTheta-AvgSimTheta)) %>%\n",
    "    group_by(Year) %>%\n",
    "    arrange(ThetaDiffGenVSim) %>%\n",
    "    filter(ThetaDiffGenVSim==min(ThetaDiffGenVSim)) %>%\n",
    "    select(Year, Adj, AvgSimK, GenK, AvgSimTheta, GenTheta, AvgSimMDD, GenMDD)\n",
    "#SimPlusGenFits %>%\n",
    "#    mutate(ThetaDiffGenVSim=abs(GenTheta-AvgSimTheta)) %>%\n",
    "#    group_by(Year) %>%\n",
    "#    arrange(ThetaDiffGenVSim)"
   ]
  },
  {
   "cell_type": "code",
   "execution_count": 86,
   "metadata": {},
   "outputs": [
    {
     "data": {
      "text/html": [
       "<table>\n",
       "<thead><tr><th scope=col>CVGenMDD</th><th scope=col>CVGenMed</th><th scope=col>CVGenTheta</th><th scope=col>CVGenK</th></tr></thead>\n",
       "<tbody>\n",
       "\t<tr><td>1.043997 </td><td>0.4202158</td><td>0.7895541</td><td>4.432775 </td></tr>\n",
       "</tbody>\n",
       "</table>\n"
      ],
      "text/latex": [
       "\\begin{tabular}{r|llll}\n",
       " CVGenMDD & CVGenMed & CVGenTheta & CVGenK\\\\\n",
       "\\hline\n",
       "\t 1.043997  & 0.4202158 & 0.7895541 & 4.432775 \\\\\n",
       "\\end{tabular}\n"
      ],
      "text/markdown": [
       "\n",
       "| CVGenMDD | CVGenMed | CVGenTheta | CVGenK |\n",
       "|---|---|---|---|\n",
       "| 1.043997  | 0.4202158 | 0.7895541 | 4.432775  |\n",
       "\n"
      ],
      "text/plain": [
       "  CVGenMDD CVGenMed  CVGenTheta CVGenK  \n",
       "1 1.043997 0.4202158 0.7895541  4.432775"
      ]
     },
     "metadata": {},
     "output_type": "display_data"
    }
   ],
   "source": [
    "#look at the CV among years in the genetics and three cases\n",
    "RealKernelVar <- kernels2 %>%\n",
    "    filter(Year %in% c(\"2012\", \"2013\", \"2014\")) %>%\n",
    "    mutate(CVGenMDD=sd(GenMDD)/mean(GenMDD))%>%\n",
    "    mutate(CVGenMed=sd(GenMed)/mean(GenMed))%>%\n",
    "    mutate(CVGenTheta=sd(GenTheta)/mean(GenTheta)) %>%\n",
    "    mutate(CVGenK=sd(GenK)/mean(GenK)) %>%\n",
    "    distinct(CVGenMDD, CVGenMed, CVGenTheta, CVGenK)\n",
    "RealKernelVar"
   ]
  },
  {
   "cell_type": "code",
   "execution_count": 89,
   "metadata": {},
   "outputs": [
    {
     "name": "stderr",
     "output_type": "stream",
     "text": [
      "Adding missing grouping variables: `Adj`\n"
     ]
    },
    {
     "data": {
      "text/html": [
       "<table>\n",
       "<thead><tr><th scope=col>Adj</th><th scope=col>CVSimMDDAmong</th><th scope=col>CVSimMedAmong</th><th scope=col>CVSimThetaAmong</th><th scope=col>CVSimKAmong</th></tr></thead>\n",
       "<tbody>\n",
       "\t<tr><td>no             </td><td>0.81           </td><td>0.38           </td><td>0.58           </td><td>-0.26          </td></tr>\n",
       "\t<tr><td>NoRecentRec    </td><td>0.96           </td><td>0.56           </td><td>0.77           </td><td>-0.33          </td></tr>\n",
       "\t<tr><td>Surv           </td><td>1.13           </td><td>0.41           </td><td>0.61           </td><td>-0.27          </td></tr>\n",
       "\t<tr><td>SurvNoRecentRec</td><td>0.79           </td><td>0.62           </td><td>0.87           </td><td>-0.45          </td></tr>\n",
       "\t<tr><td>no             </td><td>0.81           </td><td>0.38           </td><td>0.58           </td><td>-0.26          </td></tr>\n",
       "\t<tr><td>NoRecentRec    </td><td>0.96           </td><td>0.56           </td><td>0.77           </td><td>-0.33          </td></tr>\n",
       "\t<tr><td>no             </td><td>0.81           </td><td>0.38           </td><td>0.58           </td><td>-0.26          </td></tr>\n",
       "\t<tr><td>NoRecentRec    </td><td>0.96           </td><td>0.56           </td><td>0.77           </td><td>-0.33          </td></tr>\n",
       "\t<tr><td>Surv           </td><td>1.13           </td><td>0.41           </td><td>0.61           </td><td>-0.27          </td></tr>\n",
       "\t<tr><td>SurvNoRecentRec</td><td>0.79           </td><td>0.62           </td><td>0.87           </td><td>-0.45          </td></tr>\n",
       "\t<tr><td>no             </td><td>0.81           </td><td>0.38           </td><td>0.58           </td><td>-0.26          </td></tr>\n",
       "\t<tr><td>NoRecentRec    </td><td>0.96           </td><td>0.56           </td><td>0.77           </td><td>-0.33          </td></tr>\n",
       "\t<tr><td>Surv           </td><td>1.13           </td><td>0.41           </td><td>0.61           </td><td>-0.27          </td></tr>\n",
       "\t<tr><td>SurvNoRecentRec</td><td>0.79           </td><td>0.62           </td><td>0.87           </td><td>-0.45          </td></tr>\n",
       "</tbody>\n",
       "</table>\n"
      ],
      "text/latex": [
       "\\begin{tabular}{r|lllll}\n",
       " Adj & CVSimMDDAmong & CVSimMedAmong & CVSimThetaAmong & CVSimKAmong\\\\\n",
       "\\hline\n",
       "\t no              & 0.81            & 0.38            & 0.58            & -0.26          \\\\\n",
       "\t NoRecentRec     & 0.96            & 0.56            & 0.77            & -0.33          \\\\\n",
       "\t Surv            & 1.13            & 0.41            & 0.61            & -0.27          \\\\\n",
       "\t SurvNoRecentRec & 0.79            & 0.62            & 0.87            & -0.45          \\\\\n",
       "\t no              & 0.81            & 0.38            & 0.58            & -0.26          \\\\\n",
       "\t NoRecentRec     & 0.96            & 0.56            & 0.77            & -0.33          \\\\\n",
       "\t no              & 0.81            & 0.38            & 0.58            & -0.26          \\\\\n",
       "\t NoRecentRec     & 0.96            & 0.56            & 0.77            & -0.33          \\\\\n",
       "\t Surv            & 1.13            & 0.41            & 0.61            & -0.27          \\\\\n",
       "\t SurvNoRecentRec & 0.79            & 0.62            & 0.87            & -0.45          \\\\\n",
       "\t no              & 0.81            & 0.38            & 0.58            & -0.26          \\\\\n",
       "\t NoRecentRec     & 0.96            & 0.56            & 0.77            & -0.33          \\\\\n",
       "\t Surv            & 1.13            & 0.41            & 0.61            & -0.27          \\\\\n",
       "\t SurvNoRecentRec & 0.79            & 0.62            & 0.87            & -0.45          \\\\\n",
       "\\end{tabular}\n"
      ],
      "text/markdown": [
       "\n",
       "| Adj | CVSimMDDAmong | CVSimMedAmong | CVSimThetaAmong | CVSimKAmong |\n",
       "|---|---|---|---|---|\n",
       "| no              | 0.81            | 0.38            | 0.58            | -0.26           |\n",
       "| NoRecentRec     | 0.96            | 0.56            | 0.77            | -0.33           |\n",
       "| Surv            | 1.13            | 0.41            | 0.61            | -0.27           |\n",
       "| SurvNoRecentRec | 0.79            | 0.62            | 0.87            | -0.45           |\n",
       "| no              | 0.81            | 0.38            | 0.58            | -0.26           |\n",
       "| NoRecentRec     | 0.96            | 0.56            | 0.77            | -0.33           |\n",
       "| no              | 0.81            | 0.38            | 0.58            | -0.26           |\n",
       "| NoRecentRec     | 0.96            | 0.56            | 0.77            | -0.33           |\n",
       "| Surv            | 1.13            | 0.41            | 0.61            | -0.27           |\n",
       "| SurvNoRecentRec | 0.79            | 0.62            | 0.87            | -0.45           |\n",
       "| no              | 0.81            | 0.38            | 0.58            | -0.26           |\n",
       "| NoRecentRec     | 0.96            | 0.56            | 0.77            | -0.33           |\n",
       "| Surv            | 1.13            | 0.41            | 0.61            | -0.27           |\n",
       "| SurvNoRecentRec | 0.79            | 0.62            | 0.87            | -0.45           |\n",
       "\n"
      ],
      "text/plain": [
       "   Adj             CVSimMDDAmong CVSimMedAmong CVSimThetaAmong CVSimKAmong\n",
       "1  no              0.81          0.38          0.58            -0.26      \n",
       "2  NoRecentRec     0.96          0.56          0.77            -0.33      \n",
       "3  Surv            1.13          0.41          0.61            -0.27      \n",
       "4  SurvNoRecentRec 0.79          0.62          0.87            -0.45      \n",
       "5  no              0.81          0.38          0.58            -0.26      \n",
       "6  NoRecentRec     0.96          0.56          0.77            -0.33      \n",
       "7  no              0.81          0.38          0.58            -0.26      \n",
       "8  NoRecentRec     0.96          0.56          0.77            -0.33      \n",
       "9  Surv            1.13          0.41          0.61            -0.27      \n",
       "10 SurvNoRecentRec 0.79          0.62          0.87            -0.45      \n",
       "11 no              0.81          0.38          0.58            -0.26      \n",
       "12 NoRecentRec     0.96          0.56          0.77            -0.33      \n",
       "13 Surv            1.13          0.41          0.61            -0.27      \n",
       "14 SurvNoRecentRec 0.79          0.62          0.87            -0.45      "
      ]
     },
     "metadata": {},
     "output_type": "display_data"
    }
   ],
   "source": [
    "SimKernelVar <- SimSummary %>%\n",
    "    select(CVSimMDDAmong, CVSimMedAmong, CVSimThetaAmong, CVSimKAmong)\n",
    "SimKernelVar"
   ]
  },
  {
   "cell_type": "code",
   "execution_count": null,
   "metadata": {},
   "outputs": [],
   "source": [
    "ggplot(data=SimKernelVar, aes(x=Adj, y=mdd, color=year, fill=year), alpha=0.5) +\n",
    "    geom_point(data=SimPlusGenFits, aes(x=Year, y=AvgSimMDD, shape=Adj), fill=NA, color=\"black\", size=3) + \n",
    "    geom_point(data=SimPlusGenFits, aes(x=Year, y=GenMDD), fill=\"red\", color=\"red\") + # with all fits\n"
   ]
  },
  {
   "cell_type": "code",
   "execution_count": 195,
   "metadata": {},
   "outputs": [
    {
     "name": "stderr",
     "output_type": "stream",
     "text": [
      "Warning message:\n",
      "“Removed 11 rows containing non-finite values (stat_ydensity).”Warning message:\n",
      "“Removed 2 rows containing missing values (geom_point).”Saving 6.67 x 6.67 in image\n",
      "Warning message:\n",
      "“Removed 11 rows containing non-finite values (stat_ydensity).”Warning message:\n",
      "“Removed 2 rows containing missing values (geom_point).”"
     ]
    },
    {
     "data": {
      "image/png": "[encoded data removed]",
      "text/plain": [
       "plot without title"
      ]
     },
     "metadata": {},
     "output_type": "display_data"
    }
   ],
   "source": [
    "cbbPalette <- c(\"#000000\", \"#E69F00\", \"#56B4E9\", \"#009E73\", \"#F0E442\", \"#0072B2\", \"#D55E00\", \"#CC79A7\")\n",
    "cbbPalette_rev <- rev(cbbPalette)\n",
    "\n",
    "CombinedSims$year <- factor(CombinedSims$year, levels=c(\"2012\", \"2013\", \"2014\", \"2012-14\"))\n",
    "SimPlusGenFits$Year <- factor(SimPlusGenFits$Year, levels=c(\"2012\", \"2013\", \"2014\", \"2012-14\"))\n",
    "\n",
    "mdd_violin <- ggplot(data=CombinedSims, aes(x=year, y=mdd, color=year, fill=year), alpha=0.5) +\n",
    "    geom_violin() +\n",
    "    geom_point(data=SimPlusGenFits, aes(x=Year, y=AvgSimMDD, shape=Adj), fill=NA, color=\"black\", size=3) + \n",
    "    geom_point(data=SimPlusGenFits, aes(x=Year, y=GenMDD), fill=\"red\", color=\"red\") + # with all fits\n",
    "    #geom_point(data=kernels %>% filter(Year %in% c(\"2012\", \"2013\", \"2014\", \"all\")), aes(x=Year, y=MeanDispDist), fill=\"black\",color=\"darkgray\", shape=24) + #genetic estimates\n",
    "    coord_flip() +\n",
    "    scale_shape_discrete(name = \"Adjustment\", labels = c(\"only >3.5 cm\", \"none\", \"only >3.5 cm and survival weighting\"))+\n",
    "    #scale_x_continuous(limits = c(0, 100), expand=c(0,0)) +\n",
    "    scale_y_continuous(limits = c(0, 83), expand = c(0,0))+\n",
    "    theme(panel.grid.major = element_blank(),\n",
    "    plot.margin=unit(c(0.2,0.2,0.2,0.2),\"cm\"),\n",
    "    panel.grid.minor = element_blank(), \n",
    "    panel.background = element_blank(), #,\n",
    "    axis.line = element_line(colour = \"black\")) +\n",
    "    xlab(\"Year\") + \n",
    "    ylab(\"Mean dispersal distance (km)\") +\n",
    "    theme(axis.text.x = element_text(size=8, color=\"black\", family=\"Helvetica\"),#15 for publication, 20 for presentation #element_text(size=15, color=\"black\", family=\"Helvetica\"),\n",
    "    axis.text.y =  element_text(size=8, color=\"black\", family=\"Helvetica\"),\n",
    "    axis.title.y =  element_text(size=10, color=\"black\", family=\"Helvetica\"), \n",
    "    axis.title.x =  element_text(size=10, color=\"black\", family=\"Helvetica\")) + \n",
    "    scale_colour_manual(values=cbbPalette_rev)+\n",
    "    scale_fill_manual(values=cbbPalette_rev)\n",
    "    #scale_y_continuous(breaks = 1:2000, labels = c(1:50,\"break\",1000:2000))\n",
    "mdd_violin\n",
    "ggplot2::ggsave(filename=\"SimMeanDispDistPlusGenPoints.png\",  plot=mdd_violin, path=\"~/oceanography/script_output/KernelFits/Plots/\")\n"
   ]
  },
  {
   "cell_type": "code",
   "execution_count": null,
   "metadata": {},
   "outputs": [],
   "source": []
  },
  {
   "cell_type": "code",
   "execution_count": 161,
   "metadata": {},
   "outputs": [],
   "source": [
    "#read in the seasonal simulation kernel fits\n",
    "\n",
    "#no adjustments\n",
    "SimulatedKernelsNEM <-  read.csv(file=\"~/oceanography/script_output/KernelFits/100SimulatedKernelsNEM.csv\", header=T) %>%\n",
    "    mutate(Adj=\"no\")\n",
    "SimulatedKernelsSWM <-  read.csv(file=\"~/oceanography/script_output/KernelFits/100SimulatedKernelsSWM.csv\", header=T) %>%\n",
    "    mutate(Adj=\"no\")\n",
    "\n",
    "#adjusting for survival and growth\n",
    "SimulatedKernelsNEMSurvGrowth <-  read.csv(file=\"~/oceanography/script_output/KernelFits/100SimulatedKernelsNEMSurvGrowth.csv\", header=T) %>%\n",
    "    mutate(Adj=\"SurvGrowth\")\n",
    "SimulatedKernelsSWMSurvGrowth <-  read.csv(file=\"~/oceanography/script_output/KernelFits/100SimulatedKernelsSWMSurvGrowth.csv\", header=T) %>%\n",
    "    mutate(Adj=\"SurvGrowth\")\n",
    "\n",
    "#adjusting for growth\n",
    "SimulatedKernelsNEMGrowth <-  read.csv(file=\"~/oceanography/script_output/KernelFits/100SimulatedKernelsNEMGrowth.csv\", header=T) %>%\n",
    "    mutate(Adj=\"Growth\")\n",
    "SimulatedKernelsSWMGrowth <-  read.csv(file=\"~/oceanography/script_output/KernelFits/100SimulatedKernelsSWMGrowth.csv\", header=T) %>%\n",
    "    mutate(Adj=\"Growth\")\n",
    "\n",
    "CombinedSeasons <- bind_rows(SimulatedKernelsNEM, SimulatedKernelsSWM, SimulatedKernelsNEMSurvGrowth, SimulatedKernelsSWMSurvGrowth, SimulatedKernelsNEMGrowth, SimulatedKernelsSWMGrowth) %>%\n",
    "    rename(Season=\"season\") \n",
    "\n",
    "#empirical seasons for 2012-2014\n",
    "SeasonalKernels2012_14 <- read.csv(file=\"~/oceanography/empirical_data/genetics/SeasonalGenKernelsForROMSComp.csv\", header=T) %>%\n",
    "    rename(Season=\"season\",GenK=\"k\", GenTheta=\"theta\", GenMDD=\"mdd\", GenMed=\"med\", GenDist90=\"dist90\") %>%\n",
    "    mutate(GenK=round(GenK, digits=2)) %>%\n",
    "    mutate(GenTheta=round(GenTheta, digits=2)) %>%\n",
    "    mutate(GenMDD=round(GenMDD, digits=2)) %>%\n",
    "    mutate(TimeFrame=\"2012-14\")#%>%\n",
    "    #mutate(JoinKey=\"all\")\n",
    "\n",
    "\n",
    "SeasonalKernels2012_18 <- read.csv(file=\"~/parentage/kernel_fitting/1340_loci/final_results/tables/RecruitSizeAsSeasonlity_summary.csv\", header=T) %>%\n",
    "    select(Season, best_k, best_theta, MeanDispersalDistance, MedianDispersalDistance, Dist90Retained) %>%    \n",
    "    rename(GenK=\"best_k\", GenTheta=\"best_theta\", GenMDD=\"MeanDispersalDistance\", GenMed=\"MedianDispersalDistance\", GenDist90=\"Dist90Retained\") %>%\n",
    "    mutate(GenMDD=round(GenMDD, digits=2)) %>%\n",
    "    mutate(TimeFrame=\"2012-18\")#%>%\n",
    "    #mutate(JoinKey=\"all\")\n",
    "\n",
    "GenSeasonalKernels <- bind_rows(SeasonalKernels2012_14, SeasonalKernels2012_18)"
   ]
  },
  {
   "cell_type": "code",
   "execution_count": 151,
   "metadata": {},
   "outputs": [
    {
     "data": {
      "text/html": [
       "<table>\n",
       "<thead><tr><th scope=col>Season</th><th scope=col>k</th><th scope=col>theta</th><th scope=col>mdd</th><th scope=col>med</th><th scope=col>dist90</th><th scope=col>iteration</th><th scope=col>Adj</th></tr></thead>\n",
       "<tbody>\n",
       "\t<tr><td>NEM  </td><td>-2.49</td><td>1.30 </td><td> 8.94</td><td>6.78 </td><td>19.71</td><td>1    </td><td>no   </td></tr>\n",
       "\t<tr><td>NEM  </td><td> 0.85</td><td>0.34 </td><td>21.84</td><td>7.14 </td><td>55.00</td><td>2    </td><td>no   </td></tr>\n",
       "\t<tr><td>NEM  </td><td>-1.38</td><td>0.64 </td><td>10.05</td><td>5.59 </td><td>24.73</td><td>3    </td><td>no   </td></tr>\n",
       "\t<tr><td>NEM  </td><td>-2.06</td><td>0.91 </td><td> 9.06</td><td>6.05 </td><td>21.17</td><td>4    </td><td>no   </td></tr>\n",
       "\t<tr><td>NEM  </td><td>-2.52</td><td>1.33 </td><td> 9.04</td><td>6.91 </td><td>19.86</td><td>5    </td><td>no   </td></tr>\n",
       "\t<tr><td>NEM  </td><td>-1.92</td><td>0.84 </td><td> 9.04</td><td>5.82 </td><td>21.40</td><td>6    </td><td>no   </td></tr>\n",
       "</tbody>\n",
       "</table>\n"
      ],
      "text/latex": [
       "\\begin{tabular}{r|llllllll}\n",
       " Season & k & theta & mdd & med & dist90 & iteration & Adj\\\\\n",
       "\\hline\n",
       "\t NEM   & -2.49 & 1.30  &  8.94 & 6.78  & 19.71 & 1     & no   \\\\\n",
       "\t NEM   &  0.85 & 0.34  & 21.84 & 7.14  & 55.00 & 2     & no   \\\\\n",
       "\t NEM   & -1.38 & 0.64  & 10.05 & 5.59  & 24.73 & 3     & no   \\\\\n",
       "\t NEM   & -2.06 & 0.91  &  9.06 & 6.05  & 21.17 & 4     & no   \\\\\n",
       "\t NEM   & -2.52 & 1.33  &  9.04 & 6.91  & 19.86 & 5     & no   \\\\\n",
       "\t NEM   & -1.92 & 0.84  &  9.04 & 5.82  & 21.40 & 6     & no   \\\\\n",
       "\\end{tabular}\n"
      ],
      "text/markdown": [
       "\n",
       "| Season | k | theta | mdd | med | dist90 | iteration | Adj |\n",
       "|---|---|---|---|---|---|---|---|\n",
       "| NEM   | -2.49 | 1.30  |  8.94 | 6.78  | 19.71 | 1     | no    |\n",
       "| NEM   |  0.85 | 0.34  | 21.84 | 7.14  | 55.00 | 2     | no    |\n",
       "| NEM   | -1.38 | 0.64  | 10.05 | 5.59  | 24.73 | 3     | no    |\n",
       "| NEM   | -2.06 | 0.91  |  9.06 | 6.05  | 21.17 | 4     | no    |\n",
       "| NEM   | -2.52 | 1.33  |  9.04 | 6.91  | 19.86 | 5     | no    |\n",
       "| NEM   | -1.92 | 0.84  |  9.04 | 5.82  | 21.40 | 6     | no    |\n",
       "\n"
      ],
      "text/plain": [
       "  Season k     theta mdd   med  dist90 iteration Adj\n",
       "1 NEM    -2.49 1.30   8.94 6.78 19.71  1         no \n",
       "2 NEM     0.85 0.34  21.84 7.14 55.00  2         no \n",
       "3 NEM    -1.38 0.64  10.05 5.59 24.73  3         no \n",
       "4 NEM    -2.06 0.91   9.06 6.05 21.17  4         no \n",
       "5 NEM    -2.52 1.33   9.04 6.91 19.86  5         no \n",
       "6 NEM    -1.92 0.84   9.04 5.82 21.40  6         no "
      ]
     },
     "metadata": {},
     "output_type": "display_data"
    }
   ],
   "source": [
    "head(CombinedSeasons)"
   ]
  },
  {
   "cell_type": "code",
   "execution_count": 162,
   "metadata": {},
   "outputs": [],
   "source": [
    "AvgSeasonalKernels <- CombinedSeasons %>% \n",
    "    select(-iteration) %>%\n",
    "    group_by(Season, Adj) %>%\n",
    "    summarise_each(funs(mean)) %>%\n",
    "    mutate(k=round(k, digits=2)) %>%\n",
    "    mutate(theta=round(theta, digits=2)) %>%\n",
    "    mutate(mdd=round(mdd, digits=2))%>%\n",
    "    mutate(med=round(med, digits=2))%>%\n",
    "    mutate(dist90=round(dist90, digits=2)) %>%\n",
    "    rename(AvgSimK=\"k\", AvgSimTheta=\"theta\", AvgSimMDD=\"mdd\", AvgSimMed=\"med\", AvgSimDist90=\"dist90\") %>%\n",
    "    mutate(TimeFrame=\"2012-14\")# %>%\n",
    "    #mutate(JoinKey=\"all\")"
   ]
  },
  {
   "cell_type": "code",
   "execution_count": 189,
   "metadata": {},
   "outputs": [
    {
     "data": {
      "text/html": [
       "<table>\n",
       "<thead><tr><th scope=col>Season</th><th scope=col>Adj</th><th scope=col>AvgSimK</th><th scope=col>AvgSimTheta</th><th scope=col>AvgSimMDD</th><th scope=col>AvgSimMed</th><th scope=col>AvgSimDist90</th><th scope=col>TimeFrame</th><th scope=col>GenK</th><th scope=col>GenTheta</th><th scope=col>GenMDD</th><th scope=col>GenMed</th><th scope=col>GenDist90</th><th scope=col>MDDDiffGenVSim</th></tr></thead>\n",
       "<tbody>\n",
       "\t<tr><td>SWM       </td><td>no        </td><td>-2.45     </td><td>1.39      </td><td> 8.58     </td><td>6.57      </td><td>18.77     </td><td>2012-14   </td><td>-1.62     </td><td>0.76      </td><td>   8.34   </td><td>  5.1     </td><td>  20.07   </td><td>   0.24   </td></tr>\n",
       "\t<tr><td>NEM       </td><td>SurvGrowth</td><td>-2.02     </td><td>1.17      </td><td>10.10     </td><td>6.69      </td><td>23.37     </td><td>2012-14   </td><td> 6.95     </td><td>0.15      </td><td>2755.86   </td><td>212.8     </td><td>4810.04   </td><td>2745.76   </td></tr>\n",
       "</tbody>\n",
       "</table>\n"
      ],
      "text/latex": [
       "\\begin{tabular}{r|llllllllllllll}\n",
       " Season & Adj & AvgSimK & AvgSimTheta & AvgSimMDD & AvgSimMed & AvgSimDist90 & TimeFrame & GenK & GenTheta & GenMDD & GenMed & GenDist90 & MDDDiffGenVSim\\\\\n",
       "\\hline\n",
       "\t SWM        & no         & -2.45      & 1.39       &  8.58      & 6.57       & 18.77      & 2012-14    & -1.62      & 0.76       &    8.34    &   5.1      &   20.07    &    0.24   \\\\\n",
       "\t NEM        & SurvGrowth & -2.02      & 1.17       & 10.10      & 6.69       & 23.37      & 2012-14    &  6.95      & 0.15       & 2755.86    & 212.8      & 4810.04    & 2745.76   \\\\\n",
       "\\end{tabular}\n"
      ],
      "text/markdown": [
       "\n",
       "| Season | Adj | AvgSimK | AvgSimTheta | AvgSimMDD | AvgSimMed | AvgSimDist90 | TimeFrame | GenK | GenTheta | GenMDD | GenMed | GenDist90 | MDDDiffGenVSim |\n",
       "|---|---|---|---|---|---|---|---|---|---|---|---|---|---|\n",
       "| SWM        | no         | -2.45      | 1.39       |  8.58      | 6.57       | 18.77      | 2012-14    | -1.62      | 0.76       |    8.34    |   5.1      |   20.07    |    0.24    |\n",
       "| NEM        | SurvGrowth | -2.02      | 1.17       | 10.10      | 6.69       | 23.37      | 2012-14    |  6.95      | 0.15       | 2755.86    | 212.8      | 4810.04    | 2745.76    |\n",
       "\n"
      ],
      "text/plain": [
       "  Season Adj        AvgSimK AvgSimTheta AvgSimMDD AvgSimMed AvgSimDist90\n",
       "1 SWM    no         -2.45   1.39         8.58     6.57      18.77       \n",
       "2 NEM    SurvGrowth -2.02   1.17        10.10     6.69      23.37       \n",
       "  TimeFrame GenK  GenTheta GenMDD  GenMed GenDist90 MDDDiffGenVSim\n",
       "1 2012-14   -1.62 0.76        8.34   5.1    20.07      0.24       \n",
       "2 2012-14    6.95 0.15     2755.86 212.8  4810.04   2745.76       "
      ]
     },
     "metadata": {},
     "output_type": "display_data"
    },
    {
     "data": {
      "text/html": [
       "<table>\n",
       "<thead><tr><th scope=col>Season</th><th scope=col>Adj</th><th scope=col>AvgSimK</th><th scope=col>AvgSimTheta</th><th scope=col>AvgSimMDD</th><th scope=col>AvgSimMed</th><th scope=col>AvgSimDist90</th><th scope=col>TimeFrame</th><th scope=col>GenK</th><th scope=col>GenTheta</th><th scope=col>GenMDD</th><th scope=col>GenMed</th><th scope=col>GenDist90</th><th scope=col>MDDDiffGenVSim</th></tr></thead>\n",
       "<tbody>\n",
       "\t<tr><td>SWM       </td><td>no        </td><td>-2.45     </td><td>1.39      </td><td> 8.58     </td><td>6.57      </td><td>18.77     </td><td>2012-14   </td><td>-1.62     </td><td>0.76      </td><td>   8.34   </td><td>  5.10    </td><td>  20.07   </td><td>   0.24   </td></tr>\n",
       "\t<tr><td>SWM       </td><td>SurvGrowth</td><td>-2.44     </td><td>1.37      </td><td> 8.63     </td><td>6.59      </td><td>18.94     </td><td>2012-14   </td><td>-1.62     </td><td>0.76      </td><td>   8.34   </td><td>  5.10    </td><td>  20.07   </td><td>   0.29   </td></tr>\n",
       "\t<tr><td>SWM       </td><td>Growth    </td><td>-2.40     </td><td>1.32      </td><td> 8.66     </td><td>6.52      </td><td>19.13     </td><td>2012-14   </td><td>-1.62     </td><td>0.76      </td><td>   8.34   </td><td>  5.10    </td><td>  20.07   </td><td>   0.32   </td></tr>\n",
       "\t<tr><td>NEM       </td><td>SurvGrowth</td><td>-2.02     </td><td>1.17      </td><td>10.10     </td><td>6.69      </td><td>23.37     </td><td>2012-14   </td><td> 6.95     </td><td>0.15      </td><td>2755.86   </td><td>212.80    </td><td>4810.04   </td><td>2745.76   </td></tr>\n",
       "\t<tr><td>NEM       </td><td>Growth    </td><td>-2.04     </td><td>1.17      </td><td>10.01     </td><td>6.66      </td><td>23.13     </td><td>2012-14   </td><td> 6.95     </td><td>0.15      </td><td>2755.86   </td><td>212.80    </td><td>4810.04   </td><td>2745.85   </td></tr>\n",
       "\t<tr><td>NEM       </td><td>no        </td><td>-2.08     </td><td>1.26      </td><td> 9.95     </td><td>6.72      </td><td>22.82     </td><td>2012-14   </td><td> 6.95     </td><td>0.15      </td><td>2755.86   </td><td>212.80    </td><td>4810.04   </td><td>2745.91   </td></tr>\n",
       "\t<tr><td>SWM       </td><td>NA        </td><td>   NA     </td><td>  NA      </td><td>   NA     </td><td>  NA      </td><td>   NA     </td><td>2012-18   </td><td>-2.60     </td><td>1.58      </td><td>   8.57   </td><td>  6.87    </td><td>  18.32   </td><td>     NA   </td></tr>\n",
       "\t<tr><td>NEM       </td><td>NA        </td><td>   NA     </td><td>  NA      </td><td>   NA     </td><td>  NA      </td><td>   NA     </td><td>2012-18   </td><td>-0.89     </td><td>0.56      </td><td>   9.45   </td><td>  4.82    </td><td>  23.60   </td><td>     NA   </td></tr>\n",
       "</tbody>\n",
       "</table>\n"
      ],
      "text/latex": [
       "\\begin{tabular}{r|llllllllllllll}\n",
       " Season & Adj & AvgSimK & AvgSimTheta & AvgSimMDD & AvgSimMed & AvgSimDist90 & TimeFrame & GenK & GenTheta & GenMDD & GenMed & GenDist90 & MDDDiffGenVSim\\\\\n",
       "\\hline\n",
       "\t SWM        & no         & -2.45      & 1.39       &  8.58      & 6.57       & 18.77      & 2012-14    & -1.62      & 0.76       &    8.34    &   5.10     &   20.07    &    0.24   \\\\\n",
       "\t SWM        & SurvGrowth & -2.44      & 1.37       &  8.63      & 6.59       & 18.94      & 2012-14    & -1.62      & 0.76       &    8.34    &   5.10     &   20.07    &    0.29   \\\\\n",
       "\t SWM        & Growth     & -2.40      & 1.32       &  8.66      & 6.52       & 19.13      & 2012-14    & -1.62      & 0.76       &    8.34    &   5.10     &   20.07    &    0.32   \\\\\n",
       "\t NEM        & SurvGrowth & -2.02      & 1.17       & 10.10      & 6.69       & 23.37      & 2012-14    &  6.95      & 0.15       & 2755.86    & 212.80     & 4810.04    & 2745.76   \\\\\n",
       "\t NEM        & Growth     & -2.04      & 1.17       & 10.01      & 6.66       & 23.13      & 2012-14    &  6.95      & 0.15       & 2755.86    & 212.80     & 4810.04    & 2745.85   \\\\\n",
       "\t NEM        & no         & -2.08      & 1.26       &  9.95      & 6.72       & 22.82      & 2012-14    &  6.95      & 0.15       & 2755.86    & 212.80     & 4810.04    & 2745.91   \\\\\n",
       "\t SWM        & NA         &    NA      &   NA       &    NA      &   NA       &    NA      & 2012-18    & -2.60      & 1.58       &    8.57    &   6.87     &   18.32    &      NA   \\\\\n",
       "\t NEM        & NA         &    NA      &   NA       &    NA      &   NA       &    NA      & 2012-18    & -0.89      & 0.56       &    9.45    &   4.82     &   23.60    &      NA   \\\\\n",
       "\\end{tabular}\n"
      ],
      "text/markdown": [
       "\n",
       "| Season | Adj | AvgSimK | AvgSimTheta | AvgSimMDD | AvgSimMed | AvgSimDist90 | TimeFrame | GenK | GenTheta | GenMDD | GenMed | GenDist90 | MDDDiffGenVSim |\n",
       "|---|---|---|---|---|---|---|---|---|---|---|---|---|---|\n",
       "| SWM        | no         | -2.45      | 1.39       |  8.58      | 6.57       | 18.77      | 2012-14    | -1.62      | 0.76       |    8.34    |   5.10     |   20.07    |    0.24    |\n",
       "| SWM        | SurvGrowth | -2.44      | 1.37       |  8.63      | 6.59       | 18.94      | 2012-14    | -1.62      | 0.76       |    8.34    |   5.10     |   20.07    |    0.29    |\n",
       "| SWM        | Growth     | -2.40      | 1.32       |  8.66      | 6.52       | 19.13      | 2012-14    | -1.62      | 0.76       |    8.34    |   5.10     |   20.07    |    0.32    |\n",
       "| NEM        | SurvGrowth | -2.02      | 1.17       | 10.10      | 6.69       | 23.37      | 2012-14    |  6.95      | 0.15       | 2755.86    | 212.80     | 4810.04    | 2745.76    |\n",
       "| NEM        | Growth     | -2.04      | 1.17       | 10.01      | 6.66       | 23.13      | 2012-14    |  6.95      | 0.15       | 2755.86    | 212.80     | 4810.04    | 2745.85    |\n",
       "| NEM        | no         | -2.08      | 1.26       |  9.95      | 6.72       | 22.82      | 2012-14    |  6.95      | 0.15       | 2755.86    | 212.80     | 4810.04    | 2745.91    |\n",
       "| SWM        | NA         |    NA      |   NA       |    NA      |   NA       |    NA      | 2012-18    | -2.60      | 1.58       |    8.57    |   6.87     |   18.32    |      NA    |\n",
       "| NEM        | NA         |    NA      |   NA       |    NA      |   NA       |    NA      | 2012-18    | -0.89      | 0.56       |    9.45    |   4.82     |   23.60    |      NA    |\n",
       "\n"
      ],
      "text/plain": [
       "  Season Adj        AvgSimK AvgSimTheta AvgSimMDD AvgSimMed AvgSimDist90\n",
       "1 SWM    no         -2.45   1.39         8.58     6.57      18.77       \n",
       "2 SWM    SurvGrowth -2.44   1.37         8.63     6.59      18.94       \n",
       "3 SWM    Growth     -2.40   1.32         8.66     6.52      19.13       \n",
       "4 NEM    SurvGrowth -2.02   1.17        10.10     6.69      23.37       \n",
       "5 NEM    Growth     -2.04   1.17        10.01     6.66      23.13       \n",
       "6 NEM    no         -2.08   1.26         9.95     6.72      22.82       \n",
       "7 SWM    NA            NA     NA           NA       NA         NA       \n",
       "8 NEM    NA            NA     NA           NA       NA         NA       \n",
       "  TimeFrame GenK  GenTheta GenMDD  GenMed GenDist90 MDDDiffGenVSim\n",
       "1 2012-14   -1.62 0.76        8.34   5.10   20.07      0.24       \n",
       "2 2012-14   -1.62 0.76        8.34   5.10   20.07      0.29       \n",
       "3 2012-14   -1.62 0.76        8.34   5.10   20.07      0.32       \n",
       "4 2012-14    6.95 0.15     2755.86 212.80 4810.04   2745.76       \n",
       "5 2012-14    6.95 0.15     2755.86 212.80 4810.04   2745.85       \n",
       "6 2012-14    6.95 0.15     2755.86 212.80 4810.04   2745.91       \n",
       "7 2012-18   -2.60 1.58        8.57   6.87   18.32        NA       \n",
       "8 2012-18   -0.89 0.56        9.45   4.82   23.60        NA       "
      ]
     },
     "metadata": {},
     "output_type": "display_data"
    }
   ],
   "source": [
    "SimPlusGenFitsSeasons <- right_join(AvgSeasonalKernels, GenSeasonalKernels, by=c(\"Season\", \"TimeFrame\"))%>%\n",
    "    mutate(MDDDiffGenVSim=abs(GenMDD-AvgSimMDD)) %>%\n",
    "    arrange(MDDDiffGenVSim) %>%\n",
    "    mutate(GenK=round(GenK, digits=2)) %>%\n",
    "    mutate(GenTheta=round(GenTheta, digits=2)) %>%\n",
    "    mutate(GenMDD=round(GenMDD, digits=2))\n",
    "\n",
    "SimPlusGenFitsSeasons %>%\n",
    "    group_by(Season) %>%\n",
    "    filter(MDDDiffGenVSim==min(MDDDiffGenVSim, na.rm=T))\n",
    "\n",
    "SimPlusGenFitsSeasons\n",
    "\n",
    "#write.csv(SimPlusGenFits, file=\"~/oceanography/script_output/KernelFits/SimPlusGenKernelFitsSeasons.csv\", row.names=F)"
   ]
  },
  {
   "cell_type": "code",
   "execution_count": null,
   "metadata": {},
   "outputs": [],
   "source": []
  },
  {
   "cell_type": "code",
   "execution_count": 193,
   "metadata": {},
   "outputs": [
    {
     "name": "stderr",
     "output_type": "stream",
     "text": [
      "Warning message:\n",
      "“Removed 2 rows containing missing values (geom_point).”Saving 6.67 x 6.67 in image\n",
      "Warning message:\n",
      "“Removed 2 rows containing missing values (geom_point).”"
     ]
    },
    {
     "data": {
      "image/png": "[encoded data removed]",
      "text/plain": [
       "plot without title"
      ]
     },
     "metadata": {},
     "output_type": "display_data"
    }
   ],
   "source": [
    "cbbPalette <- c(\"#000000\", \"#E69F00\", \"#56B4E9\", \"#009E73\", \"#F0E442\", \"#0072B2\", \"#D55E00\", \"#CC79A7\")\n",
    "cbbPalette_rev <- rev(cbbPalette)\n",
    "\n",
    "#CombinedSeasons$Season <- factor(CombinedSeasons$Season, levels=c(\"2012\", \"2013\", \"2014\", \"2012-14\"))\n",
    "#SimPlusGenFitsSeasons$Season <- factor(SimPlusGenFitsSeasons$Season, levels=c(\"2012\", \"2013\", \"2014\", \"2012-14\"))\n",
    "\n",
    "mdd_violin <- ggplot(data=CombinedSeasons, aes(x=Season, y=mdd, color=Season, fill=Season), alpha=0.5) +\n",
    "    geom_violin() +\n",
    "    geom_point(data=SimPlusGenFitsSeasons, aes(x=Season, y=AvgSimMDD, shape=Adj), fill=NA, color=\"black\", size=3) + \n",
    "    geom_point(data=SimPlusGenFitsSeasons, aes(x=Season, y=GenMDD), fill=\"red\", color=\"red\") + # with all fits\n",
    "    #geom_point(data=kernels %>% filter(Year %in% c(\"2012\", \"2013\", \"2014\", \"all\")), aes(x=Year, y=MeanDispDist), fill=\"black\",color=\"darkgray\", shape=24) + #genetic estimates\n",
    "    coord_flip() +\n",
    "    scale_shape_discrete(name = \"Adjustment\", labels = c(\"only >3.5 cm\", \"none\", \"only >3.5 cm and survival weighting\"))+\n",
    "    #scale_x_continuous(limits = c(0, 100), expand=c(0,0)) +\n",
    "    #scale_y_continuous(limits = c(0, 30), expand = c(0,0))+\n",
    "    theme(panel.grid.major = element_blank(),\n",
    "    plot.margin=unit(c(0.2,0.2,0.2,0.2),\"cm\"),\n",
    "    panel.grid.minor = element_blank(), \n",
    "    panel.background = element_blank(), #,\n",
    "    axis.line = element_line(colour = \"black\")) +\n",
    "    xlab(\"Year\") + \n",
    "    ylab(\"Mean dispersal distance (km)\") +\n",
    "    theme(axis.text.x = element_text(size=8, color=\"black\", family=\"Helvetica\"),#15 for publication, 20 for presentation #element_text(size=15, color=\"black\", family=\"Helvetica\"),\n",
    "    axis.text.y =  element_text(size=8, color=\"black\", family=\"Helvetica\"),\n",
    "    axis.title.y =  element_text(size=10, color=\"black\", family=\"Helvetica\"), \n",
    "    axis.title.x =  element_text(size=10, color=\"black\", family=\"Helvetica\")) + \n",
    "    scale_colour_manual(values=cbbPalette_rev)+\n",
    "    scale_fill_manual(values=cbbPalette_rev)\n",
    "    #scale_y_continuous(breaks = 1:2000, labels = c(1:50,\"break\",1000:2000))\n",
    "mdd_violin\n",
    "ggplot2::ggsave(filename=\"SimMeanDispDistPlusGenPointsSeasons.png\",  plot=mdd_violin, path=\"~/oceanography/script_output/KernelFits/Plots/\")\n"
   ]
  },
  {
   "cell_type": "code",
   "execution_count": null,
   "metadata": {},
   "outputs": [],
   "source": []
  },
  {
   "cell_type": "code",
   "execution_count": null,
   "metadata": {},
   "outputs": [],
   "source": []
  },
  {
   "cell_type": "code",
   "execution_count": null,
   "metadata": {},
   "outputs": [],
   "source": []
  },
  {
   "cell_type": "code",
   "execution_count": null,
   "metadata": {},
   "outputs": [],
   "source": []
  },
  {
   "cell_type": "code",
   "execution_count": null,
   "metadata": {},
   "outputs": [],
   "source": []
  },
  {
   "cell_type": "code",
   "execution_count": 192,
   "metadata": {
    "scrolled": true
   },
   "outputs": [
    {
     "ename": "ERROR",
     "evalue": "Error in ggplot(data = SimCombinedSummary, aes(x = year, y = mdd, color = year, : object 'SimCombinedSummary' not found\n",
     "output_type": "error",
     "traceback": [
      "Error in ggplot(data = SimCombinedSummary, aes(x = year, y = mdd, color = year, : object 'SimCombinedSummary' not found\nTraceback:\n",
      "1. ggplot(data = SimCombinedSummary, aes(x = year, y = mdd, color = year, \n .     fill = year), alpha = 0.5)"
     ]
    }
   ],
   "source": [
    "cbbPalette <- c(\"#000000\", \"#E69F00\", \"#56B4E9\", \"#009E73\", \"#F0E442\", \"#0072B2\", \"#D55E00\", \"#CC79A7\")\n",
    "cbbPalette_rev <- rev(cbbPalette)\n",
    "\n",
    "mdd_violin <- ggplot(data=SimCombinedSummary, aes(x=year, y=mdd, color=year, fill=year), alpha=0.5) +\n",
    "    geom_violin() +\n",
    "    #geom_point(data=AverageFits2, aes(x=year, y=mdd), fill=\"snow\",color=\"darkgray\", shape=21) + #without borderline fits\n",
    "    geom_point(data=AverageFits, aes(x=year, y=mdd), fill=\"black \",color=\"darkgray\", shape=21) + # with all fits\n",
    "    geom_point(data=kernels %>% filter(Year %in% c(\"2012\", \"2013\", \"2014\", \"all\")), aes(x=Year, y=MeanDispDist), fill=\"black\",color=\"darkgray\", shape=24) + #genetic estimates\n",
    "    coord_flip() +\n",
    "    #scale_x_continuous(limits = c(0, 100), expand=c(0,0)) +\n",
    "    scale_y_continuous(limits = c(0, 83), expand = c(0,0))+\n",
    "    theme(panel.grid.major = element_blank(),\n",
    "    plot.margin=unit(c(0.2,0.2,0.2,0.2),\"cm\"),\n",
    "    panel.grid.minor = element_blank(), \n",
    "    panel.background = element_blank(), #,\n",
    "    axis.line = element_line(colour = \"black\")) +\n",
    "    xlab(\"Year\") + \n",
    "    ylab(\"Mean dispersal distance (km)\") +\n",
    "    theme(axis.text.x = element_text(size=8, color=\"black\", family=\"Helvetica\"),#15 for publication, 20 for presentation #element_text(size=15, color=\"black\", family=\"Helvetica\"),\n",
    "    axis.text.y =  element_text(size=8, color=\"black\", family=\"Helvetica\"),\n",
    "    axis.title.y =  element_text(size=10, color=\"black\", family=\"Helvetica\"), \n",
    "    axis.title.x =  element_text(size=10, color=\"black\", family=\"Helvetica\"),    \n",
    "    legend.position = \"none\") + \n",
    "    scale_colour_manual(values=cbbPalette_rev)+\n",
    "    scale_fill_manual(values=cbbPalette_rev)\n",
    "    #scale_y_continuous(breaks = 1:2000, labels = c(1:50,\"break\",1000:2000))\n",
    "mdd_violin\n",
    "ggplot2::ggsave(filename=\"SimMeanDispDistPlusGenPoints.png\",  plot=mdd_violin, path=\"~/oceanography/script_output/KernelFits/Plots/\")\n"
   ]
  },
  {
   "cell_type": "code",
   "execution_count": null,
   "metadata": {},
   "outputs": [],
   "source": []
  },
  {
   "cell_type": "code",
   "execution_count": 115,
   "metadata": {},
   "outputs": [
    {
     "data": {
      "text/html": [
       "<table>\n",
       "<thead><tr><th scope=col>year</th><th scope=col>SimK</th><th scope=col>SimTheta</th><th scope=col>SimMDD</th><th scope=col>SimKurtosis</th><th scope=col>GenK</th><th scope=col>GenTheta</th><th scope=col>GenMDD</th><th scope=col>GenMedDispDist</th></tr></thead>\n",
       "<tbody>\n",
       "\t<tr><td>2012     </td><td>-1.828326</td><td>1.250510 </td><td>10.127328</td><td>15.518027</td><td>-2.36    </td><td>1.03     </td><td>10.165094</td><td> 7.13    </td></tr>\n",
       "\t<tr><td>2013     </td><td>-1.242150</td><td>0.804757 </td><td> 8.091848</td><td>13.967938</td><td> 4.04    </td><td>0.22     </td><td>69.586280</td><td>12.20    </td></tr>\n",
       "\t<tr><td>2014     </td><td>-1.926596</td><td>1.243059 </td><td>26.376964</td><td>86.415760</td><td> 0.49    </td><td>0.38     </td><td>15.037515</td><td> 5.53    </td></tr>\n",
       "\t<tr><td>all      </td><td>-1.919426</td><td>1.014670 </td><td>10.219857</td><td> 8.635482</td><td>-2.51    </td><td>1.49     </td><td> 8.153016</td><td> 6.44    </td></tr>\n",
       "</tbody>\n",
       "</table>\n"
      ],
      "text/latex": [
       "\\begin{tabular}{r|lllllllll}\n",
       " year & SimK & SimTheta & SimMDD & SimKurtosis & GenK & GenTheta & GenMDD & GenMedDispDist\\\\\n",
       "\\hline\n",
       "\t 2012      & -1.828326 & 1.250510  & 10.127328 & 15.518027 & -2.36     & 1.03      & 10.165094 &  7.13    \\\\\n",
       "\t 2013      & -1.242150 & 0.804757  &  8.091848 & 13.967938 &  4.04     & 0.22      & 69.586280 & 12.20    \\\\\n",
       "\t 2014      & -1.926596 & 1.243059  & 26.376964 & 86.415760 &  0.49     & 0.38      & 15.037515 &  5.53    \\\\\n",
       "\t all       & -1.919426 & 1.014670  & 10.219857 &  8.635482 & -2.51     & 1.49      &  8.153016 &  6.44    \\\\\n",
       "\\end{tabular}\n"
      ],
      "text/markdown": [
       "\n",
       "| year | SimK | SimTheta | SimMDD | SimKurtosis | GenK | GenTheta | GenMDD | GenMedDispDist |\n",
       "|---|---|---|---|---|---|---|---|---|\n",
       "| 2012      | -1.828326 | 1.250510  | 10.127328 | 15.518027 | -2.36     | 1.03      | 10.165094 |  7.13     |\n",
       "| 2013      | -1.242150 | 0.804757  |  8.091848 | 13.967938 |  4.04     | 0.22      | 69.586280 | 12.20     |\n",
       "| 2014      | -1.926596 | 1.243059  | 26.376964 | 86.415760 |  0.49     | 0.38      | 15.037515 |  5.53     |\n",
       "| all       | -1.919426 | 1.014670  | 10.219857 |  8.635482 | -2.51     | 1.49      |  8.153016 |  6.44     |\n",
       "\n"
      ],
      "text/plain": [
       "  year SimK      SimTheta SimMDD    SimKurtosis GenK  GenTheta GenMDD   \n",
       "1 2012 -1.828326 1.250510 10.127328 15.518027   -2.36 1.03     10.165094\n",
       "2 2013 -1.242150 0.804757  8.091848 13.967938    4.04 0.22     69.586280\n",
       "3 2014 -1.926596 1.243059 26.376964 86.415760    0.49 0.38     15.037515\n",
       "4 all  -1.919426 1.014670 10.219857  8.635482   -2.51 1.49      8.153016\n",
       "  GenMedDispDist\n",
       "1  7.13         \n",
       "2 12.20         \n",
       "3  5.53         \n",
       "4  6.44         "
      ]
     },
     "metadata": {},
     "output_type": "display_data"
    }
   ],
   "source": [
    "(SimPlusGenFits)"
   ]
  },
  {
   "cell_type": "code",
   "execution_count": 95,
   "metadata": {},
   "outputs": [
    {
     "data": {
      "image/png": "[encoded data removed]",
      "text/plain": [
       "plot without title"
      ]
     },
     "metadata": {},
     "output_type": "display_data"
    }
   ],
   "source": [
    "plot(SimPlusGenFits$SimMDD~SimPlusGenFits$MeanDispDist)"
   ]
  },
  {
   "cell_type": "code",
   "execution_count": 60,
   "metadata": {},
   "outputs": [
    {
     "name": "stderr",
     "output_type": "stream",
     "text": [
      "Warning message in min(x):\n",
      "“no non-missing arguments to min; returning Inf”Warning message in max(x):\n",
      "“no non-missing arguments to max; returning -Inf”"
     ]
    },
    {
     "ename": "ERROR",
     "evalue": "Error in hist.default(MDDAllYear$mdd, breaks = 100, main = NULL, xlab = \"Mean dispersal distance (km)\"): character(0)\n",
     "output_type": "error",
     "traceback": [
      "Error in hist.default(MDDAllYear$mdd, breaks = 100, main = NULL, xlab = \"Mean dispersal distance (km)\"): character(0)\nTraceback:\n",
      "1. hist(MDDAllYear$mdd, breaks = 100, main = NULL, xlab = \"Mean dispersal distance (km)\")",
      "2. hist.default(MDDAllYear$mdd, breaks = 100, main = NULL, xlab = \"Mean dispersal distance (km)\")",
      "3. stop(gettextf(\"hist.default: pretty() error, breaks=%s\", format(breaks)), \n .     domain = NA)"
     ]
    }
   ],
   "source": [
    "MDDAllYear <- CombinedSims %>% \n",
    "    filter(year==\"all\")\n",
    "#pdf(\"~/oceanography/script_output/KernelFits/Plots/MeanDispDistHist2012-14.pdf\")\n",
    "hist(MDDAllYear$mdd, breaks=100, main=NULL, xlab=\"Mean dispersal distance (km)\")\n",
    "#dev.off()\n",
    "summary(MDDAllYear$mdd)"
   ]
  },
  {
   "cell_type": "code",
   "execution_count": 97,
   "metadata": {},
   "outputs": [
    {
     "data": {
      "text/plain": [
       "\n",
       "\tPearson's product-moment correlation\n",
       "\n",
       "data:  SimPlusGenFits$SimMDD and SimPlusGenFits$MeanDispDist\n",
       "t = -0.53384, df = 2, p-value = 0.6468\n",
       "alternative hypothesis: true correlation is not equal to 0\n",
       "95 percent confidence interval:\n",
       " -0.9812079  0.9202897\n",
       "sample estimates:\n",
       "       cor \n",
       "-0.3531582 \n"
      ]
     },
     "metadata": {},
     "output_type": "display_data"
    },
    {
     "data": {
      "text/plain": [
       "\n",
       "\tPearson's product-moment correlation\n",
       "\n",
       "data:  SimPlusGenFits$SimTheta and SimPlusGenFits$GenTheta\n",
       "t = 0.32913, df = 2, p-value = 0.7733\n",
       "alternative hypothesis: true correlation is not equal to 0\n",
       "95 percent confidence interval:\n",
       " -0.9389710  0.9752907\n",
       "sample estimates:\n",
       "      cor \n",
       "0.2266754 \n"
      ]
     },
     "metadata": {},
     "output_type": "display_data"
    }
   ],
   "source": [
    "#test for correlations\n",
    "cor.test(SimPlusGenFits$SimMDD, SimPlusGenFits$MeanDispDist,  method = \"pearson\")\n",
    "cor.test(SimPlusGenFits$SimTheta, SimPlusGenFits$GenTheta,  method = \"pearson\")\n"
   ]
  },
  {
   "cell_type": "code",
   "execution_count": 17,
   "metadata": {},
   "outputs": [],
   "source": [
    "#seasons\n",
    "SimulatedKernelsNEM <-  read.csv(file=\"~/oceanography/script_output/KernelFits/100SimulatedKernelsNEM.csv\", header=T)\n",
    "SimulatedKernelsSWM <-  read.csv(file=\"~/oceanography/script_output/KernelFits/100SimulatedKernelsSWM.csv\", header=T)\n",
    "CombinedSeasons <- bind_rows(SimulatedKernelsNEM, SimulatedKernelsSWM) %>%\n",
    "    select(-iteration)"
   ]
  },
  {
   "cell_type": "code",
   "execution_count": 24,
   "metadata": {},
   "outputs": [
    {
     "data": {
      "text/html": [
       "<table>\n",
       "<thead><tr><th scope=col>Season</th><th scope=col>RecruitSizeAtSampling</th><th scope=col>best_k</th><th scope=col>best_theta</th><th scope=col>k_CI95_lower</th><th scope=col>k_CI95_upper</th><th scope=col>theta_CI95_lower</th><th scope=col>theta_CI95_upper</th><th scope=col>MeanDispersalDistance</th><th scope=col>MeanDispDist_CI95_lower</th><th scope=col>MeanDispDist_CI95_upper</th><th scope=col>MedianDispersalDistance</th><th scope=col>MedianDispDist_CI95_lower</th><th scope=col>MedianDispDist_CI95_upper</th><th scope=col>Dist90Retained</th></tr></thead>\n",
       "<tbody>\n",
       "\t<tr><td>SWM                                               </td><td>&gt; 4.5 cm                                       </td><td>-2.60                                             </td><td>1.58                                              </td><td>-2.63                                             </td><td>-2.47                                             </td><td>1.34                                              </td><td>1.59                                              </td><td>8.574871                                          </td><td>7.132250                                          </td><td><span style=white-space:pre-wrap>  10.39623</span></td><td>6.87                                              </td><td>4.93                                              </td><td><span style=white-space:pre-wrap>  9.28</span>    </td><td>18.32                                             </td></tr>\n",
       "\t<tr><td>NEM        </td><td>&lt; 3.5 cm</td><td>-0.89      </td><td>0.56       </td><td>-1.46      </td><td>-0.74      </td><td>0.54       </td><td>0.61       </td><td>9.446898   </td><td>6.014163   </td><td>4272.46841 </td><td>4.82       </td><td>3.24       </td><td>323.37     </td><td>23.60      </td></tr>\n",
       "</tbody>\n",
       "</table>\n"
      ],
      "text/latex": [
       "\\begin{tabular}{r|lllllllllllllll}\n",
       " Season & RecruitSizeAtSampling & best\\_k & best\\_theta & k\\_CI95\\_lower & k\\_CI95\\_upper & theta\\_CI95\\_lower & theta\\_CI95\\_upper & MeanDispersalDistance & MeanDispDist\\_CI95\\_lower & MeanDispDist\\_CI95\\_upper & MedianDispersalDistance & MedianDispDist\\_CI95\\_lower & MedianDispDist\\_CI95\\_upper & Dist90Retained\\\\\n",
       "\\hline\n",
       "\t SWM        & > 4.5 cm   & -2.60      & 1.58       & -2.63      & -2.47      & 1.34       & 1.59       & 8.574871   & 7.132250   &   10.39623 & 6.87       & 4.93       &   9.28     & 18.32     \\\\\n",
       "\t NEM        & < 3.5 cm   & -0.89      & 0.56       & -1.46      & -0.74      & 0.54       & 0.61       & 9.446898   & 6.014163   & 4272.46841 & 4.82       & 3.24       & 323.37     & 23.60     \\\\\n",
       "\\end{tabular}\n"
      ],
      "text/markdown": [
       "\n",
       "| Season | RecruitSizeAtSampling | best_k | best_theta | k_CI95_lower | k_CI95_upper | theta_CI95_lower | theta_CI95_upper | MeanDispersalDistance | MeanDispDist_CI95_lower | MeanDispDist_CI95_upper | MedianDispersalDistance | MedianDispDist_CI95_lower | MedianDispDist_CI95_upper | Dist90Retained |\n",
       "|---|---|---|---|---|---|---|---|---|---|---|---|---|---|---|\n",
       "| SWM        | > 4.5 cm   | -2.60      | 1.58       | -2.63      | -2.47      | 1.34       | 1.59       | 8.574871   | 7.132250   |   10.39623 | 6.87       | 4.93       |   9.28     | 18.32      |\n",
       "| NEM        | < 3.5 cm   | -0.89      | 0.56       | -1.46      | -0.74      | 0.54       | 0.61       | 9.446898   | 6.014163   | 4272.46841 | 4.82       | 3.24       | 323.37     | 23.60      |\n",
       "\n"
      ],
      "text/plain": [
       "  Season RecruitSizeAtSampling best_k best_theta k_CI95_lower k_CI95_upper\n",
       "1 SWM    > 4.5 cm              -2.60  1.58       -2.63        -2.47       \n",
       "2 NEM    < 3.5 cm              -0.89  0.56       -1.46        -0.74       \n",
       "  theta_CI95_lower theta_CI95_upper MeanDispersalDistance\n",
       "1 1.34             1.59             8.574871             \n",
       "2 0.54             0.61             9.446898             \n",
       "  MeanDispDist_CI95_lower MeanDispDist_CI95_upper MedianDispersalDistance\n",
       "1 7.132250                  10.39623              6.87                   \n",
       "2 6.014163                4272.46841              4.82                   \n",
       "  MedianDispDist_CI95_lower MedianDispDist_CI95_upper Dist90Retained\n",
       "1 4.93                        9.28                    18.32         \n",
       "2 3.24                      323.37                    23.60         "
      ]
     },
     "metadata": {},
     "output_type": "display_data"
    }
   ],
   "source": [
    "SeasonalKernels <- read.csv(file=\"~/parentage/kernel_fitting/1340_loci/final_results/tables/RecruitSizeAsSeasonlity_summary.csv\", header=T)\n",
    "head(SeasonalKernels)"
   ]
  },
  {
   "cell_type": "code",
   "execution_count": null,
   "metadata": {},
   "outputs": [],
   "source": []
  }
 ],
 "metadata": {
  "kernelspec": {
   "display_name": "R",
   "language": "R",
   "name": "ir"
  },
  "language_info": {
   "codemirror_mode": "r",
   "file_extension": ".r",
   "mimetype": "text/x-r-source",
   "name": "R",
   "pygments_lexer": "r",
   "version": "3.6.1"
  }
 },
 "nbformat": 4,
 "nbformat_minor": 4
}
