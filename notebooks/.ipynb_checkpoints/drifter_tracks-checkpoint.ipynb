{
 "cells": [
  {
   "cell_type": "code",
   "execution_count": 1,
   "metadata": {},
   "outputs": [],
   "source": [
    "Packages <- c(\"dplyr\",\"sjPlot\", \"BSDA\", \"DescTools\",\"ggpubr\", \"gridExtra\", \"cowplot\",\"pracma\",\"ggplot2\", \"fields\", \"stringr\", \"reshape2\", \"splitstackshape\", \"readr\",  \"dplyr\", \"tidyr\", \"stringr\", \"tidyverse\", \"tibble\", \"ggfortify\", \"lubridate\", \"RColorBrewer\", \"vegan\", \"vcfR\")\n",
    "\n",
    "invisible(suppressPackageStartupMessages(lapply(Packages, library, character.only = TRUE)))\n",
    "\n",
    "setwd('/local/home/katrinac/parentage/kernel_fitting/')\n",
    "\n",
    "source(\"~/scripts/conleyte.R\")\n",
    "source(\"~/scripts/conlabor.R\")\n",
    "\n",
    "source(\"~/parentage/scripts/ll_kt.5_final.R\")\n",
    "source(\"~/parentage/scripts/ll_kt1_final.R\")\n",
    "source(\"~/parentage/scripts/ll_kt2_final.R\")\n",
    "source(\"~/parentage/scripts/ll_kt3_final.R\")\n",
    "source(\"~/parentage/scripts/ll_kt5_TEST.R\")\n",
    "source(\"~/parentage/scripts/ll_kt_both_final.R\")\n",
    "\n",
    "\n",
    "\n",
    "labor <- conlabor()\n",
    "leyte <- conleyte()\n",
    "\n",
    "\"%!in%\" <- function(x,table) match(x,table, nomatch = 0) == 0"
   ]
  },
  {
   "cell_type": "code",
   "execution_count": null,
   "metadata": {},
   "outputs": [],
   "source": []
  }
 ],
 "metadata": {
  "kernelspec": {
   "display_name": "R",
   "language": "R",
   "name": "ir"
  },
  "language_info": {
   "codemirror_mode": "r",
   "file_extension": ".r",
   "mimetype": "text/x-r-source",
   "name": "R",
   "pygments_lexer": "r",
   "version": "3.4.3"
  }
 },
 "nbformat": 4,
 "nbformat_minor": 2
}
