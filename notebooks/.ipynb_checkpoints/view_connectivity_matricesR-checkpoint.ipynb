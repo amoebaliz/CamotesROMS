{
 "cells": [
  {
   "cell_type": "markdown",
   "metadata": {},
   "source": [
    "## View the connectivity matrices in R to check for Liz to move on to more particles, longer releases"
   ]
  },
  {
   "cell_type": "code",
   "execution_count": null,
   "metadata": {},
   "outputs": [],
   "source": [
    "Packages <- c(\"dplyr\", \"chron\", \"lattice\", \"ggplot2\",\"rdist\", \"fields\", \"stringr\", \"reshape2\", \"splitstackshape\", \"readr\", \"adegenet\", \"pegas\", \"poppr\", \"ade4\", \"dplyr\", \"tidyr\", \"stringr\", \"tidyverse\", \"tibble\", \"ggfortify\", \"lubridate\", \"RColorBrewer\", \"vegan\", \"vcfR\")\n",
    "\n",
    "invisible(suppressPackageStartupMessages(lapply(Packages, library, character.only = TRUE)))\n",
    "\n",
    "setwd('/local/home/katrinac/oceanography')\n",
    "\n",
    "source(\"~/dataprep/conleyte.R\")\n",
    "source(\"~/dataprep/conlabor.R\")\n",
    "labor <- conlabor()\n",
    "leyte <- conleyte()\n"
   ]
  },
  {
   "cell_type": "code",
   "execution_count": null,
   "metadata": {},
   "outputs": [],
   "source": [
    "ncin <- nc_open(ncfname)"
   ]
  },
  {
   "cell_type": "code",
   "execution_count": null,
   "metadata": {},
   "outputs": [],
   "source": []
  },
  {
   "cell_type": "code",
   "execution_count": null,
   "metadata": {},
   "outputs": [],
   "source": []
  },
  {
   "cell_type": "code",
   "execution_count": null,
   "metadata": {},
   "outputs": [],
   "source": []
  }
 ],
 "metadata": {
  "kernelspec": {
   "display_name": "R",
   "language": "R",
   "name": "ir"
  },
  "language_info": {
   "codemirror_mode": "r",
   "file_extension": ".r",
   "mimetype": "text/x-r-source",
   "name": "R",
   "pygments_lexer": "r",
   "version": "3.4.3"
  }
 },
 "nbformat": 4,
 "nbformat_minor": 2
}
