{
 "cells": [
  {
   "cell_type": "code",
   "execution_count": 1,
   "metadata": {},
   "outputs": [],
   "source": [
    "Packages <- c(\"dplyr\",\"broom\",\"geosphere\",\"swfscMisc\", \"geosphere\",\"MASS\", \"fields\",\"lattice\", \"ggplot2\", \"bbmle\", \"ncdf4\",\"dplyr\",\"tidyr\", \"stringr\", \"tidyverse\", \"raster\", \"lubridate\", \"RColorBrewer\")\n",
    "\n",
    "invisible(suppressPackageStartupMessages(lapply(Packages, library, character.only = TRUE)))\n",
    "\n",
    "setwd('/local/home/katrinac/oceanography')\n",
    "\"%!in%\" <- function(x,table) match(x,table, nomatch = 0) == 0\n",
    "source(\"~/parentage/kernel_fitting/1340_loci/functions/ll_kt_both_bbmle.R\")\n"
   ]
  },
  {
   "cell_type": "code",
   "execution_count": null,
   "metadata": {},
   "outputs": [],
   "source": [
    "#read in data and add site names\n",
    "conn_mat_all <- brick(\"~/oceanography/ROMS/data/Camotes_Sea_Connectivity_Matrices_08_day_PLD_integer.nc\", values=T) \n",
    "#read in the data for the number of grid cells per site (site ids are North- South, as in, Palanas is number 1)\n",
    "sites_n <- read.table(\"~/oceanography/ROMS/input//camotes_vertices_sites_results_water_only.txt\", sep=\" \", header=T, stringsAsFactors = F)\n",
    "#the order of sites in the connectivity matrix\n",
    "sites_order <- read.table(\"~/oceanography/ROMS/input/sites_order_as_in_roms.txt\", sep=\" \", header=T, stringsAsFactors = F)\n",
    "\n",
    "sites <- as.character(c(\"Palanas\", \"Wangag\", \"Magbangon\", \"Cabatoan\", \"Caridad Cemetery\", \"Caridad Proper\", \"Hicgop\", \"Hicgop South\", \"Sitio Tugas\", \"Elementary School\", \"Sitio Lonas\", \"San Agustin\", \"Poroc San Flower\", \"Poroc Rose\", \"Pangasugan\", \"Visca\", \"Gabas\", \"Tamakin Dacot\", \"Haina\", \"Sitio Baybayon\", \"SF1\", \"SF2\", \"SF3\", \"SF4\", \"SF5\", \"SF6\", \"CAI\", \"Other\"))\n",
    "site_ind <- c(seq(1,28, 1))\n",
    "site_id <- as.data.frame(cbind(sites, site_ind), stringsAsFactors = F)\n",
    "site_id$site_ind <- as.numeric(site_id$site_ind)\n"
   ]
  },
  {
   "cell_type": "code",
   "execution_count": 2,
   "metadata": {},
   "outputs": [
    {
     "data": {
      "text/html": [
       "<ol class=list-inline>\n",
       "\t<li>930</li>\n",
       "\t<li>2</li>\n",
       "</ol>\n"
      ],
      "text/latex": [
       "\\begin{enumerate*}\n",
       "\\item 930\n",
       "\\item 2\n",
       "\\end{enumerate*}\n"
      ],
      "text/markdown": [
       "1. 930\n",
       "2. 2\n",
       "\n",
       "\n"
      ],
      "text/plain": [
       "[1] 930   2"
      ]
     },
     "metadata": {},
     "output_type": "display_data"
    }
   ],
   "source": [
    "#add in dates (seasons here are field seasons, not monsoon seasons)\n",
    "col <- \"date\"\n",
    "col2 <- \"index\"\n",
    "\n",
    "season1 <- as.data.frame(seq(as.Date(\"2010/10/01\"), as.Date(\"2011/05/31\"), by=\"days\"))\n",
    "names(season1) <- col\n",
    "\n",
    "season2 <- as.data.frame(seq(as.Date(\"2011/10/01\"), as.Date(\"2012/05/31\"), by=\"days\"))\n",
    "names(season2) <- col\n",
    "\n",
    "season3 <- as.data.frame(seq(as.Date(\"2012/10/01\"), as.Date(\"2013/05/31\"), by=\"days\"))\n",
    "names(season3) <- col\n",
    "\n",
    "season4 <- as.data.frame(seq(as.Date(\"2013/10/01\"), as.Date(\"2014/04/18\"), by=\"days\"))\n",
    "names(season4) <- col\n",
    "\n",
    "all_dates <- bind_rows(season1, season2, season3, season4)\n",
    "time_step <- as.data.frame(seq(1,930,1))\n",
    "names(time_step)<- col2\n",
    "all_dates2 <- bind_cols(time_step, all_dates)\n",
    "dim(all_dates2)\n"
   ]
  },
  {
   "cell_type": "code",
   "execution_count": null,
   "metadata": {},
   "outputs": [],
   "source": [
    "#make each daily connectivity matrix into a df and then pull them all together into a list\n",
    "#conn_mat_list <- vector(\"list\", nrow(all_dates2))\n",
    "\n",
    "#date_df <- do.call(\"rbind\", replicate(784, date, simplify = FALSE))\n",
    "\n",
    "conn_mat_full <- as.data.frame(matrix(nrow=0, ncol=4))\n",
    "\n",
    "cols_conn_mat <- c(\"date\",\"sink\", \"source\", \"number\")\n",
    "cols_tmp <- c(\"sink\", \"source\", \"number\")\n",
    "\n",
    "names(conn_mat_full) <- cols_conn_mat\n",
    "\n",
    "for(i in 1:nrow(all_dates2)){\n",
    "    \n",
    "    index_eval <- all_dates2$index[i]\n",
    "    \n",
    "    tmp <- as.data.frame(conn_mat_all[[i]], xy=T)   #pull out a data frame for each date\n",
    "    names(tmp) <- cols_tmp\n",
    "    \n",
    "    date <- filter(all_dates2, index==index_eval)[2] #grab the date\n",
    "    date_df <- do.call(\"rbind\", replicate(784, date, simplify = FALSE)) #make a df of the date\n",
    "    tmp2 <- bind_cols(date_df, tmp)\n",
    "\n",
    " \n",
    "    conn_mat_full <- rbind(conn_mat_full, tmp2) \n",
    "}\n",
    "\n"
   ]
  },
  {
   "cell_type": "code",
   "execution_count": null,
   "metadata": {},
   "outputs": [],
   "source": [
    "#connect site names\n",
    "conn_mat_full2 <- left_join(conn_mat_full, site_id, by=c(source=\"site_ind\")) %>%\n",
    "    dplyr::select(-source) %>%\n",
    "    rename(source=\"sites\")\n",
    "    \n",
    "conn_mat_full3 <- left_join(conn_mat_full2, site_id, by=c(sink=\"site_ind\")) %>%\n",
    "    dplyr::select(-sink) %>%\n",
    "    rename(destination=\"sites\")\n",
    "\n",
    "    "
   ]
  },
  {
   "cell_type": "code",
   "execution_count": null,
   "metadata": {},
   "outputs": [],
   "source": [
    "#make all versions of Hicgop \"Hicgop South\" to match empirical data\n",
    "conn_mat_full3 <- conn_mat_full3 %>%\n",
    "    mutate(source=ifelse(source==\"Hicgop\", \"Hicgop South\", source)) %>%\n",
    "    mutate(destination=ifelse(destination==\"Hicgop\", \"Hicgop South\", destination))\n",
    "\n",
    "#mark which sources/destinations were sampled in real life\n",
    "UnsampledSites <- c(\"SF1\", \"SF2\", \"SF3\", \"SF4\", \"SF5\", \"SF6\", \"Pangasugan\", \"Other\") #although we didn't sample the Camotes Islands, I'm going to leave it in the simulation results for now to use it in the GLM of ROMS model. It will be remove in filtering to produce the df that will be used for comparisons to genetic observations\n",
    "#mark the monsoon seasons in which they dispersed, based on the same criteria I used for the parentage indirectly through the growth estimates\n",
    "NEM <- c(11, 12, 1, 2, 3, 4, 5, 6)\n",
    "SWM <- c(7, 8, 9, 10)\n",
    "\n",
    "#add a column showing which sources and destinations were empirically sampled, and corresponding date/year/season data\n",
    "conn_mat_full4 <- conn_mat_full3 %>%\n",
    "    mutate(SourceSampled= ifelse(source %!in% UnsampledSites, \"yes\", \"no\")) %>%\n",
    "    mutate(DestSampled= ifelse(destination %!in% UnsampledSites, \"yes\", \"no\")) %>%\n",
    "    mutate(SimMonth=month(ymd(date))) %>%\n",
    "    mutate(SimDay=month(ymd(date))) %>%\n",
    "    mutate(SimYear=year(ymd(date))) %>%\n",
    "    mutate(YearSampled=ifelse(date %in% season1$date, \"2011\", ifelse(date %in% season2$date, \"2012\", ifelse(date %in% season3$date, \"2013\", \"2014\")))) %>%\n",
    "    mutate(YearSampled=as.factor(YearSampled)) %>%\n",
    "    mutate(SimMonsoon=ifelse(SimMonth %in% NEM, \"NEM\", \"SWM\")) %>%\n",
    "    rename(DailyParticles=\"number\") %>%\n",
    "    relocate(DailyParticles,.after=SimMonsoon)\n",
    "    \n",
    "#note to self, I think I messed up sources/destinations in the orginal for loop!!!! so I'm grouping by source below, but that's because the true destination column is misnamed \"source\" in the code and I haven't figured it out yet\n",
    "#!!!!\n",
    " "
   ]
  },
  {
   "cell_type": "markdown",
   "metadata": {},
   "source": [
    "__Skip above and read the tidied data frame below__"
   ]
  },
  {
   "cell_type": "markdown",
   "metadata": {},
   "source": [
    "__Add in genetic sampling data__"
   ]
  },
  {
   "cell_type": "code",
   "execution_count": 3,
   "metadata": {},
   "outputs": [],
   "source": [
    "#head(conn_mat_full4)\n",
    "#write.csv(conn_mat_full4, file=\"~/oceanography/script_output/SimConnectivityTable.csv\", row.names=F)\n",
    "SimConnDF <- read.csv(file=\"~/oceanography/script_output/SimConnectivityTable.csv\", header=T) %>%\n",
    "    mutate(YearSampled=as.character(YearSampled))\n",
    "UnsampledSites <- c(\"SF1\", \"SF2\", \"SF3\", \"SF4\", \"SF5\", \"SF6\", \"Pangasugan\", \"Other\") #although we didn't sample the Camotes Islands, I'm going to leave it in the simulation results for now to use it in the GLM of ROMS model. It will be remove in filtering to produce the df that will be used for comparisons to genetic observations\n"
   ]
  },
  {
   "cell_type": "code",
   "execution_count": 4,
   "metadata": {},
   "outputs": [],
   "source": [
    "#add together all of the particles for each season. At some point need to consider matching times that we sampled, from the fish meta-data?\n",
    "#replace XN with years\n",
    "SimConnDF <- SimConnDF %>%\n",
    "    group_by(destination, YearSampled) %>%\n",
    "    mutate(AnnTotalRec=sum(DailyParticles)) %>% #Annual here means the year that would be considered one year in the genetic analysis\n",
    "    mutate(AnnTotalRecFromSampSites=ifelse(DestSampled==\"yes\" & SourceSampled==\"yes\",sum(DailyParticles), 0)) #this comes up at NA otherwise...maybe that's important for the GLM though. Expect the unsampled sites won't be used for the GLM. think more about this.\n",
    "\n"
   ]
  },
  {
   "cell_type": "code",
   "execution_count": 5,
   "metadata": {},
   "outputs": [
    {
     "data": {
      "image/png": "[encoded data removed]",
      "text/plain": [
       "plot without title"
      ]
     },
     "metadata": {},
     "output_type": "display_data"
    }
   ],
   "source": [
    "#check that everything looks correct\n",
    "test <- SimConnDF %>% filter(DailyParticles >1 & \n",
    "                             SourceSampled==\"yes\" & DestSampled==\"yes\")\n",
    "#pdf(\"~/oceanography/script_output/HistNumParticlesRecruiting.pdf\")\n",
    "hist(test$DailyParticles, breaks=50, xlab=\"Number of particles recruiting daily\", main=NULL)\n",
    "#dev.off()\n"
   ]
  },
  {
   "cell_type": "code",
   "execution_count": 6,
   "metadata": {},
   "outputs": [
    {
     "data": {
      "text/html": [
       "361"
      ],
      "text/latex": [
       "361"
      ],
      "text/markdown": [
       "361"
      ],
      "text/plain": [
       "[1] 361"
      ]
     },
     "metadata": {},
     "output_type": "display_data"
    }
   ],
   "source": [
    "##put in North-South order for kernel fitting, also used for GLM connectivity data frame?\n",
    "SitesNS <- read.csv(\"~/parentage/text_file/sites_NS.txt\", stringsAsFactors = F) %>%\n",
    "    mutate(site=ifelse(site ==\"S. Magbangon\" , \"Magbangon\", site)) %>%\n",
    "    filter(site != \"N. Magbangon\") \n",
    "\n",
    "###add site size - is this worth adding? It would be a random effect, I already know that it affects the number of particles...\n",
    "##Reef_sizes <- read.csv(\"~/parentage/kernel_fitting/894_loci/area_unsurveyed.\", header=FALSE)\n",
    "\n",
    "#add the distances between sites, calculated from the site centroids\n",
    "centroidsSamp <- read.csv(\"~/parentage/kernel_fitting/1340_loci/input/site_centroids.csv\", header=TRUE, stringsAsFactors = F) %>%\n",
    "    mutate(site=ifelse(site ==\"S.Magbangon\" , \"Magbangon\", site)) %>%\n",
    "    filter(site != \"N.Magbangon\") %>%\n",
    "    filter(site %in% SitesNS$site)\n",
    "\n",
    "#I want to average the Camotes Islands values and add those in. That way I can use that distance in the GLM of the simulated ROMS as response variable. this can be subsetted out for the observed data by using the \"source/dests sampled\" columns\n",
    "#pull out the camotes centroids for a df with just them, to average lat/lon points with (centroids)\n",
    "CAI <- c(\"camotes_central1\", \"camotes_central2\", \"camotes_east1\", \"camotes_east2\", \"camotes_west1\", \"camotes_west2\")\n",
    "\n",
    "centroidsSim <- read.csv(\"~/parentage/kernel_fitting/1340_loci/input/site_centroids.csv\", header=TRUE, stringsAsFactors =F)\n",
    "CamotesAvg <- centroidsSim %>%\n",
    "    filter(site %in% CAI) %>%\n",
    "    mutate(lon=mean(lon)) %>% #take the average lon\n",
    "    mutate(lat=mean(lat)) %>% #take the average lat\n",
    "    slice_head()\n",
    "\n",
    "CamotesAvg$site <- \"CAI\"#make a one row DF for this value that can be added to centroids so it's distances are calculated\n",
    "\n",
    "#add to tidy distance\n",
    "centroids <- bind_rows(centroidsSamp, CamotesAvg) \n",
    "\n",
    "##calculate the distance from all potential parents and all potential offspring\n",
    "all_possible_dists <- as.data.frame(rdist.earth(as.matrix(centroids[,c('lon', 'lat')]), as.matrix(centroids[,c('lon', 'lat')]), miles=FALSE, R=6371))\n",
    "\n",
    "##attach the sample_ids to each distance, so you can also get site and year\n",
    "colnames(all_possible_dists) <- centroids$site\n",
    "all_possible_dists$site_i <- centroids$site\n",
    "\n",
    "##gather into tidy df\n",
    "all_possible_dists_tidy <- all_possible_dists %>%\n",
    "    dplyr::select(site_i, everything()) %>%\n",
    "    gather(2:20, key=site_j, value=dist_km) \n",
    "nrow(all_possible_dists_tidy)\n",
    "\n",
    "SimConnDFDist <- left_join(SimConnDF, all_possible_dists_tidy, by=c(source=\"site_i\", destination=\"site_j\"))\n",
    "\n"
   ]
  },
  {
   "cell_type": "code",
   "execution_count": 7,
   "metadata": {},
   "outputs": [
    {
     "data": {
      "text/html": [
       "361"
      ],
      "text/latex": [
       "361"
      ],
      "text/markdown": [
       "361"
      ],
      "text/plain": [
       "[1] 361"
      ]
     },
     "metadata": {},
     "output_type": "display_data"
    },
    {
     "data": {
      "text/html": [
       "19"
      ],
      "text/latex": [
       "19"
      ],
      "text/markdown": [
       "19"
      ],
      "text/plain": [
       "[1] 19"
      ]
     },
     "metadata": {},
     "output_type": "display_data"
    },
    {
     "data": {
      "text/html": [
       "361"
      ],
      "text/latex": [
       "361"
      ],
      "text/markdown": [
       "361"
      ],
      "text/plain": [
       "[1] 361"
      ]
     },
     "metadata": {},
     "output_type": "display_data"
    }
   ],
   "source": [
    "#add a continuous value for direction in the form of a bearing\n",
    "#col <- c(\"site_i\", \"site_j\", \"bearing\")\n",
    "AllBearings <- matrix(nrow=0, ncol=3)\n",
    "#colnames(AllBearings) <- col\n",
    "\n",
    "for(i in 1:nrow(centroids)) {\n",
    "    \n",
    "    site_i <- centroids[i,] #take the site name\n",
    "    site_i_coords <- as.matrix(site_i[,2:3]) #get the lon/lat\n",
    "\n",
    "    #now compare this site to all other sites for bearing\n",
    "    \n",
    "    bearings <- matrix(nrow=nrow(centroids), ncol=3)\n",
    "\n",
    "    for(j in 1:nrow(centroids)){\n",
    "        \n",
    "\n",
    "\n",
    "        site_j <- centroids[j,]\n",
    "        site_j_coords <- as.matrix(site_j[,2:3]) #get the lon/lat\n",
    "\n",
    "        bearing <- geosphere::bearing(site_i_coords, site_j_coords)\n",
    "        bearings[j,1] <- site_i[1,1] #add to data frame\n",
    "        bearings[j,2] <- site_j[1,1]\n",
    "        bearings[j,3] <- bearing\n",
    "\n",
    "    }\n",
    "    AllBearings <- rbind(AllBearings, bearings)\n",
    "\n",
    "}\n",
    "nrow(AllBearings)#should be 361\n",
    "nrow(centroids)\n",
    "19*19\n",
    "\n",
    "col <- c(\"site_i\", \"site_j\", \"direction\")\n",
    "AllBearings <- as.data.frame(AllBearings)\n",
    "colnames(AllBearings) <- col\n",
    "#write.csv(AllBearings, file=\"~/oceanography/script_output/SurveyData/AllBearings.csv\", row.names=F)\n",
    "\n",
    "SimConnDFDir <- left_join(SimConnDFDist, AllBearings, by=c(source=\"site_i\", destination=\"site_j\")) %>%\n",
    "    mutate(direction=as.numeric(direction))"
   ]
  },
  {
   "cell_type": "code",
   "execution_count": 8,
   "metadata": {},
   "outputs": [
    {
     "data": {
      "text/html": [
       "0"
      ],
      "text/latex": [
       "0"
      ],
      "text/markdown": [
       "0"
      ],
      "text/plain": [
       "[1] 0"
      ]
     },
     "metadata": {},
     "output_type": "display_data"
    }
   ],
   "source": [
    "\n",
    "#add how well we sampled sites- proportion of habitat sampled\n",
    "load(\"~/parentage/r_data/cumulative_prop_hab_sampled_by_site.RData\")\n",
    "PropSamp <- cumulative_prop_hab_sampled_by_site %>%\n",
    "    mutate(total_possible_sample_anems = ifelse(site==\"Caridad Proper\", 4, total_possible_sample_anems) ) %>%\n",
    "    mutate(total_prop_hab_sampled_anems_tidied= ifelse(site==\"Caridad Proper\" & total_anems_sampled==4, 1, total_prop_hab_sampled_anems_tidied) ) %>%\n",
    "    mutate(total_possible_sample_anems = ifelse(site==\"Sitio Lonas\", total_anems_sampled, total_possible_sample_anems) ) %>%\n",
    "    mutate(total_prop_hab_sampled_anems_tidied= ifelse(site==\"Sitio Lonas\", 1, total_prop_hab_sampled_anems_tidied) )%>%\n",
    "    mutate(total_prop_hab_sampled_anems_tidied= ifelse(is.nan(total_prop_hab_sampled_anems_tidied), 0, total_prop_hab_sampled_anems_tidied) ) %>%\n",
    "    dplyr::select(site, time_frame, end_year, total_prop_hab_sampled_anems_tidied) \n",
    "\n",
    "PropSamp$site <- gsub(\". \", \".\", PropSamp$site, fixed=TRUE) #fix spaces in Magbangon names\n",
    "\n",
    "S.Mag <- PropSamp %>%#make a table for all of the S. Mabangon years/prop sampled. Then join to the DF, make a column adding S.Magbangon values to all rows of prop sampled, but only sub that value in for PropSamp in N.Magbangon rows, then rename N.Magbangon as Magbangon\n",
    "    filter(site==\"S.Magbangon\") %>%\n",
    "    dplyr::select(site, end_year, total_prop_hab_sampled_anems_tidied) %>%\n",
    "    rename(S.MagVal=\"total_prop_hab_sampled_anems_tidied\", extra=\"site\")\n",
    "\n",
    "PropSamp <- left_join(PropSamp, S.Mag, by=c(\"end_year\")) %>%\n",
    "    mutate(S.MagSum=total_prop_hab_sampled_anems_tidied+S.MagVal) %>% #create col adding the S.Mag values to prop hab - keep in mind values could be greater than 1- if so change them to 1\n",
    "    mutate(total_prop_hab_sampled_anems_tidied= ifelse(site==\"N.Magbangon\", S.MagSum, total_prop_hab_sampled_anems_tidied)) %>%#sub this value in for only N.Mag\n",
    "    mutate(site=ifelse(site==\"N.Magbangon\", \"Magbangon\", site)) %>%#change N.Mag name to generic Mag\n",
    "    filter(site !=\"S.Magbangon\") %>%#eliminate the S.Mag rows, they are now repeats\n",
    "    dplyr::select(-S.MagVal,-extra, -S.MagSum, -time_frame) %>%\n",
    "    rename(PropSamp=\"total_prop_hab_sampled_anems_tidied\")\n",
    "\n",
    "\n",
    "#check if there are values>1, should be none\n",
    "sum(which(PropSamp$total_prop_hab_sampled_anems_tidied >1)) #zero, that's good\n",
    "\n",
    "#first, summarize the simulated data to the level of a sampling year, remember, this data frame DOES NOT include unsampled sites at the moment\n",
    "SimConnDFInt <- SimConnDFDir %>%\n",
    "    ungroup() %>%\n",
    "    group_by(source, destination, YearSampled) %>%\n",
    "    mutate(AnnRecPart=sum(DailyParticles)) %>% # this is a really confusing column name, so drop the similar ones from earlier that are for the purposes of figuring out the unassigned juveniles for kernel fitting\n",
    "    ungroup() %>%\n",
    "    dplyr::select(-AnnTotalRec, -AnnTotalRecFromSampSites) #yikes figure out how to rename these confusing as is...\n",
    "#last piece to explore ROMS model GLM- the Camotes don't fit into the North/South paradigm I have going, so manually say the direction is \n",
    "SimConnDFProp <- left_join(SimConnDFInt, PropSamp, by=c(source=\"site\", YearSampled=\"end_year\")) %>%#use end year here, remembering that it's cumulative prop hab sampled that is relevant to the parentage analysis\n",
    "    rename(SourcePropSamp=\"PropSamp\")\n",
    "SimConnDFMeta <- left_join(SimConnDFProp, PropSamp, by=c(destination=\"site\", YearSampled=\"end_year\")) %>% #use end year here, remembering that it's cumulative prop hab sampled that is relevant to the parentage analysis\n",
    "    rename(DestPropSamp=\"PropSamp\") %>%\n",
    "    ungroup() %>% #ungroup by year, otherwise grouping will override year filtering\n",
    "    filter(YearSampled %in% c(\"2012\", \"2013\", \"2014\")) %>% #remove 2011 simulation results, we didn't sampled that year    \n",
    "    filter(source %!in% UnsampledSites & source !=\"CAI\") %>% #we narrow down to only sampled sites at this point, because this is the data frame that will be joined to the observed data\n",
    "    filter(destination%!in% UnsampledSites & destination!= \"CAI\") \n"
   ]
  },
  {
   "cell_type": "markdown",
   "metadata": {},
   "source": [
    "__CELL BELOW IS TESTING ADDING SEASON DATA, IGNORE UNTIL READY TO GO BACK__"
   ]
  },
  {
   "cell_type": "code",
   "execution_count": null,
   "metadata": {
    "scrolled": true
   },
   "outputs": [],
   "source": [
    "####this cell is a mess, trying to make a df with a row for every year/season/route combination, come back if I can after I make other progress\n",
    "#ObsDisp <- read.csv(file=\"~/parentage/colony2/20200605_1340loci/results/20200624colony_dispersaldirection.csv\", header=T, stringsAsFactors=F)\n",
    "##\n",
    "#ObsDisp$offs_site <- gsub(\". \", \".\", ObsDisp$offs_site, fixed=TRUE) #fix spaces in Magbangon names\n",
    "#ObsDisp$par_site <- gsub(\". \", \".\", ObsDisp$par_site, fixed=TRUE) #fix spaces in Magbangon names\n",
    "#\n",
    "##add which monsoon season each recruit is presumed to have dispersed in\n",
    "##read in the data on the presumed mosoon season recruits' dispersal (includes all recruits sampled)\n",
    "#RecMonsoon <- read.csv(file=\"~/parentage/kernel_fitting/1340_loci/final_results/tables/RecruitsByMonsoon.csv\",stringsAsFactors = F, header=TRUE)\n",
    "#RecMonsoonPar <- RecMonsoon %>%\n",
    "#    filter(matched_offs==\"Y\") %>%\n",
    "#    dplyr::select(fish_indiv, season) #%>% #when I tested joining this table to ObsDisp, I selected year, year_match, too so I could double check the years were correct. They were, taking out that line of code now.\n",
    "#    \n",
    "#nrow(RecMonsoonPar)\n",
    "##cross check that 46 is the correct number from another df created in the seasonal kernel fitting script\n",
    "#RecMonsoonCheck <- read.csv(file=\"~/parentage/kernel_fitting/1340_loci/input/20200624_AllSeasonParentage.csv\", stringsAsFactors = F, header=TRUE)\n",
    "#nrow(RecMonsoonCheck) #should be 46\n",
    "#\n",
    "##use the ROMS simulated data frame to pull out all year and season combos to join with the recruit seasonality data frame, that way all possible observations of route/season/year combos will be included\n",
    "#AllSeasons <- SimConnDFMeta %>%\n",
    "#    dplyr::select(source, destination, YearSampled, SimMonsoon)\n",
    "###add to ObsDisp\n",
    "#\n",
    "#ObsDispSeas <- left_join(ObsDisp, RecMonsoonPar, by=c(offs_fish_indiv=\"fish_indiv\")) %>%\n",
    "#    mutate(year=as.character(year))\n",
    "#\n",
    "##just like in PropSamp, combine Magbangons to match simulation\n",
    "###for the observed parentage, there's only one case of a disp obs to/from the same site in the same year from both N and S Mag. So that's the only obs to combine, do it manually\n",
    "#ObsDispAnn <- ObsDisp %>%\n",
    "#    filter(year %in% c(\"2012\", \"2013\", \"2014\")) %>% #, \"2014\"  #only use the data from the years that overlap between simulations and empirical sampling\n",
    "#    dplyr::select(year, dist_par_km, offs_site, par_site) %>%\n",
    "#    #mutate(seasonInterm=as.numeric(ifelse(is.na(season), 0, ifelse(season==\"SWM\", -1, ifelse(season==\"NEM\", 1, season))))) %>%\n",
    "#    group_by(offs_site, par_site, year) %>%\n",
    "#    #mutate(NumericSeason=sum(seasonInterm))%>%\n",
    "#    group_by(offs_site, par_site, year) %>% #for seasonal, also group by season, after filtering out NA rows\n",
    "#    mutate(obs_disp=n()) %>%\n",
    "#    distinct(offs_site, par_site, year, .keep_all = TRUE) %>% #, season\n",
    "#    mutate(obs_disp=ifelse(offs_site==\"N.Magbangon\" & par_site==\"Palanas\" & year==\"2013\", 2, obs_disp)) %>% #manually change the 1 to 2 to combine N/S Mag\n",
    "#    filter(par_site !=\"S.Magbangon\" & offs_site !=\"Palanas\") %>% #drop the S.Mag obs so we don't double count\n",
    "#    mutate(offs_site=ifelse(offs_site==\"N.Magbangon\", \"Magbangon\", offs_site)) %>%#change N.Mag name to generic Mag\n",
    "#    mutate(par_site=ifelse(par_site==\"N.Magbangon\", \"Magbangon\", par_site)) %>%#change N.Mag name to generic Mag  \n",
    "#    mutate(offs_site=ifelse(offs_site==\"S.Magbangon\", \"Magbangon\", offs_site)) %>%#change S.Mag name to generic Mag\n",
    "#    mutate(par_site=ifelse(par_site==\"S.Magbangon\", \"Magbangon\", par_site)) %>% #change S.Mag name to generic Mag    \n",
    "#    mutate(year=as.character(year)) %>%\n",
    "#    ungroup() \n",
    "# \n",
    "#\n",
    "##first, summarize the simulated data to the level of a sampling year and remove duplicates (daily rows, now that it's already summarized)\n",
    "#SimConnDFMetaAnn <- SimConnDFMeta %>%\n",
    "#    ungroup() %>%\n",
    "#    #distinct(YearSampled, source, destination, .keep_all = T) %>%\n",
    "#    dplyr::select(-date)\n",
    "#GenSimConn <- left_join(SimConnDFMetaAnn, ObsDispAnn, by=c(source=\"par_site\", destination=\"offs_site\", YearSampled=\"year\"))%>%\n",
    "#    mutate(obs_disp=ifelse(is.na(obs_disp), 0, obs_disp)) #%>%\n",
    "#    #dplyr::select(-SimMonsoon) #this doesn't have meaning for the GLM, because we summarised to annual data\n",
    "#sum(GenSimConn$obs_disp)#should be 24\n",
    "##add a column for binomial 1/0 if dispersal occured along that route\n",
    "##GenSimConn <- GenSimConn %>%\n",
    "##    mutate(BiDisp=ifelse(obs_disp >= 1, 1, obs_disp))\n",
    "##sum(GenSimConn$BiDisp) #should be 20\n",
    "##write out the table with all of the genetic sampling and simulated data\n",
    "##write.csv(GenSimConn, file=\"~/oceanography/script_output/GenSimConnectivityFullTable.csv\", row.names=F)\n",
    "#"
   ]
  },
  {
   "cell_type": "markdown",
   "metadata": {},
   "source": [
    "__CELL BELOW IS WORKING FOR GLM OF OBSERVED DATA BY SIMULATED DATA__"
   ]
  },
  {
   "cell_type": "code",
   "execution_count": 9,
   "metadata": {},
   "outputs": [
    {
     "name": "stderr",
     "output_type": "stream",
     "text": [
      "`summarise()` regrouping output by 'offs_site', 'par_site' (override with `.groups` argument)\n"
     ]
    },
    {
     "data": {
      "text/html": [
       "24"
      ],
      "text/latex": [
       "24"
      ],
      "text/markdown": [
       "24"
      ],
      "text/plain": [
       "[1] 24"
      ]
     },
     "metadata": {},
     "output_type": "display_data"
    }
   ],
   "source": [
    "##add in the empirical dispersal data from the genetics\n",
    "ObsDisp <- read.csv(file=\"~/parentage/colony2/20200605_1340loci/results/20200624colony_dispersaldirection.csv\", header=T, stringsAsFactors=F)\n",
    "#\n",
    "ObsDisp$offs_site <- gsub(\". \", \".\", ObsDisp$offs_site, fixed=TRUE) #fix spaces in Magbangon names\n",
    "ObsDisp$par_site <- gsub(\". \", \".\", ObsDisp$par_site, fixed=TRUE) #fix spaces in Magbangon names\n",
    "\n",
    "##just like in PropSamp, combine Magbangons to match simulation\n",
    "###for the observed parentage, there's only one case of a disp obs to/from the same site in the same year from both N and S Mag. So that's the only obs to combine, do it manually\n",
    "ObsDisp <- ObsDisp %>%\n",
    "    filter(year %in% c(\"2012\", \"2013\", \"2014\")) %>% #, \"2014\"  #only use the data from the years that overlap between simulations and empirical sampling\n",
    "    dplyr::select(year, dist_par_km, offs_site, par_site) %>%\n",
    "    group_by(offs_site, par_site, year) %>%\n",
    "    summarise(obs_disp=n()) %>%\n",
    "    mutate(obs_disp=ifelse(offs_site==\"N.Magbangon\" & par_site==\"Palanas\" & year==\"2013\", 2, obs_disp)) %>% #manually change the 1 to 2 to combine N/S Mag\n",
    "    filter(par_site !=\"S.Magbangon\" & offs_site !=\"Palanas\") %>% #drop the S.Mag obs so we don't double count\n",
    "    mutate(offs_site=ifelse(offs_site==\"N.Magbangon\", \"Magbangon\", offs_site)) %>%#change N.Mag name to generic Mag\n",
    "    mutate(par_site=ifelse(par_site==\"N.Magbangon\", \"Magbangon\", par_site)) %>%#change N.Mag name to generic Mag  \n",
    "    mutate(offs_site=ifelse(offs_site==\"S.Magbangon\", \"Magbangon\", offs_site)) %>%#change S.Mag name to generic Mag\n",
    "    mutate(par_site=ifelse(par_site==\"S.Magbangon\", \"Magbangon\", par_site)) %>% #change S.Mag name to generic Mag    \n",
    "    mutate(year=as.character(year)) %>%\n",
    "    ungroup() \n",
    "\n",
    "#first, summarize the simulated data to the level of a sampling year and remove duplicates (daily rows, now that it's already summarized)\n",
    "SimConnDFMetaAnn <- SimConnDFMeta %>%\n",
    "    ungroup() %>%\n",
    "    distinct(YearSampled, source, destination, .keep_all = T) %>%\n",
    "    dplyr::select(-date)\n",
    "GenSimConn <- left_join(SimConnDFMetaAnn, ObsDisp, by=c(source=\"par_site\", destination=\"offs_site\", YearSampled=\"year\"))%>%\n",
    "    mutate(obs_disp=ifelse(is.na(obs_disp), 0, obs_disp)) %>%\n",
    "    mutate(direction=as.numeric(direction))\n",
    "sum(GenSimConn$obs_disp)\n",
    "#add a column for binomial 1/0 if dispersal occured along that route\n",
    "\n",
    "#write out the table with all of the genetic sampling and simulated data\n",
    "#write.csv(GenSimConn, file=\"~/oceanography/script_output/GenSimConnectivityFullTable.csv\", row.names=F)\n"
   ]
  },
  {
   "cell_type": "code",
   "execution_count": 10,
   "metadata": {},
   "outputs": [
    {
     "data": {
      "text/html": [
       "0"
      ],
      "text/latex": [
       "0"
      ],
      "text/markdown": [
       "0"
      ],
      "text/plain": [
       "[1] 0"
      ]
     },
     "metadata": {},
     "output_type": "display_data"
    }
   ],
   "source": [
    "sum(is.na(GenSimConn)==T) #should be 0"
   ]
  },
  {
   "cell_type": "markdown",
   "metadata": {},
   "source": [
    "__run GLM observed genetic dispersal predicted by simulations__"
   ]
  },
  {
   "cell_type": "code",
   "execution_count": 11,
   "metadata": {},
   "outputs": [
    {
     "data": {
      "text/html": [
       "0.0246659815005139"
      ],
      "text/latex": [
       "0.0246659815005139"
      ],
      "text/markdown": [
       "0.0246659815005139"
      ],
      "text/plain": [
       "[1] 0.02466598"
      ]
     },
     "metadata": {},
     "output_type": "display_data"
    },
    {
     "data": {
      "text/html": [
       "0.054946518975296"
      ],
      "text/latex": [
       "0.054946518975296"
      ],
      "text/markdown": [
       "0.054946518975296"
      ],
      "text/plain": [
       "[1] 0.05494652"
      ]
     },
     "metadata": {},
     "output_type": "display_data"
    }
   ],
   "source": [
    "mean(GenSimConn$obs_disp) #should be 0.024\n",
    "var(GenSimConn$obs_disp) #should be 0.054\n",
    "#overdispersion?\n",
    "#no, because residual deviance of the model is not greater than the df\n",
    "#Residual deviance:  38.221  on 948  degrees of freedom"
   ]
  },
  {
   "cell_type": "code",
   "execution_count": null,
   "metadata": {},
   "outputs": [],
   "source": [
    "#plan:\n",
    "#fit 3 successive log-linear models starting with main efects only(fit1), main effects plus all 2-way interactions (fit2), and added in all 3 way interactions (fit3)\n"
   ]
  },
  {
   "cell_type": "code",
   "execution_count": 13,
   "metadata": {},
   "outputs": [
    {
     "data": {
      "text/plain": [
       "\n",
       "Call:\n",
       "glm(formula = obs_disp ~ dist_km, family = \"poisson\", data = GenSimConn)\n",
       "\n",
       "Deviance Residuals: \n",
       "    Min       1Q   Median       3Q      Max  \n",
       "-0.3405  -0.2697  -0.1990  -0.1438   5.8896  \n",
       "\n",
       "Coefficients:\n",
       "            Estimate Std. Error z value Pr(>|z|)    \n",
       "(Intercept) -2.84769    0.29019  -9.813  < 2e-16 ***\n",
       "dist_km     -0.11787    0.03965  -2.972  0.00295 ** \n",
       "---\n",
       "Signif. codes:  0 ‘***’ 0.001 ‘**’ 0.01 ‘*’ 0.05 ‘.’ 0.1 ‘ ’ 1\n",
       "\n",
       "(Dispersion parameter for poisson family taken to be 1)\n",
       "\n",
       "    Null deviance: 207.67  on 972  degrees of freedom\n",
       "Residual deviance: 196.07  on 971  degrees of freedom\n",
       "AIC: 234.62\n",
       "\n",
       "Number of Fisher Scoring iterations: 7\n"
      ]
     },
     "metadata": {},
     "output_type": "display_data"
    }
   ],
   "source": [
    "NullMod <- glm(obs_disp ~ dist_km , data=GenSimConn, family=\"poisson\")\n",
    "summary(NullMod)"
   ]
  },
  {
   "cell_type": "code",
   "execution_count": 57,
   "metadata": {},
   "outputs": [],
   "source": [
    "ObsModExpYearFit1 <- glm(obs_disp ~ AnnRecPart + YearSampled + direction + dist_km +SourcePropSamp +DestPropSamp, data=GenSimConn, family=\"poisson\")\n"
   ]
  },
  {
   "cell_type": "code",
   "execution_count": 59,
   "metadata": {
    "scrolled": false
   },
   "outputs": [
    {
     "data": {
      "text/plain": [
       "\n",
       "Call:\n",
       "glm(formula = obs_disp ~ AnnRecPart + YearSampled + direction + \n",
       "    dist_km + SourcePropSamp + DestPropSamp, family = \"poisson\", \n",
       "    data = GenSimConn)\n",
       "\n",
       "Deviance Residuals: \n",
       "    Min       1Q   Median       3Q      Max  \n",
       "-0.7421  -0.2351  -0.1574  -0.0962   4.8658  \n",
       "\n",
       "Coefficients:\n",
       "                  Estimate Std. Error z value Pr(>|z|)    \n",
       "(Intercept)     -3.146e+00  8.098e-01  -3.885 0.000102 ***\n",
       "AnnRecPart       1.224e-05  4.522e-05   0.271 0.786711    \n",
       "YearSampled2013  2.083e+00  7.774e-01   2.679 0.007382 ** \n",
       "YearSampled2014  1.900e+00  7.903e-01   2.404 0.016208 *  \n",
       "direction       -4.652e-03  2.613e-03  -1.780 0.075039 .  \n",
       "dist_km         -1.080e-01  3.727e-02  -2.897 0.003772 ** \n",
       "SourcePropSamp  -1.238e+00  6.246e-01  -1.982 0.047458 *  \n",
       "DestPropSamp    -5.555e-01  6.266e-01  -0.887 0.375304    \n",
       "---\n",
       "Signif. codes:  0 ‘***’ 0.001 ‘**’ 0.01 ‘*’ 0.05 ‘.’ 0.1 ‘ ’ 1\n",
       "\n",
       "(Dispersion parameter for poisson family taken to be 1)\n",
       "\n",
       "    Null deviance: 207.67  on 972  degrees of freedom\n",
       "Residual deviance: 176.28  on 965  degrees of freedom\n",
       "AIC: 226.83\n",
       "\n",
       "Number of Fisher Scoring iterations: 8\n"
      ]
     },
     "metadata": {},
     "output_type": "display_data"
    }
   ],
   "source": [
    "summary(ObsModExpYearFit1)"
   ]
  },
  {
   "cell_type": "code",
   "execution_count": 14,
   "metadata": {
    "scrolled": false
   },
   "outputs": [
    {
     "name": "stderr",
     "output_type": "stream",
     "text": [
      "Warning message:\n",
      "“glm.fit: fitted rates numerically 0 occurred”Warning message:\n",
      "“glm.fit: fitted rates numerically 0 occurred”Warning message:\n",
      "“glm.fit: fitted rates numerically 0 occurred”"
     ]
    },
    {
     "data": {
      "text/html": [
       "<table>\n",
       "<thead><tr><th></th><th scope=col>df</th><th scope=col>AIC</th><th scope=col>model</th></tr></thead>\n",
       "<tbody>\n",
       "\t<tr><th scope=row>FullModNoROMSDestPropSampInt</th><td> 8                           </td><td>222.3663                     </td><td>FullModNoROMSDestPropSampInt </td></tr>\n",
       "\t<tr><th scope=row>FullModNoROMSDestPropSamp</th><td> 6                           </td><td>223.7655                     </td><td>FullModNoROMSDestPropSamp    </td></tr>\n",
       "\t<tr><th scope=row>MainEff_AnnRecPart</th><td> 7                           </td><td>224.8986                     </td><td>MainEff_AnnRecPart           </td></tr>\n",
       "\t<tr><th scope=row>MainEff_DestPropSamp</th><td> 7                           </td><td>225.6392                     </td><td>MainEff_DestPropSamp         </td></tr>\n",
       "\t<tr><th scope=row>ObsModExpYearFit1</th><td> 8                           </td><td>226.8319                     </td><td>ObsModExpYearFit1            </td></tr>\n",
       "\t<tr><th scope=row>MainEff_direction</th><td> 7                           </td><td>228.2684                     </td><td>MainEff_direction            </td></tr>\n",
       "\t<tr><th scope=row>MainEff_SourcePropSamp</th><td> 7                           </td><td>229.0726                     </td><td>MainEff_SourcePropSamp       </td></tr>\n",
       "\t<tr><th scope=row>ObsModExpYearFit2IntDirNoROMS</th><td> 8                           </td><td>233.7604                     </td><td>ObsModExpYearFit2IntDirNoROMS</td></tr>\n",
       "\t<tr><th scope=row>MainEff_YearSampled</th><td> 6                           </td><td>234.3626                     </td><td>MainEff_YearSampled          </td></tr>\n",
       "\t<tr><th scope=row>NullMod</th><td> 2                           </td><td>234.6240                     </td><td>NullMod                      </td></tr>\n",
       "\t<tr><th scope=row>MainEff_dist_km</th><td> 7                           </td><td>235.8935                     </td><td>MainEff_dist_km              </td></tr>\n",
       "\t<tr><th scope=row>ObsModExpYearFit2IntDir</th><td> 8                           </td><td>236.0116                     </td><td>ObsModExpYearFit2IntDir      </td></tr>\n",
       "\t<tr><th scope=row>ObsModExpYearFit2IntYear</th><td> 8                           </td><td>236.0116                     </td><td>ObsModExpYearFit2IntYear     </td></tr>\n",
       "\t<tr><th scope=row>ObsModExpYearFit3Int</th><td>13                           </td><td>241.5007                     </td><td>ObsModExpYearFit3Int         </td></tr>\n",
       "</tbody>\n",
       "</table>\n"
      ],
      "text/latex": [
       "\\begin{tabular}{r|lll}\n",
       "  & df & AIC & model\\\\\n",
       "\\hline\n",
       "\tFullModNoROMSDestPropSampInt &  8                            & 222.3663                      & FullModNoROMSDestPropSampInt \\\\\n",
       "\tFullModNoROMSDestPropSamp &  6                            & 223.7655                      & FullModNoROMSDestPropSamp    \\\\\n",
       "\tMainEff\\_AnnRecPart &  7                              & 224.8986                        & MainEff\\_AnnRecPart           \\\\\n",
       "\tMainEff\\_DestPropSamp &  7                              & 225.6392                        & MainEff\\_DestPropSamp         \\\\\n",
       "\tObsModExpYearFit1 &  8                            & 226.8319                      & ObsModExpYearFit1            \\\\\n",
       "\tMainEff\\_direction &  7                              & 228.2684                        & MainEff\\_direction            \\\\\n",
       "\tMainEff\\_SourcePropSamp &  7                              & 229.0726                        & MainEff\\_SourcePropSamp       \\\\\n",
       "\tObsModExpYearFit2IntDirNoROMS &  8                            & 233.7604                      & ObsModExpYearFit2IntDirNoROMS\\\\\n",
       "\tMainEff\\_YearSampled &  6                              & 234.3626                        & MainEff\\_YearSampled          \\\\\n",
       "\tNullMod &  2                            & 234.6240                      & NullMod                      \\\\\n",
       "\tMainEff\\_dist\\_km &  7                                & 235.8935                          & MainEff\\_dist\\_km              \\\\\n",
       "\tObsModExpYearFit2IntDir &  8                            & 236.0116                      & ObsModExpYearFit2IntDir      \\\\\n",
       "\tObsModExpYearFit2IntYear &  8                            & 236.0116                      & ObsModExpYearFit2IntYear     \\\\\n",
       "\tObsModExpYearFit3Int & 13                            & 241.5007                      & ObsModExpYearFit3Int         \\\\\n",
       "\\end{tabular}\n"
      ],
      "text/markdown": [
       "\n",
       "| <!--/--> | df | AIC | model |\n",
       "|---|---|---|---|\n",
       "| FullModNoROMSDestPropSampInt |  8                            | 222.3663                      | FullModNoROMSDestPropSampInt  |\n",
       "| FullModNoROMSDestPropSamp |  6                            | 223.7655                      | FullModNoROMSDestPropSamp     |\n",
       "| MainEff_AnnRecPart |  7                            | 224.8986                      | MainEff_AnnRecPart            |\n",
       "| MainEff_DestPropSamp |  7                            | 225.6392                      | MainEff_DestPropSamp          |\n",
       "| ObsModExpYearFit1 |  8                            | 226.8319                      | ObsModExpYearFit1             |\n",
       "| MainEff_direction |  7                            | 228.2684                      | MainEff_direction             |\n",
       "| MainEff_SourcePropSamp |  7                            | 229.0726                      | MainEff_SourcePropSamp        |\n",
       "| ObsModExpYearFit2IntDirNoROMS |  8                            | 233.7604                      | ObsModExpYearFit2IntDirNoROMS |\n",
       "| MainEff_YearSampled |  6                            | 234.3626                      | MainEff_YearSampled           |\n",
       "| NullMod |  2                            | 234.6240                      | NullMod                       |\n",
       "| MainEff_dist_km |  7                            | 235.8935                      | MainEff_dist_km               |\n",
       "| ObsModExpYearFit2IntDir |  8                            | 236.0116                      | ObsModExpYearFit2IntDir       |\n",
       "| ObsModExpYearFit2IntYear |  8                            | 236.0116                      | ObsModExpYearFit2IntYear      |\n",
       "| ObsModExpYearFit3Int | 13                            | 241.5007                      | ObsModExpYearFit3Int          |\n",
       "\n"
      ],
      "text/plain": [
       "                              df AIC      model                        \n",
       "FullModNoROMSDestPropSampInt   8 222.3663 FullModNoROMSDestPropSampInt \n",
       "FullModNoROMSDestPropSamp      6 223.7655 FullModNoROMSDestPropSamp    \n",
       "MainEff_AnnRecPart             7 224.8986 MainEff_AnnRecPart           \n",
       "MainEff_DestPropSamp           7 225.6392 MainEff_DestPropSamp         \n",
       "ObsModExpYearFit1              8 226.8319 ObsModExpYearFit1            \n",
       "MainEff_direction              7 228.2684 MainEff_direction            \n",
       "MainEff_SourcePropSamp         7 229.0726 MainEff_SourcePropSamp       \n",
       "ObsModExpYearFit2IntDirNoROMS  8 233.7604 ObsModExpYearFit2IntDirNoROMS\n",
       "MainEff_YearSampled            6 234.3626 MainEff_YearSampled          \n",
       "NullMod                        2 234.6240 NullMod                      \n",
       "MainEff_dist_km                7 235.8935 MainEff_dist_km              \n",
       "ObsModExpYearFit2IntDir        8 236.0116 ObsModExpYearFit2IntDir      \n",
       "ObsModExpYearFit2IntYear       8 236.0116 ObsModExpYearFit2IntYear     \n",
       "ObsModExpYearFit3Int          13 241.5007 ObsModExpYearFit3Int         "
      ]
     },
     "metadata": {},
     "output_type": "display_data"
    }
   ],
   "source": [
    "#only main effects, first find worthwhile predictors with AIC\n",
    "#the intercept is very significant but I think that just means 0s are more common in the data. totally true!\n",
    "\n",
    "ObsModExpYearFit1 <- glm(obs_disp ~ AnnRecPart + YearSampled + direction + dist_km +SourcePropSamp +DestPropSamp, data=GenSimConn, family=\"poisson\")\n",
    "MainEff_AnnRecPart <- update(ObsModExpYearFit1, . ~ . -AnnRecPart)\n",
    "MainEff_YearSampled <- update(ObsModExpYearFit1, . ~ . -YearSampled)\n",
    "MainEff_direction <- update(ObsModExpYearFit1, . ~ . -direction)\n",
    "MainEff_dist_km <- update(ObsModExpYearFit1, . ~ . -dist_km)\n",
    "MainEff_SourcePropSamp <- update(ObsModExpYearFit1, . ~ . -SourcePropSamp)\n",
    "MainEff_DestPropSamp <- update(ObsModExpYearFit1, . ~ . -DestPropSamp)\n",
    "#drop the 3 terms AIC doesn't support? maybe not though, because when there's an interaction that's the best model\n",
    "MainEff_ARP_DPrp_Dist <- glm(obs_disp ~ YearSampled + direction +SourcePropSamp, data=GenSimConn, family=\"poisson\")\n",
    "#add the interaction between year and simulations\n",
    "ObsModExpYearFit2IntYear <- glm(obs_disp ~ AnnRecPart*YearSampled + direction+SourcePropSamp, data=GenSimConn, family=\"poisson\")\n",
    "ObsModExpYearFit2IntDir <- glm(obs_disp ~ AnnRecPart*YearSampled + direction+SourcePropSamp, data=GenSimConn, family=\"poisson\")\n",
    "ObsModExpYearFit2IntDirNoROMS <- glm(obs_disp ~ AnnRecPart+YearSampled*direction+SourcePropSamp, data=GenSimConn, family=\"poisson\")\n",
    "ObsModExpYearFit3Int <- glm(obs_disp ~ AnnRecPart*YearSampled*direction+SourcePropSamp, data=GenSimConn, family=\"poisson\")\n",
    "\n",
    "FullModNoROMSDestPropSamp <- glm(obs_disp ~  YearSampled + direction + dist_km +SourcePropSamp , data=GenSimConn, family=\"poisson\")\n",
    "FullModNoROMSDestPropSampInt <- glm(obs_disp ~  YearSampled* direction + dist_km +SourcePropSamp , data=GenSimConn, family=\"poisson\")\n",
    "\n",
    "MainEffAIC <- as.data.frame(AIC(NullMod, FullModNoROMSDestPropSampInt, FullModNoROMSDestPropSamp, ObsModExpYearFit1, MainEff_AnnRecPart, MainEff_YearSampled, MainEff_direction, MainEff_dist_km, MainEff_SourcePropSamp, MainEff_DestPropSamp, ObsModExpYearFit2IntDir, ObsModExpYearFit2IntYear, ObsModExpYearFit2IntDirNoROMS, ObsModExpYearFit3Int))\n",
    "MainEffAIC$model <- row.names(MainEffAIC)\n",
    "MainEffAIC <- MainEffAIC %>% arrange(AIC)\n",
    "MainEffAIC\n",
    "#/write.csv(MainEffAIC, file=\"~/oceanography/script_output/GLM/GLMObsDispAIC.csv\",row.names=F,  quote=F)\n"
   ]
  },
  {
   "cell_type": "code",
   "execution_count": 16,
   "metadata": {},
   "outputs": [
    {
     "data": {
      "text/plain": [
       "\n",
       "Call:\n",
       "glm(formula = obs_disp ~ YearSampled * direction + direction + \n",
       "    YearSampled + dist_km + SourcePropSamp, family = \"poisson\", \n",
       "    data = GenSimConn)\n",
       "\n",
       "Deviance Residuals: \n",
       "    Min       1Q   Median       3Q      Max  \n",
       "-0.8205  -0.2308  -0.1455  -0.0854   4.7749  \n",
       "\n",
       "Coefficients:\n",
       "                           Estimate Std. Error z value Pr(>|z|)   \n",
       "(Intercept)               -4.907010   1.833725  -2.676  0.00745 **\n",
       "YearSampled2013            3.330448   1.903005   1.750  0.08010 . \n",
       "YearSampled2014            4.300475   1.899406   2.264  0.02357 * \n",
       "direction                  0.005519   0.008362   0.660  0.50924   \n",
       "dist_km                   -0.113197   0.036841  -3.073  0.00212 **\n",
       "SourcePropSamp            -1.240710   0.611796  -2.028  0.04256 * \n",
       "YearSampled2013:direction -0.007783   0.008985  -0.866  0.38636   \n",
       "YearSampled2014:direction -0.019088   0.010080  -1.894  0.05826 . \n",
       "---\n",
       "Signif. codes:  0 ‘***’ 0.001 ‘**’ 0.01 ‘*’ 0.05 ‘.’ 0.1 ‘ ’ 1\n",
       "\n",
       "(Dispersion parameter for poisson family taken to be 1)\n",
       "\n",
       "    Null deviance: 207.67  on 972  degrees of freedom\n",
       "Residual deviance: 171.82  on 965  degrees of freedom\n",
       "AIC: 222.37\n",
       "\n",
       "Number of Fisher Scoring iterations: 7\n"
      ]
     },
     "metadata": {},
     "output_type": "display_data"
    }
   ],
   "source": [
    "FullModNoROMSDestPropSampInt <- glm(obs_disp ~  YearSampled* direction+direction+YearSampled + dist_km +SourcePropSamp , data=GenSimConn, family=\"poisson\")\n",
    "\n",
    "summary(FullModNoROMSDestPropSampInt)"
   ]
  },
  {
   "cell_type": "code",
   "execution_count": 68,
   "metadata": {},
   "outputs": [
    {
     "data": {
      "text/html": [
       "<table>\n",
       "<thead><tr><th></th><th scope=col>df</th><th scope=col>AIC</th></tr></thead>\n",
       "<tbody>\n",
       "\t<tr><th scope=row>test</th><td>10      </td><td>225.2967</td></tr>\n",
       "\t<tr><th scope=row>MainEff_AnnRecPart</th><td> 7      </td><td>224.8986</td></tr>\n",
       "\t<tr><th scope=row>MainEff_DestPropSamp</th><td> 7      </td><td>225.6392</td></tr>\n",
       "</tbody>\n",
       "</table>\n"
      ],
      "text/latex": [
       "\\begin{tabular}{r|ll}\n",
       "  & df & AIC\\\\\n",
       "\\hline\n",
       "\ttest & 10       & 225.2967\\\\\n",
       "\tMainEff\\_AnnRecPart &  7       & 224.8986\\\\\n",
       "\tMainEff\\_DestPropSamp &  7       & 225.6392\\\\\n",
       "\\end{tabular}\n"
      ],
      "text/markdown": [
       "\n",
       "| <!--/--> | df | AIC |\n",
       "|---|---|---|\n",
       "| test | 10       | 225.2967 |\n",
       "| MainEff_AnnRecPart |  7       | 224.8986 |\n",
       "| MainEff_DestPropSamp |  7       | 225.6392 |\n",
       "\n"
      ],
      "text/plain": [
       "                     df AIC     \n",
       "test                 10 225.2967\n",
       "MainEff_AnnRecPart    7 224.8986\n",
       "MainEff_DestPropSamp  7 225.6392"
      ]
     },
     "metadata": {},
     "output_type": "display_data"
    }
   ],
   "source": [
    "AIC(test, MainEff_AnnRecPart,MainEff_DestPropSamp )"
   ]
  },
  {
   "cell_type": "code",
   "execution_count": 61,
   "metadata": {
    "scrolled": false
   },
   "outputs": [
    {
     "data": {
      "text/plain": [
       "\n",
       "Call:\n",
       "glm(formula = obs_disp ~ AnnRecPart * YearSampled + direction + \n",
       "    SourcePropSamp, family = \"poisson\", data = GenSimConn)\n",
       "\n",
       "Deviance Residuals: \n",
       "    Min       1Q   Median       3Q      Max  \n",
       "-1.2238  -0.2452  -0.1873  -0.1127   5.5209  \n",
       "\n",
       "Coefficients:\n",
       "                            Estimate Std. Error z value Pr(>|z|)    \n",
       "(Intercept)                -3.604834   0.875861  -4.116 3.86e-05 ***\n",
       "AnnRecPart                 -0.001737   0.003224  -0.539   0.5901    \n",
       "YearSampled2013             1.636987   0.869815   1.882   0.0598 .  \n",
       "YearSampled2014             1.238086   0.878833   1.409   0.1589    \n",
       "direction                  -0.005764   0.002453  -2.350   0.0188 *  \n",
       "SourcePropSamp             -0.983708   0.599542  -1.641   0.1008    \n",
       "AnnRecPart:YearSampled2013  0.001471   0.003253   0.452   0.6512    \n",
       "AnnRecPart:YearSampled2014  0.001807   0.003224   0.561   0.5751    \n",
       "---\n",
       "Signif. codes:  0 ‘***’ 0.001 ‘**’ 0.01 ‘*’ 0.05 ‘.’ 0.1 ‘ ’ 1\n",
       "\n",
       "(Dispersion parameter for poisson family taken to be 1)\n",
       "\n",
       "    Null deviance: 207.67  on 972  degrees of freedom\n",
       "Residual deviance: 185.46  on 965  degrees of freedom\n",
       "AIC: 236.01\n",
       "\n",
       "Number of Fisher Scoring iterations: 14\n"
      ]
     },
     "metadata": {},
     "output_type": "display_data"
    }
   ],
   "source": [
    "summary(ObsModExpYearFit2Int ) #judging by the significant intercept (which should be AnnRecPart:Year2012?) when there's more particles expected from the ROMS model, there's actually less in the observed data.\n",
    "ObsModExpYearFit2Int_Sum <- tidy(ObsModExpYearFit2Int)\n",
    "#write.csv(ObsModExpYearFit2Int_Sum, file=\"~/oceanography/script_output/GLM/YearDispIntBestModSum.csv\",row.names=F,  quote=F)\n"
   ]
  },
  {
   "cell_type": "code",
   "execution_count": 91,
   "metadata": {},
   "outputs": [],
   "source": [
    "ROMSFull <- glm(AnnRecPart ~ as.factor(SimYear) + direction + dist_km + source + destination, data=GenSimConn, family=\"poisson\")\n",
    "#MainEff_AnnRecPart <- update(ObsModExpYearFit1, . ~ . -AnnRecPart)"
   ]
  },
  {
   "cell_type": "code",
   "execution_count": 92,
   "metadata": {},
   "outputs": [
    {
     "data": {
      "text/plain": [
       "\n",
       "Call:\n",
       "glm(formula = AnnRecPart ~ as.factor(SimYear) + direction + dist_km + \n",
       "    source + destination, family = \"poisson\", data = GenSimConn)\n",
       "\n",
       "Deviance Residuals: \n",
       "     Min        1Q    Median        3Q       Max  \n",
       "-101.212   -13.131    -5.750     3.049   158.721  \n",
       "\n",
       "Coefficients:\n",
       "                               Estimate Std. Error  z value Pr(>|z|)    \n",
       "(Intercept)                   6.976e+00  1.358e-02  513.709  < 2e-16 ***\n",
       "as.factor(SimYear)2012       -1.328e-01  3.594e-03  -36.954  < 2e-16 ***\n",
       "as.factor(SimYear)2013       -8.162e-02  3.548e-03  -23.007  < 2e-16 ***\n",
       "direction                    -6.483e-03  2.639e-05 -245.674  < 2e-16 ***\n",
       "dist_km                      -1.288e-01  2.908e-04 -442.731  < 2e-16 ***\n",
       "sourceCaridad Cemetery        8.501e-03  1.478e-02    0.575 0.565238    \n",
       "sourceCaridad Proper         -4.894e-01  1.598e-02  -30.631  < 2e-16 ***\n",
       "sourceElementary School      -1.125e-01  1.403e-02   -8.020 1.06e-15 ***\n",
       "sourceGabas                   6.218e-01  1.299e-02   47.858  < 2e-16 ***\n",
       "sourceHaina                  -9.632e-01  1.802e-02  -53.454  < 2e-16 ***\n",
       "sourceHicgop South            7.626e-01  1.269e-02   60.114  < 2e-16 ***\n",
       "sourceMagbangon               2.332e-01  1.457e-02   16.010  < 2e-16 ***\n",
       "sourcePalanas                 3.984e-01  1.525e-02   26.132  < 2e-16 ***\n",
       "sourcePoroc Rose             -1.901e-01  1.407e-02  -13.512  < 2e-16 ***\n",
       "sourcePoroc San Flower       -1.509e-01  1.348e-02  -11.196  < 2e-16 ***\n",
       "sourceSan Agustin             3.494e-01  1.291e-02   27.062  < 2e-16 ***\n",
       "sourceSitio Baybayon          1.980e+00  1.238e-02  159.964  < 2e-16 ***\n",
       "sourceSitio Lonas             9.810e-01  1.217e-02   80.602  < 2e-16 ***\n",
       "sourceSitio Tugas            -6.974e-01  1.659e-02  -42.046  < 2e-16 ***\n",
       "sourceTamakin Dacot           1.564e+00  1.262e-02  123.893  < 2e-16 ***\n",
       "sourceVisca                  -1.226e-01  1.393e-02   -8.803  < 2e-16 ***\n",
       "sourceWangag                  1.275e+00  1.284e-02   99.343  < 2e-16 ***\n",
       "destinationCaridad Cemetery   3.277e-01  1.123e-02   29.172  < 2e-16 ***\n",
       "destinationCaridad Proper     7.957e-01  1.044e-02   76.192  < 2e-16 ***\n",
       "destinationElementary School -1.604e-02  1.218e-02   -1.317 0.187910    \n",
       "destinationGabas              6.293e-01  1.250e-02   50.354  < 2e-16 ***\n",
       "destinationHaina              5.800e-01  1.136e-02   51.056  < 2e-16 ***\n",
       "destinationHicgop South       3.518e-01  1.095e-02   32.137  < 2e-16 ***\n",
       "destinationMagbangon         -4.289e-02  1.238e-02   -3.465 0.000531 ***\n",
       "destinationPalanas           -1.104e+00  1.740e-02  -63.416  < 2e-16 ***\n",
       "destinationPoroc Rose        -5.583e-01  1.546e-02  -36.109  < 2e-16 ***\n",
       "destinationPoroc San Flower  -2.342e-01  1.409e-02  -16.627  < 2e-16 ***\n",
       "destinationSan Agustin        7.643e-01  1.084e-02   70.482  < 2e-16 ***\n",
       "destinationSitio Baybayon     4.757e-01  1.096e-02   43.396  < 2e-16 ***\n",
       "destinationSitio Lonas        1.380e+00  9.946e-03  138.749  < 2e-16 ***\n",
       "destinationSitio Tugas        4.758e-02  1.187e-02    4.009 6.10e-05 ***\n",
       "destinationTamakin Dacot      1.782e+00  1.056e-02  168.807  < 2e-16 ***\n",
       "destinationVisca              1.157e-01  1.381e-02    8.378  < 2e-16 ***\n",
       "destinationWangag            -9.643e-01  1.568e-02  -61.482  < 2e-16 ***\n",
       "---\n",
       "Signif. codes:  0 ‘***’ 0.001 ‘**’ 0.01 ‘*’ 0.05 ‘.’ 0.1 ‘ ’ 1\n",
       "\n",
       "(Dispersion parameter for poisson family taken to be 1)\n",
       "\n",
       "    Null deviance: 1596114  on 972  degrees of freedom\n",
       "Residual deviance:  543402  on 934  degrees of freedom\n",
       "AIC: 548847\n",
       "\n",
       "Number of Fisher Scoring iterations: 7\n"
      ]
     },
     "metadata": {},
     "output_type": "display_data"
    }
   ],
   "source": [
    "summary(ROMSFull)"
   ]
  },
  {
   "cell_type": "code",
   "execution_count": 54,
   "metadata": {},
   "outputs": [
    {
     "name": "stderr",
     "output_type": "stream",
     "text": [
      "Saving 6.67 x 6.67 in image\n",
      "Saving 6.67 x 6.67 in image\n",
      "Saving 6.67 x 6.67 in image\n",
      "Saving 6.67 x 6.67 in image\n",
      "Saving 6.67 x 6.67 in image\n"
     ]
    }
   ],
   "source": [
    "#plot magnitude and direction of dispersal for each year, then each season\n",
    "\n",
    "DirectionParticleNum <- ggplot((SimConnDFMeta %>% filter(AnnRecPart >0)), aes(x=direction, y=AnnRecPart, color=as.factor(SimYear))) +\n",
    "      geom_point(size=0.6, alpha = 0.4 ) +\n",
    "    scale_x_continuous(breaks=seq(0, 360, by = 20), limits=c(0, 360)) +\n",
    "    xlab(\"Compass bearing\") + ylab(\"Particles recruiting to given destination\") \n",
    "ggsave(filename=\"AllYearsDirectionParticleNum.pdf\", plot=DirectionParticleNum, path=\"~/oceanography/figures\")\n",
    "\n",
    "\n",
    "#make a separate plot for each year to see more clearly\n",
    "DirectionParticleNum11 <- ggplot((SimConnDFMeta %>% filter(AnnRecPart >0 & SimYear==2011)), aes(x=direction, y=AnnRecPart)) +\n",
    "    geom_point(size=0.6, alpha = 0.4 ) +\n",
    "    scale_x_continuous(breaks=seq(0, 360, by = 20), limits=c(0, 360))  + \n",
    "    ggtitle(\"2011 Simulation\") +\n",
    "    xlab(\"Compass bearing\") + ylab(\"Particles recruiting to given destination\")\n",
    "ggsave(filename=\"AllYearsDirectionParticleNum2011.pdf\", plot=DirectionParticleNum, path=\"~/oceanography/figures\" )\n",
    "\n",
    "DirectionParticleNum12 <- ggplot((SimConnDFMeta %>% filter(AnnRecPart >0 & SimYear==2012)), aes(x=direction, y=AnnRecPart)) +\n",
    "    geom_point(size=0.6, alpha = 0.4 ) +\n",
    "    scale_x_continuous(breaks=seq(0, 360, by = 20), limits=c(0, 360))  + \n",
    "    ggtitle(\"2012 Simulation\") +\n",
    "    xlab(\"Compass bearing\") + ylab(\"Particles recruiting to given destination\")\n",
    "ggsave(filename=\"AllYearsDirectionParticleNum2012.pdf\", plot=DirectionParticleNum, path=\"~/oceanography/figures\" )\n",
    "\n",
    "DirectionParticleNum13 <- ggplot((SimConnDFMeta %>% filter(AnnRecPart >0 & SimYear==2013)), aes(x=direction, y=AnnRecPart)) +\n",
    "    geom_point(size=0.6, alpha = 0.4 ) +\n",
    "    scale_x_continuous(breaks=seq(0, 360, by = 20), limits=c(0, 360))  + \n",
    "    ggtitle(\"2013 Simulation\") +\n",
    "    xlab(\"Compass bearing\") + ylab(\"Particles recruiting to given destination\")\n",
    "ggsave(filename=\"AllYearsDirectionParticleNum2013.pdf\", plot=DirectionParticleNum, path=\"~/oceanography/figures\" )\n",
    "\n",
    "DirectionParticleNum14 <- ggplot((SimConnDFMeta %>% filter(AnnRecPart >0 & SimYear==2014)), aes(x=direction, y=AnnRecPart)) +\n",
    "    geom_point(size=0.6, alpha = 0.4 ) +\n",
    "    scale_x_continuous(breaks=seq(0, 360, by = 20), limits=c(0, 360))  + \n",
    "    ggtitle(\"2014 Simulation\") +\n",
    "    xlab(\"Compass bearing\") + ylab(\"Particles recruiting to given destination\")\n",
    "ggsave(filename=\"AllYearsDirectionParticleNum2014.pdf\", plot=DirectionParticleNum, path=\"~/oceanography/figures\" )\n"
   ]
  },
  {
   "cell_type": "code",
   "execution_count": 55,
   "metadata": {
    "scrolled": false
   },
   "outputs": [
    {
     "data": {
      "image/png": "[encoded data removed]",
      "text/plain": [
       "plot without title"
      ]
     },
     "metadata": {},
     "output_type": "display_data"
    },
    {
     "data": {
      "image/png": "[encoded data removed]",
      "text/plain": [
       "plot without title"
      ]
     },
     "metadata": {},
     "output_type": "display_data"
    },
    {
     "data": {
      "image/png": "[encoded data removed]",
      "text/plain": [
       "plot without title"
      ]
     },
     "metadata": {},
     "output_type": "display_data"
    },
    {
     "data": {
      "image/png": "[encoded data removed]",
      "text/plain": [
       "plot without title"
      ]
     },
     "metadata": {},
     "output_type": "display_data"
    }
   ],
   "source": [
    "DirectionParticleNum11\n",
    "DirectionParticleNum12\n",
    "DirectionParticleNum13\n",
    "DirectionParticleNum14\n"
   ]
  },
  {
   "cell_type": "code",
   "execution_count": 65,
   "metadata": {
    "scrolled": true
   },
   "outputs": [
    {
     "data": {
      "image/png": "[encoded data removed]",
      "text/plain": [
       "plot without title"
      ]
     },
     "metadata": {},
     "output_type": "display_data"
    },
    {
     "data": {
      "image/png": "[encoded data removed]",
      "text/plain": [
       "plot without title"
      ]
     },
     "metadata": {},
     "output_type": "display_data"
    }
   ],
   "source": [
    "SimConnDFMeta <- SimConnDFMeta %>% mutate(SimMonsoon=as.character(SimMonsoon))\n",
    "ggplot((SimConnDFMeta %>% filter(AnnRecPart >0 & SimMonsoon==\"NEM\" )), aes(x=direction, y=AnnRecPart)) +\n",
    "    geom_point(size=0.6, alpha = 0.4 ) +\n",
    "    scale_x_continuous(breaks=seq(0, 360, by = 20), limits=c(0, 360))  + \n",
    "    ggtitle(\"Northeast Monsoon\") +\n",
    "    xlab(\"Compass bearing\") + ylab(\"Particles recruiting to given destination\")\n",
    "#ggsave(filename=\"AllYearsDirectionParticleNum2014.pdf\", plot=DirectionParticleNum, path=\"~/oceanography/figures\" )\n",
    "\n",
    "ggplot((SimConnDFMeta %>% filter(AnnRecPart >0 & SimMonsoon==\"SWM\" )), aes(x=direction, y=AnnRecPart)) +\n",
    "    geom_point(size=0.6, alpha = 0.4 ) +\n",
    "    scale_x_continuous(breaks=seq(0, 360, by = 20), limits=c(0, 360))  + \n",
    "    ggtitle(\"Southwest Monsoon\") +\n",
    "    xlab(\"Compass bearing\") + ylab(\"Particles recruiting to given destination\")"
   ]
  },
  {
   "cell_type": "code",
   "execution_count": 67,
   "metadata": {},
   "outputs": [
    {
     "data": {
      "text/plain": [
       "   Min. 1st Qu.  Median    Mean 3rd Qu.    Max. \n",
       "    0.0    11.0    87.0   478.4   353.0 36728.0 "
      ]
     },
     "metadata": {},
     "output_type": "display_data"
    }
   ],
   "source": [
    "summary(SimConnDFMeta$AnnRecPart)"
   ]
  },
  {
   "cell_type": "code",
   "execution_count": 71,
   "metadata": {},
   "outputs": [
    {
     "data": {
      "text/html": [
       "<table>\n",
       "<thead><tr><th scope=col>date</th><th scope=col>source</th><th scope=col>destination</th><th scope=col>SourceSampled</th><th scope=col>DestSampled</th><th scope=col>SimMonth</th><th scope=col>SimDay</th><th scope=col>SimYear</th><th scope=col>YearSampled</th><th scope=col>SimMonsoon</th><th scope=col>DailyParticles</th><th scope=col>dist_km</th><th scope=col>direction</th><th scope=col>AnnRecPart</th><th scope=col>SourcePropSamp</th><th scope=col>DestPropSamp</th></tr></thead>\n",
       "<tbody>\n",
       "\t<tr><td>2014-04-18      </td><td>Wangag          </td><td>Caridad Cemetery</td><td>yes             </td><td>yes             </td><td>4               </td><td>4               </td><td>2014            </td><td>2014            </td><td>NEM             </td><td> 0              </td><td> 5.159038       </td><td>190             </td><td> 629            </td><td>0.3104238       </td><td>0.4166667       </td></tr>\n",
       "\t<tr><td>2014-04-18      </td><td>Wangag          </td><td>Caridad Proper  </td><td>yes             </td><td>yes             </td><td>4               </td><td>4               </td><td>2014            </td><td>2014            </td><td>NEM             </td><td> 0              </td><td> 5.915797       </td><td>192             </td><td> 515            </td><td>0.3104238       </td><td>1.0000000       </td></tr>\n",
       "\t<tr><td>2014-04-18      </td><td>Wangag          </td><td>Sitio Baybayon  </td><td>yes             </td><td>yes             </td><td>4               </td><td>4               </td><td>2014            </td><td>2014            </td><td>NEM             </td><td> 0              </td><td>26.862065       </td><td>284             </td><td>3094            </td><td>0.3104238       </td><td>0.1480051       </td></tr>\n",
       "\t<tr><td>2014-04-18      </td><td>Palanas         </td><td>Caridad Cemetery</td><td>yes             </td><td>yes             </td><td>4               </td><td>4               </td><td>2014            </td><td>2014            </td><td>NEM             </td><td>92              </td><td> 5.692889       </td><td>189             </td><td>1150            </td><td>0.4468599       </td><td>0.4166667       </td></tr>\n",
       "\t<tr><td>2014-04-18      </td><td>Palanas         </td><td>Caridad Proper  </td><td>yes             </td><td>yes             </td><td>4               </td><td>4               </td><td>2014            </td><td>2014            </td><td>NEM             </td><td> 0              </td><td> 6.447918       </td><td>191             </td><td> 531            </td><td>0.4468599       </td><td>1.0000000       </td></tr>\n",
       "\t<tr><td>2014-04-18      </td><td>Palanas         </td><td>Sitio Baybayon  </td><td>yes             </td><td>yes             </td><td>4               </td><td>4               </td><td>2014            </td><td>2014            </td><td>NEM             </td><td> 1              </td><td>27.291943       </td><td>282             </td><td> 458            </td><td>0.4468599       </td><td>0.1480051       </td></tr>\n",
       "</tbody>\n",
       "</table>\n"
      ],
      "text/latex": [
       "\\begin{tabular}{r|llllllllllllllll}\n",
       " date & source & destination & SourceSampled & DestSampled & SimMonth & SimDay & SimYear & YearSampled & SimMonsoon & DailyParticles & dist\\_km & direction & AnnRecPart & SourcePropSamp & DestPropSamp\\\\\n",
       "\\hline\n",
       "\t 2014-04-18       & Wangag           & Caridad Cemetery & yes              & yes              & 4                & 4                & 2014             & 2014             & NEM              &  0               &  5.159038        & 190              &  629             & 0.3104238        & 0.4166667       \\\\\n",
       "\t 2014-04-18       & Wangag           & Caridad Proper   & yes              & yes              & 4                & 4                & 2014             & 2014             & NEM              &  0               &  5.915797        & 192              &  515             & 0.3104238        & 1.0000000       \\\\\n",
       "\t 2014-04-18       & Wangag           & Sitio Baybayon   & yes              & yes              & 4                & 4                & 2014             & 2014             & NEM              &  0               & 26.862065        & 284              & 3094             & 0.3104238        & 0.1480051       \\\\\n",
       "\t 2014-04-18       & Palanas          & Caridad Cemetery & yes              & yes              & 4                & 4                & 2014             & 2014             & NEM              & 92               &  5.692889        & 189              & 1150             & 0.4468599        & 0.4166667       \\\\\n",
       "\t 2014-04-18       & Palanas          & Caridad Proper   & yes              & yes              & 4                & 4                & 2014             & 2014             & NEM              &  0               &  6.447918        & 191              &  531             & 0.4468599        & 1.0000000       \\\\\n",
       "\t 2014-04-18       & Palanas          & Sitio Baybayon   & yes              & yes              & 4                & 4                & 2014             & 2014             & NEM              &  1               & 27.291943        & 282              &  458             & 0.4468599        & 0.1480051       \\\\\n",
       "\\end{tabular}\n"
      ],
      "text/markdown": [
       "\n",
       "| date | source | destination | SourceSampled | DestSampled | SimMonth | SimDay | SimYear | YearSampled | SimMonsoon | DailyParticles | dist_km | direction | AnnRecPart | SourcePropSamp | DestPropSamp |\n",
       "|---|---|---|---|---|---|---|---|---|---|---|---|---|---|---|---|\n",
       "| 2014-04-18       | Wangag           | Caridad Cemetery | yes              | yes              | 4                | 4                | 2014             | 2014             | NEM              |  0               |  5.159038        | 190              |  629             | 0.3104238        | 0.4166667        |\n",
       "| 2014-04-18       | Wangag           | Caridad Proper   | yes              | yes              | 4                | 4                | 2014             | 2014             | NEM              |  0               |  5.915797        | 192              |  515             | 0.3104238        | 1.0000000        |\n",
       "| 2014-04-18       | Wangag           | Sitio Baybayon   | yes              | yes              | 4                | 4                | 2014             | 2014             | NEM              |  0               | 26.862065        | 284              | 3094             | 0.3104238        | 0.1480051        |\n",
       "| 2014-04-18       | Palanas          | Caridad Cemetery | yes              | yes              | 4                | 4                | 2014             | 2014             | NEM              | 92               |  5.692889        | 189              | 1150             | 0.4468599        | 0.4166667        |\n",
       "| 2014-04-18       | Palanas          | Caridad Proper   | yes              | yes              | 4                | 4                | 2014             | 2014             | NEM              |  0               |  6.447918        | 191              |  531             | 0.4468599        | 1.0000000        |\n",
       "| 2014-04-18       | Palanas          | Sitio Baybayon   | yes              | yes              | 4                | 4                | 2014             | 2014             | NEM              |  1               | 27.291943        | 282              |  458             | 0.4468599        | 0.1480051        |\n",
       "\n"
      ],
      "text/plain": [
       "  date       source  destination      SourceSampled DestSampled SimMonth SimDay\n",
       "1 2014-04-18 Wangag  Caridad Cemetery yes           yes         4        4     \n",
       "2 2014-04-18 Wangag  Caridad Proper   yes           yes         4        4     \n",
       "3 2014-04-18 Wangag  Sitio Baybayon   yes           yes         4        4     \n",
       "4 2014-04-18 Palanas Caridad Cemetery yes           yes         4        4     \n",
       "5 2014-04-18 Palanas Caridad Proper   yes           yes         4        4     \n",
       "6 2014-04-18 Palanas Sitio Baybayon   yes           yes         4        4     \n",
       "  SimYear YearSampled SimMonsoon DailyParticles dist_km   direction AnnRecPart\n",
       "1 2014    2014        NEM         0              5.159038 190        629      \n",
       "2 2014    2014        NEM         0              5.915797 192        515      \n",
       "3 2014    2014        NEM         0             26.862065 284       3094      \n",
       "4 2014    2014        NEM        92              5.692889 189       1150      \n",
       "5 2014    2014        NEM         0              6.447918 191        531      \n",
       "6 2014    2014        NEM         1             27.291943 282        458      \n",
       "  SourcePropSamp DestPropSamp\n",
       "1 0.3104238      0.4166667   \n",
       "2 0.3104238      1.0000000   \n",
       "3 0.3104238      0.1480051   \n",
       "4 0.4468599      0.4166667   \n",
       "5 0.4468599      1.0000000   \n",
       "6 0.4468599      0.1480051   "
      ]
     },
     "metadata": {},
     "output_type": "display_data"
    }
   ],
   "source": [
    "tail(SimConnDFMeta %>% filter(AnnRecPart > 353))\n",
    "SimConnDFMeta %>% group_by(source) %>% summarize()"
   ]
  },
  {
   "cell_type": "code",
   "execution_count": null,
   "metadata": {},
   "outputs": [],
   "source": [
    "#what are the routes that create these peaks in direction annually?\n",
    "\n",
    "#are there similar patterns seasonally?\n",
    "\n",
    "#plot the connectivity matrix with of the roms model"
   ]
  },
  {
   "cell_type": "code",
   "execution_count": 25,
   "metadata": {
    "scrolled": true
   },
   "outputs": [
    {
     "data": {
      "text/html": [
       "<table>\n",
       "<thead><tr><th scope=col>AnnRecPart</th><th scope=col>direction</th><th scope=col>SimYear</th><th scope=col>source</th><th scope=col>destination</th></tr></thead>\n",
       "<tbody>\n",
       "\t<tr><td> 624            </td><td> 28             </td><td>2011            </td><td>Sitio Baybayon  </td><td>Palanas         </td></tr>\n",
       "\t<tr><td>1080            </td><td> 26             </td><td>2011            </td><td>Sitio Baybayon  </td><td>Wangag          </td></tr>\n",
       "\t<tr><td>1221            </td><td> 18             </td><td>2011            </td><td>Sitio Baybayon  </td><td>Magbangon       </td></tr>\n",
       "\t<tr><td>1025            </td><td> 14             </td><td>2011            </td><td>Sitio Baybayon  </td><td>Cabatoan        </td></tr>\n",
       "\t<tr><td>2131            </td><td>165             </td><td>2011            </td><td>Sitio Baybayon  </td><td>Caridad Cemetery</td></tr>\n",
       "\t<tr><td>2998            </td><td>164             </td><td>2011            </td><td>Sitio Baybayon  </td><td>Caridad Proper  </td></tr>\n",
       "</tbody>\n",
       "</table>\n"
      ],
      "text/latex": [
       "\\begin{tabular}{r|lllll}\n",
       " AnnRecPart & direction & SimYear & source & destination\\\\\n",
       "\\hline\n",
       "\t  624             &  28              & 2011             & Sitio Baybayon   & Palanas         \\\\\n",
       "\t 1080             &  26              & 2011             & Sitio Baybayon   & Wangag          \\\\\n",
       "\t 1221             &  18              & 2011             & Sitio Baybayon   & Magbangon       \\\\\n",
       "\t 1025             &  14              & 2011             & Sitio Baybayon   & Cabatoan        \\\\\n",
       "\t 2131             & 165              & 2011             & Sitio Baybayon   & Caridad Cemetery\\\\\n",
       "\t 2998             & 164              & 2011             & Sitio Baybayon   & Caridad Proper  \\\\\n",
       "\\end{tabular}\n"
      ],
      "text/markdown": [
       "\n",
       "| AnnRecPart | direction | SimYear | source | destination |\n",
       "|---|---|---|---|---|\n",
       "|  624             |  28              | 2011             | Sitio Baybayon   | Palanas          |\n",
       "| 1080             |  26              | 2011             | Sitio Baybayon   | Wangag           |\n",
       "| 1221             |  18              | 2011             | Sitio Baybayon   | Magbangon        |\n",
       "| 1025             |  14              | 2011             | Sitio Baybayon   | Cabatoan         |\n",
       "| 2131             | 165              | 2011             | Sitio Baybayon   | Caridad Cemetery |\n",
       "| 2998             | 164              | 2011             | Sitio Baybayon   | Caridad Proper   |\n",
       "\n"
      ],
      "text/plain": [
       "  AnnRecPart direction SimYear source         destination     \n",
       "1  624        28       2011    Sitio Baybayon Palanas         \n",
       "2 1080        26       2011    Sitio Baybayon Wangag          \n",
       "3 1221        18       2011    Sitio Baybayon Magbangon       \n",
       "4 1025        14       2011    Sitio Baybayon Cabatoan        \n",
       "5 2131       165       2011    Sitio Baybayon Caridad Cemetery\n",
       "6 2998       164       2011    Sitio Baybayon Caridad Proper  "
      ]
     },
     "metadata": {},
     "output_type": "display_data"
    }
   ],
   "source": [
    "head(SimConnDFMeta %>% dplyr::select(AnnRecPart, direction, SimYear, source, destination))\n",
    "SimConnDFMeta %>%"
   ]
  },
  {
   "cell_type": "code",
   "execution_count": 104,
   "metadata": {},
   "outputs": [
    {
     "data": {
      "image/png": "[encoded data removed]",
      "text/plain": [
       "Plot with title “Histogram of SimConnDFMeta$direction”"
      ]
     },
     "metadata": {},
     "output_type": "display_data"
    }
   ],
   "source": [
    "hist(SimConnDFMeta$direction, breaks=100)"
   ]
  },
  {
   "cell_type": "code",
   "execution_count": 102,
   "metadata": {},
   "outputs": [
    {
     "data": {
      "text/plain": [
       "   Min. 1st Qu.  Median    Mean 3rd Qu.    Max. \n",
       "      1      77     158     164     246     333 "
      ]
     },
     "metadata": {},
     "output_type": "display_data"
    },
    {
     "data": {
      "text/html": [
       "'numeric'"
      ],
      "text/latex": [
       "'numeric'"
      ],
      "text/markdown": [
       "'numeric'"
      ],
      "text/plain": [
       "[1] \"numeric\""
      ]
     },
     "metadata": {},
     "output_type": "display_data"
    }
   ],
   "source": [
    "summary(SimConnDFMeta$direction)\n",
    "(SimConnDFMeta$direction)"
   ]
  },
  {
   "cell_type": "code",
   "execution_count": null,
   "metadata": {},
   "outputs": [],
   "source": []
  },
  {
   "cell_type": "code",
   "execution_count": null,
   "metadata": {},
   "outputs": [],
   "source": []
  },
  {
   "cell_type": "code",
   "execution_count": null,
   "metadata": {},
   "outputs": [],
   "source": [
    "#this isn't significant, which means the residual difference is small enough here to say the model fits reasonably well\n",
    "with(test_mod, cbind(res.deviance = deviance, df = df.residual,\n",
    "  p = pchisq(deviance, df.residual, lower.tail=FALSE)))\n"
   ]
  },
  {
   "cell_type": "code",
   "execution_count": null,
   "metadata": {},
   "outputs": [],
   "source": [
    "#how much devience is explained here?"
   ]
  },
  {
   "cell_type": "code",
   "execution_count": null,
   "metadata": {},
   "outputs": [],
   "source": [
    "plot(obs_disp ~ ExpDisp, data=SimPlusGenWithDist)"
   ]
  },
  {
   "cell_type": "code",
   "execution_count": null,
   "metadata": {
    "scrolled": false
   },
   "outputs": [],
   "source": [
    "#plot(test_mod_int)"
   ]
  },
  {
   "cell_type": "code",
   "execution_count": null,
   "metadata": {},
   "outputs": [],
   "source": [
    "#plot predicted model\n",
    "range(SimPlusGenWithDist$ExpDisp)"
   ]
  },
  {
   "cell_type": "code",
   "execution_count": null,
   "metadata": {},
   "outputs": [],
   "source": [
    "exp_disp_range <- seq(0, 66114, 1)"
   ]
  },
  {
   "cell_type": "code",
   "execution_count": null,
   "metadata": {},
   "outputs": [],
   "source": [
    "obs_disp_pred <- predict(test_mod_int,type=\"response\")"
   ]
  },
  {
   "cell_type": "code",
   "execution_count": null,
   "metadata": {},
   "outputs": [],
   "source": [
    "plot( SimPlusGenWithDist$ExpDisp, SimPlusGenWithDist$obs_disp, pch = 16)#, xlab = \"WEIGHT (g)\", ylab = \"VS\")\n",
    "\n",
    "lines(obs_disp_pred)"
   ]
  },
  {
   "cell_type": "code",
   "execution_count": null,
   "metadata": {},
   "outputs": [],
   "source": []
  },
  {
   "cell_type": "code",
   "execution_count": null,
   "metadata": {},
   "outputs": [],
   "source": [
    "#sources are rows, columns are destinations, checked this? check again\n",
    "#also check if it matters that these are in alphabetical order YES it should be alphabetical\n",
    "SimDisp2013Mat <- SimDisp2013 %>%\n",
    "    group_by(destination, source) %>%\n",
    "    spread(destination, SumParticles)\n",
    "#\n",
    "rownames(SimDisp2013Mat) <- SimDisp2013Mat$source\n",
    "SimDisp2013Mat$source <- NULL"
   ]
  },
  {
   "cell_type": "code",
   "execution_count": null,
   "metadata": {},
   "outputs": [],
   "source": [
    "#add in unassigned \n",
    "RowtoAddInt <- SimDisp2013RecSamp %>%\n",
    "    ungroup() %>%\n",
    "    arrange(destination) %>%\n",
    "    dplyr::select(TotalUnassigned)\n",
    "\n",
    "RowtoAdd <- as.data.frame(t(RowtoAddInt))\n",
    "colnames(RowtoAdd) <- colnames(SimDisp2013Mat)\n",
    "\n",
    "FullSimDisp2013 <- rbind(SimDisp2013Mat, RowtoAdd)\n",
    "rownames(FullSimDisp2013) <- NULL"
   ]
  },
  {
   "cell_type": "code",
   "execution_count": null,
   "metadata": {},
   "outputs": [],
   "source": [
    "FullSimDisp2012"
   ]
  },
  {
   "cell_type": "code",
   "execution_count": null,
   "metadata": {},
   "outputs": [],
   "source": [
    "SimDisp2012Mat"
   ]
  },
  {
   "cell_type": "code",
   "execution_count": null,
   "metadata": {},
   "outputs": [],
   "source": [
    "#turn into parentage matrix\n",
    "\n",
    "#SimDisp2012Mat <- SimDisp2012 %>%\n",
    "#    ungroup() %>%\n",
    "#    spread(source, destination, SumParticles)\n",
    "    \n",
    "\n",
    "#make the rest of the kernel input files\n",
    "Assignments <- FullSimDisp2013\n",
    "Adult_sample_proportions <- matrix(nrow=18, ncol=1, 1) #we sampled all sites completely because we are working with simulated data\n",
    "Sampled_reefs <- as.matrix(read.csv(\"~/parentage/kernel_fitting/1340_loci/input/site_index_all.csv\", header=FALSE))[,18] #sampled all reefs in the distance matrix/area/centroid files\n",
    "Distances <- as.matrix(read.csv(\"~/parentage/kernel_fitting/1340_loci/input/distance_matrix_unsurveyed.csv\", header=FALSE))[-2, -2]  #drop a magbangon row  \n",
    "Reef_sizes <- as.matrix(read.csv(\"~/parentage/kernel_fitting/894_loci/area_unsurveyed.csv\", header=FALSE))[]\n",
    "Centroids <- as.matrix(read.csv(\"~/parentage/kernel_fitting/894_loci/centroids_unsurveyed.csv\", header=T))\n",
    "\n"
   ]
  },
  {
   "cell_type": "code",
   "execution_count": null,
   "metadata": {},
   "outputs": [],
   "source": [
    "a=-10\n",
    "b=10\n",
    "\n",
    "\n",
    "x <- list(Distances=Distances, Assignments=Assignments, Sampled_reefs=Sampled_reefs, Reef_sizes=Reef_sizes, Adult_sample_proportions=Adult_sample_proportions) #put inputs into a list because that's the bbmle format\n",
    "\n",
    "Sim2013Fit <- suppressWarnings(mle2(LL_kt_bbmle, start=list(k=-3, theta=1), lower=c(-10, 0.15), upper=c(10, 8), method=\"L-BFGS-B\", data=x, control=list(maxit=500)))\n",
    "Sim2013Fit\n",
    "\n",
    "#doen't look right. Maybe fix theta, optimize k"
   ]
  },
  {
   "cell_type": "code",
   "execution_count": null,
   "metadata": {},
   "outputs": [],
   "source": []
  },
  {
   "cell_type": "code",
   "execution_count": null,
   "metadata": {},
   "outputs": [],
   "source": []
  },
  {
   "cell_type": "code",
   "execution_count": null,
   "metadata": {},
   "outputs": [],
   "source": []
  },
  {
   "cell_type": "code",
   "execution_count": null,
   "metadata": {},
   "outputs": [],
   "source": [
    "#monsoon season prep\n",
    "NEM_months <- c(11, 12, 1, 2, 3, 4)\n",
    "SWM_months <- c(5, 6, 7, 8, 9, 10)\n",
    "\n",
    "NEM <- conn_mat_full4 %>%\n",
    "    filter(month %in% NEM_months) %>%\n",
    "    group_by(source, destination) %>%\n",
    "    summarise(conn=max(fraction))\n",
    "\n",
    "SWM <- conn_mat_full4 %>%\n",
    "    filter(month %in% SWM_months) %>%\n",
    "    group_by(source, destination) %>%\n",
    "    summarise(conn=max(fraction))"
   ]
  }
 ],
 "metadata": {
  "kernelspec": {
   "display_name": "R",
   "language": "R",
   "name": "ir"
  },
  "language_info": {
   "codemirror_mode": "r",
   "file_extension": ".r",
   "mimetype": "text/x-r-source",
   "name": "R",
   "pygments_lexer": "r",
   "version": "3.6.1"
  }
 },
 "nbformat": 4,
 "nbformat_minor": 4
}
