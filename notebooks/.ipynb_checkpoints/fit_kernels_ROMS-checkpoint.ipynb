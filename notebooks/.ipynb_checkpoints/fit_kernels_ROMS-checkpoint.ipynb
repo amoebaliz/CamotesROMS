{
 "cells": [
  {
   "cell_type": "code",
   "execution_count": 1,
   "metadata": {},
   "outputs": [],
   "source": [
    "Packages <- c(\"dplyr\",\"broom\", \"data.table\",  \"ggplot2\", \"bbmle\", \"dplyr\",\"tidyr\", \"stringr\", \"tidyverse\", \"lubridate\", \"RColorBrewer\")\n",
    "\n",
    "invisible(suppressPackageStartupMessages(lapply(Packages, library, character.only = TRUE)))\n",
    "\n",
    "setwd('/local/home/katrinac/oceanography')\n",
    "\"%!in%\" <- function(x,table) match(x,table, nomatch = 0) == 0\n",
    "source(\"~/parentage/kernel_fitting/1340_loci/functions/ll_kt_both_bbmle.R\")\n",
    "\n",
    "#clownfish metadata\n",
    "load(\"~/parentage/r_data/total_sampling_across_years.RData\")\n",
    "load(\"~/parentage/r_data/sampled_area_each_year.RData\")\n",
    "#https://github.com/pinskylab/Clownfish_persistence/blob/master/Data/Script_outputs/cumulative_prop_hab_sampled_by_site.RData)\n",
    "load(\"~/parentage/r_data/cumulative_prop_hab_sampled_by_site.RData\")\n",
    "#download.file(url = \"https://github.com/pinskylab/genomics/blob/master/data/fish-obs.RData?raw=true\", destfile = \"~/parentage/r_data/fish-obs.RData\")\n",
    "fish_obs <- readRDS(\"~/parentage/r_data/fish-obs.RData\") \n",
    "load(\"~/parentage/r_data/site_dist_info.RData\")\n",
    "#download.file(url = \"https://github.com/pinskylab/Clownfish_persistence/blob/master/Data/Data_from_database/anem_db.RData?raw=true\", destfile = \"~/parentage/r_data/anem_db.RData\")\n",
    "load(\"~/parentage/r_data/anem_db.RData\")\n",
    "#download.file(url = \"https://github.com/pinskylab/Clownfish_persistence/blob/master/Data/Data_from_database/dives_db.RData?raw=true\", destfile = \"~/parentage/r_data/dives_db.RData\")\n",
    "load(\"~/parentage/r_data/dives_db.RData\")\n",
    "#download.file(url = \"https://github.com/pinskylab/Clownfish_persistence/blob/master/Data/Data_from_database/fish_db.RData?raw=true\", destfile = \"~/parentage/r_data/dives_db.RData\")\n",
    "load(\"~/parentage/r_data/fish_db.RData\")\n",
    "load(\"~/parentage/r_data/gps_db.RData\")"
   ]
  },
  {
   "cell_type": "code",
   "execution_count": 66,
   "metadata": {},
   "outputs": [],
   "source": [
    "UnsampledSites <- c(\"SF1\", \"SF2\", \"SF3\", \"SF4\", \"SF5\", \"SF6\", \"Pangasugan\", \"Other\") \n",
    "SimConn <- read.csv(file=\"~/oceanography/script_output/SimConnectivityTableWithMeta.csv\", header=T) #%>%\n",
    "    #filter(source %!in% UnsampledSites & destination  %!in% UnsampledSites )"
   ]
  },
  {
   "cell_type": "code",
   "execution_count": 43,
   "metadata": {
    "scrolled": true
   },
   "outputs": [],
   "source": [
    "#read in the df where each particle is an observation\n",
    "Simulation2012 <- fread(file=\"~/oceanography/script_output/SimConnLongForm2012YearSampled.csv\", showProgress = T)\n",
    "#this is about 3 GB so fread is fastest, but consider these options for dealing with a large csv\n",
    "#https://inbo.github.io/tutorials/tutorials/r_large_data_files_handling/\n",
    "\n",
    "#head(Simulation2012 %>% group_by(date, source, destination) %>% summarise(Check=n()))\n",
    "#CAI should be 201718, it is, all good"
   ]
  },
  {
   "cell_type": "code",
   "execution_count": 125,
   "metadata": {},
   "outputs": [
    {
     "data": {
      "text/html": [
       "0"
      ],
      "text/latex": [
       "0"
      ],
      "text/markdown": [
       "0"
      ],
      "text/plain": [
       "[1] 0"
      ]
     },
     "metadata": {},
     "output_type": "display_data"
    }
   ],
   "source": [
    "#proportion sampled\n",
    "\n",
    "#add how well we sampled sites- proportion of habitat sampled\n",
    "load(\"~/parentage/r_data/cumulative_prop_hab_sampled_by_site.RData\")\n",
    "PropSamp <- cumulative_prop_hab_sampled_by_site %>%\n",
    "    mutate(total_possible_sample_anems = ifelse(site==\"Caridad Proper\", 4, total_possible_sample_anems) ) %>%\n",
    "    mutate(total_prop_hab_sampled_anems_tidied= ifelse(site==\"Caridad Proper\" & total_anems_sampled==4, 1, total_prop_hab_sampled_anems_tidied) ) %>%\n",
    "    mutate(total_possible_sample_anems = ifelse(site==\"Sitio Lonas\", total_anems_sampled, total_possible_sample_anems) ) %>%\n",
    "    mutate(total_prop_hab_sampled_anems_tidied= ifelse(site==\"Sitio Lonas\", 1, total_prop_hab_sampled_anems_tidied) )%>%\n",
    "    mutate(total_prop_hab_sampled_anems_tidied= ifelse(is.nan(total_prop_hab_sampled_anems_tidied), 0, total_prop_hab_sampled_anems_tidied) ) %>%\n",
    "    dplyr::select(site, time_frame, end_year, total_prop_hab_sampled_anems_tidied) \n",
    "\n",
    "PropSamp$site <- gsub(\". \", \".\", PropSamp$site, fixed=TRUE) #fix spaces in Magbangon names\n",
    "\n",
    "S.Mag <- PropSamp %>%#make a table for all of the S. Mabangon years/prop sampled. Then join to the DF, make a column adding S.Magbangon values to all rows of prop sampled, but only sub that value in for PropSamp in N.Magbangon rows, then rename N.Magbangon as Magbangon\n",
    "    filter(site==\"S.Magbangon\") %>%\n",
    "    dplyr::select(site, end_year, total_prop_hab_sampled_anems_tidied) %>%\n",
    "    rename(S.MagVal=\"total_prop_hab_sampled_anems_tidied\", extra=\"site\")\n",
    "\n",
    "PropSamp <- left_join(PropSamp, S.Mag, by=c(\"end_year\")) %>%\n",
    "    mutate(S.MagSum=total_prop_hab_sampled_anems_tidied+S.MagVal) %>% #create col adding the S.Mag values to prop hab - keep in mind values could be greater than 1- if so change them to 1\n",
    "    mutate(total_prop_hab_sampled_anems_tidied= ifelse(site==\"N.Magbangon\", S.MagSum, total_prop_hab_sampled_anems_tidied)) %>%#sub this value in for only N.Mag\n",
    "    mutate(site=ifelse(site==\"N.Magbangon\", \"Magbangon\", site)) %>%#change N.Mag name to generic Mag\n",
    "    filter(site !=\"S.Magbangon\") %>%#eliminate the S.Mag rows, they are now repeats\n",
    "    dplyr::select(-S.MagVal,-extra, -S.MagSum, -time_frame) %>%\n",
    "    rename(PropSamp=\"total_prop_hab_sampled_anems_tidied\")\n",
    "\n",
    "\n",
    "#check if there are values>1, should be none\n",
    "sum(which(PropSamp$total_prop_hab_sampled_anems_tidied >1)) #zero, that's good"
   ]
  },
  {
   "cell_type": "code",
   "execution_count": 126,
   "metadata": {},
   "outputs": [
    {
     "name": "stderr",
     "output_type": "stream",
     "text": [
      "`summarise()` regrouping output by 'year' (override with `.groups` argument)\n",
      "`summarise()` ungrouping output (override with `.groups` argument)\n"
     ]
    },
    {
     "data": {
      "text/html": [
       "791"
      ],
      "text/latex": [
       "791"
      ],
      "text/markdown": [
       "791"
      ],
      "text/plain": [
       "[1] 791"
      ]
     },
     "metadata": {},
     "output_type": "display_data"
    }
   ],
   "source": [
    "#load data from the genetic sampling in each year\n",
    "#read in the kernel fitting summary\n",
    "kernels <- read.csv(file=\"~/parentage/kernel_fitting/1340_loci/final_results/tables/kernel_fitting_summary.csv\", header=T)\n",
    "\n",
    "##read in the sites that we sampled each year\n",
    "N_gen_par <- read.table(file=\"~/parentage/colony2/20190523_1340loci/input/all_parents_corrected.txt\", header = TRUE, stringsAsFactors = F) %>%#not sure that I need the parents here\n",
    "    mutate(fish_indiv=as.character(fish_indiv))\n",
    "N_gen_offs <- read.table(file=\"~/parentage/colony2/20190523_1340loci/input/all_offspring_corrected.txt\", header=T, stringsAsFactors = F) %>%\n",
    "    mutate(fish_indiv=as.character(fish_indiv))\n",
    "\n",
    "\n",
    "\n",
    "#gather the summary of total offspring sampled\n",
    "#from Allison, putting all the meta data together (Constants_database_common_functions.R)\n",
    "##### Match up other relevant info (site, date, fish_indiv, etc.) to fish in the clownfish table\n",
    "# Pull out year and month into a separate column in dives_db\n",
    "dives_db_processed <- dives_db %>%\n",
    "  mutate(year = as.integer(substring(date,1,4))) %>%\n",
    "  mutate(month = as.integer(substring(date,6,7))) %>%\n",
    "  mutate(dive_date = date(date))\n",
    "\n",
    "# Pull all APCL caught or otherwise in the clownfish table\n",
    "allfish_fish <- fish_db %>%\n",
    "  select(fish_table_id, anem_table_id, fish_spp, sample_id, anem_table_id, recap, tag_id, color, sex, size, fish_obs_time, fish_notes) %>%\n",
    "  filter(fish_spp == 'APCL') %>%\n",
    "  mutate(size = as.numeric(size))  # make the size numeric (rather than chr) so can do means and such\n",
    "\n",
    "# and their corresponding anemones\n",
    "allfish_anems <- anem_db %>%\n",
    "  select(anem_table_id, dive_table_id, anem_obs, anem_id, old_anem_id, anem_notes) %>%\n",
    "  filter(anem_table_id %in% allfish_fish$anem_table_id)\n",
    "\n",
    "# and the corresponding dive info\n",
    "allfish_dives <- dives_db_processed %>%\n",
    "  select(dive_table_id, dive_type, date, year, month, site, gps, dive_notes) %>%\n",
    "  filter(dive_table_id %in% allfish_anems$dive_table_id) \n",
    "\n",
    "# join together\n",
    "allfish_caught <- left_join(allfish_fish, allfish_anems, by=\"anem_table_id\")\n",
    "allfish_caught <- left_join(allfish_caught, allfish_dives, by=\"dive_table_id\")\n",
    "\n",
    "# add in the gen_ids and fish_indiv (now in a separate gen_id table) - gen_id only comes in the time the fish was sequenced, not at all captures\n",
    "allfish_caught <- left_join(allfish_caught, (fish_obs %>% select(fish_table_id, gen_id, fish_indiv)), by = \"fish_table_id\") %>%\n",
    "    select(fish_indiv, sample_id, site) %>%\n",
    "    mutate()\n",
    "\n",
    "N_gen_offs_annual  <- left_join(N_gen_offs, allfish_caught, by=c(\"fish_indiv\", \"sample_id\")) %>% \n",
    "    group_by(year, site) %>%\n",
    "    summarise(n_offs_gen=n()) %>%\n",
    "    ungroup()\n",
    "\n",
    "N_gen_offs_annual$site <- gsub(\". \", \".\", N_gen_offs_annual$site, fixed=TRUE)\n",
    "\n",
    "##for all years\n",
    "N_gen_offs_all <- N_gen_offs_annual %>% \n",
    "    group_by(site) %>% \n",
    "    summarise(sampled_fish=sum(n_offs_gen, na.rm=T))\n",
    "\n",
    "sum(N_gen_offs_all$sampled_fish)"
   ]
  },
  {
   "cell_type": "code",
   "execution_count": 218,
   "metadata": {},
   "outputs": [
    {
     "name": "stderr",
     "output_type": "stream",
     "text": [
      "`summarise()` regrouping output by 'year' (override with `.groups` argument)\n"
     ]
    },
    {
     "data": {
      "text/html": [
       "791"
      ],
      "text/latex": [
       "791"
      ],
      "text/markdown": [
       "791"
      ],
      "text/plain": [
       "[1] 791"
      ]
     },
     "metadata": {},
     "output_type": "display_data"
    }
   ],
   "source": [
    "#combine N/S Magbangon in the genetic sampling data\n",
    "\n",
    "AnnualRecsSamp <- bind_rows(N_gen_offs_annual %>%\n",
    "                        filter(site !=\"N.Magbangon\" & site!=\"S.Magbangon\"),\n",
    "                    N_gen_offs_annual %>%\n",
    "                        mutate(Magbangon=ifelse(site==\"N.Magbangon\" | site==\"S.Magbangon\", \"Magbangon\", \"no\")) %>%\n",
    "                        filter(Magbangon==\"Magbangon\") %>%\n",
    "                        group_by(year, Magbangon) %>%\n",
    "                        summarise(sum_offs=sum(n_offs_gen)) %>%\n",
    "                        rename(site=\"Magbangon\", n_offs_gen=\"sum_offs\")) %>%\n",
    "                        mutate(year=as.character(year)) %>%\n",
    "                        ungroup()\n",
    "sum(AnnualRecsSamp$n_offs_gen) #should be 791\n",
    "\n",
    "#add in ALL sites that we sampled, even though we didn't find recruits there\n",
    "AnnualRecsSamp <- left_join(PropSamp %>%  #add in all sampled sites as possible offs sites\n",
    "                            filter(PropSamp > 0),\n",
    "                          AnnualRecsSamp, \n",
    "                              by=c(\"site\", end_year=\"year\")) %>%\n",
    "                        rename(year=\"end_year\")  %>%\n",
    "                        mutate(n_offs_gen=ifelse(is.na(n_offs_gen), 0, n_offs_gen)) #if we didn't sample a recruit at a site that we still visited, put a 0 in place of the NA\n",
    "                        \n"
   ]
  },
  {
   "cell_type": "code",
   "execution_count": 219,
   "metadata": {},
   "outputs": [
    {
     "data": {
      "text/html": [
       "9"
      ],
      "text/latex": [
       "9"
      ],
      "text/markdown": [
       "9"
      ],
      "text/plain": [
       "[1] 9"
      ]
     },
     "metadata": {},
     "output_type": "display_data"
    }
   ],
   "source": [
    "NGenOffs2012 <- AnnualRecsSamp %>%\n",
    "    filter(year==\"2012\")\n",
    "\n",
    "nrow(NGenOffs2012)"
   ]
  },
  {
   "cell_type": "code",
   "execution_count": 211,
   "metadata": {
    "scrolled": true
   },
   "outputs": [
    {
     "data": {
      "text/html": [
       "TRUE"
      ],
      "text/latex": [
       "TRUE"
      ],
      "text/markdown": [
       "TRUE"
      ],
      "text/plain": [
       "[1] TRUE"
      ]
     },
     "metadata": {},
     "output_type": "display_data"
    },
    {
     "data": {
      "text/html": [
       "63"
      ],
      "text/latex": [
       "63"
      ],
      "text/markdown": [
       "63"
      ],
      "text/plain": [
       "[1] 63"
      ]
     },
     "metadata": {},
     "output_type": "display_data"
    },
    {
     "data": {
      "text/html": [
       "3"
      ],
      "text/latex": [
       "3"
      ],
      "text/markdown": [
       "3"
      ],
      "text/plain": [
       "[1] 3"
      ]
     },
     "metadata": {},
     "output_type": "display_data"
    }
   ],
   "source": [
    "#sample the simulation results according to how many offspring we sampled at that site in real life, each row is a column\n",
    "NGenOffs2012 <- AnnualRecsSamp %>%\n",
    "    filter(year==\"2012\")\n",
    "\n",
    "#make an empty dataframe\n",
    "SimulatedSampling2012 = Simulation2012[FALSE,]\n",
    "\n",
    "for(i in 1:nrow(NGenOffs2012)){ \n",
    "    \n",
    "    destination_eval <- as.character(NGenOffs2012$site[i])\n",
    "    \n",
    "    SimSampDestination <- Simulation2012 %>%\n",
    "                                filter(destination==destination_eval) %>%\n",
    "                                sample_n(as.numeric(NGenOffs2012$n_offs_gen[i]), replace=F)\n",
    "    SimulatedSampling2012 <- bind_rows(SimulatedSampling2012, SimSampDestination)\n",
    "}\n",
    "\n",
    "nrow(SimulatedSampling2012)==sum(NGenOffs2012$n_offs_gen) #should be TRUE\n",
    "\n",
    "#now randomly assign parentage match status to some of these rows\n",
    "NumPar <- as.numeric(kernels %>%\n",
    "    filter(Year==\"2012\") %>%\n",
    "    select(NumParentageMatches))\n",
    "\n",
    "SimulatedSampling2012Par <- SimulatedSampling2012 %>%\n",
    "    ungroup() %>%\n",
    "    filter(source %!in% UnsampledSites) %>% #we can only assign parentage if we sampled the source site, we've already ensured that we sampled the destination site in the for loop by indexing destination sites to evaluate \n",
    "    sample_n(NumPar, replace=F) %>% #sample number of rows consitent with numbers of parentage matches\n",
    "    mutate(SimNumPar=1) #%>% #assign these rows a positive match value\n",
    "    #arrange(date, source, destination) %>%#arrange by the same order as the orginal df, then bind columns together to avoid unexpected repeats from a join\n",
    "    #select(date, source, destination, Parentage) #drop columns that will result in repeats \n",
    "\n",
    "#find the rows that haven't been assigned parentage\n",
    "SimulatedSampling2012_2 <- anti_join((SimulatedSampling2012 %>% ungroup()), SimulatedSampling2012Par, by=c(\"date\", \"source\", \"destination\")) \n",
    "\n",
    "SimulatedSampling2012_2$SimNumPar <- 0 #add in the column for parentage\n",
    "\n",
    "#combine parentage and non-parentage dfs\n",
    "SimulatedSampling2012Par3 <- bind_rows(SimulatedSampling2012Par, SimulatedSampling2012_2) %>%\n",
    "    mutate(YearSampled=as.character(YearSampled))\n",
    "\n",
    "nrow(SimulatedSampling2012Par3) #for 2012 it should be 63, and it is yay\n",
    "nrow(SimulatedSampling2012Par3 %>% filter(SimNumPar==1)) #for 2012 should be 3, and it is yay"
   ]
  },
  {
   "cell_type": "code",
   "execution_count": null,
   "metadata": {},
   "outputs": [],
   "source": [
    "#shoot... I have to figure out how to add in rows/cols for all of the sites that we sampled but didn't find fish at"
   ]
  },
  {
   "cell_type": "code",
   "execution_count": 278,
   "metadata": {
    "scrolled": true
   },
   "outputs": [],
   "source": [
    "#NOTE going to need to make sure everything with site names is in alphabetical order!\n",
    "#this DF directly below will have the unassigned recruit info\n",
    "PropSamp12 <- PropSamp %>%  #add in all sampled sites as possible parent sites\n",
    "                filter(end_year ==\"2012\" & PropSamp > 0) %>%\n",
    "                rename(source=\"site\")\n",
    "\n",
    "PropSamp12$destination <- PropSamp12$source\n",
    "\n",
    "SimPar2012 <- SimulatedSampling2012Par3 %>%\n",
    "                group_by(destination) %>%\n",
    "                mutate(NumSimSampRec=n()) %>%\n",
    "                mutate(NumUnassignedRec=NumSimSampRec-SimNumPar)\n",
    "\n",
    "SimDisp2012 <- full_join(SimPar2012, PropSamp12, by=c(\"source\", \"destination\")) %>%\n",
    "    group_by(source, destination) %>%\n",
    "    filter(row_number()==1) %>%\n",
    "    select(source, destination, SimNumPar)%>%\n",
    "    filter(source %in% NGenOffs2012$site) %>%\n",
    "    arrange(source, destination) \n",
    "\n",
    "SimDisp2012Mat <- SimDisp2012 %>%\n",
    "    spread(destination, SimNumPar)\n",
    "\n",
    "##add in all possible source sites\n",
    "#SimParMat <- full_join(SimPar2012 %>% \n",
    "#            select(source, destination, SimNumPar)%>%\n",
    "#            ungroup() %>%\n",
    "#            arrange(destination, source) #%>%\n",
    "#            #distinct(source, destination, .keep_all = T) #%>%\n",
    "#            #spread(destination, SimNumPar)\n",
    "#\n",
    "#SimPar2012 \n",
    "##add in all possible destination sites? actually probably don't need to do this because we did this in the for loop?\n",
    "#SimPar2012Mat <- #inner_join(PropSamp %>%  #add in all sampled sites as possible parent sites\n",
    "#                           # filter(end_year ==\"2012\" & PropSamp > 0) %>% \n",
    "#                           # select(-end_year, -PropSamp), SimPar2012_2, by=c(site=\"destination\")) %>%\n",
    "#                    #rename(destination=\"site\") %>%\n",
    "#                    SimPar2012_2 %>%\n",
    "#                    ungroup() %>%\n",
    "#                    arrange(destination, source) %>%\n",
    "#                    distinct(source, destination, .keep_all = T) %>%\n",
    "#                    spread(destination, SimNumPar)\n",
    "\n",
    "row2add <- SimPar2012 %>%\n",
    "    distinct(destination, .keep_all = T) %>%\n",
    "    filter(destination %in% NGenOffs2012$site) %>%\n",
    "    arrange(destination) %>%\n",
    "    ungroup() %>%\n",
    "    select(NumUnassignedRec)\n",
    "    \n",
    "row2addT <- as.data.frame(t(row2add))\n",
    "#colnames(row2addT) <- colnames(SimDisp2012Mat)\n",
    "#\n",
    "#SimDisp2012MatFull <- bind_rows(SimDisp2012Mat, row2addT)\n",
    "#SimDisp2012MatFull[is.na(SimDisp2012MatFull)] <- 0\n",
    "#\n",
    "#\n",
    "#rownames(SimDisp2012MatFull) <- SimDisp2012MatFull$source\n",
    "#SimDisp2012MatFull$source <- NULL\n",
    "#\n",
    "#"
   ]
  },
  {
   "cell_type": "code",
   "execution_count": 280,
   "metadata": {},
   "outputs": [
    {
     "data": {
      "text/html": [
       "<table>\n",
       "<thead><tr><th scope=col>date</th><th scope=col>source</th><th scope=col>destination</th><th scope=col>SourceSampled</th><th scope=col>DestSampled</th><th scope=col>SimMonth</th><th scope=col>SimDay</th><th scope=col>SimYear</th><th scope=col>YearSampled</th><th scope=col>SimMonsoon</th><th scope=col>DailyParticles</th><th scope=col>ParticlesReleasedDaily</th><th scope=col>dist_km</th><th scope=col>bearing</th><th scope=col>direction</th><th scope=col>SimNumPar</th><th scope=col>end_year</th><th scope=col>PropSamp</th><th scope=col>NumSimSampRec</th><th scope=col>NumUnassignedRec</th></tr></thead>\n",
       "<tbody>\n",
       "\t<tr><td>NA        </td><td>Cabatoan  </td><td>Cabatoan  </td><td>NA        </td><td>NA        </td><td>NA        </td><td>NA        </td><td>  NA      </td><td>NA        </td><td>NA        </td><td>NA        </td><td> NA       </td><td>      NA  </td><td>       NA </td><td>      NA  </td><td>NA        </td><td>2012      </td><td>0.4230769 </td><td> 5        </td><td>NA        </td></tr>\n",
       "\t<tr><td>2012-04-10</td><td>Cabatoan  </td><td>Palanas   </td><td>yes       </td><td>yes       </td><td> 4        </td><td> 4        </td><td>2012      </td><td>2012      </td><td>NEM       </td><td>27        </td><td>992       </td><td>2.660843  </td><td>-40.29721 </td><td>319.7028  </td><td> 0        </td><td>NA        </td><td>       NA </td><td>13        </td><td>13        </td></tr>\n",
       "\t<tr><td>2011-11-09</td><td>Cabatoan  </td><td>Wangag    </td><td>yes       </td><td>yes       </td><td>11        </td><td>11        </td><td>2011      </td><td>2012      </td><td>NEM       </td><td>34        </td><td>992       </td><td>2.134203  </td><td>-37.31879 </td><td>322.6812  </td><td> 1        </td><td>NA        </td><td>       NA </td><td>16        </td><td>15        </td></tr>\n",
       "\t<tr><td>NA        </td><td>Magbangon </td><td>Magbangon </td><td>NA        </td><td>NA        </td><td>NA        </td><td>NA        </td><td>  NA      </td><td>NA        </td><td>NA        </td><td>NA        </td><td> NA       </td><td>      NA  </td><td>       NA </td><td>      NA  </td><td>NA        </td><td>2012      </td><td>0.4593838 </td><td>11        </td><td>NA        </td></tr>\n",
       "\t<tr><td>2011-11-11</td><td>Magbangon </td><td>Palanas   </td><td>yes       </td><td>yes       </td><td>11        </td><td>11        </td><td>2011      </td><td>2012      </td><td>NEM       </td><td> 1        </td><td>992       </td><td>2.413918  </td><td>-39.47744 </td><td>320.5226  </td><td> 1        </td><td>NA        </td><td>       NA </td><td>13        </td><td>12        </td></tr>\n",
       "\t<tr><td>2011-12-31</td><td>Magbangon </td><td>Wangag    </td><td>yes       </td><td>yes       </td><td>12        </td><td>12        </td><td>2011      </td><td>2012      </td><td>NEM       </td><td>18        </td><td>992       </td><td>1.889746  </td><td>-35.88250 </td><td>324.1175  </td><td> 0        </td><td>NA        </td><td>       NA </td><td>16        </td><td>16        </td></tr>\n",
       "</tbody>\n",
       "</table>\n"
      ],
      "text/latex": [
       "\\begin{tabular}{r|llllllllllllllllllll}\n",
       " date & source & destination & SourceSampled & DestSampled & SimMonth & SimDay & SimYear & YearSampled & SimMonsoon & DailyParticles & ParticlesReleasedDaily & dist\\_km & bearing & direction & SimNumPar & end\\_year & PropSamp & NumSimSampRec & NumUnassignedRec\\\\\n",
       "\\hline\n",
       "\t NA         & Cabatoan   & Cabatoan   & NA         & NA         & NA         & NA         &   NA       & NA         & NA         & NA         &  NA        &       NA   &        NA  &       NA   & NA         & 2012       & 0.4230769  &  5         & NA        \\\\\n",
       "\t 2012-04-10 & Cabatoan   & Palanas    & yes        & yes        &  4         &  4         & 2012       & 2012       & NEM        & 27         & 992        & 2.660843   & -40.29721  & 319.7028   &  0         & NA         &        NA  & 13         & 13        \\\\\n",
       "\t 2011-11-09 & Cabatoan   & Wangag     & yes        & yes        & 11         & 11         & 2011       & 2012       & NEM        & 34         & 992        & 2.134203   & -37.31879  & 322.6812   &  1         & NA         &        NA  & 16         & 15        \\\\\n",
       "\t NA         & Magbangon  & Magbangon  & NA         & NA         & NA         & NA         &   NA       & NA         & NA         & NA         &  NA        &       NA   &        NA  &       NA   & NA         & 2012       & 0.4593838  & 11         & NA        \\\\\n",
       "\t 2011-11-11 & Magbangon  & Palanas    & yes        & yes        & 11         & 11         & 2011       & 2012       & NEM        &  1         & 992        & 2.413918   & -39.47744  & 320.5226   &  1         & NA         &        NA  & 13         & 12        \\\\\n",
       "\t 2011-12-31 & Magbangon  & Wangag     & yes        & yes        & 12         & 12         & 2011       & 2012       & NEM        & 18         & 992        & 1.889746   & -35.88250  & 324.1175   &  0         & NA         &        NA  & 16         & 16        \\\\\n",
       "\\end{tabular}\n"
      ],
      "text/markdown": [
       "\n",
       "| date | source | destination | SourceSampled | DestSampled | SimMonth | SimDay | SimYear | YearSampled | SimMonsoon | DailyParticles | ParticlesReleasedDaily | dist_km | bearing | direction | SimNumPar | end_year | PropSamp | NumSimSampRec | NumUnassignedRec |\n",
       "|---|---|---|---|---|---|---|---|---|---|---|---|---|---|---|---|---|---|---|---|\n",
       "| NA         | Cabatoan   | Cabatoan   | NA         | NA         | NA         | NA         |   NA       | NA         | NA         | NA         |  NA        |       NA   |        NA  |       NA   | NA         | 2012       | 0.4230769  |  5         | NA         |\n",
       "| 2012-04-10 | Cabatoan   | Palanas    | yes        | yes        |  4         |  4         | 2012       | 2012       | NEM        | 27         | 992        | 2.660843   | -40.29721  | 319.7028   |  0         | NA         |        NA  | 13         | 13         |\n",
       "| 2011-11-09 | Cabatoan   | Wangag     | yes        | yes        | 11         | 11         | 2011       | 2012       | NEM        | 34         | 992        | 2.134203   | -37.31879  | 322.6812   |  1         | NA         |        NA  | 16         | 15         |\n",
       "| NA         | Magbangon  | Magbangon  | NA         | NA         | NA         | NA         |   NA       | NA         | NA         | NA         |  NA        |       NA   |        NA  |       NA   | NA         | 2012       | 0.4593838  | 11         | NA         |\n",
       "| 2011-11-11 | Magbangon  | Palanas    | yes        | yes        | 11         | 11         | 2011       | 2012       | NEM        |  1         | 992        | 2.413918   | -39.47744  | 320.5226   |  1         | NA         |        NA  | 13         | 12         |\n",
       "| 2011-12-31 | Magbangon  | Wangag     | yes        | yes        | 12         | 12         | 2011       | 2012       | NEM        | 18         | 992        | 1.889746   | -35.88250  | 324.1175   |  0         | NA         |        NA  | 16         | 16         |\n",
       "\n"
      ],
      "text/plain": [
       "  date       source    destination SourceSampled DestSampled SimMonth SimDay\n",
       "1 NA         Cabatoan  Cabatoan    NA            NA          NA       NA    \n",
       "2 2012-04-10 Cabatoan  Palanas     yes           yes          4        4    \n",
       "3 2011-11-09 Cabatoan  Wangag      yes           yes         11       11    \n",
       "4 NA         Magbangon Magbangon   NA            NA          NA       NA    \n",
       "5 2011-11-11 Magbangon Palanas     yes           yes         11       11    \n",
       "6 2011-12-31 Magbangon Wangag      yes           yes         12       12    \n",
       "  SimYear YearSampled SimMonsoon DailyParticles ParticlesReleasedDaily dist_km \n",
       "1   NA    NA          NA         NA              NA                          NA\n",
       "2 2012    2012        NEM        27             992                    2.660843\n",
       "3 2011    2012        NEM        34             992                    2.134203\n",
       "4   NA    NA          NA         NA              NA                          NA\n",
       "5 2011    2012        NEM         1             992                    2.413918\n",
       "6 2011    2012        NEM        18             992                    1.889746\n",
       "  bearing   direction SimNumPar end_year PropSamp  NumSimSampRec\n",
       "1        NA       NA  NA        2012     0.4230769  5           \n",
       "2 -40.29721 319.7028   0        NA              NA 13           \n",
       "3 -37.31879 322.6812   1        NA              NA 16           \n",
       "4        NA       NA  NA        2012     0.4593838 11           \n",
       "5 -39.47744 320.5226   1        NA              NA 13           \n",
       "6 -35.88250 324.1175   0        NA              NA 16           \n",
       "  NumUnassignedRec\n",
       "1 NA              \n",
       "2 13              \n",
       "3 15              \n",
       "4 NA              \n",
       "5 12              \n",
       "6 16              "
      ]
     },
     "metadata": {},
     "output_type": "display_data"
    }
   ],
   "source": [
    "head(SimDisp2012)"
   ]
  },
  {
   "cell_type": "code",
   "execution_count": 261,
   "metadata": {},
   "outputs": [
    {
     "data": {
      "text/html": [
       "9"
      ],
      "text/latex": [
       "9"
      ],
      "text/markdown": [
       "9"
      ],
      "text/plain": [
       "[1] 9"
      ]
     },
     "metadata": {},
     "output_type": "display_data"
    },
    {
     "data": {
      "text/html": [
       "8"
      ],
      "text/latex": [
       "8"
      ],
      "text/markdown": [
       "8"
      ],
      "text/plain": [
       "[1] 8"
      ]
     },
     "metadata": {},
     "output_type": "display_data"
    },
    {
     "data": {
      "text/html": [
       "<ol class=list-inline>\n",
       "\t<li>9</li>\n",
       "\t<li>10</li>\n",
       "</ol>\n"
      ],
      "text/latex": [
       "\\begin{enumerate*}\n",
       "\\item 9\n",
       "\\item 10\n",
       "\\end{enumerate*}\n"
      ],
      "text/markdown": [
       "1. 9\n",
       "2. 10\n",
       "\n",
       "\n"
      ],
      "text/plain": [
       "[1]  9 10"
      ]
     },
     "metadata": {},
     "output_type": "display_data"
    }
   ],
   "source": []
  },
  {
   "cell_type": "code",
   "execution_count": 233,
   "metadata": {},
   "outputs": [
    {
     "data": {
      "text/html": [
       "<table>\n",
       "<thead><tr><th scope=col>source</th><th scope=col>Palanas</th><th scope=col>Poroc Rose</th><th scope=col>Poroc San Flower</th><th scope=col>Wangag</th></tr></thead>\n",
       "<tbody>\n",
       "\t<tr><td>Cabatoan        </td><td> 0              </td><td>NA              </td><td>NA              </td><td> 1              </td></tr>\n",
       "\t<tr><td>Magbangon       </td><td> 1              </td><td>NA              </td><td>NA              </td><td> 0              </td></tr>\n",
       "\t<tr><td>Palanas         </td><td> 0              </td><td>NA              </td><td>NA              </td><td> 0              </td></tr>\n",
       "\t<tr><td>Poroc San Flower</td><td>NA              </td><td> 0              </td><td> 0              </td><td>NA              </td></tr>\n",
       "\t<tr><td>San Agustin     </td><td>NA              </td><td>NA              </td><td> 0              </td><td>NA              </td></tr>\n",
       "\t<tr><td>Visca           </td><td>NA              </td><td> 0              </td><td>NA              </td><td>NA              </td></tr>\n",
       "\t<tr><td>Wangag          </td><td>NA              </td><td>NA              </td><td>NA              </td><td> 0              </td></tr>\n",
       "</tbody>\n",
       "</table>\n"
      ],
      "text/latex": [
       "\\begin{tabular}{r|lllll}\n",
       " source & Palanas & Poroc Rose & Poroc San Flower & Wangag\\\\\n",
       "\\hline\n",
       "\t Cabatoan         &  0               & NA               & NA               &  1              \\\\\n",
       "\t Magbangon        &  1               & NA               & NA               &  0              \\\\\n",
       "\t Palanas          &  0               & NA               & NA               &  0              \\\\\n",
       "\t Poroc San Flower & NA               &  0               &  0               & NA              \\\\\n",
       "\t San Agustin      & NA               & NA               &  0               & NA              \\\\\n",
       "\t Visca            & NA               &  0               & NA               & NA              \\\\\n",
       "\t Wangag           & NA               & NA               & NA               &  0              \\\\\n",
       "\\end{tabular}\n"
      ],
      "text/markdown": [
       "\n",
       "| source | Palanas | Poroc Rose | Poroc San Flower | Wangag |\n",
       "|---|---|---|---|---|\n",
       "| Cabatoan         |  0               | NA               | NA               |  1               |\n",
       "| Magbangon        |  1               | NA               | NA               |  0               |\n",
       "| Palanas          |  0               | NA               | NA               |  0               |\n",
       "| Poroc San Flower | NA               |  0               |  0               | NA               |\n",
       "| San Agustin      | NA               | NA               |  0               | NA               |\n",
       "| Visca            | NA               |  0               | NA               | NA               |\n",
       "| Wangag           | NA               | NA               | NA               |  0               |\n",
       "\n"
      ],
      "text/plain": [
       "  source           Palanas Poroc Rose Poroc San Flower Wangag\n",
       "1 Cabatoan          0      NA         NA                1    \n",
       "2 Magbangon         1      NA         NA                0    \n",
       "3 Palanas           0      NA         NA                0    \n",
       "4 Poroc San Flower NA       0          0               NA    \n",
       "5 San Agustin      NA      NA          0               NA    \n",
       "6 Visca            NA       0         NA               NA    \n",
       "7 Wangag           NA      NA         NA                0    "
      ]
     },
     "metadata": {},
     "output_type": "display_data"
    }
   ],
   "source": [
    "(SimParMat)\n"
   ]
  },
  {
   "cell_type": "code",
   "execution_count": 161,
   "metadata": {},
   "outputs": [
    {
     "data": {
      "text/html": [
       "<table>\n",
       "<thead><tr><th scope=col>source</th><th scope=col>Cabatoan</th><th scope=col>Magbangon</th><th scope=col>Palanas</th><th scope=col>Poroc Rose</th><th scope=col>Poroc San Flower</th><th scope=col>Sitio Lonas</th><th scope=col>Visca</th><th scope=col>Wangag</th></tr></thead>\n",
       "<tbody>\n",
       "\t<tr><td>Cabatoan        </td><td>NA              </td><td> 0              </td><td>NA              </td><td>NA              </td><td>NA              </td><td>NA              </td><td>NA              </td><td> 0              </td></tr>\n",
       "\t<tr><td>Caridad Cemetery</td><td>NA              </td><td> 0              </td><td>NA              </td><td>NA              </td><td>NA              </td><td>NA              </td><td>NA              </td><td>NA              </td></tr>\n",
       "\t<tr><td>Caridad Proper  </td><td>NA              </td><td> 0              </td><td> 0              </td><td>NA              </td><td>NA              </td><td>NA              </td><td>NA              </td><td>NA              </td></tr>\n",
       "\t<tr><td>Haina           </td><td>NA              </td><td>NA              </td><td> 0              </td><td>NA              </td><td>NA              </td><td>NA              </td><td>NA              </td><td>NA              </td></tr>\n",
       "\t<tr><td>Hicgop South    </td><td>NA              </td><td> 0              </td><td> 0              </td><td> 0              </td><td>NA              </td><td>NA              </td><td>NA              </td><td>NA              </td></tr>\n",
       "\t<tr><td>Magbangon       </td><td>NA              </td><td>NA              </td><td> 0              </td><td>NA              </td><td>NA              </td><td>NA              </td><td>NA              </td><td> 0              </td></tr>\n",
       "\t<tr><td>Palanas         </td><td>NA              </td><td>NA              </td><td> 0              </td><td>NA              </td><td>NA              </td><td>NA              </td><td>NA              </td><td> 0              </td></tr>\n",
       "\t<tr><td>Pangasugan      </td><td>NA              </td><td>NA              </td><td>NA              </td><td> 0              </td><td>NA              </td><td>NA              </td><td>NA              </td><td>NA              </td></tr>\n",
       "\t<tr><td>Poroc Rose      </td><td>NA              </td><td>NA              </td><td>NA              </td><td>NA              </td><td> 0              </td><td> 0              </td><td>NA              </td><td>NA              </td></tr>\n",
       "\t<tr><td>Poroc San Flower</td><td>NA              </td><td>NA              </td><td>NA              </td><td> 0              </td><td>NA              </td><td>NA              </td><td>NA              </td><td>NA              </td></tr>\n",
       "\t<tr><td>San Agustin     </td><td>NA              </td><td>NA              </td><td>NA              </td><td> 0              </td><td> 1              </td><td>NA              </td><td>NA              </td><td>NA              </td></tr>\n",
       "\t<tr><td>SF1             </td><td> 0              </td><td> 0              </td><td> 0              </td><td>NA              </td><td>NA              </td><td>NA              </td><td>NA              </td><td> 0              </td></tr>\n",
       "\t<tr><td>SF2             </td><td> 0              </td><td> 0              </td><td>NA              </td><td>NA              </td><td> 0              </td><td>NA              </td><td>NA              </td><td> 0              </td></tr>\n",
       "\t<tr><td>SF3             </td><td>NA              </td><td>NA              </td><td> 0              </td><td>NA              </td><td>NA              </td><td>NA              </td><td>NA              </td><td> 0              </td></tr>\n",
       "\t<tr><td>SF4             </td><td>NA              </td><td>NA              </td><td>NA              </td><td> 0              </td><td> 0              </td><td>NA              </td><td>NA              </td><td>NA              </td></tr>\n",
       "\t<tr><td>SF5             </td><td>NA              </td><td> 0              </td><td>NA              </td><td> 0              </td><td> 0              </td><td>NA              </td><td> 0              </td><td> 0              </td></tr>\n",
       "\t<tr><td>Sitio Baybayon  </td><td> 0              </td><td> 0              </td><td> 0              </td><td>NA              </td><td>NA              </td><td>NA              </td><td>NA              </td><td> 0              </td></tr>\n",
       "\t<tr><td>Visca           </td><td>NA              </td><td>NA              </td><td>NA              </td><td> 0              </td><td> 0              </td><td>NA              </td><td>NA              </td><td>NA              </td></tr>\n",
       "\t<tr><td>Wangag          </td><td> 0              </td><td> 1              </td><td> 0              </td><td>NA              </td><td>NA              </td><td>NA              </td><td>NA              </td><td> 1              </td></tr>\n",
       "</tbody>\n",
       "</table>\n"
      ],
      "text/latex": [
       "\\begin{tabular}{r|lllllllll}\n",
       " source & Cabatoan & Magbangon & Palanas & Poroc Rose & Poroc San Flower & Sitio Lonas & Visca & Wangag\\\\\n",
       "\\hline\n",
       "\t Cabatoan         & NA               &  0               & NA               & NA               & NA               & NA               & NA               &  0              \\\\\n",
       "\t Caridad Cemetery & NA               &  0               & NA               & NA               & NA               & NA               & NA               & NA              \\\\\n",
       "\t Caridad Proper   & NA               &  0               &  0               & NA               & NA               & NA               & NA               & NA              \\\\\n",
       "\t Haina            & NA               & NA               &  0               & NA               & NA               & NA               & NA               & NA              \\\\\n",
       "\t Hicgop South     & NA               &  0               &  0               &  0               & NA               & NA               & NA               & NA              \\\\\n",
       "\t Magbangon        & NA               & NA               &  0               & NA               & NA               & NA               & NA               &  0              \\\\\n",
       "\t Palanas          & NA               & NA               &  0               & NA               & NA               & NA               & NA               &  0              \\\\\n",
       "\t Pangasugan       & NA               & NA               & NA               &  0               & NA               & NA               & NA               & NA              \\\\\n",
       "\t Poroc Rose       & NA               & NA               & NA               & NA               &  0               &  0               & NA               & NA              \\\\\n",
       "\t Poroc San Flower & NA               & NA               & NA               &  0               & NA               & NA               & NA               & NA              \\\\\n",
       "\t San Agustin      & NA               & NA               & NA               &  0               &  1               & NA               & NA               & NA              \\\\\n",
       "\t SF1              &  0               &  0               &  0               & NA               & NA               & NA               & NA               &  0              \\\\\n",
       "\t SF2              &  0               &  0               & NA               & NA               &  0               & NA               & NA               &  0              \\\\\n",
       "\t SF3              & NA               & NA               &  0               & NA               & NA               & NA               & NA               &  0              \\\\\n",
       "\t SF4              & NA               & NA               & NA               &  0               &  0               & NA               & NA               & NA              \\\\\n",
       "\t SF5              & NA               &  0               & NA               &  0               &  0               & NA               &  0               &  0              \\\\\n",
       "\t Sitio Baybayon   &  0               &  0               &  0               & NA               & NA               & NA               & NA               &  0              \\\\\n",
       "\t Visca            & NA               & NA               & NA               &  0               &  0               & NA               & NA               & NA              \\\\\n",
       "\t Wangag           &  0               &  1               &  0               & NA               & NA               & NA               & NA               &  1              \\\\\n",
       "\\end{tabular}\n"
      ],
      "text/markdown": [
       "\n",
       "| source | Cabatoan | Magbangon | Palanas | Poroc Rose | Poroc San Flower | Sitio Lonas | Visca | Wangag |\n",
       "|---|---|---|---|---|---|---|---|---|\n",
       "| Cabatoan         | NA               |  0               | NA               | NA               | NA               | NA               | NA               |  0               |\n",
       "| Caridad Cemetery | NA               |  0               | NA               | NA               | NA               | NA               | NA               | NA               |\n",
       "| Caridad Proper   | NA               |  0               |  0               | NA               | NA               | NA               | NA               | NA               |\n",
       "| Haina            | NA               | NA               |  0               | NA               | NA               | NA               | NA               | NA               |\n",
       "| Hicgop South     | NA               |  0               |  0               |  0               | NA               | NA               | NA               | NA               |\n",
       "| Magbangon        | NA               | NA               |  0               | NA               | NA               | NA               | NA               |  0               |\n",
       "| Palanas          | NA               | NA               |  0               | NA               | NA               | NA               | NA               |  0               |\n",
       "| Pangasugan       | NA               | NA               | NA               |  0               | NA               | NA               | NA               | NA               |\n",
       "| Poroc Rose       | NA               | NA               | NA               | NA               |  0               |  0               | NA               | NA               |\n",
       "| Poroc San Flower | NA               | NA               | NA               |  0               | NA               | NA               | NA               | NA               |\n",
       "| San Agustin      | NA               | NA               | NA               |  0               |  1               | NA               | NA               | NA               |\n",
       "| SF1              |  0               |  0               |  0               | NA               | NA               | NA               | NA               |  0               |\n",
       "| SF2              |  0               |  0               | NA               | NA               |  0               | NA               | NA               |  0               |\n",
       "| SF3              | NA               | NA               |  0               | NA               | NA               | NA               | NA               |  0               |\n",
       "| SF4              | NA               | NA               | NA               |  0               |  0               | NA               | NA               | NA               |\n",
       "| SF5              | NA               |  0               | NA               |  0               |  0               | NA               |  0               |  0               |\n",
       "| Sitio Baybayon   |  0               |  0               |  0               | NA               | NA               | NA               | NA               |  0               |\n",
       "| Visca            | NA               | NA               | NA               |  0               |  0               | NA               | NA               | NA               |\n",
       "| Wangag           |  0               |  1               |  0               | NA               | NA               | NA               | NA               |  1               |\n",
       "\n"
      ],
      "text/plain": [
       "   source           Cabatoan Magbangon Palanas Poroc Rose Poroc San Flower\n",
       "1  Cabatoan         NA        0        NA      NA         NA              \n",
       "2  Caridad Cemetery NA        0        NA      NA         NA              \n",
       "3  Caridad Proper   NA        0         0      NA         NA              \n",
       "4  Haina            NA       NA         0      NA         NA              \n",
       "5  Hicgop South     NA        0         0       0         NA              \n",
       "6  Magbangon        NA       NA         0      NA         NA              \n",
       "7  Palanas          NA       NA         0      NA         NA              \n",
       "8  Pangasugan       NA       NA        NA       0         NA              \n",
       "9  Poroc Rose       NA       NA        NA      NA          0              \n",
       "10 Poroc San Flower NA       NA        NA       0         NA              \n",
       "11 San Agustin      NA       NA        NA       0          1              \n",
       "12 SF1               0        0         0      NA         NA              \n",
       "13 SF2               0        0        NA      NA          0              \n",
       "14 SF3              NA       NA         0      NA         NA              \n",
       "15 SF4              NA       NA        NA       0          0              \n",
       "16 SF5              NA        0        NA       0          0              \n",
       "17 Sitio Baybayon    0        0         0      NA         NA              \n",
       "18 Visca            NA       NA        NA       0          0              \n",
       "19 Wangag            0        1         0      NA         NA              \n",
       "   Sitio Lonas Visca Wangag\n",
       "1  NA          NA     0    \n",
       "2  NA          NA    NA    \n",
       "3  NA          NA    NA    \n",
       "4  NA          NA    NA    \n",
       "5  NA          NA    NA    \n",
       "6  NA          NA     0    \n",
       "7  NA          NA     0    \n",
       "8  NA          NA    NA    \n",
       "9   0          NA    NA    \n",
       "10 NA          NA    NA    \n",
       "11 NA          NA    NA    \n",
       "12 NA          NA     0    \n",
       "13 NA          NA     0    \n",
       "14 NA          NA     0    \n",
       "15 NA          NA    NA    \n",
       "16 NA           0     0    \n",
       "17 NA          NA     0    \n",
       "18 NA          NA    NA    \n",
       "19 NA          NA     1    "
      ]
     },
     "metadata": {},
     "output_type": "display_data"
    },
    {
     "data": {
      "text/html": [
       "3"
      ],
      "text/latex": [
       "3"
      ],
      "text/markdown": [
       "3"
      ],
      "text/plain": [
       "[1] 3"
      ]
     },
     "metadata": {},
     "output_type": "display_data"
    },
    {
     "data": {
      "text/html": [
       "<ol class=list-inline>\n",
       "\t<li>19</li>\n",
       "\t<li>9</li>\n",
       "</ol>\n"
      ],
      "text/latex": [
       "\\begin{enumerate*}\n",
       "\\item 19\n",
       "\\item 9\n",
       "\\end{enumerate*}\n"
      ],
      "text/markdown": [
       "1. 19\n",
       "2. 9\n",
       "\n",
       "\n"
      ],
      "text/plain": [
       "[1] 19  9"
      ]
     },
     "metadata": {},
     "output_type": "display_data"
    },
    {
     "data": {
      "text/html": [
       "<ol class=list-inline>\n",
       "\t<li>11</li>\n",
       "\t<li>10</li>\n",
       "</ol>\n"
      ],
      "text/latex": [
       "\\begin{enumerate*}\n",
       "\\item 11\n",
       "\\item 10\n",
       "\\end{enumerate*}\n"
      ],
      "text/markdown": [
       "1. 11\n",
       "2. 10\n",
       "\n",
       "\n"
      ],
      "text/plain": [
       "[1] 11 10"
      ]
     },
     "metadata": {},
     "output_type": "display_data"
    },
    {
     "data": {
      "text/html": [
       "<ol class=list-inline>\n",
       "\t<li>10</li>\n",
       "\t<li>9</li>\n",
       "</ol>\n"
      ],
      "text/latex": [
       "\\begin{enumerate*}\n",
       "\\item 10\n",
       "\\item 9\n",
       "\\end{enumerate*}\n"
      ],
      "text/markdown": [
       "1. 10\n",
       "2. 9\n",
       "\n",
       "\n"
      ],
      "text/plain": [
       "[1] 10  9"
      ]
     },
     "metadata": {},
     "output_type": "display_data"
    }
   ],
   "source": [
    "dimSim <- dim(SimPar2012Mat)\n",
    "SimPar2012Mat\n",
    "\n",
    "sum(SimPar2012_2$SimNumPar)\n",
    "dimEmp <- dim(EmpiricalAssignments)\n",
    "\n",
    "dimSim\n",
    "dimEmp-1 #subtract 1 from each because Magbangon is combined"
   ]
  },
  {
   "cell_type": "code",
   "execution_count": 130,
   "metadata": {
    "scrolled": false
   },
   "outputs": [
    {
     "data": {
      "text/html": [
       "<ol class=list-inline>\n",
       "\t<li>11</li>\n",
       "\t<li>10</li>\n",
       "</ol>\n"
      ],
      "text/latex": [
       "\\begin{enumerate*}\n",
       "\\item 11\n",
       "\\item 10\n",
       "\\end{enumerate*}\n"
      ],
      "text/markdown": [
       "1. 11\n",
       "2. 10\n",
       "\n",
       "\n"
      ],
      "text/plain": [
       "[1] 11 10"
      ]
     },
     "metadata": {},
     "output_type": "display_data"
    }
   ],
   "source": [
    "#make sure dimensions of simulated parentage matrix match that of the genetic kernel fits. we should be totally replicating the genetic kernel fitting here\n",
    "#EXCEPT! Remember that in the genetic data Magbangon was separated into two sites, but in the simulated data it's not\n",
    "EmpiricalAssignments <- read.csv(\"~/parentage/kernel_fitting/1340_loci/input/parentage_matrix12_corrected.csv\", header=F)\n",
    "dim(EmpiricalAssignments)"
   ]
  },
  {
   "cell_type": "code",
   "execution_count": null,
   "metadata": {},
   "outputs": [],
   "source": [
    "#add in unassigned \n",
    "RowtoAddInt <- SimulatedSampling2012Par %>%\n",
    "    ungroup() %>%\n",
    "    arrange(destination) %>%\n",
    "    dplyr::select(TotalUnassigned)\n",
    "\n",
    "RowtoAdd <- as.data.frame(t(RowtoAddInt))\n",
    "colnames(RowtoAdd) <- colnames(SimDisp2013Mat)\n",
    "\n",
    "FullSimDisp2013 <- rbind(SimDisp2013Mat, RowtoAdd)\n",
    "rownames(FullSimDisp2013) <- NULL"
   ]
  },
  {
   "cell_type": "code",
   "execution_count": null,
   "metadata": {},
   "outputs": [],
   "source": [
    "FullSimDisp2012"
   ]
  },
  {
   "cell_type": "code",
   "execution_count": null,
   "metadata": {},
   "outputs": [],
   "source": [
    "SimDisp2012Mat"
   ]
  },
  {
   "cell_type": "code",
   "execution_count": null,
   "metadata": {},
   "outputs": [],
   "source": [
    "#turn into parentage matrix\n",
    "\n",
    "#SimDisp2012Mat <- SimDisp2012 %>%\n",
    "#    ungroup() %>%\n",
    "#    spread(source, destination, SumParticles)\n",
    "    \n",
    "\n",
    "#make the rest of the kernel input files\n",
    "Assignments <- FullSimDisp2013\n",
    "Adult_sample_proportions <- matrix(nrow=18, ncol=1, 1) #we sampled all sites completely because we are working with simulated data\n",
    "Sampled_reefs <- as.matrix(read.csv(\"~/parentage/kernel_fitting/1340_loci/input/site_index_all.csv\", header=FALSE))[,18] #sampled all reefs in the distance matrix/area/centroid files\n",
    "Distances <- as.matrix(read.csv(\"~/parentage/kernel_fitting/1340_loci/input/distance_matrix_unsurveyed.csv\", header=FALSE))[-2, -2]  #drop a magbangon row  \n",
    "Reef_sizes <- as.matrix(read.csv(\"~/parentage/kernel_fitting/894_loci/area_unsurveyed.csv\", header=FALSE))[]\n",
    "Centroids <- as.matrix(read.csv(\"~/parentage/kernel_fitting/894_loci/centroids_unsurveyed.csv\", header=T))\n",
    "\n"
   ]
  },
  {
   "cell_type": "code",
   "execution_count": null,
   "metadata": {},
   "outputs": [],
   "source": [
    "a=-10\n",
    "b=10\n",
    "\n",
    "\n",
    "x <- list(Distances=Distances, Assignments=Assignments, Sampled_reefs=Sampled_reefs, Reef_sizes=Reef_sizes, Adult_sample_proportions=Adult_sample_proportions) #put inputs into a list because that's the bbmle format\n",
    "\n",
    "Sim2013Fit <- suppressWarnings(mle2(LL_kt_bbmle, start=list(k=-3, theta=1), lower=c(-10, 0.15), upper=c(10, 8), method=\"L-BFGS-B\", data=x, control=list(maxit=500)))\n",
    "Sim2013Fit\n",
    "\n",
    "#doen't look right. Maybe fix theta, optimize k"
   ]
  },
  {
   "cell_type": "code",
   "execution_count": null,
   "metadata": {},
   "outputs": [],
   "source": []
  },
  {
   "cell_type": "code",
   "execution_count": null,
   "metadata": {},
   "outputs": [],
   "source": []
  },
  {
   "cell_type": "code",
   "execution_count": null,
   "metadata": {},
   "outputs": [],
   "source": []
  },
  {
   "cell_type": "code",
   "execution_count": null,
   "metadata": {},
   "outputs": [],
   "source": [
    "#monsoon season prep\n",
    "NEM_months <- c(11, 12, 1, 2, 3, 4)\n",
    "SWM_months <- c(5, 6, 7, 8, 9, 10)\n",
    "\n",
    "NEM <- conn_mat_full4 %>%\n",
    "    filter(month %in% NEM_months) %>%\n",
    "    group_by(source, destination) %>%\n",
    "    summarise(conn=max(fraction))\n",
    "\n",
    "SWM <- conn_mat_full4 %>%\n",
    "    filter(month %in% SWM_months) %>%\n",
    "    group_by(source, destination) %>%\n",
    "    summarise(conn=max(fraction))"
   ]
  },
  {
   "cell_type": "code",
   "execution_count": null,
   "metadata": {},
   "outputs": [],
   "source": []
  },
  {
   "cell_type": "code",
   "execution_count": null,
   "metadata": {},
   "outputs": [],
   "source": []
  },
  {
   "cell_type": "code",
   "execution_count": null,
   "metadata": {},
   "outputs": [],
   "source": []
  },
  {
   "cell_type": "code",
   "execution_count": null,
   "metadata": {},
   "outputs": [],
   "source": []
  },
  {
   "cell_type": "code",
   "execution_count": null,
   "metadata": {},
   "outputs": [],
   "source": []
  },
  {
   "cell_type": "code",
   "execution_count": null,
   "metadata": {},
   "outputs": [],
   "source": []
  },
  {
   "cell_type": "code",
   "execution_count": null,
   "metadata": {},
   "outputs": [],
   "source": []
  },
  {
   "cell_type": "code",
   "execution_count": null,
   "metadata": {},
   "outputs": [],
   "source": []
  },
  {
   "cell_type": "code",
   "execution_count": null,
   "metadata": {},
   "outputs": [],
   "source": []
  },
  {
   "cell_type": "code",
   "execution_count": null,
   "metadata": {},
   "outputs": [],
   "source": []
  },
  {
   "cell_type": "code",
   "execution_count": null,
   "metadata": {},
   "outputs": [],
   "source": []
  },
  {
   "cell_type": "markdown",
   "metadata": {},
   "source": [
    "__CELL BELOW IS WORKING FOR GLM OF OBSERVED DATA BY SIMULATED DATA__"
   ]
  },
  {
   "cell_type": "code",
   "execution_count": null,
   "metadata": {},
   "outputs": [],
   "source": [
    "head(GenSimConn)"
   ]
  },
  {
   "cell_type": "code",
   "execution_count": null,
   "metadata": {},
   "outputs": [],
   "source": [
    "sum(is.na(GenSimConn)==T) #should be 0"
   ]
  },
  {
   "cell_type": "markdown",
   "metadata": {},
   "source": [
    "__run GLM observed genetic dispersal predicted by simulations__"
   ]
  },
  {
   "cell_type": "code",
   "execution_count": null,
   "metadata": {},
   "outputs": [],
   "source": [
    "mean(GenSimConn$obs_disp) #should be 0.024\n",
    "var(GenSimConn$obs_disp) #should be 0.054\n",
    "#overdispersion?\n",
    "#no, because residual deviance of the model is not greater than the df\n",
    "#Residual deviance:  38.221  on 948  degrees of freedom"
   ]
  },
  {
   "cell_type": "code",
   "execution_count": null,
   "metadata": {},
   "outputs": [],
   "source": [
    "#plan:\n",
    "#fit 3 successive log-linear models starting with main efects only(fit1), main effects plus all 2-way interactions (fit2), and added in all 3 way interactions (fit3)\n"
   ]
  },
  {
   "cell_type": "code",
   "execution_count": null,
   "metadata": {},
   "outputs": [],
   "source": [
    "NullMod <- glm(obs_disp ~ dist_km , data=GenSimConn, family=\"poisson\")\n",
    "summary(NullMod)"
   ]
  },
  {
   "cell_type": "code",
   "execution_count": null,
   "metadata": {},
   "outputs": [],
   "source": [
    "ObsModExpYearFit1 <- glm(obs_disp ~ AnnRecPart + YearSampled + direction + dist_km +SourcePropSamp +DestPropSamp, data=GenSimConn, family=\"poisson\")\n"
   ]
  },
  {
   "cell_type": "code",
   "execution_count": null,
   "metadata": {
    "scrolled": false
   },
   "outputs": [],
   "source": [
    "summary(ObsModExpYearFit1)"
   ]
  },
  {
   "cell_type": "code",
   "execution_count": null,
   "metadata": {
    "scrolled": false
   },
   "outputs": [],
   "source": [
    "#only main effects, first find worthwhile predictors with AIC\n",
    "#the intercept is very significant but I think that just means 0s are more common in the data. totally true!\n",
    "\n",
    "ObsModExpYearFit1 <- glm(obs_disp ~ AnnRecPart + YearSampled + direction + dist_km +SourcePropSamp +DestPropSamp, data=GenSimConn, family=\"poisson\")\n",
    "MainEff_AnnRecPart <- update(ObsModExpYearFit1, . ~ . -AnnRecPart)\n",
    "MainEff_YearSampled <- update(ObsModExpYearFit1, . ~ . -YearSampled)\n",
    "MainEff_direction <- update(ObsModExpYearFit1, . ~ . -direction)\n",
    "MainEff_dist_km <- update(ObsModExpYearFit1, . ~ . -dist_km)\n",
    "MainEff_SourcePropSamp <- update(ObsModExpYearFit1, . ~ . -SourcePropSamp)\n",
    "MainEff_DestPropSamp <- update(ObsModExpYearFit1, . ~ . -DestPropSamp)\n",
    "#drop the 3 terms AIC doesn't support? maybe not though, because when there's an interaction that's the best model\n",
    "MainEff_ARP_DPrp_Dist <- glm(obs_disp ~ YearSampled + direction +SourcePropSamp, data=GenSimConn, family=\"poisson\")\n",
    "#add the interaction between year and simulations\n",
    "ObsModExpYearFit2IntYear <- glm(obs_disp ~ AnnRecPart*YearSampled + direction+SourcePropSamp, data=GenSimConn, family=\"poisson\")\n",
    "ObsModExpYearFit2IntDir <- glm(obs_disp ~ AnnRecPart*YearSampled + direction+SourcePropSamp, data=GenSimConn, family=\"poisson\")\n",
    "ObsModExpYearFit2IntDirNoROMS <- glm(obs_disp ~ AnnRecPart+YearSampled*direction+SourcePropSamp, data=GenSimConn, family=\"poisson\")\n",
    "ObsModExpYearFit3Int <- glm(obs_disp ~ AnnRecPart*YearSampled*direction+SourcePropSamp, data=GenSimConn, family=\"poisson\")\n",
    "\n",
    "FullModNoROMSDestPropSamp <- glm(obs_disp ~  YearSampled + direction + dist_km +SourcePropSamp , data=GenSimConn, family=\"poisson\")\n",
    "FullModNoROMSDestPropSampInt <- glm(obs_disp ~  YearSampled* direction + dist_km +SourcePropSamp , data=GenSimConn, family=\"poisson\")\n",
    "\n",
    "MainEffAIC <- as.data.frame(AIC(NullMod, FullModNoROMSDestPropSampInt, FullModNoROMSDestPropSamp, ObsModExpYearFit1, MainEff_AnnRecPart, MainEff_YearSampled, MainEff_direction, MainEff_dist_km, MainEff_SourcePropSamp, MainEff_DestPropSamp, ObsModExpYearFit2IntDir, ObsModExpYearFit2IntYear, ObsModExpYearFit2IntDirNoROMS, ObsModExpYearFit3Int))\n",
    "MainEffAIC$model <- row.names(MainEffAIC)\n",
    "MainEffAIC <- MainEffAIC %>% arrange(AIC)\n",
    "MainEffAIC\n",
    "#/write.csv(MainEffAIC, file=\"~/oceanography/script_output/GLM/GLMObsDispAIC.csv\",row.names=F,  quote=F)\n"
   ]
  },
  {
   "cell_type": "code",
   "execution_count": null,
   "metadata": {},
   "outputs": [],
   "source": [
    "FullModNoROMSDestPropSampInt <- glm(obs_disp ~  YearSampled* direction+direction+YearSampled + dist_km +SourcePropSamp , data=GenSimConn, family=\"poisson\")\n",
    "\n",
    "summary(FullModNoROMSDestPropSampInt)"
   ]
  },
  {
   "cell_type": "code",
   "execution_count": null,
   "metadata": {},
   "outputs": [],
   "source": [
    "AIC(test, MainEff_AnnRecPart,MainEff_DestPropSamp )"
   ]
  },
  {
   "cell_type": "code",
   "execution_count": null,
   "metadata": {
    "scrolled": false
   },
   "outputs": [],
   "source": [
    "summary(ObsModExpYearFit2Int ) #judging by the significant intercept (which should be AnnRecPart:Year2012?) when there's more particles expected from the ROMS model, there's actually less in the observed data.\n",
    "ObsModExpYearFit2Int_Sum <- tidy(ObsModExpYearFit2Int)\n",
    "#write.csv(ObsModExpYearFit2Int_Sum, file=\"~/oceanography/script_output/GLM/YearDispIntBestModSum.csv\",row.names=F,  quote=F)\n"
   ]
  },
  {
   "cell_type": "code",
   "execution_count": null,
   "metadata": {},
   "outputs": [],
   "source": [
    "ROMSFull <- glm(AnnRecPart ~ as.factor(SimYear) + direction + dist_km + source + destination, data=GenSimConn, family=\"poisson\")\n",
    "#MainEff_AnnRecPart <- update(ObsModExpYearFit1, . ~ . -AnnRecPart)"
   ]
  },
  {
   "cell_type": "code",
   "execution_count": null,
   "metadata": {
    "scrolled": true
   },
   "outputs": [],
   "source": [
    "summary(ROMSFull)"
   ]
  },
  {
   "cell_type": "code",
   "execution_count": null,
   "metadata": {},
   "outputs": [],
   "source": [
    "summary(SimConnDFDir$NormSourceMonsoon)"
   ]
  },
  {
   "cell_type": "code",
   "execution_count": null,
   "metadata": {},
   "outputs": [],
   "source": []
  },
  {
   "cell_type": "code",
   "execution_count": null,
   "metadata": {},
   "outputs": [],
   "source": [
    "#what are the routes that create these peaks in direction annually?\n",
    "\n",
    "#are there similar patterns seasonally?\n",
    "\n",
    "#plot the connectivity matrix with of the roms model"
   ]
  },
  {
   "cell_type": "code",
   "execution_count": null,
   "metadata": {
    "scrolled": true
   },
   "outputs": [],
   "source": [
    "head(SimConnDFMeta %>% dplyr::select(AnnRecPart, direction, SimYear, source, destination))\n",
    "SimConnDFMeta %>%"
   ]
  },
  {
   "cell_type": "code",
   "execution_count": null,
   "metadata": {},
   "outputs": [],
   "source": [
    "hist(SimConnDFMeta$direction, breaks=100)"
   ]
  },
  {
   "cell_type": "code",
   "execution_count": null,
   "metadata": {},
   "outputs": [],
   "source": [
    "summary(SimConnDFMeta$direction)\n",
    "(SimConnDFMeta$direction)"
   ]
  },
  {
   "cell_type": "code",
   "execution_count": null,
   "metadata": {},
   "outputs": [],
   "source": []
  },
  {
   "cell_type": "code",
   "execution_count": null,
   "metadata": {},
   "outputs": [],
   "source": []
  },
  {
   "cell_type": "code",
   "execution_count": null,
   "metadata": {},
   "outputs": [],
   "source": [
    "#this isn't significant, which means the residual difference is small enough here to say the model fits reasonably well\n",
    "with(test_mod, cbind(res.deviance = deviance, df = df.residual,\n",
    "  p = pchisq(deviance, df.residual, lower.tail=FALSE)))\n"
   ]
  },
  {
   "cell_type": "code",
   "execution_count": null,
   "metadata": {},
   "outputs": [],
   "source": [
    "#how much devience is explained here?"
   ]
  },
  {
   "cell_type": "code",
   "execution_count": null,
   "metadata": {},
   "outputs": [],
   "source": [
    "plot(obs_disp ~ ExpDisp, data=SimPlusGenWithDist)"
   ]
  },
  {
   "cell_type": "code",
   "execution_count": null,
   "metadata": {
    "scrolled": false
   },
   "outputs": [],
   "source": [
    "#plot(test_mod_int)"
   ]
  },
  {
   "cell_type": "code",
   "execution_count": null,
   "metadata": {},
   "outputs": [],
   "source": [
    "#plot predicted model\n",
    "range(SimPlusGenWithDist$ExpDisp)"
   ]
  },
  {
   "cell_type": "code",
   "execution_count": null,
   "metadata": {},
   "outputs": [],
   "source": [
    "exp_disp_range <- seq(0, 66114, 1)"
   ]
  },
  {
   "cell_type": "code",
   "execution_count": null,
   "metadata": {},
   "outputs": [],
   "source": [
    "obs_disp_pred <- predict(test_mod_int,type=\"response\")"
   ]
  },
  {
   "cell_type": "code",
   "execution_count": null,
   "metadata": {},
   "outputs": [],
   "source": [
    "plot( SimPlusGenWithDist$ExpDisp, SimPlusGenWithDist$obs_disp, pch = 16)#, xlab = \"WEIGHT (g)\", ylab = \"VS\")\n",
    "\n",
    "lines(obs_disp_pred)"
   ]
  },
  {
   "cell_type": "code",
   "execution_count": null,
   "metadata": {},
   "outputs": [],
   "source": []
  }
 ],
 "metadata": {
  "kernelspec": {
   "display_name": "R",
   "language": "R",
   "name": "ir"
  },
  "language_info": {
   "codemirror_mode": "r",
   "file_extension": ".r",
   "mimetype": "text/x-r-source",
   "name": "R",
   "pygments_lexer": "r",
   "version": "3.6.1"
  }
 },
 "nbformat": 4,
 "nbformat_minor": 4
}
