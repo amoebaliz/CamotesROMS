{
 "cells": [
  {
   "cell_type": "code",
   "execution_count": 64,
   "metadata": {},
   "outputs": [],
   "source": [
    "Packages <- c(\"dplyr\",\"broom\", \"geosphere\",\"MASS\", \"fields\",\"lattice\", \"ggplot2\", \"bbmle\", \"ncdf4\",\"dplyr\",\"tidyr\", \"stringr\", \"tidyverse\", \"raster\", \"lubridate\", \"RColorBrewer\")\n",
    "\n",
    "invisible(suppressPackageStartupMessages(lapply(Packages, library, character.only = TRUE)))\n",
    "\n",
    "setwd('/local/home/katrinac/oceanography')\n",
    "\"%!in%\" <- function(x,table) match(x,table, nomatch = 0) == 0\n",
    "source(\"~/parentage/kernel_fitting/1340_loci/functions/ll_kt_both_bbmle.R\")\n"
   ]
  },
  {
   "cell_type": "code",
   "execution_count": 51,
   "metadata": {},
   "outputs": [
    {
     "name": "stdout",
     "output_type": "stream",
     "text": [
      "[1] \"vobjtovarid4: **** WARNING **** I was asked to get a varid for dimension named sink BUT this dimension HAS NO DIMVAR! Code will probably fail at this point\"\n",
      "[1] \"vobjtovarid4: **** WARNING **** I was asked to get a varid for dimension named source BUT this dimension HAS NO DIMVAR! Code will probably fail at this point\"\n",
      "[1] \"vobjtovarid4: **** WARNING **** I was asked to get a varid for dimension named time BUT this dimension HAS NO DIMVAR! Code will probably fail at this point\"\n"
     ]
    }
   ],
   "source": [
    "#read in data and add site names\n",
    "conn_mat_all <- brick(\"~/oceanography/ROMS/data/Camotes_Sea_Connectivity_Matrices_08_day_PLD_integer.nc\", values=T) \n",
    "#read in the data for the number of grid cells per site (site ids are North- South, as in, Palanas is number 1)\n",
    "sites_n <- read.table(\"~/oceanography/ROMS/input//camotes_vertices_sites_results_water_only.txt\", sep=\" \", header=T, stringsAsFactors = F)\n",
    "#the order of sites in the connectivity matrix\n",
    "sites_order <- read.table(\"~/oceanography/ROMS/input/sites_order_as_in_roms.txt\", sep=\" \", header=T, stringsAsFactors = F)\n",
    "\n",
    "sites <- as.character(c(\"Palanas\", \"Wangag\", \"Magbangon\", \"Cabatoan\", \"Caridad Cemetery\", \"Caridad Proper\", \"Hicgop\", \"Hicgop South\", \"Sitio Tugas\", \"Elementary School\", \"Sitio Lonas\", \"San Agustin\", \"Poroc San Flower\", \"Poroc Rose\", \"Pangasugan\", \"Visca\", \"Gabas\", \"Tamakin Dacot\", \"Haina\", \"Sitio Baybayon\", \"SF1\", \"SF2\", \"SF3\", \"SF4\", \"SF5\", \"SF6\", \"CAI\", \"Other\"))\n",
    "site_ind <- c(seq(1,28, 1))\n",
    "site_id <- as.data.frame(cbind(sites, site_ind), stringsAsFactors = F)\n",
    "site_id$site_ind <- as.numeric(site_id$site_ind)\n"
   ]
  },
  {
   "cell_type": "code",
   "execution_count": 52,
   "metadata": {},
   "outputs": [
    {
     "data": {
      "text/html": [
       "<ol class=list-inline>\n",
       "\t<li>930</li>\n",
       "\t<li>2</li>\n",
       "</ol>\n"
      ],
      "text/latex": [
       "\\begin{enumerate*}\n",
       "\\item 930\n",
       "\\item 2\n",
       "\\end{enumerate*}\n"
      ],
      "text/markdown": [
       "1. 930\n",
       "2. 2\n",
       "\n",
       "\n"
      ],
      "text/plain": [
       "[1] 930   2"
      ]
     },
     "metadata": {},
     "output_type": "display_data"
    }
   ],
   "source": [
    "#add in dates (seasons here are field seasons, not monsoon seasons)\n",
    "col <- \"date\"\n",
    "col2 <- \"index\"\n",
    "\n",
    "season1 <- as.data.frame(seq(as.Date(\"2010/10/01\"), as.Date(\"2011/05/31\"), by=\"days\"))\n",
    "names(season1) <- col\n",
    "\n",
    "season2 <- as.data.frame(seq(as.Date(\"2011/10/01\"), as.Date(\"2012/05/31\"), by=\"days\"))\n",
    "names(season2) <- col\n",
    "\n",
    "season3 <- as.data.frame(seq(as.Date(\"2012/10/01\"), as.Date(\"2013/05/31\"), by=\"days\"))\n",
    "names(season3) <- col\n",
    "\n",
    "season4 <- as.data.frame(seq(as.Date(\"2013/10/01\"), as.Date(\"2014/04/18\"), by=\"days\"))\n",
    "names(season4) <- col\n",
    "\n",
    "all_dates <- bind_rows(season1, season2, season3, season4)\n",
    "time_step <- as.data.frame(seq(1,930,1))\n",
    "names(time_step)<- col2\n",
    "all_dates2 <- bind_cols(time_step, all_dates)\n",
    "dim(all_dates2)\n"
   ]
  },
  {
   "cell_type": "code",
   "execution_count": 53,
   "metadata": {},
   "outputs": [],
   "source": [
    "#make each daily connectivity matrix into a df and then pull them all together into a list\n",
    "#conn_mat_list <- vector(\"list\", nrow(all_dates2))\n",
    "\n",
    "#date_df <- do.call(\"rbind\", replicate(784, date, simplify = FALSE))\n",
    "\n",
    "conn_mat_full <- as.data.frame(matrix(nrow=0, ncol=4))\n",
    "\n",
    "cols_conn_mat <- c(\"date\",\"sink\", \"source\", \"number\")\n",
    "cols_tmp <- c(\"sink\", \"source\", \"number\")\n",
    "\n",
    "names(conn_mat_full) <- cols_conn_mat\n",
    "\n",
    "for(i in 1:nrow(all_dates2)){\n",
    "    \n",
    "    index_eval <- all_dates2$index[i]\n",
    "    \n",
    "    tmp <- as.data.frame(conn_mat_all[[i]], xy=T)   #pull out a data frame for each date\n",
    "    names(tmp) <- cols_tmp\n",
    "    \n",
    "    date <- filter(all_dates2, index==index_eval)[2] #grab the date\n",
    "    date_df <- do.call(\"rbind\", replicate(784, date, simplify = FALSE)) #make a df of the date\n",
    "    tmp2 <- bind_cols(date_df, tmp)\n",
    "\n",
    " \n",
    "    conn_mat_full <- rbind(conn_mat_full, tmp2) \n",
    "}\n",
    "\n"
   ]
  },
  {
   "cell_type": "code",
   "execution_count": 54,
   "metadata": {},
   "outputs": [],
   "source": [
    "#connect site names\n",
    "conn_mat_full2 <- left_join(conn_mat_full, site_id, by=c(source=\"site_ind\")) %>%\n",
    "    dplyr::select(-source) %>%\n",
    "    rename(source=\"sites\")\n",
    "    \n",
    "conn_mat_full3 <- left_join(conn_mat_full2, site_id, by=c(sink=\"site_ind\")) %>%\n",
    "    dplyr::select(-sink) %>%\n",
    "    rename(destination=\"sites\")\n",
    "\n",
    "    "
   ]
  },
  {
   "cell_type": "code",
   "execution_count": 55,
   "metadata": {},
   "outputs": [],
   "source": [
    "#make all versions of Hicgop \"Hicgop South\" to match empirical data\n",
    "conn_mat_full3 <- conn_mat_full3 %>%\n",
    "    mutate(source=ifelse(source==\"Hicgop\", \"Hicgop South\", source)) %>%\n",
    "    mutate(destination=ifelse(destination==\"Hicgop\", \"Hicgop South\", destination))\n",
    "\n",
    "#mark which sources/destinations were sampled in real life\n",
    "UnsampledSites <- c(\"SF1\", \"SF2\", \"SF3\", \"SF4\", \"SF5\", \"SF6\", \"Pangasugan\", \"Other\", \"CAI\" )\n",
    "#mark the monsoon seasons in which they dispersed, based on the same criteria I used for the parentage indirectly through the growth estimates\n",
    "NEM <- c(11, 12, 1, 2, 3, 4, 5, 6)\n",
    "SWM <- c(7, 8, 9, 10)\n",
    "\n",
    "#add a column showing which sources and destinations were empirically sampled, and corresponding date/year/season data\n",
    "conn_mat_full4 <- conn_mat_full3 %>%\n",
    "    mutate(SourceSampled= ifelse(source %!in% UnsampledSites, \"yes\", \"no\")) %>%\n",
    "    mutate(DestSampled= ifelse(destination %!in% UnsampledSites, \"yes\", \"no\")) %>%\n",
    "    mutate(SimMonth=month(ymd(date))) %>%\n",
    "    mutate(SimDay=month(ymd(date))) %>%\n",
    "    mutate(SimYear=year(ymd(date))) %>%\n",
    "    mutate(YearSampled=ifelse(date %in% season1$date, \"2011\", ifelse(date %in% season2$date, \"2012\", ifelse(date %in% season3$date, \"2013\", \"2014\")))) %>%\n",
    "    mutate(YearSampled=as.factor(YearSampled)) %>%\n",
    "    mutate(SimMonsoon=ifelse(SimMonth %in% NEM, \"NEM\", \"SWM\")) %>%\n",
    "    rename(DailyParticles=\"number\") %>%\n",
    "    relocate(DailyParticles,.after=SimMonsoon)\n",
    "    \n",
    "#note to self, I think I messed up sources/destinations in the orginal for loop!!!! so I'm grouping by source below, but that's because the true destination column is misnamed \"source\" in the code and I haven't figured it out yet\n",
    "#!!!!\n",
    " "
   ]
  },
  {
   "cell_type": "markdown",
   "metadata": {},
   "source": [
    "__Skip above and read the tidied data frame below__"
   ]
  },
  {
   "cell_type": "markdown",
   "metadata": {},
   "source": [
    "__Add in genetic sampling data__"
   ]
  },
  {
   "cell_type": "code",
   "execution_count": 48,
   "metadata": {},
   "outputs": [],
   "source": [
    "#head(conn_mat_full4)\n",
    "#write.csv(conn_mat_full4, file=\"~/oceanography/script_output/SimConnectivityTable.csv\", row.names=F)\n",
    "SimConnDF <- read.csv(file=\"~/oceanography/script_output/SimConnectivityTable.csv\", header=T) %>%\n",
    "    mutate(YearSampled=as.character(YearSampled))\n",
    "UnsampledSites <- c(\"SF1\", \"SF2\", \"SF3\", \"SF4\", \"SF5\", \"SF6\", \"Pangasugan\", \"Other\", \"CAI\" )\n"
   ]
  },
  {
   "cell_type": "code",
   "execution_count": 49,
   "metadata": {},
   "outputs": [],
   "source": [
    "#add together all of the particles for each season. At some point need to consider matching times that we sampled, from the fish meta-data?\n",
    "#replace XN with years\n",
    "SimConnDF <- SimConnDF %>%\n",
    "    group_by(destination, YearSampled) %>%\n",
    "    mutate(AnnTotalRec=sum(DailyParticles)) %>% #Annual here means the year that would be considered one year in the genetic analysis\n",
    "    mutate(AnnTotalRecFromSampSites=ifelse(DestSampled==\"yes\" & SourceSampled==\"yes\",sum(DailyParticles), 0)) #this comes up at NA otherwise...maybe that's important for the GLM though. Expect the unsampled sites won't be used for the GLM. think more about this.\n",
    "\n"
   ]
  },
  {
   "cell_type": "code",
   "execution_count": 6,
   "metadata": {},
   "outputs": [
    {
     "data": {
      "image/png": "[encoded data removed]",
      "text/plain": [
       "plot without title"
      ]
     },
     "metadata": {},
     "output_type": "display_data"
    }
   ],
   "source": [
    "#check that everything looks correct\n",
    "test <- SimConnDF %>% filter(DailyParticles >1 & \n",
    "                             SourceSampled==\"yes\" & DestSampled==\"yes\")\n",
    "#pdf(\"~/oceanography/script_output/HistNumParticlesRecruiting.pdf\")\n",
    "hist(test$DailyParticles, breaks=50, xlab=\"Number of particles recruiting daily\", main=NULL)\n",
    "#dev.off()\n"
   ]
  },
  {
   "cell_type": "code",
   "execution_count": 50,
   "metadata": {},
   "outputs": [
    {
     "data": {
      "text/html": [
       "324"
      ],
      "text/latex": [
       "324"
      ],
      "text/markdown": [
       "324"
      ],
      "text/plain": [
       "[1] 324"
      ]
     },
     "metadata": {},
     "output_type": "display_data"
    }
   ],
   "source": [
    "#put in North-South order for kernel fitting, also join this to the connectivity data frame to run the GLM\n",
    "SitesNS <- read.csv(\"~/parentage/text_file/sites_NS.txt\", stringsAsFactors = F) %>%\n",
    "    mutate(site=ifelse(site ==\"S. Magbangon\" , \"Magbangon\", site)) %>%\n",
    "    filter(site != \"N. Magbangon\") \n",
    "\n",
    "#add a direction column as a predictor for the glm\n",
    "SimConnDFDir <- left_join(SimConnDF, SitesNS, by=c(source=\"site\")) %>%\n",
    "    filter(source %!in% UnsampledSites) %>%\n",
    "    rename(SourceIndex=\"index\")\n",
    "SimConnDFDir <- left_join(SimConnDFDir, SitesNS, by=c(destination=\"site\")) %>%\n",
    "    filter(destination%!in% UnsampledSites) %>%\n",
    "    rename(DestinationIndex=\"index\") %>%\n",
    "    mutate(direction=ifelse(SourceIndex > DestinationIndex, \"north\", ifelse(SourceIndex < DestinationIndex, \"south\", \"self\"))) #each offspring and parent site has an index number 1-19, North to South. Add in a column for dirrectionality\n",
    "\n",
    "##add site size - is this worth adding? It would be a random effect, I already know that it affects the number of particles...\n",
    "#Reef_sizes <- read.csv(\"~/parentage/kernel_fitting/894_loci/area_unsurveyed.\", header=FALSE)\n",
    "\n",
    "#add the distances between sites, calculated from the site centroids\n",
    "centroids <- read.csv(\"~/parentage/kernel_fitting/1340_loci/input/site_centroids.csv\", header=TRUE, stringsAsFactors = F) %>%\n",
    "    mutate(site=ifelse(site ==\"S.Magbangon\" , \"Magbangon\", site)) %>%\n",
    "    filter(site != \"N.Magbangon\") %>%\n",
    "    filter(site %in% SitesNS$site)\n",
    "\n",
    "\n",
    "##calculate the distance from all potential parents and all potential offspring\n",
    "all_possible_dists <- as.data.frame(rdist.earth(as.matrix(centroids[,c('lon', 'lat')]), as.matrix(centroids[,c('lon', 'lat')]), miles=FALSE, R=6371))\n",
    "\n",
    "##attach the sample_ids to each distance, so you can also get site and year\n",
    "colnames(all_possible_dists) <- centroids$site\n",
    "all_possible_dists$site_i <- centroids$site\n",
    "\n",
    "##gather into tidy df\n",
    "all_possible_dists_tidy <- all_possible_dists %>%\n",
    "    dplyr::select(site_i, everything()) %>%\n",
    "    gather(2:19, key=site_j, value=dist_km) \n",
    "nrow(all_possible_dists_tidy)\n",
    "\n",
    "SimConnDFDist <- left_join(SimConnDFDir, all_possible_dists_tidy, by=c(source=\"site_i\", destination=\"site_j\"))\n",
    "\n"
   ]
  },
  {
   "cell_type": "code",
   "execution_count": 46,
   "metadata": {},
   "outputs": [
    {
     "data": {
      "text/html": [
       "<table>\n",
       "<thead><tr><th scope=col>date</th><th scope=col>source</th><th scope=col>destination</th><th scope=col>SourceSampled</th><th scope=col>DestSampled</th><th scope=col>SimMonth</th><th scope=col>SimDay</th><th scope=col>SimYear</th><th scope=col>YearSampled</th><th scope=col>SimMonsoon</th><th scope=col>DailyParticles</th><th scope=col>AnnTotalRec</th><th scope=col>AnnTotalRecFromSampSites</th></tr></thead>\n",
       "<tbody>\n",
       "\t<tr><td>2010-10-01      </td><td>Other           </td><td>Palanas         </td><td>no              </td><td>yes             </td><td>10              </td><td>10              </td><td>2010            </td><td>2011            </td><td>SWM             </td><td> 9              </td><td>10100           </td><td>0               </td></tr>\n",
       "\t<tr><td>2010-10-01      </td><td>Other           </td><td>Wangag          </td><td>no              </td><td>yes             </td><td>10              </td><td>10              </td><td>2010            </td><td>2011            </td><td>SWM             </td><td> 4              </td><td>10380           </td><td>0               </td></tr>\n",
       "\t<tr><td>2010-10-01      </td><td>Other           </td><td>Magbangon       </td><td>no              </td><td>yes             </td><td>10              </td><td>10              </td><td>2010            </td><td>2011            </td><td>SWM             </td><td>11              </td><td>10934           </td><td>0               </td></tr>\n",
       "\t<tr><td>2010-10-01      </td><td>Other           </td><td>Cabatoan        </td><td>no              </td><td>yes             </td><td>10              </td><td>10              </td><td>2010            </td><td>2011            </td><td>SWM             </td><td>12              </td><td>13095           </td><td>0               </td></tr>\n",
       "\t<tr><td>2010-10-01      </td><td>Other           </td><td>Caridad Cemetery</td><td>no              </td><td>yes             </td><td>10              </td><td>10              </td><td>2010            </td><td>2011            </td><td>SWM             </td><td> 0              </td><td>17753           </td><td>0               </td></tr>\n",
       "\t<tr><td>2010-10-01      </td><td>Other           </td><td>Caridad Proper  </td><td>no              </td><td>yes             </td><td>10              </td><td>10              </td><td>2010            </td><td>2011            </td><td>SWM             </td><td> 1              </td><td>25709           </td><td>0               </td></tr>\n",
       "</tbody>\n",
       "</table>\n"
      ],
      "text/latex": [
       "\\begin{tabular}{r|lllllllllllll}\n",
       " date & source & destination & SourceSampled & DestSampled & SimMonth & SimDay & SimYear & YearSampled & SimMonsoon & DailyParticles & AnnTotalRec & AnnTotalRecFromSampSites\\\\\n",
       "\\hline\n",
       "\t 2010-10-01       & Other            & Palanas          & no               & yes              & 10               & 10               & 2010             & 2011             & SWM              &  9               & 10100            & 0               \\\\\n",
       "\t 2010-10-01       & Other            & Wangag           & no               & yes              & 10               & 10               & 2010             & 2011             & SWM              &  4               & 10380            & 0               \\\\\n",
       "\t 2010-10-01       & Other            & Magbangon        & no               & yes              & 10               & 10               & 2010             & 2011             & SWM              & 11               & 10934            & 0               \\\\\n",
       "\t 2010-10-01       & Other            & Cabatoan         & no               & yes              & 10               & 10               & 2010             & 2011             & SWM              & 12               & 13095            & 0               \\\\\n",
       "\t 2010-10-01       & Other            & Caridad Cemetery & no               & yes              & 10               & 10               & 2010             & 2011             & SWM              &  0               & 17753            & 0               \\\\\n",
       "\t 2010-10-01       & Other            & Caridad Proper   & no               & yes              & 10               & 10               & 2010             & 2011             & SWM              &  1               & 25709            & 0               \\\\\n",
       "\\end{tabular}\n"
      ],
      "text/markdown": [
       "\n",
       "| date | source | destination | SourceSampled | DestSampled | SimMonth | SimDay | SimYear | YearSampled | SimMonsoon | DailyParticles | AnnTotalRec | AnnTotalRecFromSampSites |\n",
       "|---|---|---|---|---|---|---|---|---|---|---|---|---|\n",
       "| 2010-10-01       | Other            | Palanas          | no               | yes              | 10               | 10               | 2010             | 2011             | SWM              |  9               | 10100            | 0                |\n",
       "| 2010-10-01       | Other            | Wangag           | no               | yes              | 10               | 10               | 2010             | 2011             | SWM              |  4               | 10380            | 0                |\n",
       "| 2010-10-01       | Other            | Magbangon        | no               | yes              | 10               | 10               | 2010             | 2011             | SWM              | 11               | 10934            | 0                |\n",
       "| 2010-10-01       | Other            | Cabatoan         | no               | yes              | 10               | 10               | 2010             | 2011             | SWM              | 12               | 13095            | 0                |\n",
       "| 2010-10-01       | Other            | Caridad Cemetery | no               | yes              | 10               | 10               | 2010             | 2011             | SWM              |  0               | 17753            | 0                |\n",
       "| 2010-10-01       | Other            | Caridad Proper   | no               | yes              | 10               | 10               | 2010             | 2011             | SWM              |  1               | 25709            | 0                |\n",
       "\n"
      ],
      "text/plain": [
       "  date       source destination      SourceSampled DestSampled SimMonth SimDay\n",
       "1 2010-10-01 Other  Palanas          no            yes         10       10    \n",
       "2 2010-10-01 Other  Wangag           no            yes         10       10    \n",
       "3 2010-10-01 Other  Magbangon        no            yes         10       10    \n",
       "4 2010-10-01 Other  Cabatoan         no            yes         10       10    \n",
       "5 2010-10-01 Other  Caridad Cemetery no            yes         10       10    \n",
       "6 2010-10-01 Other  Caridad Proper   no            yes         10       10    \n",
       "  SimYear YearSampled SimMonsoon DailyParticles AnnTotalRec\n",
       "1 2010    2011        SWM         9             10100      \n",
       "2 2010    2011        SWM         4             10380      \n",
       "3 2010    2011        SWM        11             10934      \n",
       "4 2010    2011        SWM        12             13095      \n",
       "5 2010    2011        SWM         0             17753      \n",
       "6 2010    2011        SWM         1             25709      \n",
       "  AnnTotalRecFromSampSites\n",
       "1 0                       \n",
       "2 0                       \n",
       "3 0                       \n",
       "4 0                       \n",
       "5 0                       \n",
       "6 0                       "
      ]
     },
     "metadata": {},
     "output_type": "display_data"
    },
    {
     "data": {
      "text/html": [
       "<table>\n",
       "<thead><tr><th scope=col>date</th><th scope=col>source</th><th scope=col>destination</th><th scope=col>SourceSampled</th><th scope=col>DestSampled</th><th scope=col>SimMonth</th><th scope=col>SimDay</th><th scope=col>SimYear</th><th scope=col>YearSampled</th><th scope=col>SimMonsoon</th><th scope=col>DailyParticles</th><th scope=col>AnnTotalRec</th><th scope=col>AnnTotalRecFromSampSites</th><th scope=col>SourceIndex</th><th scope=col>DestinationIndex</th><th scope=col>direction</th><th scope=col>dist_km</th></tr></thead>\n",
       "<tbody>\n",
       "\t<tr><td>2010-10-01      </td><td>Sitio Baybayon  </td><td>Palanas         </td><td>yes             </td><td>yes             </td><td>10              </td><td>10              </td><td>2010            </td><td>2011            </td><td>SWM             </td><td>0               </td><td>10100           </td><td>10100           </td><td>19              </td><td>1               </td><td>north           </td><td>27.29194        </td></tr>\n",
       "\t<tr><td>2010-10-01      </td><td>Sitio Baybayon  </td><td>Wangag          </td><td>yes             </td><td>yes             </td><td>10              </td><td>10              </td><td>2010            </td><td>2011            </td><td>SWM             </td><td>0               </td><td>10380           </td><td>10380           </td><td>19              </td><td>2               </td><td>north           </td><td>26.86207        </td></tr>\n",
       "\t<tr><td>2010-10-01      </td><td>Sitio Baybayon  </td><td>Magbangon       </td><td>yes             </td><td>yes             </td><td>10              </td><td>10              </td><td>2010            </td><td>2011            </td><td>SWM             </td><td>0               </td><td>10934           </td><td>10934           </td><td>19              </td><td>4               </td><td>north           </td><td>25.11346        </td></tr>\n",
       "\t<tr><td>2010-10-01      </td><td>Sitio Baybayon  </td><td>Cabatoan        </td><td>yes             </td><td>yes             </td><td>10              </td><td>10              </td><td>2010            </td><td>2011            </td><td>SWM             </td><td>0               </td><td>13095           </td><td>13095           </td><td>19              </td><td>5               </td><td>north           </td><td>24.91056        </td></tr>\n",
       "\t<tr><td>2010-10-01      </td><td>Sitio Baybayon  </td><td>Caridad Cemetery</td><td>yes             </td><td>yes             </td><td>10              </td><td>10              </td><td>2010            </td><td>2011            </td><td>SWM             </td><td>0               </td><td>17753           </td><td>17753           </td><td>19              </td><td>6               </td><td>north           </td><td>22.43538        </td></tr>\n",
       "\t<tr><td>2010-10-01      </td><td>Sitio Baybayon  </td><td>Caridad Proper  </td><td>yes             </td><td>yes             </td><td>10              </td><td>10              </td><td>2010            </td><td>2011            </td><td>SWM             </td><td>0               </td><td>25709           </td><td>25709           </td><td>19              </td><td>7               </td><td>north           </td><td>21.75097        </td></tr>\n",
       "</tbody>\n",
       "</table>\n"
      ],
      "text/latex": [
       "\\begin{tabular}{r|lllllllllllllllll}\n",
       " date & source & destination & SourceSampled & DestSampled & SimMonth & SimDay & SimYear & YearSampled & SimMonsoon & DailyParticles & AnnTotalRec & AnnTotalRecFromSampSites & SourceIndex & DestinationIndex & direction & dist\\_km\\\\\n",
       "\\hline\n",
       "\t 2010-10-01       & Sitio Baybayon   & Palanas          & yes              & yes              & 10               & 10               & 2010             & 2011             & SWM              & 0                & 10100            & 10100            & 19               & 1                & north            & 27.29194        \\\\\n",
       "\t 2010-10-01       & Sitio Baybayon   & Wangag           & yes              & yes              & 10               & 10               & 2010             & 2011             & SWM              & 0                & 10380            & 10380            & 19               & 2                & north            & 26.86207        \\\\\n",
       "\t 2010-10-01       & Sitio Baybayon   & Magbangon        & yes              & yes              & 10               & 10               & 2010             & 2011             & SWM              & 0                & 10934            & 10934            & 19               & 4                & north            & 25.11346        \\\\\n",
       "\t 2010-10-01       & Sitio Baybayon   & Cabatoan         & yes              & yes              & 10               & 10               & 2010             & 2011             & SWM              & 0                & 13095            & 13095            & 19               & 5                & north            & 24.91056        \\\\\n",
       "\t 2010-10-01       & Sitio Baybayon   & Caridad Cemetery & yes              & yes              & 10               & 10               & 2010             & 2011             & SWM              & 0                & 17753            & 17753            & 19               & 6                & north            & 22.43538        \\\\\n",
       "\t 2010-10-01       & Sitio Baybayon   & Caridad Proper   & yes              & yes              & 10               & 10               & 2010             & 2011             & SWM              & 0                & 25709            & 25709            & 19               & 7                & north            & 21.75097        \\\\\n",
       "\\end{tabular}\n"
      ],
      "text/markdown": [
       "\n",
       "| date | source | destination | SourceSampled | DestSampled | SimMonth | SimDay | SimYear | YearSampled | SimMonsoon | DailyParticles | AnnTotalRec | AnnTotalRecFromSampSites | SourceIndex | DestinationIndex | direction | dist_km |\n",
       "|---|---|---|---|---|---|---|---|---|---|---|---|---|---|---|---|---|\n",
       "| 2010-10-01       | Sitio Baybayon   | Palanas          | yes              | yes              | 10               | 10               | 2010             | 2011             | SWM              | 0                | 10100            | 10100            | 19               | 1                | north            | 27.29194         |\n",
       "| 2010-10-01       | Sitio Baybayon   | Wangag           | yes              | yes              | 10               | 10               | 2010             | 2011             | SWM              | 0                | 10380            | 10380            | 19               | 2                | north            | 26.86207         |\n",
       "| 2010-10-01       | Sitio Baybayon   | Magbangon        | yes              | yes              | 10               | 10               | 2010             | 2011             | SWM              | 0                | 10934            | 10934            | 19               | 4                | north            | 25.11346         |\n",
       "| 2010-10-01       | Sitio Baybayon   | Cabatoan         | yes              | yes              | 10               | 10               | 2010             | 2011             | SWM              | 0                | 13095            | 13095            | 19               | 5                | north            | 24.91056         |\n",
       "| 2010-10-01       | Sitio Baybayon   | Caridad Cemetery | yes              | yes              | 10               | 10               | 2010             | 2011             | SWM              | 0                | 17753            | 17753            | 19               | 6                | north            | 22.43538         |\n",
       "| 2010-10-01       | Sitio Baybayon   | Caridad Proper   | yes              | yes              | 10               | 10               | 2010             | 2011             | SWM              | 0                | 25709            | 25709            | 19               | 7                | north            | 21.75097         |\n",
       "\n"
      ],
      "text/plain": [
       "  date       source         destination      SourceSampled DestSampled SimMonth\n",
       "1 2010-10-01 Sitio Baybayon Palanas          yes           yes         10      \n",
       "2 2010-10-01 Sitio Baybayon Wangag           yes           yes         10      \n",
       "3 2010-10-01 Sitio Baybayon Magbangon        yes           yes         10      \n",
       "4 2010-10-01 Sitio Baybayon Cabatoan         yes           yes         10      \n",
       "5 2010-10-01 Sitio Baybayon Caridad Cemetery yes           yes         10      \n",
       "6 2010-10-01 Sitio Baybayon Caridad Proper   yes           yes         10      \n",
       "  SimDay SimYear YearSampled SimMonsoon DailyParticles AnnTotalRec\n",
       "1 10     2010    2011        SWM        0              10100      \n",
       "2 10     2010    2011        SWM        0              10380      \n",
       "3 10     2010    2011        SWM        0              10934      \n",
       "4 10     2010    2011        SWM        0              13095      \n",
       "5 10     2010    2011        SWM        0              17753      \n",
       "6 10     2010    2011        SWM        0              25709      \n",
       "  AnnTotalRecFromSampSites SourceIndex DestinationIndex direction dist_km \n",
       "1 10100                    19          1                north     27.29194\n",
       "2 10380                    19          2                north     26.86207\n",
       "3 10934                    19          4                north     25.11346\n",
       "4 13095                    19          5                north     24.91056\n",
       "5 17753                    19          6                north     22.43538\n",
       "6 25709                    19          7                north     21.75097"
      ]
     },
     "metadata": {},
     "output_type": "display_data"
    }
   ],
   "source": [
    "head(SimConnDF)\n",
    "head(SimConnDFDist)\n"
   ]
  },
  {
   "cell_type": "code",
   "execution_count": 51,
   "metadata": {},
   "outputs": [
    {
     "data": {
      "text/html": [
       "0"
      ],
      "text/latex": [
       "0"
      ],
      "text/markdown": [
       "0"
      ],
      "text/plain": [
       "[1] 0"
      ]
     },
     "metadata": {},
     "output_type": "display_data"
    }
   ],
   "source": [
    "\n",
    "#add how well we sampled sites- proportion of habitat sampled\n",
    "load(\"~/parentage/r_data/cumulative_prop_hab_sampled_by_site.RData\")\n",
    "PropSamp <- cumulative_prop_hab_sampled_by_site %>%\n",
    "    mutate(total_possible_sample_anems = ifelse(site==\"Caridad Proper\", 4, total_possible_sample_anems) ) %>%\n",
    "    mutate(total_prop_hab_sampled_anems_tidied= ifelse(site==\"Caridad Proper\" & total_anems_sampled==4, 1, total_prop_hab_sampled_anems_tidied) ) %>%\n",
    "    mutate(total_possible_sample_anems = ifelse(site==\"Sitio Lonas\", total_anems_sampled, total_possible_sample_anems) ) %>%\n",
    "    mutate(total_prop_hab_sampled_anems_tidied= ifelse(site==\"Sitio Lonas\", 1, total_prop_hab_sampled_anems_tidied) )%>%\n",
    "    mutate(total_prop_hab_sampled_anems_tidied= ifelse(is.nan(total_prop_hab_sampled_anems_tidied), 0, total_prop_hab_sampled_anems_tidied) ) %>%\n",
    "    dplyr::select(site, time_frame, end_year, total_prop_hab_sampled_anems_tidied) \n",
    "\n",
    "PropSamp$site <- gsub(\". \", \".\", PropSamp$site, fixed=TRUE) #fix spaces in Magbangon names\n",
    "\n",
    "S.Mag <- PropSamp %>%#make a table for all of the S. Mabangon years/prop sampled. Then join to the DF, make a column adding S.Magbangon values to all rows of prop sampled, but only sub that value in for PropSamp in N.Magbangon rows, then rename N.Magbangon as Magbangon\n",
    "    filter(site==\"S.Magbangon\") %>%\n",
    "    dplyr::select(site, end_year, total_prop_hab_sampled_anems_tidied) %>%\n",
    "    rename(S.MagVal=\"total_prop_hab_sampled_anems_tidied\", extra=\"site\")\n",
    "\n",
    "PropSamp <- left_join(PropSamp, S.Mag, by=c(\"end_year\")) %>%\n",
    "    mutate(S.MagSum=total_prop_hab_sampled_anems_tidied+S.MagVal) %>% #create col adding the S.Mag values to prop hab - keep in mind values could be greater than 1- if so change them to 1\n",
    "    mutate(total_prop_hab_sampled_anems_tidied= ifelse(site==\"N.Magbangon\", S.MagSum, total_prop_hab_sampled_anems_tidied)) %>%#sub this value in for only N.Mag\n",
    "    mutate(site=ifelse(site==\"N.Magbangon\", \"Magbangon\", site)) %>%#change N.Mag name to generic Mag\n",
    "    filter(site !=\"S.Magbangon\") %>%#eliminate the S.Mag rows, they are now repeats\n",
    "    dplyr::select(-S.MagVal,-extra, -S.MagSum, -time_frame) %>%\n",
    "    rename(PropSamp=\"total_prop_hab_sampled_anems_tidied\")\n",
    "\n",
    "\n",
    "#check if there are values>1, should be none\n",
    "sum(which(PropSamp$total_prop_hab_sampled_anems_tidied >1)) #zero, that's good\n",
    "\n",
    "#first, summarize the simulated data to the level of a sampling year, remember, this data frame DOES NOT include unsampled sites at the moment\n",
    "SimConnDFDist <- SimConnDFDist %>%\n",
    "    ungroup() %>%\n",
    "    group_by(source, destination, YearSampled) %>%\n",
    "    mutate(AnnRecPart=sum(DailyParticles)) %>% # this is a really confusing column name, so drop the similar ones from earlier that are for the purposes of figuring out the unassigned juveniles for kernel fitting\n",
    "    ungroup() %>%\n",
    "    dplyr::select(-AnnTotalRec, -AnnTotalRecFromSampSites) #yikes figure out how to rename these...\n",
    "\n",
    "SimConnDFProp <- left_join(SimConnDFDist, PropSamp, by=c(source=\"site\", YearSampled=\"end_year\")) %>%#use end year here, remembering that it's cumulative prop hab sampled that is relevant to the parentage analysis\n",
    "    rename(SourcePropSamp=\"PropSamp\")\n",
    "SimConnDFMeta <- left_join(SimConnDFProp, PropSamp, by=c(destination=\"site\", YearSampled=\"end_year\")) %>% #use end year here, remembering that it's cumulative prop hab sampled that is relevant to the parentage analysis\n",
    "    rename(DestPropSamp=\"PropSamp\") %>%\n",
    "    ungroup() %>% #ungroup by year, otherwise grouping will override year filtering\n",
    "    filter(YearSampled %in% c(\"2012\", \"2013\", \"2014\")) #remove 2011 simulation results, we didn't sampled that year    \n"
   ]
  },
  {
   "cell_type": "code",
   "execution_count": 58,
   "metadata": {},
   "outputs": [
    {
     "data": {
      "text/html": [
       "<table>\n",
       "<thead><tr><th scope=col>date</th><th scope=col>source</th><th scope=col>destination</th><th scope=col>SourceSampled</th><th scope=col>DestSampled</th><th scope=col>SimMonth</th><th scope=col>SimDay</th><th scope=col>SimYear</th><th scope=col>YearSampled</th><th scope=col>SimMonsoon</th><th scope=col>DailyParticles</th><th scope=col>SourceIndex</th><th scope=col>DestinationIndex</th><th scope=col>direction</th><th scope=col>dist_km</th><th scope=col>AnnRecPartSampled</th><th scope=col>SourcePropSamp</th><th scope=col>DestPropSamp</th></tr></thead>\n",
       "<tbody>\n",
       "\t<tr><td>2011-10-01       </td><td>Sitio Baybayon   </td><td>Palanas          </td><td>yes              </td><td>yes              </td><td>10               </td><td>10               </td><td>2011             </td><td>2012             </td><td>SWM              </td><td>0                </td><td>19               </td><td>1                </td><td>north            </td><td>27.2919430       </td><td>624              </td><td>0.0000000        </td><td>0.2898551        </td></tr>\n",
       "\t<tr><td>2011-10-01       </td><td>Haina            </td><td>Palanas          </td><td>yes              </td><td>yes              </td><td>10               </td><td>10               </td><td>2011             </td><td>2012             </td><td>SWM              </td><td>0                </td><td>18               </td><td>1                </td><td>north            </td><td>26.9920106       </td><td>  1              </td><td>0.0000000        </td><td>0.2898551        </td></tr>\n",
       "\t<tr><td>2011-10-01       </td><td>Tamakin Dacot    </td><td>Palanas          </td><td>yes              </td><td>yes              </td><td>10               </td><td>10               </td><td>2011             </td><td>2012             </td><td>SWM              </td><td>0                </td><td>17               </td><td>1                </td><td>north            </td><td>25.8293487       </td><td>  0              </td><td>0.0000000        </td><td>0.2898551        </td></tr>\n",
       "\t<tr><td>2011-10-01       </td><td>Gabas            </td><td>Palanas          </td><td>yes              </td><td>yes              </td><td>10               </td><td>10               </td><td>2011             </td><td>2012             </td><td>SWM              </td><td>0                </td><td>16               </td><td>1                </td><td>north            </td><td>18.5270048       </td><td>  8              </td><td>0.0000000        </td><td>0.2898551        </td></tr>\n",
       "\t<tr><td>2011-10-01       </td><td>Visca            </td><td>Palanas          </td><td>yes              </td><td>yes              </td><td>10               </td><td>10               </td><td>2011             </td><td>2012             </td><td>SWM              </td><td>0                </td><td>15               </td><td>1                </td><td>north            </td><td>16.5775204       </td><td>  3              </td><td>1.0000000        </td><td>0.2898551        </td></tr>\n",
       "\t<tr><td>2011-10-01       </td><td>Poroc Rose       </td><td>Palanas          </td><td>yes              </td><td>yes              </td><td>10               </td><td>10               </td><td>2011             </td><td>2012             </td><td>SWM              </td><td>0                </td><td>14               </td><td>1                </td><td>north            </td><td>15.4237354       </td><td>  6              </td><td>1.0000000        </td><td>0.2898551        </td></tr>\n",
       "\t<tr><td>2011-10-01       </td><td>Poroc San Flower </td><td>Palanas          </td><td>yes              </td><td>yes              </td><td>10               </td><td>10               </td><td>2011             </td><td>2012             </td><td>SWM              </td><td>0                </td><td>13               </td><td>1                </td><td>north            </td><td>14.6233888       </td><td>  7              </td><td>1.0000000        </td><td>0.2898551        </td></tr>\n",
       "\t<tr><td>2011-10-01       </td><td>San Agustin      </td><td>Palanas          </td><td>yes              </td><td>yes              </td><td>10               </td><td>10               </td><td>2011             </td><td>2012             </td><td>SWM              </td><td>0                </td><td>12               </td><td>1                </td><td>north            </td><td>14.0674201       </td><td>  9              </td><td>0.8888889        </td><td>0.2898551        </td></tr>\n",
       "\t<tr><td>2011-10-01       </td><td>Sitio Lonas      </td><td>Palanas          </td><td>yes              </td><td>yes              </td><td>10               </td><td>10               </td><td>2011             </td><td>2012             </td><td>SWM              </td><td>0                </td><td>11               </td><td>1                </td><td>north            </td><td>13.5366192       </td><td> 28              </td><td>1.0000000        </td><td>0.2898551        </td></tr>\n",
       "\t<tr><td>2011-10-01       </td><td>Elementary School</td><td>Palanas          </td><td>yes              </td><td>yes              </td><td>10               </td><td>10               </td><td>2011             </td><td>2012             </td><td>SWM              </td><td>0                </td><td>10               </td><td>1                </td><td>north            </td><td>10.3955120       </td><td> 31              </td><td>0.0000000        </td><td>0.2898551        </td></tr>\n",
       "\t<tr><td>2011-10-01       </td><td>Sitio Tugas      </td><td>Palanas          </td><td>yes              </td><td>yes              </td><td>10               </td><td>10               </td><td>2011             </td><td>2012             </td><td>SWM              </td><td>0                </td><td> 9               </td><td>1                </td><td>north            </td><td> 9.6374134       </td><td> 30              </td><td>0.0000000        </td><td>0.2898551        </td></tr>\n",
       "\t<tr><td>2011-10-01       </td><td>Hicgop South     </td><td>Palanas          </td><td>yes              </td><td>yes              </td><td>10               </td><td>10               </td><td>2011             </td><td>2012             </td><td>SWM              </td><td>0                </td><td> 8               </td><td>1                </td><td>north            </td><td> 8.7755268       </td><td> 90              </td><td>0.0000000        </td><td>0.2898551        </td></tr>\n",
       "\t<tr><td>2011-10-01       </td><td>Hicgop South     </td><td>Palanas          </td><td>yes              </td><td>yes              </td><td>10               </td><td>10               </td><td>2011             </td><td>2012             </td><td>SWM              </td><td>0                </td><td> 8               </td><td>1                </td><td>north            </td><td> 8.7755268       </td><td> 90              </td><td>0.0000000        </td><td>0.2898551        </td></tr>\n",
       "\t<tr><td>2011-10-01       </td><td>Caridad Proper   </td><td>Palanas          </td><td>yes              </td><td>yes              </td><td>10               </td><td>10               </td><td>2011             </td><td>2012             </td><td>SWM              </td><td>0                </td><td> 7               </td><td>1                </td><td>north            </td><td> 6.4479184       </td><td> 35              </td><td>0.0000000        </td><td>0.2898551        </td></tr>\n",
       "\t<tr><td>2011-10-01       </td><td>Caridad Cemetery </td><td>Palanas          </td><td>yes              </td><td>yes              </td><td>10               </td><td>10               </td><td>2011             </td><td>2012             </td><td>SWM              </td><td>0                </td><td> 6               </td><td>1                </td><td>north            </td><td> 5.6928890       </td><td> 57              </td><td>0.0000000        </td><td>0.2898551        </td></tr>\n",
       "\t<tr><td>2011-10-01       </td><td>Cabatoan         </td><td>Palanas          </td><td>yes              </td><td>yes              </td><td>10               </td><td>10               </td><td>2011             </td><td>2012             </td><td>SWM              </td><td>0                </td><td> 5               </td><td>1                </td><td>north            </td><td> 2.6608432       </td><td> 66              </td><td>0.4230769        </td><td>0.2898551        </td></tr>\n",
       "\t<tr><td>2011-10-01       </td><td>Magbangon        </td><td>Palanas          </td><td>yes              </td><td>yes              </td><td>10               </td><td>10               </td><td>2011             </td><td>2012             </td><td>SWM              </td><td>0                </td><td> 4               </td><td>1                </td><td>north            </td><td> 2.4139177       </td><td>177              </td><td>0.4593838        </td><td>0.2898551        </td></tr>\n",
       "\t<tr><td>2011-10-01       </td><td>Wangag           </td><td>Palanas          </td><td>yes              </td><td>yes              </td><td>10               </td><td>10               </td><td>2011             </td><td>2012             </td><td>SWM              </td><td>0                </td><td> 2               </td><td>1                </td><td>north            </td><td> 0.5409707       </td><td>221              </td><td>0.1821306        </td><td>0.2898551        </td></tr>\n",
       "\t<tr><td>2011-10-01       </td><td>Palanas          </td><td>Palanas          </td><td>yes              </td><td>yes              </td><td>10               </td><td>10               </td><td>2011             </td><td>2012             </td><td>SWM              </td><td>0                </td><td> 1               </td><td>1                </td><td>self             </td><td> 0.0000000       </td><td> 42              </td><td>0.2898551        </td><td>0.2898551        </td></tr>\n",
       "\t<tr><td>2011-10-02       </td><td>Sitio Baybayon   </td><td>Palanas          </td><td>yes              </td><td>yes              </td><td>10               </td><td>10               </td><td>2011             </td><td>2012             </td><td>SWM              </td><td>0                </td><td>19               </td><td>1                </td><td>north            </td><td>27.2919430       </td><td>624              </td><td>0.0000000        </td><td>0.2898551        </td></tr>\n",
       "\t<tr><td>2011-10-02       </td><td>Haina            </td><td>Palanas          </td><td>yes              </td><td>yes              </td><td>10               </td><td>10               </td><td>2011             </td><td>2012             </td><td>SWM              </td><td>0                </td><td>18               </td><td>1                </td><td>north            </td><td>26.9920106       </td><td>  1              </td><td>0.0000000        </td><td>0.2898551        </td></tr>\n",
       "\t<tr><td>2011-10-02       </td><td>Tamakin Dacot    </td><td>Palanas          </td><td>yes              </td><td>yes              </td><td>10               </td><td>10               </td><td>2011             </td><td>2012             </td><td>SWM              </td><td>0                </td><td>17               </td><td>1                </td><td>north            </td><td>25.8293487       </td><td>  0              </td><td>0.0000000        </td><td>0.2898551        </td></tr>\n",
       "\t<tr><td>2011-10-02       </td><td>Gabas            </td><td>Palanas          </td><td>yes              </td><td>yes              </td><td>10               </td><td>10               </td><td>2011             </td><td>2012             </td><td>SWM              </td><td>0                </td><td>16               </td><td>1                </td><td>north            </td><td>18.5270048       </td><td>  8              </td><td>0.0000000        </td><td>0.2898551        </td></tr>\n",
       "\t<tr><td>2011-10-02       </td><td>Visca            </td><td>Palanas          </td><td>yes              </td><td>yes              </td><td>10               </td><td>10               </td><td>2011             </td><td>2012             </td><td>SWM              </td><td>0                </td><td>15               </td><td>1                </td><td>north            </td><td>16.5775204       </td><td>  3              </td><td>1.0000000        </td><td>0.2898551        </td></tr>\n",
       "\t<tr><td>2011-10-02       </td><td>Poroc Rose       </td><td>Palanas          </td><td>yes              </td><td>yes              </td><td>10               </td><td>10               </td><td>2011             </td><td>2012             </td><td>SWM              </td><td>0                </td><td>14               </td><td>1                </td><td>north            </td><td>15.4237354       </td><td>  6              </td><td>1.0000000        </td><td>0.2898551        </td></tr>\n",
       "\t<tr><td>2011-10-02       </td><td>Poroc San Flower </td><td>Palanas          </td><td>yes              </td><td>yes              </td><td>10               </td><td>10               </td><td>2011             </td><td>2012             </td><td>SWM              </td><td>0                </td><td>13               </td><td>1                </td><td>north            </td><td>14.6233888       </td><td>  7              </td><td>1.0000000        </td><td>0.2898551        </td></tr>\n",
       "\t<tr><td>2011-10-02       </td><td>San Agustin      </td><td>Palanas          </td><td>yes              </td><td>yes              </td><td>10               </td><td>10               </td><td>2011             </td><td>2012             </td><td>SWM              </td><td>0                </td><td>12               </td><td>1                </td><td>north            </td><td>14.0674201       </td><td>  9              </td><td>0.8888889        </td><td>0.2898551        </td></tr>\n",
       "\t<tr><td>2011-10-02       </td><td>Sitio Lonas      </td><td>Palanas          </td><td>yes              </td><td>yes              </td><td>10               </td><td>10               </td><td>2011             </td><td>2012             </td><td>SWM              </td><td>0                </td><td>11               </td><td>1                </td><td>north            </td><td>13.5366192       </td><td> 28              </td><td>1.0000000        </td><td>0.2898551        </td></tr>\n",
       "\t<tr><td>2011-10-02       </td><td>Elementary School</td><td>Palanas          </td><td>yes              </td><td>yes              </td><td>10               </td><td>10               </td><td>2011             </td><td>2012             </td><td>SWM              </td><td>0                </td><td>10               </td><td>1                </td><td>north            </td><td>10.3955120       </td><td> 31              </td><td>0.0000000        </td><td>0.2898551        </td></tr>\n",
       "\t<tr><td>2011-10-02       </td><td>Sitio Tugas      </td><td>Palanas          </td><td>yes              </td><td>yes              </td><td>10               </td><td>10               </td><td>2011             </td><td>2012             </td><td>SWM              </td><td>0                </td><td> 9               </td><td>1                </td><td>north            </td><td> 9.6374134       </td><td> 30              </td><td>0.0000000        </td><td>0.2898551        </td></tr>\n",
       "\t<tr><td>...</td><td>...</td><td>...</td><td>...</td><td>...</td><td>...</td><td>...</td><td>...</td><td>...</td><td>...</td><td>...</td><td>...</td><td>...</td><td>...</td><td>...</td><td>...</td><td>...</td><td>...</td></tr>\n",
       "\t<tr><td>2014-04-17       </td><td>Sitio Lonas      </td><td>Palanas          </td><td>yes              </td><td>yes              </td><td>4                </td><td>4                </td><td>2014             </td><td>2014             </td><td>NEM              </td><td> 0               </td><td>11               </td><td>1                </td><td>north            </td><td>13.5366192       </td><td>  0              </td><td>1.00000000       </td><td>0.4468599        </td></tr>\n",
       "\t<tr><td>2014-04-17       </td><td>Elementary School</td><td>Palanas          </td><td>yes              </td><td>yes              </td><td>4                </td><td>4                </td><td>2014             </td><td>2014             </td><td>NEM              </td><td> 0               </td><td>10               </td><td>1                </td><td>north            </td><td>10.3955120       </td><td> 37              </td><td>0.47619048       </td><td>0.4468599        </td></tr>\n",
       "\t<tr><td>2014-04-17       </td><td>Sitio Tugas      </td><td>Palanas          </td><td>yes              </td><td>yes              </td><td>4                </td><td>4                </td><td>2014             </td><td>2014             </td><td>NEM              </td><td> 0               </td><td> 9               </td><td>1                </td><td>north            </td><td> 9.6374134       </td><td> 13              </td><td>0.00000000       </td><td>0.4468599        </td></tr>\n",
       "\t<tr><td>2014-04-17       </td><td>Hicgop South     </td><td>Palanas          </td><td>yes              </td><td>yes              </td><td>4                </td><td>4                </td><td>2014             </td><td>2014             </td><td>NEM              </td><td> 0               </td><td> 8               </td><td>1                </td><td>north            </td><td> 8.7755268       </td><td> 61              </td><td>0.31481481       </td><td>0.4468599        </td></tr>\n",
       "\t<tr><td>2014-04-17       </td><td>Hicgop South     </td><td>Palanas          </td><td>yes              </td><td>yes              </td><td>4                </td><td>4                </td><td>2014             </td><td>2014             </td><td>NEM              </td><td> 0               </td><td> 8               </td><td>1                </td><td>north            </td><td> 8.7755268       </td><td> 61              </td><td>0.31481481       </td><td>0.4468599        </td></tr>\n",
       "\t<tr><td>2014-04-17       </td><td>Caridad Proper   </td><td>Palanas          </td><td>yes              </td><td>yes              </td><td>4                </td><td>4                </td><td>2014             </td><td>2014             </td><td>NEM              </td><td> 0               </td><td> 7               </td><td>1                </td><td>north            </td><td> 6.4479184       </td><td>  3              </td><td>1.00000000       </td><td>0.4468599        </td></tr>\n",
       "\t<tr><td>2014-04-17       </td><td>Caridad Cemetery </td><td>Palanas          </td><td>yes              </td><td>yes              </td><td>4                </td><td>4                </td><td>2014             </td><td>2014             </td><td>NEM              </td><td> 0               </td><td> 6               </td><td>1                </td><td>north            </td><td> 5.6928890       </td><td> 52              </td><td>0.41666667       </td><td>0.4468599        </td></tr>\n",
       "\t<tr><td>2014-04-17       </td><td>Cabatoan         </td><td>Palanas          </td><td>yes              </td><td>yes              </td><td>4                </td><td>4                </td><td>2014             </td><td>2014             </td><td>NEM              </td><td> 0               </td><td> 5               </td><td>1                </td><td>north            </td><td> 2.6608432       </td><td> 83              </td><td>0.52564103       </td><td>0.4468599        </td></tr>\n",
       "\t<tr><td>2014-04-17       </td><td>Magbangon        </td><td>Palanas          </td><td>yes              </td><td>yes              </td><td>4                </td><td>4                </td><td>2014             </td><td>2014             </td><td>NEM              </td><td> 0               </td><td> 4               </td><td>1                </td><td>north            </td><td> 2.4139177       </td><td>151              </td><td>0.62184874       </td><td>0.4468599        </td></tr>\n",
       "\t<tr><td>2014-04-17       </td><td>Wangag           </td><td>Palanas          </td><td>yes              </td><td>yes              </td><td>4                </td><td>4                </td><td>2014             </td><td>2014             </td><td>NEM              </td><td> 0               </td><td> 2               </td><td>1                </td><td>north            </td><td> 0.5409707       </td><td>204              </td><td>0.31042383       </td><td>0.4468599        </td></tr>\n",
       "\t<tr><td>2014-04-17       </td><td>Palanas          </td><td>Palanas          </td><td>yes              </td><td>yes              </td><td>4                </td><td>4                </td><td>2014             </td><td>2014             </td><td>NEM              </td><td> 0               </td><td> 1               </td><td>1                </td><td>self             </td><td> 0.0000000       </td><td>259              </td><td>0.44685990       </td><td>0.4468599        </td></tr>\n",
       "\t<tr><td>2014-04-18       </td><td>Sitio Baybayon   </td><td>Palanas          </td><td>yes              </td><td>yes              </td><td>4                </td><td>4                </td><td>2014             </td><td>2014             </td><td>NEM              </td><td> 0               </td><td>19               </td><td>1                </td><td>north            </td><td>27.2919430       </td><td>470              </td><td>0.14800515       </td><td>0.4468599        </td></tr>\n",
       "\t<tr><td>2014-04-18       </td><td>Haina            </td><td>Palanas          </td><td>yes              </td><td>yes              </td><td>4                </td><td>4                </td><td>2014             </td><td>2014             </td><td>NEM              </td><td> 0               </td><td>18               </td><td>1                </td><td>north            </td><td>26.9920106       </td><td>  0              </td><td>0.06410256       </td><td>0.4468599        </td></tr>\n",
       "\t<tr><td>2014-04-18       </td><td>Tamakin Dacot    </td><td>Palanas          </td><td>yes              </td><td>yes              </td><td>4                </td><td>4                </td><td>2014             </td><td>2014             </td><td>NEM              </td><td> 0               </td><td>17               </td><td>1                </td><td>north            </td><td>25.8293487       </td><td>  0              </td><td>0.15972222       </td><td>0.4468599        </td></tr>\n",
       "\t<tr><td>2014-04-18       </td><td>Gabas            </td><td>Palanas          </td><td>yes              </td><td>yes              </td><td>4                </td><td>4                </td><td>2014             </td><td>2014             </td><td>NEM              </td><td> 0               </td><td>16               </td><td>1                </td><td>north            </td><td>18.5270048       </td><td>  2              </td><td>0.00000000       </td><td>0.4468599        </td></tr>\n",
       "\t<tr><td>2014-04-18       </td><td>Visca            </td><td>Palanas          </td><td>yes              </td><td>yes              </td><td>4                </td><td>4                </td><td>2014             </td><td>2014             </td><td>NEM              </td><td> 0               </td><td>15               </td><td>1                </td><td>north            </td><td>16.5775204       </td><td>  0              </td><td>0.74358974       </td><td>0.4468599        </td></tr>\n",
       "\t<tr><td>2014-04-18       </td><td>Poroc Rose       </td><td>Palanas          </td><td>yes              </td><td>yes              </td><td>4                </td><td>4                </td><td>2014             </td><td>2014             </td><td>NEM              </td><td> 0               </td><td>14               </td><td>1                </td><td>north            </td><td>15.4237354       </td><td>  0              </td><td>0.89743590       </td><td>0.4468599        </td></tr>\n",
       "\t<tr><td>2014-04-18       </td><td>Poroc San Flower </td><td>Palanas          </td><td>yes              </td><td>yes              </td><td>4                </td><td>4                </td><td>2014             </td><td>2014             </td><td>NEM              </td><td> 0               </td><td>13               </td><td>1                </td><td>north            </td><td>14.6233888       </td><td>  0              </td><td>0.84848485       </td><td>0.4468599        </td></tr>\n",
       "\t<tr><td>2014-04-18       </td><td>San Agustin      </td><td>Palanas          </td><td>yes              </td><td>yes              </td><td>4                </td><td>4                </td><td>2014             </td><td>2014             </td><td>NEM              </td><td> 0               </td><td>12               </td><td>1                </td><td>north            </td><td>14.0674201       </td><td>  0              </td><td>0.74074074       </td><td>0.4468599        </td></tr>\n",
       "\t<tr><td>2014-04-18       </td><td>Sitio Lonas      </td><td>Palanas          </td><td>yes              </td><td>yes              </td><td>4                </td><td>4                </td><td>2014             </td><td>2014             </td><td>NEM              </td><td> 0               </td><td>11               </td><td>1                </td><td>north            </td><td>13.5366192       </td><td>  0              </td><td>1.00000000       </td><td>0.4468599        </td></tr>\n",
       "\t<tr><td>2014-04-18       </td><td>Elementary School</td><td>Palanas          </td><td>yes              </td><td>yes              </td><td>4                </td><td>4                </td><td>2014             </td><td>2014             </td><td>NEM              </td><td> 0               </td><td>10               </td><td>1                </td><td>north            </td><td>10.3955120       </td><td> 37              </td><td>0.47619048       </td><td>0.4468599        </td></tr>\n",
       "\t<tr><td>2014-04-18       </td><td>Sitio Tugas      </td><td>Palanas          </td><td>yes              </td><td>yes              </td><td>4                </td><td>4                </td><td>2014             </td><td>2014             </td><td>NEM              </td><td> 0               </td><td> 9               </td><td>1                </td><td>north            </td><td> 9.6374134       </td><td> 13              </td><td>0.00000000       </td><td>0.4468599        </td></tr>\n",
       "\t<tr><td>2014-04-18       </td><td>Hicgop South     </td><td>Palanas          </td><td>yes              </td><td>yes              </td><td>4                </td><td>4                </td><td>2014             </td><td>2014             </td><td>NEM              </td><td> 0               </td><td> 8               </td><td>1                </td><td>north            </td><td> 8.7755268       </td><td> 61              </td><td>0.31481481       </td><td>0.4468599        </td></tr>\n",
       "\t<tr><td>2014-04-18       </td><td>Hicgop South     </td><td>Palanas          </td><td>yes              </td><td>yes              </td><td>4                </td><td>4                </td><td>2014             </td><td>2014             </td><td>NEM              </td><td> 0               </td><td> 8               </td><td>1                </td><td>north            </td><td> 8.7755268       </td><td> 61              </td><td>0.31481481       </td><td>0.4468599        </td></tr>\n",
       "\t<tr><td>2014-04-18       </td><td>Caridad Proper   </td><td>Palanas          </td><td>yes              </td><td>yes              </td><td>4                </td><td>4                </td><td>2014             </td><td>2014             </td><td>NEM              </td><td> 0               </td><td> 7               </td><td>1                </td><td>north            </td><td> 6.4479184       </td><td>  3              </td><td>1.00000000       </td><td>0.4468599        </td></tr>\n",
       "\t<tr><td>2014-04-18       </td><td>Caridad Cemetery </td><td>Palanas          </td><td>yes              </td><td>yes              </td><td>4                </td><td>4                </td><td>2014             </td><td>2014             </td><td>NEM              </td><td> 0               </td><td> 6               </td><td>1                </td><td>north            </td><td> 5.6928890       </td><td> 52              </td><td>0.41666667       </td><td>0.4468599        </td></tr>\n",
       "\t<tr><td>2014-04-18       </td><td>Cabatoan         </td><td>Palanas          </td><td>yes              </td><td>yes              </td><td>4                </td><td>4                </td><td>2014             </td><td>2014             </td><td>NEM              </td><td> 0               </td><td> 5               </td><td>1                </td><td>north            </td><td> 2.6608432       </td><td> 83              </td><td>0.52564103       </td><td>0.4468599        </td></tr>\n",
       "\t<tr><td>2014-04-18       </td><td>Magbangon        </td><td>Palanas          </td><td>yes              </td><td>yes              </td><td>4                </td><td>4                </td><td>2014             </td><td>2014             </td><td>NEM              </td><td> 0               </td><td> 4               </td><td>1                </td><td>north            </td><td> 2.4139177       </td><td>151              </td><td>0.62184874       </td><td>0.4468599        </td></tr>\n",
       "\t<tr><td>2014-04-18       </td><td>Wangag           </td><td>Palanas          </td><td>yes              </td><td>yes              </td><td>4                </td><td>4                </td><td>2014             </td><td>2014             </td><td>NEM              </td><td> 0               </td><td> 2               </td><td>1                </td><td>north            </td><td> 0.5409707       </td><td>204              </td><td>0.31042383       </td><td>0.4468599        </td></tr>\n",
       "\t<tr><td>2014-04-18       </td><td>Palanas          </td><td>Palanas          </td><td>yes              </td><td>yes              </td><td>4                </td><td>4                </td><td>2014             </td><td>2014             </td><td>NEM              </td><td>15               </td><td> 1               </td><td>1                </td><td>self             </td><td> 0.0000000       </td><td>259              </td><td>0.44685990       </td><td>0.4468599        </td></tr>\n",
       "</tbody>\n",
       "</table>\n"
      ],
      "text/latex": [
       "\\begin{tabular}{r|llllllllllllllllll}\n",
       " date & source & destination & SourceSampled & DestSampled & SimMonth & SimDay & SimYear & YearSampled & SimMonsoon & DailyParticles & SourceIndex & DestinationIndex & direction & dist\\_km & AnnRecPartSampled & SourcePropSamp & DestPropSamp\\\\\n",
       "\\hline\n",
       "\t 2011-10-01        & Sitio Baybayon    & Palanas           & yes               & yes               & 10                & 10                & 2011              & 2012              & SWM               & 0                 & 19                & 1                 & north             & 27.2919430        & 624               & 0.0000000         & 0.2898551        \\\\\n",
       "\t 2011-10-01        & Haina             & Palanas           & yes               & yes               & 10                & 10                & 2011              & 2012              & SWM               & 0                 & 18                & 1                 & north             & 26.9920106        &   1               & 0.0000000         & 0.2898551        \\\\\n",
       "\t 2011-10-01        & Tamakin Dacot     & Palanas           & yes               & yes               & 10                & 10                & 2011              & 2012              & SWM               & 0                 & 17                & 1                 & north             & 25.8293487        &   0               & 0.0000000         & 0.2898551        \\\\\n",
       "\t 2011-10-01        & Gabas             & Palanas           & yes               & yes               & 10                & 10                & 2011              & 2012              & SWM               & 0                 & 16                & 1                 & north             & 18.5270048        &   8               & 0.0000000         & 0.2898551        \\\\\n",
       "\t 2011-10-01        & Visca             & Palanas           & yes               & yes               & 10                & 10                & 2011              & 2012              & SWM               & 0                 & 15                & 1                 & north             & 16.5775204        &   3               & 1.0000000         & 0.2898551        \\\\\n",
       "\t 2011-10-01        & Poroc Rose        & Palanas           & yes               & yes               & 10                & 10                & 2011              & 2012              & SWM               & 0                 & 14                & 1                 & north             & 15.4237354        &   6               & 1.0000000         & 0.2898551        \\\\\n",
       "\t 2011-10-01        & Poroc San Flower  & Palanas           & yes               & yes               & 10                & 10                & 2011              & 2012              & SWM               & 0                 & 13                & 1                 & north             & 14.6233888        &   7               & 1.0000000         & 0.2898551        \\\\\n",
       "\t 2011-10-01        & San Agustin       & Palanas           & yes               & yes               & 10                & 10                & 2011              & 2012              & SWM               & 0                 & 12                & 1                 & north             & 14.0674201        &   9               & 0.8888889         & 0.2898551        \\\\\n",
       "\t 2011-10-01        & Sitio Lonas       & Palanas           & yes               & yes               & 10                & 10                & 2011              & 2012              & SWM               & 0                 & 11                & 1                 & north             & 13.5366192        &  28               & 1.0000000         & 0.2898551        \\\\\n",
       "\t 2011-10-01        & Elementary School & Palanas           & yes               & yes               & 10                & 10                & 2011              & 2012              & SWM               & 0                 & 10                & 1                 & north             & 10.3955120        &  31               & 0.0000000         & 0.2898551        \\\\\n",
       "\t 2011-10-01        & Sitio Tugas       & Palanas           & yes               & yes               & 10                & 10                & 2011              & 2012              & SWM               & 0                 &  9                & 1                 & north             &  9.6374134        &  30               & 0.0000000         & 0.2898551        \\\\\n",
       "\t 2011-10-01        & Hicgop South      & Palanas           & yes               & yes               & 10                & 10                & 2011              & 2012              & SWM               & 0                 &  8                & 1                 & north             &  8.7755268        &  90               & 0.0000000         & 0.2898551        \\\\\n",
       "\t 2011-10-01        & Hicgop South      & Palanas           & yes               & yes               & 10                & 10                & 2011              & 2012              & SWM               & 0                 &  8                & 1                 & north             &  8.7755268        &  90               & 0.0000000         & 0.2898551        \\\\\n",
       "\t 2011-10-01        & Caridad Proper    & Palanas           & yes               & yes               & 10                & 10                & 2011              & 2012              & SWM               & 0                 &  7                & 1                 & north             &  6.4479184        &  35               & 0.0000000         & 0.2898551        \\\\\n",
       "\t 2011-10-01        & Caridad Cemetery  & Palanas           & yes               & yes               & 10                & 10                & 2011              & 2012              & SWM               & 0                 &  6                & 1                 & north             &  5.6928890        &  57               & 0.0000000         & 0.2898551        \\\\\n",
       "\t 2011-10-01        & Cabatoan          & Palanas           & yes               & yes               & 10                & 10                & 2011              & 2012              & SWM               & 0                 &  5                & 1                 & north             &  2.6608432        &  66               & 0.4230769         & 0.2898551        \\\\\n",
       "\t 2011-10-01        & Magbangon         & Palanas           & yes               & yes               & 10                & 10                & 2011              & 2012              & SWM               & 0                 &  4                & 1                 & north             &  2.4139177        & 177               & 0.4593838         & 0.2898551        \\\\\n",
       "\t 2011-10-01        & Wangag            & Palanas           & yes               & yes               & 10                & 10                & 2011              & 2012              & SWM               & 0                 &  2                & 1                 & north             &  0.5409707        & 221               & 0.1821306         & 0.2898551        \\\\\n",
       "\t 2011-10-01        & Palanas           & Palanas           & yes               & yes               & 10                & 10                & 2011              & 2012              & SWM               & 0                 &  1                & 1                 & self              &  0.0000000        &  42               & 0.2898551         & 0.2898551        \\\\\n",
       "\t 2011-10-02        & Sitio Baybayon    & Palanas           & yes               & yes               & 10                & 10                & 2011              & 2012              & SWM               & 0                 & 19                & 1                 & north             & 27.2919430        & 624               & 0.0000000         & 0.2898551        \\\\\n",
       "\t 2011-10-02        & Haina             & Palanas           & yes               & yes               & 10                & 10                & 2011              & 2012              & SWM               & 0                 & 18                & 1                 & north             & 26.9920106        &   1               & 0.0000000         & 0.2898551        \\\\\n",
       "\t 2011-10-02        & Tamakin Dacot     & Palanas           & yes               & yes               & 10                & 10                & 2011              & 2012              & SWM               & 0                 & 17                & 1                 & north             & 25.8293487        &   0               & 0.0000000         & 0.2898551        \\\\\n",
       "\t 2011-10-02        & Gabas             & Palanas           & yes               & yes               & 10                & 10                & 2011              & 2012              & SWM               & 0                 & 16                & 1                 & north             & 18.5270048        &   8               & 0.0000000         & 0.2898551        \\\\\n",
       "\t 2011-10-02        & Visca             & Palanas           & yes               & yes               & 10                & 10                & 2011              & 2012              & SWM               & 0                 & 15                & 1                 & north             & 16.5775204        &   3               & 1.0000000         & 0.2898551        \\\\\n",
       "\t 2011-10-02        & Poroc Rose        & Palanas           & yes               & yes               & 10                & 10                & 2011              & 2012              & SWM               & 0                 & 14                & 1                 & north             & 15.4237354        &   6               & 1.0000000         & 0.2898551        \\\\\n",
       "\t 2011-10-02        & Poroc San Flower  & Palanas           & yes               & yes               & 10                & 10                & 2011              & 2012              & SWM               & 0                 & 13                & 1                 & north             & 14.6233888        &   7               & 1.0000000         & 0.2898551        \\\\\n",
       "\t 2011-10-02        & San Agustin       & Palanas           & yes               & yes               & 10                & 10                & 2011              & 2012              & SWM               & 0                 & 12                & 1                 & north             & 14.0674201        &   9               & 0.8888889         & 0.2898551        \\\\\n",
       "\t 2011-10-02        & Sitio Lonas       & Palanas           & yes               & yes               & 10                & 10                & 2011              & 2012              & SWM               & 0                 & 11                & 1                 & north             & 13.5366192        &  28               & 1.0000000         & 0.2898551        \\\\\n",
       "\t 2011-10-02        & Elementary School & Palanas           & yes               & yes               & 10                & 10                & 2011              & 2012              & SWM               & 0                 & 10                & 1                 & north             & 10.3955120        &  31               & 0.0000000         & 0.2898551        \\\\\n",
       "\t 2011-10-02        & Sitio Tugas       & Palanas           & yes               & yes               & 10                & 10                & 2011              & 2012              & SWM               & 0                 &  9                & 1                 & north             &  9.6374134        &  30               & 0.0000000         & 0.2898551        \\\\\n",
       "\t ... & ... & ... & ... & ... & ... & ... & ... & ... & ... & ... & ... & ... & ... & ... & ... & ... & ...\\\\\n",
       "\t 2014-04-17        & Sitio Lonas       & Palanas           & yes               & yes               & 4                 & 4                 & 2014              & 2014              & NEM               &  0                & 11                & 1                 & north             & 13.5366192        &   0               & 1.00000000        & 0.4468599        \\\\\n",
       "\t 2014-04-17        & Elementary School & Palanas           & yes               & yes               & 4                 & 4                 & 2014              & 2014              & NEM               &  0                & 10                & 1                 & north             & 10.3955120        &  37               & 0.47619048        & 0.4468599        \\\\\n",
       "\t 2014-04-17        & Sitio Tugas       & Palanas           & yes               & yes               & 4                 & 4                 & 2014              & 2014              & NEM               &  0                &  9                & 1                 & north             &  9.6374134        &  13               & 0.00000000        & 0.4468599        \\\\\n",
       "\t 2014-04-17        & Hicgop South      & Palanas           & yes               & yes               & 4                 & 4                 & 2014              & 2014              & NEM               &  0                &  8                & 1                 & north             &  8.7755268        &  61               & 0.31481481        & 0.4468599        \\\\\n",
       "\t 2014-04-17        & Hicgop South      & Palanas           & yes               & yes               & 4                 & 4                 & 2014              & 2014              & NEM               &  0                &  8                & 1                 & north             &  8.7755268        &  61               & 0.31481481        & 0.4468599        \\\\\n",
       "\t 2014-04-17        & Caridad Proper    & Palanas           & yes               & yes               & 4                 & 4                 & 2014              & 2014              & NEM               &  0                &  7                & 1                 & north             &  6.4479184        &   3               & 1.00000000        & 0.4468599        \\\\\n",
       "\t 2014-04-17        & Caridad Cemetery  & Palanas           & yes               & yes               & 4                 & 4                 & 2014              & 2014              & NEM               &  0                &  6                & 1                 & north             &  5.6928890        &  52               & 0.41666667        & 0.4468599        \\\\\n",
       "\t 2014-04-17        & Cabatoan          & Palanas           & yes               & yes               & 4                 & 4                 & 2014              & 2014              & NEM               &  0                &  5                & 1                 & north             &  2.6608432        &  83               & 0.52564103        & 0.4468599        \\\\\n",
       "\t 2014-04-17        & Magbangon         & Palanas           & yes               & yes               & 4                 & 4                 & 2014              & 2014              & NEM               &  0                &  4                & 1                 & north             &  2.4139177        & 151               & 0.62184874        & 0.4468599        \\\\\n",
       "\t 2014-04-17        & Wangag            & Palanas           & yes               & yes               & 4                 & 4                 & 2014              & 2014              & NEM               &  0                &  2                & 1                 & north             &  0.5409707        & 204               & 0.31042383        & 0.4468599        \\\\\n",
       "\t 2014-04-17        & Palanas           & Palanas           & yes               & yes               & 4                 & 4                 & 2014              & 2014              & NEM               &  0                &  1                & 1                 & self              &  0.0000000        & 259               & 0.44685990        & 0.4468599        \\\\\n",
       "\t 2014-04-18        & Sitio Baybayon    & Palanas           & yes               & yes               & 4                 & 4                 & 2014              & 2014              & NEM               &  0                & 19                & 1                 & north             & 27.2919430        & 470               & 0.14800515        & 0.4468599        \\\\\n",
       "\t 2014-04-18        & Haina             & Palanas           & yes               & yes               & 4                 & 4                 & 2014              & 2014              & NEM               &  0                & 18                & 1                 & north             & 26.9920106        &   0               & 0.06410256        & 0.4468599        \\\\\n",
       "\t 2014-04-18        & Tamakin Dacot     & Palanas           & yes               & yes               & 4                 & 4                 & 2014              & 2014              & NEM               &  0                & 17                & 1                 & north             & 25.8293487        &   0               & 0.15972222        & 0.4468599        \\\\\n",
       "\t 2014-04-18        & Gabas             & Palanas           & yes               & yes               & 4                 & 4                 & 2014              & 2014              & NEM               &  0                & 16                & 1                 & north             & 18.5270048        &   2               & 0.00000000        & 0.4468599        \\\\\n",
       "\t 2014-04-18        & Visca             & Palanas           & yes               & yes               & 4                 & 4                 & 2014              & 2014              & NEM               &  0                & 15                & 1                 & north             & 16.5775204        &   0               & 0.74358974        & 0.4468599        \\\\\n",
       "\t 2014-04-18        & Poroc Rose        & Palanas           & yes               & yes               & 4                 & 4                 & 2014              & 2014              & NEM               &  0                & 14                & 1                 & north             & 15.4237354        &   0               & 0.89743590        & 0.4468599        \\\\\n",
       "\t 2014-04-18        & Poroc San Flower  & Palanas           & yes               & yes               & 4                 & 4                 & 2014              & 2014              & NEM               &  0                & 13                & 1                 & north             & 14.6233888        &   0               & 0.84848485        & 0.4468599        \\\\\n",
       "\t 2014-04-18        & San Agustin       & Palanas           & yes               & yes               & 4                 & 4                 & 2014              & 2014              & NEM               &  0                & 12                & 1                 & north             & 14.0674201        &   0               & 0.74074074        & 0.4468599        \\\\\n",
       "\t 2014-04-18        & Sitio Lonas       & Palanas           & yes               & yes               & 4                 & 4                 & 2014              & 2014              & NEM               &  0                & 11                & 1                 & north             & 13.5366192        &   0               & 1.00000000        & 0.4468599        \\\\\n",
       "\t 2014-04-18        & Elementary School & Palanas           & yes               & yes               & 4                 & 4                 & 2014              & 2014              & NEM               &  0                & 10                & 1                 & north             & 10.3955120        &  37               & 0.47619048        & 0.4468599        \\\\\n",
       "\t 2014-04-18        & Sitio Tugas       & Palanas           & yes               & yes               & 4                 & 4                 & 2014              & 2014              & NEM               &  0                &  9                & 1                 & north             &  9.6374134        &  13               & 0.00000000        & 0.4468599        \\\\\n",
       "\t 2014-04-18        & Hicgop South      & Palanas           & yes               & yes               & 4                 & 4                 & 2014              & 2014              & NEM               &  0                &  8                & 1                 & north             &  8.7755268        &  61               & 0.31481481        & 0.4468599        \\\\\n",
       "\t 2014-04-18        & Hicgop South      & Palanas           & yes               & yes               & 4                 & 4                 & 2014              & 2014              & NEM               &  0                &  8                & 1                 & north             &  8.7755268        &  61               & 0.31481481        & 0.4468599        \\\\\n",
       "\t 2014-04-18        & Caridad Proper    & Palanas           & yes               & yes               & 4                 & 4                 & 2014              & 2014              & NEM               &  0                &  7                & 1                 & north             &  6.4479184        &   3               & 1.00000000        & 0.4468599        \\\\\n",
       "\t 2014-04-18        & Caridad Cemetery  & Palanas           & yes               & yes               & 4                 & 4                 & 2014              & 2014              & NEM               &  0                &  6                & 1                 & north             &  5.6928890        &  52               & 0.41666667        & 0.4468599        \\\\\n",
       "\t 2014-04-18        & Cabatoan          & Palanas           & yes               & yes               & 4                 & 4                 & 2014              & 2014              & NEM               &  0                &  5                & 1                 & north             &  2.6608432        &  83               & 0.52564103        & 0.4468599        \\\\\n",
       "\t 2014-04-18        & Magbangon         & Palanas           & yes               & yes               & 4                 & 4                 & 2014              & 2014              & NEM               &  0                &  4                & 1                 & north             &  2.4139177        & 151               & 0.62184874        & 0.4468599        \\\\\n",
       "\t 2014-04-18        & Wangag            & Palanas           & yes               & yes               & 4                 & 4                 & 2014              & 2014              & NEM               &  0                &  2                & 1                 & north             &  0.5409707        & 204               & 0.31042383        & 0.4468599        \\\\\n",
       "\t 2014-04-18        & Palanas           & Palanas           & yes               & yes               & 4                 & 4                 & 2014              & 2014              & NEM               & 15                &  1                & 1                 & self              &  0.0000000        & 259               & 0.44685990        & 0.4468599        \\\\\n",
       "\\end{tabular}\n"
      ],
      "text/markdown": [
       "\n",
       "| date | source | destination | SourceSampled | DestSampled | SimMonth | SimDay | SimYear | YearSampled | SimMonsoon | DailyParticles | SourceIndex | DestinationIndex | direction | dist_km | AnnRecPartSampled | SourcePropSamp | DestPropSamp |\n",
       "|---|---|---|---|---|---|---|---|---|---|---|---|---|---|---|---|---|---|\n",
       "| 2011-10-01        | Sitio Baybayon    | Palanas           | yes               | yes               | 10                | 10                | 2011              | 2012              | SWM               | 0                 | 19                | 1                 | north             | 27.2919430        | 624               | 0.0000000         | 0.2898551         |\n",
       "| 2011-10-01        | Haina             | Palanas           | yes               | yes               | 10                | 10                | 2011              | 2012              | SWM               | 0                 | 18                | 1                 | north             | 26.9920106        |   1               | 0.0000000         | 0.2898551         |\n",
       "| 2011-10-01        | Tamakin Dacot     | Palanas           | yes               | yes               | 10                | 10                | 2011              | 2012              | SWM               | 0                 | 17                | 1                 | north             | 25.8293487        |   0               | 0.0000000         | 0.2898551         |\n",
       "| 2011-10-01        | Gabas             | Palanas           | yes               | yes               | 10                | 10                | 2011              | 2012              | SWM               | 0                 | 16                | 1                 | north             | 18.5270048        |   8               | 0.0000000         | 0.2898551         |\n",
       "| 2011-10-01        | Visca             | Palanas           | yes               | yes               | 10                | 10                | 2011              | 2012              | SWM               | 0                 | 15                | 1                 | north             | 16.5775204        |   3               | 1.0000000         | 0.2898551         |\n",
       "| 2011-10-01        | Poroc Rose        | Palanas           | yes               | yes               | 10                | 10                | 2011              | 2012              | SWM               | 0                 | 14                | 1                 | north             | 15.4237354        |   6               | 1.0000000         | 0.2898551         |\n",
       "| 2011-10-01        | Poroc San Flower  | Palanas           | yes               | yes               | 10                | 10                | 2011              | 2012              | SWM               | 0                 | 13                | 1                 | north             | 14.6233888        |   7               | 1.0000000         | 0.2898551         |\n",
       "| 2011-10-01        | San Agustin       | Palanas           | yes               | yes               | 10                | 10                | 2011              | 2012              | SWM               | 0                 | 12                | 1                 | north             | 14.0674201        |   9               | 0.8888889         | 0.2898551         |\n",
       "| 2011-10-01        | Sitio Lonas       | Palanas           | yes               | yes               | 10                | 10                | 2011              | 2012              | SWM               | 0                 | 11                | 1                 | north             | 13.5366192        |  28               | 1.0000000         | 0.2898551         |\n",
       "| 2011-10-01        | Elementary School | Palanas           | yes               | yes               | 10                | 10                | 2011              | 2012              | SWM               | 0                 | 10                | 1                 | north             | 10.3955120        |  31               | 0.0000000         | 0.2898551         |\n",
       "| 2011-10-01        | Sitio Tugas       | Palanas           | yes               | yes               | 10                | 10                | 2011              | 2012              | SWM               | 0                 |  9                | 1                 | north             |  9.6374134        |  30               | 0.0000000         | 0.2898551         |\n",
       "| 2011-10-01        | Hicgop South      | Palanas           | yes               | yes               | 10                | 10                | 2011              | 2012              | SWM               | 0                 |  8                | 1                 | north             |  8.7755268        |  90               | 0.0000000         | 0.2898551         |\n",
       "| 2011-10-01        | Hicgop South      | Palanas           | yes               | yes               | 10                | 10                | 2011              | 2012              | SWM               | 0                 |  8                | 1                 | north             |  8.7755268        |  90               | 0.0000000         | 0.2898551         |\n",
       "| 2011-10-01        | Caridad Proper    | Palanas           | yes               | yes               | 10                | 10                | 2011              | 2012              | SWM               | 0                 |  7                | 1                 | north             |  6.4479184        |  35               | 0.0000000         | 0.2898551         |\n",
       "| 2011-10-01        | Caridad Cemetery  | Palanas           | yes               | yes               | 10                | 10                | 2011              | 2012              | SWM               | 0                 |  6                | 1                 | north             |  5.6928890        |  57               | 0.0000000         | 0.2898551         |\n",
       "| 2011-10-01        | Cabatoan          | Palanas           | yes               | yes               | 10                | 10                | 2011              | 2012              | SWM               | 0                 |  5                | 1                 | north             |  2.6608432        |  66               | 0.4230769         | 0.2898551         |\n",
       "| 2011-10-01        | Magbangon         | Palanas           | yes               | yes               | 10                | 10                | 2011              | 2012              | SWM               | 0                 |  4                | 1                 | north             |  2.4139177        | 177               | 0.4593838         | 0.2898551         |\n",
       "| 2011-10-01        | Wangag            | Palanas           | yes               | yes               | 10                | 10                | 2011              | 2012              | SWM               | 0                 |  2                | 1                 | north             |  0.5409707        | 221               | 0.1821306         | 0.2898551         |\n",
       "| 2011-10-01        | Palanas           | Palanas           | yes               | yes               | 10                | 10                | 2011              | 2012              | SWM               | 0                 |  1                | 1                 | self              |  0.0000000        |  42               | 0.2898551         | 0.2898551         |\n",
       "| 2011-10-02        | Sitio Baybayon    | Palanas           | yes               | yes               | 10                | 10                | 2011              | 2012              | SWM               | 0                 | 19                | 1                 | north             | 27.2919430        | 624               | 0.0000000         | 0.2898551         |\n",
       "| 2011-10-02        | Haina             | Palanas           | yes               | yes               | 10                | 10                | 2011              | 2012              | SWM               | 0                 | 18                | 1                 | north             | 26.9920106        |   1               | 0.0000000         | 0.2898551         |\n",
       "| 2011-10-02        | Tamakin Dacot     | Palanas           | yes               | yes               | 10                | 10                | 2011              | 2012              | SWM               | 0                 | 17                | 1                 | north             | 25.8293487        |   0               | 0.0000000         | 0.2898551         |\n",
       "| 2011-10-02        | Gabas             | Palanas           | yes               | yes               | 10                | 10                | 2011              | 2012              | SWM               | 0                 | 16                | 1                 | north             | 18.5270048        |   8               | 0.0000000         | 0.2898551         |\n",
       "| 2011-10-02        | Visca             | Palanas           | yes               | yes               | 10                | 10                | 2011              | 2012              | SWM               | 0                 | 15                | 1                 | north             | 16.5775204        |   3               | 1.0000000         | 0.2898551         |\n",
       "| 2011-10-02        | Poroc Rose        | Palanas           | yes               | yes               | 10                | 10                | 2011              | 2012              | SWM               | 0                 | 14                | 1                 | north             | 15.4237354        |   6               | 1.0000000         | 0.2898551         |\n",
       "| 2011-10-02        | Poroc San Flower  | Palanas           | yes               | yes               | 10                | 10                | 2011              | 2012              | SWM               | 0                 | 13                | 1                 | north             | 14.6233888        |   7               | 1.0000000         | 0.2898551         |\n",
       "| 2011-10-02        | San Agustin       | Palanas           | yes               | yes               | 10                | 10                | 2011              | 2012              | SWM               | 0                 | 12                | 1                 | north             | 14.0674201        |   9               | 0.8888889         | 0.2898551         |\n",
       "| 2011-10-02        | Sitio Lonas       | Palanas           | yes               | yes               | 10                | 10                | 2011              | 2012              | SWM               | 0                 | 11                | 1                 | north             | 13.5366192        |  28               | 1.0000000         | 0.2898551         |\n",
       "| 2011-10-02        | Elementary School | Palanas           | yes               | yes               | 10                | 10                | 2011              | 2012              | SWM               | 0                 | 10                | 1                 | north             | 10.3955120        |  31               | 0.0000000         | 0.2898551         |\n",
       "| 2011-10-02        | Sitio Tugas       | Palanas           | yes               | yes               | 10                | 10                | 2011              | 2012              | SWM               | 0                 |  9                | 1                 | north             |  9.6374134        |  30               | 0.0000000         | 0.2898551         |\n",
       "| ... | ... | ... | ... | ... | ... | ... | ... | ... | ... | ... | ... | ... | ... | ... | ... | ... | ... |\n",
       "| 2014-04-17        | Sitio Lonas       | Palanas           | yes               | yes               | 4                 | 4                 | 2014              | 2014              | NEM               |  0                | 11                | 1                 | north             | 13.5366192        |   0               | 1.00000000        | 0.4468599         |\n",
       "| 2014-04-17        | Elementary School | Palanas           | yes               | yes               | 4                 | 4                 | 2014              | 2014              | NEM               |  0                | 10                | 1                 | north             | 10.3955120        |  37               | 0.47619048        | 0.4468599         |\n",
       "| 2014-04-17        | Sitio Tugas       | Palanas           | yes               | yes               | 4                 | 4                 | 2014              | 2014              | NEM               |  0                |  9                | 1                 | north             |  9.6374134        |  13               | 0.00000000        | 0.4468599         |\n",
       "| 2014-04-17        | Hicgop South      | Palanas           | yes               | yes               | 4                 | 4                 | 2014              | 2014              | NEM               |  0                |  8                | 1                 | north             |  8.7755268        |  61               | 0.31481481        | 0.4468599         |\n",
       "| 2014-04-17        | Hicgop South      | Palanas           | yes               | yes               | 4                 | 4                 | 2014              | 2014              | NEM               |  0                |  8                | 1                 | north             |  8.7755268        |  61               | 0.31481481        | 0.4468599         |\n",
       "| 2014-04-17        | Caridad Proper    | Palanas           | yes               | yes               | 4                 | 4                 | 2014              | 2014              | NEM               |  0                |  7                | 1                 | north             |  6.4479184        |   3               | 1.00000000        | 0.4468599         |\n",
       "| 2014-04-17        | Caridad Cemetery  | Palanas           | yes               | yes               | 4                 | 4                 | 2014              | 2014              | NEM               |  0                |  6                | 1                 | north             |  5.6928890        |  52               | 0.41666667        | 0.4468599         |\n",
       "| 2014-04-17        | Cabatoan          | Palanas           | yes               | yes               | 4                 | 4                 | 2014              | 2014              | NEM               |  0                |  5                | 1                 | north             |  2.6608432        |  83               | 0.52564103        | 0.4468599         |\n",
       "| 2014-04-17        | Magbangon         | Palanas           | yes               | yes               | 4                 | 4                 | 2014              | 2014              | NEM               |  0                |  4                | 1                 | north             |  2.4139177        | 151               | 0.62184874        | 0.4468599         |\n",
       "| 2014-04-17        | Wangag            | Palanas           | yes               | yes               | 4                 | 4                 | 2014              | 2014              | NEM               |  0                |  2                | 1                 | north             |  0.5409707        | 204               | 0.31042383        | 0.4468599         |\n",
       "| 2014-04-17        | Palanas           | Palanas           | yes               | yes               | 4                 | 4                 | 2014              | 2014              | NEM               |  0                |  1                | 1                 | self              |  0.0000000        | 259               | 0.44685990        | 0.4468599         |\n",
       "| 2014-04-18        | Sitio Baybayon    | Palanas           | yes               | yes               | 4                 | 4                 | 2014              | 2014              | NEM               |  0                | 19                | 1                 | north             | 27.2919430        | 470               | 0.14800515        | 0.4468599         |\n",
       "| 2014-04-18        | Haina             | Palanas           | yes               | yes               | 4                 | 4                 | 2014              | 2014              | NEM               |  0                | 18                | 1                 | north             | 26.9920106        |   0               | 0.06410256        | 0.4468599         |\n",
       "| 2014-04-18        | Tamakin Dacot     | Palanas           | yes               | yes               | 4                 | 4                 | 2014              | 2014              | NEM               |  0                | 17                | 1                 | north             | 25.8293487        |   0               | 0.15972222        | 0.4468599         |\n",
       "| 2014-04-18        | Gabas             | Palanas           | yes               | yes               | 4                 | 4                 | 2014              | 2014              | NEM               |  0                | 16                | 1                 | north             | 18.5270048        |   2               | 0.00000000        | 0.4468599         |\n",
       "| 2014-04-18        | Visca             | Palanas           | yes               | yes               | 4                 | 4                 | 2014              | 2014              | NEM               |  0                | 15                | 1                 | north             | 16.5775204        |   0               | 0.74358974        | 0.4468599         |\n",
       "| 2014-04-18        | Poroc Rose        | Palanas           | yes               | yes               | 4                 | 4                 | 2014              | 2014              | NEM               |  0                | 14                | 1                 | north             | 15.4237354        |   0               | 0.89743590        | 0.4468599         |\n",
       "| 2014-04-18        | Poroc San Flower  | Palanas           | yes               | yes               | 4                 | 4                 | 2014              | 2014              | NEM               |  0                | 13                | 1                 | north             | 14.6233888        |   0               | 0.84848485        | 0.4468599         |\n",
       "| 2014-04-18        | San Agustin       | Palanas           | yes               | yes               | 4                 | 4                 | 2014              | 2014              | NEM               |  0                | 12                | 1                 | north             | 14.0674201        |   0               | 0.74074074        | 0.4468599         |\n",
       "| 2014-04-18        | Sitio Lonas       | Palanas           | yes               | yes               | 4                 | 4                 | 2014              | 2014              | NEM               |  0                | 11                | 1                 | north             | 13.5366192        |   0               | 1.00000000        | 0.4468599         |\n",
       "| 2014-04-18        | Elementary School | Palanas           | yes               | yes               | 4                 | 4                 | 2014              | 2014              | NEM               |  0                | 10                | 1                 | north             | 10.3955120        |  37               | 0.47619048        | 0.4468599         |\n",
       "| 2014-04-18        | Sitio Tugas       | Palanas           | yes               | yes               | 4                 | 4                 | 2014              | 2014              | NEM               |  0                |  9                | 1                 | north             |  9.6374134        |  13               | 0.00000000        | 0.4468599         |\n",
       "| 2014-04-18        | Hicgop South      | Palanas           | yes               | yes               | 4                 | 4                 | 2014              | 2014              | NEM               |  0                |  8                | 1                 | north             |  8.7755268        |  61               | 0.31481481        | 0.4468599         |\n",
       "| 2014-04-18        | Hicgop South      | Palanas           | yes               | yes               | 4                 | 4                 | 2014              | 2014              | NEM               |  0                |  8                | 1                 | north             |  8.7755268        |  61               | 0.31481481        | 0.4468599         |\n",
       "| 2014-04-18        | Caridad Proper    | Palanas           | yes               | yes               | 4                 | 4                 | 2014              | 2014              | NEM               |  0                |  7                | 1                 | north             |  6.4479184        |   3               | 1.00000000        | 0.4468599         |\n",
       "| 2014-04-18        | Caridad Cemetery  | Palanas           | yes               | yes               | 4                 | 4                 | 2014              | 2014              | NEM               |  0                |  6                | 1                 | north             |  5.6928890        |  52               | 0.41666667        | 0.4468599         |\n",
       "| 2014-04-18        | Cabatoan          | Palanas           | yes               | yes               | 4                 | 4                 | 2014              | 2014              | NEM               |  0                |  5                | 1                 | north             |  2.6608432        |  83               | 0.52564103        | 0.4468599         |\n",
       "| 2014-04-18        | Magbangon         | Palanas           | yes               | yes               | 4                 | 4                 | 2014              | 2014              | NEM               |  0                |  4                | 1                 | north             |  2.4139177        | 151               | 0.62184874        | 0.4468599         |\n",
       "| 2014-04-18        | Wangag            | Palanas           | yes               | yes               | 4                 | 4                 | 2014              | 2014              | NEM               |  0                |  2                | 1                 | north             |  0.5409707        | 204               | 0.31042383        | 0.4468599         |\n",
       "| 2014-04-18        | Palanas           | Palanas           | yes               | yes               | 4                 | 4                 | 2014              | 2014              | NEM               | 15                |  1                | 1                 | self              |  0.0000000        | 259               | 0.44685990        | 0.4468599         |\n",
       "\n"
      ],
      "text/plain": [
       "      date       source            destination SourceSampled DestSampled\n",
       "1     2011-10-01 Sitio Baybayon    Palanas     yes           yes        \n",
       "2     2011-10-01 Haina             Palanas     yes           yes        \n",
       "3     2011-10-01 Tamakin Dacot     Palanas     yes           yes        \n",
       "4     2011-10-01 Gabas             Palanas     yes           yes        \n",
       "5     2011-10-01 Visca             Palanas     yes           yes        \n",
       "6     2011-10-01 Poroc Rose        Palanas     yes           yes        \n",
       "7     2011-10-01 Poroc San Flower  Palanas     yes           yes        \n",
       "8     2011-10-01 San Agustin       Palanas     yes           yes        \n",
       "9     2011-10-01 Sitio Lonas       Palanas     yes           yes        \n",
       "10    2011-10-01 Elementary School Palanas     yes           yes        \n",
       "11    2011-10-01 Sitio Tugas       Palanas     yes           yes        \n",
       "12    2011-10-01 Hicgop South      Palanas     yes           yes        \n",
       "13    2011-10-01 Hicgop South      Palanas     yes           yes        \n",
       "14    2011-10-01 Caridad Proper    Palanas     yes           yes        \n",
       "15    2011-10-01 Caridad Cemetery  Palanas     yes           yes        \n",
       "16    2011-10-01 Cabatoan          Palanas     yes           yes        \n",
       "17    2011-10-01 Magbangon         Palanas     yes           yes        \n",
       "18    2011-10-01 Wangag            Palanas     yes           yes        \n",
       "19    2011-10-01 Palanas           Palanas     yes           yes        \n",
       "20    2011-10-02 Sitio Baybayon    Palanas     yes           yes        \n",
       "21    2011-10-02 Haina             Palanas     yes           yes        \n",
       "22    2011-10-02 Tamakin Dacot     Palanas     yes           yes        \n",
       "23    2011-10-02 Gabas             Palanas     yes           yes        \n",
       "24    2011-10-02 Visca             Palanas     yes           yes        \n",
       "25    2011-10-02 Poroc Rose        Palanas     yes           yes        \n",
       "26    2011-10-02 Poroc San Flower  Palanas     yes           yes        \n",
       "27    2011-10-02 San Agustin       Palanas     yes           yes        \n",
       "28    2011-10-02 Sitio Lonas       Palanas     yes           yes        \n",
       "29    2011-10-02 Elementary School Palanas     yes           yes        \n",
       "30    2011-10-02 Sitio Tugas       Palanas     yes           yes        \n",
       "...   ...        ...               ...         ...           ...        \n",
       "13024 2014-04-17 Sitio Lonas       Palanas     yes           yes        \n",
       "13025 2014-04-17 Elementary School Palanas     yes           yes        \n",
       "13026 2014-04-17 Sitio Tugas       Palanas     yes           yes        \n",
       "13027 2014-04-17 Hicgop South      Palanas     yes           yes        \n",
       "13028 2014-04-17 Hicgop South      Palanas     yes           yes        \n",
       "13029 2014-04-17 Caridad Proper    Palanas     yes           yes        \n",
       "13030 2014-04-17 Caridad Cemetery  Palanas     yes           yes        \n",
       "13031 2014-04-17 Cabatoan          Palanas     yes           yes        \n",
       "13032 2014-04-17 Magbangon         Palanas     yes           yes        \n",
       "13033 2014-04-17 Wangag            Palanas     yes           yes        \n",
       "13034 2014-04-17 Palanas           Palanas     yes           yes        \n",
       "13035 2014-04-18 Sitio Baybayon    Palanas     yes           yes        \n",
       "13036 2014-04-18 Haina             Palanas     yes           yes        \n",
       "13037 2014-04-18 Tamakin Dacot     Palanas     yes           yes        \n",
       "13038 2014-04-18 Gabas             Palanas     yes           yes        \n",
       "13039 2014-04-18 Visca             Palanas     yes           yes        \n",
       "13040 2014-04-18 Poroc Rose        Palanas     yes           yes        \n",
       "13041 2014-04-18 Poroc San Flower  Palanas     yes           yes        \n",
       "13042 2014-04-18 San Agustin       Palanas     yes           yes        \n",
       "13043 2014-04-18 Sitio Lonas       Palanas     yes           yes        \n",
       "13044 2014-04-18 Elementary School Palanas     yes           yes        \n",
       "13045 2014-04-18 Sitio Tugas       Palanas     yes           yes        \n",
       "13046 2014-04-18 Hicgop South      Palanas     yes           yes        \n",
       "13047 2014-04-18 Hicgop South      Palanas     yes           yes        \n",
       "13048 2014-04-18 Caridad Proper    Palanas     yes           yes        \n",
       "13049 2014-04-18 Caridad Cemetery  Palanas     yes           yes        \n",
       "13050 2014-04-18 Cabatoan          Palanas     yes           yes        \n",
       "13051 2014-04-18 Magbangon         Palanas     yes           yes        \n",
       "13052 2014-04-18 Wangag            Palanas     yes           yes        \n",
       "13053 2014-04-18 Palanas           Palanas     yes           yes        \n",
       "      SimMonth SimDay SimYear YearSampled SimMonsoon DailyParticles SourceIndex\n",
       "1     10       10     2011    2012        SWM        0              19         \n",
       "2     10       10     2011    2012        SWM        0              18         \n",
       "3     10       10     2011    2012        SWM        0              17         \n",
       "4     10       10     2011    2012        SWM        0              16         \n",
       "5     10       10     2011    2012        SWM        0              15         \n",
       "6     10       10     2011    2012        SWM        0              14         \n",
       "7     10       10     2011    2012        SWM        0              13         \n",
       "8     10       10     2011    2012        SWM        0              12         \n",
       "9     10       10     2011    2012        SWM        0              11         \n",
       "10    10       10     2011    2012        SWM        0              10         \n",
       "11    10       10     2011    2012        SWM        0               9         \n",
       "12    10       10     2011    2012        SWM        0               8         \n",
       "13    10       10     2011    2012        SWM        0               8         \n",
       "14    10       10     2011    2012        SWM        0               7         \n",
       "15    10       10     2011    2012        SWM        0               6         \n",
       "16    10       10     2011    2012        SWM        0               5         \n",
       "17    10       10     2011    2012        SWM        0               4         \n",
       "18    10       10     2011    2012        SWM        0               2         \n",
       "19    10       10     2011    2012        SWM        0               1         \n",
       "20    10       10     2011    2012        SWM        0              19         \n",
       "21    10       10     2011    2012        SWM        0              18         \n",
       "22    10       10     2011    2012        SWM        0              17         \n",
       "23    10       10     2011    2012        SWM        0              16         \n",
       "24    10       10     2011    2012        SWM        0              15         \n",
       "25    10       10     2011    2012        SWM        0              14         \n",
       "26    10       10     2011    2012        SWM        0              13         \n",
       "27    10       10     2011    2012        SWM        0              12         \n",
       "28    10       10     2011    2012        SWM        0              11         \n",
       "29    10       10     2011    2012        SWM        0              10         \n",
       "30    10       10     2011    2012        SWM        0               9         \n",
       "...   ...      ...    ...     ...         ...        ...            ...        \n",
       "13024 4        4      2014    2014        NEM         0             11         \n",
       "13025 4        4      2014    2014        NEM         0             10         \n",
       "13026 4        4      2014    2014        NEM         0              9         \n",
       "13027 4        4      2014    2014        NEM         0              8         \n",
       "13028 4        4      2014    2014        NEM         0              8         \n",
       "13029 4        4      2014    2014        NEM         0              7         \n",
       "13030 4        4      2014    2014        NEM         0              6         \n",
       "13031 4        4      2014    2014        NEM         0              5         \n",
       "13032 4        4      2014    2014        NEM         0              4         \n",
       "13033 4        4      2014    2014        NEM         0              2         \n",
       "13034 4        4      2014    2014        NEM         0              1         \n",
       "13035 4        4      2014    2014        NEM         0             19         \n",
       "13036 4        4      2014    2014        NEM         0             18         \n",
       "13037 4        4      2014    2014        NEM         0             17         \n",
       "13038 4        4      2014    2014        NEM         0             16         \n",
       "13039 4        4      2014    2014        NEM         0             15         \n",
       "13040 4        4      2014    2014        NEM         0             14         \n",
       "13041 4        4      2014    2014        NEM         0             13         \n",
       "13042 4        4      2014    2014        NEM         0             12         \n",
       "13043 4        4      2014    2014        NEM         0             11         \n",
       "13044 4        4      2014    2014        NEM         0             10         \n",
       "13045 4        4      2014    2014        NEM         0              9         \n",
       "13046 4        4      2014    2014        NEM         0              8         \n",
       "13047 4        4      2014    2014        NEM         0              8         \n",
       "13048 4        4      2014    2014        NEM         0              7         \n",
       "13049 4        4      2014    2014        NEM         0              6         \n",
       "13050 4        4      2014    2014        NEM         0              5         \n",
       "13051 4        4      2014    2014        NEM         0              4         \n",
       "13052 4        4      2014    2014        NEM         0              2         \n",
       "13053 4        4      2014    2014        NEM        15              1         \n",
       "      DestinationIndex direction dist_km    AnnRecPartSampled SourcePropSamp\n",
       "1     1                north     27.2919430 624               0.0000000     \n",
       "2     1                north     26.9920106   1               0.0000000     \n",
       "3     1                north     25.8293487   0               0.0000000     \n",
       "4     1                north     18.5270048   8               0.0000000     \n",
       "5     1                north     16.5775204   3               1.0000000     \n",
       "6     1                north     15.4237354   6               1.0000000     \n",
       "7     1                north     14.6233888   7               1.0000000     \n",
       "8     1                north     14.0674201   9               0.8888889     \n",
       "9     1                north     13.5366192  28               1.0000000     \n",
       "10    1                north     10.3955120  31               0.0000000     \n",
       "11    1                north      9.6374134  30               0.0000000     \n",
       "12    1                north      8.7755268  90               0.0000000     \n",
       "13    1                north      8.7755268  90               0.0000000     \n",
       "14    1                north      6.4479184  35               0.0000000     \n",
       "15    1                north      5.6928890  57               0.0000000     \n",
       "16    1                north      2.6608432  66               0.4230769     \n",
       "17    1                north      2.4139177 177               0.4593838     \n",
       "18    1                north      0.5409707 221               0.1821306     \n",
       "19    1                self       0.0000000  42               0.2898551     \n",
       "20    1                north     27.2919430 624               0.0000000     \n",
       "21    1                north     26.9920106   1               0.0000000     \n",
       "22    1                north     25.8293487   0               0.0000000     \n",
       "23    1                north     18.5270048   8               0.0000000     \n",
       "24    1                north     16.5775204   3               1.0000000     \n",
       "25    1                north     15.4237354   6               1.0000000     \n",
       "26    1                north     14.6233888   7               1.0000000     \n",
       "27    1                north     14.0674201   9               0.8888889     \n",
       "28    1                north     13.5366192  28               1.0000000     \n",
       "29    1                north     10.3955120  31               0.0000000     \n",
       "30    1                north      9.6374134  30               0.0000000     \n",
       "...   ...              ...       ...        ...               ...           \n",
       "13024 1                north     13.5366192   0               1.00000000    \n",
       "13025 1                north     10.3955120  37               0.47619048    \n",
       "13026 1                north      9.6374134  13               0.00000000    \n",
       "13027 1                north      8.7755268  61               0.31481481    \n",
       "13028 1                north      8.7755268  61               0.31481481    \n",
       "13029 1                north      6.4479184   3               1.00000000    \n",
       "13030 1                north      5.6928890  52               0.41666667    \n",
       "13031 1                north      2.6608432  83               0.52564103    \n",
       "13032 1                north      2.4139177 151               0.62184874    \n",
       "13033 1                north      0.5409707 204               0.31042383    \n",
       "13034 1                self       0.0000000 259               0.44685990    \n",
       "13035 1                north     27.2919430 470               0.14800515    \n",
       "13036 1                north     26.9920106   0               0.06410256    \n",
       "13037 1                north     25.8293487   0               0.15972222    \n",
       "13038 1                north     18.5270048   2               0.00000000    \n",
       "13039 1                north     16.5775204   0               0.74358974    \n",
       "13040 1                north     15.4237354   0               0.89743590    \n",
       "13041 1                north     14.6233888   0               0.84848485    \n",
       "13042 1                north     14.0674201   0               0.74074074    \n",
       "13043 1                north     13.5366192   0               1.00000000    \n",
       "13044 1                north     10.3955120  37               0.47619048    \n",
       "13045 1                north      9.6374134  13               0.00000000    \n",
       "13046 1                north      8.7755268  61               0.31481481    \n",
       "13047 1                north      8.7755268  61               0.31481481    \n",
       "13048 1                north      6.4479184   3               1.00000000    \n",
       "13049 1                north      5.6928890  52               0.41666667    \n",
       "13050 1                north      2.6608432  83               0.52564103    \n",
       "13051 1                north      2.4139177 151               0.62184874    \n",
       "13052 1                north      0.5409707 204               0.31042383    \n",
       "13053 1                self       0.0000000 259               0.44685990    \n",
       "      DestPropSamp\n",
       "1     0.2898551   \n",
       "2     0.2898551   \n",
       "3     0.2898551   \n",
       "4     0.2898551   \n",
       "5     0.2898551   \n",
       "6     0.2898551   \n",
       "7     0.2898551   \n",
       "8     0.2898551   \n",
       "9     0.2898551   \n",
       "10    0.2898551   \n",
       "11    0.2898551   \n",
       "12    0.2898551   \n",
       "13    0.2898551   \n",
       "14    0.2898551   \n",
       "15    0.2898551   \n",
       "16    0.2898551   \n",
       "17    0.2898551   \n",
       "18    0.2898551   \n",
       "19    0.2898551   \n",
       "20    0.2898551   \n",
       "21    0.2898551   \n",
       "22    0.2898551   \n",
       "23    0.2898551   \n",
       "24    0.2898551   \n",
       "25    0.2898551   \n",
       "26    0.2898551   \n",
       "27    0.2898551   \n",
       "28    0.2898551   \n",
       "29    0.2898551   \n",
       "30    0.2898551   \n",
       "...   ...         \n",
       "13024 0.4468599   \n",
       "13025 0.4468599   \n",
       "13026 0.4468599   \n",
       "13027 0.4468599   \n",
       "13028 0.4468599   \n",
       "13029 0.4468599   \n",
       "13030 0.4468599   \n",
       "13031 0.4468599   \n",
       "13032 0.4468599   \n",
       "13033 0.4468599   \n",
       "13034 0.4468599   \n",
       "13035 0.4468599   \n",
       "13036 0.4468599   \n",
       "13037 0.4468599   \n",
       "13038 0.4468599   \n",
       "13039 0.4468599   \n",
       "13040 0.4468599   \n",
       "13041 0.4468599   \n",
       "13042 0.4468599   \n",
       "13043 0.4468599   \n",
       "13044 0.4468599   \n",
       "13045 0.4468599   \n",
       "13046 0.4468599   \n",
       "13047 0.4468599   \n",
       "13048 0.4468599   \n",
       "13049 0.4468599   \n",
       "13050 0.4468599   \n",
       "13051 0.4468599   \n",
       "13052 0.4468599   \n",
       "13053 0.4468599   "
      ]
     },
     "metadata": {},
     "output_type": "display_data"
    }
   ],
   "source": [
    "(SimConnDFMeta %>% filter(destination== \"Palanas\"))"
   ]
  },
  {
   "cell_type": "code",
   "execution_count": 55,
   "metadata": {},
   "outputs": [
    {
     "name": "stderr",
     "output_type": "stream",
     "text": [
      "`summarise()` regrouping output by 'offs_site', 'par_site' (override with `.groups` argument)\n"
     ]
    },
    {
     "data": {
      "text/html": [
       "24"
      ],
      "text/latex": [
       "24"
      ],
      "text/markdown": [
       "24"
      ],
      "text/plain": [
       "[1] 24"
      ]
     },
     "metadata": {},
     "output_type": "display_data"
    },
    {
     "data": {
      "text/html": [
       "15"
      ],
      "text/latex": [
       "15"
      ],
      "text/markdown": [
       "15"
      ],
      "text/plain": [
       "[1] 15"
      ]
     },
     "metadata": {},
     "output_type": "display_data"
    }
   ],
   "source": [
    "##add in the empirical dispersal data from the genetics\n",
    "ObsDisp <- read.csv(file=\"~/parentage/colony2/20200605_1340loci/results/20200624colony_dispersaldirection.csv\", header=T, stringsAsFactors=F)\n",
    "#\n",
    "ObsDisp$offs_site <- gsub(\". \", \".\", ObsDisp$offs_site, fixed=TRUE) #fix spaces in Magbangon names\n",
    "ObsDisp$par_site <- gsub(\". \", \".\", ObsDisp$par_site, fixed=TRUE) #fix spaces in Magbangon names\n",
    "\n",
    "##just like in PropSamp, combine Magbangons to match simulation\n",
    "###for the observed parentage, there's only one case of a disp obs to/from the same site in the same year from both N and S Mag. So that's the only obs to combine, do it manually\n",
    "ObsDisp <- ObsDisp %>%\n",
    "    filter(year %in% c(\"2012\", \"2013\", \"2014\")) %>% #, \"2014\"  #only use the data from the years that overlap between simulations and empirical sampling\n",
    "    dplyr::select(year, dist_par_km, offs_site, par_site) %>%\n",
    "    group_by(offs_site, par_site, year) %>%\n",
    "    summarise(obs_disp=n()) %>%\n",
    "    mutate(obs_disp=ifelse(offs_site==\"N.Magbangon\" & par_site==\"Palanas\" & year==\"2013\", 2, obs_disp)) %>% #manually change the 1 to 2 to combine N/S Mag\n",
    "    filter(par_site !=\"S.Magbangon\" & offs_site !=\"Palanas\") %>% #drop the S.Mag obs so we don't double count\n",
    "    mutate(offs_site=ifelse(offs_site==\"N.Magbangon\", \"Magbangon\", offs_site)) %>%#change N.Mag name to generic Mag\n",
    "    mutate(par_site=ifelse(par_site==\"N.Magbangon\", \"Magbangon\", par_site)) %>%#change N.Mag name to generic Mag  \n",
    "    mutate(offs_site=ifelse(offs_site==\"S.Magbangon\", \"Magbangon\", offs_site)) %>%#change S.Mag name to generic Mag\n",
    "    mutate(par_site=ifelse(par_site==\"S.Magbangon\", \"Magbangon\", par_site)) %>% #change S.Mag name to generic Mag    \n",
    "    mutate(year=as.character(year)) %>%\n",
    "    ungroup() \n",
    "\n",
    "#first, summarize the simulated data to the level of a sampling year and remove duplicates (daily rows, now that it's already summarized)\n",
    "SimConnDFMetaAnn <- SimConnDFMeta %>%\n",
    "    ungroup() %>%\n",
    "    distinct(YearSampled, source, destination, .keep_all = T) %>%\n",
    "    dplyr::select(-date)\n",
    "GenSimConn <- left_join(SimConnDFMetaAnn, ObsDisp, by=c(source=\"par_site\", destination=\"offs_site\", YearSampled=\"year\"))%>%\n",
    "    mutate(obs_disp=ifelse(is.na(obs_disp), 0, obs_disp))\n",
    "sum(GenSimConn$obs_disp)\n",
    "#add a column for binomial 1/0 if dispersal occured along that route\n",
    "GenSimConn <- GenSimConn %>%\n",
    "    mutate(BiDisp=ifelse(obs_disp >= 1, 1, obs_disp))\n",
    "sum(GenSimConn$BiDisp)\n",
    "#write out the table with all of the genetic sampling and simulated data\n",
    "#write.csv(GenSimConn, file=\"~/oceanography/script_output/GenSimConnectivityFullTable.csv\", row.names=F)\n",
    "\n",
    "\n",
    "##ObsDisp <- left_join(ObsDisp, S.Mag, by=c(\"year\", par_site=\"extra_par\", offs_site=\"extra_offs\")) %>%\n",
    "##    mutate(S.MagSum=obs_disp+S.MagN)%>% #create col adding the S.Mag values to prop hab - keep in mind values could be greater than 1- if so change them to 1\n",
    "##    mutate(obs_disp= ifelse(par_site==\"N.Magbangon\" | offs_site==\"N.Magbangon\", S.MagSum, obs_disp)) %>%#sub this value in for only N.Mag\n",
    "##    mutate(offs_site=ifelse(offs_site==\"N.Magbangon\", \"Magbangon\", offs_site)) %>%#change N.Mag name to generic Mag\n",
    "##    mutate(par_site=ifelse(par_site==\"N.Magbangon\", \"Magbangon\", par_site)) %>%#change N.Mag name to generic Mag    \n",
    "##    filter(offs_site !=\"S.Magbangon\" | par_site !=\"S.Magbangon\" ) #%>%#eliminate the S.Mag rows, they are now repeats\n",
    "##    #dplyr::select(-S.MagN,-extra_par, -extra_offs, S.MagSum)\n",
    "#sum(ObsDisp$obs_disp, na.rm=T)#should be 37 for years of overlap between model and genetics, 21 for 2013\n",
    "##\n",
    "\n",
    "#\n",
    "##read in empirical kernel data\n",
    "#kernels <- read.csv(file=\"~/parentage/kernel_fitting/1340_loci/final_results/tables/kernel_fitting_summary.csv\", header=T)\n",
    "#RecruitsSampled <- read.csv(file=\"~/oceanography/empirical_data/genetics/NumSampledRecruits.csv\", header=T)\n",
    "#\n",
    "#\n",
    "#\n",
    "#"
   ]
  },
  {
   "cell_type": "code",
   "execution_count": 57,
   "metadata": {},
   "outputs": [
    {
     "data": {
      "text/html": [
       "<table>\n",
       "<thead><tr><th scope=col>offs_site</th><th scope=col>par_site</th><th scope=col>year</th><th scope=col>obs_disp</th></tr></thead>\n",
       "<tbody>\n",
       "\t<tr><td>Elementary School</td><td>Palanas          </td><td>2013             </td><td>2                </td></tr>\n",
       "\t<tr><td>Magbangon        </td><td>Magbangon        </td><td>2013             </td><td>1                </td></tr>\n",
       "\t<tr><td>Magbangon        </td><td>Magbangon        </td><td>2014             </td><td>1                </td></tr>\n",
       "\t<tr><td>Magbangon        </td><td>Palanas          </td><td>2013             </td><td>2                </td></tr>\n",
       "\t<tr><td>Poroc San Flower </td><td>Wangag           </td><td>2012             </td><td>1                </td></tr>\n",
       "\t<tr><td>Magbangon        </td><td>Cabatoan         </td><td>2014             </td><td>1                </td></tr>\n",
       "\t<tr><td>Magbangon        </td><td>Palanas          </td><td>2013             </td><td>1                </td></tr>\n",
       "\t<tr><td>Sitio Baybayon   </td><td>Sitio Baybayon   </td><td>2014             </td><td>5                </td></tr>\n",
       "\t<tr><td>Visca            </td><td>Visca            </td><td>2013             </td><td>1                </td></tr>\n",
       "\t<tr><td>Wangag           </td><td>Haina            </td><td>2013             </td><td>1                </td></tr>\n",
       "\t<tr><td>Wangag           </td><td>Palanas          </td><td>2012             </td><td>1                </td></tr>\n",
       "\t<tr><td>Wangag           </td><td>Palanas          </td><td>2013             </td><td>2                </td></tr>\n",
       "\t<tr><td>Wangag           </td><td>Palanas          </td><td>2014             </td><td>1                </td></tr>\n",
       "\t<tr><td>Wangag           </td><td>Sitio Baybayon   </td><td>2014             </td><td>2                </td></tr>\n",
       "\t<tr><td>Wangag           </td><td>Wangag           </td><td>2013             </td><td>2                </td></tr>\n",
       "</tbody>\n",
       "</table>\n"
      ],
      "text/latex": [
       "\\begin{tabular}{r|llll}\n",
       " offs\\_site & par\\_site & year & obs\\_disp\\\\\n",
       "\\hline\n",
       "\t Elementary School & Palanas           & 2013              & 2                \\\\\n",
       "\t Magbangon         & Magbangon         & 2013              & 1                \\\\\n",
       "\t Magbangon         & Magbangon         & 2014              & 1                \\\\\n",
       "\t Magbangon         & Palanas           & 2013              & 2                \\\\\n",
       "\t Poroc San Flower  & Wangag            & 2012              & 1                \\\\\n",
       "\t Magbangon         & Cabatoan          & 2014              & 1                \\\\\n",
       "\t Magbangon         & Palanas           & 2013              & 1                \\\\\n",
       "\t Sitio Baybayon    & Sitio Baybayon    & 2014              & 5                \\\\\n",
       "\t Visca             & Visca             & 2013              & 1                \\\\\n",
       "\t Wangag            & Haina             & 2013              & 1                \\\\\n",
       "\t Wangag            & Palanas           & 2012              & 1                \\\\\n",
       "\t Wangag            & Palanas           & 2013              & 2                \\\\\n",
       "\t Wangag            & Palanas           & 2014              & 1                \\\\\n",
       "\t Wangag            & Sitio Baybayon    & 2014              & 2                \\\\\n",
       "\t Wangag            & Wangag            & 2013              & 2                \\\\\n",
       "\\end{tabular}\n"
      ],
      "text/markdown": [
       "\n",
       "| offs_site | par_site | year | obs_disp |\n",
       "|---|---|---|---|\n",
       "| Elementary School | Palanas           | 2013              | 2                 |\n",
       "| Magbangon         | Magbangon         | 2013              | 1                 |\n",
       "| Magbangon         | Magbangon         | 2014              | 1                 |\n",
       "| Magbangon         | Palanas           | 2013              | 2                 |\n",
       "| Poroc San Flower  | Wangag            | 2012              | 1                 |\n",
       "| Magbangon         | Cabatoan          | 2014              | 1                 |\n",
       "| Magbangon         | Palanas           | 2013              | 1                 |\n",
       "| Sitio Baybayon    | Sitio Baybayon    | 2014              | 5                 |\n",
       "| Visca             | Visca             | 2013              | 1                 |\n",
       "| Wangag            | Haina             | 2013              | 1                 |\n",
       "| Wangag            | Palanas           | 2012              | 1                 |\n",
       "| Wangag            | Palanas           | 2013              | 2                 |\n",
       "| Wangag            | Palanas           | 2014              | 1                 |\n",
       "| Wangag            | Sitio Baybayon    | 2014              | 2                 |\n",
       "| Wangag            | Wangag            | 2013              | 2                 |\n",
       "\n"
      ],
      "text/plain": [
       "   offs_site         par_site       year obs_disp\n",
       "1  Elementary School Palanas        2013 2       \n",
       "2  Magbangon         Magbangon      2013 1       \n",
       "3  Magbangon         Magbangon      2014 1       \n",
       "4  Magbangon         Palanas        2013 2       \n",
       "5  Poroc San Flower  Wangag         2012 1       \n",
       "6  Magbangon         Cabatoan       2014 1       \n",
       "7  Magbangon         Palanas        2013 1       \n",
       "8  Sitio Baybayon    Sitio Baybayon 2014 5       \n",
       "9  Visca             Visca          2013 1       \n",
       "10 Wangag            Haina          2013 1       \n",
       "11 Wangag            Palanas        2012 1       \n",
       "12 Wangag            Palanas        2013 2       \n",
       "13 Wangag            Palanas        2014 1       \n",
       "14 Wangag            Sitio Baybayon 2014 2       \n",
       "15 Wangag            Wangag         2013 2       "
      ]
     },
     "metadata": {},
     "output_type": "display_data"
    }
   ],
   "source": [
    "(ObsDisp)"
   ]
  },
  {
   "cell_type": "code",
   "execution_count": null,
   "metadata": {},
   "outputs": [],
   "source": []
  },
  {
   "cell_type": "markdown",
   "metadata": {},
   "source": [
    "__run GLM observed genetic dispersal predicted by simulations__"
   ]
  },
  {
   "cell_type": "code",
   "execution_count": 76,
   "metadata": {},
   "outputs": [
    {
     "name": "stdout",
     "output_type": "stream",
     "text": [
      "tibble [972 × 18] (S3: tbl_df/tbl/data.frame)\n",
      " $ source          : chr [1:972] \"Sitio Baybayon\" \"Sitio Baybayon\" \"Sitio Baybayon\" \"Sitio Baybayon\" ...\n",
      " $ destination     : chr [1:972] \"Palanas\" \"Wangag\" \"Magbangon\" \"Cabatoan\" ...\n",
      " $ SourceSampled   : Factor w/ 2 levels \"no\",\"yes\": 2 2 2 2 2 2 2 2 2 2 ...\n",
      " $ DestSampled     : Factor w/ 2 levels \"no\",\"yes\": 2 2 2 2 2 2 2 2 2 2 ...\n",
      " $ SimMonth        : int [1:972] 10 10 10 10 10 10 10 10 10 10 ...\n",
      " $ SimDay          : int [1:972] 10 10 10 10 10 10 10 10 10 10 ...\n",
      " $ SimYear         : int [1:972] 2011 2011 2011 2011 2011 2011 2011 2011 2011 2011 ...\n",
      " $ YearSampled     : chr [1:972] \"2012\" \"2012\" \"2012\" \"2012\" ...\n",
      " $ SimMonsoon      : Factor w/ 2 levels \"NEM\",\"SWM\": 2 2 2 2 2 2 2 2 2 2 ...\n",
      " $ DailyParticles  : int [1:972] 0 0 0 0 0 0 0 0 0 0 ...\n",
      " $ SourceIndex     : int [1:972] 19 19 19 19 19 19 19 19 19 19 ...\n",
      " $ DestinationIndex: int [1:972] 1 2 4 5 6 7 8 9 10 11 ...\n",
      " $ direction       : chr [1:972] \"north\" \"north\" \"north\" \"north\" ...\n",
      " $ dist_km         : num [1:972] 27.3 26.9 25.1 24.9 22.4 ...\n",
      " $ AnnRecPart      : int [1:972] 624 1080 1221 1025 2131 2998 351 173 4 71 ...\n",
      " $ SourcePropSamp  : num [1:972] 0 0 0 0 0 0 0 0 0 0 ...\n",
      " $ DestPropSamp    : num [1:972] 0.29 0.182 0.459 0.423 0 ...\n",
      " $ obs_disp        : num [1:972] 0 0 0 0 0 0 0 0 0 0 ...\n"
     ]
    }
   ],
   "source": [
    "str(GenSimConn)\n"
   ]
  },
  {
   "cell_type": "code",
   "execution_count": 84,
   "metadata": {},
   "outputs": [
    {
     "data": {
      "text/html": [
       "0.0123456790123457"
      ],
      "text/latex": [
       "0.0123456790123457"
      ],
      "text/markdown": [
       "0.0123456790123457"
      ],
      "text/plain": [
       "[1] 0.01234568"
      ]
     },
     "metadata": {},
     "output_type": "display_data"
    },
    {
     "data": {
      "text/html": [
       "0.034862875233627"
      ],
      "text/latex": [
       "0.034862875233627"
      ],
      "text/markdown": [
       "0.034862875233627"
      ],
      "text/plain": [
       "[1] 0.03486288"
      ]
     },
     "metadata": {},
     "output_type": "display_data"
    }
   ],
   "source": [
    "mean(GenSimConn$obs_disp)\n",
    "var(GenSimConn$obs_disp)\n",
    "#overdispersion?\n",
    "#no, because residual deviance of the model is not greater than the df\n",
    "#Residual deviance:  38.221  on 948  degrees of freedom"
   ]
  },
  {
   "cell_type": "code",
   "execution_count": 86,
   "metadata": {},
   "outputs": [],
   "source": [
    "#plan:\n",
    "#fit 3 successive log-linear models starting with main efects only(fit1), main effects plus all 2-way interactions (fit2), and added in all 3 way interactions (fit3)\n"
   ]
  },
  {
   "cell_type": "code",
   "execution_count": 58,
   "metadata": {},
   "outputs": [
    {
     "data": {
      "text/plain": [
       "\n",
       "Call:\n",
       "glm(formula = obs_disp ~ dist_km, family = \"poisson\", data = GenSimConn)\n",
       "\n",
       "Deviance Residuals: \n",
       "    Min       1Q   Median       3Q      Max  \n",
       "-0.3405  -0.2697  -0.1990  -0.1438   5.8896  \n",
       "\n",
       "Coefficients:\n",
       "            Estimate Std. Error z value Pr(>|z|)    \n",
       "(Intercept) -2.84769    0.29019  -9.813  < 2e-16 ***\n",
       "dist_km     -0.11787    0.03965  -2.972  0.00295 ** \n",
       "---\n",
       "Signif. codes:  0 ‘***’ 0.001 ‘**’ 0.01 ‘*’ 0.05 ‘.’ 0.1 ‘ ’ 1\n",
       "\n",
       "(Dispersion parameter for poisson family taken to be 1)\n",
       "\n",
       "    Null deviance: 207.67  on 972  degrees of freedom\n",
       "Residual deviance: 196.07  on 971  degrees of freedom\n",
       "AIC: 234.62\n",
       "\n",
       "Number of Fisher Scoring iterations: 7\n"
      ]
     },
     "metadata": {},
     "output_type": "display_data"
    }
   ],
   "source": [
    "NullMod <- glm(obs_disp ~ dist_km , data=GenSimConn, family=\"poisson\")\n",
    "summary(NullMod)"
   ]
  },
  {
   "cell_type": "code",
   "execution_count": 61,
   "metadata": {
    "scrolled": false
   },
   "outputs": [
    {
     "data": {
      "text/html": [
       "<table>\n",
       "<thead><tr><th></th><th scope=col>df</th><th scope=col>AIC</th><th scope=col>model</th></tr></thead>\n",
       "<tbody>\n",
       "\t<tr><th scope=row>MainEff_ARP_DPrp_Dist</th><td>6                     </td><td>211.7425              </td><td>MainEff_ARP_DPrp_Dist </td></tr>\n",
       "\t<tr><th scope=row>MainEff_DestPropSamp</th><td>8                     </td><td>214.5874              </td><td>MainEff_DestPropSamp  </td></tr>\n",
       "\t<tr><th scope=row>MainEff_AnnRecPart</th><td>8                     </td><td>214.6348              </td><td>MainEff_AnnRecPart    </td></tr>\n",
       "\t<tr><th scope=row>MainEff_dist_km</th><td>8                     </td><td>215.6239              </td><td>MainEff_dist_km       </td></tr>\n",
       "\t<tr><th scope=row>ObsModExpYearFit1</th><td>9                     </td><td>216.4842              </td><td>ObsModExpYearFit1     </td></tr>\n",
       "\t<tr><th scope=row>MainEff_SourcePropSamp</th><td>8                     </td><td>218.2375              </td><td>MainEff_SourcePropSamp</td></tr>\n",
       "\t<tr><th scope=row>MainEff_YearSampled</th><td>7                     </td><td>223.8290              </td><td>MainEff_YearSampled   </td></tr>\n",
       "\t<tr><th scope=row>MainEff_direction</th><td>7                     </td><td>228.2684              </td><td>MainEff_direction     </td></tr>\n",
       "\t<tr><th scope=row>NullMod</th><td>2                     </td><td>234.6240              </td><td>NullMod               </td></tr>\n",
       "</tbody>\n",
       "</table>\n"
      ],
      "text/latex": [
       "\\begin{tabular}{r|lll}\n",
       "  & df & AIC & model\\\\\n",
       "\\hline\n",
       "\tMainEff\\_ARP\\_DPrp\\_Dist & 6                            & 211.7425                     & MainEff\\_ARP\\_DPrp\\_Dist \\\\\n",
       "\tMainEff\\_DestPropSamp & 8                        & 214.5874                 & MainEff\\_DestPropSamp  \\\\\n",
       "\tMainEff\\_AnnRecPart & 8                        & 214.6348                 & MainEff\\_AnnRecPart    \\\\\n",
       "\tMainEff\\_dist\\_km & 8                          & 215.6239                   & MainEff\\_dist\\_km       \\\\\n",
       "\tObsModExpYearFit1 & 9                      & 216.4842               & ObsModExpYearFit1     \\\\\n",
       "\tMainEff\\_SourcePropSamp & 8                        & 218.2375                 & MainEff\\_SourcePropSamp\\\\\n",
       "\tMainEff\\_YearSampled & 7                        & 223.8290                 & MainEff\\_YearSampled   \\\\\n",
       "\tMainEff\\_direction & 7                        & 228.2684                 & MainEff\\_direction     \\\\\n",
       "\tNullMod & 2                      & 234.6240               & NullMod               \\\\\n",
       "\\end{tabular}\n"
      ],
      "text/markdown": [
       "\n",
       "| <!--/--> | df | AIC | model |\n",
       "|---|---|---|---|\n",
       "| MainEff_ARP_DPrp_Dist | 6                      | 211.7425               | MainEff_ARP_DPrp_Dist  |\n",
       "| MainEff_DestPropSamp | 8                      | 214.5874               | MainEff_DestPropSamp   |\n",
       "| MainEff_AnnRecPart | 8                      | 214.6348               | MainEff_AnnRecPart     |\n",
       "| MainEff_dist_km | 8                      | 215.6239               | MainEff_dist_km        |\n",
       "| ObsModExpYearFit1 | 9                      | 216.4842               | ObsModExpYearFit1      |\n",
       "| MainEff_SourcePropSamp | 8                      | 218.2375               | MainEff_SourcePropSamp |\n",
       "| MainEff_YearSampled | 7                      | 223.8290               | MainEff_YearSampled    |\n",
       "| MainEff_direction | 7                      | 228.2684               | MainEff_direction      |\n",
       "| NullMod | 2                      | 234.6240               | NullMod                |\n",
       "\n"
      ],
      "text/plain": [
       "                       df AIC      model                 \n",
       "MainEff_ARP_DPrp_Dist  6  211.7425 MainEff_ARP_DPrp_Dist \n",
       "MainEff_DestPropSamp   8  214.5874 MainEff_DestPropSamp  \n",
       "MainEff_AnnRecPart     8  214.6348 MainEff_AnnRecPart    \n",
       "MainEff_dist_km        8  215.6239 MainEff_dist_km       \n",
       "ObsModExpYearFit1      9  216.4842 ObsModExpYearFit1     \n",
       "MainEff_SourcePropSamp 8  218.2375 MainEff_SourcePropSamp\n",
       "MainEff_YearSampled    7  223.8290 MainEff_YearSampled   \n",
       "MainEff_direction      7  228.2684 MainEff_direction     \n",
       "NullMod                2  234.6240 NullMod               "
      ]
     },
     "metadata": {},
     "output_type": "display_data"
    }
   ],
   "source": [
    "#only main effects, first find worthwhile predictors with AIC\n",
    "#the intercept is very significant but I think that just means 0s are more common in the data. totally true!\n",
    "\n",
    "ObsModExpYearFit1 <- glm(obs_disp ~ AnnRecPart + YearSampled + direction + dist_km +SourcePropSamp +DestPropSamp, data=GenSimConn, family=\"poisson\")\n",
    "MainEff_AnnRecPart <- update(ObsModExpYearFit1, . ~ . -AnnRecPart)\n",
    "MainEff_YearSampled <- update(ObsModExpYearFit1, . ~ . -YearSampled)\n",
    "MainEff_direction <- update(ObsModExpYearFit1, . ~ . -direction)\n",
    "MainEff_dist_km <- update(ObsModExpYearFit1, . ~ . -dist_km)\n",
    "MainEff_SourcePropSamp <- update(ObsModExpYearFit1, . ~ . -SourcePropSamp)\n",
    "MainEff_DestPropSamp <- update(ObsModExpYearFit1, . ~ . -DestPropSamp)\n",
    "#drop the 3 terms AIC doesn't support\n",
    "MainEff_ARP_DPrp_Dist <- glm(obs_disp ~ YearSampled + direction +SourcePropSamp, data=GenSimConn, family=\"poisson\")\n",
    "\n",
    "MainEffAIC <- as.data.frame(AIC(NullMod, MainEff_ARP_DPrp_Dist , ObsModExpYearFit1, MainEff_AnnRecPart, MainEff_YearSampled, MainEff_direction, MainEff_dist_km, MainEff_SourcePropSamp, MainEff_DestPropSamp))\n",
    "MainEffAIC$model <- row.names(MainEffAIC)\n",
    "MainEffAIC <- MainEffAIC %>% arrange(AIC)\n",
    "MainEffAIC\n",
    "#write.csv(MainEffAIC, file=\"~/oceanography/script_output/GLM/MainEffAIC.csv\",row.names=F,  quote=F)\n"
   ]
  },
  {
   "cell_type": "code",
   "execution_count": 65,
   "metadata": {},
   "outputs": [
    {
     "data": {
      "text/plain": [
       "\n",
       "Call:\n",
       "glm(formula = obs_disp ~ YearSampled + direction + SourcePropSamp, \n",
       "    family = \"poisson\", data = GenSimConn)\n",
       "\n",
       "Deviance Residuals: \n",
       "    Min       1Q   Median       3Q      Max  \n",
       "-0.9798  -0.2246  -0.1632  -0.1033   4.2155  \n",
       "\n",
       "Coefficients:\n",
       "                Estimate Std. Error z value Pr(>|z|)    \n",
       "(Intercept)      -5.8811     0.8474  -6.940 3.92e-12 ***\n",
       "YearSampled2013   2.0235     0.7734   2.616  0.00889 ** \n",
       "YearSampled2014   1.8554     0.7862   2.360  0.01828 *  \n",
       "directionself     3.1237     0.5932   5.266 1.39e-07 ***\n",
       "directionsouth    1.0524     0.5988   1.758  0.07883 .  \n",
       "SourcePropSamp   -1.3448     0.6751  -1.992  0.04639 *  \n",
       "---\n",
       "Signif. codes:  0 ‘***’ 0.001 ‘**’ 0.01 ‘*’ 0.05 ‘.’ 0.1 ‘ ’ 1\n",
       "\n",
       "(Dispersion parameter for poisson family taken to be 1)\n",
       "\n",
       "    Null deviance: 207.67  on 972  degrees of freedom\n",
       "Residual deviance: 165.19  on 967  degrees of freedom\n",
       "AIC: 211.74\n",
       "\n",
       "Number of Fisher Scoring iterations: 7\n"
      ]
     },
     "metadata": {},
     "output_type": "display_data"
    }
   ],
   "source": [
    "summary(MainEff_ARP_DPrp_Dist )\n",
    "MainEff_ARP_DPrp_Dist_Sum <- tidy(MainEff_ARP_DPrp_Dist)\n",
    "#write.csv(MainEff_ARP_DPrp_Dist_Sum, file=\"~/oceanography/script_output/GLM/MainEffBestModSum.csv\",row.names=F,  quote=F)\n"
   ]
  },
  {
   "cell_type": "code",
   "execution_count": 68,
   "metadata": {},
   "outputs": [
    {
     "data": {
      "text/html": [
       "<table>\n",
       "<thead><tr><th></th><th scope=col>df</th><th scope=col>AIC</th><th scope=col>model</th></tr></thead>\n",
       "<tbody>\n",
       "\t<tr><th scope=row>Test</th><td>6                     </td><td>149.0857              </td><td>Test                  </td></tr>\n",
       "\t<tr><th scope=row>MainEff_DestPropSamp</th><td>8                     </td><td>151.0850              </td><td>MainEff_DestPropSamp  </td></tr>\n",
       "\t<tr><th scope=row>MainEff_AnnRecPart</th><td>8                     </td><td>151.9735              </td><td>MainEff_AnnRecPart    </td></tr>\n",
       "\t<tr><th scope=row>MainEff_dist_km</th><td>8                     </td><td>152.1048              </td><td>MainEff_dist_km       </td></tr>\n",
       "\t<tr><th scope=row>MainEff_SourcePropSamp</th><td>8                     </td><td>152.4942              </td><td>MainEff_SourcePropSamp</td></tr>\n",
       "\t<tr><th scope=row>ObsModExpYearFit1</th><td>9                     </td><td>153.0525              </td><td>ObsModExpYearFit1     </td></tr>\n",
       "\t<tr><th scope=row>MainEff_YearSampled</th><td>7                     </td><td>153.7222              </td><td>MainEff_YearSampled   </td></tr>\n",
       "\t<tr><th scope=row>MainEff_direction</th><td>7                     </td><td>157.5308              </td><td>MainEff_direction     </td></tr>\n",
       "</tbody>\n",
       "</table>\n"
      ],
      "text/latex": [
       "\\begin{tabular}{r|lll}\n",
       "  & df & AIC & model\\\\\n",
       "\\hline\n",
       "\tTest & 6                      & 149.0857               & Test                  \\\\\n",
       "\tMainEff\\_DestPropSamp & 8                        & 151.0850                 & MainEff\\_DestPropSamp  \\\\\n",
       "\tMainEff\\_AnnRecPart & 8                        & 151.9735                 & MainEff\\_AnnRecPart    \\\\\n",
       "\tMainEff\\_dist\\_km & 8                          & 152.1048                   & MainEff\\_dist\\_km       \\\\\n",
       "\tMainEff\\_SourcePropSamp & 8                        & 152.4942                 & MainEff\\_SourcePropSamp\\\\\n",
       "\tObsModExpYearFit1 & 9                      & 153.0525               & ObsModExpYearFit1     \\\\\n",
       "\tMainEff\\_YearSampled & 7                        & 153.7222                 & MainEff\\_YearSampled   \\\\\n",
       "\tMainEff\\_direction & 7                        & 157.5308                 & MainEff\\_direction     \\\\\n",
       "\\end{tabular}\n"
      ],
      "text/markdown": [
       "\n",
       "| <!--/--> | df | AIC | model |\n",
       "|---|---|---|---|\n",
       "| Test | 6                      | 149.0857               | Test                   |\n",
       "| MainEff_DestPropSamp | 8                      | 151.0850               | MainEff_DestPropSamp   |\n",
       "| MainEff_AnnRecPart | 8                      | 151.9735               | MainEff_AnnRecPart     |\n",
       "| MainEff_dist_km | 8                      | 152.1048               | MainEff_dist_km        |\n",
       "| MainEff_SourcePropSamp | 8                      | 152.4942               | MainEff_SourcePropSamp |\n",
       "| ObsModExpYearFit1 | 9                      | 153.0525               | ObsModExpYearFit1      |\n",
       "| MainEff_YearSampled | 7                      | 153.7222               | MainEff_YearSampled    |\n",
       "| MainEff_direction | 7                      | 157.5308               | MainEff_direction      |\n",
       "\n"
      ],
      "text/plain": [
       "                       df AIC      model                 \n",
       "Test                   6  149.0857 Test                  \n",
       "MainEff_DestPropSamp   8  151.0850 MainEff_DestPropSamp  \n",
       "MainEff_AnnRecPart     8  151.9735 MainEff_AnnRecPart    \n",
       "MainEff_dist_km        8  152.1048 MainEff_dist_km       \n",
       "MainEff_SourcePropSamp 8  152.4942 MainEff_SourcePropSamp\n",
       "ObsModExpYearFit1      9  153.0525 ObsModExpYearFit1     \n",
       "MainEff_YearSampled    7  153.7222 MainEff_YearSampled   \n",
       "MainEff_direction      7  157.5308 MainEff_direction     "
      ]
     },
     "metadata": {},
     "output_type": "display_data"
    },
    {
     "data": {
      "text/plain": [
       "\n",
       "Call:\n",
       "glm(formula = BiDisp ~ YearSampled + direction + SourcePropSamp, \n",
       "    family = \"binomial\", data = GenSimConn)\n",
       "\n",
       "Deviance Residuals: \n",
       "    Min       1Q   Median       3Q      Max  \n",
       "-0.6546  -0.1794  -0.1282  -0.1006   3.2018  \n",
       "\n",
       "Coefficients:\n",
       "                Estimate Std. Error z value Pr(>|z|)    \n",
       "(Intercept)      -5.7978     0.8983  -6.454 1.09e-10 ***\n",
       "YearSampled2013   1.5645     0.8164   1.916 0.055327 .  \n",
       "YearSampled2014   1.0738     0.8618   1.246 0.212775    \n",
       "directionself     2.8017     0.7530   3.721 0.000199 ***\n",
       "directionsouth    0.9164     0.6997   1.310 0.190289    \n",
       "SourcePropSamp   -0.7528     0.8131  -0.926 0.354492    \n",
       "---\n",
       "Signif. codes:  0 ‘***’ 0.001 ‘**’ 0.01 ‘*’ 0.05 ‘.’ 0.1 ‘ ’ 1\n",
       "\n",
       "(Dispersion parameter for binomial family taken to be 1)\n",
       "\n",
       "    Null deviance: 154.94  on 972  degrees of freedom\n",
       "Residual deviance: 137.09  on 967  degrees of freedom\n",
       "AIC: 149.09\n",
       "\n",
       "Number of Fisher Scoring iterations: 8\n"
      ]
     },
     "metadata": {},
     "output_type": "display_data"
    }
   ],
   "source": [
    "#only main effects, first find worthwhile predictors with AIC\n",
    "#the intercept is very significant but I think that just means 0s are more common in the data. totally true!\n",
    "ObsModExpYearFit1 <- glm(BiDisp ~ AnnRecPart + YearSampled + direction + dist_km +SourcePropSamp +DestPropSamp, data=GenSimConn, family=\"binomial\")\n",
    "MainEff_AnnRecPart <- update(ObsModExpYearFit1, . ~ . -AnnRecPart)\n",
    "MainEff_YearSampled <- update(ObsModExpYearFit1, . ~ . -YearSampled)\n",
    "MainEff_direction <- update(ObsModExpYearFit1, . ~ . -direction)\n",
    "MainEff_dist_km <- update(ObsModExpYearFit1, . ~ . -dist_km)\n",
    "MainEff_SourcePropSamp <- update(ObsModExpYearFit1, . ~ . -SourcePropSamp)\n",
    "MainEff_DestPropSamp <- update(ObsModExpYearFit1, . ~ . -DestPropSamp)\n",
    "#drop the 3 terms AIC doesn't support\n",
    "Test <- glm(BiDisp ~ YearSampled + direction +SourcePropSamp, data=GenSimConn, family=\"binomial\")\n",
    "\n",
    "MainEffAIC <- as.data.frame(AIC(Test, ObsModExpYearFit1, MainEff_AnnRecPart, MainEff_YearSampled, MainEff_direction, MainEff_dist_km, MainEff_SourcePropSamp, MainEff_DestPropSamp))\n",
    "MainEffAIC$model <- row.names(MainEffAIC)\n",
    "MainEffAIC <- MainEffAIC %>% arrange(AIC)\n",
    "MainEffAIC\n",
    "#write.csv(MainEffAIC, file=\"~/oceanography/script_output/GLM/MainEffAIC.csv\",row.names=F,  quote=F)\n",
    "summary(Test)"
   ]
  },
  {
   "cell_type": "code",
   "execution_count": null,
   "metadata": {},
   "outputs": [],
   "source": []
  },
  {
   "cell_type": "code",
   "execution_count": 25,
   "metadata": {},
   "outputs": [
    {
     "name": "stderr",
     "output_type": "stream",
     "text": [
      "Warning message:\n",
      "“glm.fit: fitted rates numerically 0 occurred”"
     ]
    },
    {
     "data": {
      "text/plain": [
       "\n",
       "Call:\n",
       "glm(formula = obs_disp ~ AnnRecPart * YearSampled + direction + \n",
       "    dist_km + SourcePropSamp + DestPropSamp, family = \"poisson\", \n",
       "    data = GenSimConn)\n",
       "\n",
       "Deviance Residuals: \n",
       "    Min       1Q   Median       3Q      Max  \n",
       "-1.1933  -0.1458  -0.0865   0.0000   3.7362  \n",
       "\n",
       "Coefficients:\n",
       "                             Estimate Std. Error z value Pr(>|z|)    \n",
       "(Intercept)                -4.476e+00  1.294e+00  -3.461 0.000539 ***\n",
       "AnnRecPart                 -2.761e-03  3.502e-03  -0.788 0.430452    \n",
       "YearSampled2013            -1.629e+01  1.431e+03  -0.011 0.990918    \n",
       "YearSampled2014             1.131e+00  9.332e-01   1.211 0.225736    \n",
       "directionself               2.972e+00  1.052e+00   2.826 0.004708 ** \n",
       "directionsouth              1.300e-01  8.470e-01   0.153 0.878036    \n",
       "dist_km                    -1.869e-03  5.658e-02  -0.033 0.973647    \n",
       "SourcePropSamp             -1.951e+00  1.183e+00  -1.649 0.099161 .  \n",
       "DestPropSamp               -3.338e-01  1.034e+00  -0.323 0.746812    \n",
       "AnnRecPart:YearSampled2013  2.500e-03  1.105e+00   0.002 0.998195    \n",
       "AnnRecPart:YearSampled2014  2.767e-03  3.501e-03   0.790 0.429248    \n",
       "---\n",
       "Signif. codes:  0 ‘***’ 0.001 ‘**’ 0.01 ‘*’ 0.05 ‘.’ 0.1 ‘ ’ 1\n",
       "\n",
       "(Dispersion parameter for poisson family taken to be 1)\n",
       "\n",
       "    Null deviance: 124.334  on 971  degrees of freedom\n",
       "Residual deviance:  83.266  on 961  degrees of freedom\n",
       "AIC: 121.36\n",
       "\n",
       "Number of Fisher Scoring iterations: 19\n"
      ]
     },
     "metadata": {},
     "output_type": "display_data"
    }
   ],
   "source": [
    "#add in interactions\n",
    "ObsModExpYearFit2 <- glm(obs_disp ~ AnnRecPart*YearSampled + direction +SourcePropSamp +DestPropSamp, data=GenSimConn, family=\"poisson\")\n",
    "summary(ObsModExpYearFit2)\n"
   ]
  },
  {
   "cell_type": "code",
   "execution_count": 19,
   "metadata": {},
   "outputs": [
    {
     "name": "stdout",
     "output_type": "stream",
     "text": [
      "tibble [972 × 18] (S3: tbl_df/tbl/data.frame)\n",
      " $ source          : chr [1:972] \"Sitio Baybayon\" \"Sitio Baybayon\" \"Sitio Baybayon\" \"Sitio Baybayon\" ...\n",
      " $ destination     : chr [1:972] \"Palanas\" \"Wangag\" \"Magbangon\" \"Cabatoan\" ...\n",
      " $ SourceSampled   : Factor w/ 2 levels \"no\",\"yes\": 2 2 2 2 2 2 2 2 2 2 ...\n",
      " $ DestSampled     : Factor w/ 2 levels \"no\",\"yes\": 2 2 2 2 2 2 2 2 2 2 ...\n",
      " $ SimMonth        : int [1:972] 10 10 10 10 10 10 10 10 10 10 ...\n",
      " $ SimDay          : int [1:972] 10 10 10 10 10 10 10 10 10 10 ...\n",
      " $ SimYear         : int [1:972] 2011 2011 2011 2011 2011 2011 2011 2011 2011 2011 ...\n",
      " $ YearSampled     : chr [1:972] \"2012\" \"2012\" \"2012\" \"2012\" ...\n",
      " $ SimMonsoon      : Factor w/ 2 levels \"NEM\",\"SWM\": 2 2 2 2 2 2 2 2 2 2 ...\n",
      " $ DailyParticles  : int [1:972] 0 0 0 0 0 0 0 0 0 0 ...\n",
      " $ SourceIndex     : int [1:972] 19 19 19 19 19 19 19 19 19 19 ...\n",
      " $ DestinationIndex: int [1:972] 1 2 4 5 6 7 8 9 10 11 ...\n",
      " $ direction       : chr [1:972] \"north\" \"north\" \"north\" \"north\" ...\n",
      " $ dist_km         : num [1:972] 27.3 26.9 25.1 24.9 22.4 ...\n",
      " $ AnnRecPart      : int [1:972] 624 1080 1221 1025 2131 2998 351 173 4 71 ...\n",
      " $ SourcePropSamp  : num [1:972] 0 0 0 0 0 0 0 0 0 0 ...\n",
      " $ DestPropSamp    : num [1:972] 0.29 0.182 0.459 0.423 0 ...\n",
      " $ obs_disp        : num [1:972] 0 0 0 0 0 0 0 0 0 0 ...\n"
     ]
    }
   ],
   "source": [
    "str(GenSimConn)"
   ]
  },
  {
   "cell_type": "code",
   "execution_count": null,
   "metadata": {},
   "outputs": [],
   "source": []
  },
  {
   "cell_type": "code",
   "execution_count": 16,
   "metadata": {},
   "outputs": [
    {
     "data": {
      "text/html": [
       "<table>\n",
       "<thead><tr><th></th><th scope=col>df</th><th scope=col>AIC</th></tr></thead>\n",
       "<tbody>\n",
       "\t<tr><th scope=row>NullMod</th><td>2       </td><td>140.0687</td></tr>\n",
       "\t<tr><th scope=row>ObsModExpYear</th><td>9       </td><td>119.3711</td></tr>\n",
       "</tbody>\n",
       "</table>\n"
      ],
      "text/latex": [
       "\\begin{tabular}{r|ll}\n",
       "  & df & AIC\\\\\n",
       "\\hline\n",
       "\tNullMod & 2        & 140.0687\\\\\n",
       "\tObsModExpYear & 9        & 119.3711\\\\\n",
       "\\end{tabular}\n"
      ],
      "text/markdown": [
       "\n",
       "| <!--/--> | df | AIC |\n",
       "|---|---|---|\n",
       "| NullMod | 2        | 140.0687 |\n",
       "| ObsModExpYear | 9        | 119.3711 |\n",
       "\n"
      ],
      "text/plain": [
       "              df AIC     \n",
       "NullMod       2  140.0687\n",
       "ObsModExpYear 9  119.3711"
      ]
     },
     "metadata": {},
     "output_type": "display_data"
    }
   ],
   "source": [
    "#compare null model of just distance and global model\n",
    "AIC(NullMod, ObsModExpYear) # do the models with interactions, then explore the simulations in general"
   ]
  },
  {
   "cell_type": "code",
   "execution_count": 24,
   "metadata": {},
   "outputs": [
    {
     "data": {
      "text/plain": [
       "\n",
       "Call:\n",
       "glm(formula = obs_disp ~ ExpDisp + year + dist_km, family = \"poisson\", \n",
       "    data = SimPlusGenWithDist)\n",
       "\n",
       "Deviance Residuals: \n",
       "    Min       1Q   Median       3Q      Max  \n",
       "-1.5963  -0.4546  -0.4150  -0.3795   5.1143  \n",
       "\n",
       "Coefficients:\n",
       "              Estimate Std. Error z value Pr(>|z|)    \n",
       "(Intercept) -2.181e+00  2.237e-01  -9.749  < 2e-16 ***\n",
       "ExpDisp      3.666e-05  1.271e-05   2.885  0.00392 ** \n",
       "year2012     2.729e-02  2.642e-01   0.103  0.91774    \n",
       "year2013     3.267e-02  2.646e-01   0.123  0.90174    \n",
       "year2014     2.718e-02  2.641e-01   0.103  0.91804    \n",
       "dist_km     -3.168e-02  1.393e-02  -2.275  0.02293 *  \n",
       "---\n",
       "Signif. codes:  0 ‘***’ 0.001 ‘**’ 0.01 ‘*’ 0.05 ‘.’ 0.1 ‘ ’ 1\n",
       "\n",
       "(Dispersion parameter for poisson family taken to be 1)\n",
       "\n",
       "    Null deviance: 792.12  on 1295  degrees of freedom\n",
       "Residual deviance: 780.03  on 1290  degrees of freedom\n",
       "AIC: 920.74\n",
       "\n",
       "Number of Fisher Scoring iterations: 15\n"
      ]
     },
     "metadata": {},
     "output_type": "display_data"
    }
   ],
   "source": [
    "test_mod <- glm(obs_disp ~ ExpDisp +year+ dist_km, data=SimPlusGenWithDist, family=\"poisson\")\n",
    "summary(test_mod)\n",
    "\n",
    "#following this tutorial\n",
    "#https://stats.idre.ucla.edu/r/dae/poisson-regression/\n",
    "#the median is not quite 0, but close. if the median deviance is 0, then the deviance residuals are approximately normal and the model is specified correctly\n"
   ]
  },
  {
   "cell_type": "code",
   "execution_count": 25,
   "metadata": {},
   "outputs": [
    {
     "data": {
      "text/html": [
       "<table>\n",
       "<thead><tr><th></th><th scope=col>df</th><th scope=col>AIC</th></tr></thead>\n",
       "<tbody>\n",
       "\t<tr><th scope=row>test_mod</th><td>6       </td><td>920.7388</td></tr>\n",
       "\t<tr><th scope=row>test_mod_int</th><td>9       </td><td>920.9138</td></tr>\n",
       "</tbody>\n",
       "</table>\n"
      ],
      "text/latex": [
       "\\begin{tabular}{r|ll}\n",
       "  & df & AIC\\\\\n",
       "\\hline\n",
       "\ttest\\_mod & 6        & 920.7388\\\\\n",
       "\ttest\\_mod\\_int & 9        & 920.9138\\\\\n",
       "\\end{tabular}\n"
      ],
      "text/markdown": [
       "\n",
       "| <!--/--> | df | AIC |\n",
       "|---|---|---|\n",
       "| test_mod | 6        | 920.7388 |\n",
       "| test_mod_int | 9        | 920.9138 |\n",
       "\n"
      ],
      "text/plain": [
       "             df AIC     \n",
       "test_mod     6  920.7388\n",
       "test_mod_int 9  920.9138"
      ]
     },
     "metadata": {},
     "output_type": "display_data"
    }
   ],
   "source": [
    "AIC(test_mod, test_mod_int)"
   ]
  },
  {
   "cell_type": "code",
   "execution_count": 26,
   "metadata": {},
   "outputs": [
    {
     "data": {
      "text/html": [
       "<table>\n",
       "<thead><tr><th scope=col>res.deviance</th><th scope=col>df</th><th scope=col>p</th></tr></thead>\n",
       "<tbody>\n",
       "\t<tr><td>780.0319</td><td>1290    </td><td>1       </td></tr>\n",
       "</tbody>\n",
       "</table>\n"
      ],
      "text/latex": [
       "\\begin{tabular}{lll}\n",
       " res.deviance & df & p\\\\\n",
       "\\hline\n",
       "\t 780.0319 & 1290     & 1       \\\\\n",
       "\\end{tabular}\n"
      ],
      "text/markdown": [
       "\n",
       "| res.deviance | df | p |\n",
       "|---|---|---|\n",
       "| 780.0319 | 1290     | 1        |\n",
       "\n"
      ],
      "text/plain": [
       "     res.deviance df   p\n",
       "[1,] 780.0319     1290 1"
      ]
     },
     "metadata": {},
     "output_type": "display_data"
    }
   ],
   "source": [
    "#this isn't significant, which means the residual difference is small enough here to say the model fits reasonably well\n",
    "with(test_mod, cbind(res.deviance = deviance, df = df.residual,\n",
    "  p = pchisq(deviance, df.residual, lower.tail=FALSE)))\n"
   ]
  },
  {
   "cell_type": "code",
   "execution_count": null,
   "metadata": {},
   "outputs": [],
   "source": [
    "#how much devience is explained here?"
   ]
  },
  {
   "cell_type": "code",
   "execution_count": 27,
   "metadata": {},
   "outputs": [
    {
     "data": {
      "image/png": "[encoded data removed]",
      "text/plain": [
       "plot without title"
      ]
     },
     "metadata": {},
     "output_type": "display_data"
    }
   ],
   "source": [
    "plot(obs_disp ~ ExpDisp, data=SimPlusGenWithDist)"
   ]
  },
  {
   "cell_type": "code",
   "execution_count": 29,
   "metadata": {
    "scrolled": false
   },
   "outputs": [],
   "source": [
    "#plot(test_mod_int)"
   ]
  },
  {
   "cell_type": "code",
   "execution_count": 32,
   "metadata": {},
   "outputs": [
    {
     "data": {
      "text/html": [
       "<ol class=list-inline>\n",
       "\t<li>0</li>\n",
       "\t<li>66114</li>\n",
       "</ol>\n"
      ],
      "text/latex": [
       "\\begin{enumerate*}\n",
       "\\item 0\n",
       "\\item 66114\n",
       "\\end{enumerate*}\n"
      ],
      "text/markdown": [
       "1. 0\n",
       "2. 66114\n",
       "\n",
       "\n"
      ],
      "text/plain": [
       "[1]     0 66114"
      ]
     },
     "metadata": {},
     "output_type": "display_data"
    }
   ],
   "source": [
    "#plot predicted model\n",
    "range(SimPlusGenWithDist$ExpDisp)"
   ]
  },
  {
   "cell_type": "code",
   "execution_count": 33,
   "metadata": {},
   "outputs": [],
   "source": [
    "exp_disp_range <- seq(0, 66114, 1)"
   ]
  },
  {
   "cell_type": "code",
   "execution_count": 36,
   "metadata": {},
   "outputs": [],
   "source": [
    "obs_disp_pred <- predict(test_mod_int,type=\"response\")"
   ]
  },
  {
   "cell_type": "code",
   "execution_count": 39,
   "metadata": {},
   "outputs": [
    {
     "data": {
      "image/png": "[encoded data removed]",
      "text/plain": [
       "plot without title"
      ]
     },
     "metadata": {},
     "output_type": "display_data"
    }
   ],
   "source": [
    "plot( SimPlusGenWithDist$ExpDisp, SimPlusGenWithDist$obs_disp, pch = 16)#, xlab = \"WEIGHT (g)\", ylab = \"VS\")\n",
    "\n",
    "lines(obs_disp_pred)"
   ]
  },
  {
   "cell_type": "code",
   "execution_count": null,
   "metadata": {},
   "outputs": [],
   "source": []
  },
  {
   "cell_type": "code",
   "execution_count": 85,
   "metadata": {},
   "outputs": [
    {
     "name": "stderr",
     "output_type": "stream",
     "text": [
      "Warning message:\n",
      "“Setting row names on a tibble is deprecated.”"
     ]
    }
   ],
   "source": [
    "#sources are rows, columns are destinations, checked this? check again\n",
    "#also check if it matters that these are in alphabetical order YES it should be alphabetical\n",
    "SimDisp2013Mat <- SimDisp2013 %>%\n",
    "    group_by(destination, source) %>%\n",
    "    spread(destination, SumParticles)\n",
    "#\n",
    "rownames(SimDisp2013Mat) <- SimDisp2013Mat$source\n",
    "SimDisp2013Mat$source <- NULL"
   ]
  },
  {
   "cell_type": "code",
   "execution_count": 86,
   "metadata": {},
   "outputs": [],
   "source": [
    "#add in unassigned \n",
    "RowtoAddInt <- SimDisp2013RecSamp %>%\n",
    "    ungroup() %>%\n",
    "    arrange(destination) %>%\n",
    "    dplyr::select(TotalUnassigned)\n",
    "\n",
    "RowtoAdd <- as.data.frame(t(RowtoAddInt))\n",
    "colnames(RowtoAdd) <- colnames(SimDisp2013Mat)\n",
    "\n",
    "FullSimDisp2013 <- rbind(SimDisp2013Mat, RowtoAdd)\n",
    "rownames(FullSimDisp2013) <- NULL"
   ]
  },
  {
   "cell_type": "code",
   "execution_count": 71,
   "metadata": {},
   "outputs": [
    {
     "data": {
      "text/html": [
       "<table>\n",
       "<thead><tr><th scope=col>NA</th><th scope=col>NA</th><th scope=col>NA</th><th scope=col>NA</th><th scope=col>NA</th><th scope=col>NA</th><th scope=col>NA</th><th scope=col>NA</th><th scope=col>NA</th><th scope=col>NA</th><th scope=col>NA</th><th scope=col>NA</th><th scope=col>NA</th><th scope=col>NA</th><th scope=col>NA</th><th scope=col>NA</th><th scope=col>NA</th><th scope=col>NA</th></tr></thead>\n",
       "<tbody>\n",
       "\t<tr><td>  454</td><td>  699</td><td>  877</td><td>    8</td><td>   0 </td><td>    0</td><td>  651</td><td>  429</td><td>  66 </td><td>  13 </td><td>  22 </td><td>   87</td><td>  416</td><td>   87</td><td>   59</td><td>    0</td><td>    0</td><td> 126 </td></tr>\n",
       "\t<tr><td>  310</td><td> 1761</td><td> 1132</td><td>   44</td><td>   0 </td><td>    0</td><td>   84</td><td>  354</td><td>  57 </td><td>  10 </td><td>  32 </td><td>  199</td><td>  357</td><td>  166</td><td>   54</td><td>    0</td><td>    0</td><td>  69 </td></tr>\n",
       "\t<tr><td>  404</td><td>  563</td><td>  784</td><td>   11</td><td>   0 </td><td>    0</td><td>   77</td><td>  291</td><td>  35 </td><td>  19 </td><td>  92 </td><td>  325</td><td>  442</td><td>  307</td><td>   71</td><td>    0</td><td>    0</td><td>  53 </td></tr>\n",
       "\t<tr><td>  185</td><td>  360</td><td>  769</td><td>  524</td><td>   0 </td><td>    5</td><td> 1536</td><td>  246</td><td>  31 </td><td>  42 </td><td>  70 </td><td>  176</td><td>  193</td><td>  252</td><td>  652</td><td>    0</td><td>    0</td><td>  31 </td></tr>\n",
       "\t<tr><td>   48</td><td>   35</td><td>   95</td><td>  961</td><td>6253 </td><td>   38</td><td>  654</td><td>   73</td><td>   8 </td><td> 172 </td><td> 448 </td><td> 2136</td><td>  102</td><td> 3555</td><td>  912</td><td>   25</td><td> 2843</td><td>   5 </td></tr>\n",
       "\t<tr><td>   16</td><td>    1</td><td>    9</td><td>  127</td><td>  20 </td><td> 1366</td><td>   40</td><td>    9</td><td>   1 </td><td>  27 </td><td>  36 </td><td>   78</td><td>   10</td><td>   19</td><td>   49</td><td>  827</td><td>   41</td><td>   0 </td></tr>\n",
       "\t<tr><td>  554</td><td>  862</td><td> 1587</td><td>  531</td><td>   4 </td><td>   19</td><td> 1208</td><td>  337</td><td>  90 </td><td> 174 </td><td> 353 </td><td>  484</td><td>  615</td><td>  677</td><td>  513</td><td>   12</td><td>    4</td><td> 140 </td></tr>\n",
       "\t<tr><td>  400</td><td> 1034</td><td> 1146</td><td>   12</td><td>   0 </td><td>    0</td><td>  343</td><td>  175</td><td> 177 </td><td>   6 </td><td>  15 </td><td>   71</td><td>  688</td><td>   71</td><td>   45</td><td>    0</td><td>    0</td><td> 215 </td></tr>\n",
       "\t<tr><td>  209</td><td>  161</td><td>  190</td><td>    1</td><td>   0 </td><td>    0</td><td>   12</td><td>  143</td><td>  42 </td><td>   0 </td><td>   0 </td><td>    0</td><td> 1406</td><td>    0</td><td>   13</td><td>    0</td><td>    0</td><td> 239 </td></tr>\n",
       "\t<tr><td>   63</td><td>  180</td><td>  418</td><td>  419</td><td>   1 </td><td>   36</td><td>  179</td><td>    7</td><td>   6 </td><td> 273 </td><td> 506 </td><td>  811</td><td>   75</td><td> 2011</td><td>  440</td><td>   32</td><td>   99</td><td>  13 </td></tr>\n",
       "\t<tr><td>   17</td><td>   72</td><td>  278</td><td>  508</td><td>   0 </td><td>   46</td><td>  289</td><td>   16</td><td>   7 </td><td> 594 </td><td> 788 </td><td> 1768</td><td>   35</td><td> 3255</td><td>  615</td><td>   29</td><td>  163</td><td>  16 </td></tr>\n",
       "\t<tr><td>  114</td><td>   64</td><td>  426</td><td>  655</td><td>   0 </td><td>    5</td><td>  378</td><td>   86</td><td>   9 </td><td>1006 </td><td> 993 </td><td> 2159</td><td>   68</td><td> 4072</td><td>  562</td><td>    7</td><td>   61</td><td>  15 </td></tr>\n",
       "\t<tr><td> 1025</td><td> 2131</td><td> 2998</td><td>    4</td><td>   0 </td><td>    8</td><td>  351</td><td> 1221</td><td> 624 </td><td>  10 </td><td>  28 </td><td>  217</td><td> 8017</td><td>   71</td><td>  173</td><td>    4</td><td>    0</td><td>1080 </td></tr>\n",
       "\t<tr><td>  207</td><td>  202</td><td>  860</td><td>  218</td><td>   0 </td><td>    0</td><td> 2869</td><td>  163</td><td>  28 </td><td>   6 </td><td>  18 </td><td>  278</td><td>  191</td><td> 8805</td><td> 1270</td><td>    0</td><td>    9</td><td>  18 </td></tr>\n",
       "\t<tr><td>  212</td><td>  249</td><td>  431</td><td>   32</td><td>   0 </td><td>    0</td><td>   27</td><td>  112</td><td>  30 </td><td>  29 </td><td>  43 </td><td>  121</td><td>  561</td><td>  211</td><td>   90</td><td>    0</td><td>    0</td><td>  66 </td></tr>\n",
       "\t<tr><td>    1</td><td>    3</td><td>    5</td><td>    0</td><td>  42 </td><td> 6920</td><td>   11</td><td>    1</td><td>   0 </td><td>  10 </td><td>   3 </td><td>   10</td><td>    1</td><td>   20</td><td>    4</td><td>31582</td><td>  220</td><td>   0 </td></tr>\n",
       "\t<tr><td>   33</td><td>   19</td><td>  198</td><td>  507</td><td>   3 </td><td>   33</td><td>  162</td><td>   28</td><td>   3 </td><td> 388 </td><td> 736 </td><td> 1615</td><td>   32</td><td> 2608</td><td>  344</td><td>   50</td><td>  115</td><td>   1 </td></tr>\n",
       "\t<tr><td>  412</td><td>  680</td><td>  885</td><td>    0</td><td>   0 </td><td>    0</td><td>   95</td><td>  593</td><td> 221 </td><td>   4 </td><td>   0 </td><td>    4</td><td> 3334</td><td>    7</td><td>   12</td><td>    0</td><td>    0</td><td> 447 </td></tr>\n",
       "\t<tr><td>12514</td><td>17433</td><td>19984</td><td>10327</td><td>5747 </td><td>20442</td><td>14864</td><td>11597</td><td>8038 </td><td>3638 </td><td>7093 </td><td>21278</td><td>21814</td><td>23219</td><td>10309</td><td>63981</td><td>14064</td><td>8777 </td></tr>\n",
       "</tbody>\n",
       "</table>\n"
      ],
      "text/latex": [
       "\\begin{tabular}{r|llllllllllllllllll}\n",
       " NA & NA & NA & NA & NA & NA & NA & NA & NA & NA & NA & NA & NA & NA & NA & NA & NA & NA\\\\\n",
       "\\hline\n",
       "\t   454 &   699 &   877 &     8 &    0  &     0 &   651 &   429 &   66  &   13  &   22  &    87 &   416 &    87 &    59 &     0 &     0 &  126 \\\\\n",
       "\t   310 &  1761 &  1132 &    44 &    0  &     0 &    84 &   354 &   57  &   10  &   32  &   199 &   357 &   166 &    54 &     0 &     0 &   69 \\\\\n",
       "\t   404 &   563 &   784 &    11 &    0  &     0 &    77 &   291 &   35  &   19  &   92  &   325 &   442 &   307 &    71 &     0 &     0 &   53 \\\\\n",
       "\t   185 &   360 &   769 &   524 &    0  &     5 &  1536 &   246 &   31  &   42  &   70  &   176 &   193 &   252 &   652 &     0 &     0 &   31 \\\\\n",
       "\t    48 &    35 &    95 &   961 & 6253  &    38 &   654 &    73 &    8  &  172  &  448  &  2136 &   102 &  3555 &   912 &    25 &  2843 &    5 \\\\\n",
       "\t    16 &     1 &     9 &   127 &   20  &  1366 &    40 &     9 &    1  &   27  &   36  &    78 &    10 &    19 &    49 &   827 &    41 &    0 \\\\\n",
       "\t   554 &   862 &  1587 &   531 &    4  &    19 &  1208 &   337 &   90  &  174  &  353  &   484 &   615 &   677 &   513 &    12 &     4 &  140 \\\\\n",
       "\t   400 &  1034 &  1146 &    12 &    0  &     0 &   343 &   175 &  177  &    6  &   15  &    71 &   688 &    71 &    45 &     0 &     0 &  215 \\\\\n",
       "\t   209 &   161 &   190 &     1 &    0  &     0 &    12 &   143 &   42  &    0  &    0  &     0 &  1406 &     0 &    13 &     0 &     0 &  239 \\\\\n",
       "\t    63 &   180 &   418 &   419 &    1  &    36 &   179 &     7 &    6  &  273  &  506  &   811 &    75 &  2011 &   440 &    32 &    99 &   13 \\\\\n",
       "\t    17 &    72 &   278 &   508 &    0  &    46 &   289 &    16 &    7  &  594  &  788  &  1768 &    35 &  3255 &   615 &    29 &   163 &   16 \\\\\n",
       "\t   114 &    64 &   426 &   655 &    0  &     5 &   378 &    86 &    9  & 1006  &  993  &  2159 &    68 &  4072 &   562 &     7 &    61 &   15 \\\\\n",
       "\t  1025 &  2131 &  2998 &     4 &    0  &     8 &   351 &  1221 &  624  &   10  &   28  &   217 &  8017 &    71 &   173 &     4 &     0 & 1080 \\\\\n",
       "\t   207 &   202 &   860 &   218 &    0  &     0 &  2869 &   163 &   28  &    6  &   18  &   278 &   191 &  8805 &  1270 &     0 &     9 &   18 \\\\\n",
       "\t   212 &   249 &   431 &    32 &    0  &     0 &    27 &   112 &   30  &   29  &   43  &   121 &   561 &   211 &    90 &     0 &     0 &   66 \\\\\n",
       "\t     1 &     3 &     5 &     0 &   42  &  6920 &    11 &     1 &    0  &   10  &    3  &    10 &     1 &    20 &     4 & 31582 &   220 &    0 \\\\\n",
       "\t    33 &    19 &   198 &   507 &    3  &    33 &   162 &    28 &    3  &  388  &  736  &  1615 &    32 &  2608 &   344 &    50 &   115 &    1 \\\\\n",
       "\t   412 &   680 &   885 &     0 &    0  &     0 &    95 &   593 &  221  &    4  &    0  &     4 &  3334 &     7 &    12 &     0 &     0 &  447 \\\\\n",
       "\t 12514 & 17433 & 19984 & 10327 & 5747  & 20442 & 14864 & 11597 & 8038  & 3638  & 7093  & 21278 & 21814 & 23219 & 10309 & 63981 & 14064 & 8777 \\\\\n",
       "\\end{tabular}\n"
      ],
      "text/markdown": [
       "\n",
       "| NA | NA | NA | NA | NA | NA | NA | NA | NA | NA | NA | NA | NA | NA | NA | NA | NA | NA |\n",
       "|---|---|---|---|---|---|---|---|---|---|---|---|---|---|---|---|---|---|\n",
       "|   454 |   699 |   877 |     8 |    0  |     0 |   651 |   429 |   66  |   13  |   22  |    87 |   416 |    87 |    59 |     0 |     0 |  126  |\n",
       "|   310 |  1761 |  1132 |    44 |    0  |     0 |    84 |   354 |   57  |   10  |   32  |   199 |   357 |   166 |    54 |     0 |     0 |   69  |\n",
       "|   404 |   563 |   784 |    11 |    0  |     0 |    77 |   291 |   35  |   19  |   92  |   325 |   442 |   307 |    71 |     0 |     0 |   53  |\n",
       "|   185 |   360 |   769 |   524 |    0  |     5 |  1536 |   246 |   31  |   42  |   70  |   176 |   193 |   252 |   652 |     0 |     0 |   31  |\n",
       "|    48 |    35 |    95 |   961 | 6253  |    38 |   654 |    73 |    8  |  172  |  448  |  2136 |   102 |  3555 |   912 |    25 |  2843 |    5  |\n",
       "|    16 |     1 |     9 |   127 |   20  |  1366 |    40 |     9 |    1  |   27  |   36  |    78 |    10 |    19 |    49 |   827 |    41 |    0  |\n",
       "|   554 |   862 |  1587 |   531 |    4  |    19 |  1208 |   337 |   90  |  174  |  353  |   484 |   615 |   677 |   513 |    12 |     4 |  140  |\n",
       "|   400 |  1034 |  1146 |    12 |    0  |     0 |   343 |   175 |  177  |    6  |   15  |    71 |   688 |    71 |    45 |     0 |     0 |  215  |\n",
       "|   209 |   161 |   190 |     1 |    0  |     0 |    12 |   143 |   42  |    0  |    0  |     0 |  1406 |     0 |    13 |     0 |     0 |  239  |\n",
       "|    63 |   180 |   418 |   419 |    1  |    36 |   179 |     7 |    6  |  273  |  506  |   811 |    75 |  2011 |   440 |    32 |    99 |   13  |\n",
       "|    17 |    72 |   278 |   508 |    0  |    46 |   289 |    16 |    7  |  594  |  788  |  1768 |    35 |  3255 |   615 |    29 |   163 |   16  |\n",
       "|   114 |    64 |   426 |   655 |    0  |     5 |   378 |    86 |    9  | 1006  |  993  |  2159 |    68 |  4072 |   562 |     7 |    61 |   15  |\n",
       "|  1025 |  2131 |  2998 |     4 |    0  |     8 |   351 |  1221 |  624  |   10  |   28  |   217 |  8017 |    71 |   173 |     4 |     0 | 1080  |\n",
       "|   207 |   202 |   860 |   218 |    0  |     0 |  2869 |   163 |   28  |    6  |   18  |   278 |   191 |  8805 |  1270 |     0 |     9 |   18  |\n",
       "|   212 |   249 |   431 |    32 |    0  |     0 |    27 |   112 |   30  |   29  |   43  |   121 |   561 |   211 |    90 |     0 |     0 |   66  |\n",
       "|     1 |     3 |     5 |     0 |   42  |  6920 |    11 |     1 |    0  |   10  |    3  |    10 |     1 |    20 |     4 | 31582 |   220 |    0  |\n",
       "|    33 |    19 |   198 |   507 |    3  |    33 |   162 |    28 |    3  |  388  |  736  |  1615 |    32 |  2608 |   344 |    50 |   115 |    1  |\n",
       "|   412 |   680 |   885 |     0 |    0  |     0 |    95 |   593 |  221  |    4  |    0  |     4 |  3334 |     7 |    12 |     0 |     0 |  447  |\n",
       "| 12514 | 17433 | 19984 | 10327 | 5747  | 20442 | 14864 | 11597 | 8038  | 3638  | 7093  | 21278 | 21814 | 23219 | 10309 | 63981 | 14064 | 8777  |\n",
       "\n"
      ],
      "text/plain": [
       "   <NA>  <NA>  <NA>  <NA>  <NA> <NA>  <NA>  <NA>  <NA> <NA> <NA> <NA>  <NA> \n",
       "1    454   699   877     8    0     0   651   429   66   13   22    87   416\n",
       "2    310  1761  1132    44    0     0    84   354   57   10   32   199   357\n",
       "3    404   563   784    11    0     0    77   291   35   19   92   325   442\n",
       "4    185   360   769   524    0     5  1536   246   31   42   70   176   193\n",
       "5     48    35    95   961 6253    38   654    73    8  172  448  2136   102\n",
       "6     16     1     9   127   20  1366    40     9    1   27   36    78    10\n",
       "7    554   862  1587   531    4    19  1208   337   90  174  353   484   615\n",
       "8    400  1034  1146    12    0     0   343   175  177    6   15    71   688\n",
       "9    209   161   190     1    0     0    12   143   42    0    0     0  1406\n",
       "10    63   180   418   419    1    36   179     7    6  273  506   811    75\n",
       "11    17    72   278   508    0    46   289    16    7  594  788  1768    35\n",
       "12   114    64   426   655    0     5   378    86    9 1006  993  2159    68\n",
       "13  1025  2131  2998     4    0     8   351  1221  624   10   28   217  8017\n",
       "14   207   202   860   218    0     0  2869   163   28    6   18   278   191\n",
       "15   212   249   431    32    0     0    27   112   30   29   43   121   561\n",
       "16     1     3     5     0   42  6920    11     1    0   10    3    10     1\n",
       "17    33    19   198   507    3    33   162    28    3  388  736  1615    32\n",
       "18   412   680   885     0    0     0    95   593  221    4    0     4  3334\n",
       "19 12514 17433 19984 10327 5747 20442 14864 11597 8038 3638 7093 21278 21814\n",
       "   <NA>  <NA>  <NA>  <NA>  <NA>\n",
       "1     87    59     0     0  126\n",
       "2    166    54     0     0   69\n",
       "3    307    71     0     0   53\n",
       "4    252   652     0     0   31\n",
       "5   3555   912    25  2843    5\n",
       "6     19    49   827    41    0\n",
       "7    677   513    12     4  140\n",
       "8     71    45     0     0  215\n",
       "9      0    13     0     0  239\n",
       "10  2011   440    32    99   13\n",
       "11  3255   615    29   163   16\n",
       "12  4072   562     7    61   15\n",
       "13    71   173     4     0 1080\n",
       "14  8805  1270     0     9   18\n",
       "15   211    90     0     0   66\n",
       "16    20     4 31582   220    0\n",
       "17  2608   344    50   115    1\n",
       "18     7    12     0     0  447\n",
       "19 23219 10309 63981 14064 8777"
      ]
     },
     "metadata": {},
     "output_type": "display_data"
    }
   ],
   "source": [
    "FullSimDisp2012"
   ]
  },
  {
   "cell_type": "code",
   "execution_count": 35,
   "metadata": {},
   "outputs": [
    {
     "data": {
      "text/html": [
       "<table>\n",
       "<thead><tr><th scope=col>Cabatoan</th><th scope=col>Caridad Cemetery</th><th scope=col>Caridad Proper</th><th scope=col>Elementary School</th><th scope=col>Gabas</th><th scope=col>Haina</th><th scope=col>Hicgop South</th><th scope=col>Magbangon</th><th scope=col>Palanas</th><th scope=col>Poroc Rose</th><th scope=col>Poroc San Flower</th><th scope=col>San Agustin</th><th scope=col>Sitio Baybayon</th><th scope=col>Sitio Lonas</th><th scope=col>Sitio Tugas</th><th scope=col>Tamakin Dacot</th><th scope=col>Visca</th><th scope=col>Wangag</th></tr></thead>\n",
       "<tbody>\n",
       "\t<tr><td> 454 </td><td> 699 </td><td> 877 </td><td>  8  </td><td>   0 </td><td>   0 </td><td> 651 </td><td> 429 </td><td> 66  </td><td>  13 </td><td> 22  </td><td>  87 </td><td> 416 </td><td>  87 </td><td>  59 </td><td>    0</td><td>   0 </td><td> 126 </td></tr>\n",
       "\t<tr><td> 310 </td><td>1761 </td><td>1132 </td><td> 44  </td><td>   0 </td><td>   0 </td><td>  84 </td><td> 354 </td><td> 57  </td><td>  10 </td><td> 32  </td><td> 199 </td><td> 357 </td><td> 166 </td><td>  54 </td><td>    0</td><td>   0 </td><td>  69 </td></tr>\n",
       "\t<tr><td> 404 </td><td> 563 </td><td> 784 </td><td> 11  </td><td>   0 </td><td>   0 </td><td>  77 </td><td> 291 </td><td> 35  </td><td>  19 </td><td> 92  </td><td> 325 </td><td> 442 </td><td> 307 </td><td>  71 </td><td>    0</td><td>   0 </td><td>  53 </td></tr>\n",
       "\t<tr><td> 185 </td><td> 360 </td><td> 769 </td><td>524  </td><td>   0 </td><td>   5 </td><td>1536 </td><td> 246 </td><td> 31  </td><td>  42 </td><td> 70  </td><td> 176 </td><td> 193 </td><td> 252 </td><td> 652 </td><td>    0</td><td>   0 </td><td>  31 </td></tr>\n",
       "\t<tr><td>  48 </td><td>  35 </td><td>  95 </td><td>961  </td><td>6253 </td><td>  38 </td><td> 654 </td><td>  73 </td><td>  8  </td><td> 172 </td><td>448  </td><td>2136 </td><td> 102 </td><td>3555 </td><td> 912 </td><td>   25</td><td>2843 </td><td>   5 </td></tr>\n",
       "\t<tr><td>  16 </td><td>   1 </td><td>   9 </td><td>127  </td><td>  20 </td><td>1366 </td><td>  40 </td><td>   9 </td><td>  1  </td><td>  27 </td><td> 36  </td><td>  78 </td><td>  10 </td><td>  19 </td><td>  49 </td><td>  827</td><td>  41 </td><td>   0 </td></tr>\n",
       "\t<tr><td> 554 </td><td> 862 </td><td>1587 </td><td>531  </td><td>   4 </td><td>  19 </td><td>1208 </td><td> 337 </td><td> 90  </td><td> 174 </td><td>353  </td><td> 484 </td><td> 615 </td><td> 677 </td><td> 513 </td><td>   12</td><td>   4 </td><td> 140 </td></tr>\n",
       "\t<tr><td> 400 </td><td>1034 </td><td>1146 </td><td> 12  </td><td>   0 </td><td>   0 </td><td> 343 </td><td> 175 </td><td>177  </td><td>   6 </td><td> 15  </td><td>  71 </td><td> 688 </td><td>  71 </td><td>  45 </td><td>    0</td><td>   0 </td><td> 215 </td></tr>\n",
       "\t<tr><td> 209 </td><td> 161 </td><td> 190 </td><td>  1  </td><td>   0 </td><td>   0 </td><td>  12 </td><td> 143 </td><td> 42  </td><td>   0 </td><td>  0  </td><td>   0 </td><td>1406 </td><td>   0 </td><td>  13 </td><td>    0</td><td>   0 </td><td> 239 </td></tr>\n",
       "\t<tr><td>  63 </td><td> 180 </td><td> 418 </td><td>419  </td><td>   1 </td><td>  36 </td><td> 179 </td><td>   7 </td><td>  6  </td><td> 273 </td><td>506  </td><td> 811 </td><td>  75 </td><td>2011 </td><td> 440 </td><td>   32</td><td>  99 </td><td>  13 </td></tr>\n",
       "\t<tr><td>  17 </td><td>  72 </td><td> 278 </td><td>508  </td><td>   0 </td><td>  46 </td><td> 289 </td><td>  16 </td><td>  7  </td><td> 594 </td><td>788  </td><td>1768 </td><td>  35 </td><td>3255 </td><td> 615 </td><td>   29</td><td> 163 </td><td>  16 </td></tr>\n",
       "\t<tr><td> 114 </td><td>  64 </td><td> 426 </td><td>655  </td><td>   0 </td><td>   5 </td><td> 378 </td><td>  86 </td><td>  9  </td><td>1006 </td><td>993  </td><td>2159 </td><td>  68 </td><td>4072 </td><td> 562 </td><td>    7</td><td>  61 </td><td>  15 </td></tr>\n",
       "\t<tr><td>1025 </td><td>2131 </td><td>2998 </td><td>  4  </td><td>   0 </td><td>   8 </td><td> 351 </td><td>1221 </td><td>624  </td><td>  10 </td><td> 28  </td><td> 217 </td><td>8017 </td><td>  71 </td><td> 173 </td><td>    4</td><td>   0 </td><td>1080 </td></tr>\n",
       "\t<tr><td> 207 </td><td> 202 </td><td> 860 </td><td>218  </td><td>   0 </td><td>   0 </td><td>2869 </td><td> 163 </td><td> 28  </td><td>   6 </td><td> 18  </td><td> 278 </td><td> 191 </td><td>8805 </td><td>1270 </td><td>    0</td><td>   9 </td><td>  18 </td></tr>\n",
       "\t<tr><td> 212 </td><td> 249 </td><td> 431 </td><td> 32  </td><td>   0 </td><td>   0 </td><td>  27 </td><td> 112 </td><td> 30  </td><td>  29 </td><td> 43  </td><td> 121 </td><td> 561 </td><td> 211 </td><td>  90 </td><td>    0</td><td>   0 </td><td>  66 </td></tr>\n",
       "\t<tr><td>   1 </td><td>   3 </td><td>   5 </td><td>  0  </td><td>  42 </td><td>6920 </td><td>  11 </td><td>   1 </td><td>  0  </td><td>  10 </td><td>  3  </td><td>  10 </td><td>   1 </td><td>  20 </td><td>   4 </td><td>31582</td><td> 220 </td><td>   0 </td></tr>\n",
       "\t<tr><td>  33 </td><td>  19 </td><td> 198 </td><td>507  </td><td>   3 </td><td>  33 </td><td> 162 </td><td>  28 </td><td>  3  </td><td> 388 </td><td>736  </td><td>1615 </td><td>  32 </td><td>2608 </td><td> 344 </td><td>   50</td><td> 115 </td><td>   1 </td></tr>\n",
       "\t<tr><td> 412 </td><td> 680 </td><td> 885 </td><td>  0  </td><td>   0 </td><td>   0 </td><td>  95 </td><td> 593 </td><td>221  </td><td>   4 </td><td>  0  </td><td>   4 </td><td>3334 </td><td>   7 </td><td>  12 </td><td>    0</td><td>   0 </td><td> 447 </td></tr>\n",
       "</tbody>\n",
       "</table>\n"
      ],
      "text/latex": [
       "\\begin{tabular}{r|llllllllllllllllll}\n",
       " Cabatoan & Caridad Cemetery & Caridad Proper & Elementary School & Gabas & Haina & Hicgop South & Magbangon & Palanas & Poroc Rose & Poroc San Flower & San Agustin & Sitio Baybayon & Sitio Lonas & Sitio Tugas & Tamakin Dacot & Visca & Wangag\\\\\n",
       "\\hline\n",
       "\t  454  &  699  &  877  &   8   &    0  &    0  &  651  &  429  &  66   &   13  &  22   &   87  &  416  &   87  &   59  &     0 &    0  &  126 \\\\\n",
       "\t  310  & 1761  & 1132  &  44   &    0  &    0  &   84  &  354  &  57   &   10  &  32   &  199  &  357  &  166  &   54  &     0 &    0  &   69 \\\\\n",
       "\t  404  &  563  &  784  &  11   &    0  &    0  &   77  &  291  &  35   &   19  &  92   &  325  &  442  &  307  &   71  &     0 &    0  &   53 \\\\\n",
       "\t  185  &  360  &  769  & 524   &    0  &    5  & 1536  &  246  &  31   &   42  &  70   &  176  &  193  &  252  &  652  &     0 &    0  &   31 \\\\\n",
       "\t   48  &   35  &   95  & 961   & 6253  &   38  &  654  &   73  &   8   &  172  & 448   & 2136  &  102  & 3555  &  912  &    25 & 2843  &    5 \\\\\n",
       "\t   16  &    1  &    9  & 127   &   20  & 1366  &   40  &    9  &   1   &   27  &  36   &   78  &   10  &   19  &   49  &   827 &   41  &    0 \\\\\n",
       "\t  554  &  862  & 1587  & 531   &    4  &   19  & 1208  &  337  &  90   &  174  & 353   &  484  &  615  &  677  &  513  &    12 &    4  &  140 \\\\\n",
       "\t  400  & 1034  & 1146  &  12   &    0  &    0  &  343  &  175  & 177   &    6  &  15   &   71  &  688  &   71  &   45  &     0 &    0  &  215 \\\\\n",
       "\t  209  &  161  &  190  &   1   &    0  &    0  &   12  &  143  &  42   &    0  &   0   &    0  & 1406  &    0  &   13  &     0 &    0  &  239 \\\\\n",
       "\t   63  &  180  &  418  & 419   &    1  &   36  &  179  &    7  &   6   &  273  & 506   &  811  &   75  & 2011  &  440  &    32 &   99  &   13 \\\\\n",
       "\t   17  &   72  &  278  & 508   &    0  &   46  &  289  &   16  &   7   &  594  & 788   & 1768  &   35  & 3255  &  615  &    29 &  163  &   16 \\\\\n",
       "\t  114  &   64  &  426  & 655   &    0  &    5  &  378  &   86  &   9   & 1006  & 993   & 2159  &   68  & 4072  &  562  &     7 &   61  &   15 \\\\\n",
       "\t 1025  & 2131  & 2998  &   4   &    0  &    8  &  351  & 1221  & 624   &   10  &  28   &  217  & 8017  &   71  &  173  &     4 &    0  & 1080 \\\\\n",
       "\t  207  &  202  &  860  & 218   &    0  &    0  & 2869  &  163  &  28   &    6  &  18   &  278  &  191  & 8805  & 1270  &     0 &    9  &   18 \\\\\n",
       "\t  212  &  249  &  431  &  32   &    0  &    0  &   27  &  112  &  30   &   29  &  43   &  121  &  561  &  211  &   90  &     0 &    0  &   66 \\\\\n",
       "\t    1  &    3  &    5  &   0   &   42  & 6920  &   11  &    1  &   0   &   10  &   3   &   10  &    1  &   20  &    4  & 31582 &  220  &    0 \\\\\n",
       "\t   33  &   19  &  198  & 507   &    3  &   33  &  162  &   28  &   3   &  388  & 736   & 1615  &   32  & 2608  &  344  &    50 &  115  &    1 \\\\\n",
       "\t  412  &  680  &  885  &   0   &    0  &    0  &   95  &  593  & 221   &    4  &   0   &    4  & 3334  &    7  &   12  &     0 &    0  &  447 \\\\\n",
       "\\end{tabular}\n"
      ],
      "text/markdown": [
       "\n",
       "| Cabatoan | Caridad Cemetery | Caridad Proper | Elementary School | Gabas | Haina | Hicgop South | Magbangon | Palanas | Poroc Rose | Poroc San Flower | San Agustin | Sitio Baybayon | Sitio Lonas | Sitio Tugas | Tamakin Dacot | Visca | Wangag |\n",
       "|---|---|---|---|---|---|---|---|---|---|---|---|---|---|---|---|---|---|\n",
       "|  454  |  699  |  877  |   8   |    0  |    0  |  651  |  429  |  66   |   13  |  22   |   87  |  416  |   87  |   59  |     0 |    0  |  126  |\n",
       "|  310  | 1761  | 1132  |  44   |    0  |    0  |   84  |  354  |  57   |   10  |  32   |  199  |  357  |  166  |   54  |     0 |    0  |   69  |\n",
       "|  404  |  563  |  784  |  11   |    0  |    0  |   77  |  291  |  35   |   19  |  92   |  325  |  442  |  307  |   71  |     0 |    0  |   53  |\n",
       "|  185  |  360  |  769  | 524   |    0  |    5  | 1536  |  246  |  31   |   42  |  70   |  176  |  193  |  252  |  652  |     0 |    0  |   31  |\n",
       "|   48  |   35  |   95  | 961   | 6253  |   38  |  654  |   73  |   8   |  172  | 448   | 2136  |  102  | 3555  |  912  |    25 | 2843  |    5  |\n",
       "|   16  |    1  |    9  | 127   |   20  | 1366  |   40  |    9  |   1   |   27  |  36   |   78  |   10  |   19  |   49  |   827 |   41  |    0  |\n",
       "|  554  |  862  | 1587  | 531   |    4  |   19  | 1208  |  337  |  90   |  174  | 353   |  484  |  615  |  677  |  513  |    12 |    4  |  140  |\n",
       "|  400  | 1034  | 1146  |  12   |    0  |    0  |  343  |  175  | 177   |    6  |  15   |   71  |  688  |   71  |   45  |     0 |    0  |  215  |\n",
       "|  209  |  161  |  190  |   1   |    0  |    0  |   12  |  143  |  42   |    0  |   0   |    0  | 1406  |    0  |   13  |     0 |    0  |  239  |\n",
       "|   63  |  180  |  418  | 419   |    1  |   36  |  179  |    7  |   6   |  273  | 506   |  811  |   75  | 2011  |  440  |    32 |   99  |   13  |\n",
       "|   17  |   72  |  278  | 508   |    0  |   46  |  289  |   16  |   7   |  594  | 788   | 1768  |   35  | 3255  |  615  |    29 |  163  |   16  |\n",
       "|  114  |   64  |  426  | 655   |    0  |    5  |  378  |   86  |   9   | 1006  | 993   | 2159  |   68  | 4072  |  562  |     7 |   61  |   15  |\n",
       "| 1025  | 2131  | 2998  |   4   |    0  |    8  |  351  | 1221  | 624   |   10  |  28   |  217  | 8017  |   71  |  173  |     4 |    0  | 1080  |\n",
       "|  207  |  202  |  860  | 218   |    0  |    0  | 2869  |  163  |  28   |    6  |  18   |  278  |  191  | 8805  | 1270  |     0 |    9  |   18  |\n",
       "|  212  |  249  |  431  |  32   |    0  |    0  |   27  |  112  |  30   |   29  |  43   |  121  |  561  |  211  |   90  |     0 |    0  |   66  |\n",
       "|    1  |    3  |    5  |   0   |   42  | 6920  |   11  |    1  |   0   |   10  |   3   |   10  |    1  |   20  |    4  | 31582 |  220  |    0  |\n",
       "|   33  |   19  |  198  | 507   |    3  |   33  |  162  |   28  |   3   |  388  | 736   | 1615  |   32  | 2608  |  344  |    50 |  115  |    1  |\n",
       "|  412  |  680  |  885  |   0   |    0  |    0  |   95  |  593  | 221   |    4  |   0   |    4  | 3334  |    7  |   12  |     0 |    0  |  447  |\n",
       "\n"
      ],
      "text/plain": [
       "   Cabatoan Caridad Cemetery Caridad Proper Elementary School Gabas Haina\n",
       "1   454      699              877             8                  0     0 \n",
       "2   310     1761             1132            44                  0     0 \n",
       "3   404      563              784            11                  0     0 \n",
       "4   185      360              769           524                  0     5 \n",
       "5    48       35               95           961               6253    38 \n",
       "6    16        1                9           127                 20  1366 \n",
       "7   554      862             1587           531                  4    19 \n",
       "8   400     1034             1146            12                  0     0 \n",
       "9   209      161              190             1                  0     0 \n",
       "10   63      180              418           419                  1    36 \n",
       "11   17       72              278           508                  0    46 \n",
       "12  114       64              426           655                  0     5 \n",
       "13 1025     2131             2998             4                  0     8 \n",
       "14  207      202              860           218                  0     0 \n",
       "15  212      249              431            32                  0     0 \n",
       "16    1        3                5             0                 42  6920 \n",
       "17   33       19              198           507                  3    33 \n",
       "18  412      680              885             0                  0     0 \n",
       "   Hicgop South Magbangon Palanas Poroc Rose Poroc San Flower San Agustin\n",
       "1   651          429       66       13        22                87       \n",
       "2    84          354       57       10        32               199       \n",
       "3    77          291       35       19        92               325       \n",
       "4  1536          246       31       42        70               176       \n",
       "5   654           73        8      172       448              2136       \n",
       "6    40            9        1       27        36                78       \n",
       "7  1208          337       90      174       353               484       \n",
       "8   343          175      177        6        15                71       \n",
       "9    12          143       42        0         0                 0       \n",
       "10  179            7        6      273       506               811       \n",
       "11  289           16        7      594       788              1768       \n",
       "12  378           86        9     1006       993              2159       \n",
       "13  351         1221      624       10        28               217       \n",
       "14 2869          163       28        6        18               278       \n",
       "15   27          112       30       29        43               121       \n",
       "16   11            1        0       10         3                10       \n",
       "17  162           28        3      388       736              1615       \n",
       "18   95          593      221        4         0                 4       \n",
       "   Sitio Baybayon Sitio Lonas Sitio Tugas Tamakin Dacot Visca Wangag\n",
       "1   416             87          59            0            0   126  \n",
       "2   357            166          54            0            0    69  \n",
       "3   442            307          71            0            0    53  \n",
       "4   193            252         652            0            0    31  \n",
       "5   102           3555         912           25         2843     5  \n",
       "6    10             19          49          827           41     0  \n",
       "7   615            677         513           12            4   140  \n",
       "8   688             71          45            0            0   215  \n",
       "9  1406              0          13            0            0   239  \n",
       "10   75           2011         440           32           99    13  \n",
       "11   35           3255         615           29          163    16  \n",
       "12   68           4072         562            7           61    15  \n",
       "13 8017             71         173            4            0  1080  \n",
       "14  191           8805        1270            0            9    18  \n",
       "15  561            211          90            0            0    66  \n",
       "16    1             20           4        31582          220     0  \n",
       "17   32           2608         344           50          115     1  \n",
       "18 3334              7          12            0            0   447  "
      ]
     },
     "metadata": {},
     "output_type": "display_data"
    }
   ],
   "source": [
    "SimDisp2012Mat"
   ]
  },
  {
   "cell_type": "code",
   "execution_count": 87,
   "metadata": {},
   "outputs": [],
   "source": [
    "#turn into parentage matrix\n",
    "\n",
    "#SimDisp2012Mat <- SimDisp2012 %>%\n",
    "#    ungroup() %>%\n",
    "#    spread(source, destination, SumParticles)\n",
    "    \n",
    "\n",
    "#make the rest of the kernel input files\n",
    "Assignments <- FullSimDisp2013\n",
    "Adult_sample_proportions <- matrix(nrow=18, ncol=1, 1) #we sampled all sites completely because we are working with simulated data\n",
    "Sampled_reefs <- as.matrix(read.csv(\"~/parentage/kernel_fitting/1340_loci/input/site_index_all.csv\", header=FALSE))[,18] #sampled all reefs in the distance matrix/area/centroid files\n",
    "Distances <- as.matrix(read.csv(\"~/parentage/kernel_fitting/1340_loci/input/distance_matrix_unsurveyed.csv\", header=FALSE))[-2, -2]  #drop a magbangon row  \n",
    "Reef_sizes <- as.matrix(read.csv(\"~/parentage/kernel_fitting/894_loci/area_unsurveyed.csv\", header=FALSE))[]\n",
    "Centroids <- as.matrix(read.csv(\"~/parentage/kernel_fitting/894_loci/centroids_unsurveyed.csv\", header=T))\n",
    "\n"
   ]
  },
  {
   "cell_type": "code",
   "execution_count": 88,
   "metadata": {},
   "outputs": [
    {
     "data": {
      "text/plain": [
       "\n",
       "Call:\n",
       "mle2(minuslogl = LL_kt_bbmle, start = list(k = -3, theta = 1), \n",
       "    method = \"L-BFGS-B\", data = x, lower = c(-10, 0.15), upper = c(10, \n",
       "        8), control = list(maxit = 500))\n",
       "\n",
       "Coefficients:\n",
       "    k theta \n",
       "   10     8 \n",
       "\n",
       "Log-likelihood: -47193.78 "
      ]
     },
     "metadata": {},
     "output_type": "display_data"
    }
   ],
   "source": [
    "a=-10\n",
    "b=10\n",
    "\n",
    "\n",
    "x <- list(Distances=Distances, Assignments=Assignments, Sampled_reefs=Sampled_reefs, Reef_sizes=Reef_sizes, Adult_sample_proportions=Adult_sample_proportions) #put inputs into a list because that's the bbmle format\n",
    "\n",
    "Sim2013Fit <- suppressWarnings(mle2(LL_kt_bbmle, start=list(k=-3, theta=1), lower=c(-10, 0.15), upper=c(10, 8), method=\"L-BFGS-B\", data=x, control=list(maxit=500)))\n",
    "Sim2013Fit\n",
    "\n",
    "#doen't look right. Maybe fix theta, optimize k"
   ]
  },
  {
   "cell_type": "code",
   "execution_count": null,
   "metadata": {},
   "outputs": [],
   "source": []
  },
  {
   "cell_type": "code",
   "execution_count": null,
   "metadata": {},
   "outputs": [],
   "source": []
  },
  {
   "cell_type": "code",
   "execution_count": null,
   "metadata": {},
   "outputs": [],
   "source": []
  },
  {
   "cell_type": "code",
   "execution_count": null,
   "metadata": {},
   "outputs": [],
   "source": [
    "#monsoon season prep\n",
    "NEM_months <- c(11, 12, 1, 2, 3, 4)\n",
    "SWM_months <- c(5, 6, 7, 8, 9, 10)\n",
    "\n",
    "NEM <- conn_mat_full4 %>%\n",
    "    filter(month %in% NEM_months) %>%\n",
    "    group_by(source, destination) %>%\n",
    "    summarise(conn=max(fraction))\n",
    "\n",
    "SWM <- conn_mat_full4 %>%\n",
    "    filter(month %in% SWM_months) %>%\n",
    "    group_by(source, destination) %>%\n",
    "    summarise(conn=max(fraction))"
   ]
  }
 ],
 "metadata": {
  "kernelspec": {
   "display_name": "R",
   "language": "R",
   "name": "ir"
  },
  "language_info": {
   "codemirror_mode": "r",
   "file_extension": ".r",
   "mimetype": "text/x-r-source",
   "name": "R",
   "pygments_lexer": "r",
   "version": "3.6.1"
  }
 },
 "nbformat": 4,
 "nbformat_minor": 4
}
