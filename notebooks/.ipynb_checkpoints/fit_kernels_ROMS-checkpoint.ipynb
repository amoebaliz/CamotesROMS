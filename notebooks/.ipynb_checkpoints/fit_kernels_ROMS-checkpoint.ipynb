{
 "cells": [
  {
   "cell_type": "code",
   "execution_count": 1,
   "metadata": {},
   "outputs": [],
   "source": [
    "Packages <- c(\"dplyr\",\"broom\",  \"ggplot2\", \"bbmle\", \"dplyr\",\"tidyr\", \"stringr\", \"tidyverse\", \"lubridate\", \"RColorBrewer\")\n",
    "\n",
    "invisible(suppressPackageStartupMessages(lapply(Packages, library, character.only = TRUE)))\n",
    "\n",
    "setwd('/local/home/katrinac/oceanography')\n",
    "\"%!in%\" <- function(x,table) match(x,table, nomatch = 0) == 0\n",
    "source(\"~/parentage/kernel_fitting/1340_loci/functions/ll_kt_both_bbmle.R\")\n",
    "\n",
    "#clownfish metadata\n",
    "load(\"~/parentage/r_data/total_sampling_across_years.RData\")\n",
    "load(\"~/parentage/r_data/sampled_area_each_year.RData\")\n",
    "#https://github.com/pinskylab/Clownfish_persistence/blob/master/Data/Script_outputs/cumulative_prop_hab_sampled_by_site.RData)\n",
    "load(\"~/parentage/r_data/cumulative_prop_hab_sampled_by_site.RData\")\n",
    "#download.file(url = \"https://github.com/pinskylab/genomics/blob/master/data/fish-obs.RData?raw=true\", destfile = \"~/parentage/r_data/fish-obs.RData\")\n",
    "fish_obs <- readRDS(\"~/parentage/r_data/fish-obs.RData\") \n",
    "load(\"~/parentage/r_data/site_dist_info.RData\")\n",
    "#download.file(url = \"https://github.com/pinskylab/Clownfish_persistence/blob/master/Data/Data_from_database/anem_db.RData?raw=true\", destfile = \"~/parentage/r_data/anem_db.RData\")\n",
    "load(\"~/parentage/r_data/anem_db.RData\")\n",
    "#download.file(url = \"https://github.com/pinskylab/Clownfish_persistence/blob/master/Data/Data_from_database/dives_db.RData?raw=true\", destfile = \"~/parentage/r_data/dives_db.RData\")\n",
    "load(\"~/parentage/r_data/dives_db.RData\")\n",
    "#download.file(url = \"https://github.com/pinskylab/Clownfish_persistence/blob/master/Data/Data_from_database/fish_db.RData?raw=true\", destfile = \"~/parentage/r_data/dives_db.RData\")\n",
    "load(\"~/parentage/r_data/fish_db.RData\")\n",
    "load(\"~/parentage/r_data/gps_db.RData\")"
   ]
  },
  {
   "cell_type": "code",
   "execution_count": null,
   "metadata": {},
   "outputs": [],
   "source": [
    "UnsampledSites <- c(\"SF1\", \"SF2\", \"SF3\", \"SF4\", \"SF5\", \"SF6\", \"Pangasugan\", \"Other\") \n",
    "SimConn <- read.csv(file=\"~/oceanography/script_output/SimConnectivityTableWithMeta.csv\", header=T) #%>%\n",
    "    #filter(source %!in% UnsampledSites & destination  %!in% UnsampledSites )"
   ]
  },
  {
   "cell_type": "code",
   "execution_count": 23,
   "metadata": {
    "scrolled": true
   },
   "outputs": [],
   "source": [
    "#read in the df where each particle is an observation\n",
    "Simulation2012 <- read.csv(file=\"~/oceanography/script_output/SimConnLongForm2011SamplingYear.csv\", header=T, stringsAsFactors = F)\n",
    "#head(Simulation2012 %>% group_by(date, source, destination) %>% summarise(Check=n()))\n",
    "#CAI should be 201718, it is, all good"
   ]
  },
  {
   "cell_type": "code",
   "execution_count": 84,
   "metadata": {},
   "outputs": [
    {
     "name": "stderr",
     "output_type": "stream",
     "text": [
      "`summarise()` regrouping output by 'year' (override with `.groups` argument)\n",
      "`summarise()` ungrouping output (override with `.groups` argument)\n"
     ]
    },
    {
     "data": {
      "text/html": [
       "791"
      ],
      "text/latex": [
       "791"
      ],
      "text/markdown": [
       "791"
      ],
      "text/plain": [
       "[1] 791"
      ]
     },
     "metadata": {},
     "output_type": "display_data"
    }
   ],
   "source": [
    "#load data from the genetic sampling in each year\n",
    "\n",
    "##read in the sites that we sampled each year\n",
    "N_gen_par <- read.table(file=\"~/parentage/colony2/20190523_1340loci/input/all_parents_corrected.txt\", header = TRUE, stringsAsFactors = F) %>%#not sure that I need the parents here\n",
    "    mutate(fish_indiv=as.character(fish_indiv))\n",
    "N_gen_offs <- read.table(file=\"~/parentage/colony2/20190523_1340loci/input/all_offspring_corrected.txt\", header=T, stringsAsFactors = F) %>%\n",
    "    mutate(fish_indiv=as.character(fish_indiv))\n",
    "\n",
    "\n",
    "\n",
    "#gather the summary of total offspring sampled\n",
    "#from Allison, putting all the meta data together (Constants_database_common_functions.R)\n",
    "##### Match up other relevant info (site, date, fish_indiv, etc.) to fish in the clownfish table\n",
    "# Pull out year and month into a separate column in dives_db\n",
    "dives_db_processed <- dives_db %>%\n",
    "  mutate(year = as.integer(substring(date,1,4))) %>%\n",
    "  mutate(month = as.integer(substring(date,6,7))) %>%\n",
    "  mutate(dive_date = date(date))\n",
    "\n",
    "# Pull all APCL caught or otherwise in the clownfish table\n",
    "allfish_fish <- fish_db %>%\n",
    "  select(fish_table_id, anem_table_id, fish_spp, sample_id, anem_table_id, recap, tag_id, color, sex, size, fish_obs_time, fish_notes) %>%\n",
    "  filter(fish_spp == 'APCL') %>%\n",
    "  mutate(size = as.numeric(size))  # make the size numeric (rather than chr) so can do means and such\n",
    "\n",
    "# and their corresponding anemones\n",
    "allfish_anems <- anem_db %>%\n",
    "  select(anem_table_id, dive_table_id, anem_obs, anem_id, old_anem_id, anem_notes) %>%\n",
    "  filter(anem_table_id %in% allfish_fish$anem_table_id)\n",
    "\n",
    "# and the corresponding dive info\n",
    "allfish_dives <- dives_db_processed %>%\n",
    "  select(dive_table_id, dive_type, date, year, month, site, gps, dive_notes) %>%\n",
    "  filter(dive_table_id %in% allfish_anems$dive_table_id) \n",
    "\n",
    "# join together\n",
    "allfish_caught <- left_join(allfish_fish, allfish_anems, by=\"anem_table_id\")\n",
    "allfish_caught <- left_join(allfish_caught, allfish_dives, by=\"dive_table_id\")\n",
    "\n",
    "# add in the gen_ids and fish_indiv (now in a separate gen_id table) - gen_id only comes in the time the fish was sequenced, not at all captures\n",
    "allfish_caught <- left_join(allfish_caught, (fish_obs %>% select(fish_table_id, gen_id, fish_indiv)), by = \"fish_table_id\") %>%\n",
    "    select(fish_indiv, sample_id, site) %>%\n",
    "    mutate()\n",
    "\n",
    "N_gen_offs_annual  <- left_join(N_gen_offs, allfish_caught, by=c(\"fish_indiv\", \"sample_id\")) %>% \n",
    "    group_by(year, site) %>%\n",
    "    summarise(n_offs_gen=n()) %>%\n",
    "    ungroup()\n",
    "\n",
    "N_gen_offs_annual$site <- gsub(\". \", \".\", N_gen_offs_annual$site, fixed=TRUE)\n",
    "\n",
    "##for all years\n",
    "N_gen_offs_all <- N_gen_offs_annual %>% \n",
    "    group_by(site) %>% \n",
    "    summarise(sampled_fish=sum(n_offs_gen, na.rm=T))\n",
    "\n",
    "sum(N_gen_offs_all$sampled_fish)"
   ]
  },
  {
   "cell_type": "code",
   "execution_count": 88,
   "metadata": {},
   "outputs": [
    {
     "name": "stderr",
     "output_type": "stream",
     "text": [
      "`summarise()` regrouping output by 'year' (override with `.groups` argument)\n"
     ]
    },
    {
     "data": {
      "text/html": [
       "791"
      ],
      "text/latex": [
       "791"
      ],
      "text/markdown": [
       "791"
      ],
      "text/plain": [
       "[1] 791"
      ]
     },
     "metadata": {},
     "output_type": "display_data"
    }
   ],
   "source": [
    "#combine N/S Magbangon in the genetic sampling data\n",
    "\n",
    "AnnualRecsSamp <- bind_rows(N_gen_offs_annual %>%\n",
    "                        filter(site !=\"N.Magbangon\" & site!=\"S.Magbangon\"),\n",
    "                    N_gen_offs_annual %>%\n",
    "                        mutate(Magbangon=ifelse(site==\"N.Magbangon\" | site==\"S.Magbangon\", \"Magbangon\", \"no\")) %>%\n",
    "                        filter(Magbangon==\"Magbangon\") %>%\n",
    "                        group_by(year, Magbangon) %>%\n",
    "                        summarise(sum_offs=sum(n_offs_gen)) %>%\n",
    "                        rename(site=\"Magbangon\", n_offs_gen=\"sum_offs\"))\n",
    "sum(AnnualRecsSamp$n_offs_gen) #should be 791"
   ]
  },
  {
   "cell_type": "code",
   "execution_count": 90,
   "metadata": {},
   "outputs": [
    {
     "data": {
      "text/html": [
       "<table>\n",
       "<thead><tr><th scope=col>year</th><th scope=col>site</th><th scope=col>n_offs_gen</th></tr></thead>\n",
       "<tbody>\n",
       "\t<tr><td>2012             </td><td>Cabatoan         </td><td> 4               </td></tr>\n",
       "\t<tr><td>2012             </td><td>Palanas          </td><td>13               </td></tr>\n",
       "\t<tr><td>2012             </td><td>Poroc Rose       </td><td> 9               </td></tr>\n",
       "\t<tr><td>2012             </td><td>Poroc San Flower </td><td> 9               </td></tr>\n",
       "\t<tr><td>2012             </td><td>Sitio Lonas      </td><td> 1               </td></tr>\n",
       "\t<tr><td>2012             </td><td>Visca            </td><td> 1               </td></tr>\n",
       "\t<tr><td>2012             </td><td>Wangag           </td><td>16               </td></tr>\n",
       "\t<tr><td>2013             </td><td>Cabatoan         </td><td> 3               </td></tr>\n",
       "\t<tr><td>2013             </td><td>Caridad Cemetery </td><td> 2               </td></tr>\n",
       "\t<tr><td>2013             </td><td>Caridad Proper   </td><td> 4               </td></tr>\n",
       "\t<tr><td>2013             </td><td>Elementary School</td><td>11               </td></tr>\n",
       "\t<tr><td>2013             </td><td>Haina            </td><td> 6               </td></tr>\n",
       "\t<tr><td>2013             </td><td>Hicgop South     </td><td> 4               </td></tr>\n",
       "\t<tr><td>2013             </td><td>Palanas          </td><td>43               </td></tr>\n",
       "\t<tr><td>2013             </td><td>Poroc Rose       </td><td> 1               </td></tr>\n",
       "\t<tr><td>2013             </td><td>Poroc San Flower </td><td> 1               </td></tr>\n",
       "\t<tr><td>2013             </td><td>Sitio Baybayon   </td><td>20               </td></tr>\n",
       "\t<tr><td>2013             </td><td>Tamakin Dacot    </td><td> 2               </td></tr>\n",
       "\t<tr><td>2013             </td><td>Visca            </td><td> 6               </td></tr>\n",
       "\t<tr><td>2013             </td><td>Wangag           </td><td>29               </td></tr>\n",
       "\t<tr><td>2014             </td><td>Cabatoan         </td><td> 6               </td></tr>\n",
       "\t<tr><td>2014             </td><td>Haina            </td><td> 2               </td></tr>\n",
       "\t<tr><td>2014             </td><td>Palanas          </td><td>38               </td></tr>\n",
       "\t<tr><td>2014             </td><td>Poroc Rose       </td><td> 1               </td></tr>\n",
       "\t<tr><td>2014             </td><td>Poroc San Flower </td><td> 1               </td></tr>\n",
       "\t<tr><td>2014             </td><td>Sitio Baybayon   </td><td>32               </td></tr>\n",
       "\t<tr><td>2014             </td><td>Tamakin Dacot    </td><td> 3               </td></tr>\n",
       "\t<tr><td>2014             </td><td>Visca            </td><td> 1               </td></tr>\n",
       "\t<tr><td>2014             </td><td>Wangag           </td><td>62               </td></tr>\n",
       "\t<tr><td>2015             </td><td>Cabatoan         </td><td>16               </td></tr>\n",
       "\t<tr><td>...</td><td>...</td><td>...</td></tr>\n",
       "\t<tr><td>2016             </td><td>San Agustin      </td><td> 4               </td></tr>\n",
       "\t<tr><td>2016             </td><td>Sitio Baybayon   </td><td>18               </td></tr>\n",
       "\t<tr><td>2016             </td><td>Tamakin Dacot    </td><td> 3               </td></tr>\n",
       "\t<tr><td>2016             </td><td>Wangag           </td><td>18               </td></tr>\n",
       "\t<tr><td>2017             </td><td>Caridad Cemetery </td><td> 4               </td></tr>\n",
       "\t<tr><td>2017             </td><td>Elementary School</td><td> 3               </td></tr>\n",
       "\t<tr><td>2017             </td><td>Gabas            </td><td> 5               </td></tr>\n",
       "\t<tr><td>2017             </td><td>Haina            </td><td> 9               </td></tr>\n",
       "\t<tr><td>2017             </td><td>Hicgop South     </td><td> 3               </td></tr>\n",
       "\t<tr><td>2017             </td><td>Palanas          </td><td>19               </td></tr>\n",
       "\t<tr><td>2017             </td><td>Poroc Rose       </td><td> 3               </td></tr>\n",
       "\t<tr><td>2017             </td><td>Poroc San Flower </td><td> 1               </td></tr>\n",
       "\t<tr><td>2017             </td><td>San Agustin      </td><td> 5               </td></tr>\n",
       "\t<tr><td>2017             </td><td>Sitio Baybayon   </td><td>35               </td></tr>\n",
       "\t<tr><td>2017             </td><td>Tamakin Dacot    </td><td>10               </td></tr>\n",
       "\t<tr><td>2017             </td><td>Visca            </td><td> 8               </td></tr>\n",
       "\t<tr><td>2017             </td><td>Wangag           </td><td>25               </td></tr>\n",
       "\t<tr><td>2018             </td><td>Elementary School</td><td> 1               </td></tr>\n",
       "\t<tr><td>2018             </td><td>Haina            </td><td> 5               </td></tr>\n",
       "\t<tr><td>2018             </td><td>Hicgop South     </td><td> 1               </td></tr>\n",
       "\t<tr><td>2018             </td><td>Palanas          </td><td> 8               </td></tr>\n",
       "\t<tr><td>2018             </td><td>Sitio Baybayon   </td><td>16               </td></tr>\n",
       "\t<tr><td>2018             </td><td>Tamakin Dacot    </td><td> 2               </td></tr>\n",
       "\t<tr><td>2018             </td><td>Wangag           </td><td> 8               </td></tr>\n",
       "\t<tr><td>2012             </td><td>Magbangon        </td><td>10               </td></tr>\n",
       "\t<tr><td>2013             </td><td>Magbangon        </td><td>18               </td></tr>\n",
       "\t<tr><td>2014             </td><td>Magbangon        </td><td>35               </td></tr>\n",
       "\t<tr><td>2015             </td><td>Magbangon        </td><td>10               </td></tr>\n",
       "\t<tr><td>2016             </td><td>Magbangon        </td><td>40               </td></tr>\n",
       "\t<tr><td>2018             </td><td>Magbangon        </td><td> 4               </td></tr>\n",
       "</tbody>\n",
       "</table>\n"
      ],
      "text/latex": [
       "\\begin{tabular}{r|lll}\n",
       " year & site & n\\_offs\\_gen\\\\\n",
       "\\hline\n",
       "\t 2012              & Cabatoan          &  4               \\\\\n",
       "\t 2012              & Palanas           & 13               \\\\\n",
       "\t 2012              & Poroc Rose        &  9               \\\\\n",
       "\t 2012              & Poroc San Flower  &  9               \\\\\n",
       "\t 2012              & Sitio Lonas       &  1               \\\\\n",
       "\t 2012              & Visca             &  1               \\\\\n",
       "\t 2012              & Wangag            & 16               \\\\\n",
       "\t 2013              & Cabatoan          &  3               \\\\\n",
       "\t 2013              & Caridad Cemetery  &  2               \\\\\n",
       "\t 2013              & Caridad Proper    &  4               \\\\\n",
       "\t 2013              & Elementary School & 11               \\\\\n",
       "\t 2013              & Haina             &  6               \\\\\n",
       "\t 2013              & Hicgop South      &  4               \\\\\n",
       "\t 2013              & Palanas           & 43               \\\\\n",
       "\t 2013              & Poroc Rose        &  1               \\\\\n",
       "\t 2013              & Poroc San Flower  &  1               \\\\\n",
       "\t 2013              & Sitio Baybayon    & 20               \\\\\n",
       "\t 2013              & Tamakin Dacot     &  2               \\\\\n",
       "\t 2013              & Visca             &  6               \\\\\n",
       "\t 2013              & Wangag            & 29               \\\\\n",
       "\t 2014              & Cabatoan          &  6               \\\\\n",
       "\t 2014              & Haina             &  2               \\\\\n",
       "\t 2014              & Palanas           & 38               \\\\\n",
       "\t 2014              & Poroc Rose        &  1               \\\\\n",
       "\t 2014              & Poroc San Flower  &  1               \\\\\n",
       "\t 2014              & Sitio Baybayon    & 32               \\\\\n",
       "\t 2014              & Tamakin Dacot     &  3               \\\\\n",
       "\t 2014              & Visca             &  1               \\\\\n",
       "\t 2014              & Wangag            & 62               \\\\\n",
       "\t 2015              & Cabatoan          & 16               \\\\\n",
       "\t ... & ... & ...\\\\\n",
       "\t 2016              & San Agustin       &  4               \\\\\n",
       "\t 2016              & Sitio Baybayon    & 18               \\\\\n",
       "\t 2016              & Tamakin Dacot     &  3               \\\\\n",
       "\t 2016              & Wangag            & 18               \\\\\n",
       "\t 2017              & Caridad Cemetery  &  4               \\\\\n",
       "\t 2017              & Elementary School &  3               \\\\\n",
       "\t 2017              & Gabas             &  5               \\\\\n",
       "\t 2017              & Haina             &  9               \\\\\n",
       "\t 2017              & Hicgop South      &  3               \\\\\n",
       "\t 2017              & Palanas           & 19               \\\\\n",
       "\t 2017              & Poroc Rose        &  3               \\\\\n",
       "\t 2017              & Poroc San Flower  &  1               \\\\\n",
       "\t 2017              & San Agustin       &  5               \\\\\n",
       "\t 2017              & Sitio Baybayon    & 35               \\\\\n",
       "\t 2017              & Tamakin Dacot     & 10               \\\\\n",
       "\t 2017              & Visca             &  8               \\\\\n",
       "\t 2017              & Wangag            & 25               \\\\\n",
       "\t 2018              & Elementary School &  1               \\\\\n",
       "\t 2018              & Haina             &  5               \\\\\n",
       "\t 2018              & Hicgop South      &  1               \\\\\n",
       "\t 2018              & Palanas           &  8               \\\\\n",
       "\t 2018              & Sitio Baybayon    & 16               \\\\\n",
       "\t 2018              & Tamakin Dacot     &  2               \\\\\n",
       "\t 2018              & Wangag            &  8               \\\\\n",
       "\t 2012              & Magbangon         & 10               \\\\\n",
       "\t 2013              & Magbangon         & 18               \\\\\n",
       "\t 2014              & Magbangon         & 35               \\\\\n",
       "\t 2015              & Magbangon         & 10               \\\\\n",
       "\t 2016              & Magbangon         & 40               \\\\\n",
       "\t 2018              & Magbangon         &  4               \\\\\n",
       "\\end{tabular}\n"
      ],
      "text/markdown": [
       "\n",
       "| year | site | n_offs_gen |\n",
       "|---|---|---|\n",
       "| 2012              | Cabatoan          |  4                |\n",
       "| 2012              | Palanas           | 13                |\n",
       "| 2012              | Poroc Rose        |  9                |\n",
       "| 2012              | Poroc San Flower  |  9                |\n",
       "| 2012              | Sitio Lonas       |  1                |\n",
       "| 2012              | Visca             |  1                |\n",
       "| 2012              | Wangag            | 16                |\n",
       "| 2013              | Cabatoan          |  3                |\n",
       "| 2013              | Caridad Cemetery  |  2                |\n",
       "| 2013              | Caridad Proper    |  4                |\n",
       "| 2013              | Elementary School | 11                |\n",
       "| 2013              | Haina             |  6                |\n",
       "| 2013              | Hicgop South      |  4                |\n",
       "| 2013              | Palanas           | 43                |\n",
       "| 2013              | Poroc Rose        |  1                |\n",
       "| 2013              | Poroc San Flower  |  1                |\n",
       "| 2013              | Sitio Baybayon    | 20                |\n",
       "| 2013              | Tamakin Dacot     |  2                |\n",
       "| 2013              | Visca             |  6                |\n",
       "| 2013              | Wangag            | 29                |\n",
       "| 2014              | Cabatoan          |  6                |\n",
       "| 2014              | Haina             |  2                |\n",
       "| 2014              | Palanas           | 38                |\n",
       "| 2014              | Poroc Rose        |  1                |\n",
       "| 2014              | Poroc San Flower  |  1                |\n",
       "| 2014              | Sitio Baybayon    | 32                |\n",
       "| 2014              | Tamakin Dacot     |  3                |\n",
       "| 2014              | Visca             |  1                |\n",
       "| 2014              | Wangag            | 62                |\n",
       "| 2015              | Cabatoan          | 16                |\n",
       "| ... | ... | ... |\n",
       "| 2016              | San Agustin       |  4                |\n",
       "| 2016              | Sitio Baybayon    | 18                |\n",
       "| 2016              | Tamakin Dacot     |  3                |\n",
       "| 2016              | Wangag            | 18                |\n",
       "| 2017              | Caridad Cemetery  |  4                |\n",
       "| 2017              | Elementary School |  3                |\n",
       "| 2017              | Gabas             |  5                |\n",
       "| 2017              | Haina             |  9                |\n",
       "| 2017              | Hicgop South      |  3                |\n",
       "| 2017              | Palanas           | 19                |\n",
       "| 2017              | Poroc Rose        |  3                |\n",
       "| 2017              | Poroc San Flower  |  1                |\n",
       "| 2017              | San Agustin       |  5                |\n",
       "| 2017              | Sitio Baybayon    | 35                |\n",
       "| 2017              | Tamakin Dacot     | 10                |\n",
       "| 2017              | Visca             |  8                |\n",
       "| 2017              | Wangag            | 25                |\n",
       "| 2018              | Elementary School |  1                |\n",
       "| 2018              | Haina             |  5                |\n",
       "| 2018              | Hicgop South      |  1                |\n",
       "| 2018              | Palanas           |  8                |\n",
       "| 2018              | Sitio Baybayon    | 16                |\n",
       "| 2018              | Tamakin Dacot     |  2                |\n",
       "| 2018              | Wangag            |  8                |\n",
       "| 2012              | Magbangon         | 10                |\n",
       "| 2013              | Magbangon         | 18                |\n",
       "| 2014              | Magbangon         | 35                |\n",
       "| 2015              | Magbangon         | 10                |\n",
       "| 2016              | Magbangon         | 40                |\n",
       "| 2018              | Magbangon         |  4                |\n",
       "\n"
      ],
      "text/plain": [
       "    year site              n_offs_gen\n",
       "1   2012 Cabatoan           4        \n",
       "2   2012 Palanas           13        \n",
       "3   2012 Poroc Rose         9        \n",
       "4   2012 Poroc San Flower   9        \n",
       "5   2012 Sitio Lonas        1        \n",
       "6   2012 Visca              1        \n",
       "7   2012 Wangag            16        \n",
       "8   2013 Cabatoan           3        \n",
       "9   2013 Caridad Cemetery   2        \n",
       "10  2013 Caridad Proper     4        \n",
       "11  2013 Elementary School 11        \n",
       "12  2013 Haina              6        \n",
       "13  2013 Hicgop South       4        \n",
       "14  2013 Palanas           43        \n",
       "15  2013 Poroc Rose         1        \n",
       "16  2013 Poroc San Flower   1        \n",
       "17  2013 Sitio Baybayon    20        \n",
       "18  2013 Tamakin Dacot      2        \n",
       "19  2013 Visca              6        \n",
       "20  2013 Wangag            29        \n",
       "21  2014 Cabatoan           6        \n",
       "22  2014 Haina              2        \n",
       "23  2014 Palanas           38        \n",
       "24  2014 Poroc Rose         1        \n",
       "25  2014 Poroc San Flower   1        \n",
       "26  2014 Sitio Baybayon    32        \n",
       "27  2014 Tamakin Dacot      3        \n",
       "28  2014 Visca              1        \n",
       "29  2014 Wangag            62        \n",
       "30  2015 Cabatoan          16        \n",
       "... ...  ...               ...       \n",
       "49  2016 San Agustin        4        \n",
       "50  2016 Sitio Baybayon    18        \n",
       "51  2016 Tamakin Dacot      3        \n",
       "52  2016 Wangag            18        \n",
       "53  2017 Caridad Cemetery   4        \n",
       "54  2017 Elementary School  3        \n",
       "55  2017 Gabas              5        \n",
       "56  2017 Haina              9        \n",
       "57  2017 Hicgop South       3        \n",
       "58  2017 Palanas           19        \n",
       "59  2017 Poroc Rose         3        \n",
       "60  2017 Poroc San Flower   1        \n",
       "61  2017 San Agustin        5        \n",
       "62  2017 Sitio Baybayon    35        \n",
       "63  2017 Tamakin Dacot     10        \n",
       "64  2017 Visca              8        \n",
       "65  2017 Wangag            25        \n",
       "66  2018 Elementary School  1        \n",
       "67  2018 Haina              5        \n",
       "68  2018 Hicgop South       1        \n",
       "69  2018 Palanas            8        \n",
       "70  2018 Sitio Baybayon    16        \n",
       "71  2018 Tamakin Dacot      2        \n",
       "72  2018 Wangag             8        \n",
       "73  2012 Magbangon         10        \n",
       "74  2013 Magbangon         18        \n",
       "75  2014 Magbangon         35        \n",
       "76  2015 Magbangon         10        \n",
       "77  2016 Magbangon         40        \n",
       "78  2018 Magbangon          4        "
      ]
     },
     "metadata": {},
     "output_type": "display_data"
    }
   ],
   "source": [
    "AnnualRecsSamp"
   ]
  },
  {
   "cell_type": "code",
   "execution_count": 104,
   "metadata": {
    "scrolled": true
   },
   "outputs": [
    {
     "data": {
      "text/html": [
       "TRUE"
      ],
      "text/latex": [
       "TRUE"
      ],
      "text/markdown": [
       "TRUE"
      ],
      "text/plain": [
       "[1] TRUE"
      ]
     },
     "metadata": {},
     "output_type": "display_data"
    }
   ],
   "source": [
    "#sample the simulation results according to how many offspring we sampled at that site in real life, each row is a column\n",
    "NGenOffs2012 <- AnnualRecsSamp %>%\n",
    "    filter(year==\"2012\")\n",
    "\n",
    "#make an empty dataframe\n",
    "SimulatedSampling2012 = Simulation2012[FALSE,]\n",
    "\n",
    "for(i in 1:nrow(NGenOffs2012)){ \n",
    "    \n",
    "    destination_eval <- as.character(NGenOffs2012$site[i])\n",
    "    \n",
    "    SimSampDestination <- Simulation2012 %>%\n",
    "                                filter(destination==destination_eval) %>%\n",
    "                                sample_n(as.numeric(NGenOffs2012$n_offs_gen[i]), replace=F)\n",
    "    SimulatedSampling2012 <- bind_rows(SimulatedSampling2012, SimSampDestination)\n",
    "}\n",
    "\n",
    "nrow(SimulatedSampling2012)==sum(NGenOffs2012$n_offs_gen) #should be TRUE"
   ]
  },
  {
   "cell_type": "code",
   "execution_count": 105,
   "metadata": {},
   "outputs": [
    {
     "data": {
      "text/html": [
       "<table>\n",
       "<thead><tr><th scope=col>date</th><th scope=col>source</th><th scope=col>destination</th><th scope=col>SourceSampled</th><th scope=col>DestSampled</th><th scope=col>SimMonth</th><th scope=col>SimDay</th><th scope=col>SimYear</th><th scope=col>YearSampled</th><th scope=col>SimMonsoon</th><th scope=col>DailyParticles</th><th scope=col>ParticlesReleasedDaily</th><th scope=col>dist_km</th><th scope=col>bearing</th><th scope=col>direction</th></tr></thead>\n",
       "<tbody>\n",
       "\t<tr><td>2011-01-24    </td><td>Cabatoan      </td><td>Cabatoan      </td><td>yes           </td><td>yes           </td><td> 1            </td><td> 1            </td><td>2011          </td><td>2011          </td><td>NEM           </td><td>76            </td><td> 992          </td><td> 0.0000000    </td><td>-180.00000    </td><td>-10.0000      </td></tr>\n",
       "\t<tr><td>2011-04-11    </td><td>Wangag        </td><td>Cabatoan      </td><td>yes           </td><td>yes           </td><td> 4            </td><td> 4            </td><td>2011          </td><td>2011          </td><td>NEM           </td><td>21            </td><td> 992          </td><td> 2.1342025    </td><td> 142.67899    </td><td>142.6790      </td></tr>\n",
       "\t<tr><td>2011-02-20    </td><td>SF1           </td><td>Cabatoan      </td><td>no            </td><td>yes           </td><td> 2            </td><td> 2            </td><td>2011          </td><td>2011          </td><td>NEM           </td><td>27            </td><td>1984          </td><td> 1.4672081    </td><td> 123.43161    </td><td>123.4316      </td></tr>\n",
       "\t<tr><td>2010-12-08    </td><td>SF1           </td><td>Cabatoan      </td><td>no            </td><td>yes           </td><td>12            </td><td>12            </td><td>2010          </td><td>2011          </td><td>NEM           </td><td>38            </td><td>1984          </td><td> 1.4672081    </td><td> 123.43161    </td><td>123.4316      </td></tr>\n",
       "\t<tr><td>2011-02-28    </td><td>Sitio Baybayon</td><td>Palanas       </td><td>yes           </td><td>yes           </td><td> 2            </td><td> 2            </td><td>2011          </td><td>2011          </td><td>NEM           </td><td>16            </td><td>1984          </td><td>27.2919430    </td><td> -14.97711    </td><td>345.0229      </td></tr>\n",
       "\t<tr><td>2011-03-28    </td><td>Wangag        </td><td>Palanas       </td><td>yes           </td><td>yes           </td><td> 3            </td><td> 3            </td><td>2011          </td><td>2011          </td><td>NEM           </td><td>37            </td><td> 992          </td><td> 0.5409707    </td><td> -52.10843    </td><td>307.8916      </td></tr>\n",
       "</tbody>\n",
       "</table>\n"
      ],
      "text/latex": [
       "\\begin{tabular}{r|lllllllllllllll}\n",
       " date & source & destination & SourceSampled & DestSampled & SimMonth & SimDay & SimYear & YearSampled & SimMonsoon & DailyParticles & ParticlesReleasedDaily & dist\\_km & bearing & direction\\\\\n",
       "\\hline\n",
       "\t 2011-01-24     & Cabatoan       & Cabatoan       & yes            & yes            &  1             &  1             & 2011           & 2011           & NEM            & 76             &  992           &  0.0000000     & -180.00000     & -10.0000      \\\\\n",
       "\t 2011-04-11     & Wangag         & Cabatoan       & yes            & yes            &  4             &  4             & 2011           & 2011           & NEM            & 21             &  992           &  2.1342025     &  142.67899     & 142.6790      \\\\\n",
       "\t 2011-02-20     & SF1            & Cabatoan       & no             & yes            &  2             &  2             & 2011           & 2011           & NEM            & 27             & 1984           &  1.4672081     &  123.43161     & 123.4316      \\\\\n",
       "\t 2010-12-08     & SF1            & Cabatoan       & no             & yes            & 12             & 12             & 2010           & 2011           & NEM            & 38             & 1984           &  1.4672081     &  123.43161     & 123.4316      \\\\\n",
       "\t 2011-02-28     & Sitio Baybayon & Palanas        & yes            & yes            &  2             &  2             & 2011           & 2011           & NEM            & 16             & 1984           & 27.2919430     &  -14.97711     & 345.0229      \\\\\n",
       "\t 2011-03-28     & Wangag         & Palanas        & yes            & yes            &  3             &  3             & 2011           & 2011           & NEM            & 37             &  992           &  0.5409707     &  -52.10843     & 307.8916      \\\\\n",
       "\\end{tabular}\n"
      ],
      "text/markdown": [
       "\n",
       "| date | source | destination | SourceSampled | DestSampled | SimMonth | SimDay | SimYear | YearSampled | SimMonsoon | DailyParticles | ParticlesReleasedDaily | dist_km | bearing | direction |\n",
       "|---|---|---|---|---|---|---|---|---|---|---|---|---|---|---|\n",
       "| 2011-01-24     | Cabatoan       | Cabatoan       | yes            | yes            |  1             |  1             | 2011           | 2011           | NEM            | 76             |  992           |  0.0000000     | -180.00000     | -10.0000       |\n",
       "| 2011-04-11     | Wangag         | Cabatoan       | yes            | yes            |  4             |  4             | 2011           | 2011           | NEM            | 21             |  992           |  2.1342025     |  142.67899     | 142.6790       |\n",
       "| 2011-02-20     | SF1            | Cabatoan       | no             | yes            |  2             |  2             | 2011           | 2011           | NEM            | 27             | 1984           |  1.4672081     |  123.43161     | 123.4316       |\n",
       "| 2010-12-08     | SF1            | Cabatoan       | no             | yes            | 12             | 12             | 2010           | 2011           | NEM            | 38             | 1984           |  1.4672081     |  123.43161     | 123.4316       |\n",
       "| 2011-02-28     | Sitio Baybayon | Palanas        | yes            | yes            |  2             |  2             | 2011           | 2011           | NEM            | 16             | 1984           | 27.2919430     |  -14.97711     | 345.0229       |\n",
       "| 2011-03-28     | Wangag         | Palanas        | yes            | yes            |  3             |  3             | 2011           | 2011           | NEM            | 37             |  992           |  0.5409707     |  -52.10843     | 307.8916       |\n",
       "\n"
      ],
      "text/plain": [
       "  date       source         destination SourceSampled DestSampled SimMonth\n",
       "1 2011-01-24 Cabatoan       Cabatoan    yes           yes          1      \n",
       "2 2011-04-11 Wangag         Cabatoan    yes           yes          4      \n",
       "3 2011-02-20 SF1            Cabatoan    no            yes          2      \n",
       "4 2010-12-08 SF1            Cabatoan    no            yes         12      \n",
       "5 2011-02-28 Sitio Baybayon Palanas     yes           yes          2      \n",
       "6 2011-03-28 Wangag         Palanas     yes           yes          3      \n",
       "  SimDay SimYear YearSampled SimMonsoon DailyParticles ParticlesReleasedDaily\n",
       "1  1     2011    2011        NEM        76              992                  \n",
       "2  4     2011    2011        NEM        21              992                  \n",
       "3  2     2011    2011        NEM        27             1984                  \n",
       "4 12     2010    2011        NEM        38             1984                  \n",
       "5  2     2011    2011        NEM        16             1984                  \n",
       "6  3     2011    2011        NEM        37              992                  \n",
       "  dist_km    bearing    direction\n",
       "1  0.0000000 -180.00000 -10.0000 \n",
       "2  2.1342025  142.67899 142.6790 \n",
       "3  1.4672081  123.43161 123.4316 \n",
       "4  1.4672081  123.43161 123.4316 \n",
       "5 27.2919430  -14.97711 345.0229 \n",
       "6  0.5409707  -52.10843 307.8916 "
      ]
     },
     "metadata": {},
     "output_type": "display_data"
    }
   ],
   "source": [
    "head(SimulatedSampling2012)"
   ]
  },
  {
   "cell_type": "code",
   "execution_count": 106,
   "metadata": {},
   "outputs": [
    {
     "name": "stderr",
     "output_type": "stream",
     "text": [
      "`summarise()` regrouping output by 'destination' (override with `.groups` argument)\n",
      "Warning message:\n",
      "“Setting row names on a tibble is deprecated.”"
     ]
    }
   ],
   "source": [
    "#sources are rows, columns are destinations, checked this? check again\n",
    "#also check if it matters that these are in alphabetical order YES it should be alphabetical\n",
    "SimDisp2012Mat <- SimulatedSampling2012 %>%\n",
    "    group_by(destination, source) %>%\n",
    "    summarise(NumRec=n()) %>%\n",
    "    spread(destination, NumRec)\n",
    "#\n",
    "rownames(SimDisp2012Mat) <- SimDisp2012Mat$source\n",
    "SimDisp2012Mat$source <- NULL"
   ]
  },
  {
   "cell_type": "code",
   "execution_count": 109,
   "metadata": {},
   "outputs": [
    {
     "data": {
      "text/html": [
       "63"
      ],
      "text/latex": [
       "63"
      ],
      "text/markdown": [
       "63"
      ],
      "text/plain": [
       "[1] 63"
      ]
     },
     "metadata": {},
     "output_type": "display_data"
    }
   ],
   "source": [
    "sum(SimDisp2012Mat, na.rm=T)"
   ]
  },
  {
   "cell_type": "code",
   "execution_count": null,
   "metadata": {},
   "outputs": [],
   "source": [
    "#add in unassigned \n",
    "RowtoAddInt <- SimDisp2013RecSamp %>%\n",
    "    ungroup() %>%\n",
    "    arrange(destination) %>%\n",
    "    dplyr::select(TotalUnassigned)\n",
    "\n",
    "RowtoAdd <- as.data.frame(t(RowtoAddInt))\n",
    "colnames(RowtoAdd) <- colnames(SimDisp2013Mat)\n",
    "\n",
    "FullSimDisp2013 <- rbind(SimDisp2013Mat, RowtoAdd)\n",
    "rownames(FullSimDisp2013) <- NULL"
   ]
  },
  {
   "cell_type": "code",
   "execution_count": null,
   "metadata": {},
   "outputs": [],
   "source": [
    "FullSimDisp2012"
   ]
  },
  {
   "cell_type": "code",
   "execution_count": null,
   "metadata": {},
   "outputs": [],
   "source": [
    "SimDisp2012Mat"
   ]
  },
  {
   "cell_type": "code",
   "execution_count": null,
   "metadata": {},
   "outputs": [],
   "source": [
    "#turn into parentage matrix\n",
    "\n",
    "#SimDisp2012Mat <- SimDisp2012 %>%\n",
    "#    ungroup() %>%\n",
    "#    spread(source, destination, SumParticles)\n",
    "    \n",
    "\n",
    "#make the rest of the kernel input files\n",
    "Assignments <- FullSimDisp2013\n",
    "Adult_sample_proportions <- matrix(nrow=18, ncol=1, 1) #we sampled all sites completely because we are working with simulated data\n",
    "Sampled_reefs <- as.matrix(read.csv(\"~/parentage/kernel_fitting/1340_loci/input/site_index_all.csv\", header=FALSE))[,18] #sampled all reefs in the distance matrix/area/centroid files\n",
    "Distances <- as.matrix(read.csv(\"~/parentage/kernel_fitting/1340_loci/input/distance_matrix_unsurveyed.csv\", header=FALSE))[-2, -2]  #drop a magbangon row  \n",
    "Reef_sizes <- as.matrix(read.csv(\"~/parentage/kernel_fitting/894_loci/area_unsurveyed.csv\", header=FALSE))[]\n",
    "Centroids <- as.matrix(read.csv(\"~/parentage/kernel_fitting/894_loci/centroids_unsurveyed.csv\", header=T))\n",
    "\n"
   ]
  },
  {
   "cell_type": "code",
   "execution_count": null,
   "metadata": {},
   "outputs": [],
   "source": [
    "a=-10\n",
    "b=10\n",
    "\n",
    "\n",
    "x <- list(Distances=Distances, Assignments=Assignments, Sampled_reefs=Sampled_reefs, Reef_sizes=Reef_sizes, Adult_sample_proportions=Adult_sample_proportions) #put inputs into a list because that's the bbmle format\n",
    "\n",
    "Sim2013Fit <- suppressWarnings(mle2(LL_kt_bbmle, start=list(k=-3, theta=1), lower=c(-10, 0.15), upper=c(10, 8), method=\"L-BFGS-B\", data=x, control=list(maxit=500)))\n",
    "Sim2013Fit\n",
    "\n",
    "#doen't look right. Maybe fix theta, optimize k"
   ]
  },
  {
   "cell_type": "code",
   "execution_count": null,
   "metadata": {},
   "outputs": [],
   "source": []
  },
  {
   "cell_type": "code",
   "execution_count": null,
   "metadata": {},
   "outputs": [],
   "source": []
  },
  {
   "cell_type": "code",
   "execution_count": null,
   "metadata": {},
   "outputs": [],
   "source": []
  },
  {
   "cell_type": "code",
   "execution_count": null,
   "metadata": {},
   "outputs": [],
   "source": [
    "#monsoon season prep\n",
    "NEM_months <- c(11, 12, 1, 2, 3, 4)\n",
    "SWM_months <- c(5, 6, 7, 8, 9, 10)\n",
    "\n",
    "NEM <- conn_mat_full4 %>%\n",
    "    filter(month %in% NEM_months) %>%\n",
    "    group_by(source, destination) %>%\n",
    "    summarise(conn=max(fraction))\n",
    "\n",
    "SWM <- conn_mat_full4 %>%\n",
    "    filter(month %in% SWM_months) %>%\n",
    "    group_by(source, destination) %>%\n",
    "    summarise(conn=max(fraction))"
   ]
  },
  {
   "cell_type": "code",
   "execution_count": null,
   "metadata": {},
   "outputs": [],
   "source": []
  },
  {
   "cell_type": "code",
   "execution_count": null,
   "metadata": {},
   "outputs": [],
   "source": []
  },
  {
   "cell_type": "code",
   "execution_count": null,
   "metadata": {},
   "outputs": [],
   "source": []
  },
  {
   "cell_type": "code",
   "execution_count": null,
   "metadata": {},
   "outputs": [],
   "source": []
  },
  {
   "cell_type": "code",
   "execution_count": null,
   "metadata": {},
   "outputs": [],
   "source": []
  },
  {
   "cell_type": "code",
   "execution_count": null,
   "metadata": {},
   "outputs": [],
   "source": []
  },
  {
   "cell_type": "code",
   "execution_count": null,
   "metadata": {},
   "outputs": [],
   "source": []
  },
  {
   "cell_type": "code",
   "execution_count": null,
   "metadata": {},
   "outputs": [],
   "source": []
  },
  {
   "cell_type": "code",
   "execution_count": null,
   "metadata": {},
   "outputs": [],
   "source": []
  },
  {
   "cell_type": "code",
   "execution_count": null,
   "metadata": {},
   "outputs": [],
   "source": []
  },
  {
   "cell_type": "code",
   "execution_count": null,
   "metadata": {},
   "outputs": [],
   "source": []
  },
  {
   "cell_type": "markdown",
   "metadata": {},
   "source": [
    "__CELL BELOW IS WORKING FOR GLM OF OBSERVED DATA BY SIMULATED DATA__"
   ]
  },
  {
   "cell_type": "code",
   "execution_count": null,
   "metadata": {},
   "outputs": [],
   "source": [
    "head(GenSimConn)"
   ]
  },
  {
   "cell_type": "code",
   "execution_count": null,
   "metadata": {},
   "outputs": [],
   "source": [
    "sum(is.na(GenSimConn)==T) #should be 0"
   ]
  },
  {
   "cell_type": "markdown",
   "metadata": {},
   "source": [
    "__run GLM observed genetic dispersal predicted by simulations__"
   ]
  },
  {
   "cell_type": "code",
   "execution_count": null,
   "metadata": {},
   "outputs": [],
   "source": [
    "mean(GenSimConn$obs_disp) #should be 0.024\n",
    "var(GenSimConn$obs_disp) #should be 0.054\n",
    "#overdispersion?\n",
    "#no, because residual deviance of the model is not greater than the df\n",
    "#Residual deviance:  38.221  on 948  degrees of freedom"
   ]
  },
  {
   "cell_type": "code",
   "execution_count": null,
   "metadata": {},
   "outputs": [],
   "source": [
    "#plan:\n",
    "#fit 3 successive log-linear models starting with main efects only(fit1), main effects plus all 2-way interactions (fit2), and added in all 3 way interactions (fit3)\n"
   ]
  },
  {
   "cell_type": "code",
   "execution_count": null,
   "metadata": {},
   "outputs": [],
   "source": [
    "NullMod <- glm(obs_disp ~ dist_km , data=GenSimConn, family=\"poisson\")\n",
    "summary(NullMod)"
   ]
  },
  {
   "cell_type": "code",
   "execution_count": null,
   "metadata": {},
   "outputs": [],
   "source": [
    "ObsModExpYearFit1 <- glm(obs_disp ~ AnnRecPart + YearSampled + direction + dist_km +SourcePropSamp +DestPropSamp, data=GenSimConn, family=\"poisson\")\n"
   ]
  },
  {
   "cell_type": "code",
   "execution_count": null,
   "metadata": {
    "scrolled": false
   },
   "outputs": [],
   "source": [
    "summary(ObsModExpYearFit1)"
   ]
  },
  {
   "cell_type": "code",
   "execution_count": null,
   "metadata": {
    "scrolled": false
   },
   "outputs": [],
   "source": [
    "#only main effects, first find worthwhile predictors with AIC\n",
    "#the intercept is very significant but I think that just means 0s are more common in the data. totally true!\n",
    "\n",
    "ObsModExpYearFit1 <- glm(obs_disp ~ AnnRecPart + YearSampled + direction + dist_km +SourcePropSamp +DestPropSamp, data=GenSimConn, family=\"poisson\")\n",
    "MainEff_AnnRecPart <- update(ObsModExpYearFit1, . ~ . -AnnRecPart)\n",
    "MainEff_YearSampled <- update(ObsModExpYearFit1, . ~ . -YearSampled)\n",
    "MainEff_direction <- update(ObsModExpYearFit1, . ~ . -direction)\n",
    "MainEff_dist_km <- update(ObsModExpYearFit1, . ~ . -dist_km)\n",
    "MainEff_SourcePropSamp <- update(ObsModExpYearFit1, . ~ . -SourcePropSamp)\n",
    "MainEff_DestPropSamp <- update(ObsModExpYearFit1, . ~ . -DestPropSamp)\n",
    "#drop the 3 terms AIC doesn't support? maybe not though, because when there's an interaction that's the best model\n",
    "MainEff_ARP_DPrp_Dist <- glm(obs_disp ~ YearSampled + direction +SourcePropSamp, data=GenSimConn, family=\"poisson\")\n",
    "#add the interaction between year and simulations\n",
    "ObsModExpYearFit2IntYear <- glm(obs_disp ~ AnnRecPart*YearSampled + direction+SourcePropSamp, data=GenSimConn, family=\"poisson\")\n",
    "ObsModExpYearFit2IntDir <- glm(obs_disp ~ AnnRecPart*YearSampled + direction+SourcePropSamp, data=GenSimConn, family=\"poisson\")\n",
    "ObsModExpYearFit2IntDirNoROMS <- glm(obs_disp ~ AnnRecPart+YearSampled*direction+SourcePropSamp, data=GenSimConn, family=\"poisson\")\n",
    "ObsModExpYearFit3Int <- glm(obs_disp ~ AnnRecPart*YearSampled*direction+SourcePropSamp, data=GenSimConn, family=\"poisson\")\n",
    "\n",
    "FullModNoROMSDestPropSamp <- glm(obs_disp ~  YearSampled + direction + dist_km +SourcePropSamp , data=GenSimConn, family=\"poisson\")\n",
    "FullModNoROMSDestPropSampInt <- glm(obs_disp ~  YearSampled* direction + dist_km +SourcePropSamp , data=GenSimConn, family=\"poisson\")\n",
    "\n",
    "MainEffAIC <- as.data.frame(AIC(NullMod, FullModNoROMSDestPropSampInt, FullModNoROMSDestPropSamp, ObsModExpYearFit1, MainEff_AnnRecPart, MainEff_YearSampled, MainEff_direction, MainEff_dist_km, MainEff_SourcePropSamp, MainEff_DestPropSamp, ObsModExpYearFit2IntDir, ObsModExpYearFit2IntYear, ObsModExpYearFit2IntDirNoROMS, ObsModExpYearFit3Int))\n",
    "MainEffAIC$model <- row.names(MainEffAIC)\n",
    "MainEffAIC <- MainEffAIC %>% arrange(AIC)\n",
    "MainEffAIC\n",
    "#/write.csv(MainEffAIC, file=\"~/oceanography/script_output/GLM/GLMObsDispAIC.csv\",row.names=F,  quote=F)\n"
   ]
  },
  {
   "cell_type": "code",
   "execution_count": null,
   "metadata": {},
   "outputs": [],
   "source": [
    "FullModNoROMSDestPropSampInt <- glm(obs_disp ~  YearSampled* direction+direction+YearSampled + dist_km +SourcePropSamp , data=GenSimConn, family=\"poisson\")\n",
    "\n",
    "summary(FullModNoROMSDestPropSampInt)"
   ]
  },
  {
   "cell_type": "code",
   "execution_count": null,
   "metadata": {},
   "outputs": [],
   "source": [
    "AIC(test, MainEff_AnnRecPart,MainEff_DestPropSamp )"
   ]
  },
  {
   "cell_type": "code",
   "execution_count": null,
   "metadata": {
    "scrolled": false
   },
   "outputs": [],
   "source": [
    "summary(ObsModExpYearFit2Int ) #judging by the significant intercept (which should be AnnRecPart:Year2012?) when there's more particles expected from the ROMS model, there's actually less in the observed data.\n",
    "ObsModExpYearFit2Int_Sum <- tidy(ObsModExpYearFit2Int)\n",
    "#write.csv(ObsModExpYearFit2Int_Sum, file=\"~/oceanography/script_output/GLM/YearDispIntBestModSum.csv\",row.names=F,  quote=F)\n"
   ]
  },
  {
   "cell_type": "code",
   "execution_count": null,
   "metadata": {},
   "outputs": [],
   "source": [
    "ROMSFull <- glm(AnnRecPart ~ as.factor(SimYear) + direction + dist_km + source + destination, data=GenSimConn, family=\"poisson\")\n",
    "#MainEff_AnnRecPart <- update(ObsModExpYearFit1, . ~ . -AnnRecPart)"
   ]
  },
  {
   "cell_type": "code",
   "execution_count": null,
   "metadata": {
    "scrolled": true
   },
   "outputs": [],
   "source": [
    "summary(ROMSFull)"
   ]
  },
  {
   "cell_type": "code",
   "execution_count": null,
   "metadata": {},
   "outputs": [],
   "source": [
    "summary(SimConnDFDir$NormSourceMonsoon)"
   ]
  },
  {
   "cell_type": "code",
   "execution_count": null,
   "metadata": {},
   "outputs": [],
   "source": []
  },
  {
   "cell_type": "code",
   "execution_count": null,
   "metadata": {},
   "outputs": [],
   "source": [
    "#what are the routes that create these peaks in direction annually?\n",
    "\n",
    "#are there similar patterns seasonally?\n",
    "\n",
    "#plot the connectivity matrix with of the roms model"
   ]
  },
  {
   "cell_type": "code",
   "execution_count": null,
   "metadata": {
    "scrolled": true
   },
   "outputs": [],
   "source": [
    "head(SimConnDFMeta %>% dplyr::select(AnnRecPart, direction, SimYear, source, destination))\n",
    "SimConnDFMeta %>%"
   ]
  },
  {
   "cell_type": "code",
   "execution_count": null,
   "metadata": {},
   "outputs": [],
   "source": [
    "hist(SimConnDFMeta$direction, breaks=100)"
   ]
  },
  {
   "cell_type": "code",
   "execution_count": null,
   "metadata": {},
   "outputs": [],
   "source": [
    "summary(SimConnDFMeta$direction)\n",
    "(SimConnDFMeta$direction)"
   ]
  },
  {
   "cell_type": "code",
   "execution_count": null,
   "metadata": {},
   "outputs": [],
   "source": []
  },
  {
   "cell_type": "code",
   "execution_count": null,
   "metadata": {},
   "outputs": [],
   "source": []
  },
  {
   "cell_type": "code",
   "execution_count": null,
   "metadata": {},
   "outputs": [],
   "source": [
    "#this isn't significant, which means the residual difference is small enough here to say the model fits reasonably well\n",
    "with(test_mod, cbind(res.deviance = deviance, df = df.residual,\n",
    "  p = pchisq(deviance, df.residual, lower.tail=FALSE)))\n"
   ]
  },
  {
   "cell_type": "code",
   "execution_count": null,
   "metadata": {},
   "outputs": [],
   "source": [
    "#how much devience is explained here?"
   ]
  },
  {
   "cell_type": "code",
   "execution_count": null,
   "metadata": {},
   "outputs": [],
   "source": [
    "plot(obs_disp ~ ExpDisp, data=SimPlusGenWithDist)"
   ]
  },
  {
   "cell_type": "code",
   "execution_count": null,
   "metadata": {
    "scrolled": false
   },
   "outputs": [],
   "source": [
    "#plot(test_mod_int)"
   ]
  },
  {
   "cell_type": "code",
   "execution_count": null,
   "metadata": {},
   "outputs": [],
   "source": [
    "#plot predicted model\n",
    "range(SimPlusGenWithDist$ExpDisp)"
   ]
  },
  {
   "cell_type": "code",
   "execution_count": null,
   "metadata": {},
   "outputs": [],
   "source": [
    "exp_disp_range <- seq(0, 66114, 1)"
   ]
  },
  {
   "cell_type": "code",
   "execution_count": null,
   "metadata": {},
   "outputs": [],
   "source": [
    "obs_disp_pred <- predict(test_mod_int,type=\"response\")"
   ]
  },
  {
   "cell_type": "code",
   "execution_count": null,
   "metadata": {},
   "outputs": [],
   "source": [
    "plot( SimPlusGenWithDist$ExpDisp, SimPlusGenWithDist$obs_disp, pch = 16)#, xlab = \"WEIGHT (g)\", ylab = \"VS\")\n",
    "\n",
    "lines(obs_disp_pred)"
   ]
  },
  {
   "cell_type": "code",
   "execution_count": null,
   "metadata": {},
   "outputs": [],
   "source": []
  }
 ],
 "metadata": {
  "kernelspec": {
   "display_name": "R",
   "language": "R",
   "name": "ir"
  },
  "language_info": {
   "codemirror_mode": "r",
   "file_extension": ".r",
   "mimetype": "text/x-r-source",
   "name": "R",
   "pygments_lexer": "r",
   "version": "3.6.1"
  }
 },
 "nbformat": 4,
 "nbformat_minor": 4
}
