{
 "cells": [
  {
   "cell_type": "code",
   "execution_count": 1,
   "metadata": {},
   "outputs": [
    {
     "name": "stderr",
     "output_type": "stream",
     "text": [
      "Warning message:\n",
      "“package ‘R.utils’ was built under R version 3.6.3”Warning message:\n",
      "“package ‘R.oo’ was built under R version 3.6.3”Warning message:\n",
      "“package ‘R.methodsS3’ was built under R version 3.6.3”"
     ]
    }
   ],
   "source": [
    "Packages <- c(\"dplyr\",  \"nleqslv\", \"broom\",\"cubature\", \"geosphere\", \"data.table\",  \"ggplot2\", \"bbmle\", \"stringr\",  \"lubridate\", \"RColorBrewer\")\n",
    "\n",
    "invisible(suppressPackageStartupMessages(lapply(Packages, library, character.only = TRUE)))\n",
    "\n",
    "setwd('/local/home/katrinac/oceanography')\n",
    "\"%!in%\" <- function(x,table) match(x,table, nomatch = 0) == 0\n",
    "source(\"~/parentage/kernel_fitting/1340_loci/functions/ll_kt_both_bbmle.R\")\n",
    "source(\"~/oceanography/scripts/PredictedProportions.R\")\n",
    "\n",
    "#read in the kernel fitting summary\n",
    "kernels <- fread(file=\"~/parentage/kernel_fitting/1340_loci/final_results/tables/kernel_fitting_summary.csv\")\n",
    "kernel2012_14 <- fread(file=\"~/oceanography/empirical_data/genetics/GenKernelsForROMSComp2012-14.csv\")\n",
    "\n",
    "#read in the centroids adjusted for the simulation, so the Magbangons combined \n",
    "#centroids <- fread(file=\"~/oceanography/script_output/SurveyData/SimulationCentroids.csv\")\n",
    "centroids <- fread(file=\"~/oceanography/empirical_data/site_centroids_SimTest.csv\")\n",
    "setorder(centroids, site)\n",
    "#read in the table with number of recruits sampled at each site for each year\n",
    "AnnualRecsSamp <- fread(file=\"~/oceanography/script_output/SurveyData/AnnualRecruitsSampled.csv\")\n",
    "#read in the table of the proportion of anemones sampled at each site for each year\n",
    "PropSamp <- fread(file=\"~/oceanography/script_output/SurveyData/ProportionHabitatSampled.csv\")\n",
    "\n",
    "#read in the ROMS simulation connectivity table with metadata, not yet subsetted (*but check this)\n",
    "date_join <- fread(file=\"~/oceanography/script_output/ROMSDataTables/LongFormConnWithProbs.csv\")\n",
    "#make vectors defining sites we didn't sample, but that are in the model, and the sandflats specifically \n",
    "UnsampledSites <- c(\"SF1\", \"SF2\", \"SF3\", \"SF4\", \"SF5\", \"SF6\", \"Pangasugan\", \"Other\", \"CAI\") \n",
    "SandFlats <- c(\"SF1\", \"SF2\", \"SF3\", \"SF4\", \"SF5\", \"SF6\") \n",
    "\n",
    "#make the constant inputs for the kernel fitting function\n",
    "#distance matrix using the centroids with combined Magbangon\n",
    "### List of source locations\n",
    "sites_source <- centroids\n",
    "\n",
    "### List of destination locations\n",
    "sites_dest <- centroids\n",
    "\n",
    "dist_mat_m <- distm(sites_source[,c('lon','lat')], sites_source[,c('lon','lat')], fun=distVincentyEllipsoid)\n",
    "Distances <- dist_mat_m*10^-3\n",
    "#read in the reef areas for the kernel fitting\n",
    "Area <- fread(\"~/oceanography/empirical_data/site_area_header_nonsurveyed_simulation_kernels_test.csv\") %>%\n",
    "    arrange(site) %>%\n",
    "    filter(site %!in% c(\"near_north_full1\", \"near_north_full2\", \"near_north_full3\", \"near_south_full1\", \"near_south_full2\", \"near_south_full3\")) %>%\n",
    "    mutate(kmsq=msq*10^-6)# %>%\n",
    "    #select(kmsq) #need to uncomment for functions to work\n",
    "setorder(Area, site)\n",
    "Reef_sizes <- as.matrix(Area$kmsq)\n",
    "\n",
    "#make a table with the survey information for each site (how many fish sampled, prop anems sampled, total number of anems at site)\n",
    "SurveyData <- AnnualRecsSamp[PropSamp, on=.(year=end_year, site)][#join the sampling tables together\n",
    "    is.na(n_offs_gen), n_offs_gen := 0][#change NA's to 0\n",
    "    ,-\"time_frame\"]#drop the time_frame column, we can key with end_year\n",
    "#setkey(SurveyData, site)\n",
    "#check all sites are represented in centroids and area (and indirectly distances, which comes from centroids)\n",
    "#Area[site %!in% centroids$site] #should be nothing\n",
    "\n",
    "#genetic data to make predicted proportions\n",
    "Assignments2012_4 <- as.matrix(read.csv(\"~/parentage/kernel_fitting/1340_loci/input/parentage_matrix_2012-14ForROMSComp.csv\", header=FALSE))\n",
    "Adult_sample_proportions2012_4 <- as.matrix(read.csv(\"~/parentage/kernel_fitting/1340_loci/input/prop_samp12-14.csv\", header=FALSE))\n",
    "Sampled_reefs2012_4 <- as.matrix(read.csv(\"~/parentage/kernel_fitting/1340_loci/input/site_index12-14.csv\", header=FALSE))\n",
    "\n",
    "Distances_gen <- as.matrix(read.csv(\"~/parentage/kernel_fitting/1340_loci/input/distance_matrix_unsurveyed.csv\", header=FALSE))\n",
    "Reef_sizes_gen <- as.matrix(read.csv(\"~/parentage/kernel_fitting/894_loci/area_unsurveyed.csv\", header=FALSE))\n",
    "Centroids_gen <- as.matrix(read.csv(\"~/parentage/kernel_fitting/894_loci/centroids_unsurveyed.csv\", header=T))\n",
    "\n",
    "Assignments2012 <- as.matrix(read.csv(\"~/parentage/kernel_fitting/1340_loci/input/parentage_matrix12_corrected.csv\", header=FALSE))\n",
    "Adult_sample_proportions2012 <- as.matrix(read.csv(\"~/parentage/kernel_fitting/1340_loci/input/prop_samp12.csv\", header=FALSE))\n",
    "Sampled_reefs2012 <- as.matrix(read.csv(\"~/parentage/kernel_fitting/1340_loci/input/site_index12.csv\", header=FALSE))\n",
    "\n",
    "Assignments2013 <- as.matrix(read.csv(\"~/parentage/kernel_fitting/1340_loci/input/parentage_matrix13_corrected.csv\", header=FALSE))\n",
    "Adult_sample_proportions2013 <- as.matrix(read.csv(\"~/parentage/kernel_fitting/1340_loci/input/prop_samp13.csv\", header=FALSE))\n",
    "Sampled_reefs2013 <- as.matrix(read.csv(\"~/parentage/kernel_fitting/1340_loci/input/site_index13.csv\", header=FALSE))\n",
    "\n",
    "Assignments2014 <- as.matrix(read.csv(\"~/parentage/kernel_fitting/1340_loci/input/parentage_matrix14_corrected.csv\", header=FALSE))\n",
    "Adult_sample_proportions2014 <- as.matrix(read.csv(\"~/parentage/kernel_fitting/1340_loci/input/prop_samp14.csv\", header=FALSE))\n",
    "Sampled_reefs2014 <- as.matrix(read.csv(\"~/parentage/kernel_fitting/1340_loci/input/site_index14.csv\", header=FALSE))\n"
   ]
  },
  {
   "cell_type": "code",
   "execution_count": 35,
   "metadata": {},
   "outputs": [],
   "source": [
    "SurveyData <- AnnualRecsSamp[PropSamp, on=.(year=end_year, site)][#join the sampling tables together\n",
    "    is.na(n_offs_gen), n_offs_gen := 0][#change NA's to 0\n",
    "    ,-\"time_frame\"]#drop the time_fram"
   ]
  },
  {
   "cell_type": "markdown",
   "metadata": {},
   "source": [
    "__Loop through sampling different proportions of other and CAI source particles and compare the unassigned proportions of total sample particles to the genetic observations from survey data__"
   ]
  },
  {
   "cell_type": "code",
   "execution_count": 48,
   "metadata": {},
   "outputs": [
    {
     "data": {
      "text/html": [
       "<table>\n",
       "<thead><tr><th scope=col>Year</th><th scope=col>NumParentageMatches</th><th scope=col>NumOffsSampled</th><th scope=col>PropAssigned</th></tr></thead>\n",
       "<tbody>\n",
       "\t<tr><td>2012      </td><td> 3        </td><td> 63       </td><td>0.04760000</td></tr>\n",
       "\t<tr><td>2013      </td><td>21        </td><td>150       </td><td>0.14000000</td></tr>\n",
       "\t<tr><td>2014      </td><td>13        </td><td>181       </td><td>0.07180000</td></tr>\n",
       "\t<tr><td>2012-4    </td><td>37        </td><td>394       </td><td>0.04761905</td></tr>\n",
       "</tbody>\n",
       "</table>\n"
      ],
      "text/latex": [
       "\\begin{tabular}{r|llll}\n",
       " Year & NumParentageMatches & NumOffsSampled & PropAssigned\\\\\n",
       "\\hline\n",
       "\t 2012       &  3         &  63        & 0.04760000\\\\\n",
       "\t 2013       & 21         & 150        & 0.14000000\\\\\n",
       "\t 2014       & 13         & 181        & 0.07180000\\\\\n",
       "\t 2012-4     & 37         & 394        & 0.04761905\\\\\n",
       "\\end{tabular}\n"
      ],
      "text/markdown": [
       "\n",
       "| Year | NumParentageMatches | NumOffsSampled | PropAssigned |\n",
       "|---|---|---|---|\n",
       "| 2012       |  3         |  63        | 0.04760000 |\n",
       "| 2013       | 21         | 150        | 0.14000000 |\n",
       "| 2014       | 13         | 181        | 0.07180000 |\n",
       "| 2012-4     | 37         | 394        | 0.04761905 |\n",
       "\n"
      ],
      "text/plain": [
       "  Year   NumParentageMatches NumOffsSampled PropAssigned\n",
       "1 2012    3                   63            0.04760000  \n",
       "2 2013   21                  150            0.14000000  \n",
       "3 2014   13                  181            0.07180000  \n",
       "4 2012-4 37                  394            0.04761905  "
      ]
     },
     "metadata": {},
     "output_type": "display_data"
    }
   ],
   "source": [
    "PropAssignedTable <- rbind(kernels[Year %in% c(\"2012\", \"2013\", \"2014\")][\n",
    "    , PropAssigned := PercentAssigned/100][ #change to proportion note percent\n",
    "    , c(\"Year\", \"NumParentageMatches\", \"NumOffsSampled\", \"PropAssigned\")],                      \n",
    "    unique(kernels[Year %in% c(\"2012\", \"2013\", \"2014\")][ #only the years coinciding with the models\n",
    "    , `:=` (NumParentageMatches=sum(NumParentageMatches), NumOffsSampled=sum(NumOffsSampled), PropAssigned = NumParentageMatches/NumOffsSampled, Year = \"2012-4\")][ #summarise across the 3 years\n",
    "    , c(\"Year\",\"NumParentageMatches\", \"NumOffsSampled\", \"PropAssigned\")], by=\"Year\"))\n",
    "    \n",
    "\n",
    "PropAssignedTable[]\n",
    "\n",
    "#add in the average sampled proportion of anemones\n",
    "AvgPropSamp <- SurveyData[PropAnemSamp >0, .(PropAnemSamp = mean(PropAnemSamp)), by=\"year\"][ #average for each site we sampled, how well we sampled\n",
    "    year %in% c(\"2012\", \"2013\", \"2014\")][\n",
    "    , year :=as.character(year)]\n",
    "\n",
    "ExpectedPropAssigned <- AvgPropSamp[PropAssignedTable, on=.(year=Year)]\n",
    "ExpectedPropAssigned$PropAnemSamp[is.na(ExpectedPropAssigned$PropAnemSamp)] <- mean(ExpectedPropAssigned$PropAnemSamp, na.rm = T) #replace the 2012-4 NA with the average from the 3 years\n",
    "\n",
    "#what's the normalized self recruitment proportion back to the population\n",
    "ExpectedPropAssigned[, ExpAssigned := NumParentageMatches/(NumOffsSampled*PropAnemSamp)][] #this is the expected assignment for the whole surveyed population if we had sampled all adults (which we kind of do when we use the simulation results)\n",
    "#at some point... maybe it would be better to compare on a site to site level? idk that's pretty fine scale, I don't know that our ROMS model can be expected to compare so well with that"
   ]
  },
  {
   "cell_type": "code",
   "execution_count": 52,
   "metadata": {},
   "outputs": [
    {
     "data": {
      "text/html": [
       "<table>\n",
       "<thead><tr><th scope=col>year</th><th scope=col>PropAnemSamp</th><th scope=col>NumParentageMatches</th><th scope=col>NumOffsSampled</th><th scope=col>PropAssigned</th><th scope=col>ExpAssigned</th></tr></thead>\n",
       "<tbody>\n",
       "\t<tr><td>2012      </td><td>0.6566669 </td><td> 3        </td><td> 63       </td><td>0.04760000</td><td>0.07251629</td></tr>\n",
       "\t<tr><td>2013      </td><td>0.5793625 </td><td>21        </td><td>150       </td><td>0.14000000</td><td>0.24164492</td></tr>\n",
       "\t<tr><td>2014      </td><td>0.5714427 </td><td>13        </td><td>181       </td><td>0.07180000</td><td>0.12568749</td></tr>\n",
       "\t<tr><td>2012-4    </td><td>0.6024907 </td><td>37        </td><td>394       </td><td>0.04761905</td><td>0.15586735</td></tr>\n",
       "</tbody>\n",
       "</table>\n"
      ],
      "text/latex": [
       "\\begin{tabular}{r|llllll}\n",
       " year & PropAnemSamp & NumParentageMatches & NumOffsSampled & PropAssigned & ExpAssigned\\\\\n",
       "\\hline\n",
       "\t 2012       & 0.6566669  &  3         &  63        & 0.04760000 & 0.07251629\\\\\n",
       "\t 2013       & 0.5793625  & 21         & 150        & 0.14000000 & 0.24164492\\\\\n",
       "\t 2014       & 0.5714427  & 13         & 181        & 0.07180000 & 0.12568749\\\\\n",
       "\t 2012-4     & 0.6024907  & 37         & 394        & 0.04761905 & 0.15586735\\\\\n",
       "\\end{tabular}\n"
      ],
      "text/markdown": [
       "\n",
       "| year | PropAnemSamp | NumParentageMatches | NumOffsSampled | PropAssigned | ExpAssigned |\n",
       "|---|---|---|---|---|---|\n",
       "| 2012       | 0.6566669  |  3         |  63        | 0.04760000 | 0.07251629 |\n",
       "| 2013       | 0.5793625  | 21         | 150        | 0.14000000 | 0.24164492 |\n",
       "| 2014       | 0.5714427  | 13         | 181        | 0.07180000 | 0.12568749 |\n",
       "| 2012-4     | 0.6024907  | 37         | 394        | 0.04761905 | 0.15586735 |\n",
       "\n"
      ],
      "text/plain": [
       "  year   PropAnemSamp NumParentageMatches NumOffsSampled PropAssigned\n",
       "1 2012   0.6566669     3                   63            0.04760000  \n",
       "2 2013   0.5793625    21                  150            0.14000000  \n",
       "3 2014   0.5714427    13                  181            0.07180000  \n",
       "4 2012-4 0.6024907    37                  394            0.04761905  \n",
       "  ExpAssigned\n",
       "1 0.07251629 \n",
       "2 0.24164492 \n",
       "3 0.12568749 \n",
       "4 0.15586735 "
      ]
     },
     "metadata": {},
     "output_type": "display_data"
    }
   ],
   "source": []
  },
  {
   "cell_type": "raw",
   "metadata": {},
   "source": []
  },
  {
   "cell_type": "code",
   "execution_count": null,
   "metadata": {},
   "outputs": [],
   "source": []
  },
  {
   "cell_type": "markdown",
   "metadata": {},
   "source": [
    "__For the expected values of recruits from outside of our sampled region, I'm using the intermediate \"PredictedProportions\" matrix from the Bode kernel fitting script (https://github.com/MikeBode/Parentage_kernel_fitting/blob/master/Kernel_Fitting_Function.m) because it accounts for how well sites were sampled when estimating proportions of recruits from unsampled sites__"
   ]
  },
  {
   "cell_type": "code",
   "execution_count": 55,
   "metadata": {},
   "outputs": [],
   "source": [
    "#####outside of the loop*****\n",
    "\n",
    "PropSampTable <- SurveyData[PropAnemSamp >0, c(\"year\", \"site\")]\n",
    "\n",
    "#make sure all sampled sites are represented by joining the survey data to the sampled simulation\n",
    "PropSampTable <- rbind(SurveyData[PropAnemSamp >0 & year %in% c(2012, 2013, 2014), c(\"year\", \"site\")][, .(Source=site, Dest=site, Year=year)][ #will join to the simulated sampling table by source and dest, so make those each a column from site and preserve the year variable as a key\n",
    "    , c(\"Year\", \"Source\", \"Dest\")][, Monsoon := \"NEM\"], SurveyData[PropAnemSamp >0 & year %in% c(2012, 2013, 2014), c(\"year\", \"site\")][, .(Source=site, Dest=site, Year=year)][ #will join to the simulated sampling table by source and dest, so make those each a column from site and preserve the year variable as a key\n",
    "    , c(\"Year\", \"Source\", \"Dest\")][, Monsoon := \"SWM\"])\n",
    "#unq_survey <- unique(PropSampTable, by=c(\"Source\", \"Dest\", \"Year\", \"Monsoon\"))#, unique(PropSampTable, by=c(\"Source\", \"Dest\", \"Year\"))[, Monsoon := \"SWM\"]) #add in the diff Monsoon seasons so there are complete parentage matrices later\n",
    "#add_dest <- rbind(SurveyData[year %in% c(2012, 2013, 2014) & PropAnemSamp >0][, c(\"year\", \"site\")][, Monsoon := \"NEM\"], SurveyData[year %in% c(2012, 2013, 2014) & PropAnemSamp >0][, c(\"year\", \"site\")][, Monsoon := \"SWM\"])  #what destinations were sampled, for use with unassigned table\n",
    "\n",
    "###outside of the loop\n",
    "PropToEval <- seq(0.1, 1, 0.1) #make a vector of proportions to sample iterativaley and compare\n",
    "#empty table to hold results\n",
    "PropSampOtherCAI <- data.table(TimeScale=character(), TimeID=character(), PropUnassigned=numeric(), ExpUnassigned=numeric(),  PropSampEval=numeric(), Check1=character(), Check2=character(), NrowSimConn=numeric())\n",
    "\n"
   ]
  },
  {
   "cell_type": "code",
   "execution_count": 56,
   "metadata": {},
   "outputs": [
    {
     "name": "stdout",
     "output_type": "stream",
     "text": [
      "  |======================================================================| 100%\n"
     ]
    },
    {
     "data": {
      "text/plain": [
       "Time difference of 22.6484 secs"
      ]
     },
     "metadata": {},
     "output_type": "display_data"
    }
   ],
   "source": [
    "pb <- txtProgressBar(min = 0, max =length(PropToEval), style = 3)\n",
    "\n",
    "StartTime <- Sys.time()\n",
    "\n",
    "for(i in 1:length(PropToEval)){\n",
    "\n",
    "PropSampOtherCAI_int <- data.table(TimeScale=character(), TimeID=character(), PropUnassigned=numeric(), ExpUnassigned=numeric(),  PropSampEval=numeric(), Check1=character(), Check2=character(), NrowSimConn=numeric())[1:4]\n",
    "\n",
    "dest_sampled <- date_join[DestPropSamp >0]\n",
    "check1 <- nrow(dest_sampled)\n",
    "dest_sampled <- dest_sampled[c(dest_sampled[, .I[Source != \"Other\"]], sample(dest_sampled[, .I[Source == \"Other\"]], length(dest_sampled[, .I[Source == \"Other\"]])*PropToEval[i]))]\n",
    "check2 <- nrow(dest_sampled)\n",
    "dest_sampled <- dest_sampled[c(dest_sampled[, .I[Source != \"CAI\"]], sample(dest_sampled[, .I[Source == \"CAI\"]], length(dest_sampled[, .I[Source == \"CAI\"]])*PropToEval[i]))]\n",
    "check3 <- nrow(dest_sampled)\n",
    "\n",
    "#check that we have less rows, should both be TRUE\n",
    "test1 <- check1 > check2\n",
    "test2 <- check2 > check3\n",
    "#check1 > check2\n",
    "#check2 > check3\n",
    "\n",
    "\n",
    "#join in the number of parentage matches observed by year\n",
    "dest_sampled <- kernels[Year %in% c(\"2012\", \"2013\", \"2014\")][, Year:=as.integer(Year)][,c(\"Year\", \"NumParentageMatches\")][dest_sampled, on=.(Year=YearSampled)]#[\n",
    "\n",
    "#randomly subsample the sampled particle data\n",
    "sim_sample <- dest_sampled[, .SD[sample(.N, DestNOffsAnnual, prob=SurvWeight)], by = c(\"Year\", \"Dest\")] #randomly sample rows (particles) from the table according to the survival weighting, based on the number we sampled at each site in each year of surveys\n",
    "\n",
    "PropUnassignedByYear <- (sim_sample[Source == \"CAI\"| Source == \"Other\", .(.N), by=\"Year\"][, N]/#total particales sampled from other/CAI sources\n",
    "sim_sample[, .(.N), by=\"Year\"][, N]) #total particles sampled\n",
    "\n",
    "PropSampOtherCAI_int$TimeScale[1] <- \"annual\"\n",
    "PropSampOtherCAI_int$TimeID[1] <- \"2012\"\n",
    "PropSampOtherCAI_int$PropUnassigned[1] <- PropUnassignedByYear[1]\n",
    "PropSampOtherCAI_int$ExpUnassigned[1] <- 1-(ExpectedPropAssigned[1, ExpAssigned])\n",
    "PropSampOtherCAI_int$PropSampEval[1] <- PropToEval[i]\n",
    "PropSampOtherCAI_int$Check1[1] <- test1\n",
    "PropSampOtherCAI_int$Check2[1] <- test2\n",
    "PropSampOtherCAI_int$NrowSimConn[1] <- nrow(dest_sampled)\n",
    "    \n",
    "PropSampOtherCAI_int$TimeScale[2] <- \"annual\"\n",
    "PropSampOtherCAI_int$TimeID[2] <- \"2013\"\n",
    "PropSampOtherCAI_int$PropUnassigned[2] <- PropUnassignedByYear[2]\n",
    "PropSampOtherCAI_int$ExpUnassigned[2] <- 1-(ExpectedPropAssigned[2, ExpAssigned])\n",
    "PropSampOtherCAI_int$PropSampEval[2] <- PropToEval[i]\n",
    "PropSampOtherCAI_int$Check1[2] <- test1\n",
    "PropSampOtherCAI_int$Check2[2] <- test2\n",
    "PropSampOtherCAI_int$NrowSimConn[2] <- nrow(dest_sampled)\n",
    "    \n",
    "PropSampOtherCAI_int$TimeScale[3] <- \"annual\"\n",
    "PropSampOtherCAI_int$TimeID[3] <- \"2014\"\n",
    "PropSampOtherCAI_int$PropUnassigned[3] <- PropUnassignedByYear[3]\n",
    "PropSampOtherCAI_int$ExpUnassigned[3] <- 1-(ExpectedPropAssigned[3, ExpAssigned])\n",
    "PropSampOtherCAI_int$PropSampEval[3] <- PropToEval[i]\n",
    "PropSampOtherCAI_int$Check1[3] <- test1\n",
    "PropSampOtherCAI_int$Check2[3] <- test2\n",
    "PropSampOtherCAI_int$NrowSimConn[3] <- nrow(dest_sampled)\n",
    "    \n",
    "PropSampOtherCAI_int$TimeScale[4] <- \"interannual\"\n",
    "PropSampOtherCAI_int$TimeID[4] <- \"2012_4\"\n",
    "PropSampOtherCAI_int$PropUnassigned[4] <- nrow(sim_sample[Source == \"CAI\"| Source == \"Other\"])/nrow(sim_sample)\n",
    "PropSampOtherCAI_int$ExpUnassigned[4] <- 1-(ExpectedPropAssigned[4, ExpAssigned])\n",
    "PropSampOtherCAI_int$PropSampEval[4] <- PropToEval[i]\n",
    "PropSampOtherCAI_int$Check1[4] <- test1\n",
    "PropSampOtherCAI_int$Check2[4] <- test2\n",
    "PropSampOtherCAI_int$NrowSimConn[4] <- nrow(dest_sampled)\n",
    "\n",
    "l <- list(PropSampOtherCAI, PropSampOtherCAI_int)\n",
    "PropSampOtherCAI <- rbindlist(l, use.names = TRUE, fill=TRUE, idcol = FALSE)\n",
    "setTxtProgressBar(pb, i)\n",
    "    \n",
    "}\n",
    "\n",
    "close(pb)\n",
    "EndTime <- Sys.time()\n",
    "EndTime-StartTime\n",
    "\n",
    "fwrite(PropSampOtherCAI, file=\"~/oceanography/script_output/PropSampOtherCAIEvaluation.csv\")\n"
   ]
  },
  {
   "cell_type": "code",
   "execution_count": 57,
   "metadata": {},
   "outputs": [
    {
     "data": {
      "text/html": [
       "<table>\n",
       "<thead><tr><th scope=col>TimeScale</th><th scope=col>TimeID</th><th scope=col>PropUnassigned</th><th scope=col>ExpUnassigned</th><th scope=col>PropSampEval</th><th scope=col>Check1</th><th scope=col>Check2</th><th scope=col>NrowSimConn</th></tr></thead>\n",
       "<tbody>\n",
       "\t<tr><td>annual     </td><td>2012       </td><td>0.1746032  </td><td>0.9274837  </td><td>0.1        </td><td>TRUE       </td><td>TRUE       </td><td>332264     </td></tr>\n",
       "\t<tr><td>annual     </td><td>2013       </td><td>0.2400000  </td><td>0.7583551  </td><td>0.1        </td><td>TRUE       </td><td>TRUE       </td><td>332264     </td></tr>\n",
       "\t<tr><td>annual     </td><td>2014       </td><td>0.1933702  </td><td>0.8743125  </td><td>0.1        </td><td>TRUE       </td><td>TRUE       </td><td>332264     </td></tr>\n",
       "\t<tr><td>interannual</td><td>2012_4     </td><td>0.2081218  </td><td>0.8441326  </td><td>0.1        </td><td>TRUE       </td><td>TRUE       </td><td>332264     </td></tr>\n",
       "\t<tr><td>annual     </td><td>2012       </td><td>0.3650794  </td><td>0.9274837  </td><td>0.2        </td><td>TRUE       </td><td>TRUE       </td><td>363170     </td></tr>\n",
       "\t<tr><td>annual     </td><td>2013       </td><td>0.3666667  </td><td>0.7583551  </td><td>0.2        </td><td>TRUE       </td><td>TRUE       </td><td>363170     </td></tr>\n",
       "\t<tr><td>annual     </td><td>2014       </td><td>0.2651934  </td><td>0.8743125  </td><td>0.2        </td><td>TRUE       </td><td>TRUE       </td><td>363170     </td></tr>\n",
       "\t<tr><td>interannual</td><td>2012_4     </td><td>0.3197970  </td><td>0.8441326  </td><td>0.2        </td><td>TRUE       </td><td>TRUE       </td><td>363170     </td></tr>\n",
       "\t<tr><td>annual     </td><td>2012       </td><td>0.4126984  </td><td>0.9274837  </td><td>0.3        </td><td>TRUE       </td><td>TRUE       </td><td>394076     </td></tr>\n",
       "\t<tr><td>annual     </td><td>2013       </td><td>0.5400000  </td><td>0.7583551  </td><td>0.3        </td><td>TRUE       </td><td>TRUE       </td><td>394076     </td></tr>\n",
       "\t<tr><td>annual     </td><td>2014       </td><td>0.3812155  </td><td>0.8743125  </td><td>0.3        </td><td>TRUE       </td><td>TRUE       </td><td>394076     </td></tr>\n",
       "\t<tr><td>interannual</td><td>2012_4     </td><td>0.4467005  </td><td>0.8441326  </td><td>0.3        </td><td>TRUE       </td><td>TRUE       </td><td>394076     </td></tr>\n",
       "\t<tr><td>annual     </td><td>2012       </td><td>0.4603175  </td><td>0.9274837  </td><td>0.4        </td><td>TRUE       </td><td>TRUE       </td><td>424982     </td></tr>\n",
       "\t<tr><td>annual     </td><td>2013       </td><td>0.5666667  </td><td>0.7583551  </td><td>0.4        </td><td>TRUE       </td><td>TRUE       </td><td>424982     </td></tr>\n",
       "\t<tr><td>annual     </td><td>2014       </td><td>0.4364641  </td><td>0.8743125  </td><td>0.4        </td><td>TRUE       </td><td>TRUE       </td><td>424982     </td></tr>\n",
       "\t<tr><td>interannual</td><td>2012_4     </td><td>0.4898477  </td><td>0.8441326  </td><td>0.4        </td><td>TRUE       </td><td>TRUE       </td><td>424982     </td></tr>\n",
       "\t<tr><td>annual     </td><td>2012       </td><td>0.4603175  </td><td>0.9274837  </td><td>0.5        </td><td>TRUE       </td><td>TRUE       </td><td>455889     </td></tr>\n",
       "\t<tr><td>annual     </td><td>2013       </td><td>0.5266667  </td><td>0.7583551  </td><td>0.5        </td><td>TRUE       </td><td>TRUE       </td><td>455889     </td></tr>\n",
       "\t<tr><td>annual     </td><td>2014       </td><td>0.4585635  </td><td>0.8743125  </td><td>0.5        </td><td>TRUE       </td><td>TRUE       </td><td>455889     </td></tr>\n",
       "\t<tr><td>interannual</td><td>2012_4     </td><td>0.4847716  </td><td>0.8441326  </td><td>0.5        </td><td>TRUE       </td><td>TRUE       </td><td>455889     </td></tr>\n",
       "\t<tr><td>annual     </td><td>2012       </td><td>0.5238095  </td><td>0.9274837  </td><td>0.6        </td><td>TRUE       </td><td>TRUE       </td><td>486794     </td></tr>\n",
       "\t<tr><td>annual     </td><td>2013       </td><td>0.5933333  </td><td>0.7583551  </td><td>0.6        </td><td>TRUE       </td><td>TRUE       </td><td>486794     </td></tr>\n",
       "\t<tr><td>annual     </td><td>2014       </td><td>0.5027624  </td><td>0.8743125  </td><td>0.6        </td><td>TRUE       </td><td>TRUE       </td><td>486794     </td></tr>\n",
       "\t<tr><td>interannual</td><td>2012_4     </td><td>0.5406091  </td><td>0.8441326  </td><td>0.6        </td><td>TRUE       </td><td>TRUE       </td><td>486794     </td></tr>\n",
       "\t<tr><td>annual     </td><td>2012       </td><td>0.5079365  </td><td>0.9274837  </td><td>0.7        </td><td>TRUE       </td><td>TRUE       </td><td>517700     </td></tr>\n",
       "\t<tr><td>annual     </td><td>2013       </td><td>0.5866667  </td><td>0.7583551  </td><td>0.7        </td><td>TRUE       </td><td>TRUE       </td><td>517700     </td></tr>\n",
       "\t<tr><td>annual     </td><td>2014       </td><td>0.5193370  </td><td>0.8743125  </td><td>0.7        </td><td>TRUE       </td><td>TRUE       </td><td>517700     </td></tr>\n",
       "\t<tr><td>interannual</td><td>2012_4     </td><td>0.5431472  </td><td>0.8441326  </td><td>0.7        </td><td>TRUE       </td><td>TRUE       </td><td>517700     </td></tr>\n",
       "\t<tr><td>annual     </td><td>2012       </td><td>0.6507937  </td><td>0.9274837  </td><td>0.8        </td><td>TRUE       </td><td>TRUE       </td><td>548606     </td></tr>\n",
       "\t<tr><td>annual     </td><td>2013       </td><td>0.6066667  </td><td>0.7583551  </td><td>0.8        </td><td>TRUE       </td><td>TRUE       </td><td>548606     </td></tr>\n",
       "\t<tr><td>annual     </td><td>2014       </td><td>0.6353591  </td><td>0.8743125  </td><td>0.8        </td><td>TRUE       </td><td>TRUE       </td><td>548606     </td></tr>\n",
       "\t<tr><td>interannual</td><td>2012_4     </td><td>0.6269036  </td><td>0.8441326  </td><td>0.8        </td><td>TRUE       </td><td>TRUE       </td><td>548606     </td></tr>\n",
       "\t<tr><td>annual     </td><td>2012       </td><td>0.5555556  </td><td>0.9274837  </td><td>0.9        </td><td>TRUE       </td><td>TRUE       </td><td>579512     </td></tr>\n",
       "\t<tr><td>annual     </td><td>2013       </td><td>0.6666667  </td><td>0.7583551  </td><td>0.9        </td><td>TRUE       </td><td>TRUE       </td><td>579512     </td></tr>\n",
       "\t<tr><td>annual     </td><td>2014       </td><td>0.6464088  </td><td>0.8743125  </td><td>0.9        </td><td>TRUE       </td><td>TRUE       </td><td>579512     </td></tr>\n",
       "\t<tr><td>interannual</td><td>2012_4     </td><td>0.6395939  </td><td>0.8441326  </td><td>0.9        </td><td>TRUE       </td><td>TRUE       </td><td>579512     </td></tr>\n",
       "\t<tr><td>annual     </td><td>2012       </td><td>0.5714286  </td><td>0.9274837  </td><td>1.0        </td><td>FALSE      </td><td>FALSE      </td><td>610419     </td></tr>\n",
       "\t<tr><td>annual     </td><td>2013       </td><td>0.6666667  </td><td>0.7583551  </td><td>1.0        </td><td>FALSE      </td><td>FALSE      </td><td>610419     </td></tr>\n",
       "\t<tr><td>annual     </td><td>2014       </td><td>0.6187845  </td><td>0.8743125  </td><td>1.0        </td><td>FALSE      </td><td>FALSE      </td><td>610419     </td></tr>\n",
       "\t<tr><td>interannual</td><td>2012_4     </td><td>0.6294416  </td><td>0.8441326  </td><td>1.0        </td><td>FALSE      </td><td>FALSE      </td><td>610419     </td></tr>\n",
       "</tbody>\n",
       "</table>\n"
      ],
      "text/latex": [
       "\\begin{tabular}{r|llllllll}\n",
       " TimeScale & TimeID & PropUnassigned & ExpUnassigned & PropSampEval & Check1 & Check2 & NrowSimConn\\\\\n",
       "\\hline\n",
       "\t annual      & 2012        & 0.1746032   & 0.9274837   & 0.1         & TRUE        & TRUE        & 332264     \\\\\n",
       "\t annual      & 2013        & 0.2400000   & 0.7583551   & 0.1         & TRUE        & TRUE        & 332264     \\\\\n",
       "\t annual      & 2014        & 0.1933702   & 0.8743125   & 0.1         & TRUE        & TRUE        & 332264     \\\\\n",
       "\t interannual & 2012\\_4    & 0.2081218   & 0.8441326   & 0.1         & TRUE        & TRUE        & 332264     \\\\\n",
       "\t annual      & 2012        & 0.3650794   & 0.9274837   & 0.2         & TRUE        & TRUE        & 363170     \\\\\n",
       "\t annual      & 2013        & 0.3666667   & 0.7583551   & 0.2         & TRUE        & TRUE        & 363170     \\\\\n",
       "\t annual      & 2014        & 0.2651934   & 0.8743125   & 0.2         & TRUE        & TRUE        & 363170     \\\\\n",
       "\t interannual & 2012\\_4    & 0.3197970   & 0.8441326   & 0.2         & TRUE        & TRUE        & 363170     \\\\\n",
       "\t annual      & 2012        & 0.4126984   & 0.9274837   & 0.3         & TRUE        & TRUE        & 394076     \\\\\n",
       "\t annual      & 2013        & 0.5400000   & 0.7583551   & 0.3         & TRUE        & TRUE        & 394076     \\\\\n",
       "\t annual      & 2014        & 0.3812155   & 0.8743125   & 0.3         & TRUE        & TRUE        & 394076     \\\\\n",
       "\t interannual & 2012\\_4    & 0.4467005   & 0.8441326   & 0.3         & TRUE        & TRUE        & 394076     \\\\\n",
       "\t annual      & 2012        & 0.4603175   & 0.9274837   & 0.4         & TRUE        & TRUE        & 424982     \\\\\n",
       "\t annual      & 2013        & 0.5666667   & 0.7583551   & 0.4         & TRUE        & TRUE        & 424982     \\\\\n",
       "\t annual      & 2014        & 0.4364641   & 0.8743125   & 0.4         & TRUE        & TRUE        & 424982     \\\\\n",
       "\t interannual & 2012\\_4    & 0.4898477   & 0.8441326   & 0.4         & TRUE        & TRUE        & 424982     \\\\\n",
       "\t annual      & 2012        & 0.4603175   & 0.9274837   & 0.5         & TRUE        & TRUE        & 455889     \\\\\n",
       "\t annual      & 2013        & 0.5266667   & 0.7583551   & 0.5         & TRUE        & TRUE        & 455889     \\\\\n",
       "\t annual      & 2014        & 0.4585635   & 0.8743125   & 0.5         & TRUE        & TRUE        & 455889     \\\\\n",
       "\t interannual & 2012\\_4    & 0.4847716   & 0.8441326   & 0.5         & TRUE        & TRUE        & 455889     \\\\\n",
       "\t annual      & 2012        & 0.5238095   & 0.9274837   & 0.6         & TRUE        & TRUE        & 486794     \\\\\n",
       "\t annual      & 2013        & 0.5933333   & 0.7583551   & 0.6         & TRUE        & TRUE        & 486794     \\\\\n",
       "\t annual      & 2014        & 0.5027624   & 0.8743125   & 0.6         & TRUE        & TRUE        & 486794     \\\\\n",
       "\t interannual & 2012\\_4    & 0.5406091   & 0.8441326   & 0.6         & TRUE        & TRUE        & 486794     \\\\\n",
       "\t annual      & 2012        & 0.5079365   & 0.9274837   & 0.7         & TRUE        & TRUE        & 517700     \\\\\n",
       "\t annual      & 2013        & 0.5866667   & 0.7583551   & 0.7         & TRUE        & TRUE        & 517700     \\\\\n",
       "\t annual      & 2014        & 0.5193370   & 0.8743125   & 0.7         & TRUE        & TRUE        & 517700     \\\\\n",
       "\t interannual & 2012\\_4    & 0.5431472   & 0.8441326   & 0.7         & TRUE        & TRUE        & 517700     \\\\\n",
       "\t annual      & 2012        & 0.6507937   & 0.9274837   & 0.8         & TRUE        & TRUE        & 548606     \\\\\n",
       "\t annual      & 2013        & 0.6066667   & 0.7583551   & 0.8         & TRUE        & TRUE        & 548606     \\\\\n",
       "\t annual      & 2014        & 0.6353591   & 0.8743125   & 0.8         & TRUE        & TRUE        & 548606     \\\\\n",
       "\t interannual & 2012\\_4    & 0.6269036   & 0.8441326   & 0.8         & TRUE        & TRUE        & 548606     \\\\\n",
       "\t annual      & 2012        & 0.5555556   & 0.9274837   & 0.9         & TRUE        & TRUE        & 579512     \\\\\n",
       "\t annual      & 2013        & 0.6666667   & 0.7583551   & 0.9         & TRUE        & TRUE        & 579512     \\\\\n",
       "\t annual      & 2014        & 0.6464088   & 0.8743125   & 0.9         & TRUE        & TRUE        & 579512     \\\\\n",
       "\t interannual & 2012\\_4    & 0.6395939   & 0.8441326   & 0.9         & TRUE        & TRUE        & 579512     \\\\\n",
       "\t annual      & 2012        & 0.5714286   & 0.9274837   & 1.0         & FALSE       & FALSE       & 610419     \\\\\n",
       "\t annual      & 2013        & 0.6666667   & 0.7583551   & 1.0         & FALSE       & FALSE       & 610419     \\\\\n",
       "\t annual      & 2014        & 0.6187845   & 0.8743125   & 1.0         & FALSE       & FALSE       & 610419     \\\\\n",
       "\t interannual & 2012\\_4    & 0.6294416   & 0.8441326   & 1.0         & FALSE       & FALSE       & 610419     \\\\\n",
       "\\end{tabular}\n"
      ],
      "text/markdown": [
       "\n",
       "| TimeScale | TimeID | PropUnassigned | ExpUnassigned | PropSampEval | Check1 | Check2 | NrowSimConn |\n",
       "|---|---|---|---|---|---|---|---|\n",
       "| annual      | 2012        | 0.1746032   | 0.9274837   | 0.1         | TRUE        | TRUE        | 332264      |\n",
       "| annual      | 2013        | 0.2400000   | 0.7583551   | 0.1         | TRUE        | TRUE        | 332264      |\n",
       "| annual      | 2014        | 0.1933702   | 0.8743125   | 0.1         | TRUE        | TRUE        | 332264      |\n",
       "| interannual | 2012_4      | 0.2081218   | 0.8441326   | 0.1         | TRUE        | TRUE        | 332264      |\n",
       "| annual      | 2012        | 0.3650794   | 0.9274837   | 0.2         | TRUE        | TRUE        | 363170      |\n",
       "| annual      | 2013        | 0.3666667   | 0.7583551   | 0.2         | TRUE        | TRUE        | 363170      |\n",
       "| annual      | 2014        | 0.2651934   | 0.8743125   | 0.2         | TRUE        | TRUE        | 363170      |\n",
       "| interannual | 2012_4      | 0.3197970   | 0.8441326   | 0.2         | TRUE        | TRUE        | 363170      |\n",
       "| annual      | 2012        | 0.4126984   | 0.9274837   | 0.3         | TRUE        | TRUE        | 394076      |\n",
       "| annual      | 2013        | 0.5400000   | 0.7583551   | 0.3         | TRUE        | TRUE        | 394076      |\n",
       "| annual      | 2014        | 0.3812155   | 0.8743125   | 0.3         | TRUE        | TRUE        | 394076      |\n",
       "| interannual | 2012_4      | 0.4467005   | 0.8441326   | 0.3         | TRUE        | TRUE        | 394076      |\n",
       "| annual      | 2012        | 0.4603175   | 0.9274837   | 0.4         | TRUE        | TRUE        | 424982      |\n",
       "| annual      | 2013        | 0.5666667   | 0.7583551   | 0.4         | TRUE        | TRUE        | 424982      |\n",
       "| annual      | 2014        | 0.4364641   | 0.8743125   | 0.4         | TRUE        | TRUE        | 424982      |\n",
       "| interannual | 2012_4      | 0.4898477   | 0.8441326   | 0.4         | TRUE        | TRUE        | 424982      |\n",
       "| annual      | 2012        | 0.4603175   | 0.9274837   | 0.5         | TRUE        | TRUE        | 455889      |\n",
       "| annual      | 2013        | 0.5266667   | 0.7583551   | 0.5         | TRUE        | TRUE        | 455889      |\n",
       "| annual      | 2014        | 0.4585635   | 0.8743125   | 0.5         | TRUE        | TRUE        | 455889      |\n",
       "| interannual | 2012_4      | 0.4847716   | 0.8441326   | 0.5         | TRUE        | TRUE        | 455889      |\n",
       "| annual      | 2012        | 0.5238095   | 0.9274837   | 0.6         | TRUE        | TRUE        | 486794      |\n",
       "| annual      | 2013        | 0.5933333   | 0.7583551   | 0.6         | TRUE        | TRUE        | 486794      |\n",
       "| annual      | 2014        | 0.5027624   | 0.8743125   | 0.6         | TRUE        | TRUE        | 486794      |\n",
       "| interannual | 2012_4      | 0.5406091   | 0.8441326   | 0.6         | TRUE        | TRUE        | 486794      |\n",
       "| annual      | 2012        | 0.5079365   | 0.9274837   | 0.7         | TRUE        | TRUE        | 517700      |\n",
       "| annual      | 2013        | 0.5866667   | 0.7583551   | 0.7         | TRUE        | TRUE        | 517700      |\n",
       "| annual      | 2014        | 0.5193370   | 0.8743125   | 0.7         | TRUE        | TRUE        | 517700      |\n",
       "| interannual | 2012_4      | 0.5431472   | 0.8441326   | 0.7         | TRUE        | TRUE        | 517700      |\n",
       "| annual      | 2012        | 0.6507937   | 0.9274837   | 0.8         | TRUE        | TRUE        | 548606      |\n",
       "| annual      | 2013        | 0.6066667   | 0.7583551   | 0.8         | TRUE        | TRUE        | 548606      |\n",
       "| annual      | 2014        | 0.6353591   | 0.8743125   | 0.8         | TRUE        | TRUE        | 548606      |\n",
       "| interannual | 2012_4      | 0.6269036   | 0.8441326   | 0.8         | TRUE        | TRUE        | 548606      |\n",
       "| annual      | 2012        | 0.5555556   | 0.9274837   | 0.9         | TRUE        | TRUE        | 579512      |\n",
       "| annual      | 2013        | 0.6666667   | 0.7583551   | 0.9         | TRUE        | TRUE        | 579512      |\n",
       "| annual      | 2014        | 0.6464088   | 0.8743125   | 0.9         | TRUE        | TRUE        | 579512      |\n",
       "| interannual | 2012_4      | 0.6395939   | 0.8441326   | 0.9         | TRUE        | TRUE        | 579512      |\n",
       "| annual      | 2012        | 0.5714286   | 0.9274837   | 1.0         | FALSE       | FALSE       | 610419      |\n",
       "| annual      | 2013        | 0.6666667   | 0.7583551   | 1.0         | FALSE       | FALSE       | 610419      |\n",
       "| annual      | 2014        | 0.6187845   | 0.8743125   | 1.0         | FALSE       | FALSE       | 610419      |\n",
       "| interannual | 2012_4      | 0.6294416   | 0.8441326   | 1.0         | FALSE       | FALSE       | 610419      |\n",
       "\n"
      ],
      "text/plain": [
       "   TimeScale   TimeID PropUnassigned ExpUnassigned PropSampEval Check1 Check2\n",
       "1  annual      2012   0.1746032      0.9274837     0.1          TRUE   TRUE  \n",
       "2  annual      2013   0.2400000      0.7583551     0.1          TRUE   TRUE  \n",
       "3  annual      2014   0.1933702      0.8743125     0.1          TRUE   TRUE  \n",
       "4  interannual 2012_4 0.2081218      0.8441326     0.1          TRUE   TRUE  \n",
       "5  annual      2012   0.3650794      0.9274837     0.2          TRUE   TRUE  \n",
       "6  annual      2013   0.3666667      0.7583551     0.2          TRUE   TRUE  \n",
       "7  annual      2014   0.2651934      0.8743125     0.2          TRUE   TRUE  \n",
       "8  interannual 2012_4 0.3197970      0.8441326     0.2          TRUE   TRUE  \n",
       "9  annual      2012   0.4126984      0.9274837     0.3          TRUE   TRUE  \n",
       "10 annual      2013   0.5400000      0.7583551     0.3          TRUE   TRUE  \n",
       "11 annual      2014   0.3812155      0.8743125     0.3          TRUE   TRUE  \n",
       "12 interannual 2012_4 0.4467005      0.8441326     0.3          TRUE   TRUE  \n",
       "13 annual      2012   0.4603175      0.9274837     0.4          TRUE   TRUE  \n",
       "14 annual      2013   0.5666667      0.7583551     0.4          TRUE   TRUE  \n",
       "15 annual      2014   0.4364641      0.8743125     0.4          TRUE   TRUE  \n",
       "16 interannual 2012_4 0.4898477      0.8441326     0.4          TRUE   TRUE  \n",
       "17 annual      2012   0.4603175      0.9274837     0.5          TRUE   TRUE  \n",
       "18 annual      2013   0.5266667      0.7583551     0.5          TRUE   TRUE  \n",
       "19 annual      2014   0.4585635      0.8743125     0.5          TRUE   TRUE  \n",
       "20 interannual 2012_4 0.4847716      0.8441326     0.5          TRUE   TRUE  \n",
       "21 annual      2012   0.5238095      0.9274837     0.6          TRUE   TRUE  \n",
       "22 annual      2013   0.5933333      0.7583551     0.6          TRUE   TRUE  \n",
       "23 annual      2014   0.5027624      0.8743125     0.6          TRUE   TRUE  \n",
       "24 interannual 2012_4 0.5406091      0.8441326     0.6          TRUE   TRUE  \n",
       "25 annual      2012   0.5079365      0.9274837     0.7          TRUE   TRUE  \n",
       "26 annual      2013   0.5866667      0.7583551     0.7          TRUE   TRUE  \n",
       "27 annual      2014   0.5193370      0.8743125     0.7          TRUE   TRUE  \n",
       "28 interannual 2012_4 0.5431472      0.8441326     0.7          TRUE   TRUE  \n",
       "29 annual      2012   0.6507937      0.9274837     0.8          TRUE   TRUE  \n",
       "30 annual      2013   0.6066667      0.7583551     0.8          TRUE   TRUE  \n",
       "31 annual      2014   0.6353591      0.8743125     0.8          TRUE   TRUE  \n",
       "32 interannual 2012_4 0.6269036      0.8441326     0.8          TRUE   TRUE  \n",
       "33 annual      2012   0.5555556      0.9274837     0.9          TRUE   TRUE  \n",
       "34 annual      2013   0.6666667      0.7583551     0.9          TRUE   TRUE  \n",
       "35 annual      2014   0.6464088      0.8743125     0.9          TRUE   TRUE  \n",
       "36 interannual 2012_4 0.6395939      0.8441326     0.9          TRUE   TRUE  \n",
       "37 annual      2012   0.5714286      0.9274837     1.0          FALSE  FALSE \n",
       "38 annual      2013   0.6666667      0.7583551     1.0          FALSE  FALSE \n",
       "39 annual      2014   0.6187845      0.8743125     1.0          FALSE  FALSE \n",
       "40 interannual 2012_4 0.6294416      0.8441326     1.0          FALSE  FALSE \n",
       "   NrowSimConn\n",
       "1  332264     \n",
       "2  332264     \n",
       "3  332264     \n",
       "4  332264     \n",
       "5  363170     \n",
       "6  363170     \n",
       "7  363170     \n",
       "8  363170     \n",
       "9  394076     \n",
       "10 394076     \n",
       "11 394076     \n",
       "12 394076     \n",
       "13 424982     \n",
       "14 424982     \n",
       "15 424982     \n",
       "16 424982     \n",
       "17 455889     \n",
       "18 455889     \n",
       "19 455889     \n",
       "20 455889     \n",
       "21 486794     \n",
       "22 486794     \n",
       "23 486794     \n",
       "24 486794     \n",
       "25 517700     \n",
       "26 517700     \n",
       "27 517700     \n",
       "28 517700     \n",
       "29 548606     \n",
       "30 548606     \n",
       "31 548606     \n",
       "32 548606     \n",
       "33 579512     \n",
       "34 579512     \n",
       "35 579512     \n",
       "36 579512     \n",
       "37 610419     \n",
       "38 610419     \n",
       "39 610419     \n",
       "40 610419     "
      ]
     },
     "metadata": {},
     "output_type": "display_data"
    }
   ],
   "source": [
    "PropSampOtherCAI"
   ]
  },
  {
   "cell_type": "markdown",
   "metadata": {},
   "source": [
    "__Seems like good justification to not subsample the ROMS particles from other/Camotes Islands__"
   ]
  },
  {
   "cell_type": "code",
   "execution_count": null,
   "metadata": {},
   "outputs": [],
   "source": []
  },
  {
   "cell_type": "code",
   "execution_count": null,
   "metadata": {},
   "outputs": [],
   "source": []
  },
  {
   "cell_type": "code",
   "execution_count": null,
   "metadata": {},
   "outputs": [],
   "source": []
  },
  {
   "cell_type": "code",
   "execution_count": 136,
   "metadata": {},
   "outputs": [],
   "source": []
  },
  {
   "cell_type": "code",
   "execution_count": null,
   "metadata": {},
   "outputs": [],
   "source": [
    "\n"
   ]
  },
  {
   "cell_type": "code",
   "execution_count": null,
   "metadata": {},
   "outputs": [],
   "source": []
  },
  {
   "cell_type": "code",
   "execution_count": null,
   "metadata": {
    "scrolled": false
   },
   "outputs": [],
   "source": []
  },
  {
   "cell_type": "code",
   "execution_count": null,
   "metadata": {},
   "outputs": [],
   "source": []
  },
  {
   "cell_type": "code",
   "execution_count": 66,
   "metadata": {},
   "outputs": [],
   "source": []
  },
  {
   "cell_type": "code",
   "execution_count": null,
   "metadata": {
    "scrolled": false
   },
   "outputs": [],
   "source": []
  },
  {
   "cell_type": "code",
   "execution_count": null,
   "metadata": {},
   "outputs": [],
   "source": []
  },
  {
   "cell_type": "code",
   "execution_count": null,
   "metadata": {},
   "outputs": [],
   "source": []
  },
  {
   "cell_type": "code",
   "execution_count": null,
   "metadata": {},
   "outputs": [],
   "source": []
  },
  {
   "cell_type": "code",
   "execution_count": 6,
   "metadata": {},
   "outputs": [
    {
     "data": {
      "text/html": [
       "TRUE"
      ],
      "text/latex": [
       "TRUE"
      ],
      "text/markdown": [
       "TRUE"
      ],
      "text/plain": [
       "[1] TRUE"
      ]
     },
     "metadata": {},
     "output_type": "display_data"
    },
    {
     "data": {
      "text/html": [
       "TRUE"
      ],
      "text/latex": [
       "TRUE"
      ],
      "text/markdown": [
       "TRUE"
      ],
      "text/plain": [
       "[1] TRUE"
      ]
     },
     "metadata": {},
     "output_type": "display_data"
    },
    {
     "data": {
      "text/html": [
       "TRUE"
      ],
      "text/latex": [
       "TRUE"
      ],
      "text/markdown": [
       "TRUE"
      ],
      "text/plain": [
       "[1] TRUE"
      ]
     },
     "metadata": {},
     "output_type": "display_data"
    }
   ],
   "source": [
    "\n"
   ]
  },
  {
   "cell_type": "code",
   "execution_count": 10,
   "metadata": {},
   "outputs": [
    {
     "data": {
      "text/html": [
       "363760"
      ],
      "text/latex": [
       "363760"
      ],
      "text/markdown": [
       "363760"
      ],
      "text/plain": [
       "[1] 363760"
      ]
     },
     "metadata": {},
     "output_type": "display_data"
    },
    {
     "data": {
      "text/html": [
       "212861852"
      ],
      "text/latex": [
       "212861852"
      ],
      "text/markdown": [
       "212861852"
      ],
      "text/plain": [
       "[1] 212861852"
      ]
     },
     "metadata": {},
     "output_type": "display_data"
    }
   ],
   "source": [
    "nrow(dest_sampled)\n",
    "nrow(SimConn)"
   ]
  },
  {
   "cell_type": "code",
   "execution_count": 7,
   "metadata": {
    "scrolled": false
   },
   "outputs": [],
   "source": [
    "#save inter file\n",
    "#fwrite(dest_sampled, file=\"~/oceanography/script_output/LongFormConnWithProbsTest.csv\")\n",
    "#see if I can write as a compressed file so it can be stored on github\n",
    "#https://stackoverflow.com/questions/42788401/is-possible-to-use-fwrite-from-data-table-with-gzfile"
   ]
  },
  {
   "cell_type": "code",
   "execution_count": null,
   "metadata": {},
   "outputs": [],
   "source": []
  },
  {
   "cell_type": "code",
   "execution_count": null,
   "metadata": {},
   "outputs": [],
   "source": []
  },
  {
   "cell_type": "code",
   "execution_count": null,
   "metadata": {},
   "outputs": [],
   "source": []
  },
  {
   "cell_type": "code",
   "execution_count": null,
   "metadata": {},
   "outputs": [],
   "source": []
  },
  {
   "cell_type": "code",
   "execution_count": null,
   "metadata": {},
   "outputs": [],
   "source": []
  }
 ],
 "metadata": {
  "kernelspec": {
   "display_name": "R",
   "language": "R",
   "name": "ir"
  },
  "language_info": {
   "codemirror_mode": "r",
   "file_extension": ".r",
   "mimetype": "text/x-r-source",
   "name": "R",
   "pygments_lexer": "r",
   "version": "3.6.1"
  }
 },
 "nbformat": 4,
 "nbformat_minor": 4
}
