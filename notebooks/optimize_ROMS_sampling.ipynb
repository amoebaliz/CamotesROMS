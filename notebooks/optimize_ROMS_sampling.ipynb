{
 "cells": [
  {
   "cell_type": "code",
   "execution_count": 61,
   "metadata": {},
   "outputs": [],
   "source": [
    "Packages <- c(\"dplyr\",  \"nleqslv\", \"broom\",\"cubature\", \"geosphere\", \"data.table\",  \"ggplot2\", \"bbmle\", \"stringr\",  \"lubridate\", \"RColorBrewer\")\n",
    "\n",
    "invisible(suppressPackageStartupMessages(lapply(Packages, library, character.only = TRUE)))\n",
    "\n",
    "setwd('/local/home/katrinac/oceanography')\n",
    "\"%!in%\" <- function(x,table) match(x,table, nomatch = 0) == 0\n",
    "source(\"~/parentage/kernel_fitting/1340_loci/functions/ll_kt_both_bbmle.R\")\n",
    "source(\"~/parentage/kernel_fitting/1340_loci/functions/ll_kt_both_grid_search.R\")\n",
    "\n",
    "#source(\"~/oceanography/scripts/PredictedProportions.R\")\n",
    "\n",
    "#read in the kernel fitting summary\n",
    "kernels <- fread(file=\"~/parentage/kernel_fitting/1340_loci/final_results/tables/kernel_fitting_summary.csv\")\n",
    "kernel2012_14 <- fread(file=\"~/oceanography/empirical_data/genetics/GenKernelsForROMSComp2012-14.csv\")\n",
    "\n",
    "#read in the centroids adjusted for the simulation, so the Magbangons combined \n",
    "#centroids <- fread(file=\"~/oceanography/script_output/SurveyData/SimulationCentroids.csv\")\n",
    "Centroids <- fread(file=\"~/oceanography/empirical_data/site_centroids_SimTest.csv\")\n",
    "setorder(Centroids, site)\n",
    "#read in the table with number of recruits sampled at each site for each year\n",
    "AnnualRecsSamp <- fread(file=\"~/oceanography/script_output/SurveyData/AnnualRecruitsSampled.csv\")\n",
    "#read in the table of the proportion of anemones sampled at each site for each year\n",
    "PropSamp <- fread(file=\"~/oceanography/script_output/SurveyData/ProportionHabitatSampled.csv\")\n",
    "setnames(PropSamp, c(\"PropAnemSamp\", \"TotalAnems\"), c(\"prop_anem_samp\", \"total_anems\"))\n",
    "#read in the ROMS simulation connectivity table with metadata, not yet subsetted (*but check this)\n",
    "#SimConn <- fread(file=\"~/oceanography/script_output/ROMSDataTables/SimConnectivityTableWithMetaLongForm.csv\")\n",
    "\n",
    "#add in the numbers of particles seeded at each site\n",
    "SeededParticles <- fread(\"~/oceanography/ROMS/data/Particles_Per_Release_Site_Renamed.csv\")\n",
    "setnames(SeededParticles,c(\"source\", \"daily_particles_released\")) \n",
    "#DateJoin <- SeededParticles[DateJoin, on=\"source\"][, particles_released_daily := as.numeric(particles_released_daily)] \n",
    "\n",
    "#make vectors defining sites we didn't sample, but that are in the model, and the sandflats specifically \n",
    "unsampled_sites <- c(\"SF1\", \"SF2\", \"SF3\", \"SF4\", \"SF5\", \"SF6\", \"Pangasugan\", \"Other\", \"CAI\") \n",
    "sand_flats <- c(\"SF1\", \"SF2\", \"SF3\", \"SF4\", \"SF5\", \"SF6\") \n",
    "unrealistic_sources <- c(\"SF1\", \"SF2\", \"SF3\", \"SF4\", \"SF5\", \"SF6\", \"Pangasugan\") \n",
    "#make the constant inputs for the kernel fitting function\n",
    "#distance matrix using the centroids with combined Magbangon\n",
    "### List of source locations\n",
    "SitesSource <- Centroids\n",
    "\n",
    "### List of destination locations\n",
    "SitesDest <- Centroids\n",
    "\n",
    "DistMatm <- distm(SitesSource[,c('lon','lat')], SitesSource[,c('lon','lat')], fun=distVincentyEllipsoid)\n",
    "Distances <- DistMatm*10^-3\n",
    "#read in the reef areas for the kernel fitting\n",
    "Area <- fread(\"~/oceanography/empirical_data/site_area_header_nonsurveyed_simulation_kernels_test.csv\") %>%\n",
    "    arrange(site) %>%\n",
    "    filter(site %!in% c(\"near_north_full1\", \"near_north_full2\", \"near_north_full3\", \"near_south_full1\", \"near_south_full2\", \"near_south_full3\")) %>%\n",
    "    mutate(kmsq=msq*10^-6)# %>%\n",
    "    #select(kmsq) #need to uncomment for functions to work\n",
    "setorder(Area, site)\n",
    "reef_sizes <- as.matrix(Area$kmsq)\n",
    "\n",
    "#make a site index table, use this for Sampled_reefs input in kernel fitting\n",
    "SiteIndex <- unique(Centroids, by=\"site\")[, \"site\"][, index := .I] #add the row number as the unique site index\n",
    "\n",
    "#make a table with the survey information for each site (how many fish sampled, prop anems sampled, total number of anems at site)\n",
    "SurveyData <- AnnualRecsSamp[PropSamp, on=.(year=end_year, site)][#join the sampling tables together\n",
    "    is.na(n_offs_gen), n_offs_gen := 0][,#change NA's to 0\n",
    "    -\"time_frame\"]#drop the time_frame column, we can key with end_year\n",
    "#setnames(SurveyData, c(\"PropAnemSamp\", \"TotalAnems\"), c(\"prop_anem_samp\", \"total_anems\"))\n",
    "#setkey(SurveyData, site)\n",
    "#check all sites are represented in centroids and area (and indirectly distances, which comes from centroids)\n",
    "#Area[site %!in% centroids$site] #should be nothing\n",
    "\n",
    "#Allison's abundance time series data \n",
    "#download.file(url = \"https://github.com/pinskylab/Clownfish_persistence/blob/master/Data/Script_outputs/females_df_F.RData?raw=true\", destfile = \"~/oceanography/empirical_data/genetics/females_df_F.RData\")\n",
    "load(\"~/oceanography/empirical_data/genetics/females_df_F.RData\")\n",
    "Abundance <- as.data.table(females_df_F)\n",
    "setnames(Abundance, \"nF\", \"num_females\")\n",
    "Abundance <- unique(Abundance[site %like% \"Magbangon\", site := \"Magbangon\"][ #collapse Magbangon values\n",
    "            , num_females := sum(num_females), by=c(\"site\", \"year\")], by=c(\"site\", \"year\"))\n",
    "#join the survey sampling tables together\n",
    "SurveyData <- AnnualRecsSamp[PropSamp, on=.(year=end_year, site)][\n",
    "    is.na(n_offs_gen), n_offs_gen := 0][,#change NA's to 0\n",
    "    -\"time_frame\"]#drop the time_frame\n",
    "\n",
    "SurveyData <- Abundance[, c(\"year\", \"site\", \"num_females\")][SurveyData, on=.(year, site)]#join in Allison's estimate of female abundance. There are NA values, but that's okay we can figure those out when we start thinking about incorporating uncertainty in this\n",
    "\n"
   ]
  },
  {
   "cell_type": "code",
   "execution_count": 55,
   "metadata": {},
   "outputs": [
    {
     "data": {
      "text/html": [
       "687"
      ],
      "text/latex": [
       "687"
      ],
      "text/markdown": [
       "687"
      ],
      "text/plain": [
       "[1] 687"
      ]
     },
     "metadata": {},
     "output_type": "display_data"
    }
   ],
   "source": [
    "#make a table of the dates of release for simulations, for calculating the number of particles released in each time frame\n",
    "season1 <- data.table(date=seq(as.Date(\"2010-10-01\"), as.Date(\"2011-05-31\"), by=\"days\"))\n",
    "\n",
    "season2 <- data.table(date=seq(as.Date(\"2011-10-01\"), as.Date(\"2012-05-31\"), by=\"days\"))\n",
    "\n",
    "season3 <- data.table(date=seq(as.Date(\"2012-10-01\"), as.Date(\"2013-05-31\"), by=\"days\"))\n",
    "\n",
    "season4 <- data.table(date=seq(as.Date(\"2013-10-01\"), as.Date(\"2014-04-18\"), by=\"days\"))\n",
    "\n",
    "AllDates <- rbind(season1, season2, season3, season4)\n",
    "\n",
    "#mark the monsoon seasons, based on the same criteria I used for the parentage indirectly through the growth estimates\n",
    "NEM <- c(11, 12, 1, 2, 3, 4, 5, 6)\n",
    "SWM <- c(7, 8, 9, 10)\n",
    "\n",
    "AllDates[,date := ymd(date)][, #format as ymd\n",
    "             sim_monsoon := ifelse(month(date) %in% NEM, \"NEM\", \"SWM\")][,#mark monsoon season based on month\n",
    "             sim_year:=year(date)][,#add year column\n",
    "            year_sampled:= ifelse(date %in% season1$date, 2011, ifelse(date %in% season2$date, 2012, ifelse(date %in% season3$date, 2013, 2014)))]#and then add a year_sampled for the empircal sampling season of that particle\n",
    "\n",
    "ReleaseDays <- AllDates[, .(num_release_days_seasonal=.N), by=c(\"year_sampled\", \"sim_monsoon\")][, num_release_days_annual:= sum(num_release_days_seasonal), by=year_sampled]\n",
    "\n",
    "total_release_days <- AllDates[year_sampled %in% c(2012, 2013, 2014), .N]#for the all year kernel- how many days of the simulation conincide with our particle sampling?\n",
    "total_release_days #should be 687\n"
   ]
  },
  {
   "cell_type": "code",
   "execution_count": 63,
   "metadata": {},
   "outputs": [],
   "source": [
    "#prep biophysical connectivity matrix\n",
    "#outside of the loop, trim this to only be the destinations we sampled\n",
    "SourceJoin <- SurveyData[SimConn, on = .(site = source, year=year_sampled)]\n",
    "setnames(SourceJoin, skip_absent=TRUE, c(\"site\", \"n_offs_gen\", \"prop_anem_samp\", \"total_anems\", \"num_females\"), c(\"source\", \"source_num_rec_sampled_annual\",  \"source_prop_anem_samp\", \"source_total_anems\", \"source_num_females\"))\n",
    "DestJoin <- SurveyData[SourceJoin, on = .(site = dest, year)]\n",
    "setnames(DestJoin, skip_absent=TRUE, c(\"site\", \"n_offs_gen\", \"prop_anem_samp\", \"total_anems\", \"num_females\"), c(\"dest\", \"dest_num_rec_sampled_annual\",  \"dest_prop_samp\", \"dest_total_anems\", \"dest_num_females\"))\n",
    "\n",
    "SimConn <- DestJoin[source %!in% unrealistic_sources & dest %!in% unrealistic_sources & year %in% c(2012, 2013, 2014)][#sand flats and Pangasugan are not realistic source or destination sites because there's almost no habitat. Safe to drop, but keep the rest of the possibilities so we can subsample iteratively all possibilities.\n",
    "    , daily_particles_released := as.numeric(daily_particles_released)] #change from integer to numeric\n",
    "SimConn <- ReleaseDays[SimConn, on=.(year_sampled=year, sim_monsoon)]#join in the info for number of release days in the time frame\n",
    "SimConn <- kernels[Year %in% c(\"2012\", \"2013\", \"2014\")][, year:=as.integer(Year)][,c(\"year\", \"NumParentageMatches\")][SimConn, on=.(year=year_sampled)]#add in a column for the observed number of parentage matches\n",
    "#rename the monsoon column in the full table for consistency\n",
    "setnames(SimConn, c(\"sim_monsoon\", \"NumParentageMatches\"), c(\"monsoon\", \"num_route_parentage_matches\")) #get rid of upper case and inconsistent naming\n",
    "setcolorder(SimConn, c(\"particle_id\", \"source\", \"dest\", \"year\", \"monsoon\", \"date\"))\n",
    "\n",
    "#at this point, we can make the raw number assignment matrix, but we want to make a normalized version that is num assigned from a source to a destination/ num released from that source\n",
    "#fwrite(SimConn, file=\"~/oceanography/script_output/ROMSDataTables/SimConnectivityTableCompleteMetaLongForm.csv\")"
   ]
  },
  {
   "cell_type": "markdown",
   "metadata": {
    "scrolled": true
   },
   "source": [
    "__Skip the joining of tables that takes forever and read in the__ "
   ]
  },
  {
   "cell_type": "code",
   "execution_count": 2,
   "metadata": {},
   "outputs": [],
   "source": [
    "SimConn <- fread(file=\"~/oceanography/script_output/ROMSDataTables/SimConnectivityTableCompleteMetaLongForm.csv\")[dest != \"CAI\"] #filter out CAI as a destination for now, not very well spatially defined"
   ]
  },
  {
   "cell_type": "code",
   "execution_count": 3,
   "metadata": {},
   "outputs": [],
   "source": [
    "#each year will require a different set of survey data, so make a list of each and index by site for fast look up\n",
    "SampledTable <- SurveyData[prop_anem_samp >0, c(\"year\", \"site\")]#previously named PropSampTable\n",
    "\n",
    "#make sure all sampled sites are represented when joining the survey data to the sampled simulation- this chunk has the tables to add to a subsampled particle table. no need for the full\n",
    "SampTable <- rbind(SurveyData[prop_anem_samp >0 & year %in% c(2012, 2013, 2014), c(\"year\", \"site\")][, .(source=site, dest=site, year=year)][, #will join to the simulated sampling table by source and dest, so make those each a column from site and preserve the year variable as a key\n",
    "     c(\"year\", \"source\", \"dest\")][, monsoon := \"NEM\"], SurveyData[prop_anem_samp >0 & year %in% c(2012, 2013, 2014), c(\"year\", \"site\")][, .(source=site, dest=site, year=year)][, #will join to the simulated sampling table by source and dest, so make those each a column from site and preserve the year variable as a key\n",
    "     c(\"year\", \"source\", \"dest\")][, monsoon := \"SWM\"])\n",
    "UnqSurvey <- unique(SampTable, by=c(\"source\", \"dest\", \"year\", \"monsoon\"))#add in the diff Monsoon seasons so there are complete parentage matrices later\n",
    "AddDest <- rbind(SurveyData[year %in% c(2012, 2013, 2014) & prop_anem_samp >0][, c(\"year\", \"site\")][, monsoon := \"NEM\"], \n",
    "                  SurveyData[year %in% c(2012, 2013, 2014) & prop_anem_samp >0][ , c(\"year\", \"site\")][, monsoon := \"SWM\"])  #what destinations were sampled, for use with unassigned table\n"
   ]
  },
  {
   "cell_type": "code",
   "execution_count": null,
   "metadata": {},
   "outputs": [],
   "source": [
    "#First, figure out how to get normalized conn values for all time frames\n",
    "#then, test kernel fitting function on full matrix      \n",
    "#last, start testing likelihood function build"
   ]
  },
  {
   "cell_type": "code",
   "execution_count": 68,
   "metadata": {},
   "outputs": [
    {
     "data": {
      "text/html": [
       "<table>\n",
       "<thead><tr><th scope=col>source</th><th scope=col>V1</th></tr></thead>\n",
       "<tbody>\n",
       "\t<tr><td>Other            </td><td>1.592116e-04     </td></tr>\n",
       "\t<tr><td>Gabas            </td><td>7.293427e-02     </td></tr>\n",
       "\t<tr><td>Poroc San Flower </td><td>3.354786e-02     </td></tr>\n",
       "\t<tr><td>Elementary School</td><td>1.995733e-02     </td></tr>\n",
       "\t<tr><td>Wangag           </td><td>3.182667e-02     </td></tr>\n",
       "\t<tr><td>Tamakin Dacot    </td><td>1.680768e-01     </td></tr>\n",
       "\t<tr><td>Poroc Rose       </td><td>2.173135e-02     </td></tr>\n",
       "\t<tr><td>Hicgop South     </td><td>1.811875e-02     </td></tr>\n",
       "\t<tr><td>Caridad Proper   </td><td>1.088035e-02     </td></tr>\n",
       "\t<tr><td>Sitio Baybayon   </td><td>4.000930e-02     </td></tr>\n",
       "\t<tr><td>Haina            </td><td>3.972831e-03     </td></tr>\n",
       "\t<tr><td>Visca            </td><td>2.494336e-02     </td></tr>\n",
       "\t<tr><td>Sitio Lonas      </td><td>7.002747e-02     </td></tr>\n",
       "\t<tr><td>Caridad Cemetery </td><td>1.477027e-02     </td></tr>\n",
       "\t<tr><td>San Agustin      </td><td>3.673346e-02     </td></tr>\n",
       "\t<tr><td>CAI              </td><td>1.237518e-06     </td></tr>\n",
       "\t<tr><td>Cabatoan         </td><td>1.272920e-02     </td></tr>\n",
       "\t<tr><td>Magbangon        </td><td>1.548634e-02     </td></tr>\n",
       "\t<tr><td>Sitio Tugas      </td><td>9.543598e-03     </td></tr>\n",
       "\t<tr><td>Palanas          </td><td>1.213493e-02     </td></tr>\n",
       "</tbody>\n",
       "</table>\n"
      ],
      "text/latex": [
       "\\begin{tabular}{r|ll}\n",
       " source & V1\\\\\n",
       "\\hline\n",
       "\t Other             & 1.592116e-04     \\\\\n",
       "\t Gabas             & 7.293427e-02     \\\\\n",
       "\t Poroc San Flower  & 3.354786e-02     \\\\\n",
       "\t Elementary School & 1.995733e-02     \\\\\n",
       "\t Wangag            & 3.182667e-02     \\\\\n",
       "\t Tamakin Dacot     & 1.680768e-01     \\\\\n",
       "\t Poroc Rose        & 2.173135e-02     \\\\\n",
       "\t Hicgop South      & 1.811875e-02     \\\\\n",
       "\t Caridad Proper    & 1.088035e-02     \\\\\n",
       "\t Sitio Baybayon    & 4.000930e-02     \\\\\n",
       "\t Haina             & 3.972831e-03     \\\\\n",
       "\t Visca             & 2.494336e-02     \\\\\n",
       "\t Sitio Lonas       & 7.002747e-02     \\\\\n",
       "\t Caridad Cemetery  & 1.477027e-02     \\\\\n",
       "\t San Agustin       & 3.673346e-02     \\\\\n",
       "\t CAI               & 1.237518e-06     \\\\\n",
       "\t Cabatoan          & 1.272920e-02     \\\\\n",
       "\t Magbangon         & 1.548634e-02     \\\\\n",
       "\t Sitio Tugas       & 9.543598e-03     \\\\\n",
       "\t Palanas           & 1.213493e-02     \\\\\n",
       "\\end{tabular}\n"
      ],
      "text/markdown": [
       "\n",
       "| source | V1 |\n",
       "|---|---|\n",
       "| Other             | 1.592116e-04      |\n",
       "| Gabas             | 7.293427e-02      |\n",
       "| Poroc San Flower  | 3.354786e-02      |\n",
       "| Elementary School | 1.995733e-02      |\n",
       "| Wangag            | 3.182667e-02      |\n",
       "| Tamakin Dacot     | 1.680768e-01      |\n",
       "| Poroc Rose        | 2.173135e-02      |\n",
       "| Hicgop South      | 1.811875e-02      |\n",
       "| Caridad Proper    | 1.088035e-02      |\n",
       "| Sitio Baybayon    | 4.000930e-02      |\n",
       "| Haina             | 3.972831e-03      |\n",
       "| Visca             | 2.494336e-02      |\n",
       "| Sitio Lonas       | 7.002747e-02      |\n",
       "| Caridad Cemetery  | 1.477027e-02      |\n",
       "| San Agustin       | 3.673346e-02      |\n",
       "| CAI               | 1.237518e-06      |\n",
       "| Cabatoan          | 1.272920e-02      |\n",
       "| Magbangon         | 1.548634e-02      |\n",
       "| Sitio Tugas       | 9.543598e-03      |\n",
       "| Palanas           | 1.213493e-02      |\n",
       "\n"
      ],
      "text/plain": [
       "   source            V1          \n",
       "1  Other             1.592116e-04\n",
       "2  Gabas             7.293427e-02\n",
       "3  Poroc San Flower  3.354786e-02\n",
       "4  Elementary School 1.995733e-02\n",
       "5  Wangag            3.182667e-02\n",
       "6  Tamakin Dacot     1.680768e-01\n",
       "7  Poroc Rose        2.173135e-02\n",
       "8  Hicgop South      1.811875e-02\n",
       "9  Caridad Proper    1.088035e-02\n",
       "10 Sitio Baybayon    4.000930e-02\n",
       "11 Haina             3.972831e-03\n",
       "12 Visca             2.494336e-02\n",
       "13 Sitio Lonas       7.002747e-02\n",
       "14 Caridad Cemetery  1.477027e-02\n",
       "15 San Agustin       3.673346e-02\n",
       "16 CAI               1.237518e-06\n",
       "17 Cabatoan          1.272920e-02\n",
       "18 Magbangon         1.548634e-02\n",
       "19 Sitio Tugas       9.543598e-03\n",
       "20 Palanas           1.213493e-02"
      ]
     },
     "metadata": {},
     "output_type": "display_data"
    },
    {
     "name": "stderr",
     "output_type": "stream",
     "text": [
      "Aggregate function missing, defaulting to 'length'\n"
     ]
    },
    {
     "data": {
      "text/html": [
       "<ol class=list-inline>\n",
       "\t<li>19</li>\n",
       "\t<li>18</li>\n",
       "</ol>\n"
      ],
      "text/latex": [
       "\\begin{enumerate*}\n",
       "\\item 19\n",
       "\\item 18\n",
       "\\end{enumerate*}\n"
      ],
      "text/markdown": [
       "1. 19\n",
       "2. 18\n",
       "\n",
       "\n"
      ],
      "text/plain": [
       "[1] 19 18"
      ]
     },
     "metadata": {},
     "output_type": "display_data"
    }
   ],
   "source": [
    "#at this point, we can make the raw number assignment matrix, but we want to make a normalized version that is num assigned from a source to a destination/ num released from that source\n",
    "total_release_days <- 687\n",
    "\n",
    "AllYearsRec <- SimConn[ , .(total_particles_rec = .N), by= c(\"source\",\"dest\")] #all particles recruiting along each route FILTER HERE FOR TIME PERIOD***\n",
    "AllYearsRelease <- unique(SimConn[, .(total_particles_released = as.numeric(daily_particles_released)*as.numeric(total_release_days)), by= c(\"source\")], by=\"source\") #calculate the number of particles released over the time frame by multiplyig the release days by the number of particles released daily. fread() converts big numbers to integers so specify as numeric to avoid integer overflow NAs\n",
    "#join recruited and released tables together and make a column for the normalized values\n",
    "AllYearsNormConn <-  AllYearsRelease[AllYearsRec, on=\"source\"][\n",
    "    , source_norm_rec := total_particles_rec/total_particles_released]\n",
    "\n",
    "#check that they sum to =< 1\n",
    "AllYearsNormConn[,sum(source_norm_rec), by=\"source\"]#nothing should be greater than 1. It isn't- great\n",
    "\n",
    "#make sure all possible routes are represented!!*\n",
    "#cast into wide format\n",
    "FullBiophysMatNorm <- as.matrix(rbind(dcast(AllYearsNormConn[source != \"Other\" & source != \"CAI\", .(source, dest, source_norm_rec)][ #for assigned particles (not from \"Other\") keep the source/dest columns that will be expanded into wide form to become the connectivity matrix. Filtering for time period etc can be done in i here.\n",
    "    order(source, dest)] #keep sites in alphabetical order so the matrix is correctly formatted!\n",
    "        , source ~ dest, value.var=\"source_norm_rec\")[\n",
    "    ,-\"source\"], #remove the source column after casting\n",
    "      dcast(AllYearsNormConn[source == \"Other\" | source == \"CAI\", .(source, dest, source_norm_rec)][ #this is to cast the \"unassigned row for the model parentage, which is anyting from \"Other\"\n",
    "          order(source, dest)][, source := \"unknown\"], source ~ dest, value.var=\"source_norm_rec\")[,-\"source\"]))#bind these two cast wide form data tables (assigned and unassigned particles) and then turn into a matrix to be used in the likelihood functions\n",
    "dim(FullBiophysMatNorm )\n",
    "FullBiophysMatNorm[is.na(FullBiophysMatNorm)] <- 0 #change NAs to zeros\n"
   ]
  },
  {
   "cell_type": "code",
   "execution_count": null,
   "metadata": {},
   "outputs": [],
   "source": []
  },
  {
   "cell_type": "code",
   "execution_count": 69,
   "metadata": {},
   "outputs": [
    {
     "data": {
      "text/html": [
       "<table>\n",
       "<thead><tr><th scope=col>Cabatoan</th><th scope=col>Caridad Cemetery</th><th scope=col>Caridad Proper</th><th scope=col>Elementary School</th><th scope=col>Gabas</th><th scope=col>Haina</th><th scope=col>Hicgop South</th><th scope=col>Magbangon</th><th scope=col>Palanas</th><th scope=col>Poroc Rose</th><th scope=col>Poroc San Flower</th><th scope=col>San Agustin</th><th scope=col>Sitio Baybayon</th><th scope=col>Sitio Lonas</th><th scope=col>Sitio Tugas</th><th scope=col>Tamakin Dacot</th><th scope=col>Visca</th><th scope=col>Wangag</th></tr></thead>\n",
       "<tbody>\n",
       "\t<tr><td>1.470278e-03</td><td>1.661032e-03</td><td>2.595729e-03</td><td>3.448256e-04</td><td>0.000000e+00</td><td>7.043246e-05</td><td>1.352890e-03</td><td>1.154799e-03</td><td>2.993379e-04</td><td>1.041813e-04</td><td>1.995586e-04</td><td>5.590576e-04</td><td>1.379302e-03</td><td>5.502536e-04</td><td>4.900925e-04</td><td>8.070386e-05</td><td>1.467343e-06</td><td>4.152580e-04</td></tr>\n",
       "\t<tr><td>1.123985e-03</td><td>3.289783e-03</td><td>4.287576e-03</td><td>2.964032e-04</td><td>1.173874e-05</td><td>1.760811e-05</td><td>3.594990e-04</td><td>1.119583e-03</td><td>1.892872e-04</td><td>1.144527e-04</td><td>2.142321e-04</td><td>7.908978e-04</td><td>1.323543e-03</td><td>9.713809e-04</td><td>4.724844e-04</td><td>2.934686e-06</td><td>0.000000e+00</td><td>1.848852e-04</td></tr>\n",
       "\t<tr><td>1.135723e-03</td><td>1.072628e-03</td><td>3.075551e-03</td><td>2.729258e-04</td><td>0.000000e+00</td><td>1.173874e-05</td><td>3.873785e-04</td><td>7.659530e-04</td><td>7.043246e-05</td><td>8.217120e-05</td><td>2.890665e-04</td><td>1.027140e-03</td><td>1.116648e-03</td><td>9.787177e-04</td><td>4.548763e-04</td><td>5.869371e-06</td><td>2.934686e-06</td><td>1.305935e-04</td></tr>\n",
       "\t<tr><td>6.559022e-04</td><td>1.333815e-03</td><td>2.585458e-03</td><td>2.321336e-03</td><td>1.467343e-06</td><td>5.722637e-05</td><td>5.622858e-03</td><td>6.397615e-04</td><td>1.291262e-04</td><td>2.699911e-04</td><td>4.196600e-04</td><td>1.229633e-03</td><td>7.776917e-04</td><td>1.057954e-03</td><td>2.701378e-03</td><td>1.173874e-05</td><td>2.934686e-06</td><td>1.393976e-04</td></tr>\n",
       "\t<tr><td>1.716791e-04</td><td>1.379302e-04</td><td>5.194394e-04</td><td>2.677901e-03</td><td>2.502993e-02</td><td>2.377095e-04</td><td>1.760811e-03</td><td>1.511363e-04</td><td>4.548763e-05</td><td>1.194417e-03</td><td>1.810701e-03</td><td>8.252336e-03</td><td>2.435789e-04</td><td>1.558465e-02</td><td>2.299326e-03</td><td>1.804832e-04</td><td>1.260447e-02</td><td>3.228154e-05</td></tr>\n",
       "\t<tr><td>1.540710e-05</td><td>7.336714e-07</td><td>8.070386e-06</td><td>9.317627e-05</td><td>1.467343e-05</td><td>2.549508e-03</td><td>2.934686e-05</td><td>1.027140e-05</td><td>2.934686e-06</td><td>2.054280e-05</td><td>2.641217e-05</td><td>6.676410e-05</td><td>4.548763e-05</td><td>2.054280e-05</td><td>4.108560e-05</td><td>9.662452e-04</td><td>5.575903e-05</td><td>5.869371e-06</td></tr>\n",
       "\t<tr><td>7.894304e-04</td><td>1.666901e-03</td><td>2.696242e-03</td><td>1.447534e-03</td><td>3.668357e-05</td><td>3.514286e-04</td><td>3.006585e-03</td><td>5.524546e-04</td><td>1.628751e-04</td><td>4.944945e-04</td><td>8.253803e-04</td><td>1.355091e-03</td><td>1.385172e-03</td><td>1.580328e-03</td><td>1.258246e-03</td><td>1.958903e-04</td><td>5.649270e-05</td><td>2.575187e-04</td></tr>\n",
       "\t<tr><td>1.113713e-03</td><td>2.732192e-03</td><td>3.950087e-03</td><td>2.597197e-04</td><td>0.000000e+00</td><td>6.749777e-05</td><td>1.181211e-03</td><td>6.779124e-04</td><td>5.458515e-04</td><td>6.016106e-05</td><td>1.217895e-04</td><td>7.806264e-04</td><td>2.407910e-03</td><td>3.947152e-04</td><td>3.448256e-04</td><td>3.374888e-05</td><td>1.907546e-05</td><td>7.952998e-04</td></tr>\n",
       "\t<tr><td>9.757830e-04</td><td>2.173135e-03</td><td>1.178276e-03</td><td>2.934686e-06</td><td>0.000000e+00</td><td>0.000000e+00</td><td>1.364629e-04</td><td>1.172407e-03</td><td>9.258933e-04</td><td>1.320609e-05</td><td>1.467343e-06</td><td>5.575903e-05</td><td>4.601587e-03</td><td>1.467343e-06</td><td>7.483448e-05</td><td>0.000000e+00</td><td>0.000000e+00</td><td>8.217120e-04</td></tr>\n",
       "\t<tr><td>2.142321e-04</td><td>4.768864e-04</td><td>1.490820e-03</td><td>1.520167e-03</td><td>1.614077e-05</td><td>2.714584e-04</td><td>1.078497e-03</td><td>5.575903e-05</td><td>1.188548e-04</td><td>1.110779e-03</td><td>1.663967e-03</td><td>3.323531e-03</td><td>2.156994e-04</td><td>7.380734e-03</td><td>1.570057e-03</td><td>1.540710e-04</td><td>9.948584e-04</td><td>7.483448e-05</td></tr>\n",
       "\t<tr><td>2.626544e-04</td><td>3.316195e-04</td><td>1.200286e-03</td><td>2.476875e-03</td><td>5.869371e-06</td><td>2.655891e-04</td><td>1.185613e-03</td><td>1.173874e-04</td><td>1.173874e-04</td><td>1.731465e-03</td><td>2.316934e-03</td><td>7.443830e-03</td><td>3.345542e-04</td><td>1.249589e-02</td><td>2.293457e-03</td><td>1.511363e-04</td><td>6.793797e-04</td><td>1.379302e-04</td></tr>\n",
       "\t<tr><td>2.362422e-04</td><td>2.215688e-04</td><td>1.462941e-03</td><td>2.243567e-03</td><td>1.467343e-06</td><td>1.261915e-04</td><td>2.126180e-03</td><td>1.951566e-04</td><td>8.070386e-05</td><td>2.475407e-03</td><td>2.177537e-03</td><td>7.520132e-03</td><td>2.802625e-04</td><td>1.491701e-02</td><td>2.312532e-03</td><td>6.309574e-05</td><td>1.863525e-04</td><td>1.071160e-04</td></tr>\n",
       "\t<tr><td>3.173863e-03</td><td>4.577376e-03</td><td>5.856165e-03</td><td>1.746138e-04</td><td>0.000000e+00</td><td>2.787951e-05</td><td>6.214197e-04</td><td>3.506216e-03</td><td>1.102708e-03</td><td>5.209067e-05</td><td>1.445333e-04</td><td>8.143753e-04</td><td>1.725448e-02</td><td>4.321325e-04</td><td>4.064540e-04</td><td>3.888458e-05</td><td>7.336714e-07</td><td>1.825374e-03</td></tr>\n",
       "\t<tr><td>4.240621e-04</td><td>7.336714e-04</td><td>2.752735e-03</td><td>3.458527e-03</td><td>0.000000e+00</td><td>0.000000e+00</td><td>1.327945e-02</td><td>2.905339e-04</td><td>1.100507e-04</td><td>7.483448e-05</td><td>2.127647e-04</td><td>4.352139e-03</td><td>3.947152e-04</td><td>3.813917e-02</td><td>5.707964e-03</td><td>0.000000e+00</td><td>1.320609e-05</td><td>8.363854e-05</td></tr>\n",
       "\t<tr><td>6.617716e-04</td><td>5.766657e-04</td><td>1.135723e-03</td><td>7.248674e-04</td><td>1.467343e-06</td><td>7.336714e-05</td><td>6.045452e-04</td><td>4.240621e-04</td><td>1.041813e-04</td><td>2.699911e-04</td><td>3.976499e-04</td><td>1.148929e-03</td><td>1.523102e-03</td><td>1.106376e-03</td><td>5.663943e-04</td><td>2.054280e-05</td><td>1.173874e-05</td><td>1.922219e-04</td></tr>\n",
       "\t<tr><td>1.173874e-05</td><td>1.760811e-05</td><td>2.641217e-05</td><td>4.402028e-06</td><td>8.657323e-05</td><td>3.627125e-02</td><td>3.228154e-05</td><td>8.804057e-06</td><td>0.000000e+00</td><td>1.129854e-04</td><td>2.347749e-05</td><td>1.291262e-04</td><td>7.336714e-06</td><td>7.483448e-05</td><td>2.934686e-05</td><td>1.306463e-01</td><td>5.942738e-04</td><td>0.000000e+00</td></tr>\n",
       "\t<tr><td>8.657323e-05</td><td>2.039607e-04</td><td>1.382237e-03</td><td>1.911948e-03</td><td>4.108560e-05</td><td>2.978706e-04</td><td>6.955205e-04</td><td>8.950791e-05</td><td>6.309574e-05</td><td>1.170940e-03</td><td>1.791626e-03</td><td>5.779863e-03</td><td>1.217895e-04</td><td>8.858349e-03</td><td>1.719726e-03</td><td>2.611870e-04</td><td>4.343335e-04</td><td>3.374888e-05</td></tr>\n",
       "\t<tr><td>2.925882e-03</td><td>3.154787e-03</td><td>3.267772e-03</td><td>1.115181e-04</td><td>0.000000e+00</td><td>2.201014e-05</td><td>4.944945e-04</td><td>3.499613e-03</td><td>1.261915e-03</td><td>7.483448e-05</td><td>9.537728e-05</td><td>6.074799e-04</td><td>1.427578e-02</td><td>1.848852e-04</td><td>1.848852e-04</td><td>1.467343e-05</td><td>0.000000e+00</td><td>1.650761e-03</td></tr>\n",
       "\t<tr><td>2.000000e+00</td><td>1.000000e+00</td><td>2.000000e+00</td><td>1.000000e+00</td><td>2.000000e+00</td><td>2.000000e+00</td><td>2.000000e+00</td><td>2.000000e+00</td><td>2.000000e+00</td><td>2.000000e+00</td><td>2.000000e+00</td><td>2.000000e+00</td><td>2.000000e+00</td><td>1.000000e+00</td><td>1.000000e+00</td><td>2.000000e+00</td><td>2.000000e+00</td><td>2.000000e+00</td></tr>\n",
       "</tbody>\n",
       "</table>\n"
      ],
      "text/latex": [
       "\\begin{tabular}{llllllllllllllllll}\n",
       " Cabatoan & Caridad Cemetery & Caridad Proper & Elementary School & Gabas & Haina & Hicgop South & Magbangon & Palanas & Poroc Rose & Poroc San Flower & San Agustin & Sitio Baybayon & Sitio Lonas & Sitio Tugas & Tamakin Dacot & Visca & Wangag\\\\\n",
       "\\hline\n",
       "\t 1.470278e-03 & 1.661032e-03 & 2.595729e-03 & 3.448256e-04 & 0.000000e+00 & 7.043246e-05 & 1.352890e-03 & 1.154799e-03 & 2.993379e-04 & 1.041813e-04 & 1.995586e-04 & 5.590576e-04 & 1.379302e-03 & 5.502536e-04 & 4.900925e-04 & 8.070386e-05 & 1.467343e-06 & 4.152580e-04\\\\\n",
       "\t 1.123985e-03 & 3.289783e-03 & 4.287576e-03 & 2.964032e-04 & 1.173874e-05 & 1.760811e-05 & 3.594990e-04 & 1.119583e-03 & 1.892872e-04 & 1.144527e-04 & 2.142321e-04 & 7.908978e-04 & 1.323543e-03 & 9.713809e-04 & 4.724844e-04 & 2.934686e-06 & 0.000000e+00 & 1.848852e-04\\\\\n",
       "\t 1.135723e-03 & 1.072628e-03 & 3.075551e-03 & 2.729258e-04 & 0.000000e+00 & 1.173874e-05 & 3.873785e-04 & 7.659530e-04 & 7.043246e-05 & 8.217120e-05 & 2.890665e-04 & 1.027140e-03 & 1.116648e-03 & 9.787177e-04 & 4.548763e-04 & 5.869371e-06 & 2.934686e-06 & 1.305935e-04\\\\\n",
       "\t 6.559022e-04 & 1.333815e-03 & 2.585458e-03 & 2.321336e-03 & 1.467343e-06 & 5.722637e-05 & 5.622858e-03 & 6.397615e-04 & 1.291262e-04 & 2.699911e-04 & 4.196600e-04 & 1.229633e-03 & 7.776917e-04 & 1.057954e-03 & 2.701378e-03 & 1.173874e-05 & 2.934686e-06 & 1.393976e-04\\\\\n",
       "\t 1.716791e-04 & 1.379302e-04 & 5.194394e-04 & 2.677901e-03 & 2.502993e-02 & 2.377095e-04 & 1.760811e-03 & 1.511363e-04 & 4.548763e-05 & 1.194417e-03 & 1.810701e-03 & 8.252336e-03 & 2.435789e-04 & 1.558465e-02 & 2.299326e-03 & 1.804832e-04 & 1.260447e-02 & 3.228154e-05\\\\\n",
       "\t 1.540710e-05 & 7.336714e-07 & 8.070386e-06 & 9.317627e-05 & 1.467343e-05 & 2.549508e-03 & 2.934686e-05 & 1.027140e-05 & 2.934686e-06 & 2.054280e-05 & 2.641217e-05 & 6.676410e-05 & 4.548763e-05 & 2.054280e-05 & 4.108560e-05 & 9.662452e-04 & 5.575903e-05 & 5.869371e-06\\\\\n",
       "\t 7.894304e-04 & 1.666901e-03 & 2.696242e-03 & 1.447534e-03 & 3.668357e-05 & 3.514286e-04 & 3.006585e-03 & 5.524546e-04 & 1.628751e-04 & 4.944945e-04 & 8.253803e-04 & 1.355091e-03 & 1.385172e-03 & 1.580328e-03 & 1.258246e-03 & 1.958903e-04 & 5.649270e-05 & 2.575187e-04\\\\\n",
       "\t 1.113713e-03 & 2.732192e-03 & 3.950087e-03 & 2.597197e-04 & 0.000000e+00 & 6.749777e-05 & 1.181211e-03 & 6.779124e-04 & 5.458515e-04 & 6.016106e-05 & 1.217895e-04 & 7.806264e-04 & 2.407910e-03 & 3.947152e-04 & 3.448256e-04 & 3.374888e-05 & 1.907546e-05 & 7.952998e-04\\\\\n",
       "\t 9.757830e-04 & 2.173135e-03 & 1.178276e-03 & 2.934686e-06 & 0.000000e+00 & 0.000000e+00 & 1.364629e-04 & 1.172407e-03 & 9.258933e-04 & 1.320609e-05 & 1.467343e-06 & 5.575903e-05 & 4.601587e-03 & 1.467343e-06 & 7.483448e-05 & 0.000000e+00 & 0.000000e+00 & 8.217120e-04\\\\\n",
       "\t 2.142321e-04 & 4.768864e-04 & 1.490820e-03 & 1.520167e-03 & 1.614077e-05 & 2.714584e-04 & 1.078497e-03 & 5.575903e-05 & 1.188548e-04 & 1.110779e-03 & 1.663967e-03 & 3.323531e-03 & 2.156994e-04 & 7.380734e-03 & 1.570057e-03 & 1.540710e-04 & 9.948584e-04 & 7.483448e-05\\\\\n",
       "\t 2.626544e-04 & 3.316195e-04 & 1.200286e-03 & 2.476875e-03 & 5.869371e-06 & 2.655891e-04 & 1.185613e-03 & 1.173874e-04 & 1.173874e-04 & 1.731465e-03 & 2.316934e-03 & 7.443830e-03 & 3.345542e-04 & 1.249589e-02 & 2.293457e-03 & 1.511363e-04 & 6.793797e-04 & 1.379302e-04\\\\\n",
       "\t 2.362422e-04 & 2.215688e-04 & 1.462941e-03 & 2.243567e-03 & 1.467343e-06 & 1.261915e-04 & 2.126180e-03 & 1.951566e-04 & 8.070386e-05 & 2.475407e-03 & 2.177537e-03 & 7.520132e-03 & 2.802625e-04 & 1.491701e-02 & 2.312532e-03 & 6.309574e-05 & 1.863525e-04 & 1.071160e-04\\\\\n",
       "\t 3.173863e-03 & 4.577376e-03 & 5.856165e-03 & 1.746138e-04 & 0.000000e+00 & 2.787951e-05 & 6.214197e-04 & 3.506216e-03 & 1.102708e-03 & 5.209067e-05 & 1.445333e-04 & 8.143753e-04 & 1.725448e-02 & 4.321325e-04 & 4.064540e-04 & 3.888458e-05 & 7.336714e-07 & 1.825374e-03\\\\\n",
       "\t 4.240621e-04 & 7.336714e-04 & 2.752735e-03 & 3.458527e-03 & 0.000000e+00 & 0.000000e+00 & 1.327945e-02 & 2.905339e-04 & 1.100507e-04 & 7.483448e-05 & 2.127647e-04 & 4.352139e-03 & 3.947152e-04 & 3.813917e-02 & 5.707964e-03 & 0.000000e+00 & 1.320609e-05 & 8.363854e-05\\\\\n",
       "\t 6.617716e-04 & 5.766657e-04 & 1.135723e-03 & 7.248674e-04 & 1.467343e-06 & 7.336714e-05 & 6.045452e-04 & 4.240621e-04 & 1.041813e-04 & 2.699911e-04 & 3.976499e-04 & 1.148929e-03 & 1.523102e-03 & 1.106376e-03 & 5.663943e-04 & 2.054280e-05 & 1.173874e-05 & 1.922219e-04\\\\\n",
       "\t 1.173874e-05 & 1.760811e-05 & 2.641217e-05 & 4.402028e-06 & 8.657323e-05 & 3.627125e-02 & 3.228154e-05 & 8.804057e-06 & 0.000000e+00 & 1.129854e-04 & 2.347749e-05 & 1.291262e-04 & 7.336714e-06 & 7.483448e-05 & 2.934686e-05 & 1.306463e-01 & 5.942738e-04 & 0.000000e+00\\\\\n",
       "\t 8.657323e-05 & 2.039607e-04 & 1.382237e-03 & 1.911948e-03 & 4.108560e-05 & 2.978706e-04 & 6.955205e-04 & 8.950791e-05 & 6.309574e-05 & 1.170940e-03 & 1.791626e-03 & 5.779863e-03 & 1.217895e-04 & 8.858349e-03 & 1.719726e-03 & 2.611870e-04 & 4.343335e-04 & 3.374888e-05\\\\\n",
       "\t 2.925882e-03 & 3.154787e-03 & 3.267772e-03 & 1.115181e-04 & 0.000000e+00 & 2.201014e-05 & 4.944945e-04 & 3.499613e-03 & 1.261915e-03 & 7.483448e-05 & 9.537728e-05 & 6.074799e-04 & 1.427578e-02 & 1.848852e-04 & 1.848852e-04 & 1.467343e-05 & 0.000000e+00 & 1.650761e-03\\\\\n",
       "\t 2.000000e+00 & 1.000000e+00 & 2.000000e+00 & 1.000000e+00 & 2.000000e+00 & 2.000000e+00 & 2.000000e+00 & 2.000000e+00 & 2.000000e+00 & 2.000000e+00 & 2.000000e+00 & 2.000000e+00 & 2.000000e+00 & 1.000000e+00 & 1.000000e+00 & 2.000000e+00 & 2.000000e+00 & 2.000000e+00\\\\\n",
       "\\end{tabular}\n"
      ],
      "text/markdown": [
       "\n",
       "| Cabatoan | Caridad Cemetery | Caridad Proper | Elementary School | Gabas | Haina | Hicgop South | Magbangon | Palanas | Poroc Rose | Poroc San Flower | San Agustin | Sitio Baybayon | Sitio Lonas | Sitio Tugas | Tamakin Dacot | Visca | Wangag |\n",
       "|---|---|---|---|---|---|---|---|---|---|---|---|---|---|---|---|---|---|\n",
       "| 1.470278e-03 | 1.661032e-03 | 2.595729e-03 | 3.448256e-04 | 0.000000e+00 | 7.043246e-05 | 1.352890e-03 | 1.154799e-03 | 2.993379e-04 | 1.041813e-04 | 1.995586e-04 | 5.590576e-04 | 1.379302e-03 | 5.502536e-04 | 4.900925e-04 | 8.070386e-05 | 1.467343e-06 | 4.152580e-04 |\n",
       "| 1.123985e-03 | 3.289783e-03 | 4.287576e-03 | 2.964032e-04 | 1.173874e-05 | 1.760811e-05 | 3.594990e-04 | 1.119583e-03 | 1.892872e-04 | 1.144527e-04 | 2.142321e-04 | 7.908978e-04 | 1.323543e-03 | 9.713809e-04 | 4.724844e-04 | 2.934686e-06 | 0.000000e+00 | 1.848852e-04 |\n",
       "| 1.135723e-03 | 1.072628e-03 | 3.075551e-03 | 2.729258e-04 | 0.000000e+00 | 1.173874e-05 | 3.873785e-04 | 7.659530e-04 | 7.043246e-05 | 8.217120e-05 | 2.890665e-04 | 1.027140e-03 | 1.116648e-03 | 9.787177e-04 | 4.548763e-04 | 5.869371e-06 | 2.934686e-06 | 1.305935e-04 |\n",
       "| 6.559022e-04 | 1.333815e-03 | 2.585458e-03 | 2.321336e-03 | 1.467343e-06 | 5.722637e-05 | 5.622858e-03 | 6.397615e-04 | 1.291262e-04 | 2.699911e-04 | 4.196600e-04 | 1.229633e-03 | 7.776917e-04 | 1.057954e-03 | 2.701378e-03 | 1.173874e-05 | 2.934686e-06 | 1.393976e-04 |\n",
       "| 1.716791e-04 | 1.379302e-04 | 5.194394e-04 | 2.677901e-03 | 2.502993e-02 | 2.377095e-04 | 1.760811e-03 | 1.511363e-04 | 4.548763e-05 | 1.194417e-03 | 1.810701e-03 | 8.252336e-03 | 2.435789e-04 | 1.558465e-02 | 2.299326e-03 | 1.804832e-04 | 1.260447e-02 | 3.228154e-05 |\n",
       "| 1.540710e-05 | 7.336714e-07 | 8.070386e-06 | 9.317627e-05 | 1.467343e-05 | 2.549508e-03 | 2.934686e-05 | 1.027140e-05 | 2.934686e-06 | 2.054280e-05 | 2.641217e-05 | 6.676410e-05 | 4.548763e-05 | 2.054280e-05 | 4.108560e-05 | 9.662452e-04 | 5.575903e-05 | 5.869371e-06 |\n",
       "| 7.894304e-04 | 1.666901e-03 | 2.696242e-03 | 1.447534e-03 | 3.668357e-05 | 3.514286e-04 | 3.006585e-03 | 5.524546e-04 | 1.628751e-04 | 4.944945e-04 | 8.253803e-04 | 1.355091e-03 | 1.385172e-03 | 1.580328e-03 | 1.258246e-03 | 1.958903e-04 | 5.649270e-05 | 2.575187e-04 |\n",
       "| 1.113713e-03 | 2.732192e-03 | 3.950087e-03 | 2.597197e-04 | 0.000000e+00 | 6.749777e-05 | 1.181211e-03 | 6.779124e-04 | 5.458515e-04 | 6.016106e-05 | 1.217895e-04 | 7.806264e-04 | 2.407910e-03 | 3.947152e-04 | 3.448256e-04 | 3.374888e-05 | 1.907546e-05 | 7.952998e-04 |\n",
       "| 9.757830e-04 | 2.173135e-03 | 1.178276e-03 | 2.934686e-06 | 0.000000e+00 | 0.000000e+00 | 1.364629e-04 | 1.172407e-03 | 9.258933e-04 | 1.320609e-05 | 1.467343e-06 | 5.575903e-05 | 4.601587e-03 | 1.467343e-06 | 7.483448e-05 | 0.000000e+00 | 0.000000e+00 | 8.217120e-04 |\n",
       "| 2.142321e-04 | 4.768864e-04 | 1.490820e-03 | 1.520167e-03 | 1.614077e-05 | 2.714584e-04 | 1.078497e-03 | 5.575903e-05 | 1.188548e-04 | 1.110779e-03 | 1.663967e-03 | 3.323531e-03 | 2.156994e-04 | 7.380734e-03 | 1.570057e-03 | 1.540710e-04 | 9.948584e-04 | 7.483448e-05 |\n",
       "| 2.626544e-04 | 3.316195e-04 | 1.200286e-03 | 2.476875e-03 | 5.869371e-06 | 2.655891e-04 | 1.185613e-03 | 1.173874e-04 | 1.173874e-04 | 1.731465e-03 | 2.316934e-03 | 7.443830e-03 | 3.345542e-04 | 1.249589e-02 | 2.293457e-03 | 1.511363e-04 | 6.793797e-04 | 1.379302e-04 |\n",
       "| 2.362422e-04 | 2.215688e-04 | 1.462941e-03 | 2.243567e-03 | 1.467343e-06 | 1.261915e-04 | 2.126180e-03 | 1.951566e-04 | 8.070386e-05 | 2.475407e-03 | 2.177537e-03 | 7.520132e-03 | 2.802625e-04 | 1.491701e-02 | 2.312532e-03 | 6.309574e-05 | 1.863525e-04 | 1.071160e-04 |\n",
       "| 3.173863e-03 | 4.577376e-03 | 5.856165e-03 | 1.746138e-04 | 0.000000e+00 | 2.787951e-05 | 6.214197e-04 | 3.506216e-03 | 1.102708e-03 | 5.209067e-05 | 1.445333e-04 | 8.143753e-04 | 1.725448e-02 | 4.321325e-04 | 4.064540e-04 | 3.888458e-05 | 7.336714e-07 | 1.825374e-03 |\n",
       "| 4.240621e-04 | 7.336714e-04 | 2.752735e-03 | 3.458527e-03 | 0.000000e+00 | 0.000000e+00 | 1.327945e-02 | 2.905339e-04 | 1.100507e-04 | 7.483448e-05 | 2.127647e-04 | 4.352139e-03 | 3.947152e-04 | 3.813917e-02 | 5.707964e-03 | 0.000000e+00 | 1.320609e-05 | 8.363854e-05 |\n",
       "| 6.617716e-04 | 5.766657e-04 | 1.135723e-03 | 7.248674e-04 | 1.467343e-06 | 7.336714e-05 | 6.045452e-04 | 4.240621e-04 | 1.041813e-04 | 2.699911e-04 | 3.976499e-04 | 1.148929e-03 | 1.523102e-03 | 1.106376e-03 | 5.663943e-04 | 2.054280e-05 | 1.173874e-05 | 1.922219e-04 |\n",
       "| 1.173874e-05 | 1.760811e-05 | 2.641217e-05 | 4.402028e-06 | 8.657323e-05 | 3.627125e-02 | 3.228154e-05 | 8.804057e-06 | 0.000000e+00 | 1.129854e-04 | 2.347749e-05 | 1.291262e-04 | 7.336714e-06 | 7.483448e-05 | 2.934686e-05 | 1.306463e-01 | 5.942738e-04 | 0.000000e+00 |\n",
       "| 8.657323e-05 | 2.039607e-04 | 1.382237e-03 | 1.911948e-03 | 4.108560e-05 | 2.978706e-04 | 6.955205e-04 | 8.950791e-05 | 6.309574e-05 | 1.170940e-03 | 1.791626e-03 | 5.779863e-03 | 1.217895e-04 | 8.858349e-03 | 1.719726e-03 | 2.611870e-04 | 4.343335e-04 | 3.374888e-05 |\n",
       "| 2.925882e-03 | 3.154787e-03 | 3.267772e-03 | 1.115181e-04 | 0.000000e+00 | 2.201014e-05 | 4.944945e-04 | 3.499613e-03 | 1.261915e-03 | 7.483448e-05 | 9.537728e-05 | 6.074799e-04 | 1.427578e-02 | 1.848852e-04 | 1.848852e-04 | 1.467343e-05 | 0.000000e+00 | 1.650761e-03 |\n",
       "| 2.000000e+00 | 1.000000e+00 | 2.000000e+00 | 1.000000e+00 | 2.000000e+00 | 2.000000e+00 | 2.000000e+00 | 2.000000e+00 | 2.000000e+00 | 2.000000e+00 | 2.000000e+00 | 2.000000e+00 | 2.000000e+00 | 1.000000e+00 | 1.000000e+00 | 2.000000e+00 | 2.000000e+00 | 2.000000e+00 |\n",
       "\n"
      ],
      "text/plain": [
       "      Cabatoan     Caridad Cemetery Caridad Proper Elementary School\n",
       " [1,] 1.470278e-03 1.661032e-03     2.595729e-03   3.448256e-04     \n",
       " [2,] 1.123985e-03 3.289783e-03     4.287576e-03   2.964032e-04     \n",
       " [3,] 1.135723e-03 1.072628e-03     3.075551e-03   2.729258e-04     \n",
       " [4,] 6.559022e-04 1.333815e-03     2.585458e-03   2.321336e-03     \n",
       " [5,] 1.716791e-04 1.379302e-04     5.194394e-04   2.677901e-03     \n",
       " [6,] 1.540710e-05 7.336714e-07     8.070386e-06   9.317627e-05     \n",
       " [7,] 7.894304e-04 1.666901e-03     2.696242e-03   1.447534e-03     \n",
       " [8,] 1.113713e-03 2.732192e-03     3.950087e-03   2.597197e-04     \n",
       " [9,] 9.757830e-04 2.173135e-03     1.178276e-03   2.934686e-06     \n",
       "[10,] 2.142321e-04 4.768864e-04     1.490820e-03   1.520167e-03     \n",
       "[11,] 2.626544e-04 3.316195e-04     1.200286e-03   2.476875e-03     \n",
       "[12,] 2.362422e-04 2.215688e-04     1.462941e-03   2.243567e-03     \n",
       "[13,] 3.173863e-03 4.577376e-03     5.856165e-03   1.746138e-04     \n",
       "[14,] 4.240621e-04 7.336714e-04     2.752735e-03   3.458527e-03     \n",
       "[15,] 6.617716e-04 5.766657e-04     1.135723e-03   7.248674e-04     \n",
       "[16,] 1.173874e-05 1.760811e-05     2.641217e-05   4.402028e-06     \n",
       "[17,] 8.657323e-05 2.039607e-04     1.382237e-03   1.911948e-03     \n",
       "[18,] 2.925882e-03 3.154787e-03     3.267772e-03   1.115181e-04     \n",
       "[19,] 2.000000e+00 1.000000e+00     2.000000e+00   1.000000e+00     \n",
       "      Gabas        Haina        Hicgop South Magbangon    Palanas     \n",
       " [1,] 0.000000e+00 7.043246e-05 1.352890e-03 1.154799e-03 2.993379e-04\n",
       " [2,] 1.173874e-05 1.760811e-05 3.594990e-04 1.119583e-03 1.892872e-04\n",
       " [3,] 0.000000e+00 1.173874e-05 3.873785e-04 7.659530e-04 7.043246e-05\n",
       " [4,] 1.467343e-06 5.722637e-05 5.622858e-03 6.397615e-04 1.291262e-04\n",
       " [5,] 2.502993e-02 2.377095e-04 1.760811e-03 1.511363e-04 4.548763e-05\n",
       " [6,] 1.467343e-05 2.549508e-03 2.934686e-05 1.027140e-05 2.934686e-06\n",
       " [7,] 3.668357e-05 3.514286e-04 3.006585e-03 5.524546e-04 1.628751e-04\n",
       " [8,] 0.000000e+00 6.749777e-05 1.181211e-03 6.779124e-04 5.458515e-04\n",
       " [9,] 0.000000e+00 0.000000e+00 1.364629e-04 1.172407e-03 9.258933e-04\n",
       "[10,] 1.614077e-05 2.714584e-04 1.078497e-03 5.575903e-05 1.188548e-04\n",
       "[11,] 5.869371e-06 2.655891e-04 1.185613e-03 1.173874e-04 1.173874e-04\n",
       "[12,] 1.467343e-06 1.261915e-04 2.126180e-03 1.951566e-04 8.070386e-05\n",
       "[13,] 0.000000e+00 2.787951e-05 6.214197e-04 3.506216e-03 1.102708e-03\n",
       "[14,] 0.000000e+00 0.000000e+00 1.327945e-02 2.905339e-04 1.100507e-04\n",
       "[15,] 1.467343e-06 7.336714e-05 6.045452e-04 4.240621e-04 1.041813e-04\n",
       "[16,] 8.657323e-05 3.627125e-02 3.228154e-05 8.804057e-06 0.000000e+00\n",
       "[17,] 4.108560e-05 2.978706e-04 6.955205e-04 8.950791e-05 6.309574e-05\n",
       "[18,] 0.000000e+00 2.201014e-05 4.944945e-04 3.499613e-03 1.261915e-03\n",
       "[19,] 2.000000e+00 2.000000e+00 2.000000e+00 2.000000e+00 2.000000e+00\n",
       "      Poroc Rose   Poroc San Flower San Agustin  Sitio Baybayon Sitio Lonas \n",
       " [1,] 1.041813e-04 1.995586e-04     5.590576e-04 1.379302e-03   5.502536e-04\n",
       " [2,] 1.144527e-04 2.142321e-04     7.908978e-04 1.323543e-03   9.713809e-04\n",
       " [3,] 8.217120e-05 2.890665e-04     1.027140e-03 1.116648e-03   9.787177e-04\n",
       " [4,] 2.699911e-04 4.196600e-04     1.229633e-03 7.776917e-04   1.057954e-03\n",
       " [5,] 1.194417e-03 1.810701e-03     8.252336e-03 2.435789e-04   1.558465e-02\n",
       " [6,] 2.054280e-05 2.641217e-05     6.676410e-05 4.548763e-05   2.054280e-05\n",
       " [7,] 4.944945e-04 8.253803e-04     1.355091e-03 1.385172e-03   1.580328e-03\n",
       " [8,] 6.016106e-05 1.217895e-04     7.806264e-04 2.407910e-03   3.947152e-04\n",
       " [9,] 1.320609e-05 1.467343e-06     5.575903e-05 4.601587e-03   1.467343e-06\n",
       "[10,] 1.110779e-03 1.663967e-03     3.323531e-03 2.156994e-04   7.380734e-03\n",
       "[11,] 1.731465e-03 2.316934e-03     7.443830e-03 3.345542e-04   1.249589e-02\n",
       "[12,] 2.475407e-03 2.177537e-03     7.520132e-03 2.802625e-04   1.491701e-02\n",
       "[13,] 5.209067e-05 1.445333e-04     8.143753e-04 1.725448e-02   4.321325e-04\n",
       "[14,] 7.483448e-05 2.127647e-04     4.352139e-03 3.947152e-04   3.813917e-02\n",
       "[15,] 2.699911e-04 3.976499e-04     1.148929e-03 1.523102e-03   1.106376e-03\n",
       "[16,] 1.129854e-04 2.347749e-05     1.291262e-04 7.336714e-06   7.483448e-05\n",
       "[17,] 1.170940e-03 1.791626e-03     5.779863e-03 1.217895e-04   8.858349e-03\n",
       "[18,] 7.483448e-05 9.537728e-05     6.074799e-04 1.427578e-02   1.848852e-04\n",
       "[19,] 2.000000e+00 2.000000e+00     2.000000e+00 2.000000e+00   1.000000e+00\n",
       "      Sitio Tugas  Tamakin Dacot Visca        Wangag      \n",
       " [1,] 4.900925e-04 8.070386e-05  1.467343e-06 4.152580e-04\n",
       " [2,] 4.724844e-04 2.934686e-06  0.000000e+00 1.848852e-04\n",
       " [3,] 4.548763e-04 5.869371e-06  2.934686e-06 1.305935e-04\n",
       " [4,] 2.701378e-03 1.173874e-05  2.934686e-06 1.393976e-04\n",
       " [5,] 2.299326e-03 1.804832e-04  1.260447e-02 3.228154e-05\n",
       " [6,] 4.108560e-05 9.662452e-04  5.575903e-05 5.869371e-06\n",
       " [7,] 1.258246e-03 1.958903e-04  5.649270e-05 2.575187e-04\n",
       " [8,] 3.448256e-04 3.374888e-05  1.907546e-05 7.952998e-04\n",
       " [9,] 7.483448e-05 0.000000e+00  0.000000e+00 8.217120e-04\n",
       "[10,] 1.570057e-03 1.540710e-04  9.948584e-04 7.483448e-05\n",
       "[11,] 2.293457e-03 1.511363e-04  6.793797e-04 1.379302e-04\n",
       "[12,] 2.312532e-03 6.309574e-05  1.863525e-04 1.071160e-04\n",
       "[13,] 4.064540e-04 3.888458e-05  7.336714e-07 1.825374e-03\n",
       "[14,] 5.707964e-03 0.000000e+00  1.320609e-05 8.363854e-05\n",
       "[15,] 5.663943e-04 2.054280e-05  1.173874e-05 1.922219e-04\n",
       "[16,] 2.934686e-05 1.306463e-01  5.942738e-04 0.000000e+00\n",
       "[17,] 1.719726e-03 2.611870e-04  4.343335e-04 3.374888e-05\n",
       "[18,] 1.848852e-04 1.467343e-05  0.000000e+00 1.650761e-03\n",
       "[19,] 1.000000e+00 2.000000e+00  2.000000e+00 2.000000e+00"
      ]
     },
     "metadata": {},
     "output_type": "display_data"
    }
   ],
   "source": [
    "FullBiophysMatNorm"
   ]
  },
  {
   "cell_type": "code",
   "execution_count": 20,
   "metadata": {},
   "outputs": [
    {
     "data": {
      "text/html": [
       "<table>\n",
       "<thead><tr><th scope=col>source</th><th scope=col>dest</th><th scope=col>total_particles_rec</th></tr></thead>\n",
       "<tbody>\n",
       "\t<tr><td>Other           </td><td>Palanas         </td><td>20264           </td></tr>\n",
       "\t<tr><td>Other           </td><td>Wangag          </td><td>18382           </td></tr>\n",
       "\t<tr><td>Other           </td><td>Magbangon       </td><td>18567           </td></tr>\n",
       "\t<tr><td>Other           </td><td>Cabatoan        </td><td>18851           </td></tr>\n",
       "\t<tr><td>Other           </td><td>Caridad Cemetery</td><td>21764           </td></tr>\n",
       "\t<tr><td>Other           </td><td>Caridad Proper  </td><td>24084           </td></tr>\n",
       "</tbody>\n",
       "</table>\n"
      ],
      "text/latex": [
       "\\begin{tabular}{r|lll}\n",
       " source & dest & total\\_particles\\_rec\\\\\n",
       "\\hline\n",
       "\t Other            & Palanas          & 20264           \\\\\n",
       "\t Other            & Wangag           & 18382           \\\\\n",
       "\t Other            & Magbangon        & 18567           \\\\\n",
       "\t Other            & Cabatoan         & 18851           \\\\\n",
       "\t Other            & Caridad Cemetery & 21764           \\\\\n",
       "\t Other            & Caridad Proper   & 24084           \\\\\n",
       "\\end{tabular}\n"
      ],
      "text/markdown": [
       "\n",
       "| source | dest | total_particles_rec |\n",
       "|---|---|---|\n",
       "| Other            | Palanas          | 20264            |\n",
       "| Other            | Wangag           | 18382            |\n",
       "| Other            | Magbangon        | 18567            |\n",
       "| Other            | Cabatoan         | 18851            |\n",
       "| Other            | Caridad Cemetery | 21764            |\n",
       "| Other            | Caridad Proper   | 24084            |\n",
       "\n"
      ],
      "text/plain": [
       "  source dest             total_particles_rec\n",
       "1 Other  Palanas          20264              \n",
       "2 Other  Wangag           18382              \n",
       "3 Other  Magbangon        18567              \n",
       "4 Other  Cabatoan         18851              \n",
       "5 Other  Caridad Cemetery 21764              \n",
       "6 Other  Caridad Proper   24084              "
      ]
     },
     "metadata": {},
     "output_type": "display_data"
    }
   ],
   "source": [
    "head(AllYearsRec)"
   ]
  },
  {
   "cell_type": "code",
   "execution_count": 70,
   "metadata": {},
   "outputs": [
    {
     "data": {
      "text/html": [
       "<ol class=list-inline>\n",
       "\t<li>19</li>\n",
       "\t<li>18</li>\n",
       "</ol>\n"
      ],
      "text/latex": [
       "\\begin{enumerate*}\n",
       "\\item 19\n",
       "\\item 18\n",
       "\\end{enumerate*}\n"
      ],
      "text/markdown": [
       "1. 19\n",
       "2. 18\n",
       "\n",
       "\n"
      ],
      "text/plain": [
       "[1] 19 18"
      ]
     },
     "metadata": {},
     "output_type": "display_data"
    }
   ],
   "source": [
    "#make a parentage matrix for the whole biophysical results\n",
    "FullBiophysMat <- as.matrix(rbind(dcast(SimConn[source != \"Other\" & source != \"CAI\" , .(source, dest)][ #for assigned particles (not from \"Other\") keep the source/dest columns that will be expanded into wide form to become the connectivity matrix. Filtering for time period etc can be done in i here.\n",
    "    , parentage :=1][ #mark each row as a parentage match, because at this point I'm using all particles as matches for the simulations\n",
    "    order(source, dest)] #keep sites in alphabetical order so the matrix is correctly formatted!\n",
    "        , source ~ dest, value.var=\"parentage\", fun.aggregate = sum)[#use sum to count the matches for each id variable combo, that populated the cells of the matrix\n",
    "    ,-\"source\"], #remove the source column after casting\n",
    "      dcast(SimConn[source == \"Other\" | source == \"CAI\", .(source, dest)][ #this is to cast the \"unassigned row for the model parentage, which is anyting from \"Other\"\n",
    "          , parentage :=1][order(source, dest)][, source := \"unknown\"], source ~ dest, value.var=\"parentage\", fun.aggregate = sum)[,-\"source\"]))#bind these two cast wide form data tables (assigned and unassigned particles) and then turn into a matrix to be used in the likelihood functions\n",
    "dim(FullBiophysMat)"
   ]
  },
  {
   "cell_type": "code",
   "execution_count": 71,
   "metadata": {},
   "outputs": [
    {
     "data": {
      "text/html": [
       "<table>\n",
       "<thead><tr><th scope=col>Cabatoan</th><th scope=col>Caridad Cemetery</th><th scope=col>Caridad Proper</th><th scope=col>Elementary School</th><th scope=col>Gabas</th><th scope=col>Haina</th><th scope=col>Hicgop South</th><th scope=col>Magbangon</th><th scope=col>Palanas</th><th scope=col>Poroc Rose</th><th scope=col>Poroc San Flower</th><th scope=col>San Agustin</th><th scope=col>Sitio Baybayon</th><th scope=col>Sitio Lonas</th><th scope=col>Sitio Tugas</th><th scope=col>Tamakin Dacot</th><th scope=col>Visca</th><th scope=col>Wangag</th></tr></thead>\n",
       "<tbody>\n",
       "\t<tr><td> 1002 </td><td> 1132 </td><td> 1769 </td><td>  235 </td><td>    0 </td><td>   48 </td><td>  922 </td><td>  787 </td><td>  204 </td><td>  71  </td><td> 136  </td><td>  381 </td><td>  940 </td><td>  375 </td><td>  334 </td><td>    55</td><td>   1  </td><td>  283 </td></tr>\n",
       "\t<tr><td>  766 </td><td> 2242 </td><td> 2922 </td><td>  202 </td><td>    8 </td><td>   12 </td><td>  245 </td><td>  763 </td><td>  129 </td><td>  78  </td><td> 146  </td><td>  539 </td><td>  902 </td><td>  662 </td><td>  322 </td><td>     2</td><td>   0  </td><td>  126 </td></tr>\n",
       "\t<tr><td>  774 </td><td>  731 </td><td> 2096 </td><td>  186 </td><td>    0 </td><td>    8 </td><td>  264 </td><td>  522 </td><td>   48 </td><td>  56  </td><td> 197  </td><td>  700 </td><td>  761 </td><td>  667 </td><td>  310 </td><td>     4</td><td>   2  </td><td>   89 </td></tr>\n",
       "\t<tr><td>  447 </td><td>  909 </td><td> 1762 </td><td> 1582 </td><td>    1 </td><td>   39 </td><td> 3832 </td><td>  436 </td><td>   88 </td><td> 184  </td><td> 286  </td><td>  838 </td><td>  530 </td><td>  721 </td><td> 1841 </td><td>     8</td><td>   2  </td><td>   95 </td></tr>\n",
       "\t<tr><td>  117 </td><td>   94 </td><td>  354 </td><td> 1825 </td><td>17058 </td><td>  162 </td><td> 1200 </td><td>  103 </td><td>   31 </td><td> 814  </td><td>1234  </td><td> 5624 </td><td>  166 </td><td>10621 </td><td> 1567 </td><td>   123</td><td>8590  </td><td>   22 </td></tr>\n",
       "\t<tr><td>   21 </td><td>    1 </td><td>   11 </td><td>  127 </td><td>   20 </td><td> 3475 </td><td>   40 </td><td>   14 </td><td>    4 </td><td>  28  </td><td>  36  </td><td>   91 </td><td>   62 </td><td>   28 </td><td>   56 </td><td>  1317</td><td>  76  </td><td>    8 </td></tr>\n",
       "\t<tr><td> 1076 </td><td> 2272 </td><td> 3675 </td><td> 1973 </td><td>   50 </td><td>  479 </td><td> 4098 </td><td>  753 </td><td>  222 </td><td> 674  </td><td>1125  </td><td> 1847 </td><td> 1888 </td><td> 2154 </td><td> 1715 </td><td>   267</td><td>  77  </td><td>  351 </td></tr>\n",
       "\t<tr><td>  759 </td><td> 1862 </td><td> 2692 </td><td>  177 </td><td>    0 </td><td>   46 </td><td>  805 </td><td>  462 </td><td>  372 </td><td>  41  </td><td>  83  </td><td>  532 </td><td> 1641 </td><td>  269 </td><td>  235 </td><td>    23</td><td>  13  </td><td>  542 </td></tr>\n",
       "\t<tr><td>  665 </td><td> 1481 </td><td>  803 </td><td>    2 </td><td>    0 </td><td>    0 </td><td>   93 </td><td>  799 </td><td>  631 </td><td>   9  </td><td>   1  </td><td>   38 </td><td> 3136 </td><td>    1 </td><td>   51 </td><td>     0</td><td>   0  </td><td>  560 </td></tr>\n",
       "\t<tr><td>  146 </td><td>  325 </td><td> 1016 </td><td> 1036 </td><td>   11 </td><td>  185 </td><td>  735 </td><td>   38 </td><td>   81 </td><td> 757  </td><td>1134  </td><td> 2265 </td><td>  147 </td><td> 5030 </td><td> 1070 </td><td>   105</td><td> 678  </td><td>   51 </td></tr>\n",
       "\t<tr><td>  179 </td><td>  226 </td><td>  818 </td><td> 1688 </td><td>    4 </td><td>  181 </td><td>  808 </td><td>   80 </td><td>   80 </td><td>1180  </td><td>1579  </td><td> 5073 </td><td>  228 </td><td> 8516 </td><td> 1563 </td><td>   103</td><td> 463  </td><td>   94 </td></tr>\n",
       "\t<tr><td>  161 </td><td>  151 </td><td>  997 </td><td> 1529 </td><td>    1 </td><td>   86 </td><td> 1449 </td><td>  133 </td><td>   55 </td><td>1687  </td><td>1484  </td><td> 5125 </td><td>  191 </td><td>10166 </td><td> 1576 </td><td>    43</td><td> 127  </td><td>   73 </td></tr>\n",
       "\t<tr><td> 4326 </td><td> 6239 </td><td> 7982 </td><td>  238 </td><td>    0 </td><td>   38 </td><td>  847 </td><td> 4779 </td><td> 1503 </td><td>  71  </td><td> 197  </td><td> 1110 </td><td>23518 </td><td>  589 </td><td>  554 </td><td>    53</td><td>   1  </td><td> 2488 </td></tr>\n",
       "\t<tr><td>  289 </td><td>  500 </td><td> 1876 </td><td> 2357 </td><td>    0 </td><td>    0 </td><td> 9050 </td><td>  198 </td><td>   75 </td><td>  51  </td><td> 145  </td><td> 2966 </td><td>  269 </td><td>25992 </td><td> 3890 </td><td>     0</td><td>   9  </td><td>   57 </td></tr>\n",
       "\t<tr><td>  451 </td><td>  393 </td><td>  774 </td><td>  494 </td><td>    1 </td><td>   50 </td><td>  412 </td><td>  289 </td><td>   71 </td><td> 184  </td><td> 271  </td><td>  783 </td><td> 1038 </td><td>  754 </td><td>  386 </td><td>    14</td><td>   8  </td><td>  131 </td></tr>\n",
       "\t<tr><td>    8 </td><td>   12 </td><td>   18 </td><td>    3 </td><td>   59 </td><td>24719 </td><td>   22 </td><td>    6 </td><td>    0 </td><td>  77  </td><td>  16  </td><td>   88 </td><td>    5 </td><td>   51 </td><td>   20 </td><td> 89036</td><td> 405  </td><td>    0 </td></tr>\n",
       "\t<tr><td>   59 </td><td>  139 </td><td>  942 </td><td> 1303 </td><td>   28 </td><td>  203 </td><td>  474 </td><td>   61 </td><td>   43 </td><td> 798  </td><td>1221  </td><td> 3939 </td><td>   83 </td><td> 6037 </td><td> 1172 </td><td>   178</td><td> 296  </td><td>   23 </td></tr>\n",
       "\t<tr><td> 1994 </td><td> 2150 </td><td> 2227 </td><td>   76 </td><td>    0 </td><td>   15 </td><td>  337 </td><td> 2385 </td><td>  860 </td><td>  51  </td><td>  65  </td><td>  414 </td><td> 9729 </td><td>  126 </td><td>  126 </td><td>    10</td><td>   0  </td><td> 1125 </td></tr>\n",
       "\t<tr><td>18877 </td><td>21764 </td><td>24086 </td><td>21110 </td><td> 4055 </td><td>53871 </td><td>33600 </td><td>18610 </td><td>20296 </td><td>7217  </td><td>8742  </td><td>12101 </td><td>38936 </td><td>19517 </td><td>12731 </td><td>150187</td><td>8072  </td><td>18392 </td></tr>\n",
       "</tbody>\n",
       "</table>\n"
      ],
      "text/latex": [
       "\\begin{tabular}{llllllllllllllllll}\n",
       " Cabatoan & Caridad Cemetery & Caridad Proper & Elementary School & Gabas & Haina & Hicgop South & Magbangon & Palanas & Poroc Rose & Poroc San Flower & San Agustin & Sitio Baybayon & Sitio Lonas & Sitio Tugas & Tamakin Dacot & Visca & Wangag\\\\\n",
       "\\hline\n",
       "\t  1002  &  1132  &  1769  &   235  &     0  &    48  &   922  &   787  &   204  &   71   &  136   &   381  &   940  &   375  &   334  &     55 &    1   &   283 \\\\\n",
       "\t   766  &  2242  &  2922  &   202  &     8  &    12  &   245  &   763  &   129  &   78   &  146   &   539  &   902  &   662  &   322  &      2 &    0   &   126 \\\\\n",
       "\t   774  &   731  &  2096  &   186  &     0  &     8  &   264  &   522  &    48  &   56   &  197   &   700  &   761  &   667  &   310  &      4 &    2   &    89 \\\\\n",
       "\t   447  &   909  &  1762  &  1582  &     1  &    39  &  3832  &   436  &    88  &  184   &  286   &   838  &   530  &   721  &  1841  &      8 &    2   &    95 \\\\\n",
       "\t   117  &    94  &   354  &  1825  & 17058  &   162  &  1200  &   103  &    31  &  814   & 1234   &  5624  &   166  & 10621  &  1567  &    123 & 8590   &    22 \\\\\n",
       "\t    21  &     1  &    11  &   127  &    20  &  3475  &    40  &    14  &     4  &   28   &   36   &    91  &    62  &    28  &    56  &   1317 &   76   &     8 \\\\\n",
       "\t  1076  &  2272  &  3675  &  1973  &    50  &   479  &  4098  &   753  &   222  &  674   & 1125   &  1847  &  1888  &  2154  &  1715  &    267 &   77   &   351 \\\\\n",
       "\t   759  &  1862  &  2692  &   177  &     0  &    46  &   805  &   462  &   372  &   41   &   83   &   532  &  1641  &   269  &   235  &     23 &   13   &   542 \\\\\n",
       "\t   665  &  1481  &   803  &     2  &     0  &     0  &    93  &   799  &   631  &    9   &    1   &    38  &  3136  &     1  &    51  &      0 &    0   &   560 \\\\\n",
       "\t   146  &   325  &  1016  &  1036  &    11  &   185  &   735  &    38  &    81  &  757   & 1134   &  2265  &   147  &  5030  &  1070  &    105 &  678   &    51 \\\\\n",
       "\t   179  &   226  &   818  &  1688  &     4  &   181  &   808  &    80  &    80  & 1180   & 1579   &  5073  &   228  &  8516  &  1563  &    103 &  463   &    94 \\\\\n",
       "\t   161  &   151  &   997  &  1529  &     1  &    86  &  1449  &   133  &    55  & 1687   & 1484   &  5125  &   191  & 10166  &  1576  &     43 &  127   &    73 \\\\\n",
       "\t  4326  &  6239  &  7982  &   238  &     0  &    38  &   847  &  4779  &  1503  &   71   &  197   &  1110  & 23518  &   589  &   554  &     53 &    1   &  2488 \\\\\n",
       "\t   289  &   500  &  1876  &  2357  &     0  &     0  &  9050  &   198  &    75  &   51   &  145   &  2966  &   269  & 25992  &  3890  &      0 &    9   &    57 \\\\\n",
       "\t   451  &   393  &   774  &   494  &     1  &    50  &   412  &   289  &    71  &  184   &  271   &   783  &  1038  &   754  &   386  &     14 &    8   &   131 \\\\\n",
       "\t     8  &    12  &    18  &     3  &    59  & 24719  &    22  &     6  &     0  &   77   &   16   &    88  &     5  &    51  &    20  &  89036 &  405   &     0 \\\\\n",
       "\t    59  &   139  &   942  &  1303  &    28  &   203  &   474  &    61  &    43  &  798   & 1221   &  3939  &    83  &  6037  &  1172  &    178 &  296   &    23 \\\\\n",
       "\t  1994  &  2150  &  2227  &    76  &     0  &    15  &   337  &  2385  &   860  &   51   &   65   &   414  &  9729  &   126  &   126  &     10 &    0   &  1125 \\\\\n",
       "\t 18877  & 21764  & 24086  & 21110  &  4055  & 53871  & 33600  & 18610  & 20296  & 7217   & 8742   & 12101  & 38936  & 19517  & 12731  & 150187 & 8072   & 18392 \\\\\n",
       "\\end{tabular}\n"
      ],
      "text/markdown": [
       "\n",
       "| Cabatoan | Caridad Cemetery | Caridad Proper | Elementary School | Gabas | Haina | Hicgop South | Magbangon | Palanas | Poroc Rose | Poroc San Flower | San Agustin | Sitio Baybayon | Sitio Lonas | Sitio Tugas | Tamakin Dacot | Visca | Wangag |\n",
       "|---|---|---|---|---|---|---|---|---|---|---|---|---|---|---|---|---|---|\n",
       "|  1002  |  1132  |  1769  |   235  |     0  |    48  |   922  |   787  |   204  |   71   |  136   |   381  |   940  |   375  |   334  |     55 |    1   |   283  |\n",
       "|   766  |  2242  |  2922  |   202  |     8  |    12  |   245  |   763  |   129  |   78   |  146   |   539  |   902  |   662  |   322  |      2 |    0   |   126  |\n",
       "|   774  |   731  |  2096  |   186  |     0  |     8  |   264  |   522  |    48  |   56   |  197   |   700  |   761  |   667  |   310  |      4 |    2   |    89  |\n",
       "|   447  |   909  |  1762  |  1582  |     1  |    39  |  3832  |   436  |    88  |  184   |  286   |   838  |   530  |   721  |  1841  |      8 |    2   |    95  |\n",
       "|   117  |    94  |   354  |  1825  | 17058  |   162  |  1200  |   103  |    31  |  814   | 1234   |  5624  |   166  | 10621  |  1567  |    123 | 8590   |    22  |\n",
       "|    21  |     1  |    11  |   127  |    20  |  3475  |    40  |    14  |     4  |   28   |   36   |    91  |    62  |    28  |    56  |   1317 |   76   |     8  |\n",
       "|  1076  |  2272  |  3675  |  1973  |    50  |   479  |  4098  |   753  |   222  |  674   | 1125   |  1847  |  1888  |  2154  |  1715  |    267 |   77   |   351  |\n",
       "|   759  |  1862  |  2692  |   177  |     0  |    46  |   805  |   462  |   372  |   41   |   83   |   532  |  1641  |   269  |   235  |     23 |   13   |   542  |\n",
       "|   665  |  1481  |   803  |     2  |     0  |     0  |    93  |   799  |   631  |    9   |    1   |    38  |  3136  |     1  |    51  |      0 |    0   |   560  |\n",
       "|   146  |   325  |  1016  |  1036  |    11  |   185  |   735  |    38  |    81  |  757   | 1134   |  2265  |   147  |  5030  |  1070  |    105 |  678   |    51  |\n",
       "|   179  |   226  |   818  |  1688  |     4  |   181  |   808  |    80  |    80  | 1180   | 1579   |  5073  |   228  |  8516  |  1563  |    103 |  463   |    94  |\n",
       "|   161  |   151  |   997  |  1529  |     1  |    86  |  1449  |   133  |    55  | 1687   | 1484   |  5125  |   191  | 10166  |  1576  |     43 |  127   |    73  |\n",
       "|  4326  |  6239  |  7982  |   238  |     0  |    38  |   847  |  4779  |  1503  |   71   |  197   |  1110  | 23518  |   589  |   554  |     53 |    1   |  2488  |\n",
       "|   289  |   500  |  1876  |  2357  |     0  |     0  |  9050  |   198  |    75  |   51   |  145   |  2966  |   269  | 25992  |  3890  |      0 |    9   |    57  |\n",
       "|   451  |   393  |   774  |   494  |     1  |    50  |   412  |   289  |    71  |  184   |  271   |   783  |  1038  |   754  |   386  |     14 |    8   |   131  |\n",
       "|     8  |    12  |    18  |     3  |    59  | 24719  |    22  |     6  |     0  |   77   |   16   |    88  |     5  |    51  |    20  |  89036 |  405   |     0  |\n",
       "|    59  |   139  |   942  |  1303  |    28  |   203  |   474  |    61  |    43  |  798   | 1221   |  3939  |    83  |  6037  |  1172  |    178 |  296   |    23  |\n",
       "|  1994  |  2150  |  2227  |    76  |     0  |    15  |   337  |  2385  |   860  |   51   |   65   |   414  |  9729  |   126  |   126  |     10 |    0   |  1125  |\n",
       "| 18877  | 21764  | 24086  | 21110  |  4055  | 53871  | 33600  | 18610  | 20296  | 7217   | 8742   | 12101  | 38936  | 19517  | 12731  | 150187 | 8072   | 18392  |\n",
       "\n"
      ],
      "text/plain": [
       "      Cabatoan Caridad Cemetery Caridad Proper Elementary School Gabas Haina\n",
       " [1,]  1002     1132             1769            235                 0    48\n",
       " [2,]   766     2242             2922            202                 8    12\n",
       " [3,]   774      731             2096            186                 0     8\n",
       " [4,]   447      909             1762           1582                 1    39\n",
       " [5,]   117       94              354           1825             17058   162\n",
       " [6,]    21        1               11            127                20  3475\n",
       " [7,]  1076     2272             3675           1973                50   479\n",
       " [8,]   759     1862             2692            177                 0    46\n",
       " [9,]   665     1481              803              2                 0     0\n",
       "[10,]   146      325             1016           1036                11   185\n",
       "[11,]   179      226              818           1688                 4   181\n",
       "[12,]   161      151              997           1529                 1    86\n",
       "[13,]  4326     6239             7982            238                 0    38\n",
       "[14,]   289      500             1876           2357                 0     0\n",
       "[15,]   451      393              774            494                 1    50\n",
       "[16,]     8       12               18              3                59 24719\n",
       "[17,]    59      139              942           1303                28   203\n",
       "[18,]  1994     2150             2227             76                 0    15\n",
       "[19,] 18877    21764            24086          21110              4055 53871\n",
       "      Hicgop South Magbangon Palanas Poroc Rose Poroc San Flower San Agustin\n",
       " [1,]   922          787       204     71        136               381      \n",
       " [2,]   245          763       129     78        146               539      \n",
       " [3,]   264          522        48     56        197               700      \n",
       " [4,]  3832          436        88    184        286               838      \n",
       " [5,]  1200          103        31    814       1234              5624      \n",
       " [6,]    40           14         4     28         36                91      \n",
       " [7,]  4098          753       222    674       1125              1847      \n",
       " [8,]   805          462       372     41         83               532      \n",
       " [9,]    93          799       631      9          1                38      \n",
       "[10,]   735           38        81    757       1134              2265      \n",
       "[11,]   808           80        80   1180       1579              5073      \n",
       "[12,]  1449          133        55   1687       1484              5125      \n",
       "[13,]   847         4779      1503     71        197              1110      \n",
       "[14,]  9050          198        75     51        145              2966      \n",
       "[15,]   412          289        71    184        271               783      \n",
       "[16,]    22            6         0     77         16                88      \n",
       "[17,]   474           61        43    798       1221              3939      \n",
       "[18,]   337         2385       860     51         65               414      \n",
       "[19,] 33600        18610     20296   7217       8742             12101      \n",
       "      Sitio Baybayon Sitio Lonas Sitio Tugas Tamakin Dacot Visca Wangag\n",
       " [1,]   940            375         334           55           1    283 \n",
       " [2,]   902            662         322            2           0    126 \n",
       " [3,]   761            667         310            4           2     89 \n",
       " [4,]   530            721        1841            8           2     95 \n",
       " [5,]   166          10621        1567          123        8590     22 \n",
       " [6,]    62             28          56         1317          76      8 \n",
       " [7,]  1888           2154        1715          267          77    351 \n",
       " [8,]  1641            269         235           23          13    542 \n",
       " [9,]  3136              1          51            0           0    560 \n",
       "[10,]   147           5030        1070          105         678     51 \n",
       "[11,]   228           8516        1563          103         463     94 \n",
       "[12,]   191          10166        1576           43         127     73 \n",
       "[13,] 23518            589         554           53           1   2488 \n",
       "[14,]   269          25992        3890            0           9     57 \n",
       "[15,]  1038            754         386           14           8    131 \n",
       "[16,]     5             51          20        89036         405      0 \n",
       "[17,]    83           6037        1172          178         296     23 \n",
       "[18,]  9729            126         126           10           0   1125 \n",
       "[19,] 38936          19517       12731       150187        8072  18392 "
      ]
     },
     "metadata": {},
     "output_type": "display_data"
    }
   ],
   "source": [
    "FullBiophysMat"
   ]
  },
  {
   "cell_type": "code",
   "execution_count": null,
   "metadata": {},
   "outputs": [],
   "source": []
  },
  {
   "cell_type": "code",
   "execution_count": null,
   "metadata": {},
   "outputs": [],
   "source": []
  },
  {
   "cell_type": "code",
   "execution_count": null,
   "metadata": {},
   "outputs": [],
   "source": []
  },
  {
   "cell_type": "code",
   "execution_count": null,
   "metadata": {},
   "outputs": [],
   "source": []
  },
  {
   "cell_type": "code",
   "execution_count": null,
   "metadata": {},
   "outputs": [],
   "source": []
  },
  {
   "cell_type": "code",
   "execution_count": 35,
   "metadata": {},
   "outputs": [
    {
     "data": {
      "text/plain": [
       "\n",
       "Call:\n",
       "mle2(minuslogl = LL_kt_bbmle, start = list(k = -3, theta = 1), \n",
       "    method = \"L-BFGS-B\", data = x, lower = c(-10, 0.15), upper = c(10, \n",
       "        8), control = list(maxit = 500))\n",
       "\n",
       "Coefficients:\n",
       "         k      theta \n",
       "-0.3123332  0.6214954 \n",
       "\n",
       "Log-likelihood: -2021634 "
      ]
     },
     "metadata": {},
     "output_type": "display_data"
    }
   ],
   "source": [
    "x <- list(Distances=Distances, Assignments=FullBiophysMat, Sampled_reefs=t(SiteIndex[site %in% SurveyData[, site], index]), #if CAI is it's own site- site %in% AllYearsRec[, dest]\n",
    "                  Reef_sizes=reef_sizes, Adult_sample_proportions=matrix(nrow=ncol(FullBiophysMat), ncol=1, 1)) #put inputs into a list because that's the bbmle format\n",
    "Sim2012_4Fit <- suppressWarnings(mle2(LL_kt_bbmle, start=list(k=-3, theta=1), lower=c(-10, 0.15), upper=c(10, 8), method=\"L-BFGS-B\", data=x, control=list(maxit=500)))\n",
    "Sim2012_4Fit\n",
    "#Next, do grid search to get the likelihood profile to compare to genetics!"
   ]
  },
  {
   "cell_type": "code",
   "execution_count": 36,
   "metadata": {},
   "outputs": [
    {
     "data": {
      "text/html": [
       "<table>\n",
       "<thead><tr><th scope=col>year</th><th scope=col>k</th><th scope=col>theta</th><th scope=col>mdd</th><th scope=col>med</th><th scope=col>dist90</th></tr></thead>\n",
       "<tbody>\n",
       "\t<tr><td>2012-4   </td><td>1.680432 </td><td>0.2978541</td><td>27.76646 </td><td>7.71     </td><td>68.69    </td></tr>\n",
       "</tbody>\n",
       "</table>\n"
      ],
      "text/latex": [
       "\\begin{tabular}{r|llllll}\n",
       " year & k & theta & mdd & med & dist90\\\\\n",
       "\\hline\n",
       "\t 2012-4    & 1.680432  & 0.2978541 & 27.76646  & 7.71      & 68.69    \\\\\n",
       "\\end{tabular}\n"
      ],
      "text/markdown": [
       "\n",
       "| year | k | theta | mdd | med | dist90 |\n",
       "|---|---|---|---|---|---|\n",
       "| 2012-4    | 1.680432  | 0.2978541 | 27.76646  | 7.71      | 68.69     |\n",
       "\n"
      ],
      "text/plain": [
       "  year   k        theta     mdd      med  dist90\n",
       "1 2012-4 1.680432 0.2978541 27.76646 7.71 68.69 "
      ]
     },
     "metadata": {},
     "output_type": "display_data"
    }
   ],
   "source": [
    "kernel2012_14"
   ]
  },
  {
   "cell_type": "code",
   "execution_count": 160,
   "metadata": {},
   "outputs": [
    {
     "data": {
      "text/html": [
       "<table>\n",
       "<tbody>\n",
       "\t<tr><td>2 </td><td>3 </td><td>4 </td><td>5 </td><td>6 </td><td>7 </td><td>8 </td><td>9 </td><td>10</td><td>11</td><td>12</td><td>13</td><td>14</td><td>15</td><td>16</td><td>17</td><td>18</td><td>19</td></tr>\n",
       "</tbody>\n",
       "</table>\n"
      ],
      "text/latex": [
       "\\begin{tabular}{llllllllllllllllll}\n",
       "\t 2  & 3  & 4  & 5  & 6  & 7  & 8  & 9  & 10 & 11 & 12 & 13 & 14 & 15 & 16 & 17 & 18 & 19\\\\\n",
       "\\end{tabular}\n"
      ],
      "text/markdown": [
       "\n",
       "| 2  | 3  | 4  | 5  | 6  | 7  | 8  | 9  | 10 | 11 | 12 | 13 | 14 | 15 | 16 | 17 | 18 | 19 |\n",
       "\n"
      ],
      "text/plain": [
       "     [,1] [,2] [,3] [,4] [,5] [,6] [,7] [,8] [,9] [,10] [,11] [,12] [,13] [,14]\n",
       "[1,] 2    3    4    5    6    7    8    9    10   11    12    13    14    15   \n",
       "     [,15] [,16] [,17] [,18]\n",
       "[1,] 16    17    18    19   "
      ]
     },
     "metadata": {},
     "output_type": "display_data"
    }
   ],
   "source": [
    "x$Sampled_reefs"
   ]
  },
  {
   "cell_type": "code",
   "execution_count": 161,
   "metadata": {},
   "outputs": [
    {
     "name": "stdout",
     "output_type": "stream",
     "text": [
      "  |======================================================================| 100%\n"
     ]
    },
    {
     "data": {
      "text/html": [
       "21408598.053702"
      ],
      "text/latex": [
       "21408598.053702"
      ],
      "text/markdown": [
       "21408598.053702"
      ],
      "text/plain": [
       "[1] 21408598"
      ]
     },
     "metadata": {},
     "output_type": "display_data"
    },
    {
     "data": {
      "text/html": [
       "2021656.22065593"
      ],
      "text/latex": [
       "2021656.22065593"
      ],
      "text/markdown": [
       "2021656.22065593"
      ],
      "text/plain": [
       "[1] 2021656"
      ]
     },
     "metadata": {},
     "output_type": "display_data"
    },
    {
     "data": {
      "text/html": [
       "0"
      ],
      "text/latex": [
       "0"
      ],
      "text/markdown": [
       "0"
      ],
      "text/plain": [
       "[1] 0"
      ]
     },
     "metadata": {},
     "output_type": "display_data"
    },
    {
     "data": {
      "text/html": [
       "<ol class=list-inline>\n",
       "\t<li>-0.299999999999999</li>\n",
       "\t<li>0.62</li>\n",
       "</ol>\n"
      ],
      "text/latex": [
       "\\begin{enumerate*}\n",
       "\\item -0.299999999999999\n",
       "\\item 0.62\n",
       "\\end{enumerate*}\n"
      ],
      "text/markdown": [
       "1. -0.299999999999999\n",
       "2. 0.62\n",
       "\n",
       "\n"
      ],
      "text/plain": [
       "[1] -0.30  0.62"
      ]
     },
     "metadata": {},
     "output_type": "display_data"
    }
   ],
   "source": [
    "# use a grid search to find k that minimizes the log likelihood\n",
    "k_eval <- c(seq(from=-10, to=10, by=0.01))\n",
    "theta_eval <- c(seq(from=0.1, to=5, by=.01))\n",
    "nll_matrix <- matrix(data=NA, nrow=length(k_eval), ncol=length(theta_eval), \n",
    "                     dimnames=list(k_eval, theta_eval))\n",
    "pb <- txtProgressBar(min = 0, max = length(k_eval), style = 3)#7 years in each interation\n",
    "\n",
    "#Begin grid search: i <- 1; j <- 1\n",
    "for(i in 1:length(k_eval)){\n",
    "  k <- k_eval[i]\n",
    "  for(j in 1:length(theta_eval)){\n",
    "    theta <- theta_eval[j]\n",
    "    nll_matrix[i,j] <- LL_kt_grid(k=k, theta=theta, Distances=x$Distances, Assignments=x$Assignments, Sampled_reefs=x$Sampled_reefs, Reef_sizes=x$Reef_sizes, Adult_sample_proportions=x$Adult_sample_proportions)\n",
    "  }\n",
    "    setTxtProgressBar(pb, i)\n",
    "\n",
    "}\n",
    "\n",
    "\n",
    "close(pb)\n",
    "\n",
    "max(nll_matrix, na.rm = T)\n",
    "min(nll_matrix, na.rm = T)\n",
    "\n",
    "sum(is.na(nll_matrix)==T)\n",
    "best_params_index <- which(nll_matrix == min(nll_matrix, na.rm = T), arr.ind=TRUE)\n",
    "best_params <- c(k_eval[best_params_index[1]], theta_eval[best_params_index[2]])\n",
    "best_params\n",
    "\n",
    "\n",
    "#write profile results\n",
    "#write.csv(nll_matrix, file=\"~/oceanography/script_output/KernelFits/LikelihoodProfileBiophysical2012-4.csv\", row.names=T, quote=FALSE)\n",
    "\n"
   ]
  },
  {
   "cell_type": "code",
   "execution_count": null,
   "metadata": {},
   "outputs": [],
   "source": [
    "#next test likelihood function and kernel fitting with this matrix"
   ]
  },
  {
   "cell_type": "code",
   "execution_count": 76,
   "metadata": {
    "scrolled": false
   },
   "outputs": [],
   "source": [
    "pop_size_vec <-SurveyData[,.(avg_num_females=mean(num_females, na.rm = TRUE)), by=site][, .(avg_num_females)]"
   ]
  },
  {
   "cell_type": "code",
   "execution_count": 78,
   "metadata": {},
   "outputs": [
    {
     "data": {
      "text/html": [
       "18"
      ],
      "text/latex": [
       "18"
      ],
      "text/markdown": [
       "18"
      ],
      "text/plain": [
       "[1] 18"
      ]
     },
     "metadata": {},
     "output_type": "display_data"
    }
   ],
   "source": []
  },
  {
   "cell_type": "code",
   "execution_count": 156,
   "metadata": {},
   "outputs": [
    {
     "data": {
      "text/html": [
       "<table>\n",
       "<thead><tr><th scope=col>site</th></tr></thead>\n",
       "<tbody>\n",
       "\t<tr><td>Cabatoan         </td></tr>\n",
       "\t<tr><td>Caridad Cemetery </td></tr>\n",
       "\t<tr><td>Caridad Proper   </td></tr>\n",
       "\t<tr><td>Elementary School</td></tr>\n",
       "\t<tr><td>Gabas            </td></tr>\n",
       "\t<tr><td>Haina            </td></tr>\n",
       "\t<tr><td>Hicgop South     </td></tr>\n",
       "\t<tr><td>Magbangon        </td></tr>\n",
       "\t<tr><td>Palanas          </td></tr>\n",
       "\t<tr><td>Poroc Rose       </td></tr>\n",
       "\t<tr><td>Poroc San Flower </td></tr>\n",
       "\t<tr><td>San Agustin      </td></tr>\n",
       "\t<tr><td>Sitio Baybayon   </td></tr>\n",
       "\t<tr><td>Sitio Lonas      </td></tr>\n",
       "\t<tr><td>Sitio Tugas      </td></tr>\n",
       "\t<tr><td>Tamakin Dacot    </td></tr>\n",
       "\t<tr><td>Visca            </td></tr>\n",
       "\t<tr><td>Wangag           </td></tr>\n",
       "</tbody>\n",
       "</table>\n"
      ],
      "text/latex": [
       "\\begin{tabular}{r|l}\n",
       " site\\\\\n",
       "\\hline\n",
       "\t Cabatoan         \\\\\n",
       "\t Caridad Cemetery \\\\\n",
       "\t Caridad Proper   \\\\\n",
       "\t Elementary School\\\\\n",
       "\t Gabas            \\\\\n",
       "\t Haina            \\\\\n",
       "\t Hicgop South     \\\\\n",
       "\t Magbangon        \\\\\n",
       "\t Palanas          \\\\\n",
       "\t Poroc Rose       \\\\\n",
       "\t Poroc San Flower \\\\\n",
       "\t San Agustin      \\\\\n",
       "\t Sitio Baybayon   \\\\\n",
       "\t Sitio Lonas      \\\\\n",
       "\t Sitio Tugas      \\\\\n",
       "\t Tamakin Dacot    \\\\\n",
       "\t Visca            \\\\\n",
       "\t Wangag           \\\\\n",
       "\\end{tabular}\n"
      ],
      "text/markdown": [
       "\n",
       "| site |\n",
       "|---|\n",
       "| Cabatoan          |\n",
       "| Caridad Cemetery  |\n",
       "| Caridad Proper    |\n",
       "| Elementary School |\n",
       "| Gabas             |\n",
       "| Haina             |\n",
       "| Hicgop South      |\n",
       "| Magbangon         |\n",
       "| Palanas           |\n",
       "| Poroc Rose        |\n",
       "| Poroc San Flower  |\n",
       "| San Agustin       |\n",
       "| Sitio Baybayon    |\n",
       "| Sitio Lonas       |\n",
       "| Sitio Tugas       |\n",
       "| Tamakin Dacot     |\n",
       "| Visca             |\n",
       "| Wangag            |\n",
       "\n"
      ],
      "text/plain": [
       "   site             \n",
       "1  Cabatoan         \n",
       "2  Caridad Cemetery \n",
       "3  Caridad Proper   \n",
       "4  Elementary School\n",
       "5  Gabas            \n",
       "6  Haina            \n",
       "7  Hicgop South     \n",
       "8  Magbangon        \n",
       "9  Palanas          \n",
       "10 Poroc Rose       \n",
       "11 Poroc San Flower \n",
       "12 San Agustin      \n",
       "13 Sitio Baybayon   \n",
       "14 Sitio Lonas      \n",
       "15 Sitio Tugas      \n",
       "16 Tamakin Dacot    \n",
       "17 Visca            \n",
       "18 Wangag           "
      ]
     },
     "metadata": {},
     "output_type": "display_data"
    }
   ],
   "source": [
    "SiteIndex[site %in% SurveyData[, site], .(site)]"
   ]
  },
  {
   "cell_type": "markdown",
   "metadata": {},
   "source": [
    "__Code function for likelihood of parentage data given a biophysical model, based on Bode et al. 2019 in Plos Bio__"
   ]
  },
  {
   "cell_type": "code",
   "execution_count": 113,
   "metadata": {},
   "outputs": [],
   "source": [
    "#lay out all the pieces\n",
    "pop_size_vec <- as.matrix(SurveyData[,.(avg_num_females=mean(num_females, na.rm = TRUE)), by=site][order(site)][, .(avg_num_females)]) #vector of pop sizes for all reefs (a). This term is also used in parentage kernel fitting, but reef sizes are substituted as a proxy for pop size. This is should be bootstrapped to account for uncertainty.\n",
    "BioPhysMat <- as.matrix(FullBiophysMatNorm) #source normalized biophysical connectivity matrix. In Eqn. S3.4, this is m ajt/r a (*should it be r at? As in all particles released in time period t?)\n",
    "prop_samp_vec <- as.matrix(SurveyData[year == 2014,  .(prop_anem_samp)])#vector of proportion of habitat sampled for all reefs in time period t\n",
    "unassigned_vec <- SurveyData[year %in% c(2012, 2013, 2014), .(sum_n_offs_gen=sum(n_offs_gen, na.rm=TRUE)), by=site][order(site)][, .(sum_n_offs_gen)]#from genetic parentage data- a vector of the number of unassigned recruits at each destination reef in the system- we only have this for all sampled reefs.... what should the dimensions be?*\n",
    "#need to fix unassigned vector, right now it is all sampled recruits without subtracting the assigned...\n"
   ]
  },
  {
   "cell_type": "code",
   "execution_count": 95,
   "metadata": {},
   "outputs": [],
   "source": [
    "#format the data"
   ]
  },
  {
   "cell_type": "code",
   "execution_count": 115,
   "metadata": {},
   "outputs": [
    {
     "data": {
      "text/html": [
       "18"
      ],
      "text/latex": [
       "18"
      ],
      "text/markdown": [
       "18"
      ],
      "text/plain": [
       "[1] 18"
      ]
     },
     "metadata": {},
     "output_type": "display_data"
    }
   ],
   "source": [
    "nrow(prop_samp_vec)"
   ]
  },
  {
   "cell_type": "code",
   "execution_count": 114,
   "metadata": {},
   "outputs": [
    {
     "data": {
      "text/html": [
       "0.525641025641026"
      ],
      "text/latex": [
       "0.525641025641026"
      ],
      "text/markdown": [
       "0.525641025641026"
      ],
      "text/plain": [
       "[1] 0.525641"
      ]
     },
     "metadata": {},
     "output_type": "display_data"
    }
   ],
   "source": [
    "prop_samp_vec[i]"
   ]
  },
  {
   "cell_type": "raw",
   "metadata": {},
   "source": []
  },
  {
   "cell_type": "code",
   "execution_count": 109,
   "metadata": {},
   "outputs": [
    {
     "data": {
      "text/html": [
       "0"
      ],
      "text/latex": [
       "0"
      ],
      "text/markdown": [
       "0"
      ],
      "text/plain": [
       "[1] 0"
      ]
     },
     "metadata": {},
     "output_type": "display_data"
    }
   ],
   "source": [
    "((1-prop_samp_vec[i])^2)"
   ]
  },
  {
   "cell_type": "code",
   "execution_count": 116,
   "metadata": {},
   "outputs": [
    {
     "data": {
      "text/html": [
       "<strong>Caridad Cemetery:</strong> 0.00766207010772198"
      ],
      "text/latex": [
       "\\textbf{Caridad Cemetery:} 0.00766207010772198"
      ],
      "text/markdown": [
       "**Caridad Cemetery:** 0.00766207010772198"
      ],
      "text/plain": [
       "Caridad Cemetery \n",
       "      0.00766207 "
      ]
     },
     "metadata": {},
     "output_type": "display_data"
    }
   ],
   "source": [
    "i=1\n",
    "j=2\n",
    "((1-prop_samp_vec[i])^2)*pop_size_vec[i]*BioPhysMat[i,j]"
   ]
  },
  {
   "cell_type": "code",
   "execution_count": 122,
   "metadata": {},
   "outputs": [
    {
     "name": "stdout",
     "output_type": "stream",
     "text": [
      " Named num 0.00766\n",
      " - attr(*, \"names\")= chr \"Caridad Cemetery\"\n"
     ]
    }
   ],
   "source": [
    " term1_num <- as.numeric((1-prop_samp_vec[i])^2)*pop_size_vec[i]*BioPhysMat[i,j]\n",
    "str(term1_num)"
   ]
  },
  {
   "cell_type": "code",
   "execution_count": 124,
   "metadata": {},
   "outputs": [],
   "source": [
    "a=1\n",
    "value_a <-  pop_size_vec[a]*BioPhysMat[a, j]\n",
    "term1_denom <- sum(value_a)"
   ]
  },
  {
   "cell_type": "code",
   "execution_count": 141,
   "metadata": {},
   "outputs": [
    {
     "data": {
      "text/html": [
       "<ol class=list-inline>\n",
       "\t<li>18</li>\n",
       "\t<li>18</li>\n",
       "</ol>\n"
      ],
      "text/latex": [
       "\\begin{enumerate*}\n",
       "\\item 18\n",
       "\\item 18\n",
       "\\end{enumerate*}\n"
      ],
      "text/markdown": [
       "1. 18\n",
       "2. 18\n",
       "\n",
       "\n"
      ],
      "text/plain": [
       "[1] 18 18"
      ]
     },
     "metadata": {},
     "output_type": "display_data"
    },
    {
     "data": {
      "text/html": [
       "<ol class=list-inline>\n",
       "\t<li>18</li>\n",
       "\t<li>1</li>\n",
       "</ol>\n"
      ],
      "text/latex": [
       "\\begin{enumerate*}\n",
       "\\item 18\n",
       "\\item 1\n",
       "\\end{enumerate*}\n"
      ],
      "text/markdown": [
       "1. 18\n",
       "2. 1\n",
       "\n",
       "\n"
      ],
      "text/plain": [
       "[1] 18  1"
      ]
     },
     "metadata": {},
     "output_type": "display_data"
    }
   ],
   "source": [
    "dim(BioPhysMat[1:nrow(BioPhysMat)-1,])\n",
    "dim(pop_size_vec)"
   ]
  },
  {
   "cell_type": "code",
   "execution_count": 144,
   "metadata": {},
   "outputs": [
    {
     "data": {
      "text/html": [
       "24.2684569856139"
      ],
      "text/latex": [
       "24.2684569856139"
      ],
      "text/markdown": [
       "24.2684569856139"
      ],
      "text/plain": [
       "[1] 24.26846"
      ]
     },
     "metadata": {},
     "output_type": "display_data"
    }
   ],
   "source": [
    "term1_denom <- sum(BioPhysMat[1:nrow(BioPhysMat)-1,]*pop_size_vec[1:nrow(pop_size_vec)])\n",
    "term1_denom"
   ]
  },
  {
   "cell_type": "code",
   "execution_count": 153,
   "metadata": {},
   "outputs": [
    {
     "data": {
      "text/html": [
       "<table>\n",
       "<tbody>\n",
       "\t<tr><td>       NA</td></tr>\n",
       "\t<tr><td>-8.060651</td></tr>\n",
       "\t<tr><td>       NA</td></tr>\n",
       "\t<tr><td>       NA</td></tr>\n",
       "\t<tr><td>       NA</td></tr>\n",
       "\t<tr><td>       NA</td></tr>\n",
       "\t<tr><td>       NA</td></tr>\n",
       "\t<tr><td>       NA</td></tr>\n",
       "\t<tr><td>       NA</td></tr>\n",
       "\t<tr><td>       NA</td></tr>\n",
       "\t<tr><td>       NA</td></tr>\n",
       "\t<tr><td>       NA</td></tr>\n",
       "\t<tr><td>       NA</td></tr>\n",
       "\t<tr><td>       NA</td></tr>\n",
       "\t<tr><td>       NA</td></tr>\n",
       "\t<tr><td>       NA</td></tr>\n",
       "\t<tr><td>       NA</td></tr>\n",
       "\t<tr><td>       NA</td></tr>\n",
       "\t<tr><td>       NA</td></tr>\n",
       "</tbody>\n",
       "</table>\n"
      ],
      "text/latex": [
       "\\begin{tabular}{l}\n",
       "\t        NA\\\\\n",
       "\t -8.060651\\\\\n",
       "\t        NA\\\\\n",
       "\t        NA\\\\\n",
       "\t        NA\\\\\n",
       "\t        NA\\\\\n",
       "\t        NA\\\\\n",
       "\t        NA\\\\\n",
       "\t        NA\\\\\n",
       "\t        NA\\\\\n",
       "\t        NA\\\\\n",
       "\t        NA\\\\\n",
       "\t        NA\\\\\n",
       "\t        NA\\\\\n",
       "\t        NA\\\\\n",
       "\t        NA\\\\\n",
       "\t        NA\\\\\n",
       "\t        NA\\\\\n",
       "\t        NA\\\\\n",
       "\\end{tabular}\n"
      ],
      "text/markdown": [
       "\n",
       "|        NA |\n",
       "| -8.060651 |\n",
       "|        NA |\n",
       "|        NA |\n",
       "|        NA |\n",
       "|        NA |\n",
       "|        NA |\n",
       "|        NA |\n",
       "|        NA |\n",
       "|        NA |\n",
       "|        NA |\n",
       "|        NA |\n",
       "|        NA |\n",
       "|        NA |\n",
       "|        NA |\n",
       "|        NA |\n",
       "|        NA |\n",
       "|        NA |\n",
       "|        NA |\n",
       "\n"
      ],
      "text/plain": [
       "      [,1]     \n",
       " [1,]        NA\n",
       " [2,] -8.060651\n",
       " [3,]        NA\n",
       " [4,]        NA\n",
       " [5,]        NA\n",
       " [6,]        NA\n",
       " [7,]        NA\n",
       " [8,]        NA\n",
       " [9,]        NA\n",
       "[10,]        NA\n",
       "[11,]        NA\n",
       "[12,]        NA\n",
       "[13,]        NA\n",
       "[14,]        NA\n",
       "[15,]        NA\n",
       "[16,]        NA\n",
       "[17,]        NA\n",
       "[18,]        NA\n",
       "[19,]        NA"
      ]
     },
     "metadata": {},
     "output_type": "display_data"
    }
   ],
   "source": [
    "term1 <- matrix(nrow=nrow(BioPhysMat-1), ncol=1)\n",
    "term1[j] = log(term1_num/term1_denom)\n",
    "term1"
   ]
  },
  {
   "cell_type": "code",
   "execution_count": 154,
   "metadata": {},
   "outputs": [
    {
     "ename": "ERROR",
     "evalue": "Error in nrow(centroids): object 'centroids' not found\n",
     "output_type": "error",
     "traceback": [
      "Error in nrow(centroids): object 'centroids' not found\nTraceback:\n",
      "1. matrix(nrow = nrow(centroids), ncol = 1)",
      "2. nrow(centroids)"
     ]
    }
   ],
   "source": [
    "#Eqn. S3.4 term 1 for loop\n",
    "\n",
    "term1 <- matrix(nrow=nrow(SiteIndex[site %in% SurveyData[, site], .(site)]), ncol=1)\n",
    "\n",
    "for(j in 1:nrow(term1)){ #for each destination reef in the Camotes system\n",
    "    \n",
    "#dest_unassigned <- sum(unassigned_vec) #the sum of all unassigned recruits at time period t #[t==time_period]\n",
    "    \n",
    "        for(i in 1:nrow(term1)){ #term 1- for each source reef in the whole Camotes system, expected unassigned at each destination reef\n",
    "            \n",
    "            term1_num <- ((1-prop_samp_vec[i])^2)*pop_size_vec[i]*BioPhysMat[i,j] #t== time_period]\n",
    "            \n",
    "            for(a in 1:nrow(term1)){ #for all reefs total in the whole Camotes system, denominator of term 1\n",
    "                \n",
    "                #value_a <-  pop_size_vec[,1]*BioPhysMat[a, j, t]\n",
    "                term1_denom <- sum(BioPhysMat[1:nrow(BioPhysMat)-1,]*pop_size_vec[1:nrow(pop_size_vec)])\n",
    "            }\n",
    "        \n",
    "        term1[j,] = log(term1_num/term1_denom)\n",
    "        prob_unsampled <- unassigned_vec*log(term1)\n",
    "        }\n",
    "\n",
    "#    for(k in 1:nrow(centroids)){ #term 2- for each source reef in the whole Camotes system, expected assigned at each destination reef\n",
    "#        \n",
    "#        term2_num <- (1-(1-prop_samp_vec[i,t== time_period])^2)*pop_size_vec[i]*BioPhysMat[i,j,t]\n",
    "#            \n",
    "#            for(a in 1:nrow(centroids)){ #for all reefs total in the whole Camotes system, denominator of term 2\n",
    "#                \n",
    "#                value_a <-  pop_size_vec[a]*BioPhysMat[a, j, t]\n",
    "#                term2_denom <- sum(value_a)\n",
    "}\n",
    "#        \n",
    "#        term2 = term2_num/term2_denom\n",
    "#        \n",
    "#        }\n",
    "#        \n",
    "#    \n",
    "#\n",
    "#prob_unsampled <- dest_unassigned*log(term1)  \n",
    "#prob_sampled <- dest_assigned*log(term2)\n",
    "#ll = prob_unsampled + prob_sampled\n",
    "#}"
   ]
  },
  {
   "cell_type": "code",
   "execution_count": null,
   "metadata": {},
   "outputs": [],
   "source": []
  },
  {
   "cell_type": "code",
   "execution_count": null,
   "metadata": {},
   "outputs": [],
   "source": []
  },
  {
   "cell_type": "code",
   "execution_count": null,
   "metadata": {},
   "outputs": [],
   "source": [
    "#Mike Bode said I should be less aggressively subsampling the biophysical data, but how should I do that? The kernel fitting still requires that I have a prop samp vector... but when I tried putting 1's in that vector and using all of the particles for fitting I got crazy "
   ]
  },
  {
   "cell_type": "code",
   "execution_count": null,
   "metadata": {},
   "outputs": [],
   "source": []
  },
  {
   "cell_type": "code",
   "execution_count": null,
   "metadata": {},
   "outputs": [],
   "source": []
  },
  {
   "cell_type": "code",
   "execution_count": null,
   "metadata": {},
   "outputs": [],
   "source": []
  },
  {
   "cell_type": "code",
   "execution_count": null,
   "metadata": {},
   "outputs": [],
   "source": []
  },
  {
   "cell_type": "code",
   "execution_count": null,
   "metadata": {},
   "outputs": [],
   "source": []
  },
  {
   "cell_type": "code",
   "execution_count": null,
   "metadata": {},
   "outputs": [],
   "source": []
  },
  {
   "cell_type": "code",
   "execution_count": null,
   "metadata": {},
   "outputs": [],
   "source": [
    "#sample the particle data\n",
    "SimSample <- DestSampled[, .SD[sample(.N, dest_n_rec_annual)], by = c(\"year\", \"dest\")] #, prob=surv_weight #randomly sample rows (particles) from the table according to the survival weighting, based on the number we sampled at each site in each year of surveys\n",
    "check1 <- nrow(SimSample)\n",
    "\n",
    "#assign parentage\n",
    "SimParentage <- SimSample[source_prop_samp > 0][, .SD[sample(.N, num_parentage_matches)], by = .(year)][#Prob=SurvWeight, #now randomly assign parentage or not parentage, based on how well we sampled the source and the number of parentage matches we had in that year\n",
    "                , parentage := 1]\n",
    "#for faster searching, set keys\n",
    "setkey(SimParentage, particle_id)\n",
    "setkey(SimSample, particle_id)\n",
    "\n",
    "l <- list(SimSample[particle_id %!in% SimParentage$particle_id][, parentage := 0], SimParentage)\n",
    "SimSample <- rbindlist(l, use.names = TRUE, fill=TRUE, idcol = NULL)[, c(\"year\", \"source\", \"dest\", \"parentage\", \"monsoon\")] #add back in to the unassigned particles, select only the columns necessary\n",
    "\n",
    "#check results, for testing loop only\n",
    "#nrow(SimSample)==check1 #should be TRUE\n",
    "#sum(SimSample$parentage) #should be 37"
   ]
  },
  {
   "cell_type": "code",
   "execution_count": null,
   "metadata": {},
   "outputs": [],
   "source": [
    "sum(SimSample$parentage)"
   ]
  },
  {
   "cell_type": "code",
   "execution_count": null,
   "metadata": {},
   "outputs": [],
   "source": [
    "\n",
    "#calculate the unassigned row\n",
    "Unassigned <- unique(SimSample[parentage==0][#not counting parentage!\n",
    "    , num_sampled := .(.N), by= c(\"dest\", \"year\", \"monsoon\")], by=c(\"dest\", \"year\", \"monsoon\"))[, -\"source\"]\n",
    "#add destinations not sampled in loop iteration to unassigned \n",
    "Unassigned <- Unassigned[AddDest, on=.(year=year, dest=site, monsoon)]\n",
    "Unassigned$num_sampled[is.na(Unassigned$num_sampled)] <- 0\n",
    "#sum(Unassigned$num_sampled, na.rm=T)==check1-37 #total should be the total sampled particles minus the total assigned\n",
    "setorder(Unassigned, year, dest)\n",
    "\n",
    "##adding in the possible sampled routes needs to happen AFTER calculating unassigned because unassigned is calculated from row counts\n",
    "SimSample <- PropSampTable[SimSample, on=.(year, source, dest, monsoon)]\n",
    "#check all is well- for testing loop only\n",
    "#sum(SimSample$parentage) #should be 37\n",
    "\n",
    "#add in the routes we could have assigned given our sampling so the parentage matrix is complete\n",
    "UnqSimSample <- unique(SimSample, by=c(\"source\", \"dest\", \"year\", \"monsoon\"))\n",
    "\n",
    "AddRoutes <- UnqSurvey[!UnqSimSample, on = names(UnqSurvey)][ #what combos are not appearing because we didn't sample particles, but the route is possible based on our survey sampling\n",
    "    , `:=`(parentage= 0, num_sampled = 0) ] #add the parentage column \n",
    "\n",
    "#add back into the sampled simulation data\n",
    "l <- list(SimSample, AddRoutes[,-\"num_sampled\"])\n",
    "SimSample <- rbindlist(l, use.names = TRUE, fill=TRUE, idcol = NULL)\n",
    "setorder(SimSample, year, source, dest)\n",
    "\n",
    "#make summary tables for each time frame, to be used for making parentage matrix\n",
    "SimSampleByYear <- SimSample[,  .(total_parentage =sum(parentage)), by=c(\"year\", \"source\", \"dest\")]\n",
    "#sum(SimSampleByYear$total_parentage)\n",
    "UnassignedByYear <- Unassigned[, .(total_sampled = sum(num_sampled)), by=c(\"year\", \"dest\")]\n",
    "\n",
    "\n",
    "SimSampleInterannual <- SimSample[,  .(total_parentage =sum(parentage)), by=c(\"source\", \"dest\")]\n",
    "#sum(SimSampleInterannual$total_parentage)\n",
    "UnassignedInterannual <- Unassigned[, .(total_sampled = sum(num_sampled)), by=c(\"dest\")]\n",
    "\n",
    "\n",
    "SimSampleMonsoon <- SimSample[,  .(total_parentage =sum(parentage)), by=c(\"monsoon\", \"source\", \"dest\")]\n",
    "sum(SimSampleMonsoon$total_parentage)\n",
    "UnassignedMonsoon <- Unassigned[, .(total_sampled = sum(num_sampled)), by=c(\"monsoon\", \"dest\")]\n",
    "\n",
    "#make a parentage matrix for each year\n",
    "mat2012 <- dcast(SimSampleByYear[year==2012], source ~ dest, value.var=\"total_parentage\", fun.aggregate = sum)[source %in% SurveyData[year==2012 & prop_anem_samp >0, site]][, -\"source\"] \n",
    "mat2012 <- as.matrix(rbind(mat2012, t(UnassignedByYear[year==2012][, total_sampled]), use.names=F))\n",
    "\n",
    "mat2013 <- dcast(SimSampleByYear[year==2013], source ~ dest, value.var=\"total_parentage\", fun.aggregate = sum)[source %in% SurveyData[year==2013 & prop_anem_samp >0, site]][, -\"source\"] \n",
    "mat2013 <- as.matrix(rbind(mat2013, t(UnassignedByYear[year==2013][, total_sampled]), use.names=F))\n",
    "\n",
    "mat2014 <- dcast(SimSampleByYear[year==2014], source ~ dest, value.var=\"total_parentage\", fun.aggregate = sum)[source %in% SurveyData[year==2014 & prop_anem_samp >0, site]][, -\"source\"] \n",
    "mat2014 <- as.matrix(rbind(mat2014, t(UnassignedByYear[year==2014][, total_sampled]), use.names=F))\n",
    "\n",
    "mat2012_4 <- dcast(SimSampleInterannual, source ~ dest, value.var=\"total_parentage\", fun.aggregate = sum)[source %in% SurveyData[year %in% c(2012, 2013, 2014) & prop_anem_samp >0, site]][, -\"source\"] \n",
    "mat2012_4 <- as.matrix(rbind(mat2012_4, t(UnassignedInterannual[, total_sampled]), use.names=F))\n",
    "\n",
    "matNEM <- dcast(SimSampleMonsoon[monsoon==\"NEM\"], source ~ dest, value.var=\"total_parentage\", fun.aggregate = sum)[source %in% SurveyData[year %in% c(2012, 2013, 2014) & prop_anem_samp >0, site]][, -\"source\"] \n",
    "matNEM <- as.matrix(rbind(matNEM, t(UnassignedMonsoon[monsoon==\"NEM\"][, total_sampled]), use.names=F))\n",
    "\n",
    "matSWM <- dcast(SimSampleMonsoon[monsoon==\"SWM\"], source ~ dest, value.var=\"total_parentage\", fun.aggregate = sum)[source %in% SurveyData[year %in% c(2012, 2013, 2014) & prop_anem_samp >0, site]][, -\"source\"] \n",
    "matSWM <- as.matrix(rbind(matSWM, t(UnassignedMonsoon[monsoon==\"SWM\"][, total_sampled]), use.names=F))\n",
    "\n"
   ]
  },
  {
   "cell_type": "code",
   "execution_count": null,
   "metadata": {},
   "outputs": [],
   "source": []
  },
  {
   "cell_type": "code",
   "execution_count": null,
   "metadata": {},
   "outputs": [],
   "source": [
    "matSWM"
   ]
  },
  {
   "cell_type": "code",
   "execution_count": null,
   "metadata": {},
   "outputs": [],
   "source": []
  },
  {
   "cell_type": "code",
   "execution_count": null,
   "metadata": {},
   "outputs": [],
   "source": [
    "#Biophysical source normalized matrix\n",
    "#for each source, what is the normalized recruitment at each destination? \n",
    "GenSimConn[, annual_source_normalized_recruitment := sum(daily_particles_recruited)/sum(daily_particles_released), by=c(\"source\", \"destination\",\"year_sampled\")]\n"
   ]
  },
  {
   "cell_type": "code",
   "execution_count": null,
   "metadata": {},
   "outputs": [],
   "source": []
  },
  {
   "cell_type": "code",
   "execution_count": null,
   "metadata": {},
   "outputs": [],
   "source": []
  },
  {
   "cell_type": "code",
   "execution_count": null,
   "metadata": {},
   "outputs": [],
   "source": []
  },
  {
   "cell_type": "code",
   "execution_count": null,
   "metadata": {},
   "outputs": [],
   "source": []
  },
  {
   "cell_type": "code",
   "execution_count": null,
   "metadata": {},
   "outputs": [],
   "source": []
  },
  {
   "cell_type": "code",
   "execution_count": null,
   "metadata": {},
   "outputs": [],
   "source": [
    "\n",
    "for(i in 1:NumSampledReefs){\n",
    "   This_SS_A = Adult_sample_proportions[i]#same\n",
    "   for(j in 1:NumSampledReefs){\n",
    "    SettlersFromAssignedReefs = Settlers[Sampled_reefs[i],Sampled_reefs[j]]#same\n",
    "    #Not all settlers from assigned reefs will be assigned, because not all adults were sampled\n",
    "    AssignedSettlers[i,j] = SettlersFromAssignedReefs*(This_SS_A^2 + 2*This_SS_A*(1 - This_SS_A))\n",
    "    AssignedSettlers[NumSampledReefs+1,j] = AssignedSettlers[NumSampledReefs+1,j] + SettlersFromAssignedReefs*(1-This_SS_A)^2 #The three dots '...' tell matlab that the code on a given line continues on the next line.\n",
    "   }\n",
    "}\n",
    "Unsampled = as.matrix(setdiff(1:NumReefs,Sampled_reefs))\n",
    "\n",
    "\n",
    "for(j in 1:NumSampledReefs){\n",
    "   AssignedSettlers[NumSampledReefs+1,j] = AssignedSettlers[NumSampledReefs+1,j] + sum(Settlers[Unsampled,Sampled_reefs[,j]]) \n",
    "}\n",
    "   \n",
    "\n"
   ]
  },
  {
   "cell_type": "code",
   "execution_count": null,
   "metadata": {},
   "outputs": [],
   "source": []
  },
  {
   "cell_type": "code",
   "execution_count": null,
   "metadata": {},
   "outputs": [],
   "source": []
  },
  {
   "cell_type": "code",
   "execution_count": null,
   "metadata": {},
   "outputs": [],
   "source": []
  },
  {
   "cell_type": "code",
   "execution_count": null,
   "metadata": {},
   "outputs": [],
   "source": []
  },
  {
   "cell_type": "code",
   "execution_count": null,
   "metadata": {},
   "outputs": [],
   "source": []
  },
  {
   "cell_type": "code",
   "execution_count": null,
   "metadata": {},
   "outputs": [],
   "source": []
  },
  {
   "cell_type": "code",
   "execution_count": null,
   "metadata": {},
   "outputs": [],
   "source": []
  },
  {
   "cell_type": "markdown",
   "metadata": {},
   "source": [
    "__Loop through sampling different proportions of other and CAI source particles and compare the unassigned proportions of total sample particles to the genetic observations from survey data__"
   ]
  },
  {
   "cell_type": "code",
   "execution_count": null,
   "metadata": {},
   "outputs": [],
   "source": [
    "PropAssignedTable <- rbind(kernels[Year %in% c(\"2012\", \"2013\", \"2014\")][\n",
    "    , PropAssigned := PercentAssigned/100][ #change to proportion note percent\n",
    "    , c(\"Year\", \"NumParentageMatches\", \"NumOffsSampled\", \"PropAssigned\")],                      \n",
    "    unique(kernels[Year %in% c(\"2012\", \"2013\", \"2014\")][ #only the years coinciding with the models\n",
    "    , `:=` (NumParentageMatches=sum(NumParentageMatches), NumOffsSampled=sum(NumOffsSampled), PropAssigned = NumParentageMatches/NumOffsSampled, Year = \"2012-4\")][ #summarise across the 3 years\n",
    "    , c(\"Year\",\"NumParentageMatches\", \"NumOffsSampled\", \"PropAssigned\")], by=\"Year\"))\n",
    "    \n",
    "\n",
    "PropAssignedTable[]\n",
    "\n",
    "#add in the average sampled proportion of anemones\n",
    "AvgPropSamp <- SurveyData[PropAnemSamp >0, .(PropAnemSamp = mean(PropAnemSamp)), by=\"year\"][ #average for each site we sampled, how well we sampled\n",
    "    year %in% c(\"2012\", \"2013\", \"2014\")][\n",
    "    , year :=as.character(year)]\n",
    "\n",
    "ExpectedPropAssigned <- AvgPropSamp[PropAssignedTable, on=.(year=Year)]\n",
    "ExpectedPropAssigned$PropAnemSamp[is.na(ExpectedPropAssigned$PropAnemSamp)] <- mean(ExpectedPropAssigned$PropAnemSamp, na.rm = T) #replace the 2012-4 NA with the average from the 3 years\n",
    "\n",
    "#what's the normalized self recruitment proportion back to the population\n",
    "ExpectedPropAssigned[, ExpAssigned := NumParentageMatches/(NumOffsSampled*PropAnemSamp)][] #this is the expected assignment for the whole surveyed population if we had sampled all adults (which we kind of do when we use the simulation results)\n",
    "#at some point... maybe it would be better to compare on a site to site level? idk that's pretty fine scale, I don't know that our ROMS model can be expected to compare so well with that"
   ]
  },
  {
   "cell_type": "code",
   "execution_count": null,
   "metadata": {},
   "outputs": [],
   "source": []
  },
  {
   "cell_type": "raw",
   "metadata": {},
   "source": []
  },
  {
   "cell_type": "code",
   "execution_count": null,
   "metadata": {},
   "outputs": [],
   "source": []
  },
  {
   "cell_type": "markdown",
   "metadata": {},
   "source": [
    "__For the expected values of recruits from outside of our sampled region, I'm using the intermediate \"PredictedProportions\" matrix from the Bode kernel fitting script (https://github.com/MikeBode/Parentage_kernel_fitting/blob/master/Kernel_Fitting_Function.m) because it accounts for how well sites were sampled when estimating proportions of recruits from unsampled sites__"
   ]
  },
  {
   "cell_type": "code",
   "execution_count": null,
   "metadata": {},
   "outputs": [],
   "source": [
    "#####outside of the loop*****\n",
    "\n",
    "PropSampTable <- SurveyData[PropAnemSamp >0, c(\"year\", \"site\")]\n",
    "\n",
    "#make sure all sampled sites are represented by joining the survey data to the sampled simulation\n",
    "PropSampTable <- rbind(SurveyData[PropAnemSamp >0 & year %in% c(2012, 2013, 2014), c(\"year\", \"site\")][, .(Source=site, Dest=site, Year=year)][ #will join to the simulated sampling table by source and dest, so make those each a column from site and preserve the year variable as a key\n",
    "    , c(\"Year\", \"Source\", \"Dest\")][, Monsoon := \"NEM\"], SurveyData[PropAnemSamp >0 & year %in% c(2012, 2013, 2014), c(\"year\", \"site\")][, .(Source=site, Dest=site, Year=year)][ #will join to the simulated sampling table by source and dest, so make those each a column from site and preserve the year variable as a key\n",
    "    , c(\"Year\", \"Source\", \"Dest\")][, Monsoon := \"SWM\"])\n",
    "#unq_survey <- unique(PropSampTable, by=c(\"Source\", \"Dest\", \"Year\", \"Monsoon\"))#, unique(PropSampTable, by=c(\"Source\", \"Dest\", \"Year\"))[, Monsoon := \"SWM\"]) #add in the diff Monsoon seasons so there are complete parentage matrices later\n",
    "#add_dest <- rbind(SurveyData[year %in% c(2012, 2013, 2014) & PropAnemSamp >0][, c(\"year\", \"site\")][, Monsoon := \"NEM\"], SurveyData[year %in% c(2012, 2013, 2014) & PropAnemSamp >0][, c(\"year\", \"site\")][, Monsoon := \"SWM\"])  #what destinations were sampled, for use with unassigned table\n",
    "\n",
    "###outside of the loop\n",
    "PropToEval <- seq(0.1, 1, 0.1) #make a vector of proportions to sample iterativaley and compare\n",
    "#empty table to hold results\n",
    "PropSampOtherCAI <- data.table(TimeScale=character(), TimeID=character(), PropUnassigned=numeric(), ExpUnassigned=numeric(),  PropSampEval=numeric(), Check1=character(), Check2=character(), NrowSimConn=numeric())\n",
    "\n"
   ]
  },
  {
   "cell_type": "code",
   "execution_count": null,
   "metadata": {},
   "outputs": [],
   "source": [
    "pb <- txtProgressBar(min = 0, max =length(PropToEval), style = 3)\n",
    "\n",
    "StartTime <- Sys.time()\n",
    "\n",
    "for(i in 1:length(PropToEval)){\n",
    "\n",
    "PropSampOtherCAI_int <- data.table(TimeScale=character(), TimeID=character(), PropUnassigned=numeric(), ExpUnassigned=numeric(),  PropSampEval=numeric(), Check1=character(), Check2=character(), NrowSimConn=numeric())[1:4]\n",
    "\n",
    "dest_sampled <- date_join[DestPropSamp >0]\n",
    "check1 <- nrow(dest_sampled)\n",
    "dest_sampled <- dest_sampled[c(dest_sampled[, .I[Source != \"Other\"]], sample(dest_sampled[, .I[Source == \"Other\"]], length(dest_sampled[, .I[Source == \"Other\"]])*PropToEval[i]))]\n",
    "check2 <- nrow(dest_sampled)\n",
    "dest_sampled <- dest_sampled[c(dest_sampled[, .I[Source != \"CAI\"]], sample(dest_sampled[, .I[Source == \"CAI\"]], length(dest_sampled[, .I[Source == \"CAI\"]])*PropToEval[i]))]\n",
    "check3 <- nrow(dest_sampled)\n",
    "\n",
    "#check that we have less rows, should both be TRUE\n",
    "test1 <- check1 > check2\n",
    "test2 <- check2 > check3\n",
    "#check1 > check2\n",
    "#check2 > check3\n",
    "\n",
    "\n",
    "#join in the number of parentage matches observed by year\n",
    "dest_sampled <- kernels[Year %in% c(\"2012\", \"2013\", \"2014\")][, Year:=as.integer(Year)][,c(\"Year\", \"NumParentageMatches\")][dest_sampled, on=.(Year=YearSampled)]#[\n",
    "\n",
    "#randomly subsample the sampled particle data\n",
    "sim_sample <- dest_sampled[, .SD[sample(.N, DestNOffsAnnual, prob=SurvWeight)], by = c(\"Year\", \"Dest\")] #randomly sample rows (particles) from the table according to the survival weighting, based on the number we sampled at each site in each year of surveys\n",
    "\n",
    "PropUnassignedByYear <- (sim_sample[Source == \"CAI\"| Source == \"Other\", .(.N), by=\"Year\"][, N]/#total particales sampled from other/CAI sources\n",
    "sim_sample[, .(.N), by=\"Year\"][, N]) #total particles sampled\n",
    "\n",
    "PropSampOtherCAI_int$TimeScale[1] <- \"annual\"\n",
    "PropSampOtherCAI_int$TimeID[1] <- \"2012\"\n",
    "PropSampOtherCAI_int$PropUnassigned[1] <- PropUnassignedByYear[1]\n",
    "PropSampOtherCAI_int$ExpUnassigned[1] <- 1-(ExpectedPropAssigned[1, ExpAssigned])\n",
    "PropSampOtherCAI_int$PropSampEval[1] <- PropToEval[i]\n",
    "PropSampOtherCAI_int$Check1[1] <- test1\n",
    "PropSampOtherCAI_int$Check2[1] <- test2\n",
    "PropSampOtherCAI_int$NrowSimConn[1] <- nrow(dest_sampled)\n",
    "    \n",
    "PropSampOtherCAI_int$TimeScale[2] <- \"annual\"\n",
    "PropSampOtherCAI_int$TimeID[2] <- \"2013\"\n",
    "PropSampOtherCAI_int$PropUnassigned[2] <- PropUnassignedByYear[2]\n",
    "PropSampOtherCAI_int$ExpUnassigned[2] <- 1-(ExpectedPropAssigned[2, ExpAssigned])\n",
    "PropSampOtherCAI_int$PropSampEval[2] <- PropToEval[i]\n",
    "PropSampOtherCAI_int$Check1[2] <- test1\n",
    "PropSampOtherCAI_int$Check2[2] <- test2\n",
    "PropSampOtherCAI_int$NrowSimConn[2] <- nrow(dest_sampled)\n",
    "    \n",
    "PropSampOtherCAI_int$TimeScale[3] <- \"annual\"\n",
    "PropSampOtherCAI_int$TimeID[3] <- \"2014\"\n",
    "PropSampOtherCAI_int$PropUnassigned[3] <- PropUnassignedByYear[3]\n",
    "PropSampOtherCAI_int$ExpUnassigned[3] <- 1-(ExpectedPropAssigned[3, ExpAssigned])\n",
    "PropSampOtherCAI_int$PropSampEval[3] <- PropToEval[i]\n",
    "PropSampOtherCAI_int$Check1[3] <- test1\n",
    "PropSampOtherCAI_int$Check2[3] <- test2\n",
    "PropSampOtherCAI_int$NrowSimConn[3] <- nrow(dest_sampled)\n",
    "    \n",
    "PropSampOtherCAI_int$TimeScale[4] <- \"interannual\"\n",
    "PropSampOtherCAI_int$TimeID[4] <- \"2012_4\"\n",
    "PropSampOtherCAI_int$PropUnassigned[4] <- nrow(sim_sample[Source == \"CAI\"| Source == \"Other\"])/nrow(sim_sample)\n",
    "PropSampOtherCAI_int$ExpUnassigned[4] <- 1-(ExpectedPropAssigned[4, ExpAssigned])\n",
    "PropSampOtherCAI_int$PropSampEval[4] <- PropToEval[i]\n",
    "PropSampOtherCAI_int$Check1[4] <- test1\n",
    "PropSampOtherCAI_int$Check2[4] <- test2\n",
    "PropSampOtherCAI_int$NrowSimConn[4] <- nrow(dest_sampled)\n",
    "\n",
    "l <- list(PropSampOtherCAI, PropSampOtherCAI_int)\n",
    "PropSampOtherCAI <- rbindlist(l, use.names = TRUE, fill=TRUE, idcol = FALSE)\n",
    "setTxtProgressBar(pb, i)\n",
    "    \n",
    "}\n",
    "\n",
    "close(pb)\n",
    "EndTime <- Sys.time()\n",
    "EndTime-StartTime\n",
    "\n",
    "fwrite(PropSampOtherCAI, file=\"~/oceanography/script_output/SimulationSummaryTables/PropSampOtherCAIEvaluation.csv\")\n"
   ]
  },
  {
   "cell_type": "code",
   "execution_count": null,
   "metadata": {},
   "outputs": [],
   "source": [
    "PropSampOtherCAI[order(-PropUnassigned)]"
   ]
  },
  {
   "cell_type": "markdown",
   "metadata": {},
   "source": [
    "__Seems like good justification to not subsample the ROMS particles from other/Camotes Islands__"
   ]
  },
  {
   "cell_type": "code",
   "execution_count": null,
   "metadata": {},
   "outputs": [],
   "source": []
  },
  {
   "cell_type": "code",
   "execution_count": null,
   "metadata": {},
   "outputs": [],
   "source": []
  },
  {
   "cell_type": "code",
   "execution_count": null,
   "metadata": {},
   "outputs": [],
   "source": []
  },
  {
   "cell_type": "code",
   "execution_count": null,
   "metadata": {},
   "outputs": [],
   "source": []
  },
  {
   "cell_type": "code",
   "execution_count": null,
   "metadata": {},
   "outputs": [],
   "source": [
    "\n"
   ]
  },
  {
   "cell_type": "code",
   "execution_count": null,
   "metadata": {},
   "outputs": [],
   "source": []
  },
  {
   "cell_type": "code",
   "execution_count": null,
   "metadata": {
    "scrolled": false
   },
   "outputs": [],
   "source": []
  },
  {
   "cell_type": "code",
   "execution_count": null,
   "metadata": {},
   "outputs": [],
   "source": []
  },
  {
   "cell_type": "code",
   "execution_count": null,
   "metadata": {},
   "outputs": [],
   "source": []
  },
  {
   "cell_type": "code",
   "execution_count": null,
   "metadata": {
    "scrolled": false
   },
   "outputs": [],
   "source": []
  },
  {
   "cell_type": "code",
   "execution_count": null,
   "metadata": {},
   "outputs": [],
   "source": []
  },
  {
   "cell_type": "code",
   "execution_count": null,
   "metadata": {},
   "outputs": [],
   "source": []
  },
  {
   "cell_type": "code",
   "execution_count": null,
   "metadata": {},
   "outputs": [],
   "source": []
  },
  {
   "cell_type": "code",
   "execution_count": null,
   "metadata": {},
   "outputs": [],
   "source": [
    "\n"
   ]
  },
  {
   "cell_type": "code",
   "execution_count": null,
   "metadata": {},
   "outputs": [],
   "source": [
    "nrow(dest_sampled)\n",
    "nrow(SimConn)"
   ]
  },
  {
   "cell_type": "code",
   "execution_count": null,
   "metadata": {
    "scrolled": false
   },
   "outputs": [],
   "source": [
    "#save inter file\n",
    "#fwrite(dest_sampled, file=\"~/oceanography/script_output/LongFormConnWithProbsTest.csv\")\n",
    "#see if I can write as a compressed file so it can be stored on github\n",
    "#https://stackoverflow.com/questions/42788401/is-possible-to-use-fwrite-from-data-table-with-gzfile"
   ]
  },
  {
   "cell_type": "code",
   "execution_count": null,
   "metadata": {},
   "outputs": [],
   "source": []
  },
  {
   "cell_type": "code",
   "execution_count": null,
   "metadata": {},
   "outputs": [],
   "source": []
  },
  {
   "cell_type": "code",
   "execution_count": null,
   "metadata": {},
   "outputs": [],
   "source": []
  },
  {
   "cell_type": "code",
   "execution_count": null,
   "metadata": {},
   "outputs": [],
   "source": []
  },
  {
   "cell_type": "code",
   "execution_count": null,
   "metadata": {},
   "outputs": [],
   "source": []
  }
 ],
 "metadata": {
  "kernelspec": {
   "display_name": "R",
   "language": "R",
   "name": "ir"
  },
  "language_info": {
   "codemirror_mode": "r",
   "file_extension": ".r",
   "mimetype": "text/x-r-source",
   "name": "R",
   "pygments_lexer": "r",
   "version": "3.6.1"
  }
 },
 "nbformat": 4,
 "nbformat_minor": 4
}
