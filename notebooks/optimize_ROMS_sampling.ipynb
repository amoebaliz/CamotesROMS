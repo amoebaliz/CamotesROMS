{
 "cells": [
  {
   "cell_type": "code",
   "execution_count": 1,
   "metadata": {},
   "outputs": [],
   "source": [
    "Packages <- c(\"dplyr\",  \"nleqslv\", \"broom\",\"cubature\", \"geosphere\", \"data.table\",  \"ggplot2\", \"bbmle\", \"stringr\",  \"lubridate\", \"RColorBrewer\")\n",
    "\n",
    "invisible(suppressPackageStartupMessages(lapply(Packages, library, character.only = TRUE)))\n",
    "\n",
    "setwd('/local/home/katrinac/oceanography')\n",
    "\"%!in%\" <- function(x,table) match(x,table, nomatch = 0) == 0\n",
    "source(\"~/parentage/kernel_fitting/1340_loci/functions/ll_kt_both_bbmle.R\")\n",
    "#source(\"~/oceanography/scripts/PredictedProportions.R\")\n",
    "\n",
    "#read in the kernel fitting summary\n",
    "kernels <- fread(file=\"~/parentage/kernel_fitting/1340_loci/final_results/tables/kernel_fitting_summary.csv\")\n",
    "kernel2012_14 <- fread(file=\"~/oceanography/empirical_data/genetics/GenKernelsForROMSComp2012-14.csv\")\n",
    "\n",
    "#read in the centroids adjusted for the simulation, so the Magbangons combined \n",
    "#centroids <- fread(file=\"~/oceanography/script_output/SurveyData/SimulationCentroids.csv\")\n",
    "Centroids <- fread(file=\"~/oceanography/empirical_data/site_centroids_SimTest.csv\")\n",
    "setorder(Centroids, site)\n",
    "#read in the table with number of recruits sampled at each site for each year\n",
    "AnnualRecsSamp <- fread(file=\"~/oceanography/script_output/SurveyData/AnnualRecruitsSampled.csv\")\n",
    "#read in the table of the proportion of anemones sampled at each site for each year\n",
    "PropSamp <- fread(file=\"~/oceanography/script_output/SurveyData/ProportionHabitatSampled.csv\")\n",
    "setnames(PropSamp, c(\"PropAnemSamp\", \"TotalAnems\"), c(\"prop_anem_samp\", \"total_anems\"))\n",
    "#read in the ROMS simulation connectivity table with metadata, not yet subsetted (*but check this)\n",
    "SimConn <- fread(file=\"~/oceanography/script_output/ROMSDataTables/SimConnectivityTableWithMetaLongForm.csv\")\n",
    "\n",
    "#add in the numbers of particles seeded at each site\n",
    "SeededParticles <- fread(\"~/oceanography/ROMS/data/Particles_Per_Release_Site_Renamed.csv\")\n",
    "setnames(SeededParticles,c(\"source\", \"daily_particles_released\")) \n",
    "#DateJoin <- SeededParticles[DateJoin, on=\"source\"][, particles_released_daily := as.numeric(particles_released_daily)] \n",
    "\n",
    "#make vectors defining sites we didn't sample, but that are in the model, and the sandflats specifically \n",
    "unsampled_sites <- c(\"SF1\", \"SF2\", \"SF3\", \"SF4\", \"SF5\", \"SF6\", \"Pangasugan\", \"Other\", \"CAI\") \n",
    "sand_flats <- c(\"SF1\", \"SF2\", \"SF3\", \"SF4\", \"SF5\", \"SF6\") \n",
    "unrealistic_sources <- c(\"SF1\", \"SF2\", \"SF3\", \"SF4\", \"SF5\", \"SF6\", \"Pangasugan\") \n",
    "#make the constant inputs for the kernel fitting function\n",
    "#distance matrix using the centroids with combined Magbangon\n",
    "### List of source locations\n",
    "SitesSource <- Centroids\n",
    "\n",
    "### List of destination locations\n",
    "SitesDest <- Centroids\n",
    "\n",
    "DistMatm <- distm(SitesSource[,c('lon','lat')], SitesSource[,c('lon','lat')], fun=distVincentyEllipsoid)\n",
    "Distances <- DistMatm*10^-3\n",
    "#read in the reef areas for the kernel fitting\n",
    "Area <- fread(\"~/oceanography/empirical_data/site_area_header_nonsurveyed_simulation_kernels_test.csv\") %>%\n",
    "    arrange(site) %>%\n",
    "    filter(site %!in% c(\"near_north_full1\", \"near_north_full2\", \"near_north_full3\", \"near_south_full1\", \"near_south_full2\", \"near_south_full3\")) %>%\n",
    "    mutate(kmsq=msq*10^-6)# %>%\n",
    "    #select(kmsq) #need to uncomment for functions to work\n",
    "setorder(Area, site)\n",
    "reef_sizes <- as.matrix(Area$kmsq)\n",
    "\n",
    "#make a site index table, use this for Sampled_reefs input in kernel fitting\n",
    "SiteIndex <- unique(Centroids, by=\"site\")[, \"site\"][, index := .I] #add the row number as the unique site index\n",
    "\n",
    "#make a table with the survey information for each site (how many fish sampled, prop anems sampled, total number of anems at site)\n",
    "SurveyData <- AnnualRecsSamp[PropSamp, on=.(year=end_year, site)][#join the sampling tables together\n",
    "    is.na(n_offs_gen), n_offs_gen := 0][#change NA's to 0\n",
    "    ,-\"time_frame\"]#drop the time_frame column, we can key with end_year\n",
    "#setnames(SurveyData, c(\"PropAnemSamp\", \"TotalAnems\"), c(\"prop_anem_samp\", \"total_anems\"))\n",
    "#setkey(SurveyData, site)\n",
    "#check all sites are represented in centroids and area (and indirectly distances, which comes from centroids)\n",
    "#Area[site %!in% centroids$site] #should be nothing\n",
    "\n",
    "#Allison's abundance time series data \n",
    "#download.file(url = \"https://github.com/pinskylab/Clownfish_persistence/blob/master/Data/Script_outputs/females_df_F.RData?raw=true\", destfile = \"~/oceanography/empirical_data/genetics/females_df_F.RData\")\n",
    "load(\"~/oceanography/empirical_data/genetics/females_df_F.RData\")\n",
    "Abundance <- as.data.table(females_df_F)\n",
    "setnames(Abundance, \"nF\", \"num_females\")\n",
    "#join the survey sampling tables together\n",
    "SurveyData <- AnnualRecsSamp[PropSamp, on=.(year=end_year, site)][\n",
    "    is.na(n_offs_gen), n_offs_gen := 0][#change NA's to 0\n",
    "    ,-\"time_frame\"]#drop the time_frame\n",
    "\n",
    "SurveyData <- Abundance[, c(\"year\", \"site\", \"num_females\")][SurveyData, on=.(year, site)]#join in Allison's estimate of female abundance. There are NA values, but that's okay we can figure those out when we start thinking about incorporating uncertainty in this\n"
   ]
  },
  {
   "cell_type": "code",
   "execution_count": 2,
   "metadata": {},
   "outputs": [
    {
     "data": {
      "text/html": [
       "<table>\n",
       "<thead><tr><th scope=col>date</th><th scope=col>source</th><th scope=col>dest</th><th scope=col>sim_month</th><th scope=col>sim_day</th><th scope=col>sim_year</th><th scope=col>year_sampled</th><th scope=col>sim_monsoon</th><th scope=col>daily_particles_rec</th><th scope=col>daily_particles_released</th><th scope=col>dist_km</th><th scope=col>bearing</th><th scope=col>direction</th><th scope=col>particle_id</th></tr></thead>\n",
       "<tbody>\n",
       "\t<tr><td>2010-10-01</td><td>Other     </td><td>Palanas   </td><td>10        </td><td>10        </td><td>2010      </td><td>2011      </td><td>SWM       </td><td>9         </td><td>4497728   </td><td>NA        </td><td>NA        </td><td>NA        </td><td>P1        </td></tr>\n",
       "\t<tr><td>2010-10-01</td><td>Other     </td><td>Palanas   </td><td>10        </td><td>10        </td><td>2010      </td><td>2011      </td><td>SWM       </td><td>9         </td><td>4497728   </td><td>NA        </td><td>NA        </td><td>NA        </td><td>P2        </td></tr>\n",
       "\t<tr><td>2010-10-01</td><td>Other     </td><td>Palanas   </td><td>10        </td><td>10        </td><td>2010      </td><td>2011      </td><td>SWM       </td><td>9         </td><td>4497728   </td><td>NA        </td><td>NA        </td><td>NA        </td><td>P3        </td></tr>\n",
       "\t<tr><td>2010-10-01</td><td>Other     </td><td>Palanas   </td><td>10        </td><td>10        </td><td>2010      </td><td>2011      </td><td>SWM       </td><td>9         </td><td>4497728   </td><td>NA        </td><td>NA        </td><td>NA        </td><td>P4        </td></tr>\n",
       "\t<tr><td>2010-10-01</td><td>Other     </td><td>Palanas   </td><td>10        </td><td>10        </td><td>2010      </td><td>2011      </td><td>SWM       </td><td>9         </td><td>4497728   </td><td>NA        </td><td>NA        </td><td>NA        </td><td>P5        </td></tr>\n",
       "\t<tr><td>2010-10-01</td><td>Other     </td><td>Palanas   </td><td>10        </td><td>10        </td><td>2010      </td><td>2011      </td><td>SWM       </td><td>9         </td><td>4497728   </td><td>NA        </td><td>NA        </td><td>NA        </td><td>P6        </td></tr>\n",
       "</tbody>\n",
       "</table>\n"
      ],
      "text/latex": [
       "\\begin{tabular}{r|llllllllllllll}\n",
       " date & source & dest & sim\\_month & sim\\_day & sim\\_year & year\\_sampled & sim\\_monsoon & daily\\_particles\\_rec & daily\\_particles\\_released & dist\\_km & bearing & direction & particle\\_id\\\\\n",
       "\\hline\n",
       "\t 2010-10-01 & Other      & Palanas    & 10         & 10         & 2010       & 2011       & SWM        & 9          & 4497728    & NA         & NA         & NA         & P1        \\\\\n",
       "\t 2010-10-01 & Other      & Palanas    & 10         & 10         & 2010       & 2011       & SWM        & 9          & 4497728    & NA         & NA         & NA         & P2        \\\\\n",
       "\t 2010-10-01 & Other      & Palanas    & 10         & 10         & 2010       & 2011       & SWM        & 9          & 4497728    & NA         & NA         & NA         & P3        \\\\\n",
       "\t 2010-10-01 & Other      & Palanas    & 10         & 10         & 2010       & 2011       & SWM        & 9          & 4497728    & NA         & NA         & NA         & P4        \\\\\n",
       "\t 2010-10-01 & Other      & Palanas    & 10         & 10         & 2010       & 2011       & SWM        & 9          & 4497728    & NA         & NA         & NA         & P5        \\\\\n",
       "\t 2010-10-01 & Other      & Palanas    & 10         & 10         & 2010       & 2011       & SWM        & 9          & 4497728    & NA         & NA         & NA         & P6        \\\\\n",
       "\\end{tabular}\n"
      ],
      "text/markdown": [
       "\n",
       "| date | source | dest | sim_month | sim_day | sim_year | year_sampled | sim_monsoon | daily_particles_rec | daily_particles_released | dist_km | bearing | direction | particle_id |\n",
       "|---|---|---|---|---|---|---|---|---|---|---|---|---|---|\n",
       "| 2010-10-01 | Other      | Palanas    | 10         | 10         | 2010       | 2011       | SWM        | 9          | 4497728    | NA         | NA         | NA         | P1         |\n",
       "| 2010-10-01 | Other      | Palanas    | 10         | 10         | 2010       | 2011       | SWM        | 9          | 4497728    | NA         | NA         | NA         | P2         |\n",
       "| 2010-10-01 | Other      | Palanas    | 10         | 10         | 2010       | 2011       | SWM        | 9          | 4497728    | NA         | NA         | NA         | P3         |\n",
       "| 2010-10-01 | Other      | Palanas    | 10         | 10         | 2010       | 2011       | SWM        | 9          | 4497728    | NA         | NA         | NA         | P4         |\n",
       "| 2010-10-01 | Other      | Palanas    | 10         | 10         | 2010       | 2011       | SWM        | 9          | 4497728    | NA         | NA         | NA         | P5         |\n",
       "| 2010-10-01 | Other      | Palanas    | 10         | 10         | 2010       | 2011       | SWM        | 9          | 4497728    | NA         | NA         | NA         | P6         |\n",
       "\n"
      ],
      "text/plain": [
       "  date       source dest    sim_month sim_day sim_year year_sampled sim_monsoon\n",
       "1 2010-10-01 Other  Palanas 10        10      2010     2011         SWM        \n",
       "2 2010-10-01 Other  Palanas 10        10      2010     2011         SWM        \n",
       "3 2010-10-01 Other  Palanas 10        10      2010     2011         SWM        \n",
       "4 2010-10-01 Other  Palanas 10        10      2010     2011         SWM        \n",
       "5 2010-10-01 Other  Palanas 10        10      2010     2011         SWM        \n",
       "6 2010-10-01 Other  Palanas 10        10      2010     2011         SWM        \n",
       "  daily_particles_rec daily_particles_released dist_km bearing direction\n",
       "1 9                   4497728                  NA      NA      NA       \n",
       "2 9                   4497728                  NA      NA      NA       \n",
       "3 9                   4497728                  NA      NA      NA       \n",
       "4 9                   4497728                  NA      NA      NA       \n",
       "5 9                   4497728                  NA      NA      NA       \n",
       "6 9                   4497728                  NA      NA      NA       \n",
       "  particle_id\n",
       "1 P1         \n",
       "2 P2         \n",
       "3 P3         \n",
       "4 P4         \n",
       "5 P5         \n",
       "6 P6         "
      ]
     },
     "metadata": {},
     "output_type": "display_data"
    },
    {
     "data": {
      "text/html": [
       "<table>\n",
       "<thead><tr><th scope=col>year</th><th scope=col>site</th><th scope=col>num_females</th><th scope=col>n_offs_gen</th><th scope=col>prop_anem_samp</th><th scope=col>total_anems</th></tr></thead>\n",
       "<tbody>\n",
       "\t<tr><td>2012             </td><td>Cabatoan         </td><td> 8               </td><td>4                </td><td>0.4230769        </td><td> 26              </td></tr>\n",
       "\t<tr><td>2012             </td><td>Caridad Cemetery </td><td>NA               </td><td>0                </td><td>0.0000000        </td><td>  4              </td></tr>\n",
       "\t<tr><td>2012             </td><td>Caridad Proper   </td><td>NA               </td><td>0                </td><td>0.0000000        </td><td>  4              </td></tr>\n",
       "\t<tr><td>2012             </td><td>Elementary School</td><td>NA               </td><td>0                </td><td>0.0000000        </td><td>  7              </td></tr>\n",
       "\t<tr><td>2012             </td><td>Gabas            </td><td>NA               </td><td>0                </td><td>0.0000000        </td><td>  9              </td></tr>\n",
       "\t<tr><td>2012             </td><td>Haina            </td><td>NA               </td><td>0                </td><td>0.0000000        </td><td>104              </td></tr>\n",
       "</tbody>\n",
       "</table>\n"
      ],
      "text/latex": [
       "\\begin{tabular}{r|llllll}\n",
       " year & site & num\\_females & n\\_offs\\_gen & prop\\_anem\\_samp & total\\_anems\\\\\n",
       "\\hline\n",
       "\t 2012              & Cabatoan          &  8                & 4                 & 0.4230769         &  26              \\\\\n",
       "\t 2012              & Caridad Cemetery  & NA                & 0                 & 0.0000000         &   4              \\\\\n",
       "\t 2012              & Caridad Proper    & NA                & 0                 & 0.0000000         &   4              \\\\\n",
       "\t 2012              & Elementary School & NA                & 0                 & 0.0000000         &   7              \\\\\n",
       "\t 2012              & Gabas             & NA                & 0                 & 0.0000000         &   9              \\\\\n",
       "\t 2012              & Haina             & NA                & 0                 & 0.0000000         & 104              \\\\\n",
       "\\end{tabular}\n"
      ],
      "text/markdown": [
       "\n",
       "| year | site | num_females | n_offs_gen | prop_anem_samp | total_anems |\n",
       "|---|---|---|---|---|---|\n",
       "| 2012              | Cabatoan          |  8                | 4                 | 0.4230769         |  26               |\n",
       "| 2012              | Caridad Cemetery  | NA                | 0                 | 0.0000000         |   4               |\n",
       "| 2012              | Caridad Proper    | NA                | 0                 | 0.0000000         |   4               |\n",
       "| 2012              | Elementary School | NA                | 0                 | 0.0000000         |   7               |\n",
       "| 2012              | Gabas             | NA                | 0                 | 0.0000000         |   9               |\n",
       "| 2012              | Haina             | NA                | 0                 | 0.0000000         | 104               |\n",
       "\n"
      ],
      "text/plain": [
       "  year site              num_females n_offs_gen prop_anem_samp total_anems\n",
       "1 2012 Cabatoan           8          4          0.4230769       26        \n",
       "2 2012 Caridad Cemetery  NA          0          0.0000000        4        \n",
       "3 2012 Caridad Proper    NA          0          0.0000000        4        \n",
       "4 2012 Elementary School NA          0          0.0000000        7        \n",
       "5 2012 Gabas             NA          0          0.0000000        9        \n",
       "6 2012 Haina             NA          0          0.0000000      104        "
      ]
     },
     "metadata": {},
     "output_type": "display_data"
    }
   ],
   "source": [
    "head(SimConn)\n",
    "head(SurveyData)"
   ]
  },
  {
   "cell_type": "code",
   "execution_count": 14,
   "metadata": {},
   "outputs": [],
   "source": [
    "#SourceJoin <- SurveyData[SimConn, on = .(site = source, year=year_sampled)]\n",
    "setnames(SourceJoin, skip_absent=TRUE, c(\"site\", \"n_offs_gen\", \"prop_anem_samp\", \"total_anems\", \"num_females\"), c(\"source\", \"source_num_rec_sampled_annual\",  \"source_prop_anem_samp\", \"source_total_anems\", \"source_num_females\"))\n"
   ]
  },
  {
   "cell_type": "code",
   "execution_count": 15,
   "metadata": {},
   "outputs": [],
   "source": [
    "DestJoin <- SurveyData[SourceJoin, on = .(site = dest, year)]\n",
    "setnames(DestJoin, skip_absent=TRUE, c(\"site\", \"n_offs_gen\", \"prop_anem_samp\", \"total_anems\", \"num_females\"), c(\"dest\", \"dest_num_rec_sampled_annual\",  \"dest_prop_samp\", \"dest_total_anems\", \"dest_num_females\"))\n"
   ]
  },
  {
   "cell_type": "code",
   "execution_count": 16,
   "metadata": {},
   "outputs": [
    {
     "name": "stdout",
     "output_type": "stream",
     "text": [
      "Classes ‘data.table’ and 'data.frame':\t212791371 obs. of  22 variables:\n",
      " $ year                         : num  2011 2011 2011 2011 2011 ...\n",
      " $ dest                         : chr  \"Palanas\" \"Palanas\" \"Palanas\" \"Palanas\" ...\n",
      " $ dest_num_females             : num  NA NA NA NA NA NA NA NA NA NA ...\n",
      " $ dest_num_rec_sampled_annual  : int  NA NA NA NA NA NA NA NA NA NA ...\n",
      " $ dest_prop_samp               : num  NA NA NA NA NA NA NA NA NA NA ...\n",
      " $ dest_total_anems             : int  NA NA NA NA NA NA NA NA NA NA ...\n",
      " $ source                       : chr  \"Other\" \"Other\" \"Other\" \"Other\" ...\n",
      " $ num_source_females           : num  NA NA NA NA NA NA NA NA NA NA ...\n",
      " $ source_num_rec_sampled_annual: int  NA NA NA NA NA NA NA NA NA NA ...\n",
      " $ source_prop_anem_samp        : num  NA NA NA NA NA NA NA NA NA NA ...\n",
      " $ source_total_anems           : int  NA NA NA NA NA NA NA NA NA NA ...\n",
      " $ date                         : chr  \"2010-10-01\" \"2010-10-01\" \"2010-10-01\" \"2010-10-01\" ...\n",
      " $ sim_month                    : int  10 10 10 10 10 10 10 10 10 10 ...\n",
      " $ sim_day                      : int  10 10 10 10 10 10 10 10 10 10 ...\n",
      " $ sim_year                     : int  2010 2010 2010 2010 2010 2010 2010 2010 2010 2010 ...\n",
      " $ sim_monsoon                  : chr  \"SWM\" \"SWM\" \"SWM\" \"SWM\" ...\n",
      " $ daily_particles_rec          : int  9 9 9 9 9 9 9 9 9 4 ...\n",
      " $ daily_particles_released     : int  4497728 4497728 4497728 4497728 4497728 4497728 4497728 4497728 4497728 4497728 ...\n",
      " $ dist_km                      : num  NA NA NA NA NA NA NA NA NA NA ...\n",
      " $ bearing                      : num  NA NA NA NA NA NA NA NA NA NA ...\n",
      " $ direction                    : num  NA NA NA NA NA NA NA NA NA NA ...\n",
      " $ particle_id                  : chr  \"P1\" \"P2\" \"P3\" \"P4\" ...\n",
      " - attr(*, \".internal.selfref\")=<externalptr> \n"
     ]
    }
   ],
   "source": [
    "str(DestJoin)"
   ]
  },
  {
   "cell_type": "code",
   "execution_count": 20,
   "metadata": {},
   "outputs": [
    {
     "data": {
      "text/html": [
       "687"
      ],
      "text/latex": [
       "687"
      ],
      "text/markdown": [
       "687"
      ],
      "text/plain": [
       "[1] 687"
      ]
     },
     "metadata": {},
     "output_type": "display_data"
    }
   ],
   "source": [
    "#make a table of the dates of release for simulations, for calculating the number of particles released in each time frame\n",
    "season1 <- data.table(date=seq(as.Date(\"2010-10-01\"), as.Date(\"2011-05-31\"), by=\"days\"))\n",
    "\n",
    "season2 <- data.table(date=seq(as.Date(\"2011-10-01\"), as.Date(\"2012-05-31\"), by=\"days\"))\n",
    "\n",
    "season3 <- data.table(date=seq(as.Date(\"2012-10-01\"), as.Date(\"2013-05-31\"), by=\"days\"))\n",
    "\n",
    "season4 <- data.table(date=seq(as.Date(\"2013-10-01\"), as.Date(\"2014-04-18\"), by=\"days\"))\n",
    "\n",
    "AllDates <- rbind(season1, season2, season3, season4)\n",
    "\n",
    "#mark the monsoon seasons, based on the same criteria I used for the parentage indirectly through the growth estimates\n",
    "NEM <- c(11, 12, 1, 2, 3, 4, 5, 6)\n",
    "SWM <- c(7, 8, 9, 10)\n",
    "\n",
    "AllDates[,date := ymd(date)][ #format as ymd\n",
    "            , sim_monsoon := ifelse(month(date) %in% NEM, \"NEM\", \"SWM\")][#mark monsoon season based on month\n",
    "            , sim_year:=year(date)][#add year column\n",
    "            ,year_sampled:= ifelse(date %in% season1$date, 2011, ifelse(date %in% season2$date, 2012, ifelse(date %in% season3$date, 2013, 2014)))]#and then add a year_sampled for the empircal sampling season of that particle\n",
    "\n",
    "ReleaseDays <- AllDates[, .(num_release_days_seasonal=.N), by=c(\"year_sampled\", \"sim_monsoon\")][, num_release_days_annual:= sum(num_release_days_seasonal), by=year_sampled]\n",
    "\n",
    "total_release_days <- AllDates[year_sampled %in% c(2012, 2013, 2014), .N]#for the all year kernel- how many days of the simulation conincide with our particle sampling?\n",
    "total_release_days #should be 687\n"
   ]
  },
  {
   "cell_type": "code",
   "execution_count": 21,
   "metadata": {},
   "outputs": [
    {
     "data": {
      "text/html": [
       "<table>\n",
       "<thead><tr><th scope=col>year</th><th scope=col>dest</th><th scope=col>dest_num_females</th><th scope=col>dest_num_rec_sampled_annual</th><th scope=col>dest_prop_samp</th><th scope=col>dest_total_anems</th><th scope=col>source</th><th scope=col>num_source_females</th><th scope=col>source_num_rec_sampled_annual</th><th scope=col>source_prop_anem_samp</th><th scope=col>...</th><th scope=col>sim_month</th><th scope=col>sim_day</th><th scope=col>sim_year</th><th scope=col>sim_monsoon</th><th scope=col>daily_particles_rec</th><th scope=col>daily_particles_released</th><th scope=col>dist_km</th><th scope=col>bearing</th><th scope=col>direction</th><th scope=col>particle_id</th></tr></thead>\n",
       "<tbody>\n",
       "\t<tr><td>2011   </td><td>Palanas</td><td>NA     </td><td>NA     </td><td>NA     </td><td>NA     </td><td>Other  </td><td>NA     </td><td>NA     </td><td>NA     </td><td>...    </td><td>10     </td><td>10     </td><td>2010   </td><td>SWM    </td><td>9      </td><td>4497728</td><td>NA     </td><td>NA     </td><td>NA     </td><td>P1     </td></tr>\n",
       "\t<tr><td>2011   </td><td>Palanas</td><td>NA     </td><td>NA     </td><td>NA     </td><td>NA     </td><td>Other  </td><td>NA     </td><td>NA     </td><td>NA     </td><td>...    </td><td>10     </td><td>10     </td><td>2010   </td><td>SWM    </td><td>9      </td><td>4497728</td><td>NA     </td><td>NA     </td><td>NA     </td><td>P2     </td></tr>\n",
       "\t<tr><td>2011   </td><td>Palanas</td><td>NA     </td><td>NA     </td><td>NA     </td><td>NA     </td><td>Other  </td><td>NA     </td><td>NA     </td><td>NA     </td><td>...    </td><td>10     </td><td>10     </td><td>2010   </td><td>SWM    </td><td>9      </td><td>4497728</td><td>NA     </td><td>NA     </td><td>NA     </td><td>P3     </td></tr>\n",
       "\t<tr><td>2011   </td><td>Palanas</td><td>NA     </td><td>NA     </td><td>NA     </td><td>NA     </td><td>Other  </td><td>NA     </td><td>NA     </td><td>NA     </td><td>...    </td><td>10     </td><td>10     </td><td>2010   </td><td>SWM    </td><td>9      </td><td>4497728</td><td>NA     </td><td>NA     </td><td>NA     </td><td>P4     </td></tr>\n",
       "\t<tr><td>2011   </td><td>Palanas</td><td>NA     </td><td>NA     </td><td>NA     </td><td>NA     </td><td>Other  </td><td>NA     </td><td>NA     </td><td>NA     </td><td>...    </td><td>10     </td><td>10     </td><td>2010   </td><td>SWM    </td><td>9      </td><td>4497728</td><td>NA     </td><td>NA     </td><td>NA     </td><td>P5     </td></tr>\n",
       "\t<tr><td>2011   </td><td>Palanas</td><td>NA     </td><td>NA     </td><td>NA     </td><td>NA     </td><td>Other  </td><td>NA     </td><td>NA     </td><td>NA     </td><td>...    </td><td>10     </td><td>10     </td><td>2010   </td><td>SWM    </td><td>9      </td><td>4497728</td><td>NA     </td><td>NA     </td><td>NA     </td><td>P6     </td></tr>\n",
       "</tbody>\n",
       "</table>\n"
      ],
      "text/latex": [
       "\\begin{tabular}{r|llllllllllllllllllllll}\n",
       " year & dest & dest\\_num\\_females & dest\\_num\\_rec\\_sampled\\_annual & dest\\_prop\\_samp & dest\\_total\\_anems & source & num\\_source\\_females & source\\_num\\_rec\\_sampled\\_annual & source\\_prop\\_anem\\_samp & ... & sim\\_month & sim\\_day & sim\\_year & sim\\_monsoon & daily\\_particles\\_rec & daily\\_particles\\_released & dist\\_km & bearing & direction & particle\\_id\\\\\n",
       "\\hline\n",
       "\t 2011    & Palanas & NA      & NA      & NA      & NA      & Other   & NA      & NA      & NA      & ...     & 10      & 10      & 2010    & SWM     & 9       & 4497728 & NA      & NA      & NA      & P1     \\\\\n",
       "\t 2011    & Palanas & NA      & NA      & NA      & NA      & Other   & NA      & NA      & NA      & ...     & 10      & 10      & 2010    & SWM     & 9       & 4497728 & NA      & NA      & NA      & P2     \\\\\n",
       "\t 2011    & Palanas & NA      & NA      & NA      & NA      & Other   & NA      & NA      & NA      & ...     & 10      & 10      & 2010    & SWM     & 9       & 4497728 & NA      & NA      & NA      & P3     \\\\\n",
       "\t 2011    & Palanas & NA      & NA      & NA      & NA      & Other   & NA      & NA      & NA      & ...     & 10      & 10      & 2010    & SWM     & 9       & 4497728 & NA      & NA      & NA      & P4     \\\\\n",
       "\t 2011    & Palanas & NA      & NA      & NA      & NA      & Other   & NA      & NA      & NA      & ...     & 10      & 10      & 2010    & SWM     & 9       & 4497728 & NA      & NA      & NA      & P5     \\\\\n",
       "\t 2011    & Palanas & NA      & NA      & NA      & NA      & Other   & NA      & NA      & NA      & ...     & 10      & 10      & 2010    & SWM     & 9       & 4497728 & NA      & NA      & NA      & P6     \\\\\n",
       "\\end{tabular}\n"
      ],
      "text/markdown": [
       "\n",
       "| year | dest | dest_num_females | dest_num_rec_sampled_annual | dest_prop_samp | dest_total_anems | source | num_source_females | source_num_rec_sampled_annual | source_prop_anem_samp | ... | sim_month | sim_day | sim_year | sim_monsoon | daily_particles_rec | daily_particles_released | dist_km | bearing | direction | particle_id |\n",
       "|---|---|---|---|---|---|---|---|---|---|---|---|---|---|---|---|---|---|---|---|---|\n",
       "| 2011    | Palanas | NA      | NA      | NA      | NA      | Other   | NA      | NA      | NA      | ...     | 10      | 10      | 2010    | SWM     | 9       | 4497728 | NA      | NA      | NA      | P1      |\n",
       "| 2011    | Palanas | NA      | NA      | NA      | NA      | Other   | NA      | NA      | NA      | ...     | 10      | 10      | 2010    | SWM     | 9       | 4497728 | NA      | NA      | NA      | P2      |\n",
       "| 2011    | Palanas | NA      | NA      | NA      | NA      | Other   | NA      | NA      | NA      | ...     | 10      | 10      | 2010    | SWM     | 9       | 4497728 | NA      | NA      | NA      | P3      |\n",
       "| 2011    | Palanas | NA      | NA      | NA      | NA      | Other   | NA      | NA      | NA      | ...     | 10      | 10      | 2010    | SWM     | 9       | 4497728 | NA      | NA      | NA      | P4      |\n",
       "| 2011    | Palanas | NA      | NA      | NA      | NA      | Other   | NA      | NA      | NA      | ...     | 10      | 10      | 2010    | SWM     | 9       | 4497728 | NA      | NA      | NA      | P5      |\n",
       "| 2011    | Palanas | NA      | NA      | NA      | NA      | Other   | NA      | NA      | NA      | ...     | 10      | 10      | 2010    | SWM     | 9       | 4497728 | NA      | NA      | NA      | P6      |\n",
       "\n"
      ],
      "text/plain": [
       "  year dest    dest_num_females dest_num_rec_sampled_annual dest_prop_samp\n",
       "1 2011 Palanas NA               NA                          NA            \n",
       "2 2011 Palanas NA               NA                          NA            \n",
       "3 2011 Palanas NA               NA                          NA            \n",
       "4 2011 Palanas NA               NA                          NA            \n",
       "5 2011 Palanas NA               NA                          NA            \n",
       "6 2011 Palanas NA               NA                          NA            \n",
       "  dest_total_anems source num_source_females source_num_rec_sampled_annual\n",
       "1 NA               Other  NA                 NA                           \n",
       "2 NA               Other  NA                 NA                           \n",
       "3 NA               Other  NA                 NA                           \n",
       "4 NA               Other  NA                 NA                           \n",
       "5 NA               Other  NA                 NA                           \n",
       "6 NA               Other  NA                 NA                           \n",
       "  source_prop_anem_samp ... sim_month sim_day sim_year sim_monsoon\n",
       "1 NA                    ... 10        10      2010     SWM        \n",
       "2 NA                    ... 10        10      2010     SWM        \n",
       "3 NA                    ... 10        10      2010     SWM        \n",
       "4 NA                    ... 10        10      2010     SWM        \n",
       "5 NA                    ... 10        10      2010     SWM        \n",
       "6 NA                    ... 10        10      2010     SWM        \n",
       "  daily_particles_rec daily_particles_released dist_km bearing direction\n",
       "1 9                   4497728                  NA      NA      NA       \n",
       "2 9                   4497728                  NA      NA      NA       \n",
       "3 9                   4497728                  NA      NA      NA       \n",
       "4 9                   4497728                  NA      NA      NA       \n",
       "5 9                   4497728                  NA      NA      NA       \n",
       "6 9                   4497728                  NA      NA      NA       \n",
       "  particle_id\n",
       "1 P1         \n",
       "2 P2         \n",
       "3 P3         \n",
       "4 P4         \n",
       "5 P5         \n",
       "6 P6         "
      ]
     },
     "metadata": {},
     "output_type": "display_data"
    },
    {
     "data": {
      "text/html": [
       "<table>\n",
       "<thead><tr><th scope=col>year_sampled</th><th scope=col>sim_monsoon</th><th scope=col>num_release_days_seasonal</th><th scope=col>num_release_days_annual</th></tr></thead>\n",
       "<tbody>\n",
       "\t<tr><td>2011</td><td>SWM </td><td> 31 </td><td>243 </td></tr>\n",
       "\t<tr><td>2011</td><td>NEM </td><td>212 </td><td>243 </td></tr>\n",
       "\t<tr><td>2012</td><td>SWM </td><td> 31 </td><td>244 </td></tr>\n",
       "\t<tr><td>2012</td><td>NEM </td><td>213 </td><td>244 </td></tr>\n",
       "\t<tr><td>2013</td><td>SWM </td><td> 31 </td><td>243 </td></tr>\n",
       "\t<tr><td>2013</td><td>NEM </td><td>212 </td><td>243 </td></tr>\n",
       "</tbody>\n",
       "</table>\n"
      ],
      "text/latex": [
       "\\begin{tabular}{r|llll}\n",
       " year\\_sampled & sim\\_monsoon & num\\_release\\_days\\_seasonal & num\\_release\\_days\\_annual\\\\\n",
       "\\hline\n",
       "\t 2011 & SWM  &  31  & 243 \\\\\n",
       "\t 2011 & NEM  & 212  & 243 \\\\\n",
       "\t 2012 & SWM  &  31  & 244 \\\\\n",
       "\t 2012 & NEM  & 213  & 244 \\\\\n",
       "\t 2013 & SWM  &  31  & 243 \\\\\n",
       "\t 2013 & NEM  & 212  & 243 \\\\\n",
       "\\end{tabular}\n"
      ],
      "text/markdown": [
       "\n",
       "| year_sampled | sim_monsoon | num_release_days_seasonal | num_release_days_annual |\n",
       "|---|---|---|---|\n",
       "| 2011 | SWM  |  31  | 243  |\n",
       "| 2011 | NEM  | 212  | 243  |\n",
       "| 2012 | SWM  |  31  | 244  |\n",
       "| 2012 | NEM  | 213  | 244  |\n",
       "| 2013 | SWM  |  31  | 243  |\n",
       "| 2013 | NEM  | 212  | 243  |\n",
       "\n"
      ],
      "text/plain": [
       "  year_sampled sim_monsoon num_release_days_seasonal num_release_days_annual\n",
       "1 2011         SWM          31                       243                    \n",
       "2 2011         NEM         212                       243                    \n",
       "3 2012         SWM          31                       244                    \n",
       "4 2012         NEM         213                       244                    \n",
       "5 2013         SWM          31                       243                    \n",
       "6 2013         NEM         212                       243                    "
      ]
     },
     "metadata": {},
     "output_type": "display_data"
    }
   ],
   "source": [
    "head(DestJoin)\n",
    "head(ReleaseDays)"
   ]
  },
  {
   "cell_type": "code",
   "execution_count": 36,
   "metadata": {},
   "outputs": [
    {
     "data": {
      "text/html": [
       "<ol class=list-inline>\n",
       "\t<li>'SF1'</li>\n",
       "\t<li>'SF2'</li>\n",
       "\t<li>'SF3'</li>\n",
       "\t<li>'SF4'</li>\n",
       "\t<li>'SF5'</li>\n",
       "\t<li>'SF6'</li>\n",
       "\t<li>'Pangasugan'</li>\n",
       "</ol>\n"
      ],
      "text/latex": [
       "\\begin{enumerate*}\n",
       "\\item 'SF1'\n",
       "\\item 'SF2'\n",
       "\\item 'SF3'\n",
       "\\item 'SF4'\n",
       "\\item 'SF5'\n",
       "\\item 'SF6'\n",
       "\\item 'Pangasugan'\n",
       "\\end{enumerate*}\n"
      ],
      "text/markdown": [
       "1. 'SF1'\n",
       "2. 'SF2'\n",
       "3. 'SF3'\n",
       "4. 'SF4'\n",
       "5. 'SF5'\n",
       "6. 'SF6'\n",
       "7. 'Pangasugan'\n",
       "\n",
       "\n"
      ],
      "text/plain": [
       "[1] \"SF1\"        \"SF2\"        \"SF3\"        \"SF4\"        \"SF5\"       \n",
       "[6] \"SF6\"        \"Pangasugan\""
      ]
     },
     "metadata": {},
     "output_type": "display_data"
    }
   ],
   "source": [
    "unrealistic_sources"
   ]
  },
  {
   "cell_type": "code",
   "execution_count": 40,
   "metadata": {},
   "outputs": [],
   "source": [
    "#prep biophysical connectivity matrix\n",
    "#outside of the loop, trim this to only be the destinations we sampled\n",
    "\n",
    "SimConn <- DestJoin[source %!in% unrealistic_sources & dest %!in% unrealistic_sources & year %in% c(2012, 2013, 2014)][#sand flats and Pangasugan are not realistic source or destination sites because there's almost no habitat. Safe to drop, but keep the rest of the possibilities so we can subsample iteratively all possibilities.\n",
    "    , daily_particles_released := as.numeric(daily_particles_released)] #change from integer to numeric\n",
    "SimConn <- ReleaseDays[SimConn, on=.(year_sampled=year, sim_monsoon)]#join in the info for number of release days in the time frame\n",
    "SimConn <- kernels[Year %in% c(\"2012\", \"2013\", \"2014\")][, year:=as.integer(Year)][,c(\"year\", \"NumParentageMatches\")][SimConn, on=.(year=year_sampled)]#add in a column for the observed number of parentage matches\n",
    "#rename the monsoon column in the full table for consistency\n",
    "setnames(SimConn, c(\"sim_monsoon\", \"NumParentageMatches\"), c(\"monsoon\", \"num_route_parentage_matches\")) #get rid of upper case and inconsistent naming\n",
    "\n",
    "#each year will require a different set of survey data, so make a list of each and index by site for fast look up\n",
    "SampledTable <- SurveyData[prop_anem_samp >0, c(\"year\", \"site\")]#previously named PropSampTable\n",
    "\n",
    "#make sure all sampled sites are represented when joining the survey data to the sampled simulation- this chunk has the tables to add to a subsampled particle table. no need for the full\n",
    "SampTable <- rbind(SurveyData[prop_anem_samp >0 & year %in% c(2012, 2013, 2014), c(\"year\", \"site\")][, .(source=site, dest=site, year=year)][ #will join to the simulated sampling table by source and dest, so make those each a column from site and preserve the year variable as a key\n",
    "    , c(\"year\", \"source\", \"dest\")][, monsoon := \"NEM\"], SurveyData[prop_anem_samp >0 & year %in% c(2012, 2013, 2014), c(\"year\", \"site\")][, .(source=site, dest=site, year=year)][ #will join to the simulated sampling table by source and dest, so make those each a column from site and preserve the year variable as a key\n",
    "    , c(\"year\", \"source\", \"dest\")][, monsoon := \"SWM\"])\n",
    "UnqSurvey <- unique(SampTable, by=c(\"source\", \"dest\", \"year\", \"monsoon\"))#add in the diff Monsoon seasons so there are complete parentage matrices later\n",
    "AddDest <- rbind(SurveyData[year %in% c(2012, 2013, 2014) & prop_anem_samp >0][, c(\"year\", \"site\")][, monsoon := \"NEM\"], \n",
    "                  SurveyData[year %in% c(2012, 2013, 2014) & prop_anem_samp >0][ , c(\"year\", \"site\")][, monsoon := \"SWM\"])  #what destinations were sampled, for use with unassigned table\n",
    "setcolorder(SimConn, c(\"particle_id\", \"source\", \"dest\", \"year\", \"monsoon\", \"date\"))\n",
    "\n",
    "#at this point, we can make the raw number assignment matrix, but we want to make a normalized version that is num assigned from a source to a destination/ num released from that source\n"
   ]
  },
  {
   "cell_type": "code",
   "execution_count": null,
   "metadata": {
    "scrolled": true
   },
   "outputs": [],
   "source": []
  },
  {
   "cell_type": "code",
   "execution_count": null,
   "metadata": {},
   "outputs": [],
   "source": []
  },
  {
   "cell_type": "code",
   "execution_count": null,
   "metadata": {},
   "outputs": [],
   "source": [
    "#First, figure out how to get normalized conn values for all time frames\n",
    "#then, test kernel fitting function on full matrix      \n",
    "#last, start testing likelihood function build"
   ]
  },
  {
   "cell_type": "code",
   "execution_count": 33,
   "metadata": {},
   "outputs": [],
   "source": [
    "#at this point, we can make the raw number assignment matrix, but we want to make a normalized version that is num assigned from a source to a destination/ num released from that source\n",
    "AllYearsRec <- SimConn[, .(total_particles_rec = .N), by= c(\"source\", \"dest\")] #all particles recruiting along each route FILTER HERE FOR TIME PERIOD***\n",
    "\n",
    "AllYearsRelease <- unique(SimConn, by=c(\"source\", \"dest\"))[, .(total_particles_released = ), by= c(\"source\", \"dest\")] \n",
    "# sum the total number of particles recruiting for each source/dest, each row is a particle so just count them. if we were looking at smaller time scale that time id would be included as i\n",
    "                , total_source_normalized_recruitment := total_particles_rec/daily_particles_released*total_release_days, by= c(\"source\", \"dest\")]\n",
    "    \n",
    "\n",
    "                                                                                               #, total_source_normalized_recruitment := sum(total_particles_released)*uniqueN(SimConn, by = c( \"date\")), by=c(\"source\", \"dest\")]"
   ]
  },
  {
   "cell_type": "code",
   "execution_count": 35,
   "metadata": {},
   "outputs": [
    {
     "data": {
      "text/html": [
       "<table>\n",
       "<thead><tr><th scope=col>particle_id</th><th scope=col>source</th><th scope=col>dest</th><th scope=col>year</th><th scope=col>monsoon</th><th scope=col>date</th><th scope=col>num_route_parentage_matches</th><th scope=col>num_release_days_seasonal</th><th scope=col>num_release_days_annual</th><th scope=col>dest_num_females</th><th scope=col>...</th><th scope=col>sim_month</th><th scope=col>sim_day</th><th scope=col>sim_year</th><th scope=col>daily_particles_rec</th><th scope=col>daily_particles_released</th><th scope=col>dist_km</th><th scope=col>bearing</th><th scope=col>direction</th><th scope=col>total_particles_rec</th><th scope=col>total_source_normalized_recruitment</th></tr></thead>\n",
       "<tbody>\n",
       "\t<tr><td>P212791366</td><td>Palanas   </td><td>SF1       </td><td>2014      </td><td>NEM       </td><td>2014-04-18</td><td>13        </td><td>169       </td><td>200       </td><td>NA        </td><td>...       </td><td>4         </td><td>4         </td><td>2014      </td><td>42        </td><td>992       </td><td>1.318289  </td><td>157.935   </td><td>157.935   </td><td>3250      </td><td>2250.756  </td></tr>\n",
       "\t<tr><td>P212791367</td><td>Palanas   </td><td>SF1       </td><td>2014      </td><td>NEM       </td><td>2014-04-18</td><td>13        </td><td>169       </td><td>200       </td><td>NA        </td><td>...       </td><td>4         </td><td>4         </td><td>2014      </td><td>42        </td><td>992       </td><td>1.318289  </td><td>157.935   </td><td>157.935   </td><td>3250      </td><td>2250.756  </td></tr>\n",
       "\t<tr><td>P212791368</td><td>Palanas   </td><td>SF1       </td><td>2014      </td><td>NEM       </td><td>2014-04-18</td><td>13        </td><td>169       </td><td>200       </td><td>NA        </td><td>...       </td><td>4         </td><td>4         </td><td>2014      </td><td>42        </td><td>992       </td><td>1.318289  </td><td>157.935   </td><td>157.935   </td><td>3250      </td><td>2250.756  </td></tr>\n",
       "\t<tr><td>P212791369</td><td>Palanas   </td><td>SF1       </td><td>2014      </td><td>NEM       </td><td>2014-04-18</td><td>13        </td><td>169       </td><td>200       </td><td>NA        </td><td>...       </td><td>4         </td><td>4         </td><td>2014      </td><td>42        </td><td>992       </td><td>1.318289  </td><td>157.935   </td><td>157.935   </td><td>3250      </td><td>2250.756  </td></tr>\n",
       "\t<tr><td>P212791370</td><td>Palanas   </td><td>SF1       </td><td>2014      </td><td>NEM       </td><td>2014-04-18</td><td>13        </td><td>169       </td><td>200       </td><td>NA        </td><td>...       </td><td>4         </td><td>4         </td><td>2014      </td><td>42        </td><td>992       </td><td>1.318289  </td><td>157.935   </td><td>157.935   </td><td>3250      </td><td>2250.756  </td></tr>\n",
       "\t<tr><td>P212791371</td><td>Palanas   </td><td>SF1       </td><td>2014      </td><td>NEM       </td><td>2014-04-18</td><td>13        </td><td>169       </td><td>200       </td><td>NA        </td><td>...       </td><td>4         </td><td>4         </td><td>2014      </td><td>42        </td><td>992       </td><td>1.318289  </td><td>157.935   </td><td>157.935   </td><td>3250      </td><td>2250.756  </td></tr>\n",
       "</tbody>\n",
       "</table>\n"
      ],
      "text/latex": [
       "\\begin{tabular}{r|lllllllllllllllllllllllllll}\n",
       " particle\\_id & source & dest & year & monsoon & date & num\\_route\\_parentage\\_matches & num\\_release\\_days\\_seasonal & num\\_release\\_days\\_annual & dest\\_num\\_females & ... & sim\\_month & sim\\_day & sim\\_year & daily\\_particles\\_rec & daily\\_particles\\_released & dist\\_km & bearing & direction & total\\_particles\\_rec & total\\_source\\_normalized\\_recruitment\\\\\n",
       "\\hline\n",
       "\t P212791366 & Palanas    & SF1        & 2014       & NEM        & 2014-04-18 & 13         & 169        & 200        & NA         & ...        & 4          & 4          & 2014       & 42         & 992        & 1.318289   & 157.935    & 157.935    & 3250       & 2250.756  \\\\\n",
       "\t P212791367 & Palanas    & SF1        & 2014       & NEM        & 2014-04-18 & 13         & 169        & 200        & NA         & ...        & 4          & 4          & 2014       & 42         & 992        & 1.318289   & 157.935    & 157.935    & 3250       & 2250.756  \\\\\n",
       "\t P212791368 & Palanas    & SF1        & 2014       & NEM        & 2014-04-18 & 13         & 169        & 200        & NA         & ...        & 4          & 4          & 2014       & 42         & 992        & 1.318289   & 157.935    & 157.935    & 3250       & 2250.756  \\\\\n",
       "\t P212791369 & Palanas    & SF1        & 2014       & NEM        & 2014-04-18 & 13         & 169        & 200        & NA         & ...        & 4          & 4          & 2014       & 42         & 992        & 1.318289   & 157.935    & 157.935    & 3250       & 2250.756  \\\\\n",
       "\t P212791370 & Palanas    & SF1        & 2014       & NEM        & 2014-04-18 & 13         & 169        & 200        & NA         & ...        & 4          & 4          & 2014       & 42         & 992        & 1.318289   & 157.935    & 157.935    & 3250       & 2250.756  \\\\\n",
       "\t P212791371 & Palanas    & SF1        & 2014       & NEM        & 2014-04-18 & 13         & 169        & 200        & NA         & ...        & 4          & 4          & 2014       & 42         & 992        & 1.318289   & 157.935    & 157.935    & 3250       & 2250.756  \\\\\n",
       "\\end{tabular}\n"
      ],
      "text/markdown": [
       "\n",
       "| particle_id | source | dest | year | monsoon | date | num_route_parentage_matches | num_release_days_seasonal | num_release_days_annual | dest_num_females | ... | sim_month | sim_day | sim_year | daily_particles_rec | daily_particles_released | dist_km | bearing | direction | total_particles_rec | total_source_normalized_recruitment |\n",
       "|---|---|---|---|---|---|---|---|---|---|---|---|---|---|---|---|---|---|---|---|---|\n",
       "| P212791366 | Palanas    | SF1        | 2014       | NEM        | 2014-04-18 | 13         | 169        | 200        | NA         | ...        | 4          | 4          | 2014       | 42         | 992        | 1.318289   | 157.935    | 157.935    | 3250       | 2250.756   |\n",
       "| P212791367 | Palanas    | SF1        | 2014       | NEM        | 2014-04-18 | 13         | 169        | 200        | NA         | ...        | 4          | 4          | 2014       | 42         | 992        | 1.318289   | 157.935    | 157.935    | 3250       | 2250.756   |\n",
       "| P212791368 | Palanas    | SF1        | 2014       | NEM        | 2014-04-18 | 13         | 169        | 200        | NA         | ...        | 4          | 4          | 2014       | 42         | 992        | 1.318289   | 157.935    | 157.935    | 3250       | 2250.756   |\n",
       "| P212791369 | Palanas    | SF1        | 2014       | NEM        | 2014-04-18 | 13         | 169        | 200        | NA         | ...        | 4          | 4          | 2014       | 42         | 992        | 1.318289   | 157.935    | 157.935    | 3250       | 2250.756   |\n",
       "| P212791370 | Palanas    | SF1        | 2014       | NEM        | 2014-04-18 | 13         | 169        | 200        | NA         | ...        | 4          | 4          | 2014       | 42         | 992        | 1.318289   | 157.935    | 157.935    | 3250       | 2250.756   |\n",
       "| P212791371 | Palanas    | SF1        | 2014       | NEM        | 2014-04-18 | 13         | 169        | 200        | NA         | ...        | 4          | 4          | 2014       | 42         | 992        | 1.318289   | 157.935    | 157.935    | 3250       | 2250.756   |\n",
       "\n"
      ],
      "text/plain": [
       "  particle_id source  dest year monsoon date       num_route_parentage_matches\n",
       "1 P212791366  Palanas SF1  2014 NEM     2014-04-18 13                         \n",
       "2 P212791367  Palanas SF1  2014 NEM     2014-04-18 13                         \n",
       "3 P212791368  Palanas SF1  2014 NEM     2014-04-18 13                         \n",
       "4 P212791369  Palanas SF1  2014 NEM     2014-04-18 13                         \n",
       "5 P212791370  Palanas SF1  2014 NEM     2014-04-18 13                         \n",
       "6 P212791371  Palanas SF1  2014 NEM     2014-04-18 13                         \n",
       "  num_release_days_seasonal num_release_days_annual dest_num_females ...\n",
       "1 169                       200                     NA               ...\n",
       "2 169                       200                     NA               ...\n",
       "3 169                       200                     NA               ...\n",
       "4 169                       200                     NA               ...\n",
       "5 169                       200                     NA               ...\n",
       "6 169                       200                     NA               ...\n",
       "  sim_month sim_day sim_year daily_particles_rec daily_particles_released\n",
       "1 4         4       2014     42                  992                     \n",
       "2 4         4       2014     42                  992                     \n",
       "3 4         4       2014     42                  992                     \n",
       "4 4         4       2014     42                  992                     \n",
       "5 4         4       2014     42                  992                     \n",
       "6 4         4       2014     42                  992                     \n",
       "  dist_km  bearing direction total_particles_rec\n",
       "1 1.318289 157.935 157.935   3250               \n",
       "2 1.318289 157.935 157.935   3250               \n",
       "3 1.318289 157.935 157.935   3250               \n",
       "4 1.318289 157.935 157.935   3250               \n",
       "5 1.318289 157.935 157.935   3250               \n",
       "6 1.318289 157.935 157.935   3250               \n",
       "  total_source_normalized_recruitment\n",
       "1 2250.756                           \n",
       "2 2250.756                           \n",
       "3 2250.756                           \n",
       "4 2250.756                           \n",
       "5 2250.756                           \n",
       "6 2250.756                           "
      ]
     },
     "metadata": {},
     "output_type": "display_data"
    }
   ],
   "source": [
    "tail(test)"
   ]
  },
  {
   "cell_type": "code",
   "execution_count": 24,
   "metadata": {},
   "outputs": [],
   "source": []
  },
  {
   "cell_type": "code",
   "execution_count": 27,
   "metadata": {},
   "outputs": [
    {
     "data": {
      "text/html": [
       "728"
      ],
      "text/latex": [
       "728"
      ],
      "text/markdown": [
       "728"
      ],
      "text/plain": [
       "[1] 728"
      ]
     },
     "metadata": {},
     "output_type": "display_data"
    }
   ],
   "source": []
  },
  {
   "cell_type": "code",
   "execution_count": 25,
   "metadata": {
    "scrolled": true
   },
   "outputs": [
    {
     "data": {
      "text/html": [
       "<table>\n",
       "<thead><tr><th scope=col>year</th><th scope=col>num_parentage_matches</th><th scope=col>source</th><th scope=col>particles_released_daily</th><th scope=col>date</th><th scope=col>surv_weight</th><th scope=col>dest</th><th scope=col>dest_n_rec_annual</th><th scope=col>dest_prop_samp</th><th scope=col>dest_total_anems</th><th scope=col>...</th><th scope=col>sim_month</th><th scope=col>sim_day</th><th scope=col>sim_year</th><th scope=col>monsoon</th><th scope=col>daily_particles_rec</th><th scope=col>particle_id</th><th scope=col>source_size</th><th scope=col>total_particles_rec</th><th scope=col>total_particles_released</th><th scope=col>test</th></tr></thead>\n",
       "<tbody>\n",
       "\t<tr><td>2014            </td><td>13              </td><td>Wangag          </td><td>992             </td><td>2014-03-31      </td><td>0.7844995       </td><td>Caridad Cemetery</td><td>0               </td><td>0.4166667       </td><td>12              </td><td>...             </td><td>3               </td><td>3               </td><td>2014            </td><td>NEM             </td><td>15              </td><td>P209407030      </td><td>0.2637462       </td><td>2047            </td><td>280736          </td><td>283             </td></tr>\n",
       "\t<tr><td>2014            </td><td>13              </td><td>Wangag          </td><td>992             </td><td>2014-03-31      </td><td>0.7844995       </td><td>Caridad Cemetery</td><td>0               </td><td>0.4166667       </td><td>12              </td><td>...             </td><td>3               </td><td>3               </td><td>2014            </td><td>NEM             </td><td>15              </td><td>P209407031      </td><td>0.2637462       </td><td>2047            </td><td>280736          </td><td>283             </td></tr>\n",
       "\t<tr><td>2014            </td><td>13              </td><td>Wangag          </td><td>992             </td><td>2014-03-31      </td><td>0.7844995       </td><td>Caridad Cemetery</td><td>0               </td><td>0.4166667       </td><td>12              </td><td>...             </td><td>3               </td><td>3               </td><td>2014            </td><td>NEM             </td><td>15              </td><td>P209407032      </td><td>0.2637462       </td><td>2047            </td><td>280736          </td><td>283             </td></tr>\n",
       "\t<tr><td>2014            </td><td>13              </td><td>Wangag          </td><td>992             </td><td>2014-03-31      </td><td>0.7844995       </td><td>Caridad Cemetery</td><td>0               </td><td>0.4166667       </td><td>12              </td><td>...             </td><td>3               </td><td>3               </td><td>2014            </td><td>NEM             </td><td>15              </td><td>P209407033      </td><td>0.2637462       </td><td>2047            </td><td>280736          </td><td>283             </td></tr>\n",
       "\t<tr><td>2014            </td><td>13              </td><td>Wangag          </td><td>992             </td><td>2014-03-31      </td><td>0.7844995       </td><td>Caridad Cemetery</td><td>0               </td><td>0.4166667       </td><td>12              </td><td>...             </td><td>3               </td><td>3               </td><td>2014            </td><td>NEM             </td><td>15              </td><td>P209407034      </td><td>0.2637462       </td><td>2047            </td><td>280736          </td><td>283             </td></tr>\n",
       "\t<tr><td>2014            </td><td>13              </td><td>Wangag          </td><td>992             </td><td>2014-03-31      </td><td>0.7844995       </td><td>Caridad Proper  </td><td>0               </td><td>1.0000000       </td><td> 4              </td><td>...             </td><td>3               </td><td>3               </td><td>2014            </td><td>NEM             </td><td> 1              </td><td>P209407035      </td><td>0.2637462       </td><td>2132            </td><td>280736          </td><td>283             </td></tr>\n",
       "</tbody>\n",
       "</table>\n"
      ],
      "text/latex": [
       "\\begin{tabular}{r|lllllllllllllllllllllll}\n",
       " year & num\\_parentage\\_matches & source & particles\\_released\\_daily & date & surv\\_weight & dest & dest\\_n\\_rec\\_annual & dest\\_prop\\_samp & dest\\_total\\_anems & ... & sim\\_month & sim\\_day & sim\\_year & monsoon & daily\\_particles\\_rec & particle\\_id & source\\_size & total\\_particles\\_rec & total\\_particles\\_released & test\\\\\n",
       "\\hline\n",
       "\t 2014             & 13               & Wangag           & 992              & 2014-03-31       & 0.7844995        & Caridad Cemetery & 0                & 0.4166667        & 12               & ...              & 3                & 3                & 2014             & NEM              & 15               & P209407030       & 0.2637462        & 2047             & 280736           & 283             \\\\\n",
       "\t 2014             & 13               & Wangag           & 992              & 2014-03-31       & 0.7844995        & Caridad Cemetery & 0                & 0.4166667        & 12               & ...              & 3                & 3                & 2014             & NEM              & 15               & P209407031       & 0.2637462        & 2047             & 280736           & 283             \\\\\n",
       "\t 2014             & 13               & Wangag           & 992              & 2014-03-31       & 0.7844995        & Caridad Cemetery & 0                & 0.4166667        & 12               & ...              & 3                & 3                & 2014             & NEM              & 15               & P209407032       & 0.2637462        & 2047             & 280736           & 283             \\\\\n",
       "\t 2014             & 13               & Wangag           & 992              & 2014-03-31       & 0.7844995        & Caridad Cemetery & 0                & 0.4166667        & 12               & ...              & 3                & 3                & 2014             & NEM              & 15               & P209407033       & 0.2637462        & 2047             & 280736           & 283             \\\\\n",
       "\t 2014             & 13               & Wangag           & 992              & 2014-03-31       & 0.7844995        & Caridad Cemetery & 0                & 0.4166667        & 12               & ...              & 3                & 3                & 2014             & NEM              & 15               & P209407034       & 0.2637462        & 2047             & 280736           & 283             \\\\\n",
       "\t 2014             & 13               & Wangag           & 992              & 2014-03-31       & 0.7844995        & Caridad Proper   & 0                & 1.0000000        &  4               & ...              & 3                & 3                & 2014             & NEM              &  1               & P209407035       & 0.2637462        & 2132             & 280736           & 283             \\\\\n",
       "\\end{tabular}\n"
      ],
      "text/markdown": [
       "\n",
       "| year | num_parentage_matches | source | particles_released_daily | date | surv_weight | dest | dest_n_rec_annual | dest_prop_samp | dest_total_anems | ... | sim_month | sim_day | sim_year | monsoon | daily_particles_rec | particle_id | source_size | total_particles_rec | total_particles_released | test |\n",
       "|---|---|---|---|---|---|---|---|---|---|---|---|---|---|---|---|---|---|---|---|---|\n",
       "| 2014             | 13               | Wangag           | 992              | 2014-03-31       | 0.7844995        | Caridad Cemetery | 0                | 0.4166667        | 12               | ...              | 3                | 3                | 2014             | NEM              | 15               | P209407030       | 0.2637462        | 2047             | 280736           | 283              |\n",
       "| 2014             | 13               | Wangag           | 992              | 2014-03-31       | 0.7844995        | Caridad Cemetery | 0                | 0.4166667        | 12               | ...              | 3                | 3                | 2014             | NEM              | 15               | P209407031       | 0.2637462        | 2047             | 280736           | 283              |\n",
       "| 2014             | 13               | Wangag           | 992              | 2014-03-31       | 0.7844995        | Caridad Cemetery | 0                | 0.4166667        | 12               | ...              | 3                | 3                | 2014             | NEM              | 15               | P209407032       | 0.2637462        | 2047             | 280736           | 283              |\n",
       "| 2014             | 13               | Wangag           | 992              | 2014-03-31       | 0.7844995        | Caridad Cemetery | 0                | 0.4166667        | 12               | ...              | 3                | 3                | 2014             | NEM              | 15               | P209407033       | 0.2637462        | 2047             | 280736           | 283              |\n",
       "| 2014             | 13               | Wangag           | 992              | 2014-03-31       | 0.7844995        | Caridad Cemetery | 0                | 0.4166667        | 12               | ...              | 3                | 3                | 2014             | NEM              | 15               | P209407034       | 0.2637462        | 2047             | 280736           | 283              |\n",
       "| 2014             | 13               | Wangag           | 992              | 2014-03-31       | 0.7844995        | Caridad Proper   | 0                | 1.0000000        |  4               | ...              | 3                | 3                | 2014             | NEM              |  1               | P209407035       | 0.2637462        | 2132             | 280736           | 283              |\n",
       "\n"
      ],
      "text/plain": [
       "  year num_parentage_matches source particles_released_daily date      \n",
       "1 2014 13                    Wangag 992                      2014-03-31\n",
       "2 2014 13                    Wangag 992                      2014-03-31\n",
       "3 2014 13                    Wangag 992                      2014-03-31\n",
       "4 2014 13                    Wangag 992                      2014-03-31\n",
       "5 2014 13                    Wangag 992                      2014-03-31\n",
       "6 2014 13                    Wangag 992                      2014-03-31\n",
       "  surv_weight dest             dest_n_rec_annual dest_prop_samp\n",
       "1 0.7844995   Caridad Cemetery 0                 0.4166667     \n",
       "2 0.7844995   Caridad Cemetery 0                 0.4166667     \n",
       "3 0.7844995   Caridad Cemetery 0                 0.4166667     \n",
       "4 0.7844995   Caridad Cemetery 0                 0.4166667     \n",
       "5 0.7844995   Caridad Cemetery 0                 0.4166667     \n",
       "6 0.7844995   Caridad Proper   0                 1.0000000     \n",
       "  dest_total_anems ... sim_month sim_day sim_year monsoon daily_particles_rec\n",
       "1 12               ... 3         3       2014     NEM     15                 \n",
       "2 12               ... 3         3       2014     NEM     15                 \n",
       "3 12               ... 3         3       2014     NEM     15                 \n",
       "4 12               ... 3         3       2014     NEM     15                 \n",
       "5 12               ... 3         3       2014     NEM     15                 \n",
       "6  4               ... 3         3       2014     NEM      1                 \n",
       "  particle_id source_size total_particles_rec total_particles_released test\n",
       "1 P209407030  0.2637462   2047                280736                   283 \n",
       "2 P209407031  0.2637462   2047                280736                   283 \n",
       "3 P209407032  0.2637462   2047                280736                   283 \n",
       "4 P209407033  0.2637462   2047                280736                   283 \n",
       "5 P209407034  0.2637462   2047                280736                   283 \n",
       "6 P209407035  0.2637462   2132                280736                   283 "
      ]
     },
     "metadata": {},
     "output_type": "display_data"
    }
   ],
   "source": [
    "tail(SimConn)"
   ]
  },
  {
   "cell_type": "code",
   "execution_count": null,
   "metadata": {},
   "outputs": [],
   "source": [
    "sum(unqiue(SimConn[source==\"Wangag\" & dest== \"Caridad Cemetery\"])[, daily_particles_rec])"
   ]
  },
  {
   "cell_type": "code",
   "execution_count": 21,
   "metadata": {},
   "outputs": [
    {
     "data": {
      "text/html": [
       "722176"
      ],
      "text/latex": [
       "722176"
      ],
      "text/markdown": [
       "722176"
      ],
      "text/plain": [
       "[1] 722176"
      ]
     },
     "metadata": {},
     "output_type": "display_data"
    }
   ],
   "source": [
    "992*728"
   ]
  },
  {
   "cell_type": "code",
   "execution_count": null,
   "metadata": {},
   "outputs": [],
   "source": [
    "138880 "
   ]
  },
  {
   "cell_type": "code",
   "execution_count": 31,
   "metadata": {},
   "outputs": [
    {
     "data": {
      "text/html": [
       "<table>\n",
       "<thead><tr><th scope=col>source</th><th scope=col>dest</th><th scope=col>total_particles_rec</th></tr></thead>\n",
       "<tbody>\n",
       "\t<tr><td>Other            </td><td>Palanas          </td><td>    23438        </td></tr>\n",
       "\t<tr><td>Other            </td><td>Wangag           </td><td>    20880        </td></tr>\n",
       "\t<tr><td>Other            </td><td>Magbangon        </td><td>    19848        </td></tr>\n",
       "\t<tr><td>Other            </td><td>Cabatoan         </td><td>    19795        </td></tr>\n",
       "\t<tr><td>Other            </td><td>Caridad Proper   </td><td>    25716        </td></tr>\n",
       "\t<tr><td>Other            </td><td>Sitio Tugas      </td><td>    13504        </td></tr>\n",
       "\t<tr><td>Other            </td><td>Elementary School</td><td>    24569        </td></tr>\n",
       "\t<tr><td>Other            </td><td>Sitio Lonas      </td><td>    25630        </td></tr>\n",
       "\t<tr><td>Other            </td><td>San Agustin      </td><td>    15292        </td></tr>\n",
       "\t<tr><td>Other            </td><td>Visca            </td><td>     9529        </td></tr>\n",
       "\t<tr><td>Other            </td><td>Tamakin Dacot    </td><td>   207051        </td></tr>\n",
       "\t<tr><td>Other            </td><td>Sitio Baybayon   </td><td>    43333        </td></tr>\n",
       "\t<tr><td>Other            </td><td>CAI              </td><td> 28359963        </td></tr>\n",
       "\t<tr><td>CAI              </td><td>CAI              </td><td>127034095        </td></tr>\n",
       "\t<tr><td>Haina            </td><td>Tamakin Dacot    </td><td>     2323        </td></tr>\n",
       "\t<tr><td>Haina            </td><td>Haina            </td><td>     4158        </td></tr>\n",
       "\t<tr><td>Tamakin Dacot    </td><td>Tamakin Dacot    </td><td>   139778        </td></tr>\n",
       "\t<tr><td>Gabas            </td><td>San Agustin      </td><td>     6813        </td></tr>\n",
       "\t<tr><td>Gabas            </td><td>Visca            </td><td>    10368        </td></tr>\n",
       "\t<tr><td>Visca            </td><td>Caridad Proper   </td><td>     1074        </td></tr>\n",
       "\t<tr><td>Visca            </td><td>Sitio Lonas      </td><td>     7194        </td></tr>\n",
       "\t<tr><td>Visca            </td><td>San Agustin      </td><td>     5692        </td></tr>\n",
       "\t<tr><td>Poroc Rose       </td><td>Caridad Proper   </td><td>     1098        </td></tr>\n",
       "\t<tr><td>Poroc Rose       </td><td>Sitio Tugas      </td><td>     1262        </td></tr>\n",
       "\t<tr><td>Poroc Rose       </td><td>Elementary School</td><td>     1904        </td></tr>\n",
       "\t<tr><td>Poroc San Flower </td><td>Sitio Lonas      </td><td>    11700        </td></tr>\n",
       "\t<tr><td>Poroc San Flower </td><td>San Agustin      </td><td>     9005        </td></tr>\n",
       "\t<tr><td>Poroc San Flower </td><td>Poroc San Flower </td><td>     2419        </td></tr>\n",
       "\t<tr><td>Poroc San Flower </td><td>Poroc Rose       </td><td>     1675        </td></tr>\n",
       "\t<tr><td>San Agustin      </td><td>Sitio Lonas      </td><td>    10726        </td></tr>\n",
       "\t<tr><td>...</td><td>...</td><td>...</td></tr>\n",
       "\t<tr><td>Poroc San Flower </td><td>Tamakin Dacot    </td><td>   85            </td></tr>\n",
       "\t<tr><td>Poroc San Flower </td><td>Haina            </td><td>  167            </td></tr>\n",
       "\t<tr><td>San Agustin      </td><td>Caridad Proper   </td><td>  751            </td></tr>\n",
       "\t<tr><td>San Agustin      </td><td>San Agustin      </td><td> 6986            </td></tr>\n",
       "\t<tr><td>San Agustin      </td><td>Poroc Rose       </td><td> 1848            </td></tr>\n",
       "\t<tr><td>San Agustin      </td><td>Haina            </td><td>   84            </td></tr>\n",
       "\t<tr><td>Sitio Lonas      </td><td>Sitio Tugas      </td><td> 3455            </td></tr>\n",
       "\t<tr><td>Sitio Lonas      </td><td>Sitio Lonas      </td><td>22115            </td></tr>\n",
       "\t<tr><td>Elementary School</td><td>Hicgop South     </td><td> 2768            </td></tr>\n",
       "\t<tr><td>Elementary School</td><td>Sitio Tugas      </td><td> 2258            </td></tr>\n",
       "\t<tr><td>Elementary School</td><td>Elementary School</td><td> 1827            </td></tr>\n",
       "\t<tr><td>Elementary School</td><td>San Agustin      </td><td>  745            </td></tr>\n",
       "\t<tr><td>Elementary School</td><td>Poroc Rose       </td><td>  180            </td></tr>\n",
       "\t<tr><td>Sitio Tugas      </td><td>Elementary School</td><td>  498            </td></tr>\n",
       "\t<tr><td>Sitio Tugas      </td><td>Sitio Lonas      </td><td>  684            </td></tr>\n",
       "\t<tr><td>Sitio Tugas      </td><td>Haina            </td><td>   49            </td></tr>\n",
       "\t<tr><td>Hicgop South     </td><td>Hicgop South     </td><td> 3328            </td></tr>\n",
       "\t<tr><td>Hicgop South     </td><td>Sitio Tugas      </td><td> 1602            </td></tr>\n",
       "\t<tr><td>Hicgop South     </td><td>Elementary School</td><td> 3144            </td></tr>\n",
       "\t<tr><td>Hicgop South     </td><td>Sitio Lonas      </td><td> 1239            </td></tr>\n",
       "\t<tr><td>Hicgop South     </td><td>San Agustin      </td><td> 1266            </td></tr>\n",
       "\t<tr><td>Hicgop South     </td><td>Poroc Rose       </td><td>  429            </td></tr>\n",
       "\t<tr><td>Hicgop South     </td><td>Tamakin Dacot    </td><td>  163            </td></tr>\n",
       "\t<tr><td>Hicgop South     </td><td>Haina            </td><td>  341            </td></tr>\n",
       "\t<tr><td>Caridad Proper   </td><td>Caridad Proper   </td><td> 1634            </td></tr>\n",
       "\t<tr><td>Caridad Cemetery </td><td>Caridad Proper   </td><td> 2767            </td></tr>\n",
       "\t<tr><td>Cabatoan         </td><td>Caridad Cemetery </td><td>  990            </td></tr>\n",
       "\t<tr><td>Wangag           </td><td>Magbangon        </td><td> 2047            </td></tr>\n",
       "\t<tr><td>Wangag           </td><td>Caridad Cemetery </td><td> 2047            </td></tr>\n",
       "\t<tr><td>Wangag           </td><td>Caridad Proper   </td><td> 2132            </td></tr>\n",
       "</tbody>\n",
       "</table>\n"
      ],
      "text/latex": [
       "\\begin{tabular}{r|lll}\n",
       " source & dest & total\\_particles\\_rec\\\\\n",
       "\\hline\n",
       "\t Other             & Palanas           &     23438        \\\\\n",
       "\t Other             & Wangag            &     20880        \\\\\n",
       "\t Other             & Magbangon         &     19848        \\\\\n",
       "\t Other             & Cabatoan          &     19795        \\\\\n",
       "\t Other             & Caridad Proper    &     25716        \\\\\n",
       "\t Other             & Sitio Tugas       &     13504        \\\\\n",
       "\t Other             & Elementary School &     24569        \\\\\n",
       "\t Other             & Sitio Lonas       &     25630        \\\\\n",
       "\t Other             & San Agustin       &     15292        \\\\\n",
       "\t Other             & Visca             &      9529        \\\\\n",
       "\t Other             & Tamakin Dacot     &    207051        \\\\\n",
       "\t Other             & Sitio Baybayon    &     43333        \\\\\n",
       "\t Other             & CAI               &  28359963        \\\\\n",
       "\t CAI               & CAI               & 127034095        \\\\\n",
       "\t Haina             & Tamakin Dacot     &      2323        \\\\\n",
       "\t Haina             & Haina             &      4158        \\\\\n",
       "\t Tamakin Dacot     & Tamakin Dacot     &    139778        \\\\\n",
       "\t Gabas             & San Agustin       &      6813        \\\\\n",
       "\t Gabas             & Visca             &     10368        \\\\\n",
       "\t Visca             & Caridad Proper    &      1074        \\\\\n",
       "\t Visca             & Sitio Lonas       &      7194        \\\\\n",
       "\t Visca             & San Agustin       &      5692        \\\\\n",
       "\t Poroc Rose        & Caridad Proper    &      1098        \\\\\n",
       "\t Poroc Rose        & Sitio Tugas       &      1262        \\\\\n",
       "\t Poroc Rose        & Elementary School &      1904        \\\\\n",
       "\t Poroc San Flower  & Sitio Lonas       &     11700        \\\\\n",
       "\t Poroc San Flower  & San Agustin       &      9005        \\\\\n",
       "\t Poroc San Flower  & Poroc San Flower  &      2419        \\\\\n",
       "\t Poroc San Flower  & Poroc Rose        &      1675        \\\\\n",
       "\t San Agustin       & Sitio Lonas       &     10726        \\\\\n",
       "\t ... & ... & ...\\\\\n",
       "\t Poroc San Flower  & Tamakin Dacot     &    85            \\\\\n",
       "\t Poroc San Flower  & Haina             &   167            \\\\\n",
       "\t San Agustin       & Caridad Proper    &   751            \\\\\n",
       "\t San Agustin       & San Agustin       &  6986            \\\\\n",
       "\t San Agustin       & Poroc Rose        &  1848            \\\\\n",
       "\t San Agustin       & Haina             &    84            \\\\\n",
       "\t Sitio Lonas       & Sitio Tugas       &  3455            \\\\\n",
       "\t Sitio Lonas       & Sitio Lonas       & 22115            \\\\\n",
       "\t Elementary School & Hicgop South      &  2768            \\\\\n",
       "\t Elementary School & Sitio Tugas       &  2258            \\\\\n",
       "\t Elementary School & Elementary School &  1827            \\\\\n",
       "\t Elementary School & San Agustin       &   745            \\\\\n",
       "\t Elementary School & Poroc Rose        &   180            \\\\\n",
       "\t Sitio Tugas       & Elementary School &   498            \\\\\n",
       "\t Sitio Tugas       & Sitio Lonas       &   684            \\\\\n",
       "\t Sitio Tugas       & Haina             &    49            \\\\\n",
       "\t Hicgop South      & Hicgop South      &  3328            \\\\\n",
       "\t Hicgop South      & Sitio Tugas       &  1602            \\\\\n",
       "\t Hicgop South      & Elementary School &  3144            \\\\\n",
       "\t Hicgop South      & Sitio Lonas       &  1239            \\\\\n",
       "\t Hicgop South      & San Agustin       &  1266            \\\\\n",
       "\t Hicgop South      & Poroc Rose        &   429            \\\\\n",
       "\t Hicgop South      & Tamakin Dacot     &   163            \\\\\n",
       "\t Hicgop South      & Haina             &   341            \\\\\n",
       "\t Caridad Proper    & Caridad Proper    &  1634            \\\\\n",
       "\t Caridad Cemetery  & Caridad Proper    &  2767            \\\\\n",
       "\t Cabatoan          & Caridad Cemetery  &   990            \\\\\n",
       "\t Wangag            & Magbangon         &  2047            \\\\\n",
       "\t Wangag            & Caridad Cemetery  &  2047            \\\\\n",
       "\t Wangag            & Caridad Proper    &  2132            \\\\\n",
       "\\end{tabular}\n"
      ],
      "text/markdown": [
       "\n",
       "| source | dest | total_particles_rec |\n",
       "|---|---|---|\n",
       "| Other             | Palanas           |     23438         |\n",
       "| Other             | Wangag            |     20880         |\n",
       "| Other             | Magbangon         |     19848         |\n",
       "| Other             | Cabatoan          |     19795         |\n",
       "| Other             | Caridad Proper    |     25716         |\n",
       "| Other             | Sitio Tugas       |     13504         |\n",
       "| Other             | Elementary School |     24569         |\n",
       "| Other             | Sitio Lonas       |     25630         |\n",
       "| Other             | San Agustin       |     15292         |\n",
       "| Other             | Visca             |      9529         |\n",
       "| Other             | Tamakin Dacot     |    207051         |\n",
       "| Other             | Sitio Baybayon    |     43333         |\n",
       "| Other             | CAI               |  28359963         |\n",
       "| CAI               | CAI               | 127034095         |\n",
       "| Haina             | Tamakin Dacot     |      2323         |\n",
       "| Haina             | Haina             |      4158         |\n",
       "| Tamakin Dacot     | Tamakin Dacot     |    139778         |\n",
       "| Gabas             | San Agustin       |      6813         |\n",
       "| Gabas             | Visca             |     10368         |\n",
       "| Visca             | Caridad Proper    |      1074         |\n",
       "| Visca             | Sitio Lonas       |      7194         |\n",
       "| Visca             | San Agustin       |      5692         |\n",
       "| Poroc Rose        | Caridad Proper    |      1098         |\n",
       "| Poroc Rose        | Sitio Tugas       |      1262         |\n",
       "| Poroc Rose        | Elementary School |      1904         |\n",
       "| Poroc San Flower  | Sitio Lonas       |     11700         |\n",
       "| Poroc San Flower  | San Agustin       |      9005         |\n",
       "| Poroc San Flower  | Poroc San Flower  |      2419         |\n",
       "| Poroc San Flower  | Poroc Rose        |      1675         |\n",
       "| San Agustin       | Sitio Lonas       |     10726         |\n",
       "| ... | ... | ... |\n",
       "| Poroc San Flower  | Tamakin Dacot     |    85             |\n",
       "| Poroc San Flower  | Haina             |   167             |\n",
       "| San Agustin       | Caridad Proper    |   751             |\n",
       "| San Agustin       | San Agustin       |  6986             |\n",
       "| San Agustin       | Poroc Rose        |  1848             |\n",
       "| San Agustin       | Haina             |    84             |\n",
       "| Sitio Lonas       | Sitio Tugas       |  3455             |\n",
       "| Sitio Lonas       | Sitio Lonas       | 22115             |\n",
       "| Elementary School | Hicgop South      |  2768             |\n",
       "| Elementary School | Sitio Tugas       |  2258             |\n",
       "| Elementary School | Elementary School |  1827             |\n",
       "| Elementary School | San Agustin       |   745             |\n",
       "| Elementary School | Poroc Rose        |   180             |\n",
       "| Sitio Tugas       | Elementary School |   498             |\n",
       "| Sitio Tugas       | Sitio Lonas       |   684             |\n",
       "| Sitio Tugas       | Haina             |    49             |\n",
       "| Hicgop South      | Hicgop South      |  3328             |\n",
       "| Hicgop South      | Sitio Tugas       |  1602             |\n",
       "| Hicgop South      | Elementary School |  3144             |\n",
       "| Hicgop South      | Sitio Lonas       |  1239             |\n",
       "| Hicgop South      | San Agustin       |  1266             |\n",
       "| Hicgop South      | Poroc Rose        |   429             |\n",
       "| Hicgop South      | Tamakin Dacot     |   163             |\n",
       "| Hicgop South      | Haina             |   341             |\n",
       "| Caridad Proper    | Caridad Proper    |  1634             |\n",
       "| Caridad Cemetery  | Caridad Proper    |  2767             |\n",
       "| Cabatoan          | Caridad Cemetery  |   990             |\n",
       "| Wangag            | Magbangon         |  2047             |\n",
       "| Wangag            | Caridad Cemetery  |  2047             |\n",
       "| Wangag            | Caridad Proper    |  2132             |\n",
       "\n"
      ],
      "text/plain": [
       "      source            dest              total_particles_rec\n",
       "1     Other             Palanas               23438          \n",
       "2     Other             Wangag                20880          \n",
       "3     Other             Magbangon             19848          \n",
       "4     Other             Cabatoan              19795          \n",
       "5     Other             Caridad Proper        25716          \n",
       "6     Other             Sitio Tugas           13504          \n",
       "7     Other             Elementary School     24569          \n",
       "8     Other             Sitio Lonas           25630          \n",
       "9     Other             San Agustin           15292          \n",
       "10    Other             Visca                  9529          \n",
       "11    Other             Tamakin Dacot        207051          \n",
       "12    Other             Sitio Baybayon        43333          \n",
       "13    Other             CAI                28359963          \n",
       "14    CAI               CAI               127034095          \n",
       "15    Haina             Tamakin Dacot          2323          \n",
       "16    Haina             Haina                  4158          \n",
       "17    Tamakin Dacot     Tamakin Dacot        139778          \n",
       "18    Gabas             San Agustin            6813          \n",
       "19    Gabas             Visca                 10368          \n",
       "20    Visca             Caridad Proper         1074          \n",
       "21    Visca             Sitio Lonas            7194          \n",
       "22    Visca             San Agustin            5692          \n",
       "23    Poroc Rose        Caridad Proper         1098          \n",
       "24    Poroc Rose        Sitio Tugas            1262          \n",
       "25    Poroc Rose        Elementary School      1904          \n",
       "26    Poroc San Flower  Sitio Lonas           11700          \n",
       "27    Poroc San Flower  San Agustin            9005          \n",
       "28    Poroc San Flower  Poroc San Flower       2419          \n",
       "29    Poroc San Flower  Poroc Rose             1675          \n",
       "30    San Agustin       Sitio Lonas           10726          \n",
       "...   ...               ...               ...                \n",
       "30987 Poroc San Flower  Tamakin Dacot        85              \n",
       "30988 Poroc San Flower  Haina               167              \n",
       "30989 San Agustin       Caridad Proper      751              \n",
       "30990 San Agustin       San Agustin        6986              \n",
       "30991 San Agustin       Poroc Rose         1848              \n",
       "30992 San Agustin       Haina                84              \n",
       "30993 Sitio Lonas       Sitio Tugas        3455              \n",
       "30994 Sitio Lonas       Sitio Lonas       22115              \n",
       "30995 Elementary School Hicgop South       2768              \n",
       "30996 Elementary School Sitio Tugas        2258              \n",
       "30997 Elementary School Elementary School  1827              \n",
       "30998 Elementary School San Agustin         745              \n",
       "30999 Elementary School Poroc Rose          180              \n",
       "31000 Sitio Tugas       Elementary School   498              \n",
       "31001 Sitio Tugas       Sitio Lonas         684              \n",
       "31002 Sitio Tugas       Haina                49              \n",
       "31003 Hicgop South      Hicgop South       3328              \n",
       "31004 Hicgop South      Sitio Tugas        1602              \n",
       "31005 Hicgop South      Elementary School  3144              \n",
       "31006 Hicgop South      Sitio Lonas        1239              \n",
       "31007 Hicgop South      San Agustin        1266              \n",
       "31008 Hicgop South      Poroc Rose          429              \n",
       "31009 Hicgop South      Tamakin Dacot       163              \n",
       "31010 Hicgop South      Haina               341              \n",
       "31011 Caridad Proper    Caridad Proper     1634              \n",
       "31012 Caridad Cemetery  Caridad Proper     2767              \n",
       "31013 Cabatoan          Caridad Cemetery    990              \n",
       "31014 Wangag            Magbangon          2047              \n",
       "31015 Wangag            Caridad Cemetery   2047              \n",
       "31016 Wangag            Caridad Proper     2132              "
      ]
     },
     "metadata": {},
     "output_type": "display_data"
    }
   ],
   "source": [
    "unique(SimConn, by = c(\"source\", \"dest\", \"date\"))[ #Unique() is important because the table is long form, so repeat rows for source/dest/date combos for each particle!\n",
    "    , total_particles_rec := sum(daily_particles_rec), by= c(\"source\", \"dest\")][# sum the total number of particles recruiting for each source/dest \n",
    "    , c(\"source\", \"dest\", \"total_particles_rec\")]"
   ]
  },
  {
   "cell_type": "code",
   "execution_count": 30,
   "metadata": {},
   "outputs": [
    {
     "data": {
      "text/html": [
       "<table>\n",
       "<thead><tr><th scope=col>year</th><th scope=col>num_parentage_matches</th><th scope=col>source</th><th scope=col>particles_released_daily</th><th scope=col>date</th><th scope=col>surv_weight</th><th scope=col>dest</th><th scope=col>dest_n_rec_annual</th><th scope=col>dest_prop_samp</th><th scope=col>dest_total_anems</th><th scope=col>...</th><th scope=col>source_prop_samp</th><th scope=col>source_total_anems</th><th scope=col>sim_month</th><th scope=col>sim_day</th><th scope=col>sim_year</th><th scope=col>monsoon</th><th scope=col>daily_particles_rec</th><th scope=col>particle_id</th><th scope=col>source_size</th><th scope=col>total_source_normalized_recruitment</th></tr></thead>\n",
       "<tbody>\n",
       "\t<tr><td>2011        </td><td>NA          </td><td>Other       </td><td>4497728     </td><td>2010-10-01  </td><td>0.003292181 </td><td>Palanas     </td><td>NA          </td><td>NA          </td><td>NA          </td><td>...         </td><td>NA          </td><td>NA          </td><td>10          </td><td>10          </td><td>2010        </td><td>SWM         </td><td>9           </td><td>P1          </td><td>NA          </td><td>4.728255e-05</td></tr>\n",
       "\t<tr><td>2011        </td><td>NA          </td><td>Other       </td><td>4497728     </td><td>2010-10-01  </td><td>0.003292181 </td><td>Palanas     </td><td>NA          </td><td>NA          </td><td>NA          </td><td>...         </td><td>NA          </td><td>NA          </td><td>10          </td><td>10          </td><td>2010        </td><td>SWM         </td><td>9           </td><td>P2          </td><td>NA          </td><td>4.728255e-05</td></tr>\n",
       "\t<tr><td>2011        </td><td>NA          </td><td>Other       </td><td>4497728     </td><td>2010-10-01  </td><td>0.003292181 </td><td>Palanas     </td><td>NA          </td><td>NA          </td><td>NA          </td><td>...         </td><td>NA          </td><td>NA          </td><td>10          </td><td>10          </td><td>2010        </td><td>SWM         </td><td>9           </td><td>P3          </td><td>NA          </td><td>4.728255e-05</td></tr>\n",
       "\t<tr><td>2011        </td><td>NA          </td><td>Other       </td><td>4497728     </td><td>2010-10-01  </td><td>0.003292181 </td><td>Palanas     </td><td>NA          </td><td>NA          </td><td>NA          </td><td>...         </td><td>NA          </td><td>NA          </td><td>10          </td><td>10          </td><td>2010        </td><td>SWM         </td><td>9           </td><td>P4          </td><td>NA          </td><td>4.728255e-05</td></tr>\n",
       "\t<tr><td>2011        </td><td>NA          </td><td>Other       </td><td>4497728     </td><td>2010-10-01  </td><td>0.003292181 </td><td>Palanas     </td><td>NA          </td><td>NA          </td><td>NA          </td><td>...         </td><td>NA          </td><td>NA          </td><td>10          </td><td>10          </td><td>2010        </td><td>SWM         </td><td>9           </td><td>P5          </td><td>NA          </td><td>4.728255e-05</td></tr>\n",
       "\t<tr><td>2011        </td><td>NA          </td><td>Other       </td><td>4497728     </td><td>2010-10-01  </td><td>0.003292181 </td><td>Palanas     </td><td>NA          </td><td>NA          </td><td>NA          </td><td>...         </td><td>NA          </td><td>NA          </td><td>10          </td><td>10          </td><td>2010        </td><td>SWM         </td><td>9           </td><td>P6          </td><td>NA          </td><td>4.728255e-05</td></tr>\n",
       "</tbody>\n",
       "</table>\n"
      ],
      "text/latex": [
       "\\begin{tabular}{r|lllllllllllllllllllll}\n",
       " year & num\\_parentage\\_matches & source & particles\\_released\\_daily & date & surv\\_weight & dest & dest\\_n\\_rec\\_annual & dest\\_prop\\_samp & dest\\_total\\_anems & ... & source\\_prop\\_samp & source\\_total\\_anems & sim\\_month & sim\\_day & sim\\_year & monsoon & daily\\_particles\\_rec & particle\\_id & source\\_size & total\\_source\\_normalized\\_recruitment\\\\\n",
       "\\hline\n",
       "\t 2011         & NA           & Other        & 4497728      & 2010-10-01   & 0.003292181  & Palanas      & NA           & NA           & NA           & ...          & NA           & NA           & 10           & 10           & 2010         & SWM          & 9            & P1           & NA           & 4.728255e-05\\\\\n",
       "\t 2011         & NA           & Other        & 4497728      & 2010-10-01   & 0.003292181  & Palanas      & NA           & NA           & NA           & ...          & NA           & NA           & 10           & 10           & 2010         & SWM          & 9            & P2           & NA           & 4.728255e-05\\\\\n",
       "\t 2011         & NA           & Other        & 4497728      & 2010-10-01   & 0.003292181  & Palanas      & NA           & NA           & NA           & ...          & NA           & NA           & 10           & 10           & 2010         & SWM          & 9            & P3           & NA           & 4.728255e-05\\\\\n",
       "\t 2011         & NA           & Other        & 4497728      & 2010-10-01   & 0.003292181  & Palanas      & NA           & NA           & NA           & ...          & NA           & NA           & 10           & 10           & 2010         & SWM          & 9            & P4           & NA           & 4.728255e-05\\\\\n",
       "\t 2011         & NA           & Other        & 4497728      & 2010-10-01   & 0.003292181  & Palanas      & NA           & NA           & NA           & ...          & NA           & NA           & 10           & 10           & 2010         & SWM          & 9            & P5           & NA           & 4.728255e-05\\\\\n",
       "\t 2011         & NA           & Other        & 4497728      & 2010-10-01   & 0.003292181  & Palanas      & NA           & NA           & NA           & ...          & NA           & NA           & 10           & 10           & 2010         & SWM          & 9            & P6           & NA           & 4.728255e-05\\\\\n",
       "\\end{tabular}\n"
      ],
      "text/markdown": [
       "\n",
       "| year | num_parentage_matches | source | particles_released_daily | date | surv_weight | dest | dest_n_rec_annual | dest_prop_samp | dest_total_anems | ... | source_prop_samp | source_total_anems | sim_month | sim_day | sim_year | monsoon | daily_particles_rec | particle_id | source_size | total_source_normalized_recruitment |\n",
       "|---|---|---|---|---|---|---|---|---|---|---|---|---|---|---|---|---|---|---|---|---|\n",
       "| 2011         | NA           | Other        | 4497728      | 2010-10-01   | 0.003292181  | Palanas      | NA           | NA           | NA           | ...          | NA           | NA           | 10           | 10           | 2010         | SWM          | 9            | P1           | NA           | 4.728255e-05 |\n",
       "| 2011         | NA           | Other        | 4497728      | 2010-10-01   | 0.003292181  | Palanas      | NA           | NA           | NA           | ...          | NA           | NA           | 10           | 10           | 2010         | SWM          | 9            | P2           | NA           | 4.728255e-05 |\n",
       "| 2011         | NA           | Other        | 4497728      | 2010-10-01   | 0.003292181  | Palanas      | NA           | NA           | NA           | ...          | NA           | NA           | 10           | 10           | 2010         | SWM          | 9            | P3           | NA           | 4.728255e-05 |\n",
       "| 2011         | NA           | Other        | 4497728      | 2010-10-01   | 0.003292181  | Palanas      | NA           | NA           | NA           | ...          | NA           | NA           | 10           | 10           | 2010         | SWM          | 9            | P4           | NA           | 4.728255e-05 |\n",
       "| 2011         | NA           | Other        | 4497728      | 2010-10-01   | 0.003292181  | Palanas      | NA           | NA           | NA           | ...          | NA           | NA           | 10           | 10           | 2010         | SWM          | 9            | P5           | NA           | 4.728255e-05 |\n",
       "| 2011         | NA           | Other        | 4497728      | 2010-10-01   | 0.003292181  | Palanas      | NA           | NA           | NA           | ...          | NA           | NA           | 10           | 10           | 2010         | SWM          | 9            | P6           | NA           | 4.728255e-05 |\n",
       "\n"
      ],
      "text/plain": [
       "  year num_parentage_matches source particles_released_daily date      \n",
       "1 2011 NA                    Other  4497728                  2010-10-01\n",
       "2 2011 NA                    Other  4497728                  2010-10-01\n",
       "3 2011 NA                    Other  4497728                  2010-10-01\n",
       "4 2011 NA                    Other  4497728                  2010-10-01\n",
       "5 2011 NA                    Other  4497728                  2010-10-01\n",
       "6 2011 NA                    Other  4497728                  2010-10-01\n",
       "  surv_weight dest    dest_n_rec_annual dest_prop_samp dest_total_anems ...\n",
       "1 0.003292181 Palanas NA                NA             NA               ...\n",
       "2 0.003292181 Palanas NA                NA             NA               ...\n",
       "3 0.003292181 Palanas NA                NA             NA               ...\n",
       "4 0.003292181 Palanas NA                NA             NA               ...\n",
       "5 0.003292181 Palanas NA                NA             NA               ...\n",
       "6 0.003292181 Palanas NA                NA             NA               ...\n",
       "  source_prop_samp source_total_anems sim_month sim_day sim_year monsoon\n",
       "1 NA               NA                 10        10      2010     SWM    \n",
       "2 NA               NA                 10        10      2010     SWM    \n",
       "3 NA               NA                 10        10      2010     SWM    \n",
       "4 NA               NA                 10        10      2010     SWM    \n",
       "5 NA               NA                 10        10      2010     SWM    \n",
       "6 NA               NA                 10        10      2010     SWM    \n",
       "  daily_particles_rec particle_id source_size\n",
       "1 9                   P1          NA         \n",
       "2 9                   P2          NA         \n",
       "3 9                   P3          NA         \n",
       "4 9                   P4          NA         \n",
       "5 9                   P5          NA         \n",
       "6 9                   P6          NA         \n",
       "  total_source_normalized_recruitment\n",
       "1 4.728255e-05                       \n",
       "2 4.728255e-05                       \n",
       "3 4.728255e-05                       \n",
       "4 4.728255e-05                       \n",
       "5 4.728255e-05                       \n",
       "6 4.728255e-05                       "
      ]
     },
     "metadata": {},
     "output_type": "display_data"
    }
   ],
   "source": [
    "head(SimConn)\n"
   ]
  },
  {
   "cell_type": "code",
   "execution_count": 18,
   "metadata": {},
   "outputs": [
    {
     "data": {
      "text/html": [
       "<table>\n",
       "<thead><tr><th scope=col>source</th><th scope=col>particles_released_daily</th></tr></thead>\n",
       "<tbody>\n",
       "\t<tr><td>Palanas         </td><td>992             </td></tr>\n",
       "\t<tr><td>Wangag          </td><td>992             </td></tr>\n",
       "\t<tr><td>Magbangon       </td><td>992             </td></tr>\n",
       "\t<tr><td>Cabatoan        </td><td>992             </td></tr>\n",
       "\t<tr><td>Caridad Cemetery</td><td>992             </td></tr>\n",
       "\t<tr><td>Caridad Proper  </td><td>992             </td></tr>\n",
       "</tbody>\n",
       "</table>\n"
      ],
      "text/latex": [
       "\\begin{tabular}{r|ll}\n",
       " source & particles\\_released\\_daily\\\\\n",
       "\\hline\n",
       "\t Palanas          & 992             \\\\\n",
       "\t Wangag           & 992             \\\\\n",
       "\t Magbangon        & 992             \\\\\n",
       "\t Cabatoan         & 992             \\\\\n",
       "\t Caridad Cemetery & 992             \\\\\n",
       "\t Caridad Proper   & 992             \\\\\n",
       "\\end{tabular}\n"
      ],
      "text/markdown": [
       "\n",
       "| source | particles_released_daily |\n",
       "|---|---|\n",
       "| Palanas          | 992              |\n",
       "| Wangag           | 992              |\n",
       "| Magbangon        | 992              |\n",
       "| Cabatoan         | 992              |\n",
       "| Caridad Cemetery | 992              |\n",
       "| Caridad Proper   | 992              |\n",
       "\n"
      ],
      "text/plain": [
       "  source           particles_released_daily\n",
       "1 Palanas          992                     \n",
       "2 Wangag           992                     \n",
       "3 Magbangon        992                     \n",
       "4 Cabatoan         992                     \n",
       "5 Caridad Cemetery 992                     \n",
       "6 Caridad Proper   992                     "
      ]
     },
     "metadata": {},
     "output_type": "display_data"
    }
   ],
   "source": [
    "head(SeededParticles)"
   ]
  },
  {
   "cell_type": "code",
   "execution_count": 20,
   "metadata": {},
   "outputs": [
    {
     "data": {
      "text/html": [
       "728"
      ],
      "text/latex": [
       "728"
      ],
      "text/markdown": [
       "728"
      ],
      "text/plain": [
       "[1] 728"
      ]
     },
     "metadata": {},
     "output_type": "display_data"
    }
   ],
   "source": [
    "uniqueN(SimConn, by = c( \"date\"))"
   ]
  },
  {
   "cell_type": "code",
   "execution_count": 22,
   "metadata": {},
   "outputs": [
    {
     "name": "stdout",
     "output_type": "stream",
     "text": [
      "Classes ‘data.table’ and 'data.frame':\t156546356 obs. of  21 variables:\n",
      " $ year                               : int  2011 2011 2011 2011 2011 2011 2011 2011 2011 2011 ...\n",
      " $ num_parentage_matches              : int  NA NA NA NA NA NA NA NA NA NA ...\n",
      " $ source                             : chr  \"Other\" \"Other\" \"Other\" \"Other\" ...\n",
      " $ particles_released_daily           : int  4497728 4497728 4497728 4497728 4497728 4497728 4497728 4497728 4497728 4497728 ...\n",
      " $ date                               : chr  \"2010-10-01\" \"2010-10-01\" \"2010-10-01\" \"2010-10-01\" ...\n",
      " $ surv_weight                        : num  0.00329 0.00329 0.00329 0.00329 0.00329 ...\n",
      " $ dest                               : chr  \"Palanas\" \"Palanas\" \"Palanas\" \"Palanas\" ...\n",
      " $ dest_n_rec_annual                  : int  NA NA NA NA NA NA NA NA NA NA ...\n",
      " $ dest_prop_samp                     : num  NA NA NA NA NA NA NA NA NA NA ...\n",
      " $ dest_total_anems                   : int  NA NA NA NA NA NA NA NA NA NA ...\n",
      " $ source_n_rec_annual                : int  NA NA NA NA NA NA NA NA NA NA ...\n",
      " $ source_prop_samp                   : num  NA NA NA NA NA NA NA NA NA NA ...\n",
      " $ source_total_anems                 : int  NA NA NA NA NA NA NA NA NA NA ...\n",
      " $ sim_month                          : int  10 10 10 10 10 10 10 10 10 10 ...\n",
      " $ sim_day                            : int  10 10 10 10 10 10 10 10 10 10 ...\n",
      " $ sim_year                           : int  2010 2010 2010 2010 2010 2010 2010 2010 2010 2010 ...\n",
      " $ monsoon                            : chr  \"SWM\" \"SWM\" \"SWM\" \"SWM\" ...\n",
      " $ daily_particles                    : int  9 9 9 9 9 9 9 9 9 4 ...\n",
      " $ particle_id                        : chr  \"P1\" \"P2\" \"P3\" \"P4\" ...\n",
      " $ source_size                        : num  NA NA NA NA NA NA NA NA NA NA ...\n",
      " $ total_source_normalized_recruitment: num  4.73e-05 4.73e-05 4.73e-05 4.73e-05 4.73e-05 ...\n",
      " - attr(*, \".internal.selfref\")=<externalptr> \n",
      " - attr(*, \"index\")= int \n",
      "  ..- attr(*, \"__source\")= int  17852 17853 17854 17855 17856 17857 17858 17859 17860 17861 ...\n"
     ]
    }
   ],
   "source": [
    "str(SimConn)"
   ]
  },
  {
   "cell_type": "code",
   "execution_count": 14,
   "metadata": {},
   "outputs": [
    {
     "data": {
      "text/html": [
       "<ol class=list-inline>\n",
       "\t<li>20</li>\n",
       "\t<li>19</li>\n",
       "</ol>\n"
      ],
      "text/latex": [
       "\\begin{enumerate*}\n",
       "\\item 20\n",
       "\\item 19\n",
       "\\end{enumerate*}\n"
      ],
      "text/markdown": [
       "1. 20\n",
       "2. 19\n",
       "\n",
       "\n"
      ],
      "text/plain": [
       "[1] 20 19"
      ]
     },
     "metadata": {},
     "output_type": "display_data"
    }
   ],
   "source": [
    "#make a parentage matrix for the whole biophysical results\n",
    "FullBiophysMat <- as.matrix(rbind(dcast(SimConn[source != \"Other\", .(source, dest)][ #for assigned particles (not from \"Other\") keep the source/dest columns that will be expanded into wide form to become the connectivity matrix. Filtering for time period etc can be done in i here.\n",
    "    , parentage :=1][ #mark each row as a parentage match, because at this point I'm using all particles as matches for the simulations\n",
    "    order(source, dest)] #keep sites in alphabetical order so the matrix is correctly formatted!\n",
    "        , source ~ dest, value.var=\"parentage\", fun.aggregate = sum)[#use sum to count the matches for each id variable combo, that populated the cells of the matrix\n",
    "    ,-\"source\"], #remove the source column after casting\n",
    "      dcast(SimConn[source == \"Other\" , .(source, dest)][ #this is to cast the \"unassigned row for the model parentage, which is anyting from \"Other\"\n",
    "          , parentage :=1][order(source, dest)][, source := \"unknown\"], source ~ dest, value.var=\"parentage\", fun.aggregate = sum)[,-\"source\"]))#bind these two cast wide form data tables (assigned and unassigned particles) and then turn into a matrix to be used in the likelihood functions\n",
    "dim(FullBiophysMat)"
   ]
  },
  {
   "cell_type": "code",
   "execution_count": 15,
   "metadata": {},
   "outputs": [
    {
     "data": {
      "text/html": [
       "<table>\n",
       "<thead><tr><th scope=col>CAI</th><th scope=col>Cabatoan</th><th scope=col>Caridad Cemetery</th><th scope=col>Caridad Proper</th><th scope=col>Elementary School</th><th scope=col>Gabas</th><th scope=col>Haina</th><th scope=col>Hicgop South</th><th scope=col>Magbangon</th><th scope=col>Palanas</th><th scope=col>Poroc Rose</th><th scope=col>Poroc San Flower</th><th scope=col>San Agustin</th><th scope=col>Sitio Baybayon</th><th scope=col>Sitio Lonas</th><th scope=col>Sitio Tugas</th><th scope=col>Tamakin Dacot</th><th scope=col>Visca</th><th scope=col>Wangag</th></tr></thead>\n",
       "<tbody>\n",
       "\t<tr><td>127034095</td><td>   26    </td><td>    0    </td><td>    0    </td><td>    0    </td><td>    0    </td><td>    9    </td><td>    0    </td><td>   43    </td><td>   32    </td><td>    0    </td><td>    0    </td><td>    0    </td><td>   15    </td><td>    0    </td><td>    0    </td><td>     3   </td><td>    0    </td><td>   10    </td></tr>\n",
       "\t<tr><td>     4423</td><td> 1199    </td><td>  990    </td><td> 1723    </td><td>  219    </td><td>    0    </td><td>   48    </td><td>  922    </td><td>  871    </td><td>   96    </td><td>   69    </td><td>  122    </td><td>  330    </td><td> 1154    </td><td>  286    </td><td>  333    </td><td>    55   </td><td>    1    </td><td>  290    </td></tr>\n",
       "\t<tr><td>     4018</td><td>  687    </td><td> 2624    </td><td> 2767    </td><td>  129    </td><td>    8    </td><td>   12    </td><td>  273    </td><td>  736    </td><td>   66    </td><td>   48    </td><td>  121    </td><td>  446    </td><td>  862    </td><td>  613    </td><td>  322    </td><td>     1   </td><td>    0    </td><td>   77    </td></tr>\n",
       "\t<tr><td>     3359</td><td>  525    </td><td> 1028    </td><td> 1634    </td><td>   46    </td><td>    0    </td><td>    8    </td><td>  316    </td><td>  361    </td><td>    4    </td><td>   53    </td><td>  134    </td><td>  540    </td><td>  563    </td><td>  548    </td><td>  279    </td><td>     4   </td><td>    2    </td><td>   48    </td></tr>\n",
       "\t<tr><td>      483</td><td>  257    </td><td>  824    </td><td> 1808    </td><td> 1827    </td><td>    1    </td><td>   32    </td><td> 4880    </td><td>  239    </td><td>    1    </td><td>  180    </td><td>  280    </td><td>  745    </td><td>  175    </td><td>  712    </td><td> 2258    </td><td>     8   </td><td>    1    </td><td>    8    </td></tr>\n",
       "\t<tr><td>       14</td><td>   43    </td><td>  119    </td><td>  506    </td><td> 1747    </td><td>19400    </td><td>  155    </td><td>  955    </td><td>    7    </td><td>    2    </td><td>  776    </td><td> 1181    </td><td> 6813    </td><td>    4    </td><td> 9410    </td><td> 1468    </td><td>   120   </td><td>10368    </td><td>    0    </td></tr>\n",
       "\t<tr><td>       19</td><td>   10    </td><td>   22    </td><td>   31    </td><td>   17    </td><td>    3    </td><td> 4158    </td><td>   10    </td><td>    2    </td><td>    0    </td><td>    0    </td><td>    2    </td><td>   63    </td><td>   43    </td><td>   18    </td><td>   16    </td><td>  2323   </td><td>   56    </td><td>    4    </td></tr>\n",
       "\t<tr><td>     2239</td><td>  681    </td><td> 2285    </td><td> 4250    </td><td> 3638    </td><td>   50    </td><td>  434    </td><td> 5549    </td><td>  471    </td><td>    8    </td><td>  605    </td><td> 1052    </td><td> 1716    </td><td> 1040    </td><td> 1971    </td><td> 2138    </td><td>   245   </td><td>   73    </td><td>   57    </td></tr>\n",
       "\t<tr><td>     2832</td><td>  960    </td><td> 1826    </td><td> 2589    </td><td>  140    </td><td>    0    </td><td>   46    </td><td>  805    </td><td>  672    </td><td>  278    </td><td>   41    </td><td>   81    </td><td>  499    </td><td> 2244    </td><td>  211    </td><td>  233    </td><td>    23   </td><td>   13    </td><td>  725    </td></tr>\n",
       "\t<tr><td>     3188</td><td>  675    </td><td>  613    </td><td>  787    </td><td>    4    </td><td>    0    </td><td>    0    </td><td>  104    </td><td>  803    </td><td>  481    </td><td>   10    </td><td>    1    </td><td>   38    </td><td> 3136    </td><td>    1    </td><td>   54    </td><td>     0   </td><td>    0    </td><td>  481    </td></tr>\n",
       "\t<tr><td>      412</td><td>  152    </td><td>  507    </td><td> 1098    </td><td> 1904    </td><td>   11    </td><td>  147    </td><td>  609    </td><td>   41    </td><td>   11    </td><td> 1361    </td><td> 1565    </td><td> 5487    </td><td>   88    </td><td> 7631    </td><td> 1262    </td><td>    79   </td><td>  622    </td><td>   14    </td></tr>\n",
       "\t<tr><td>      123</td><td>  185    </td><td>  263    </td><td>  983    </td><td> 1820    </td><td>    3    </td><td>  167    </td><td>  685    </td><td>   70    </td><td>   54    </td><td> 1675    </td><td> 2419    </td><td> 9005    </td><td>   92    </td><td>11700    </td><td> 1670    </td><td>    85   </td><td>  344    </td><td>   34    </td></tr>\n",
       "\t<tr><td>     1022</td><td>   99    </td><td>  105    </td><td>  751    </td><td> 1201    </td><td>    0    </td><td>   84    </td><td> 1122    </td><td>   70    </td><td>    8    </td><td> 1848    </td><td> 1653    </td><td> 6986    </td><td>   89    </td><td>10726    </td><td> 1411    </td><td>    37   </td><td>   94    </td><td>   30    </td></tr>\n",
       "\t<tr><td>     2976</td><td> 3727    </td><td> 5802    </td><td> 7555    </td><td>  234    </td><td>    0    </td><td>   38    </td><td>  841    </td><td> 4107    </td><td> 1614    </td><td>   71    </td><td>  197    </td><td> 1082    </td><td>24244    </td><td>  576    </td><td>  553    </td><td>    53   </td><td>    1    </td><td> 2681    </td></tr>\n",
       "\t<tr><td>      388</td><td>   36    </td><td>   71    </td><td> 1082    </td><td> 2018    </td><td>    0    </td><td>    0    </td><td> 7280    </td><td>   38    </td><td>    1    </td><td>   56    </td><td>  156    </td><td> 3239    </td><td>   25    </td><td>22115    </td><td> 3455    </td><td>     0   </td><td>    0    </td><td>    6    </td></tr>\n",
       "\t<tr><td>     1405</td><td>  401    </td><td>  532    </td><td>  982    </td><td>  498    </td><td>    1    </td><td>   49    </td><td>  520    </td><td>  289    </td><td>   37    </td><td>  157    </td><td>  195    </td><td>  613    </td><td>  855    </td><td>  684    </td><td>  411    </td><td>    14   </td><td>    7    </td><td>   89    </td></tr>\n",
       "\t<tr><td>      178</td><td>    0    </td><td>    0    </td><td>    0    </td><td>    0    </td><td>   35    </td><td>24236    </td><td>    0    </td><td>    1    </td><td>    0    </td><td>    5    </td><td>    1    </td><td>    8    </td><td>    0    </td><td>    2    </td><td>    0    </td><td>139778   </td><td>  275    </td><td>    0    </td></tr>\n",
       "\t<tr><td>        0</td><td>   46    </td><td>  237    </td><td> 1074    </td><td> 2526    </td><td>   33    </td><td>  176    </td><td>  454    </td><td>   43    </td><td>    4    </td><td> 1143    </td><td> 1588    </td><td> 5692    </td><td>   44    </td><td> 7194    </td><td> 1173    </td><td>   146   </td><td>  288    </td><td>    5    </td></tr>\n",
       "\t<tr><td>     1646</td><td> 1621    </td><td> 2047    </td><td> 2132    </td><td>   77    </td><td>    0    </td><td>   15    </td><td>  339    </td><td> 2047    </td><td>  747    </td><td>   51    </td><td>   65    </td><td>  414    </td><td> 8964    </td><td>  126    </td><td>  130    </td><td>    10   </td><td>    0    </td><td>  969    </td></tr>\n",
       "\t<tr><td> 28359963</td><td>19795    </td><td>21886    </td><td>25716    </td><td>24569    </td><td> 5546    </td><td>55368    </td><td>39177    </td><td>19848    </td><td>23438    </td><td>10807    </td><td>13142    </td><td>15292    </td><td>43333    </td><td>25630    </td><td>13504    </td><td>207051   </td><td> 9529    </td><td>20880    </td></tr>\n",
       "</tbody>\n",
       "</table>\n"
      ],
      "text/latex": [
       "\\begin{tabular}{lllllllllllllllllll}\n",
       " CAI & Cabatoan & Caridad Cemetery & Caridad Proper & Elementary School & Gabas & Haina & Hicgop South & Magbangon & Palanas & Poroc Rose & Poroc San Flower & San Agustin & Sitio Baybayon & Sitio Lonas & Sitio Tugas & Tamakin Dacot & Visca & Wangag\\\\\n",
       "\\hline\n",
       "\t 127034095 &    26     &     0     &     0     &     0     &     0     &     9     &     0     &    43     &    32     &     0     &     0     &     0     &    15     &     0     &     0     &      3    &     0     &    10    \\\\\n",
       "\t      4423 &  1199     &   990     &  1723     &   219     &     0     &    48     &   922     &   871     &    96     &    69     &   122     &   330     &  1154     &   286     &   333     &     55    &     1     &   290    \\\\\n",
       "\t      4018 &   687     &  2624     &  2767     &   129     &     8     &    12     &   273     &   736     &    66     &    48     &   121     &   446     &   862     &   613     &   322     &      1    &     0     &    77    \\\\\n",
       "\t      3359 &   525     &  1028     &  1634     &    46     &     0     &     8     &   316     &   361     &     4     &    53     &   134     &   540     &   563     &   548     &   279     &      4    &     2     &    48    \\\\\n",
       "\t       483 &   257     &   824     &  1808     &  1827     &     1     &    32     &  4880     &   239     &     1     &   180     &   280     &   745     &   175     &   712     &  2258     &      8    &     1     &     8    \\\\\n",
       "\t        14 &    43     &   119     &   506     &  1747     & 19400     &   155     &   955     &     7     &     2     &   776     &  1181     &  6813     &     4     &  9410     &  1468     &    120    & 10368     &     0    \\\\\n",
       "\t        19 &    10     &    22     &    31     &    17     &     3     &  4158     &    10     &     2     &     0     &     0     &     2     &    63     &    43     &    18     &    16     &   2323    &    56     &     4    \\\\\n",
       "\t      2239 &   681     &  2285     &  4250     &  3638     &    50     &   434     &  5549     &   471     &     8     &   605     &  1052     &  1716     &  1040     &  1971     &  2138     &    245    &    73     &    57    \\\\\n",
       "\t      2832 &   960     &  1826     &  2589     &   140     &     0     &    46     &   805     &   672     &   278     &    41     &    81     &   499     &  2244     &   211     &   233     &     23    &    13     &   725    \\\\\n",
       "\t      3188 &   675     &   613     &   787     &     4     &     0     &     0     &   104     &   803     &   481     &    10     &     1     &    38     &  3136     &     1     &    54     &      0    &     0     &   481    \\\\\n",
       "\t       412 &   152     &   507     &  1098     &  1904     &    11     &   147     &   609     &    41     &    11     &  1361     &  1565     &  5487     &    88     &  7631     &  1262     &     79    &   622     &    14    \\\\\n",
       "\t       123 &   185     &   263     &   983     &  1820     &     3     &   167     &   685     &    70     &    54     &  1675     &  2419     &  9005     &    92     & 11700     &  1670     &     85    &   344     &    34    \\\\\n",
       "\t      1022 &    99     &   105     &   751     &  1201     &     0     &    84     &  1122     &    70     &     8     &  1848     &  1653     &  6986     &    89     & 10726     &  1411     &     37    &    94     &    30    \\\\\n",
       "\t      2976 &  3727     &  5802     &  7555     &   234     &     0     &    38     &   841     &  4107     &  1614     &    71     &   197     &  1082     & 24244     &   576     &   553     &     53    &     1     &  2681    \\\\\n",
       "\t       388 &    36     &    71     &  1082     &  2018     &     0     &     0     &  7280     &    38     &     1     &    56     &   156     &  3239     &    25     & 22115     &  3455     &      0    &     0     &     6    \\\\\n",
       "\t      1405 &   401     &   532     &   982     &   498     &     1     &    49     &   520     &   289     &    37     &   157     &   195     &   613     &   855     &   684     &   411     &     14    &     7     &    89    \\\\\n",
       "\t       178 &     0     &     0     &     0     &     0     &    35     & 24236     &     0     &     1     &     0     &     5     &     1     &     8     &     0     &     2     &     0     & 139778    &   275     &     0    \\\\\n",
       "\t         0 &    46     &   237     &  1074     &  2526     &    33     &   176     &   454     &    43     &     4     &  1143     &  1588     &  5692     &    44     &  7194     &  1173     &    146    &   288     &     5    \\\\\n",
       "\t      1646 &  1621     &  2047     &  2132     &    77     &     0     &    15     &   339     &  2047     &   747     &    51     &    65     &   414     &  8964     &   126     &   130     &     10    &     0     &   969    \\\\\n",
       "\t  28359963 & 19795     & 21886     & 25716     & 24569     &  5546     & 55368     & 39177     & 19848     & 23438     & 10807     & 13142     & 15292     & 43333     & 25630     & 13504     & 207051    &  9529     & 20880    \\\\\n",
       "\\end{tabular}\n"
      ],
      "text/markdown": [
       "\n",
       "| CAI | Cabatoan | Caridad Cemetery | Caridad Proper | Elementary School | Gabas | Haina | Hicgop South | Magbangon | Palanas | Poroc Rose | Poroc San Flower | San Agustin | Sitio Baybayon | Sitio Lonas | Sitio Tugas | Tamakin Dacot | Visca | Wangag |\n",
       "|---|---|---|---|---|---|---|---|---|---|---|---|---|---|---|---|---|---|---|\n",
       "| 127034095 |    26     |     0     |     0     |     0     |     0     |     9     |     0     |    43     |    32     |     0     |     0     |     0     |    15     |     0     |     0     |      3    |     0     |    10     |\n",
       "|      4423 |  1199     |   990     |  1723     |   219     |     0     |    48     |   922     |   871     |    96     |    69     |   122     |   330     |  1154     |   286     |   333     |     55    |     1     |   290     |\n",
       "|      4018 |   687     |  2624     |  2767     |   129     |     8     |    12     |   273     |   736     |    66     |    48     |   121     |   446     |   862     |   613     |   322     |      1    |     0     |    77     |\n",
       "|      3359 |   525     |  1028     |  1634     |    46     |     0     |     8     |   316     |   361     |     4     |    53     |   134     |   540     |   563     |   548     |   279     |      4    |     2     |    48     |\n",
       "|       483 |   257     |   824     |  1808     |  1827     |     1     |    32     |  4880     |   239     |     1     |   180     |   280     |   745     |   175     |   712     |  2258     |      8    |     1     |     8     |\n",
       "|        14 |    43     |   119     |   506     |  1747     | 19400     |   155     |   955     |     7     |     2     |   776     |  1181     |  6813     |     4     |  9410     |  1468     |    120    | 10368     |     0     |\n",
       "|        19 |    10     |    22     |    31     |    17     |     3     |  4158     |    10     |     2     |     0     |     0     |     2     |    63     |    43     |    18     |    16     |   2323    |    56     |     4     |\n",
       "|      2239 |   681     |  2285     |  4250     |  3638     |    50     |   434     |  5549     |   471     |     8     |   605     |  1052     |  1716     |  1040     |  1971     |  2138     |    245    |    73     |    57     |\n",
       "|      2832 |   960     |  1826     |  2589     |   140     |     0     |    46     |   805     |   672     |   278     |    41     |    81     |   499     |  2244     |   211     |   233     |     23    |    13     |   725     |\n",
       "|      3188 |   675     |   613     |   787     |     4     |     0     |     0     |   104     |   803     |   481     |    10     |     1     |    38     |  3136     |     1     |    54     |      0    |     0     |   481     |\n",
       "|       412 |   152     |   507     |  1098     |  1904     |    11     |   147     |   609     |    41     |    11     |  1361     |  1565     |  5487     |    88     |  7631     |  1262     |     79    |   622     |    14     |\n",
       "|       123 |   185     |   263     |   983     |  1820     |     3     |   167     |   685     |    70     |    54     |  1675     |  2419     |  9005     |    92     | 11700     |  1670     |     85    |   344     |    34     |\n",
       "|      1022 |    99     |   105     |   751     |  1201     |     0     |    84     |  1122     |    70     |     8     |  1848     |  1653     |  6986     |    89     | 10726     |  1411     |     37    |    94     |    30     |\n",
       "|      2976 |  3727     |  5802     |  7555     |   234     |     0     |    38     |   841     |  4107     |  1614     |    71     |   197     |  1082     | 24244     |   576     |   553     |     53    |     1     |  2681     |\n",
       "|       388 |    36     |    71     |  1082     |  2018     |     0     |     0     |  7280     |    38     |     1     |    56     |   156     |  3239     |    25     | 22115     |  3455     |      0    |     0     |     6     |\n",
       "|      1405 |   401     |   532     |   982     |   498     |     1     |    49     |   520     |   289     |    37     |   157     |   195     |   613     |   855     |   684     |   411     |     14    |     7     |    89     |\n",
       "|       178 |     0     |     0     |     0     |     0     |    35     | 24236     |     0     |     1     |     0     |     5     |     1     |     8     |     0     |     2     |     0     | 139778    |   275     |     0     |\n",
       "|         0 |    46     |   237     |  1074     |  2526     |    33     |   176     |   454     |    43     |     4     |  1143     |  1588     |  5692     |    44     |  7194     |  1173     |    146    |   288     |     5     |\n",
       "|      1646 |  1621     |  2047     |  2132     |    77     |     0     |    15     |   339     |  2047     |   747     |    51     |    65     |   414     |  8964     |   126     |   130     |     10    |     0     |   969     |\n",
       "|  28359963 | 19795     | 21886     | 25716     | 24569     |  5546     | 55368     | 39177     | 19848     | 23438     | 10807     | 13142     | 15292     | 43333     | 25630     | 13504     | 207051    |  9529     | 20880     |\n",
       "\n"
      ],
      "text/plain": [
       "      CAI       Cabatoan Caridad Cemetery Caridad Proper Elementary School\n",
       " [1,] 127034095    26        0                0              0            \n",
       " [2,]      4423  1199      990             1723            219            \n",
       " [3,]      4018   687     2624             2767            129            \n",
       " [4,]      3359   525     1028             1634             46            \n",
       " [5,]       483   257      824             1808           1827            \n",
       " [6,]        14    43      119              506           1747            \n",
       " [7,]        19    10       22               31             17            \n",
       " [8,]      2239   681     2285             4250           3638            \n",
       " [9,]      2832   960     1826             2589            140            \n",
       "[10,]      3188   675      613              787              4            \n",
       "[11,]       412   152      507             1098           1904            \n",
       "[12,]       123   185      263              983           1820            \n",
       "[13,]      1022    99      105              751           1201            \n",
       "[14,]      2976  3727     5802             7555            234            \n",
       "[15,]       388    36       71             1082           2018            \n",
       "[16,]      1405   401      532              982            498            \n",
       "[17,]       178     0        0                0              0            \n",
       "[18,]         0    46      237             1074           2526            \n",
       "[19,]      1646  1621     2047             2132             77            \n",
       "[20,]  28359963 19795    21886            25716          24569            \n",
       "      Gabas Haina Hicgop South Magbangon Palanas Poroc Rose Poroc San Flower\n",
       " [1,]     0     9     0           43        32       0          0           \n",
       " [2,]     0    48   922          871        96      69        122           \n",
       " [3,]     8    12   273          736        66      48        121           \n",
       " [4,]     0     8   316          361         4      53        134           \n",
       " [5,]     1    32  4880          239         1     180        280           \n",
       " [6,] 19400   155   955            7         2     776       1181           \n",
       " [7,]     3  4158    10            2         0       0          2           \n",
       " [8,]    50   434  5549          471         8     605       1052           \n",
       " [9,]     0    46   805          672       278      41         81           \n",
       "[10,]     0     0   104          803       481      10          1           \n",
       "[11,]    11   147   609           41        11    1361       1565           \n",
       "[12,]     3   167   685           70        54    1675       2419           \n",
       "[13,]     0    84  1122           70         8    1848       1653           \n",
       "[14,]     0    38   841         4107      1614      71        197           \n",
       "[15,]     0     0  7280           38         1      56        156           \n",
       "[16,]     1    49   520          289        37     157        195           \n",
       "[17,]    35 24236     0            1         0       5          1           \n",
       "[18,]    33   176   454           43         4    1143       1588           \n",
       "[19,]     0    15   339         2047       747      51         65           \n",
       "[20,]  5546 55368 39177        19848     23438   10807      13142           \n",
       "      San Agustin Sitio Baybayon Sitio Lonas Sitio Tugas Tamakin Dacot Visca\n",
       " [1,]     0          15              0           0            3            0\n",
       " [2,]   330        1154            286         333           55            1\n",
       " [3,]   446         862            613         322            1            0\n",
       " [4,]   540         563            548         279            4            2\n",
       " [5,]   745         175            712        2258            8            1\n",
       " [6,]  6813           4           9410        1468          120        10368\n",
       " [7,]    63          43             18          16         2323           56\n",
       " [8,]  1716        1040           1971        2138          245           73\n",
       " [9,]   499        2244            211         233           23           13\n",
       "[10,]    38        3136              1          54            0            0\n",
       "[11,]  5487          88           7631        1262           79          622\n",
       "[12,]  9005          92          11700        1670           85          344\n",
       "[13,]  6986          89          10726        1411           37           94\n",
       "[14,]  1082       24244            576         553           53            1\n",
       "[15,]  3239          25          22115        3455            0            0\n",
       "[16,]   613         855            684         411           14            7\n",
       "[17,]     8           0              2           0       139778          275\n",
       "[18,]  5692          44           7194        1173          146          288\n",
       "[19,]   414        8964            126         130           10            0\n",
       "[20,] 15292       43333          25630       13504       207051         9529\n",
       "      Wangag\n",
       " [1,]    10 \n",
       " [2,]   290 \n",
       " [3,]    77 \n",
       " [4,]    48 \n",
       " [5,]     8 \n",
       " [6,]     0 \n",
       " [7,]     4 \n",
       " [8,]    57 \n",
       " [9,]   725 \n",
       "[10,]   481 \n",
       "[11,]    14 \n",
       "[12,]    34 \n",
       "[13,]    30 \n",
       "[14,]  2681 \n",
       "[15,]     6 \n",
       "[16,]    89 \n",
       "[17,]     0 \n",
       "[18,]     5 \n",
       "[19,]   969 \n",
       "[20,] 20880 "
      ]
     },
     "metadata": {},
     "output_type": "display_data"
    }
   ],
   "source": [
    "FullBiophysMat"
   ]
  },
  {
   "cell_type": "code",
   "execution_count": 4,
   "metadata": {
    "collapsed": true
   },
   "outputs": [
    {
     "data": {
      "text/html": [
       "<ol class=list-inline>\n",
       "\t<li>20</li>\n",
       "\t<li>19</li>\n",
       "</ol>\n"
      ],
      "text/latex": [
       "\\begin{enumerate*}\n",
       "\\item 20\n",
       "\\item 19\n",
       "\\end{enumerate*}\n"
      ],
      "text/markdown": [
       "1. 20\n",
       "2. 19\n",
       "\n",
       "\n"
      ],
      "text/plain": [
       "[1] 20 19"
      ]
     },
     "metadata": {},
     "output_type": "display_data"
    }
   ],
   "source": [
    "#make a full SOURCE normalized parentage matrix for the whole biophysical results\n",
    "#make a parentage matrix for the whole biophysical results\n",
    "FullBiophysMatNorm <- as.matrix(rbind(dcast(SimConn[source != \"Other\", .(source, dest, total_source_normalized_recruitment)][ #for assigned particles (not from \"Other\") keep the source/dest columns that will be expanded into wide form to become the connectivity matrix. Filtering for time period etc can be done in i here.\n",
    "    order(source, dest)] #keep sites in alphabetical order so the matrix is correctly formatted!\n",
    "        , source ~ dest, value.var=\"total_source_normalized_recruitment\", fun.aggregate = sum)[#use sum to count the matches for each id variable combo, that populated the cells of the matrix\n",
    "    ,-\"source\"], #remove the source column after casting\n",
    "      dcast(SimConn[source == \"Other\" , .(source, dest, total_source_normalized_recruitment)][ #this is to cast the \"unassigned row for the model parentage, which is anyting from \"Other\"\n",
    "          order(source, dest)][, source := \"unknown\"], source ~ dest, value.var=\"total_source_normalized_recruitment\", fun.aggregate = sum)[,-\"source\"]))#bind these two cast wide form data tables (assigned and unassigned particles) and then turn into a matrix to be used in the likelihood functions\n",
    "dim(FullBiophysMatNorm )"
   ]
  },
  {
   "cell_type": "code",
   "execution_count": 7,
   "metadata": {},
   "outputs": [
    {
     "data": {
      "text/plain": [
       "    Min.  1st Qu.   Median     Mean  3rd Qu.     Max. \n",
       "0.000004 0.688680 0.689049 0.584106 0.689936 0.778888 "
      ]
     },
     "metadata": {},
     "output_type": "display_data"
    }
   ],
   "source": [
    "summary(SimConn$total_source_normalized_recruitment) #nothing should be above one"
   ]
  },
  {
   "cell_type": "code",
   "execution_count": null,
   "metadata": {},
   "outputs": [],
   "source": [
    "#next test likelihood function and kernel fitting with this matrix"
   ]
  },
  {
   "cell_type": "code",
   "execution_count": 10,
   "metadata": {},
   "outputs": [
    {
     "data": {
      "text/html": [
       "<table>\n",
       "<thead><tr><th scope=col>CAI</th><th scope=col>Cabatoan</th><th scope=col>Caridad Cemetery</th><th scope=col>Caridad Proper</th><th scope=col>Elementary School</th><th scope=col>Gabas</th><th scope=col>Haina</th><th scope=col>Hicgop South</th><th scope=col>Magbangon</th><th scope=col>Palanas</th><th scope=col>Poroc Rose</th><th scope=col>Poroc San Flower</th><th scope=col>San Agustin</th><th scope=col>Sitio Baybayon</th><th scope=col>Sitio Lonas</th><th scope=col>Sitio Tugas</th><th scope=col>Tamakin Dacot</th><th scope=col>Visca</th><th scope=col>Wangag</th></tr></thead>\n",
       "<tbody>\n",
       "\t<tr><td>9.067923e+07</td><td>5.748802e-04</td><td>  0.0000000 </td><td>  0.0000000 </td><td>0.000000e+00</td><td>0.000000e+00</td><td>2.631494e-04</td><td>  0.00000000</td><td>2.667930e-03</td><td> 0.002242842</td><td> 0.00000000 </td><td>0.000000e+00</td><td>  0.00000000</td><td>1.416958e-04</td><td>0.000000e+00</td><td>  0.00000000</td><td>2.024226e-05</td><td>0.000000e+00</td><td>8.096904e-05</td></tr>\n",
       "\t<tr><td>1.386648e+03</td><td>6.791633e+01</td><td> 28.4314516 </td><td> 69.0675403 </td><td>1.439214e+01</td><td>0.000000e+00</td><td>4.758065e-01</td><td>126.36088710</td><td>8.965423e+01</td><td> 0.804435484</td><td> 0.69455645 </td><td>3.754032e+00</td><td>  9.87298387</td><td>5.150605e+01</td><td>1.107258e+01</td><td> 10.54737903</td><td>9.425403e-01</td><td>1.008065e-03</td><td>6.052419e+00</td></tr>\n",
       "\t<tr><td>1.562052e+03</td><td>2.320060e+01</td><td>273.5504032 </td><td>143.6905242 </td><td>9.183468e-01</td><td>3.830645e-02</td><td>5.846774e-02</td><td>  2.79737903</td><td>3.379637e+01</td><td> 1.030241935</td><td> 0.14919355 </td><td>1.248992e+00</td><td> 11.31048387</td><td>2.733266e+01</td><td>3.151512e+01</td><td>  9.50201613</td><td>1.008065e-03</td><td>0.000000e+00</td><td>7.187500e-01</td></tr>\n",
       "\t<tr><td>1.009007e+03</td><td>2.019052e+01</td><td> 81.9979839 </td><td> 68.2338710 </td><td>2.177419e-01</td><td>0.000000e+00</td><td>2.217742e-02</td><td>  2.57056452</td><td>7.994960e+00</td><td> 0.006048387</td><td> 0.19455645 </td><td>1.516129e+00</td><td> 20.80443548</td><td>1.313206e+01</td><td>2.350806e+01</td><td>  5.42036290</td><td>1.008065e-02</td><td>2.016129e-03</td><td>3.165323e-01</td></tr>\n",
       "\t<tr><td>1.262349e+02</td><td>6.668347e+00</td><td> 50.9455645 </td><td> 67.0745968 </td><td>9.154536e+01</td><td>1.008065e-03</td><td>1.471774e-01</td><td>191.13911290</td><td>1.756956e+01</td><td> 0.001008065</td><td> 1.55443548 </td><td>4.651210e+00</td><td> 13.73689516</td><td>3.386089e+00</td><td>3.487097e+01</td><td> 80.77822581</td><td>2.620968e-02</td><td>1.008065e-03</td><td>1.612903e-02</td></tr>\n",
       "\t<tr><td>1.975806e-01</td><td>7.872984e-01</td><td>  4.1844758 </td><td> 30.5705645 </td><td>9.942641e+01</td><td>3.874252e+03</td><td>1.684476e+00</td><td> 38.17641129</td><td>2.721774e-02</td><td> 0.004032258</td><td>24.76008065 </td><td>3.112601e+01</td><td>456.66633065</td><td>8.064516e-03</td><td>1.276996e+03</td><td> 70.49596774</td><td>1.727823e+00</td><td>9.468972e+02</td><td>0.000000e+00</td></tr>\n",
       "\t<tr><td>7.106855e-02</td><td>3.427419e-02</td><td>  0.2227823 </td><td>  0.3049395 </td><td>6.905242e-02</td><td>2.520161e-03</td><td>1.326290e+02</td><td>  0.02620968</td><td>2.016129e-03</td><td> 0.000000000</td><td> 0.00000000 </td><td>2.016129e-03</td><td>  0.60735887</td><td>9.319556e-01</td><td>6.350806e-02</td><td>  0.03024194</td><td>5.442188e+01</td><td>1.360887e-01</td><td>8.064516e-03</td></tr>\n",
       "\t<tr><td>3.390489e+02</td><td>9.933972e+00</td><td> 70.1517137 </td><td>145.3387097 </td><td>3.975423e+02</td><td>1.381048e-01</td><td>7.210685e+00</td><td>142.39969758</td><td>5.129536e+00</td><td> 0.011088710</td><td> 2.98840726 </td><td>8.670363e+00</td><td> 15.91129032</td><td>4.160383e+01</td><td>2.746724e+01</td><td> 33.17540323</td><td>1.151714e+00</td><td>2.444556e-01</td><td>3.714718e-01</td></tr>\n",
       "\t<tr><td>8.351956e+02</td><td>2.285282e+01</td><td> 62.6633065 </td><td>167.8457661 </td><td>2.372984e+00</td><td>0.000000e+00</td><td>1.213710e+00</td><td> 40.10383065</td><td>1.307460e+01</td><td> 4.385080645</td><td> 0.14818548 </td><td>7.933468e-01</td><td> 42.37600806</td><td>1.074617e+02</td><td>9.932460e+00</td><td>  4.69052419</td><td>2.268145e-01</td><td>4.737903e-02</td><td>2.570867e+01</td></tr>\n",
       "\t<tr><td>1.311524e+03</td><td>5.896673e+01</td><td> 20.0675403 </td><td> 50.6804435 </td><td>6.048387e-03</td><td>0.000000e+00</td><td>0.000000e+00</td><td>  1.95161290</td><td>5.836190e+01</td><td>30.226814516</td><td> 0.03629032 </td><td>1.008065e-03</td><td>  0.50000000</td><td>3.721129e+02</td><td>1.008065e-03</td><td>  0.76814516</td><td>0.000000e+00</td><td>0.000000e+00</td><td>1.719456e+01</td></tr>\n",
       "\t<tr><td>9.787903e+01</td><td>3.858871e+00</td><td> 36.8175403 </td><td> 45.8185484 </td><td>8.366331e+01</td><td>3.931452e-02</td><td>2.323589e+00</td><td> 11.09778226</td><td>2.792339e-01</td><td> 0.085685484</td><td>42.86995968 </td><td>5.254335e+01</td><td>377.49495968</td><td>1.308468e+00</td><td>7.479365e+02</td><td> 43.75806452</td><td>1.329637e+00</td><td>2.827218e+01</td><td>1.088710e-01</td></tr>\n",
       "\t<tr><td>1.525101e+01</td><td>1.322883e+01</td><td>  4.0836694 </td><td> 32.9707661 </td><td>4.498790e+01</td><td>9.072581e-03</td><td>2.690524e+00</td><td> 10.50907258</td><td>1.727823e+00</td><td> 1.683467742</td><td>31.62197581 </td><td>1.031764e+02</td><td>619.15625000</td><td>2.189516e+00</td><td>1.079002e+03</td><td> 43.21370968</td><td>7.308468e-01</td><td>8.088710e+00</td><td>7.721774e-01</td></tr>\n",
       "\t<tr><td>5.663649e+02</td><td>1.793347e+00</td><td>  0.7711694 </td><td> 19.7086694 </td><td>3.365625e+01</td><td>0.000000e+00</td><td>9.173387e-01</td><td> 13.86290323</td><td>6.572581e-01</td><td> 0.026209677</td><td>42.21572581 </td><td>4.125302e+01</td><td>370.67338710</td><td>1.799395e+00</td><td>7.716371e+02</td><td> 29.68447581</td><td>2.469758e-01</td><td>1.576613e+00</td><td>4.697581e-01</td></tr>\n",
       "\t<tr><td>3.258276e+02</td><td>2.171749e+02</td><td>190.4758065 </td><td>319.5015121 </td><td>1.089819e+01</td><td>0.000000e+00</td><td>1.683468e-01</td><td> 20.49647177</td><td>2.175055e+02</td><td>26.932459677</td><td> 0.25252016 </td><td>3.018649e+00</td><td> 57.79233871</td><td>3.140114e+03</td><td>2.445060e+01</td><td> 15.72127016</td><td>6.557460e-01</td><td>5.040323e-04</td><td>6.171925e+01</td></tr>\n",
       "\t<tr><td>6.910484e+01</td><td>3.326613e-01</td><td>  0.9102823 </td><td> 52.6633065 </td><td>9.624194e+01</td><td>0.000000e+00</td><td>0.000000e+00</td><td>322.26411290</td><td>3.548387e-01</td><td> 0.001008065</td><td> 0.23790323 </td><td>2.034274e+00</td><td>419.05745968</td><td>2.348790e-01</td><td>4.262223e+03</td><td>160.09778226</td><td>0.000000e+00</td><td>0.000000e+00</td><td>1.814516e-02</td></tr>\n",
       "\t<tr><td>7.375534e+02</td><td>9.738911e+00</td><td> 22.0625000 </td><td> 39.9052419 </td><td>1.189718e+01</td><td>1.008065e-03</td><td>3.135081e-01</td><td>  9.03427419</td><td>7.626008e+00</td><td> 0.559475806</td><td> 1.08971774 </td><td>1.716734e+00</td><td> 13.36995968</td><td>5.356149e+01</td><td>2.721371e+01</td><td>  4.66229839</td><td>3.427419e-02</td><td>1.915323e-02</td><td>1.206653e+00</td></tr>\n",
       "\t<tr><td>2.452621e+01</td><td>0.000000e+00</td><td>  0.0000000 </td><td>  0.0000000 </td><td>0.000000e+00</td><td>5.816532e-01</td><td>4.667609e+03</td><td>  0.00000000</td><td>1.008065e-03</td><td> 0.000000000</td><td> 0.01713710 </td><td>1.008065e-03</td><td>  0.01814516</td><td>0.000000e+00</td><td>4.032258e-03</td><td>  0.00000000</td><td>8.041780e+04</td><td>1.983165e+01</td><td>0.000000e+00</td></tr>\n",
       "\t<tr><td>0.000000e+00</td><td>5.645161e-01</td><td>  6.9465726 </td><td> 82.1149194 </td><td>4.357379e+02</td><td>3.538306e-01</td><td>1.715726e+00</td><td>  6.54637097</td><td>7.046371e-01</td><td> 0.008064516</td><td>71.43649194 </td><td>4.913911e+01</td><td>312.77419355</td><td>7.479839e-01</td><td>6.891976e+02</td><td> 25.45665323</td><td>1.725806e+00</td><td>4.596774e+00</td><td>1.713710e-02</td></tr>\n",
       "\t<tr><td>3.386754e+02</td><td>6.789012e+01</td><td> 84.7832661 </td><td>108.0524194 </td><td>1.851815e+00</td><td>0.000000e+00</td><td>5.342742e-02</td><td> 27.15020161</td><td>1.703821e+02</td><td>32.930443548</td><td> 0.39012097 </td><td>1.704637e+00</td><td> 37.74193548</td><td>1.309325e+03</td><td>2.393145e+00</td><td>  3.71572581</td><td>8.266129e-02</td><td>0.000000e+00</td><td>3.900101e+01</td></tr>\n",
       "\t<tr><td>6.374208e+05</td><td>5.388647e-01</td><td>  1.1377620 </td><td>  1.4798089 </td><td>3.712632e+00</td><td>4.552303e-01</td><td>3.483019e+00</td><td>  4.64061122</td><td>6.654795e-01</td><td> 0.971443360</td><td> 1.36177132 </td><td>1.744497e+00</td><td>  0.52969633</td><td>3.196768e+00</td><td>2.896592e+00</td><td>  0.35793049</td><td>2.807836e+01</td><td>1.069839e+00</td><td>6.316714e-01</td></tr>\n",
       "</tbody>\n",
       "</table>\n"
      ],
      "text/latex": [
       "\\begin{tabular}{lllllllllllllllllll}\n",
       " CAI & Cabatoan & Caridad Cemetery & Caridad Proper & Elementary School & Gabas & Haina & Hicgop South & Magbangon & Palanas & Poroc Rose & Poroc San Flower & San Agustin & Sitio Baybayon & Sitio Lonas & Sitio Tugas & Tamakin Dacot & Visca & Wangag\\\\\n",
       "\\hline\n",
       "\t 9.067923e+07 & 5.748802e-04 &   0.0000000  &   0.0000000  & 0.000000e+00 & 0.000000e+00 & 2.631494e-04 &   0.00000000 & 2.667930e-03 &  0.002242842 &  0.00000000  & 0.000000e+00 &   0.00000000 & 1.416958e-04 & 0.000000e+00 &   0.00000000 & 2.024226e-05 & 0.000000e+00 & 8.096904e-05\\\\\n",
       "\t 1.386648e+03 & 6.791633e+01 &  28.4314516  &  69.0675403  & 1.439214e+01 & 0.000000e+00 & 4.758065e-01 & 126.36088710 & 8.965423e+01 &  0.804435484 &  0.69455645  & 3.754032e+00 &   9.87298387 & 5.150605e+01 & 1.107258e+01 &  10.54737903 & 9.425403e-01 & 1.008065e-03 & 6.052419e+00\\\\\n",
       "\t 1.562052e+03 & 2.320060e+01 & 273.5504032  & 143.6905242  & 9.183468e-01 & 3.830645e-02 & 5.846774e-02 &   2.79737903 & 3.379637e+01 &  1.030241935 &  0.14919355  & 1.248992e+00 &  11.31048387 & 2.733266e+01 & 3.151512e+01 &   9.50201613 & 1.008065e-03 & 0.000000e+00 & 7.187500e-01\\\\\n",
       "\t 1.009007e+03 & 2.019052e+01 &  81.9979839  &  68.2338710  & 2.177419e-01 & 0.000000e+00 & 2.217742e-02 &   2.57056452 & 7.994960e+00 &  0.006048387 &  0.19455645  & 1.516129e+00 &  20.80443548 & 1.313206e+01 & 2.350806e+01 &   5.42036290 & 1.008065e-02 & 2.016129e-03 & 3.165323e-01\\\\\n",
       "\t 1.262349e+02 & 6.668347e+00 &  50.9455645  &  67.0745968  & 9.154536e+01 & 1.008065e-03 & 1.471774e-01 & 191.13911290 & 1.756956e+01 &  0.001008065 &  1.55443548  & 4.651210e+00 &  13.73689516 & 3.386089e+00 & 3.487097e+01 &  80.77822581 & 2.620968e-02 & 1.008065e-03 & 1.612903e-02\\\\\n",
       "\t 1.975806e-01 & 7.872984e-01 &   4.1844758  &  30.5705645  & 9.942641e+01 & 3.874252e+03 & 1.684476e+00 &  38.17641129 & 2.721774e-02 &  0.004032258 & 24.76008065  & 3.112601e+01 & 456.66633065 & 8.064516e-03 & 1.276996e+03 &  70.49596774 & 1.727823e+00 & 9.468972e+02 & 0.000000e+00\\\\\n",
       "\t 7.106855e-02 & 3.427419e-02 &   0.2227823  &   0.3049395  & 6.905242e-02 & 2.520161e-03 & 1.326290e+02 &   0.02620968 & 2.016129e-03 &  0.000000000 &  0.00000000  & 2.016129e-03 &   0.60735887 & 9.319556e-01 & 6.350806e-02 &   0.03024194 & 5.442188e+01 & 1.360887e-01 & 8.064516e-03\\\\\n",
       "\t 3.390489e+02 & 9.933972e+00 &  70.1517137  & 145.3387097  & 3.975423e+02 & 1.381048e-01 & 7.210685e+00 & 142.39969758 & 5.129536e+00 &  0.011088710 &  2.98840726  & 8.670363e+00 &  15.91129032 & 4.160383e+01 & 2.746724e+01 &  33.17540323 & 1.151714e+00 & 2.444556e-01 & 3.714718e-01\\\\\n",
       "\t 8.351956e+02 & 2.285282e+01 &  62.6633065  & 167.8457661  & 2.372984e+00 & 0.000000e+00 & 1.213710e+00 &  40.10383065 & 1.307460e+01 &  4.385080645 &  0.14818548  & 7.933468e-01 &  42.37600806 & 1.074617e+02 & 9.932460e+00 &   4.69052419 & 2.268145e-01 & 4.737903e-02 & 2.570867e+01\\\\\n",
       "\t 1.311524e+03 & 5.896673e+01 &  20.0675403  &  50.6804435  & 6.048387e-03 & 0.000000e+00 & 0.000000e+00 &   1.95161290 & 5.836190e+01 & 30.226814516 &  0.03629032  & 1.008065e-03 &   0.50000000 & 3.721129e+02 & 1.008065e-03 &   0.76814516 & 0.000000e+00 & 0.000000e+00 & 1.719456e+01\\\\\n",
       "\t 9.787903e+01 & 3.858871e+00 &  36.8175403  &  45.8185484  & 8.366331e+01 & 3.931452e-02 & 2.323589e+00 &  11.09778226 & 2.792339e-01 &  0.085685484 & 42.86995968  & 5.254335e+01 & 377.49495968 & 1.308468e+00 & 7.479365e+02 &  43.75806452 & 1.329637e+00 & 2.827218e+01 & 1.088710e-01\\\\\n",
       "\t 1.525101e+01 & 1.322883e+01 &   4.0836694  &  32.9707661  & 4.498790e+01 & 9.072581e-03 & 2.690524e+00 &  10.50907258 & 1.727823e+00 &  1.683467742 & 31.62197581  & 1.031764e+02 & 619.15625000 & 2.189516e+00 & 1.079002e+03 &  43.21370968 & 7.308468e-01 & 8.088710e+00 & 7.721774e-01\\\\\n",
       "\t 5.663649e+02 & 1.793347e+00 &   0.7711694  &  19.7086694  & 3.365625e+01 & 0.000000e+00 & 9.173387e-01 &  13.86290323 & 6.572581e-01 &  0.026209677 & 42.21572581  & 4.125302e+01 & 370.67338710 & 1.799395e+00 & 7.716371e+02 &  29.68447581 & 2.469758e-01 & 1.576613e+00 & 4.697581e-01\\\\\n",
       "\t 3.258276e+02 & 2.171749e+02 & 190.4758065  & 319.5015121  & 1.089819e+01 & 0.000000e+00 & 1.683468e-01 &  20.49647177 & 2.175055e+02 & 26.932459677 &  0.25252016  & 3.018649e+00 &  57.79233871 & 3.140114e+03 & 2.445060e+01 &  15.72127016 & 6.557460e-01 & 5.040323e-04 & 6.171925e+01\\\\\n",
       "\t 6.910484e+01 & 3.326613e-01 &   0.9102823  &  52.6633065  & 9.624194e+01 & 0.000000e+00 & 0.000000e+00 & 322.26411290 & 3.548387e-01 &  0.001008065 &  0.23790323  & 2.034274e+00 & 419.05745968 & 2.348790e-01 & 4.262223e+03 & 160.09778226 & 0.000000e+00 & 0.000000e+00 & 1.814516e-02\\\\\n",
       "\t 7.375534e+02 & 9.738911e+00 &  22.0625000  &  39.9052419  & 1.189718e+01 & 1.008065e-03 & 3.135081e-01 &   9.03427419 & 7.626008e+00 &  0.559475806 &  1.08971774  & 1.716734e+00 &  13.36995968 & 5.356149e+01 & 2.721371e+01 &   4.66229839 & 3.427419e-02 & 1.915323e-02 & 1.206653e+00\\\\\n",
       "\t 2.452621e+01 & 0.000000e+00 &   0.0000000  &   0.0000000  & 0.000000e+00 & 5.816532e-01 & 4.667609e+03 &   0.00000000 & 1.008065e-03 &  0.000000000 &  0.01713710  & 1.008065e-03 &   0.01814516 & 0.000000e+00 & 4.032258e-03 &   0.00000000 & 8.041780e+04 & 1.983165e+01 & 0.000000e+00\\\\\n",
       "\t 0.000000e+00 & 5.645161e-01 &   6.9465726  &  82.1149194  & 4.357379e+02 & 3.538306e-01 & 1.715726e+00 &   6.54637097 & 7.046371e-01 &  0.008064516 & 71.43649194  & 4.913911e+01 & 312.77419355 & 7.479839e-01 & 6.891976e+02 &  25.45665323 & 1.725806e+00 & 4.596774e+00 & 1.713710e-02\\\\\n",
       "\t 3.386754e+02 & 6.789012e+01 &  84.7832661  & 108.0524194  & 1.851815e+00 & 0.000000e+00 & 5.342742e-02 &  27.15020161 & 1.703821e+02 & 32.930443548 &  0.39012097  & 1.704637e+00 &  37.74193548 & 1.309325e+03 & 2.393145e+00 &   3.71572581 & 8.266129e-02 & 0.000000e+00 & 3.900101e+01\\\\\n",
       "\t 6.374208e+05 & 5.388647e-01 &   1.1377620  &   1.4798089  & 3.712632e+00 & 4.552303e-01 & 3.483019e+00 &   4.64061122 & 6.654795e-01 &  0.971443360 &  1.36177132  & 1.744497e+00 &   0.52969633 & 3.196768e+00 & 2.896592e+00 &   0.35793049 & 2.807836e+01 & 1.069839e+00 & 6.316714e-01\\\\\n",
       "\\end{tabular}\n"
      ],
      "text/markdown": [
       "\n",
       "| CAI | Cabatoan | Caridad Cemetery | Caridad Proper | Elementary School | Gabas | Haina | Hicgop South | Magbangon | Palanas | Poroc Rose | Poroc San Flower | San Agustin | Sitio Baybayon | Sitio Lonas | Sitio Tugas | Tamakin Dacot | Visca | Wangag |\n",
       "|---|---|---|---|---|---|---|---|---|---|---|---|---|---|---|---|---|---|---|\n",
       "| 9.067923e+07 | 5.748802e-04 |   0.0000000  |   0.0000000  | 0.000000e+00 | 0.000000e+00 | 2.631494e-04 |   0.00000000 | 2.667930e-03 |  0.002242842 |  0.00000000  | 0.000000e+00 |   0.00000000 | 1.416958e-04 | 0.000000e+00 |   0.00000000 | 2.024226e-05 | 0.000000e+00 | 8.096904e-05 |\n",
       "| 1.386648e+03 | 6.791633e+01 |  28.4314516  |  69.0675403  | 1.439214e+01 | 0.000000e+00 | 4.758065e-01 | 126.36088710 | 8.965423e+01 |  0.804435484 |  0.69455645  | 3.754032e+00 |   9.87298387 | 5.150605e+01 | 1.107258e+01 |  10.54737903 | 9.425403e-01 | 1.008065e-03 | 6.052419e+00 |\n",
       "| 1.562052e+03 | 2.320060e+01 | 273.5504032  | 143.6905242  | 9.183468e-01 | 3.830645e-02 | 5.846774e-02 |   2.79737903 | 3.379637e+01 |  1.030241935 |  0.14919355  | 1.248992e+00 |  11.31048387 | 2.733266e+01 | 3.151512e+01 |   9.50201613 | 1.008065e-03 | 0.000000e+00 | 7.187500e-01 |\n",
       "| 1.009007e+03 | 2.019052e+01 |  81.9979839  |  68.2338710  | 2.177419e-01 | 0.000000e+00 | 2.217742e-02 |   2.57056452 | 7.994960e+00 |  0.006048387 |  0.19455645  | 1.516129e+00 |  20.80443548 | 1.313206e+01 | 2.350806e+01 |   5.42036290 | 1.008065e-02 | 2.016129e-03 | 3.165323e-01 |\n",
       "| 1.262349e+02 | 6.668347e+00 |  50.9455645  |  67.0745968  | 9.154536e+01 | 1.008065e-03 | 1.471774e-01 | 191.13911290 | 1.756956e+01 |  0.001008065 |  1.55443548  | 4.651210e+00 |  13.73689516 | 3.386089e+00 | 3.487097e+01 |  80.77822581 | 2.620968e-02 | 1.008065e-03 | 1.612903e-02 |\n",
       "| 1.975806e-01 | 7.872984e-01 |   4.1844758  |  30.5705645  | 9.942641e+01 | 3.874252e+03 | 1.684476e+00 |  38.17641129 | 2.721774e-02 |  0.004032258 | 24.76008065  | 3.112601e+01 | 456.66633065 | 8.064516e-03 | 1.276996e+03 |  70.49596774 | 1.727823e+00 | 9.468972e+02 | 0.000000e+00 |\n",
       "| 7.106855e-02 | 3.427419e-02 |   0.2227823  |   0.3049395  | 6.905242e-02 | 2.520161e-03 | 1.326290e+02 |   0.02620968 | 2.016129e-03 |  0.000000000 |  0.00000000  | 2.016129e-03 |   0.60735887 | 9.319556e-01 | 6.350806e-02 |   0.03024194 | 5.442188e+01 | 1.360887e-01 | 8.064516e-03 |\n",
       "| 3.390489e+02 | 9.933972e+00 |  70.1517137  | 145.3387097  | 3.975423e+02 | 1.381048e-01 | 7.210685e+00 | 142.39969758 | 5.129536e+00 |  0.011088710 |  2.98840726  | 8.670363e+00 |  15.91129032 | 4.160383e+01 | 2.746724e+01 |  33.17540323 | 1.151714e+00 | 2.444556e-01 | 3.714718e-01 |\n",
       "| 8.351956e+02 | 2.285282e+01 |  62.6633065  | 167.8457661  | 2.372984e+00 | 0.000000e+00 | 1.213710e+00 |  40.10383065 | 1.307460e+01 |  4.385080645 |  0.14818548  | 7.933468e-01 |  42.37600806 | 1.074617e+02 | 9.932460e+00 |   4.69052419 | 2.268145e-01 | 4.737903e-02 | 2.570867e+01 |\n",
       "| 1.311524e+03 | 5.896673e+01 |  20.0675403  |  50.6804435  | 6.048387e-03 | 0.000000e+00 | 0.000000e+00 |   1.95161290 | 5.836190e+01 | 30.226814516 |  0.03629032  | 1.008065e-03 |   0.50000000 | 3.721129e+02 | 1.008065e-03 |   0.76814516 | 0.000000e+00 | 0.000000e+00 | 1.719456e+01 |\n",
       "| 9.787903e+01 | 3.858871e+00 |  36.8175403  |  45.8185484  | 8.366331e+01 | 3.931452e-02 | 2.323589e+00 |  11.09778226 | 2.792339e-01 |  0.085685484 | 42.86995968  | 5.254335e+01 | 377.49495968 | 1.308468e+00 | 7.479365e+02 |  43.75806452 | 1.329637e+00 | 2.827218e+01 | 1.088710e-01 |\n",
       "| 1.525101e+01 | 1.322883e+01 |   4.0836694  |  32.9707661  | 4.498790e+01 | 9.072581e-03 | 2.690524e+00 |  10.50907258 | 1.727823e+00 |  1.683467742 | 31.62197581  | 1.031764e+02 | 619.15625000 | 2.189516e+00 | 1.079002e+03 |  43.21370968 | 7.308468e-01 | 8.088710e+00 | 7.721774e-01 |\n",
       "| 5.663649e+02 | 1.793347e+00 |   0.7711694  |  19.7086694  | 3.365625e+01 | 0.000000e+00 | 9.173387e-01 |  13.86290323 | 6.572581e-01 |  0.026209677 | 42.21572581  | 4.125302e+01 | 370.67338710 | 1.799395e+00 | 7.716371e+02 |  29.68447581 | 2.469758e-01 | 1.576613e+00 | 4.697581e-01 |\n",
       "| 3.258276e+02 | 2.171749e+02 | 190.4758065  | 319.5015121  | 1.089819e+01 | 0.000000e+00 | 1.683468e-01 |  20.49647177 | 2.175055e+02 | 26.932459677 |  0.25252016  | 3.018649e+00 |  57.79233871 | 3.140114e+03 | 2.445060e+01 |  15.72127016 | 6.557460e-01 | 5.040323e-04 | 6.171925e+01 |\n",
       "| 6.910484e+01 | 3.326613e-01 |   0.9102823  |  52.6633065  | 9.624194e+01 | 0.000000e+00 | 0.000000e+00 | 322.26411290 | 3.548387e-01 |  0.001008065 |  0.23790323  | 2.034274e+00 | 419.05745968 | 2.348790e-01 | 4.262223e+03 | 160.09778226 | 0.000000e+00 | 0.000000e+00 | 1.814516e-02 |\n",
       "| 7.375534e+02 | 9.738911e+00 |  22.0625000  |  39.9052419  | 1.189718e+01 | 1.008065e-03 | 3.135081e-01 |   9.03427419 | 7.626008e+00 |  0.559475806 |  1.08971774  | 1.716734e+00 |  13.36995968 | 5.356149e+01 | 2.721371e+01 |   4.66229839 | 3.427419e-02 | 1.915323e-02 | 1.206653e+00 |\n",
       "| 2.452621e+01 | 0.000000e+00 |   0.0000000  |   0.0000000  | 0.000000e+00 | 5.816532e-01 | 4.667609e+03 |   0.00000000 | 1.008065e-03 |  0.000000000 |  0.01713710  | 1.008065e-03 |   0.01814516 | 0.000000e+00 | 4.032258e-03 |   0.00000000 | 8.041780e+04 | 1.983165e+01 | 0.000000e+00 |\n",
       "| 0.000000e+00 | 5.645161e-01 |   6.9465726  |  82.1149194  | 4.357379e+02 | 3.538306e-01 | 1.715726e+00 |   6.54637097 | 7.046371e-01 |  0.008064516 | 71.43649194  | 4.913911e+01 | 312.77419355 | 7.479839e-01 | 6.891976e+02 |  25.45665323 | 1.725806e+00 | 4.596774e+00 | 1.713710e-02 |\n",
       "| 3.386754e+02 | 6.789012e+01 |  84.7832661  | 108.0524194  | 1.851815e+00 | 0.000000e+00 | 5.342742e-02 |  27.15020161 | 1.703821e+02 | 32.930443548 |  0.39012097  | 1.704637e+00 |  37.74193548 | 1.309325e+03 | 2.393145e+00 |   3.71572581 | 8.266129e-02 | 0.000000e+00 | 3.900101e+01 |\n",
       "| 6.374208e+05 | 5.388647e-01 |   1.1377620  |   1.4798089  | 3.712632e+00 | 4.552303e-01 | 3.483019e+00 |   4.64061122 | 6.654795e-01 |  0.971443360 |  1.36177132  | 1.744497e+00 |   0.52969633 | 3.196768e+00 | 2.896592e+00 |   0.35793049 | 2.807836e+01 | 1.069839e+00 | 6.316714e-01 |\n",
       "\n"
      ],
      "text/plain": [
       "      CAI          Cabatoan     Caridad Cemetery Caridad Proper\n",
       " [1,] 9.067923e+07 5.748802e-04   0.0000000        0.0000000   \n",
       " [2,] 1.386648e+03 6.791633e+01  28.4314516       69.0675403   \n",
       " [3,] 1.562052e+03 2.320060e+01 273.5504032      143.6905242   \n",
       " [4,] 1.009007e+03 2.019052e+01  81.9979839       68.2338710   \n",
       " [5,] 1.262349e+02 6.668347e+00  50.9455645       67.0745968   \n",
       " [6,] 1.975806e-01 7.872984e-01   4.1844758       30.5705645   \n",
       " [7,] 7.106855e-02 3.427419e-02   0.2227823        0.3049395   \n",
       " [8,] 3.390489e+02 9.933972e+00  70.1517137      145.3387097   \n",
       " [9,] 8.351956e+02 2.285282e+01  62.6633065      167.8457661   \n",
       "[10,] 1.311524e+03 5.896673e+01  20.0675403       50.6804435   \n",
       "[11,] 9.787903e+01 3.858871e+00  36.8175403       45.8185484   \n",
       "[12,] 1.525101e+01 1.322883e+01   4.0836694       32.9707661   \n",
       "[13,] 5.663649e+02 1.793347e+00   0.7711694       19.7086694   \n",
       "[14,] 3.258276e+02 2.171749e+02 190.4758065      319.5015121   \n",
       "[15,] 6.910484e+01 3.326613e-01   0.9102823       52.6633065   \n",
       "[16,] 7.375534e+02 9.738911e+00  22.0625000       39.9052419   \n",
       "[17,] 2.452621e+01 0.000000e+00   0.0000000        0.0000000   \n",
       "[18,] 0.000000e+00 5.645161e-01   6.9465726       82.1149194   \n",
       "[19,] 3.386754e+02 6.789012e+01  84.7832661      108.0524194   \n",
       "[20,] 6.374208e+05 5.388647e-01   1.1377620        1.4798089   \n",
       "      Elementary School Gabas        Haina        Hicgop South Magbangon   \n",
       " [1,] 0.000000e+00      0.000000e+00 2.631494e-04   0.00000000 2.667930e-03\n",
       " [2,] 1.439214e+01      0.000000e+00 4.758065e-01 126.36088710 8.965423e+01\n",
       " [3,] 9.183468e-01      3.830645e-02 5.846774e-02   2.79737903 3.379637e+01\n",
       " [4,] 2.177419e-01      0.000000e+00 2.217742e-02   2.57056452 7.994960e+00\n",
       " [5,] 9.154536e+01      1.008065e-03 1.471774e-01 191.13911290 1.756956e+01\n",
       " [6,] 9.942641e+01      3.874252e+03 1.684476e+00  38.17641129 2.721774e-02\n",
       " [7,] 6.905242e-02      2.520161e-03 1.326290e+02   0.02620968 2.016129e-03\n",
       " [8,] 3.975423e+02      1.381048e-01 7.210685e+00 142.39969758 5.129536e+00\n",
       " [9,] 2.372984e+00      0.000000e+00 1.213710e+00  40.10383065 1.307460e+01\n",
       "[10,] 6.048387e-03      0.000000e+00 0.000000e+00   1.95161290 5.836190e+01\n",
       "[11,] 8.366331e+01      3.931452e-02 2.323589e+00  11.09778226 2.792339e-01\n",
       "[12,] 4.498790e+01      9.072581e-03 2.690524e+00  10.50907258 1.727823e+00\n",
       "[13,] 3.365625e+01      0.000000e+00 9.173387e-01  13.86290323 6.572581e-01\n",
       "[14,] 1.089819e+01      0.000000e+00 1.683468e-01  20.49647177 2.175055e+02\n",
       "[15,] 9.624194e+01      0.000000e+00 0.000000e+00 322.26411290 3.548387e-01\n",
       "[16,] 1.189718e+01      1.008065e-03 3.135081e-01   9.03427419 7.626008e+00\n",
       "[17,] 0.000000e+00      5.816532e-01 4.667609e+03   0.00000000 1.008065e-03\n",
       "[18,] 4.357379e+02      3.538306e-01 1.715726e+00   6.54637097 7.046371e-01\n",
       "[19,] 1.851815e+00      0.000000e+00 5.342742e-02  27.15020161 1.703821e+02\n",
       "[20,] 3.712632e+00      4.552303e-01 3.483019e+00   4.64061122 6.654795e-01\n",
       "      Palanas      Poroc Rose  Poroc San Flower San Agustin  Sitio Baybayon\n",
       " [1,]  0.002242842  0.00000000 0.000000e+00       0.00000000 1.416958e-04  \n",
       " [2,]  0.804435484  0.69455645 3.754032e+00       9.87298387 5.150605e+01  \n",
       " [3,]  1.030241935  0.14919355 1.248992e+00      11.31048387 2.733266e+01  \n",
       " [4,]  0.006048387  0.19455645 1.516129e+00      20.80443548 1.313206e+01  \n",
       " [5,]  0.001008065  1.55443548 4.651210e+00      13.73689516 3.386089e+00  \n",
       " [6,]  0.004032258 24.76008065 3.112601e+01     456.66633065 8.064516e-03  \n",
       " [7,]  0.000000000  0.00000000 2.016129e-03       0.60735887 9.319556e-01  \n",
       " [8,]  0.011088710  2.98840726 8.670363e+00      15.91129032 4.160383e+01  \n",
       " [9,]  4.385080645  0.14818548 7.933468e-01      42.37600806 1.074617e+02  \n",
       "[10,] 30.226814516  0.03629032 1.008065e-03       0.50000000 3.721129e+02  \n",
       "[11,]  0.085685484 42.86995968 5.254335e+01     377.49495968 1.308468e+00  \n",
       "[12,]  1.683467742 31.62197581 1.031764e+02     619.15625000 2.189516e+00  \n",
       "[13,]  0.026209677 42.21572581 4.125302e+01     370.67338710 1.799395e+00  \n",
       "[14,] 26.932459677  0.25252016 3.018649e+00      57.79233871 3.140114e+03  \n",
       "[15,]  0.001008065  0.23790323 2.034274e+00     419.05745968 2.348790e-01  \n",
       "[16,]  0.559475806  1.08971774 1.716734e+00      13.36995968 5.356149e+01  \n",
       "[17,]  0.000000000  0.01713710 1.008065e-03       0.01814516 0.000000e+00  \n",
       "[18,]  0.008064516 71.43649194 4.913911e+01     312.77419355 7.479839e-01  \n",
       "[19,] 32.930443548  0.39012097 1.704637e+00      37.74193548 1.309325e+03  \n",
       "[20,]  0.971443360  1.36177132 1.744497e+00       0.52969633 3.196768e+00  \n",
       "      Sitio Lonas  Sitio Tugas  Tamakin Dacot Visca        Wangag      \n",
       " [1,] 0.000000e+00   0.00000000 2.024226e-05  0.000000e+00 8.096904e-05\n",
       " [2,] 1.107258e+01  10.54737903 9.425403e-01  1.008065e-03 6.052419e+00\n",
       " [3,] 3.151512e+01   9.50201613 1.008065e-03  0.000000e+00 7.187500e-01\n",
       " [4,] 2.350806e+01   5.42036290 1.008065e-02  2.016129e-03 3.165323e-01\n",
       " [5,] 3.487097e+01  80.77822581 2.620968e-02  1.008065e-03 1.612903e-02\n",
       " [6,] 1.276996e+03  70.49596774 1.727823e+00  9.468972e+02 0.000000e+00\n",
       " [7,] 6.350806e-02   0.03024194 5.442188e+01  1.360887e-01 8.064516e-03\n",
       " [8,] 2.746724e+01  33.17540323 1.151714e+00  2.444556e-01 3.714718e-01\n",
       " [9,] 9.932460e+00   4.69052419 2.268145e-01  4.737903e-02 2.570867e+01\n",
       "[10,] 1.008065e-03   0.76814516 0.000000e+00  0.000000e+00 1.719456e+01\n",
       "[11,] 7.479365e+02  43.75806452 1.329637e+00  2.827218e+01 1.088710e-01\n",
       "[12,] 1.079002e+03  43.21370968 7.308468e-01  8.088710e+00 7.721774e-01\n",
       "[13,] 7.716371e+02  29.68447581 2.469758e-01  1.576613e+00 4.697581e-01\n",
       "[14,] 2.445060e+01  15.72127016 6.557460e-01  5.040323e-04 6.171925e+01\n",
       "[15,] 4.262223e+03 160.09778226 0.000000e+00  0.000000e+00 1.814516e-02\n",
       "[16,] 2.721371e+01   4.66229839 3.427419e-02  1.915323e-02 1.206653e+00\n",
       "[17,] 4.032258e-03   0.00000000 8.041780e+04  1.983165e+01 0.000000e+00\n",
       "[18,] 6.891976e+02  25.45665323 1.725806e+00  4.596774e+00 1.713710e-02\n",
       "[19,] 2.393145e+00   3.71572581 8.266129e-02  0.000000e+00 3.900101e+01\n",
       "[20,] 2.896592e+00   0.35793049 2.807836e+01  1.069839e+00 6.316714e-01"
      ]
     },
     "metadata": {},
     "output_type": "display_data"
    }
   ],
   "source": [
    "FullBiophysMatNorm"
   ]
  },
  {
   "cell_type": "code",
   "execution_count": 18,
   "metadata": {},
   "outputs": [
    {
     "data": {
      "text/html": [
       "<table>\n",
       "<thead><tr><th scope=col>CAI</th><th scope=col>Cabatoan</th><th scope=col>Caridad Cemetery</th><th scope=col>Caridad Proper</th><th scope=col>Elementary School</th><th scope=col>Gabas</th><th scope=col>Haina</th><th scope=col>Hicgop South</th><th scope=col>Magbangon</th><th scope=col>Palanas</th><th scope=col>Poroc Rose</th><th scope=col>Poroc San Flower</th><th scope=col>San Agustin</th><th scope=col>Sitio Baybayon</th><th scope=col>Sitio Lonas</th><th scope=col>Sitio Tugas</th><th scope=col>Tamakin Dacot</th><th scope=col>Visca</th><th scope=col>Wangag</th></tr></thead>\n",
       "<tbody>\n",
       "\t<tr><td>127034095</td><td>   26    </td><td>    0    </td><td>    0    </td><td>    0    </td><td>    0    </td><td>    9    </td><td>    0    </td><td>   43    </td><td>   32    </td><td>    0    </td><td>    0    </td><td>    0    </td><td>   15    </td><td>    0    </td><td>    0    </td><td>     3   </td><td>    0    </td><td>   10    </td></tr>\n",
       "\t<tr><td>     4423</td><td> 1199    </td><td>  990    </td><td> 1723    </td><td>  219    </td><td>    0    </td><td>   48    </td><td>  922    </td><td>  871    </td><td>   96    </td><td>   69    </td><td>  122    </td><td>  330    </td><td> 1154    </td><td>  286    </td><td>  333    </td><td>    55   </td><td>    1    </td><td>  290    </td></tr>\n",
       "\t<tr><td>     4018</td><td>  687    </td><td> 2624    </td><td> 2767    </td><td>  129    </td><td>    8    </td><td>   12    </td><td>  273    </td><td>  736    </td><td>   66    </td><td>   48    </td><td>  121    </td><td>  446    </td><td>  862    </td><td>  613    </td><td>  322    </td><td>     1   </td><td>    0    </td><td>   77    </td></tr>\n",
       "\t<tr><td>     3359</td><td>  525    </td><td> 1028    </td><td> 1634    </td><td>   46    </td><td>    0    </td><td>    8    </td><td>  316    </td><td>  361    </td><td>    4    </td><td>   53    </td><td>  134    </td><td>  540    </td><td>  563    </td><td>  548    </td><td>  279    </td><td>     4   </td><td>    2    </td><td>   48    </td></tr>\n",
       "\t<tr><td>      483</td><td>  257    </td><td>  824    </td><td> 1808    </td><td> 1827    </td><td>    1    </td><td>   32    </td><td> 4880    </td><td>  239    </td><td>    1    </td><td>  180    </td><td>  280    </td><td>  745    </td><td>  175    </td><td>  712    </td><td> 2258    </td><td>     8   </td><td>    1    </td><td>    8    </td></tr>\n",
       "\t<tr><td>       14</td><td>   43    </td><td>  119    </td><td>  506    </td><td> 1747    </td><td>19400    </td><td>  155    </td><td>  955    </td><td>    7    </td><td>    2    </td><td>  776    </td><td> 1181    </td><td> 6813    </td><td>    4    </td><td> 9410    </td><td> 1468    </td><td>   120   </td><td>10368    </td><td>    0    </td></tr>\n",
       "\t<tr><td>       19</td><td>   10    </td><td>   22    </td><td>   31    </td><td>   17    </td><td>    3    </td><td> 4158    </td><td>   10    </td><td>    2    </td><td>    0    </td><td>    0    </td><td>    2    </td><td>   63    </td><td>   43    </td><td>   18    </td><td>   16    </td><td>  2323   </td><td>   56    </td><td>    4    </td></tr>\n",
       "\t<tr><td>     2239</td><td>  681    </td><td> 2285    </td><td> 4250    </td><td> 3638    </td><td>   50    </td><td>  434    </td><td> 5549    </td><td>  471    </td><td>    8    </td><td>  605    </td><td> 1052    </td><td> 1716    </td><td> 1040    </td><td> 1971    </td><td> 2138    </td><td>   245   </td><td>   73    </td><td>   57    </td></tr>\n",
       "\t<tr><td>     2832</td><td>  960    </td><td> 1826    </td><td> 2589    </td><td>  140    </td><td>    0    </td><td>   46    </td><td>  805    </td><td>  672    </td><td>  278    </td><td>   41    </td><td>   81    </td><td>  499    </td><td> 2244    </td><td>  211    </td><td>  233    </td><td>    23   </td><td>   13    </td><td>  725    </td></tr>\n",
       "\t<tr><td>     3188</td><td>  675    </td><td>  613    </td><td>  787    </td><td>    4    </td><td>    0    </td><td>    0    </td><td>  104    </td><td>  803    </td><td>  481    </td><td>   10    </td><td>    1    </td><td>   38    </td><td> 3136    </td><td>    1    </td><td>   54    </td><td>     0   </td><td>    0    </td><td>  481    </td></tr>\n",
       "\t<tr><td>      412</td><td>  152    </td><td>  507    </td><td> 1098    </td><td> 1904    </td><td>   11    </td><td>  147    </td><td>  609    </td><td>   41    </td><td>   11    </td><td> 1361    </td><td> 1565    </td><td> 5487    </td><td>   88    </td><td> 7631    </td><td> 1262    </td><td>    79   </td><td>  622    </td><td>   14    </td></tr>\n",
       "\t<tr><td>      123</td><td>  185    </td><td>  263    </td><td>  983    </td><td> 1820    </td><td>    3    </td><td>  167    </td><td>  685    </td><td>   70    </td><td>   54    </td><td> 1675    </td><td> 2419    </td><td> 9005    </td><td>   92    </td><td>11700    </td><td> 1670    </td><td>    85   </td><td>  344    </td><td>   34    </td></tr>\n",
       "\t<tr><td>     1022</td><td>   99    </td><td>  105    </td><td>  751    </td><td> 1201    </td><td>    0    </td><td>   84    </td><td> 1122    </td><td>   70    </td><td>    8    </td><td> 1848    </td><td> 1653    </td><td> 6986    </td><td>   89    </td><td>10726    </td><td> 1411    </td><td>    37   </td><td>   94    </td><td>   30    </td></tr>\n",
       "\t<tr><td>     2976</td><td> 3727    </td><td> 5802    </td><td> 7555    </td><td>  234    </td><td>    0    </td><td>   38    </td><td>  841    </td><td> 4107    </td><td> 1614    </td><td>   71    </td><td>  197    </td><td> 1082    </td><td>24244    </td><td>  576    </td><td>  553    </td><td>    53   </td><td>    1    </td><td> 2681    </td></tr>\n",
       "\t<tr><td>      388</td><td>   36    </td><td>   71    </td><td> 1082    </td><td> 2018    </td><td>    0    </td><td>    0    </td><td> 7280    </td><td>   38    </td><td>    1    </td><td>   56    </td><td>  156    </td><td> 3239    </td><td>   25    </td><td>22115    </td><td> 3455    </td><td>     0   </td><td>    0    </td><td>    6    </td></tr>\n",
       "\t<tr><td>     1405</td><td>  401    </td><td>  532    </td><td>  982    </td><td>  498    </td><td>    1    </td><td>   49    </td><td>  520    </td><td>  289    </td><td>   37    </td><td>  157    </td><td>  195    </td><td>  613    </td><td>  855    </td><td>  684    </td><td>  411    </td><td>    14   </td><td>    7    </td><td>   89    </td></tr>\n",
       "\t<tr><td>      178</td><td>    0    </td><td>    0    </td><td>    0    </td><td>    0    </td><td>   35    </td><td>24236    </td><td>    0    </td><td>    1    </td><td>    0    </td><td>    5    </td><td>    1    </td><td>    8    </td><td>    0    </td><td>    2    </td><td>    0    </td><td>139778   </td><td>  275    </td><td>    0    </td></tr>\n",
       "\t<tr><td>        0</td><td>   46    </td><td>  237    </td><td> 1074    </td><td> 2526    </td><td>   33    </td><td>  176    </td><td>  454    </td><td>   43    </td><td>    4    </td><td> 1143    </td><td> 1588    </td><td> 5692    </td><td>   44    </td><td> 7194    </td><td> 1173    </td><td>   146   </td><td>  288    </td><td>    5    </td></tr>\n",
       "\t<tr><td>     1646</td><td> 1621    </td><td> 2047    </td><td> 2132    </td><td>   77    </td><td>    0    </td><td>   15    </td><td>  339    </td><td> 2047    </td><td>  747    </td><td>   51    </td><td>   65    </td><td>  414    </td><td> 8964    </td><td>  126    </td><td>  130    </td><td>    10   </td><td>    0    </td><td>  969    </td></tr>\n",
       "\t<tr><td> 28359963</td><td>19795    </td><td>21886    </td><td>25716    </td><td>24569    </td><td> 5546    </td><td>55368    </td><td>39177    </td><td>19848    </td><td>23438    </td><td>10807    </td><td>13142    </td><td>15292    </td><td>43333    </td><td>25630    </td><td>13504    </td><td>207051   </td><td> 9529    </td><td>20880    </td></tr>\n",
       "</tbody>\n",
       "</table>\n"
      ],
      "text/latex": [
       "\\begin{tabular}{lllllllllllllllllll}\n",
       " CAI & Cabatoan & Caridad Cemetery & Caridad Proper & Elementary School & Gabas & Haina & Hicgop South & Magbangon & Palanas & Poroc Rose & Poroc San Flower & San Agustin & Sitio Baybayon & Sitio Lonas & Sitio Tugas & Tamakin Dacot & Visca & Wangag\\\\\n",
       "\\hline\n",
       "\t 127034095 &    26     &     0     &     0     &     0     &     0     &     9     &     0     &    43     &    32     &     0     &     0     &     0     &    15     &     0     &     0     &      3    &     0     &    10    \\\\\n",
       "\t      4423 &  1199     &   990     &  1723     &   219     &     0     &    48     &   922     &   871     &    96     &    69     &   122     &   330     &  1154     &   286     &   333     &     55    &     1     &   290    \\\\\n",
       "\t      4018 &   687     &  2624     &  2767     &   129     &     8     &    12     &   273     &   736     &    66     &    48     &   121     &   446     &   862     &   613     &   322     &      1    &     0     &    77    \\\\\n",
       "\t      3359 &   525     &  1028     &  1634     &    46     &     0     &     8     &   316     &   361     &     4     &    53     &   134     &   540     &   563     &   548     &   279     &      4    &     2     &    48    \\\\\n",
       "\t       483 &   257     &   824     &  1808     &  1827     &     1     &    32     &  4880     &   239     &     1     &   180     &   280     &   745     &   175     &   712     &  2258     &      8    &     1     &     8    \\\\\n",
       "\t        14 &    43     &   119     &   506     &  1747     & 19400     &   155     &   955     &     7     &     2     &   776     &  1181     &  6813     &     4     &  9410     &  1468     &    120    & 10368     &     0    \\\\\n",
       "\t        19 &    10     &    22     &    31     &    17     &     3     &  4158     &    10     &     2     &     0     &     0     &     2     &    63     &    43     &    18     &    16     &   2323    &    56     &     4    \\\\\n",
       "\t      2239 &   681     &  2285     &  4250     &  3638     &    50     &   434     &  5549     &   471     &     8     &   605     &  1052     &  1716     &  1040     &  1971     &  2138     &    245    &    73     &    57    \\\\\n",
       "\t      2832 &   960     &  1826     &  2589     &   140     &     0     &    46     &   805     &   672     &   278     &    41     &    81     &   499     &  2244     &   211     &   233     &     23    &    13     &   725    \\\\\n",
       "\t      3188 &   675     &   613     &   787     &     4     &     0     &     0     &   104     &   803     &   481     &    10     &     1     &    38     &  3136     &     1     &    54     &      0    &     0     &   481    \\\\\n",
       "\t       412 &   152     &   507     &  1098     &  1904     &    11     &   147     &   609     &    41     &    11     &  1361     &  1565     &  5487     &    88     &  7631     &  1262     &     79    &   622     &    14    \\\\\n",
       "\t       123 &   185     &   263     &   983     &  1820     &     3     &   167     &   685     &    70     &    54     &  1675     &  2419     &  9005     &    92     & 11700     &  1670     &     85    &   344     &    34    \\\\\n",
       "\t      1022 &    99     &   105     &   751     &  1201     &     0     &    84     &  1122     &    70     &     8     &  1848     &  1653     &  6986     &    89     & 10726     &  1411     &     37    &    94     &    30    \\\\\n",
       "\t      2976 &  3727     &  5802     &  7555     &   234     &     0     &    38     &   841     &  4107     &  1614     &    71     &   197     &  1082     & 24244     &   576     &   553     &     53    &     1     &  2681    \\\\\n",
       "\t       388 &    36     &    71     &  1082     &  2018     &     0     &     0     &  7280     &    38     &     1     &    56     &   156     &  3239     &    25     & 22115     &  3455     &      0    &     0     &     6    \\\\\n",
       "\t      1405 &   401     &   532     &   982     &   498     &     1     &    49     &   520     &   289     &    37     &   157     &   195     &   613     &   855     &   684     &   411     &     14    &     7     &    89    \\\\\n",
       "\t       178 &     0     &     0     &     0     &     0     &    35     & 24236     &     0     &     1     &     0     &     5     &     1     &     8     &     0     &     2     &     0     & 139778    &   275     &     0    \\\\\n",
       "\t         0 &    46     &   237     &  1074     &  2526     &    33     &   176     &   454     &    43     &     4     &  1143     &  1588     &  5692     &    44     &  7194     &  1173     &    146    &   288     &     5    \\\\\n",
       "\t      1646 &  1621     &  2047     &  2132     &    77     &     0     &    15     &   339     &  2047     &   747     &    51     &    65     &   414     &  8964     &   126     &   130     &     10    &     0     &   969    \\\\\n",
       "\t  28359963 & 19795     & 21886     & 25716     & 24569     &  5546     & 55368     & 39177     & 19848     & 23438     & 10807     & 13142     & 15292     & 43333     & 25630     & 13504     & 207051    &  9529     & 20880    \\\\\n",
       "\\end{tabular}\n"
      ],
      "text/markdown": [
       "\n",
       "| CAI | Cabatoan | Caridad Cemetery | Caridad Proper | Elementary School | Gabas | Haina | Hicgop South | Magbangon | Palanas | Poroc Rose | Poroc San Flower | San Agustin | Sitio Baybayon | Sitio Lonas | Sitio Tugas | Tamakin Dacot | Visca | Wangag |\n",
       "|---|---|---|---|---|---|---|---|---|---|---|---|---|---|---|---|---|---|---|\n",
       "| 127034095 |    26     |     0     |     0     |     0     |     0     |     9     |     0     |    43     |    32     |     0     |     0     |     0     |    15     |     0     |     0     |      3    |     0     |    10     |\n",
       "|      4423 |  1199     |   990     |  1723     |   219     |     0     |    48     |   922     |   871     |    96     |    69     |   122     |   330     |  1154     |   286     |   333     |     55    |     1     |   290     |\n",
       "|      4018 |   687     |  2624     |  2767     |   129     |     8     |    12     |   273     |   736     |    66     |    48     |   121     |   446     |   862     |   613     |   322     |      1    |     0     |    77     |\n",
       "|      3359 |   525     |  1028     |  1634     |    46     |     0     |     8     |   316     |   361     |     4     |    53     |   134     |   540     |   563     |   548     |   279     |      4    |     2     |    48     |\n",
       "|       483 |   257     |   824     |  1808     |  1827     |     1     |    32     |  4880     |   239     |     1     |   180     |   280     |   745     |   175     |   712     |  2258     |      8    |     1     |     8     |\n",
       "|        14 |    43     |   119     |   506     |  1747     | 19400     |   155     |   955     |     7     |     2     |   776     |  1181     |  6813     |     4     |  9410     |  1468     |    120    | 10368     |     0     |\n",
       "|        19 |    10     |    22     |    31     |    17     |     3     |  4158     |    10     |     2     |     0     |     0     |     2     |    63     |    43     |    18     |    16     |   2323    |    56     |     4     |\n",
       "|      2239 |   681     |  2285     |  4250     |  3638     |    50     |   434     |  5549     |   471     |     8     |   605     |  1052     |  1716     |  1040     |  1971     |  2138     |    245    |    73     |    57     |\n",
       "|      2832 |   960     |  1826     |  2589     |   140     |     0     |    46     |   805     |   672     |   278     |    41     |    81     |   499     |  2244     |   211     |   233     |     23    |    13     |   725     |\n",
       "|      3188 |   675     |   613     |   787     |     4     |     0     |     0     |   104     |   803     |   481     |    10     |     1     |    38     |  3136     |     1     |    54     |      0    |     0     |   481     |\n",
       "|       412 |   152     |   507     |  1098     |  1904     |    11     |   147     |   609     |    41     |    11     |  1361     |  1565     |  5487     |    88     |  7631     |  1262     |     79    |   622     |    14     |\n",
       "|       123 |   185     |   263     |   983     |  1820     |     3     |   167     |   685     |    70     |    54     |  1675     |  2419     |  9005     |    92     | 11700     |  1670     |     85    |   344     |    34     |\n",
       "|      1022 |    99     |   105     |   751     |  1201     |     0     |    84     |  1122     |    70     |     8     |  1848     |  1653     |  6986     |    89     | 10726     |  1411     |     37    |    94     |    30     |\n",
       "|      2976 |  3727     |  5802     |  7555     |   234     |     0     |    38     |   841     |  4107     |  1614     |    71     |   197     |  1082     | 24244     |   576     |   553     |     53    |     1     |  2681     |\n",
       "|       388 |    36     |    71     |  1082     |  2018     |     0     |     0     |  7280     |    38     |     1     |    56     |   156     |  3239     |    25     | 22115     |  3455     |      0    |     0     |     6     |\n",
       "|      1405 |   401     |   532     |   982     |   498     |     1     |    49     |   520     |   289     |    37     |   157     |   195     |   613     |   855     |   684     |   411     |     14    |     7     |    89     |\n",
       "|       178 |     0     |     0     |     0     |     0     |    35     | 24236     |     0     |     1     |     0     |     5     |     1     |     8     |     0     |     2     |     0     | 139778    |   275     |     0     |\n",
       "|         0 |    46     |   237     |  1074     |  2526     |    33     |   176     |   454     |    43     |     4     |  1143     |  1588     |  5692     |    44     |  7194     |  1173     |    146    |   288     |     5     |\n",
       "|      1646 |  1621     |  2047     |  2132     |    77     |     0     |    15     |   339     |  2047     |   747     |    51     |    65     |   414     |  8964     |   126     |   130     |     10    |     0     |   969     |\n",
       "|  28359963 | 19795     | 21886     | 25716     | 24569     |  5546     | 55368     | 39177     | 19848     | 23438     | 10807     | 13142     | 15292     | 43333     | 25630     | 13504     | 207051    |  9529     | 20880     |\n",
       "\n"
      ],
      "text/plain": [
       "      CAI       Cabatoan Caridad Cemetery Caridad Proper Elementary School\n",
       " [1,] 127034095    26        0                0              0            \n",
       " [2,]      4423  1199      990             1723            219            \n",
       " [3,]      4018   687     2624             2767            129            \n",
       " [4,]      3359   525     1028             1634             46            \n",
       " [5,]       483   257      824             1808           1827            \n",
       " [6,]        14    43      119              506           1747            \n",
       " [7,]        19    10       22               31             17            \n",
       " [8,]      2239   681     2285             4250           3638            \n",
       " [9,]      2832   960     1826             2589            140            \n",
       "[10,]      3188   675      613              787              4            \n",
       "[11,]       412   152      507             1098           1904            \n",
       "[12,]       123   185      263              983           1820            \n",
       "[13,]      1022    99      105              751           1201            \n",
       "[14,]      2976  3727     5802             7555            234            \n",
       "[15,]       388    36       71             1082           2018            \n",
       "[16,]      1405   401      532              982            498            \n",
       "[17,]       178     0        0                0              0            \n",
       "[18,]         0    46      237             1074           2526            \n",
       "[19,]      1646  1621     2047             2132             77            \n",
       "[20,]  28359963 19795    21886            25716          24569            \n",
       "      Gabas Haina Hicgop South Magbangon Palanas Poroc Rose Poroc San Flower\n",
       " [1,]     0     9     0           43        32       0          0           \n",
       " [2,]     0    48   922          871        96      69        122           \n",
       " [3,]     8    12   273          736        66      48        121           \n",
       " [4,]     0     8   316          361         4      53        134           \n",
       " [5,]     1    32  4880          239         1     180        280           \n",
       " [6,] 19400   155   955            7         2     776       1181           \n",
       " [7,]     3  4158    10            2         0       0          2           \n",
       " [8,]    50   434  5549          471         8     605       1052           \n",
       " [9,]     0    46   805          672       278      41         81           \n",
       "[10,]     0     0   104          803       481      10          1           \n",
       "[11,]    11   147   609           41        11    1361       1565           \n",
       "[12,]     3   167   685           70        54    1675       2419           \n",
       "[13,]     0    84  1122           70         8    1848       1653           \n",
       "[14,]     0    38   841         4107      1614      71        197           \n",
       "[15,]     0     0  7280           38         1      56        156           \n",
       "[16,]     1    49   520          289        37     157        195           \n",
       "[17,]    35 24236     0            1         0       5          1           \n",
       "[18,]    33   176   454           43         4    1143       1588           \n",
       "[19,]     0    15   339         2047       747      51         65           \n",
       "[20,]  5546 55368 39177        19848     23438   10807      13142           \n",
       "      San Agustin Sitio Baybayon Sitio Lonas Sitio Tugas Tamakin Dacot Visca\n",
       " [1,]     0          15              0           0            3            0\n",
       " [2,]   330        1154            286         333           55            1\n",
       " [3,]   446         862            613         322            1            0\n",
       " [4,]   540         563            548         279            4            2\n",
       " [5,]   745         175            712        2258            8            1\n",
       " [6,]  6813           4           9410        1468          120        10368\n",
       " [7,]    63          43             18          16         2323           56\n",
       " [8,]  1716        1040           1971        2138          245           73\n",
       " [9,]   499        2244            211         233           23           13\n",
       "[10,]    38        3136              1          54            0            0\n",
       "[11,]  5487          88           7631        1262           79          622\n",
       "[12,]  9005          92          11700        1670           85          344\n",
       "[13,]  6986          89          10726        1411           37           94\n",
       "[14,]  1082       24244            576         553           53            1\n",
       "[15,]  3239          25          22115        3455            0            0\n",
       "[16,]   613         855            684         411           14            7\n",
       "[17,]     8           0              2           0       139778          275\n",
       "[18,]  5692          44           7194        1173          146          288\n",
       "[19,]   414        8964            126         130           10            0\n",
       "[20,] 15292       43333          25630       13504       207051         9529\n",
       "      Wangag\n",
       " [1,]    10 \n",
       " [2,]   290 \n",
       " [3,]    77 \n",
       " [4,]    48 \n",
       " [5,]     8 \n",
       " [6,]     0 \n",
       " [7,]     4 \n",
       " [8,]    57 \n",
       " [9,]   725 \n",
       "[10,]   481 \n",
       "[11,]    14 \n",
       "[12,]    34 \n",
       "[13,]    30 \n",
       "[14,]  2681 \n",
       "[15,]     6 \n",
       "[16,]    89 \n",
       "[17,]     0 \n",
       "[18,]     5 \n",
       "[19,]   969 \n",
       "[20,] 20880 "
      ]
     },
     "metadata": {},
     "output_type": "display_data"
    }
   ],
   "source": [
    "FullBiophysMat"
   ]
  },
  {
   "cell_type": "code",
   "execution_count": null,
   "metadata": {},
   "outputs": [],
   "source": [
    "Area"
   ]
  },
  {
   "cell_type": "code",
   "execution_count": null,
   "metadata": {},
   "outputs": [],
   "source": [
    "x <- list(Distances=Distances, Assignments=FullBiophysMat, Sampled_reefs=t(SiteIndex[site %in% SurveyData[, site], index]),\n",
    "                  Reef_sizes=reef_sizes, Adult_sample_proportions=matrix(nrow=ncol(FullBiophysMat), ncol=1, 1)) #put inputs into a list because that's the bbmle format\n",
    "Sim2012_4Fit <- suppressWarnings(mle2(LL_kt_bbmle, start=list(k=-3, theta=1), lower=c(-10, 0.15), upper=c(10, 8), method=\"L-BFGS-B\", data=x, control=list(maxit=500)))\n"
   ]
  },
  {
   "cell_type": "code",
   "execution_count": null,
   "metadata": {},
   "outputs": [],
   "source": [
    "dim(Assignments2012)\n",
    "dim(Adult_sample_proportions2012)\n",
    "dim(Sampled_reefs2012)"
   ]
  },
  {
   "cell_type": "code",
   "execution_count": null,
   "metadata": {
    "scrolled": false
   },
   "outputs": [],
   "source": [
    "x"
   ]
  },
  {
   "cell_type": "code",
   "execution_count": null,
   "metadata": {},
   "outputs": [],
   "source": [
    "dim(FullBiophysMat)"
   ]
  },
  {
   "cell_type": "code",
   "execution_count": null,
   "metadata": {},
   "outputs": [],
   "source": [
    "dcast(DestSampled[source == \"Other\", .(source, dest)][, parentage :=1][order(source, dest)], source ~ dest, value.var=\"parentage\", fun.aggregate = sum)"
   ]
  },
  {
   "cell_type": "code",
   "execution_count": null,
   "metadata": {},
   "outputs": [],
   "source": []
  },
  {
   "cell_type": "code",
   "execution_count": null,
   "metadata": {},
   "outputs": [],
   "source": [
    "#Mike Bode said I should be less aggressively subsampling the biophysical data, but how should I do that? The kernel fitting still requires that I have a prop samp vector... but when I tried putting 1's in that vector and using all of the particles for fitting I got crazy "
   ]
  },
  {
   "cell_type": "code",
   "execution_count": null,
   "metadata": {},
   "outputs": [],
   "source": [
    "#sample the particle data\n",
    "SimSample <- DestSampled[, .SD[sample(.N, dest_n_rec_annual)], by = c(\"year\", \"dest\")] #, prob=surv_weight #randomly sample rows (particles) from the table according to the survival weighting, based on the number we sampled at each site in each year of surveys\n",
    "check1 <- nrow(SimSample)\n",
    "\n",
    "#assign parentage\n",
    "SimParentage <- SimSample[source_prop_samp > 0][, .SD[sample(.N, num_parentage_matches)], by = .(year)][#Prob=SurvWeight, #now randomly assign parentage or not parentage, based on how well we sampled the source and the number of parentage matches we had in that year\n",
    "                , parentage := 1]\n",
    "#for faster searching, set keys\n",
    "setkey(SimParentage, particle_id)\n",
    "setkey(SimSample, particle_id)\n",
    "\n",
    "l <- list(SimSample[particle_id %!in% SimParentage$particle_id][, parentage := 0], SimParentage)\n",
    "SimSample <- rbindlist(l, use.names = TRUE, fill=TRUE, idcol = NULL)[, c(\"year\", \"source\", \"dest\", \"parentage\", \"monsoon\")] #add back in to the unassigned particles, select only the columns necessary\n",
    "\n",
    "#check results, for testing loop only\n",
    "#nrow(SimSample)==check1 #should be TRUE\n",
    "#sum(SimSample$parentage) #should be 37"
   ]
  },
  {
   "cell_type": "code",
   "execution_count": null,
   "metadata": {},
   "outputs": [],
   "source": [
    "sum(SimSample$parentage)"
   ]
  },
  {
   "cell_type": "code",
   "execution_count": null,
   "metadata": {},
   "outputs": [],
   "source": [
    "\n",
    "#calculate the unassigned row\n",
    "Unassigned <- unique(SimSample[parentage==0][#not counting parentage!\n",
    "    , num_sampled := .(.N), by= c(\"dest\", \"year\", \"monsoon\")], by=c(\"dest\", \"year\", \"monsoon\"))[, -\"source\"]\n",
    "#add destinations not sampled in loop iteration to unassigned \n",
    "Unassigned <- Unassigned[AddDest, on=.(year=year, dest=site, monsoon)]\n",
    "Unassigned$num_sampled[is.na(Unassigned$num_sampled)] <- 0\n",
    "#sum(Unassigned$num_sampled, na.rm=T)==check1-37 #total should be the total sampled particles minus the total assigned\n",
    "setorder(Unassigned, year, dest)\n",
    "\n",
    "##adding in the possible sampled routes needs to happen AFTER calculating unassigned because unassigned is calculated from row counts\n",
    "SimSample <- PropSampTable[SimSample, on=.(year, source, dest, monsoon)]\n",
    "#check all is well- for testing loop only\n",
    "#sum(SimSample$parentage) #should be 37\n",
    "\n",
    "#add in the routes we could have assigned given our sampling so the parentage matrix is complete\n",
    "UnqSimSample <- unique(SimSample, by=c(\"source\", \"dest\", \"year\", \"monsoon\"))\n",
    "\n",
    "AddRoutes <- UnqSurvey[!UnqSimSample, on = names(UnqSurvey)][ #what combos are not appearing because we didn't sample particles, but the route is possible based on our survey sampling\n",
    "    , `:=`(parentage= 0, num_sampled = 0) ] #add the parentage column \n",
    "\n",
    "#add back into the sampled simulation data\n",
    "l <- list(SimSample, AddRoutes[,-\"num_sampled\"])\n",
    "SimSample <- rbindlist(l, use.names = TRUE, fill=TRUE, idcol = NULL)\n",
    "setorder(SimSample, year, source, dest)\n",
    "\n",
    "#make summary tables for each time frame, to be used for making parentage matrix\n",
    "SimSampleByYear <- SimSample[,  .(total_parentage =sum(parentage)), by=c(\"year\", \"source\", \"dest\")]\n",
    "#sum(SimSampleByYear$total_parentage)\n",
    "UnassignedByYear <- Unassigned[, .(total_sampled = sum(num_sampled)), by=c(\"year\", \"dest\")]\n",
    "\n",
    "\n",
    "SimSampleInterannual <- SimSample[,  .(total_parentage =sum(parentage)), by=c(\"source\", \"dest\")]\n",
    "#sum(SimSampleInterannual$total_parentage)\n",
    "UnassignedInterannual <- Unassigned[, .(total_sampled = sum(num_sampled)), by=c(\"dest\")]\n",
    "\n",
    "\n",
    "SimSampleMonsoon <- SimSample[,  .(total_parentage =sum(parentage)), by=c(\"monsoon\", \"source\", \"dest\")]\n",
    "sum(SimSampleMonsoon$total_parentage)\n",
    "UnassignedMonsoon <- Unassigned[, .(total_sampled = sum(num_sampled)), by=c(\"monsoon\", \"dest\")]\n",
    "\n",
    "#make a parentage matrix for each year\n",
    "mat2012 <- dcast(SimSampleByYear[year==2012], source ~ dest, value.var=\"total_parentage\", fun.aggregate = sum)[source %in% SurveyData[year==2012 & prop_anem_samp >0, site]][, -\"source\"] \n",
    "mat2012 <- as.matrix(rbind(mat2012, t(UnassignedByYear[year==2012][, total_sampled]), use.names=F))\n",
    "\n",
    "mat2013 <- dcast(SimSampleByYear[year==2013], source ~ dest, value.var=\"total_parentage\", fun.aggregate = sum)[source %in% SurveyData[year==2013 & prop_anem_samp >0, site]][, -\"source\"] \n",
    "mat2013 <- as.matrix(rbind(mat2013, t(UnassignedByYear[year==2013][, total_sampled]), use.names=F))\n",
    "\n",
    "mat2014 <- dcast(SimSampleByYear[year==2014], source ~ dest, value.var=\"total_parentage\", fun.aggregate = sum)[source %in% SurveyData[year==2014 & prop_anem_samp >0, site]][, -\"source\"] \n",
    "mat2014 <- as.matrix(rbind(mat2014, t(UnassignedByYear[year==2014][, total_sampled]), use.names=F))\n",
    "\n",
    "mat2012_4 <- dcast(SimSampleInterannual, source ~ dest, value.var=\"total_parentage\", fun.aggregate = sum)[source %in% SurveyData[year %in% c(2012, 2013, 2014) & prop_anem_samp >0, site]][, -\"source\"] \n",
    "mat2012_4 <- as.matrix(rbind(mat2012_4, t(UnassignedInterannual[, total_sampled]), use.names=F))\n",
    "\n",
    "matNEM <- dcast(SimSampleMonsoon[monsoon==\"NEM\"], source ~ dest, value.var=\"total_parentage\", fun.aggregate = sum)[source %in% SurveyData[year %in% c(2012, 2013, 2014) & prop_anem_samp >0, site]][, -\"source\"] \n",
    "matNEM <- as.matrix(rbind(matNEM, t(UnassignedMonsoon[monsoon==\"NEM\"][, total_sampled]), use.names=F))\n",
    "\n",
    "matSWM <- dcast(SimSampleMonsoon[monsoon==\"SWM\"], source ~ dest, value.var=\"total_parentage\", fun.aggregate = sum)[source %in% SurveyData[year %in% c(2012, 2013, 2014) & prop_anem_samp >0, site]][, -\"source\"] \n",
    "matSWM <- as.matrix(rbind(matSWM, t(UnassignedMonsoon[monsoon==\"SWM\"][, total_sampled]), use.names=F))\n",
    "\n"
   ]
  },
  {
   "cell_type": "code",
   "execution_count": null,
   "metadata": {},
   "outputs": [],
   "source": []
  },
  {
   "cell_type": "code",
   "execution_count": null,
   "metadata": {},
   "outputs": [],
   "source": [
    "matSWM"
   ]
  },
  {
   "cell_type": "code",
   "execution_count": null,
   "metadata": {},
   "outputs": [],
   "source": []
  },
  {
   "cell_type": "code",
   "execution_count": null,
   "metadata": {},
   "outputs": [],
   "source": [
    "#Biophysical source normalized matrix\n",
    "#for each source, what is the normalized recruitment at each destination? \n",
    "GenSimConn[, annual_source_normalized_recruitment := sum(daily_particles_recruited)/sum(daily_particles_released), by=c(\"source\", \"destination\",\"year_sampled\")]\n"
   ]
  },
  {
   "cell_type": "markdown",
   "metadata": {},
   "source": [
    "__Code function for likelihood of parentage data given a biophysical model, based on Bode et al. 2019 in Plos Bio__"
   ]
  },
  {
   "cell_type": "code",
   "execution_count": null,
   "metadata": {},
   "outputs": [],
   "source": [
    "#lay out all the pieces\n",
    "pop_size_vec <- #vector of pop sizes for all reefs (a). This term is also used in parentage kernel fitting, but reef sizes are substituted as a proxy for pop size. This is should be bootstrapped to account for uncertainty.\n",
    "BioPhysMat <- #source normalized biophysical connectivity matrix. In Eqn. S3.4, this is m ajt/r a (*should it be r at? As in all particles released in time period t?)\n",
    "prop_samp_vec <- #vector of proportion of habitat sampled for all reefs in time period t\n",
    "unassigned_vec#from genetic parentage data- a vector of the number of unassigned recruits at each destination reef in the system- we only have this for all sampled reefs.... what should the dimensions be?*\n"
   ]
  },
  {
   "cell_type": "code",
   "execution_count": null,
   "metadata": {},
   "outputs": [],
   "source": [
    "#format the data"
   ]
  },
  {
   "cell_type": "code",
   "execution_count": null,
   "metadata": {},
   "outputs": [],
   "source": [
    "reef"
   ]
  },
  {
   "cell_type": "code",
   "execution_count": null,
   "metadata": {},
   "outputs": [],
   "source": [
    "head(AnnualRecsSamp)"
   ]
  },
  {
   "cell_type": "code",
   "execution_count": null,
   "metadata": {},
   "outputs": [],
   "source": [
    "#Eqn. S3.4 term 1 for loop\n",
    "\n",
    "for(j in 1:nrow(centroids)){ #for each destination reef in the whole Camotes system\n",
    "    \n",
    "dest_unassigned <- sum(unassigned_vec[t==time_period]) #the sum of all unassigned recruits at time period t\n",
    "    \n",
    "        for(i in 1:nrow(centroids)){ #term 1- for each source reef in the whole Camotes system, expected unassigned at each destination reef\n",
    "            \n",
    "            term1_num <- ((1-prop_samp_vec[i,t== time_period])^2)*pop_size_vec[i]*BioPhysMat[i,j,t]\n",
    "            \n",
    "            for(a in 1:nrow(centroids)){ #for all reefs total in the whole Camotes system, denominator of term 1\n",
    "                \n",
    "                value_a <-  pop_size_vec[a]*BioPhysMat[a, j, t]\n",
    "                term1_denom <- sum(value_a)\n",
    "            }\n",
    "        \n",
    "        term1 = term1_num/term1_denom\n",
    "        }\n",
    "\n",
    "    for(k in 1:nrow(centroids)){ #term 2- for each source reef in the whole Camotes system, expected assigned at each destination reef\n",
    "        \n",
    "        term2_num <- (1-(1-prop_samp_vec[i,t== time_period])^2)*pop_size_vec[i]*BioPhysMat[i,j,t]\n",
    "            \n",
    "            for(a in 1:nrow(centroids)){ #for all reefs total in the whole Camotes system, denominator of term 2\n",
    "                \n",
    "                value_a <-  pop_size_vec[a]*BioPhysMat[a, j, t]\n",
    "                term2_denom <- sum(value_a)\n",
    "            }\n",
    "        \n",
    "        term2 = term2_num/term2_denom\n",
    "        \n",
    "        }\n",
    "        \n",
    "    \n",
    "\n",
    "prob_unsampled <- dest_unassigned*log(term1)  \n",
    "prob_sampled <- dest_assigned*log(term2)\n",
    "ll = prob_unsampled + prob_sampled\n",
    "}"
   ]
  },
  {
   "cell_type": "code",
   "execution_count": null,
   "metadata": {},
   "outputs": [],
   "source": []
  },
  {
   "cell_type": "code",
   "execution_count": null,
   "metadata": {},
   "outputs": [],
   "source": []
  },
  {
   "cell_type": "code",
   "execution_count": null,
   "metadata": {},
   "outputs": [],
   "source": []
  },
  {
   "cell_type": "code",
   "execution_count": null,
   "metadata": {},
   "outputs": [],
   "source": []
  },
  {
   "cell_type": "code",
   "execution_count": null,
   "metadata": {},
   "outputs": [],
   "source": []
  },
  {
   "cell_type": "code",
   "execution_count": null,
   "metadata": {},
   "outputs": [],
   "source": [
    "\n",
    "for(i in 1:NumSampledReefs){\n",
    "   This_SS_A = Adult_sample_proportions[i]#same\n",
    "   for(j in 1:NumSampledReefs){\n",
    "    SettlersFromAssignedReefs = Settlers[Sampled_reefs[i],Sampled_reefs[j]]#same\n",
    "    #Not all settlers from assigned reefs will be assigned, because not all adults were sampled\n",
    "    AssignedSettlers[i,j] = SettlersFromAssignedReefs*(This_SS_A^2 + 2*This_SS_A*(1 - This_SS_A))\n",
    "    AssignedSettlers[NumSampledReefs+1,j] = AssignedSettlers[NumSampledReefs+1,j] + SettlersFromAssignedReefs*(1-This_SS_A)^2 #The three dots '...' tell matlab that the code on a given line continues on the next line.\n",
    "   }\n",
    "}\n",
    "Unsampled = as.matrix(setdiff(1:NumReefs,Sampled_reefs))\n",
    "\n",
    "\n",
    "for(j in 1:NumSampledReefs){\n",
    "   AssignedSettlers[NumSampledReefs+1,j] = AssignedSettlers[NumSampledReefs+1,j] + sum(Settlers[Unsampled,Sampled_reefs[,j]]) \n",
    "}\n",
    "   \n",
    "\n"
   ]
  },
  {
   "cell_type": "code",
   "execution_count": null,
   "metadata": {},
   "outputs": [],
   "source": []
  },
  {
   "cell_type": "code",
   "execution_count": null,
   "metadata": {},
   "outputs": [],
   "source": []
  },
  {
   "cell_type": "code",
   "execution_count": null,
   "metadata": {},
   "outputs": [],
   "source": []
  },
  {
   "cell_type": "code",
   "execution_count": null,
   "metadata": {},
   "outputs": [],
   "source": []
  },
  {
   "cell_type": "code",
   "execution_count": null,
   "metadata": {},
   "outputs": [],
   "source": []
  },
  {
   "cell_type": "code",
   "execution_count": null,
   "metadata": {},
   "outputs": [],
   "source": []
  },
  {
   "cell_type": "code",
   "execution_count": null,
   "metadata": {},
   "outputs": [],
   "source": []
  },
  {
   "cell_type": "markdown",
   "metadata": {},
   "source": [
    "__Loop through sampling different proportions of other and CAI source particles and compare the unassigned proportions of total sample particles to the genetic observations from survey data__"
   ]
  },
  {
   "cell_type": "code",
   "execution_count": null,
   "metadata": {},
   "outputs": [],
   "source": [
    "PropAssignedTable <- rbind(kernels[Year %in% c(\"2012\", \"2013\", \"2014\")][\n",
    "    , PropAssigned := PercentAssigned/100][ #change to proportion note percent\n",
    "    , c(\"Year\", \"NumParentageMatches\", \"NumOffsSampled\", \"PropAssigned\")],                      \n",
    "    unique(kernels[Year %in% c(\"2012\", \"2013\", \"2014\")][ #only the years coinciding with the models\n",
    "    , `:=` (NumParentageMatches=sum(NumParentageMatches), NumOffsSampled=sum(NumOffsSampled), PropAssigned = NumParentageMatches/NumOffsSampled, Year = \"2012-4\")][ #summarise across the 3 years\n",
    "    , c(\"Year\",\"NumParentageMatches\", \"NumOffsSampled\", \"PropAssigned\")], by=\"Year\"))\n",
    "    \n",
    "\n",
    "PropAssignedTable[]\n",
    "\n",
    "#add in the average sampled proportion of anemones\n",
    "AvgPropSamp <- SurveyData[PropAnemSamp >0, .(PropAnemSamp = mean(PropAnemSamp)), by=\"year\"][ #average for each site we sampled, how well we sampled\n",
    "    year %in% c(\"2012\", \"2013\", \"2014\")][\n",
    "    , year :=as.character(year)]\n",
    "\n",
    "ExpectedPropAssigned <- AvgPropSamp[PropAssignedTable, on=.(year=Year)]\n",
    "ExpectedPropAssigned$PropAnemSamp[is.na(ExpectedPropAssigned$PropAnemSamp)] <- mean(ExpectedPropAssigned$PropAnemSamp, na.rm = T) #replace the 2012-4 NA with the average from the 3 years\n",
    "\n",
    "#what's the normalized self recruitment proportion back to the population\n",
    "ExpectedPropAssigned[, ExpAssigned := NumParentageMatches/(NumOffsSampled*PropAnemSamp)][] #this is the expected assignment for the whole surveyed population if we had sampled all adults (which we kind of do when we use the simulation results)\n",
    "#at some point... maybe it would be better to compare on a site to site level? idk that's pretty fine scale, I don't know that our ROMS model can be expected to compare so well with that"
   ]
  },
  {
   "cell_type": "code",
   "execution_count": null,
   "metadata": {},
   "outputs": [],
   "source": []
  },
  {
   "cell_type": "raw",
   "metadata": {},
   "source": []
  },
  {
   "cell_type": "code",
   "execution_count": null,
   "metadata": {},
   "outputs": [],
   "source": []
  },
  {
   "cell_type": "markdown",
   "metadata": {},
   "source": [
    "__For the expected values of recruits from outside of our sampled region, I'm using the intermediate \"PredictedProportions\" matrix from the Bode kernel fitting script (https://github.com/MikeBode/Parentage_kernel_fitting/blob/master/Kernel_Fitting_Function.m) because it accounts for how well sites were sampled when estimating proportions of recruits from unsampled sites__"
   ]
  },
  {
   "cell_type": "code",
   "execution_count": null,
   "metadata": {},
   "outputs": [],
   "source": [
    "#####outside of the loop*****\n",
    "\n",
    "PropSampTable <- SurveyData[PropAnemSamp >0, c(\"year\", \"site\")]\n",
    "\n",
    "#make sure all sampled sites are represented by joining the survey data to the sampled simulation\n",
    "PropSampTable <- rbind(SurveyData[PropAnemSamp >0 & year %in% c(2012, 2013, 2014), c(\"year\", \"site\")][, .(Source=site, Dest=site, Year=year)][ #will join to the simulated sampling table by source and dest, so make those each a column from site and preserve the year variable as a key\n",
    "    , c(\"Year\", \"Source\", \"Dest\")][, Monsoon := \"NEM\"], SurveyData[PropAnemSamp >0 & year %in% c(2012, 2013, 2014), c(\"year\", \"site\")][, .(Source=site, Dest=site, Year=year)][ #will join to the simulated sampling table by source and dest, so make those each a column from site and preserve the year variable as a key\n",
    "    , c(\"Year\", \"Source\", \"Dest\")][, Monsoon := \"SWM\"])\n",
    "#unq_survey <- unique(PropSampTable, by=c(\"Source\", \"Dest\", \"Year\", \"Monsoon\"))#, unique(PropSampTable, by=c(\"Source\", \"Dest\", \"Year\"))[, Monsoon := \"SWM\"]) #add in the diff Monsoon seasons so there are complete parentage matrices later\n",
    "#add_dest <- rbind(SurveyData[year %in% c(2012, 2013, 2014) & PropAnemSamp >0][, c(\"year\", \"site\")][, Monsoon := \"NEM\"], SurveyData[year %in% c(2012, 2013, 2014) & PropAnemSamp >0][, c(\"year\", \"site\")][, Monsoon := \"SWM\"])  #what destinations were sampled, for use with unassigned table\n",
    "\n",
    "###outside of the loop\n",
    "PropToEval <- seq(0.1, 1, 0.1) #make a vector of proportions to sample iterativaley and compare\n",
    "#empty table to hold results\n",
    "PropSampOtherCAI <- data.table(TimeScale=character(), TimeID=character(), PropUnassigned=numeric(), ExpUnassigned=numeric(),  PropSampEval=numeric(), Check1=character(), Check2=character(), NrowSimConn=numeric())\n",
    "\n"
   ]
  },
  {
   "cell_type": "code",
   "execution_count": null,
   "metadata": {},
   "outputs": [],
   "source": [
    "pb <- txtProgressBar(min = 0, max =length(PropToEval), style = 3)\n",
    "\n",
    "StartTime <- Sys.time()\n",
    "\n",
    "for(i in 1:length(PropToEval)){\n",
    "\n",
    "PropSampOtherCAI_int <- data.table(TimeScale=character(), TimeID=character(), PropUnassigned=numeric(), ExpUnassigned=numeric(),  PropSampEval=numeric(), Check1=character(), Check2=character(), NrowSimConn=numeric())[1:4]\n",
    "\n",
    "dest_sampled <- date_join[DestPropSamp >0]\n",
    "check1 <- nrow(dest_sampled)\n",
    "dest_sampled <- dest_sampled[c(dest_sampled[, .I[Source != \"Other\"]], sample(dest_sampled[, .I[Source == \"Other\"]], length(dest_sampled[, .I[Source == \"Other\"]])*PropToEval[i]))]\n",
    "check2 <- nrow(dest_sampled)\n",
    "dest_sampled <- dest_sampled[c(dest_sampled[, .I[Source != \"CAI\"]], sample(dest_sampled[, .I[Source == \"CAI\"]], length(dest_sampled[, .I[Source == \"CAI\"]])*PropToEval[i]))]\n",
    "check3 <- nrow(dest_sampled)\n",
    "\n",
    "#check that we have less rows, should both be TRUE\n",
    "test1 <- check1 > check2\n",
    "test2 <- check2 > check3\n",
    "#check1 > check2\n",
    "#check2 > check3\n",
    "\n",
    "\n",
    "#join in the number of parentage matches observed by year\n",
    "dest_sampled <- kernels[Year %in% c(\"2012\", \"2013\", \"2014\")][, Year:=as.integer(Year)][,c(\"Year\", \"NumParentageMatches\")][dest_sampled, on=.(Year=YearSampled)]#[\n",
    "\n",
    "#randomly subsample the sampled particle data\n",
    "sim_sample <- dest_sampled[, .SD[sample(.N, DestNOffsAnnual, prob=SurvWeight)], by = c(\"Year\", \"Dest\")] #randomly sample rows (particles) from the table according to the survival weighting, based on the number we sampled at each site in each year of surveys\n",
    "\n",
    "PropUnassignedByYear <- (sim_sample[Source == \"CAI\"| Source == \"Other\", .(.N), by=\"Year\"][, N]/#total particales sampled from other/CAI sources\n",
    "sim_sample[, .(.N), by=\"Year\"][, N]) #total particles sampled\n",
    "\n",
    "PropSampOtherCAI_int$TimeScale[1] <- \"annual\"\n",
    "PropSampOtherCAI_int$TimeID[1] <- \"2012\"\n",
    "PropSampOtherCAI_int$PropUnassigned[1] <- PropUnassignedByYear[1]\n",
    "PropSampOtherCAI_int$ExpUnassigned[1] <- 1-(ExpectedPropAssigned[1, ExpAssigned])\n",
    "PropSampOtherCAI_int$PropSampEval[1] <- PropToEval[i]\n",
    "PropSampOtherCAI_int$Check1[1] <- test1\n",
    "PropSampOtherCAI_int$Check2[1] <- test2\n",
    "PropSampOtherCAI_int$NrowSimConn[1] <- nrow(dest_sampled)\n",
    "    \n",
    "PropSampOtherCAI_int$TimeScale[2] <- \"annual\"\n",
    "PropSampOtherCAI_int$TimeID[2] <- \"2013\"\n",
    "PropSampOtherCAI_int$PropUnassigned[2] <- PropUnassignedByYear[2]\n",
    "PropSampOtherCAI_int$ExpUnassigned[2] <- 1-(ExpectedPropAssigned[2, ExpAssigned])\n",
    "PropSampOtherCAI_int$PropSampEval[2] <- PropToEval[i]\n",
    "PropSampOtherCAI_int$Check1[2] <- test1\n",
    "PropSampOtherCAI_int$Check2[2] <- test2\n",
    "PropSampOtherCAI_int$NrowSimConn[2] <- nrow(dest_sampled)\n",
    "    \n",
    "PropSampOtherCAI_int$TimeScale[3] <- \"annual\"\n",
    "PropSampOtherCAI_int$TimeID[3] <- \"2014\"\n",
    "PropSampOtherCAI_int$PropUnassigned[3] <- PropUnassignedByYear[3]\n",
    "PropSampOtherCAI_int$ExpUnassigned[3] <- 1-(ExpectedPropAssigned[3, ExpAssigned])\n",
    "PropSampOtherCAI_int$PropSampEval[3] <- PropToEval[i]\n",
    "PropSampOtherCAI_int$Check1[3] <- test1\n",
    "PropSampOtherCAI_int$Check2[3] <- test2\n",
    "PropSampOtherCAI_int$NrowSimConn[3] <- nrow(dest_sampled)\n",
    "    \n",
    "PropSampOtherCAI_int$TimeScale[4] <- \"interannual\"\n",
    "PropSampOtherCAI_int$TimeID[4] <- \"2012_4\"\n",
    "PropSampOtherCAI_int$PropUnassigned[4] <- nrow(sim_sample[Source == \"CAI\"| Source == \"Other\"])/nrow(sim_sample)\n",
    "PropSampOtherCAI_int$ExpUnassigned[4] <- 1-(ExpectedPropAssigned[4, ExpAssigned])\n",
    "PropSampOtherCAI_int$PropSampEval[4] <- PropToEval[i]\n",
    "PropSampOtherCAI_int$Check1[4] <- test1\n",
    "PropSampOtherCAI_int$Check2[4] <- test2\n",
    "PropSampOtherCAI_int$NrowSimConn[4] <- nrow(dest_sampled)\n",
    "\n",
    "l <- list(PropSampOtherCAI, PropSampOtherCAI_int)\n",
    "PropSampOtherCAI <- rbindlist(l, use.names = TRUE, fill=TRUE, idcol = FALSE)\n",
    "setTxtProgressBar(pb, i)\n",
    "    \n",
    "}\n",
    "\n",
    "close(pb)\n",
    "EndTime <- Sys.time()\n",
    "EndTime-StartTime\n",
    "\n",
    "fwrite(PropSampOtherCAI, file=\"~/oceanography/script_output/SimulationSummaryTables/PropSampOtherCAIEvaluation.csv\")\n"
   ]
  },
  {
   "cell_type": "code",
   "execution_count": null,
   "metadata": {},
   "outputs": [],
   "source": [
    "PropSampOtherCAI[order(-PropUnassigned)]"
   ]
  },
  {
   "cell_type": "markdown",
   "metadata": {},
   "source": [
    "__Seems like good justification to not subsample the ROMS particles from other/Camotes Islands__"
   ]
  },
  {
   "cell_type": "code",
   "execution_count": null,
   "metadata": {},
   "outputs": [],
   "source": []
  },
  {
   "cell_type": "code",
   "execution_count": null,
   "metadata": {},
   "outputs": [],
   "source": []
  },
  {
   "cell_type": "code",
   "execution_count": null,
   "metadata": {},
   "outputs": [],
   "source": []
  },
  {
   "cell_type": "code",
   "execution_count": null,
   "metadata": {},
   "outputs": [],
   "source": []
  },
  {
   "cell_type": "code",
   "execution_count": null,
   "metadata": {},
   "outputs": [],
   "source": [
    "\n"
   ]
  },
  {
   "cell_type": "code",
   "execution_count": null,
   "metadata": {},
   "outputs": [],
   "source": []
  },
  {
   "cell_type": "code",
   "execution_count": null,
   "metadata": {
    "scrolled": false
   },
   "outputs": [],
   "source": []
  },
  {
   "cell_type": "code",
   "execution_count": null,
   "metadata": {},
   "outputs": [],
   "source": []
  },
  {
   "cell_type": "code",
   "execution_count": null,
   "metadata": {},
   "outputs": [],
   "source": []
  },
  {
   "cell_type": "code",
   "execution_count": null,
   "metadata": {
    "scrolled": false
   },
   "outputs": [],
   "source": []
  },
  {
   "cell_type": "code",
   "execution_count": null,
   "metadata": {},
   "outputs": [],
   "source": []
  },
  {
   "cell_type": "code",
   "execution_count": null,
   "metadata": {},
   "outputs": [],
   "source": []
  },
  {
   "cell_type": "code",
   "execution_count": null,
   "metadata": {},
   "outputs": [],
   "source": []
  },
  {
   "cell_type": "code",
   "execution_count": null,
   "metadata": {},
   "outputs": [],
   "source": [
    "\n"
   ]
  },
  {
   "cell_type": "code",
   "execution_count": null,
   "metadata": {},
   "outputs": [],
   "source": [
    "nrow(dest_sampled)\n",
    "nrow(SimConn)"
   ]
  },
  {
   "cell_type": "code",
   "execution_count": null,
   "metadata": {
    "scrolled": false
   },
   "outputs": [],
   "source": [
    "#save inter file\n",
    "#fwrite(dest_sampled, file=\"~/oceanography/script_output/LongFormConnWithProbsTest.csv\")\n",
    "#see if I can write as a compressed file so it can be stored on github\n",
    "#https://stackoverflow.com/questions/42788401/is-possible-to-use-fwrite-from-data-table-with-gzfile"
   ]
  },
  {
   "cell_type": "code",
   "execution_count": null,
   "metadata": {},
   "outputs": [],
   "source": []
  },
  {
   "cell_type": "code",
   "execution_count": null,
   "metadata": {},
   "outputs": [],
   "source": []
  },
  {
   "cell_type": "code",
   "execution_count": null,
   "metadata": {},
   "outputs": [],
   "source": []
  },
  {
   "cell_type": "code",
   "execution_count": null,
   "metadata": {},
   "outputs": [],
   "source": []
  },
  {
   "cell_type": "code",
   "execution_count": null,
   "metadata": {},
   "outputs": [],
   "source": []
  }
 ],
 "metadata": {
  "kernelspec": {
   "display_name": "R",
   "language": "R",
   "name": "ir"
  },
  "language_info": {
   "codemirror_mode": "r",
   "file_extension": ".r",
   "mimetype": "text/x-r-source",
   "name": "R",
   "pygments_lexer": "r",
   "version": "3.6.1"
  }
 },
 "nbformat": 4,
 "nbformat_minor": 4
}
