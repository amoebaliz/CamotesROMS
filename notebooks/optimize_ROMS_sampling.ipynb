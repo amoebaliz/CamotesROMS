{
 "cells": [
  {
   "cell_type": "code",
   "execution_count": 13,
   "metadata": {},
   "outputs": [
    {
     "name": "stderr",
     "output_type": "stream",
     "text": [
      "Warning message in fread(file = \"~/parentage/kernel_fitting/1340_loci/final_results/tables/kernel_fitting_summary.csv\"):\n",
      "“Previous fread() session was not cleaned up properly. Cleaned up ok at the beginning of this fread() call.”"
     ]
    }
   ],
   "source": [
    "Packages <- c(\"dplyr\",  \"nleqslv\", \"broom\",\"cubature\", \"geosphere\", \"data.table\",  \"ggplot2\", \"bbmle\", \"stringr\",  \"lubridate\", \"RColorBrewer\")\n",
    "\n",
    "invisible(suppressPackageStartupMessages(lapply(Packages, library, character.only = TRUE)))\n",
    "\n",
    "setwd('/local/home/katrinac/oceanography')\n",
    "\"%!in%\" <- function(x,table) match(x,table, nomatch = 0) == 0\n",
    "source(\"~/parentage/kernel_fitting/1340_loci/functions/ll_kt_both_bbmle.R\")\n",
    "#source(\"~/oceanography/scripts/PredictedProportions.R\")\n",
    "\n",
    "#read in the kernel fitting summary\n",
    "kernels <- fread(file=\"~/parentage/kernel_fitting/1340_loci/final_results/tables/kernel_fitting_summary.csv\")\n",
    "kernel2012_14 <- fread(file=\"~/oceanography/empirical_data/genetics/GenKernelsForROMSComp2012-14.csv\")\n",
    "\n",
    "#read in the centroids adjusted for the simulation, so the Magbangons combined \n",
    "#centroids <- fread(file=\"~/oceanography/script_output/SurveyData/SimulationCentroids.csv\")\n",
    "Centroids <- fread(file=\"~/oceanography/empirical_data/site_centroids_SimTest.csv\")\n",
    "setorder(Centroids, site)\n",
    "#read in the table with number of recruits sampled at each site for each year\n",
    "AnnualRecsSamp <- fread(file=\"~/oceanography/script_output/SurveyData/AnnualRecruitsSampled.csv\")\n",
    "#read in the table of the proportion of anemones sampled at each site for each year\n",
    "PropSamp <- fread(file=\"~/oceanography/script_output/SurveyData/ProportionHabitatSampled.csv\")\n",
    "setnames(PropSamp, c(\"PropAnemSamp\", \"TotalAnems\"), c(\"prop_anem_samp\", \"total_anems\"))\n",
    "#read in the ROMS simulation connectivity table with metadata, not yet subsetted (*but check this)\n",
    "#DateJoin <- fread(file=\"~/oceanography/script_output/ROMSDataTables/LongFormConnWithProbs.csv\")\n",
    "#setnames(DateJoin, c(\"YearSampled\", \"SurvWeight\", \"Dest\", \"DestNOffsAnnual\", \"DestPropSamp\", \"DestTotalAnems\", \"Source\", \"SourceNOffsAnnual\", \"SourcePropSamp\", \"SourceTotalAnems\", \"SimMonth\", \"SimDay\", \"SimYear\", \"SimMonsoon\", \"DailyParticles\", \"ParticleID\", \"SourceSize\"), \n",
    "#        c(\"year_sampled\", \"surv_weight\", \"dest\", \"dest_n_rec_annual\", \"dest_prop_samp\", \"dest_total_anems\", \"source\", \"source_n_rec_annual\", \"source_prop_samp\", \"source_total_anems\", \"sim_month\", \"sim_day\", \"sim_year\", \"sim_monsoon\", \"daily_particles\", \"particle_id\", \"source_size\"))\n",
    "\n",
    "#make vectors defining sites we didn't sample, but that are in the model, and the sandflats specifically \n",
    "unsampled_sites <- c(\"SF1\", \"SF2\", \"SF3\", \"SF4\", \"SF5\", \"SF6\", \"Pangasugan\", \"Other\", \"CAI\") \n",
    "sand_flats <- c(\"SF1\", \"SF2\", \"SF3\", \"SF4\", \"SF5\", \"SF6\") \n",
    "sites_to_remove <- c(\"SF1\", \"SF2\", \"SF3\", \"SF4\", \"SF5\", \"SF6\", \"Pangasugan\") \n",
    "#make the constant inputs for the kernel fitting function\n",
    "#distance matrix using the centroids with combined Magbangon\n",
    "### List of source locations\n",
    "SitesSource <- Centroids\n",
    "\n",
    "### List of destination locations\n",
    "SitesDest <- Centroids\n",
    "\n",
    "DistMatm <- distm(SitesSource[,c('lon','lat')], SitesSource[,c('lon','lat')], fun=distVincentyEllipsoid)\n",
    "Distances <- DistMatm*10^-3\n",
    "#read in the reef areas for the kernel fitting\n",
    "Area <- fread(\"~/oceanography/empirical_data/site_area_header_nonsurveyed_simulation_kernels_test.csv\") %>%\n",
    "    arrange(site) %>%\n",
    "    filter(site %!in% c(\"near_north_full1\", \"near_north_full2\", \"near_north_full3\", \"near_south_full1\", \"near_south_full2\", \"near_south_full3\")) %>%\n",
    "    mutate(kmsq=msq*10^-6)# %>%\n",
    "    #select(kmsq) #need to uncomment for functions to work\n",
    "setorder(Area, site)\n",
    "reef_sizes <- as.matrix(Area$kmsq)\n",
    "\n",
    "#make a table with the survey information for each site (how many fish sampled, prop anems sampled, total number of anems at site)\n",
    "SurveyData <- AnnualRecsSamp[PropSamp, on=.(year=end_year, site)][#join the sampling tables together\n",
    "    is.na(n_offs_gen), n_offs_gen := 0][#change NA's to 0\n",
    "    ,-\"time_frame\"]#drop the time_frame column, we can key with end_year\n",
    "#setnames(SurveyData, c(\"PropAnemSamp\", \"TotalAnems\"), c(\"prop_anem_samp\", \"total_anems\"))\n",
    "#setkey(SurveyData, site)\n",
    "#check all sites are represented in centroids and area (and indirectly distances, which comes from centroids)\n",
    "#Area[site %!in% centroids$site] #should be nothing\n",
    "\n",
    "#genetic data to make predicted proportions\n",
    "Assignments2012_4 <- as.matrix(read.csv(\"~/parentage/kernel_fitting/1340_loci/input/parentage_matrix_2012-14ForROMSComp.csv\", header=FALSE))\n",
    "Adult_sample_proportions2012_4 <- as.matrix(read.csv(\"~/parentage/kernel_fitting/1340_loci/input/prop_samp12-14.csv\", header=FALSE))\n",
    "Sampled_reefs2012_4 <- as.matrix(read.csv(\"~/parentage/kernel_fitting/1340_loci/input/site_index12-14.csv\", header=FALSE))\n",
    "\n",
    "Distances_gen <- as.matrix(read.csv(\"~/parentage/kernel_fitting/1340_loci/input/distance_matrix_unsurveyed.csv\", header=FALSE))\n",
    "Reef_sizes_gen <- as.matrix(read.csv(\"~/parentage/kernel_fitting/894_loci/area_unsurveyed.csv\", header=FALSE))\n",
    "Centroids_gen <- as.matrix(read.csv(\"~/parentage/kernel_fitting/894_loci/centroids_unsurveyed.csv\", header=T))\n",
    "\n",
    "Assignments2012 <- as.matrix(read.csv(\"~/parentage/kernel_fitting/1340_loci/input/parentage_matrix12_corrected.csv\", header=FALSE))\n",
    "Adult_sample_proportions2012 <- as.matrix(read.csv(\"~/parentage/kernel_fitting/1340_loci/input/prop_samp12.csv\", header=FALSE))\n",
    "Sampled_reefs2012 <- as.matrix(read.csv(\"~/parentage/kernel_fitting/1340_loci/input/site_index12.csv\", header=FALSE))\n",
    "\n",
    "Assignments2013 <- as.matrix(read.csv(\"~/parentage/kernel_fitting/1340_loci/input/parentage_matrix13_corrected.csv\", header=FALSE))\n",
    "Adult_sample_proportions2013 <- as.matrix(read.csv(\"~/parentage/kernel_fitting/1340_loci/input/prop_samp13.csv\", header=FALSE))\n",
    "Sampled_reefs2013 <- as.matrix(read.csv(\"~/parentage/kernel_fitting/1340_loci/input/site_index13.csv\", header=FALSE))\n",
    "\n",
    "Assignments2014 <- as.matrix(read.csv(\"~/parentage/kernel_fitting/1340_loci/input/parentage_matrix14_corrected.csv\", header=FALSE))\n",
    "Adult_sample_proportions2014 <- as.matrix(read.csv(\"~/parentage/kernel_fitting/1340_loci/input/prop_samp14.csv\", header=FALSE))\n",
    "Sampled_reefs2014 <- as.matrix(read.csv(\"~/parentage/kernel_fitting/1340_loci/input/site_index14.csv\", header=FALSE))\n",
    "\n",
    "#Allison's abundance time series data \n",
    "#download.file(url = \"https://github.com/pinskylab/Clownfish_persistence/blob/master/Data/Script_outputs/females_df_F.RData?raw=true\", destfile = \"~/oceanography/empirical_data/genetics/females_df_F.RData\")\n",
    "load(\"~/oceanography/empirical_data/genetics/females_df_F.RData\")\n",
    "Abundance <- as.data.table(females_df_F)"
   ]
  },
  {
   "cell_type": "code",
   "execution_count": 74,
   "metadata": {},
   "outputs": [],
   "source": [
    "#make a site index table, use this for Sampled_reefs input in kernel fitting\n",
    "SiteIndex <- unique(Centroids, by=\"site\")[, \"site\"][, index := .I] #add the row number as the unique site index\n"
   ]
  },
  {
   "cell_type": "code",
   "execution_count": 15,
   "metadata": {},
   "outputs": [],
   "source": [
    "#join the survey sampling tables together\n",
    "SurveyData <- AnnualRecsSamp[PropSamp, on=.(year=end_year, site)][\n",
    "    is.na(n_offs_gen), n_offs_gen := 0][#change NA's to 0\n",
    "    ,-\"time_frame\"]#drop the time_frame\n",
    "\n",
    "SurveyData <- Abundance[, c(\"year\", \"site\", \"nF\")][SurveyData, on=.(year, site)]#join in Allison's estimate of female abundance. There are NA values, but that's okay we can figure those out when we start thinking about incorporating uncertainty in this\n"
   ]
  },
  {
   "cell_type": "code",
   "execution_count": 106,
   "metadata": {},
   "outputs": [],
   "source": [
    "sites_to_remove <- c(\"SF1\", \"SF2\", \"SF3\", \"SF4\", \"SF5\", \"SF6\", \"Pangasugan\") \n"
   ]
  },
  {
   "cell_type": "code",
   "execution_count": 4,
   "metadata": {},
   "outputs": [
    {
     "data": {
      "text/html": [
       "<table>\n",
       "<thead><tr><th scope=col>date</th><th scope=col>source</th><th scope=col>destination</th><th scope=col>SourceSampled</th><th scope=col>DestSampled</th><th scope=col>SimMonth</th><th scope=col>SimDay</th><th scope=col>SimYear</th><th scope=col>YearSampled</th><th scope=col>SimMonsoon</th><th scope=col>DailyParticles</th><th scope=col>ParticlesReleasedDaily</th><th scope=col>dist_km</th><th scope=col>bearing</th><th scope=col>direction</th></tr></thead>\n",
       "<tbody>\n",
       "\t<tr><td>2010-10-01      </td><td>Other           </td><td>Palanas         </td><td>no              </td><td>yes             </td><td>10              </td><td>10              </td><td>2010            </td><td>2011            </td><td>SWM             </td><td> 9              </td><td>4497728         </td><td>NA              </td><td>NA              </td><td>NA              </td></tr>\n",
       "\t<tr><td>2010-10-01      </td><td>Other           </td><td>Wangag          </td><td>no              </td><td>yes             </td><td>10              </td><td>10              </td><td>2010            </td><td>2011            </td><td>SWM             </td><td> 4              </td><td>4497728         </td><td>NA              </td><td>NA              </td><td>NA              </td></tr>\n",
       "\t<tr><td>2010-10-01      </td><td>Other           </td><td>Magbangon       </td><td>no              </td><td>yes             </td><td>10              </td><td>10              </td><td>2010            </td><td>2011            </td><td>SWM             </td><td>11              </td><td>4497728         </td><td>NA              </td><td>NA              </td><td>NA              </td></tr>\n",
       "\t<tr><td>2010-10-01      </td><td>Other           </td><td>Cabatoan        </td><td>no              </td><td>yes             </td><td>10              </td><td>10              </td><td>2010            </td><td>2011            </td><td>SWM             </td><td>12              </td><td>4497728         </td><td>NA              </td><td>NA              </td><td>NA              </td></tr>\n",
       "\t<tr><td>2010-10-01      </td><td>Other           </td><td>Caridad Cemetery</td><td>no              </td><td>yes             </td><td>10              </td><td>10              </td><td>2010            </td><td>2011            </td><td>SWM             </td><td> 0              </td><td>4497728         </td><td>NA              </td><td>NA              </td><td>NA              </td></tr>\n",
       "\t<tr><td>2010-10-01      </td><td>Other           </td><td>Caridad Proper  </td><td>no              </td><td>yes             </td><td>10              </td><td>10              </td><td>2010            </td><td>2011            </td><td>SWM             </td><td> 1              </td><td>4497728         </td><td>NA              </td><td>NA              </td><td>NA              </td></tr>\n",
       "</tbody>\n",
       "</table>\n"
      ],
      "text/latex": [
       "\\begin{tabular}{r|lllllllllllllll}\n",
       " date & source & destination & SourceSampled & DestSampled & SimMonth & SimDay & SimYear & YearSampled & SimMonsoon & DailyParticles & ParticlesReleasedDaily & dist\\_km & bearing & direction\\\\\n",
       "\\hline\n",
       "\t 2010-10-01       & Other            & Palanas          & no               & yes              & 10               & 10               & 2010             & 2011             & SWM              &  9               & 4497728          & NA               & NA               & NA              \\\\\n",
       "\t 2010-10-01       & Other            & Wangag           & no               & yes              & 10               & 10               & 2010             & 2011             & SWM              &  4               & 4497728          & NA               & NA               & NA              \\\\\n",
       "\t 2010-10-01       & Other            & Magbangon        & no               & yes              & 10               & 10               & 2010             & 2011             & SWM              & 11               & 4497728          & NA               & NA               & NA              \\\\\n",
       "\t 2010-10-01       & Other            & Cabatoan         & no               & yes              & 10               & 10               & 2010             & 2011             & SWM              & 12               & 4497728          & NA               & NA               & NA              \\\\\n",
       "\t 2010-10-01       & Other            & Caridad Cemetery & no               & yes              & 10               & 10               & 2010             & 2011             & SWM              &  0               & 4497728          & NA               & NA               & NA              \\\\\n",
       "\t 2010-10-01       & Other            & Caridad Proper   & no               & yes              & 10               & 10               & 2010             & 2011             & SWM              &  1               & 4497728          & NA               & NA               & NA              \\\\\n",
       "\\end{tabular}\n"
      ],
      "text/markdown": [
       "\n",
       "| date | source | destination | SourceSampled | DestSampled | SimMonth | SimDay | SimYear | YearSampled | SimMonsoon | DailyParticles | ParticlesReleasedDaily | dist_km | bearing | direction |\n",
       "|---|---|---|---|---|---|---|---|---|---|---|---|---|---|---|\n",
       "| 2010-10-01       | Other            | Palanas          | no               | yes              | 10               | 10               | 2010             | 2011             | SWM              |  9               | 4497728          | NA               | NA               | NA               |\n",
       "| 2010-10-01       | Other            | Wangag           | no               | yes              | 10               | 10               | 2010             | 2011             | SWM              |  4               | 4497728          | NA               | NA               | NA               |\n",
       "| 2010-10-01       | Other            | Magbangon        | no               | yes              | 10               | 10               | 2010             | 2011             | SWM              | 11               | 4497728          | NA               | NA               | NA               |\n",
       "| 2010-10-01       | Other            | Cabatoan         | no               | yes              | 10               | 10               | 2010             | 2011             | SWM              | 12               | 4497728          | NA               | NA               | NA               |\n",
       "| 2010-10-01       | Other            | Caridad Cemetery | no               | yes              | 10               | 10               | 2010             | 2011             | SWM              |  0               | 4497728          | NA               | NA               | NA               |\n",
       "| 2010-10-01       | Other            | Caridad Proper   | no               | yes              | 10               | 10               | 2010             | 2011             | SWM              |  1               | 4497728          | NA               | NA               | NA               |\n",
       "\n"
      ],
      "text/plain": [
       "  date       source destination      SourceSampled DestSampled SimMonth SimDay\n",
       "1 2010-10-01 Other  Palanas          no            yes         10       10    \n",
       "2 2010-10-01 Other  Wangag           no            yes         10       10    \n",
       "3 2010-10-01 Other  Magbangon        no            yes         10       10    \n",
       "4 2010-10-01 Other  Cabatoan         no            yes         10       10    \n",
       "5 2010-10-01 Other  Caridad Cemetery no            yes         10       10    \n",
       "6 2010-10-01 Other  Caridad Proper   no            yes         10       10    \n",
       "  SimYear YearSampled SimMonsoon DailyParticles ParticlesReleasedDaily dist_km\n",
       "1 2010    2011        SWM         9             4497728                NA     \n",
       "2 2010    2011        SWM         4             4497728                NA     \n",
       "3 2010    2011        SWM        11             4497728                NA     \n",
       "4 2010    2011        SWM        12             4497728                NA     \n",
       "5 2010    2011        SWM         0             4497728                NA     \n",
       "6 2010    2011        SWM         1             4497728                NA     \n",
       "  bearing direction\n",
       "1 NA      NA       \n",
       "2 NA      NA       \n",
       "3 NA      NA       \n",
       "4 NA      NA       \n",
       "5 NA      NA       \n",
       "6 NA      NA       "
      ]
     },
     "metadata": {},
     "output_type": "display_data"
    }
   ],
   "source": []
  },
  {
   "cell_type": "code",
   "execution_count": null,
   "metadata": {},
   "outputs": [],
   "source": []
  },
  {
   "cell_type": "code",
   "execution_count": null,
   "metadata": {},
   "outputs": [],
   "source": []
  },
  {
   "cell_type": "code",
   "execution_count": null,
   "metadata": {},
   "outputs": [],
   "source": []
  },
  {
   "cell_type": "code",
   "execution_count": null,
   "metadata": {},
   "outputs": [],
   "source": []
  },
  {
   "cell_type": "code",
   "execution_count": null,
   "metadata": {},
   "outputs": [],
   "source": []
  },
  {
   "cell_type": "code",
   "execution_count": 1,
   "metadata": {},
   "outputs": [
    {
     "ename": "ERROR",
     "evalue": "Error in head(SurveyData): object 'SurveyData' not found\n",
     "output_type": "error",
     "traceback": [
      "Error in head(SurveyData): object 'SurveyData' not found\nTraceback:\n",
      "1. head(SurveyData)"
     ]
    }
   ],
   "source": [
    "head(SurveyData)"
   ]
  },
  {
   "cell_type": "code",
   "execution_count": 62,
   "metadata": {},
   "outputs": [
    {
     "data": {
      "text/html": [
       "<table>\n",
       "<thead><tr><th scope=col>year</th><th scope=col>num_parentage_matches</th><th scope=col>date</th><th scope=col>surv_weight</th><th scope=col>dest</th><th scope=col>dest_n_offs_annual</th><th scope=col>dest_prop_samp</th><th scope=col>dest_total_anems</th><th scope=col>source</th><th scope=col>source_n_offs_annual</th><th scope=col>source_prop_samp</th><th scope=col>source_total_anems</th><th scope=col>sim_month</th><th scope=col>sim_day</th><th scope=col>sim_year</th><th scope=col>monsoon</th><th scope=col>daily_particles</th><th scope=col>particle_id</th><th scope=col>source_size</th></tr></thead>\n",
       "<tbody>\n",
       "\t<tr><td>2012      </td><td>3         </td><td>2011-10-01</td><td>0.4016461 </td><td>Palanas   </td><td>13        </td><td>0.2898551 </td><td>138       </td><td>Other     </td><td>NA        </td><td>NA        </td><td>NA        </td><td>10        </td><td>10        </td><td>2011      </td><td>SWM       </td><td>69        </td><td>P54670320 </td><td>NA        </td></tr>\n",
       "\t<tr><td>2012      </td><td>3         </td><td>2011-10-01</td><td>0.4016461 </td><td>Palanas   </td><td>13        </td><td>0.2898551 </td><td>138       </td><td>Other     </td><td>NA        </td><td>NA        </td><td>NA        </td><td>10        </td><td>10        </td><td>2011      </td><td>SWM       </td><td>69        </td><td>P54670321 </td><td>NA        </td></tr>\n",
       "\t<tr><td>2012      </td><td>3         </td><td>2011-10-01</td><td>0.4016461 </td><td>Palanas   </td><td>13        </td><td>0.2898551 </td><td>138       </td><td>Other     </td><td>NA        </td><td>NA        </td><td>NA        </td><td>10        </td><td>10        </td><td>2011      </td><td>SWM       </td><td>69        </td><td>P54670322 </td><td>NA        </td></tr>\n",
       "\t<tr><td>2012      </td><td>3         </td><td>2011-10-01</td><td>0.4016461 </td><td>Palanas   </td><td>13        </td><td>0.2898551 </td><td>138       </td><td>Other     </td><td>NA        </td><td>NA        </td><td>NA        </td><td>10        </td><td>10        </td><td>2011      </td><td>SWM       </td><td>69        </td><td>P54670323 </td><td>NA        </td></tr>\n",
       "\t<tr><td>2012      </td><td>3         </td><td>2011-10-01</td><td>0.4016461 </td><td>Palanas   </td><td>13        </td><td>0.2898551 </td><td>138       </td><td>Other     </td><td>NA        </td><td>NA        </td><td>NA        </td><td>10        </td><td>10        </td><td>2011      </td><td>SWM       </td><td>69        </td><td>P54670324 </td><td>NA        </td></tr>\n",
       "\t<tr><td>2012      </td><td>3         </td><td>2011-10-01</td><td>0.4016461 </td><td>Palanas   </td><td>13        </td><td>0.2898551 </td><td>138       </td><td>Other     </td><td>NA        </td><td>NA        </td><td>NA        </td><td>10        </td><td>10        </td><td>2011      </td><td>SWM       </td><td>69        </td><td>P54670325 </td><td>NA        </td></tr>\n",
       "</tbody>\n",
       "</table>\n"
      ],
      "text/latex": [
       "\\begin{tabular}{r|lllllllllllllllllll}\n",
       " year & num\\_parentage\\_matches & date & surv\\_weight & dest & dest\\_n\\_offs\\_annual & dest\\_prop\\_samp & dest\\_total\\_anems & source & source\\_n\\_offs\\_annual & source\\_prop\\_samp & source\\_total\\_anems & sim\\_month & sim\\_day & sim\\_year & monsoon & daily\\_particles & particle\\_id & source\\_size\\\\\n",
       "\\hline\n",
       "\t 2012       & 3          & 2011-10-01 & 0.4016461  & Palanas    & 13         & 0.2898551  & 138        & Other      & NA         & NA         & NA         & 10         & 10         & 2011       & SWM        & 69         & P54670320  & NA        \\\\\n",
       "\t 2012       & 3          & 2011-10-01 & 0.4016461  & Palanas    & 13         & 0.2898551  & 138        & Other      & NA         & NA         & NA         & 10         & 10         & 2011       & SWM        & 69         & P54670321  & NA        \\\\\n",
       "\t 2012       & 3          & 2011-10-01 & 0.4016461  & Palanas    & 13         & 0.2898551  & 138        & Other      & NA         & NA         & NA         & 10         & 10         & 2011       & SWM        & 69         & P54670322  & NA        \\\\\n",
       "\t 2012       & 3          & 2011-10-01 & 0.4016461  & Palanas    & 13         & 0.2898551  & 138        & Other      & NA         & NA         & NA         & 10         & 10         & 2011       & SWM        & 69         & P54670323  & NA        \\\\\n",
       "\t 2012       & 3          & 2011-10-01 & 0.4016461  & Palanas    & 13         & 0.2898551  & 138        & Other      & NA         & NA         & NA         & 10         & 10         & 2011       & SWM        & 69         & P54670324  & NA        \\\\\n",
       "\t 2012       & 3          & 2011-10-01 & 0.4016461  & Palanas    & 13         & 0.2898551  & 138        & Other      & NA         & NA         & NA         & 10         & 10         & 2011       & SWM        & 69         & P54670325  & NA        \\\\\n",
       "\\end{tabular}\n"
      ],
      "text/markdown": [
       "\n",
       "| year | num_parentage_matches | date | surv_weight | dest | dest_n_offs_annual | dest_prop_samp | dest_total_anems | source | source_n_offs_annual | source_prop_samp | source_total_anems | sim_month | sim_day | sim_year | monsoon | daily_particles | particle_id | source_size |\n",
       "|---|---|---|---|---|---|---|---|---|---|---|---|---|---|---|---|---|---|---|\n",
       "| 2012       | 3          | 2011-10-01 | 0.4016461  | Palanas    | 13         | 0.2898551  | 138        | Other      | NA         | NA         | NA         | 10         | 10         | 2011       | SWM        | 69         | P54670320  | NA         |\n",
       "| 2012       | 3          | 2011-10-01 | 0.4016461  | Palanas    | 13         | 0.2898551  | 138        | Other      | NA         | NA         | NA         | 10         | 10         | 2011       | SWM        | 69         | P54670321  | NA         |\n",
       "| 2012       | 3          | 2011-10-01 | 0.4016461  | Palanas    | 13         | 0.2898551  | 138        | Other      | NA         | NA         | NA         | 10         | 10         | 2011       | SWM        | 69         | P54670322  | NA         |\n",
       "| 2012       | 3          | 2011-10-01 | 0.4016461  | Palanas    | 13         | 0.2898551  | 138        | Other      | NA         | NA         | NA         | 10         | 10         | 2011       | SWM        | 69         | P54670323  | NA         |\n",
       "| 2012       | 3          | 2011-10-01 | 0.4016461  | Palanas    | 13         | 0.2898551  | 138        | Other      | NA         | NA         | NA         | 10         | 10         | 2011       | SWM        | 69         | P54670324  | NA         |\n",
       "| 2012       | 3          | 2011-10-01 | 0.4016461  | Palanas    | 13         | 0.2898551  | 138        | Other      | NA         | NA         | NA         | 10         | 10         | 2011       | SWM        | 69         | P54670325  | NA         |\n",
       "\n"
      ],
      "text/plain": [
       "  year num_parentage_matches date       surv_weight dest    dest_n_offs_annual\n",
       "1 2012 3                     2011-10-01 0.4016461   Palanas 13                \n",
       "2 2012 3                     2011-10-01 0.4016461   Palanas 13                \n",
       "3 2012 3                     2011-10-01 0.4016461   Palanas 13                \n",
       "4 2012 3                     2011-10-01 0.4016461   Palanas 13                \n",
       "5 2012 3                     2011-10-01 0.4016461   Palanas 13                \n",
       "6 2012 3                     2011-10-01 0.4016461   Palanas 13                \n",
       "  dest_prop_samp dest_total_anems source source_n_offs_annual source_prop_samp\n",
       "1 0.2898551      138              Other  NA                   NA              \n",
       "2 0.2898551      138              Other  NA                   NA              \n",
       "3 0.2898551      138              Other  NA                   NA              \n",
       "4 0.2898551      138              Other  NA                   NA              \n",
       "5 0.2898551      138              Other  NA                   NA              \n",
       "6 0.2898551      138              Other  NA                   NA              \n",
       "  source_total_anems sim_month sim_day sim_year monsoon daily_particles\n",
       "1 NA                 10        10      2011     SWM     69             \n",
       "2 NA                 10        10      2011     SWM     69             \n",
       "3 NA                 10        10      2011     SWM     69             \n",
       "4 NA                 10        10      2011     SWM     69             \n",
       "5 NA                 10        10      2011     SWM     69             \n",
       "6 NA                 10        10      2011     SWM     69             \n",
       "  particle_id source_size\n",
       "1 P54670320   NA         \n",
       "2 P54670321   NA         \n",
       "3 P54670322   NA         \n",
       "4 P54670323   NA         \n",
       "5 P54670324   NA         \n",
       "6 P54670325   NA         "
      ]
     },
     "metadata": {},
     "output_type": "display_data"
    }
   ],
   "source": [
    "head(DestSampled)"
   ]
  },
  {
   "cell_type": "code",
   "execution_count": 61,
   "metadata": {},
   "outputs": [
    {
     "data": {
      "text/html": [
       "<table>\n",
       "<thead><tr><th scope=col>year_sampled</th><th scope=col>date</th><th scope=col>surv_weight</th><th scope=col>dest</th><th scope=col>dest_n_rec_annual</th><th scope=col>dest_prop_samp</th><th scope=col>dest_total_anems</th><th scope=col>source</th><th scope=col>source_n_rec_annual</th><th scope=col>source_prop_samp</th><th scope=col>source_total_anems</th><th scope=col>sim_month</th><th scope=col>sim_day</th><th scope=col>sim_year</th><th scope=col>sim_monsoon</th><th scope=col>daily_particles</th><th scope=col>particle_id</th><th scope=col>source_size</th></tr></thead>\n",
       "<tbody>\n",
       "\t<tr><td>2011       </td><td>2010-10-01 </td><td>0.003292181</td><td>Palanas    </td><td>NA         </td><td>NA         </td><td>NA         </td><td>Other      </td><td>NA         </td><td>NA         </td><td>NA         </td><td>10         </td><td>10         </td><td>2010       </td><td>SWM        </td><td>9          </td><td>P1         </td><td>NA         </td></tr>\n",
       "\t<tr><td>2011       </td><td>2010-10-01 </td><td>0.003292181</td><td>Palanas    </td><td>NA         </td><td>NA         </td><td>NA         </td><td>Other      </td><td>NA         </td><td>NA         </td><td>NA         </td><td>10         </td><td>10         </td><td>2010       </td><td>SWM        </td><td>9          </td><td>P2         </td><td>NA         </td></tr>\n",
       "\t<tr><td>2011       </td><td>2010-10-01 </td><td>0.003292181</td><td>Palanas    </td><td>NA         </td><td>NA         </td><td>NA         </td><td>Other      </td><td>NA         </td><td>NA         </td><td>NA         </td><td>10         </td><td>10         </td><td>2010       </td><td>SWM        </td><td>9          </td><td>P3         </td><td>NA         </td></tr>\n",
       "\t<tr><td>2011       </td><td>2010-10-01 </td><td>0.003292181</td><td>Palanas    </td><td>NA         </td><td>NA         </td><td>NA         </td><td>Other      </td><td>NA         </td><td>NA         </td><td>NA         </td><td>10         </td><td>10         </td><td>2010       </td><td>SWM        </td><td>9          </td><td>P4         </td><td>NA         </td></tr>\n",
       "\t<tr><td>2011       </td><td>2010-10-01 </td><td>0.003292181</td><td>Palanas    </td><td>NA         </td><td>NA         </td><td>NA         </td><td>Other      </td><td>NA         </td><td>NA         </td><td>NA         </td><td>10         </td><td>10         </td><td>2010       </td><td>SWM        </td><td>9          </td><td>P5         </td><td>NA         </td></tr>\n",
       "\t<tr><td>2011       </td><td>2010-10-01 </td><td>0.003292181</td><td>Palanas    </td><td>NA         </td><td>NA         </td><td>NA         </td><td>Other      </td><td>NA         </td><td>NA         </td><td>NA         </td><td>10         </td><td>10         </td><td>2010       </td><td>SWM        </td><td>9          </td><td>P6         </td><td>NA         </td></tr>\n",
       "</tbody>\n",
       "</table>\n"
      ],
      "text/latex": [
       "\\begin{tabular}{r|llllllllllllllllll}\n",
       " year\\_sampled & date & surv\\_weight & dest & dest\\_n\\_rec\\_annual & dest\\_prop\\_samp & dest\\_total\\_anems & source & source\\_n\\_rec\\_annual & source\\_prop\\_samp & source\\_total\\_anems & sim\\_month & sim\\_day & sim\\_year & sim\\_monsoon & daily\\_particles & particle\\_id & source\\_size\\\\\n",
       "\\hline\n",
       "\t 2011        & 2010-10-01  & 0.003292181 & Palanas     & NA          & NA          & NA          & Other       & NA          & NA          & NA          & 10          & 10          & 2010        & SWM         & 9           & P1          & NA         \\\\\n",
       "\t 2011        & 2010-10-01  & 0.003292181 & Palanas     & NA          & NA          & NA          & Other       & NA          & NA          & NA          & 10          & 10          & 2010        & SWM         & 9           & P2          & NA         \\\\\n",
       "\t 2011        & 2010-10-01  & 0.003292181 & Palanas     & NA          & NA          & NA          & Other       & NA          & NA          & NA          & 10          & 10          & 2010        & SWM         & 9           & P3          & NA         \\\\\n",
       "\t 2011        & 2010-10-01  & 0.003292181 & Palanas     & NA          & NA          & NA          & Other       & NA          & NA          & NA          & 10          & 10          & 2010        & SWM         & 9           & P4          & NA         \\\\\n",
       "\t 2011        & 2010-10-01  & 0.003292181 & Palanas     & NA          & NA          & NA          & Other       & NA          & NA          & NA          & 10          & 10          & 2010        & SWM         & 9           & P5          & NA         \\\\\n",
       "\t 2011        & 2010-10-01  & 0.003292181 & Palanas     & NA          & NA          & NA          & Other       & NA          & NA          & NA          & 10          & 10          & 2010        & SWM         & 9           & P6          & NA         \\\\\n",
       "\\end{tabular}\n"
      ],
      "text/markdown": [
       "\n",
       "| year_sampled | date | surv_weight | dest | dest_n_rec_annual | dest_prop_samp | dest_total_anems | source | source_n_rec_annual | source_prop_samp | source_total_anems | sim_month | sim_day | sim_year | sim_monsoon | daily_particles | particle_id | source_size |\n",
       "|---|---|---|---|---|---|---|---|---|---|---|---|---|---|---|---|---|---|\n",
       "| 2011        | 2010-10-01  | 0.003292181 | Palanas     | NA          | NA          | NA          | Other       | NA          | NA          | NA          | 10          | 10          | 2010        | SWM         | 9           | P1          | NA          |\n",
       "| 2011        | 2010-10-01  | 0.003292181 | Palanas     | NA          | NA          | NA          | Other       | NA          | NA          | NA          | 10          | 10          | 2010        | SWM         | 9           | P2          | NA          |\n",
       "| 2011        | 2010-10-01  | 0.003292181 | Palanas     | NA          | NA          | NA          | Other       | NA          | NA          | NA          | 10          | 10          | 2010        | SWM         | 9           | P3          | NA          |\n",
       "| 2011        | 2010-10-01  | 0.003292181 | Palanas     | NA          | NA          | NA          | Other       | NA          | NA          | NA          | 10          | 10          | 2010        | SWM         | 9           | P4          | NA          |\n",
       "| 2011        | 2010-10-01  | 0.003292181 | Palanas     | NA          | NA          | NA          | Other       | NA          | NA          | NA          | 10          | 10          | 2010        | SWM         | 9           | P5          | NA          |\n",
       "| 2011        | 2010-10-01  | 0.003292181 | Palanas     | NA          | NA          | NA          | Other       | NA          | NA          | NA          | 10          | 10          | 2010        | SWM         | 9           | P6          | NA          |\n",
       "\n"
      ],
      "text/plain": [
       "  year_sampled date       surv_weight dest    dest_n_rec_annual dest_prop_samp\n",
       "1 2011         2010-10-01 0.003292181 Palanas NA                NA            \n",
       "2 2011         2010-10-01 0.003292181 Palanas NA                NA            \n",
       "3 2011         2010-10-01 0.003292181 Palanas NA                NA            \n",
       "4 2011         2010-10-01 0.003292181 Palanas NA                NA            \n",
       "5 2011         2010-10-01 0.003292181 Palanas NA                NA            \n",
       "6 2011         2010-10-01 0.003292181 Palanas NA                NA            \n",
       "  dest_total_anems source source_n_rec_annual source_prop_samp\n",
       "1 NA               Other  NA                  NA              \n",
       "2 NA               Other  NA                  NA              \n",
       "3 NA               Other  NA                  NA              \n",
       "4 NA               Other  NA                  NA              \n",
       "5 NA               Other  NA                  NA              \n",
       "6 NA               Other  NA                  NA              \n",
       "  source_total_anems sim_month sim_day sim_year sim_monsoon daily_particles\n",
       "1 NA                 10        10      2010     SWM         9              \n",
       "2 NA                 10        10      2010     SWM         9              \n",
       "3 NA                 10        10      2010     SWM         9              \n",
       "4 NA                 10        10      2010     SWM         9              \n",
       "5 NA                 10        10      2010     SWM         9              \n",
       "6 NA                 10        10      2010     SWM         9              \n",
       "  particle_id source_size\n",
       "1 P1          NA         \n",
       "2 P2          NA         \n",
       "3 P3          NA         \n",
       "4 P4          NA         \n",
       "5 P5          NA         \n",
       "6 P6          NA         "
      ]
     },
     "metadata": {},
     "output_type": "display_data"
    }
   ],
   "source": [
    "head(DestSampled)"
   ]
  },
  {
   "cell_type": "markdown",
   "metadata": {},
   "source": [
    "__below is where I left off 06/01/2021. rename columns to be the vector format like_this, and finish making the connectivity matrix for the biophysical simulation next__"
   ]
  },
  {
   "cell_type": "code",
   "execution_count": null,
   "metadata": {},
   "outputs": [],
   "source": [
    "#prep biophysical connectivity matrix\n",
    "#outside of the loop, trim this to only be the destinations we sampled\n",
    "\n",
    "DestSampled <- DateJoin[dest_prop_samp >0]\n",
    "DestSampled <- kernels[Year %in% c(\"2012\", \"2013\", \"2014\")][, Year:=as.integer(Year)][,c(\"Year\", \"NumParentageMatches\")][DestSampled, on=.(Year=year_sampled)]#add in a column for the observed number of parentage matches\n",
    "#rename the monsoon column in the full table for consistency\n",
    "setnames(DestSampled, c(\"sim_monsoon\", \"Year\", \"NumParentageMatches\"), c(\"monsoon\", \"year\", \"num_parentage_matches\"))\n",
    "\n",
    "#each year will require a different set of survey data, so make a list of each and index by site for fast look up\n",
    "PropSampTable <- SurveyData[prop_anem_samp >0, c(\"year\", \"site\")]\n",
    "\n",
    "#make a site index table, use this for Sampled_reefs input in kernel fitting\n",
    "SiteIndex <- unique(Centroids, by=\"site\")[, \"site\"][, index := .I] #add the row number as the unique site index\n",
    "\n",
    "#make sure all sampled sites are represented by joining the survey data to the sampled simulation\n",
    "PropSampTable <- rbind(SurveyData[prop_anem_samp >0 & year %in% c(2012, 2013, 2014), c(\"year\", \"site\")][, .(source=site, dest=site, year=year)][ #will join to the simulated sampling table by source and dest, so make those each a column from site and preserve the year variable as a key\n",
    "    , c(\"year\", \"source\", \"dest\")][, monsoon := \"NEM\"], SurveyData[prop_anem_samp >0 & year %in% c(2012, 2013, 2014), c(\"year\", \"site\")][, .(source=site, dest=site, year=year)][ #will join to the simulated sampling table by source and dest, so make those each a column from site and preserve the year variable as a key\n",
    "    , c(\"year\", \"source\", \"dest\")][, monsoon := \"SWM\"])\n",
    "UnqSurvey <- unique(PropSampTable, by=c(\"source\", \"dest\", \"year\", \"monsoon\"))#add in the diff Monsoon seasons so there are complete parentage matrices later\n",
    "AddDest <- rbind(SurveyData[year %in% c(2012, 2013, 2014) & prop_anem_samp >0][, c(\"year\", \"site\")][, monsoon := \"NEM\"], \n",
    "                  SurveyData[year %in% c(2012, 2013, 2014) & prop_anem_samp >0][ , c(\"year\", \"site\")][, monsoon := \"SWM\"])  #what destinations were sampled, for use with unassigned table\n",
    "\n",
    "\n"
   ]
  },
  {
   "cell_type": "code",
   "execution_count": 100,
   "metadata": {},
   "outputs": [
    {
     "data": {
      "text/html": [
       "<table>\n",
       "<thead><tr><th scope=col>year_sampled</th><th scope=col>date</th><th scope=col>surv_weight</th><th scope=col>dest</th><th scope=col>dest_n_rec_annual</th><th scope=col>dest_prop_samp</th><th scope=col>dest_total_anems</th><th scope=col>source</th><th scope=col>source_n_rec_annual</th><th scope=col>source_prop_samp</th><th scope=col>source_total_anems</th><th scope=col>sim_month</th><th scope=col>sim_day</th><th scope=col>sim_year</th><th scope=col>sim_monsoon</th><th scope=col>daily_particles</th><th scope=col>particle_id</th><th scope=col>source_size</th></tr></thead>\n",
       "<tbody>\n",
       "\t<tr><td>2011       </td><td>2010-10-01 </td><td>0.003292181</td><td>Palanas    </td><td>NA         </td><td>NA         </td><td>NA         </td><td>Other      </td><td>NA         </td><td>NA         </td><td>NA         </td><td>10         </td><td>10         </td><td>2010       </td><td>SWM        </td><td>9          </td><td>P1         </td><td>NA         </td></tr>\n",
       "\t<tr><td>2011       </td><td>2010-10-01 </td><td>0.003292181</td><td>Palanas    </td><td>NA         </td><td>NA         </td><td>NA         </td><td>Other      </td><td>NA         </td><td>NA         </td><td>NA         </td><td>10         </td><td>10         </td><td>2010       </td><td>SWM        </td><td>9          </td><td>P2         </td><td>NA         </td></tr>\n",
       "\t<tr><td>2011       </td><td>2010-10-01 </td><td>0.003292181</td><td>Palanas    </td><td>NA         </td><td>NA         </td><td>NA         </td><td>Other      </td><td>NA         </td><td>NA         </td><td>NA         </td><td>10         </td><td>10         </td><td>2010       </td><td>SWM        </td><td>9          </td><td>P3         </td><td>NA         </td></tr>\n",
       "\t<tr><td>2011       </td><td>2010-10-01 </td><td>0.003292181</td><td>Palanas    </td><td>NA         </td><td>NA         </td><td>NA         </td><td>Other      </td><td>NA         </td><td>NA         </td><td>NA         </td><td>10         </td><td>10         </td><td>2010       </td><td>SWM        </td><td>9          </td><td>P4         </td><td>NA         </td></tr>\n",
       "\t<tr><td>2011       </td><td>2010-10-01 </td><td>0.003292181</td><td>Palanas    </td><td>NA         </td><td>NA         </td><td>NA         </td><td>Other      </td><td>NA         </td><td>NA         </td><td>NA         </td><td>10         </td><td>10         </td><td>2010       </td><td>SWM        </td><td>9          </td><td>P5         </td><td>NA         </td></tr>\n",
       "\t<tr><td>2011       </td><td>2010-10-01 </td><td>0.003292181</td><td>Palanas    </td><td>NA         </td><td>NA         </td><td>NA         </td><td>Other      </td><td>NA         </td><td>NA         </td><td>NA         </td><td>10         </td><td>10         </td><td>2010       </td><td>SWM        </td><td>9          </td><td>P6         </td><td>NA         </td></tr>\n",
       "</tbody>\n",
       "</table>\n"
      ],
      "text/latex": [
       "\\begin{tabular}{r|llllllllllllllllll}\n",
       " year\\_sampled & date & surv\\_weight & dest & dest\\_n\\_rec\\_annual & dest\\_prop\\_samp & dest\\_total\\_anems & source & source\\_n\\_rec\\_annual & source\\_prop\\_samp & source\\_total\\_anems & sim\\_month & sim\\_day & sim\\_year & sim\\_monsoon & daily\\_particles & particle\\_id & source\\_size\\\\\n",
       "\\hline\n",
       "\t 2011        & 2010-10-01  & 0.003292181 & Palanas     & NA          & NA          & NA          & Other       & NA          & NA          & NA          & 10          & 10          & 2010        & SWM         & 9           & P1          & NA         \\\\\n",
       "\t 2011        & 2010-10-01  & 0.003292181 & Palanas     & NA          & NA          & NA          & Other       & NA          & NA          & NA          & 10          & 10          & 2010        & SWM         & 9           & P2          & NA         \\\\\n",
       "\t 2011        & 2010-10-01  & 0.003292181 & Palanas     & NA          & NA          & NA          & Other       & NA          & NA          & NA          & 10          & 10          & 2010        & SWM         & 9           & P3          & NA         \\\\\n",
       "\t 2011        & 2010-10-01  & 0.003292181 & Palanas     & NA          & NA          & NA          & Other       & NA          & NA          & NA          & 10          & 10          & 2010        & SWM         & 9           & P4          & NA         \\\\\n",
       "\t 2011        & 2010-10-01  & 0.003292181 & Palanas     & NA          & NA          & NA          & Other       & NA          & NA          & NA          & 10          & 10          & 2010        & SWM         & 9           & P5          & NA         \\\\\n",
       "\t 2011        & 2010-10-01  & 0.003292181 & Palanas     & NA          & NA          & NA          & Other       & NA          & NA          & NA          & 10          & 10          & 2010        & SWM         & 9           & P6          & NA         \\\\\n",
       "\\end{tabular}\n"
      ],
      "text/markdown": [
       "\n",
       "| year_sampled | date | surv_weight | dest | dest_n_rec_annual | dest_prop_samp | dest_total_anems | source | source_n_rec_annual | source_prop_samp | source_total_anems | sim_month | sim_day | sim_year | sim_monsoon | daily_particles | particle_id | source_size |\n",
       "|---|---|---|---|---|---|---|---|---|---|---|---|---|---|---|---|---|---|\n",
       "| 2011        | 2010-10-01  | 0.003292181 | Palanas     | NA          | NA          | NA          | Other       | NA          | NA          | NA          | 10          | 10          | 2010        | SWM         | 9           | P1          | NA          |\n",
       "| 2011        | 2010-10-01  | 0.003292181 | Palanas     | NA          | NA          | NA          | Other       | NA          | NA          | NA          | 10          | 10          | 2010        | SWM         | 9           | P2          | NA          |\n",
       "| 2011        | 2010-10-01  | 0.003292181 | Palanas     | NA          | NA          | NA          | Other       | NA          | NA          | NA          | 10          | 10          | 2010        | SWM         | 9           | P3          | NA          |\n",
       "| 2011        | 2010-10-01  | 0.003292181 | Palanas     | NA          | NA          | NA          | Other       | NA          | NA          | NA          | 10          | 10          | 2010        | SWM         | 9           | P4          | NA          |\n",
       "| 2011        | 2010-10-01  | 0.003292181 | Palanas     | NA          | NA          | NA          | Other       | NA          | NA          | NA          | 10          | 10          | 2010        | SWM         | 9           | P5          | NA          |\n",
       "| 2011        | 2010-10-01  | 0.003292181 | Palanas     | NA          | NA          | NA          | Other       | NA          | NA          | NA          | 10          | 10          | 2010        | SWM         | 9           | P6          | NA          |\n",
       "\n"
      ],
      "text/plain": [
       "  year_sampled date       surv_weight dest    dest_n_rec_annual dest_prop_samp\n",
       "1 2011         2010-10-01 0.003292181 Palanas NA                NA            \n",
       "2 2011         2010-10-01 0.003292181 Palanas NA                NA            \n",
       "3 2011         2010-10-01 0.003292181 Palanas NA                NA            \n",
       "4 2011         2010-10-01 0.003292181 Palanas NA                NA            \n",
       "5 2011         2010-10-01 0.003292181 Palanas NA                NA            \n",
       "6 2011         2010-10-01 0.003292181 Palanas NA                NA            \n",
       "  dest_total_anems source source_n_rec_annual source_prop_samp\n",
       "1 NA               Other  NA                  NA              \n",
       "2 NA               Other  NA                  NA              \n",
       "3 NA               Other  NA                  NA              \n",
       "4 NA               Other  NA                  NA              \n",
       "5 NA               Other  NA                  NA              \n",
       "6 NA               Other  NA                  NA              \n",
       "  source_total_anems sim_month sim_day sim_year sim_monsoon daily_particles\n",
       "1 NA                 10        10      2010     SWM         9              \n",
       "2 NA                 10        10      2010     SWM         9              \n",
       "3 NA                 10        10      2010     SWM         9              \n",
       "4 NA                 10        10      2010     SWM         9              \n",
       "5 NA                 10        10      2010     SWM         9              \n",
       "6 NA                 10        10      2010     SWM         9              \n",
       "  particle_id source_size\n",
       "1 P1          NA         \n",
       "2 P2          NA         \n",
       "3 P3          NA         \n",
       "4 P4          NA         \n",
       "5 P5          NA         \n",
       "6 P6          NA         "
      ]
     },
     "metadata": {},
     "output_type": "display_data"
    }
   ],
   "source": [
    "head(DateJoin)"
   ]
  },
  {
   "cell_type": "code",
   "execution_count": null,
   "metadata": {},
   "outputs": [],
   "source": [
    "#make a parentage matrix for the whole biophysical results\n",
    "FullBiophysMat <- as.matrix(rbind(dcast(DestSampled[source != \"Other\" & source !=\"CAI\" & source != \"Gabas\", .(source, dest)][, parentage :=1][order(source, dest)], source ~ dest, value.var=\"parentage\", fun.aggregate = sum)[,\"source\"], \n",
    "      dcast(DestSampled[source == \"Other\" |source == \"CAI\" , .(source, dest)][, parentage :=1][order(source, dest)][, source := \"unsampled\"], source ~ dest, value.var=\"parentage\", fun.aggregate = sum)[,\"source\"] ))"
   ]
  },
  {
   "cell_type": "code",
   "execution_count": null,
   "metadata": {},
   "outputs": [],
   "source": [
    "FullBiophysMat"
   ]
  },
  {
   "cell_type": "code",
   "execution_count": null,
   "metadata": {},
   "outputs": [],
   "source": []
  },
  {
   "cell_type": "code",
   "execution_count": null,
   "metadata": {},
   "outputs": [],
   "source": []
  },
  {
   "cell_type": "code",
   "execution_count": null,
   "metadata": {},
   "outputs": [],
   "source": []
  },
  {
   "cell_type": "code",
   "execution_count": null,
   "metadata": {},
   "outputs": [],
   "source": [
    "dim(FullBiophysMat)"
   ]
  },
  {
   "cell_type": "code",
   "execution_count": 89,
   "metadata": {},
   "outputs": [
    {
     "data": {
      "text/html": [
       "<ol class=list-inline>\n",
       "\t<li>19</li>\n",
       "\t<li>18</li>\n",
       "</ol>\n"
      ],
      "text/latex": [
       "\\begin{enumerate*}\n",
       "\\item 19\n",
       "\\item 18\n",
       "\\end{enumerate*}\n"
      ],
      "text/markdown": [
       "1. 19\n",
       "2. 18\n",
       "\n",
       "\n"
      ],
      "text/plain": [
       "[1] 19 18"
      ]
     },
     "metadata": {},
     "output_type": "display_data"
    }
   ],
   "source": [
    "dim(FullBiophysMat)"
   ]
  },
  {
   "cell_type": "code",
   "execution_count": 101,
   "metadata": {},
   "outputs": [
    {
     "data": {
      "text/html": [
       "<table>\n",
       "<thead><tr><th scope=col>site</th><th scope=col>msq</th><th scope=col>kmsq</th></tr></thead>\n",
       "<tbody>\n",
       "\t<tr><td>CAI                      </td><td>61575000                 </td><td>61.575000                </td></tr>\n",
       "\t<tr><td>Cabatoan                 </td><td>   53004                 </td><td> 0.053004                </td></tr>\n",
       "\t<tr><td>Caridad Cemetery         </td><td>    7963                 </td><td> 0.007963                </td></tr>\n",
       "\t<tr><td>Caridad Proper           </td><td>    7829                 </td><td> 0.007829                </td></tr>\n",
       "\t<tr><td>Elementary School        </td><td>   14214                 </td><td> 0.014214                </td></tr>\n",
       "\t<tr><td>Gabas                    </td><td>    3015                 </td><td> 0.003015                </td></tr>\n",
       "\t<tr><td>Haina                    </td><td>   42715                 </td><td> 0.042715                </td></tr>\n",
       "\t<tr><td>Hicgop South             </td><td>   12401                 </td><td> 0.012401                </td></tr>\n",
       "\t<tr><td>Magbangon                </td><td>  105998                 </td><td> 0.105998                </td></tr>\n",
       "\t<tr><td>Palanas                  </td><td>   40695                 </td><td> 0.040695                </td></tr>\n",
       "\t<tr><td>Poroc Rose               </td><td>    6805                 </td><td> 0.006805                </td></tr>\n",
       "\t<tr><td>Poroc San Flower         </td><td>    1769                 </td><td> 0.001769                </td></tr>\n",
       "\t<tr><td>San Agustin              </td><td>    2233                 </td><td> 0.002233                </td></tr>\n",
       "\t<tr><td>Sitio Baybayon           </td><td>   54761                 </td><td> 0.054761                </td></tr>\n",
       "\t<tr><td>Sitio Lonas              </td><td>    4210                 </td><td> 0.004210                </td></tr>\n",
       "\t<tr><td>Sitio Tugas              </td><td>    5635                 </td><td> 0.005635                </td></tr>\n",
       "\t<tr><td>Tamakin Dacot            </td><td>   19537                 </td><td> 0.019537                </td></tr>\n",
       "\t<tr><td>Visca                    </td><td>   10313                 </td><td> 0.010313                </td></tr>\n",
       "\t<tr><td>Wangag                   </td><td>   61622                 </td><td> 0.061622                </td></tr>\n",
       "\t<tr><td>cuatras_islas_central    </td><td> 2000000                 </td><td> 2.000000                </td></tr>\n",
       "\t<tr><td>cuatras_islas_northeast  </td><td> 1500000                 </td><td> 1.500000                </td></tr>\n",
       "\t<tr><td>cuatras_islas_northwest  </td><td> 2500000                 </td><td> 2.500000                </td></tr>\n",
       "\t<tr><td>cuatras_islas_south      </td><td> 2500000                 </td><td> 2.500000                </td></tr>\n",
       "\t<tr><td>near_north_ten_per_cover1</td><td>  175000                 </td><td> 0.175000                </td></tr>\n",
       "\t<tr><td>near_north_ten_per_cover2</td><td>  175000                 </td><td> 0.175000                </td></tr>\n",
       "\t<tr><td>near_north_ten_per_cover3</td><td>  175000                 </td><td> 0.175000                </td></tr>\n",
       "\t<tr><td>near_south_ten_per_cover1</td><td>  158333                 </td><td> 0.158333                </td></tr>\n",
       "\t<tr><td>near_south_ten_per_cover2</td><td>  158333                 </td><td> 0.158333                </td></tr>\n",
       "\t<tr><td>near_south_ten_per_cover3</td><td>  158333                 </td><td> 0.158333                </td></tr>\n",
       "</tbody>\n",
       "</table>\n"
      ],
      "text/latex": [
       "\\begin{tabular}{r|lll}\n",
       " site & msq & kmsq\\\\\n",
       "\\hline\n",
       "\t CAI                       & 61575000                  & 61.575000                \\\\\n",
       "\t Cabatoan                  &    53004                  &  0.053004                \\\\\n",
       "\t Caridad Cemetery          &     7963                  &  0.007963                \\\\\n",
       "\t Caridad Proper            &     7829                  &  0.007829                \\\\\n",
       "\t Elementary School         &    14214                  &  0.014214                \\\\\n",
       "\t Gabas                     &     3015                  &  0.003015                \\\\\n",
       "\t Haina                     &    42715                  &  0.042715                \\\\\n",
       "\t Hicgop South              &    12401                  &  0.012401                \\\\\n",
       "\t Magbangon                 &   105998                  &  0.105998                \\\\\n",
       "\t Palanas                   &    40695                  &  0.040695                \\\\\n",
       "\t Poroc Rose                &     6805                  &  0.006805                \\\\\n",
       "\t Poroc San Flower          &     1769                  &  0.001769                \\\\\n",
       "\t San Agustin               &     2233                  &  0.002233                \\\\\n",
       "\t Sitio Baybayon            &    54761                  &  0.054761                \\\\\n",
       "\t Sitio Lonas               &     4210                  &  0.004210                \\\\\n",
       "\t Sitio Tugas               &     5635                  &  0.005635                \\\\\n",
       "\t Tamakin Dacot             &    19537                  &  0.019537                \\\\\n",
       "\t Visca                     &    10313                  &  0.010313                \\\\\n",
       "\t Wangag                    &    61622                  &  0.061622                \\\\\n",
       "\t cuatras\\_islas\\_central     &  2000000                      &  2.000000                    \\\\\n",
       "\t cuatras\\_islas\\_northeast   &  1500000                      &  1.500000                    \\\\\n",
       "\t cuatras\\_islas\\_northwest   &  2500000                      &  2.500000                    \\\\\n",
       "\t cuatras\\_islas\\_south       &  2500000                      &  2.500000                    \\\\\n",
       "\t near\\_north\\_ten\\_per\\_cover1 &   175000                          &  0.175000                        \\\\\n",
       "\t near\\_north\\_ten\\_per\\_cover2 &   175000                          &  0.175000                        \\\\\n",
       "\t near\\_north\\_ten\\_per\\_cover3 &   175000                          &  0.175000                        \\\\\n",
       "\t near\\_south\\_ten\\_per\\_cover1 &   158333                          &  0.158333                        \\\\\n",
       "\t near\\_south\\_ten\\_per\\_cover2 &   158333                          &  0.158333                        \\\\\n",
       "\t near\\_south\\_ten\\_per\\_cover3 &   158333                          &  0.158333                        \\\\\n",
       "\\end{tabular}\n"
      ],
      "text/markdown": [
       "\n",
       "| site | msq | kmsq |\n",
       "|---|---|---|\n",
       "| CAI                       | 61575000                  | 61.575000                 |\n",
       "| Cabatoan                  |    53004                  |  0.053004                 |\n",
       "| Caridad Cemetery          |     7963                  |  0.007963                 |\n",
       "| Caridad Proper            |     7829                  |  0.007829                 |\n",
       "| Elementary School         |    14214                  |  0.014214                 |\n",
       "| Gabas                     |     3015                  |  0.003015                 |\n",
       "| Haina                     |    42715                  |  0.042715                 |\n",
       "| Hicgop South              |    12401                  |  0.012401                 |\n",
       "| Magbangon                 |   105998                  |  0.105998                 |\n",
       "| Palanas                   |    40695                  |  0.040695                 |\n",
       "| Poroc Rose                |     6805                  |  0.006805                 |\n",
       "| Poroc San Flower          |     1769                  |  0.001769                 |\n",
       "| San Agustin               |     2233                  |  0.002233                 |\n",
       "| Sitio Baybayon            |    54761                  |  0.054761                 |\n",
       "| Sitio Lonas               |     4210                  |  0.004210                 |\n",
       "| Sitio Tugas               |     5635                  |  0.005635                 |\n",
       "| Tamakin Dacot             |    19537                  |  0.019537                 |\n",
       "| Visca                     |    10313                  |  0.010313                 |\n",
       "| Wangag                    |    61622                  |  0.061622                 |\n",
       "| cuatras_islas_central     |  2000000                  |  2.000000                 |\n",
       "| cuatras_islas_northeast   |  1500000                  |  1.500000                 |\n",
       "| cuatras_islas_northwest   |  2500000                  |  2.500000                 |\n",
       "| cuatras_islas_south       |  2500000                  |  2.500000                 |\n",
       "| near_north_ten_per_cover1 |   175000                  |  0.175000                 |\n",
       "| near_north_ten_per_cover2 |   175000                  |  0.175000                 |\n",
       "| near_north_ten_per_cover3 |   175000                  |  0.175000                 |\n",
       "| near_south_ten_per_cover1 |   158333                  |  0.158333                 |\n",
       "| near_south_ten_per_cover2 |   158333                  |  0.158333                 |\n",
       "| near_south_ten_per_cover3 |   158333                  |  0.158333                 |\n",
       "\n"
      ],
      "text/plain": [
       "   site                      msq      kmsq     \n",
       "1  CAI                       61575000 61.575000\n",
       "2  Cabatoan                     53004  0.053004\n",
       "3  Caridad Cemetery              7963  0.007963\n",
       "4  Caridad Proper                7829  0.007829\n",
       "5  Elementary School            14214  0.014214\n",
       "6  Gabas                         3015  0.003015\n",
       "7  Haina                        42715  0.042715\n",
       "8  Hicgop South                 12401  0.012401\n",
       "9  Magbangon                   105998  0.105998\n",
       "10 Palanas                      40695  0.040695\n",
       "11 Poroc Rose                    6805  0.006805\n",
       "12 Poroc San Flower              1769  0.001769\n",
       "13 San Agustin                   2233  0.002233\n",
       "14 Sitio Baybayon               54761  0.054761\n",
       "15 Sitio Lonas                   4210  0.004210\n",
       "16 Sitio Tugas                   5635  0.005635\n",
       "17 Tamakin Dacot                19537  0.019537\n",
       "18 Visca                        10313  0.010313\n",
       "19 Wangag                       61622  0.061622\n",
       "20 cuatras_islas_central      2000000  2.000000\n",
       "21 cuatras_islas_northeast    1500000  1.500000\n",
       "22 cuatras_islas_northwest    2500000  2.500000\n",
       "23 cuatras_islas_south        2500000  2.500000\n",
       "24 near_north_ten_per_cover1   175000  0.175000\n",
       "25 near_north_ten_per_cover2   175000  0.175000\n",
       "26 near_north_ten_per_cover3   175000  0.175000\n",
       "27 near_south_ten_per_cover1   158333  0.158333\n",
       "28 near_south_ten_per_cover2   158333  0.158333\n",
       "29 near_south_ten_per_cover3   158333  0.158333"
      ]
     },
     "metadata": {},
     "output_type": "display_data"
    }
   ],
   "source": [
    "Area"
   ]
  },
  {
   "cell_type": "code",
   "execution_count": 93,
   "metadata": {},
   "outputs": [
    {
     "ename": "ERROR",
     "evalue": "Error in ObsVector * log(ProbVector): non-numeric argument to binary operator\n",
     "output_type": "error",
     "traceback": [
      "Error in ObsVector * log(ProbVector): non-numeric argument to binary operator\nTraceback:\n",
      "1. suppressWarnings(mle2(LL_kt_bbmle, start = list(k = -3, theta = 1), \n .     lower = c(-10, 0.15), upper = c(10, 8), method = \"L-BFGS-B\", \n .     data = x, control = list(maxit = 500)))",
      "2. withCallingHandlers(expr, warning = function(w) invokeRestart(\"muffleWarning\"))",
      "3. mle2(LL_kt_bbmle, start = list(k = -3, theta = 1), lower = c(-10, \n .     0.15), upper = c(10, 8), method = \"L-BFGS-B\", data = x, control = list(maxit = 500))",
      "4. do.call(\"optim\", c(list(par = start, fn = objectivefunction, \n .     method = method, hessian = FALSE, gr = objectivefunctiongr, \n .     control = call$control, lower = call$lower, upper = call$upper), \n .     arglist))",
      "5. optim(par = c(k = -3, theta = 1), fn = function (p) \n . {\n .     if (browse_obj) \n .         browser()\n .     l <- relist2(p, template)\n .     names(p) <- nstart[order(oo)]\n .     l[nfix] <- fixed\n .     if (vecpar) {\n .         l <- namedrop(l[nfull])\n .         l <- unlist(l)\n .         args <- list(l)\n .         args <- c(list(l), args.in.data)\n .     }\n .     else {\n .         args <- c(l, args.in.data)\n .     }\n .     do.call(\"minuslogl\", namedrop(args))\n . }, method = \"L-BFGS-B\", hessian = FALSE, gr = NULL, control = list(\n .     maxit = 500), lower = c(-10, 0.15), upper = c(10, 8))",
      "6. (function (par) \n . fn(par, ...))(c(k = -3, theta = 1))",
      "7. fn(par, ...)",
      "8. do.call(\"minuslogl\", namedrop(args))",
      "9. minuslogl(k = -3, theta = 1, Distances = structure(c(0, 36.5946593303876, \n . 37.5112741933966, 37.6253509808873, 38.1057602078607, 39.0497650944429, \n . 37.823018534419, 38.1669476215596, 36.519504071025, 36.2377629920321, \n . 38.6352916181014, 38.8423125088469, 38.783232383205, 37.2650016041718, \n . 38.8627857132584, 38.1614223569948, 37.9405113025003, 38.5518993946732, \n . 36.4035500578064, 32.7013926820784, 28.9262770794553, 27.3513886455641, \n . 33.6957407624275, 37.5032802248669, 38.5164822196648, 37.5975128099396, \n . 37.0547419469198, 37.6429469141166, 39.0335505173767, 36.5946593303876, \n . 0, 3.03287316829695, 3.78124045057073, 7.71706417013997, 15.8629347537321, \n . 24.4585459792708, 6.09964236197041, 0.249159340949297, 2.65409211484492, \n . 12.7521560119987, 11.9430713606577, 11.3862533435564, 24.7874862436127, \n . 10.8525551517096, 6.95849709882319, 23.2767046774661, 13.9152904644344, \n . 2.12808850724852, 39.54490965494, 35.1442145368357, 36.4198977159201, \n . 40.8659978955997, 6.21338080344669, 10.2063710089633, 12.8958209573185, \n . 28.2728912356536, 31.1047112533712, 34.8892299356604, 37.5112741933965, \n . 3.03287316829689, 0, 0.761179174582659, 4.75836364619995, 13.0243709280929, \n . 21.9388356206498, 3.08940103135894, 3.28183048721865, 5.68032783555103, \n . 9.87035406818089, 9.02307947258333, 8.45726822696524, 22.3207572350677, \n . 7.90356929622723, 3.97242818887325, 20.7165637893592, 11.0698080608158, \n . 5.1471170086953, 37.8711462426638, 33.6278216534474, 35.0665634790182, \n . 39.1662012596434, 9.13497975941374, 13.1188407786715, 15.8931586139892, \n . 25.916903280888, 28.787651265081, 32.5952952696921, 37.6253509808874, \n . 3.78124045057075, 0.761179174582588, 0, 3.99992945946772, 12.2782690334427, \n . 21.2468135223293, 2.32878413105788, 4.02959572546261, 6.43290630677637, \n . 9.11923520651494, 8.26697295140056, 7.70028185588394, 21.6392752106122, \n . 7.14454940264039, 3.21161915361165, 20.017226952937, 10.32374336874, \n . 5.90142400835724, 37.3525247346128, 33.1482932980895, 34.6238339588206, \n . 38.6409534536064, 9.89605177323507, 13.8793535517954, 16.6526838482964, \n . 25.2560300304027, 28.1332456830577, 31.9438625083545, 38.1057602078607, \n . 7.71706417013985, 4.75836364620004, 3.99992945946767, 0, 8.31591710928813, \n . 17.5336836068848, 1.7225454159044, 7.96065945805795, 10.3654013302017, \n . 5.14022087907431, 4.27008607682457, 3.70161109026741, 17.9802828590584, \n . 3.14543889611488, 0.815242073811797, 16.270087467129, 6.36614781553198, \n . 9.84465747229096, 34.4925112137035, 30.5139243160781, 32.1779179563297, \n . 35.7417601813222, 13.8876359896043, 17.8750869165623, 20.6128639578175, \n . 21.6921207408753, 24.5936532064205, 28.4095193181869, 39.0497650944429, \n . 15.8629347537322, 13.0243709280932, 12.2782690334427, 8.3159171092882, \n . 0, 9.71390443619297, 10.0382114948548, 16.0957979388797, 18.4582390565561, \n . 3.18194456044413, 4.10103254094499, 4.67085122900871, 10.2978938683731, \n . 5.26778746428448, 9.12966405999445, 8.3950734569357, 1.95458749192032, \n . 17.9621024548101, 28.3047474928722, 24.9636817980217, 27.0095791033759, \n . 29.438627814128, 22.0762242619008, 26.0692780330801, 28.6740955379187, \n . 14.1471214264489, 17.0399114218965, 20.8036726619656, 37.8230185344191, \n . 24.4585459792708, 21.9388356206499, 21.2468135223294, 17.5336836068848, \n . 9.71390443619298, 0, 19.2128007151403, 24.6650474355844, 26.8648033335988, \n . 12.6833761904219, 13.6344935917657, 14.1717075408348, 0.799763822655645, \n . 14.7679553775299, 18.3347502246911, 1.32275485514226, 11.4404247565143, \n . 26.4270337534751, 19.4830344501016, 16.9942239515359, 19.361937946957, \n . 20.4770519425251, 30.5480690816369, 34.4694020358104, 36.7324890310709, \n . 4.51477535693173, 7.3571786808355, 11.0930970859759, 38.1669476215596, \n . 6.09964236197031, 3.08940103135887, 2.3287841310578, 1.72254541590444, \n . 10.0382114948548, 19.2128007151403, 0, 6.34682149333819, 8.75364121788041, \n . 6.86120212700488, 5.98204849336787, 5.4110372511485, 19.6444826478211, \n . 4.84201878201608, 0.908848966085559, 17.9575371631894, 8.08869322553354, \n . 8.22469648589737, 35.90042533716, 31.8351694030039, 33.4296792302003, \n . 37.1646455554511, 12.2213979660518, 16.2009430576931, 18.9810538714388, \n . 23.3305103153968, 26.2263129454728, 30.0423619728259, 36.519504071025, \n . 0.249159340949278, 3.28183048721851, 4.02959572546262, 7.96065945805784, \n . 16.0957979388798, 24.6650474355844, 6.3468214933382, 0, 2.40757377797496, \n . 12.9889491737883, 12.1827992382453, 11.6267536803506, 24.989782148238, \n . 11.0945907562962, 7.20400920482834, 23.4866175370573, 14.1491464582986, \n . 1.88403958009191, 39.6809716632914, 35.2685672019966, 36.5308084149946, \n . 41.00392491293, 5.98202948779876, 9.97388303736859, 12.6523556452623, \n . 28.4657202108124, 31.2938987994521, 35.0759430448642, 36.2377629920321, \n . 2.65409211484481, 5.68032783555101, 6.43290630677626, 10.3654013302015, \n . 18.458239056556, 26.8648033335987, 8.75364121788043, 2.40757377797499, \n . 0, 15.3704542894523, 14.5758698607607, 14.0225864290135, 27.160799705884, \n . 13.4951939401156, 9.61137234850247, 25.7099351680489, 16.5172017153687, \n . 0.54031387835313, 41.3312750545396, 36.8276566103832, 37.9754548651221, \n . 42.6682006800758, 3.68350733011265, 7.64193562009257, 10.2507204478322, \n . 30.567283393705, 33.3667197780341, 37.1277441938072, 38.6352916181013, \n . 12.7521560119989, 9.87035406818084, 9.11923520651485, 5.14022087907423, \n . 3.1819445604442, 12.6833761904219, 6.86120212700484, 12.9889491737884, \n . 15.3704542894522, 0, 0.951334562931257, 1.50349474251987, 13.205596448719, \n . 2.10438801963078, 5.95235859198621, 11.3830660116922, 1.25798788739598, \n . 14.8651597795609, 30.6573228291201, 27.0362084026021, 28.9363496312658, \n . 31.842528684708, 18.9595693576401, 22.9530227810621, 25.6110969520901, \n . 17.0139663177847, 19.9227452964819, 23.7194142848384, 38.8423125088469, \n . 11.9430713606577, 9.02307947258329, 8.26697295140057, 4.27008607682466, \n . 4.10103254094503, 13.6344935917656, 5.98204849336792, 12.1827992382453, \n . 14.5758698607608, 0.951334562931269, 0, 0.573009132005664, 14.154821532377, \n . 1.16675502079425, 5.07473405387238, 12.3343988881604, 2.20510731508399, \n . 14.0641494674319, 31.5336407497163, 27.8664338539638, 29.737399122568, \n . 32.72660485788, 18.1383986273206, 22.1297421776794, 24.8250939355226, \n . 17.9599463278629, 20.8691098306523, 24.6672932287486, 38.783232383205, \n . 11.3862533435565, 8.45726822696519, 7.70028185588406, 3.70161109026738, \n . 4.67085122900862, 14.1717075408348, 5.41103725114835, 11.6267536803505, \n . 14.0225864290135, 1.50349474251965, 0.57300913200554, 0, 14.6829294394856, \n . 0.600904522639658, 4.50428169730004, 12.8753298134511, 2.7614787170387, \n . 13.5090936554887, 31.9607106881631, 28.2505730409976, 30.0955838400129, \n . 33.1614678633804, 17.5772269602982, 21.567716000526, 24.2728894198816, \n . 18.4787325845317, 21.3884866880826, 25.1903040720061, 37.2650016041718, \n . 24.7874862436129, 22.3207572350676, 21.6392752106122, 17.9802828590583, \n . 10.297893868373, 0.799763822655539, 19.6444826478211, 24.9897821482382, \n . 27.1607997058841, 13.2055964487189, 14.1548215323771, 14.6829294394856, \n . 0, 15.2755274136324, 18.775261983827, 1.99904865718956, 11.9735927440395, \n . 26.7319569935066, 18.7098393977047, 16.1946825325086, 18.5624726438077, \n . 19.7145272075174, 30.8417487344885, 34.7446961837726, 36.9591572207001, \n . 3.85552432209222, 6.74207220898397, 10.5186366129078, 38.8627857132584, \n . 10.8525551517097, 7.90356929622719, 7.14454940264039, 3.14543889611484, \n . 5.26778746428433, 14.7679553775298, 4.84201878201607, 11.0945907562963, \n . 13.4951939401155, 2.10438801963082, 1.16675502079428, 0.600904522639572, \n . 15.2755274136325, 0, 3.9387180414311, 13.4729060357019, 3.36237522797545, \n . 12.9782678224643, 32.4885497334677, 28.7460207989872, 30.5699475828525, \n . 33.6949350492528, 17.0323348057124, 21.0203957400358, 23.7456751788015, \n . 19.0667421828892, 21.9766238877034, 25.7800686848257, 38.1614223569948, \n . 6.95849709882318, 3.97242818887338, 3.21161915361165, 0.815242073811711, \n . 9.12966405999465, 18.3347502246909, 0.908848966085568, 7.20400920482834, \n . 9.61137234850243, 5.95235859198615, 5.07473405387223, 4.50428169730006, \n . 18.7752619838271, 3.93871804143105, 0, 17.0744137941787, 7.18067055457391, \n . 9.0863666766418, 35.1757138420217, 31.1571402353322, 32.7894954780011, \n . 36.4318492431982, 13.107253129539, 17.0909257829642, 19.8510897004487, \n . 22.4764819268165, 25.3757555836806, 29.1918887334908, 37.9405113025004, \n . 23.2767046774663, 20.7165637893591, 20.0172269529369, 16.270087467129, \n . 8.39507345693576, 1.32275485514228, 17.9575371631894, 23.4866175370572, \n . 25.7099351680487, 11.3830660116922, 12.3343988881606, 12.8753298134511, \n . 1.99904865718955, 13.4729060357017, 17.0744137941786, 0, 10.1364141629116, \n . 25.2645432838973, 20.6793294107842, 18.0378075782612, 20.3624957068949, \n . 21.6976434561089, 29.3931976585021, 33.3293164015372, 35.6376143071364, \n . 5.82467442668038, 8.67850752703078, 12.4150964442198, 38.5518993946732, \n . 13.9152904644345, 11.0698080608157, 10.32374336874, 6.36614781553192, \n . 1.95458749192033, 11.4404247565143, 8.08869322553332, 14.1491464582986, \n . 16.5172017153686, 1.25798788739597, 2.20510731508392, 2.76147871703885, \n . 11.9735927440397, 3.36237522797535, 7.18067055457379, 10.1364141629118, \n . 0, 16.0183961442927, 29.5791228108679, 26.0406788119391, 27.9887330388103, \n . 30.7498275872793, 20.1280154828749, 24.1214687651559, 26.742472410884, \n . 15.7929074614624, 18.6999145547101, 22.4910706747688, 36.4035500578064, \n . 2.12808850724861, 5.14711700869515, 5.90142400835724, 9.84465747229092, \n . 17.9621024548102, 26.4270337534751, 8.22469648589738, 1.884039580092, \n . 0.540313878353198, 14.865159779561, 14.0641494674319, 13.5090936554888, \n . 26.7319569935066, 12.9782678224642, 9.08636667664187, 25.2645432838972, \n . 16.0183961442926, 0, 41.0485537776472, 36.5673270875159, 37.7441889124172, \n . 42.3820949213666, 4.13847682253063, 8.11819916694082, 10.7683163185814, \n . 30.1597826727454, 32.9680426390215, 36.7356596207575, 32.7013926820785, \n . 39.5449096549399, 37.8711462426637, 37.3525247346128, 34.4925112137033, \n . 28.304747492872, 19.4830344501018, 35.9004253371599, 39.6809716632915, \n . 41.3312750545396, 30.6573228291201, 31.5336407497165, 31.960710688163, \n . 18.7098393977046, 32.4885497334677, 35.1757138420217, 20.6793294107841, \n . 29.5791228108678, 41.0485537776474, 0, 4.86377644691455, 5.42062104931435, \n . 1.37039012825061, 44.7384578669175, 48.1574497998722, 49.5235714176498, \n . 15.2225050740603, 13.0456915851824, 11.0194458164441, 28.9262770794552, \n . 35.1442145368356, 33.6278216534475, 33.1482932980894, 30.513924316078, \n . 24.9636817980217, 16.9942239515359, 31.835169403004, 35.2685672019967, \n . 36.8276566103832, 27.036208402602, 27.8664338539639, 28.2505730409976, \n . 16.1946825325086, 28.7460207989873, 31.1571402353322, 18.0378075782611, \n . 26.0406788119391, 36.567327087516, 4.86377644691452, 0, 2.5339949514777, \n . 6.22379755018909, 40.1712793175579, 43.5149552581744, 44.7992717022151, \n . 13.2864496830575, 11.899156521762, 11.3426318862827, 27.3513886455642, \n . 36.41989771592, 35.0665634790182, 34.6238339588205, 32.1779179563299, \n . 27.0095791033759, 19.361937946957, 33.4296792302002, 36.5308084149945, \n . 37.9754548651222, 28.9363496312658, 29.737399122568, 30.095583840013, \n . 18.5624726438077, 30.5699475828524, 32.7894954780013, 20.3624957068948, \n . 27.9887330388103, 37.7441889124172, 5.42062104931425, 2.5339949514777, \n . 0, 6.58062328147123, 41.2229553116047, 44.4411552574848, 45.5666351574702, \n . 15.7698384042857, 14.4329302409301, 13.7763531760479, 33.6957407624276, \n . 40.8659978955999, 39.1662012596434, 38.6409534536064, 35.7417601813223, \n . 29.4386278141279, 20.4770519425252, 37.1646455554508, 41.0039249129301, \n . 42.6682006800756, 31.8425286847082, 32.72660485788, 33.1614678633804, \n . 19.7145272075175, 33.6949350492528, 36.4318492431982, 21.6976434561091, \n . 30.7498275872795, 42.3820949213666, 1.37039012825056, 6.22379755018899, \n . 6.58062328147119, 0, 46.0842794161474, 49.5132639590712, 50.8887111152325, \n . 16.1402711362642, 13.8265644248689, 11.490651276522, 37.5032802248669, \n . 6.21338080344665, 9.13497975941377, 9.89605177323505, 13.8876359896042, \n . 22.0762242619009, 30.548069081637, 12.2213979660517, 5.98202948779868, \n . 3.68350733011257, 18.9595693576402, 18.1383986273207, 17.5772269602983, \n . 30.8417487344886, 17.0323348057124, 13.1072531295391, 29.3931976585021, \n . 20.1280154828749, 4.13847682253074, 44.7384578669174, 40.171279317558, \n . 41.2229553116046, 46.0842794161474, 0, 3.99368932152297, 6.83522360170181, \n . 34.2335658623891, 37.0233878070365, 40.7757624249761, 38.5164822196649, \n . 10.2063710089633, 13.1188407786714, 13.8793535517955, 17.8750869165624, \n . 26.06927803308, 34.4694020358105, 16.200943057693, 9.97388303736858, \n . 7.64193562009239, 22.9530227810621, 22.1297421776794, 21.5677160005261, \n . 34.7446961837724, 21.0203957400359, 17.0909257829644, 33.3293164015373, \n . 24.121468765156, 8.11819916694089, 48.1574497998722, 43.5149552581744, \n . 44.4411552574847, 49.5132639590712, 3.99368932152294, 0, 3.20028353876589, \n . 38.0844053909046, 40.8486664714445, 44.5792796554029, 37.5975128099395, \n . 12.8958209573185, 15.893158613989, 16.6526838482965, 20.6128639578175, \n . 28.6740955379187, 36.7324890310709, 18.9810538714387, 12.6523556452624, \n . 10.2507204478323, 25.6110969520902, 24.8250939355225, 24.2728894198816, \n . 36.9591572206999, 23.7456751788015, 19.8510897004488, 35.6376143071363, \n . 26.7424724108841, 10.7683163185813, 49.5235714176498, 44.7992717022151, \n . 45.5666351574703, 50.8887111152323, 6.83522360170181, 3.20028353876593, \n . 0, 40.1703006444169, 42.8744014144605, 46.5529465613369, 37.0547419469198, \n . 28.2728912356536, 25.916903280888, 25.2560300304029, 21.6921207408752, \n . 14.147121426449, 4.51477535693176, 23.3305103153967, 28.4657202108123, \n . 30.5672833937049, 17.0139663177848, 17.9599463278628, 18.4787325845318, \n . 3.85552432209222, 19.0667421828891, 22.4764819268164, 5.82467442668057, \n . 15.7929074614625, 30.1597826727455, 15.2225050740603, 13.2864496830575, \n . 15.7698384042857, 16.1402711362642, 34.2335658623893, 38.0844053909045, \n . 40.1703006444167, 0, 2.9099061698634, 6.7201550787409, 37.6429469141166, \n . 31.1047112533712, 28.7876512650809, 28.1332456830577, 24.5936532064204, \n . 17.0399114218965, 7.35717868083546, 26.2263129454727, 31.2938987994521, \n . 33.3667197780341, 19.9227452964818, 20.8691098306525, 21.3884866880827, \n . 6.74207220898396, 21.9766238877034, 25.3757555836806, 8.67850752703074, \n . 18.69991455471, 32.9680426390214, 13.0456915851824, 11.899156521762, \n . 14.4329302409301, 13.8265644248688, 37.0233878070365, 40.8486664714445, \n . 42.8744014144607, 2.90990616986345, 0, 3.81616207313079, 39.0335505173767, \n . 34.8892299356605, 32.5952952696919, 31.9438625083546, 28.4095193181869, \n . 20.8036726619657, 11.0930970859759, 30.042361972826, 35.0759430448643, \n . 37.1277441938071, 23.7194142848385, 24.6672932287485, 25.1903040720061, \n . 10.5186366129076, 25.7800686848258, 29.1918887334909, 12.4150964442198, \n . 22.4910706747688, 36.7356596207573, 11.019445816444, 11.3426318862827, \n . 13.7763531760479, 11.490651276522, 40.7757624249761, 44.5792796554027, \n . 46.552946561337, 6.72015507874101, 3.81616207313099, 0), .Dim = c(29L, \n . 29L)), Assignments = structure(c(\"Cabatoan\", \"Caridad Cemetery\", \n . \"Caridad Proper\", \"Elementary School\", \"Gabas\", \"Haina\", \"Hicgop South\", \n . \"Magbangon\", \"Palanas\", \"Poroc Rose\", \"Poroc San Flower\", \"San Agustin\", \n . \"Sitio Baybayon\", \"Sitio Lonas\", \"Sitio Tugas\", \"Tamakin Dacot\", \n . \"Visca\", \"Wangag\", \"unsampled\", \"  921\", \"  620\", \"  484\", \"  250\", \n . \"   27\", \"    2\", \"  495\", \"  685\", \"  651\", \"  109\", \"  141\", \n . \"   96\", \" 3461\", \"   36\", \"  294\", \"    0\", \"   40\", \" 1583\", \n . \"15294\", \"  328\", \"  329\", \"  105\", \"  416\", \"   12\", \"    0\", \n . \" 1023\", \"  796\", \"  422\", \"   84\", \"  115\", \"   57\", \" 3697\", \n . \"   59\", \"  103\", \"    0\", \"   94\", \" 1361\", \"10495\", \"  858\", \n . \"  998\", \"  636\", \"  803\", \"   55\", \"    2\", \" 1838\", \" 1454\", \n . \"  584\", \"  233\", \"  327\", \"  273\", \" 4608\", \"  477\", \"  241\", \n . \"    0\", \"  239\", \" 1259\", \"12894\", \"  211\", \"   85\", \"   39\", \n . \"  953\", \"  474\", \"    0\", \" 1239\", \"  128\", \"    1\", \"  351\", \n . \"  646\", \"  447\", \"  230\", \" 1833\", \"  347\", \"    0\", \"  594\", \n . \"   76\", \"14377\", \"   48\", \"   12\", \"    8\", \"   27\", \"  120\", \n . \" 1999\", \"  415\", \"   46\", \"    0\", \"  125\", \"  134\", \"   80\", \n . \"   30\", \"    0\", \"   49\", \"14605\", \"  167\", \"   15\", \"30496\", \n . \"  271\", \"  156\", \"  167\", \" 2046\", \"  205\", \"    0\", \" 2658\", \n . \"  462\", \"   81\", \"  192\", \"  227\", \"  734\", \"  490\", \" 4932\", \n . \"  348\", \"    0\", \"  167\", \"  239\", \"21701\", \"  693\", \"  636\", \n . \"  333\", \"  239\", \"    1\", \"    2\", \"  365\", \"  387\", \"  782\", \n . \"   22\", \"   47\", \"   66\", \" 4050\", \"   37\", \"  159\", \"    1\", \n . \"   35\", \" 2013\", \"15161\", \"   78\", \"   66\", \"    4\", \"    1\", \n . \"    2\", \"    0\", \"    7\", \"  240\", \"  477\", \"    9\", \"   39\", \n . \"    4\", \" 1227\", \"    1\", \"   32\", \"    0\", \"    2\", \"  705\", \n . \"16850\", \"  69\", \"  48\", \"  53\", \" 180\", \" 729\", \"   0\", \" 605\", \n . \"  41\", \"   9\", \" 702\", \"1102\", \"1585\", \"  71\", \"  43\", \" 157\", \n . \"   5\", \" 726\", \"  51\", \"6698\", \" 122\", \" 121\", \" 134\", \" 280\", \n . \"1056\", \"   2\", \"1052\", \"  81\", \"   1\", \"1061\", \"1443\", \"1396\", \n . \" 197\", \" 141\", \" 195\", \"   1\", \"1164\", \"  65\", \"8343\", \"  330\", \n . \"  446\", \"  540\", \"  745\", \" 5084\", \"   54\", \" 1716\", \"  499\", \n . \"   38\", \" 2056\", \" 4666\", \" 4828\", \" 1082\", \" 2897\", \"  613\", \n . \"    8\", \" 3656\", \"  414\", \"10862\", \"  341\", \"  480\", \"  216\", \n . \"   94\", \"    2\", \"   43\", \"  632\", \"  793\", \" 1697\", \"   29\", \n . \"   67\", \"   67\", \"13889\", \"    0\", \"  324\", \"    0\", \"   16\", \n . \" 5552\", \"16945\", \"  286\", \"  613\", \"  548\", \"  710\", \" 8475\", \n . \"    9\", \" 1971\", \"  211\", \"    1\", \" 4357\", \" 7594\", \" 8949\", \n . \"  576\", \"21713\", \"  684\", \"    2\", \" 5495\", \"  126\", \"17949\", \n . \" 274\", \" 268\", \" 208\", \"1141\", \" 291\", \"   6\", \"1115\", \" 188\", \n . \"  38\", \" 369\", \" 662\", \" 791\", \" 380\", \"2321\", \" 257\", \"   0\", \n . \" 471\", \" 114\", \"7338\", \"   55\", \"    1\", \"    4\", \"    8\", \"   96\", \n . \"  357\", \"  233\", \"   23\", \"    0\", \"   72\", \"   74\", \"   35\", \n . \"   49\", \"    0\", \"   14\", \"49704\", \"  128\", \"   10\", \"82467\", \n . \"   1\", \"   0\", \"   2\", \"   1\", \"8280\", \"  41\", \"  73\", \"  13\", \n . \"   0\", \" 616\", \" 336\", \"  92\", \"   1\", \"   0\", \"   7\", \" 275\", \n . \" 214\", \"   0\", \"6206\", \"  192\", \"   76\", \"   48\", \"    8\", \"    0\", \n . \"    4\", \"   39\", \"  492\", \"  480\", \"   12\", \"   28\", \"   29\", \n . \" 2065\", \"    6\", \"   81\", \"    0\", \"    5\", \"  960\", \"14984\"\n . ), .Dim = 19:18, .Dimnames = list(NULL, c(\"source\", \"Cabatoan\", \n . \"Caridad Cemetery\", \"Caridad Proper\", \"Elementary School\", \"Haina\", \n . \"Hicgop South\", \"Magbangon\", \"Palanas\", \"Poroc Rose\", \"Poroc San Flower\", \n . \"San Agustin\", \"Sitio Baybayon\", \"Sitio Lonas\", \"Sitio Tugas\", \n . \"Tamakin Dacot\", \"Visca\", \"Wangag\"))), Sampled_reefs = structure(2:19, .Dim = c(1L, \n . 18L)), Reef_sizes = structure(c(61.575, 0.053004, 0.007963, 0.007829, \n . 0.014214, 0.003015, 0.042715, 0.012401, 0.105998, 0.040695, 0.006805, \n . 0.001769, 0.002233, 0.054761, 0.00421, 0.005635, 0.019537, 0.010313, \n . 0.061622, 2, 1.5, 2.5, 2.5, 0.175, 0.175, 0.175, 0.158333, 0.158333, \n . 0.158333), .Dim = c(29L, 1L)), Adult_sample_proportions = structure(c(1, \n . 1, 1, 1, 1, 1, 1, 1, 1, 1, 1, 1, 1, 1, 1, 1, 1, 1), .Dim = c(18L, \n . 1L)))"
     ]
    }
   ],
   "source": [
    "x <- list(Distances=Distances, Assignments=FullBiophysMat, Sampled_reefs=t(SiteIndex[site %in% SurveyData[, site], index]),\n",
    "                  Reef_sizes=reef_sizes, Adult_sample_proportions=matrix(nrow=ncol(FullBiophysMat), ncol=1, 1)) #put inputs into a list because that's the bbmle format\n",
    "Sim2012_4Fit <- suppressWarnings(mle2(LL_kt_bbmle, start=list(k=-3, theta=1), lower=c(-10, 0.15), upper=c(10, 8), method=\"L-BFGS-B\", data=x, control=list(maxit=500)))\n"
   ]
  },
  {
   "cell_type": "code",
   "execution_count": 95,
   "metadata": {},
   "outputs": [
    {
     "data": {
      "text/html": [
       "<ol class=list-inline>\n",
       "\t<li>11</li>\n",
       "\t<li>10</li>\n",
       "</ol>\n"
      ],
      "text/latex": [
       "\\begin{enumerate*}\n",
       "\\item 11\n",
       "\\item 10\n",
       "\\end{enumerate*}\n"
      ],
      "text/markdown": [
       "1. 11\n",
       "2. 10\n",
       "\n",
       "\n"
      ],
      "text/plain": [
       "[1] 11 10"
      ]
     },
     "metadata": {},
     "output_type": "display_data"
    },
    {
     "data": {
      "text/html": [
       "<ol class=list-inline>\n",
       "\t<li>10</li>\n",
       "\t<li>1</li>\n",
       "</ol>\n"
      ],
      "text/latex": [
       "\\begin{enumerate*}\n",
       "\\item 10\n",
       "\\item 1\n",
       "\\end{enumerate*}\n"
      ],
      "text/markdown": [
       "1. 10\n",
       "2. 1\n",
       "\n",
       "\n"
      ],
      "text/plain": [
       "[1] 10  1"
      ]
     },
     "metadata": {},
     "output_type": "display_data"
    },
    {
     "data": {
      "text/html": [
       "<ol class=list-inline>\n",
       "\t<li>1</li>\n",
       "\t<li>10</li>\n",
       "</ol>\n"
      ],
      "text/latex": [
       "\\begin{enumerate*}\n",
       "\\item 1\n",
       "\\item 10\n",
       "\\end{enumerate*}\n"
      ],
      "text/markdown": [
       "1. 1\n",
       "2. 10\n",
       "\n",
       "\n"
      ],
      "text/plain": [
       "[1]  1 10"
      ]
     },
     "metadata": {},
     "output_type": "display_data"
    }
   ],
   "source": [
    "dim(Assignments2012)\n",
    "dim(Adult_sample_proportions2012)\n",
    "dim(Sampled_reefs2012)"
   ]
  },
  {
   "cell_type": "code",
   "execution_count": 96,
   "metadata": {
    "scrolled": false
   },
   "outputs": [
    {
     "data": {
      "text/html": [
       "<dl>\n",
       "\t<dt>$Distances</dt>\n",
       "\t\t<dd><table>\n",
       "<tbody>\n",
       "\t<tr><td> 0.00000  </td><td>36.5946593</td><td>37.5112742</td><td>37.6253510</td><td>38.1057602</td><td>39.049765 </td><td>37.8230185</td><td>38.166948 </td><td>36.5195041</td><td>36.2377630</td><td>...       </td><td>32.701393 </td><td>28.926277 </td><td>27.351389 </td><td>33.695741 </td><td>37.503280 </td><td>38.516482 </td><td>37.597513 </td><td>37.054742 </td><td>37.642947 </td><td>39.033551 </td></tr>\n",
       "\t<tr><td>36.59466  </td><td> 0.0000000</td><td> 3.0328732</td><td> 3.7812405</td><td> 7.7170642</td><td>15.862935 </td><td>24.4585460</td><td> 6.099642 </td><td> 0.2491593</td><td> 2.6540921</td><td>...       </td><td>39.544910 </td><td>35.144215 </td><td>36.419898 </td><td>40.865998 </td><td> 6.213381 </td><td>10.206371 </td><td>12.895821 </td><td>28.272891 </td><td>31.104711 </td><td>34.889230 </td></tr>\n",
       "\t<tr><td>37.51127  </td><td> 3.0328732</td><td> 0.0000000</td><td> 0.7611792</td><td> 4.7583636</td><td>13.024371 </td><td>21.9388356</td><td> 3.089401 </td><td> 3.2818305</td><td> 5.6803278</td><td>...       </td><td>37.871146 </td><td>33.627822 </td><td>35.066563 </td><td>39.166201 </td><td> 9.134980 </td><td>13.118841 </td><td>15.893159 </td><td>25.916903 </td><td>28.787651 </td><td>32.595295 </td></tr>\n",
       "\t<tr><td>37.62535  </td><td> 3.7812405</td><td> 0.7611792</td><td> 0.0000000</td><td> 3.9999295</td><td>12.278269 </td><td>21.2468135</td><td> 2.328784 </td><td> 4.0295957</td><td> 6.4329063</td><td>...       </td><td>37.352525 </td><td>33.148293 </td><td>34.623834 </td><td>38.640953 </td><td> 9.896052 </td><td>13.879354 </td><td>16.652684 </td><td>25.256030 </td><td>28.133246 </td><td>31.943863 </td></tr>\n",
       "\t<tr><td>38.10576  </td><td> 7.7170642</td><td> 4.7583636</td><td> 3.9999295</td><td> 0.0000000</td><td> 8.315917 </td><td>17.5336836</td><td> 1.722545 </td><td> 7.9606595</td><td>10.3654013</td><td>...       </td><td>34.492511 </td><td>30.513924 </td><td>32.177918 </td><td>35.741760 </td><td>13.887636 </td><td>17.875087 </td><td>20.612864 </td><td>21.692121 </td><td>24.593653 </td><td>28.409519 </td></tr>\n",
       "\t<tr><td>39.04977  </td><td>15.8629348</td><td>13.0243709</td><td>12.2782690</td><td> 8.3159171</td><td> 0.000000 </td><td> 9.7139044</td><td>10.038211 </td><td>16.0957979</td><td>18.4582391</td><td>...       </td><td>28.304747 </td><td>24.963682 </td><td>27.009579 </td><td>29.438628 </td><td>22.076224 </td><td>26.069278 </td><td>28.674096 </td><td>14.147121 </td><td>17.039911 </td><td>20.803673 </td></tr>\n",
       "\t<tr><td>37.82302  </td><td>24.4585460</td><td>21.9388356</td><td>21.2468135</td><td>17.5336836</td><td> 9.713904 </td><td> 0.0000000</td><td>19.212801 </td><td>24.6650474</td><td>26.8648033</td><td>...       </td><td>19.483034 </td><td>16.994224 </td><td>19.361938 </td><td>20.477052 </td><td>30.548069 </td><td>34.469402 </td><td>36.732489 </td><td> 4.514775 </td><td> 7.357179 </td><td>11.093097 </td></tr>\n",
       "\t<tr><td>38.16695  </td><td> 6.0996424</td><td> 3.0894010</td><td> 2.3287841</td><td> 1.7225454</td><td>10.038211 </td><td>19.2128007</td><td> 0.000000 </td><td> 6.3468215</td><td> 8.7536412</td><td>...       </td><td>35.900425 </td><td>31.835169 </td><td>33.429679 </td><td>37.164646 </td><td>12.221398 </td><td>16.200943 </td><td>18.981054 </td><td>23.330510 </td><td>26.226313 </td><td>30.042362 </td></tr>\n",
       "\t<tr><td>36.51950  </td><td> 0.2491593</td><td> 3.2818305</td><td> 4.0295957</td><td> 7.9606595</td><td>16.095798 </td><td>24.6650474</td><td> 6.346821 </td><td> 0.0000000</td><td> 2.4075738</td><td>...       </td><td>39.680972 </td><td>35.268567 </td><td>36.530808 </td><td>41.003925 </td><td> 5.982029 </td><td> 9.973883 </td><td>12.652356 </td><td>28.465720 </td><td>31.293899 </td><td>35.075943 </td></tr>\n",
       "\t<tr><td>36.23776  </td><td> 2.6540921</td><td> 5.6803278</td><td> 6.4329063</td><td>10.3654013</td><td>18.458239 </td><td>26.8648033</td><td> 8.753641 </td><td> 2.4075738</td><td> 0.0000000</td><td>...       </td><td>41.331275 </td><td>36.827657 </td><td>37.975455 </td><td>42.668201 </td><td> 3.683507 </td><td> 7.641936 </td><td>10.250720 </td><td>30.567283 </td><td>33.366720 </td><td>37.127744 </td></tr>\n",
       "\t<tr><td>38.63529  </td><td>12.7521560</td><td> 9.8703541</td><td> 9.1192352</td><td> 5.1402209</td><td> 3.181945 </td><td>12.6833762</td><td> 6.861202 </td><td>12.9889492</td><td>15.3704543</td><td>...       </td><td>30.657323 </td><td>27.036208 </td><td>28.936350 </td><td>31.842529 </td><td>18.959569 </td><td>22.953023 </td><td>25.611097 </td><td>17.013966 </td><td>19.922745 </td><td>23.719414 </td></tr>\n",
       "\t<tr><td>38.84231  </td><td>11.9430714</td><td> 9.0230795</td><td> 8.2669730</td><td> 4.2700861</td><td> 4.101033 </td><td>13.6344936</td><td> 5.982048 </td><td>12.1827992</td><td>14.5758699</td><td>...       </td><td>31.533641 </td><td>27.866434 </td><td>29.737399 </td><td>32.726605 </td><td>18.138399 </td><td>22.129742 </td><td>24.825094 </td><td>17.959946 </td><td>20.869110 </td><td>24.667293 </td></tr>\n",
       "\t<tr><td>38.78323  </td><td>11.3862533</td><td> 8.4572682</td><td> 7.7002819</td><td> 3.7016111</td><td> 4.670851 </td><td>14.1717075</td><td> 5.411037 </td><td>11.6267537</td><td>14.0225864</td><td>...       </td><td>31.960711 </td><td>28.250573 </td><td>30.095584 </td><td>33.161468 </td><td>17.577227 </td><td>21.567716 </td><td>24.272889 </td><td>18.478733 </td><td>21.388487 </td><td>25.190304 </td></tr>\n",
       "\t<tr><td>37.26500  </td><td>24.7874862</td><td>22.3207572</td><td>21.6392752</td><td>17.9802829</td><td>10.297894 </td><td> 0.7997638</td><td>19.644483 </td><td>24.9897821</td><td>27.1607997</td><td>...       </td><td>18.709839 </td><td>16.194683 </td><td>18.562473 </td><td>19.714527 </td><td>30.841749 </td><td>34.744696 </td><td>36.959157 </td><td> 3.855524 </td><td> 6.742072 </td><td>10.518637 </td></tr>\n",
       "\t<tr><td>38.86279  </td><td>10.8525552</td><td> 7.9035693</td><td> 7.1445494</td><td> 3.1454389</td><td> 5.267787 </td><td>14.7679554</td><td> 4.842019 </td><td>11.0945908</td><td>13.4951939</td><td>...       </td><td>32.488550 </td><td>28.746021 </td><td>30.569948 </td><td>33.694935 </td><td>17.032335 </td><td>21.020396 </td><td>23.745675 </td><td>19.066742 </td><td>21.976624 </td><td>25.780069 </td></tr>\n",
       "\t<tr><td>38.16142  </td><td> 6.9584971</td><td> 3.9724282</td><td> 3.2116192</td><td> 0.8152421</td><td> 9.129664 </td><td>18.3347502</td><td> 0.908849 </td><td> 7.2040092</td><td> 9.6113723</td><td>...       </td><td>35.175714 </td><td>31.157140 </td><td>32.789495 </td><td>36.431849 </td><td>13.107253 </td><td>17.090926 </td><td>19.851090 </td><td>22.476482 </td><td>25.375756 </td><td>29.191889 </td></tr>\n",
       "\t<tr><td>37.94051  </td><td>23.2767047</td><td>20.7165638</td><td>20.0172270</td><td>16.2700875</td><td> 8.395073 </td><td> 1.3227549</td><td>17.957537 </td><td>23.4866175</td><td>25.7099352</td><td>...       </td><td>20.679329 </td><td>18.037808 </td><td>20.362496 </td><td>21.697643 </td><td>29.393198 </td><td>33.329316 </td><td>35.637614 </td><td> 5.824674 </td><td> 8.678508 </td><td>12.415096 </td></tr>\n",
       "\t<tr><td>38.55190  </td><td>13.9152905</td><td>11.0698081</td><td>10.3237434</td><td> 6.3661478</td><td> 1.954587 </td><td>11.4404248</td><td> 8.088693 </td><td>14.1491465</td><td>16.5172017</td><td>...       </td><td>29.579123 </td><td>26.040679 </td><td>27.988733 </td><td>30.749828 </td><td>20.128015 </td><td>24.121469 </td><td>26.742472 </td><td>15.792907 </td><td>18.699915 </td><td>22.491071 </td></tr>\n",
       "\t<tr><td>36.40355  </td><td> 2.1280885</td><td> 5.1471170</td><td> 5.9014240</td><td> 9.8446575</td><td>17.962102 </td><td>26.4270338</td><td> 8.224696 </td><td> 1.8840396</td><td> 0.5403139</td><td>...       </td><td>41.048554 </td><td>36.567327 </td><td>37.744189 </td><td>42.382095 </td><td> 4.138477 </td><td> 8.118199 </td><td>10.768316 </td><td>30.159783 </td><td>32.968043 </td><td>36.735660 </td></tr>\n",
       "\t<tr><td>32.70139  </td><td>39.5449097</td><td>37.8711462</td><td>37.3525247</td><td>34.4925112</td><td>28.304747 </td><td>19.4830345</td><td>35.900425 </td><td>39.6809717</td><td>41.3312751</td><td>...       </td><td> 0.000000 </td><td> 4.863776 </td><td> 5.420621 </td><td> 1.370390 </td><td>44.738458 </td><td>48.157450 </td><td>49.523571 </td><td>15.222505 </td><td>13.045692 </td><td>11.019446 </td></tr>\n",
       "\t<tr><td>28.92628  </td><td>35.1442145</td><td>33.6278217</td><td>33.1482933</td><td>30.5139243</td><td>24.963682 </td><td>16.9942240</td><td>31.835169 </td><td>35.2685672</td><td>36.8276566</td><td>...       </td><td> 4.863776 </td><td> 0.000000 </td><td> 2.533995 </td><td> 6.223798 </td><td>40.171279 </td><td>43.514955 </td><td>44.799272 </td><td>13.286450 </td><td>11.899157 </td><td>11.342632 </td></tr>\n",
       "\t<tr><td>27.35139  </td><td>36.4198977</td><td>35.0665635</td><td>34.6238340</td><td>32.1779180</td><td>27.009579 </td><td>19.3619379</td><td>33.429679 </td><td>36.5308084</td><td>37.9754549</td><td>...       </td><td> 5.420621 </td><td> 2.533995 </td><td> 0.000000 </td><td> 6.580623 </td><td>41.222955 </td><td>44.441155 </td><td>45.566635 </td><td>15.769838 </td><td>14.432930 </td><td>13.776353 </td></tr>\n",
       "\t<tr><td>33.69574  </td><td>40.8659979</td><td>39.1662013</td><td>38.6409535</td><td>35.7417602</td><td>29.438628 </td><td>20.4770519</td><td>37.164646 </td><td>41.0039249</td><td>42.6682007</td><td>...       </td><td> 1.370390 </td><td> 6.223798 </td><td> 6.580623 </td><td> 0.000000 </td><td>46.084279 </td><td>49.513264 </td><td>50.888711 </td><td>16.140271 </td><td>13.826564 </td><td>11.490651 </td></tr>\n",
       "\t<tr><td>37.50328  </td><td> 6.2133808</td><td> 9.1349798</td><td> 9.8960518</td><td>13.8876360</td><td>22.076224 </td><td>30.5480691</td><td>12.221398 </td><td> 5.9820295</td><td> 3.6835073</td><td>...       </td><td>44.738458 </td><td>40.171279 </td><td>41.222955 </td><td>46.084279 </td><td> 0.000000 </td><td> 3.993689 </td><td> 6.835224 </td><td>34.233566 </td><td>37.023388 </td><td>40.775762 </td></tr>\n",
       "\t<tr><td>38.51648  </td><td>10.2063710</td><td>13.1188408</td><td>13.8793536</td><td>17.8750869</td><td>26.069278 </td><td>34.4694020</td><td>16.200943 </td><td> 9.9738830</td><td> 7.6419356</td><td>...       </td><td>48.157450 </td><td>43.514955 </td><td>44.441155 </td><td>49.513264 </td><td> 3.993689 </td><td> 0.000000 </td><td> 3.200284 </td><td>38.084405 </td><td>40.848666 </td><td>44.579280 </td></tr>\n",
       "\t<tr><td>37.59751  </td><td>12.8958210</td><td>15.8931586</td><td>16.6526838</td><td>20.6128640</td><td>28.674096 </td><td>36.7324890</td><td>18.981054 </td><td>12.6523556</td><td>10.2507204</td><td>...       </td><td>49.523571 </td><td>44.799272 </td><td>45.566635 </td><td>50.888711 </td><td> 6.835224 </td><td> 3.200284 </td><td> 0.000000 </td><td>40.170301 </td><td>42.874401 </td><td>46.552947 </td></tr>\n",
       "\t<tr><td>37.05474  </td><td>28.2728912</td><td>25.9169033</td><td>25.2560300</td><td>21.6921207</td><td>14.147121 </td><td> 4.5147754</td><td>23.330510 </td><td>28.4657202</td><td>30.5672834</td><td>...       </td><td>15.222505 </td><td>13.286450 </td><td>15.769838 </td><td>16.140271 </td><td>34.233566 </td><td>38.084405 </td><td>40.170301 </td><td> 0.000000 </td><td> 2.909906 </td><td> 6.720155 </td></tr>\n",
       "\t<tr><td>37.64295  </td><td>31.1047113</td><td>28.7876513</td><td>28.1332457</td><td>24.5936532</td><td>17.039911 </td><td> 7.3571787</td><td>26.226313 </td><td>31.2938988</td><td>33.3667198</td><td>...       </td><td>13.045692 </td><td>11.899157 </td><td>14.432930 </td><td>13.826564 </td><td>37.023388 </td><td>40.848666 </td><td>42.874401 </td><td> 2.909906 </td><td> 0.000000 </td><td> 3.816162 </td></tr>\n",
       "\t<tr><td>39.03355  </td><td>34.8892299</td><td>32.5952953</td><td>31.9438625</td><td>28.4095193</td><td>20.803673 </td><td>11.0930971</td><td>30.042362 </td><td>35.0759430</td><td>37.1277442</td><td>...       </td><td>11.019446 </td><td>11.342632 </td><td>13.776353 </td><td>11.490651 </td><td>40.775762 </td><td>44.579280 </td><td>46.552947 </td><td> 6.720155 </td><td> 3.816162 </td><td> 0.000000 </td></tr>\n",
       "</tbody>\n",
       "</table>\n",
       "</dd>\n",
       "\t<dt>$Assignments</dt>\n",
       "\t\t<dd><table>\n",
       "<thead><tr><th scope=col>source</th><th scope=col>Cabatoan</th><th scope=col>Caridad Cemetery</th><th scope=col>Caridad Proper</th><th scope=col>Elementary School</th><th scope=col>Haina</th><th scope=col>Hicgop South</th><th scope=col>Magbangon</th><th scope=col>Palanas</th><th scope=col>Poroc Rose</th><th scope=col>Poroc San Flower</th><th scope=col>San Agustin</th><th scope=col>Sitio Baybayon</th><th scope=col>Sitio Lonas</th><th scope=col>Sitio Tugas</th><th scope=col>Tamakin Dacot</th><th scope=col>Visca</th><th scope=col>Wangag</th></tr></thead>\n",
       "<tbody>\n",
       "\t<tr><td>Cabatoan         </td><td>  921            </td><td>  328            </td><td>  858            </td><td>  211            </td><td>   48            </td><td>  271            </td><td>  693            </td><td>   78            </td><td>  69             </td><td> 122             </td><td>  330            </td><td>  341            </td><td>  286            </td><td> 274             </td><td>   55            </td><td>   1             </td><td>  192            </td></tr>\n",
       "\t<tr><td>Caridad Cemetery </td><td>  620            </td><td>  329            </td><td>  998            </td><td>   85            </td><td>   12            </td><td>  156            </td><td>  636            </td><td>   66            </td><td>  48             </td><td> 121             </td><td>  446            </td><td>  480            </td><td>  613            </td><td> 268             </td><td>    1            </td><td>   0             </td><td>   76            </td></tr>\n",
       "\t<tr><td>Caridad Proper   </td><td>  484            </td><td>  105            </td><td>  636            </td><td>   39            </td><td>    8            </td><td>  167            </td><td>  333            </td><td>    4            </td><td>  53             </td><td> 134             </td><td>  540            </td><td>  216            </td><td>  548            </td><td> 208             </td><td>    4            </td><td>   2             </td><td>   48            </td></tr>\n",
       "\t<tr><td>Elementary School</td><td>  250            </td><td>  416            </td><td>  803            </td><td>  953            </td><td>   27            </td><td> 2046            </td><td>  239            </td><td>    1            </td><td> 180             </td><td> 280             </td><td>  745            </td><td>   94            </td><td>  710            </td><td>1141             </td><td>    8            </td><td>   1             </td><td>    8            </td></tr>\n",
       "\t<tr><td>Gabas            </td><td>   27            </td><td>   12            </td><td>   55            </td><td>  474            </td><td>  120            </td><td>  205            </td><td>    1            </td><td>    2            </td><td> 729             </td><td>1056             </td><td> 5084            </td><td>    2            </td><td> 8475            </td><td> 291             </td><td>   96            </td><td>8280             </td><td>    0            </td></tr>\n",
       "\t<tr><td>Haina            </td><td>    2            </td><td>    0            </td><td>    2            </td><td>    0            </td><td> 1999            </td><td>    0            </td><td>    2            </td><td>    0            </td><td>   0             </td><td>   2             </td><td>   54            </td><td>   43            </td><td>    9            </td><td>   6             </td><td>  357            </td><td>  41             </td><td>    4            </td></tr>\n",
       "\t<tr><td>Hicgop South     </td><td>  495            </td><td> 1023            </td><td> 1838            </td><td> 1239            </td><td>  415            </td><td> 2658            </td><td>  365            </td><td>    7            </td><td> 605             </td><td>1052             </td><td> 1716            </td><td>  632            </td><td> 1971            </td><td>1115             </td><td>  233            </td><td>  73             </td><td>   39            </td></tr>\n",
       "\t<tr><td>Magbangon        </td><td>  685            </td><td>  796            </td><td> 1454            </td><td>  128            </td><td>   46            </td><td>  462            </td><td>  387            </td><td>  240            </td><td>  41             </td><td>  81             </td><td>  499            </td><td>  793            </td><td>  211            </td><td> 188             </td><td>   23            </td><td>  13             </td><td>  492            </td></tr>\n",
       "\t<tr><td>Palanas          </td><td>  651            </td><td>  422            </td><td>  584            </td><td>    1            </td><td>    0            </td><td>   81            </td><td>  782            </td><td>  477            </td><td>   9             </td><td>   1             </td><td>   38            </td><td> 1697            </td><td>    1            </td><td>  38             </td><td>    0            </td><td>   0             </td><td>  480            </td></tr>\n",
       "\t<tr><td>Poroc Rose       </td><td>  109            </td><td>   84            </td><td>  233            </td><td>  351            </td><td>  125            </td><td>  192            </td><td>   22            </td><td>    9            </td><td> 702             </td><td>1061             </td><td> 2056            </td><td>   29            </td><td> 4357            </td><td> 369             </td><td>   72            </td><td> 616             </td><td>   12            </td></tr>\n",
       "\t<tr><td>Poroc San Flower </td><td>  141            </td><td>  115            </td><td>  327            </td><td>  646            </td><td>  134            </td><td>  227            </td><td>   47            </td><td>   39            </td><td>1102             </td><td>1443             </td><td> 4666            </td><td>   67            </td><td> 7594            </td><td> 662             </td><td>   74            </td><td> 336             </td><td>   28            </td></tr>\n",
       "\t<tr><td>San Agustin      </td><td>   96            </td><td>   57            </td><td>  273            </td><td>  447            </td><td>   80            </td><td>  734            </td><td>   66            </td><td>    4            </td><td>1585             </td><td>1396             </td><td> 4828            </td><td>   67            </td><td> 8949            </td><td> 791             </td><td>   35            </td><td>  92             </td><td>   29            </td></tr>\n",
       "\t<tr><td>Sitio Baybayon   </td><td> 3461            </td><td> 3697            </td><td> 4608            </td><td>  230            </td><td>   30            </td><td>  490            </td><td> 4050            </td><td> 1227            </td><td>  71             </td><td> 197             </td><td> 1082            </td><td>13889            </td><td>  576            </td><td> 380             </td><td>   49            </td><td>   1             </td><td> 2065            </td></tr>\n",
       "\t<tr><td>Sitio Lonas      </td><td>   36            </td><td>   59            </td><td>  477            </td><td> 1833            </td><td>    0            </td><td> 4932            </td><td>   37            </td><td>    1            </td><td>  43             </td><td> 141             </td><td> 2897            </td><td>    0            </td><td>21713            </td><td>2321             </td><td>    0            </td><td>   0             </td><td>    6            </td></tr>\n",
       "\t<tr><td>Sitio Tugas      </td><td>  294            </td><td>  103            </td><td>  241            </td><td>  347            </td><td>   49            </td><td>  348            </td><td>  159            </td><td>   32            </td><td> 157             </td><td> 195             </td><td>  613            </td><td>  324            </td><td>  684            </td><td> 257             </td><td>   14            </td><td>   7             </td><td>   81            </td></tr>\n",
       "\t<tr><td>Tamakin Dacot    </td><td>    0            </td><td>    0            </td><td>    0            </td><td>    0            </td><td>14605            </td><td>    0            </td><td>    1            </td><td>    0            </td><td>   5             </td><td>   1             </td><td>    8            </td><td>    0            </td><td>    2            </td><td>   0             </td><td>49704            </td><td> 275             </td><td>    0            </td></tr>\n",
       "\t<tr><td>Visca            </td><td>   40            </td><td>   94            </td><td>  239            </td><td>  594            </td><td>  167            </td><td>  167            </td><td>   35            </td><td>    2            </td><td> 726             </td><td>1164             </td><td> 3656            </td><td>   16            </td><td> 5495            </td><td> 471             </td><td>  128            </td><td> 214             </td><td>    5            </td></tr>\n",
       "\t<tr><td>Wangag           </td><td> 1583            </td><td> 1361            </td><td> 1259            </td><td>   76            </td><td>   15            </td><td>  239            </td><td> 2013            </td><td>  705            </td><td>  51             </td><td>  65             </td><td>  414            </td><td> 5552            </td><td>  126            </td><td> 114             </td><td>   10            </td><td>   0             </td><td>  960            </td></tr>\n",
       "\t<tr><td>unsampled        </td><td>15294            </td><td>10495            </td><td>12894            </td><td>14377            </td><td>30496            </td><td>21701            </td><td>15161            </td><td>16850            </td><td>6698             </td><td>8343             </td><td>10862            </td><td>16945            </td><td>17949            </td><td>7338             </td><td>82467            </td><td>6206             </td><td>14984            </td></tr>\n",
       "</tbody>\n",
       "</table>\n",
       "</dd>\n",
       "\t<dt>$Sampled_reefs</dt>\n",
       "\t\t<dd><table>\n",
       "<tbody>\n",
       "\t<tr><td>2 </td><td>3 </td><td>4 </td><td>5 </td><td>6 </td><td>7 </td><td>8 </td><td>9 </td><td>10</td><td>11</td><td>12</td><td>13</td><td>14</td><td>15</td><td>16</td><td>17</td><td>18</td><td>19</td></tr>\n",
       "</tbody>\n",
       "</table>\n",
       "</dd>\n",
       "\t<dt>$Reef_sizes</dt>\n",
       "\t\t<dd><table>\n",
       "<tbody>\n",
       "\t<tr><td>61.575000</td></tr>\n",
       "\t<tr><td> 0.053004</td></tr>\n",
       "\t<tr><td> 0.007963</td></tr>\n",
       "\t<tr><td> 0.007829</td></tr>\n",
       "\t<tr><td> 0.014214</td></tr>\n",
       "\t<tr><td> 0.003015</td></tr>\n",
       "\t<tr><td> 0.042715</td></tr>\n",
       "\t<tr><td> 0.012401</td></tr>\n",
       "\t<tr><td> 0.105998</td></tr>\n",
       "\t<tr><td> 0.040695</td></tr>\n",
       "\t<tr><td> 0.006805</td></tr>\n",
       "\t<tr><td> 0.001769</td></tr>\n",
       "\t<tr><td> 0.002233</td></tr>\n",
       "\t<tr><td> 0.054761</td></tr>\n",
       "\t<tr><td> 0.004210</td></tr>\n",
       "\t<tr><td> 0.005635</td></tr>\n",
       "\t<tr><td> 0.019537</td></tr>\n",
       "\t<tr><td> 0.010313</td></tr>\n",
       "\t<tr><td> 0.061622</td></tr>\n",
       "\t<tr><td> 2.000000</td></tr>\n",
       "\t<tr><td> 1.500000</td></tr>\n",
       "\t<tr><td> 2.500000</td></tr>\n",
       "\t<tr><td> 2.500000</td></tr>\n",
       "\t<tr><td> 0.175000</td></tr>\n",
       "\t<tr><td> 0.175000</td></tr>\n",
       "\t<tr><td> 0.175000</td></tr>\n",
       "\t<tr><td> 0.158333</td></tr>\n",
       "\t<tr><td> 0.158333</td></tr>\n",
       "\t<tr><td> 0.158333</td></tr>\n",
       "</tbody>\n",
       "</table>\n",
       "</dd>\n",
       "\t<dt>$Adult_sample_proportions</dt>\n",
       "\t\t<dd><table>\n",
       "<tbody>\n",
       "\t<tr><td>1</td></tr>\n",
       "\t<tr><td>1</td></tr>\n",
       "\t<tr><td>1</td></tr>\n",
       "\t<tr><td>1</td></tr>\n",
       "\t<tr><td>1</td></tr>\n",
       "\t<tr><td>1</td></tr>\n",
       "\t<tr><td>1</td></tr>\n",
       "\t<tr><td>1</td></tr>\n",
       "\t<tr><td>1</td></tr>\n",
       "\t<tr><td>1</td></tr>\n",
       "\t<tr><td>1</td></tr>\n",
       "\t<tr><td>1</td></tr>\n",
       "\t<tr><td>1</td></tr>\n",
       "\t<tr><td>1</td></tr>\n",
       "\t<tr><td>1</td></tr>\n",
       "\t<tr><td>1</td></tr>\n",
       "\t<tr><td>1</td></tr>\n",
       "\t<tr><td>1</td></tr>\n",
       "</tbody>\n",
       "</table>\n",
       "</dd>\n",
       "</dl>\n"
      ],
      "text/latex": [
       "\\begin{description}\n",
       "\\item[\\$Distances] \\begin{tabular}{lllllllllllllllllllllllllllll}\n",
       "\t  0.00000   & 36.5946593 & 37.5112742 & 37.6253510 & 38.1057602 & 39.049765  & 37.8230185 & 38.166948  & 36.5195041 & 36.2377630 & ...        & 32.701393  & 28.926277  & 27.351389  & 33.695741  & 37.503280  & 38.516482  & 37.597513  & 37.054742  & 37.642947  & 39.033551 \\\\\n",
       "\t 36.59466   &  0.0000000 &  3.0328732 &  3.7812405 &  7.7170642 & 15.862935  & 24.4585460 &  6.099642  &  0.2491593 &  2.6540921 & ...        & 39.544910  & 35.144215  & 36.419898  & 40.865998  &  6.213381  & 10.206371  & 12.895821  & 28.272891  & 31.104711  & 34.889230 \\\\\n",
       "\t 37.51127   &  3.0328732 &  0.0000000 &  0.7611792 &  4.7583636 & 13.024371  & 21.9388356 &  3.089401  &  3.2818305 &  5.6803278 & ...        & 37.871146  & 33.627822  & 35.066563  & 39.166201  &  9.134980  & 13.118841  & 15.893159  & 25.916903  & 28.787651  & 32.595295 \\\\\n",
       "\t 37.62535   &  3.7812405 &  0.7611792 &  0.0000000 &  3.9999295 & 12.278269  & 21.2468135 &  2.328784  &  4.0295957 &  6.4329063 & ...        & 37.352525  & 33.148293  & 34.623834  & 38.640953  &  9.896052  & 13.879354  & 16.652684  & 25.256030  & 28.133246  & 31.943863 \\\\\n",
       "\t 38.10576   &  7.7170642 &  4.7583636 &  3.9999295 &  0.0000000 &  8.315917  & 17.5336836 &  1.722545  &  7.9606595 & 10.3654013 & ...        & 34.492511  & 30.513924  & 32.177918  & 35.741760  & 13.887636  & 17.875087  & 20.612864  & 21.692121  & 24.593653  & 28.409519 \\\\\n",
       "\t 39.04977   & 15.8629348 & 13.0243709 & 12.2782690 &  8.3159171 &  0.000000  &  9.7139044 & 10.038211  & 16.0957979 & 18.4582391 & ...        & 28.304747  & 24.963682  & 27.009579  & 29.438628  & 22.076224  & 26.069278  & 28.674096  & 14.147121  & 17.039911  & 20.803673 \\\\\n",
       "\t 37.82302   & 24.4585460 & 21.9388356 & 21.2468135 & 17.5336836 &  9.713904  &  0.0000000 & 19.212801  & 24.6650474 & 26.8648033 & ...        & 19.483034  & 16.994224  & 19.361938  & 20.477052  & 30.548069  & 34.469402  & 36.732489  &  4.514775  &  7.357179  & 11.093097 \\\\\n",
       "\t 38.16695   &  6.0996424 &  3.0894010 &  2.3287841 &  1.7225454 & 10.038211  & 19.2128007 &  0.000000  &  6.3468215 &  8.7536412 & ...        & 35.900425  & 31.835169  & 33.429679  & 37.164646  & 12.221398  & 16.200943  & 18.981054  & 23.330510  & 26.226313  & 30.042362 \\\\\n",
       "\t 36.51950   &  0.2491593 &  3.2818305 &  4.0295957 &  7.9606595 & 16.095798  & 24.6650474 &  6.346821  &  0.0000000 &  2.4075738 & ...        & 39.680972  & 35.268567  & 36.530808  & 41.003925  &  5.982029  &  9.973883  & 12.652356  & 28.465720  & 31.293899  & 35.075943 \\\\\n",
       "\t 36.23776   &  2.6540921 &  5.6803278 &  6.4329063 & 10.3654013 & 18.458239  & 26.8648033 &  8.753641  &  2.4075738 &  0.0000000 & ...        & 41.331275  & 36.827657  & 37.975455  & 42.668201  &  3.683507  &  7.641936  & 10.250720  & 30.567283  & 33.366720  & 37.127744 \\\\\n",
       "\t 38.63529   & 12.7521560 &  9.8703541 &  9.1192352 &  5.1402209 &  3.181945  & 12.6833762 &  6.861202  & 12.9889492 & 15.3704543 & ...        & 30.657323  & 27.036208  & 28.936350  & 31.842529  & 18.959569  & 22.953023  & 25.611097  & 17.013966  & 19.922745  & 23.719414 \\\\\n",
       "\t 38.84231   & 11.9430714 &  9.0230795 &  8.2669730 &  4.2700861 &  4.101033  & 13.6344936 &  5.982048  & 12.1827992 & 14.5758699 & ...        & 31.533641  & 27.866434  & 29.737399  & 32.726605  & 18.138399  & 22.129742  & 24.825094  & 17.959946  & 20.869110  & 24.667293 \\\\\n",
       "\t 38.78323   & 11.3862533 &  8.4572682 &  7.7002819 &  3.7016111 &  4.670851  & 14.1717075 &  5.411037  & 11.6267537 & 14.0225864 & ...        & 31.960711  & 28.250573  & 30.095584  & 33.161468  & 17.577227  & 21.567716  & 24.272889  & 18.478733  & 21.388487  & 25.190304 \\\\\n",
       "\t 37.26500   & 24.7874862 & 22.3207572 & 21.6392752 & 17.9802829 & 10.297894  &  0.7997638 & 19.644483  & 24.9897821 & 27.1607997 & ...        & 18.709839  & 16.194683  & 18.562473  & 19.714527  & 30.841749  & 34.744696  & 36.959157  &  3.855524  &  6.742072  & 10.518637 \\\\\n",
       "\t 38.86279   & 10.8525552 &  7.9035693 &  7.1445494 &  3.1454389 &  5.267787  & 14.7679554 &  4.842019  & 11.0945908 & 13.4951939 & ...        & 32.488550  & 28.746021  & 30.569948  & 33.694935  & 17.032335  & 21.020396  & 23.745675  & 19.066742  & 21.976624  & 25.780069 \\\\\n",
       "\t 38.16142   &  6.9584971 &  3.9724282 &  3.2116192 &  0.8152421 &  9.129664  & 18.3347502 &  0.908849  &  7.2040092 &  9.6113723 & ...        & 35.175714  & 31.157140  & 32.789495  & 36.431849  & 13.107253  & 17.090926  & 19.851090  & 22.476482  & 25.375756  & 29.191889 \\\\\n",
       "\t 37.94051   & 23.2767047 & 20.7165638 & 20.0172270 & 16.2700875 &  8.395073  &  1.3227549 & 17.957537  & 23.4866175 & 25.7099352 & ...        & 20.679329  & 18.037808  & 20.362496  & 21.697643  & 29.393198  & 33.329316  & 35.637614  &  5.824674  &  8.678508  & 12.415096 \\\\\n",
       "\t 38.55190   & 13.9152905 & 11.0698081 & 10.3237434 &  6.3661478 &  1.954587  & 11.4404248 &  8.088693  & 14.1491465 & 16.5172017 & ...        & 29.579123  & 26.040679  & 27.988733  & 30.749828  & 20.128015  & 24.121469  & 26.742472  & 15.792907  & 18.699915  & 22.491071 \\\\\n",
       "\t 36.40355   &  2.1280885 &  5.1471170 &  5.9014240 &  9.8446575 & 17.962102  & 26.4270338 &  8.224696  &  1.8840396 &  0.5403139 & ...        & 41.048554  & 36.567327  & 37.744189  & 42.382095  &  4.138477  &  8.118199  & 10.768316  & 30.159783  & 32.968043  & 36.735660 \\\\\n",
       "\t 32.70139   & 39.5449097 & 37.8711462 & 37.3525247 & 34.4925112 & 28.304747  & 19.4830345 & 35.900425  & 39.6809717 & 41.3312751 & ...        &  0.000000  &  4.863776  &  5.420621  &  1.370390  & 44.738458  & 48.157450  & 49.523571  & 15.222505  & 13.045692  & 11.019446 \\\\\n",
       "\t 28.92628   & 35.1442145 & 33.6278217 & 33.1482933 & 30.5139243 & 24.963682  & 16.9942240 & 31.835169  & 35.2685672 & 36.8276566 & ...        &  4.863776  &  0.000000  &  2.533995  &  6.223798  & 40.171279  & 43.514955  & 44.799272  & 13.286450  & 11.899157  & 11.342632 \\\\\n",
       "\t 27.35139   & 36.4198977 & 35.0665635 & 34.6238340 & 32.1779180 & 27.009579  & 19.3619379 & 33.429679  & 36.5308084 & 37.9754549 & ...        &  5.420621  &  2.533995  &  0.000000  &  6.580623  & 41.222955  & 44.441155  & 45.566635  & 15.769838  & 14.432930  & 13.776353 \\\\\n",
       "\t 33.69574   & 40.8659979 & 39.1662013 & 38.6409535 & 35.7417602 & 29.438628  & 20.4770519 & 37.164646  & 41.0039249 & 42.6682007 & ...        &  1.370390  &  6.223798  &  6.580623  &  0.000000  & 46.084279  & 49.513264  & 50.888711  & 16.140271  & 13.826564  & 11.490651 \\\\\n",
       "\t 37.50328   &  6.2133808 &  9.1349798 &  9.8960518 & 13.8876360 & 22.076224  & 30.5480691 & 12.221398  &  5.9820295 &  3.6835073 & ...        & 44.738458  & 40.171279  & 41.222955  & 46.084279  &  0.000000  &  3.993689  &  6.835224  & 34.233566  & 37.023388  & 40.775762 \\\\\n",
       "\t 38.51648   & 10.2063710 & 13.1188408 & 13.8793536 & 17.8750869 & 26.069278  & 34.4694020 & 16.200943  &  9.9738830 &  7.6419356 & ...        & 48.157450  & 43.514955  & 44.441155  & 49.513264  &  3.993689  &  0.000000  &  3.200284  & 38.084405  & 40.848666  & 44.579280 \\\\\n",
       "\t 37.59751   & 12.8958210 & 15.8931586 & 16.6526838 & 20.6128640 & 28.674096  & 36.7324890 & 18.981054  & 12.6523556 & 10.2507204 & ...        & 49.523571  & 44.799272  & 45.566635  & 50.888711  &  6.835224  &  3.200284  &  0.000000  & 40.170301  & 42.874401  & 46.552947 \\\\\n",
       "\t 37.05474   & 28.2728912 & 25.9169033 & 25.2560300 & 21.6921207 & 14.147121  &  4.5147754 & 23.330510  & 28.4657202 & 30.5672834 & ...        & 15.222505  & 13.286450  & 15.769838  & 16.140271  & 34.233566  & 38.084405  & 40.170301  &  0.000000  &  2.909906  &  6.720155 \\\\\n",
       "\t 37.64295   & 31.1047113 & 28.7876513 & 28.1332457 & 24.5936532 & 17.039911  &  7.3571787 & 26.226313  & 31.2938988 & 33.3667198 & ...        & 13.045692  & 11.899157  & 14.432930  & 13.826564  & 37.023388  & 40.848666  & 42.874401  &  2.909906  &  0.000000  &  3.816162 \\\\\n",
       "\t 39.03355   & 34.8892299 & 32.5952953 & 31.9438625 & 28.4095193 & 20.803673  & 11.0930971 & 30.042362  & 35.0759430 & 37.1277442 & ...        & 11.019446  & 11.342632  & 13.776353  & 11.490651  & 40.775762  & 44.579280  & 46.552947  &  6.720155  &  3.816162  &  0.000000 \\\\\n",
       "\\end{tabular}\n",
       "\n",
       "\\item[\\$Assignments] \\begin{tabular}{llllllllllllllllll}\n",
       " source & Cabatoan & Caridad Cemetery & Caridad Proper & Elementary School & Haina & Hicgop South & Magbangon & Palanas & Poroc Rose & Poroc San Flower & San Agustin & Sitio Baybayon & Sitio Lonas & Sitio Tugas & Tamakin Dacot & Visca & Wangag\\\\\n",
       "\\hline\n",
       "\t Cabatoan          &   921             &   328             &   858             &   211             &    48             &   271             &   693             &    78             &   69              &  122              &   330             &   341             &   286             &  274              &    55             &    1              &   192            \\\\\n",
       "\t Caridad Cemetery  &   620             &   329             &   998             &    85             &    12             &   156             &   636             &    66             &   48              &  121              &   446             &   480             &   613             &  268              &     1             &    0              &    76            \\\\\n",
       "\t Caridad Proper    &   484             &   105             &   636             &    39             &     8             &   167             &   333             &     4             &   53              &  134              &   540             &   216             &   548             &  208              &     4             &    2              &    48            \\\\\n",
       "\t Elementary School &   250             &   416             &   803             &   953             &    27             &  2046             &   239             &     1             &  180              &  280              &   745             &    94             &   710             & 1141              &     8             &    1              &     8            \\\\\n",
       "\t Gabas             &    27             &    12             &    55             &   474             &   120             &   205             &     1             &     2             &  729              & 1056              &  5084             &     2             &  8475             &  291              &    96             & 8280              &     0            \\\\\n",
       "\t Haina             &     2             &     0             &     2             &     0             &  1999             &     0             &     2             &     0             &    0              &    2              &    54             &    43             &     9             &    6              &   357             &   41              &     4            \\\\\n",
       "\t Hicgop South      &   495             &  1023             &  1838             &  1239             &   415             &  2658             &   365             &     7             &  605              & 1052              &  1716             &   632             &  1971             & 1115              &   233             &   73              &    39            \\\\\n",
       "\t Magbangon         &   685             &   796             &  1454             &   128             &    46             &   462             &   387             &   240             &   41              &   81              &   499             &   793             &   211             &  188              &    23             &   13              &   492            \\\\\n",
       "\t Palanas           &   651             &   422             &   584             &     1             &     0             &    81             &   782             &   477             &    9              &    1              &    38             &  1697             &     1             &   38              &     0             &    0              &   480            \\\\\n",
       "\t Poroc Rose        &   109             &    84             &   233             &   351             &   125             &   192             &    22             &     9             &  702              & 1061              &  2056             &    29             &  4357             &  369              &    72             &  616              &    12            \\\\\n",
       "\t Poroc San Flower  &   141             &   115             &   327             &   646             &   134             &   227             &    47             &    39             & 1102              & 1443              &  4666             &    67             &  7594             &  662              &    74             &  336              &    28            \\\\\n",
       "\t San Agustin       &    96             &    57             &   273             &   447             &    80             &   734             &    66             &     4             & 1585              & 1396              &  4828             &    67             &  8949             &  791              &    35             &   92              &    29            \\\\\n",
       "\t Sitio Baybayon    &  3461             &  3697             &  4608             &   230             &    30             &   490             &  4050             &  1227             &   71              &  197              &  1082             & 13889             &   576             &  380              &    49             &    1              &  2065            \\\\\n",
       "\t Sitio Lonas       &    36             &    59             &   477             &  1833             &     0             &  4932             &    37             &     1             &   43              &  141              &  2897             &     0             & 21713             & 2321              &     0             &    0              &     6            \\\\\n",
       "\t Sitio Tugas       &   294             &   103             &   241             &   347             &    49             &   348             &   159             &    32             &  157              &  195              &   613             &   324             &   684             &  257              &    14             &    7              &    81            \\\\\n",
       "\t Tamakin Dacot     &     0             &     0             &     0             &     0             & 14605             &     0             &     1             &     0             &    5              &    1              &     8             &     0             &     2             &    0              & 49704             &  275              &     0            \\\\\n",
       "\t Visca             &    40             &    94             &   239             &   594             &   167             &   167             &    35             &     2             &  726              & 1164              &  3656             &    16             &  5495             &  471              &   128             &  214              &     5            \\\\\n",
       "\t Wangag            &  1583             &  1361             &  1259             &    76             &    15             &   239             &  2013             &   705             &   51              &   65              &   414             &  5552             &   126             &  114              &    10             &    0              &   960            \\\\\n",
       "\t unsampled         & 15294             & 10495             & 12894             & 14377             & 30496             & 21701             & 15161             & 16850             & 6698              & 8343              & 10862             & 16945             & 17949             & 7338              & 82467             & 6206              & 14984            \\\\\n",
       "\\end{tabular}\n",
       "\n",
       "\\item[\\$Sampled\\_reefs] \\begin{tabular}{llllllllllllllllll}\n",
       "\t 2  & 3  & 4  & 5  & 6  & 7  & 8  & 9  & 10 & 11 & 12 & 13 & 14 & 15 & 16 & 17 & 18 & 19\\\\\n",
       "\\end{tabular}\n",
       "\n",
       "\\item[\\$Reef\\_sizes] \\begin{tabular}{l}\n",
       "\t 61.575000\\\\\n",
       "\t  0.053004\\\\\n",
       "\t  0.007963\\\\\n",
       "\t  0.007829\\\\\n",
       "\t  0.014214\\\\\n",
       "\t  0.003015\\\\\n",
       "\t  0.042715\\\\\n",
       "\t  0.012401\\\\\n",
       "\t  0.105998\\\\\n",
       "\t  0.040695\\\\\n",
       "\t  0.006805\\\\\n",
       "\t  0.001769\\\\\n",
       "\t  0.002233\\\\\n",
       "\t  0.054761\\\\\n",
       "\t  0.004210\\\\\n",
       "\t  0.005635\\\\\n",
       "\t  0.019537\\\\\n",
       "\t  0.010313\\\\\n",
       "\t  0.061622\\\\\n",
       "\t  2.000000\\\\\n",
       "\t  1.500000\\\\\n",
       "\t  2.500000\\\\\n",
       "\t  2.500000\\\\\n",
       "\t  0.175000\\\\\n",
       "\t  0.175000\\\\\n",
       "\t  0.175000\\\\\n",
       "\t  0.158333\\\\\n",
       "\t  0.158333\\\\\n",
       "\t  0.158333\\\\\n",
       "\\end{tabular}\n",
       "\n",
       "\\item[\\$Adult\\_sample\\_proportions] \\begin{tabular}{l}\n",
       "\t 1\\\\\n",
       "\t 1\\\\\n",
       "\t 1\\\\\n",
       "\t 1\\\\\n",
       "\t 1\\\\\n",
       "\t 1\\\\\n",
       "\t 1\\\\\n",
       "\t 1\\\\\n",
       "\t 1\\\\\n",
       "\t 1\\\\\n",
       "\t 1\\\\\n",
       "\t 1\\\\\n",
       "\t 1\\\\\n",
       "\t 1\\\\\n",
       "\t 1\\\\\n",
       "\t 1\\\\\n",
       "\t 1\\\\\n",
       "\t 1\\\\\n",
       "\\end{tabular}\n",
       "\n",
       "\\end{description}\n"
      ],
      "text/markdown": [
       "$Distances\n",
       ":   \n",
       "|  0.00000   | 36.5946593 | 37.5112742 | 37.6253510 | 38.1057602 | 39.049765  | 37.8230185 | 38.166948  | 36.5195041 | 36.2377630 | ...        | 32.701393  | 28.926277  | 27.351389  | 33.695741  | 37.503280  | 38.516482  | 37.597513  | 37.054742  | 37.642947  | 39.033551  |\n",
       "| 36.59466   |  0.0000000 |  3.0328732 |  3.7812405 |  7.7170642 | 15.862935  | 24.4585460 |  6.099642  |  0.2491593 |  2.6540921 | ...        | 39.544910  | 35.144215  | 36.419898  | 40.865998  |  6.213381  | 10.206371  | 12.895821  | 28.272891  | 31.104711  | 34.889230  |\n",
       "| 37.51127   |  3.0328732 |  0.0000000 |  0.7611792 |  4.7583636 | 13.024371  | 21.9388356 |  3.089401  |  3.2818305 |  5.6803278 | ...        | 37.871146  | 33.627822  | 35.066563  | 39.166201  |  9.134980  | 13.118841  | 15.893159  | 25.916903  | 28.787651  | 32.595295  |\n",
       "| 37.62535   |  3.7812405 |  0.7611792 |  0.0000000 |  3.9999295 | 12.278269  | 21.2468135 |  2.328784  |  4.0295957 |  6.4329063 | ...        | 37.352525  | 33.148293  | 34.623834  | 38.640953  |  9.896052  | 13.879354  | 16.652684  | 25.256030  | 28.133246  | 31.943863  |\n",
       "| 38.10576   |  7.7170642 |  4.7583636 |  3.9999295 |  0.0000000 |  8.315917  | 17.5336836 |  1.722545  |  7.9606595 | 10.3654013 | ...        | 34.492511  | 30.513924  | 32.177918  | 35.741760  | 13.887636  | 17.875087  | 20.612864  | 21.692121  | 24.593653  | 28.409519  |\n",
       "| 39.04977   | 15.8629348 | 13.0243709 | 12.2782690 |  8.3159171 |  0.000000  |  9.7139044 | 10.038211  | 16.0957979 | 18.4582391 | ...        | 28.304747  | 24.963682  | 27.009579  | 29.438628  | 22.076224  | 26.069278  | 28.674096  | 14.147121  | 17.039911  | 20.803673  |\n",
       "| 37.82302   | 24.4585460 | 21.9388356 | 21.2468135 | 17.5336836 |  9.713904  |  0.0000000 | 19.212801  | 24.6650474 | 26.8648033 | ...        | 19.483034  | 16.994224  | 19.361938  | 20.477052  | 30.548069  | 34.469402  | 36.732489  |  4.514775  |  7.357179  | 11.093097  |\n",
       "| 38.16695   |  6.0996424 |  3.0894010 |  2.3287841 |  1.7225454 | 10.038211  | 19.2128007 |  0.000000  |  6.3468215 |  8.7536412 | ...        | 35.900425  | 31.835169  | 33.429679  | 37.164646  | 12.221398  | 16.200943  | 18.981054  | 23.330510  | 26.226313  | 30.042362  |\n",
       "| 36.51950   |  0.2491593 |  3.2818305 |  4.0295957 |  7.9606595 | 16.095798  | 24.6650474 |  6.346821  |  0.0000000 |  2.4075738 | ...        | 39.680972  | 35.268567  | 36.530808  | 41.003925  |  5.982029  |  9.973883  | 12.652356  | 28.465720  | 31.293899  | 35.075943  |\n",
       "| 36.23776   |  2.6540921 |  5.6803278 |  6.4329063 | 10.3654013 | 18.458239  | 26.8648033 |  8.753641  |  2.4075738 |  0.0000000 | ...        | 41.331275  | 36.827657  | 37.975455  | 42.668201  |  3.683507  |  7.641936  | 10.250720  | 30.567283  | 33.366720  | 37.127744  |\n",
       "| 38.63529   | 12.7521560 |  9.8703541 |  9.1192352 |  5.1402209 |  3.181945  | 12.6833762 |  6.861202  | 12.9889492 | 15.3704543 | ...        | 30.657323  | 27.036208  | 28.936350  | 31.842529  | 18.959569  | 22.953023  | 25.611097  | 17.013966  | 19.922745  | 23.719414  |\n",
       "| 38.84231   | 11.9430714 |  9.0230795 |  8.2669730 |  4.2700861 |  4.101033  | 13.6344936 |  5.982048  | 12.1827992 | 14.5758699 | ...        | 31.533641  | 27.866434  | 29.737399  | 32.726605  | 18.138399  | 22.129742  | 24.825094  | 17.959946  | 20.869110  | 24.667293  |\n",
       "| 38.78323   | 11.3862533 |  8.4572682 |  7.7002819 |  3.7016111 |  4.670851  | 14.1717075 |  5.411037  | 11.6267537 | 14.0225864 | ...        | 31.960711  | 28.250573  | 30.095584  | 33.161468  | 17.577227  | 21.567716  | 24.272889  | 18.478733  | 21.388487  | 25.190304  |\n",
       "| 37.26500   | 24.7874862 | 22.3207572 | 21.6392752 | 17.9802829 | 10.297894  |  0.7997638 | 19.644483  | 24.9897821 | 27.1607997 | ...        | 18.709839  | 16.194683  | 18.562473  | 19.714527  | 30.841749  | 34.744696  | 36.959157  |  3.855524  |  6.742072  | 10.518637  |\n",
       "| 38.86279   | 10.8525552 |  7.9035693 |  7.1445494 |  3.1454389 |  5.267787  | 14.7679554 |  4.842019  | 11.0945908 | 13.4951939 | ...        | 32.488550  | 28.746021  | 30.569948  | 33.694935  | 17.032335  | 21.020396  | 23.745675  | 19.066742  | 21.976624  | 25.780069  |\n",
       "| 38.16142   |  6.9584971 |  3.9724282 |  3.2116192 |  0.8152421 |  9.129664  | 18.3347502 |  0.908849  |  7.2040092 |  9.6113723 | ...        | 35.175714  | 31.157140  | 32.789495  | 36.431849  | 13.107253  | 17.090926  | 19.851090  | 22.476482  | 25.375756  | 29.191889  |\n",
       "| 37.94051   | 23.2767047 | 20.7165638 | 20.0172270 | 16.2700875 |  8.395073  |  1.3227549 | 17.957537  | 23.4866175 | 25.7099352 | ...        | 20.679329  | 18.037808  | 20.362496  | 21.697643  | 29.393198  | 33.329316  | 35.637614  |  5.824674  |  8.678508  | 12.415096  |\n",
       "| 38.55190   | 13.9152905 | 11.0698081 | 10.3237434 |  6.3661478 |  1.954587  | 11.4404248 |  8.088693  | 14.1491465 | 16.5172017 | ...        | 29.579123  | 26.040679  | 27.988733  | 30.749828  | 20.128015  | 24.121469  | 26.742472  | 15.792907  | 18.699915  | 22.491071  |\n",
       "| 36.40355   |  2.1280885 |  5.1471170 |  5.9014240 |  9.8446575 | 17.962102  | 26.4270338 |  8.224696  |  1.8840396 |  0.5403139 | ...        | 41.048554  | 36.567327  | 37.744189  | 42.382095  |  4.138477  |  8.118199  | 10.768316  | 30.159783  | 32.968043  | 36.735660  |\n",
       "| 32.70139   | 39.5449097 | 37.8711462 | 37.3525247 | 34.4925112 | 28.304747  | 19.4830345 | 35.900425  | 39.6809717 | 41.3312751 | ...        |  0.000000  |  4.863776  |  5.420621  |  1.370390  | 44.738458  | 48.157450  | 49.523571  | 15.222505  | 13.045692  | 11.019446  |\n",
       "| 28.92628   | 35.1442145 | 33.6278217 | 33.1482933 | 30.5139243 | 24.963682  | 16.9942240 | 31.835169  | 35.2685672 | 36.8276566 | ...        |  4.863776  |  0.000000  |  2.533995  |  6.223798  | 40.171279  | 43.514955  | 44.799272  | 13.286450  | 11.899157  | 11.342632  |\n",
       "| 27.35139   | 36.4198977 | 35.0665635 | 34.6238340 | 32.1779180 | 27.009579  | 19.3619379 | 33.429679  | 36.5308084 | 37.9754549 | ...        |  5.420621  |  2.533995  |  0.000000  |  6.580623  | 41.222955  | 44.441155  | 45.566635  | 15.769838  | 14.432930  | 13.776353  |\n",
       "| 33.69574   | 40.8659979 | 39.1662013 | 38.6409535 | 35.7417602 | 29.438628  | 20.4770519 | 37.164646  | 41.0039249 | 42.6682007 | ...        |  1.370390  |  6.223798  |  6.580623  |  0.000000  | 46.084279  | 49.513264  | 50.888711  | 16.140271  | 13.826564  | 11.490651  |\n",
       "| 37.50328   |  6.2133808 |  9.1349798 |  9.8960518 | 13.8876360 | 22.076224  | 30.5480691 | 12.221398  |  5.9820295 |  3.6835073 | ...        | 44.738458  | 40.171279  | 41.222955  | 46.084279  |  0.000000  |  3.993689  |  6.835224  | 34.233566  | 37.023388  | 40.775762  |\n",
       "| 38.51648   | 10.2063710 | 13.1188408 | 13.8793536 | 17.8750869 | 26.069278  | 34.4694020 | 16.200943  |  9.9738830 |  7.6419356 | ...        | 48.157450  | 43.514955  | 44.441155  | 49.513264  |  3.993689  |  0.000000  |  3.200284  | 38.084405  | 40.848666  | 44.579280  |\n",
       "| 37.59751   | 12.8958210 | 15.8931586 | 16.6526838 | 20.6128640 | 28.674096  | 36.7324890 | 18.981054  | 12.6523556 | 10.2507204 | ...        | 49.523571  | 44.799272  | 45.566635  | 50.888711  |  6.835224  |  3.200284  |  0.000000  | 40.170301  | 42.874401  | 46.552947  |\n",
       "| 37.05474   | 28.2728912 | 25.9169033 | 25.2560300 | 21.6921207 | 14.147121  |  4.5147754 | 23.330510  | 28.4657202 | 30.5672834 | ...        | 15.222505  | 13.286450  | 15.769838  | 16.140271  | 34.233566  | 38.084405  | 40.170301  |  0.000000  |  2.909906  |  6.720155  |\n",
       "| 37.64295   | 31.1047113 | 28.7876513 | 28.1332457 | 24.5936532 | 17.039911  |  7.3571787 | 26.226313  | 31.2938988 | 33.3667198 | ...        | 13.045692  | 11.899157  | 14.432930  | 13.826564  | 37.023388  | 40.848666  | 42.874401  |  2.909906  |  0.000000  |  3.816162  |\n",
       "| 39.03355   | 34.8892299 | 32.5952953 | 31.9438625 | 28.4095193 | 20.803673  | 11.0930971 | 30.042362  | 35.0759430 | 37.1277442 | ...        | 11.019446  | 11.342632  | 13.776353  | 11.490651  | 40.775762  | 44.579280  | 46.552947  |  6.720155  |  3.816162  |  0.000000  |\n",
       "\n",
       "\n",
       "$Assignments\n",
       ":   \n",
       "| source | Cabatoan | Caridad Cemetery | Caridad Proper | Elementary School | Haina | Hicgop South | Magbangon | Palanas | Poroc Rose | Poroc San Flower | San Agustin | Sitio Baybayon | Sitio Lonas | Sitio Tugas | Tamakin Dacot | Visca | Wangag |\n",
       "|---|---|---|---|---|---|---|---|---|---|---|---|---|---|---|---|---|---|\n",
       "| Cabatoan          |   921             |   328             |   858             |   211             |    48             |   271             |   693             |    78             |   69              |  122              |   330             |   341             |   286             |  274              |    55             |    1              |   192             |\n",
       "| Caridad Cemetery  |   620             |   329             |   998             |    85             |    12             |   156             |   636             |    66             |   48              |  121              |   446             |   480             |   613             |  268              |     1             |    0              |    76             |\n",
       "| Caridad Proper    |   484             |   105             |   636             |    39             |     8             |   167             |   333             |     4             |   53              |  134              |   540             |   216             |   548             |  208              |     4             |    2              |    48             |\n",
       "| Elementary School |   250             |   416             |   803             |   953             |    27             |  2046             |   239             |     1             |  180              |  280              |   745             |    94             |   710             | 1141              |     8             |    1              |     8             |\n",
       "| Gabas             |    27             |    12             |    55             |   474             |   120             |   205             |     1             |     2             |  729              | 1056              |  5084             |     2             |  8475             |  291              |    96             | 8280              |     0             |\n",
       "| Haina             |     2             |     0             |     2             |     0             |  1999             |     0             |     2             |     0             |    0              |    2              |    54             |    43             |     9             |    6              |   357             |   41              |     4             |\n",
       "| Hicgop South      |   495             |  1023             |  1838             |  1239             |   415             |  2658             |   365             |     7             |  605              | 1052              |  1716             |   632             |  1971             | 1115              |   233             |   73              |    39             |\n",
       "| Magbangon         |   685             |   796             |  1454             |   128             |    46             |   462             |   387             |   240             |   41              |   81              |   499             |   793             |   211             |  188              |    23             |   13              |   492             |\n",
       "| Palanas           |   651             |   422             |   584             |     1             |     0             |    81             |   782             |   477             |    9              |    1              |    38             |  1697             |     1             |   38              |     0             |    0              |   480             |\n",
       "| Poroc Rose        |   109             |    84             |   233             |   351             |   125             |   192             |    22             |     9             |  702              | 1061              |  2056             |    29             |  4357             |  369              |    72             |  616              |    12             |\n",
       "| Poroc San Flower  |   141             |   115             |   327             |   646             |   134             |   227             |    47             |    39             | 1102              | 1443              |  4666             |    67             |  7594             |  662              |    74             |  336              |    28             |\n",
       "| San Agustin       |    96             |    57             |   273             |   447             |    80             |   734             |    66             |     4             | 1585              | 1396              |  4828             |    67             |  8949             |  791              |    35             |   92              |    29             |\n",
       "| Sitio Baybayon    |  3461             |  3697             |  4608             |   230             |    30             |   490             |  4050             |  1227             |   71              |  197              |  1082             | 13889             |   576             |  380              |    49             |    1              |  2065             |\n",
       "| Sitio Lonas       |    36             |    59             |   477             |  1833             |     0             |  4932             |    37             |     1             |   43              |  141              |  2897             |     0             | 21713             | 2321              |     0             |    0              |     6             |\n",
       "| Sitio Tugas       |   294             |   103             |   241             |   347             |    49             |   348             |   159             |    32             |  157              |  195              |   613             |   324             |   684             |  257              |    14             |    7              |    81             |\n",
       "| Tamakin Dacot     |     0             |     0             |     0             |     0             | 14605             |     0             |     1             |     0             |    5              |    1              |     8             |     0             |     2             |    0              | 49704             |  275              |     0             |\n",
       "| Visca             |    40             |    94             |   239             |   594             |   167             |   167             |    35             |     2             |  726              | 1164              |  3656             |    16             |  5495             |  471              |   128             |  214              |     5             |\n",
       "| Wangag            |  1583             |  1361             |  1259             |    76             |    15             |   239             |  2013             |   705             |   51              |   65              |   414             |  5552             |   126             |  114              |    10             |    0              |   960             |\n",
       "| unsampled         | 15294             | 10495             | 12894             | 14377             | 30496             | 21701             | 15161             | 16850             | 6698              | 8343              | 10862             | 16945             | 17949             | 7338              | 82467             | 6206              | 14984             |\n",
       "\n",
       "\n",
       "$Sampled_reefs\n",
       ":   \n",
       "| 2  | 3  | 4  | 5  | 6  | 7  | 8  | 9  | 10 | 11 | 12 | 13 | 14 | 15 | 16 | 17 | 18 | 19 |\n",
       "\n",
       "\n",
       "$Reef_sizes\n",
       ":   \n",
       "| 61.575000 |\n",
       "|  0.053004 |\n",
       "|  0.007963 |\n",
       "|  0.007829 |\n",
       "|  0.014214 |\n",
       "|  0.003015 |\n",
       "|  0.042715 |\n",
       "|  0.012401 |\n",
       "|  0.105998 |\n",
       "|  0.040695 |\n",
       "|  0.006805 |\n",
       "|  0.001769 |\n",
       "|  0.002233 |\n",
       "|  0.054761 |\n",
       "|  0.004210 |\n",
       "|  0.005635 |\n",
       "|  0.019537 |\n",
       "|  0.010313 |\n",
       "|  0.061622 |\n",
       "|  2.000000 |\n",
       "|  1.500000 |\n",
       "|  2.500000 |\n",
       "|  2.500000 |\n",
       "|  0.175000 |\n",
       "|  0.175000 |\n",
       "|  0.175000 |\n",
       "|  0.158333 |\n",
       "|  0.158333 |\n",
       "|  0.158333 |\n",
       "\n",
       "\n",
       "$Adult_sample_proportions\n",
       ":   \n",
       "| 1 |\n",
       "| 1 |\n",
       "| 1 |\n",
       "| 1 |\n",
       "| 1 |\n",
       "| 1 |\n",
       "| 1 |\n",
       "| 1 |\n",
       "| 1 |\n",
       "| 1 |\n",
       "| 1 |\n",
       "| 1 |\n",
       "| 1 |\n",
       "| 1 |\n",
       "| 1 |\n",
       "| 1 |\n",
       "| 1 |\n",
       "| 1 |\n",
       "\n",
       "\n",
       "\n",
       "\n"
      ],
      "text/plain": [
       "$Distances\n",
       "          [,1]       [,2]       [,3]       [,4]       [,5]      [,6]       [,7]\n",
       " [1,]  0.00000 36.5946593 37.5112742 37.6253510 38.1057602 39.049765 37.8230185\n",
       " [2,] 36.59466  0.0000000  3.0328732  3.7812405  7.7170642 15.862935 24.4585460\n",
       " [3,] 37.51127  3.0328732  0.0000000  0.7611792  4.7583636 13.024371 21.9388356\n",
       " [4,] 37.62535  3.7812405  0.7611792  0.0000000  3.9999295 12.278269 21.2468135\n",
       " [5,] 38.10576  7.7170642  4.7583636  3.9999295  0.0000000  8.315917 17.5336836\n",
       " [6,] 39.04977 15.8629348 13.0243709 12.2782690  8.3159171  0.000000  9.7139044\n",
       " [7,] 37.82302 24.4585460 21.9388356 21.2468135 17.5336836  9.713904  0.0000000\n",
       " [8,] 38.16695  6.0996424  3.0894010  2.3287841  1.7225454 10.038211 19.2128007\n",
       " [9,] 36.51950  0.2491593  3.2818305  4.0295957  7.9606595 16.095798 24.6650474\n",
       "[10,] 36.23776  2.6540921  5.6803278  6.4329063 10.3654013 18.458239 26.8648033\n",
       "[11,] 38.63529 12.7521560  9.8703541  9.1192352  5.1402209  3.181945 12.6833762\n",
       "[12,] 38.84231 11.9430714  9.0230795  8.2669730  4.2700861  4.101033 13.6344936\n",
       "[13,] 38.78323 11.3862533  8.4572682  7.7002819  3.7016111  4.670851 14.1717075\n",
       "[14,] 37.26500 24.7874862 22.3207572 21.6392752 17.9802829 10.297894  0.7997638\n",
       "[15,] 38.86279 10.8525552  7.9035693  7.1445494  3.1454389  5.267787 14.7679554\n",
       "[16,] 38.16142  6.9584971  3.9724282  3.2116192  0.8152421  9.129664 18.3347502\n",
       "[17,] 37.94051 23.2767047 20.7165638 20.0172270 16.2700875  8.395073  1.3227549\n",
       "[18,] 38.55190 13.9152905 11.0698081 10.3237434  6.3661478  1.954587 11.4404248\n",
       "[19,] 36.40355  2.1280885  5.1471170  5.9014240  9.8446575 17.962102 26.4270338\n",
       "[20,] 32.70139 39.5449097 37.8711462 37.3525247 34.4925112 28.304747 19.4830345\n",
       "[21,] 28.92628 35.1442145 33.6278217 33.1482933 30.5139243 24.963682 16.9942240\n",
       "[22,] 27.35139 36.4198977 35.0665635 34.6238340 32.1779180 27.009579 19.3619379\n",
       "[23,] 33.69574 40.8659979 39.1662013 38.6409535 35.7417602 29.438628 20.4770519\n",
       "[24,] 37.50328  6.2133808  9.1349798  9.8960518 13.8876360 22.076224 30.5480691\n",
       "[25,] 38.51648 10.2063710 13.1188408 13.8793536 17.8750869 26.069278 34.4694020\n",
       "[26,] 37.59751 12.8958210 15.8931586 16.6526838 20.6128640 28.674096 36.7324890\n",
       "[27,] 37.05474 28.2728912 25.9169033 25.2560300 21.6921207 14.147121  4.5147754\n",
       "[28,] 37.64295 31.1047113 28.7876513 28.1332457 24.5936532 17.039911  7.3571787\n",
       "[29,] 39.03355 34.8892299 32.5952953 31.9438625 28.4095193 20.803673 11.0930971\n",
       "           [,8]       [,9]      [,10]      [,11]      [,12]      [,13]\n",
       " [1,] 38.166948 36.5195041 36.2377630 38.6352916 38.8423125 38.7832324\n",
       " [2,]  6.099642  0.2491593  2.6540921 12.7521560 11.9430714 11.3862533\n",
       " [3,]  3.089401  3.2818305  5.6803278  9.8703541  9.0230795  8.4572682\n",
       " [4,]  2.328784  4.0295957  6.4329063  9.1192352  8.2669730  7.7002819\n",
       " [5,]  1.722545  7.9606595 10.3654013  5.1402209  4.2700861  3.7016111\n",
       " [6,] 10.038211 16.0957979 18.4582391  3.1819446  4.1010325  4.6708512\n",
       " [7,] 19.212801 24.6650474 26.8648033 12.6833762 13.6344936 14.1717075\n",
       " [8,]  0.000000  6.3468215  8.7536412  6.8612021  5.9820485  5.4110373\n",
       " [9,]  6.346821  0.0000000  2.4075738 12.9889492 12.1827992 11.6267537\n",
       "[10,]  8.753641  2.4075738  0.0000000 15.3704543 14.5758699 14.0225864\n",
       "[11,]  6.861202 12.9889492 15.3704543  0.0000000  0.9513346  1.5034947\n",
       "[12,]  5.982048 12.1827992 14.5758699  0.9513346  0.0000000  0.5730091\n",
       "[13,]  5.411037 11.6267537 14.0225864  1.5034947  0.5730091  0.0000000\n",
       "[14,] 19.644483 24.9897821 27.1607997 13.2055964 14.1548215 14.6829294\n",
       "[15,]  4.842019 11.0945908 13.4951939  2.1043880  1.1667550  0.6009045\n",
       "[16,]  0.908849  7.2040092  9.6113723  5.9523586  5.0747341  4.5042817\n",
       "[17,] 17.957537 23.4866175 25.7099352 11.3830660 12.3343989 12.8753298\n",
       "[18,]  8.088693 14.1491465 16.5172017  1.2579879  2.2051073  2.7614787\n",
       "[19,]  8.224696  1.8840396  0.5403139 14.8651598 14.0641495 13.5090937\n",
       "[20,] 35.900425 39.6809717 41.3312751 30.6573228 31.5336407 31.9607107\n",
       "[21,] 31.835169 35.2685672 36.8276566 27.0362084 27.8664339 28.2505730\n",
       "[22,] 33.429679 36.5308084 37.9754549 28.9363496 29.7373991 30.0955838\n",
       "[23,] 37.164646 41.0039249 42.6682007 31.8425287 32.7266049 33.1614679\n",
       "[24,] 12.221398  5.9820295  3.6835073 18.9595694 18.1383986 17.5772270\n",
       "[25,] 16.200943  9.9738830  7.6419356 22.9530228 22.1297422 21.5677160\n",
       "[26,] 18.981054 12.6523556 10.2507204 25.6110970 24.8250939 24.2728894\n",
       "[27,] 23.330510 28.4657202 30.5672834 17.0139663 17.9599463 18.4787326\n",
       "[28,] 26.226313 31.2938988 33.3667198 19.9227453 20.8691098 21.3884867\n",
       "[29,] 30.042362 35.0759430 37.1277442 23.7194143 24.6672932 25.1903041\n",
       "           [,14]      [,15]      [,16]     [,17]     [,18]      [,19]     [,20]\n",
       " [1,] 37.2650016 38.8627857 38.1614224 37.940511 38.551899 36.4035501 32.701393\n",
       " [2,] 24.7874862 10.8525552  6.9584971 23.276705 13.915290  2.1280885 39.544910\n",
       " [3,] 22.3207572  7.9035693  3.9724282 20.716564 11.069808  5.1471170 37.871146\n",
       " [4,] 21.6392752  7.1445494  3.2116192 20.017227 10.323743  5.9014240 37.352525\n",
       " [5,] 17.9802829  3.1454389  0.8152421 16.270087  6.366148  9.8446575 34.492511\n",
       " [6,] 10.2978939  5.2677875  9.1296641  8.395073  1.954587 17.9621025 28.304747\n",
       " [7,]  0.7997638 14.7679554 18.3347502  1.322755 11.440425 26.4270338 19.483034\n",
       " [8,] 19.6444826  4.8420188  0.9088490 17.957537  8.088693  8.2246965 35.900425\n",
       " [9,] 24.9897821 11.0945908  7.2040092 23.486618 14.149146  1.8840396 39.680972\n",
       "[10,] 27.1607997 13.4951939  9.6113723 25.709935 16.517202  0.5403139 41.331275\n",
       "[11,] 13.2055964  2.1043880  5.9523586 11.383066  1.257988 14.8651598 30.657323\n",
       "[12,] 14.1548215  1.1667550  5.0747341 12.334399  2.205107 14.0641495 31.533641\n",
       "[13,] 14.6829294  0.6009045  4.5042817 12.875330  2.761479 13.5090937 31.960711\n",
       "[14,]  0.0000000 15.2755274 18.7752620  1.999049 11.973593 26.7319570 18.709839\n",
       "[15,] 15.2755274  0.0000000  3.9387180 13.472906  3.362375 12.9782678 32.488550\n",
       "[16,] 18.7752620  3.9387180  0.0000000 17.074414  7.180671  9.0863667 35.175714\n",
       "[17,]  1.9990487 13.4729060 17.0744138  0.000000 10.136414 25.2645433 20.679329\n",
       "[18,] 11.9735927  3.3623752  7.1806706 10.136414  0.000000 16.0183961 29.579123\n",
       "[19,] 26.7319570 12.9782678  9.0863667 25.264543 16.018396  0.0000000 41.048554\n",
       "[20,] 18.7098394 32.4885497 35.1757138 20.679329 29.579123 41.0485538  0.000000\n",
       "[21,] 16.1946825 28.7460208 31.1571402 18.037808 26.040679 36.5673271  4.863776\n",
       "[22,] 18.5624726 30.5699476 32.7894955 20.362496 27.988733 37.7441889  5.420621\n",
       "[23,] 19.7145272 33.6949350 36.4318492 21.697643 30.749828 42.3820949  1.370390\n",
       "[24,] 30.8417487 17.0323348 13.1072531 29.393198 20.128015  4.1384768 44.738458\n",
       "[25,] 34.7446962 21.0203957 17.0909258 33.329316 24.121469  8.1181992 48.157450\n",
       "[26,] 36.9591572 23.7456752 19.8510897 35.637614 26.742472 10.7683163 49.523571\n",
       "[27,]  3.8555243 19.0667422 22.4764819  5.824674 15.792907 30.1597827 15.222505\n",
       "[28,]  6.7420722 21.9766239 25.3757556  8.678508 18.699915 32.9680426 13.045692\n",
       "[29,] 10.5186366 25.7800687 29.1918887 12.415096 22.491071 36.7356596 11.019446\n",
       "          [,21]     [,22]     [,23]     [,24]     [,25]     [,26]     [,27]\n",
       " [1,] 28.926277 27.351389 33.695741 37.503280 38.516482 37.597513 37.054742\n",
       " [2,] 35.144215 36.419898 40.865998  6.213381 10.206371 12.895821 28.272891\n",
       " [3,] 33.627822 35.066563 39.166201  9.134980 13.118841 15.893159 25.916903\n",
       " [4,] 33.148293 34.623834 38.640953  9.896052 13.879354 16.652684 25.256030\n",
       " [5,] 30.513924 32.177918 35.741760 13.887636 17.875087 20.612864 21.692121\n",
       " [6,] 24.963682 27.009579 29.438628 22.076224 26.069278 28.674096 14.147121\n",
       " [7,] 16.994224 19.361938 20.477052 30.548069 34.469402 36.732489  4.514775\n",
       " [8,] 31.835169 33.429679 37.164646 12.221398 16.200943 18.981054 23.330510\n",
       " [9,] 35.268567 36.530808 41.003925  5.982029  9.973883 12.652356 28.465720\n",
       "[10,] 36.827657 37.975455 42.668201  3.683507  7.641936 10.250720 30.567283\n",
       "[11,] 27.036208 28.936350 31.842529 18.959569 22.953023 25.611097 17.013966\n",
       "[12,] 27.866434 29.737399 32.726605 18.138399 22.129742 24.825094 17.959946\n",
       "[13,] 28.250573 30.095584 33.161468 17.577227 21.567716 24.272889 18.478733\n",
       "[14,] 16.194683 18.562473 19.714527 30.841749 34.744696 36.959157  3.855524\n",
       "[15,] 28.746021 30.569948 33.694935 17.032335 21.020396 23.745675 19.066742\n",
       "[16,] 31.157140 32.789495 36.431849 13.107253 17.090926 19.851090 22.476482\n",
       "[17,] 18.037808 20.362496 21.697643 29.393198 33.329316 35.637614  5.824674\n",
       "[18,] 26.040679 27.988733 30.749828 20.128015 24.121469 26.742472 15.792907\n",
       "[19,] 36.567327 37.744189 42.382095  4.138477  8.118199 10.768316 30.159783\n",
       "[20,]  4.863776  5.420621  1.370390 44.738458 48.157450 49.523571 15.222505\n",
       "[21,]  0.000000  2.533995  6.223798 40.171279 43.514955 44.799272 13.286450\n",
       "[22,]  2.533995  0.000000  6.580623 41.222955 44.441155 45.566635 15.769838\n",
       "[23,]  6.223798  6.580623  0.000000 46.084279 49.513264 50.888711 16.140271\n",
       "[24,] 40.171279 41.222955 46.084279  0.000000  3.993689  6.835224 34.233566\n",
       "[25,] 43.514955 44.441155 49.513264  3.993689  0.000000  3.200284 38.084405\n",
       "[26,] 44.799272 45.566635 50.888711  6.835224  3.200284  0.000000 40.170301\n",
       "[27,] 13.286450 15.769838 16.140271 34.233566 38.084405 40.170301  0.000000\n",
       "[28,] 11.899157 14.432930 13.826564 37.023388 40.848666 42.874401  2.909906\n",
       "[29,] 11.342632 13.776353 11.490651 40.775762 44.579280 46.552947  6.720155\n",
       "          [,28]     [,29]\n",
       " [1,] 37.642947 39.033551\n",
       " [2,] 31.104711 34.889230\n",
       " [3,] 28.787651 32.595295\n",
       " [4,] 28.133246 31.943863\n",
       " [5,] 24.593653 28.409519\n",
       " [6,] 17.039911 20.803673\n",
       " [7,]  7.357179 11.093097\n",
       " [8,] 26.226313 30.042362\n",
       " [9,] 31.293899 35.075943\n",
       "[10,] 33.366720 37.127744\n",
       "[11,] 19.922745 23.719414\n",
       "[12,] 20.869110 24.667293\n",
       "[13,] 21.388487 25.190304\n",
       "[14,]  6.742072 10.518637\n",
       "[15,] 21.976624 25.780069\n",
       "[16,] 25.375756 29.191889\n",
       "[17,]  8.678508 12.415096\n",
       "[18,] 18.699915 22.491071\n",
       "[19,] 32.968043 36.735660\n",
       "[20,] 13.045692 11.019446\n",
       "[21,] 11.899157 11.342632\n",
       "[22,] 14.432930 13.776353\n",
       "[23,] 13.826564 11.490651\n",
       "[24,] 37.023388 40.775762\n",
       "[25,] 40.848666 44.579280\n",
       "[26,] 42.874401 46.552947\n",
       "[27,]  2.909906  6.720155\n",
       "[28,]  0.000000  3.816162\n",
       "[29,]  3.816162  0.000000\n",
       "\n",
       "$Assignments\n",
       "      source              Cabatoan Caridad Cemetery Caridad Proper\n",
       " [1,] \"Cabatoan\"          \"  921\"  \"  328\"          \"  858\"       \n",
       " [2,] \"Caridad Cemetery\"  \"  620\"  \"  329\"          \"  998\"       \n",
       " [3,] \"Caridad Proper\"    \"  484\"  \"  105\"          \"  636\"       \n",
       " [4,] \"Elementary School\" \"  250\"  \"  416\"          \"  803\"       \n",
       " [5,] \"Gabas\"             \"   27\"  \"   12\"          \"   55\"       \n",
       " [6,] \"Haina\"             \"    2\"  \"    0\"          \"    2\"       \n",
       " [7,] \"Hicgop South\"      \"  495\"  \" 1023\"          \" 1838\"       \n",
       " [8,] \"Magbangon\"         \"  685\"  \"  796\"          \" 1454\"       \n",
       " [9,] \"Palanas\"           \"  651\"  \"  422\"          \"  584\"       \n",
       "[10,] \"Poroc Rose\"        \"  109\"  \"   84\"          \"  233\"       \n",
       "[11,] \"Poroc San Flower\"  \"  141\"  \"  115\"          \"  327\"       \n",
       "[12,] \"San Agustin\"       \"   96\"  \"   57\"          \"  273\"       \n",
       "[13,] \"Sitio Baybayon\"    \" 3461\"  \" 3697\"          \" 4608\"       \n",
       "[14,] \"Sitio Lonas\"       \"   36\"  \"   59\"          \"  477\"       \n",
       "[15,] \"Sitio Tugas\"       \"  294\"  \"  103\"          \"  241\"       \n",
       "[16,] \"Tamakin Dacot\"     \"    0\"  \"    0\"          \"    0\"       \n",
       "[17,] \"Visca\"             \"   40\"  \"   94\"          \"  239\"       \n",
       "[18,] \"Wangag\"            \" 1583\"  \" 1361\"          \" 1259\"       \n",
       "[19,] \"unsampled\"         \"15294\"  \"10495\"          \"12894\"       \n",
       "      Elementary School Haina   Hicgop South Magbangon Palanas Poroc Rose\n",
       " [1,] \"  211\"           \"   48\" \"  271\"      \"  693\"   \"   78\" \"  69\"    \n",
       " [2,] \"   85\"           \"   12\" \"  156\"      \"  636\"   \"   66\" \"  48\"    \n",
       " [3,] \"   39\"           \"    8\" \"  167\"      \"  333\"   \"    4\" \"  53\"    \n",
       " [4,] \"  953\"           \"   27\" \" 2046\"      \"  239\"   \"    1\" \" 180\"    \n",
       " [5,] \"  474\"           \"  120\" \"  205\"      \"    1\"   \"    2\" \" 729\"    \n",
       " [6,] \"    0\"           \" 1999\" \"    0\"      \"    2\"   \"    0\" \"   0\"    \n",
       " [7,] \" 1239\"           \"  415\" \" 2658\"      \"  365\"   \"    7\" \" 605\"    \n",
       " [8,] \"  128\"           \"   46\" \"  462\"      \"  387\"   \"  240\" \"  41\"    \n",
       " [9,] \"    1\"           \"    0\" \"   81\"      \"  782\"   \"  477\" \"   9\"    \n",
       "[10,] \"  351\"           \"  125\" \"  192\"      \"   22\"   \"    9\" \" 702\"    \n",
       "[11,] \"  646\"           \"  134\" \"  227\"      \"   47\"   \"   39\" \"1102\"    \n",
       "[12,] \"  447\"           \"   80\" \"  734\"      \"   66\"   \"    4\" \"1585\"    \n",
       "[13,] \"  230\"           \"   30\" \"  490\"      \" 4050\"   \" 1227\" \"  71\"    \n",
       "[14,] \" 1833\"           \"    0\" \" 4932\"      \"   37\"   \"    1\" \"  43\"    \n",
       "[15,] \"  347\"           \"   49\" \"  348\"      \"  159\"   \"   32\" \" 157\"    \n",
       "[16,] \"    0\"           \"14605\" \"    0\"      \"    1\"   \"    0\" \"   5\"    \n",
       "[17,] \"  594\"           \"  167\" \"  167\"      \"   35\"   \"    2\" \" 726\"    \n",
       "[18,] \"   76\"           \"   15\" \"  239\"      \" 2013\"   \"  705\" \"  51\"    \n",
       "[19,] \"14377\"           \"30496\" \"21701\"      \"15161\"   \"16850\" \"6698\"    \n",
       "      Poroc San Flower San Agustin Sitio Baybayon Sitio Lonas Sitio Tugas\n",
       " [1,] \" 122\"           \"  330\"     \"  341\"        \"  286\"     \" 274\"     \n",
       " [2,] \" 121\"           \"  446\"     \"  480\"        \"  613\"     \" 268\"     \n",
       " [3,] \" 134\"           \"  540\"     \"  216\"        \"  548\"     \" 208\"     \n",
       " [4,] \" 280\"           \"  745\"     \"   94\"        \"  710\"     \"1141\"     \n",
       " [5,] \"1056\"           \" 5084\"     \"    2\"        \" 8475\"     \" 291\"     \n",
       " [6,] \"   2\"           \"   54\"     \"   43\"        \"    9\"     \"   6\"     \n",
       " [7,] \"1052\"           \" 1716\"     \"  632\"        \" 1971\"     \"1115\"     \n",
       " [8,] \"  81\"           \"  499\"     \"  793\"        \"  211\"     \" 188\"     \n",
       " [9,] \"   1\"           \"   38\"     \" 1697\"        \"    1\"     \"  38\"     \n",
       "[10,] \"1061\"           \" 2056\"     \"   29\"        \" 4357\"     \" 369\"     \n",
       "[11,] \"1443\"           \" 4666\"     \"   67\"        \" 7594\"     \" 662\"     \n",
       "[12,] \"1396\"           \" 4828\"     \"   67\"        \" 8949\"     \" 791\"     \n",
       "[13,] \" 197\"           \" 1082\"     \"13889\"        \"  576\"     \" 380\"     \n",
       "[14,] \" 141\"           \" 2897\"     \"    0\"        \"21713\"     \"2321\"     \n",
       "[15,] \" 195\"           \"  613\"     \"  324\"        \"  684\"     \" 257\"     \n",
       "[16,] \"   1\"           \"    8\"     \"    0\"        \"    2\"     \"   0\"     \n",
       "[17,] \"1164\"           \" 3656\"     \"   16\"        \" 5495\"     \" 471\"     \n",
       "[18,] \"  65\"           \"  414\"     \" 5552\"        \"  126\"     \" 114\"     \n",
       "[19,] \"8343\"           \"10862\"     \"16945\"        \"17949\"     \"7338\"     \n",
       "      Tamakin Dacot Visca  Wangag \n",
       " [1,] \"   55\"       \"   1\" \"  192\"\n",
       " [2,] \"    1\"       \"   0\" \"   76\"\n",
       " [3,] \"    4\"       \"   2\" \"   48\"\n",
       " [4,] \"    8\"       \"   1\" \"    8\"\n",
       " [5,] \"   96\"       \"8280\" \"    0\"\n",
       " [6,] \"  357\"       \"  41\" \"    4\"\n",
       " [7,] \"  233\"       \"  73\" \"   39\"\n",
       " [8,] \"   23\"       \"  13\" \"  492\"\n",
       " [9,] \"    0\"       \"   0\" \"  480\"\n",
       "[10,] \"   72\"       \" 616\" \"   12\"\n",
       "[11,] \"   74\"       \" 336\" \"   28\"\n",
       "[12,] \"   35\"       \"  92\" \"   29\"\n",
       "[13,] \"   49\"       \"   1\" \" 2065\"\n",
       "[14,] \"    0\"       \"   0\" \"    6\"\n",
       "[15,] \"   14\"       \"   7\" \"   81\"\n",
       "[16,] \"49704\"       \" 275\" \"    0\"\n",
       "[17,] \"  128\"       \" 214\" \"    5\"\n",
       "[18,] \"   10\"       \"   0\" \"  960\"\n",
       "[19,] \"82467\"       \"6206\" \"14984\"\n",
       "\n",
       "$Sampled_reefs\n",
       "     [,1] [,2] [,3] [,4] [,5] [,6] [,7] [,8] [,9] [,10] [,11] [,12] [,13] [,14]\n",
       "[1,]    2    3    4    5    6    7    8    9   10    11    12    13    14    15\n",
       "     [,15] [,16] [,17] [,18]\n",
       "[1,]    16    17    18    19\n",
       "\n",
       "$Reef_sizes\n",
       "           [,1]\n",
       " [1,] 61.575000\n",
       " [2,]  0.053004\n",
       " [3,]  0.007963\n",
       " [4,]  0.007829\n",
       " [5,]  0.014214\n",
       " [6,]  0.003015\n",
       " [7,]  0.042715\n",
       " [8,]  0.012401\n",
       " [9,]  0.105998\n",
       "[10,]  0.040695\n",
       "[11,]  0.006805\n",
       "[12,]  0.001769\n",
       "[13,]  0.002233\n",
       "[14,]  0.054761\n",
       "[15,]  0.004210\n",
       "[16,]  0.005635\n",
       "[17,]  0.019537\n",
       "[18,]  0.010313\n",
       "[19,]  0.061622\n",
       "[20,]  2.000000\n",
       "[21,]  1.500000\n",
       "[22,]  2.500000\n",
       "[23,]  2.500000\n",
       "[24,]  0.175000\n",
       "[25,]  0.175000\n",
       "[26,]  0.175000\n",
       "[27,]  0.158333\n",
       "[28,]  0.158333\n",
       "[29,]  0.158333\n",
       "\n",
       "$Adult_sample_proportions\n",
       "      [,1]\n",
       " [1,]    1\n",
       " [2,]    1\n",
       " [3,]    1\n",
       " [4,]    1\n",
       " [5,]    1\n",
       " [6,]    1\n",
       " [7,]    1\n",
       " [8,]    1\n",
       " [9,]    1\n",
       "[10,]    1\n",
       "[11,]    1\n",
       "[12,]    1\n",
       "[13,]    1\n",
       "[14,]    1\n",
       "[15,]    1\n",
       "[16,]    1\n",
       "[17,]    1\n",
       "[18,]    1\n"
      ]
     },
     "metadata": {},
     "output_type": "display_data"
    }
   ],
   "source": [
    "x"
   ]
  },
  {
   "cell_type": "code",
   "execution_count": 94,
   "metadata": {},
   "outputs": [
    {
     "data": {
      "text/html": [
       "<ol class=list-inline>\n",
       "\t<li>19</li>\n",
       "\t<li>18</li>\n",
       "</ol>\n"
      ],
      "text/latex": [
       "\\begin{enumerate*}\n",
       "\\item 19\n",
       "\\item 18\n",
       "\\end{enumerate*}\n"
      ],
      "text/markdown": [
       "1. 19\n",
       "2. 18\n",
       "\n",
       "\n"
      ],
      "text/plain": [
       "[1] 19 18"
      ]
     },
     "metadata": {},
     "output_type": "display_data"
    }
   ],
   "source": [
    "dim(FullBiophysMat)"
   ]
  },
  {
   "cell_type": "code",
   "execution_count": 31,
   "metadata": {},
   "outputs": [
    {
     "data": {
      "text/html": [
       "<table>\n",
       "<thead><tr><th scope=col>source</th><th scope=col>Cabatoan</th><th scope=col>Caridad Cemetery</th><th scope=col>Caridad Proper</th><th scope=col>Elementary School</th><th scope=col>Haina</th><th scope=col>Hicgop South</th><th scope=col>Magbangon</th><th scope=col>Palanas</th><th scope=col>Poroc Rose</th><th scope=col>Poroc San Flower</th><th scope=col>San Agustin</th><th scope=col>Sitio Baybayon</th><th scope=col>Sitio Lonas</th><th scope=col>Sitio Tugas</th><th scope=col>Tamakin Dacot</th><th scope=col>Visca</th><th scope=col>Wangag</th></tr></thead>\n",
       "<tbody>\n",
       "\t<tr><td>Other</td><td>15268</td><td>10495</td><td>12894</td><td>14377</td><td>30495</td><td>21701</td><td>15118</td><td>16818</td><td>6698 </td><td>8343 </td><td>10862</td><td>16942</td><td>17949</td><td>7338 </td><td>82466</td><td>6206 </td><td>14974</td></tr>\n",
       "</tbody>\n",
       "</table>\n"
      ],
      "text/latex": [
       "\\begin{tabular}{r|llllllllllllllllll}\n",
       " source & Cabatoan & Caridad Cemetery & Caridad Proper & Elementary School & Haina & Hicgop South & Magbangon & Palanas & Poroc Rose & Poroc San Flower & San Agustin & Sitio Baybayon & Sitio Lonas & Sitio Tugas & Tamakin Dacot & Visca & Wangag\\\\\n",
       "\\hline\n",
       "\t Other & 15268 & 10495 & 12894 & 14377 & 30495 & 21701 & 15118 & 16818 & 6698  & 8343  & 10862 & 16942 & 17949 & 7338  & 82466 & 6206  & 14974\\\\\n",
       "\\end{tabular}\n"
      ],
      "text/markdown": [
       "\n",
       "| source | Cabatoan | Caridad Cemetery | Caridad Proper | Elementary School | Haina | Hicgop South | Magbangon | Palanas | Poroc Rose | Poroc San Flower | San Agustin | Sitio Baybayon | Sitio Lonas | Sitio Tugas | Tamakin Dacot | Visca | Wangag |\n",
       "|---|---|---|---|---|---|---|---|---|---|---|---|---|---|---|---|---|---|\n",
       "| Other | 15268 | 10495 | 12894 | 14377 | 30495 | 21701 | 15118 | 16818 | 6698  | 8343  | 10862 | 16942 | 17949 | 7338  | 82466 | 6206  | 14974 |\n",
       "\n"
      ],
      "text/plain": [
       "  source Cabatoan Caridad Cemetery Caridad Proper Elementary School Haina\n",
       "1 Other  15268    10495            12894          14377             30495\n",
       "  Hicgop South Magbangon Palanas Poroc Rose Poroc San Flower San Agustin\n",
       "1 21701        15118     16818   6698       8343             10862      \n",
       "  Sitio Baybayon Sitio Lonas Sitio Tugas Tamakin Dacot Visca Wangag\n",
       "1 16942          17949       7338        82466         6206  14974 "
      ]
     },
     "metadata": {},
     "output_type": "display_data"
    }
   ],
   "source": [
    "dcast(DestSampled[source == \"Other\", .(source, dest)][, parentage :=1][order(source, dest)], source ~ dest, value.var=\"parentage\", fun.aggregate = sum)"
   ]
  },
  {
   "cell_type": "code",
   "execution_count": null,
   "metadata": {},
   "outputs": [],
   "source": []
  },
  {
   "cell_type": "code",
   "execution_count": null,
   "metadata": {},
   "outputs": [],
   "source": [
    "#Mike Bode said I should be less aggressively subsampling the biophysical data, but how should I do that? The kernel fitting still requires that I have a prop samp vector... but when I tried putting 1's in that vector and using all of the particles for fitting I got crazy "
   ]
  },
  {
   "cell_type": "code",
   "execution_count": 64,
   "metadata": {},
   "outputs": [],
   "source": [
    "#sample the particle data\n",
    "SimSample <- DestSampled[, .SD[sample(.N, dest_n_rec_annual)], by = c(\"year\", \"dest\")] #, prob=surv_weight #randomly sample rows (particles) from the table according to the survival weighting, based on the number we sampled at each site in each year of surveys\n",
    "check1 <- nrow(SimSample)\n",
    "\n",
    "#assign parentage\n",
    "SimParentage <- SimSample[source_prop_samp > 0][, .SD[sample(.N, num_parentage_matches)], by = .(year)][#Prob=SurvWeight, #now randomly assign parentage or not parentage, based on how well we sampled the source and the number of parentage matches we had in that year\n",
    "                , parentage := 1]\n",
    "#for faster searching, set keys\n",
    "setkey(SimParentage, particle_id)\n",
    "setkey(SimSample, particle_id)\n",
    "\n",
    "l <- list(SimSample[particle_id %!in% SimParentage$particle_id][, parentage := 0], SimParentage)\n",
    "SimSample <- rbindlist(l, use.names = TRUE, fill=TRUE, idcol = NULL)[, c(\"year\", \"source\", \"dest\", \"parentage\", \"monsoon\")] #add back in to the unassigned particles, select only the columns necessary\n",
    "\n",
    "#check results, for testing loop only\n",
    "#nrow(SimSample)==check1 #should be TRUE\n",
    "#sum(SimSample$parentage) #should be 37"
   ]
  },
  {
   "cell_type": "code",
   "execution_count": 65,
   "metadata": {},
   "outputs": [
    {
     "data": {
      "text/html": [
       "74"
      ],
      "text/latex": [
       "74"
      ],
      "text/markdown": [
       "74"
      ],
      "text/plain": [
       "[1] 74"
      ]
     },
     "metadata": {},
     "output_type": "display_data"
    }
   ],
   "source": [
    "sum(SimSample$parentage)"
   ]
  },
  {
   "cell_type": "code",
   "execution_count": 48,
   "metadata": {},
   "outputs": [
    {
     "data": {
      "text/html": [
       "TRUE"
      ],
      "text/latex": [
       "TRUE"
      ],
      "text/markdown": [
       "TRUE"
      ],
      "text/plain": [
       "[1] TRUE"
      ]
     },
     "metadata": {},
     "output_type": "display_data"
    },
    {
     "data": {
      "text/html": [
       "37"
      ],
      "text/latex": [
       "37"
      ],
      "text/markdown": [
       "37"
      ],
      "text/plain": [
       "[1] 37"
      ]
     },
     "metadata": {},
     "output_type": "display_data"
    },
    {
     "data": {
      "text/html": [
       "37"
      ],
      "text/latex": [
       "37"
      ],
      "text/markdown": [
       "37"
      ],
      "text/plain": [
       "[1] 37"
      ]
     },
     "metadata": {},
     "output_type": "display_data"
    },
    {
     "data": {
      "text/html": [
       "37"
      ],
      "text/latex": [
       "37"
      ],
      "text/markdown": [
       "37"
      ],
      "text/plain": [
       "[1] 37"
      ]
     },
     "metadata": {},
     "output_type": "display_data"
    },
    {
     "data": {
      "text/html": [
       "37"
      ],
      "text/latex": [
       "37"
      ],
      "text/markdown": [
       "37"
      ],
      "text/plain": [
       "[1] 37"
      ]
     },
     "metadata": {},
     "output_type": "display_data"
    }
   ],
   "source": [
    "\n",
    "#calculate the unassigned row\n",
    "Unassigned <- unique(SimSample[parentage==0][#not counting parentage!\n",
    "    , num_sampled := .(.N), by= c(\"dest\", \"year\", \"monsoon\")], by=c(\"dest\", \"year\", \"monsoon\"))[, -\"source\"]\n",
    "#add destinations not sampled in loop iteration to unassigned \n",
    "Unassigned <- Unassigned[AddDest, on=.(year=year, dest=site, monsoon)]\n",
    "Unassigned$num_sampled[is.na(Unassigned$num_sampled)] <- 0\n",
    "#sum(Unassigned$num_sampled, na.rm=T)==check1-37 #total should be the total sampled particles minus the total assigned\n",
    "setorder(Unassigned, year, dest)\n",
    "\n",
    "##adding in the possible sampled routes needs to happen AFTER calculating unassigned because unassigned is calculated from row counts\n",
    "SimSample <- PropSampTable[SimSample, on=.(year, source, dest, monsoon)]\n",
    "#check all is well- for testing loop only\n",
    "#sum(SimSample$parentage) #should be 37\n",
    "\n",
    "#add in the routes we could have assigned given our sampling so the parentage matrix is complete\n",
    "UnqSimSample <- unique(SimSample, by=c(\"source\", \"dest\", \"year\", \"monsoon\"))\n",
    "\n",
    "AddRoutes <- UnqSurvey[!UnqSimSample, on = names(UnqSurvey)][ #what combos are not appearing because we didn't sample particles, but the route is possible based on our survey sampling\n",
    "    , `:=`(parentage= 0, num_sampled = 0) ] #add the parentage column \n",
    "\n",
    "#add back into the sampled simulation data\n",
    "l <- list(SimSample, AddRoutes[,-\"num_sampled\"])\n",
    "SimSample <- rbindlist(l, use.names = TRUE, fill=TRUE, idcol = NULL)\n",
    "setorder(SimSample, year, source, dest)\n",
    "\n",
    "#make summary tables for each time frame, to be used for making parentage matrix\n",
    "SimSampleByYear <- SimSample[,  .(total_parentage =sum(parentage)), by=c(\"year\", \"source\", \"dest\")]\n",
    "#sum(SimSampleByYear$total_parentage)\n",
    "UnassignedByYear <- Unassigned[, .(total_sampled = sum(num_sampled)), by=c(\"year\", \"dest\")]\n",
    "\n",
    "\n",
    "SimSampleInterannual <- SimSample[,  .(total_parentage =sum(parentage)), by=c(\"source\", \"dest\")]\n",
    "#sum(SimSampleInterannual$total_parentage)\n",
    "UnassignedInterannual <- Unassigned[, .(total_sampled = sum(num_sampled)), by=c(\"dest\")]\n",
    "\n",
    "\n",
    "SimSampleMonsoon <- SimSample[,  .(total_parentage =sum(parentage)), by=c(\"monsoon\", \"source\", \"dest\")]\n",
    "sum(SimSampleMonsoon$total_parentage)\n",
    "UnassignedMonsoon <- Unassigned[, .(total_sampled = sum(num_sampled)), by=c(\"monsoon\", \"dest\")]\n",
    "\n",
    "#make a parentage matrix for each year\n",
    "mat2012 <- dcast(SimSampleByYear[year==2012], source ~ dest, value.var=\"total_parentage\", fun.aggregate = sum)[source %in% SurveyData[year==2012 & prop_anem_samp >0, site]][, -\"source\"] \n",
    "mat2012 <- as.matrix(rbind(mat2012, t(UnassignedByYear[year==2012][, total_sampled]), use.names=F))\n",
    "\n",
    "mat2013 <- dcast(SimSampleByYear[year==2013], source ~ dest, value.var=\"total_parentage\", fun.aggregate = sum)[source %in% SurveyData[year==2013 & prop_anem_samp >0, site]][, -\"source\"] \n",
    "mat2013 <- as.matrix(rbind(mat2013, t(UnassignedByYear[year==2013][, total_sampled]), use.names=F))\n",
    "\n",
    "mat2014 <- dcast(SimSampleByYear[year==2014], source ~ dest, value.var=\"total_parentage\", fun.aggregate = sum)[source %in% SurveyData[year==2014 & prop_anem_samp >0, site]][, -\"source\"] \n",
    "mat2014 <- as.matrix(rbind(mat2014, t(UnassignedByYear[year==2014][, total_sampled]), use.names=F))\n",
    "\n",
    "mat2012_4 <- dcast(SimSampleInterannual, source ~ dest, value.var=\"total_parentage\", fun.aggregate = sum)[source %in% SurveyData[year %in% c(2012, 2013, 2014) & prop_anem_samp >0, site]][, -\"source\"] \n",
    "mat2012_4 <- as.matrix(rbind(mat2012_4, t(UnassignedInterannual[, total_sampled]), use.names=F))\n",
    "\n",
    "matNEM <- dcast(SimSampleMonsoon[monsoon==\"NEM\"], source ~ dest, value.var=\"total_parentage\", fun.aggregate = sum)[source %in% SurveyData[year %in% c(2012, 2013, 2014) & prop_anem_samp >0, site]][, -\"source\"] \n",
    "matNEM <- as.matrix(rbind(matNEM, t(UnassignedMonsoon[monsoon==\"NEM\"][, total_sampled]), use.names=F))\n",
    "\n",
    "matSWM <- dcast(SimSampleMonsoon[monsoon==\"SWM\"], source ~ dest, value.var=\"total_parentage\", fun.aggregate = sum)[source %in% SurveyData[year %in% c(2012, 2013, 2014) & prop_anem_samp >0, site]][, -\"source\"] \n",
    "matSWM <- as.matrix(rbind(matSWM, t(UnassignedMonsoon[monsoon==\"SWM\"][, total_sampled]), use.names=F))\n",
    "\n"
   ]
  },
  {
   "cell_type": "code",
   "execution_count": null,
   "metadata": {},
   "outputs": [],
   "source": []
  },
  {
   "cell_type": "code",
   "execution_count": 49,
   "metadata": {},
   "outputs": [
    {
     "data": {
      "text/html": [
       "<table>\n",
       "<thead><tr><th scope=col>Cabatoan</th><th scope=col>Caridad Cemetery</th><th scope=col>Caridad Proper</th><th scope=col>Elementary School</th><th scope=col>Haina</th><th scope=col>Hicgop South</th><th scope=col>Magbangon</th><th scope=col>Palanas</th><th scope=col>Poroc Rose</th><th scope=col>Poroc San Flower</th><th scope=col>San Agustin</th><th scope=col>Sitio Baybayon</th><th scope=col>Sitio Lonas</th><th scope=col>Sitio Tugas</th><th scope=col>Tamakin Dacot</th><th scope=col>Visca</th><th scope=col>Wangag</th></tr></thead>\n",
       "<tbody>\n",
       "\t<tr><td>0 </td><td>0 </td><td> 0</td><td>0 </td><td>0 </td><td>0 </td><td>0 </td><td>0 </td><td>0 </td><td>0 </td><td>0 </td><td>0 </td><td>0 </td><td>0 </td><td>0 </td><td>0 </td><td>0 </td></tr>\n",
       "\t<tr><td>0 </td><td>0 </td><td> 0</td><td>0 </td><td>0 </td><td>0 </td><td>0 </td><td>0 </td><td>0 </td><td>0 </td><td>0 </td><td>0 </td><td>0 </td><td>0 </td><td>0 </td><td>0 </td><td>0 </td></tr>\n",
       "\t<tr><td>0 </td><td>0 </td><td> 0</td><td>0 </td><td>0 </td><td>0 </td><td>0 </td><td>0 </td><td>0 </td><td>0 </td><td>0 </td><td>0 </td><td>0 </td><td>0 </td><td>0 </td><td>0 </td><td>0 </td></tr>\n",
       "\t<tr><td>0 </td><td>0 </td><td> 0</td><td>0 </td><td>0 </td><td>0 </td><td>0 </td><td>0 </td><td>0 </td><td>0 </td><td>0 </td><td>0 </td><td>0 </td><td>0 </td><td>0 </td><td>0 </td><td>0 </td></tr>\n",
       "\t<tr><td>0 </td><td>0 </td><td> 0</td><td>0 </td><td>0 </td><td>0 </td><td>0 </td><td>0 </td><td>0 </td><td>0 </td><td>0 </td><td>0 </td><td>0 </td><td>0 </td><td>0 </td><td>0 </td><td>0 </td></tr>\n",
       "\t<tr><td>0 </td><td>0 </td><td> 0</td><td>0 </td><td>0 </td><td>1 </td><td>0 </td><td>0 </td><td>0 </td><td>0 </td><td>0 </td><td>0 </td><td>0 </td><td>0 </td><td>0 </td><td>0 </td><td>0 </td></tr>\n",
       "\t<tr><td>0 </td><td>0 </td><td> 0</td><td>0 </td><td>0 </td><td>0 </td><td>0 </td><td>0 </td><td>0 </td><td>0 </td><td>0 </td><td>0 </td><td>0 </td><td>0 </td><td>0 </td><td>0 </td><td>0 </td></tr>\n",
       "\t<tr><td>0 </td><td>0 </td><td> 0</td><td>0 </td><td>0 </td><td>0 </td><td>0 </td><td>0 </td><td>0 </td><td>0 </td><td>0 </td><td>0 </td><td>0 </td><td>0 </td><td>0 </td><td>0 </td><td>0 </td></tr>\n",
       "\t<tr><td>0 </td><td>0 </td><td> 0</td><td>0 </td><td>0 </td><td>0 </td><td>0 </td><td>0 </td><td>0 </td><td>0 </td><td>0 </td><td>0 </td><td>0 </td><td>0 </td><td>0 </td><td>0 </td><td>0 </td></tr>\n",
       "\t<tr><td>0 </td><td>0 </td><td> 0</td><td>0 </td><td>0 </td><td>0 </td><td>0 </td><td>0 </td><td>0 </td><td>0 </td><td>0 </td><td>0 </td><td>0 </td><td>0 </td><td>0 </td><td>0 </td><td>0 </td></tr>\n",
       "\t<tr><td>0 </td><td>0 </td><td> 0</td><td>0 </td><td>0 </td><td>0 </td><td>0 </td><td>0 </td><td>0 </td><td>0 </td><td>0 </td><td>0 </td><td>0 </td><td>0 </td><td>0 </td><td>0 </td><td>0 </td></tr>\n",
       "\t<tr><td>0 </td><td>0 </td><td> 0</td><td>0 </td><td>0 </td><td>0 </td><td>0 </td><td>0 </td><td>0 </td><td>0 </td><td>0 </td><td>0 </td><td>0 </td><td>0 </td><td>0 </td><td>0 </td><td>0 </td></tr>\n",
       "\t<tr><td>0 </td><td>0 </td><td> 0</td><td>0 </td><td>0 </td><td>0 </td><td>0 </td><td>0 </td><td>0 </td><td>0 </td><td>0 </td><td>0 </td><td>0 </td><td>0 </td><td>0 </td><td>0 </td><td>0 </td></tr>\n",
       "\t<tr><td>0 </td><td>0 </td><td> 0</td><td>0 </td><td>0 </td><td>0 </td><td>0 </td><td>0 </td><td>0 </td><td>0 </td><td>0 </td><td>0 </td><td>0 </td><td>0 </td><td>0 </td><td>0 </td><td>0 </td></tr>\n",
       "\t<tr><td>0 </td><td>0 </td><td> 0</td><td>0 </td><td>0 </td><td>0 </td><td>0 </td><td>0 </td><td>0 </td><td>0 </td><td>0 </td><td>0 </td><td>0 </td><td>0 </td><td>0 </td><td>0 </td><td>0 </td></tr>\n",
       "\t<tr><td>0 </td><td>0 </td><td> 0</td><td>0 </td><td>0 </td><td>0 </td><td>0 </td><td>0 </td><td>0 </td><td>0 </td><td>0 </td><td>0 </td><td>0 </td><td>0 </td><td>0 </td><td>0 </td><td>0 </td></tr>\n",
       "\t<tr><td>0 </td><td>0 </td><td> 0</td><td>0 </td><td>0 </td><td>0 </td><td>0 </td><td>0 </td><td>0 </td><td>0 </td><td>0 </td><td>0 </td><td>0 </td><td>0 </td><td>0 </td><td>0 </td><td>0 </td></tr>\n",
       "\t<tr><td>3 </td><td>9 </td><td>13</td><td>1 </td><td>3 </td><td>0 </td><td>0 </td><td>0 </td><td>9 </td><td>1 </td><td>0 </td><td>2 </td><td>0 </td><td>2 </td><td>1 </td><td>0 </td><td>0 </td></tr>\n",
       "</tbody>\n",
       "</table>\n"
      ],
      "text/latex": [
       "\\begin{tabular}{lllllllllllllllll}\n",
       " Cabatoan & Caridad Cemetery & Caridad Proper & Elementary School & Haina & Hicgop South & Magbangon & Palanas & Poroc Rose & Poroc San Flower & San Agustin & Sitio Baybayon & Sitio Lonas & Sitio Tugas & Tamakin Dacot & Visca & Wangag\\\\\n",
       "\\hline\n",
       "\t 0  & 0  &  0 & 0  & 0  & 0  & 0  & 0  & 0  & 0  & 0  & 0  & 0  & 0  & 0  & 0  & 0 \\\\\n",
       "\t 0  & 0  &  0 & 0  & 0  & 0  & 0  & 0  & 0  & 0  & 0  & 0  & 0  & 0  & 0  & 0  & 0 \\\\\n",
       "\t 0  & 0  &  0 & 0  & 0  & 0  & 0  & 0  & 0  & 0  & 0  & 0  & 0  & 0  & 0  & 0  & 0 \\\\\n",
       "\t 0  & 0  &  0 & 0  & 0  & 0  & 0  & 0  & 0  & 0  & 0  & 0  & 0  & 0  & 0  & 0  & 0 \\\\\n",
       "\t 0  & 0  &  0 & 0  & 0  & 0  & 0  & 0  & 0  & 0  & 0  & 0  & 0  & 0  & 0  & 0  & 0 \\\\\n",
       "\t 0  & 0  &  0 & 0  & 0  & 1  & 0  & 0  & 0  & 0  & 0  & 0  & 0  & 0  & 0  & 0  & 0 \\\\\n",
       "\t 0  & 0  &  0 & 0  & 0  & 0  & 0  & 0  & 0  & 0  & 0  & 0  & 0  & 0  & 0  & 0  & 0 \\\\\n",
       "\t 0  & 0  &  0 & 0  & 0  & 0  & 0  & 0  & 0  & 0  & 0  & 0  & 0  & 0  & 0  & 0  & 0 \\\\\n",
       "\t 0  & 0  &  0 & 0  & 0  & 0  & 0  & 0  & 0  & 0  & 0  & 0  & 0  & 0  & 0  & 0  & 0 \\\\\n",
       "\t 0  & 0  &  0 & 0  & 0  & 0  & 0  & 0  & 0  & 0  & 0  & 0  & 0  & 0  & 0  & 0  & 0 \\\\\n",
       "\t 0  & 0  &  0 & 0  & 0  & 0  & 0  & 0  & 0  & 0  & 0  & 0  & 0  & 0  & 0  & 0  & 0 \\\\\n",
       "\t 0  & 0  &  0 & 0  & 0  & 0  & 0  & 0  & 0  & 0  & 0  & 0  & 0  & 0  & 0  & 0  & 0 \\\\\n",
       "\t 0  & 0  &  0 & 0  & 0  & 0  & 0  & 0  & 0  & 0  & 0  & 0  & 0  & 0  & 0  & 0  & 0 \\\\\n",
       "\t 0  & 0  &  0 & 0  & 0  & 0  & 0  & 0  & 0  & 0  & 0  & 0  & 0  & 0  & 0  & 0  & 0 \\\\\n",
       "\t 0  & 0  &  0 & 0  & 0  & 0  & 0  & 0  & 0  & 0  & 0  & 0  & 0  & 0  & 0  & 0  & 0 \\\\\n",
       "\t 0  & 0  &  0 & 0  & 0  & 0  & 0  & 0  & 0  & 0  & 0  & 0  & 0  & 0  & 0  & 0  & 0 \\\\\n",
       "\t 0  & 0  &  0 & 0  & 0  & 0  & 0  & 0  & 0  & 0  & 0  & 0  & 0  & 0  & 0  & 0  & 0 \\\\\n",
       "\t 3  & 9  & 13 & 1  & 3  & 0  & 0  & 0  & 9  & 1  & 0  & 2  & 0  & 2  & 1  & 0  & 0 \\\\\n",
       "\\end{tabular}\n"
      ],
      "text/markdown": [
       "\n",
       "| Cabatoan | Caridad Cemetery | Caridad Proper | Elementary School | Haina | Hicgop South | Magbangon | Palanas | Poroc Rose | Poroc San Flower | San Agustin | Sitio Baybayon | Sitio Lonas | Sitio Tugas | Tamakin Dacot | Visca | Wangag |\n",
       "|---|---|---|---|---|---|---|---|---|---|---|---|---|---|---|---|---|\n",
       "| 0  | 0  |  0 | 0  | 0  | 0  | 0  | 0  | 0  | 0  | 0  | 0  | 0  | 0  | 0  | 0  | 0  |\n",
       "| 0  | 0  |  0 | 0  | 0  | 0  | 0  | 0  | 0  | 0  | 0  | 0  | 0  | 0  | 0  | 0  | 0  |\n",
       "| 0  | 0  |  0 | 0  | 0  | 0  | 0  | 0  | 0  | 0  | 0  | 0  | 0  | 0  | 0  | 0  | 0  |\n",
       "| 0  | 0  |  0 | 0  | 0  | 0  | 0  | 0  | 0  | 0  | 0  | 0  | 0  | 0  | 0  | 0  | 0  |\n",
       "| 0  | 0  |  0 | 0  | 0  | 0  | 0  | 0  | 0  | 0  | 0  | 0  | 0  | 0  | 0  | 0  | 0  |\n",
       "| 0  | 0  |  0 | 0  | 0  | 1  | 0  | 0  | 0  | 0  | 0  | 0  | 0  | 0  | 0  | 0  | 0  |\n",
       "| 0  | 0  |  0 | 0  | 0  | 0  | 0  | 0  | 0  | 0  | 0  | 0  | 0  | 0  | 0  | 0  | 0  |\n",
       "| 0  | 0  |  0 | 0  | 0  | 0  | 0  | 0  | 0  | 0  | 0  | 0  | 0  | 0  | 0  | 0  | 0  |\n",
       "| 0  | 0  |  0 | 0  | 0  | 0  | 0  | 0  | 0  | 0  | 0  | 0  | 0  | 0  | 0  | 0  | 0  |\n",
       "| 0  | 0  |  0 | 0  | 0  | 0  | 0  | 0  | 0  | 0  | 0  | 0  | 0  | 0  | 0  | 0  | 0  |\n",
       "| 0  | 0  |  0 | 0  | 0  | 0  | 0  | 0  | 0  | 0  | 0  | 0  | 0  | 0  | 0  | 0  | 0  |\n",
       "| 0  | 0  |  0 | 0  | 0  | 0  | 0  | 0  | 0  | 0  | 0  | 0  | 0  | 0  | 0  | 0  | 0  |\n",
       "| 0  | 0  |  0 | 0  | 0  | 0  | 0  | 0  | 0  | 0  | 0  | 0  | 0  | 0  | 0  | 0  | 0  |\n",
       "| 0  | 0  |  0 | 0  | 0  | 0  | 0  | 0  | 0  | 0  | 0  | 0  | 0  | 0  | 0  | 0  | 0  |\n",
       "| 0  | 0  |  0 | 0  | 0  | 0  | 0  | 0  | 0  | 0  | 0  | 0  | 0  | 0  | 0  | 0  | 0  |\n",
       "| 0  | 0  |  0 | 0  | 0  | 0  | 0  | 0  | 0  | 0  | 0  | 0  | 0  | 0  | 0  | 0  | 0  |\n",
       "| 0  | 0  |  0 | 0  | 0  | 0  | 0  | 0  | 0  | 0  | 0  | 0  | 0  | 0  | 0  | 0  | 0  |\n",
       "| 3  | 9  | 13 | 1  | 3  | 0  | 0  | 0  | 9  | 1  | 0  | 2  | 0  | 2  | 1  | 0  | 0  |\n",
       "\n"
      ],
      "text/plain": [
       "      Cabatoan Caridad Cemetery Caridad Proper Elementary School Haina\n",
       " [1,] 0        0                 0             0                 0    \n",
       " [2,] 0        0                 0             0                 0    \n",
       " [3,] 0        0                 0             0                 0    \n",
       " [4,] 0        0                 0             0                 0    \n",
       " [5,] 0        0                 0             0                 0    \n",
       " [6,] 0        0                 0             0                 0    \n",
       " [7,] 0        0                 0             0                 0    \n",
       " [8,] 0        0                 0             0                 0    \n",
       " [9,] 0        0                 0             0                 0    \n",
       "[10,] 0        0                 0             0                 0    \n",
       "[11,] 0        0                 0             0                 0    \n",
       "[12,] 0        0                 0             0                 0    \n",
       "[13,] 0        0                 0             0                 0    \n",
       "[14,] 0        0                 0             0                 0    \n",
       "[15,] 0        0                 0             0                 0    \n",
       "[16,] 0        0                 0             0                 0    \n",
       "[17,] 0        0                 0             0                 0    \n",
       "[18,] 3        9                13             1                 3    \n",
       "      Hicgop South Magbangon Palanas Poroc Rose Poroc San Flower San Agustin\n",
       " [1,] 0            0         0       0          0                0          \n",
       " [2,] 0            0         0       0          0                0          \n",
       " [3,] 0            0         0       0          0                0          \n",
       " [4,] 0            0         0       0          0                0          \n",
       " [5,] 0            0         0       0          0                0          \n",
       " [6,] 1            0         0       0          0                0          \n",
       " [7,] 0            0         0       0          0                0          \n",
       " [8,] 0            0         0       0          0                0          \n",
       " [9,] 0            0         0       0          0                0          \n",
       "[10,] 0            0         0       0          0                0          \n",
       "[11,] 0            0         0       0          0                0          \n",
       "[12,] 0            0         0       0          0                0          \n",
       "[13,] 0            0         0       0          0                0          \n",
       "[14,] 0            0         0       0          0                0          \n",
       "[15,] 0            0         0       0          0                0          \n",
       "[16,] 0            0         0       0          0                0          \n",
       "[17,] 0            0         0       0          0                0          \n",
       "[18,] 0            0         0       9          1                0          \n",
       "      Sitio Baybayon Sitio Lonas Sitio Tugas Tamakin Dacot Visca Wangag\n",
       " [1,] 0              0           0           0             0     0     \n",
       " [2,] 0              0           0           0             0     0     \n",
       " [3,] 0              0           0           0             0     0     \n",
       " [4,] 0              0           0           0             0     0     \n",
       " [5,] 0              0           0           0             0     0     \n",
       " [6,] 0              0           0           0             0     0     \n",
       " [7,] 0              0           0           0             0     0     \n",
       " [8,] 0              0           0           0             0     0     \n",
       " [9,] 0              0           0           0             0     0     \n",
       "[10,] 0              0           0           0             0     0     \n",
       "[11,] 0              0           0           0             0     0     \n",
       "[12,] 0              0           0           0             0     0     \n",
       "[13,] 0              0           0           0             0     0     \n",
       "[14,] 0              0           0           0             0     0     \n",
       "[15,] 0              0           0           0             0     0     \n",
       "[16,] 0              0           0           0             0     0     \n",
       "[17,] 0              0           0           0             0     0     \n",
       "[18,] 2              0           2           1             0     0     "
      ]
     },
     "metadata": {},
     "output_type": "display_data"
    }
   ],
   "source": [
    "matSWM"
   ]
  },
  {
   "cell_type": "code",
   "execution_count": null,
   "metadata": {},
   "outputs": [],
   "source": []
  },
  {
   "cell_type": "code",
   "execution_count": 18,
   "metadata": {},
   "outputs": [
    {
     "data": {
      "text/html": [
       "<table>\n",
       "<thead><tr><th scope=col>year</th><th scope=col>site</th><th scope=col>nF</th><th scope=col>n_offs_gen</th><th scope=col>PropAnemSamp</th><th scope=col>TotalAnems</th></tr></thead>\n",
       "<tbody>\n",
       "\t<tr><td>2012             </td><td>Cabatoan         </td><td>  8              </td><td> 4               </td><td>0.42307692       </td><td> 26              </td></tr>\n",
       "\t<tr><td>2012             </td><td>Caridad Cemetery </td><td> NA              </td><td> 0               </td><td>0.00000000       </td><td>  4              </td></tr>\n",
       "\t<tr><td>2012             </td><td>Caridad Proper   </td><td> NA              </td><td> 0               </td><td>0.00000000       </td><td>  4              </td></tr>\n",
       "\t<tr><td>2012             </td><td>Elementary School</td><td> NA              </td><td> 0               </td><td>0.00000000       </td><td>  7              </td></tr>\n",
       "\t<tr><td>2012             </td><td>Gabas            </td><td> NA              </td><td> 0               </td><td>0.00000000       </td><td>  9              </td></tr>\n",
       "\t<tr><td>2012             </td><td>Haina            </td><td> NA              </td><td> 0               </td><td>0.00000000       </td><td>104              </td></tr>\n",
       "\t<tr><td>2012             </td><td>Hicgop South     </td><td> NA              </td><td> 0               </td><td>0.00000000       </td><td> 18              </td></tr>\n",
       "\t<tr><td>2012             </td><td>Magbangon        </td><td> NA              </td><td>10               </td><td>0.45938375       </td><td>139              </td></tr>\n",
       "\t<tr><td>2012             </td><td>Palanas          </td><td> 49              </td><td>13               </td><td>0.28985507       </td><td>138              </td></tr>\n",
       "\t<tr><td>2012             </td><td>Poroc Rose       </td><td>  9              </td><td> 9               </td><td>1.00000000       </td><td> 13              </td></tr>\n",
       "\t<tr><td>2012             </td><td>Poroc San Flower </td><td>  4              </td><td> 9               </td><td>1.00000000       </td><td> 11              </td></tr>\n",
       "\t<tr><td>2012             </td><td>San Agustin      </td><td>  6              </td><td> 0               </td><td>0.88888889       </td><td> 18              </td></tr>\n",
       "\t<tr><td>2012             </td><td>Sitio Baybayon   </td><td> NA              </td><td> 0               </td><td>0.00000000       </td><td>259              </td></tr>\n",
       "\t<tr><td>2012             </td><td>Sitio Lonas      </td><td>  1              </td><td> 1               </td><td>0.66666667       </td><td>  3              </td></tr>\n",
       "\t<tr><td>2012             </td><td>Sitio Tugas      </td><td> NA              </td><td> 0               </td><td>0.00000000       </td><td>  9              </td></tr>\n",
       "\t<tr><td>2012             </td><td>Tamakin Dacot    </td><td> NA              </td><td> 0               </td><td>0.00000000       </td><td> 48              </td></tr>\n",
       "\t<tr><td>2012             </td><td>Visca            </td><td>  4              </td><td> 1               </td><td>1.00000000       </td><td> 13              </td></tr>\n",
       "\t<tr><td>2012             </td><td>Wangag           </td><td> 98              </td><td>16               </td><td>0.18213058       </td><td>291              </td></tr>\n",
       "\t<tr><td>2013             </td><td>Cabatoan         </td><td> 28              </td><td> 3               </td><td>0.50000000       </td><td> 52              </td></tr>\n",
       "\t<tr><td>2013             </td><td>Caridad Cemetery </td><td>  5              </td><td> 2               </td><td>0.37500000       </td><td>  8              </td></tr>\n",
       "\t<tr><td>2013             </td><td>Caridad Proper   </td><td>  3              </td><td> 4               </td><td>1.00000000       </td><td>  4              </td></tr>\n",
       "\t<tr><td>2013             </td><td>Elementary School</td><td>  9              </td><td>11               </td><td>0.50000000       </td><td> 14              </td></tr>\n",
       "\t<tr><td>2013             </td><td>Gabas            </td><td> NA              </td><td> 0               </td><td>0.00000000       </td><td> 18              </td></tr>\n",
       "\t<tr><td>2013             </td><td>Haina            </td><td>124              </td><td> 6               </td><td>0.02884615       </td><td>208              </td></tr>\n",
       "\t<tr><td>2013             </td><td>Hicgop South     </td><td> 21              </td><td> 4               </td><td>0.33333333       </td><td> 36              </td></tr>\n",
       "\t<tr><td>2013             </td><td>Magbangon        </td><td> NA              </td><td>18               </td><td>0.57100840       </td><td>278              </td></tr>\n",
       "\t<tr><td>2013             </td><td>Palanas          </td><td>112              </td><td>43               </td><td>0.43115942       </td><td>276              </td></tr>\n",
       "\t<tr><td>2013             </td><td>Poroc Rose       </td><td>  9              </td><td> 1               </td><td>1.00000000       </td><td> 26              </td></tr>\n",
       "\t<tr><td>2013             </td><td>Poroc San Flower </td><td>  7              </td><td> 1               </td><td>0.90909091       </td><td> 22              </td></tr>\n",
       "\t<tr><td>2013             </td><td>San Agustin      </td><td>  9              </td><td> 0               </td><td>0.75000000       </td><td> 36              </td></tr>\n",
       "\t<tr><td>...</td><td>...</td><td>...</td><td>...</td><td>...</td><td>...</td></tr>\n",
       "\t<tr><td>2017             </td><td>Hicgop South     </td><td> 15              </td><td> 3               </td><td>0.4351852        </td><td> 108             </td></tr>\n",
       "\t<tr><td>2017             </td><td>Magbangon        </td><td> NA              </td><td> 0               </td><td>0.6298786        </td><td> 834             </td></tr>\n",
       "\t<tr><td>2017             </td><td>Palanas          </td><td> 70              </td><td>19               </td><td>0.6099034        </td><td> 828             </td></tr>\n",
       "\t<tr><td>2017             </td><td>Poroc Rose       </td><td> 10              </td><td> 3               </td><td>0.6538462        </td><td>  78             </td></tr>\n",
       "\t<tr><td>2017             </td><td>Poroc San Flower </td><td> 11              </td><td> 1               </td><td>0.7727273        </td><td>  66             </td></tr>\n",
       "\t<tr><td>2017             </td><td>San Agustin      </td><td> 10              </td><td> 5               </td><td>0.7870370        </td><td> 108             </td></tr>\n",
       "\t<tr><td>2017             </td><td>Sitio Baybayon   </td><td>151              </td><td>35               </td><td>0.2490347        </td><td>1554             </td></tr>\n",
       "\t<tr><td>2017             </td><td>Sitio Lonas      </td><td> NA              </td><td> 0               </td><td>1.0000000        </td><td>   3             </td></tr>\n",
       "\t<tr><td>2017             </td><td>Sitio Tugas      </td><td> NA              </td><td> 0               </td><td>1.0000000        </td><td>   9             </td></tr>\n",
       "\t<tr><td>2017             </td><td>Tamakin Dacot    </td><td> 38              </td><td>10               </td><td>0.3020833        </td><td> 288             </td></tr>\n",
       "\t<tr><td>2017             </td><td>Visca            </td><td> 11              </td><td> 8               </td><td>0.6794872        </td><td>  78             </td></tr>\n",
       "\t<tr><td>2017             </td><td>Wangag           </td><td>163              </td><td>25               </td><td>0.3402062        </td><td>1746             </td></tr>\n",
       "\t<tr><td>2018             </td><td>Cabatoan         </td><td> 20              </td><td> 0               </td><td>0.5109890        </td><td> 182             </td></tr>\n",
       "\t<tr><td>2018             </td><td>Caridad Cemetery </td><td> NA              </td><td> 0               </td><td>0.3928571        </td><td>  28             </td></tr>\n",
       "\t<tr><td>2018             </td><td>Caridad Proper   </td><td> NA              </td><td> 0               </td><td>1.0000000        </td><td>   4             </td></tr>\n",
       "\t<tr><td>2018             </td><td>Elementary School</td><td>  5              </td><td> 1               </td><td>0.7551020        </td><td>  49             </td></tr>\n",
       "\t<tr><td>2018             </td><td>Gabas            </td><td> NA              </td><td> 0               </td><td>0.2222222        </td><td>  63             </td></tr>\n",
       "\t<tr><td>2018             </td><td>Haina            </td><td> 94              </td><td> 5               </td><td>0.2527473        </td><td> 728             </td></tr>\n",
       "\t<tr><td>2018             </td><td>Hicgop South     </td><td> 16              </td><td> 1               </td><td>0.4841270        </td><td> 126             </td></tr>\n",
       "\t<tr><td>2018             </td><td>Magbangon        </td><td> NA              </td><td> 4               </td><td>0.6475390        </td><td> 973             </td></tr>\n",
       "\t<tr><td>2018             </td><td>Palanas          </td><td> 94              </td><td> 8               </td><td>0.6449275        </td><td> 966             </td></tr>\n",
       "\t<tr><td>2018             </td><td>Poroc Rose       </td><td>  8              </td><td> 0               </td><td>0.6593407        </td><td>  91             </td></tr>\n",
       "\t<tr><td>2018             </td><td>Poroc San Flower </td><td> NA              </td><td> 0               </td><td>0.7532468        </td><td>  77             </td></tr>\n",
       "\t<tr><td>2018             </td><td>San Agustin      </td><td> 22              </td><td> 0               </td><td>0.7777778        </td><td> 126             </td></tr>\n",
       "\t<tr><td>2018             </td><td>Sitio Baybayon   </td><td>192              </td><td>16               </td><td>0.3287369        </td><td>1813             </td></tr>\n",
       "\t<tr><td>2018             </td><td>Sitio Lonas      </td><td> NA              </td><td> 0               </td><td>1.0000000        </td><td>   3             </td></tr>\n",
       "\t<tr><td>2018             </td><td>Sitio Tugas      </td><td> NA              </td><td> 0               </td><td>1.0000000        </td><td>   9             </td></tr>\n",
       "\t<tr><td>2018             </td><td>Tamakin Dacot    </td><td> 44              </td><td> 2               </td><td>0.3571429        </td><td> 336             </td></tr>\n",
       "\t<tr><td>2018             </td><td>Visca            </td><td> 23              </td><td> 0               </td><td>0.6703297        </td><td>  91             </td></tr>\n",
       "\t<tr><td>2018             </td><td>Wangag           </td><td>199              </td><td> 8               </td><td>0.3902798        </td><td>2037             </td></tr>\n",
       "</tbody>\n",
       "</table>\n"
      ],
      "text/latex": [
       "\\begin{tabular}{r|llllll}\n",
       " year & site & nF & n\\_offs\\_gen & PropAnemSamp & TotalAnems\\\\\n",
       "\\hline\n",
       "\t 2012              & Cabatoan          &   8               &  4                & 0.42307692        &  26              \\\\\n",
       "\t 2012              & Caridad Cemetery  &  NA               &  0                & 0.00000000        &   4              \\\\\n",
       "\t 2012              & Caridad Proper    &  NA               &  0                & 0.00000000        &   4              \\\\\n",
       "\t 2012              & Elementary School &  NA               &  0                & 0.00000000        &   7              \\\\\n",
       "\t 2012              & Gabas             &  NA               &  0                & 0.00000000        &   9              \\\\\n",
       "\t 2012              & Haina             &  NA               &  0                & 0.00000000        & 104              \\\\\n",
       "\t 2012              & Hicgop South      &  NA               &  0                & 0.00000000        &  18              \\\\\n",
       "\t 2012              & Magbangon         &  NA               & 10                & 0.45938375        & 139              \\\\\n",
       "\t 2012              & Palanas           &  49               & 13                & 0.28985507        & 138              \\\\\n",
       "\t 2012              & Poroc Rose        &   9               &  9                & 1.00000000        &  13              \\\\\n",
       "\t 2012              & Poroc San Flower  &   4               &  9                & 1.00000000        &  11              \\\\\n",
       "\t 2012              & San Agustin       &   6               &  0                & 0.88888889        &  18              \\\\\n",
       "\t 2012              & Sitio Baybayon    &  NA               &  0                & 0.00000000        & 259              \\\\\n",
       "\t 2012              & Sitio Lonas       &   1               &  1                & 0.66666667        &   3              \\\\\n",
       "\t 2012              & Sitio Tugas       &  NA               &  0                & 0.00000000        &   9              \\\\\n",
       "\t 2012              & Tamakin Dacot     &  NA               &  0                & 0.00000000        &  48              \\\\\n",
       "\t 2012              & Visca             &   4               &  1                & 1.00000000        &  13              \\\\\n",
       "\t 2012              & Wangag            &  98               & 16                & 0.18213058        & 291              \\\\\n",
       "\t 2013              & Cabatoan          &  28               &  3                & 0.50000000        &  52              \\\\\n",
       "\t 2013              & Caridad Cemetery  &   5               &  2                & 0.37500000        &   8              \\\\\n",
       "\t 2013              & Caridad Proper    &   3               &  4                & 1.00000000        &   4              \\\\\n",
       "\t 2013              & Elementary School &   9               & 11                & 0.50000000        &  14              \\\\\n",
       "\t 2013              & Gabas             &  NA               &  0                & 0.00000000        &  18              \\\\\n",
       "\t 2013              & Haina             & 124               &  6                & 0.02884615        & 208              \\\\\n",
       "\t 2013              & Hicgop South      &  21               &  4                & 0.33333333        &  36              \\\\\n",
       "\t 2013              & Magbangon         &  NA               & 18                & 0.57100840        & 278              \\\\\n",
       "\t 2013              & Palanas           & 112               & 43                & 0.43115942        & 276              \\\\\n",
       "\t 2013              & Poroc Rose        &   9               &  1                & 1.00000000        &  26              \\\\\n",
       "\t 2013              & Poroc San Flower  &   7               &  1                & 0.90909091        &  22              \\\\\n",
       "\t 2013              & San Agustin       &   9               &  0                & 0.75000000        &  36              \\\\\n",
       "\t ... & ... & ... & ... & ... & ...\\\\\n",
       "\t 2017              & Hicgop South      &  15               &  3                & 0.4351852         &  108             \\\\\n",
       "\t 2017              & Magbangon         &  NA               &  0                & 0.6298786         &  834             \\\\\n",
       "\t 2017              & Palanas           &  70               & 19                & 0.6099034         &  828             \\\\\n",
       "\t 2017              & Poroc Rose        &  10               &  3                & 0.6538462         &   78             \\\\\n",
       "\t 2017              & Poroc San Flower  &  11               &  1                & 0.7727273         &   66             \\\\\n",
       "\t 2017              & San Agustin       &  10               &  5                & 0.7870370         &  108             \\\\\n",
       "\t 2017              & Sitio Baybayon    & 151               & 35                & 0.2490347         & 1554             \\\\\n",
       "\t 2017              & Sitio Lonas       &  NA               &  0                & 1.0000000         &    3             \\\\\n",
       "\t 2017              & Sitio Tugas       &  NA               &  0                & 1.0000000         &    9             \\\\\n",
       "\t 2017              & Tamakin Dacot     &  38               & 10                & 0.3020833         &  288             \\\\\n",
       "\t 2017              & Visca             &  11               &  8                & 0.6794872         &   78             \\\\\n",
       "\t 2017              & Wangag            & 163               & 25                & 0.3402062         & 1746             \\\\\n",
       "\t 2018              & Cabatoan          &  20               &  0                & 0.5109890         &  182             \\\\\n",
       "\t 2018              & Caridad Cemetery  &  NA               &  0                & 0.3928571         &   28             \\\\\n",
       "\t 2018              & Caridad Proper    &  NA               &  0                & 1.0000000         &    4             \\\\\n",
       "\t 2018              & Elementary School &   5               &  1                & 0.7551020         &   49             \\\\\n",
       "\t 2018              & Gabas             &  NA               &  0                & 0.2222222         &   63             \\\\\n",
       "\t 2018              & Haina             &  94               &  5                & 0.2527473         &  728             \\\\\n",
       "\t 2018              & Hicgop South      &  16               &  1                & 0.4841270         &  126             \\\\\n",
       "\t 2018              & Magbangon         &  NA               &  4                & 0.6475390         &  973             \\\\\n",
       "\t 2018              & Palanas           &  94               &  8                & 0.6449275         &  966             \\\\\n",
       "\t 2018              & Poroc Rose        &   8               &  0                & 0.6593407         &   91             \\\\\n",
       "\t 2018              & Poroc San Flower  &  NA               &  0                & 0.7532468         &   77             \\\\\n",
       "\t 2018              & San Agustin       &  22               &  0                & 0.7777778         &  126             \\\\\n",
       "\t 2018              & Sitio Baybayon    & 192               & 16                & 0.3287369         & 1813             \\\\\n",
       "\t 2018              & Sitio Lonas       &  NA               &  0                & 1.0000000         &    3             \\\\\n",
       "\t 2018              & Sitio Tugas       &  NA               &  0                & 1.0000000         &    9             \\\\\n",
       "\t 2018              & Tamakin Dacot     &  44               &  2                & 0.3571429         &  336             \\\\\n",
       "\t 2018              & Visca             &  23               &  0                & 0.6703297         &   91             \\\\\n",
       "\t 2018              & Wangag            & 199               &  8                & 0.3902798         & 2037             \\\\\n",
       "\\end{tabular}\n"
      ],
      "text/markdown": [
       "\n",
       "| year | site | nF | n_offs_gen | PropAnemSamp | TotalAnems |\n",
       "|---|---|---|---|---|---|\n",
       "| 2012              | Cabatoan          |   8               |  4                | 0.42307692        |  26               |\n",
       "| 2012              | Caridad Cemetery  |  NA               |  0                | 0.00000000        |   4               |\n",
       "| 2012              | Caridad Proper    |  NA               |  0                | 0.00000000        |   4               |\n",
       "| 2012              | Elementary School |  NA               |  0                | 0.00000000        |   7               |\n",
       "| 2012              | Gabas             |  NA               |  0                | 0.00000000        |   9               |\n",
       "| 2012              | Haina             |  NA               |  0                | 0.00000000        | 104               |\n",
       "| 2012              | Hicgop South      |  NA               |  0                | 0.00000000        |  18               |\n",
       "| 2012              | Magbangon         |  NA               | 10                | 0.45938375        | 139               |\n",
       "| 2012              | Palanas           |  49               | 13                | 0.28985507        | 138               |\n",
       "| 2012              | Poroc Rose        |   9               |  9                | 1.00000000        |  13               |\n",
       "| 2012              | Poroc San Flower  |   4               |  9                | 1.00000000        |  11               |\n",
       "| 2012              | San Agustin       |   6               |  0                | 0.88888889        |  18               |\n",
       "| 2012              | Sitio Baybayon    |  NA               |  0                | 0.00000000        | 259               |\n",
       "| 2012              | Sitio Lonas       |   1               |  1                | 0.66666667        |   3               |\n",
       "| 2012              | Sitio Tugas       |  NA               |  0                | 0.00000000        |   9               |\n",
       "| 2012              | Tamakin Dacot     |  NA               |  0                | 0.00000000        |  48               |\n",
       "| 2012              | Visca             |   4               |  1                | 1.00000000        |  13               |\n",
       "| 2012              | Wangag            |  98               | 16                | 0.18213058        | 291               |\n",
       "| 2013              | Cabatoan          |  28               |  3                | 0.50000000        |  52               |\n",
       "| 2013              | Caridad Cemetery  |   5               |  2                | 0.37500000        |   8               |\n",
       "| 2013              | Caridad Proper    |   3               |  4                | 1.00000000        |   4               |\n",
       "| 2013              | Elementary School |   9               | 11                | 0.50000000        |  14               |\n",
       "| 2013              | Gabas             |  NA               |  0                | 0.00000000        |  18               |\n",
       "| 2013              | Haina             | 124               |  6                | 0.02884615        | 208               |\n",
       "| 2013              | Hicgop South      |  21               |  4                | 0.33333333        |  36               |\n",
       "| 2013              | Magbangon         |  NA               | 18                | 0.57100840        | 278               |\n",
       "| 2013              | Palanas           | 112               | 43                | 0.43115942        | 276               |\n",
       "| 2013              | Poroc Rose        |   9               |  1                | 1.00000000        |  26               |\n",
       "| 2013              | Poroc San Flower  |   7               |  1                | 0.90909091        |  22               |\n",
       "| 2013              | San Agustin       |   9               |  0                | 0.75000000        |  36               |\n",
       "| ... | ... | ... | ... | ... | ... |\n",
       "| 2017              | Hicgop South      |  15               |  3                | 0.4351852         |  108              |\n",
       "| 2017              | Magbangon         |  NA               |  0                | 0.6298786         |  834              |\n",
       "| 2017              | Palanas           |  70               | 19                | 0.6099034         |  828              |\n",
       "| 2017              | Poroc Rose        |  10               |  3                | 0.6538462         |   78              |\n",
       "| 2017              | Poroc San Flower  |  11               |  1                | 0.7727273         |   66              |\n",
       "| 2017              | San Agustin       |  10               |  5                | 0.7870370         |  108              |\n",
       "| 2017              | Sitio Baybayon    | 151               | 35                | 0.2490347         | 1554              |\n",
       "| 2017              | Sitio Lonas       |  NA               |  0                | 1.0000000         |    3              |\n",
       "| 2017              | Sitio Tugas       |  NA               |  0                | 1.0000000         |    9              |\n",
       "| 2017              | Tamakin Dacot     |  38               | 10                | 0.3020833         |  288              |\n",
       "| 2017              | Visca             |  11               |  8                | 0.6794872         |   78              |\n",
       "| 2017              | Wangag            | 163               | 25                | 0.3402062         | 1746              |\n",
       "| 2018              | Cabatoan          |  20               |  0                | 0.5109890         |  182              |\n",
       "| 2018              | Caridad Cemetery  |  NA               |  0                | 0.3928571         |   28              |\n",
       "| 2018              | Caridad Proper    |  NA               |  0                | 1.0000000         |    4              |\n",
       "| 2018              | Elementary School |   5               |  1                | 0.7551020         |   49              |\n",
       "| 2018              | Gabas             |  NA               |  0                | 0.2222222         |   63              |\n",
       "| 2018              | Haina             |  94               |  5                | 0.2527473         |  728              |\n",
       "| 2018              | Hicgop South      |  16               |  1                | 0.4841270         |  126              |\n",
       "| 2018              | Magbangon         |  NA               |  4                | 0.6475390         |  973              |\n",
       "| 2018              | Palanas           |  94               |  8                | 0.6449275         |  966              |\n",
       "| 2018              | Poroc Rose        |   8               |  0                | 0.6593407         |   91              |\n",
       "| 2018              | Poroc San Flower  |  NA               |  0                | 0.7532468         |   77              |\n",
       "| 2018              | San Agustin       |  22               |  0                | 0.7777778         |  126              |\n",
       "| 2018              | Sitio Baybayon    | 192               | 16                | 0.3287369         | 1813              |\n",
       "| 2018              | Sitio Lonas       |  NA               |  0                | 1.0000000         |    3              |\n",
       "| 2018              | Sitio Tugas       |  NA               |  0                | 1.0000000         |    9              |\n",
       "| 2018              | Tamakin Dacot     |  44               |  2                | 0.3571429         |  336              |\n",
       "| 2018              | Visca             |  23               |  0                | 0.6703297         |   91              |\n",
       "| 2018              | Wangag            | 199               |  8                | 0.3902798         | 2037              |\n",
       "\n"
      ],
      "text/plain": [
       "    year site              nF  n_offs_gen PropAnemSamp TotalAnems\n",
       "1   2012 Cabatoan            8  4         0.42307692    26       \n",
       "2   2012 Caridad Cemetery   NA  0         0.00000000     4       \n",
       "3   2012 Caridad Proper     NA  0         0.00000000     4       \n",
       "4   2012 Elementary School  NA  0         0.00000000     7       \n",
       "5   2012 Gabas              NA  0         0.00000000     9       \n",
       "6   2012 Haina              NA  0         0.00000000   104       \n",
       "7   2012 Hicgop South       NA  0         0.00000000    18       \n",
       "8   2012 Magbangon          NA 10         0.45938375   139       \n",
       "9   2012 Palanas            49 13         0.28985507   138       \n",
       "10  2012 Poroc Rose          9  9         1.00000000    13       \n",
       "11  2012 Poroc San Flower    4  9         1.00000000    11       \n",
       "12  2012 San Agustin         6  0         0.88888889    18       \n",
       "13  2012 Sitio Baybayon     NA  0         0.00000000   259       \n",
       "14  2012 Sitio Lonas         1  1         0.66666667     3       \n",
       "15  2012 Sitio Tugas        NA  0         0.00000000     9       \n",
       "16  2012 Tamakin Dacot      NA  0         0.00000000    48       \n",
       "17  2012 Visca               4  1         1.00000000    13       \n",
       "18  2012 Wangag             98 16         0.18213058   291       \n",
       "19  2013 Cabatoan           28  3         0.50000000    52       \n",
       "20  2013 Caridad Cemetery    5  2         0.37500000     8       \n",
       "21  2013 Caridad Proper      3  4         1.00000000     4       \n",
       "22  2013 Elementary School   9 11         0.50000000    14       \n",
       "23  2013 Gabas              NA  0         0.00000000    18       \n",
       "24  2013 Haina             124  6         0.02884615   208       \n",
       "25  2013 Hicgop South       21  4         0.33333333    36       \n",
       "26  2013 Magbangon          NA 18         0.57100840   278       \n",
       "27  2013 Palanas           112 43         0.43115942   276       \n",
       "28  2013 Poroc Rose          9  1         1.00000000    26       \n",
       "29  2013 Poroc San Flower    7  1         0.90909091    22       \n",
       "30  2013 San Agustin         9  0         0.75000000    36       \n",
       "... ...  ...               ... ...        ...          ...       \n",
       "97  2017 Hicgop South       15  3         0.4351852     108      \n",
       "98  2017 Magbangon          NA  0         0.6298786     834      \n",
       "99  2017 Palanas            70 19         0.6099034     828      \n",
       "100 2017 Poroc Rose         10  3         0.6538462      78      \n",
       "101 2017 Poroc San Flower   11  1         0.7727273      66      \n",
       "102 2017 San Agustin        10  5         0.7870370     108      \n",
       "103 2017 Sitio Baybayon    151 35         0.2490347    1554      \n",
       "104 2017 Sitio Lonas        NA  0         1.0000000       3      \n",
       "105 2017 Sitio Tugas        NA  0         1.0000000       9      \n",
       "106 2017 Tamakin Dacot      38 10         0.3020833     288      \n",
       "107 2017 Visca              11  8         0.6794872      78      \n",
       "108 2017 Wangag            163 25         0.3402062    1746      \n",
       "109 2018 Cabatoan           20  0         0.5109890     182      \n",
       "110 2018 Caridad Cemetery   NA  0         0.3928571      28      \n",
       "111 2018 Caridad Proper     NA  0         1.0000000       4      \n",
       "112 2018 Elementary School   5  1         0.7551020      49      \n",
       "113 2018 Gabas              NA  0         0.2222222      63      \n",
       "114 2018 Haina              94  5         0.2527473     728      \n",
       "115 2018 Hicgop South       16  1         0.4841270     126      \n",
       "116 2018 Magbangon          NA  4         0.6475390     973      \n",
       "117 2018 Palanas            94  8         0.6449275     966      \n",
       "118 2018 Poroc Rose          8  0         0.6593407      91      \n",
       "119 2018 Poroc San Flower   NA  0         0.7532468      77      \n",
       "120 2018 San Agustin        22  0         0.7777778     126      \n",
       "121 2018 Sitio Baybayon    192 16         0.3287369    1813      \n",
       "122 2018 Sitio Lonas        NA  0         1.0000000       3      \n",
       "123 2018 Sitio Tugas        NA  0         1.0000000       9      \n",
       "124 2018 Tamakin Dacot      44  2         0.3571429     336      \n",
       "125 2018 Visca              23  0         0.6703297      91      \n",
       "126 2018 Wangag            199  8         0.3902798    2037      "
      ]
     },
     "metadata": {},
     "output_type": "display_data"
    }
   ],
   "source": [
    "#Biophysical source normalized matrix\n",
    "#for each source, what is the normalized recruitment at each destination? \n",
    "GenSimConn[, annual_source_normalized_recruitment := sum(daily_particles_recruited)/sum(daily_particles_released), by=c(\"source\", \"destination\",\"year_sampled\")]\n"
   ]
  },
  {
   "cell_type": "markdown",
   "metadata": {},
   "source": [
    "__Code function for likelihood of parentage data given a biophysical model, based on Bode et al. 2019 in Plos Bio__"
   ]
  },
  {
   "cell_type": "code",
   "execution_count": null,
   "metadata": {},
   "outputs": [],
   "source": [
    "#lay out all the pieces\n",
    "pop_size_vec <- #vector of pop sizes for all reefs (a). This term is also used in parentage kernel fitting, but reef sizes are substituted as a proxy for pop size. This is should be bootstrapped to account for uncertainty.\n",
    "BioPhysMat <- #source normalized biophysical connectivity matrix. In Eqn. S3.4, this is m ajt/r a (*should it be r at? As in all particles released in time period t?)\n",
    "prop_samp_vec <- #vector of proportion of habitat sampled for all reefs in time period t\n",
    "unassigned_vec#from genetic parentage data- a vector of the number of unassigned recruits at each destination reef in the system- we only have this for all sampled reefs.... what should the dimensions be?*\n"
   ]
  },
  {
   "cell_type": "code",
   "execution_count": null,
   "metadata": {},
   "outputs": [],
   "source": [
    "#format the data"
   ]
  },
  {
   "cell_type": "code",
   "execution_count": null,
   "metadata": {},
   "outputs": [],
   "source": [
    "reef"
   ]
  },
  {
   "cell_type": "code",
   "execution_count": 3,
   "metadata": {},
   "outputs": [
    {
     "data": {
      "text/html": [
       "<table>\n",
       "<thead><tr><th scope=col>year</th><th scope=col>site</th><th scope=col>n_offs_gen</th></tr></thead>\n",
       "<tbody>\n",
       "\t<tr><td>2012            </td><td>Cabatoan        </td><td> 4              </td></tr>\n",
       "\t<tr><td>2012            </td><td>Palanas         </td><td>13              </td></tr>\n",
       "\t<tr><td>2012            </td><td>Poroc Rose      </td><td> 9              </td></tr>\n",
       "\t<tr><td>2012            </td><td>Poroc San Flower</td><td> 9              </td></tr>\n",
       "\t<tr><td>2012            </td><td>Sitio Lonas     </td><td> 1              </td></tr>\n",
       "\t<tr><td>2012            </td><td>Visca           </td><td> 1              </td></tr>\n",
       "</tbody>\n",
       "</table>\n"
      ],
      "text/latex": [
       "\\begin{tabular}{r|lll}\n",
       " year & site & n\\_offs\\_gen\\\\\n",
       "\\hline\n",
       "\t 2012             & Cabatoan         &  4              \\\\\n",
       "\t 2012             & Palanas          & 13              \\\\\n",
       "\t 2012             & Poroc Rose       &  9              \\\\\n",
       "\t 2012             & Poroc San Flower &  9              \\\\\n",
       "\t 2012             & Sitio Lonas      &  1              \\\\\n",
       "\t 2012             & Visca            &  1              \\\\\n",
       "\\end{tabular}\n"
      ],
      "text/markdown": [
       "\n",
       "| year | site | n_offs_gen |\n",
       "|---|---|---|\n",
       "| 2012             | Cabatoan         |  4               |\n",
       "| 2012             | Palanas          | 13               |\n",
       "| 2012             | Poroc Rose       |  9               |\n",
       "| 2012             | Poroc San Flower |  9               |\n",
       "| 2012             | Sitio Lonas      |  1               |\n",
       "| 2012             | Visca            |  1               |\n",
       "\n"
      ],
      "text/plain": [
       "  year site             n_offs_gen\n",
       "1 2012 Cabatoan          4        \n",
       "2 2012 Palanas          13        \n",
       "3 2012 Poroc Rose        9        \n",
       "4 2012 Poroc San Flower  9        \n",
       "5 2012 Sitio Lonas       1        \n",
       "6 2012 Visca             1        "
      ]
     },
     "metadata": {},
     "output_type": "display_data"
    }
   ],
   "source": [
    "head(AnnualRecsSamp)"
   ]
  },
  {
   "cell_type": "code",
   "execution_count": null,
   "metadata": {},
   "outputs": [],
   "source": [
    "#Eqn. S3.4 term 1 for loop\n",
    "\n",
    "for(j in 1:nrow(centroids)){ #for each destination reef in the whole Camotes system\n",
    "    \n",
    "dest_unassigned <- sum(unassigned_vec[t==time_period]) #the sum of all unassigned recruits at time period t\n",
    "    \n",
    "        for(i in 1:nrow(centroids)){ #term 1- for each source reef in the whole Camotes system, expected unassigned at each destination reef\n",
    "            \n",
    "            term1_num <- ((1-prop_samp_vec[i,t== time_period])^2)*pop_size_vec[i]*BioPhysMat[i,j,t]\n",
    "            \n",
    "            for(a in 1:nrow(centroids)){ #for all reefs total in the whole Camotes system, denominator of term 1\n",
    "                \n",
    "                value_a <-  pop_size_vec[a]*BioPhysMat[a, j, t]\n",
    "                term1_denom <- sum(value_a)\n",
    "            }\n",
    "        \n",
    "        term1 = term1_num/term1_denom\n",
    "        }\n",
    "\n",
    "    for(k in 1:nrow(centroids)){ #term 2- for each source reef in the whole Camotes system, expected assigned at each destination reef\n",
    "        \n",
    "        term2_num <- (1-(1-prop_samp_vec[i,t== time_period])^2)*pop_size_vec[i]*BioPhysMat[i,j,t]\n",
    "            \n",
    "            for(a in 1:nrow(centroids)){ #for all reefs total in the whole Camotes system, denominator of term 2\n",
    "                \n",
    "                value_a <-  pop_size_vec[a]*BioPhysMat[a, j, t]\n",
    "                term2_denom <- sum(value_a)\n",
    "            }\n",
    "        \n",
    "        term2 = term2_num/term2_denom\n",
    "        \n",
    "        }\n",
    "        \n",
    "    \n",
    "\n",
    "prob_unsampled <- dest_unassigned*log(term1)  \n",
    "prob_sampled <- dest_assigned*log(term2)\n",
    "ll = prob_unsampled + prob_sampled\n",
    "}"
   ]
  },
  {
   "cell_type": "code",
   "execution_count": null,
   "metadata": {},
   "outputs": [],
   "source": []
  },
  {
   "cell_type": "code",
   "execution_count": null,
   "metadata": {},
   "outputs": [],
   "source": []
  },
  {
   "cell_type": "code",
   "execution_count": null,
   "metadata": {},
   "outputs": [],
   "source": []
  },
  {
   "cell_type": "code",
   "execution_count": null,
   "metadata": {},
   "outputs": [],
   "source": []
  },
  {
   "cell_type": "code",
   "execution_count": null,
   "metadata": {},
   "outputs": [],
   "source": []
  },
  {
   "cell_type": "code",
   "execution_count": null,
   "metadata": {},
   "outputs": [],
   "source": [
    "\n",
    "for(i in 1:NumSampledReefs){\n",
    "   This_SS_A = Adult_sample_proportions[i]#same\n",
    "   for(j in 1:NumSampledReefs){\n",
    "    SettlersFromAssignedReefs = Settlers[Sampled_reefs[i],Sampled_reefs[j]]#same\n",
    "    #Not all settlers from assigned reefs will be assigned, because not all adults were sampled\n",
    "    AssignedSettlers[i,j] = SettlersFromAssignedReefs*(This_SS_A^2 + 2*This_SS_A*(1 - This_SS_A))\n",
    "    AssignedSettlers[NumSampledReefs+1,j] = AssignedSettlers[NumSampledReefs+1,j] + SettlersFromAssignedReefs*(1-This_SS_A)^2 #The three dots '...' tell matlab that the code on a given line continues on the next line.\n",
    "   }\n",
    "}\n",
    "Unsampled = as.matrix(setdiff(1:NumReefs,Sampled_reefs))\n",
    "\n",
    "\n",
    "for(j in 1:NumSampledReefs){\n",
    "   AssignedSettlers[NumSampledReefs+1,j] = AssignedSettlers[NumSampledReefs+1,j] + sum(Settlers[Unsampled,Sampled_reefs[,j]]) \n",
    "}\n",
    "   \n",
    "\n"
   ]
  },
  {
   "cell_type": "code",
   "execution_count": null,
   "metadata": {},
   "outputs": [],
   "source": []
  },
  {
   "cell_type": "code",
   "execution_count": null,
   "metadata": {},
   "outputs": [],
   "source": []
  },
  {
   "cell_type": "code",
   "execution_count": null,
   "metadata": {},
   "outputs": [],
   "source": []
  },
  {
   "cell_type": "code",
   "execution_count": null,
   "metadata": {},
   "outputs": [],
   "source": []
  },
  {
   "cell_type": "code",
   "execution_count": null,
   "metadata": {},
   "outputs": [],
   "source": []
  },
  {
   "cell_type": "code",
   "execution_count": null,
   "metadata": {},
   "outputs": [],
   "source": []
  },
  {
   "cell_type": "code",
   "execution_count": null,
   "metadata": {},
   "outputs": [],
   "source": []
  },
  {
   "cell_type": "markdown",
   "metadata": {},
   "source": [
    "__Loop through sampling different proportions of other and CAI source particles and compare the unassigned proportions of total sample particles to the genetic observations from survey data__"
   ]
  },
  {
   "cell_type": "code",
   "execution_count": 48,
   "metadata": {},
   "outputs": [
    {
     "data": {
      "text/html": [
       "<table>\n",
       "<thead><tr><th scope=col>Year</th><th scope=col>NumParentageMatches</th><th scope=col>NumOffsSampled</th><th scope=col>PropAssigned</th></tr></thead>\n",
       "<tbody>\n",
       "\t<tr><td>2012      </td><td> 3        </td><td> 63       </td><td>0.04760000</td></tr>\n",
       "\t<tr><td>2013      </td><td>21        </td><td>150       </td><td>0.14000000</td></tr>\n",
       "\t<tr><td>2014      </td><td>13        </td><td>181       </td><td>0.07180000</td></tr>\n",
       "\t<tr><td>2012-4    </td><td>37        </td><td>394       </td><td>0.04761905</td></tr>\n",
       "</tbody>\n",
       "</table>\n"
      ],
      "text/latex": [
       "\\begin{tabular}{r|llll}\n",
       " Year & NumParentageMatches & NumOffsSampled & PropAssigned\\\\\n",
       "\\hline\n",
       "\t 2012       &  3         &  63        & 0.04760000\\\\\n",
       "\t 2013       & 21         & 150        & 0.14000000\\\\\n",
       "\t 2014       & 13         & 181        & 0.07180000\\\\\n",
       "\t 2012-4     & 37         & 394        & 0.04761905\\\\\n",
       "\\end{tabular}\n"
      ],
      "text/markdown": [
       "\n",
       "| Year | NumParentageMatches | NumOffsSampled | PropAssigned |\n",
       "|---|---|---|---|\n",
       "| 2012       |  3         |  63        | 0.04760000 |\n",
       "| 2013       | 21         | 150        | 0.14000000 |\n",
       "| 2014       | 13         | 181        | 0.07180000 |\n",
       "| 2012-4     | 37         | 394        | 0.04761905 |\n",
       "\n"
      ],
      "text/plain": [
       "  Year   NumParentageMatches NumOffsSampled PropAssigned\n",
       "1 2012    3                   63            0.04760000  \n",
       "2 2013   21                  150            0.14000000  \n",
       "3 2014   13                  181            0.07180000  \n",
       "4 2012-4 37                  394            0.04761905  "
      ]
     },
     "metadata": {},
     "output_type": "display_data"
    }
   ],
   "source": [
    "PropAssignedTable <- rbind(kernels[Year %in% c(\"2012\", \"2013\", \"2014\")][\n",
    "    , PropAssigned := PercentAssigned/100][ #change to proportion note percent\n",
    "    , c(\"Year\", \"NumParentageMatches\", \"NumOffsSampled\", \"PropAssigned\")],                      \n",
    "    unique(kernels[Year %in% c(\"2012\", \"2013\", \"2014\")][ #only the years coinciding with the models\n",
    "    , `:=` (NumParentageMatches=sum(NumParentageMatches), NumOffsSampled=sum(NumOffsSampled), PropAssigned = NumParentageMatches/NumOffsSampled, Year = \"2012-4\")][ #summarise across the 3 years\n",
    "    , c(\"Year\",\"NumParentageMatches\", \"NumOffsSampled\", \"PropAssigned\")], by=\"Year\"))\n",
    "    \n",
    "\n",
    "PropAssignedTable[]\n",
    "\n",
    "#add in the average sampled proportion of anemones\n",
    "AvgPropSamp <- SurveyData[PropAnemSamp >0, .(PropAnemSamp = mean(PropAnemSamp)), by=\"year\"][ #average for each site we sampled, how well we sampled\n",
    "    year %in% c(\"2012\", \"2013\", \"2014\")][\n",
    "    , year :=as.character(year)]\n",
    "\n",
    "ExpectedPropAssigned <- AvgPropSamp[PropAssignedTable, on=.(year=Year)]\n",
    "ExpectedPropAssigned$PropAnemSamp[is.na(ExpectedPropAssigned$PropAnemSamp)] <- mean(ExpectedPropAssigned$PropAnemSamp, na.rm = T) #replace the 2012-4 NA with the average from the 3 years\n",
    "\n",
    "#what's the normalized self recruitment proportion back to the population\n",
    "ExpectedPropAssigned[, ExpAssigned := NumParentageMatches/(NumOffsSampled*PropAnemSamp)][] #this is the expected assignment for the whole surveyed population if we had sampled all adults (which we kind of do when we use the simulation results)\n",
    "#at some point... maybe it would be better to compare on a site to site level? idk that's pretty fine scale, I don't know that our ROMS model can be expected to compare so well with that"
   ]
  },
  {
   "cell_type": "code",
   "execution_count": 52,
   "metadata": {},
   "outputs": [
    {
     "data": {
      "text/html": [
       "<table>\n",
       "<thead><tr><th scope=col>year</th><th scope=col>PropAnemSamp</th><th scope=col>NumParentageMatches</th><th scope=col>NumOffsSampled</th><th scope=col>PropAssigned</th><th scope=col>ExpAssigned</th></tr></thead>\n",
       "<tbody>\n",
       "\t<tr><td>2012      </td><td>0.6566669 </td><td> 3        </td><td> 63       </td><td>0.04760000</td><td>0.07251629</td></tr>\n",
       "\t<tr><td>2013      </td><td>0.5793625 </td><td>21        </td><td>150       </td><td>0.14000000</td><td>0.24164492</td></tr>\n",
       "\t<tr><td>2014      </td><td>0.5714427 </td><td>13        </td><td>181       </td><td>0.07180000</td><td>0.12568749</td></tr>\n",
       "\t<tr><td>2012-4    </td><td>0.6024907 </td><td>37        </td><td>394       </td><td>0.04761905</td><td>0.15586735</td></tr>\n",
       "</tbody>\n",
       "</table>\n"
      ],
      "text/latex": [
       "\\begin{tabular}{r|llllll}\n",
       " year & PropAnemSamp & NumParentageMatches & NumOffsSampled & PropAssigned & ExpAssigned\\\\\n",
       "\\hline\n",
       "\t 2012       & 0.6566669  &  3         &  63        & 0.04760000 & 0.07251629\\\\\n",
       "\t 2013       & 0.5793625  & 21         & 150        & 0.14000000 & 0.24164492\\\\\n",
       "\t 2014       & 0.5714427  & 13         & 181        & 0.07180000 & 0.12568749\\\\\n",
       "\t 2012-4     & 0.6024907  & 37         & 394        & 0.04761905 & 0.15586735\\\\\n",
       "\\end{tabular}\n"
      ],
      "text/markdown": [
       "\n",
       "| year | PropAnemSamp | NumParentageMatches | NumOffsSampled | PropAssigned | ExpAssigned |\n",
       "|---|---|---|---|---|---|\n",
       "| 2012       | 0.6566669  |  3         |  63        | 0.04760000 | 0.07251629 |\n",
       "| 2013       | 0.5793625  | 21         | 150        | 0.14000000 | 0.24164492 |\n",
       "| 2014       | 0.5714427  | 13         | 181        | 0.07180000 | 0.12568749 |\n",
       "| 2012-4     | 0.6024907  | 37         | 394        | 0.04761905 | 0.15586735 |\n",
       "\n"
      ],
      "text/plain": [
       "  year   PropAnemSamp NumParentageMatches NumOffsSampled PropAssigned\n",
       "1 2012   0.6566669     3                   63            0.04760000  \n",
       "2 2013   0.5793625    21                  150            0.14000000  \n",
       "3 2014   0.5714427    13                  181            0.07180000  \n",
       "4 2012-4 0.6024907    37                  394            0.04761905  \n",
       "  ExpAssigned\n",
       "1 0.07251629 \n",
       "2 0.24164492 \n",
       "3 0.12568749 \n",
       "4 0.15586735 "
      ]
     },
     "metadata": {},
     "output_type": "display_data"
    }
   ],
   "source": []
  },
  {
   "cell_type": "raw",
   "metadata": {},
   "source": []
  },
  {
   "cell_type": "code",
   "execution_count": null,
   "metadata": {},
   "outputs": [],
   "source": []
  },
  {
   "cell_type": "markdown",
   "metadata": {},
   "source": [
    "__For the expected values of recruits from outside of our sampled region, I'm using the intermediate \"PredictedProportions\" matrix from the Bode kernel fitting script (https://github.com/MikeBode/Parentage_kernel_fitting/blob/master/Kernel_Fitting_Function.m) because it accounts for how well sites were sampled when estimating proportions of recruits from unsampled sites__"
   ]
  },
  {
   "cell_type": "code",
   "execution_count": 55,
   "metadata": {},
   "outputs": [],
   "source": [
    "#####outside of the loop*****\n",
    "\n",
    "PropSampTable <- SurveyData[PropAnemSamp >0, c(\"year\", \"site\")]\n",
    "\n",
    "#make sure all sampled sites are represented by joining the survey data to the sampled simulation\n",
    "PropSampTable <- rbind(SurveyData[PropAnemSamp >0 & year %in% c(2012, 2013, 2014), c(\"year\", \"site\")][, .(Source=site, Dest=site, Year=year)][ #will join to the simulated sampling table by source and dest, so make those each a column from site and preserve the year variable as a key\n",
    "    , c(\"Year\", \"Source\", \"Dest\")][, Monsoon := \"NEM\"], SurveyData[PropAnemSamp >0 & year %in% c(2012, 2013, 2014), c(\"year\", \"site\")][, .(Source=site, Dest=site, Year=year)][ #will join to the simulated sampling table by source and dest, so make those each a column from site and preserve the year variable as a key\n",
    "    , c(\"Year\", \"Source\", \"Dest\")][, Monsoon := \"SWM\"])\n",
    "#unq_survey <- unique(PropSampTable, by=c(\"Source\", \"Dest\", \"Year\", \"Monsoon\"))#, unique(PropSampTable, by=c(\"Source\", \"Dest\", \"Year\"))[, Monsoon := \"SWM\"]) #add in the diff Monsoon seasons so there are complete parentage matrices later\n",
    "#add_dest <- rbind(SurveyData[year %in% c(2012, 2013, 2014) & PropAnemSamp >0][, c(\"year\", \"site\")][, Monsoon := \"NEM\"], SurveyData[year %in% c(2012, 2013, 2014) & PropAnemSamp >0][, c(\"year\", \"site\")][, Monsoon := \"SWM\"])  #what destinations were sampled, for use with unassigned table\n",
    "\n",
    "###outside of the loop\n",
    "PropToEval <- seq(0.1, 1, 0.1) #make a vector of proportions to sample iterativaley and compare\n",
    "#empty table to hold results\n",
    "PropSampOtherCAI <- data.table(TimeScale=character(), TimeID=character(), PropUnassigned=numeric(), ExpUnassigned=numeric(),  PropSampEval=numeric(), Check1=character(), Check2=character(), NrowSimConn=numeric())\n",
    "\n"
   ]
  },
  {
   "cell_type": "code",
   "execution_count": 59,
   "metadata": {},
   "outputs": [
    {
     "name": "stdout",
     "output_type": "stream",
     "text": [
      "  |======================================================================| 100%\n"
     ]
    },
    {
     "data": {
      "text/plain": [
       "Time difference of 1.066185 mins"
      ]
     },
     "metadata": {},
     "output_type": "display_data"
    }
   ],
   "source": [
    "pb <- txtProgressBar(min = 0, max =length(PropToEval), style = 3)\n",
    "\n",
    "StartTime <- Sys.time()\n",
    "\n",
    "for(i in 1:length(PropToEval)){\n",
    "\n",
    "PropSampOtherCAI_int <- data.table(TimeScale=character(), TimeID=character(), PropUnassigned=numeric(), ExpUnassigned=numeric(),  PropSampEval=numeric(), Check1=character(), Check2=character(), NrowSimConn=numeric())[1:4]\n",
    "\n",
    "dest_sampled <- date_join[DestPropSamp >0]\n",
    "check1 <- nrow(dest_sampled)\n",
    "dest_sampled <- dest_sampled[c(dest_sampled[, .I[Source != \"Other\"]], sample(dest_sampled[, .I[Source == \"Other\"]], length(dest_sampled[, .I[Source == \"Other\"]])*PropToEval[i]))]\n",
    "check2 <- nrow(dest_sampled)\n",
    "dest_sampled <- dest_sampled[c(dest_sampled[, .I[Source != \"CAI\"]], sample(dest_sampled[, .I[Source == \"CAI\"]], length(dest_sampled[, .I[Source == \"CAI\"]])*PropToEval[i]))]\n",
    "check3 <- nrow(dest_sampled)\n",
    "\n",
    "#check that we have less rows, should both be TRUE\n",
    "test1 <- check1 > check2\n",
    "test2 <- check2 > check3\n",
    "#check1 > check2\n",
    "#check2 > check3\n",
    "\n",
    "\n",
    "#join in the number of parentage matches observed by year\n",
    "dest_sampled <- kernels[Year %in% c(\"2012\", \"2013\", \"2014\")][, Year:=as.integer(Year)][,c(\"Year\", \"NumParentageMatches\")][dest_sampled, on=.(Year=YearSampled)]#[\n",
    "\n",
    "#randomly subsample the sampled particle data\n",
    "sim_sample <- dest_sampled[, .SD[sample(.N, DestNOffsAnnual, prob=SurvWeight)], by = c(\"Year\", \"Dest\")] #randomly sample rows (particles) from the table according to the survival weighting, based on the number we sampled at each site in each year of surveys\n",
    "\n",
    "PropUnassignedByYear <- (sim_sample[Source == \"CAI\"| Source == \"Other\", .(.N), by=\"Year\"][, N]/#total particales sampled from other/CAI sources\n",
    "sim_sample[, .(.N), by=\"Year\"][, N]) #total particles sampled\n",
    "\n",
    "PropSampOtherCAI_int$TimeScale[1] <- \"annual\"\n",
    "PropSampOtherCAI_int$TimeID[1] <- \"2012\"\n",
    "PropSampOtherCAI_int$PropUnassigned[1] <- PropUnassignedByYear[1]\n",
    "PropSampOtherCAI_int$ExpUnassigned[1] <- 1-(ExpectedPropAssigned[1, ExpAssigned])\n",
    "PropSampOtherCAI_int$PropSampEval[1] <- PropToEval[i]\n",
    "PropSampOtherCAI_int$Check1[1] <- test1\n",
    "PropSampOtherCAI_int$Check2[1] <- test2\n",
    "PropSampOtherCAI_int$NrowSimConn[1] <- nrow(dest_sampled)\n",
    "    \n",
    "PropSampOtherCAI_int$TimeScale[2] <- \"annual\"\n",
    "PropSampOtherCAI_int$TimeID[2] <- \"2013\"\n",
    "PropSampOtherCAI_int$PropUnassigned[2] <- PropUnassignedByYear[2]\n",
    "PropSampOtherCAI_int$ExpUnassigned[2] <- 1-(ExpectedPropAssigned[2, ExpAssigned])\n",
    "PropSampOtherCAI_int$PropSampEval[2] <- PropToEval[i]\n",
    "PropSampOtherCAI_int$Check1[2] <- test1\n",
    "PropSampOtherCAI_int$Check2[2] <- test2\n",
    "PropSampOtherCAI_int$NrowSimConn[2] <- nrow(dest_sampled)\n",
    "    \n",
    "PropSampOtherCAI_int$TimeScale[3] <- \"annual\"\n",
    "PropSampOtherCAI_int$TimeID[3] <- \"2014\"\n",
    "PropSampOtherCAI_int$PropUnassigned[3] <- PropUnassignedByYear[3]\n",
    "PropSampOtherCAI_int$ExpUnassigned[3] <- 1-(ExpectedPropAssigned[3, ExpAssigned])\n",
    "PropSampOtherCAI_int$PropSampEval[3] <- PropToEval[i]\n",
    "PropSampOtherCAI_int$Check1[3] <- test1\n",
    "PropSampOtherCAI_int$Check2[3] <- test2\n",
    "PropSampOtherCAI_int$NrowSimConn[3] <- nrow(dest_sampled)\n",
    "    \n",
    "PropSampOtherCAI_int$TimeScale[4] <- \"interannual\"\n",
    "PropSampOtherCAI_int$TimeID[4] <- \"2012_4\"\n",
    "PropSampOtherCAI_int$PropUnassigned[4] <- nrow(sim_sample[Source == \"CAI\"| Source == \"Other\"])/nrow(sim_sample)\n",
    "PropSampOtherCAI_int$ExpUnassigned[4] <- 1-(ExpectedPropAssigned[4, ExpAssigned])\n",
    "PropSampOtherCAI_int$PropSampEval[4] <- PropToEval[i]\n",
    "PropSampOtherCAI_int$Check1[4] <- test1\n",
    "PropSampOtherCAI_int$Check2[4] <- test2\n",
    "PropSampOtherCAI_int$NrowSimConn[4] <- nrow(dest_sampled)\n",
    "\n",
    "l <- list(PropSampOtherCAI, PropSampOtherCAI_int)\n",
    "PropSampOtherCAI <- rbindlist(l, use.names = TRUE, fill=TRUE, idcol = FALSE)\n",
    "setTxtProgressBar(pb, i)\n",
    "    \n",
    "}\n",
    "\n",
    "close(pb)\n",
    "EndTime <- Sys.time()\n",
    "EndTime-StartTime\n",
    "\n",
    "fwrite(PropSampOtherCAI, file=\"~/oceanography/script_output/SimulationSummaryTables/PropSampOtherCAIEvaluation.csv\")\n"
   ]
  },
  {
   "cell_type": "code",
   "execution_count": 58,
   "metadata": {},
   "outputs": [
    {
     "data": {
      "text/html": [
       "<table>\n",
       "<thead><tr><th scope=col>TimeScale</th><th scope=col>TimeID</th><th scope=col>PropUnassigned</th><th scope=col>ExpUnassigned</th><th scope=col>PropSampEval</th><th scope=col>Check1</th><th scope=col>Check2</th><th scope=col>NrowSimConn</th></tr></thead>\n",
       "<tbody>\n",
       "\t<tr><td>annual     </td><td>2013       </td><td>0.6666667  </td><td>0.7583551  </td><td>0.9        </td><td>TRUE       </td><td>TRUE       </td><td>579512     </td></tr>\n",
       "\t<tr><td>annual     </td><td>2013       </td><td>0.6666667  </td><td>0.7583551  </td><td>1.0        </td><td>FALSE      </td><td>FALSE      </td><td>610419     </td></tr>\n",
       "\t<tr><td>annual     </td><td>2012       </td><td>0.6507937  </td><td>0.9274837  </td><td>0.8        </td><td>TRUE       </td><td>TRUE       </td><td>548606     </td></tr>\n",
       "\t<tr><td>annual     </td><td>2014       </td><td>0.6464088  </td><td>0.8743125  </td><td>0.9        </td><td>TRUE       </td><td>TRUE       </td><td>579512     </td></tr>\n",
       "\t<tr><td>interannual</td><td>2012_4     </td><td>0.6395939  </td><td>0.8441326  </td><td>0.9        </td><td>TRUE       </td><td>TRUE       </td><td>579512     </td></tr>\n",
       "\t<tr><td>annual     </td><td>2014       </td><td>0.6353591  </td><td>0.8743125  </td><td>0.8        </td><td>TRUE       </td><td>TRUE       </td><td>548606     </td></tr>\n",
       "\t<tr><td>interannual</td><td>2012_4     </td><td>0.6294416  </td><td>0.8441326  </td><td>1.0        </td><td>FALSE      </td><td>FALSE      </td><td>610419     </td></tr>\n",
       "\t<tr><td>interannual</td><td>2012_4     </td><td>0.6269036  </td><td>0.8441326  </td><td>0.8        </td><td>TRUE       </td><td>TRUE       </td><td>548606     </td></tr>\n",
       "\t<tr><td>annual     </td><td>2014       </td><td>0.6187845  </td><td>0.8743125  </td><td>1.0        </td><td>FALSE      </td><td>FALSE      </td><td>610419     </td></tr>\n",
       "\t<tr><td>annual     </td><td>2013       </td><td>0.6066667  </td><td>0.7583551  </td><td>0.8        </td><td>TRUE       </td><td>TRUE       </td><td>548606     </td></tr>\n",
       "\t<tr><td>annual     </td><td>2013       </td><td>0.5933333  </td><td>0.7583551  </td><td>0.6        </td><td>TRUE       </td><td>TRUE       </td><td>486794     </td></tr>\n",
       "\t<tr><td>annual     </td><td>2013       </td><td>0.5866667  </td><td>0.7583551  </td><td>0.7        </td><td>TRUE       </td><td>TRUE       </td><td>517700     </td></tr>\n",
       "\t<tr><td>annual     </td><td>2012       </td><td>0.5714286  </td><td>0.9274837  </td><td>1.0        </td><td>FALSE      </td><td>FALSE      </td><td>610419     </td></tr>\n",
       "\t<tr><td>annual     </td><td>2013       </td><td>0.5666667  </td><td>0.7583551  </td><td>0.4        </td><td>TRUE       </td><td>TRUE       </td><td>424982     </td></tr>\n",
       "\t<tr><td>annual     </td><td>2012       </td><td>0.5555556  </td><td>0.9274837  </td><td>0.9        </td><td>TRUE       </td><td>TRUE       </td><td>579512     </td></tr>\n",
       "\t<tr><td>interannual</td><td>2012_4     </td><td>0.5431472  </td><td>0.8441326  </td><td>0.7        </td><td>TRUE       </td><td>TRUE       </td><td>517700     </td></tr>\n",
       "\t<tr><td>interannual</td><td>2012_4     </td><td>0.5406091  </td><td>0.8441326  </td><td>0.6        </td><td>TRUE       </td><td>TRUE       </td><td>486794     </td></tr>\n",
       "\t<tr><td>annual     </td><td>2013       </td><td>0.5400000  </td><td>0.7583551  </td><td>0.3        </td><td>TRUE       </td><td>TRUE       </td><td>394076     </td></tr>\n",
       "\t<tr><td>annual     </td><td>2013       </td><td>0.5266667  </td><td>0.7583551  </td><td>0.5        </td><td>TRUE       </td><td>TRUE       </td><td>455889     </td></tr>\n",
       "\t<tr><td>annual     </td><td>2012       </td><td>0.5238095  </td><td>0.9274837  </td><td>0.6        </td><td>TRUE       </td><td>TRUE       </td><td>486794     </td></tr>\n",
       "\t<tr><td>annual     </td><td>2014       </td><td>0.5193370  </td><td>0.8743125  </td><td>0.7        </td><td>TRUE       </td><td>TRUE       </td><td>517700     </td></tr>\n",
       "\t<tr><td>annual     </td><td>2012       </td><td>0.5079365  </td><td>0.9274837  </td><td>0.7        </td><td>TRUE       </td><td>TRUE       </td><td>517700     </td></tr>\n",
       "\t<tr><td>annual     </td><td>2014       </td><td>0.5027624  </td><td>0.8743125  </td><td>0.6        </td><td>TRUE       </td><td>TRUE       </td><td>486794     </td></tr>\n",
       "\t<tr><td>interannual</td><td>2012_4     </td><td>0.4898477  </td><td>0.8441326  </td><td>0.4        </td><td>TRUE       </td><td>TRUE       </td><td>424982     </td></tr>\n",
       "\t<tr><td>interannual</td><td>2012_4     </td><td>0.4847716  </td><td>0.8441326  </td><td>0.5        </td><td>TRUE       </td><td>TRUE       </td><td>455889     </td></tr>\n",
       "\t<tr><td>annual     </td><td>2012       </td><td>0.4603175  </td><td>0.9274837  </td><td>0.4        </td><td>TRUE       </td><td>TRUE       </td><td>424982     </td></tr>\n",
       "\t<tr><td>annual     </td><td>2012       </td><td>0.4603175  </td><td>0.9274837  </td><td>0.5        </td><td>TRUE       </td><td>TRUE       </td><td>455889     </td></tr>\n",
       "\t<tr><td>annual     </td><td>2014       </td><td>0.4585635  </td><td>0.8743125  </td><td>0.5        </td><td>TRUE       </td><td>TRUE       </td><td>455889     </td></tr>\n",
       "\t<tr><td>interannual</td><td>2012_4     </td><td>0.4467005  </td><td>0.8441326  </td><td>0.3        </td><td>TRUE       </td><td>TRUE       </td><td>394076     </td></tr>\n",
       "\t<tr><td>annual     </td><td>2014       </td><td>0.4364641  </td><td>0.8743125  </td><td>0.4        </td><td>TRUE       </td><td>TRUE       </td><td>424982     </td></tr>\n",
       "\t<tr><td>annual     </td><td>2012       </td><td>0.4126984  </td><td>0.9274837  </td><td>0.3        </td><td>TRUE       </td><td>TRUE       </td><td>394076     </td></tr>\n",
       "\t<tr><td>annual     </td><td>2014       </td><td>0.3812155  </td><td>0.8743125  </td><td>0.3        </td><td>TRUE       </td><td>TRUE       </td><td>394076     </td></tr>\n",
       "\t<tr><td>annual     </td><td>2013       </td><td>0.3666667  </td><td>0.7583551  </td><td>0.2        </td><td>TRUE       </td><td>TRUE       </td><td>363170     </td></tr>\n",
       "\t<tr><td>annual     </td><td>2012       </td><td>0.3650794  </td><td>0.9274837  </td><td>0.2        </td><td>TRUE       </td><td>TRUE       </td><td>363170     </td></tr>\n",
       "\t<tr><td>interannual</td><td>2012_4     </td><td>0.3197970  </td><td>0.8441326  </td><td>0.2        </td><td>TRUE       </td><td>TRUE       </td><td>363170     </td></tr>\n",
       "\t<tr><td>annual     </td><td>2014       </td><td>0.2651934  </td><td>0.8743125  </td><td>0.2        </td><td>TRUE       </td><td>TRUE       </td><td>363170     </td></tr>\n",
       "\t<tr><td>annual     </td><td>2013       </td><td>0.2400000  </td><td>0.7583551  </td><td>0.1        </td><td>TRUE       </td><td>TRUE       </td><td>332264     </td></tr>\n",
       "\t<tr><td>interannual</td><td>2012_4     </td><td>0.2081218  </td><td>0.8441326  </td><td>0.1        </td><td>TRUE       </td><td>TRUE       </td><td>332264     </td></tr>\n",
       "\t<tr><td>annual     </td><td>2014       </td><td>0.1933702  </td><td>0.8743125  </td><td>0.1        </td><td>TRUE       </td><td>TRUE       </td><td>332264     </td></tr>\n",
       "\t<tr><td>annual     </td><td>2012       </td><td>0.1746032  </td><td>0.9274837  </td><td>0.1        </td><td>TRUE       </td><td>TRUE       </td><td>332264     </td></tr>\n",
       "</tbody>\n",
       "</table>\n"
      ],
      "text/latex": [
       "\\begin{tabular}{r|llllllll}\n",
       " TimeScale & TimeID & PropUnassigned & ExpUnassigned & PropSampEval & Check1 & Check2 & NrowSimConn\\\\\n",
       "\\hline\n",
       "\t annual      & 2013        & 0.6666667   & 0.7583551   & 0.9         & TRUE        & TRUE        & 579512     \\\\\n",
       "\t annual      & 2013        & 0.6666667   & 0.7583551   & 1.0         & FALSE       & FALSE       & 610419     \\\\\n",
       "\t annual      & 2012        & 0.6507937   & 0.9274837   & 0.8         & TRUE        & TRUE        & 548606     \\\\\n",
       "\t annual      & 2014        & 0.6464088   & 0.8743125   & 0.9         & TRUE        & TRUE        & 579512     \\\\\n",
       "\t interannual & 2012\\_4    & 0.6395939   & 0.8441326   & 0.9         & TRUE        & TRUE        & 579512     \\\\\n",
       "\t annual      & 2014        & 0.6353591   & 0.8743125   & 0.8         & TRUE        & TRUE        & 548606     \\\\\n",
       "\t interannual & 2012\\_4    & 0.6294416   & 0.8441326   & 1.0         & FALSE       & FALSE       & 610419     \\\\\n",
       "\t interannual & 2012\\_4    & 0.6269036   & 0.8441326   & 0.8         & TRUE        & TRUE        & 548606     \\\\\n",
       "\t annual      & 2014        & 0.6187845   & 0.8743125   & 1.0         & FALSE       & FALSE       & 610419     \\\\\n",
       "\t annual      & 2013        & 0.6066667   & 0.7583551   & 0.8         & TRUE        & TRUE        & 548606     \\\\\n",
       "\t annual      & 2013        & 0.5933333   & 0.7583551   & 0.6         & TRUE        & TRUE        & 486794     \\\\\n",
       "\t annual      & 2013        & 0.5866667   & 0.7583551   & 0.7         & TRUE        & TRUE        & 517700     \\\\\n",
       "\t annual      & 2012        & 0.5714286   & 0.9274837   & 1.0         & FALSE       & FALSE       & 610419     \\\\\n",
       "\t annual      & 2013        & 0.5666667   & 0.7583551   & 0.4         & TRUE        & TRUE        & 424982     \\\\\n",
       "\t annual      & 2012        & 0.5555556   & 0.9274837   & 0.9         & TRUE        & TRUE        & 579512     \\\\\n",
       "\t interannual & 2012\\_4    & 0.5431472   & 0.8441326   & 0.7         & TRUE        & TRUE        & 517700     \\\\\n",
       "\t interannual & 2012\\_4    & 0.5406091   & 0.8441326   & 0.6         & TRUE        & TRUE        & 486794     \\\\\n",
       "\t annual      & 2013        & 0.5400000   & 0.7583551   & 0.3         & TRUE        & TRUE        & 394076     \\\\\n",
       "\t annual      & 2013        & 0.5266667   & 0.7583551   & 0.5         & TRUE        & TRUE        & 455889     \\\\\n",
       "\t annual      & 2012        & 0.5238095   & 0.9274837   & 0.6         & TRUE        & TRUE        & 486794     \\\\\n",
       "\t annual      & 2014        & 0.5193370   & 0.8743125   & 0.7         & TRUE        & TRUE        & 517700     \\\\\n",
       "\t annual      & 2012        & 0.5079365   & 0.9274837   & 0.7         & TRUE        & TRUE        & 517700     \\\\\n",
       "\t annual      & 2014        & 0.5027624   & 0.8743125   & 0.6         & TRUE        & TRUE        & 486794     \\\\\n",
       "\t interannual & 2012\\_4    & 0.4898477   & 0.8441326   & 0.4         & TRUE        & TRUE        & 424982     \\\\\n",
       "\t interannual & 2012\\_4    & 0.4847716   & 0.8441326   & 0.5         & TRUE        & TRUE        & 455889     \\\\\n",
       "\t annual      & 2012        & 0.4603175   & 0.9274837   & 0.4         & TRUE        & TRUE        & 424982     \\\\\n",
       "\t annual      & 2012        & 0.4603175   & 0.9274837   & 0.5         & TRUE        & TRUE        & 455889     \\\\\n",
       "\t annual      & 2014        & 0.4585635   & 0.8743125   & 0.5         & TRUE        & TRUE        & 455889     \\\\\n",
       "\t interannual & 2012\\_4    & 0.4467005   & 0.8441326   & 0.3         & TRUE        & TRUE        & 394076     \\\\\n",
       "\t annual      & 2014        & 0.4364641   & 0.8743125   & 0.4         & TRUE        & TRUE        & 424982     \\\\\n",
       "\t annual      & 2012        & 0.4126984   & 0.9274837   & 0.3         & TRUE        & TRUE        & 394076     \\\\\n",
       "\t annual      & 2014        & 0.3812155   & 0.8743125   & 0.3         & TRUE        & TRUE        & 394076     \\\\\n",
       "\t annual      & 2013        & 0.3666667   & 0.7583551   & 0.2         & TRUE        & TRUE        & 363170     \\\\\n",
       "\t annual      & 2012        & 0.3650794   & 0.9274837   & 0.2         & TRUE        & TRUE        & 363170     \\\\\n",
       "\t interannual & 2012\\_4    & 0.3197970   & 0.8441326   & 0.2         & TRUE        & TRUE        & 363170     \\\\\n",
       "\t annual      & 2014        & 0.2651934   & 0.8743125   & 0.2         & TRUE        & TRUE        & 363170     \\\\\n",
       "\t annual      & 2013        & 0.2400000   & 0.7583551   & 0.1         & TRUE        & TRUE        & 332264     \\\\\n",
       "\t interannual & 2012\\_4    & 0.2081218   & 0.8441326   & 0.1         & TRUE        & TRUE        & 332264     \\\\\n",
       "\t annual      & 2014        & 0.1933702   & 0.8743125   & 0.1         & TRUE        & TRUE        & 332264     \\\\\n",
       "\t annual      & 2012        & 0.1746032   & 0.9274837   & 0.1         & TRUE        & TRUE        & 332264     \\\\\n",
       "\\end{tabular}\n"
      ],
      "text/markdown": [
       "\n",
       "| TimeScale | TimeID | PropUnassigned | ExpUnassigned | PropSampEval | Check1 | Check2 | NrowSimConn |\n",
       "|---|---|---|---|---|---|---|---|\n",
       "| annual      | 2013        | 0.6666667   | 0.7583551   | 0.9         | TRUE        | TRUE        | 579512      |\n",
       "| annual      | 2013        | 0.6666667   | 0.7583551   | 1.0         | FALSE       | FALSE       | 610419      |\n",
       "| annual      | 2012        | 0.6507937   | 0.9274837   | 0.8         | TRUE        | TRUE        | 548606      |\n",
       "| annual      | 2014        | 0.6464088   | 0.8743125   | 0.9         | TRUE        | TRUE        | 579512      |\n",
       "| interannual | 2012_4      | 0.6395939   | 0.8441326   | 0.9         | TRUE        | TRUE        | 579512      |\n",
       "| annual      | 2014        | 0.6353591   | 0.8743125   | 0.8         | TRUE        | TRUE        | 548606      |\n",
       "| interannual | 2012_4      | 0.6294416   | 0.8441326   | 1.0         | FALSE       | FALSE       | 610419      |\n",
       "| interannual | 2012_4      | 0.6269036   | 0.8441326   | 0.8         | TRUE        | TRUE        | 548606      |\n",
       "| annual      | 2014        | 0.6187845   | 0.8743125   | 1.0         | FALSE       | FALSE       | 610419      |\n",
       "| annual      | 2013        | 0.6066667   | 0.7583551   | 0.8         | TRUE        | TRUE        | 548606      |\n",
       "| annual      | 2013        | 0.5933333   | 0.7583551   | 0.6         | TRUE        | TRUE        | 486794      |\n",
       "| annual      | 2013        | 0.5866667   | 0.7583551   | 0.7         | TRUE        | TRUE        | 517700      |\n",
       "| annual      | 2012        | 0.5714286   | 0.9274837   | 1.0         | FALSE       | FALSE       | 610419      |\n",
       "| annual      | 2013        | 0.5666667   | 0.7583551   | 0.4         | TRUE        | TRUE        | 424982      |\n",
       "| annual      | 2012        | 0.5555556   | 0.9274837   | 0.9         | TRUE        | TRUE        | 579512      |\n",
       "| interannual | 2012_4      | 0.5431472   | 0.8441326   | 0.7         | TRUE        | TRUE        | 517700      |\n",
       "| interannual | 2012_4      | 0.5406091   | 0.8441326   | 0.6         | TRUE        | TRUE        | 486794      |\n",
       "| annual      | 2013        | 0.5400000   | 0.7583551   | 0.3         | TRUE        | TRUE        | 394076      |\n",
       "| annual      | 2013        | 0.5266667   | 0.7583551   | 0.5         | TRUE        | TRUE        | 455889      |\n",
       "| annual      | 2012        | 0.5238095   | 0.9274837   | 0.6         | TRUE        | TRUE        | 486794      |\n",
       "| annual      | 2014        | 0.5193370   | 0.8743125   | 0.7         | TRUE        | TRUE        | 517700      |\n",
       "| annual      | 2012        | 0.5079365   | 0.9274837   | 0.7         | TRUE        | TRUE        | 517700      |\n",
       "| annual      | 2014        | 0.5027624   | 0.8743125   | 0.6         | TRUE        | TRUE        | 486794      |\n",
       "| interannual | 2012_4      | 0.4898477   | 0.8441326   | 0.4         | TRUE        | TRUE        | 424982      |\n",
       "| interannual | 2012_4      | 0.4847716   | 0.8441326   | 0.5         | TRUE        | TRUE        | 455889      |\n",
       "| annual      | 2012        | 0.4603175   | 0.9274837   | 0.4         | TRUE        | TRUE        | 424982      |\n",
       "| annual      | 2012        | 0.4603175   | 0.9274837   | 0.5         | TRUE        | TRUE        | 455889      |\n",
       "| annual      | 2014        | 0.4585635   | 0.8743125   | 0.5         | TRUE        | TRUE        | 455889      |\n",
       "| interannual | 2012_4      | 0.4467005   | 0.8441326   | 0.3         | TRUE        | TRUE        | 394076      |\n",
       "| annual      | 2014        | 0.4364641   | 0.8743125   | 0.4         | TRUE        | TRUE        | 424982      |\n",
       "| annual      | 2012        | 0.4126984   | 0.9274837   | 0.3         | TRUE        | TRUE        | 394076      |\n",
       "| annual      | 2014        | 0.3812155   | 0.8743125   | 0.3         | TRUE        | TRUE        | 394076      |\n",
       "| annual      | 2013        | 0.3666667   | 0.7583551   | 0.2         | TRUE        | TRUE        | 363170      |\n",
       "| annual      | 2012        | 0.3650794   | 0.9274837   | 0.2         | TRUE        | TRUE        | 363170      |\n",
       "| interannual | 2012_4      | 0.3197970   | 0.8441326   | 0.2         | TRUE        | TRUE        | 363170      |\n",
       "| annual      | 2014        | 0.2651934   | 0.8743125   | 0.2         | TRUE        | TRUE        | 363170      |\n",
       "| annual      | 2013        | 0.2400000   | 0.7583551   | 0.1         | TRUE        | TRUE        | 332264      |\n",
       "| interannual | 2012_4      | 0.2081218   | 0.8441326   | 0.1         | TRUE        | TRUE        | 332264      |\n",
       "| annual      | 2014        | 0.1933702   | 0.8743125   | 0.1         | TRUE        | TRUE        | 332264      |\n",
       "| annual      | 2012        | 0.1746032   | 0.9274837   | 0.1         | TRUE        | TRUE        | 332264      |\n",
       "\n"
      ],
      "text/plain": [
       "   TimeScale   TimeID PropUnassigned ExpUnassigned PropSampEval Check1 Check2\n",
       "1  annual      2013   0.6666667      0.7583551     0.9          TRUE   TRUE  \n",
       "2  annual      2013   0.6666667      0.7583551     1.0          FALSE  FALSE \n",
       "3  annual      2012   0.6507937      0.9274837     0.8          TRUE   TRUE  \n",
       "4  annual      2014   0.6464088      0.8743125     0.9          TRUE   TRUE  \n",
       "5  interannual 2012_4 0.6395939      0.8441326     0.9          TRUE   TRUE  \n",
       "6  annual      2014   0.6353591      0.8743125     0.8          TRUE   TRUE  \n",
       "7  interannual 2012_4 0.6294416      0.8441326     1.0          FALSE  FALSE \n",
       "8  interannual 2012_4 0.6269036      0.8441326     0.8          TRUE   TRUE  \n",
       "9  annual      2014   0.6187845      0.8743125     1.0          FALSE  FALSE \n",
       "10 annual      2013   0.6066667      0.7583551     0.8          TRUE   TRUE  \n",
       "11 annual      2013   0.5933333      0.7583551     0.6          TRUE   TRUE  \n",
       "12 annual      2013   0.5866667      0.7583551     0.7          TRUE   TRUE  \n",
       "13 annual      2012   0.5714286      0.9274837     1.0          FALSE  FALSE \n",
       "14 annual      2013   0.5666667      0.7583551     0.4          TRUE   TRUE  \n",
       "15 annual      2012   0.5555556      0.9274837     0.9          TRUE   TRUE  \n",
       "16 interannual 2012_4 0.5431472      0.8441326     0.7          TRUE   TRUE  \n",
       "17 interannual 2012_4 0.5406091      0.8441326     0.6          TRUE   TRUE  \n",
       "18 annual      2013   0.5400000      0.7583551     0.3          TRUE   TRUE  \n",
       "19 annual      2013   0.5266667      0.7583551     0.5          TRUE   TRUE  \n",
       "20 annual      2012   0.5238095      0.9274837     0.6          TRUE   TRUE  \n",
       "21 annual      2014   0.5193370      0.8743125     0.7          TRUE   TRUE  \n",
       "22 annual      2012   0.5079365      0.9274837     0.7          TRUE   TRUE  \n",
       "23 annual      2014   0.5027624      0.8743125     0.6          TRUE   TRUE  \n",
       "24 interannual 2012_4 0.4898477      0.8441326     0.4          TRUE   TRUE  \n",
       "25 interannual 2012_4 0.4847716      0.8441326     0.5          TRUE   TRUE  \n",
       "26 annual      2012   0.4603175      0.9274837     0.4          TRUE   TRUE  \n",
       "27 annual      2012   0.4603175      0.9274837     0.5          TRUE   TRUE  \n",
       "28 annual      2014   0.4585635      0.8743125     0.5          TRUE   TRUE  \n",
       "29 interannual 2012_4 0.4467005      0.8441326     0.3          TRUE   TRUE  \n",
       "30 annual      2014   0.4364641      0.8743125     0.4          TRUE   TRUE  \n",
       "31 annual      2012   0.4126984      0.9274837     0.3          TRUE   TRUE  \n",
       "32 annual      2014   0.3812155      0.8743125     0.3          TRUE   TRUE  \n",
       "33 annual      2013   0.3666667      0.7583551     0.2          TRUE   TRUE  \n",
       "34 annual      2012   0.3650794      0.9274837     0.2          TRUE   TRUE  \n",
       "35 interannual 2012_4 0.3197970      0.8441326     0.2          TRUE   TRUE  \n",
       "36 annual      2014   0.2651934      0.8743125     0.2          TRUE   TRUE  \n",
       "37 annual      2013   0.2400000      0.7583551     0.1          TRUE   TRUE  \n",
       "38 interannual 2012_4 0.2081218      0.8441326     0.1          TRUE   TRUE  \n",
       "39 annual      2014   0.1933702      0.8743125     0.1          TRUE   TRUE  \n",
       "40 annual      2012   0.1746032      0.9274837     0.1          TRUE   TRUE  \n",
       "   NrowSimConn\n",
       "1  579512     \n",
       "2  610419     \n",
       "3  548606     \n",
       "4  579512     \n",
       "5  579512     \n",
       "6  548606     \n",
       "7  610419     \n",
       "8  548606     \n",
       "9  610419     \n",
       "10 548606     \n",
       "11 486794     \n",
       "12 517700     \n",
       "13 610419     \n",
       "14 424982     \n",
       "15 579512     \n",
       "16 517700     \n",
       "17 486794     \n",
       "18 394076     \n",
       "19 455889     \n",
       "20 486794     \n",
       "21 517700     \n",
       "22 517700     \n",
       "23 486794     \n",
       "24 424982     \n",
       "25 455889     \n",
       "26 424982     \n",
       "27 455889     \n",
       "28 455889     \n",
       "29 394076     \n",
       "30 424982     \n",
       "31 394076     \n",
       "32 394076     \n",
       "33 363170     \n",
       "34 363170     \n",
       "35 363170     \n",
       "36 363170     \n",
       "37 332264     \n",
       "38 332264     \n",
       "39 332264     \n",
       "40 332264     "
      ]
     },
     "metadata": {},
     "output_type": "display_data"
    }
   ],
   "source": [
    "PropSampOtherCAI[order(-PropUnassigned)]"
   ]
  },
  {
   "cell_type": "markdown",
   "metadata": {},
   "source": [
    "__Seems like good justification to not subsample the ROMS particles from other/Camotes Islands__"
   ]
  },
  {
   "cell_type": "code",
   "execution_count": null,
   "metadata": {},
   "outputs": [],
   "source": []
  },
  {
   "cell_type": "code",
   "execution_count": null,
   "metadata": {},
   "outputs": [],
   "source": []
  },
  {
   "cell_type": "code",
   "execution_count": null,
   "metadata": {},
   "outputs": [],
   "source": []
  },
  {
   "cell_type": "code",
   "execution_count": 136,
   "metadata": {},
   "outputs": [],
   "source": []
  },
  {
   "cell_type": "code",
   "execution_count": null,
   "metadata": {},
   "outputs": [],
   "source": [
    "\n"
   ]
  },
  {
   "cell_type": "code",
   "execution_count": null,
   "metadata": {},
   "outputs": [],
   "source": []
  },
  {
   "cell_type": "code",
   "execution_count": null,
   "metadata": {
    "scrolled": false
   },
   "outputs": [],
   "source": []
  },
  {
   "cell_type": "code",
   "execution_count": null,
   "metadata": {},
   "outputs": [],
   "source": []
  },
  {
   "cell_type": "code",
   "execution_count": 66,
   "metadata": {},
   "outputs": [],
   "source": []
  },
  {
   "cell_type": "code",
   "execution_count": null,
   "metadata": {
    "scrolled": false
   },
   "outputs": [],
   "source": []
  },
  {
   "cell_type": "code",
   "execution_count": null,
   "metadata": {},
   "outputs": [],
   "source": []
  },
  {
   "cell_type": "code",
   "execution_count": null,
   "metadata": {},
   "outputs": [],
   "source": []
  },
  {
   "cell_type": "code",
   "execution_count": null,
   "metadata": {},
   "outputs": [],
   "source": []
  },
  {
   "cell_type": "code",
   "execution_count": 6,
   "metadata": {},
   "outputs": [
    {
     "data": {
      "text/html": [
       "TRUE"
      ],
      "text/latex": [
       "TRUE"
      ],
      "text/markdown": [
       "TRUE"
      ],
      "text/plain": [
       "[1] TRUE"
      ]
     },
     "metadata": {},
     "output_type": "display_data"
    },
    {
     "data": {
      "text/html": [
       "TRUE"
      ],
      "text/latex": [
       "TRUE"
      ],
      "text/markdown": [
       "TRUE"
      ],
      "text/plain": [
       "[1] TRUE"
      ]
     },
     "metadata": {},
     "output_type": "display_data"
    },
    {
     "data": {
      "text/html": [
       "TRUE"
      ],
      "text/latex": [
       "TRUE"
      ],
      "text/markdown": [
       "TRUE"
      ],
      "text/plain": [
       "[1] TRUE"
      ]
     },
     "metadata": {},
     "output_type": "display_data"
    }
   ],
   "source": [
    "\n"
   ]
  },
  {
   "cell_type": "code",
   "execution_count": 10,
   "metadata": {},
   "outputs": [
    {
     "data": {
      "text/html": [
       "363760"
      ],
      "text/latex": [
       "363760"
      ],
      "text/markdown": [
       "363760"
      ],
      "text/plain": [
       "[1] 363760"
      ]
     },
     "metadata": {},
     "output_type": "display_data"
    },
    {
     "data": {
      "text/html": [
       "212861852"
      ],
      "text/latex": [
       "212861852"
      ],
      "text/markdown": [
       "212861852"
      ],
      "text/plain": [
       "[1] 212861852"
      ]
     },
     "metadata": {},
     "output_type": "display_data"
    }
   ],
   "source": [
    "nrow(dest_sampled)\n",
    "nrow(SimConn)"
   ]
  },
  {
   "cell_type": "code",
   "execution_count": 7,
   "metadata": {
    "scrolled": false
   },
   "outputs": [],
   "source": [
    "#save inter file\n",
    "#fwrite(dest_sampled, file=\"~/oceanography/script_output/LongFormConnWithProbsTest.csv\")\n",
    "#see if I can write as a compressed file so it can be stored on github\n",
    "#https://stackoverflow.com/questions/42788401/is-possible-to-use-fwrite-from-data-table-with-gzfile"
   ]
  },
  {
   "cell_type": "code",
   "execution_count": null,
   "metadata": {},
   "outputs": [],
   "source": []
  },
  {
   "cell_type": "code",
   "execution_count": null,
   "metadata": {},
   "outputs": [],
   "source": []
  },
  {
   "cell_type": "code",
   "execution_count": null,
   "metadata": {},
   "outputs": [],
   "source": []
  },
  {
   "cell_type": "code",
   "execution_count": null,
   "metadata": {},
   "outputs": [],
   "source": []
  },
  {
   "cell_type": "code",
   "execution_count": null,
   "metadata": {},
   "outputs": [],
   "source": []
  }
 ],
 "metadata": {
  "kernelspec": {
   "display_name": "R",
   "language": "R",
   "name": "ir"
  },
  "language_info": {
   "codemirror_mode": "r",
   "file_extension": ".r",
   "mimetype": "text/x-r-source",
   "name": "R",
   "pygments_lexer": "r",
   "version": "3.6.1"
  }
 },
 "nbformat": 4,
 "nbformat_minor": 4
}
