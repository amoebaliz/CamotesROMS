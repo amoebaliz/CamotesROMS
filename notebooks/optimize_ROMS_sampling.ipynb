{
 "cells": [
  {
   "cell_type": "code",
   "execution_count": 3,
   "metadata": {},
   "outputs": [],
   "source": [
    "Packages <- c(\"dplyr\",  \"nleqslv\", \"broom\",\"cubature\", \"geosphere\", \"data.table\",  \"ggplot2\", \"bbmle\", \"stringr\",  \"lubridate\", \"RColorBrewer\")\n",
    "\n",
    "invisible(suppressPackageStartupMessages(lapply(Packages, library, character.only = TRUE)))\n",
    "\n",
    "setwd('/local/home/katrinac/oceanography')\n",
    "\"%!in%\" <- function(x,table) match(x,table, nomatch = 0) == 0\n",
    "source(\"~/parentage/kernel_fitting/1340_loci/functions/ll_kt_both_bbmle.R\")\n",
    "#source(\"~/oceanography/scripts/PredictedProportions.R\")\n",
    "\n",
    "#read in the kernel fitting summary\n",
    "kernels <- fread(file=\"~/parentage/kernel_fitting/1340_loci/final_results/tables/kernel_fitting_summary.csv\")\n",
    "kernel2012_14 <- fread(file=\"~/oceanography/empirical_data/genetics/GenKernelsForROMSComp2012-14.csv\")\n",
    "\n",
    "#read in the centroids adjusted for the simulation, so the Magbangons combined \n",
    "#centroids <- fread(file=\"~/oceanography/script_output/SurveyData/SimulationCentroids.csv\")\n",
    "Centroids <- fread(file=\"~/oceanography/empirical_data/site_centroids_SimTest.csv\")\n",
    "setorder(Centroids, site)\n",
    "#read in the table with number of recruits sampled at each site for each year\n",
    "AnnualRecsSamp <- fread(file=\"~/oceanography/script_output/SurveyData/AnnualRecruitsSampled.csv\")\n",
    "#read in the table of the proportion of anemones sampled at each site for each year\n",
    "PropSamp <- fread(file=\"~/oceanography/script_output/SurveyData/ProportionHabitatSampled.csv\")\n",
    "setnames(PropSamp, c(\"PropAnemSamp\", \"TotalAnems\"), c(\"prop_anem_samp\", \"total_anems\"))\n",
    "#read in the ROMS simulation connectivity table with metadata, not yet subsetted (*but check this)\n",
    "#SimConn <- fread(file=\"~/oceanography/script_output/ROMSDataTables/SimConnectivityTableWithMetaLongForm.csv\")\n",
    "\n",
    "#add in the numbers of particles seeded at each site\n",
    "SeededParticles <- fread(\"~/oceanography/ROMS/data/Particles_Per_Release_Site_Renamed.csv\")\n",
    "setnames(SeededParticles,c(\"source\", \"daily_particles_released\")) \n",
    "#DateJoin <- SeededParticles[DateJoin, on=\"source\"][, particles_released_daily := as.numeric(particles_released_daily)] \n",
    "\n",
    "#make vectors defining sites we didn't sample, but that are in the model, and the sandflats specifically \n",
    "unsampled_sites <- c(\"SF1\", \"SF2\", \"SF3\", \"SF4\", \"SF5\", \"SF6\", \"Pangasugan\", \"Other\", \"CAI\") \n",
    "sand_flats <- c(\"SF1\", \"SF2\", \"SF3\", \"SF4\", \"SF5\", \"SF6\") \n",
    "unrealistic_sources <- c(\"SF1\", \"SF2\", \"SF3\", \"SF4\", \"SF5\", \"SF6\", \"Pangasugan\") \n",
    "#make the constant inputs for the kernel fitting function\n",
    "#distance matrix using the centroids with combined Magbangon\n",
    "### List of source locations\n",
    "SitesSource <- Centroids\n",
    "\n",
    "### List of destination locations\n",
    "SitesDest <- Centroids\n",
    "\n",
    "DistMatm <- distm(SitesSource[,c('lon','lat')], SitesSource[,c('lon','lat')], fun=distVincentyEllipsoid)\n",
    "Distances <- DistMatm*10^-3\n",
    "#read in the reef areas for the kernel fitting\n",
    "Area <- fread(\"~/oceanography/empirical_data/site_area_header_nonsurveyed_simulation_kernels_test.csv\") %>%\n",
    "    arrange(site) %>%\n",
    "    filter(site %!in% c(\"near_north_full1\", \"near_north_full2\", \"near_north_full3\", \"near_south_full1\", \"near_south_full2\", \"near_south_full3\")) %>%\n",
    "    mutate(kmsq=msq*10^-6)# %>%\n",
    "    #select(kmsq) #need to uncomment for functions to work\n",
    "setorder(Area, site)\n",
    "reef_sizes <- as.matrix(Area$kmsq)\n",
    "\n",
    "#make a site index table, use this for Sampled_reefs input in kernel fitting\n",
    "SiteIndex <- unique(Centroids, by=\"site\")[, \"site\"][, index := .I] #add the row number as the unique site index\n",
    "\n",
    "#make a table with the survey information for each site (how many fish sampled, prop anems sampled, total number of anems at site)\n",
    "SurveyData <- AnnualRecsSamp[PropSamp, on=.(year=end_year, site)][#join the sampling tables together\n",
    "    is.na(n_offs_gen), n_offs_gen := 0][,#change NA's to 0\n",
    "    -\"time_frame\"]#drop the time_frame column, we can key with end_year\n",
    "#setnames(SurveyData, c(\"PropAnemSamp\", \"TotalAnems\"), c(\"prop_anem_samp\", \"total_anems\"))\n",
    "#setkey(SurveyData, site)\n",
    "#check all sites are represented in centroids and area (and indirectly distances, which comes from centroids)\n",
    "#Area[site %!in% centroids$site] #should be nothing\n",
    "\n",
    "#Allison's abundance time series data \n",
    "#download.file(url = \"https://github.com/pinskylab/Clownfish_persistence/blob/master/Data/Script_outputs/females_df_F.RData?raw=true\", destfile = \"~/oceanography/empirical_data/genetics/females_df_F.RData\")\n",
    "load(\"~/oceanography/empirical_data/genetics/females_df_F.RData\")\n",
    "Abundance <- as.data.table(females_df_F)\n",
    "setnames(Abundance, \"nF\", \"num_females\")\n",
    "#join the survey sampling tables together\n",
    "SurveyData <- AnnualRecsSamp[PropSamp, on=.(year=end_year, site)][\n",
    "    is.na(n_offs_gen), n_offs_gen := 0][,#change NA's to 0\n",
    "    -\"time_frame\"]#drop the time_frame\n",
    "\n",
    "SurveyData <- Abundance[, c(\"year\", \"site\", \"num_females\")][SurveyData, on=.(year, site)]#join in Allison's estimate of female abundance. There are NA values, but that's okay we can figure those out when we start thinking about incorporating uncertainty in this\n",
    "\n"
   ]
  },
  {
   "cell_type": "code",
   "execution_count": 4,
   "metadata": {},
   "outputs": [
    {
     "data": {
      "text/html": [
       "687"
      ],
      "text/latex": [
       "687"
      ],
      "text/markdown": [
       "687"
      ],
      "text/plain": [
       "[1] 687"
      ]
     },
     "metadata": {},
     "output_type": "display_data"
    }
   ],
   "source": [
    "#make a table of the dates of release for simulations, for calculating the number of particles released in each time frame\n",
    "season1 <- data.table(date=seq(as.Date(\"2010-10-01\"), as.Date(\"2011-05-31\"), by=\"days\"))\n",
    "\n",
    "season2 <- data.table(date=seq(as.Date(\"2011-10-01\"), as.Date(\"2012-05-31\"), by=\"days\"))\n",
    "\n",
    "season3 <- data.table(date=seq(as.Date(\"2012-10-01\"), as.Date(\"2013-05-31\"), by=\"days\"))\n",
    "\n",
    "season4 <- data.table(date=seq(as.Date(\"2013-10-01\"), as.Date(\"2014-04-18\"), by=\"days\"))\n",
    "\n",
    "AllDates <- rbind(season1, season2, season3, season4)\n",
    "\n",
    "#mark the monsoon seasons, based on the same criteria I used for the parentage indirectly through the growth estimates\n",
    "NEM <- c(11, 12, 1, 2, 3, 4, 5, 6)\n",
    "SWM <- c(7, 8, 9, 10)\n",
    "\n",
    "AllDates[,date := ymd(date)][, #format as ymd\n",
    "             sim_monsoon := ifelse(month(date) %in% NEM, \"NEM\", \"SWM\")][,#mark monsoon season based on month\n",
    "             sim_year:=year(date)][,#add year column\n",
    "            year_sampled:= ifelse(date %in% season1$date, 2011, ifelse(date %in% season2$date, 2012, ifelse(date %in% season3$date, 2013, 2014)))]#and then add a year_sampled for the empircal sampling season of that particle\n",
    "\n",
    "ReleaseDays <- AllDates[, .(num_release_days_seasonal=.N), by=c(\"year_sampled\", \"sim_monsoon\")][, num_release_days_annual:= sum(num_release_days_seasonal), by=year_sampled]\n",
    "\n",
    "total_release_days <- AllDates[year_sampled %in% c(2012, 2013, 2014), .N]#for the all year kernel- how many days of the simulation conincide with our particle sampling?\n",
    "total_release_days #should be 687\n"
   ]
  },
  {
   "cell_type": "code",
   "execution_count": 40,
   "metadata": {},
   "outputs": [
    {
     "ename": "ERROR",
     "evalue": "Error in eval(expr, envir, enclos): object 'DestJoin' not found\n",
     "output_type": "error",
     "traceback": [
      "Error in eval(expr, envir, enclos): object 'DestJoin' not found\nTraceback:\n"
     ]
    }
   ],
   "source": [
    "##prep biophysical connectivity matrix\n",
    "##outside of the loop, trim this to only be the destinations we sampled\n",
    "#SourceJoin <- SurveyData[SimConn, on = .(site = source, year=year_sampled)]\n",
    "#setnames(SourceJoin, skip_absent=TRUE, c(\"site\", \"n_offs_gen\", \"prop_anem_samp\", \"total_anems\", \"num_females\"), c(\"source\", \"source_num_rec_sampled_annual\",  \"source_prop_anem_samp\", \"source_total_anems\", \"source_num_females\"))\n",
    "#DestJoin <- SurveyData[SourceJoin, on = .(site = dest, year)]\n",
    "#setnames(DestJoin, skip_absent=TRUE, c(\"site\", \"n_offs_gen\", \"prop_anem_samp\", \"total_anems\", \"num_females\"), c(\"dest\", \"dest_num_rec_sampled_annual\",  \"dest_prop_samp\", \"dest_total_anems\", \"dest_num_females\"))\n",
    "\n",
    "#SimConn <- DestJoin[source %!in% unrealistic_sources & dest %!in% unrealistic_sources & year %in% c(2012, 2013, 2014)][#sand flats and Pangasugan are not realistic source or destination sites because there's almost no habitat. Safe to drop, but keep the rest of the possibilities so we can subsample iteratively all possibilities.\n",
    "#    , daily_particles_released := as.numeric(daily_particles_released)] #change from integer to numeric\n",
    "#SimConn <- ReleaseDays[SimConn, on=.(year_sampled=year, sim_monsoon)]#join in the info for number of release days in the time frame\n",
    "#SimConn <- kernels[Year %in% c(\"2012\", \"2013\", \"2014\")][, year:=as.integer(Year)][,c(\"year\", \"NumParentageMatches\")][SimConn, on=.(year=year_sampled)]#add in a column for the observed number of parentage matches\n",
    "##rename the monsoon column in the full table for consistency\n",
    "#setnames(SimConn, c(\"sim_monsoon\", \"NumParentageMatches\"), c(\"monsoon\", \"num_route_parentage_matches\")) #get rid of upper case and inconsistent naming\n",
    "#\n",
    "##each year will require a different set of survey data, so make a list of each and index by site for fast look up\n",
    "#SampledTable <- SurveyData[prop_anem_samp >0, c(\"year\", \"site\")]#previously named PropSampTable\n",
    "#\n",
    "##make sure all sampled sites are represented when joining the survey data to the sampled simulation- this chunk has the tables to add to a subsampled particle table. no need for the full\n",
    "#SampTable <- rbind(SurveyData[prop_anem_samp >0 & year %in% c(2012, 2013, 2014), c(\"year\", \"site\")][, .(source=site, dest=site, year=year)][, #will join to the simulated sampling table by source and dest, so make those each a column from site and preserve the year variable as a key\n",
    "#     c(\"year\", \"source\", \"dest\")][, monsoon := \"NEM\"], SurveyData[prop_anem_samp >0 & year %in% c(2012, 2013, 2014), c(\"year\", \"site\")][, .(source=site, dest=site, year=year)][, #will join to the simulated sampling table by source and dest, so make those each a column from site and preserve the year variable as a key\n",
    "#     c(\"year\", \"source\", \"dest\")][, monsoon := \"SWM\"])\n",
    "#UnqSurvey <- unique(SampTable, by=c(\"source\", \"dest\", \"year\", \"monsoon\"))#add in the diff Monsoon seasons so there are complete parentage matrices later\n",
    "#AddDest <- rbind(SurveyData[year %in% c(2012, 2013, 2014) & prop_anem_samp >0][, c(\"year\", \"site\")][, monsoon := \"NEM\"], \n",
    "#                  SurveyData[year %in% c(2012, 2013, 2014) & prop_anem_samp >0][ , c(\"year\", \"site\")][, monsoon := \"SWM\"])  #what destinations were sampled, for use with unassigned table\n",
    "#setcolorder(SimConn, c(\"particle_id\", \"source\", \"dest\", \"year\", \"monsoon\", \"date\"))\n",
    "#\n",
    "##at this point, we can make the raw number assignment matrix, but we want to make a normalized version that is num assigned from a source to a destination/ num released from that source\n",
    "##fwrite(SimConn, file=\"~/oceanography/script_output/ROMSDataTables/SimConnectivityTableCompleteMetaLongForm.csv\")"
   ]
  },
  {
   "cell_type": "markdown",
   "metadata": {
    "scrolled": true
   },
   "source": [
    "__Skip the joining of tables that takes forever and read in the__ "
   ]
  },
  {
   "cell_type": "code",
   "execution_count": 18,
   "metadata": {},
   "outputs": [],
   "source": [
    "SimConn <- fread(file=\"~/oceanography/script_output/ROMSDataTables/SimConnectivityTableCompleteMetaLongForm.csv\")"
   ]
  },
  {
   "cell_type": "code",
   "execution_count": 41,
   "metadata": {},
   "outputs": [],
   "source": [
    "#each year will require a different set of survey data, so make a list of each and index by site for fast look up\n",
    "SampledTable <- SurveyData[prop_anem_samp >0, c(\"year\", \"site\")]#previously named PropSampTable\n",
    "\n",
    "#make sure all sampled sites are represented when joining the survey data to the sampled simulation- this chunk has the tables to add to a subsampled particle table. no need for the full\n",
    "SampTable <- rbind(SurveyData[prop_anem_samp >0 & year %in% c(2012, 2013, 2014), c(\"year\", \"site\")][, .(source=site, dest=site, year=year)][, #will join to the simulated sampling table by source and dest, so make those each a column from site and preserve the year variable as a key\n",
    "     c(\"year\", \"source\", \"dest\")][, monsoon := \"NEM\"], SurveyData[prop_anem_samp >0 & year %in% c(2012, 2013, 2014), c(\"year\", \"site\")][, .(source=site, dest=site, year=year)][, #will join to the simulated sampling table by source and dest, so make those each a column from site and preserve the year variable as a key\n",
    "     c(\"year\", \"source\", \"dest\")][, monsoon := \"SWM\"])\n",
    "UnqSurvey <- unique(SampTable, by=c(\"source\", \"dest\", \"year\", \"monsoon\"))#add in the diff Monsoon seasons so there are complete parentage matrices later\n",
    "AddDest <- rbind(SurveyData[year %in% c(2012, 2013, 2014) & prop_anem_samp >0][, c(\"year\", \"site\")][, monsoon := \"NEM\"], \n",
    "                  SurveyData[year %in% c(2012, 2013, 2014) & prop_anem_samp >0][ , c(\"year\", \"site\")][, monsoon := \"SWM\"])  #what destinations were sampled, for use with unassigned table\n"
   ]
  },
  {
   "cell_type": "code",
   "execution_count": null,
   "metadata": {},
   "outputs": [],
   "source": [
    "#First, figure out how to get normalized conn values for all time frames\n",
    "#then, test kernel fitting function on full matrix      \n",
    "#last, start testing likelihood function build"
   ]
  },
  {
   "cell_type": "code",
   "execution_count": 8,
   "metadata": {},
   "outputs": [],
   "source": [
    "#at this point, we can make the raw number assignment matrix, but we want to make a normalized version that is num assigned from a source to a destination/ num released from that source\n",
    "\n",
    "AllYearsRec <- SimConn[, .(total_particles_rec = .N), by= c(\"source\", \"dest\")] #all particles recruiting along each route FILTER HERE FOR TIME PERIOD***\n",
    "AllYearsRelease <- unique(SimConn[,.(total_particles_released = as.numeric(daily_particles_released)*as.numeric(total_release_days)), by= c(\"source\")], by=\"source\") #calculate the number of particles released over the time frame by multiplyig the release days by the number of particles released daily. fread() converts big numbers to integers so specify as numeric to avoid integer overflow NAs\n",
    "#join recruited and released tables together and make a column for the normalized values\n",
    "AllYearsNormConn <-  AllYearsRelease[AllYearsRec, on=\"source\"][\n",
    "    , source_norm_rec := total_particles_rec/total_particles_released]\n",
    "\n",
    "#check that they sum to =< 1\n",
    "AllYearsNormConn[,sum(source_norm_rec), by=\"source\"]#nothing should be greater than 1. It isn't- great\n",
    "\n",
    "#make sure all possible routes are represented!!*\n",
    "#cast into wide format\n",
    "FullBiophysMatNorm <- as.matrix(rbind(dcast(AllYearsNormConn[source != \"Other\", .(source, dest, source_norm_rec)][ #for assigned particles (not from \"Other\") keep the source/dest columns that will be expanded into wide form to become the connectivity matrix. Filtering for time period etc can be done in i here.\n",
    "    order(source, dest)] #keep sites in alphabetical order so the matrix is correctly formatted!\n",
    "        , source ~ dest, value.var=\"source_norm_rec\")[\n",
    "    ,-\"source\"], #remove the source column after casting\n",
    "      dcast(AllYearsNormConn[source == \"Other\" , .(source, dest, source_norm_rec)][ #this is to cast the \"unassigned row for the model parentage, which is anyting from \"Other\"\n",
    "          order(source, dest)][, source := \"unknown\"], source ~ dest, value.var=\"source_norm_rec\")[,-\"source\"]))#bind these two cast wide form data tables (assigned and unassigned particles) and then turn into a matrix to be used in the likelihood functions\n",
    "dim(FullBiophysMatNorm )\n",
    "FullBiophysMatNorm[is.na(FullBiophysMatNorm)] <- 0 #change NAs to zeros\n"
   ]
  },
  {
   "cell_type": "code",
   "execution_count": 51,
   "metadata": {},
   "outputs": [
    {
     "data": {
      "text/html": [
       "<table>\n",
       "<thead><tr><th scope=col>CAI</th><th scope=col>Cabatoan</th><th scope=col>Caridad Cemetery</th><th scope=col>Caridad Proper</th><th scope=col>Elementary School</th><th scope=col>Gabas</th><th scope=col>Haina</th><th scope=col>Hicgop South</th><th scope=col>Magbangon</th><th scope=col>Palanas</th><th scope=col>Poroc Rose</th><th scope=col>Poroc San Flower</th><th scope=col>San Agustin</th><th scope=col>Sitio Baybayon</th><th scope=col>Sitio Lonas</th><th scope=col>Sitio Tugas</th><th scope=col>Tamakin Dacot</th><th scope=col>Visca</th><th scope=col>Wangag</th></tr></thead>\n",
       "<tbody>\n",
       "\t<tr><td>0.668285782 </td><td>1.532165e-07</td><td>0.000000e+00</td><td>1.178589e-08</td><td>0.000000e+00</td><td>1.414306e-07</td><td>5.892943e-08</td><td>5.892943e-09</td><td>2.533966e-07</td><td>1.885742e-07</td><td>2.946472e-08</td><td>1.178589e-08</td><td>5.303649e-08</td><td>8.839415e-08</td><td>0.000000e+00</td><td>0.000000e+00</td><td>3.535766e-08</td><td>1.473236e-07</td><td>5.892943e-08</td></tr>\n",
       "\t<tr><td>0.011848793 </td><td>1.470278e-03</td><td>1.661032e-03</td><td>2.595729e-03</td><td>3.448256e-04</td><td>0.000000e+00</td><td>7.043246e-05</td><td>1.352890e-03</td><td>1.154799e-03</td><td>2.993379e-04</td><td>1.041813e-04</td><td>1.995586e-04</td><td>5.590576e-04</td><td>1.379302e-03</td><td>5.502536e-04</td><td>4.900925e-04</td><td>8.070386e-05</td><td>1.467343e-06</td><td>4.152580e-04</td></tr>\n",
       "\t<tr><td>0.010873010 </td><td>1.123985e-03</td><td>3.289783e-03</td><td>4.287576e-03</td><td>2.964032e-04</td><td>1.173874e-05</td><td>1.760811e-05</td><td>3.594990e-04</td><td>1.119583e-03</td><td>1.892872e-04</td><td>1.144527e-04</td><td>2.142321e-04</td><td>7.908978e-04</td><td>1.323543e-03</td><td>9.713809e-04</td><td>4.724844e-04</td><td>2.934686e-06</td><td>0.000000e+00</td><td>1.848852e-04</td></tr>\n",
       "\t<tr><td>0.009368984 </td><td>1.135723e-03</td><td>1.072628e-03</td><td>3.075551e-03</td><td>2.729258e-04</td><td>0.000000e+00</td><td>1.173874e-05</td><td>3.873785e-04</td><td>7.659530e-04</td><td>7.043246e-05</td><td>8.217120e-05</td><td>2.890665e-04</td><td>1.027140e-03</td><td>1.116648e-03</td><td>9.787177e-04</td><td>4.548763e-04</td><td>5.869371e-06</td><td>2.934686e-06</td><td>1.305935e-04</td></tr>\n",
       "\t<tr><td>0.007389538 </td><td>6.559022e-04</td><td>1.333815e-03</td><td>2.585458e-03</td><td>2.321336e-03</td><td>1.467343e-06</td><td>5.722637e-05</td><td>5.622858e-03</td><td>6.397615e-04</td><td>1.291262e-04</td><td>2.699911e-04</td><td>4.196600e-04</td><td>1.229633e-03</td><td>7.776917e-04</td><td>1.057954e-03</td><td>2.701378e-03</td><td>1.173874e-05</td><td>2.934686e-06</td><td>1.393976e-04</td></tr>\n",
       "\t<tr><td>0.000513570 </td><td>1.716791e-04</td><td>1.379302e-04</td><td>5.194394e-04</td><td>2.677901e-03</td><td>2.502993e-02</td><td>2.377095e-04</td><td>1.760811e-03</td><td>1.511363e-04</td><td>4.548763e-05</td><td>1.194417e-03</td><td>1.810701e-03</td><td>8.252336e-03</td><td>2.435789e-04</td><td>1.558465e-02</td><td>2.299326e-03</td><td>1.804832e-04</td><td>1.260447e-02</td><td>3.228154e-05</td></tr>\n",
       "\t<tr><td>0.004512813 </td><td>1.540710e-05</td><td>7.336714e-07</td><td>8.070386e-06</td><td>9.317627e-05</td><td>1.467343e-05</td><td>2.549508e-03</td><td>2.934686e-05</td><td>1.027140e-05</td><td>2.934686e-06</td><td>2.054280e-05</td><td>2.641217e-05</td><td>6.676410e-05</td><td>4.548763e-05</td><td>2.054280e-05</td><td>4.108560e-05</td><td>9.662452e-04</td><td>5.575903e-05</td><td>5.869371e-06</td></tr>\n",
       "\t<tr><td>0.006879637 </td><td>7.894304e-04</td><td>1.666901e-03</td><td>2.696242e-03</td><td>1.447534e-03</td><td>3.668357e-05</td><td>3.514286e-04</td><td>3.006585e-03</td><td>5.524546e-04</td><td>1.628751e-04</td><td>4.944945e-04</td><td>8.253803e-04</td><td>1.355091e-03</td><td>1.385172e-03</td><td>1.580328e-03</td><td>1.258246e-03</td><td>1.958903e-04</td><td>5.649270e-05</td><td>2.575187e-04</td></tr>\n",
       "\t<tr><td>0.008655855 </td><td>1.113713e-03</td><td>2.732192e-03</td><td>3.950087e-03</td><td>2.597197e-04</td><td>0.000000e+00</td><td>6.749777e-05</td><td>1.181211e-03</td><td>6.779124e-04</td><td>5.458515e-04</td><td>6.016106e-05</td><td>1.217895e-04</td><td>7.806264e-04</td><td>2.407910e-03</td><td>3.947152e-04</td><td>3.448256e-04</td><td>3.374888e-05</td><td>1.907546e-05</td><td>7.952998e-04</td></tr>\n",
       "\t<tr><td>0.004868643 </td><td>9.757830e-04</td><td>2.173135e-03</td><td>1.178276e-03</td><td>2.934686e-06</td><td>0.000000e+00</td><td>0.000000e+00</td><td>1.364629e-04</td><td>1.172407e-03</td><td>9.258933e-04</td><td>1.320609e-05</td><td>1.467343e-06</td><td>5.575903e-05</td><td>4.601587e-03</td><td>1.467343e-06</td><td>7.483448e-05</td><td>0.000000e+00</td><td>0.000000e+00</td><td>8.217120e-04</td></tr>\n",
       "\t<tr><td>0.003732920 </td><td>2.142321e-04</td><td>4.768864e-04</td><td>1.490820e-03</td><td>1.520167e-03</td><td>1.614077e-05</td><td>2.714584e-04</td><td>1.078497e-03</td><td>5.575903e-05</td><td>1.188548e-04</td><td>1.110779e-03</td><td>1.663967e-03</td><td>3.323531e-03</td><td>2.156994e-04</td><td>7.380734e-03</td><td>1.570057e-03</td><td>1.540710e-04</td><td>9.948584e-04</td><td>7.483448e-05</td></tr>\n",
       "\t<tr><td>0.001889938 </td><td>2.626544e-04</td><td>3.316195e-04</td><td>1.200286e-03</td><td>2.476875e-03</td><td>5.869371e-06</td><td>2.655891e-04</td><td>1.185613e-03</td><td>1.173874e-04</td><td>1.173874e-04</td><td>1.731465e-03</td><td>2.316934e-03</td><td>7.443830e-03</td><td>3.345542e-04</td><td>1.249589e-02</td><td>2.293457e-03</td><td>1.511363e-04</td><td>6.793797e-04</td><td>1.379302e-04</td></tr>\n",
       "\t<tr><td>0.002566383 </td><td>2.362422e-04</td><td>2.215688e-04</td><td>1.462941e-03</td><td>2.243567e-03</td><td>1.467343e-06</td><td>1.261915e-04</td><td>2.126180e-03</td><td>1.951566e-04</td><td>8.070386e-05</td><td>2.475407e-03</td><td>2.177537e-03</td><td>7.520132e-03</td><td>2.802625e-04</td><td>1.491701e-02</td><td>2.312532e-03</td><td>6.309574e-05</td><td>1.863525e-04</td><td>1.071160e-04</td></tr>\n",
       "\t<tr><td>0.002583257 </td><td>3.173863e-03</td><td>4.577376e-03</td><td>5.856165e-03</td><td>1.746138e-04</td><td>0.000000e+00</td><td>2.787951e-05</td><td>6.214197e-04</td><td>3.506216e-03</td><td>1.102708e-03</td><td>5.209067e-05</td><td>1.445333e-04</td><td>8.143753e-04</td><td>1.725448e-02</td><td>4.321325e-04</td><td>4.064540e-04</td><td>3.888458e-05</td><td>7.336714e-07</td><td>1.825374e-03</td></tr>\n",
       "\t<tr><td>0.001712389 </td><td>4.240621e-04</td><td>7.336714e-04</td><td>2.752735e-03</td><td>3.458527e-03</td><td>0.000000e+00</td><td>0.000000e+00</td><td>1.327945e-02</td><td>2.905339e-04</td><td>1.100507e-04</td><td>7.483448e-05</td><td>2.127647e-04</td><td>4.352139e-03</td><td>3.947152e-04</td><td>3.813917e-02</td><td>5.707964e-03</td><td>0.000000e+00</td><td>1.320609e-05</td><td>8.363854e-05</td></tr>\n",
       "\t<tr><td>0.010431340 </td><td>6.617716e-04</td><td>5.766657e-04</td><td>1.135723e-03</td><td>7.248674e-04</td><td>1.467343e-06</td><td>7.336714e-05</td><td>6.045452e-04</td><td>4.240621e-04</td><td>1.041813e-04</td><td>2.699911e-04</td><td>3.976499e-04</td><td>1.148929e-03</td><td>1.523102e-03</td><td>1.106376e-03</td><td>5.663943e-04</td><td>2.054280e-05</td><td>1.173874e-05</td><td>1.922219e-04</td></tr>\n",
       "\t<tr><td>0.003209079 </td><td>1.173874e-05</td><td>1.760811e-05</td><td>2.641217e-05</td><td>4.402028e-06</td><td>8.657323e-05</td><td>3.627125e-02</td><td>3.228154e-05</td><td>8.804057e-06</td><td>0.000000e+00</td><td>1.129854e-04</td><td>2.347749e-05</td><td>1.291262e-04</td><td>7.336714e-06</td><td>7.483448e-05</td><td>2.934686e-05</td><td>1.306463e-01</td><td>5.942738e-04</td><td>0.000000e+00</td></tr>\n",
       "\t<tr><td>0.002829037 </td><td>8.657323e-05</td><td>2.039607e-04</td><td>1.382237e-03</td><td>1.911948e-03</td><td>4.108560e-05</td><td>2.978706e-04</td><td>6.955205e-04</td><td>8.950791e-05</td><td>6.309574e-05</td><td>1.170940e-03</td><td>1.791626e-03</td><td>5.779863e-03</td><td>1.217895e-04</td><td>8.858349e-03</td><td>1.719726e-03</td><td>2.611870e-04</td><td>4.343335e-04</td><td>3.374888e-05</td></tr>\n",
       "\t<tr><td>0.002429920 </td><td>2.925882e-03</td><td>3.154787e-03</td><td>3.267772e-03</td><td>1.115181e-04</td><td>0.000000e+00</td><td>2.201014e-05</td><td>4.944945e-04</td><td>3.499613e-03</td><td>1.261915e-03</td><td>7.483448e-05</td><td>9.537728e-05</td><td>6.074799e-04</td><td>1.427578e-02</td><td>1.848852e-04</td><td>1.848852e-04</td><td>1.467343e-05</td><td>0.000000e+00</td><td>1.650761e-03</td></tr>\n",
       "\t<tr><td>0.013765993 </td><td>6.100767e-06</td><td>7.043504e-06</td><td>7.794328e-06</td><td>6.831850e-06</td><td>1.304556e-06</td><td>1.743109e-05</td><td>1.087368e-05</td><td>6.008856e-06</td><td>6.558058e-06</td><td>2.334027e-06</td><td>2.828535e-06</td><td>3.913346e-06</td><td>1.259604e-05</td><td>6.316306e-06</td><td>4.120146e-06</td><td>4.860322e-05</td><td>2.604258e-06</td><td>5.948984e-06</td></tr>\n",
       "</tbody>\n",
       "</table>\n"
      ],
      "text/latex": [
       "\\begin{tabular}{lllllllllllllllllll}\n",
       " CAI & Cabatoan & Caridad Cemetery & Caridad Proper & Elementary School & Gabas & Haina & Hicgop South & Magbangon & Palanas & Poroc Rose & Poroc San Flower & San Agustin & Sitio Baybayon & Sitio Lonas & Sitio Tugas & Tamakin Dacot & Visca & Wangag\\\\\n",
       "\\hline\n",
       "\t 0.668285782  & 1.532165e-07 & 0.000000e+00 & 1.178589e-08 & 0.000000e+00 & 1.414306e-07 & 5.892943e-08 & 5.892943e-09 & 2.533966e-07 & 1.885742e-07 & 2.946472e-08 & 1.178589e-08 & 5.303649e-08 & 8.839415e-08 & 0.000000e+00 & 0.000000e+00 & 3.535766e-08 & 1.473236e-07 & 5.892943e-08\\\\\n",
       "\t 0.011848793  & 1.470278e-03 & 1.661032e-03 & 2.595729e-03 & 3.448256e-04 & 0.000000e+00 & 7.043246e-05 & 1.352890e-03 & 1.154799e-03 & 2.993379e-04 & 1.041813e-04 & 1.995586e-04 & 5.590576e-04 & 1.379302e-03 & 5.502536e-04 & 4.900925e-04 & 8.070386e-05 & 1.467343e-06 & 4.152580e-04\\\\\n",
       "\t 0.010873010  & 1.123985e-03 & 3.289783e-03 & 4.287576e-03 & 2.964032e-04 & 1.173874e-05 & 1.760811e-05 & 3.594990e-04 & 1.119583e-03 & 1.892872e-04 & 1.144527e-04 & 2.142321e-04 & 7.908978e-04 & 1.323543e-03 & 9.713809e-04 & 4.724844e-04 & 2.934686e-06 & 0.000000e+00 & 1.848852e-04\\\\\n",
       "\t 0.009368984  & 1.135723e-03 & 1.072628e-03 & 3.075551e-03 & 2.729258e-04 & 0.000000e+00 & 1.173874e-05 & 3.873785e-04 & 7.659530e-04 & 7.043246e-05 & 8.217120e-05 & 2.890665e-04 & 1.027140e-03 & 1.116648e-03 & 9.787177e-04 & 4.548763e-04 & 5.869371e-06 & 2.934686e-06 & 1.305935e-04\\\\\n",
       "\t 0.007389538  & 6.559022e-04 & 1.333815e-03 & 2.585458e-03 & 2.321336e-03 & 1.467343e-06 & 5.722637e-05 & 5.622858e-03 & 6.397615e-04 & 1.291262e-04 & 2.699911e-04 & 4.196600e-04 & 1.229633e-03 & 7.776917e-04 & 1.057954e-03 & 2.701378e-03 & 1.173874e-05 & 2.934686e-06 & 1.393976e-04\\\\\n",
       "\t 0.000513570  & 1.716791e-04 & 1.379302e-04 & 5.194394e-04 & 2.677901e-03 & 2.502993e-02 & 2.377095e-04 & 1.760811e-03 & 1.511363e-04 & 4.548763e-05 & 1.194417e-03 & 1.810701e-03 & 8.252336e-03 & 2.435789e-04 & 1.558465e-02 & 2.299326e-03 & 1.804832e-04 & 1.260447e-02 & 3.228154e-05\\\\\n",
       "\t 0.004512813  & 1.540710e-05 & 7.336714e-07 & 8.070386e-06 & 9.317627e-05 & 1.467343e-05 & 2.549508e-03 & 2.934686e-05 & 1.027140e-05 & 2.934686e-06 & 2.054280e-05 & 2.641217e-05 & 6.676410e-05 & 4.548763e-05 & 2.054280e-05 & 4.108560e-05 & 9.662452e-04 & 5.575903e-05 & 5.869371e-06\\\\\n",
       "\t 0.006879637  & 7.894304e-04 & 1.666901e-03 & 2.696242e-03 & 1.447534e-03 & 3.668357e-05 & 3.514286e-04 & 3.006585e-03 & 5.524546e-04 & 1.628751e-04 & 4.944945e-04 & 8.253803e-04 & 1.355091e-03 & 1.385172e-03 & 1.580328e-03 & 1.258246e-03 & 1.958903e-04 & 5.649270e-05 & 2.575187e-04\\\\\n",
       "\t 0.008655855  & 1.113713e-03 & 2.732192e-03 & 3.950087e-03 & 2.597197e-04 & 0.000000e+00 & 6.749777e-05 & 1.181211e-03 & 6.779124e-04 & 5.458515e-04 & 6.016106e-05 & 1.217895e-04 & 7.806264e-04 & 2.407910e-03 & 3.947152e-04 & 3.448256e-04 & 3.374888e-05 & 1.907546e-05 & 7.952998e-04\\\\\n",
       "\t 0.004868643  & 9.757830e-04 & 2.173135e-03 & 1.178276e-03 & 2.934686e-06 & 0.000000e+00 & 0.000000e+00 & 1.364629e-04 & 1.172407e-03 & 9.258933e-04 & 1.320609e-05 & 1.467343e-06 & 5.575903e-05 & 4.601587e-03 & 1.467343e-06 & 7.483448e-05 & 0.000000e+00 & 0.000000e+00 & 8.217120e-04\\\\\n",
       "\t 0.003732920  & 2.142321e-04 & 4.768864e-04 & 1.490820e-03 & 1.520167e-03 & 1.614077e-05 & 2.714584e-04 & 1.078497e-03 & 5.575903e-05 & 1.188548e-04 & 1.110779e-03 & 1.663967e-03 & 3.323531e-03 & 2.156994e-04 & 7.380734e-03 & 1.570057e-03 & 1.540710e-04 & 9.948584e-04 & 7.483448e-05\\\\\n",
       "\t 0.001889938  & 2.626544e-04 & 3.316195e-04 & 1.200286e-03 & 2.476875e-03 & 5.869371e-06 & 2.655891e-04 & 1.185613e-03 & 1.173874e-04 & 1.173874e-04 & 1.731465e-03 & 2.316934e-03 & 7.443830e-03 & 3.345542e-04 & 1.249589e-02 & 2.293457e-03 & 1.511363e-04 & 6.793797e-04 & 1.379302e-04\\\\\n",
       "\t 0.002566383  & 2.362422e-04 & 2.215688e-04 & 1.462941e-03 & 2.243567e-03 & 1.467343e-06 & 1.261915e-04 & 2.126180e-03 & 1.951566e-04 & 8.070386e-05 & 2.475407e-03 & 2.177537e-03 & 7.520132e-03 & 2.802625e-04 & 1.491701e-02 & 2.312532e-03 & 6.309574e-05 & 1.863525e-04 & 1.071160e-04\\\\\n",
       "\t 0.002583257  & 3.173863e-03 & 4.577376e-03 & 5.856165e-03 & 1.746138e-04 & 0.000000e+00 & 2.787951e-05 & 6.214197e-04 & 3.506216e-03 & 1.102708e-03 & 5.209067e-05 & 1.445333e-04 & 8.143753e-04 & 1.725448e-02 & 4.321325e-04 & 4.064540e-04 & 3.888458e-05 & 7.336714e-07 & 1.825374e-03\\\\\n",
       "\t 0.001712389  & 4.240621e-04 & 7.336714e-04 & 2.752735e-03 & 3.458527e-03 & 0.000000e+00 & 0.000000e+00 & 1.327945e-02 & 2.905339e-04 & 1.100507e-04 & 7.483448e-05 & 2.127647e-04 & 4.352139e-03 & 3.947152e-04 & 3.813917e-02 & 5.707964e-03 & 0.000000e+00 & 1.320609e-05 & 8.363854e-05\\\\\n",
       "\t 0.010431340  & 6.617716e-04 & 5.766657e-04 & 1.135723e-03 & 7.248674e-04 & 1.467343e-06 & 7.336714e-05 & 6.045452e-04 & 4.240621e-04 & 1.041813e-04 & 2.699911e-04 & 3.976499e-04 & 1.148929e-03 & 1.523102e-03 & 1.106376e-03 & 5.663943e-04 & 2.054280e-05 & 1.173874e-05 & 1.922219e-04\\\\\n",
       "\t 0.003209079  & 1.173874e-05 & 1.760811e-05 & 2.641217e-05 & 4.402028e-06 & 8.657323e-05 & 3.627125e-02 & 3.228154e-05 & 8.804057e-06 & 0.000000e+00 & 1.129854e-04 & 2.347749e-05 & 1.291262e-04 & 7.336714e-06 & 7.483448e-05 & 2.934686e-05 & 1.306463e-01 & 5.942738e-04 & 0.000000e+00\\\\\n",
       "\t 0.002829037  & 8.657323e-05 & 2.039607e-04 & 1.382237e-03 & 1.911948e-03 & 4.108560e-05 & 2.978706e-04 & 6.955205e-04 & 8.950791e-05 & 6.309574e-05 & 1.170940e-03 & 1.791626e-03 & 5.779863e-03 & 1.217895e-04 & 8.858349e-03 & 1.719726e-03 & 2.611870e-04 & 4.343335e-04 & 3.374888e-05\\\\\n",
       "\t 0.002429920  & 2.925882e-03 & 3.154787e-03 & 3.267772e-03 & 1.115181e-04 & 0.000000e+00 & 2.201014e-05 & 4.944945e-04 & 3.499613e-03 & 1.261915e-03 & 7.483448e-05 & 9.537728e-05 & 6.074799e-04 & 1.427578e-02 & 1.848852e-04 & 1.848852e-04 & 1.467343e-05 & 0.000000e+00 & 1.650761e-03\\\\\n",
       "\t 0.013765993  & 6.100767e-06 & 7.043504e-06 & 7.794328e-06 & 6.831850e-06 & 1.304556e-06 & 1.743109e-05 & 1.087368e-05 & 6.008856e-06 & 6.558058e-06 & 2.334027e-06 & 2.828535e-06 & 3.913346e-06 & 1.259604e-05 & 6.316306e-06 & 4.120146e-06 & 4.860322e-05 & 2.604258e-06 & 5.948984e-06\\\\\n",
       "\\end{tabular}\n"
      ],
      "text/markdown": [
       "\n",
       "| CAI | Cabatoan | Caridad Cemetery | Caridad Proper | Elementary School | Gabas | Haina | Hicgop South | Magbangon | Palanas | Poroc Rose | Poroc San Flower | San Agustin | Sitio Baybayon | Sitio Lonas | Sitio Tugas | Tamakin Dacot | Visca | Wangag |\n",
       "|---|---|---|---|---|---|---|---|---|---|---|---|---|---|---|---|---|---|---|\n",
       "| 0.668285782  | 1.532165e-07 | 0.000000e+00 | 1.178589e-08 | 0.000000e+00 | 1.414306e-07 | 5.892943e-08 | 5.892943e-09 | 2.533966e-07 | 1.885742e-07 | 2.946472e-08 | 1.178589e-08 | 5.303649e-08 | 8.839415e-08 | 0.000000e+00 | 0.000000e+00 | 3.535766e-08 | 1.473236e-07 | 5.892943e-08 |\n",
       "| 0.011848793  | 1.470278e-03 | 1.661032e-03 | 2.595729e-03 | 3.448256e-04 | 0.000000e+00 | 7.043246e-05 | 1.352890e-03 | 1.154799e-03 | 2.993379e-04 | 1.041813e-04 | 1.995586e-04 | 5.590576e-04 | 1.379302e-03 | 5.502536e-04 | 4.900925e-04 | 8.070386e-05 | 1.467343e-06 | 4.152580e-04 |\n",
       "| 0.010873010  | 1.123985e-03 | 3.289783e-03 | 4.287576e-03 | 2.964032e-04 | 1.173874e-05 | 1.760811e-05 | 3.594990e-04 | 1.119583e-03 | 1.892872e-04 | 1.144527e-04 | 2.142321e-04 | 7.908978e-04 | 1.323543e-03 | 9.713809e-04 | 4.724844e-04 | 2.934686e-06 | 0.000000e+00 | 1.848852e-04 |\n",
       "| 0.009368984  | 1.135723e-03 | 1.072628e-03 | 3.075551e-03 | 2.729258e-04 | 0.000000e+00 | 1.173874e-05 | 3.873785e-04 | 7.659530e-04 | 7.043246e-05 | 8.217120e-05 | 2.890665e-04 | 1.027140e-03 | 1.116648e-03 | 9.787177e-04 | 4.548763e-04 | 5.869371e-06 | 2.934686e-06 | 1.305935e-04 |\n",
       "| 0.007389538  | 6.559022e-04 | 1.333815e-03 | 2.585458e-03 | 2.321336e-03 | 1.467343e-06 | 5.722637e-05 | 5.622858e-03 | 6.397615e-04 | 1.291262e-04 | 2.699911e-04 | 4.196600e-04 | 1.229633e-03 | 7.776917e-04 | 1.057954e-03 | 2.701378e-03 | 1.173874e-05 | 2.934686e-06 | 1.393976e-04 |\n",
       "| 0.000513570  | 1.716791e-04 | 1.379302e-04 | 5.194394e-04 | 2.677901e-03 | 2.502993e-02 | 2.377095e-04 | 1.760811e-03 | 1.511363e-04 | 4.548763e-05 | 1.194417e-03 | 1.810701e-03 | 8.252336e-03 | 2.435789e-04 | 1.558465e-02 | 2.299326e-03 | 1.804832e-04 | 1.260447e-02 | 3.228154e-05 |\n",
       "| 0.004512813  | 1.540710e-05 | 7.336714e-07 | 8.070386e-06 | 9.317627e-05 | 1.467343e-05 | 2.549508e-03 | 2.934686e-05 | 1.027140e-05 | 2.934686e-06 | 2.054280e-05 | 2.641217e-05 | 6.676410e-05 | 4.548763e-05 | 2.054280e-05 | 4.108560e-05 | 9.662452e-04 | 5.575903e-05 | 5.869371e-06 |\n",
       "| 0.006879637  | 7.894304e-04 | 1.666901e-03 | 2.696242e-03 | 1.447534e-03 | 3.668357e-05 | 3.514286e-04 | 3.006585e-03 | 5.524546e-04 | 1.628751e-04 | 4.944945e-04 | 8.253803e-04 | 1.355091e-03 | 1.385172e-03 | 1.580328e-03 | 1.258246e-03 | 1.958903e-04 | 5.649270e-05 | 2.575187e-04 |\n",
       "| 0.008655855  | 1.113713e-03 | 2.732192e-03 | 3.950087e-03 | 2.597197e-04 | 0.000000e+00 | 6.749777e-05 | 1.181211e-03 | 6.779124e-04 | 5.458515e-04 | 6.016106e-05 | 1.217895e-04 | 7.806264e-04 | 2.407910e-03 | 3.947152e-04 | 3.448256e-04 | 3.374888e-05 | 1.907546e-05 | 7.952998e-04 |\n",
       "| 0.004868643  | 9.757830e-04 | 2.173135e-03 | 1.178276e-03 | 2.934686e-06 | 0.000000e+00 | 0.000000e+00 | 1.364629e-04 | 1.172407e-03 | 9.258933e-04 | 1.320609e-05 | 1.467343e-06 | 5.575903e-05 | 4.601587e-03 | 1.467343e-06 | 7.483448e-05 | 0.000000e+00 | 0.000000e+00 | 8.217120e-04 |\n",
       "| 0.003732920  | 2.142321e-04 | 4.768864e-04 | 1.490820e-03 | 1.520167e-03 | 1.614077e-05 | 2.714584e-04 | 1.078497e-03 | 5.575903e-05 | 1.188548e-04 | 1.110779e-03 | 1.663967e-03 | 3.323531e-03 | 2.156994e-04 | 7.380734e-03 | 1.570057e-03 | 1.540710e-04 | 9.948584e-04 | 7.483448e-05 |\n",
       "| 0.001889938  | 2.626544e-04 | 3.316195e-04 | 1.200286e-03 | 2.476875e-03 | 5.869371e-06 | 2.655891e-04 | 1.185613e-03 | 1.173874e-04 | 1.173874e-04 | 1.731465e-03 | 2.316934e-03 | 7.443830e-03 | 3.345542e-04 | 1.249589e-02 | 2.293457e-03 | 1.511363e-04 | 6.793797e-04 | 1.379302e-04 |\n",
       "| 0.002566383  | 2.362422e-04 | 2.215688e-04 | 1.462941e-03 | 2.243567e-03 | 1.467343e-06 | 1.261915e-04 | 2.126180e-03 | 1.951566e-04 | 8.070386e-05 | 2.475407e-03 | 2.177537e-03 | 7.520132e-03 | 2.802625e-04 | 1.491701e-02 | 2.312532e-03 | 6.309574e-05 | 1.863525e-04 | 1.071160e-04 |\n",
       "| 0.002583257  | 3.173863e-03 | 4.577376e-03 | 5.856165e-03 | 1.746138e-04 | 0.000000e+00 | 2.787951e-05 | 6.214197e-04 | 3.506216e-03 | 1.102708e-03 | 5.209067e-05 | 1.445333e-04 | 8.143753e-04 | 1.725448e-02 | 4.321325e-04 | 4.064540e-04 | 3.888458e-05 | 7.336714e-07 | 1.825374e-03 |\n",
       "| 0.001712389  | 4.240621e-04 | 7.336714e-04 | 2.752735e-03 | 3.458527e-03 | 0.000000e+00 | 0.000000e+00 | 1.327945e-02 | 2.905339e-04 | 1.100507e-04 | 7.483448e-05 | 2.127647e-04 | 4.352139e-03 | 3.947152e-04 | 3.813917e-02 | 5.707964e-03 | 0.000000e+00 | 1.320609e-05 | 8.363854e-05 |\n",
       "| 0.010431340  | 6.617716e-04 | 5.766657e-04 | 1.135723e-03 | 7.248674e-04 | 1.467343e-06 | 7.336714e-05 | 6.045452e-04 | 4.240621e-04 | 1.041813e-04 | 2.699911e-04 | 3.976499e-04 | 1.148929e-03 | 1.523102e-03 | 1.106376e-03 | 5.663943e-04 | 2.054280e-05 | 1.173874e-05 | 1.922219e-04 |\n",
       "| 0.003209079  | 1.173874e-05 | 1.760811e-05 | 2.641217e-05 | 4.402028e-06 | 8.657323e-05 | 3.627125e-02 | 3.228154e-05 | 8.804057e-06 | 0.000000e+00 | 1.129854e-04 | 2.347749e-05 | 1.291262e-04 | 7.336714e-06 | 7.483448e-05 | 2.934686e-05 | 1.306463e-01 | 5.942738e-04 | 0.000000e+00 |\n",
       "| 0.002829037  | 8.657323e-05 | 2.039607e-04 | 1.382237e-03 | 1.911948e-03 | 4.108560e-05 | 2.978706e-04 | 6.955205e-04 | 8.950791e-05 | 6.309574e-05 | 1.170940e-03 | 1.791626e-03 | 5.779863e-03 | 1.217895e-04 | 8.858349e-03 | 1.719726e-03 | 2.611870e-04 | 4.343335e-04 | 3.374888e-05 |\n",
       "| 0.002429920  | 2.925882e-03 | 3.154787e-03 | 3.267772e-03 | 1.115181e-04 | 0.000000e+00 | 2.201014e-05 | 4.944945e-04 | 3.499613e-03 | 1.261915e-03 | 7.483448e-05 | 9.537728e-05 | 6.074799e-04 | 1.427578e-02 | 1.848852e-04 | 1.848852e-04 | 1.467343e-05 | 0.000000e+00 | 1.650761e-03 |\n",
       "| 0.013765993  | 6.100767e-06 | 7.043504e-06 | 7.794328e-06 | 6.831850e-06 | 1.304556e-06 | 1.743109e-05 | 1.087368e-05 | 6.008856e-06 | 6.558058e-06 | 2.334027e-06 | 2.828535e-06 | 3.913346e-06 | 1.259604e-05 | 6.316306e-06 | 4.120146e-06 | 4.860322e-05 | 2.604258e-06 | 5.948984e-06 |\n",
       "\n"
      ],
      "text/plain": [
       "      CAI         Cabatoan     Caridad Cemetery Caridad Proper\n",
       " [1,] 0.668285782 1.532165e-07 0.000000e+00     1.178589e-08  \n",
       " [2,] 0.011848793 1.470278e-03 1.661032e-03     2.595729e-03  \n",
       " [3,] 0.010873010 1.123985e-03 3.289783e-03     4.287576e-03  \n",
       " [4,] 0.009368984 1.135723e-03 1.072628e-03     3.075551e-03  \n",
       " [5,] 0.007389538 6.559022e-04 1.333815e-03     2.585458e-03  \n",
       " [6,] 0.000513570 1.716791e-04 1.379302e-04     5.194394e-04  \n",
       " [7,] 0.004512813 1.540710e-05 7.336714e-07     8.070386e-06  \n",
       " [8,] 0.006879637 7.894304e-04 1.666901e-03     2.696242e-03  \n",
       " [9,] 0.008655855 1.113713e-03 2.732192e-03     3.950087e-03  \n",
       "[10,] 0.004868643 9.757830e-04 2.173135e-03     1.178276e-03  \n",
       "[11,] 0.003732920 2.142321e-04 4.768864e-04     1.490820e-03  \n",
       "[12,] 0.001889938 2.626544e-04 3.316195e-04     1.200286e-03  \n",
       "[13,] 0.002566383 2.362422e-04 2.215688e-04     1.462941e-03  \n",
       "[14,] 0.002583257 3.173863e-03 4.577376e-03     5.856165e-03  \n",
       "[15,] 0.001712389 4.240621e-04 7.336714e-04     2.752735e-03  \n",
       "[16,] 0.010431340 6.617716e-04 5.766657e-04     1.135723e-03  \n",
       "[17,] 0.003209079 1.173874e-05 1.760811e-05     2.641217e-05  \n",
       "[18,] 0.002829037 8.657323e-05 2.039607e-04     1.382237e-03  \n",
       "[19,] 0.002429920 2.925882e-03 3.154787e-03     3.267772e-03  \n",
       "[20,] 0.013765993 6.100767e-06 7.043504e-06     7.794328e-06  \n",
       "      Elementary School Gabas        Haina        Hicgop South Magbangon   \n",
       " [1,] 0.000000e+00      1.414306e-07 5.892943e-08 5.892943e-09 2.533966e-07\n",
       " [2,] 3.448256e-04      0.000000e+00 7.043246e-05 1.352890e-03 1.154799e-03\n",
       " [3,] 2.964032e-04      1.173874e-05 1.760811e-05 3.594990e-04 1.119583e-03\n",
       " [4,] 2.729258e-04      0.000000e+00 1.173874e-05 3.873785e-04 7.659530e-04\n",
       " [5,] 2.321336e-03      1.467343e-06 5.722637e-05 5.622858e-03 6.397615e-04\n",
       " [6,] 2.677901e-03      2.502993e-02 2.377095e-04 1.760811e-03 1.511363e-04\n",
       " [7,] 9.317627e-05      1.467343e-05 2.549508e-03 2.934686e-05 1.027140e-05\n",
       " [8,] 1.447534e-03      3.668357e-05 3.514286e-04 3.006585e-03 5.524546e-04\n",
       " [9,] 2.597197e-04      0.000000e+00 6.749777e-05 1.181211e-03 6.779124e-04\n",
       "[10,] 2.934686e-06      0.000000e+00 0.000000e+00 1.364629e-04 1.172407e-03\n",
       "[11,] 1.520167e-03      1.614077e-05 2.714584e-04 1.078497e-03 5.575903e-05\n",
       "[12,] 2.476875e-03      5.869371e-06 2.655891e-04 1.185613e-03 1.173874e-04\n",
       "[13,] 2.243567e-03      1.467343e-06 1.261915e-04 2.126180e-03 1.951566e-04\n",
       "[14,] 1.746138e-04      0.000000e+00 2.787951e-05 6.214197e-04 3.506216e-03\n",
       "[15,] 3.458527e-03      0.000000e+00 0.000000e+00 1.327945e-02 2.905339e-04\n",
       "[16,] 7.248674e-04      1.467343e-06 7.336714e-05 6.045452e-04 4.240621e-04\n",
       "[17,] 4.402028e-06      8.657323e-05 3.627125e-02 3.228154e-05 8.804057e-06\n",
       "[18,] 1.911948e-03      4.108560e-05 2.978706e-04 6.955205e-04 8.950791e-05\n",
       "[19,] 1.115181e-04      0.000000e+00 2.201014e-05 4.944945e-04 3.499613e-03\n",
       "[20,] 6.831850e-06      1.304556e-06 1.743109e-05 1.087368e-05 6.008856e-06\n",
       "      Palanas      Poroc Rose   Poroc San Flower San Agustin  Sitio Baybayon\n",
       " [1,] 1.885742e-07 2.946472e-08 1.178589e-08     5.303649e-08 8.839415e-08  \n",
       " [2,] 2.993379e-04 1.041813e-04 1.995586e-04     5.590576e-04 1.379302e-03  \n",
       " [3,] 1.892872e-04 1.144527e-04 2.142321e-04     7.908978e-04 1.323543e-03  \n",
       " [4,] 7.043246e-05 8.217120e-05 2.890665e-04     1.027140e-03 1.116648e-03  \n",
       " [5,] 1.291262e-04 2.699911e-04 4.196600e-04     1.229633e-03 7.776917e-04  \n",
       " [6,] 4.548763e-05 1.194417e-03 1.810701e-03     8.252336e-03 2.435789e-04  \n",
       " [7,] 2.934686e-06 2.054280e-05 2.641217e-05     6.676410e-05 4.548763e-05  \n",
       " [8,] 1.628751e-04 4.944945e-04 8.253803e-04     1.355091e-03 1.385172e-03  \n",
       " [9,] 5.458515e-04 6.016106e-05 1.217895e-04     7.806264e-04 2.407910e-03  \n",
       "[10,] 9.258933e-04 1.320609e-05 1.467343e-06     5.575903e-05 4.601587e-03  \n",
       "[11,] 1.188548e-04 1.110779e-03 1.663967e-03     3.323531e-03 2.156994e-04  \n",
       "[12,] 1.173874e-04 1.731465e-03 2.316934e-03     7.443830e-03 3.345542e-04  \n",
       "[13,] 8.070386e-05 2.475407e-03 2.177537e-03     7.520132e-03 2.802625e-04  \n",
       "[14,] 1.102708e-03 5.209067e-05 1.445333e-04     8.143753e-04 1.725448e-02  \n",
       "[15,] 1.100507e-04 7.483448e-05 2.127647e-04     4.352139e-03 3.947152e-04  \n",
       "[16,] 1.041813e-04 2.699911e-04 3.976499e-04     1.148929e-03 1.523102e-03  \n",
       "[17,] 0.000000e+00 1.129854e-04 2.347749e-05     1.291262e-04 7.336714e-06  \n",
       "[18,] 6.309574e-05 1.170940e-03 1.791626e-03     5.779863e-03 1.217895e-04  \n",
       "[19,] 1.261915e-03 7.483448e-05 9.537728e-05     6.074799e-04 1.427578e-02  \n",
       "[20,] 6.558058e-06 2.334027e-06 2.828535e-06     3.913346e-06 1.259604e-05  \n",
       "      Sitio Lonas  Sitio Tugas  Tamakin Dacot Visca        Wangag      \n",
       " [1,] 0.000000e+00 0.000000e+00 3.535766e-08  1.473236e-07 5.892943e-08\n",
       " [2,] 5.502536e-04 4.900925e-04 8.070386e-05  1.467343e-06 4.152580e-04\n",
       " [3,] 9.713809e-04 4.724844e-04 2.934686e-06  0.000000e+00 1.848852e-04\n",
       " [4,] 9.787177e-04 4.548763e-04 5.869371e-06  2.934686e-06 1.305935e-04\n",
       " [5,] 1.057954e-03 2.701378e-03 1.173874e-05  2.934686e-06 1.393976e-04\n",
       " [6,] 1.558465e-02 2.299326e-03 1.804832e-04  1.260447e-02 3.228154e-05\n",
       " [7,] 2.054280e-05 4.108560e-05 9.662452e-04  5.575903e-05 5.869371e-06\n",
       " [8,] 1.580328e-03 1.258246e-03 1.958903e-04  5.649270e-05 2.575187e-04\n",
       " [9,] 3.947152e-04 3.448256e-04 3.374888e-05  1.907546e-05 7.952998e-04\n",
       "[10,] 1.467343e-06 7.483448e-05 0.000000e+00  0.000000e+00 8.217120e-04\n",
       "[11,] 7.380734e-03 1.570057e-03 1.540710e-04  9.948584e-04 7.483448e-05\n",
       "[12,] 1.249589e-02 2.293457e-03 1.511363e-04  6.793797e-04 1.379302e-04\n",
       "[13,] 1.491701e-02 2.312532e-03 6.309574e-05  1.863525e-04 1.071160e-04\n",
       "[14,] 4.321325e-04 4.064540e-04 3.888458e-05  7.336714e-07 1.825374e-03\n",
       "[15,] 3.813917e-02 5.707964e-03 0.000000e+00  1.320609e-05 8.363854e-05\n",
       "[16,] 1.106376e-03 5.663943e-04 2.054280e-05  1.173874e-05 1.922219e-04\n",
       "[17,] 7.483448e-05 2.934686e-05 1.306463e-01  5.942738e-04 0.000000e+00\n",
       "[18,] 8.858349e-03 1.719726e-03 2.611870e-04  4.343335e-04 3.374888e-05\n",
       "[19,] 1.848852e-04 1.848852e-04 1.467343e-05  0.000000e+00 1.650761e-03\n",
       "[20,] 6.316306e-06 4.120146e-06 4.860322e-05  2.604258e-06 5.948984e-06"
      ]
     },
     "metadata": {},
     "output_type": "display_data"
    }
   ],
   "source": [
    "FullBiophysMatNorm"
   ]
  },
  {
   "cell_type": "code",
   "execution_count": null,
   "metadata": {},
   "outputs": [],
   "source": []
  },
  {
   "cell_type": "code",
   "execution_count": 86,
   "metadata": {},
   "outputs": [
    {
     "ename": "ERROR",
     "evalue": "Error in rbindlist(l, use.names, fill, idcol): Item 2 has 20 columns, inconsistent with item 1 which has 19 columns. To fill missing columns use fill=TRUE.\n",
     "output_type": "error",
     "traceback": [
      "Error in rbindlist(l, use.names, fill, idcol): Item 2 has 20 columns, inconsistent with item 1 which has 19 columns. To fill missing columns use fill=TRUE.\nTraceback:\n",
      "1. as.matrix(rbind(dcast(SimConn[source != \"Other\" & source != \"CAI\" & \n .     dest != \"CAI\", .(source, dest)][, `:=`(parentage, 1)][order(source, \n .     dest)], source ~ dest, value.var = \"parentage\", fun.aggregate = sum), \n .     dcast(SimConn[source == \"Other\" | source == \"CAI\", .(source, \n .         dest)][, `:=`(parentage, 1)][order(source, dest)][, `:=`(source, \n .         \"unknown\")], source ~ dest, value.var = \"parentage\", \n .         fun.aggregate = sum)))",
      "2. rbind(dcast(SimConn[source != \"Other\" & source != \"CAI\" & dest != \n .     \"CAI\", .(source, dest)][, `:=`(parentage, 1)][order(source, \n .     dest)], source ~ dest, value.var = \"parentage\", fun.aggregate = sum), \n .     dcast(SimConn[source == \"Other\" | source == \"CAI\", .(source, \n .         dest)][, `:=`(parentage, 1)][order(source, dest)][, `:=`(source, \n .         \"unknown\")], source ~ dest, value.var = \"parentage\", \n .         fun.aggregate = sum))",
      "3. rbind(deparse.level, ...)",
      "4. data.table::.rbind.data.table(...)",
      "5. rbindlist(l, use.names, fill, idcol)"
     ]
    }
   ],
   "source": [
    "#make a parentage matrix for the whole biophysical results\n",
    "FullBiophysMat <- as.matrix(rbind(dcast(SimConn[source != \"Other\" & source != \"CAI\" & dest!= \"CAI\" , .(source, dest)][ #for assigned particles (not from \"Other\") keep the source/dest columns that will be expanded into wide form to become the connectivity matrix. Filtering for time period etc can be done in i here.\n",
    "    , parentage :=1][ #mark each row as a parentage match, because at this point I'm using all particles as matches for the simulations\n",
    "    order(source, dest)] #keep sites in alphabetical order so the matrix is correctly formatted!\n",
    "        , source ~ dest, value.var=\"parentage\", fun.aggregate = sum),#[#use sum to count the matches for each id variable combo, that populated the cells of the matrix\n",
    "   # ,-\"source\"], #remove the source column after casting\n",
    "      dcast(SimConn[source == \"Other\" | source == \"CAI\"& dest != \"CAI\" , .(source, dest)][ #this is to cast the \"unassigned row for the model parentage, which is anyting from \"Other\"\n",
    "          , parentage :=1][order(source, dest)][, source := \"unknown\"], source ~ dest, value.var=\"parentage\", fun.aggregate = sum)))#[,-\"source\"]))#bind these two cast wide form data tables (assigned and unassigned particles) and then turn into a matrix to be used in the likelihood functions\n",
    "dim(FullBiophysMat)"
   ]
  },
  {
   "cell_type": "code",
   "execution_count": null,
   "metadata": {},
   "outputs": [],
   "source": [
    "FullBiophysMat"
   ]
  },
  {
   "cell_type": "code",
   "execution_count": 88,
   "metadata": {},
   "outputs": [
    {
     "data": {
      "text/html": [
       "<table>\n",
       "<thead><tr><th scope=col>source</th><th scope=col>CAI</th><th scope=col>Cabatoan</th><th scope=col>Caridad Cemetery</th><th scope=col>Caridad Proper</th><th scope=col>Elementary School</th><th scope=col>Gabas</th><th scope=col>Haina</th><th scope=col>Hicgop South</th><th scope=col>Magbangon</th><th scope=col>Palanas</th><th scope=col>Poroc Rose</th><th scope=col>Poroc San Flower</th><th scope=col>San Agustin</th><th scope=col>Sitio Baybayon</th><th scope=col>Sitio Lonas</th><th scope=col>Sitio Tugas</th><th scope=col>Tamakin Dacot</th><th scope=col>Visca</th><th scope=col>Wangag</th></tr></thead>\n",
       "<tbody>\n",
       "\t<tr><td>unknown </td><td>42536082</td><td>18877   </td><td>21764   </td><td>24086   </td><td>21110   </td><td>4055    </td><td>53871   </td><td>33600   </td><td>18610   </td><td>20296   </td><td>7217    </td><td>8742    </td><td>12101   </td><td>38936   </td><td>19517   </td><td>12731   </td><td>150187  </td><td>8072    </td><td>18392   </td></tr>\n",
       "</tbody>\n",
       "</table>\n"
      ],
      "text/latex": [
       "\\begin{tabular}{r|llllllllllllllllllll}\n",
       " source & CAI & Cabatoan & Caridad Cemetery & Caridad Proper & Elementary School & Gabas & Haina & Hicgop South & Magbangon & Palanas & Poroc Rose & Poroc San Flower & San Agustin & Sitio Baybayon & Sitio Lonas & Sitio Tugas & Tamakin Dacot & Visca & Wangag\\\\\n",
       "\\hline\n",
       "\t unknown  & 42536082 & 18877    & 21764    & 24086    & 21110    & 4055     & 53871    & 33600    & 18610    & 20296    & 7217     & 8742     & 12101    & 38936    & 19517    & 12731    & 150187   & 8072     & 18392   \\\\\n",
       "\\end{tabular}\n"
      ],
      "text/markdown": [
       "\n",
       "| source | CAI | Cabatoan | Caridad Cemetery | Caridad Proper | Elementary School | Gabas | Haina | Hicgop South | Magbangon | Palanas | Poroc Rose | Poroc San Flower | San Agustin | Sitio Baybayon | Sitio Lonas | Sitio Tugas | Tamakin Dacot | Visca | Wangag |\n",
       "|---|---|---|---|---|---|---|---|---|---|---|---|---|---|---|---|---|---|---|---|\n",
       "| unknown  | 42536082 | 18877    | 21764    | 24086    | 21110    | 4055     | 53871    | 33600    | 18610    | 20296    | 7217     | 8742     | 12101    | 38936    | 19517    | 12731    | 150187   | 8072     | 18392    |\n",
       "\n"
      ],
      "text/plain": [
       "  source  CAI      Cabatoan Caridad Cemetery Caridad Proper Elementary School\n",
       "1 unknown 42536082 18877    21764            24086          21110            \n",
       "  Gabas Haina Hicgop South Magbangon Palanas Poroc Rose Poroc San Flower\n",
       "1 4055  53871 33600        18610     20296   7217       8742            \n",
       "  San Agustin Sitio Baybayon Sitio Lonas Sitio Tugas Tamakin Dacot Visca Wangag\n",
       "1 12101       38936          19517       12731       150187        8072  18392 "
      ]
     },
     "metadata": {},
     "output_type": "display_data"
    }
   ],
   "source": [
    " dcast(SimConn[source == \"Other\" | source == \"CAI\"& dest != \"CAI\" , .(source, dest)][ #this is to cast the \"unassigned row for the model parentage, which is anyting from \"Other\"\n",
    "          , parentage :=1][order(source, dest)][, source := \"unknown\"], source ~ dest, value.var=\"parentage\", fun.aggregate = sum)"
   ]
  },
  {
   "cell_type": "code",
   "execution_count": null,
   "metadata": {},
   "outputs": [],
   "source": []
  },
  {
   "cell_type": "code",
   "execution_count": null,
   "metadata": {},
   "outputs": [],
   "source": []
  },
  {
   "cell_type": "code",
   "execution_count": null,
   "metadata": {},
   "outputs": [],
   "source": [
    "#next test likelihood function and kernel fitting with this matrix"
   ]
  },
  {
   "cell_type": "code",
   "execution_count": null,
   "metadata": {},
   "outputs": [],
   "source": []
  },
  {
   "cell_type": "code",
   "execution_count": null,
   "metadata": {},
   "outputs": [],
   "source": []
  },
  {
   "cell_type": "code",
   "execution_count": null,
   "metadata": {},
   "outputs": [],
   "source": []
  },
  {
   "cell_type": "code",
   "execution_count": 79,
   "metadata": {},
   "outputs": [
    {
     "data": {
      "text/plain": [
       "\n",
       "Call:\n",
       "mle2(minuslogl = LL_kt_bbmle, start = list(k = -3, theta = 1), \n",
       "    method = \"L-BFGS-B\", data = x, lower = c(-10, 0.15), upper = c(10, \n",
       "        8), control = list(maxit = 500))\n",
       "\n",
       "Coefficients:\n",
       "        k     theta \n",
       "-1.823630  1.360603 \n",
       "\n",
       "Log-likelihood: -1158730637 "
      ]
     },
     "metadata": {},
     "output_type": "display_data"
    }
   ],
   "source": [
    "x <- list(Distances=Distances, Assignments=FullBiophysMat, Sampled_reefs=t(SiteIndex[site %in% SurveyData[, site], index]), #if CAI is it's own site- site %in% AllYearsRec[, dest]\n",
    "                  Reef_sizes=reef_sizes, Adult_sample_proportions=matrix(nrow=ncol(FullBiophysMat), ncol=1, 1)) #put inputs into a list because that's the bbmle format\n",
    "Sim2012_4Fit <- suppressWarnings(mle2(LL_kt_bbmle, start=list(k=-3, theta=1), lower=c(-10, 0.15), upper=c(10, 8), method=\"L-BFGS-B\", data=x, control=list(maxit=500)))\n",
    "Sim2012_4Fit\n",
    "#Next, do grid search to get the likelihood profile to compare to genetics!"
   ]
  },
  {
   "cell_type": "code",
   "execution_count": null,
   "metadata": {},
   "outputs": [],
   "source": []
  },
  {
   "cell_type": "code",
   "execution_count": null,
   "metadata": {
    "scrolled": false
   },
   "outputs": [],
   "source": [
    "x"
   ]
  },
  {
   "cell_type": "code",
   "execution_count": null,
   "metadata": {},
   "outputs": [],
   "source": [
    "dim(FullBiophysMat)"
   ]
  },
  {
   "cell_type": "code",
   "execution_count": null,
   "metadata": {},
   "outputs": [],
   "source": [
    "dcast(DestSampled[source == \"Other\", .(source, dest)][, parentage :=1][order(source, dest)], source ~ dest, value.var=\"parentage\", fun.aggregate = sum)"
   ]
  },
  {
   "cell_type": "code",
   "execution_count": null,
   "metadata": {},
   "outputs": [],
   "source": []
  },
  {
   "cell_type": "code",
   "execution_count": null,
   "metadata": {},
   "outputs": [],
   "source": [
    "#Mike Bode said I should be less aggressively subsampling the biophysical data, but how should I do that? The kernel fitting still requires that I have a prop samp vector... but when I tried putting 1's in that vector and using all of the particles for fitting I got crazy "
   ]
  },
  {
   "cell_type": "code",
   "execution_count": null,
   "metadata": {},
   "outputs": [],
   "source": [
    "#sample the particle data\n",
    "SimSample <- DestSampled[, .SD[sample(.N, dest_n_rec_annual)], by = c(\"year\", \"dest\")] #, prob=surv_weight #randomly sample rows (particles) from the table according to the survival weighting, based on the number we sampled at each site in each year of surveys\n",
    "check1 <- nrow(SimSample)\n",
    "\n",
    "#assign parentage\n",
    "SimParentage <- SimSample[source_prop_samp > 0][, .SD[sample(.N, num_parentage_matches)], by = .(year)][#Prob=SurvWeight, #now randomly assign parentage or not parentage, based on how well we sampled the source and the number of parentage matches we had in that year\n",
    "                , parentage := 1]\n",
    "#for faster searching, set keys\n",
    "setkey(SimParentage, particle_id)\n",
    "setkey(SimSample, particle_id)\n",
    "\n",
    "l <- list(SimSample[particle_id %!in% SimParentage$particle_id][, parentage := 0], SimParentage)\n",
    "SimSample <- rbindlist(l, use.names = TRUE, fill=TRUE, idcol = NULL)[, c(\"year\", \"source\", \"dest\", \"parentage\", \"monsoon\")] #add back in to the unassigned particles, select only the columns necessary\n",
    "\n",
    "#check results, for testing loop only\n",
    "#nrow(SimSample)==check1 #should be TRUE\n",
    "#sum(SimSample$parentage) #should be 37"
   ]
  },
  {
   "cell_type": "code",
   "execution_count": null,
   "metadata": {},
   "outputs": [],
   "source": [
    "sum(SimSample$parentage)"
   ]
  },
  {
   "cell_type": "code",
   "execution_count": null,
   "metadata": {},
   "outputs": [],
   "source": [
    "\n",
    "#calculate the unassigned row\n",
    "Unassigned <- unique(SimSample[parentage==0][#not counting parentage!\n",
    "    , num_sampled := .(.N), by= c(\"dest\", \"year\", \"monsoon\")], by=c(\"dest\", \"year\", \"monsoon\"))[, -\"source\"]\n",
    "#add destinations not sampled in loop iteration to unassigned \n",
    "Unassigned <- Unassigned[AddDest, on=.(year=year, dest=site, monsoon)]\n",
    "Unassigned$num_sampled[is.na(Unassigned$num_sampled)] <- 0\n",
    "#sum(Unassigned$num_sampled, na.rm=T)==check1-37 #total should be the total sampled particles minus the total assigned\n",
    "setorder(Unassigned, year, dest)\n",
    "\n",
    "##adding in the possible sampled routes needs to happen AFTER calculating unassigned because unassigned is calculated from row counts\n",
    "SimSample <- PropSampTable[SimSample, on=.(year, source, dest, monsoon)]\n",
    "#check all is well- for testing loop only\n",
    "#sum(SimSample$parentage) #should be 37\n",
    "\n",
    "#add in the routes we could have assigned given our sampling so the parentage matrix is complete\n",
    "UnqSimSample <- unique(SimSample, by=c(\"source\", \"dest\", \"year\", \"monsoon\"))\n",
    "\n",
    "AddRoutes <- UnqSurvey[!UnqSimSample, on = names(UnqSurvey)][ #what combos are not appearing because we didn't sample particles, but the route is possible based on our survey sampling\n",
    "    , `:=`(parentage= 0, num_sampled = 0) ] #add the parentage column \n",
    "\n",
    "#add back into the sampled simulation data\n",
    "l <- list(SimSample, AddRoutes[,-\"num_sampled\"])\n",
    "SimSample <- rbindlist(l, use.names = TRUE, fill=TRUE, idcol = NULL)\n",
    "setorder(SimSample, year, source, dest)\n",
    "\n",
    "#make summary tables for each time frame, to be used for making parentage matrix\n",
    "SimSampleByYear <- SimSample[,  .(total_parentage =sum(parentage)), by=c(\"year\", \"source\", \"dest\")]\n",
    "#sum(SimSampleByYear$total_parentage)\n",
    "UnassignedByYear <- Unassigned[, .(total_sampled = sum(num_sampled)), by=c(\"year\", \"dest\")]\n",
    "\n",
    "\n",
    "SimSampleInterannual <- SimSample[,  .(total_parentage =sum(parentage)), by=c(\"source\", \"dest\")]\n",
    "#sum(SimSampleInterannual$total_parentage)\n",
    "UnassignedInterannual <- Unassigned[, .(total_sampled = sum(num_sampled)), by=c(\"dest\")]\n",
    "\n",
    "\n",
    "SimSampleMonsoon <- SimSample[,  .(total_parentage =sum(parentage)), by=c(\"monsoon\", \"source\", \"dest\")]\n",
    "sum(SimSampleMonsoon$total_parentage)\n",
    "UnassignedMonsoon <- Unassigned[, .(total_sampled = sum(num_sampled)), by=c(\"monsoon\", \"dest\")]\n",
    "\n",
    "#make a parentage matrix for each year\n",
    "mat2012 <- dcast(SimSampleByYear[year==2012], source ~ dest, value.var=\"total_parentage\", fun.aggregate = sum)[source %in% SurveyData[year==2012 & prop_anem_samp >0, site]][, -\"source\"] \n",
    "mat2012 <- as.matrix(rbind(mat2012, t(UnassignedByYear[year==2012][, total_sampled]), use.names=F))\n",
    "\n",
    "mat2013 <- dcast(SimSampleByYear[year==2013], source ~ dest, value.var=\"total_parentage\", fun.aggregate = sum)[source %in% SurveyData[year==2013 & prop_anem_samp >0, site]][, -\"source\"] \n",
    "mat2013 <- as.matrix(rbind(mat2013, t(UnassignedByYear[year==2013][, total_sampled]), use.names=F))\n",
    "\n",
    "mat2014 <- dcast(SimSampleByYear[year==2014], source ~ dest, value.var=\"total_parentage\", fun.aggregate = sum)[source %in% SurveyData[year==2014 & prop_anem_samp >0, site]][, -\"source\"] \n",
    "mat2014 <- as.matrix(rbind(mat2014, t(UnassignedByYear[year==2014][, total_sampled]), use.names=F))\n",
    "\n",
    "mat2012_4 <- dcast(SimSampleInterannual, source ~ dest, value.var=\"total_parentage\", fun.aggregate = sum)[source %in% SurveyData[year %in% c(2012, 2013, 2014) & prop_anem_samp >0, site]][, -\"source\"] \n",
    "mat2012_4 <- as.matrix(rbind(mat2012_4, t(UnassignedInterannual[, total_sampled]), use.names=F))\n",
    "\n",
    "matNEM <- dcast(SimSampleMonsoon[monsoon==\"NEM\"], source ~ dest, value.var=\"total_parentage\", fun.aggregate = sum)[source %in% SurveyData[year %in% c(2012, 2013, 2014) & prop_anem_samp >0, site]][, -\"source\"] \n",
    "matNEM <- as.matrix(rbind(matNEM, t(UnassignedMonsoon[monsoon==\"NEM\"][, total_sampled]), use.names=F))\n",
    "\n",
    "matSWM <- dcast(SimSampleMonsoon[monsoon==\"SWM\"], source ~ dest, value.var=\"total_parentage\", fun.aggregate = sum)[source %in% SurveyData[year %in% c(2012, 2013, 2014) & prop_anem_samp >0, site]][, -\"source\"] \n",
    "matSWM <- as.matrix(rbind(matSWM, t(UnassignedMonsoon[monsoon==\"SWM\"][, total_sampled]), use.names=F))\n",
    "\n"
   ]
  },
  {
   "cell_type": "code",
   "execution_count": null,
   "metadata": {},
   "outputs": [],
   "source": []
  },
  {
   "cell_type": "code",
   "execution_count": null,
   "metadata": {},
   "outputs": [],
   "source": [
    "matSWM"
   ]
  },
  {
   "cell_type": "code",
   "execution_count": null,
   "metadata": {},
   "outputs": [],
   "source": []
  },
  {
   "cell_type": "code",
   "execution_count": null,
   "metadata": {},
   "outputs": [],
   "source": [
    "#Biophysical source normalized matrix\n",
    "#for each source, what is the normalized recruitment at each destination? \n",
    "GenSimConn[, annual_source_normalized_recruitment := sum(daily_particles_recruited)/sum(daily_particles_released), by=c(\"source\", \"destination\",\"year_sampled\")]\n"
   ]
  },
  {
   "cell_type": "markdown",
   "metadata": {},
   "source": [
    "__Code function for likelihood of parentage data given a biophysical model, based on Bode et al. 2019 in Plos Bio__"
   ]
  },
  {
   "cell_type": "code",
   "execution_count": null,
   "metadata": {},
   "outputs": [],
   "source": [
    "#lay out all the pieces\n",
    "pop_size_vec <- #vector of pop sizes for all reefs (a). This term is also used in parentage kernel fitting, but reef sizes are substituted as a proxy for pop size. This is should be bootstrapped to account for uncertainty.\n",
    "BioPhysMat <- #source normalized biophysical connectivity matrix. In Eqn. S3.4, this is m ajt/r a (*should it be r at? As in all particles released in time period t?)\n",
    "prop_samp_vec <- #vector of proportion of habitat sampled for all reefs in time period t\n",
    "unassigned_vec#from genetic parentage data- a vector of the number of unassigned recruits at each destination reef in the system- we only have this for all sampled reefs.... what should the dimensions be?*\n"
   ]
  },
  {
   "cell_type": "code",
   "execution_count": null,
   "metadata": {},
   "outputs": [],
   "source": [
    "#format the data"
   ]
  },
  {
   "cell_type": "code",
   "execution_count": null,
   "metadata": {},
   "outputs": [],
   "source": [
    "reef"
   ]
  },
  {
   "cell_type": "code",
   "execution_count": null,
   "metadata": {},
   "outputs": [],
   "source": [
    "head(AnnualRecsSamp)"
   ]
  },
  {
   "cell_type": "code",
   "execution_count": null,
   "metadata": {},
   "outputs": [],
   "source": [
    "#Eqn. S3.4 term 1 for loop\n",
    "\n",
    "for(j in 1:nrow(centroids)){ #for each destination reef in the whole Camotes system\n",
    "    \n",
    "dest_unassigned <- sum(unassigned_vec[t==time_period]) #the sum of all unassigned recruits at time period t\n",
    "    \n",
    "        for(i in 1:nrow(centroids)){ #term 1- for each source reef in the whole Camotes system, expected unassigned at each destination reef\n",
    "            \n",
    "            term1_num <- ((1-prop_samp_vec[i,t== time_period])^2)*pop_size_vec[i]*BioPhysMat[i,j,t]\n",
    "            \n",
    "            for(a in 1:nrow(centroids)){ #for all reefs total in the whole Camotes system, denominator of term 1\n",
    "                \n",
    "                value_a <-  pop_size_vec[a]*BioPhysMat[a, j, t]\n",
    "                term1_denom <- sum(value_a)\n",
    "            }\n",
    "        \n",
    "        term1 = term1_num/term1_denom\n",
    "        }\n",
    "\n",
    "    for(k in 1:nrow(centroids)){ #term 2- for each source reef in the whole Camotes system, expected assigned at each destination reef\n",
    "        \n",
    "        term2_num <- (1-(1-prop_samp_vec[i,t== time_period])^2)*pop_size_vec[i]*BioPhysMat[i,j,t]\n",
    "            \n",
    "            for(a in 1:nrow(centroids)){ #for all reefs total in the whole Camotes system, denominator of term 2\n",
    "                \n",
    "                value_a <-  pop_size_vec[a]*BioPhysMat[a, j, t]\n",
    "                term2_denom <- sum(value_a)\n",
    "            }\n",
    "        \n",
    "        term2 = term2_num/term2_denom\n",
    "        \n",
    "        }\n",
    "        \n",
    "    \n",
    "\n",
    "prob_unsampled <- dest_unassigned*log(term1)  \n",
    "prob_sampled <- dest_assigned*log(term2)\n",
    "ll = prob_unsampled + prob_sampled\n",
    "}"
   ]
  },
  {
   "cell_type": "code",
   "execution_count": null,
   "metadata": {},
   "outputs": [],
   "source": []
  },
  {
   "cell_type": "code",
   "execution_count": null,
   "metadata": {},
   "outputs": [],
   "source": []
  },
  {
   "cell_type": "code",
   "execution_count": null,
   "metadata": {},
   "outputs": [],
   "source": []
  },
  {
   "cell_type": "code",
   "execution_count": null,
   "metadata": {},
   "outputs": [],
   "source": []
  },
  {
   "cell_type": "code",
   "execution_count": null,
   "metadata": {},
   "outputs": [],
   "source": []
  },
  {
   "cell_type": "code",
   "execution_count": null,
   "metadata": {},
   "outputs": [],
   "source": [
    "\n",
    "for(i in 1:NumSampledReefs){\n",
    "   This_SS_A = Adult_sample_proportions[i]#same\n",
    "   for(j in 1:NumSampledReefs){\n",
    "    SettlersFromAssignedReefs = Settlers[Sampled_reefs[i],Sampled_reefs[j]]#same\n",
    "    #Not all settlers from assigned reefs will be assigned, because not all adults were sampled\n",
    "    AssignedSettlers[i,j] = SettlersFromAssignedReefs*(This_SS_A^2 + 2*This_SS_A*(1 - This_SS_A))\n",
    "    AssignedSettlers[NumSampledReefs+1,j] = AssignedSettlers[NumSampledReefs+1,j] + SettlersFromAssignedReefs*(1-This_SS_A)^2 #The three dots '...' tell matlab that the code on a given line continues on the next line.\n",
    "   }\n",
    "}\n",
    "Unsampled = as.matrix(setdiff(1:NumReefs,Sampled_reefs))\n",
    "\n",
    "\n",
    "for(j in 1:NumSampledReefs){\n",
    "   AssignedSettlers[NumSampledReefs+1,j] = AssignedSettlers[NumSampledReefs+1,j] + sum(Settlers[Unsampled,Sampled_reefs[,j]]) \n",
    "}\n",
    "   \n",
    "\n"
   ]
  },
  {
   "cell_type": "code",
   "execution_count": null,
   "metadata": {},
   "outputs": [],
   "source": []
  },
  {
   "cell_type": "code",
   "execution_count": null,
   "metadata": {},
   "outputs": [],
   "source": []
  },
  {
   "cell_type": "code",
   "execution_count": null,
   "metadata": {},
   "outputs": [],
   "source": []
  },
  {
   "cell_type": "code",
   "execution_count": null,
   "metadata": {},
   "outputs": [],
   "source": []
  },
  {
   "cell_type": "code",
   "execution_count": null,
   "metadata": {},
   "outputs": [],
   "source": []
  },
  {
   "cell_type": "code",
   "execution_count": null,
   "metadata": {},
   "outputs": [],
   "source": []
  },
  {
   "cell_type": "code",
   "execution_count": null,
   "metadata": {},
   "outputs": [],
   "source": []
  },
  {
   "cell_type": "markdown",
   "metadata": {},
   "source": [
    "__Loop through sampling different proportions of other and CAI source particles and compare the unassigned proportions of total sample particles to the genetic observations from survey data__"
   ]
  },
  {
   "cell_type": "code",
   "execution_count": null,
   "metadata": {},
   "outputs": [],
   "source": [
    "PropAssignedTable <- rbind(kernels[Year %in% c(\"2012\", \"2013\", \"2014\")][\n",
    "    , PropAssigned := PercentAssigned/100][ #change to proportion note percent\n",
    "    , c(\"Year\", \"NumParentageMatches\", \"NumOffsSampled\", \"PropAssigned\")],                      \n",
    "    unique(kernels[Year %in% c(\"2012\", \"2013\", \"2014\")][ #only the years coinciding with the models\n",
    "    , `:=` (NumParentageMatches=sum(NumParentageMatches), NumOffsSampled=sum(NumOffsSampled), PropAssigned = NumParentageMatches/NumOffsSampled, Year = \"2012-4\")][ #summarise across the 3 years\n",
    "    , c(\"Year\",\"NumParentageMatches\", \"NumOffsSampled\", \"PropAssigned\")], by=\"Year\"))\n",
    "    \n",
    "\n",
    "PropAssignedTable[]\n",
    "\n",
    "#add in the average sampled proportion of anemones\n",
    "AvgPropSamp <- SurveyData[PropAnemSamp >0, .(PropAnemSamp = mean(PropAnemSamp)), by=\"year\"][ #average for each site we sampled, how well we sampled\n",
    "    year %in% c(\"2012\", \"2013\", \"2014\")][\n",
    "    , year :=as.character(year)]\n",
    "\n",
    "ExpectedPropAssigned <- AvgPropSamp[PropAssignedTable, on=.(year=Year)]\n",
    "ExpectedPropAssigned$PropAnemSamp[is.na(ExpectedPropAssigned$PropAnemSamp)] <- mean(ExpectedPropAssigned$PropAnemSamp, na.rm = T) #replace the 2012-4 NA with the average from the 3 years\n",
    "\n",
    "#what's the normalized self recruitment proportion back to the population\n",
    "ExpectedPropAssigned[, ExpAssigned := NumParentageMatches/(NumOffsSampled*PropAnemSamp)][] #this is the expected assignment for the whole surveyed population if we had sampled all adults (which we kind of do when we use the simulation results)\n",
    "#at some point... maybe it would be better to compare on a site to site level? idk that's pretty fine scale, I don't know that our ROMS model can be expected to compare so well with that"
   ]
  },
  {
   "cell_type": "code",
   "execution_count": null,
   "metadata": {},
   "outputs": [],
   "source": []
  },
  {
   "cell_type": "raw",
   "metadata": {},
   "source": []
  },
  {
   "cell_type": "code",
   "execution_count": null,
   "metadata": {},
   "outputs": [],
   "source": []
  },
  {
   "cell_type": "markdown",
   "metadata": {},
   "source": [
    "__For the expected values of recruits from outside of our sampled region, I'm using the intermediate \"PredictedProportions\" matrix from the Bode kernel fitting script (https://github.com/MikeBode/Parentage_kernel_fitting/blob/master/Kernel_Fitting_Function.m) because it accounts for how well sites were sampled when estimating proportions of recruits from unsampled sites__"
   ]
  },
  {
   "cell_type": "code",
   "execution_count": null,
   "metadata": {},
   "outputs": [],
   "source": [
    "#####outside of the loop*****\n",
    "\n",
    "PropSampTable <- SurveyData[PropAnemSamp >0, c(\"year\", \"site\")]\n",
    "\n",
    "#make sure all sampled sites are represented by joining the survey data to the sampled simulation\n",
    "PropSampTable <- rbind(SurveyData[PropAnemSamp >0 & year %in% c(2012, 2013, 2014), c(\"year\", \"site\")][, .(Source=site, Dest=site, Year=year)][ #will join to the simulated sampling table by source and dest, so make those each a column from site and preserve the year variable as a key\n",
    "    , c(\"Year\", \"Source\", \"Dest\")][, Monsoon := \"NEM\"], SurveyData[PropAnemSamp >0 & year %in% c(2012, 2013, 2014), c(\"year\", \"site\")][, .(Source=site, Dest=site, Year=year)][ #will join to the simulated sampling table by source and dest, so make those each a column from site and preserve the year variable as a key\n",
    "    , c(\"Year\", \"Source\", \"Dest\")][, Monsoon := \"SWM\"])\n",
    "#unq_survey <- unique(PropSampTable, by=c(\"Source\", \"Dest\", \"Year\", \"Monsoon\"))#, unique(PropSampTable, by=c(\"Source\", \"Dest\", \"Year\"))[, Monsoon := \"SWM\"]) #add in the diff Monsoon seasons so there are complete parentage matrices later\n",
    "#add_dest <- rbind(SurveyData[year %in% c(2012, 2013, 2014) & PropAnemSamp >0][, c(\"year\", \"site\")][, Monsoon := \"NEM\"], SurveyData[year %in% c(2012, 2013, 2014) & PropAnemSamp >0][, c(\"year\", \"site\")][, Monsoon := \"SWM\"])  #what destinations were sampled, for use with unassigned table\n",
    "\n",
    "###outside of the loop\n",
    "PropToEval <- seq(0.1, 1, 0.1) #make a vector of proportions to sample iterativaley and compare\n",
    "#empty table to hold results\n",
    "PropSampOtherCAI <- data.table(TimeScale=character(), TimeID=character(), PropUnassigned=numeric(), ExpUnassigned=numeric(),  PropSampEval=numeric(), Check1=character(), Check2=character(), NrowSimConn=numeric())\n",
    "\n"
   ]
  },
  {
   "cell_type": "code",
   "execution_count": null,
   "metadata": {},
   "outputs": [],
   "source": [
    "pb <- txtProgressBar(min = 0, max =length(PropToEval), style = 3)\n",
    "\n",
    "StartTime <- Sys.time()\n",
    "\n",
    "for(i in 1:length(PropToEval)){\n",
    "\n",
    "PropSampOtherCAI_int <- data.table(TimeScale=character(), TimeID=character(), PropUnassigned=numeric(), ExpUnassigned=numeric(),  PropSampEval=numeric(), Check1=character(), Check2=character(), NrowSimConn=numeric())[1:4]\n",
    "\n",
    "dest_sampled <- date_join[DestPropSamp >0]\n",
    "check1 <- nrow(dest_sampled)\n",
    "dest_sampled <- dest_sampled[c(dest_sampled[, .I[Source != \"Other\"]], sample(dest_sampled[, .I[Source == \"Other\"]], length(dest_sampled[, .I[Source == \"Other\"]])*PropToEval[i]))]\n",
    "check2 <- nrow(dest_sampled)\n",
    "dest_sampled <- dest_sampled[c(dest_sampled[, .I[Source != \"CAI\"]], sample(dest_sampled[, .I[Source == \"CAI\"]], length(dest_sampled[, .I[Source == \"CAI\"]])*PropToEval[i]))]\n",
    "check3 <- nrow(dest_sampled)\n",
    "\n",
    "#check that we have less rows, should both be TRUE\n",
    "test1 <- check1 > check2\n",
    "test2 <- check2 > check3\n",
    "#check1 > check2\n",
    "#check2 > check3\n",
    "\n",
    "\n",
    "#join in the number of parentage matches observed by year\n",
    "dest_sampled <- kernels[Year %in% c(\"2012\", \"2013\", \"2014\")][, Year:=as.integer(Year)][,c(\"Year\", \"NumParentageMatches\")][dest_sampled, on=.(Year=YearSampled)]#[\n",
    "\n",
    "#randomly subsample the sampled particle data\n",
    "sim_sample <- dest_sampled[, .SD[sample(.N, DestNOffsAnnual, prob=SurvWeight)], by = c(\"Year\", \"Dest\")] #randomly sample rows (particles) from the table according to the survival weighting, based on the number we sampled at each site in each year of surveys\n",
    "\n",
    "PropUnassignedByYear <- (sim_sample[Source == \"CAI\"| Source == \"Other\", .(.N), by=\"Year\"][, N]/#total particales sampled from other/CAI sources\n",
    "sim_sample[, .(.N), by=\"Year\"][, N]) #total particles sampled\n",
    "\n",
    "PropSampOtherCAI_int$TimeScale[1] <- \"annual\"\n",
    "PropSampOtherCAI_int$TimeID[1] <- \"2012\"\n",
    "PropSampOtherCAI_int$PropUnassigned[1] <- PropUnassignedByYear[1]\n",
    "PropSampOtherCAI_int$ExpUnassigned[1] <- 1-(ExpectedPropAssigned[1, ExpAssigned])\n",
    "PropSampOtherCAI_int$PropSampEval[1] <- PropToEval[i]\n",
    "PropSampOtherCAI_int$Check1[1] <- test1\n",
    "PropSampOtherCAI_int$Check2[1] <- test2\n",
    "PropSampOtherCAI_int$NrowSimConn[1] <- nrow(dest_sampled)\n",
    "    \n",
    "PropSampOtherCAI_int$TimeScale[2] <- \"annual\"\n",
    "PropSampOtherCAI_int$TimeID[2] <- \"2013\"\n",
    "PropSampOtherCAI_int$PropUnassigned[2] <- PropUnassignedByYear[2]\n",
    "PropSampOtherCAI_int$ExpUnassigned[2] <- 1-(ExpectedPropAssigned[2, ExpAssigned])\n",
    "PropSampOtherCAI_int$PropSampEval[2] <- PropToEval[i]\n",
    "PropSampOtherCAI_int$Check1[2] <- test1\n",
    "PropSampOtherCAI_int$Check2[2] <- test2\n",
    "PropSampOtherCAI_int$NrowSimConn[2] <- nrow(dest_sampled)\n",
    "    \n",
    "PropSampOtherCAI_int$TimeScale[3] <- \"annual\"\n",
    "PropSampOtherCAI_int$TimeID[3] <- \"2014\"\n",
    "PropSampOtherCAI_int$PropUnassigned[3] <- PropUnassignedByYear[3]\n",
    "PropSampOtherCAI_int$ExpUnassigned[3] <- 1-(ExpectedPropAssigned[3, ExpAssigned])\n",
    "PropSampOtherCAI_int$PropSampEval[3] <- PropToEval[i]\n",
    "PropSampOtherCAI_int$Check1[3] <- test1\n",
    "PropSampOtherCAI_int$Check2[3] <- test2\n",
    "PropSampOtherCAI_int$NrowSimConn[3] <- nrow(dest_sampled)\n",
    "    \n",
    "PropSampOtherCAI_int$TimeScale[4] <- \"interannual\"\n",
    "PropSampOtherCAI_int$TimeID[4] <- \"2012_4\"\n",
    "PropSampOtherCAI_int$PropUnassigned[4] <- nrow(sim_sample[Source == \"CAI\"| Source == \"Other\"])/nrow(sim_sample)\n",
    "PropSampOtherCAI_int$ExpUnassigned[4] <- 1-(ExpectedPropAssigned[4, ExpAssigned])\n",
    "PropSampOtherCAI_int$PropSampEval[4] <- PropToEval[i]\n",
    "PropSampOtherCAI_int$Check1[4] <- test1\n",
    "PropSampOtherCAI_int$Check2[4] <- test2\n",
    "PropSampOtherCAI_int$NrowSimConn[4] <- nrow(dest_sampled)\n",
    "\n",
    "l <- list(PropSampOtherCAI, PropSampOtherCAI_int)\n",
    "PropSampOtherCAI <- rbindlist(l, use.names = TRUE, fill=TRUE, idcol = FALSE)\n",
    "setTxtProgressBar(pb, i)\n",
    "    \n",
    "}\n",
    "\n",
    "close(pb)\n",
    "EndTime <- Sys.time()\n",
    "EndTime-StartTime\n",
    "\n",
    "fwrite(PropSampOtherCAI, file=\"~/oceanography/script_output/SimulationSummaryTables/PropSampOtherCAIEvaluation.csv\")\n"
   ]
  },
  {
   "cell_type": "code",
   "execution_count": null,
   "metadata": {},
   "outputs": [],
   "source": [
    "PropSampOtherCAI[order(-PropUnassigned)]"
   ]
  },
  {
   "cell_type": "markdown",
   "metadata": {},
   "source": [
    "__Seems like good justification to not subsample the ROMS particles from other/Camotes Islands__"
   ]
  },
  {
   "cell_type": "code",
   "execution_count": null,
   "metadata": {},
   "outputs": [],
   "source": []
  },
  {
   "cell_type": "code",
   "execution_count": null,
   "metadata": {},
   "outputs": [],
   "source": []
  },
  {
   "cell_type": "code",
   "execution_count": null,
   "metadata": {},
   "outputs": [],
   "source": []
  },
  {
   "cell_type": "code",
   "execution_count": null,
   "metadata": {},
   "outputs": [],
   "source": []
  },
  {
   "cell_type": "code",
   "execution_count": null,
   "metadata": {},
   "outputs": [],
   "source": [
    "\n"
   ]
  },
  {
   "cell_type": "code",
   "execution_count": null,
   "metadata": {},
   "outputs": [],
   "source": []
  },
  {
   "cell_type": "code",
   "execution_count": null,
   "metadata": {
    "scrolled": false
   },
   "outputs": [],
   "source": []
  },
  {
   "cell_type": "code",
   "execution_count": null,
   "metadata": {},
   "outputs": [],
   "source": []
  },
  {
   "cell_type": "code",
   "execution_count": null,
   "metadata": {},
   "outputs": [],
   "source": []
  },
  {
   "cell_type": "code",
   "execution_count": null,
   "metadata": {
    "scrolled": false
   },
   "outputs": [],
   "source": []
  },
  {
   "cell_type": "code",
   "execution_count": null,
   "metadata": {},
   "outputs": [],
   "source": []
  },
  {
   "cell_type": "code",
   "execution_count": null,
   "metadata": {},
   "outputs": [],
   "source": []
  },
  {
   "cell_type": "code",
   "execution_count": null,
   "metadata": {},
   "outputs": [],
   "source": []
  },
  {
   "cell_type": "code",
   "execution_count": null,
   "metadata": {},
   "outputs": [],
   "source": [
    "\n"
   ]
  },
  {
   "cell_type": "code",
   "execution_count": null,
   "metadata": {},
   "outputs": [],
   "source": [
    "nrow(dest_sampled)\n",
    "nrow(SimConn)"
   ]
  },
  {
   "cell_type": "code",
   "execution_count": null,
   "metadata": {
    "scrolled": false
   },
   "outputs": [],
   "source": [
    "#save inter file\n",
    "#fwrite(dest_sampled, file=\"~/oceanography/script_output/LongFormConnWithProbsTest.csv\")\n",
    "#see if I can write as a compressed file so it can be stored on github\n",
    "#https://stackoverflow.com/questions/42788401/is-possible-to-use-fwrite-from-data-table-with-gzfile"
   ]
  },
  {
   "cell_type": "code",
   "execution_count": null,
   "metadata": {},
   "outputs": [],
   "source": []
  },
  {
   "cell_type": "code",
   "execution_count": null,
   "metadata": {},
   "outputs": [],
   "source": []
  },
  {
   "cell_type": "code",
   "execution_count": null,
   "metadata": {},
   "outputs": [],
   "source": []
  },
  {
   "cell_type": "code",
   "execution_count": null,
   "metadata": {},
   "outputs": [],
   "source": []
  },
  {
   "cell_type": "code",
   "execution_count": null,
   "metadata": {},
   "outputs": [],
   "source": []
  }
 ],
 "metadata": {
  "kernelspec": {
   "display_name": "R",
   "language": "R",
   "name": "ir"
  },
  "language_info": {
   "codemirror_mode": "r",
   "file_extension": ".r",
   "mimetype": "text/x-r-source",
   "name": "R",
   "pygments_lexer": "r",
   "version": "3.6.1"
  }
 },
 "nbformat": 4,
 "nbformat_minor": 4
}
