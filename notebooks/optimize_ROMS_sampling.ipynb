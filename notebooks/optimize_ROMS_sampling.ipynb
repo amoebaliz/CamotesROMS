{
 "cells": [
  {
   "cell_type": "code",
   "execution_count": 8,
   "metadata": {},
   "outputs": [],
   "source": [
    "Packages <- c(\"dplyr\",  \"nleqslv\", \"broom\",\"cubature\", \"geosphere\", \"data.table\",  \"ggplot2\", \"bbmle\", \"stringr\",  \"lubridate\", \"RColorBrewer\")\n",
    "\n",
    "invisible(suppressPackageStartupMessages(lapply(Packages, library, character.only = TRUE)))\n",
    "\n",
    "setwd('/local/home/katrinac/oceanography')\n",
    "\"%!in%\" <- function(x,table) match(x,table, nomatch = 0) == 0\n",
    "source(\"~/parentage/kernel_fitting/1340_loci/functions/ll_kt_both_bbmle.R\")\n",
    "#source(\"~/oceanography/scripts/PredictedProportions.R\")\n",
    "\n",
    "#read in the kernel fitting summary\n",
    "kernels <- fread(file=\"~/parentage/kernel_fitting/1340_loci/final_results/tables/kernel_fitting_summary.csv\")\n",
    "kernel2012_14 <- fread(file=\"~/oceanography/empirical_data/genetics/GenKernelsForROMSComp2012-14.csv\")\n",
    "\n",
    "#read in the centroids adjusted for the simulation, so the Magbangons combined \n",
    "#centroids <- fread(file=\"~/oceanography/script_output/SurveyData/SimulationCentroids.csv\")\n",
    "Centroids <- fread(file=\"~/oceanography/empirical_data/site_centroids_SimTest.csv\")\n",
    "setorder(centroids, site)\n",
    "#read in the table with number of recruits sampled at each site for each year\n",
    "AnnualRecsSamp <- fread(file=\"~/oceanography/script_output/SurveyData/AnnualRecruitsSampled.csv\")\n",
    "#read in the table of the proportion of anemones sampled at each site for each year\n",
    "PropSamp <- fread(file=\"~/oceanography/script_output/SurveyData/ProportionHabitatSampled.csv\")\n",
    "\n",
    "#read in the ROMS simulation connectivity table with metadata, not yet subsetted (*but check this)\n",
    "DateJoin <- fread(file=\"~/oceanography/script_output/ROMSDataTables/LongFormConnWithProbs.csv\")\n",
    "setnames(DateJoin, c(\"YearSampled\", \"SurvWeight\", \"Dest\", \"DestNOffsAnnual\", \"DestPropSamp\", \"DestTotalAnems\", \"Source\", \"SourceNOffsAnnual\", \"SourcePropSamp\", \"SourceTotalAnems\", \"SimMonth\", \"SimDay\", \"SimYear\", \"SimMonsoon\", \"DailyParticles\", \"ParticleID\", \"SourceSize\"), \n",
    "        c(\"year_sampled\", \"surv_weight\", \"dest\", \"dest_n_offs_annual\", \"dest_prop_samp\", \"dest_total_anems\", \"source\", \"source_n_offs_annual\", \"source_prop_samp\", \"source_total_anems\", \"sim_month\", \"sim_day\", \"sim_year\", \"sim_monsoon\", \"daily_particles\", \"particle_id\", \"source_size\"))\n",
    "\n",
    "#make vectors defining sites we didn't sample, but that are in the model, and the sandflats specifically \n",
    "UnsampledSites <- c(\"SF1\", \"SF2\", \"SF3\", \"SF4\", \"SF5\", \"SF6\", \"Pangasugan\", \"Other\", \"CAI\") \n",
    "SandFlats <- c(\"SF1\", \"SF2\", \"SF3\", \"SF4\", \"SF5\", \"SF6\") \n",
    "\n",
    "#make the constant inputs for the kernel fitting function\n",
    "#distance matrix using the centroids with combined Magbangon\n",
    "### List of source locations\n",
    "sites_source <- centroids\n",
    "\n",
    "### List of destination locations\n",
    "sites_dest <- centroids\n",
    "\n",
    "dist_mat_m <- distm(sites_source[,c('lon','lat')], sites_source[,c('lon','lat')], fun=distVincentyEllipsoid)\n",
    "Distances <- dist_mat_m*10^-3\n",
    "#read in the reef areas for the kernel fitting\n",
    "area <- fread(\"~/oceanography/empirical_data/site_area_header_nonsurveyed_simulation_kernels_test.csv\") %>%\n",
    "    arrange(site) %>%\n",
    "    filter(site %!in% c(\"near_north_full1\", \"near_north_full2\", \"near_north_full3\", \"near_south_full1\", \"near_south_full2\", \"near_south_full3\")) %>%\n",
    "    mutate(kmsq=msq*10^-6)# %>%\n",
    "    #select(kmsq) #need to uncomment for functions to work\n",
    "setorder(area, site)\n",
    "reef_sizes <- as.matrix(Area$kmsq)\n",
    "\n",
    "#make a table with the survey information for each site (how many fish sampled, prop anems sampled, total number of anems at site)\n",
    "SurveyData <- AnnualRecsSamp[PropSamp, on=.(year=end_year, site)][#join the sampling tables together\n",
    "    is.na(n_offs_gen), n_offs_gen := 0][#change NA's to 0\n",
    "    ,-\"time_frame\"]#drop the time_frame column, we can key with end_year\n",
    "setnames(SurveyData, c(\"PropAnemSamp\", \"TotalAnems\") c(\"prop_anem_samp\", \"total_anems\"))\n",
    "#setkey(SurveyData, site)\n",
    "#check all sites are represented in centroids and area (and indirectly distances, which comes from centroids)\n",
    "#Area[site %!in% centroids$site] #should be nothing\n",
    "\n",
    "#genetic data to make predicted proportions\n",
    "Assignments2012_4 <- as.matrix(read.csv(\"~/parentage/kernel_fitting/1340_loci/input/parentage_matrix_2012-14ForROMSComp.csv\", header=FALSE))\n",
    "Adult_sample_proportions2012_4 <- as.matrix(read.csv(\"~/parentage/kernel_fitting/1340_loci/input/prop_samp12-14.csv\", header=FALSE))\n",
    "Sampled_reefs2012_4 <- as.matrix(read.csv(\"~/parentage/kernel_fitting/1340_loci/input/site_index12-14.csv\", header=FALSE))\n",
    "\n",
    "Distances_gen <- as.matrix(read.csv(\"~/parentage/kernel_fitting/1340_loci/input/distance_matrix_unsurveyed.csv\", header=FALSE))\n",
    "Reef_sizes_gen <- as.matrix(read.csv(\"~/parentage/kernel_fitting/894_loci/area_unsurveyed.csv\", header=FALSE))\n",
    "Centroids_gen <- as.matrix(read.csv(\"~/parentage/kernel_fitting/894_loci/centroids_unsurveyed.csv\", header=T))\n",
    "\n",
    "Assignments2012 <- as.matrix(read.csv(\"~/parentage/kernel_fitting/1340_loci/input/parentage_matrix12_corrected.csv\", header=FALSE))\n",
    "Adult_sample_proportions2012 <- as.matrix(read.csv(\"~/parentage/kernel_fitting/1340_loci/input/prop_samp12.csv\", header=FALSE))\n",
    "Sampled_reefs2012 <- as.matrix(read.csv(\"~/parentage/kernel_fitting/1340_loci/input/site_index12.csv\", header=FALSE))\n",
    "\n",
    "Assignments2013 <- as.matrix(read.csv(\"~/parentage/kernel_fitting/1340_loci/input/parentage_matrix13_corrected.csv\", header=FALSE))\n",
    "Adult_sample_proportions2013 <- as.matrix(read.csv(\"~/parentage/kernel_fitting/1340_loci/input/prop_samp13.csv\", header=FALSE))\n",
    "Sampled_reefs2013 <- as.matrix(read.csv(\"~/parentage/kernel_fitting/1340_loci/input/site_index13.csv\", header=FALSE))\n",
    "\n",
    "Assignments2014 <- as.matrix(read.csv(\"~/parentage/kernel_fitting/1340_loci/input/parentage_matrix14_corrected.csv\", header=FALSE))\n",
    "Adult_sample_proportions2014 <- as.matrix(read.csv(\"~/parentage/kernel_fitting/1340_loci/input/prop_samp14.csv\", header=FALSE))\n",
    "Sampled_reefs2014 <- as.matrix(read.csv(\"~/parentage/kernel_fitting/1340_loci/input/site_index14.csv\", header=FALSE))\n",
    "\n",
    "#Allison's abundance time series data \n",
    "download.file(url = \"https://github.com/pinskylab/Clownfish_persistence/blob/master/Data/Script_outputs/females_df_F.RData?raw=true\", destfile = \"~/oceanography/empirical_data/genetics/females_df_F.RData\")\n",
    "load(\"~/oceanography/empirical_data/genetics/females_df_F.RData\")\n",
    "Abundance <- as.data.table(females_df_F)"
   ]
  },
  {
   "cell_type": "code",
   "execution_count": 20,
   "metadata": {},
   "outputs": [],
   "source": [
    "SurveyData <- AnnualRecsSamp[PropSamp, on=.(year=end_year, site)][#join the sampling tables together\n",
    "    is.na(n_offs_gen), n_offs_gen := 0][#change NA's to 0\n",
    "    ,-\"time_frame\"]#drop the time_frame\n",
    "\n",
    "SurveyData <- Abundance[, c(\"year\", \"site\", \"nF\")][SurveyData, on=.(year, site)]#join in Allison's estimate of female abundance. There are NA values, but that's okay we can figure those out when we start thinking about incorporating uncertainty in this\n"
   ]
  },
  {
   "cell_type": "code",
   "execution_count": 21,
   "metadata": {},
   "outputs": [
    {
     "data": {
      "text/html": [
       "<table>\n",
       "<thead><tr><th scope=col>year</th><th scope=col>site</th><th scope=col>nF</th><th scope=col>n_offs_gen</th><th scope=col>PropAnemSamp</th><th scope=col>TotalAnems</th></tr></thead>\n",
       "<tbody>\n",
       "\t<tr><td>2012             </td><td>Cabatoan         </td><td> 8               </td><td>4                </td><td>0.4230769        </td><td> 26              </td></tr>\n",
       "\t<tr><td>2012             </td><td>Caridad Cemetery </td><td>NA               </td><td>0                </td><td>0.0000000        </td><td>  4              </td></tr>\n",
       "\t<tr><td>2012             </td><td>Caridad Proper   </td><td>NA               </td><td>0                </td><td>0.0000000        </td><td>  4              </td></tr>\n",
       "\t<tr><td>2012             </td><td>Elementary School</td><td>NA               </td><td>0                </td><td>0.0000000        </td><td>  7              </td></tr>\n",
       "\t<tr><td>2012             </td><td>Gabas            </td><td>NA               </td><td>0                </td><td>0.0000000        </td><td>  9              </td></tr>\n",
       "\t<tr><td>2012             </td><td>Haina            </td><td>NA               </td><td>0                </td><td>0.0000000        </td><td>104              </td></tr>\n",
       "</tbody>\n",
       "</table>\n"
      ],
      "text/latex": [
       "\\begin{tabular}{r|llllll}\n",
       " year & site & nF & n\\_offs\\_gen & PropAnemSamp & TotalAnems\\\\\n",
       "\\hline\n",
       "\t 2012              & Cabatoan          &  8                & 4                 & 0.4230769         &  26              \\\\\n",
       "\t 2012              & Caridad Cemetery  & NA                & 0                 & 0.0000000         &   4              \\\\\n",
       "\t 2012              & Caridad Proper    & NA                & 0                 & 0.0000000         &   4              \\\\\n",
       "\t 2012              & Elementary School & NA                & 0                 & 0.0000000         &   7              \\\\\n",
       "\t 2012              & Gabas             & NA                & 0                 & 0.0000000         &   9              \\\\\n",
       "\t 2012              & Haina             & NA                & 0                 & 0.0000000         & 104              \\\\\n",
       "\\end{tabular}\n"
      ],
      "text/markdown": [
       "\n",
       "| year | site | nF | n_offs_gen | PropAnemSamp | TotalAnems |\n",
       "|---|---|---|---|---|---|\n",
       "| 2012              | Cabatoan          |  8                | 4                 | 0.4230769         |  26               |\n",
       "| 2012              | Caridad Cemetery  | NA                | 0                 | 0.0000000         |   4               |\n",
       "| 2012              | Caridad Proper    | NA                | 0                 | 0.0000000         |   4               |\n",
       "| 2012              | Elementary School | NA                | 0                 | 0.0000000         |   7               |\n",
       "| 2012              | Gabas             | NA                | 0                 | 0.0000000         |   9               |\n",
       "| 2012              | Haina             | NA                | 0                 | 0.0000000         | 104               |\n",
       "\n"
      ],
      "text/plain": [
       "  year site              nF n_offs_gen PropAnemSamp TotalAnems\n",
       "1 2012 Cabatoan           8 4          0.4230769     26       \n",
       "2 2012 Caridad Cemetery  NA 0          0.0000000      4       \n",
       "3 2012 Caridad Proper    NA 0          0.0000000      4       \n",
       "4 2012 Elementary School NA 0          0.0000000      7       \n",
       "5 2012 Gabas             NA 0          0.0000000      9       \n",
       "6 2012 Haina             NA 0          0.0000000    104       "
      ]
     },
     "metadata": {},
     "output_type": "display_data"
    }
   ],
   "source": [
    "head(SurveyData)"
   ]
  },
  {
   "cell_type": "code",
   "execution_count": 22,
   "metadata": {},
   "outputs": [],
   "source": [
    "DateJoin <- fread(file=\"~/oceanography/script_output/ROMSDataTables/LongFormConnWithProbs.csv\")\n"
   ]
  },
  {
   "cell_type": "code",
   "execution_count": 27,
   "metadata": {},
   "outputs": [
    {
     "data": {
      "text/html": [
       "<table>\n",
       "<thead><tr><th scope=col>year_sampled</th><th scope=col>date</th><th scope=col>surv_weight</th><th scope=col>dest</th><th scope=col>dest_n_offs_annual</th><th scope=col>dest_prop_samp</th><th scope=col>dest_total_anems</th><th scope=col>source</th><th scope=col>source_n_offs_annual</th><th scope=col>source_prop_samp</th><th scope=col>source_total_anems</th><th scope=col>sim_month</th><th scope=col>sim_day</th><th scope=col>sim_year</th><th scope=col>sim_monsoon</th><th scope=col>daily_particles</th><th scope=col>particle_id</th><th scope=col>source_size</th></tr></thead>\n",
       "<tbody>\n",
       "\t<tr><td>2011       </td><td>2010-10-01 </td><td>0.003292181</td><td>Palanas    </td><td>NA         </td><td>NA         </td><td>NA         </td><td>Other      </td><td>NA         </td><td>NA         </td><td>NA         </td><td>10         </td><td>10         </td><td>2010       </td><td>SWM        </td><td>9          </td><td>P1         </td><td>NA         </td></tr>\n",
       "\t<tr><td>2011       </td><td>2010-10-01 </td><td>0.003292181</td><td>Palanas    </td><td>NA         </td><td>NA         </td><td>NA         </td><td>Other      </td><td>NA         </td><td>NA         </td><td>NA         </td><td>10         </td><td>10         </td><td>2010       </td><td>SWM        </td><td>9          </td><td>P2         </td><td>NA         </td></tr>\n",
       "\t<tr><td>2011       </td><td>2010-10-01 </td><td>0.003292181</td><td>Palanas    </td><td>NA         </td><td>NA         </td><td>NA         </td><td>Other      </td><td>NA         </td><td>NA         </td><td>NA         </td><td>10         </td><td>10         </td><td>2010       </td><td>SWM        </td><td>9          </td><td>P3         </td><td>NA         </td></tr>\n",
       "\t<tr><td>2011       </td><td>2010-10-01 </td><td>0.003292181</td><td>Palanas    </td><td>NA         </td><td>NA         </td><td>NA         </td><td>Other      </td><td>NA         </td><td>NA         </td><td>NA         </td><td>10         </td><td>10         </td><td>2010       </td><td>SWM        </td><td>9          </td><td>P4         </td><td>NA         </td></tr>\n",
       "\t<tr><td>2011       </td><td>2010-10-01 </td><td>0.003292181</td><td>Palanas    </td><td>NA         </td><td>NA         </td><td>NA         </td><td>Other      </td><td>NA         </td><td>NA         </td><td>NA         </td><td>10         </td><td>10         </td><td>2010       </td><td>SWM        </td><td>9          </td><td>P5         </td><td>NA         </td></tr>\n",
       "\t<tr><td>2011       </td><td>2010-10-01 </td><td>0.003292181</td><td>Palanas    </td><td>NA         </td><td>NA         </td><td>NA         </td><td>Other      </td><td>NA         </td><td>NA         </td><td>NA         </td><td>10         </td><td>10         </td><td>2010       </td><td>SWM        </td><td>9          </td><td>P6         </td><td>NA         </td></tr>\n",
       "</tbody>\n",
       "</table>\n"
      ],
      "text/latex": [
       "\\begin{tabular}{r|llllllllllllllllll}\n",
       " year\\_sampled & date & surv\\_weight & dest & dest\\_n\\_offs\\_annual & dest\\_prop\\_samp & dest\\_total\\_anems & source & source\\_n\\_offs\\_annual & source\\_prop\\_samp & source\\_total\\_anems & sim\\_month & sim\\_day & sim\\_year & sim\\_monsoon & daily\\_particles & particle\\_id & source\\_size\\\\\n",
       "\\hline\n",
       "\t 2011        & 2010-10-01  & 0.003292181 & Palanas     & NA          & NA          & NA          & Other       & NA          & NA          & NA          & 10          & 10          & 2010        & SWM         & 9           & P1          & NA         \\\\\n",
       "\t 2011        & 2010-10-01  & 0.003292181 & Palanas     & NA          & NA          & NA          & Other       & NA          & NA          & NA          & 10          & 10          & 2010        & SWM         & 9           & P2          & NA         \\\\\n",
       "\t 2011        & 2010-10-01  & 0.003292181 & Palanas     & NA          & NA          & NA          & Other       & NA          & NA          & NA          & 10          & 10          & 2010        & SWM         & 9           & P3          & NA         \\\\\n",
       "\t 2011        & 2010-10-01  & 0.003292181 & Palanas     & NA          & NA          & NA          & Other       & NA          & NA          & NA          & 10          & 10          & 2010        & SWM         & 9           & P4          & NA         \\\\\n",
       "\t 2011        & 2010-10-01  & 0.003292181 & Palanas     & NA          & NA          & NA          & Other       & NA          & NA          & NA          & 10          & 10          & 2010        & SWM         & 9           & P5          & NA         \\\\\n",
       "\t 2011        & 2010-10-01  & 0.003292181 & Palanas     & NA          & NA          & NA          & Other       & NA          & NA          & NA          & 10          & 10          & 2010        & SWM         & 9           & P6          & NA         \\\\\n",
       "\\end{tabular}\n"
      ],
      "text/markdown": [
       "\n",
       "| year_sampled | date | surv_weight | dest | dest_n_offs_annual | dest_prop_samp | dest_total_anems | source | source_n_offs_annual | source_prop_samp | source_total_anems | sim_month | sim_day | sim_year | sim_monsoon | daily_particles | particle_id | source_size |\n",
       "|---|---|---|---|---|---|---|---|---|---|---|---|---|---|---|---|---|---|\n",
       "| 2011        | 2010-10-01  | 0.003292181 | Palanas     | NA          | NA          | NA          | Other       | NA          | NA          | NA          | 10          | 10          | 2010        | SWM         | 9           | P1          | NA          |\n",
       "| 2011        | 2010-10-01  | 0.003292181 | Palanas     | NA          | NA          | NA          | Other       | NA          | NA          | NA          | 10          | 10          | 2010        | SWM         | 9           | P2          | NA          |\n",
       "| 2011        | 2010-10-01  | 0.003292181 | Palanas     | NA          | NA          | NA          | Other       | NA          | NA          | NA          | 10          | 10          | 2010        | SWM         | 9           | P3          | NA          |\n",
       "| 2011        | 2010-10-01  | 0.003292181 | Palanas     | NA          | NA          | NA          | Other       | NA          | NA          | NA          | 10          | 10          | 2010        | SWM         | 9           | P4          | NA          |\n",
       "| 2011        | 2010-10-01  | 0.003292181 | Palanas     | NA          | NA          | NA          | Other       | NA          | NA          | NA          | 10          | 10          | 2010        | SWM         | 9           | P5          | NA          |\n",
       "| 2011        | 2010-10-01  | 0.003292181 | Palanas     | NA          | NA          | NA          | Other       | NA          | NA          | NA          | 10          | 10          | 2010        | SWM         | 9           | P6          | NA          |\n",
       "\n"
      ],
      "text/plain": [
       "  year_sampled date       surv_weight dest    dest_n_offs_annual dest_prop_samp\n",
       "1 2011         2010-10-01 0.003292181 Palanas NA                 NA            \n",
       "2 2011         2010-10-01 0.003292181 Palanas NA                 NA            \n",
       "3 2011         2010-10-01 0.003292181 Palanas NA                 NA            \n",
       "4 2011         2010-10-01 0.003292181 Palanas NA                 NA            \n",
       "5 2011         2010-10-01 0.003292181 Palanas NA                 NA            \n",
       "6 2011         2010-10-01 0.003292181 Palanas NA                 NA            \n",
       "  dest_total_anems source source_n_offs_annual source_prop_samp\n",
       "1 NA               Other  NA                   NA              \n",
       "2 NA               Other  NA                   NA              \n",
       "3 NA               Other  NA                   NA              \n",
       "4 NA               Other  NA                   NA              \n",
       "5 NA               Other  NA                   NA              \n",
       "6 NA               Other  NA                   NA              \n",
       "  source_total_anems sim_month sim_day sim_year sim_monsoon daily_particles\n",
       "1 NA                 10        10      2010     SWM         9              \n",
       "2 NA                 10        10      2010     SWM         9              \n",
       "3 NA                 10        10      2010     SWM         9              \n",
       "4 NA                 10        10      2010     SWM         9              \n",
       "5 NA                 10        10      2010     SWM         9              \n",
       "6 NA                 10        10      2010     SWM         9              \n",
       "  particle_id source_size\n",
       "1 P1          NA         \n",
       "2 P2          NA         \n",
       "3 P3          NA         \n",
       "4 P4          NA         \n",
       "5 P5          NA         \n",
       "6 P6          NA         "
      ]
     },
     "metadata": {},
     "output_type": "display_data"
    }
   ],
   "source": [
    "head(DateJoin)"
   ]
  },
  {
   "cell_type": "markdown",
   "metadata": {},
   "source": [
    "__below is where I left off 06/01/2021. rename columns to be the vector format like_this, and finish making the connectivity matrix for the biophysical simulation next__"
   ]
  },
  {
   "cell_type": "code",
   "execution_count": null,
   "metadata": {},
   "outputs": [],
   "source": [
    "#prep biophysical connectivity matrix\n",
    "#outside of the loop, trim this to only be the destinations we sampled\n",
    "\n",
    "dest_sampled <- date_join[dest_prop_samp >0]\n",
    "dest_sampled <- kernels[Year %in% c(\"2012\", \"2013\", \"2014\")][, Year:=as.integer(Year)][,c(\"Year\", \"NumParentageMatches\")][dest_sampled, on=.(Year=YearSampled)]#add in a column for the observed number of parentage matches\n",
    "#rename the monsoon column in the full table for consistency\n",
    "setnames(dest_sampled, \"SimMonsoon\", \"Monsoon\")\n",
    "\n",
    "#each year will require a different set of survey data, so make a list of each and index by site for fast look up\n",
    "PropSampTable <- SurveyData[PropAnemSamp >0, c(\"year\", \"site\")]\n",
    "\n",
    "#make a site index table, use this for Sampled_reefs input in kernel fitting\n",
    "site_index <- unique(centroids, by=\"site\")[, \"site\"][, index := .I] #add the row number as the unique site index\n",
    "\n",
    "#make sure all sampled sites are represented by joining the survey data to the sampled simulation\n",
    "PropSampTable <- rbind(SurveyData[PropAnemSamp >0 & year %in% c(2012, 2013, 2014), c(\"year\", \"site\")][, .(Source=site, Dest=site, Year=year)][ #will join to the simulated sampling table by source and dest, so make those each a column from site and preserve the year variable as a key\n",
    "    , c(\"Year\", \"Source\", \"Dest\")][, Monsoon := \"NEM\"], SurveyData[PropAnemSamp >0 & year %in% c(2012, 2013, 2014), c(\"year\", \"site\")][, .(Source=site, Dest=site, Year=year)][ #will join to the simulated sampling table by source and dest, so make those each a column from site and preserve the year variable as a key\n",
    "    , c(\"Year\", \"Source\", \"Dest\")][, Monsoon := \"SWM\"])\n",
    "unq_survey <- unique(PropSampTable, by=c(\"Source\", \"Dest\", \"Year\", \"Monsoon\"))#add in the diff Monsoon seasons so there are complete parentage matrices later\n",
    "add_dest <- rbind(SurveyData[year %in% c(2012, 2013, 2014) & PropAnemSamp >0][, c(\"year\", \"site\")][, Monsoon := \"NEM\"], \n",
    "                  SurveyData[year %in% c(2012, 2013, 2014) & PropAnemSamp >0][ , c(\"year\", \"site\")][, Monsoon := \"SWM\"])  #what destinations were sampled, for use with unassigned table\n",
    "\n",
    "\n"
   ]
  },
  {
   "cell_type": "code",
   "execution_count": null,
   "metadata": {},
   "outputs": [],
   "source": []
  },
  {
   "cell_type": "code",
   "execution_count": null,
   "metadata": {},
   "outputs": [],
   "source": []
  },
  {
   "cell_type": "code",
   "execution_count": null,
   "metadata": {},
   "outputs": [],
   "source": []
  },
  {
   "cell_type": "code",
   "execution_count": null,
   "metadata": {},
   "outputs": [],
   "source": []
  },
  {
   "cell_type": "code",
   "execution_count": 18,
   "metadata": {},
   "outputs": [
    {
     "data": {
      "text/html": [
       "<table>\n",
       "<thead><tr><th scope=col>year</th><th scope=col>site</th><th scope=col>nF</th><th scope=col>n_offs_gen</th><th scope=col>PropAnemSamp</th><th scope=col>TotalAnems</th></tr></thead>\n",
       "<tbody>\n",
       "\t<tr><td>2012             </td><td>Cabatoan         </td><td>  8              </td><td> 4               </td><td>0.42307692       </td><td> 26              </td></tr>\n",
       "\t<tr><td>2012             </td><td>Caridad Cemetery </td><td> NA              </td><td> 0               </td><td>0.00000000       </td><td>  4              </td></tr>\n",
       "\t<tr><td>2012             </td><td>Caridad Proper   </td><td> NA              </td><td> 0               </td><td>0.00000000       </td><td>  4              </td></tr>\n",
       "\t<tr><td>2012             </td><td>Elementary School</td><td> NA              </td><td> 0               </td><td>0.00000000       </td><td>  7              </td></tr>\n",
       "\t<tr><td>2012             </td><td>Gabas            </td><td> NA              </td><td> 0               </td><td>0.00000000       </td><td>  9              </td></tr>\n",
       "\t<tr><td>2012             </td><td>Haina            </td><td> NA              </td><td> 0               </td><td>0.00000000       </td><td>104              </td></tr>\n",
       "\t<tr><td>2012             </td><td>Hicgop South     </td><td> NA              </td><td> 0               </td><td>0.00000000       </td><td> 18              </td></tr>\n",
       "\t<tr><td>2012             </td><td>Magbangon        </td><td> NA              </td><td>10               </td><td>0.45938375       </td><td>139              </td></tr>\n",
       "\t<tr><td>2012             </td><td>Palanas          </td><td> 49              </td><td>13               </td><td>0.28985507       </td><td>138              </td></tr>\n",
       "\t<tr><td>2012             </td><td>Poroc Rose       </td><td>  9              </td><td> 9               </td><td>1.00000000       </td><td> 13              </td></tr>\n",
       "\t<tr><td>2012             </td><td>Poroc San Flower </td><td>  4              </td><td> 9               </td><td>1.00000000       </td><td> 11              </td></tr>\n",
       "\t<tr><td>2012             </td><td>San Agustin      </td><td>  6              </td><td> 0               </td><td>0.88888889       </td><td> 18              </td></tr>\n",
       "\t<tr><td>2012             </td><td>Sitio Baybayon   </td><td> NA              </td><td> 0               </td><td>0.00000000       </td><td>259              </td></tr>\n",
       "\t<tr><td>2012             </td><td>Sitio Lonas      </td><td>  1              </td><td> 1               </td><td>0.66666667       </td><td>  3              </td></tr>\n",
       "\t<tr><td>2012             </td><td>Sitio Tugas      </td><td> NA              </td><td> 0               </td><td>0.00000000       </td><td>  9              </td></tr>\n",
       "\t<tr><td>2012             </td><td>Tamakin Dacot    </td><td> NA              </td><td> 0               </td><td>0.00000000       </td><td> 48              </td></tr>\n",
       "\t<tr><td>2012             </td><td>Visca            </td><td>  4              </td><td> 1               </td><td>1.00000000       </td><td> 13              </td></tr>\n",
       "\t<tr><td>2012             </td><td>Wangag           </td><td> 98              </td><td>16               </td><td>0.18213058       </td><td>291              </td></tr>\n",
       "\t<tr><td>2013             </td><td>Cabatoan         </td><td> 28              </td><td> 3               </td><td>0.50000000       </td><td> 52              </td></tr>\n",
       "\t<tr><td>2013             </td><td>Caridad Cemetery </td><td>  5              </td><td> 2               </td><td>0.37500000       </td><td>  8              </td></tr>\n",
       "\t<tr><td>2013             </td><td>Caridad Proper   </td><td>  3              </td><td> 4               </td><td>1.00000000       </td><td>  4              </td></tr>\n",
       "\t<tr><td>2013             </td><td>Elementary School</td><td>  9              </td><td>11               </td><td>0.50000000       </td><td> 14              </td></tr>\n",
       "\t<tr><td>2013             </td><td>Gabas            </td><td> NA              </td><td> 0               </td><td>0.00000000       </td><td> 18              </td></tr>\n",
       "\t<tr><td>2013             </td><td>Haina            </td><td>124              </td><td> 6               </td><td>0.02884615       </td><td>208              </td></tr>\n",
       "\t<tr><td>2013             </td><td>Hicgop South     </td><td> 21              </td><td> 4               </td><td>0.33333333       </td><td> 36              </td></tr>\n",
       "\t<tr><td>2013             </td><td>Magbangon        </td><td> NA              </td><td>18               </td><td>0.57100840       </td><td>278              </td></tr>\n",
       "\t<tr><td>2013             </td><td>Palanas          </td><td>112              </td><td>43               </td><td>0.43115942       </td><td>276              </td></tr>\n",
       "\t<tr><td>2013             </td><td>Poroc Rose       </td><td>  9              </td><td> 1               </td><td>1.00000000       </td><td> 26              </td></tr>\n",
       "\t<tr><td>2013             </td><td>Poroc San Flower </td><td>  7              </td><td> 1               </td><td>0.90909091       </td><td> 22              </td></tr>\n",
       "\t<tr><td>2013             </td><td>San Agustin      </td><td>  9              </td><td> 0               </td><td>0.75000000       </td><td> 36              </td></tr>\n",
       "\t<tr><td>...</td><td>...</td><td>...</td><td>...</td><td>...</td><td>...</td></tr>\n",
       "\t<tr><td>2017             </td><td>Hicgop South     </td><td> 15              </td><td> 3               </td><td>0.4351852        </td><td> 108             </td></tr>\n",
       "\t<tr><td>2017             </td><td>Magbangon        </td><td> NA              </td><td> 0               </td><td>0.6298786        </td><td> 834             </td></tr>\n",
       "\t<tr><td>2017             </td><td>Palanas          </td><td> 70              </td><td>19               </td><td>0.6099034        </td><td> 828             </td></tr>\n",
       "\t<tr><td>2017             </td><td>Poroc Rose       </td><td> 10              </td><td> 3               </td><td>0.6538462        </td><td>  78             </td></tr>\n",
       "\t<tr><td>2017             </td><td>Poroc San Flower </td><td> 11              </td><td> 1               </td><td>0.7727273        </td><td>  66             </td></tr>\n",
       "\t<tr><td>2017             </td><td>San Agustin      </td><td> 10              </td><td> 5               </td><td>0.7870370        </td><td> 108             </td></tr>\n",
       "\t<tr><td>2017             </td><td>Sitio Baybayon   </td><td>151              </td><td>35               </td><td>0.2490347        </td><td>1554             </td></tr>\n",
       "\t<tr><td>2017             </td><td>Sitio Lonas      </td><td> NA              </td><td> 0               </td><td>1.0000000        </td><td>   3             </td></tr>\n",
       "\t<tr><td>2017             </td><td>Sitio Tugas      </td><td> NA              </td><td> 0               </td><td>1.0000000        </td><td>   9             </td></tr>\n",
       "\t<tr><td>2017             </td><td>Tamakin Dacot    </td><td> 38              </td><td>10               </td><td>0.3020833        </td><td> 288             </td></tr>\n",
       "\t<tr><td>2017             </td><td>Visca            </td><td> 11              </td><td> 8               </td><td>0.6794872        </td><td>  78             </td></tr>\n",
       "\t<tr><td>2017             </td><td>Wangag           </td><td>163              </td><td>25               </td><td>0.3402062        </td><td>1746             </td></tr>\n",
       "\t<tr><td>2018             </td><td>Cabatoan         </td><td> 20              </td><td> 0               </td><td>0.5109890        </td><td> 182             </td></tr>\n",
       "\t<tr><td>2018             </td><td>Caridad Cemetery </td><td> NA              </td><td> 0               </td><td>0.3928571        </td><td>  28             </td></tr>\n",
       "\t<tr><td>2018             </td><td>Caridad Proper   </td><td> NA              </td><td> 0               </td><td>1.0000000        </td><td>   4             </td></tr>\n",
       "\t<tr><td>2018             </td><td>Elementary School</td><td>  5              </td><td> 1               </td><td>0.7551020        </td><td>  49             </td></tr>\n",
       "\t<tr><td>2018             </td><td>Gabas            </td><td> NA              </td><td> 0               </td><td>0.2222222        </td><td>  63             </td></tr>\n",
       "\t<tr><td>2018             </td><td>Haina            </td><td> 94              </td><td> 5               </td><td>0.2527473        </td><td> 728             </td></tr>\n",
       "\t<tr><td>2018             </td><td>Hicgop South     </td><td> 16              </td><td> 1               </td><td>0.4841270        </td><td> 126             </td></tr>\n",
       "\t<tr><td>2018             </td><td>Magbangon        </td><td> NA              </td><td> 4               </td><td>0.6475390        </td><td> 973             </td></tr>\n",
       "\t<tr><td>2018             </td><td>Palanas          </td><td> 94              </td><td> 8               </td><td>0.6449275        </td><td> 966             </td></tr>\n",
       "\t<tr><td>2018             </td><td>Poroc Rose       </td><td>  8              </td><td> 0               </td><td>0.6593407        </td><td>  91             </td></tr>\n",
       "\t<tr><td>2018             </td><td>Poroc San Flower </td><td> NA              </td><td> 0               </td><td>0.7532468        </td><td>  77             </td></tr>\n",
       "\t<tr><td>2018             </td><td>San Agustin      </td><td> 22              </td><td> 0               </td><td>0.7777778        </td><td> 126             </td></tr>\n",
       "\t<tr><td>2018             </td><td>Sitio Baybayon   </td><td>192              </td><td>16               </td><td>0.3287369        </td><td>1813             </td></tr>\n",
       "\t<tr><td>2018             </td><td>Sitio Lonas      </td><td> NA              </td><td> 0               </td><td>1.0000000        </td><td>   3             </td></tr>\n",
       "\t<tr><td>2018             </td><td>Sitio Tugas      </td><td> NA              </td><td> 0               </td><td>1.0000000        </td><td>   9             </td></tr>\n",
       "\t<tr><td>2018             </td><td>Tamakin Dacot    </td><td> 44              </td><td> 2               </td><td>0.3571429        </td><td> 336             </td></tr>\n",
       "\t<tr><td>2018             </td><td>Visca            </td><td> 23              </td><td> 0               </td><td>0.6703297        </td><td>  91             </td></tr>\n",
       "\t<tr><td>2018             </td><td>Wangag           </td><td>199              </td><td> 8               </td><td>0.3902798        </td><td>2037             </td></tr>\n",
       "</tbody>\n",
       "</table>\n"
      ],
      "text/latex": [
       "\\begin{tabular}{r|llllll}\n",
       " year & site & nF & n\\_offs\\_gen & PropAnemSamp & TotalAnems\\\\\n",
       "\\hline\n",
       "\t 2012              & Cabatoan          &   8               &  4                & 0.42307692        &  26              \\\\\n",
       "\t 2012              & Caridad Cemetery  &  NA               &  0                & 0.00000000        &   4              \\\\\n",
       "\t 2012              & Caridad Proper    &  NA               &  0                & 0.00000000        &   4              \\\\\n",
       "\t 2012              & Elementary School &  NA               &  0                & 0.00000000        &   7              \\\\\n",
       "\t 2012              & Gabas             &  NA               &  0                & 0.00000000        &   9              \\\\\n",
       "\t 2012              & Haina             &  NA               &  0                & 0.00000000        & 104              \\\\\n",
       "\t 2012              & Hicgop South      &  NA               &  0                & 0.00000000        &  18              \\\\\n",
       "\t 2012              & Magbangon         &  NA               & 10                & 0.45938375        & 139              \\\\\n",
       "\t 2012              & Palanas           &  49               & 13                & 0.28985507        & 138              \\\\\n",
       "\t 2012              & Poroc Rose        &   9               &  9                & 1.00000000        &  13              \\\\\n",
       "\t 2012              & Poroc San Flower  &   4               &  9                & 1.00000000        &  11              \\\\\n",
       "\t 2012              & San Agustin       &   6               &  0                & 0.88888889        &  18              \\\\\n",
       "\t 2012              & Sitio Baybayon    &  NA               &  0                & 0.00000000        & 259              \\\\\n",
       "\t 2012              & Sitio Lonas       &   1               &  1                & 0.66666667        &   3              \\\\\n",
       "\t 2012              & Sitio Tugas       &  NA               &  0                & 0.00000000        &   9              \\\\\n",
       "\t 2012              & Tamakin Dacot     &  NA               &  0                & 0.00000000        &  48              \\\\\n",
       "\t 2012              & Visca             &   4               &  1                & 1.00000000        &  13              \\\\\n",
       "\t 2012              & Wangag            &  98               & 16                & 0.18213058        & 291              \\\\\n",
       "\t 2013              & Cabatoan          &  28               &  3                & 0.50000000        &  52              \\\\\n",
       "\t 2013              & Caridad Cemetery  &   5               &  2                & 0.37500000        &   8              \\\\\n",
       "\t 2013              & Caridad Proper    &   3               &  4                & 1.00000000        &   4              \\\\\n",
       "\t 2013              & Elementary School &   9               & 11                & 0.50000000        &  14              \\\\\n",
       "\t 2013              & Gabas             &  NA               &  0                & 0.00000000        &  18              \\\\\n",
       "\t 2013              & Haina             & 124               &  6                & 0.02884615        & 208              \\\\\n",
       "\t 2013              & Hicgop South      &  21               &  4                & 0.33333333        &  36              \\\\\n",
       "\t 2013              & Magbangon         &  NA               & 18                & 0.57100840        & 278              \\\\\n",
       "\t 2013              & Palanas           & 112               & 43                & 0.43115942        & 276              \\\\\n",
       "\t 2013              & Poroc Rose        &   9               &  1                & 1.00000000        &  26              \\\\\n",
       "\t 2013              & Poroc San Flower  &   7               &  1                & 0.90909091        &  22              \\\\\n",
       "\t 2013              & San Agustin       &   9               &  0                & 0.75000000        &  36              \\\\\n",
       "\t ... & ... & ... & ... & ... & ...\\\\\n",
       "\t 2017              & Hicgop South      &  15               &  3                & 0.4351852         &  108             \\\\\n",
       "\t 2017              & Magbangon         &  NA               &  0                & 0.6298786         &  834             \\\\\n",
       "\t 2017              & Palanas           &  70               & 19                & 0.6099034         &  828             \\\\\n",
       "\t 2017              & Poroc Rose        &  10               &  3                & 0.6538462         &   78             \\\\\n",
       "\t 2017              & Poroc San Flower  &  11               &  1                & 0.7727273         &   66             \\\\\n",
       "\t 2017              & San Agustin       &  10               &  5                & 0.7870370         &  108             \\\\\n",
       "\t 2017              & Sitio Baybayon    & 151               & 35                & 0.2490347         & 1554             \\\\\n",
       "\t 2017              & Sitio Lonas       &  NA               &  0                & 1.0000000         &    3             \\\\\n",
       "\t 2017              & Sitio Tugas       &  NA               &  0                & 1.0000000         &    9             \\\\\n",
       "\t 2017              & Tamakin Dacot     &  38               & 10                & 0.3020833         &  288             \\\\\n",
       "\t 2017              & Visca             &  11               &  8                & 0.6794872         &   78             \\\\\n",
       "\t 2017              & Wangag            & 163               & 25                & 0.3402062         & 1746             \\\\\n",
       "\t 2018              & Cabatoan          &  20               &  0                & 0.5109890         &  182             \\\\\n",
       "\t 2018              & Caridad Cemetery  &  NA               &  0                & 0.3928571         &   28             \\\\\n",
       "\t 2018              & Caridad Proper    &  NA               &  0                & 1.0000000         &    4             \\\\\n",
       "\t 2018              & Elementary School &   5               &  1                & 0.7551020         &   49             \\\\\n",
       "\t 2018              & Gabas             &  NA               &  0                & 0.2222222         &   63             \\\\\n",
       "\t 2018              & Haina             &  94               &  5                & 0.2527473         &  728             \\\\\n",
       "\t 2018              & Hicgop South      &  16               &  1                & 0.4841270         &  126             \\\\\n",
       "\t 2018              & Magbangon         &  NA               &  4                & 0.6475390         &  973             \\\\\n",
       "\t 2018              & Palanas           &  94               &  8                & 0.6449275         &  966             \\\\\n",
       "\t 2018              & Poroc Rose        &   8               &  0                & 0.6593407         &   91             \\\\\n",
       "\t 2018              & Poroc San Flower  &  NA               &  0                & 0.7532468         &   77             \\\\\n",
       "\t 2018              & San Agustin       &  22               &  0                & 0.7777778         &  126             \\\\\n",
       "\t 2018              & Sitio Baybayon    & 192               & 16                & 0.3287369         & 1813             \\\\\n",
       "\t 2018              & Sitio Lonas       &  NA               &  0                & 1.0000000         &    3             \\\\\n",
       "\t 2018              & Sitio Tugas       &  NA               &  0                & 1.0000000         &    9             \\\\\n",
       "\t 2018              & Tamakin Dacot     &  44               &  2                & 0.3571429         &  336             \\\\\n",
       "\t 2018              & Visca             &  23               &  0                & 0.6703297         &   91             \\\\\n",
       "\t 2018              & Wangag            & 199               &  8                & 0.3902798         & 2037             \\\\\n",
       "\\end{tabular}\n"
      ],
      "text/markdown": [
       "\n",
       "| year | site | nF | n_offs_gen | PropAnemSamp | TotalAnems |\n",
       "|---|---|---|---|---|---|\n",
       "| 2012              | Cabatoan          |   8               |  4                | 0.42307692        |  26               |\n",
       "| 2012              | Caridad Cemetery  |  NA               |  0                | 0.00000000        |   4               |\n",
       "| 2012              | Caridad Proper    |  NA               |  0                | 0.00000000        |   4               |\n",
       "| 2012              | Elementary School |  NA               |  0                | 0.00000000        |   7               |\n",
       "| 2012              | Gabas             |  NA               |  0                | 0.00000000        |   9               |\n",
       "| 2012              | Haina             |  NA               |  0                | 0.00000000        | 104               |\n",
       "| 2012              | Hicgop South      |  NA               |  0                | 0.00000000        |  18               |\n",
       "| 2012              | Magbangon         |  NA               | 10                | 0.45938375        | 139               |\n",
       "| 2012              | Palanas           |  49               | 13                | 0.28985507        | 138               |\n",
       "| 2012              | Poroc Rose        |   9               |  9                | 1.00000000        |  13               |\n",
       "| 2012              | Poroc San Flower  |   4               |  9                | 1.00000000        |  11               |\n",
       "| 2012              | San Agustin       |   6               |  0                | 0.88888889        |  18               |\n",
       "| 2012              | Sitio Baybayon    |  NA               |  0                | 0.00000000        | 259               |\n",
       "| 2012              | Sitio Lonas       |   1               |  1                | 0.66666667        |   3               |\n",
       "| 2012              | Sitio Tugas       |  NA               |  0                | 0.00000000        |   9               |\n",
       "| 2012              | Tamakin Dacot     |  NA               |  0                | 0.00000000        |  48               |\n",
       "| 2012              | Visca             |   4               |  1                | 1.00000000        |  13               |\n",
       "| 2012              | Wangag            |  98               | 16                | 0.18213058        | 291               |\n",
       "| 2013              | Cabatoan          |  28               |  3                | 0.50000000        |  52               |\n",
       "| 2013              | Caridad Cemetery  |   5               |  2                | 0.37500000        |   8               |\n",
       "| 2013              | Caridad Proper    |   3               |  4                | 1.00000000        |   4               |\n",
       "| 2013              | Elementary School |   9               | 11                | 0.50000000        |  14               |\n",
       "| 2013              | Gabas             |  NA               |  0                | 0.00000000        |  18               |\n",
       "| 2013              | Haina             | 124               |  6                | 0.02884615        | 208               |\n",
       "| 2013              | Hicgop South      |  21               |  4                | 0.33333333        |  36               |\n",
       "| 2013              | Magbangon         |  NA               | 18                | 0.57100840        | 278               |\n",
       "| 2013              | Palanas           | 112               | 43                | 0.43115942        | 276               |\n",
       "| 2013              | Poroc Rose        |   9               |  1                | 1.00000000        |  26               |\n",
       "| 2013              | Poroc San Flower  |   7               |  1                | 0.90909091        |  22               |\n",
       "| 2013              | San Agustin       |   9               |  0                | 0.75000000        |  36               |\n",
       "| ... | ... | ... | ... | ... | ... |\n",
       "| 2017              | Hicgop South      |  15               |  3                | 0.4351852         |  108              |\n",
       "| 2017              | Magbangon         |  NA               |  0                | 0.6298786         |  834              |\n",
       "| 2017              | Palanas           |  70               | 19                | 0.6099034         |  828              |\n",
       "| 2017              | Poroc Rose        |  10               |  3                | 0.6538462         |   78              |\n",
       "| 2017              | Poroc San Flower  |  11               |  1                | 0.7727273         |   66              |\n",
       "| 2017              | San Agustin       |  10               |  5                | 0.7870370         |  108              |\n",
       "| 2017              | Sitio Baybayon    | 151               | 35                | 0.2490347         | 1554              |\n",
       "| 2017              | Sitio Lonas       |  NA               |  0                | 1.0000000         |    3              |\n",
       "| 2017              | Sitio Tugas       |  NA               |  0                | 1.0000000         |    9              |\n",
       "| 2017              | Tamakin Dacot     |  38               | 10                | 0.3020833         |  288              |\n",
       "| 2017              | Visca             |  11               |  8                | 0.6794872         |   78              |\n",
       "| 2017              | Wangag            | 163               | 25                | 0.3402062         | 1746              |\n",
       "| 2018              | Cabatoan          |  20               |  0                | 0.5109890         |  182              |\n",
       "| 2018              | Caridad Cemetery  |  NA               |  0                | 0.3928571         |   28              |\n",
       "| 2018              | Caridad Proper    |  NA               |  0                | 1.0000000         |    4              |\n",
       "| 2018              | Elementary School |   5               |  1                | 0.7551020         |   49              |\n",
       "| 2018              | Gabas             |  NA               |  0                | 0.2222222         |   63              |\n",
       "| 2018              | Haina             |  94               |  5                | 0.2527473         |  728              |\n",
       "| 2018              | Hicgop South      |  16               |  1                | 0.4841270         |  126              |\n",
       "| 2018              | Magbangon         |  NA               |  4                | 0.6475390         |  973              |\n",
       "| 2018              | Palanas           |  94               |  8                | 0.6449275         |  966              |\n",
       "| 2018              | Poroc Rose        |   8               |  0                | 0.6593407         |   91              |\n",
       "| 2018              | Poroc San Flower  |  NA               |  0                | 0.7532468         |   77              |\n",
       "| 2018              | San Agustin       |  22               |  0                | 0.7777778         |  126              |\n",
       "| 2018              | Sitio Baybayon    | 192               | 16                | 0.3287369         | 1813              |\n",
       "| 2018              | Sitio Lonas       |  NA               |  0                | 1.0000000         |    3              |\n",
       "| 2018              | Sitio Tugas       |  NA               |  0                | 1.0000000         |    9              |\n",
       "| 2018              | Tamakin Dacot     |  44               |  2                | 0.3571429         |  336              |\n",
       "| 2018              | Visca             |  23               |  0                | 0.6703297         |   91              |\n",
       "| 2018              | Wangag            | 199               |  8                | 0.3902798         | 2037              |\n",
       "\n"
      ],
      "text/plain": [
       "    year site              nF  n_offs_gen PropAnemSamp TotalAnems\n",
       "1   2012 Cabatoan            8  4         0.42307692    26       \n",
       "2   2012 Caridad Cemetery   NA  0         0.00000000     4       \n",
       "3   2012 Caridad Proper     NA  0         0.00000000     4       \n",
       "4   2012 Elementary School  NA  0         0.00000000     7       \n",
       "5   2012 Gabas              NA  0         0.00000000     9       \n",
       "6   2012 Haina              NA  0         0.00000000   104       \n",
       "7   2012 Hicgop South       NA  0         0.00000000    18       \n",
       "8   2012 Magbangon          NA 10         0.45938375   139       \n",
       "9   2012 Palanas            49 13         0.28985507   138       \n",
       "10  2012 Poroc Rose          9  9         1.00000000    13       \n",
       "11  2012 Poroc San Flower    4  9         1.00000000    11       \n",
       "12  2012 San Agustin         6  0         0.88888889    18       \n",
       "13  2012 Sitio Baybayon     NA  0         0.00000000   259       \n",
       "14  2012 Sitio Lonas         1  1         0.66666667     3       \n",
       "15  2012 Sitio Tugas        NA  0         0.00000000     9       \n",
       "16  2012 Tamakin Dacot      NA  0         0.00000000    48       \n",
       "17  2012 Visca               4  1         1.00000000    13       \n",
       "18  2012 Wangag             98 16         0.18213058   291       \n",
       "19  2013 Cabatoan           28  3         0.50000000    52       \n",
       "20  2013 Caridad Cemetery    5  2         0.37500000     8       \n",
       "21  2013 Caridad Proper      3  4         1.00000000     4       \n",
       "22  2013 Elementary School   9 11         0.50000000    14       \n",
       "23  2013 Gabas              NA  0         0.00000000    18       \n",
       "24  2013 Haina             124  6         0.02884615   208       \n",
       "25  2013 Hicgop South       21  4         0.33333333    36       \n",
       "26  2013 Magbangon          NA 18         0.57100840   278       \n",
       "27  2013 Palanas           112 43         0.43115942   276       \n",
       "28  2013 Poroc Rose          9  1         1.00000000    26       \n",
       "29  2013 Poroc San Flower    7  1         0.90909091    22       \n",
       "30  2013 San Agustin         9  0         0.75000000    36       \n",
       "... ...  ...               ... ...        ...          ...       \n",
       "97  2017 Hicgop South       15  3         0.4351852     108      \n",
       "98  2017 Magbangon          NA  0         0.6298786     834      \n",
       "99  2017 Palanas            70 19         0.6099034     828      \n",
       "100 2017 Poroc Rose         10  3         0.6538462      78      \n",
       "101 2017 Poroc San Flower   11  1         0.7727273      66      \n",
       "102 2017 San Agustin        10  5         0.7870370     108      \n",
       "103 2017 Sitio Baybayon    151 35         0.2490347    1554      \n",
       "104 2017 Sitio Lonas        NA  0         1.0000000       3      \n",
       "105 2017 Sitio Tugas        NA  0         1.0000000       9      \n",
       "106 2017 Tamakin Dacot      38 10         0.3020833     288      \n",
       "107 2017 Visca              11  8         0.6794872      78      \n",
       "108 2017 Wangag            163 25         0.3402062    1746      \n",
       "109 2018 Cabatoan           20  0         0.5109890     182      \n",
       "110 2018 Caridad Cemetery   NA  0         0.3928571      28      \n",
       "111 2018 Caridad Proper     NA  0         1.0000000       4      \n",
       "112 2018 Elementary School   5  1         0.7551020      49      \n",
       "113 2018 Gabas              NA  0         0.2222222      63      \n",
       "114 2018 Haina              94  5         0.2527473     728      \n",
       "115 2018 Hicgop South       16  1         0.4841270     126      \n",
       "116 2018 Magbangon          NA  4         0.6475390     973      \n",
       "117 2018 Palanas            94  8         0.6449275     966      \n",
       "118 2018 Poroc Rose          8  0         0.6593407      91      \n",
       "119 2018 Poroc San Flower   NA  0         0.7532468      77      \n",
       "120 2018 San Agustin        22  0         0.7777778     126      \n",
       "121 2018 Sitio Baybayon    192 16         0.3287369    1813      \n",
       "122 2018 Sitio Lonas        NA  0         1.0000000       3      \n",
       "123 2018 Sitio Tugas        NA  0         1.0000000       9      \n",
       "124 2018 Tamakin Dacot      44  2         0.3571429     336      \n",
       "125 2018 Visca              23  0         0.6703297      91      \n",
       "126 2018 Wangag            199  8         0.3902798    2037      "
      ]
     },
     "metadata": {},
     "output_type": "display_data"
    }
   ],
   "source": [
    "#Biophysical source normalized matrix\n",
    "#for each source, what is the normalized recruitment at each destination? \n",
    "GenSimConn[, annual_source_normalized_recruitment := sum(daily_particles_recruited)/sum(daily_particles_released), by=c(\"source\", \"destination\",\"year_sampled\")]\n"
   ]
  },
  {
   "cell_type": "markdown",
   "metadata": {},
   "source": [
    "__Code function for likelihood of parentage data given a biophysical model, based on Bode et al. 2019 in Plos Bio__"
   ]
  },
  {
   "cell_type": "code",
   "execution_count": null,
   "metadata": {},
   "outputs": [],
   "source": [
    "#lay out all the pieces\n",
    "pop_size_vec <- #vector of pop sizes for all reefs (a). This term is also used in parentage kernel fitting, but reef sizes are substituted as a proxy for pop size. This is should be bootstrapped to account for uncertainty.\n",
    "BioPhysMat <- #source normalized biophysical connectivity matrix. In Eqn. S3.4, this is m ajt/r a (*should it be r at? As in all particles released in time period t?)\n",
    "prop_samp_vec <- #vector of proportion of habitat sampled for all reefs in time period t\n",
    "unassigned_vec#from genetic parentage data- a vector of the number of unassigned recruits at each destination reef in the system- we only have this for all sampled reefs.... what should the dimensions be?*\n"
   ]
  },
  {
   "cell_type": "code",
   "execution_count": null,
   "metadata": {},
   "outputs": [],
   "source": [
    "#format the data"
   ]
  },
  {
   "cell_type": "code",
   "execution_count": null,
   "metadata": {},
   "outputs": [],
   "source": [
    "reef"
   ]
  },
  {
   "cell_type": "code",
   "execution_count": 3,
   "metadata": {},
   "outputs": [
    {
     "data": {
      "text/html": [
       "<table>\n",
       "<thead><tr><th scope=col>year</th><th scope=col>site</th><th scope=col>n_offs_gen</th></tr></thead>\n",
       "<tbody>\n",
       "\t<tr><td>2012            </td><td>Cabatoan        </td><td> 4              </td></tr>\n",
       "\t<tr><td>2012            </td><td>Palanas         </td><td>13              </td></tr>\n",
       "\t<tr><td>2012            </td><td>Poroc Rose      </td><td> 9              </td></tr>\n",
       "\t<tr><td>2012            </td><td>Poroc San Flower</td><td> 9              </td></tr>\n",
       "\t<tr><td>2012            </td><td>Sitio Lonas     </td><td> 1              </td></tr>\n",
       "\t<tr><td>2012            </td><td>Visca           </td><td> 1              </td></tr>\n",
       "</tbody>\n",
       "</table>\n"
      ],
      "text/latex": [
       "\\begin{tabular}{r|lll}\n",
       " year & site & n\\_offs\\_gen\\\\\n",
       "\\hline\n",
       "\t 2012             & Cabatoan         &  4              \\\\\n",
       "\t 2012             & Palanas          & 13              \\\\\n",
       "\t 2012             & Poroc Rose       &  9              \\\\\n",
       "\t 2012             & Poroc San Flower &  9              \\\\\n",
       "\t 2012             & Sitio Lonas      &  1              \\\\\n",
       "\t 2012             & Visca            &  1              \\\\\n",
       "\\end{tabular}\n"
      ],
      "text/markdown": [
       "\n",
       "| year | site | n_offs_gen |\n",
       "|---|---|---|\n",
       "| 2012             | Cabatoan         |  4               |\n",
       "| 2012             | Palanas          | 13               |\n",
       "| 2012             | Poroc Rose       |  9               |\n",
       "| 2012             | Poroc San Flower |  9               |\n",
       "| 2012             | Sitio Lonas      |  1               |\n",
       "| 2012             | Visca            |  1               |\n",
       "\n"
      ],
      "text/plain": [
       "  year site             n_offs_gen\n",
       "1 2012 Cabatoan          4        \n",
       "2 2012 Palanas          13        \n",
       "3 2012 Poroc Rose        9        \n",
       "4 2012 Poroc San Flower  9        \n",
       "5 2012 Sitio Lonas       1        \n",
       "6 2012 Visca             1        "
      ]
     },
     "metadata": {},
     "output_type": "display_data"
    }
   ],
   "source": [
    "head(AnnualRecsSamp)"
   ]
  },
  {
   "cell_type": "code",
   "execution_count": null,
   "metadata": {},
   "outputs": [],
   "source": [
    "#Eqn. S3.4 term 1 for loop\n",
    "\n",
    "for(j in 1:nrow(centroids)){ #for each destination reef in the whole Camotes system\n",
    "    \n",
    "dest_unassigned <- sum(unassigned_vec[t==time_period]) #the sum of all unassigned recruits at time period t\n",
    "    \n",
    "        for(i in 1:nrow(centroids)){ #term 1- for each source reef in the whole Camotes system, expected unassigned at each destination reef\n",
    "            \n",
    "            term1_num <- ((1-prop_samp_vec[i,t== time_period])^2)*pop_size_vec[i]*BioPhysMat[i,j,t]\n",
    "            \n",
    "            for(a in 1:nrow(centroids)){ #for all reefs total in the whole Camotes system, denominator of term 1\n",
    "                \n",
    "                value_a <-  pop_size_vec[a]*BioPhysMat[a, j, t]\n",
    "                term1_denom <- sum(value_a)\n",
    "            }\n",
    "        \n",
    "        term1 = term1_num/term1_denom\n",
    "        }\n",
    "\n",
    "    for(k in 1:nrow(centroids)){ #term 2- for each source reef in the whole Camotes system, expected assigned at each destination reef\n",
    "        \n",
    "        term2_num <- (1-(1-prop_samp_vec[i,t== time_period])^2)*pop_size_vec[i]*BioPhysMat[i,j,t]\n",
    "            \n",
    "            for(a in 1:nrow(centroids)){ #for all reefs total in the whole Camotes system, denominator of term 2\n",
    "                \n",
    "                value_a <-  pop_size_vec[a]*BioPhysMat[a, j, t]\n",
    "                term2_denom <- sum(value_a)\n",
    "            }\n",
    "        \n",
    "        term2 = term2_num/term2_denom\n",
    "        \n",
    "        }\n",
    "        \n",
    "    \n",
    "\n",
    "prob_unsampled <- dest_unassigned*log(term1)  \n",
    "prob_sampled <- dest_assigned*log(term2)\n",
    "ll = prob_unsampled + prob_sampled\n",
    "}"
   ]
  },
  {
   "cell_type": "code",
   "execution_count": null,
   "metadata": {},
   "outputs": [],
   "source": []
  },
  {
   "cell_type": "code",
   "execution_count": null,
   "metadata": {},
   "outputs": [],
   "source": []
  },
  {
   "cell_type": "code",
   "execution_count": null,
   "metadata": {},
   "outputs": [],
   "source": []
  },
  {
   "cell_type": "code",
   "execution_count": null,
   "metadata": {},
   "outputs": [],
   "source": []
  },
  {
   "cell_type": "code",
   "execution_count": null,
   "metadata": {},
   "outputs": [],
   "source": []
  },
  {
   "cell_type": "code",
   "execution_count": null,
   "metadata": {},
   "outputs": [],
   "source": [
    "\n",
    "for(i in 1:NumSampledReefs){\n",
    "   This_SS_A = Adult_sample_proportions[i]#same\n",
    "   for(j in 1:NumSampledReefs){\n",
    "    SettlersFromAssignedReefs = Settlers[Sampled_reefs[i],Sampled_reefs[j]]#same\n",
    "    #Not all settlers from assigned reefs will be assigned, because not all adults were sampled\n",
    "    AssignedSettlers[i,j] = SettlersFromAssignedReefs*(This_SS_A^2 + 2*This_SS_A*(1 - This_SS_A))\n",
    "    AssignedSettlers[NumSampledReefs+1,j] = AssignedSettlers[NumSampledReefs+1,j] + SettlersFromAssignedReefs*(1-This_SS_A)^2 #The three dots '...' tell matlab that the code on a given line continues on the next line.\n",
    "   }\n",
    "}\n",
    "Unsampled = as.matrix(setdiff(1:NumReefs,Sampled_reefs))\n",
    "\n",
    "\n",
    "for(j in 1:NumSampledReefs){\n",
    "   AssignedSettlers[NumSampledReefs+1,j] = AssignedSettlers[NumSampledReefs+1,j] + sum(Settlers[Unsampled,Sampled_reefs[,j]]) \n",
    "}\n",
    "   \n",
    "\n"
   ]
  },
  {
   "cell_type": "code",
   "execution_count": null,
   "metadata": {},
   "outputs": [],
   "source": []
  },
  {
   "cell_type": "code",
   "execution_count": null,
   "metadata": {},
   "outputs": [],
   "source": []
  },
  {
   "cell_type": "code",
   "execution_count": null,
   "metadata": {},
   "outputs": [],
   "source": []
  },
  {
   "cell_type": "code",
   "execution_count": null,
   "metadata": {},
   "outputs": [],
   "source": []
  },
  {
   "cell_type": "code",
   "execution_count": null,
   "metadata": {},
   "outputs": [],
   "source": []
  },
  {
   "cell_type": "code",
   "execution_count": null,
   "metadata": {},
   "outputs": [],
   "source": []
  },
  {
   "cell_type": "code",
   "execution_count": null,
   "metadata": {},
   "outputs": [],
   "source": []
  },
  {
   "cell_type": "markdown",
   "metadata": {},
   "source": [
    "__Loop through sampling different proportions of other and CAI source particles and compare the unassigned proportions of total sample particles to the genetic observations from survey data__"
   ]
  },
  {
   "cell_type": "code",
   "execution_count": 48,
   "metadata": {},
   "outputs": [
    {
     "data": {
      "text/html": [
       "<table>\n",
       "<thead><tr><th scope=col>Year</th><th scope=col>NumParentageMatches</th><th scope=col>NumOffsSampled</th><th scope=col>PropAssigned</th></tr></thead>\n",
       "<tbody>\n",
       "\t<tr><td>2012      </td><td> 3        </td><td> 63       </td><td>0.04760000</td></tr>\n",
       "\t<tr><td>2013      </td><td>21        </td><td>150       </td><td>0.14000000</td></tr>\n",
       "\t<tr><td>2014      </td><td>13        </td><td>181       </td><td>0.07180000</td></tr>\n",
       "\t<tr><td>2012-4    </td><td>37        </td><td>394       </td><td>0.04761905</td></tr>\n",
       "</tbody>\n",
       "</table>\n"
      ],
      "text/latex": [
       "\\begin{tabular}{r|llll}\n",
       " Year & NumParentageMatches & NumOffsSampled & PropAssigned\\\\\n",
       "\\hline\n",
       "\t 2012       &  3         &  63        & 0.04760000\\\\\n",
       "\t 2013       & 21         & 150        & 0.14000000\\\\\n",
       "\t 2014       & 13         & 181        & 0.07180000\\\\\n",
       "\t 2012-4     & 37         & 394        & 0.04761905\\\\\n",
       "\\end{tabular}\n"
      ],
      "text/markdown": [
       "\n",
       "| Year | NumParentageMatches | NumOffsSampled | PropAssigned |\n",
       "|---|---|---|---|\n",
       "| 2012       |  3         |  63        | 0.04760000 |\n",
       "| 2013       | 21         | 150        | 0.14000000 |\n",
       "| 2014       | 13         | 181        | 0.07180000 |\n",
       "| 2012-4     | 37         | 394        | 0.04761905 |\n",
       "\n"
      ],
      "text/plain": [
       "  Year   NumParentageMatches NumOffsSampled PropAssigned\n",
       "1 2012    3                   63            0.04760000  \n",
       "2 2013   21                  150            0.14000000  \n",
       "3 2014   13                  181            0.07180000  \n",
       "4 2012-4 37                  394            0.04761905  "
      ]
     },
     "metadata": {},
     "output_type": "display_data"
    }
   ],
   "source": [
    "PropAssignedTable <- rbind(kernels[Year %in% c(\"2012\", \"2013\", \"2014\")][\n",
    "    , PropAssigned := PercentAssigned/100][ #change to proportion note percent\n",
    "    , c(\"Year\", \"NumParentageMatches\", \"NumOffsSampled\", \"PropAssigned\")],                      \n",
    "    unique(kernels[Year %in% c(\"2012\", \"2013\", \"2014\")][ #only the years coinciding with the models\n",
    "    , `:=` (NumParentageMatches=sum(NumParentageMatches), NumOffsSampled=sum(NumOffsSampled), PropAssigned = NumParentageMatches/NumOffsSampled, Year = \"2012-4\")][ #summarise across the 3 years\n",
    "    , c(\"Year\",\"NumParentageMatches\", \"NumOffsSampled\", \"PropAssigned\")], by=\"Year\"))\n",
    "    \n",
    "\n",
    "PropAssignedTable[]\n",
    "\n",
    "#add in the average sampled proportion of anemones\n",
    "AvgPropSamp <- SurveyData[PropAnemSamp >0, .(PropAnemSamp = mean(PropAnemSamp)), by=\"year\"][ #average for each site we sampled, how well we sampled\n",
    "    year %in% c(\"2012\", \"2013\", \"2014\")][\n",
    "    , year :=as.character(year)]\n",
    "\n",
    "ExpectedPropAssigned <- AvgPropSamp[PropAssignedTable, on=.(year=Year)]\n",
    "ExpectedPropAssigned$PropAnemSamp[is.na(ExpectedPropAssigned$PropAnemSamp)] <- mean(ExpectedPropAssigned$PropAnemSamp, na.rm = T) #replace the 2012-4 NA with the average from the 3 years\n",
    "\n",
    "#what's the normalized self recruitment proportion back to the population\n",
    "ExpectedPropAssigned[, ExpAssigned := NumParentageMatches/(NumOffsSampled*PropAnemSamp)][] #this is the expected assignment for the whole surveyed population if we had sampled all adults (which we kind of do when we use the simulation results)\n",
    "#at some point... maybe it would be better to compare on a site to site level? idk that's pretty fine scale, I don't know that our ROMS model can be expected to compare so well with that"
   ]
  },
  {
   "cell_type": "code",
   "execution_count": 52,
   "metadata": {},
   "outputs": [
    {
     "data": {
      "text/html": [
       "<table>\n",
       "<thead><tr><th scope=col>year</th><th scope=col>PropAnemSamp</th><th scope=col>NumParentageMatches</th><th scope=col>NumOffsSampled</th><th scope=col>PropAssigned</th><th scope=col>ExpAssigned</th></tr></thead>\n",
       "<tbody>\n",
       "\t<tr><td>2012      </td><td>0.6566669 </td><td> 3        </td><td> 63       </td><td>0.04760000</td><td>0.07251629</td></tr>\n",
       "\t<tr><td>2013      </td><td>0.5793625 </td><td>21        </td><td>150       </td><td>0.14000000</td><td>0.24164492</td></tr>\n",
       "\t<tr><td>2014      </td><td>0.5714427 </td><td>13        </td><td>181       </td><td>0.07180000</td><td>0.12568749</td></tr>\n",
       "\t<tr><td>2012-4    </td><td>0.6024907 </td><td>37        </td><td>394       </td><td>0.04761905</td><td>0.15586735</td></tr>\n",
       "</tbody>\n",
       "</table>\n"
      ],
      "text/latex": [
       "\\begin{tabular}{r|llllll}\n",
       " year & PropAnemSamp & NumParentageMatches & NumOffsSampled & PropAssigned & ExpAssigned\\\\\n",
       "\\hline\n",
       "\t 2012       & 0.6566669  &  3         &  63        & 0.04760000 & 0.07251629\\\\\n",
       "\t 2013       & 0.5793625  & 21         & 150        & 0.14000000 & 0.24164492\\\\\n",
       "\t 2014       & 0.5714427  & 13         & 181        & 0.07180000 & 0.12568749\\\\\n",
       "\t 2012-4     & 0.6024907  & 37         & 394        & 0.04761905 & 0.15586735\\\\\n",
       "\\end{tabular}\n"
      ],
      "text/markdown": [
       "\n",
       "| year | PropAnemSamp | NumParentageMatches | NumOffsSampled | PropAssigned | ExpAssigned |\n",
       "|---|---|---|---|---|---|\n",
       "| 2012       | 0.6566669  |  3         |  63        | 0.04760000 | 0.07251629 |\n",
       "| 2013       | 0.5793625  | 21         | 150        | 0.14000000 | 0.24164492 |\n",
       "| 2014       | 0.5714427  | 13         | 181        | 0.07180000 | 0.12568749 |\n",
       "| 2012-4     | 0.6024907  | 37         | 394        | 0.04761905 | 0.15586735 |\n",
       "\n"
      ],
      "text/plain": [
       "  year   PropAnemSamp NumParentageMatches NumOffsSampled PropAssigned\n",
       "1 2012   0.6566669     3                   63            0.04760000  \n",
       "2 2013   0.5793625    21                  150            0.14000000  \n",
       "3 2014   0.5714427    13                  181            0.07180000  \n",
       "4 2012-4 0.6024907    37                  394            0.04761905  \n",
       "  ExpAssigned\n",
       "1 0.07251629 \n",
       "2 0.24164492 \n",
       "3 0.12568749 \n",
       "4 0.15586735 "
      ]
     },
     "metadata": {},
     "output_type": "display_data"
    }
   ],
   "source": []
  },
  {
   "cell_type": "raw",
   "metadata": {},
   "source": []
  },
  {
   "cell_type": "code",
   "execution_count": null,
   "metadata": {},
   "outputs": [],
   "source": []
  },
  {
   "cell_type": "markdown",
   "metadata": {},
   "source": [
    "__For the expected values of recruits from outside of our sampled region, I'm using the intermediate \"PredictedProportions\" matrix from the Bode kernel fitting script (https://github.com/MikeBode/Parentage_kernel_fitting/blob/master/Kernel_Fitting_Function.m) because it accounts for how well sites were sampled when estimating proportions of recruits from unsampled sites__"
   ]
  },
  {
   "cell_type": "code",
   "execution_count": 55,
   "metadata": {},
   "outputs": [],
   "source": [
    "#####outside of the loop*****\n",
    "\n",
    "PropSampTable <- SurveyData[PropAnemSamp >0, c(\"year\", \"site\")]\n",
    "\n",
    "#make sure all sampled sites are represented by joining the survey data to the sampled simulation\n",
    "PropSampTable <- rbind(SurveyData[PropAnemSamp >0 & year %in% c(2012, 2013, 2014), c(\"year\", \"site\")][, .(Source=site, Dest=site, Year=year)][ #will join to the simulated sampling table by source and dest, so make those each a column from site and preserve the year variable as a key\n",
    "    , c(\"Year\", \"Source\", \"Dest\")][, Monsoon := \"NEM\"], SurveyData[PropAnemSamp >0 & year %in% c(2012, 2013, 2014), c(\"year\", \"site\")][, .(Source=site, Dest=site, Year=year)][ #will join to the simulated sampling table by source and dest, so make those each a column from site and preserve the year variable as a key\n",
    "    , c(\"Year\", \"Source\", \"Dest\")][, Monsoon := \"SWM\"])\n",
    "#unq_survey <- unique(PropSampTable, by=c(\"Source\", \"Dest\", \"Year\", \"Monsoon\"))#, unique(PropSampTable, by=c(\"Source\", \"Dest\", \"Year\"))[, Monsoon := \"SWM\"]) #add in the diff Monsoon seasons so there are complete parentage matrices later\n",
    "#add_dest <- rbind(SurveyData[year %in% c(2012, 2013, 2014) & PropAnemSamp >0][, c(\"year\", \"site\")][, Monsoon := \"NEM\"], SurveyData[year %in% c(2012, 2013, 2014) & PropAnemSamp >0][, c(\"year\", \"site\")][, Monsoon := \"SWM\"])  #what destinations were sampled, for use with unassigned table\n",
    "\n",
    "###outside of the loop\n",
    "PropToEval <- seq(0.1, 1, 0.1) #make a vector of proportions to sample iterativaley and compare\n",
    "#empty table to hold results\n",
    "PropSampOtherCAI <- data.table(TimeScale=character(), TimeID=character(), PropUnassigned=numeric(), ExpUnassigned=numeric(),  PropSampEval=numeric(), Check1=character(), Check2=character(), NrowSimConn=numeric())\n",
    "\n"
   ]
  },
  {
   "cell_type": "code",
   "execution_count": 59,
   "metadata": {},
   "outputs": [
    {
     "name": "stdout",
     "output_type": "stream",
     "text": [
      "  |======================================================================| 100%\n"
     ]
    },
    {
     "data": {
      "text/plain": [
       "Time difference of 1.066185 mins"
      ]
     },
     "metadata": {},
     "output_type": "display_data"
    }
   ],
   "source": [
    "pb <- txtProgressBar(min = 0, max =length(PropToEval), style = 3)\n",
    "\n",
    "StartTime <- Sys.time()\n",
    "\n",
    "for(i in 1:length(PropToEval)){\n",
    "\n",
    "PropSampOtherCAI_int <- data.table(TimeScale=character(), TimeID=character(), PropUnassigned=numeric(), ExpUnassigned=numeric(),  PropSampEval=numeric(), Check1=character(), Check2=character(), NrowSimConn=numeric())[1:4]\n",
    "\n",
    "dest_sampled <- date_join[DestPropSamp >0]\n",
    "check1 <- nrow(dest_sampled)\n",
    "dest_sampled <- dest_sampled[c(dest_sampled[, .I[Source != \"Other\"]], sample(dest_sampled[, .I[Source == \"Other\"]], length(dest_sampled[, .I[Source == \"Other\"]])*PropToEval[i]))]\n",
    "check2 <- nrow(dest_sampled)\n",
    "dest_sampled <- dest_sampled[c(dest_sampled[, .I[Source != \"CAI\"]], sample(dest_sampled[, .I[Source == \"CAI\"]], length(dest_sampled[, .I[Source == \"CAI\"]])*PropToEval[i]))]\n",
    "check3 <- nrow(dest_sampled)\n",
    "\n",
    "#check that we have less rows, should both be TRUE\n",
    "test1 <- check1 > check2\n",
    "test2 <- check2 > check3\n",
    "#check1 > check2\n",
    "#check2 > check3\n",
    "\n",
    "\n",
    "#join in the number of parentage matches observed by year\n",
    "dest_sampled <- kernels[Year %in% c(\"2012\", \"2013\", \"2014\")][, Year:=as.integer(Year)][,c(\"Year\", \"NumParentageMatches\")][dest_sampled, on=.(Year=YearSampled)]#[\n",
    "\n",
    "#randomly subsample the sampled particle data\n",
    "sim_sample <- dest_sampled[, .SD[sample(.N, DestNOffsAnnual, prob=SurvWeight)], by = c(\"Year\", \"Dest\")] #randomly sample rows (particles) from the table according to the survival weighting, based on the number we sampled at each site in each year of surveys\n",
    "\n",
    "PropUnassignedByYear <- (sim_sample[Source == \"CAI\"| Source == \"Other\", .(.N), by=\"Year\"][, N]/#total particales sampled from other/CAI sources\n",
    "sim_sample[, .(.N), by=\"Year\"][, N]) #total particles sampled\n",
    "\n",
    "PropSampOtherCAI_int$TimeScale[1] <- \"annual\"\n",
    "PropSampOtherCAI_int$TimeID[1] <- \"2012\"\n",
    "PropSampOtherCAI_int$PropUnassigned[1] <- PropUnassignedByYear[1]\n",
    "PropSampOtherCAI_int$ExpUnassigned[1] <- 1-(ExpectedPropAssigned[1, ExpAssigned])\n",
    "PropSampOtherCAI_int$PropSampEval[1] <- PropToEval[i]\n",
    "PropSampOtherCAI_int$Check1[1] <- test1\n",
    "PropSampOtherCAI_int$Check2[1] <- test2\n",
    "PropSampOtherCAI_int$NrowSimConn[1] <- nrow(dest_sampled)\n",
    "    \n",
    "PropSampOtherCAI_int$TimeScale[2] <- \"annual\"\n",
    "PropSampOtherCAI_int$TimeID[2] <- \"2013\"\n",
    "PropSampOtherCAI_int$PropUnassigned[2] <- PropUnassignedByYear[2]\n",
    "PropSampOtherCAI_int$ExpUnassigned[2] <- 1-(ExpectedPropAssigned[2, ExpAssigned])\n",
    "PropSampOtherCAI_int$PropSampEval[2] <- PropToEval[i]\n",
    "PropSampOtherCAI_int$Check1[2] <- test1\n",
    "PropSampOtherCAI_int$Check2[2] <- test2\n",
    "PropSampOtherCAI_int$NrowSimConn[2] <- nrow(dest_sampled)\n",
    "    \n",
    "PropSampOtherCAI_int$TimeScale[3] <- \"annual\"\n",
    "PropSampOtherCAI_int$TimeID[3] <- \"2014\"\n",
    "PropSampOtherCAI_int$PropUnassigned[3] <- PropUnassignedByYear[3]\n",
    "PropSampOtherCAI_int$ExpUnassigned[3] <- 1-(ExpectedPropAssigned[3, ExpAssigned])\n",
    "PropSampOtherCAI_int$PropSampEval[3] <- PropToEval[i]\n",
    "PropSampOtherCAI_int$Check1[3] <- test1\n",
    "PropSampOtherCAI_int$Check2[3] <- test2\n",
    "PropSampOtherCAI_int$NrowSimConn[3] <- nrow(dest_sampled)\n",
    "    \n",
    "PropSampOtherCAI_int$TimeScale[4] <- \"interannual\"\n",
    "PropSampOtherCAI_int$TimeID[4] <- \"2012_4\"\n",
    "PropSampOtherCAI_int$PropUnassigned[4] <- nrow(sim_sample[Source == \"CAI\"| Source == \"Other\"])/nrow(sim_sample)\n",
    "PropSampOtherCAI_int$ExpUnassigned[4] <- 1-(ExpectedPropAssigned[4, ExpAssigned])\n",
    "PropSampOtherCAI_int$PropSampEval[4] <- PropToEval[i]\n",
    "PropSampOtherCAI_int$Check1[4] <- test1\n",
    "PropSampOtherCAI_int$Check2[4] <- test2\n",
    "PropSampOtherCAI_int$NrowSimConn[4] <- nrow(dest_sampled)\n",
    "\n",
    "l <- list(PropSampOtherCAI, PropSampOtherCAI_int)\n",
    "PropSampOtherCAI <- rbindlist(l, use.names = TRUE, fill=TRUE, idcol = FALSE)\n",
    "setTxtProgressBar(pb, i)\n",
    "    \n",
    "}\n",
    "\n",
    "close(pb)\n",
    "EndTime <- Sys.time()\n",
    "EndTime-StartTime\n",
    "\n",
    "fwrite(PropSampOtherCAI, file=\"~/oceanography/script_output/SimulationSummaryTables/PropSampOtherCAIEvaluation.csv\")\n"
   ]
  },
  {
   "cell_type": "code",
   "execution_count": 58,
   "metadata": {},
   "outputs": [
    {
     "data": {
      "text/html": [
       "<table>\n",
       "<thead><tr><th scope=col>TimeScale</th><th scope=col>TimeID</th><th scope=col>PropUnassigned</th><th scope=col>ExpUnassigned</th><th scope=col>PropSampEval</th><th scope=col>Check1</th><th scope=col>Check2</th><th scope=col>NrowSimConn</th></tr></thead>\n",
       "<tbody>\n",
       "\t<tr><td>annual     </td><td>2013       </td><td>0.6666667  </td><td>0.7583551  </td><td>0.9        </td><td>TRUE       </td><td>TRUE       </td><td>579512     </td></tr>\n",
       "\t<tr><td>annual     </td><td>2013       </td><td>0.6666667  </td><td>0.7583551  </td><td>1.0        </td><td>FALSE      </td><td>FALSE      </td><td>610419     </td></tr>\n",
       "\t<tr><td>annual     </td><td>2012       </td><td>0.6507937  </td><td>0.9274837  </td><td>0.8        </td><td>TRUE       </td><td>TRUE       </td><td>548606     </td></tr>\n",
       "\t<tr><td>annual     </td><td>2014       </td><td>0.6464088  </td><td>0.8743125  </td><td>0.9        </td><td>TRUE       </td><td>TRUE       </td><td>579512     </td></tr>\n",
       "\t<tr><td>interannual</td><td>2012_4     </td><td>0.6395939  </td><td>0.8441326  </td><td>0.9        </td><td>TRUE       </td><td>TRUE       </td><td>579512     </td></tr>\n",
       "\t<tr><td>annual     </td><td>2014       </td><td>0.6353591  </td><td>0.8743125  </td><td>0.8        </td><td>TRUE       </td><td>TRUE       </td><td>548606     </td></tr>\n",
       "\t<tr><td>interannual</td><td>2012_4     </td><td>0.6294416  </td><td>0.8441326  </td><td>1.0        </td><td>FALSE      </td><td>FALSE      </td><td>610419     </td></tr>\n",
       "\t<tr><td>interannual</td><td>2012_4     </td><td>0.6269036  </td><td>0.8441326  </td><td>0.8        </td><td>TRUE       </td><td>TRUE       </td><td>548606     </td></tr>\n",
       "\t<tr><td>annual     </td><td>2014       </td><td>0.6187845  </td><td>0.8743125  </td><td>1.0        </td><td>FALSE      </td><td>FALSE      </td><td>610419     </td></tr>\n",
       "\t<tr><td>annual     </td><td>2013       </td><td>0.6066667  </td><td>0.7583551  </td><td>0.8        </td><td>TRUE       </td><td>TRUE       </td><td>548606     </td></tr>\n",
       "\t<tr><td>annual     </td><td>2013       </td><td>0.5933333  </td><td>0.7583551  </td><td>0.6        </td><td>TRUE       </td><td>TRUE       </td><td>486794     </td></tr>\n",
       "\t<tr><td>annual     </td><td>2013       </td><td>0.5866667  </td><td>0.7583551  </td><td>0.7        </td><td>TRUE       </td><td>TRUE       </td><td>517700     </td></tr>\n",
       "\t<tr><td>annual     </td><td>2012       </td><td>0.5714286  </td><td>0.9274837  </td><td>1.0        </td><td>FALSE      </td><td>FALSE      </td><td>610419     </td></tr>\n",
       "\t<tr><td>annual     </td><td>2013       </td><td>0.5666667  </td><td>0.7583551  </td><td>0.4        </td><td>TRUE       </td><td>TRUE       </td><td>424982     </td></tr>\n",
       "\t<tr><td>annual     </td><td>2012       </td><td>0.5555556  </td><td>0.9274837  </td><td>0.9        </td><td>TRUE       </td><td>TRUE       </td><td>579512     </td></tr>\n",
       "\t<tr><td>interannual</td><td>2012_4     </td><td>0.5431472  </td><td>0.8441326  </td><td>0.7        </td><td>TRUE       </td><td>TRUE       </td><td>517700     </td></tr>\n",
       "\t<tr><td>interannual</td><td>2012_4     </td><td>0.5406091  </td><td>0.8441326  </td><td>0.6        </td><td>TRUE       </td><td>TRUE       </td><td>486794     </td></tr>\n",
       "\t<tr><td>annual     </td><td>2013       </td><td>0.5400000  </td><td>0.7583551  </td><td>0.3        </td><td>TRUE       </td><td>TRUE       </td><td>394076     </td></tr>\n",
       "\t<tr><td>annual     </td><td>2013       </td><td>0.5266667  </td><td>0.7583551  </td><td>0.5        </td><td>TRUE       </td><td>TRUE       </td><td>455889     </td></tr>\n",
       "\t<tr><td>annual     </td><td>2012       </td><td>0.5238095  </td><td>0.9274837  </td><td>0.6        </td><td>TRUE       </td><td>TRUE       </td><td>486794     </td></tr>\n",
       "\t<tr><td>annual     </td><td>2014       </td><td>0.5193370  </td><td>0.8743125  </td><td>0.7        </td><td>TRUE       </td><td>TRUE       </td><td>517700     </td></tr>\n",
       "\t<tr><td>annual     </td><td>2012       </td><td>0.5079365  </td><td>0.9274837  </td><td>0.7        </td><td>TRUE       </td><td>TRUE       </td><td>517700     </td></tr>\n",
       "\t<tr><td>annual     </td><td>2014       </td><td>0.5027624  </td><td>0.8743125  </td><td>0.6        </td><td>TRUE       </td><td>TRUE       </td><td>486794     </td></tr>\n",
       "\t<tr><td>interannual</td><td>2012_4     </td><td>0.4898477  </td><td>0.8441326  </td><td>0.4        </td><td>TRUE       </td><td>TRUE       </td><td>424982     </td></tr>\n",
       "\t<tr><td>interannual</td><td>2012_4     </td><td>0.4847716  </td><td>0.8441326  </td><td>0.5        </td><td>TRUE       </td><td>TRUE       </td><td>455889     </td></tr>\n",
       "\t<tr><td>annual     </td><td>2012       </td><td>0.4603175  </td><td>0.9274837  </td><td>0.4        </td><td>TRUE       </td><td>TRUE       </td><td>424982     </td></tr>\n",
       "\t<tr><td>annual     </td><td>2012       </td><td>0.4603175  </td><td>0.9274837  </td><td>0.5        </td><td>TRUE       </td><td>TRUE       </td><td>455889     </td></tr>\n",
       "\t<tr><td>annual     </td><td>2014       </td><td>0.4585635  </td><td>0.8743125  </td><td>0.5        </td><td>TRUE       </td><td>TRUE       </td><td>455889     </td></tr>\n",
       "\t<tr><td>interannual</td><td>2012_4     </td><td>0.4467005  </td><td>0.8441326  </td><td>0.3        </td><td>TRUE       </td><td>TRUE       </td><td>394076     </td></tr>\n",
       "\t<tr><td>annual     </td><td>2014       </td><td>0.4364641  </td><td>0.8743125  </td><td>0.4        </td><td>TRUE       </td><td>TRUE       </td><td>424982     </td></tr>\n",
       "\t<tr><td>annual     </td><td>2012       </td><td>0.4126984  </td><td>0.9274837  </td><td>0.3        </td><td>TRUE       </td><td>TRUE       </td><td>394076     </td></tr>\n",
       "\t<tr><td>annual     </td><td>2014       </td><td>0.3812155  </td><td>0.8743125  </td><td>0.3        </td><td>TRUE       </td><td>TRUE       </td><td>394076     </td></tr>\n",
       "\t<tr><td>annual     </td><td>2013       </td><td>0.3666667  </td><td>0.7583551  </td><td>0.2        </td><td>TRUE       </td><td>TRUE       </td><td>363170     </td></tr>\n",
       "\t<tr><td>annual     </td><td>2012       </td><td>0.3650794  </td><td>0.9274837  </td><td>0.2        </td><td>TRUE       </td><td>TRUE       </td><td>363170     </td></tr>\n",
       "\t<tr><td>interannual</td><td>2012_4     </td><td>0.3197970  </td><td>0.8441326  </td><td>0.2        </td><td>TRUE       </td><td>TRUE       </td><td>363170     </td></tr>\n",
       "\t<tr><td>annual     </td><td>2014       </td><td>0.2651934  </td><td>0.8743125  </td><td>0.2        </td><td>TRUE       </td><td>TRUE       </td><td>363170     </td></tr>\n",
       "\t<tr><td>annual     </td><td>2013       </td><td>0.2400000  </td><td>0.7583551  </td><td>0.1        </td><td>TRUE       </td><td>TRUE       </td><td>332264     </td></tr>\n",
       "\t<tr><td>interannual</td><td>2012_4     </td><td>0.2081218  </td><td>0.8441326  </td><td>0.1        </td><td>TRUE       </td><td>TRUE       </td><td>332264     </td></tr>\n",
       "\t<tr><td>annual     </td><td>2014       </td><td>0.1933702  </td><td>0.8743125  </td><td>0.1        </td><td>TRUE       </td><td>TRUE       </td><td>332264     </td></tr>\n",
       "\t<tr><td>annual     </td><td>2012       </td><td>0.1746032  </td><td>0.9274837  </td><td>0.1        </td><td>TRUE       </td><td>TRUE       </td><td>332264     </td></tr>\n",
       "</tbody>\n",
       "</table>\n"
      ],
      "text/latex": [
       "\\begin{tabular}{r|llllllll}\n",
       " TimeScale & TimeID & PropUnassigned & ExpUnassigned & PropSampEval & Check1 & Check2 & NrowSimConn\\\\\n",
       "\\hline\n",
       "\t annual      & 2013        & 0.6666667   & 0.7583551   & 0.9         & TRUE        & TRUE        & 579512     \\\\\n",
       "\t annual      & 2013        & 0.6666667   & 0.7583551   & 1.0         & FALSE       & FALSE       & 610419     \\\\\n",
       "\t annual      & 2012        & 0.6507937   & 0.9274837   & 0.8         & TRUE        & TRUE        & 548606     \\\\\n",
       "\t annual      & 2014        & 0.6464088   & 0.8743125   & 0.9         & TRUE        & TRUE        & 579512     \\\\\n",
       "\t interannual & 2012\\_4    & 0.6395939   & 0.8441326   & 0.9         & TRUE        & TRUE        & 579512     \\\\\n",
       "\t annual      & 2014        & 0.6353591   & 0.8743125   & 0.8         & TRUE        & TRUE        & 548606     \\\\\n",
       "\t interannual & 2012\\_4    & 0.6294416   & 0.8441326   & 1.0         & FALSE       & FALSE       & 610419     \\\\\n",
       "\t interannual & 2012\\_4    & 0.6269036   & 0.8441326   & 0.8         & TRUE        & TRUE        & 548606     \\\\\n",
       "\t annual      & 2014        & 0.6187845   & 0.8743125   & 1.0         & FALSE       & FALSE       & 610419     \\\\\n",
       "\t annual      & 2013        & 0.6066667   & 0.7583551   & 0.8         & TRUE        & TRUE        & 548606     \\\\\n",
       "\t annual      & 2013        & 0.5933333   & 0.7583551   & 0.6         & TRUE        & TRUE        & 486794     \\\\\n",
       "\t annual      & 2013        & 0.5866667   & 0.7583551   & 0.7         & TRUE        & TRUE        & 517700     \\\\\n",
       "\t annual      & 2012        & 0.5714286   & 0.9274837   & 1.0         & FALSE       & FALSE       & 610419     \\\\\n",
       "\t annual      & 2013        & 0.5666667   & 0.7583551   & 0.4         & TRUE        & TRUE        & 424982     \\\\\n",
       "\t annual      & 2012        & 0.5555556   & 0.9274837   & 0.9         & TRUE        & TRUE        & 579512     \\\\\n",
       "\t interannual & 2012\\_4    & 0.5431472   & 0.8441326   & 0.7         & TRUE        & TRUE        & 517700     \\\\\n",
       "\t interannual & 2012\\_4    & 0.5406091   & 0.8441326   & 0.6         & TRUE        & TRUE        & 486794     \\\\\n",
       "\t annual      & 2013        & 0.5400000   & 0.7583551   & 0.3         & TRUE        & TRUE        & 394076     \\\\\n",
       "\t annual      & 2013        & 0.5266667   & 0.7583551   & 0.5         & TRUE        & TRUE        & 455889     \\\\\n",
       "\t annual      & 2012        & 0.5238095   & 0.9274837   & 0.6         & TRUE        & TRUE        & 486794     \\\\\n",
       "\t annual      & 2014        & 0.5193370   & 0.8743125   & 0.7         & TRUE        & TRUE        & 517700     \\\\\n",
       "\t annual      & 2012        & 0.5079365   & 0.9274837   & 0.7         & TRUE        & TRUE        & 517700     \\\\\n",
       "\t annual      & 2014        & 0.5027624   & 0.8743125   & 0.6         & TRUE        & TRUE        & 486794     \\\\\n",
       "\t interannual & 2012\\_4    & 0.4898477   & 0.8441326   & 0.4         & TRUE        & TRUE        & 424982     \\\\\n",
       "\t interannual & 2012\\_4    & 0.4847716   & 0.8441326   & 0.5         & TRUE        & TRUE        & 455889     \\\\\n",
       "\t annual      & 2012        & 0.4603175   & 0.9274837   & 0.4         & TRUE        & TRUE        & 424982     \\\\\n",
       "\t annual      & 2012        & 0.4603175   & 0.9274837   & 0.5         & TRUE        & TRUE        & 455889     \\\\\n",
       "\t annual      & 2014        & 0.4585635   & 0.8743125   & 0.5         & TRUE        & TRUE        & 455889     \\\\\n",
       "\t interannual & 2012\\_4    & 0.4467005   & 0.8441326   & 0.3         & TRUE        & TRUE        & 394076     \\\\\n",
       "\t annual      & 2014        & 0.4364641   & 0.8743125   & 0.4         & TRUE        & TRUE        & 424982     \\\\\n",
       "\t annual      & 2012        & 0.4126984   & 0.9274837   & 0.3         & TRUE        & TRUE        & 394076     \\\\\n",
       "\t annual      & 2014        & 0.3812155   & 0.8743125   & 0.3         & TRUE        & TRUE        & 394076     \\\\\n",
       "\t annual      & 2013        & 0.3666667   & 0.7583551   & 0.2         & TRUE        & TRUE        & 363170     \\\\\n",
       "\t annual      & 2012        & 0.3650794   & 0.9274837   & 0.2         & TRUE        & TRUE        & 363170     \\\\\n",
       "\t interannual & 2012\\_4    & 0.3197970   & 0.8441326   & 0.2         & TRUE        & TRUE        & 363170     \\\\\n",
       "\t annual      & 2014        & 0.2651934   & 0.8743125   & 0.2         & TRUE        & TRUE        & 363170     \\\\\n",
       "\t annual      & 2013        & 0.2400000   & 0.7583551   & 0.1         & TRUE        & TRUE        & 332264     \\\\\n",
       "\t interannual & 2012\\_4    & 0.2081218   & 0.8441326   & 0.1         & TRUE        & TRUE        & 332264     \\\\\n",
       "\t annual      & 2014        & 0.1933702   & 0.8743125   & 0.1         & TRUE        & TRUE        & 332264     \\\\\n",
       "\t annual      & 2012        & 0.1746032   & 0.9274837   & 0.1         & TRUE        & TRUE        & 332264     \\\\\n",
       "\\end{tabular}\n"
      ],
      "text/markdown": [
       "\n",
       "| TimeScale | TimeID | PropUnassigned | ExpUnassigned | PropSampEval | Check1 | Check2 | NrowSimConn |\n",
       "|---|---|---|---|---|---|---|---|\n",
       "| annual      | 2013        | 0.6666667   | 0.7583551   | 0.9         | TRUE        | TRUE        | 579512      |\n",
       "| annual      | 2013        | 0.6666667   | 0.7583551   | 1.0         | FALSE       | FALSE       | 610419      |\n",
       "| annual      | 2012        | 0.6507937   | 0.9274837   | 0.8         | TRUE        | TRUE        | 548606      |\n",
       "| annual      | 2014        | 0.6464088   | 0.8743125   | 0.9         | TRUE        | TRUE        | 579512      |\n",
       "| interannual | 2012_4      | 0.6395939   | 0.8441326   | 0.9         | TRUE        | TRUE        | 579512      |\n",
       "| annual      | 2014        | 0.6353591   | 0.8743125   | 0.8         | TRUE        | TRUE        | 548606      |\n",
       "| interannual | 2012_4      | 0.6294416   | 0.8441326   | 1.0         | FALSE       | FALSE       | 610419      |\n",
       "| interannual | 2012_4      | 0.6269036   | 0.8441326   | 0.8         | TRUE        | TRUE        | 548606      |\n",
       "| annual      | 2014        | 0.6187845   | 0.8743125   | 1.0         | FALSE       | FALSE       | 610419      |\n",
       "| annual      | 2013        | 0.6066667   | 0.7583551   | 0.8         | TRUE        | TRUE        | 548606      |\n",
       "| annual      | 2013        | 0.5933333   | 0.7583551   | 0.6         | TRUE        | TRUE        | 486794      |\n",
       "| annual      | 2013        | 0.5866667   | 0.7583551   | 0.7         | TRUE        | TRUE        | 517700      |\n",
       "| annual      | 2012        | 0.5714286   | 0.9274837   | 1.0         | FALSE       | FALSE       | 610419      |\n",
       "| annual      | 2013        | 0.5666667   | 0.7583551   | 0.4         | TRUE        | TRUE        | 424982      |\n",
       "| annual      | 2012        | 0.5555556   | 0.9274837   | 0.9         | TRUE        | TRUE        | 579512      |\n",
       "| interannual | 2012_4      | 0.5431472   | 0.8441326   | 0.7         | TRUE        | TRUE        | 517700      |\n",
       "| interannual | 2012_4      | 0.5406091   | 0.8441326   | 0.6         | TRUE        | TRUE        | 486794      |\n",
       "| annual      | 2013        | 0.5400000   | 0.7583551   | 0.3         | TRUE        | TRUE        | 394076      |\n",
       "| annual      | 2013        | 0.5266667   | 0.7583551   | 0.5         | TRUE        | TRUE        | 455889      |\n",
       "| annual      | 2012        | 0.5238095   | 0.9274837   | 0.6         | TRUE        | TRUE        | 486794      |\n",
       "| annual      | 2014        | 0.5193370   | 0.8743125   | 0.7         | TRUE        | TRUE        | 517700      |\n",
       "| annual      | 2012        | 0.5079365   | 0.9274837   | 0.7         | TRUE        | TRUE        | 517700      |\n",
       "| annual      | 2014        | 0.5027624   | 0.8743125   | 0.6         | TRUE        | TRUE        | 486794      |\n",
       "| interannual | 2012_4      | 0.4898477   | 0.8441326   | 0.4         | TRUE        | TRUE        | 424982      |\n",
       "| interannual | 2012_4      | 0.4847716   | 0.8441326   | 0.5         | TRUE        | TRUE        | 455889      |\n",
       "| annual      | 2012        | 0.4603175   | 0.9274837   | 0.4         | TRUE        | TRUE        | 424982      |\n",
       "| annual      | 2012        | 0.4603175   | 0.9274837   | 0.5         | TRUE        | TRUE        | 455889      |\n",
       "| annual      | 2014        | 0.4585635   | 0.8743125   | 0.5         | TRUE        | TRUE        | 455889      |\n",
       "| interannual | 2012_4      | 0.4467005   | 0.8441326   | 0.3         | TRUE        | TRUE        | 394076      |\n",
       "| annual      | 2014        | 0.4364641   | 0.8743125   | 0.4         | TRUE        | TRUE        | 424982      |\n",
       "| annual      | 2012        | 0.4126984   | 0.9274837   | 0.3         | TRUE        | TRUE        | 394076      |\n",
       "| annual      | 2014        | 0.3812155   | 0.8743125   | 0.3         | TRUE        | TRUE        | 394076      |\n",
       "| annual      | 2013        | 0.3666667   | 0.7583551   | 0.2         | TRUE        | TRUE        | 363170      |\n",
       "| annual      | 2012        | 0.3650794   | 0.9274837   | 0.2         | TRUE        | TRUE        | 363170      |\n",
       "| interannual | 2012_4      | 0.3197970   | 0.8441326   | 0.2         | TRUE        | TRUE        | 363170      |\n",
       "| annual      | 2014        | 0.2651934   | 0.8743125   | 0.2         | TRUE        | TRUE        | 363170      |\n",
       "| annual      | 2013        | 0.2400000   | 0.7583551   | 0.1         | TRUE        | TRUE        | 332264      |\n",
       "| interannual | 2012_4      | 0.2081218   | 0.8441326   | 0.1         | TRUE        | TRUE        | 332264      |\n",
       "| annual      | 2014        | 0.1933702   | 0.8743125   | 0.1         | TRUE        | TRUE        | 332264      |\n",
       "| annual      | 2012        | 0.1746032   | 0.9274837   | 0.1         | TRUE        | TRUE        | 332264      |\n",
       "\n"
      ],
      "text/plain": [
       "   TimeScale   TimeID PropUnassigned ExpUnassigned PropSampEval Check1 Check2\n",
       "1  annual      2013   0.6666667      0.7583551     0.9          TRUE   TRUE  \n",
       "2  annual      2013   0.6666667      0.7583551     1.0          FALSE  FALSE \n",
       "3  annual      2012   0.6507937      0.9274837     0.8          TRUE   TRUE  \n",
       "4  annual      2014   0.6464088      0.8743125     0.9          TRUE   TRUE  \n",
       "5  interannual 2012_4 0.6395939      0.8441326     0.9          TRUE   TRUE  \n",
       "6  annual      2014   0.6353591      0.8743125     0.8          TRUE   TRUE  \n",
       "7  interannual 2012_4 0.6294416      0.8441326     1.0          FALSE  FALSE \n",
       "8  interannual 2012_4 0.6269036      0.8441326     0.8          TRUE   TRUE  \n",
       "9  annual      2014   0.6187845      0.8743125     1.0          FALSE  FALSE \n",
       "10 annual      2013   0.6066667      0.7583551     0.8          TRUE   TRUE  \n",
       "11 annual      2013   0.5933333      0.7583551     0.6          TRUE   TRUE  \n",
       "12 annual      2013   0.5866667      0.7583551     0.7          TRUE   TRUE  \n",
       "13 annual      2012   0.5714286      0.9274837     1.0          FALSE  FALSE \n",
       "14 annual      2013   0.5666667      0.7583551     0.4          TRUE   TRUE  \n",
       "15 annual      2012   0.5555556      0.9274837     0.9          TRUE   TRUE  \n",
       "16 interannual 2012_4 0.5431472      0.8441326     0.7          TRUE   TRUE  \n",
       "17 interannual 2012_4 0.5406091      0.8441326     0.6          TRUE   TRUE  \n",
       "18 annual      2013   0.5400000      0.7583551     0.3          TRUE   TRUE  \n",
       "19 annual      2013   0.5266667      0.7583551     0.5          TRUE   TRUE  \n",
       "20 annual      2012   0.5238095      0.9274837     0.6          TRUE   TRUE  \n",
       "21 annual      2014   0.5193370      0.8743125     0.7          TRUE   TRUE  \n",
       "22 annual      2012   0.5079365      0.9274837     0.7          TRUE   TRUE  \n",
       "23 annual      2014   0.5027624      0.8743125     0.6          TRUE   TRUE  \n",
       "24 interannual 2012_4 0.4898477      0.8441326     0.4          TRUE   TRUE  \n",
       "25 interannual 2012_4 0.4847716      0.8441326     0.5          TRUE   TRUE  \n",
       "26 annual      2012   0.4603175      0.9274837     0.4          TRUE   TRUE  \n",
       "27 annual      2012   0.4603175      0.9274837     0.5          TRUE   TRUE  \n",
       "28 annual      2014   0.4585635      0.8743125     0.5          TRUE   TRUE  \n",
       "29 interannual 2012_4 0.4467005      0.8441326     0.3          TRUE   TRUE  \n",
       "30 annual      2014   0.4364641      0.8743125     0.4          TRUE   TRUE  \n",
       "31 annual      2012   0.4126984      0.9274837     0.3          TRUE   TRUE  \n",
       "32 annual      2014   0.3812155      0.8743125     0.3          TRUE   TRUE  \n",
       "33 annual      2013   0.3666667      0.7583551     0.2          TRUE   TRUE  \n",
       "34 annual      2012   0.3650794      0.9274837     0.2          TRUE   TRUE  \n",
       "35 interannual 2012_4 0.3197970      0.8441326     0.2          TRUE   TRUE  \n",
       "36 annual      2014   0.2651934      0.8743125     0.2          TRUE   TRUE  \n",
       "37 annual      2013   0.2400000      0.7583551     0.1          TRUE   TRUE  \n",
       "38 interannual 2012_4 0.2081218      0.8441326     0.1          TRUE   TRUE  \n",
       "39 annual      2014   0.1933702      0.8743125     0.1          TRUE   TRUE  \n",
       "40 annual      2012   0.1746032      0.9274837     0.1          TRUE   TRUE  \n",
       "   NrowSimConn\n",
       "1  579512     \n",
       "2  610419     \n",
       "3  548606     \n",
       "4  579512     \n",
       "5  579512     \n",
       "6  548606     \n",
       "7  610419     \n",
       "8  548606     \n",
       "9  610419     \n",
       "10 548606     \n",
       "11 486794     \n",
       "12 517700     \n",
       "13 610419     \n",
       "14 424982     \n",
       "15 579512     \n",
       "16 517700     \n",
       "17 486794     \n",
       "18 394076     \n",
       "19 455889     \n",
       "20 486794     \n",
       "21 517700     \n",
       "22 517700     \n",
       "23 486794     \n",
       "24 424982     \n",
       "25 455889     \n",
       "26 424982     \n",
       "27 455889     \n",
       "28 455889     \n",
       "29 394076     \n",
       "30 424982     \n",
       "31 394076     \n",
       "32 394076     \n",
       "33 363170     \n",
       "34 363170     \n",
       "35 363170     \n",
       "36 363170     \n",
       "37 332264     \n",
       "38 332264     \n",
       "39 332264     \n",
       "40 332264     "
      ]
     },
     "metadata": {},
     "output_type": "display_data"
    }
   ],
   "source": [
    "PropSampOtherCAI[order(-PropUnassigned)]"
   ]
  },
  {
   "cell_type": "markdown",
   "metadata": {},
   "source": [
    "__Seems like good justification to not subsample the ROMS particles from other/Camotes Islands__"
   ]
  },
  {
   "cell_type": "code",
   "execution_count": null,
   "metadata": {},
   "outputs": [],
   "source": []
  },
  {
   "cell_type": "code",
   "execution_count": null,
   "metadata": {},
   "outputs": [],
   "source": []
  },
  {
   "cell_type": "code",
   "execution_count": null,
   "metadata": {},
   "outputs": [],
   "source": []
  },
  {
   "cell_type": "code",
   "execution_count": 136,
   "metadata": {},
   "outputs": [],
   "source": []
  },
  {
   "cell_type": "code",
   "execution_count": null,
   "metadata": {},
   "outputs": [],
   "source": [
    "\n"
   ]
  },
  {
   "cell_type": "code",
   "execution_count": null,
   "metadata": {},
   "outputs": [],
   "source": []
  },
  {
   "cell_type": "code",
   "execution_count": null,
   "metadata": {
    "scrolled": false
   },
   "outputs": [],
   "source": []
  },
  {
   "cell_type": "code",
   "execution_count": null,
   "metadata": {},
   "outputs": [],
   "source": []
  },
  {
   "cell_type": "code",
   "execution_count": 66,
   "metadata": {},
   "outputs": [],
   "source": []
  },
  {
   "cell_type": "code",
   "execution_count": null,
   "metadata": {
    "scrolled": false
   },
   "outputs": [],
   "source": []
  },
  {
   "cell_type": "code",
   "execution_count": null,
   "metadata": {},
   "outputs": [],
   "source": []
  },
  {
   "cell_type": "code",
   "execution_count": null,
   "metadata": {},
   "outputs": [],
   "source": []
  },
  {
   "cell_type": "code",
   "execution_count": null,
   "metadata": {},
   "outputs": [],
   "source": []
  },
  {
   "cell_type": "code",
   "execution_count": 6,
   "metadata": {},
   "outputs": [
    {
     "data": {
      "text/html": [
       "TRUE"
      ],
      "text/latex": [
       "TRUE"
      ],
      "text/markdown": [
       "TRUE"
      ],
      "text/plain": [
       "[1] TRUE"
      ]
     },
     "metadata": {},
     "output_type": "display_data"
    },
    {
     "data": {
      "text/html": [
       "TRUE"
      ],
      "text/latex": [
       "TRUE"
      ],
      "text/markdown": [
       "TRUE"
      ],
      "text/plain": [
       "[1] TRUE"
      ]
     },
     "metadata": {},
     "output_type": "display_data"
    },
    {
     "data": {
      "text/html": [
       "TRUE"
      ],
      "text/latex": [
       "TRUE"
      ],
      "text/markdown": [
       "TRUE"
      ],
      "text/plain": [
       "[1] TRUE"
      ]
     },
     "metadata": {},
     "output_type": "display_data"
    }
   ],
   "source": [
    "\n"
   ]
  },
  {
   "cell_type": "code",
   "execution_count": 10,
   "metadata": {},
   "outputs": [
    {
     "data": {
      "text/html": [
       "363760"
      ],
      "text/latex": [
       "363760"
      ],
      "text/markdown": [
       "363760"
      ],
      "text/plain": [
       "[1] 363760"
      ]
     },
     "metadata": {},
     "output_type": "display_data"
    },
    {
     "data": {
      "text/html": [
       "212861852"
      ],
      "text/latex": [
       "212861852"
      ],
      "text/markdown": [
       "212861852"
      ],
      "text/plain": [
       "[1] 212861852"
      ]
     },
     "metadata": {},
     "output_type": "display_data"
    }
   ],
   "source": [
    "nrow(dest_sampled)\n",
    "nrow(SimConn)"
   ]
  },
  {
   "cell_type": "code",
   "execution_count": 7,
   "metadata": {
    "scrolled": false
   },
   "outputs": [],
   "source": [
    "#save inter file\n",
    "#fwrite(dest_sampled, file=\"~/oceanography/script_output/LongFormConnWithProbsTest.csv\")\n",
    "#see if I can write as a compressed file so it can be stored on github\n",
    "#https://stackoverflow.com/questions/42788401/is-possible-to-use-fwrite-from-data-table-with-gzfile"
   ]
  },
  {
   "cell_type": "code",
   "execution_count": null,
   "metadata": {},
   "outputs": [],
   "source": []
  },
  {
   "cell_type": "code",
   "execution_count": null,
   "metadata": {},
   "outputs": [],
   "source": []
  },
  {
   "cell_type": "code",
   "execution_count": null,
   "metadata": {},
   "outputs": [],
   "source": []
  },
  {
   "cell_type": "code",
   "execution_count": null,
   "metadata": {},
   "outputs": [],
   "source": []
  },
  {
   "cell_type": "code",
   "execution_count": null,
   "metadata": {},
   "outputs": [],
   "source": []
  }
 ],
 "metadata": {
  "kernelspec": {
   "display_name": "R",
   "language": "R",
   "name": "ir"
  },
  "language_info": {
   "codemirror_mode": "r",
   "file_extension": ".r",
   "mimetype": "text/x-r-source",
   "name": "R",
   "pygments_lexer": "r",
   "version": "3.6.1"
  }
 },
 "nbformat": 4,
 "nbformat_minor": 4
}
