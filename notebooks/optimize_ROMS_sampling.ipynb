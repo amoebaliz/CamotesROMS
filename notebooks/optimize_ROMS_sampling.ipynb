{
 "cells": [
  {
   "cell_type": "code",
   "execution_count": 33,
   "metadata": {},
   "outputs": [],
   "source": [
    "Packages <- c(\"dplyr\", \"R.utils\", \"nleqslv\", \"broom\",\"cubature\", \"geosphere\", \"data.table\",  \"ggplot2\", \"bbmle\", \"stringr\",  \"lubridate\", \"RColorBrewer\")\n",
    "\n",
    "invisible(suppressPackageStartupMessages(lapply(Packages, library, character.only = TRUE)))\n",
    "\n",
    "setwd('/local/home/katrinac/oceanography')\n",
    "\"%!in%\" <- function(x,table) match(x,table, nomatch = 0) == 0\n",
    "#source(\"~/parentage/kernel_fitting/1340_loci/functions/ll_kt_both_bbmle.R\")\n",
    "#source(\"~/parentage/kernel_fitting/1340_loci/functions/GenGausKernInt_sum0.5.R\") #integrate_kernel_sum1\n",
    "#source(\"~/parentage/kernel_fitting/1340_loci/functions/GenGausKernInt_sum1.R\") #integrate_kernel_sum0.5\n",
    "#source(\"~/parentage/kernel_fitting/1340_loci/functions/cdf_solve.R\") #median\n",
    "#source(\"~/parentage/kernel_fitting/1340_loci/functions/cdf_solve90.R\") #dist 90% retained\n",
    "\n",
    "#read in the kernel fitting summary\n",
    "kernels <- fread(file=\"~/parentage/kernel_fitting/1340_loci/final_results/tables/kernel_fitting_summary.csv\")\n",
    "#read in the centroids adjusted for the simulation, so the Magbangons combined \n",
    "#centroids <- fread(file=\"~/oceanography/script_output/SurveyData/SimulationCentroids.csv\")\n",
    "#read in the table with number of recruits sampled at each site for each year\n",
    "AnnualRecsSamp <- fread(file=\"~/oceanography/script_output/SurveyData/AnnualRecruitsSampled.csv\")\n",
    "#read in the table of the proportion of anemones sampled at each site for each year\n",
    "PropSamp <- fread(file=\"~/oceanography/script_output/SurveyData/ProportionHabitatSampled.csv\")\n",
    "\n",
    "#read in the ROMS simulation connectivity table\n",
    "#SimConn <- fread(file=\"~/oceanography/script_output/ROMSDataTables/SimConnectivityTable.csv.gz\")\n",
    "#read in the ROMS simulation connectivity table with metadata, not yet subsetted (*but check this)\n",
    "date_join <- fread(file=\"~/oceanography/script_output/LongFormConnWithProbs.csv\")\n",
    "#make vectors defining sites we didn't sample, but that are in the model, and the sandflats specifically \n",
    "UnsampledSites <- c(\"SF1\", \"SF2\", \"SF3\", \"SF4\", \"SF5\", \"SF6\", \"Pangasugan\", \"Other\", \"CAI\") \n",
    "SandFlats <- c(\"SF1\", \"SF2\", \"SF3\", \"SF4\", \"SF5\", \"SF6\") \n",
    "\n",
    "##make the constant inputs for the kernel fitting function\n",
    "##distance matrix using the centroids with combined Magbangon\n",
    "#### List of source locations\n",
    "#sites_source <- centroids\n",
    "#\n",
    "#### List of destination locations\n",
    "#sites_dest <- centroids\n",
    "#\n",
    "#dist_mat_m <- distm(sites_source[,c('lon','lat')], sites_source[,c('lon','lat')], fun=distVincentyEllipsoid)\n",
    "#Distances <- dist_mat_m*10^-3\n",
    "##read in the reef areas for the kernel fitting\n",
    "#Area <- read.csv(\"~/oceanography/empirical_data/site_area_header_nonsurveyed_simulation_kernels.csv\", header=TRUE, stringsAsFactors = F) %>%\n",
    "#    arrange(site) %>%\n",
    "#    filter(site %!in% c(\"near_north_full1\", \"near_north_full2\", \"near_north_full3\", \"near_south_full1\", \"near_south_full2\", \"near_south_full3\")) %>%\n",
    "#    mutate(kmsq=msq*10^-6) %>%\n",
    "#    select(kmsq)\n",
    "#Reef_sizes <- as.matrix(Area)\n",
    "\n",
    "#make a table with the survey information for each site (how many fish sampled, prop anems sampled, total number of anems at site)\n",
    "SurveyData <- AnnualRecsSamp[PropSamp, on=.(year=end_year, site)][#join the sampling tables together\n",
    "    is.na(n_offs_gen), n_offs_gen := 0][#change NA's to 0\n",
    "    ,-\"time_frame\"]#drop the time_frame column, we can key with end_year\n",
    "#setkey(SurveyData, site)"
   ]
  },
  {
   "cell_type": "markdown",
   "metadata": {},
   "source": [
    "__Loop through sampling different proportions of other and CAI source particles and compare the unassigned proportions of total sample particles to the genetic observations from survey data__"
   ]
  },
  {
   "cell_type": "code",
   "execution_count": 16,
   "metadata": {},
   "outputs": [
    {
     "data": {
      "text/html": [
       "<table>\n",
       "<thead><tr><th scope=col>Year</th><th scope=col>PropAssigned</th></tr></thead>\n",
       "<tbody>\n",
       "\t<tr><td>2012      </td><td>0.04760000</td></tr>\n",
       "\t<tr><td>2013      </td><td>0.14000000</td></tr>\n",
       "\t<tr><td>2014      </td><td>0.07180000</td></tr>\n",
       "\t<tr><td>2012-14   </td><td>0.09390863</td></tr>\n",
       "</tbody>\n",
       "</table>\n"
      ],
      "text/latex": [
       "\\begin{tabular}{r|ll}\n",
       " Year & PropAssigned\\\\\n",
       "\\hline\n",
       "\t 2012       & 0.04760000\\\\\n",
       "\t 2013       & 0.14000000\\\\\n",
       "\t 2014       & 0.07180000\\\\\n",
       "\t 2012-14    & 0.09390863\\\\\n",
       "\\end{tabular}\n"
      ],
      "text/markdown": [
       "\n",
       "| Year | PropAssigned |\n",
       "|---|---|\n",
       "| 2012       | 0.04760000 |\n",
       "| 2013       | 0.14000000 |\n",
       "| 2014       | 0.07180000 |\n",
       "| 2012-14    | 0.09390863 |\n",
       "\n"
      ],
      "text/plain": [
       "  Year    PropAssigned\n",
       "1 2012    0.04760000  \n",
       "2 2013    0.14000000  \n",
       "3 2014    0.07180000  \n",
       "4 2012-14 0.09390863  "
      ]
     },
     "metadata": {},
     "output_type": "display_data"
    }
   ],
   "source": [
    "PropAssignedTable <- rbind(kernels[Year %in% c(\"2012\", \"2013\", \"2014\")][\n",
    "    , PropAssigned := PercentAssigned/100][ #change to proportion note percent\n",
    "    , c(\"Year\", \"PropAssigned\")],                      \n",
    "    unique(kernels[Year %in% c(\"2012\", \"2013\", \"2014\")][ #only the years coinciding with the models\n",
    "   , PropAssigned := sum(NumParentageMatches)/sum(NumOffsSampled)][#sum up all of the sampled offspring 2012-2014, and matches\n",
    "    , \"PropAssigned\"][ #select the column with the total value\n",
    "    , Year := \"2012-14\"]))\n",
    "\n",
    "PropAssignedTable[]"
   ]
  },
  {
   "cell_type": "code",
   "execution_count": 34,
   "metadata": {},
   "outputs": [
    {
     "data": {
      "text/html": [
       "<table>\n",
       "<thead><tr><th scope=col>YearSampled</th><th scope=col>date</th><th scope=col>SurvWeight</th><th scope=col>Dest</th><th scope=col>DestNOffsAnnual</th><th scope=col>DestPropSamp</th><th scope=col>DestTotalAnems</th><th scope=col>Source</th><th scope=col>SourceNOffsAnnual</th><th scope=col>SourcePropSamp</th><th scope=col>SourceTotalAnems</th><th scope=col>SimMonth</th><th scope=col>SimDay</th><th scope=col>SimYear</th><th scope=col>SimMonsoon</th><th scope=col>DailyParticles</th><th scope=col>ParticleID</th><th scope=col>SourceSize</th></tr></thead>\n",
       "<tbody>\n",
       "\t<tr><td>2011       </td><td>2010-10-01 </td><td>0.004115226</td><td>Palanas    </td><td>NA         </td><td>NA         </td><td>NA         </td><td>Other      </td><td>NA         </td><td>NA         </td><td>NA         </td><td>10         </td><td>10         </td><td>2010       </td><td>SWM        </td><td>9          </td><td>P1         </td><td>NA         </td></tr>\n",
       "\t<tr><td>2011       </td><td>2010-10-01 </td><td>0.004115226</td><td>Palanas    </td><td>NA         </td><td>NA         </td><td>NA         </td><td>Other      </td><td>NA         </td><td>NA         </td><td>NA         </td><td>10         </td><td>10         </td><td>2010       </td><td>SWM        </td><td>9          </td><td>P2         </td><td>NA         </td></tr>\n",
       "\t<tr><td>2011       </td><td>2010-10-01 </td><td>0.004115226</td><td>Palanas    </td><td>NA         </td><td>NA         </td><td>NA         </td><td>Other      </td><td>NA         </td><td>NA         </td><td>NA         </td><td>10         </td><td>10         </td><td>2010       </td><td>SWM        </td><td>9          </td><td>P3         </td><td>NA         </td></tr>\n",
       "\t<tr><td>2011       </td><td>2010-10-01 </td><td>0.004115226</td><td>Palanas    </td><td>NA         </td><td>NA         </td><td>NA         </td><td>Other      </td><td>NA         </td><td>NA         </td><td>NA         </td><td>10         </td><td>10         </td><td>2010       </td><td>SWM        </td><td>9          </td><td>P4         </td><td>NA         </td></tr>\n",
       "\t<tr><td>2011       </td><td>2010-10-01 </td><td>0.004115226</td><td>Palanas    </td><td>NA         </td><td>NA         </td><td>NA         </td><td>Other      </td><td>NA         </td><td>NA         </td><td>NA         </td><td>10         </td><td>10         </td><td>2010       </td><td>SWM        </td><td>9          </td><td>P5         </td><td>NA         </td></tr>\n",
       "\t<tr><td>2011       </td><td>2010-10-01 </td><td>0.004115226</td><td>Palanas    </td><td>NA         </td><td>NA         </td><td>NA         </td><td>Other      </td><td>NA         </td><td>NA         </td><td>NA         </td><td>10         </td><td>10         </td><td>2010       </td><td>SWM        </td><td>9          </td><td>P6         </td><td>NA         </td></tr>\n",
       "</tbody>\n",
       "</table>\n"
      ],
      "text/latex": [
       "\\begin{tabular}{r|llllllllllllllllll}\n",
       " YearSampled & date & SurvWeight & Dest & DestNOffsAnnual & DestPropSamp & DestTotalAnems & Source & SourceNOffsAnnual & SourcePropSamp & SourceTotalAnems & SimMonth & SimDay & SimYear & SimMonsoon & DailyParticles & ParticleID & SourceSize\\\\\n",
       "\\hline\n",
       "\t 2011        & 2010-10-01  & 0.004115226 & Palanas     & NA          & NA          & NA          & Other       & NA          & NA          & NA          & 10          & 10          & 2010        & SWM         & 9           & P1          & NA         \\\\\n",
       "\t 2011        & 2010-10-01  & 0.004115226 & Palanas     & NA          & NA          & NA          & Other       & NA          & NA          & NA          & 10          & 10          & 2010        & SWM         & 9           & P2          & NA         \\\\\n",
       "\t 2011        & 2010-10-01  & 0.004115226 & Palanas     & NA          & NA          & NA          & Other       & NA          & NA          & NA          & 10          & 10          & 2010        & SWM         & 9           & P3          & NA         \\\\\n",
       "\t 2011        & 2010-10-01  & 0.004115226 & Palanas     & NA          & NA          & NA          & Other       & NA          & NA          & NA          & 10          & 10          & 2010        & SWM         & 9           & P4          & NA         \\\\\n",
       "\t 2011        & 2010-10-01  & 0.004115226 & Palanas     & NA          & NA          & NA          & Other       & NA          & NA          & NA          & 10          & 10          & 2010        & SWM         & 9           & P5          & NA         \\\\\n",
       "\t 2011        & 2010-10-01  & 0.004115226 & Palanas     & NA          & NA          & NA          & Other       & NA          & NA          & NA          & 10          & 10          & 2010        & SWM         & 9           & P6          & NA         \\\\\n",
       "\\end{tabular}\n"
      ],
      "text/markdown": [
       "\n",
       "| YearSampled | date | SurvWeight | Dest | DestNOffsAnnual | DestPropSamp | DestTotalAnems | Source | SourceNOffsAnnual | SourcePropSamp | SourceTotalAnems | SimMonth | SimDay | SimYear | SimMonsoon | DailyParticles | ParticleID | SourceSize |\n",
       "|---|---|---|---|---|---|---|---|---|---|---|---|---|---|---|---|---|---|\n",
       "| 2011        | 2010-10-01  | 0.004115226 | Palanas     | NA          | NA          | NA          | Other       | NA          | NA          | NA          | 10          | 10          | 2010        | SWM         | 9           | P1          | NA          |\n",
       "| 2011        | 2010-10-01  | 0.004115226 | Palanas     | NA          | NA          | NA          | Other       | NA          | NA          | NA          | 10          | 10          | 2010        | SWM         | 9           | P2          | NA          |\n",
       "| 2011        | 2010-10-01  | 0.004115226 | Palanas     | NA          | NA          | NA          | Other       | NA          | NA          | NA          | 10          | 10          | 2010        | SWM         | 9           | P3          | NA          |\n",
       "| 2011        | 2010-10-01  | 0.004115226 | Palanas     | NA          | NA          | NA          | Other       | NA          | NA          | NA          | 10          | 10          | 2010        | SWM         | 9           | P4          | NA          |\n",
       "| 2011        | 2010-10-01  | 0.004115226 | Palanas     | NA          | NA          | NA          | Other       | NA          | NA          | NA          | 10          | 10          | 2010        | SWM         | 9           | P5          | NA          |\n",
       "| 2011        | 2010-10-01  | 0.004115226 | Palanas     | NA          | NA          | NA          | Other       | NA          | NA          | NA          | 10          | 10          | 2010        | SWM         | 9           | P6          | NA          |\n",
       "\n"
      ],
      "text/plain": [
       "  YearSampled date       SurvWeight  Dest    DestNOffsAnnual DestPropSamp\n",
       "1 2011        2010-10-01 0.004115226 Palanas NA              NA          \n",
       "2 2011        2010-10-01 0.004115226 Palanas NA              NA          \n",
       "3 2011        2010-10-01 0.004115226 Palanas NA              NA          \n",
       "4 2011        2010-10-01 0.004115226 Palanas NA              NA          \n",
       "5 2011        2010-10-01 0.004115226 Palanas NA              NA          \n",
       "6 2011        2010-10-01 0.004115226 Palanas NA              NA          \n",
       "  DestTotalAnems Source SourceNOffsAnnual SourcePropSamp SourceTotalAnems\n",
       "1 NA             Other  NA                NA             NA              \n",
       "2 NA             Other  NA                NA             NA              \n",
       "3 NA             Other  NA                NA             NA              \n",
       "4 NA             Other  NA                NA             NA              \n",
       "5 NA             Other  NA                NA             NA              \n",
       "6 NA             Other  NA                NA             NA              \n",
       "  SimMonth SimDay SimYear SimMonsoon DailyParticles ParticleID SourceSize\n",
       "1 10       10     2010    SWM        9              P1         NA        \n",
       "2 10       10     2010    SWM        9              P2         NA        \n",
       "3 10       10     2010    SWM        9              P3         NA        \n",
       "4 10       10     2010    SWM        9              P4         NA        \n",
       "5 10       10     2010    SWM        9              P5         NA        \n",
       "6 10       10     2010    SWM        9              P6         NA        "
      ]
     },
     "metadata": {},
     "output_type": "display_data"
    }
   ],
   "source": [
    "head(date_join)"
   ]
  },
  {
   "cell_type": "code",
   "execution_count": null,
   "metadata": {},
   "outputs": [],
   "source": []
  },
  {
   "cell_type": "code",
   "execution_count": 21,
   "metadata": {},
   "outputs": [],
   "source": [
    "###outside of the loop\n",
    "PropToEval <- seq(0.1, 1, 0.05) #make a vector of proportions to sample iterativaley and compare\n",
    "#empty table to hold results\n",
    "PropSampOtherCAI <- data.table(TimeScale=character(), TimeID=character(), PropAssigned=numeric(), PropSampEval=numeric(), Check1=character(), Check2=character())\n"
   ]
  },
  {
   "cell_type": "code",
   "execution_count": 38,
   "metadata": {},
   "outputs": [
    {
     "data": {
      "text/html": [
       "TRUE"
      ],
      "text/latex": [
       "TRUE"
      ],
      "text/markdown": [
       "TRUE"
      ],
      "text/plain": [
       "[1] TRUE"
      ]
     },
     "metadata": {},
     "output_type": "display_data"
    },
    {
     "data": {
      "text/html": [
       "TRUE"
      ],
      "text/latex": [
       "TRUE"
      ],
      "text/markdown": [
       "TRUE"
      ],
      "text/plain": [
       "[1] TRUE"
      ]
     },
     "metadata": {},
     "output_type": "display_data"
    }
   ],
   "source": [
    "#for(i in 1:length(PropToEval)){\n",
    "i=0.1\n",
    "PropSampOtherCAI_int <- data.table(TimeScale=character(), TimeID=character(), PropAssigned=numeric(), PropSampEval=numeric(), Check1=character(), Check2=character())\n",
    "\n",
    "dest_sampled <- date_join[DestPropSamp >0]\n",
    "check1 <- nrow(dest_sampled)\n",
    "dest_sampled <- dest_sampled[c(dest_sampled[, .I[Source != \"Other\"]], sample(dest_sampled[, .I[Source == \"Other\"]], length(dest_sampled[, .I[Source == \"Other\"]])*i))]\n",
    "check2 <- nrow(dest_sampled)\n",
    "dest_sampled <- dest_sampled[c(dest_sampled[, .I[Source != \"CAI\"]], sample(dest_sampled[, .I[Source == \"CAI\"]], length(dest_sampled[, .I[Source == \"CAI\"]])*i))]\n",
    "check3 <- nrow(dest_sampled)\n",
    "\n",
    "#check that we have less rows, should both be TRUE\n",
    "check1 > check2\n",
    "check2 > check3\n",
    "\n",
    "#join in the number of parentage matches observed by year\n",
    "dest_sampled <- kernels[Year %in% c(\"2012\", \"2013\", \"2014\")][, Year:=as.integer(Year)][,c(\"Year\", \"NumParentageMatches\")][dest_sampled, on=.(Year=YearSampled)]#[\n",
    "\n",
    "#randomly subsample the sampled particle data\n",
    "sim_sample <- dest_sampled[, .SD[sample(.N, DestNOffsAnnual, prob=SurvWeight)], by = c(\"Year\", \"Dest\")] #randomly sample rows (particles) from the table according to the survival weighting, based on the number we sampled at each site in each year of surveys\n",
    "#check1 <- nrow(sim_sample)\n",
    "\n",
    "#assign parentage\n",
    "sim_parentage <- sim_sample[SourcePropSamp > 0][, .SD[sample(.N, NumParentageMatches, prob=SourcePropSamp)], by = .(Year)][#now randomly assign parentage or not parentage, based on how well we sampled the source and the number of parentage matches we had in that year\n",
    "                , Parentage := 1]\n",
    "#for faster searching, set keys\n",
    "setkey(sim_parentage, ParticleID)\n",
    "setkey(sim_sample, ParticleID)\n",
    "\n",
    "l <- list(sim_sample[ParticleID %!in% sim_parentage$ParticleID][, Parentage := 0], sim_parentage)\n",
    "sim_sample <- rbindlist(l, use.names = TRUE, fill=TRUE, idcol = NULL)[, c(\"Year\", \"Source\", \"Dest\", \"Parentage\")] #add back in to the unassigned particles, select only the columns necessary\n",
    "\n",
    "#}"
   ]
  },
  {
   "cell_type": "code",
   "execution_count": 40,
   "metadata": {},
   "outputs": [
    {
     "data": {
      "text/html": [
       "<table>\n",
       "<thead><tr><th scope=col>Year</th><th scope=col>Source</th><th scope=col>Dest</th><th scope=col>Parentage</th></tr></thead>\n",
       "<tbody>\n",
       "\t<tr><td>2012             </td><td>Other            </td><td>Wangag           </td><td>0                </td></tr>\n",
       "\t<tr><td>2012             </td><td>Other            </td><td>Wangag           </td><td>0                </td></tr>\n",
       "\t<tr><td>2013             </td><td>Other            </td><td>Haina            </td><td>0                </td></tr>\n",
       "\t<tr><td>2013             </td><td>Caridad Cemetery </td><td>Palanas          </td><td>0                </td></tr>\n",
       "\t<tr><td>2013             </td><td>Magbangon        </td><td>Palanas          </td><td>0                </td></tr>\n",
       "\t<tr><td>2013             </td><td>Other            </td><td>Elementary School</td><td>0                </td></tr>\n",
       "\t<tr><td>2013             </td><td>Other            </td><td>Wangag           </td><td>0                </td></tr>\n",
       "\t<tr><td>2013             </td><td>Other            </td><td>Wangag           </td><td>0                </td></tr>\n",
       "\t<tr><td>2013             </td><td>Poroc San Flower </td><td>Palanas          </td><td>0                </td></tr>\n",
       "\t<tr><td>2013             </td><td>Poroc San Flower </td><td>Wangag           </td><td>0                </td></tr>\n",
       "\t<tr><td>2013             </td><td>Other            </td><td>Palanas          </td><td>0                </td></tr>\n",
       "\t<tr><td>2013             </td><td>Other            </td><td>Wangag           </td><td>0                </td></tr>\n",
       "\t<tr><td>2013             </td><td>Poroc Rose       </td><td>Poroc San Flower </td><td>0                </td></tr>\n",
       "\t<tr><td>2013             </td><td>Gabas            </td><td>Visca            </td><td>0                </td></tr>\n",
       "\t<tr><td>2013             </td><td>Poroc Rose       </td><td>Visca            </td><td>0                </td></tr>\n",
       "\t<tr><td>2013             </td><td>Other            </td><td>Wangag           </td><td>0                </td></tr>\n",
       "\t<tr><td>2013             </td><td>Other            </td><td>Palanas          </td><td>0                </td></tr>\n",
       "\t<tr><td>2013             </td><td>Tamakin Dacot    </td><td>Tamakin Dacot    </td><td>0                </td></tr>\n",
       "\t<tr><td>2013             </td><td>Gabas            </td><td>Visca            </td><td>0                </td></tr>\n",
       "\t<tr><td>2013             </td><td>Other            </td><td>Wangag           </td><td>0                </td></tr>\n",
       "\t<tr><td>2013             </td><td>Other            </td><td>Magbangon        </td><td>0                </td></tr>\n",
       "\t<tr><td>2013             </td><td>Other            </td><td>Magbangon        </td><td>0                </td></tr>\n",
       "\t<tr><td>2013             </td><td>Sitio Baybayon   </td><td>Sitio Baybayon   </td><td>0                </td></tr>\n",
       "\t<tr><td>2013             </td><td>Wangag           </td><td>Palanas          </td><td>0                </td></tr>\n",
       "\t<tr><td>2013             </td><td>Wangag           </td><td>Palanas          </td><td>0                </td></tr>\n",
       "\t<tr><td>2013             </td><td>Other            </td><td>Caridad Cemetery </td><td>0                </td></tr>\n",
       "\t<tr><td>2013             </td><td>Palanas          </td><td>Magbangon        </td><td>0                </td></tr>\n",
       "\t<tr><td>2013             </td><td>Sitio Baybayon   </td><td>Wangag           </td><td>0                </td></tr>\n",
       "\t<tr><td>2013             </td><td>Sitio Baybayon   </td><td>Wangag           </td><td>0                </td></tr>\n",
       "\t<tr><td>2013             </td><td>Sitio Baybayon   </td><td>Palanas          </td><td>0                </td></tr>\n",
       "\t<tr><td>...</td><td>...</td><td>...</td><td>...</td></tr>\n",
       "\t<tr><td>2013             </td><td>Wangag           </td><td>Sitio Baybayon   </td><td>1                </td></tr>\n",
       "\t<tr><td>2013             </td><td>Sitio Baybayon   </td><td>Magbangon        </td><td>1                </td></tr>\n",
       "\t<tr><td>2013             </td><td>Sitio Baybayon   </td><td>Cabatoan         </td><td>1                </td></tr>\n",
       "\t<tr><td>2013             </td><td>Wangag           </td><td>Caridad Cemetery </td><td>1                </td></tr>\n",
       "\t<tr><td>2013             </td><td>Elementary School</td><td>Hicgop South     </td><td>1                </td></tr>\n",
       "\t<tr><td>2013             </td><td>Wangag           </td><td>Magbangon        </td><td>1                </td></tr>\n",
       "\t<tr><td>2013             </td><td>Palanas          </td><td>Sitio Baybayon   </td><td>1                </td></tr>\n",
       "\t<tr><td>2013             </td><td>Palanas          </td><td>Palanas          </td><td>1                </td></tr>\n",
       "\t<tr><td>2013             </td><td>Poroc San Flower </td><td>Elementary School</td><td>1                </td></tr>\n",
       "\t<tr><td>2013             </td><td>Sitio Tugas      </td><td>Magbangon        </td><td>1                </td></tr>\n",
       "\t<tr><td>2013             </td><td>San Agustin      </td><td>Palanas          </td><td>1                </td></tr>\n",
       "\t<tr><td>2013             </td><td>Visca            </td><td>Palanas          </td><td>1                </td></tr>\n",
       "\t<tr><td>2013             </td><td>Poroc Rose       </td><td>Poroc Rose       </td><td>1                </td></tr>\n",
       "\t<tr><td>2013             </td><td>Hicgop South     </td><td>Palanas          </td><td>1                </td></tr>\n",
       "\t<tr><td>2014             </td><td>Elementary School</td><td>Magbangon        </td><td>1                </td></tr>\n",
       "\t<tr><td>2014             </td><td>Magbangon        </td><td>Wangag           </td><td>1                </td></tr>\n",
       "\t<tr><td>2014             </td><td>Sitio Baybayon   </td><td>Cabatoan         </td><td>1                </td></tr>\n",
       "\t<tr><td>2014             </td><td>Sitio Tugas      </td><td>Wangag           </td><td>1                </td></tr>\n",
       "\t<tr><td>2014             </td><td>Sitio Tugas      </td><td>Cabatoan         </td><td>1                </td></tr>\n",
       "\t<tr><td>2014             </td><td>Sitio Baybayon   </td><td>Wangag           </td><td>1                </td></tr>\n",
       "\t<tr><td>2014             </td><td>Palanas          </td><td>Palanas          </td><td>1                </td></tr>\n",
       "\t<tr><td>2014             </td><td>Palanas          </td><td>Palanas          </td><td>1                </td></tr>\n",
       "\t<tr><td>2014             </td><td>Palanas          </td><td>Palanas          </td><td>1                </td></tr>\n",
       "\t<tr><td>2014             </td><td>Magbangon        </td><td>Wangag           </td><td>1                </td></tr>\n",
       "\t<tr><td>2014             </td><td>Wangag           </td><td>Magbangon        </td><td>1                </td></tr>\n",
       "\t<tr><td>2014             </td><td>Elementary School</td><td>Wangag           </td><td>1                </td></tr>\n",
       "\t<tr><td>2014             </td><td>Caridad Cemetery </td><td>Magbangon        </td><td>1                </td></tr>\n",
       "\t<tr><td>2012             </td><td>Magbangon        </td><td>Palanas          </td><td>1                </td></tr>\n",
       "\t<tr><td>2012             </td><td>San Agustin      </td><td>Poroc Rose       </td><td>1                </td></tr>\n",
       "\t<tr><td>2012             </td><td>Palanas          </td><td>Wangag           </td><td>1                </td></tr>\n",
       "</tbody>\n",
       "</table>\n"
      ],
      "text/latex": [
       "\\begin{tabular}{r|llll}\n",
       " Year & Source & Dest & Parentage\\\\\n",
       "\\hline\n",
       "\t 2012              & Other             & Wangag            & 0                \\\\\n",
       "\t 2012              & Other             & Wangag            & 0                \\\\\n",
       "\t 2013              & Other             & Haina             & 0                \\\\\n",
       "\t 2013              & Caridad Cemetery  & Palanas           & 0                \\\\\n",
       "\t 2013              & Magbangon         & Palanas           & 0                \\\\\n",
       "\t 2013              & Other             & Elementary School & 0                \\\\\n",
       "\t 2013              & Other             & Wangag            & 0                \\\\\n",
       "\t 2013              & Other             & Wangag            & 0                \\\\\n",
       "\t 2013              & Poroc San Flower  & Palanas           & 0                \\\\\n",
       "\t 2013              & Poroc San Flower  & Wangag            & 0                \\\\\n",
       "\t 2013              & Other             & Palanas           & 0                \\\\\n",
       "\t 2013              & Other             & Wangag            & 0                \\\\\n",
       "\t 2013              & Poroc Rose        & Poroc San Flower  & 0                \\\\\n",
       "\t 2013              & Gabas             & Visca             & 0                \\\\\n",
       "\t 2013              & Poroc Rose        & Visca             & 0                \\\\\n",
       "\t 2013              & Other             & Wangag            & 0                \\\\\n",
       "\t 2013              & Other             & Palanas           & 0                \\\\\n",
       "\t 2013              & Tamakin Dacot     & Tamakin Dacot     & 0                \\\\\n",
       "\t 2013              & Gabas             & Visca             & 0                \\\\\n",
       "\t 2013              & Other             & Wangag            & 0                \\\\\n",
       "\t 2013              & Other             & Magbangon         & 0                \\\\\n",
       "\t 2013              & Other             & Magbangon         & 0                \\\\\n",
       "\t 2013              & Sitio Baybayon    & Sitio Baybayon    & 0                \\\\\n",
       "\t 2013              & Wangag            & Palanas           & 0                \\\\\n",
       "\t 2013              & Wangag            & Palanas           & 0                \\\\\n",
       "\t 2013              & Other             & Caridad Cemetery  & 0                \\\\\n",
       "\t 2013              & Palanas           & Magbangon         & 0                \\\\\n",
       "\t 2013              & Sitio Baybayon    & Wangag            & 0                \\\\\n",
       "\t 2013              & Sitio Baybayon    & Wangag            & 0                \\\\\n",
       "\t 2013              & Sitio Baybayon    & Palanas           & 0                \\\\\n",
       "\t ... & ... & ... & ...\\\\\n",
       "\t 2013              & Wangag            & Sitio Baybayon    & 1                \\\\\n",
       "\t 2013              & Sitio Baybayon    & Magbangon         & 1                \\\\\n",
       "\t 2013              & Sitio Baybayon    & Cabatoan          & 1                \\\\\n",
       "\t 2013              & Wangag            & Caridad Cemetery  & 1                \\\\\n",
       "\t 2013              & Elementary School & Hicgop South      & 1                \\\\\n",
       "\t 2013              & Wangag            & Magbangon         & 1                \\\\\n",
       "\t 2013              & Palanas           & Sitio Baybayon    & 1                \\\\\n",
       "\t 2013              & Palanas           & Palanas           & 1                \\\\\n",
       "\t 2013              & Poroc San Flower  & Elementary School & 1                \\\\\n",
       "\t 2013              & Sitio Tugas       & Magbangon         & 1                \\\\\n",
       "\t 2013              & San Agustin       & Palanas           & 1                \\\\\n",
       "\t 2013              & Visca             & Palanas           & 1                \\\\\n",
       "\t 2013              & Poroc Rose        & Poroc Rose        & 1                \\\\\n",
       "\t 2013              & Hicgop South      & Palanas           & 1                \\\\\n",
       "\t 2014              & Elementary School & Magbangon         & 1                \\\\\n",
       "\t 2014              & Magbangon         & Wangag            & 1                \\\\\n",
       "\t 2014              & Sitio Baybayon    & Cabatoan          & 1                \\\\\n",
       "\t 2014              & Sitio Tugas       & Wangag            & 1                \\\\\n",
       "\t 2014              & Sitio Tugas       & Cabatoan          & 1                \\\\\n",
       "\t 2014              & Sitio Baybayon    & Wangag            & 1                \\\\\n",
       "\t 2014              & Palanas           & Palanas           & 1                \\\\\n",
       "\t 2014              & Palanas           & Palanas           & 1                \\\\\n",
       "\t 2014              & Palanas           & Palanas           & 1                \\\\\n",
       "\t 2014              & Magbangon         & Wangag            & 1                \\\\\n",
       "\t 2014              & Wangag            & Magbangon         & 1                \\\\\n",
       "\t 2014              & Elementary School & Wangag            & 1                \\\\\n",
       "\t 2014              & Caridad Cemetery  & Magbangon         & 1                \\\\\n",
       "\t 2012              & Magbangon         & Palanas           & 1                \\\\\n",
       "\t 2012              & San Agustin       & Poroc Rose        & 1                \\\\\n",
       "\t 2012              & Palanas           & Wangag            & 1                \\\\\n",
       "\\end{tabular}\n"
      ],
      "text/markdown": [
       "\n",
       "| Year | Source | Dest | Parentage |\n",
       "|---|---|---|---|\n",
       "| 2012              | Other             | Wangag            | 0                 |\n",
       "| 2012              | Other             | Wangag            | 0                 |\n",
       "| 2013              | Other             | Haina             | 0                 |\n",
       "| 2013              | Caridad Cemetery  | Palanas           | 0                 |\n",
       "| 2013              | Magbangon         | Palanas           | 0                 |\n",
       "| 2013              | Other             | Elementary School | 0                 |\n",
       "| 2013              | Other             | Wangag            | 0                 |\n",
       "| 2013              | Other             | Wangag            | 0                 |\n",
       "| 2013              | Poroc San Flower  | Palanas           | 0                 |\n",
       "| 2013              | Poroc San Flower  | Wangag            | 0                 |\n",
       "| 2013              | Other             | Palanas           | 0                 |\n",
       "| 2013              | Other             | Wangag            | 0                 |\n",
       "| 2013              | Poroc Rose        | Poroc San Flower  | 0                 |\n",
       "| 2013              | Gabas             | Visca             | 0                 |\n",
       "| 2013              | Poroc Rose        | Visca             | 0                 |\n",
       "| 2013              | Other             | Wangag            | 0                 |\n",
       "| 2013              | Other             | Palanas           | 0                 |\n",
       "| 2013              | Tamakin Dacot     | Tamakin Dacot     | 0                 |\n",
       "| 2013              | Gabas             | Visca             | 0                 |\n",
       "| 2013              | Other             | Wangag            | 0                 |\n",
       "| 2013              | Other             | Magbangon         | 0                 |\n",
       "| 2013              | Other             | Magbangon         | 0                 |\n",
       "| 2013              | Sitio Baybayon    | Sitio Baybayon    | 0                 |\n",
       "| 2013              | Wangag            | Palanas           | 0                 |\n",
       "| 2013              | Wangag            | Palanas           | 0                 |\n",
       "| 2013              | Other             | Caridad Cemetery  | 0                 |\n",
       "| 2013              | Palanas           | Magbangon         | 0                 |\n",
       "| 2013              | Sitio Baybayon    | Wangag            | 0                 |\n",
       "| 2013              | Sitio Baybayon    | Wangag            | 0                 |\n",
       "| 2013              | Sitio Baybayon    | Palanas           | 0                 |\n",
       "| ... | ... | ... | ... |\n",
       "| 2013              | Wangag            | Sitio Baybayon    | 1                 |\n",
       "| 2013              | Sitio Baybayon    | Magbangon         | 1                 |\n",
       "| 2013              | Sitio Baybayon    | Cabatoan          | 1                 |\n",
       "| 2013              | Wangag            | Caridad Cemetery  | 1                 |\n",
       "| 2013              | Elementary School | Hicgop South      | 1                 |\n",
       "| 2013              | Wangag            | Magbangon         | 1                 |\n",
       "| 2013              | Palanas           | Sitio Baybayon    | 1                 |\n",
       "| 2013              | Palanas           | Palanas           | 1                 |\n",
       "| 2013              | Poroc San Flower  | Elementary School | 1                 |\n",
       "| 2013              | Sitio Tugas       | Magbangon         | 1                 |\n",
       "| 2013              | San Agustin       | Palanas           | 1                 |\n",
       "| 2013              | Visca             | Palanas           | 1                 |\n",
       "| 2013              | Poroc Rose        | Poroc Rose        | 1                 |\n",
       "| 2013              | Hicgop South      | Palanas           | 1                 |\n",
       "| 2014              | Elementary School | Magbangon         | 1                 |\n",
       "| 2014              | Magbangon         | Wangag            | 1                 |\n",
       "| 2014              | Sitio Baybayon    | Cabatoan          | 1                 |\n",
       "| 2014              | Sitio Tugas       | Wangag            | 1                 |\n",
       "| 2014              | Sitio Tugas       | Cabatoan          | 1                 |\n",
       "| 2014              | Sitio Baybayon    | Wangag            | 1                 |\n",
       "| 2014              | Palanas           | Palanas           | 1                 |\n",
       "| 2014              | Palanas           | Palanas           | 1                 |\n",
       "| 2014              | Palanas           | Palanas           | 1                 |\n",
       "| 2014              | Magbangon         | Wangag            | 1                 |\n",
       "| 2014              | Wangag            | Magbangon         | 1                 |\n",
       "| 2014              | Elementary School | Wangag            | 1                 |\n",
       "| 2014              | Caridad Cemetery  | Magbangon         | 1                 |\n",
       "| 2012              | Magbangon         | Palanas           | 1                 |\n",
       "| 2012              | San Agustin       | Poroc Rose        | 1                 |\n",
       "| 2012              | Palanas           | Wangag            | 1                 |\n",
       "\n"
      ],
      "text/plain": [
       "    Year Source            Dest              Parentage\n",
       "1   2012 Other             Wangag            0        \n",
       "2   2012 Other             Wangag            0        \n",
       "3   2013 Other             Haina             0        \n",
       "4   2013 Caridad Cemetery  Palanas           0        \n",
       "5   2013 Magbangon         Palanas           0        \n",
       "6   2013 Other             Elementary School 0        \n",
       "7   2013 Other             Wangag            0        \n",
       "8   2013 Other             Wangag            0        \n",
       "9   2013 Poroc San Flower  Palanas           0        \n",
       "10  2013 Poroc San Flower  Wangag            0        \n",
       "11  2013 Other             Palanas           0        \n",
       "12  2013 Other             Wangag            0        \n",
       "13  2013 Poroc Rose        Poroc San Flower  0        \n",
       "14  2013 Gabas             Visca             0        \n",
       "15  2013 Poroc Rose        Visca             0        \n",
       "16  2013 Other             Wangag            0        \n",
       "17  2013 Other             Palanas           0        \n",
       "18  2013 Tamakin Dacot     Tamakin Dacot     0        \n",
       "19  2013 Gabas             Visca             0        \n",
       "20  2013 Other             Wangag            0        \n",
       "21  2013 Other             Magbangon         0        \n",
       "22  2013 Other             Magbangon         0        \n",
       "23  2013 Sitio Baybayon    Sitio Baybayon    0        \n",
       "24  2013 Wangag            Palanas           0        \n",
       "25  2013 Wangag            Palanas           0        \n",
       "26  2013 Other             Caridad Cemetery  0        \n",
       "27  2013 Palanas           Magbangon         0        \n",
       "28  2013 Sitio Baybayon    Wangag            0        \n",
       "29  2013 Sitio Baybayon    Wangag            0        \n",
       "30  2013 Sitio Baybayon    Palanas           0        \n",
       "... ...  ...               ...               ...      \n",
       "365 2013 Wangag            Sitio Baybayon    1        \n",
       "366 2013 Sitio Baybayon    Magbangon         1        \n",
       "367 2013 Sitio Baybayon    Cabatoan          1        \n",
       "368 2013 Wangag            Caridad Cemetery  1        \n",
       "369 2013 Elementary School Hicgop South      1        \n",
       "370 2013 Wangag            Magbangon         1        \n",
       "371 2013 Palanas           Sitio Baybayon    1        \n",
       "372 2013 Palanas           Palanas           1        \n",
       "373 2013 Poroc San Flower  Elementary School 1        \n",
       "374 2013 Sitio Tugas       Magbangon         1        \n",
       "375 2013 San Agustin       Palanas           1        \n",
       "376 2013 Visca             Palanas           1        \n",
       "377 2013 Poroc Rose        Poroc Rose        1        \n",
       "378 2013 Hicgop South      Palanas           1        \n",
       "379 2014 Elementary School Magbangon         1        \n",
       "380 2014 Magbangon         Wangag            1        \n",
       "381 2014 Sitio Baybayon    Cabatoan          1        \n",
       "382 2014 Sitio Tugas       Wangag            1        \n",
       "383 2014 Sitio Tugas       Cabatoan          1        \n",
       "384 2014 Sitio Baybayon    Wangag            1        \n",
       "385 2014 Palanas           Palanas           1        \n",
       "386 2014 Palanas           Palanas           1        \n",
       "387 2014 Palanas           Palanas           1        \n",
       "388 2014 Magbangon         Wangag            1        \n",
       "389 2014 Wangag            Magbangon         1        \n",
       "390 2014 Elementary School Wangag            1        \n",
       "391 2014 Caridad Cemetery  Magbangon         1        \n",
       "392 2012 Magbangon         Palanas           1        \n",
       "393 2012 San Agustin       Poroc Rose        1        \n",
       "394 2012 Palanas           Wangag            1        "
      ]
     },
     "metadata": {},
     "output_type": "display_data"
    }
   ],
   "source": [
    "(sim_sample)"
   ]
  },
  {
   "cell_type": "code",
   "execution_count": 26,
   "metadata": {},
   "outputs": [
    {
     "data": {
      "text/html": [
       "<table>\n",
       "<thead><tr><th scope=col>TimeScale</th><th scope=col>TimeID</th><th scope=col>PropAssigned</th><th scope=col>PropSampEval</th><th scope=col>Check1</th><th scope=col>Check2</th></tr></thead>\n",
       "<tbody>\n",
       "</tbody>\n",
       "</table>\n"
      ],
      "text/latex": [
       "\\begin{tabular}{r|llllll}\n",
       " TimeScale & TimeID & PropAssigned & PropSampEval & Check1 & Check2\\\\\n",
       "\\hline\n",
       "\\end{tabular}\n"
      ],
      "text/markdown": [
       "\n",
       "| TimeScale | TimeID | PropAssigned | PropSampEval | Check1 | Check2 |\n",
       "|---|---|---|---|---|---|\n",
       "\n"
      ],
      "text/plain": [
       "     TimeScale TimeID PropAssigned PropSampEval Check1 Check2"
      ]
     },
     "metadata": {},
     "output_type": "display_data"
    }
   ],
   "source": [
    "PropSampOtherCAI <- data.table(TimeScale=character(), TimeID=character(), PropAssigned=numeric(), PropSampEval=numeric(), Check1=character(), Check2=character())\n",
    "PropSampOtherCAI"
   ]
  },
  {
   "cell_type": "code",
   "execution_count": 6,
   "metadata": {},
   "outputs": [
    {
     "data": {
      "text/html": [
       "TRUE"
      ],
      "text/latex": [
       "TRUE"
      ],
      "text/markdown": [
       "TRUE"
      ],
      "text/plain": [
       "[1] TRUE"
      ]
     },
     "metadata": {},
     "output_type": "display_data"
    },
    {
     "data": {
      "text/html": [
       "TRUE"
      ],
      "text/latex": [
       "TRUE"
      ],
      "text/markdown": [
       "TRUE"
      ],
      "text/plain": [
       "[1] TRUE"
      ]
     },
     "metadata": {},
     "output_type": "display_data"
    },
    {
     "data": {
      "text/html": [
       "TRUE"
      ],
      "text/latex": [
       "TRUE"
      ],
      "text/markdown": [
       "TRUE"
      ],
      "text/plain": [
       "[1] TRUE"
      ]
     },
     "metadata": {},
     "output_type": "display_data"
    }
   ],
   "source": [
    "\n",
    "dest_sampled <- date_join[DestPropSamp >0]\n",
    "check1 <- nrow(dest_sampled)\n",
    "dest_sampled <- dest_sampled[c(dest_sampled[, .I[Source != \"Other\"]], sample(dest_sampled[, .I[Source == \"Other\"]], length(dest_sampled[, .I[Source == \"Other\"]])*.1))]\n",
    "check2 <- nrow(dest_sampled)\n",
    "dest_sampled <- dest_sampled[c(dest_sampled[, .I[Source != \"CAI\"]], sample(dest_sampled[, .I[Source == \"CAI\"]], length(dest_sampled[, .I[Source == \"CAI\"]])*.1))]\n",
    "check3 <- nrow(dest_sampled)\n",
    "\n",
    "#check that we have less rows, should both be TRUE\n",
    "check1 > check2\n",
    "check2 > check3\n",
    "\n",
    "#join in the number of parentage matches observed by year\n",
    "dest_sampled <- kernels[Year %in% c(\"2012\", \"2013\", \"2014\")][, Year:=as.integer(Year)][,c(\"Year\", \"NumParentageMatches\")][dest_sampled, on=.(Year=YearSampled)]#[\n",
    "    #, ParticleID := paste (\"P\", .I, sep = \"\", collapse = NULL)]#finally, make a new column that's the particle ID for each row\n",
    "\n",
    "#setkey(dest_sampled, \"Year\", \"Dest\", \"Source\")\n",
    "\n",
    "\n"
   ]
  },
  {
   "cell_type": "code",
   "execution_count": 10,
   "metadata": {},
   "outputs": [
    {
     "data": {
      "text/html": [
       "363760"
      ],
      "text/latex": [
       "363760"
      ],
      "text/markdown": [
       "363760"
      ],
      "text/plain": [
       "[1] 363760"
      ]
     },
     "metadata": {},
     "output_type": "display_data"
    },
    {
     "data": {
      "text/html": [
       "212861852"
      ],
      "text/latex": [
       "212861852"
      ],
      "text/markdown": [
       "212861852"
      ],
      "text/plain": [
       "[1] 212861852"
      ]
     },
     "metadata": {},
     "output_type": "display_data"
    }
   ],
   "source": [
    "nrow(dest_sampled)\n",
    "nrow(SimConn)"
   ]
  },
  {
   "cell_type": "code",
   "execution_count": 7,
   "metadata": {
    "scrolled": false
   },
   "outputs": [],
   "source": [
    "#save inter file\n",
    "#fwrite(dest_sampled, file=\"~/oceanography/script_output/LongFormConnWithProbsTest.csv\")\n",
    "#see if I can write as a compressed file so it can be stored on github\n",
    "#https://stackoverflow.com/questions/42788401/is-possible-to-use-fwrite-from-data-table-with-gzfile"
   ]
  },
  {
   "cell_type": "code",
   "execution_count": null,
   "metadata": {},
   "outputs": [],
   "source": []
  },
  {
   "cell_type": "code",
   "execution_count": null,
   "metadata": {},
   "outputs": [],
   "source": []
  },
  {
   "cell_type": "code",
   "execution_count": null,
   "metadata": {},
   "outputs": [],
   "source": []
  },
  {
   "cell_type": "code",
   "execution_count": null,
   "metadata": {},
   "outputs": [],
   "source": []
  },
  {
   "cell_type": "code",
   "execution_count": null,
   "metadata": {},
   "outputs": [],
   "source": []
  }
 ],
 "metadata": {
  "kernelspec": {
   "display_name": "R",
   "language": "R",
   "name": "ir"
  },
  "language_info": {
   "codemirror_mode": "r",
   "file_extension": ".r",
   "mimetype": "text/x-r-source",
   "name": "R",
   "pygments_lexer": "r",
   "version": "3.6.1"
  }
 },
 "nbformat": 4,
 "nbformat_minor": 4
}
