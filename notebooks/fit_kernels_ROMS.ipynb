{
 "cells": [
  {
   "cell_type": "code",
   "execution_count": 1,
   "metadata": {},
   "outputs": [],
   "source": [
    "Packages <- c(\"dplyr\",\"broom\",\"geosphere\",\"swfscMisc\", \"geosphere\",\"MASS\", \"fields\",\"lattice\", \"ggplot2\", \"bbmle\", \"ncdf4\",\"dplyr\",\"tidyr\", \"stringr\", \"tidyverse\", \"raster\", \"lubridate\", \"RColorBrewer\")\n",
    "\n",
    "invisible(suppressPackageStartupMessages(lapply(Packages, library, character.only = TRUE)))\n",
    "\n",
    "setwd('/local/home/katrinac/oceanography')\n",
    "\"%!in%\" <- function(x,table) match(x,table, nomatch = 0) == 0\n",
    "source(\"~/parentage/kernel_fitting/1340_loci/functions/ll_kt_both_bbmle.R\")\n"
   ]
  },
  {
   "cell_type": "code",
   "execution_count": 14,
   "metadata": {},
   "outputs": [],
   "source": [
    "GenSimConn <- read.csv(file=\"~/oceanography/script_output/GenSimConnectivityFullTable.csv\", header=T)\n"
   ]
  },
  {
   "cell_type": "code",
   "execution_count": 18,
   "metadata": {},
   "outputs": [
    {
     "data": {
      "text/html": [
       "<table>\n",
       "<thead><tr><th scope=col>source</th><th scope=col>destination</th><th scope=col>SourceSampled</th><th scope=col>DestSampled</th><th scope=col>SimMonth</th><th scope=col>SimDay</th><th scope=col>SimYear</th><th scope=col>YearSampled</th><th scope=col>SimMonsoon</th><th scope=col>DailyParticles</th><th scope=col>dist_km</th><th scope=col>direction</th><th scope=col>AnnRecPart</th><th scope=col>SourcePropSamp</th><th scope=col>DestPropSamp</th><th scope=col>obs_disp</th></tr></thead>\n",
       "<tbody>\n",
       "\t<tr><td>Sitio Baybayon  </td><td>Palanas         </td><td>yes             </td><td>yes             </td><td>10              </td><td>10              </td><td>2011            </td><td>2012            </td><td>SWM             </td><td>0               </td><td>27.29194        </td><td>-14.977111      </td><td> 624            </td><td>0               </td><td>0.2898551       </td><td>0               </td></tr>\n",
       "\t<tr><td>Sitio Baybayon  </td><td>Wangag          </td><td>yes             </td><td>yes             </td><td>10              </td><td>10              </td><td>2011            </td><td>2012            </td><td>SWM             </td><td>0               </td><td>26.86207        </td><td>-14.278206      </td><td>1080            </td><td>0               </td><td>0.1821306       </td><td>0               </td></tr>\n",
       "\t<tr><td>Sitio Baybayon  </td><td>Magbangon       </td><td>yes             </td><td>yes             </td><td>10              </td><td>10              </td><td>2011            </td><td>2012            </td><td>SWM             </td><td>0               </td><td>25.11346        </td><td>-12.688177      </td><td>1221            </td><td>0               </td><td>0.4593838       </td><td>0               </td></tr>\n",
       "\t<tr><td>Sitio Baybayon  </td><td>Cabatoan        </td><td>yes             </td><td>yes             </td><td>10              </td><td>10              </td><td>2011            </td><td>2012            </td><td>SWM             </td><td>0               </td><td>24.91056        </td><td>-12.353326      </td><td>1025            </td><td>0               </td><td>0.4230769       </td><td>0               </td></tr>\n",
       "\t<tr><td>Sitio Baybayon  </td><td>Caridad Cemetery</td><td>yes             </td><td>yes             </td><td>10              </td><td>10              </td><td>2011            </td><td>2012            </td><td>SWM             </td><td>0               </td><td>22.43538        </td><td> -8.054163      </td><td>2131            </td><td>0               </td><td>0.0000000       </td><td>0               </td></tr>\n",
       "\t<tr><td>Sitio Baybayon  </td><td>Caridad Proper  </td><td>yes             </td><td>yes             </td><td>10              </td><td>10              </td><td>2011            </td><td>2012            </td><td>SWM             </td><td>0               </td><td>21.75097        </td><td> -7.170156      </td><td>2998            </td><td>0               </td><td>0.0000000       </td><td>0               </td></tr>\n",
       "</tbody>\n",
       "</table>\n"
      ],
      "text/latex": [
       "\\begin{tabular}{r|llllllllllllllll}\n",
       " source & destination & SourceSampled & DestSampled & SimMonth & SimDay & SimYear & YearSampled & SimMonsoon & DailyParticles & dist\\_km & direction & AnnRecPart & SourcePropSamp & DestPropSamp & obs\\_disp\\\\\n",
       "\\hline\n",
       "\t Sitio Baybayon   & Palanas          & yes              & yes              & 10               & 10               & 2011             & 2012             & SWM              & 0                & 27.29194         & -14.977111       &  624             & 0                & 0.2898551        & 0               \\\\\n",
       "\t Sitio Baybayon   & Wangag           & yes              & yes              & 10               & 10               & 2011             & 2012             & SWM              & 0                & 26.86207         & -14.278206       & 1080             & 0                & 0.1821306        & 0               \\\\\n",
       "\t Sitio Baybayon   & Magbangon        & yes              & yes              & 10               & 10               & 2011             & 2012             & SWM              & 0                & 25.11346         & -12.688177       & 1221             & 0                & 0.4593838        & 0               \\\\\n",
       "\t Sitio Baybayon   & Cabatoan         & yes              & yes              & 10               & 10               & 2011             & 2012             & SWM              & 0                & 24.91056         & -12.353326       & 1025             & 0                & 0.4230769        & 0               \\\\\n",
       "\t Sitio Baybayon   & Caridad Cemetery & yes              & yes              & 10               & 10               & 2011             & 2012             & SWM              & 0                & 22.43538         &  -8.054163       & 2131             & 0                & 0.0000000        & 0               \\\\\n",
       "\t Sitio Baybayon   & Caridad Proper   & yes              & yes              & 10               & 10               & 2011             & 2012             & SWM              & 0                & 21.75097         &  -7.170156       & 2998             & 0                & 0.0000000        & 0               \\\\\n",
       "\\end{tabular}\n"
      ],
      "text/markdown": [
       "\n",
       "| source | destination | SourceSampled | DestSampled | SimMonth | SimDay | SimYear | YearSampled | SimMonsoon | DailyParticles | dist_km | direction | AnnRecPart | SourcePropSamp | DestPropSamp | obs_disp |\n",
       "|---|---|---|---|---|---|---|---|---|---|---|---|---|---|---|---|\n",
       "| Sitio Baybayon   | Palanas          | yes              | yes              | 10               | 10               | 2011             | 2012             | SWM              | 0                | 27.29194         | -14.977111       |  624             | 0                | 0.2898551        | 0                |\n",
       "| Sitio Baybayon   | Wangag           | yes              | yes              | 10               | 10               | 2011             | 2012             | SWM              | 0                | 26.86207         | -14.278206       | 1080             | 0                | 0.1821306        | 0                |\n",
       "| Sitio Baybayon   | Magbangon        | yes              | yes              | 10               | 10               | 2011             | 2012             | SWM              | 0                | 25.11346         | -12.688177       | 1221             | 0                | 0.4593838        | 0                |\n",
       "| Sitio Baybayon   | Cabatoan         | yes              | yes              | 10               | 10               | 2011             | 2012             | SWM              | 0                | 24.91056         | -12.353326       | 1025             | 0                | 0.4230769        | 0                |\n",
       "| Sitio Baybayon   | Caridad Cemetery | yes              | yes              | 10               | 10               | 2011             | 2012             | SWM              | 0                | 22.43538         |  -8.054163       | 2131             | 0                | 0.0000000        | 0                |\n",
       "| Sitio Baybayon   | Caridad Proper   | yes              | yes              | 10               | 10               | 2011             | 2012             | SWM              | 0                | 21.75097         |  -7.170156       | 2998             | 0                | 0.0000000        | 0                |\n",
       "\n"
      ],
      "text/plain": [
       "  source         destination      SourceSampled DestSampled SimMonth SimDay\n",
       "1 Sitio Baybayon Palanas          yes           yes         10       10    \n",
       "2 Sitio Baybayon Wangag           yes           yes         10       10    \n",
       "3 Sitio Baybayon Magbangon        yes           yes         10       10    \n",
       "4 Sitio Baybayon Cabatoan         yes           yes         10       10    \n",
       "5 Sitio Baybayon Caridad Cemetery yes           yes         10       10    \n",
       "6 Sitio Baybayon Caridad Proper   yes           yes         10       10    \n",
       "  SimYear YearSampled SimMonsoon DailyParticles dist_km  direction  AnnRecPart\n",
       "1 2011    2012        SWM        0              27.29194 -14.977111  624      \n",
       "2 2011    2012        SWM        0              26.86207 -14.278206 1080      \n",
       "3 2011    2012        SWM        0              25.11346 -12.688177 1221      \n",
       "4 2011    2012        SWM        0              24.91056 -12.353326 1025      \n",
       "5 2011    2012        SWM        0              22.43538  -8.054163 2131      \n",
       "6 2011    2012        SWM        0              21.75097  -7.170156 2998      \n",
       "  SourcePropSamp DestPropSamp obs_disp\n",
       "1 0              0.2898551    0       \n",
       "2 0              0.1821306    0       \n",
       "3 0              0.4593838    0       \n",
       "4 0              0.4230769    0       \n",
       "5 0              0.0000000    0       \n",
       "6 0              0.0000000    0       "
      ]
     },
     "metadata": {},
     "output_type": "display_data"
    }
   ],
   "source": [
    "head(GenSimConn)"
   ]
  },
  {
   "cell_type": "markdown",
   "metadata": {},
   "source": [
    "__CELL BELOW IS WORKING FOR GLM OF OBSERVED DATA BY SIMULATED DATA__"
   ]
  },
  {
   "cell_type": "code",
   "execution_count": 21,
   "metadata": {},
   "outputs": [
    {
     "data": {
      "text/html": [
       "<table>\n",
       "<thead><tr><th scope=col>source</th><th scope=col>destination</th><th scope=col>SourceSampled</th><th scope=col>DestSampled</th><th scope=col>SimMonth</th><th scope=col>SimDay</th><th scope=col>SimYear</th><th scope=col>YearSampled</th><th scope=col>SimMonsoon</th><th scope=col>DailyParticles</th><th scope=col>ParticlesReleasedDaily</th><th scope=col>dist_km</th><th scope=col>NormSourceAllYears</th><th scope=col>NormSourceMonsoon</th><th scope=col>direction</th><th scope=col>AnnRecPart</th><th scope=col>SourcePropSamp</th><th scope=col>DestPropSamp</th><th scope=col>obs_disp</th></tr></thead>\n",
       "<tbody>\n",
       "\t<tr><td>Sitio Baybayon  </td><td>Palanas         </td><td>yes             </td><td>yes             </td><td>10              </td><td>10              </td><td>2011            </td><td>2012            </td><td>SWM             </td><td>0               </td><td>1984            </td><td>27.29194        </td><td>0               </td><td>0               </td><td> 28             </td><td> 624            </td><td>0               </td><td>0.2898551       </td><td>0               </td></tr>\n",
       "\t<tr><td>Sitio Baybayon  </td><td>Wangag          </td><td>yes             </td><td>yes             </td><td>10              </td><td>10              </td><td>2011            </td><td>2012            </td><td>SWM             </td><td>0               </td><td>1984            </td><td>26.86207        </td><td>0               </td><td>0               </td><td> 26             </td><td>1080            </td><td>0               </td><td>0.1821306       </td><td>0               </td></tr>\n",
       "\t<tr><td>Sitio Baybayon  </td><td>Magbangon       </td><td>yes             </td><td>yes             </td><td>10              </td><td>10              </td><td>2011            </td><td>2012            </td><td>SWM             </td><td>0               </td><td>1984            </td><td>25.11346        </td><td>0               </td><td>0               </td><td> 18             </td><td>1221            </td><td>0               </td><td>0.4593838       </td><td>0               </td></tr>\n",
       "\t<tr><td>Sitio Baybayon  </td><td>Cabatoan        </td><td>yes             </td><td>yes             </td><td>10              </td><td>10              </td><td>2011            </td><td>2012            </td><td>SWM             </td><td>0               </td><td>1984            </td><td>24.91056        </td><td>0               </td><td>0               </td><td> 14             </td><td>1025            </td><td>0               </td><td>0.4230769       </td><td>0               </td></tr>\n",
       "\t<tr><td>Sitio Baybayon  </td><td>Caridad Cemetery</td><td>yes             </td><td>yes             </td><td>10              </td><td>10              </td><td>2011            </td><td>2012            </td><td>SWM             </td><td>0               </td><td>1984            </td><td>22.43538        </td><td>0               </td><td>0               </td><td>165             </td><td>2131            </td><td>0               </td><td>0.0000000       </td><td>0               </td></tr>\n",
       "\t<tr><td>Sitio Baybayon  </td><td>Caridad Proper  </td><td>yes             </td><td>yes             </td><td>10              </td><td>10              </td><td>2011            </td><td>2012            </td><td>SWM             </td><td>0               </td><td>1984            </td><td>21.75097        </td><td>0               </td><td>0               </td><td>164             </td><td>2998            </td><td>0               </td><td>0.0000000       </td><td>0               </td></tr>\n",
       "</tbody>\n",
       "</table>\n"
      ],
      "text/latex": [
       "\\begin{tabular}{r|lllllllllllllllllll}\n",
       " source & destination & SourceSampled & DestSampled & SimMonth & SimDay & SimYear & YearSampled & SimMonsoon & DailyParticles & ParticlesReleasedDaily & dist\\_km & NormSourceAllYears & NormSourceMonsoon & direction & AnnRecPart & SourcePropSamp & DestPropSamp & obs\\_disp\\\\\n",
       "\\hline\n",
       "\t Sitio Baybayon   & Palanas          & yes              & yes              & 10               & 10               & 2011             & 2012             & SWM              & 0                & 1984             & 27.29194         & 0                & 0                &  28              &  624             & 0                & 0.2898551        & 0               \\\\\n",
       "\t Sitio Baybayon   & Wangag           & yes              & yes              & 10               & 10               & 2011             & 2012             & SWM              & 0                & 1984             & 26.86207         & 0                & 0                &  26              & 1080             & 0                & 0.1821306        & 0               \\\\\n",
       "\t Sitio Baybayon   & Magbangon        & yes              & yes              & 10               & 10               & 2011             & 2012             & SWM              & 0                & 1984             & 25.11346         & 0                & 0                &  18              & 1221             & 0                & 0.4593838        & 0               \\\\\n",
       "\t Sitio Baybayon   & Cabatoan         & yes              & yes              & 10               & 10               & 2011             & 2012             & SWM              & 0                & 1984             & 24.91056         & 0                & 0                &  14              & 1025             & 0                & 0.4230769        & 0               \\\\\n",
       "\t Sitio Baybayon   & Caridad Cemetery & yes              & yes              & 10               & 10               & 2011             & 2012             & SWM              & 0                & 1984             & 22.43538         & 0                & 0                & 165              & 2131             & 0                & 0.0000000        & 0               \\\\\n",
       "\t Sitio Baybayon   & Caridad Proper   & yes              & yes              & 10               & 10               & 2011             & 2012             & SWM              & 0                & 1984             & 21.75097         & 0                & 0                & 164              & 2998             & 0                & 0.0000000        & 0               \\\\\n",
       "\\end{tabular}\n"
      ],
      "text/markdown": [
       "\n",
       "| source | destination | SourceSampled | DestSampled | SimMonth | SimDay | SimYear | YearSampled | SimMonsoon | DailyParticles | ParticlesReleasedDaily | dist_km | NormSourceAllYears | NormSourceMonsoon | direction | AnnRecPart | SourcePropSamp | DestPropSamp | obs_disp |\n",
       "|---|---|---|---|---|---|---|---|---|---|---|---|---|---|---|---|---|---|---|\n",
       "| Sitio Baybayon   | Palanas          | yes              | yes              | 10               | 10               | 2011             | 2012             | SWM              | 0                | 1984             | 27.29194         | 0                | 0                |  28              |  624             | 0                | 0.2898551        | 0                |\n",
       "| Sitio Baybayon   | Wangag           | yes              | yes              | 10               | 10               | 2011             | 2012             | SWM              | 0                | 1984             | 26.86207         | 0                | 0                |  26              | 1080             | 0                | 0.1821306        | 0                |\n",
       "| Sitio Baybayon   | Magbangon        | yes              | yes              | 10               | 10               | 2011             | 2012             | SWM              | 0                | 1984             | 25.11346         | 0                | 0                |  18              | 1221             | 0                | 0.4593838        | 0                |\n",
       "| Sitio Baybayon   | Cabatoan         | yes              | yes              | 10               | 10               | 2011             | 2012             | SWM              | 0                | 1984             | 24.91056         | 0                | 0                |  14              | 1025             | 0                | 0.4230769        | 0                |\n",
       "| Sitio Baybayon   | Caridad Cemetery | yes              | yes              | 10               | 10               | 2011             | 2012             | SWM              | 0                | 1984             | 22.43538         | 0                | 0                | 165              | 2131             | 0                | 0.0000000        | 0                |\n",
       "| Sitio Baybayon   | Caridad Proper   | yes              | yes              | 10               | 10               | 2011             | 2012             | SWM              | 0                | 1984             | 21.75097         | 0                | 0                | 164              | 2998             | 0                | 0.0000000        | 0                |\n",
       "\n"
      ],
      "text/plain": [
       "  source         destination      SourceSampled DestSampled SimMonth SimDay\n",
       "1 Sitio Baybayon Palanas          yes           yes         10       10    \n",
       "2 Sitio Baybayon Wangag           yes           yes         10       10    \n",
       "3 Sitio Baybayon Magbangon        yes           yes         10       10    \n",
       "4 Sitio Baybayon Cabatoan         yes           yes         10       10    \n",
       "5 Sitio Baybayon Caridad Cemetery yes           yes         10       10    \n",
       "6 Sitio Baybayon Caridad Proper   yes           yes         10       10    \n",
       "  SimYear YearSampled SimMonsoon DailyParticles ParticlesReleasedDaily dist_km \n",
       "1 2011    2012        SWM        0              1984                   27.29194\n",
       "2 2011    2012        SWM        0              1984                   26.86207\n",
       "3 2011    2012        SWM        0              1984                   25.11346\n",
       "4 2011    2012        SWM        0              1984                   24.91056\n",
       "5 2011    2012        SWM        0              1984                   22.43538\n",
       "6 2011    2012        SWM        0              1984                   21.75097\n",
       "  NormSourceAllYears NormSourceMonsoon direction AnnRecPart SourcePropSamp\n",
       "1 0                  0                  28        624       0             \n",
       "2 0                  0                  26       1080       0             \n",
       "3 0                  0                  18       1221       0             \n",
       "4 0                  0                  14       1025       0             \n",
       "5 0                  0                 165       2131       0             \n",
       "6 0                  0                 164       2998       0             \n",
       "  DestPropSamp obs_disp\n",
       "1 0.2898551    0       \n",
       "2 0.1821306    0       \n",
       "3 0.4593838    0       \n",
       "4 0.4230769    0       \n",
       "5 0.0000000    0       \n",
       "6 0.0000000    0       "
      ]
     },
     "metadata": {},
     "output_type": "display_data"
    }
   ],
   "source": [
    "head(GenSimConn)"
   ]
  },
  {
   "cell_type": "code",
   "execution_count": 10,
   "metadata": {},
   "outputs": [
    {
     "data": {
      "text/html": [
       "0"
      ],
      "text/latex": [
       "0"
      ],
      "text/markdown": [
       "0"
      ],
      "text/plain": [
       "[1] 0"
      ]
     },
     "metadata": {},
     "output_type": "display_data"
    }
   ],
   "source": [
    "sum(is.na(GenSimConn)==T) #should be 0"
   ]
  },
  {
   "cell_type": "markdown",
   "metadata": {},
   "source": [
    "__run GLM observed genetic dispersal predicted by simulations__"
   ]
  },
  {
   "cell_type": "code",
   "execution_count": 11,
   "metadata": {},
   "outputs": [
    {
     "data": {
      "text/html": [
       "0.0246659815005139"
      ],
      "text/latex": [
       "0.0246659815005139"
      ],
      "text/markdown": [
       "0.0246659815005139"
      ],
      "text/plain": [
       "[1] 0.02466598"
      ]
     },
     "metadata": {},
     "output_type": "display_data"
    },
    {
     "data": {
      "text/html": [
       "0.054946518975296"
      ],
      "text/latex": [
       "0.054946518975296"
      ],
      "text/markdown": [
       "0.054946518975296"
      ],
      "text/plain": [
       "[1] 0.05494652"
      ]
     },
     "metadata": {},
     "output_type": "display_data"
    }
   ],
   "source": [
    "mean(GenSimConn$obs_disp) #should be 0.024\n",
    "var(GenSimConn$obs_disp) #should be 0.054\n",
    "#overdispersion?\n",
    "#no, because residual deviance of the model is not greater than the df\n",
    "#Residual deviance:  38.221  on 948  degrees of freedom"
   ]
  },
  {
   "cell_type": "code",
   "execution_count": null,
   "metadata": {},
   "outputs": [],
   "source": [
    "#plan:\n",
    "#fit 3 successive log-linear models starting with main efects only(fit1), main effects plus all 2-way interactions (fit2), and added in all 3 way interactions (fit3)\n"
   ]
  },
  {
   "cell_type": "code",
   "execution_count": 13,
   "metadata": {},
   "outputs": [
    {
     "data": {
      "text/plain": [
       "\n",
       "Call:\n",
       "glm(formula = obs_disp ~ dist_km, family = \"poisson\", data = GenSimConn)\n",
       "\n",
       "Deviance Residuals: \n",
       "    Min       1Q   Median       3Q      Max  \n",
       "-0.3405  -0.2697  -0.1990  -0.1438   5.8896  \n",
       "\n",
       "Coefficients:\n",
       "            Estimate Std. Error z value Pr(>|z|)    \n",
       "(Intercept) -2.84769    0.29019  -9.813  < 2e-16 ***\n",
       "dist_km     -0.11787    0.03965  -2.972  0.00295 ** \n",
       "---\n",
       "Signif. codes:  0 ‘***’ 0.001 ‘**’ 0.01 ‘*’ 0.05 ‘.’ 0.1 ‘ ’ 1\n",
       "\n",
       "(Dispersion parameter for poisson family taken to be 1)\n",
       "\n",
       "    Null deviance: 207.67  on 972  degrees of freedom\n",
       "Residual deviance: 196.07  on 971  degrees of freedom\n",
       "AIC: 234.62\n",
       "\n",
       "Number of Fisher Scoring iterations: 7\n"
      ]
     },
     "metadata": {},
     "output_type": "display_data"
    }
   ],
   "source": [
    "NullMod <- glm(obs_disp ~ dist_km , data=GenSimConn, family=\"poisson\")\n",
    "summary(NullMod)"
   ]
  },
  {
   "cell_type": "code",
   "execution_count": 57,
   "metadata": {},
   "outputs": [],
   "source": [
    "ObsModExpYearFit1 <- glm(obs_disp ~ AnnRecPart + YearSampled + direction + dist_km +SourcePropSamp +DestPropSamp, data=GenSimConn, family=\"poisson\")\n"
   ]
  },
  {
   "cell_type": "code",
   "execution_count": 59,
   "metadata": {
    "scrolled": false
   },
   "outputs": [
    {
     "data": {
      "text/plain": [
       "\n",
       "Call:\n",
       "glm(formula = obs_disp ~ AnnRecPart + YearSampled + direction + \n",
       "    dist_km + SourcePropSamp + DestPropSamp, family = \"poisson\", \n",
       "    data = GenSimConn)\n",
       "\n",
       "Deviance Residuals: \n",
       "    Min       1Q   Median       3Q      Max  \n",
       "-0.7421  -0.2351  -0.1574  -0.0962   4.8658  \n",
       "\n",
       "Coefficients:\n",
       "                  Estimate Std. Error z value Pr(>|z|)    \n",
       "(Intercept)     -3.146e+00  8.098e-01  -3.885 0.000102 ***\n",
       "AnnRecPart       1.224e-05  4.522e-05   0.271 0.786711    \n",
       "YearSampled2013  2.083e+00  7.774e-01   2.679 0.007382 ** \n",
       "YearSampled2014  1.900e+00  7.903e-01   2.404 0.016208 *  \n",
       "direction       -4.652e-03  2.613e-03  -1.780 0.075039 .  \n",
       "dist_km         -1.080e-01  3.727e-02  -2.897 0.003772 ** \n",
       "SourcePropSamp  -1.238e+00  6.246e-01  -1.982 0.047458 *  \n",
       "DestPropSamp    -5.555e-01  6.266e-01  -0.887 0.375304    \n",
       "---\n",
       "Signif. codes:  0 ‘***’ 0.001 ‘**’ 0.01 ‘*’ 0.05 ‘.’ 0.1 ‘ ’ 1\n",
       "\n",
       "(Dispersion parameter for poisson family taken to be 1)\n",
       "\n",
       "    Null deviance: 207.67  on 972  degrees of freedom\n",
       "Residual deviance: 176.28  on 965  degrees of freedom\n",
       "AIC: 226.83\n",
       "\n",
       "Number of Fisher Scoring iterations: 8\n"
      ]
     },
     "metadata": {},
     "output_type": "display_data"
    }
   ],
   "source": [
    "summary(ObsModExpYearFit1)"
   ]
  },
  {
   "cell_type": "code",
   "execution_count": 14,
   "metadata": {
    "scrolled": false
   },
   "outputs": [
    {
     "name": "stderr",
     "output_type": "stream",
     "text": [
      "Warning message:\n",
      "“glm.fit: fitted rates numerically 0 occurred”Warning message:\n",
      "“glm.fit: fitted rates numerically 0 occurred”Warning message:\n",
      "“glm.fit: fitted rates numerically 0 occurred”"
     ]
    },
    {
     "data": {
      "text/html": [
       "<table>\n",
       "<thead><tr><th></th><th scope=col>df</th><th scope=col>AIC</th><th scope=col>model</th></tr></thead>\n",
       "<tbody>\n",
       "\t<tr><th scope=row>FullModNoROMSDestPropSampInt</th><td> 8                           </td><td>222.3663                     </td><td>FullModNoROMSDestPropSampInt </td></tr>\n",
       "\t<tr><th scope=row>FullModNoROMSDestPropSamp</th><td> 6                           </td><td>223.7655                     </td><td>FullModNoROMSDestPropSamp    </td></tr>\n",
       "\t<tr><th scope=row>MainEff_AnnRecPart</th><td> 7                           </td><td>224.8986                     </td><td>MainEff_AnnRecPart           </td></tr>\n",
       "\t<tr><th scope=row>MainEff_DestPropSamp</th><td> 7                           </td><td>225.6392                     </td><td>MainEff_DestPropSamp         </td></tr>\n",
       "\t<tr><th scope=row>ObsModExpYearFit1</th><td> 8                           </td><td>226.8319                     </td><td>ObsModExpYearFit1            </td></tr>\n",
       "\t<tr><th scope=row>MainEff_direction</th><td> 7                           </td><td>228.2684                     </td><td>MainEff_direction            </td></tr>\n",
       "\t<tr><th scope=row>MainEff_SourcePropSamp</th><td> 7                           </td><td>229.0726                     </td><td>MainEff_SourcePropSamp       </td></tr>\n",
       "\t<tr><th scope=row>ObsModExpYearFit2IntDirNoROMS</th><td> 8                           </td><td>233.7604                     </td><td>ObsModExpYearFit2IntDirNoROMS</td></tr>\n",
       "\t<tr><th scope=row>MainEff_YearSampled</th><td> 6                           </td><td>234.3626                     </td><td>MainEff_YearSampled          </td></tr>\n",
       "\t<tr><th scope=row>NullMod</th><td> 2                           </td><td>234.6240                     </td><td>NullMod                      </td></tr>\n",
       "\t<tr><th scope=row>MainEff_dist_km</th><td> 7                           </td><td>235.8935                     </td><td>MainEff_dist_km              </td></tr>\n",
       "\t<tr><th scope=row>ObsModExpYearFit2IntDir</th><td> 8                           </td><td>236.0116                     </td><td>ObsModExpYearFit2IntDir      </td></tr>\n",
       "\t<tr><th scope=row>ObsModExpYearFit2IntYear</th><td> 8                           </td><td>236.0116                     </td><td>ObsModExpYearFit2IntYear     </td></tr>\n",
       "\t<tr><th scope=row>ObsModExpYearFit3Int</th><td>13                           </td><td>241.5007                     </td><td>ObsModExpYearFit3Int         </td></tr>\n",
       "</tbody>\n",
       "</table>\n"
      ],
      "text/latex": [
       "\\begin{tabular}{r|lll}\n",
       "  & df & AIC & model\\\\\n",
       "\\hline\n",
       "\tFullModNoROMSDestPropSampInt &  8                            & 222.3663                      & FullModNoROMSDestPropSampInt \\\\\n",
       "\tFullModNoROMSDestPropSamp &  6                            & 223.7655                      & FullModNoROMSDestPropSamp    \\\\\n",
       "\tMainEff\\_AnnRecPart &  7                              & 224.8986                        & MainEff\\_AnnRecPart           \\\\\n",
       "\tMainEff\\_DestPropSamp &  7                              & 225.6392                        & MainEff\\_DestPropSamp         \\\\\n",
       "\tObsModExpYearFit1 &  8                            & 226.8319                      & ObsModExpYearFit1            \\\\\n",
       "\tMainEff\\_direction &  7                              & 228.2684                        & MainEff\\_direction            \\\\\n",
       "\tMainEff\\_SourcePropSamp &  7                              & 229.0726                        & MainEff\\_SourcePropSamp       \\\\\n",
       "\tObsModExpYearFit2IntDirNoROMS &  8                            & 233.7604                      & ObsModExpYearFit2IntDirNoROMS\\\\\n",
       "\tMainEff\\_YearSampled &  6                              & 234.3626                        & MainEff\\_YearSampled          \\\\\n",
       "\tNullMod &  2                            & 234.6240                      & NullMod                      \\\\\n",
       "\tMainEff\\_dist\\_km &  7                                & 235.8935                          & MainEff\\_dist\\_km              \\\\\n",
       "\tObsModExpYearFit2IntDir &  8                            & 236.0116                      & ObsModExpYearFit2IntDir      \\\\\n",
       "\tObsModExpYearFit2IntYear &  8                            & 236.0116                      & ObsModExpYearFit2IntYear     \\\\\n",
       "\tObsModExpYearFit3Int & 13                            & 241.5007                      & ObsModExpYearFit3Int         \\\\\n",
       "\\end{tabular}\n"
      ],
      "text/markdown": [
       "\n",
       "| <!--/--> | df | AIC | model |\n",
       "|---|---|---|---|\n",
       "| FullModNoROMSDestPropSampInt |  8                            | 222.3663                      | FullModNoROMSDestPropSampInt  |\n",
       "| FullModNoROMSDestPropSamp |  6                            | 223.7655                      | FullModNoROMSDestPropSamp     |\n",
       "| MainEff_AnnRecPart |  7                            | 224.8986                      | MainEff_AnnRecPart            |\n",
       "| MainEff_DestPropSamp |  7                            | 225.6392                      | MainEff_DestPropSamp          |\n",
       "| ObsModExpYearFit1 |  8                            | 226.8319                      | ObsModExpYearFit1             |\n",
       "| MainEff_direction |  7                            | 228.2684                      | MainEff_direction             |\n",
       "| MainEff_SourcePropSamp |  7                            | 229.0726                      | MainEff_SourcePropSamp        |\n",
       "| ObsModExpYearFit2IntDirNoROMS |  8                            | 233.7604                      | ObsModExpYearFit2IntDirNoROMS |\n",
       "| MainEff_YearSampled |  6                            | 234.3626                      | MainEff_YearSampled           |\n",
       "| NullMod |  2                            | 234.6240                      | NullMod                       |\n",
       "| MainEff_dist_km |  7                            | 235.8935                      | MainEff_dist_km               |\n",
       "| ObsModExpYearFit2IntDir |  8                            | 236.0116                      | ObsModExpYearFit2IntDir       |\n",
       "| ObsModExpYearFit2IntYear |  8                            | 236.0116                      | ObsModExpYearFit2IntYear      |\n",
       "| ObsModExpYearFit3Int | 13                            | 241.5007                      | ObsModExpYearFit3Int          |\n",
       "\n"
      ],
      "text/plain": [
       "                              df AIC      model                        \n",
       "FullModNoROMSDestPropSampInt   8 222.3663 FullModNoROMSDestPropSampInt \n",
       "FullModNoROMSDestPropSamp      6 223.7655 FullModNoROMSDestPropSamp    \n",
       "MainEff_AnnRecPart             7 224.8986 MainEff_AnnRecPart           \n",
       "MainEff_DestPropSamp           7 225.6392 MainEff_DestPropSamp         \n",
       "ObsModExpYearFit1              8 226.8319 ObsModExpYearFit1            \n",
       "MainEff_direction              7 228.2684 MainEff_direction            \n",
       "MainEff_SourcePropSamp         7 229.0726 MainEff_SourcePropSamp       \n",
       "ObsModExpYearFit2IntDirNoROMS  8 233.7604 ObsModExpYearFit2IntDirNoROMS\n",
       "MainEff_YearSampled            6 234.3626 MainEff_YearSampled          \n",
       "NullMod                        2 234.6240 NullMod                      \n",
       "MainEff_dist_km                7 235.8935 MainEff_dist_km              \n",
       "ObsModExpYearFit2IntDir        8 236.0116 ObsModExpYearFit2IntDir      \n",
       "ObsModExpYearFit2IntYear       8 236.0116 ObsModExpYearFit2IntYear     \n",
       "ObsModExpYearFit3Int          13 241.5007 ObsModExpYearFit3Int         "
      ]
     },
     "metadata": {},
     "output_type": "display_data"
    }
   ],
   "source": [
    "#only main effects, first find worthwhile predictors with AIC\n",
    "#the intercept is very significant but I think that just means 0s are more common in the data. totally true!\n",
    "\n",
    "ObsModExpYearFit1 <- glm(obs_disp ~ AnnRecPart + YearSampled + direction + dist_km +SourcePropSamp +DestPropSamp, data=GenSimConn, family=\"poisson\")\n",
    "MainEff_AnnRecPart <- update(ObsModExpYearFit1, . ~ . -AnnRecPart)\n",
    "MainEff_YearSampled <- update(ObsModExpYearFit1, . ~ . -YearSampled)\n",
    "MainEff_direction <- update(ObsModExpYearFit1, . ~ . -direction)\n",
    "MainEff_dist_km <- update(ObsModExpYearFit1, . ~ . -dist_km)\n",
    "MainEff_SourcePropSamp <- update(ObsModExpYearFit1, . ~ . -SourcePropSamp)\n",
    "MainEff_DestPropSamp <- update(ObsModExpYearFit1, . ~ . -DestPropSamp)\n",
    "#drop the 3 terms AIC doesn't support? maybe not though, because when there's an interaction that's the best model\n",
    "MainEff_ARP_DPrp_Dist <- glm(obs_disp ~ YearSampled + direction +SourcePropSamp, data=GenSimConn, family=\"poisson\")\n",
    "#add the interaction between year and simulations\n",
    "ObsModExpYearFit2IntYear <- glm(obs_disp ~ AnnRecPart*YearSampled + direction+SourcePropSamp, data=GenSimConn, family=\"poisson\")\n",
    "ObsModExpYearFit2IntDir <- glm(obs_disp ~ AnnRecPart*YearSampled + direction+SourcePropSamp, data=GenSimConn, family=\"poisson\")\n",
    "ObsModExpYearFit2IntDirNoROMS <- glm(obs_disp ~ AnnRecPart+YearSampled*direction+SourcePropSamp, data=GenSimConn, family=\"poisson\")\n",
    "ObsModExpYearFit3Int <- glm(obs_disp ~ AnnRecPart*YearSampled*direction+SourcePropSamp, data=GenSimConn, family=\"poisson\")\n",
    "\n",
    "FullModNoROMSDestPropSamp <- glm(obs_disp ~  YearSampled + direction + dist_km +SourcePropSamp , data=GenSimConn, family=\"poisson\")\n",
    "FullModNoROMSDestPropSampInt <- glm(obs_disp ~  YearSampled* direction + dist_km +SourcePropSamp , data=GenSimConn, family=\"poisson\")\n",
    "\n",
    "MainEffAIC <- as.data.frame(AIC(NullMod, FullModNoROMSDestPropSampInt, FullModNoROMSDestPropSamp, ObsModExpYearFit1, MainEff_AnnRecPart, MainEff_YearSampled, MainEff_direction, MainEff_dist_km, MainEff_SourcePropSamp, MainEff_DestPropSamp, ObsModExpYearFit2IntDir, ObsModExpYearFit2IntYear, ObsModExpYearFit2IntDirNoROMS, ObsModExpYearFit3Int))\n",
    "MainEffAIC$model <- row.names(MainEffAIC)\n",
    "MainEffAIC <- MainEffAIC %>% arrange(AIC)\n",
    "MainEffAIC\n",
    "#/write.csv(MainEffAIC, file=\"~/oceanography/script_output/GLM/GLMObsDispAIC.csv\",row.names=F,  quote=F)\n"
   ]
  },
  {
   "cell_type": "code",
   "execution_count": 16,
   "metadata": {},
   "outputs": [
    {
     "data": {
      "text/plain": [
       "\n",
       "Call:\n",
       "glm(formula = obs_disp ~ YearSampled * direction + direction + \n",
       "    YearSampled + dist_km + SourcePropSamp, family = \"poisson\", \n",
       "    data = GenSimConn)\n",
       "\n",
       "Deviance Residuals: \n",
       "    Min       1Q   Median       3Q      Max  \n",
       "-0.8205  -0.2308  -0.1455  -0.0854   4.7749  \n",
       "\n",
       "Coefficients:\n",
       "                           Estimate Std. Error z value Pr(>|z|)   \n",
       "(Intercept)               -4.907010   1.833725  -2.676  0.00745 **\n",
       "YearSampled2013            3.330448   1.903005   1.750  0.08010 . \n",
       "YearSampled2014            4.300475   1.899406   2.264  0.02357 * \n",
       "direction                  0.005519   0.008362   0.660  0.50924   \n",
       "dist_km                   -0.113197   0.036841  -3.073  0.00212 **\n",
       "SourcePropSamp            -1.240710   0.611796  -2.028  0.04256 * \n",
       "YearSampled2013:direction -0.007783   0.008985  -0.866  0.38636   \n",
       "YearSampled2014:direction -0.019088   0.010080  -1.894  0.05826 . \n",
       "---\n",
       "Signif. codes:  0 ‘***’ 0.001 ‘**’ 0.01 ‘*’ 0.05 ‘.’ 0.1 ‘ ’ 1\n",
       "\n",
       "(Dispersion parameter for poisson family taken to be 1)\n",
       "\n",
       "    Null deviance: 207.67  on 972  degrees of freedom\n",
       "Residual deviance: 171.82  on 965  degrees of freedom\n",
       "AIC: 222.37\n",
       "\n",
       "Number of Fisher Scoring iterations: 7\n"
      ]
     },
     "metadata": {},
     "output_type": "display_data"
    }
   ],
   "source": [
    "FullModNoROMSDestPropSampInt <- glm(obs_disp ~  YearSampled* direction+direction+YearSampled + dist_km +SourcePropSamp , data=GenSimConn, family=\"poisson\")\n",
    "\n",
    "summary(FullModNoROMSDestPropSampInt)"
   ]
  },
  {
   "cell_type": "code",
   "execution_count": 68,
   "metadata": {},
   "outputs": [
    {
     "data": {
      "text/html": [
       "<table>\n",
       "<thead><tr><th></th><th scope=col>df</th><th scope=col>AIC</th></tr></thead>\n",
       "<tbody>\n",
       "\t<tr><th scope=row>test</th><td>10      </td><td>225.2967</td></tr>\n",
       "\t<tr><th scope=row>MainEff_AnnRecPart</th><td> 7      </td><td>224.8986</td></tr>\n",
       "\t<tr><th scope=row>MainEff_DestPropSamp</th><td> 7      </td><td>225.6392</td></tr>\n",
       "</tbody>\n",
       "</table>\n"
      ],
      "text/latex": [
       "\\begin{tabular}{r|ll}\n",
       "  & df & AIC\\\\\n",
       "\\hline\n",
       "\ttest & 10       & 225.2967\\\\\n",
       "\tMainEff\\_AnnRecPart &  7       & 224.8986\\\\\n",
       "\tMainEff\\_DestPropSamp &  7       & 225.6392\\\\\n",
       "\\end{tabular}\n"
      ],
      "text/markdown": [
       "\n",
       "| <!--/--> | df | AIC |\n",
       "|---|---|---|\n",
       "| test | 10       | 225.2967 |\n",
       "| MainEff_AnnRecPart |  7       | 224.8986 |\n",
       "| MainEff_DestPropSamp |  7       | 225.6392 |\n",
       "\n"
      ],
      "text/plain": [
       "                     df AIC     \n",
       "test                 10 225.2967\n",
       "MainEff_AnnRecPart    7 224.8986\n",
       "MainEff_DestPropSamp  7 225.6392"
      ]
     },
     "metadata": {},
     "output_type": "display_data"
    }
   ],
   "source": [
    "AIC(test, MainEff_AnnRecPart,MainEff_DestPropSamp )"
   ]
  },
  {
   "cell_type": "code",
   "execution_count": 61,
   "metadata": {
    "scrolled": false
   },
   "outputs": [
    {
     "data": {
      "text/plain": [
       "\n",
       "Call:\n",
       "glm(formula = obs_disp ~ AnnRecPart * YearSampled + direction + \n",
       "    SourcePropSamp, family = \"poisson\", data = GenSimConn)\n",
       "\n",
       "Deviance Residuals: \n",
       "    Min       1Q   Median       3Q      Max  \n",
       "-1.2238  -0.2452  -0.1873  -0.1127   5.5209  \n",
       "\n",
       "Coefficients:\n",
       "                            Estimate Std. Error z value Pr(>|z|)    \n",
       "(Intercept)                -3.604834   0.875861  -4.116 3.86e-05 ***\n",
       "AnnRecPart                 -0.001737   0.003224  -0.539   0.5901    \n",
       "YearSampled2013             1.636987   0.869815   1.882   0.0598 .  \n",
       "YearSampled2014             1.238086   0.878833   1.409   0.1589    \n",
       "direction                  -0.005764   0.002453  -2.350   0.0188 *  \n",
       "SourcePropSamp             -0.983708   0.599542  -1.641   0.1008    \n",
       "AnnRecPart:YearSampled2013  0.001471   0.003253   0.452   0.6512    \n",
       "AnnRecPart:YearSampled2014  0.001807   0.003224   0.561   0.5751    \n",
       "---\n",
       "Signif. codes:  0 ‘***’ 0.001 ‘**’ 0.01 ‘*’ 0.05 ‘.’ 0.1 ‘ ’ 1\n",
       "\n",
       "(Dispersion parameter for poisson family taken to be 1)\n",
       "\n",
       "    Null deviance: 207.67  on 972  degrees of freedom\n",
       "Residual deviance: 185.46  on 965  degrees of freedom\n",
       "AIC: 236.01\n",
       "\n",
       "Number of Fisher Scoring iterations: 14\n"
      ]
     },
     "metadata": {},
     "output_type": "display_data"
    }
   ],
   "source": [
    "summary(ObsModExpYearFit2Int ) #judging by the significant intercept (which should be AnnRecPart:Year2012?) when there's more particles expected from the ROMS model, there's actually less in the observed data.\n",
    "ObsModExpYearFit2Int_Sum <- tidy(ObsModExpYearFit2Int)\n",
    "#write.csv(ObsModExpYearFit2Int_Sum, file=\"~/oceanography/script_output/GLM/YearDispIntBestModSum.csv\",row.names=F,  quote=F)\n"
   ]
  },
  {
   "cell_type": "code",
   "execution_count": 91,
   "metadata": {},
   "outputs": [],
   "source": [
    "ROMSFull <- glm(AnnRecPart ~ as.factor(SimYear) + direction + dist_km + source + destination, data=GenSimConn, family=\"poisson\")\n",
    "#MainEff_AnnRecPart <- update(ObsModExpYearFit1, . ~ . -AnnRecPart)"
   ]
  },
  {
   "cell_type": "code",
   "execution_count": 92,
   "metadata": {
    "scrolled": true
   },
   "outputs": [
    {
     "data": {
      "text/plain": [
       "\n",
       "Call:\n",
       "glm(formula = AnnRecPart ~ as.factor(SimYear) + direction + dist_km + \n",
       "    source + destination, family = \"poisson\", data = GenSimConn)\n",
       "\n",
       "Deviance Residuals: \n",
       "     Min        1Q    Median        3Q       Max  \n",
       "-101.212   -13.131    -5.750     3.049   158.721  \n",
       "\n",
       "Coefficients:\n",
       "                               Estimate Std. Error  z value Pr(>|z|)    \n",
       "(Intercept)                   6.976e+00  1.358e-02  513.709  < 2e-16 ***\n",
       "as.factor(SimYear)2012       -1.328e-01  3.594e-03  -36.954  < 2e-16 ***\n",
       "as.factor(SimYear)2013       -8.162e-02  3.548e-03  -23.007  < 2e-16 ***\n",
       "direction                    -6.483e-03  2.639e-05 -245.674  < 2e-16 ***\n",
       "dist_km                      -1.288e-01  2.908e-04 -442.731  < 2e-16 ***\n",
       "sourceCaridad Cemetery        8.501e-03  1.478e-02    0.575 0.565238    \n",
       "sourceCaridad Proper         -4.894e-01  1.598e-02  -30.631  < 2e-16 ***\n",
       "sourceElementary School      -1.125e-01  1.403e-02   -8.020 1.06e-15 ***\n",
       "sourceGabas                   6.218e-01  1.299e-02   47.858  < 2e-16 ***\n",
       "sourceHaina                  -9.632e-01  1.802e-02  -53.454  < 2e-16 ***\n",
       "sourceHicgop South            7.626e-01  1.269e-02   60.114  < 2e-16 ***\n",
       "sourceMagbangon               2.332e-01  1.457e-02   16.010  < 2e-16 ***\n",
       "sourcePalanas                 3.984e-01  1.525e-02   26.132  < 2e-16 ***\n",
       "sourcePoroc Rose             -1.901e-01  1.407e-02  -13.512  < 2e-16 ***\n",
       "sourcePoroc San Flower       -1.509e-01  1.348e-02  -11.196  < 2e-16 ***\n",
       "sourceSan Agustin             3.494e-01  1.291e-02   27.062  < 2e-16 ***\n",
       "sourceSitio Baybayon          1.980e+00  1.238e-02  159.964  < 2e-16 ***\n",
       "sourceSitio Lonas             9.810e-01  1.217e-02   80.602  < 2e-16 ***\n",
       "sourceSitio Tugas            -6.974e-01  1.659e-02  -42.046  < 2e-16 ***\n",
       "sourceTamakin Dacot           1.564e+00  1.262e-02  123.893  < 2e-16 ***\n",
       "sourceVisca                  -1.226e-01  1.393e-02   -8.803  < 2e-16 ***\n",
       "sourceWangag                  1.275e+00  1.284e-02   99.343  < 2e-16 ***\n",
       "destinationCaridad Cemetery   3.277e-01  1.123e-02   29.172  < 2e-16 ***\n",
       "destinationCaridad Proper     7.957e-01  1.044e-02   76.192  < 2e-16 ***\n",
       "destinationElementary School -1.604e-02  1.218e-02   -1.317 0.187910    \n",
       "destinationGabas              6.293e-01  1.250e-02   50.354  < 2e-16 ***\n",
       "destinationHaina              5.800e-01  1.136e-02   51.056  < 2e-16 ***\n",
       "destinationHicgop South       3.518e-01  1.095e-02   32.137  < 2e-16 ***\n",
       "destinationMagbangon         -4.289e-02  1.238e-02   -3.465 0.000531 ***\n",
       "destinationPalanas           -1.104e+00  1.740e-02  -63.416  < 2e-16 ***\n",
       "destinationPoroc Rose        -5.583e-01  1.546e-02  -36.109  < 2e-16 ***\n",
       "destinationPoroc San Flower  -2.342e-01  1.409e-02  -16.627  < 2e-16 ***\n",
       "destinationSan Agustin        7.643e-01  1.084e-02   70.482  < 2e-16 ***\n",
       "destinationSitio Baybayon     4.757e-01  1.096e-02   43.396  < 2e-16 ***\n",
       "destinationSitio Lonas        1.380e+00  9.946e-03  138.749  < 2e-16 ***\n",
       "destinationSitio Tugas        4.758e-02  1.187e-02    4.009 6.10e-05 ***\n",
       "destinationTamakin Dacot      1.782e+00  1.056e-02  168.807  < 2e-16 ***\n",
       "destinationVisca              1.157e-01  1.381e-02    8.378  < 2e-16 ***\n",
       "destinationWangag            -9.643e-01  1.568e-02  -61.482  < 2e-16 ***\n",
       "---\n",
       "Signif. codes:  0 ‘***’ 0.001 ‘**’ 0.01 ‘*’ 0.05 ‘.’ 0.1 ‘ ’ 1\n",
       "\n",
       "(Dispersion parameter for poisson family taken to be 1)\n",
       "\n",
       "    Null deviance: 1596114  on 972  degrees of freedom\n",
       "Residual deviance:  543402  on 934  degrees of freedom\n",
       "AIC: 548847\n",
       "\n",
       "Number of Fisher Scoring iterations: 7\n"
      ]
     },
     "metadata": {},
     "output_type": "display_data"
    }
   ],
   "source": [
    "summary(ROMSFull)"
   ]
  },
  {
   "cell_type": "code",
   "execution_count": 13,
   "metadata": {},
   "outputs": [
    {
     "data": {
      "text/plain": [
       "   Min. 1st Qu.  Median    Mean 3rd Qu.    Max.    NA's \n",
       "  0.000   0.000   0.000   0.000   0.000   0.002   26040 "
      ]
     },
     "metadata": {},
     "output_type": "display_data"
    }
   ],
   "source": [
    "summary(SimConnDFDir$NormSourceMonsoon)"
   ]
  },
  {
   "cell_type": "code",
   "execution_count": null,
   "metadata": {},
   "outputs": [],
   "source": []
  },
  {
   "cell_type": "code",
   "execution_count": null,
   "metadata": {},
   "outputs": [],
   "source": [
    "#what are the routes that create these peaks in direction annually?\n",
    "\n",
    "#are there similar patterns seasonally?\n",
    "\n",
    "#plot the connectivity matrix with of the roms model"
   ]
  },
  {
   "cell_type": "code",
   "execution_count": 25,
   "metadata": {
    "scrolled": true
   },
   "outputs": [
    {
     "data": {
      "text/html": [
       "<table>\n",
       "<thead><tr><th scope=col>AnnRecPart</th><th scope=col>direction</th><th scope=col>SimYear</th><th scope=col>source</th><th scope=col>destination</th></tr></thead>\n",
       "<tbody>\n",
       "\t<tr><td> 624            </td><td> 28             </td><td>2011            </td><td>Sitio Baybayon  </td><td>Palanas         </td></tr>\n",
       "\t<tr><td>1080            </td><td> 26             </td><td>2011            </td><td>Sitio Baybayon  </td><td>Wangag          </td></tr>\n",
       "\t<tr><td>1221            </td><td> 18             </td><td>2011            </td><td>Sitio Baybayon  </td><td>Magbangon       </td></tr>\n",
       "\t<tr><td>1025            </td><td> 14             </td><td>2011            </td><td>Sitio Baybayon  </td><td>Cabatoan        </td></tr>\n",
       "\t<tr><td>2131            </td><td>165             </td><td>2011            </td><td>Sitio Baybayon  </td><td>Caridad Cemetery</td></tr>\n",
       "\t<tr><td>2998            </td><td>164             </td><td>2011            </td><td>Sitio Baybayon  </td><td>Caridad Proper  </td></tr>\n",
       "</tbody>\n",
       "</table>\n"
      ],
      "text/latex": [
       "\\begin{tabular}{r|lllll}\n",
       " AnnRecPart & direction & SimYear & source & destination\\\\\n",
       "\\hline\n",
       "\t  624             &  28              & 2011             & Sitio Baybayon   & Palanas         \\\\\n",
       "\t 1080             &  26              & 2011             & Sitio Baybayon   & Wangag          \\\\\n",
       "\t 1221             &  18              & 2011             & Sitio Baybayon   & Magbangon       \\\\\n",
       "\t 1025             &  14              & 2011             & Sitio Baybayon   & Cabatoan        \\\\\n",
       "\t 2131             & 165              & 2011             & Sitio Baybayon   & Caridad Cemetery\\\\\n",
       "\t 2998             & 164              & 2011             & Sitio Baybayon   & Caridad Proper  \\\\\n",
       "\\end{tabular}\n"
      ],
      "text/markdown": [
       "\n",
       "| AnnRecPart | direction | SimYear | source | destination |\n",
       "|---|---|---|---|---|\n",
       "|  624             |  28              | 2011             | Sitio Baybayon   | Palanas          |\n",
       "| 1080             |  26              | 2011             | Sitio Baybayon   | Wangag           |\n",
       "| 1221             |  18              | 2011             | Sitio Baybayon   | Magbangon        |\n",
       "| 1025             |  14              | 2011             | Sitio Baybayon   | Cabatoan         |\n",
       "| 2131             | 165              | 2011             | Sitio Baybayon   | Caridad Cemetery |\n",
       "| 2998             | 164              | 2011             | Sitio Baybayon   | Caridad Proper   |\n",
       "\n"
      ],
      "text/plain": [
       "  AnnRecPart direction SimYear source         destination     \n",
       "1  624        28       2011    Sitio Baybayon Palanas         \n",
       "2 1080        26       2011    Sitio Baybayon Wangag          \n",
       "3 1221        18       2011    Sitio Baybayon Magbangon       \n",
       "4 1025        14       2011    Sitio Baybayon Cabatoan        \n",
       "5 2131       165       2011    Sitio Baybayon Caridad Cemetery\n",
       "6 2998       164       2011    Sitio Baybayon Caridad Proper  "
      ]
     },
     "metadata": {},
     "output_type": "display_data"
    }
   ],
   "source": [
    "head(SimConnDFMeta %>% dplyr::select(AnnRecPart, direction, SimYear, source, destination))\n",
    "SimConnDFMeta %>%"
   ]
  },
  {
   "cell_type": "code",
   "execution_count": 104,
   "metadata": {},
   "outputs": [
    {
     "data": {
      "image/png": "[encoded data removed]",
      "text/plain": [
       "Plot with title “Histogram of SimConnDFMeta$direction”"
      ]
     },
     "metadata": {},
     "output_type": "display_data"
    }
   ],
   "source": [
    "hist(SimConnDFMeta$direction, breaks=100)"
   ]
  },
  {
   "cell_type": "code",
   "execution_count": 102,
   "metadata": {},
   "outputs": [
    {
     "data": {
      "text/plain": [
       "   Min. 1st Qu.  Median    Mean 3rd Qu.    Max. \n",
       "      1      77     158     164     246     333 "
      ]
     },
     "metadata": {},
     "output_type": "display_data"
    },
    {
     "data": {
      "text/html": [
       "'numeric'"
      ],
      "text/latex": [
       "'numeric'"
      ],
      "text/markdown": [
       "'numeric'"
      ],
      "text/plain": [
       "[1] \"numeric\""
      ]
     },
     "metadata": {},
     "output_type": "display_data"
    }
   ],
   "source": [
    "summary(SimConnDFMeta$direction)\n",
    "(SimConnDFMeta$direction)"
   ]
  },
  {
   "cell_type": "code",
   "execution_count": null,
   "metadata": {},
   "outputs": [],
   "source": []
  },
  {
   "cell_type": "code",
   "execution_count": null,
   "metadata": {},
   "outputs": [],
   "source": []
  },
  {
   "cell_type": "code",
   "execution_count": null,
   "metadata": {},
   "outputs": [],
   "source": [
    "#this isn't significant, which means the residual difference is small enough here to say the model fits reasonably well\n",
    "with(test_mod, cbind(res.deviance = deviance, df = df.residual,\n",
    "  p = pchisq(deviance, df.residual, lower.tail=FALSE)))\n"
   ]
  },
  {
   "cell_type": "code",
   "execution_count": null,
   "metadata": {},
   "outputs": [],
   "source": [
    "#how much devience is explained here?"
   ]
  },
  {
   "cell_type": "code",
   "execution_count": null,
   "metadata": {},
   "outputs": [],
   "source": [
    "plot(obs_disp ~ ExpDisp, data=SimPlusGenWithDist)"
   ]
  },
  {
   "cell_type": "code",
   "execution_count": null,
   "metadata": {
    "scrolled": false
   },
   "outputs": [],
   "source": [
    "#plot(test_mod_int)"
   ]
  },
  {
   "cell_type": "code",
   "execution_count": null,
   "metadata": {},
   "outputs": [],
   "source": [
    "#plot predicted model\n",
    "range(SimPlusGenWithDist$ExpDisp)"
   ]
  },
  {
   "cell_type": "code",
   "execution_count": null,
   "metadata": {},
   "outputs": [],
   "source": [
    "exp_disp_range <- seq(0, 66114, 1)"
   ]
  },
  {
   "cell_type": "code",
   "execution_count": null,
   "metadata": {},
   "outputs": [],
   "source": [
    "obs_disp_pred <- predict(test_mod_int,type=\"response\")"
   ]
  },
  {
   "cell_type": "code",
   "execution_count": null,
   "metadata": {},
   "outputs": [],
   "source": [
    "plot( SimPlusGenWithDist$ExpDisp, SimPlusGenWithDist$obs_disp, pch = 16)#, xlab = \"WEIGHT (g)\", ylab = \"VS\")\n",
    "\n",
    "lines(obs_disp_pred)"
   ]
  },
  {
   "cell_type": "code",
   "execution_count": null,
   "metadata": {},
   "outputs": [],
   "source": []
  },
  {
   "cell_type": "code",
   "execution_count": null,
   "metadata": {},
   "outputs": [],
   "source": [
    "#sources are rows, columns are destinations, checked this? check again\n",
    "#also check if it matters that these are in alphabetical order YES it should be alphabetical\n",
    "SimDisp2013Mat <- SimDisp2013 %>%\n",
    "    group_by(destination, source) %>%\n",
    "    spread(destination, SumParticles)\n",
    "#\n",
    "rownames(SimDisp2013Mat) <- SimDisp2013Mat$source\n",
    "SimDisp2013Mat$source <- NULL"
   ]
  },
  {
   "cell_type": "code",
   "execution_count": null,
   "metadata": {},
   "outputs": [],
   "source": [
    "#add in unassigned \n",
    "RowtoAddInt <- SimDisp2013RecSamp %>%\n",
    "    ungroup() %>%\n",
    "    arrange(destination) %>%\n",
    "    dplyr::select(TotalUnassigned)\n",
    "\n",
    "RowtoAdd <- as.data.frame(t(RowtoAddInt))\n",
    "colnames(RowtoAdd) <- colnames(SimDisp2013Mat)\n",
    "\n",
    "FullSimDisp2013 <- rbind(SimDisp2013Mat, RowtoAdd)\n",
    "rownames(FullSimDisp2013) <- NULL"
   ]
  },
  {
   "cell_type": "code",
   "execution_count": null,
   "metadata": {},
   "outputs": [],
   "source": [
    "FullSimDisp2012"
   ]
  },
  {
   "cell_type": "code",
   "execution_count": null,
   "metadata": {},
   "outputs": [],
   "source": [
    "SimDisp2012Mat"
   ]
  },
  {
   "cell_type": "code",
   "execution_count": null,
   "metadata": {},
   "outputs": [],
   "source": [
    "#turn into parentage matrix\n",
    "\n",
    "#SimDisp2012Mat <- SimDisp2012 %>%\n",
    "#    ungroup() %>%\n",
    "#    spread(source, destination, SumParticles)\n",
    "    \n",
    "\n",
    "#make the rest of the kernel input files\n",
    "Assignments <- FullSimDisp2013\n",
    "Adult_sample_proportions <- matrix(nrow=18, ncol=1, 1) #we sampled all sites completely because we are working with simulated data\n",
    "Sampled_reefs <- as.matrix(read.csv(\"~/parentage/kernel_fitting/1340_loci/input/site_index_all.csv\", header=FALSE))[,18] #sampled all reefs in the distance matrix/area/centroid files\n",
    "Distances <- as.matrix(read.csv(\"~/parentage/kernel_fitting/1340_loci/input/distance_matrix_unsurveyed.csv\", header=FALSE))[-2, -2]  #drop a magbangon row  \n",
    "Reef_sizes <- as.matrix(read.csv(\"~/parentage/kernel_fitting/894_loci/area_unsurveyed.csv\", header=FALSE))[]\n",
    "Centroids <- as.matrix(read.csv(\"~/parentage/kernel_fitting/894_loci/centroids_unsurveyed.csv\", header=T))\n",
    "\n"
   ]
  },
  {
   "cell_type": "code",
   "execution_count": null,
   "metadata": {},
   "outputs": [],
   "source": [
    "a=-10\n",
    "b=10\n",
    "\n",
    "\n",
    "x <- list(Distances=Distances, Assignments=Assignments, Sampled_reefs=Sampled_reefs, Reef_sizes=Reef_sizes, Adult_sample_proportions=Adult_sample_proportions) #put inputs into a list because that's the bbmle format\n",
    "\n",
    "Sim2013Fit <- suppressWarnings(mle2(LL_kt_bbmle, start=list(k=-3, theta=1), lower=c(-10, 0.15), upper=c(10, 8), method=\"L-BFGS-B\", data=x, control=list(maxit=500)))\n",
    "Sim2013Fit\n",
    "\n",
    "#doen't look right. Maybe fix theta, optimize k"
   ]
  },
  {
   "cell_type": "code",
   "execution_count": null,
   "metadata": {},
   "outputs": [],
   "source": []
  },
  {
   "cell_type": "code",
   "execution_count": null,
   "metadata": {},
   "outputs": [],
   "source": []
  },
  {
   "cell_type": "code",
   "execution_count": null,
   "metadata": {},
   "outputs": [],
   "source": []
  },
  {
   "cell_type": "code",
   "execution_count": null,
   "metadata": {},
   "outputs": [],
   "source": [
    "#monsoon season prep\n",
    "NEM_months <- c(11, 12, 1, 2, 3, 4)\n",
    "SWM_months <- c(5, 6, 7, 8, 9, 10)\n",
    "\n",
    "NEM <- conn_mat_full4 %>%\n",
    "    filter(month %in% NEM_months) %>%\n",
    "    group_by(source, destination) %>%\n",
    "    summarise(conn=max(fraction))\n",
    "\n",
    "SWM <- conn_mat_full4 %>%\n",
    "    filter(month %in% SWM_months) %>%\n",
    "    group_by(source, destination) %>%\n",
    "    summarise(conn=max(fraction))"
   ]
  }
 ],
 "metadata": {
  "kernelspec": {
   "display_name": "R",
   "language": "R",
   "name": "ir"
  },
  "language_info": {
   "codemirror_mode": "r",
   "file_extension": ".r",
   "mimetype": "text/x-r-source",
   "name": "R",
   "pygments_lexer": "r",
   "version": "3.6.1"
  }
 },
 "nbformat": 4,
 "nbformat_minor": 4
}
