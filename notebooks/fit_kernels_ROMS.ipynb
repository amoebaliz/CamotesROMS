{
 "cells": [
  {
   "cell_type": "code",
   "execution_count": 3,
   "metadata": {},
   "outputs": [],
   "source": [
    "Packages <- c(\"dplyr\", \"R.utils\", \"nleqslv\", \"broom\",\"cubature\", \"geosphere\", \"data.table\",  \"ggplot2\", \"bbmle\", \"stringr\",  \"lubridate\", \"RColorBrewer\")\n",
    "\n",
    "invisible(suppressPackageStartupMessages(lapply(Packages, library, character.only = TRUE)))\n",
    "\n",
    "setwd('/local/home/katrinac/oceanography')\n",
    "\"%!in%\" <- function(x,table) match(x,table, nomatch = 0) == 0\n",
    "source(\"~/parentage/kernel_fitting/1340_loci/functions/ll_kt_both_bbmle.R\")\n",
    "source(\"~/parentage/kernel_fitting/1340_loci/functions/GenGausKernInt_sum0.5.R\") #integrate_kernel_sum1\n",
    "source(\"~/parentage/kernel_fitting/1340_loci/functions/GenGausKernInt_sum1.R\") #integrate_kernel_sum0.5\n",
    "source(\"~/parentage/kernel_fitting/1340_loci/functions/cdf_solve.R\") #median\n",
    "source(\"~/parentage/kernel_fitting/1340_loci/functions/cdf_solve90.R\") #dist 90% retained\n",
    "\n",
    "#read in the kernel fitting summary\n",
    "kernels <- fread(file=\"~/parentage/kernel_fitting/1340_loci/final_results/tables/kernel_fitting_summary.csv\")\n",
    "#read in the centroids adjusted for the simulation, so the Magbangons combined \n",
    "centroids <- fread(file=\"~/oceanography/empirical_data/site_centroids_SimTest.csv\")\n",
    "setorder(centroids, site)\n",
    "#read in the table with number of recruits sampled at each site for each year\n",
    "AnnualRecsSamp <- fread(file=\"~/oceanography/script_output/SurveyData/AnnualRecruitsSampled.csv\")\n",
    "#read in the table of the proportion of anemones sampled at each site for each year\n",
    "PropSamp <- fread(file=\"~/oceanography/script_output/SurveyData/ProportionHabitatSampled.csv\")\n",
    "\n",
    "#read in the ROMS simulation connectivity table\n",
    "SimConn <- fread(file=\"~/oceanography/script_output/ROMSDataTables/SimConnectivityTable.csv\")\n",
    "\n",
    "#make vectors defining sites we didn't sample, but that are in the model, and the sandflats specifically \n",
    "UnsampledSites <- c(\"SF1\", \"SF2\", \"SF3\", \"SF4\", \"SF5\", \"SF6\", \"Pangasugan\", \"Other\", \"CAI\") \n",
    "SandFlats <- c(\"SF1\", \"SF2\", \"SF3\", \"SF4\", \"SF5\", \"SF6\") \n",
    "\n",
    "#make the constant inputs for the kernel fitting function\n",
    "#distance matrix using the centroids with combined Magbangon\n",
    "### List of source locations\n",
    "sites_source <- centroids\n",
    "\n",
    "### List of destination locations\n",
    "sites_dest <- centroids\n",
    "\n",
    "dist_mat_m <- distm(sites_source[,c('lon','lat')], sites_source[,c('lon','lat')], fun=distVincentyEllipsoid)\n",
    "Distances <- dist_mat_m*10^-3\n",
    "#read in the reef areas for the kernel fitting\n",
    "Area <- fread(\"~/oceanography/empirical_data/site_area_header_nonsurveyed_simulation_kernels_test.csv\") %>%\n",
    "    arrange(site) %>%\n",
    "    filter(site %!in% c(\"near_north_full1\", \"near_north_full2\", \"near_north_full3\", \"near_south_full1\", \"near_south_full2\", \"near_south_full3\")) %>%\n",
    "    mutate(kmsq=msq*10^-6)# %>%\n",
    "    #select(kmsq) #need to uncomment for functions to work\n",
    "setorder(Area, site)\n",
    "Reef_sizes <- as.matrix(Area$kmsq)\n",
    "\n",
    "#make a table with the survey information for each site (how many fish sampled, prop anems sampled, total number of anems at site)\n",
    "SurveyData <- AnnualRecsSamp[PropSamp, on=.(year=end_year, site)][#join the sampling tables together\n",
    "    is.na(n_offs_gen), n_offs_gen := 0][#change NA's to 0\n",
    "    ,-\"time_frame\"]#drop the time_frame column, we can key with end_year\n",
    "#setkey(SurveyData, site)"
   ]
  },
  {
   "cell_type": "code",
   "execution_count": null,
   "metadata": {},
   "outputs": [],
   "source": []
  },
  {
   "cell_type": "markdown",
   "metadata": {},
   "source": [
    "__Can skip the cells below and read in the already formatted dest_sampled table.__\n"
   ]
  },
  {
   "cell_type": "code",
   "execution_count": 4,
   "metadata": {},
   "outputs": [
    {
     "data": {
      "text/html": [
       "TRUE"
      ],
      "text/latex": [
       "TRUE"
      ],
      "text/markdown": [
       "TRUE"
      ],
      "text/plain": [
       "[1] TRUE"
      ]
     },
     "metadata": {},
     "output_type": "display_data"
    }
   ],
   "source": [
    "#make the connectivity data long form\n",
    "SimConn <- SimConn[destination !=\"Other\" & source %!in% SandFlats][ #we don't care about \"other\" as a destination, and sand flats can't be a source\n",
    "    ,!c(\"SourceSampled\", \"DestSampled\")]#drop these columns, it was used for sorting in the process_ROMS script but at this point it's confusing\n",
    "check1 <- sum(SimConn$DailyParticles)   \n",
    "#setkey(SimConn, source)\n",
    "SimConn <- SimConn[rep(seq_len(nrow(SimConn)), SimConn$DailyParticles), 1:ncol(SimConn)][ #make long form, repeat each row the number of times specified in \"DailyParticles\"\n",
    "    , ParticleID := paste (\"P\", .I, sep = \"\", collapse = NULL)]#finally, make a new column that's the particle ID for each row\n",
    "\n",
    "nrow(SimConn)==check1 #should be TRUE, meaning the correct number of particles are retained\n",
    "\n",
    "#the below code is subsampling particles, but we want to do that within the loop of kernel fitting\n",
    "#SimConnDTDir3 <- SimConnDTDir2[c(SimConnDTDir2[, .I[source != \"Other\"]], sample(SimConnDTDir2[, .I[source == \"Other\"]], length(SimConnDTDir2[, .I[source == \"Other\"]])*.1))]\n",
    "#SimConnDTDir3 <- SimConnDTDir2[c(SimConnDTDir3[, .I[source != \"CAI\"]], sample(SimConnDTDir3[, .I[source == \"CAI\"]], length(SimConnDTDir3[, .I[source == \"CAI\"]])*.1))]\n"
   ]
  },
  {
   "cell_type": "code",
   "execution_count": null,
   "metadata": {},
   "outputs": [],
   "source": [
    "SimConn[, .(.N), by = .(source)]"
   ]
  },
  {
   "cell_type": "code",
   "execution_count": 26,
   "metadata": {},
   "outputs": [],
   "source": [
    "##make a table with the survey information for each site (how many fish sampled, prop anems sampled, total number of anems at site)\n",
    "#SurveyData <- AnnualRecsSamp[PropSamp, on=.(year=end_year, site)][#join the sampling tables together\n",
    "#    is.na(n_offs_gen), n_offs_gen := 0][#change NA's to 0\n",
    "#    ,-\"time_frame\"]#drop the time_frame column, we can key with end_year\n",
    "##setkey(SurveyData, site)\n",
    "#"
   ]
  },
  {
   "cell_type": "code",
   "execution_count": 5,
   "metadata": {},
   "outputs": [],
   "source": [
    "#join the simulation data with the survey data\n",
    "source_join <- SurveyData[SimConn, on = .(site = source, year=YearSampled)]\n",
    "setnames(source_join, c(\"site\", \"year\", \"n_offs_gen\", \"PropAnemSamp\", \"TotalAnems\"), c(\"Source\",\"YearSampled\", \"SourceNOffsAnnual\",  \"SourcePropSamp\", \"SourceTotalAnems\"))\n",
    "\n",
    "destination_join <- SurveyData[source_join, on = .( site= destination, year=YearSampled)]\n",
    "setnames(destination_join, c(\"site\", \"year\", \"n_offs_gen\", \"PropAnemSamp\", \"TotalAnems\"), c(\"Dest\",\"YearSampled\", \"DestNOffsAnnual\",  \"DestPropSamp\", \"DestTotalAnems\"))\n",
    "\n"
   ]
  },
  {
   "cell_type": "code",
   "execution_count": 60,
   "metadata": {},
   "outputs": [
    {
     "data": {
      "text/html": [
       "TRUE"
      ],
      "text/latex": [
       "TRUE"
      ],
      "text/markdown": [
       "TRUE"
      ],
      "text/plain": [
       "[1] TRUE"
      ]
     },
     "metadata": {},
     "output_type": "display_data"
    }
   ],
   "source": [
    "#lets see if we can do all the kernel fitting in one loop! be ambitious! this table created here will be what we loop through for kernel fitting\n",
    "SimDates <- destination_join[,.(date= unique(date)), by=.(YearSampled)][ #make a data.table of dates in that year-\n",
    "    , DateSeqLin := ((0.25/2)/5)*.I, by=.(YearSampled)][ #then add a column of row number mulitplied by the linear survival model slope\n",
    "    , SurvWeight := DateSeqLin/(max(DateSeqLin)*1.25), by=.(YearSampled)][ #then add a column normalizing that as the survival probability, BUT if not eliminating new recruits (months 4/5) multiply the denominator by 1.25 so that nothing is an arbitrary prob=1\n",
    "    ,-\"DateSeqLin\"]\n",
    "\n",
    "#check this looks right- 2014 has fewer dates than the other years because the simulation is truncated for that time, and should see the SurvWeight column get low again when the year changes\n",
    "#SimDates[, .(.N), by = .(YearSampled)]\n",
    "#SimDates[240:250,]\n",
    "\n",
    "\n",
    "#now join with the simulation data table\n",
    "date_join <- SimDates[destination_join, on=.(date, YearSampled)][#joining with YearSampled too is redundant, can otherwise drop the column from SimDates before joining #\n",
    "    SimMonth %!in% c(4,5)] #filter out particles recruiting in April/May, they would be new recruits\n",
    " \n",
    "nrow(date_join)==nrow(SimConn[SimMonth %!in% c(4,5)]) #should be TRUE\n",
    "\n",
    "#finally, weight the sources by their number of anemones relative to the total number of anemones across the surveyed region\n",
    "total_anems <- sum(SurveyData[year==\"2014\"][,\"TotalAnems\"]) #get the total number of anems recorded for the simulation time period\n",
    "date_join <- date_join[, SourceSize := SourceTotalAnems/total_anems, by=.(Source)]\n",
    "\n"
   ]
  },
  {
   "cell_type": "code",
   "execution_count": 63,
   "metadata": {
    "scrolled": false
   },
   "outputs": [],
   "source": [
    "#save inter file\n",
    "fwrite(date_join, file=\"~/oceanography/script_output/ROMSDataTables/LongFormConnWithProbs.csv\")\n",
    "#read in the inter file instead of re-running above code\n",
    "#date_join <- fread(file=\"~/oceanography/script_output/ROMSDataTables/LongFormConnWithProbsTest.csv\")"
   ]
  },
  {
   "cell_type": "code",
   "execution_count": 61,
   "metadata": {},
   "outputs": [],
   "source": [
    "#outside of the loop, trim this to only be the destinations we sampled\n",
    "\n",
    "dest_sampled <- date_join[DestPropSamp >0]\n",
    "dest_sampled <- kernels[Year %in% c(\"2012\", \"2013\", \"2014\")][, Year:=as.integer(Year)][,c(\"Year\", \"NumParentageMatches\")][dest_sampled, on=.(Year=YearSampled)]#[\n",
    "    #, ParticleID := paste (\"P\", .I, sep = \"\", collapse = NULL)]#finally, make a new column that's the particle ID for each row\n",
    "\n",
    "#each year will require a different set of survey data, so make a list of each and index by site for fast look up\n",
    "PropSampTable <- SurveyData[PropAnemSamp >0, c(\"year\", \"site\")]#[\n",
    "    #, c(\"Year\", \"Source\", \"Dest\", \"Parentage\")] #only grab the columns we need\n",
    "#setkey(year)\n",
    "\n",
    "#make a site index table, use this for Sampled_reefs input in kernel fitting\n",
    "site_index <- unique(centroids, by=\"site\")[, \"site\"][, index := .I] #add the row number as the unique site index\n",
    "\n",
    "#make sure all sampled sites are represented by joining the survey data to the sampled simulation\n",
    "PropSampTable <- rbind(SurveyData[PropAnemSamp >0 & year %in% c(2012, 2013, 2014), c(\"year\", \"site\")][, .(Source=site, Dest=site, Year=year)][ #will join to the simulated sampling table by source and dest, so make those each a column from site and preserve the year variable as a key\n",
    "    , c(\"Year\", \"Source\", \"Dest\")][, Monsoon := \"NEM\"], SurveyData[PropAnemSamp >0 & year %in% c(2012, 2013, 2014), c(\"year\", \"site\")][, .(Source=site, Dest=site, Year=year)][ #will join to the simulated sampling table by source and dest, so make those each a column from site and preserve the year variable as a key\n",
    "    , c(\"Year\", \"Source\", \"Dest\")][, Monsoon := \"SWM\"])\n",
    "unq_survey <- unique(PropSampTable, by=c(\"Source\", \"Dest\", \"Year\", \"Monsoon\"))#, unique(PropSampTable, by=c(\"Source\", \"Dest\", \"Year\"))[, Monsoon := \"SWM\"]) #add in the diff Monsoon seasons so there are complete parentage matrices later\n",
    "add_dest <- rbind(SurveyData[year %in% c(2012, 2013, 2014) & PropAnemSamp >0][, c(\"year\", \"site\")][, Monsoon := \"NEM\"], SurveyData[year %in% c(2012, 2013, 2014) & PropAnemSamp >0][, c(\"year\", \"site\")][, Monsoon := \"SWM\"])  #what destinations were sampled, for use with unassigned table\n",
    "\n",
    "#rename the monsoon column in the full table for consistency\n",
    "setnames(dest_sampled, \"SimMonsoon\", \"Monsoon\")\n",
    "\n"
   ]
  },
  {
   "cell_type": "code",
   "execution_count": 66,
   "metadata": {
    "scrolled": true
   },
   "outputs": [
    {
     "data": {
      "text/plain": [
       "   Min. 1st Qu.  Median    Mean 3rd Qu.    Max. \n",
       " 0.4016  0.6014  0.6540  0.6547  0.7251  0.7845 "
      ]
     },
     "metadata": {},
     "output_type": "display_data"
    }
   ],
   "source": [
    "summary(dest_sampled$SurvWeight)"
   ]
  },
  {
   "cell_type": "code",
   "execution_count": null,
   "metadata": {},
   "outputs": [],
   "source": []
  },
  {
   "cell_type": "code",
   "execution_count": 73,
   "metadata": {},
   "outputs": [
    {
     "data": {
      "text/html": [
       "TRUE"
      ],
      "text/latex": [
       "TRUE"
      ],
      "text/markdown": [
       "TRUE"
      ],
      "text/plain": [
       "[1] TRUE"
      ]
     },
     "metadata": {},
     "output_type": "display_data"
    },
    {
     "data": {
      "text/html": [
       "37"
      ],
      "text/latex": [
       "37"
      ],
      "text/markdown": [
       "37"
      ],
      "text/plain": [
       "[1] 37"
      ]
     },
     "metadata": {},
     "output_type": "display_data"
    },
    {
     "data": {
      "text/html": [
       "TRUE"
      ],
      "text/latex": [
       "TRUE"
      ],
      "text/markdown": [
       "TRUE"
      ],
      "text/plain": [
       "[1] TRUE"
      ]
     },
     "metadata": {},
     "output_type": "display_data"
    },
    {
     "data": {
      "text/html": [
       "37"
      ],
      "text/latex": [
       "37"
      ],
      "text/markdown": [
       "37"
      ],
      "text/plain": [
       "[1] 37"
      ]
     },
     "metadata": {},
     "output_type": "display_data"
    },
    {
     "data": {
      "text/html": [
       "37"
      ],
      "text/latex": [
       "37"
      ],
      "text/markdown": [
       "37"
      ],
      "text/plain": [
       "[1] 37"
      ]
     },
     "metadata": {},
     "output_type": "display_data"
    }
   ],
   "source": [
    "#make an empty data.table to hold all of the simulation results\n",
    "#row_num <- 4*1000\n",
    "SimKernels <- data.table(TimeScale=character(), TimeID=character(), k=numeric(), theta=numeric(), mdd=numeric(), med=numeric(), dist90=numeric(), iteration=numeric())\n",
    "\n",
    "#pb <- txtProgressBar(min = 0, max = 10, style = 3)\n",
    "\n",
    "#StartTime <- Sys.time()\n",
    "\n",
    "\n",
    "#for(i in 1:10){\n",
    "\n",
    "#sample the particle data\n",
    "sim_sample <- dest_sampled[, .SD[sample(.N, DestNOffsAnnual, prob=SurvWeight)], by = c(\"Year\", \"Dest\")] #randomly sample rows (particles) from the table according to the survival weighting, based on the number we sampled at each site in each year of surveys\n",
    "check1 <- nrow(sim_sample)\n",
    "\n",
    "#assign parentage\n",
    "sim_parentage <- sim_sample[SourcePropSamp > 0][, .SD[sample(.N, NumParentageMatches, prob=SourcePropSamp)], by = .(Year)][#now randomly assign parentage or not parentage, based on how well we sampled the source and the number of parentage matches we had in that year\n",
    "                , Parentage := 1]\n",
    "#for faster searching, set keys\n",
    "setkey(sim_parentage, ParticleID)\n",
    "setkey(sim_sample, ParticleID)\n",
    "\n",
    "l <- list(sim_sample[ParticleID %!in% sim_parentage$ParticleID][, Parentage := 0], sim_parentage)\n",
    "sim_sample <- rbindlist(l, use.names = TRUE, fill=TRUE, idcol = NULL)[, c(\"Year\", \"Source\", \"Dest\", \"Parentage\", \"Monsoon\")] #add back in to the unassigned particles, select only the columns necessary\n",
    "\n",
    "#check results, for testing loop only\n",
    "nrow(sim_sample)==check1 #should be TRUE\n",
    "sum(sim_sample$Parentage) #should be 37\n",
    "\n",
    "#calculate the unassigned row\n",
    "unassigned <- unique(sim_sample[Parentage==0][#not counting parentage!\n",
    "    , num_sampled := .(.N), by= c(\"Dest\", \"Year\", \"Monsoon\")], by=c(\"Dest\", \"Year\", \"Monsoon\"))[, -\"Source\"]\n",
    "#add destinations not sampled in loop iteration to unassigned \n",
    "unassigned <- unassigned[add_dest, on=.(Year=year, Dest=site, Monsoon)]\n",
    "unassigned$num_sampled[is.na(unassigned$num_sampled)] <- 0\n",
    "sum(unassigned$num_sampled, na.rm=T)==check1-37 #total should be the total sampled particles minus the total assigned\n",
    "setorder(unassigned, Year, Dest)\n",
    "\n",
    "##adding in the possible sampled routes needs to happen AFTER calculating unassigned because unassigned is calculated from row counts\n",
    "sim_sample <- PropSampTable[sim_sample, on=.(Year, Source, Dest, Monsoon)]\n",
    "#check all is well- for testing loop only\n",
    "sum(sim_sample$Parentage) #should be 37\n",
    "\n",
    "#add in the routes we could have assigned given our sampling so the parentage matrix is complete\n",
    "unq_sim_sample <- unique(sim_sample, by=c(\"Source\", \"Dest\", \"Year\", \"Monsoon\"))\n",
    "\n",
    "add_routes <- unq_survey[!unq_sim_sample, on = names(unq_survey)][ #what combos are not appearing because we didn't sample particles, but the route is possible based on our survey sampling\n",
    "    , `:=`(Parentage= 0, num_sampled = 0) ] #add the parentage column \n",
    "\n",
    "#add back into the sampled simulation data\n",
    "l <- list(sim_sample, add_routes[,-\"num_sampled\"])\n",
    "sim_sample <- rbindlist(l, use.names = TRUE, fill=TRUE, idcol = NULL)\n",
    "setorder(sim_sample, Year, Source, Dest)\n",
    "sum(sim_sample$Parentage) #should be 37\n",
    "##make a parentage matrix for each year\n",
    "#mat2012 <- dcast(sim_sample[Year==2012][, Parentage := sum(Parentage), by=c(\"Year\", \"Source\", \"Dest\")], Source ~ Dest, value.var=\"Parentage\", fun.aggregate = sum)[Source %in% SurveyData[year==2012 & PropAnemSamp >0, site], -\"Source\"] \n",
    "#mat2012 <- as.matrix(rbind(mat2012, t(unique(unassigned[Year==2012][, num_sampled := sum(num_sampled), by=c(\"Year\", \"Dest\")], by=c(\"Year\", \"Dest\"))[, num_sampled]), use.names=F))\n",
    "#\n",
    "#mat2013 <- dcast(sim_sample[Year==2013][, Parentage := sum(Parentage), by=c(\"Year\", \"Source\", \"Dest\")], Source ~ Dest, value.var=\"Parentage\", fun.aggregate = sum)[Source %in% SurveyData[year==2013 & PropAnemSamp >0, site], -\"Source\"] \n",
    "#mat2013 <- as.matrix(rbind(mat2013, t(unique(unassigned[Year==2013][, num_sampled := sum(num_sampled), by=c(\"Year\", \"Dest\")], by=c(\"Year\", \"Dest\"))[, num_sampled]), use.names=F))\n",
    "#\n",
    "#mat2014 <- dcast(sim_sample[Year==2014][, Parentage := sum(Parentage), by=c(\"Year\", \"Source\", \"Dest\")], Source ~ Dest, value.var=\"Parentage\", fun.aggregate = sum)[Source %in% SurveyData[year==2014 & PropAnemSamp >0, site], -\"Source\"] \n",
    "#mat2014 <- as.matrix(rbind(mat2014, t(unique(unassigned[Year==2014][, num_sampled := sum(num_sampled), by=c(\"Year\", \"Dest\")], by=c(\"Year\", \"Dest\"))[, num_sampled]), use.names=F))\n",
    "#\n",
    "#mat2012_4 <- dcast(sim_sample[, Parentage := sum(Parentage), by=c(\"Year\", \"Source\", \"Dest\")], Source ~ Dest, value.var=\"Parentage\", fun.aggregate = sum)[Source %in% SurveyData[year %in% c(2012, 2013, 2014) & PropAnemSamp >0, site], -\"Source\"] \n",
    "#mat2012_4 <- as.matrix(rbind(mat2012_4, t(unique(unassigned[, total_sampled := sum(num_sampled), by=\"Dest\"], by=\"Dest\")[, total_sampled]), use.names=F))\n",
    "#\n",
    "#matNEM <- dcast(sim_sample[, Parentage := sum(Parentage), by=c(\"Monsoon\", \"Source\", \"Dest\")][Monsoon==\"NEM\"], Source ~ Dest, value.var=\"Parentage\", fun.aggregate = sum)[Source %in% SurveyData[year %in% c(2012, 2013, 2014) & PropAnemSamp >0, site], -\"Source\"] \n",
    "#matNEM <- as.matrix(rbind(matNEM, t(unique(unassigned[Monsoon==\"NEM\"][, total_sampled := sum(num_sampled), by=\"Dest\"], by=\"Dest\")[, total_sampled]), use.names=F))\n",
    "#\n",
    "#matSWM <- dcast(sim_sample[, Parentage := sum(Parentage), by=c(\"Monsoon\", \"Source\", \"Dest\")][Monsoon==\"SWM\"], Source ~ Dest, value.var=\"Parentage\", fun.aggregate = sum)[Source %in% SurveyData[year %in% c(2012, 2013, 2014) & PropAnemSamp >0, site], -\"Source\"] \n",
    "#matSWM <- as.matrix(rbind(matSWM, t(unique(unassigned[Monsoon==\"SWM\"][, total_sampled := sum(num_sampled), by=\"Dest\"], by=\"Dest\")[, total_sampled]), use.names=F))\n",
    "#\n",
    "#\n",
    "#\n",
    "##fit the kernels\n",
    "#x <- list(Distances=Distances, Assignments=mat2012, Sampled_reefs=t(site_index[site %in% SurveyData[year==2012 & PropAnemSamp >0 , site], index]),\n",
    "#                  Reef_sizes=Reef_sizes, Adult_sample_proportions=SurveyData[year==2012 & PropAnemSamp >0 , PropAnemSamp]) #put inputs into a list because that's the bbmle format\n",
    "#Sim2012Fit <- suppressWarnings(mle2(LL_kt_bbmle, start=list(k=-3, theta=1), lower=c(-10, 0.15), upper=c(10, 8), method=\"L-BFGS-B\", data=x, control=list(maxit=500)))\n",
    "#\n",
    "#x <- list(Distances=Distances, Assignments=mat2013, Sampled_reefs=t(site_index[site %in% SurveyData[year==2013 & PropAnemSamp >0 , site], index]),\n",
    "#                  Reef_sizes=Reef_sizes, Adult_sample_proportions=SurveyData[year==2013 & PropAnemSamp >0 , PropAnemSamp]) #put inputs into a list because that's the bbmle format\n",
    "#Sim2013Fit <- suppressWarnings(mle2(LL_kt_bbmle, start=list(k=-3, theta=1), lower=c(-10, 0.15), upper=c(10, 8), method=\"L-BFGS-B\", data=x, control=list(maxit=500)))\n",
    "#\n",
    "#x <- list(Distances=Distances, Assignments=mat2014, Sampled_reefs=t(site_index[site %in% SurveyData[year==2014 & PropAnemSamp >0 , site], index]),\n",
    "#                  Reef_sizes=Reef_sizes, Adult_sample_proportions=SurveyData[year==2014 & PropAnemSamp >0 , PropAnemSamp]) #put inputs into a list because that's the bbmle format\n",
    "#Sim2014Fit <- suppressWarnings(mle2(LL_kt_bbmle, start=list(k=-3, theta=1), lower=c(-10, 0.15), upper=c(10, 8), method=\"L-BFGS-B\", data=x, control=list(maxit=500)))\n",
    "#\n",
    "#x <- list(Distances=Distances, Assignments=mat2012_4, Sampled_reefs=t(site_index[site %in% SurveyData[year==2014 & PropAnemSamp >0 , site], index]),\n",
    "#                  Reef_sizes=Reef_sizes, Adult_sample_proportions=matrix(SurveyData[year==2014 & PropAnemSamp >0 , PropAnemSamp])) #put inputs into a list because that's the bbmle format\n",
    "#Sim2012_4Fit <- suppressWarnings(mle2(LL_kt_bbmle, start=list(k=-3, theta=1), lower=c(-10, 0.15), upper=c(10, 8), method=\"L-BFGS-B\", data=x, control=list(maxit=500)))\n",
    "#\n",
    "#x <- list(Distances=Distances, Assignments=matNEM, Sampled_reefs=t(site_index[site %in% SurveyData[year==2014 & PropAnemSamp >0 , site], index]),\n",
    "#                  Reef_sizes=Reef_sizes, Adult_sample_proportions=matrix(SurveyData[year==2014 & PropAnemSamp >0 , PropAnemSamp])) #put inputs into a list because that's the bbmle format\n",
    "#SimNEMFit <- suppressWarnings(mle2(LL_kt_bbmle, start=list(k=-3, theta=1), lower=c(-10, 0.15), upper=c(10, 8), method=\"L-BFGS-B\", data=x, control=list(maxit=500)))\n",
    "#\n",
    "#x <- list(Distances=Distances, Assignments=matSWM, Sampled_reefs=t(site_index[site %in% SurveyData[year==2014 & PropAnemSamp >0 , site], index]),\n",
    "#                  Reef_sizes=Reef_sizes, Adult_sample_proportions=matrix(SurveyData[year==2014 & PropAnemSamp >0 , PropAnemSamp])) #put inputs into a list because that's the bbmle format\n",
    "#SimSWMFit <- suppressWarnings(mle2(LL_kt_bbmle, start=list(k=-3, theta=1), lower=c(-10, 0.15), upper=c(10, 8), method=\"L-BFGS-B\", data=x, control=list(maxit=500)))\n",
    "#\n",
    "#\n",
    "##store data from the fits in intermeadiate table, then append to master\n",
    "#SimKernels_int <- data.table(TimeScale=character(), TimeID=character(), k=numeric(), theta=numeric(), mdd=numeric(), med=numeric(), dist90=numeric(), iteration=numeric())[1:6]\n",
    "#\n",
    "#BestK2012 <- as.numeric(coef(Sim2012Fit)[1])\n",
    "#BestTheta2012 <- as.numeric(coef(Sim2012Fit)[2])\n",
    "#MDD2012 <- as.numeric(cubintegrate(integrate_kernel_sum1, lower = 0, upper = Inf, k=BestK2012, theta=BestTheta2012, , method = \"pcubature\")$integral)\n",
    "#k_eval <- BestK2012\n",
    "#theta_eval <- BestTheta2012\n",
    "#Med2012  <- round(nleqslv(x = 7, fn = cdf_solve)$x, 2) \n",
    "#Dist90_2012 <- round(nleqslv(x = 7, fn = cdf_solve90)$x, 2)\n",
    "#\n",
    "#SimKernels_int$TimeScale[1] <- \"annual\"\n",
    "#SimKernels_int$TimeID[1] <- \"2012\"\n",
    "#SimKernels_int$k[1] <-  BestK2012\n",
    "#SimKernels_int$theta[1] <- BestTheta2012\n",
    "#SimKernels_int$mdd[1] <- MDD2012\n",
    "#SimKernels_int$med[1] <- Med2012\n",
    "#SimKernels_int$dist90[1] <- Dist90_2012\n",
    "#SimKernels_int$iteration[1] <- i\n",
    "#\n",
    "#BestK2013 <- as.numeric(coef(Sim2013Fit)[1])\n",
    "#BestTheta2013 <- as.numeric(coef(Sim2013Fit)[2])\n",
    "#MDD2013 <- as.numeric(cubintegrate(integrate_kernel_sum1, lower = 0, upper = Inf, k=BestK2013, theta=BestTheta2013, , method = \"pcubature\")$integral)\n",
    "#k_eval <- BestK2013\n",
    "#theta_eval <- BestTheta2013\n",
    "#Med2013  <- round(nleqslv(x = 7, fn = cdf_solve)$x, 2) \n",
    "#Dist90_2013 <- round(nleqslv(x = 7, fn = cdf_solve90)$x, 2)\n",
    "#\n",
    "#SimKernels_int$TimeScale[2] <- \"annual\"\n",
    "#SimKernels_int$TimeID[2] <- \"2013\"\n",
    "#SimKernels_int$k[2] <-  BestK2013\n",
    "#SimKernels_int$theta[2] <- BestTheta2013\n",
    "#SimKernels_int$mdd[2] <- MDD2013\n",
    "#SimKernels_int$med[2] <- Med2013\n",
    "#SimKernels_int$dist90[2] <- Dist90_2013\n",
    "#SimKernels_int$iteration[2] <- i\n",
    "#\n",
    "#BestK2014 <- as.numeric(coef(Sim2014Fit)[1])\n",
    "#BestTheta2014 <- as.numeric(coef(Sim2014Fit)[2])\n",
    "#MDD2014 <- as.numeric(cubintegrate(integrate_kernel_sum1, lower = 0, upper = Inf, k=BestK2014, theta=BestTheta2014, , method = \"pcubature\")$integral)\n",
    "#k_eval <- BestK2014\n",
    "#theta_eval <- BestTheta2014\n",
    "#Med2014  <- round(nleqslv(x = 7, fn = cdf_solve)$x, 2) \n",
    "#Dist90_2014 <- round(nleqslv(x = 7, fn = cdf_solve90)$x, 2)\n",
    "#\n",
    "#SimKernels_int$TimeScale[3] <- \"annual\"\n",
    "#SimKernels_int$TimeID[3] <- \"2014\"\n",
    "#SimKernels_int$k[3] <-  BestK2014\n",
    "#SimKernels_int$theta[3] <- BestTheta2014\n",
    "#SimKernels_int$mdd[3] <- MDD2014\n",
    "#SimKernels_int$med[3] <- Med2014\n",
    "#SimKernels_int$dist90[3] <- Dist90_2014\n",
    "#SimKernels_int$iteration[3] <- i\n",
    "#\n",
    "#BestK2012_4 <- as.numeric(coef(Sim2012_4Fit)[1])\n",
    "#BestTheta2012_4 <- as.numeric(coef(Sim2012_4Fit)[2])\n",
    "#MDD2012_4 <- as.numeric(cubintegrate(integrate_kernel_sum1, lower = 0, upper = Inf, k=BestK2012_4, theta=BestTheta2012_4, , method = \"pcubature\")$integral)\n",
    "#k_eval <- BestK2012_4\n",
    "#theta_eval <- BestTheta2012_4\n",
    "#Med2012_4  <- round(nleqslv(x = 7, fn = cdf_solve)$x, 2) \n",
    "#Dist90_2012_4 <- round(nleqslv(x = 7, fn = cdf_solve90)$x, 2)\n",
    "#\n",
    "#SimKernels_int$TimeScale[4] <- \"interannual\"\n",
    "#SimKernels_int$TimeID[4] <- \"2012-4\"\n",
    "#SimKernels_int$k[4] <-  BestK2012_4\n",
    "#SimKernels_int$theta[4] <- BestTheta2012_4\n",
    "#SimKernels_int$mdd[4] <- MDD2012_4\n",
    "#SimKernels_int$med[4] <- Med2012_4\n",
    "#SimKernels_int$dist90[4] <- Dist90_2012_4\n",
    "#SimKernels_int$iteration[4] <- i\n",
    "#\n",
    "#BestKNEM <- as.numeric(coef(SimNEMFit)[1])\n",
    "#BestThetaNEM <- as.numeric(coef(SimNEMFit)[2])\n",
    "#MDDNEM <- as.numeric(cubintegrate(integrate_kernel_sum1, lower = 0, upper = Inf, k=BestKNEM, theta=BestThetaNEM, , method = \"pcubature\")$integral)\n",
    "#k_eval <- BestKNEM\n",
    "#theta_eval <- BestThetaNEM\n",
    "#MedNEM  <- round(nleqslv(x = 7, fn = cdf_solve)$x, 2) \n",
    "#Dist90_NEM <- round(nleqslv(x = 7, fn = cdf_solve90)$x, 2)\n",
    "#\n",
    "#SimKernels_int$TimeScale[5] <- \"season\"\n",
    "#SimKernels_int$TimeID[5] <- \"NEM\"\n",
    "#SimKernels_int$k[5] <-  BestKNEM\n",
    "#SimKernels_int$theta[5] <- BestThetaNEM\n",
    "#SimKernels_int$mdd[5] <- MDDNEM\n",
    "#SimKernels_int$med[5] <- MedNEM\n",
    "#SimKernels_int$dist90[5] <- Dist90_NEM\n",
    "#SimKernels_int$iteration[5] <- i\n",
    "#\n",
    "#BestKSWM <- as.numeric(coef(SimSWMFit)[1])\n",
    "#BestThetaSWM <- as.numeric(coef(SimSWMFit)[2])\n",
    "#MDDSWM <- as.numeric(cubintegrate(integrate_kernel_sum1, lower = 0, upper = Inf, k=BestKSWM, theta=BestThetaSWM, , method = \"pcubature\")$integral)\n",
    "#k_eval <- BestKSWM\n",
    "#theta_eval <- BestThetaSWM\n",
    "#MedSWM  <- round(nleqslv(x = 7, fn = cdf_solve)$x, 2) \n",
    "#Dist90_SWM <- round(nleqslv(x = 7, fn = cdf_solve90)$x, 2)\n",
    "#\n",
    "#SimKernels_int$TimeScale[6] <- \"season\"\n",
    "#SimKernels_int$TimeID[6] <- \"SWM\"\n",
    "#SimKernels_int$k[6] <-  BestKSWM\n",
    "#SimKernels_int$theta[6] <- BestThetaSWM\n",
    "#SimKernels_int$mdd[6] <- MDDSWM\n",
    "#SimKernels_int$med[6] <- MedSWM\n",
    "#SimKernels_int$dist90[6] <- Dist90_SWM\n",
    "#SimKernels_int$iteration[6] <- i\n",
    "#\n",
    "#l <- list(SimKernels, SimKernels_int)\n",
    "#SimKernels <- rbindlist(l, use.names = TRUE, fill=TRUE, idcol = FALSE)\n",
    "#setTxtProgressBar(pb, i)\n",
    "#    \n",
    "#    }\n",
    "#close(pb)\n",
    "#EndTime <- Sys.time()\n",
    "#EndTime-StartTime\n",
    "#\n",
    "#\n",
    "##write.csv(SimKernels, file=\"~/oceanography/script_output/KernelFits/Adjust_Survival_NoRecentRecruits/\", row.names=F)\n",
    "\n"
   ]
  },
  {
   "cell_type": "markdown",
   "metadata": {},
   "source": [
    "__Next step is to figure out what prop of the \"other\" and \"CAI\" source particles to sample, then sample them within the loop as well__"
   ]
  },
  {
   "cell_type": "code",
   "execution_count": 24,
   "metadata": {},
   "outputs": [
    {
     "data": {
      "text/html": [
       "65"
      ],
      "text/latex": [
       "65"
      ],
      "text/markdown": [
       "65"
      ],
      "text/plain": [
       "[1] 65"
      ]
     },
     "metadata": {},
     "output_type": "display_data"
    },
    {
     "data": {
      "text/html": [
       "178"
      ],
      "text/latex": [
       "178"
      ],
      "text/markdown": [
       "178"
      ],
      "text/plain": [
       "[1] 178"
      ]
     },
     "metadata": {},
     "output_type": "display_data"
    },
    {
     "data": {
      "text/html": [
       "222"
      ],
      "text/latex": [
       "222"
      ],
      "text/markdown": [
       "222"
      ],
      "text/plain": [
       "[1] 222"
      ]
     },
     "metadata": {},
     "output_type": "display_data"
    }
   ],
   "source": [
    "sum(mat2012)\n",
    "sum(mat2013)\n",
    "sum(mat2014)"
   ]
  },
  {
   "cell_type": "code",
   "execution_count": 83,
   "metadata": {},
   "outputs": [
    {
     "data": {
      "text/html": [
       "10"
      ],
      "text/latex": [
       "10"
      ],
      "text/markdown": [
       "10"
      ],
      "text/plain": [
       "[1] 10"
      ]
     },
     "metadata": {},
     "output_type": "display_data"
    }
   ],
   "source": [
    "test <- sim_sample[Year==2012][,  TotalPar :=sum(Parentage), by=c(\"Source\", \"Dest\")][]#[, Parentage])\n",
    "sum(test$TotalPar)"
   ]
  },
  {
   "cell_type": "code",
   "execution_count": 67,
   "metadata": {},
   "outputs": [
    {
     "data": {
      "text/html": [
       "<table>\n",
       "<thead><tr><th scope=col>Year</th><th scope=col>Source</th><th scope=col>Dest</th><th scope=col>Monsoon</th><th scope=col>Parentage</th></tr></thead>\n",
       "<tbody>\n",
       "\t<tr><td>2013             </td><td>Caridad Proper   </td><td>Magbangon        </td><td>NEM              </td><td>1                </td></tr>\n",
       "\t<tr><td>2013             </td><td>Poroc San Flower </td><td>Elementary School</td><td>NEM              </td><td>1                </td></tr>\n",
       "\t<tr><td>2013             </td><td>Sitio Baybayon   </td><td>Sitio Baybayon   </td><td>NEM              </td><td>1                </td></tr>\n",
       "\t<tr><td>2013             </td><td>Sitio Baybayon   </td><td>Sitio Baybayon   </td><td>NEM              </td><td>1                </td></tr>\n",
       "\t<tr><td>2013             </td><td>Elementary School</td><td>Magbangon        </td><td>NEM              </td><td>1                </td></tr>\n",
       "\t<tr><td>2013             </td><td>Hicgop South     </td><td>Hicgop South     </td><td>NEM              </td><td>1                </td></tr>\n",
       "\t<tr><td>2013             </td><td>Tamakin Dacot    </td><td>Tamakin Dacot    </td><td>NEM              </td><td>1                </td></tr>\n",
       "\t<tr><td>2013             </td><td>Sitio Lonas      </td><td>Elementary School</td><td>NEM              </td><td>1                </td></tr>\n",
       "\t<tr><td>2013             </td><td>Caridad Cemetery </td><td>Elementary School</td><td>NEM              </td><td>1                </td></tr>\n",
       "\t<tr><td>2013             </td><td>Sitio Lonas      </td><td>Elementary School</td><td>NEM              </td><td>1                </td></tr>\n",
       "\t<tr><td>2013             </td><td>Sitio Baybayon   </td><td>Magbangon        </td><td>NEM              </td><td>1                </td></tr>\n",
       "\t<tr><td>2013             </td><td>Sitio Lonas      </td><td>Elementary School</td><td>NEM              </td><td>1                </td></tr>\n",
       "\t<tr><td>2013             </td><td>Wangag           </td><td>Sitio Baybayon   </td><td>NEM              </td><td>1                </td></tr>\n",
       "\t<tr><td>2013             </td><td>Sitio Lonas      </td><td>Hicgop South     </td><td>NEM              </td><td>1                </td></tr>\n",
       "\t<tr><td>2013             </td><td>Wangag           </td><td>Palanas          </td><td>NEM              </td><td>1                </td></tr>\n",
       "\t<tr><td>2013             </td><td>Palanas          </td><td>Palanas          </td><td>NEM              </td><td>1                </td></tr>\n",
       "\t<tr><td>2013             </td><td>Palanas          </td><td>Magbangon        </td><td>NEM              </td><td>1                </td></tr>\n",
       "\t<tr><td>2013             </td><td>Sitio Lonas      </td><td>Hicgop South     </td><td>NEM              </td><td>1                </td></tr>\n",
       "\t<tr><td>2013             </td><td>Elementary School</td><td>Elementary School</td><td>NEM              </td><td>1                </td></tr>\n",
       "\t<tr><td>2013             </td><td>Wangag           </td><td>Magbangon        </td><td>NEM              </td><td>1                </td></tr>\n",
       "\t<tr><td>2013             </td><td>Sitio Baybayon   </td><td>Cabatoan         </td><td>NEM              </td><td>1                </td></tr>\n",
       "\t<tr><td>2014             </td><td>Magbangon        </td><td>Wangag           </td><td>NEM              </td><td>1                </td></tr>\n",
       "\t<tr><td>2014             </td><td>Sitio Tugas      </td><td>Sitio Baybayon   </td><td>NEM              </td><td>1                </td></tr>\n",
       "\t<tr><td>2014             </td><td>Cabatoan         </td><td>Wangag           </td><td>NEM              </td><td>1                </td></tr>\n",
       "\t<tr><td>2014             </td><td>Caridad Cemetery </td><td>Wangag           </td><td>NEM              </td><td>1                </td></tr>\n",
       "\t<tr><td>2014             </td><td>Magbangon        </td><td>Wangag           </td><td>NEM              </td><td>1                </td></tr>\n",
       "\t<tr><td>2014             </td><td>Sitio Baybayon   </td><td>Wangag           </td><td>NEM              </td><td>1                </td></tr>\n",
       "\t<tr><td>2014             </td><td>Wangag           </td><td>Sitio Baybayon   </td><td>NEM              </td><td>1                </td></tr>\n",
       "\t<tr><td>2014             </td><td>Palanas          </td><td>Palanas          </td><td>NEM              </td><td>1                </td></tr>\n",
       "\t<tr><td>2014             </td><td>Sitio Baybayon   </td><td>Sitio Baybayon   </td><td>NEM              </td><td>1                </td></tr>\n",
       "\t<tr><td>2014             </td><td>Sitio Baybayon   </td><td>Magbangon        </td><td>NEM              </td><td>1                </td></tr>\n",
       "\t<tr><td>2014             </td><td>Wangag           </td><td>Magbangon        </td><td>NEM              </td><td>1                </td></tr>\n",
       "\t<tr><td>2014             </td><td>Wangag           </td><td>Magbangon        </td><td>NEM              </td><td>1                </td></tr>\n",
       "\t<tr><td>2012             </td><td>Poroc San Flower </td><td>Poroc San Flower </td><td>NEM              </td><td>1                </td></tr>\n",
       "\t<tr><td>2012             </td><td>Poroc San Flower </td><td>Poroc Rose       </td><td>NEM              </td><td>1                </td></tr>\n",
       "\t<tr><td>2012             </td><td>Wangag           </td><td>Magbangon        </td><td>NEM              </td><td>1                </td></tr>\n",
       "\t<tr><td>2014             </td><td>Sitio Tugas      </td><td>Magbangon        </td><td>SWM              </td><td>1                </td></tr>\n",
       "</tbody>\n",
       "</table>\n"
      ],
      "text/latex": [
       "\\begin{tabular}{r|lllll}\n",
       " Year & Source & Dest & Monsoon & Parentage\\\\\n",
       "\\hline\n",
       "\t 2013              & Caridad Proper    & Magbangon         & NEM               & 1                \\\\\n",
       "\t 2013              & Poroc San Flower  & Elementary School & NEM               & 1                \\\\\n",
       "\t 2013              & Sitio Baybayon    & Sitio Baybayon    & NEM               & 1                \\\\\n",
       "\t 2013              & Sitio Baybayon    & Sitio Baybayon    & NEM               & 1                \\\\\n",
       "\t 2013              & Elementary School & Magbangon         & NEM               & 1                \\\\\n",
       "\t 2013              & Hicgop South      & Hicgop South      & NEM               & 1                \\\\\n",
       "\t 2013              & Tamakin Dacot     & Tamakin Dacot     & NEM               & 1                \\\\\n",
       "\t 2013              & Sitio Lonas       & Elementary School & NEM               & 1                \\\\\n",
       "\t 2013              & Caridad Cemetery  & Elementary School & NEM               & 1                \\\\\n",
       "\t 2013              & Sitio Lonas       & Elementary School & NEM               & 1                \\\\\n",
       "\t 2013              & Sitio Baybayon    & Magbangon         & NEM               & 1                \\\\\n",
       "\t 2013              & Sitio Lonas       & Elementary School & NEM               & 1                \\\\\n",
       "\t 2013              & Wangag            & Sitio Baybayon    & NEM               & 1                \\\\\n",
       "\t 2013              & Sitio Lonas       & Hicgop South      & NEM               & 1                \\\\\n",
       "\t 2013              & Wangag            & Palanas           & NEM               & 1                \\\\\n",
       "\t 2013              & Palanas           & Palanas           & NEM               & 1                \\\\\n",
       "\t 2013              & Palanas           & Magbangon         & NEM               & 1                \\\\\n",
       "\t 2013              & Sitio Lonas       & Hicgop South      & NEM               & 1                \\\\\n",
       "\t 2013              & Elementary School & Elementary School & NEM               & 1                \\\\\n",
       "\t 2013              & Wangag            & Magbangon         & NEM               & 1                \\\\\n",
       "\t 2013              & Sitio Baybayon    & Cabatoan          & NEM               & 1                \\\\\n",
       "\t 2014              & Magbangon         & Wangag            & NEM               & 1                \\\\\n",
       "\t 2014              & Sitio Tugas       & Sitio Baybayon    & NEM               & 1                \\\\\n",
       "\t 2014              & Cabatoan          & Wangag            & NEM               & 1                \\\\\n",
       "\t 2014              & Caridad Cemetery  & Wangag            & NEM               & 1                \\\\\n",
       "\t 2014              & Magbangon         & Wangag            & NEM               & 1                \\\\\n",
       "\t 2014              & Sitio Baybayon    & Wangag            & NEM               & 1                \\\\\n",
       "\t 2014              & Wangag            & Sitio Baybayon    & NEM               & 1                \\\\\n",
       "\t 2014              & Palanas           & Palanas           & NEM               & 1                \\\\\n",
       "\t 2014              & Sitio Baybayon    & Sitio Baybayon    & NEM               & 1                \\\\\n",
       "\t 2014              & Sitio Baybayon    & Magbangon         & NEM               & 1                \\\\\n",
       "\t 2014              & Wangag            & Magbangon         & NEM               & 1                \\\\\n",
       "\t 2014              & Wangag            & Magbangon         & NEM               & 1                \\\\\n",
       "\t 2012              & Poroc San Flower  & Poroc San Flower  & NEM               & 1                \\\\\n",
       "\t 2012              & Poroc San Flower  & Poroc Rose        & NEM               & 1                \\\\\n",
       "\t 2012              & Wangag            & Magbangon         & NEM               & 1                \\\\\n",
       "\t 2014              & Sitio Tugas       & Magbangon         & SWM               & 1                \\\\\n",
       "\\end{tabular}\n"
      ],
      "text/markdown": [
       "\n",
       "| Year | Source | Dest | Monsoon | Parentage |\n",
       "|---|---|---|---|---|\n",
       "| 2013              | Caridad Proper    | Magbangon         | NEM               | 1                 |\n",
       "| 2013              | Poroc San Flower  | Elementary School | NEM               | 1                 |\n",
       "| 2013              | Sitio Baybayon    | Sitio Baybayon    | NEM               | 1                 |\n",
       "| 2013              | Sitio Baybayon    | Sitio Baybayon    | NEM               | 1                 |\n",
       "| 2013              | Elementary School | Magbangon         | NEM               | 1                 |\n",
       "| 2013              | Hicgop South      | Hicgop South      | NEM               | 1                 |\n",
       "| 2013              | Tamakin Dacot     | Tamakin Dacot     | NEM               | 1                 |\n",
       "| 2013              | Sitio Lonas       | Elementary School | NEM               | 1                 |\n",
       "| 2013              | Caridad Cemetery  | Elementary School | NEM               | 1                 |\n",
       "| 2013              | Sitio Lonas       | Elementary School | NEM               | 1                 |\n",
       "| 2013              | Sitio Baybayon    | Magbangon         | NEM               | 1                 |\n",
       "| 2013              | Sitio Lonas       | Elementary School | NEM               | 1                 |\n",
       "| 2013              | Wangag            | Sitio Baybayon    | NEM               | 1                 |\n",
       "| 2013              | Sitio Lonas       | Hicgop South      | NEM               | 1                 |\n",
       "| 2013              | Wangag            | Palanas           | NEM               | 1                 |\n",
       "| 2013              | Palanas           | Palanas           | NEM               | 1                 |\n",
       "| 2013              | Palanas           | Magbangon         | NEM               | 1                 |\n",
       "| 2013              | Sitio Lonas       | Hicgop South      | NEM               | 1                 |\n",
       "| 2013              | Elementary School | Elementary School | NEM               | 1                 |\n",
       "| 2013              | Wangag            | Magbangon         | NEM               | 1                 |\n",
       "| 2013              | Sitio Baybayon    | Cabatoan          | NEM               | 1                 |\n",
       "| 2014              | Magbangon         | Wangag            | NEM               | 1                 |\n",
       "| 2014              | Sitio Tugas       | Sitio Baybayon    | NEM               | 1                 |\n",
       "| 2014              | Cabatoan          | Wangag            | NEM               | 1                 |\n",
       "| 2014              | Caridad Cemetery  | Wangag            | NEM               | 1                 |\n",
       "| 2014              | Magbangon         | Wangag            | NEM               | 1                 |\n",
       "| 2014              | Sitio Baybayon    | Wangag            | NEM               | 1                 |\n",
       "| 2014              | Wangag            | Sitio Baybayon    | NEM               | 1                 |\n",
       "| 2014              | Palanas           | Palanas           | NEM               | 1                 |\n",
       "| 2014              | Sitio Baybayon    | Sitio Baybayon    | NEM               | 1                 |\n",
       "| 2014              | Sitio Baybayon    | Magbangon         | NEM               | 1                 |\n",
       "| 2014              | Wangag            | Magbangon         | NEM               | 1                 |\n",
       "| 2014              | Wangag            | Magbangon         | NEM               | 1                 |\n",
       "| 2012              | Poroc San Flower  | Poroc San Flower  | NEM               | 1                 |\n",
       "| 2012              | Poroc San Flower  | Poroc Rose        | NEM               | 1                 |\n",
       "| 2012              | Wangag            | Magbangon         | NEM               | 1                 |\n",
       "| 2014              | Sitio Tugas       | Magbangon         | SWM               | 1                 |\n",
       "\n"
      ],
      "text/plain": [
       "   Year Source            Dest              Monsoon Parentage\n",
       "1  2013 Caridad Proper    Magbangon         NEM     1        \n",
       "2  2013 Poroc San Flower  Elementary School NEM     1        \n",
       "3  2013 Sitio Baybayon    Sitio Baybayon    NEM     1        \n",
       "4  2013 Sitio Baybayon    Sitio Baybayon    NEM     1        \n",
       "5  2013 Elementary School Magbangon         NEM     1        \n",
       "6  2013 Hicgop South      Hicgop South      NEM     1        \n",
       "7  2013 Tamakin Dacot     Tamakin Dacot     NEM     1        \n",
       "8  2013 Sitio Lonas       Elementary School NEM     1        \n",
       "9  2013 Caridad Cemetery  Elementary School NEM     1        \n",
       "10 2013 Sitio Lonas       Elementary School NEM     1        \n",
       "11 2013 Sitio Baybayon    Magbangon         NEM     1        \n",
       "12 2013 Sitio Lonas       Elementary School NEM     1        \n",
       "13 2013 Wangag            Sitio Baybayon    NEM     1        \n",
       "14 2013 Sitio Lonas       Hicgop South      NEM     1        \n",
       "15 2013 Wangag            Palanas           NEM     1        \n",
       "16 2013 Palanas           Palanas           NEM     1        \n",
       "17 2013 Palanas           Magbangon         NEM     1        \n",
       "18 2013 Sitio Lonas       Hicgop South      NEM     1        \n",
       "19 2013 Elementary School Elementary School NEM     1        \n",
       "20 2013 Wangag            Magbangon         NEM     1        \n",
       "21 2013 Sitio Baybayon    Cabatoan          NEM     1        \n",
       "22 2014 Magbangon         Wangag            NEM     1        \n",
       "23 2014 Sitio Tugas       Sitio Baybayon    NEM     1        \n",
       "24 2014 Cabatoan          Wangag            NEM     1        \n",
       "25 2014 Caridad Cemetery  Wangag            NEM     1        \n",
       "26 2014 Magbangon         Wangag            NEM     1        \n",
       "27 2014 Sitio Baybayon    Wangag            NEM     1        \n",
       "28 2014 Wangag            Sitio Baybayon    NEM     1        \n",
       "29 2014 Palanas           Palanas           NEM     1        \n",
       "30 2014 Sitio Baybayon    Sitio Baybayon    NEM     1        \n",
       "31 2014 Sitio Baybayon    Magbangon         NEM     1        \n",
       "32 2014 Wangag            Magbangon         NEM     1        \n",
       "33 2014 Wangag            Magbangon         NEM     1        \n",
       "34 2012 Poroc San Flower  Poroc San Flower  NEM     1        \n",
       "35 2012 Poroc San Flower  Poroc Rose        NEM     1        \n",
       "36 2012 Wangag            Magbangon         NEM     1        \n",
       "37 2014 Sitio Tugas       Magbangon         SWM     1        "
      ]
     },
     "metadata": {},
     "output_type": "display_data"
    }
   ],
   "source": [
    "sim_sample[, c(\"Year\", \"Source\", \"Dest\", \"Monsoon\", \"Parentage\")][order(Monsoon)]"
   ]
  },
  {
   "cell_type": "code",
   "execution_count": null,
   "metadata": {},
   "outputs": [],
   "source": []
  },
  {
   "cell_type": "code",
   "execution_count": 21,
   "metadata": {},
   "outputs": [
    {
     "data": {
      "text/html": [
       "<table>\n",
       "<thead><tr><th scope=col>Year</th><th scope=col>Source</th><th scope=col>Dest</th><th scope=col>Monsoon</th><th scope=col>Parentage</th></tr></thead>\n",
       "<tbody>\n",
       "\t<tr><td>2013             </td><td>Cabatoan         </td><td>Cabatoan         </td><td>NEM              </td><td> 3               </td></tr>\n",
       "\t<tr><td>2013             </td><td>Cabatoan         </td><td>Cabatoan         </td><td>SWM              </td><td> 3               </td></tr>\n",
       "\t<tr><td>2013             </td><td>Caridad Cemetery </td><td>Caridad Cemetery </td><td>NEM              </td><td> 0               </td></tr>\n",
       "\t<tr><td>2013             </td><td>Caridad Cemetery </td><td>Caridad Cemetery </td><td>SWM              </td><td> 0               </td></tr>\n",
       "\t<tr><td>2013             </td><td>Caridad Cemetery </td><td>Magbangon        </td><td>NEM              </td><td> 1               </td></tr>\n",
       "\t<tr><td>2013             </td><td>Caridad Cemetery </td><td>Palanas          </td><td>SWM              </td><td> 1               </td></tr>\n",
       "\t<tr><td>2013             </td><td>Caridad Proper   </td><td>Caridad Proper   </td><td>NEM              </td><td> 0               </td></tr>\n",
       "\t<tr><td>2013             </td><td>Caridad Proper   </td><td>Caridad Proper   </td><td>SWM              </td><td> 0               </td></tr>\n",
       "\t<tr><td>2013             </td><td>Elementary School</td><td>Elementary School</td><td>NEM              </td><td> 2               </td></tr>\n",
       "\t<tr><td>2013             </td><td>Elementary School</td><td>Elementary School</td><td>SWM              </td><td> 2               </td></tr>\n",
       "\t<tr><td>2013             </td><td>Elementary School</td><td>Hicgop South     </td><td>NEM              </td><td> 0               </td></tr>\n",
       "\t<tr><td>2013             </td><td>Elementary School</td><td>Wangag           </td><td>NEM              </td><td> 1               </td></tr>\n",
       "\t<tr><td>2013             </td><td>Gabas            </td><td>Poroc San Flower </td><td>NEM              </td><td> 0               </td></tr>\n",
       "\t<tr><td>2013             </td><td>Gabas            </td><td>Visca            </td><td>NEM              </td><td> 0               </td></tr>\n",
       "\t<tr><td>2013             </td><td>Haina            </td><td>Haina            </td><td>NEM              </td><td> 0               </td></tr>\n",
       "\t<tr><td>2013             </td><td>Haina            </td><td>Haina            </td><td>SWM              </td><td> 0               </td></tr>\n",
       "\t<tr><td>2013             </td><td>Hicgop South     </td><td>Cabatoan         </td><td>NEM              </td><td> 0               </td></tr>\n",
       "\t<tr><td>2013             </td><td>Hicgop South     </td><td>Haina            </td><td>NEM              </td><td> 0               </td></tr>\n",
       "\t<tr><td>2013             </td><td>Hicgop South     </td><td>Hicgop South     </td><td>NEM              </td><td> 0               </td></tr>\n",
       "\t<tr><td>2013             </td><td>Hicgop South     </td><td>Hicgop South     </td><td>SWM              </td><td> 0               </td></tr>\n",
       "\t<tr><td>2013             </td><td>Magbangon        </td><td>Magbangon        </td><td>NEM              </td><td> 0               </td></tr>\n",
       "\t<tr><td>2013             </td><td>Magbangon        </td><td>Magbangon        </td><td>SWM              </td><td> 0               </td></tr>\n",
       "\t<tr><td>2013             </td><td>Magbangon        </td><td>Wangag           </td><td>NEM              </td><td>56               </td></tr>\n",
       "\t<tr><td>2013             </td><td>Magbangon        </td><td>Wangag           </td><td>NEM              </td><td>56               </td></tr>\n",
       "\t<tr><td>2013             </td><td>Other            </td><td>Caridad Cemetery </td><td>NEM              </td><td> 0               </td></tr>\n",
       "\t<tr><td>2013             </td><td>Other            </td><td>Elementary School</td><td>NEM              </td><td> 0               </td></tr>\n",
       "\t<tr><td>2013             </td><td>Other            </td><td>Elementary School</td><td>NEM              </td><td> 0               </td></tr>\n",
       "\t<tr><td>2013             </td><td>Other            </td><td>Elementary School</td><td>NEM              </td><td> 0               </td></tr>\n",
       "\t<tr><td>2013             </td><td>Other            </td><td>Elementary School</td><td>NEM              </td><td> 0               </td></tr>\n",
       "\t<tr><td>2013             </td><td>Other            </td><td>Elementary School</td><td>NEM              </td><td> 0               </td></tr>\n",
       "\t<tr><td>...</td><td>...</td><td>...</td><td>...</td><td>...</td></tr>\n",
       "\t<tr><td>2013             </td><td>Sitio Baybayon   </td><td>Sitio Baybayon   </td><td>SWM              </td><td> 2               </td></tr>\n",
       "\t<tr><td>2013             </td><td>Sitio Baybayon   </td><td>Wangag           </td><td>NEM              </td><td>80               </td></tr>\n",
       "\t<tr><td>2013             </td><td>Sitio Baybayon   </td><td>Wangag           </td><td>NEM              </td><td>80               </td></tr>\n",
       "\t<tr><td>2013             </td><td>Sitio Baybayon   </td><td>Wangag           </td><td>NEM              </td><td>80               </td></tr>\n",
       "\t<tr><td>2013             </td><td>Sitio Baybayon   </td><td>Wangag           </td><td>NEM              </td><td>80               </td></tr>\n",
       "\t<tr><td>2013             </td><td>Sitio Baybayon   </td><td>Wangag           </td><td>NEM              </td><td>80               </td></tr>\n",
       "\t<tr><td>2013             </td><td>Sitio Lonas      </td><td>Caridad Proper   </td><td>NEM              </td><td> 1               </td></tr>\n",
       "\t<tr><td>2013             </td><td>Sitio Lonas      </td><td>Sitio Lonas      </td><td>NEM              </td><td> 0               </td></tr>\n",
       "\t<tr><td>2013             </td><td>Sitio Lonas      </td><td>Sitio Lonas      </td><td>SWM              </td><td> 0               </td></tr>\n",
       "\t<tr><td>2013             </td><td>Sitio Tugas      </td><td>Elementary School</td><td>NEM              </td><td> 8               </td></tr>\n",
       "\t<tr><td>2013             </td><td>Sitio Tugas      </td><td>Elementary School</td><td>NEM              </td><td> 8               </td></tr>\n",
       "\t<tr><td>2013             </td><td>Sitio Tugas      </td><td>Sitio Tugas      </td><td>NEM              </td><td> 0               </td></tr>\n",
       "\t<tr><td>2013             </td><td>Sitio Tugas      </td><td>Sitio Tugas      </td><td>SWM              </td><td> 0               </td></tr>\n",
       "\t<tr><td>2013             </td><td>Tamakin Dacot    </td><td>Haina            </td><td>NEM              </td><td>16               </td></tr>\n",
       "\t<tr><td>2013             </td><td>Tamakin Dacot    </td><td>Haina            </td><td>NEM              </td><td>16               </td></tr>\n",
       "\t<tr><td>2013             </td><td>Tamakin Dacot    </td><td>Haina            </td><td>NEM              </td><td>16               </td></tr>\n",
       "\t<tr><td>2013             </td><td>Tamakin Dacot    </td><td>Tamakin Dacot    </td><td>NEM              </td><td> 0               </td></tr>\n",
       "\t<tr><td>2013             </td><td>Tamakin Dacot    </td><td>Tamakin Dacot    </td><td>SWM              </td><td> 0               </td></tr>\n",
       "\t<tr><td>2013             </td><td>Visca            </td><td>Haina            </td><td>NEM              </td><td> 1               </td></tr>\n",
       "\t<tr><td>2013             </td><td>Visca            </td><td>Visca            </td><td>NEM              </td><td> 0               </td></tr>\n",
       "\t<tr><td>2013             </td><td>Visca            </td><td>Visca            </td><td>SWM              </td><td> 0               </td></tr>\n",
       "\t<tr><td>2013             </td><td>Wangag           </td><td>Caridad Proper   </td><td>NEM              </td><td> 0               </td></tr>\n",
       "\t<tr><td>2013             </td><td>Wangag           </td><td>Magbangon        </td><td>NEM              </td><td> 0               </td></tr>\n",
       "\t<tr><td>2013             </td><td>Wangag           </td><td>Magbangon        </td><td>NEM              </td><td> 0               </td></tr>\n",
       "\t<tr><td>2013             </td><td>Wangag           </td><td>Sitio Baybayon   </td><td>NEM              </td><td>21               </td></tr>\n",
       "\t<tr><td>2013             </td><td>Wangag           </td><td>Sitio Baybayon   </td><td>NEM              </td><td>21               </td></tr>\n",
       "\t<tr><td>2013             </td><td>Wangag           </td><td>Sitio Baybayon   </td><td>NEM              </td><td>21               </td></tr>\n",
       "\t<tr><td>2013             </td><td>Wangag           </td><td>Sitio Baybayon   </td><td>NEM              </td><td>21               </td></tr>\n",
       "\t<tr><td>2013             </td><td>Wangag           </td><td>Wangag           </td><td>NEM              </td><td> 0               </td></tr>\n",
       "\t<tr><td>2013             </td><td>Wangag           </td><td>Wangag           </td><td>SWM              </td><td> 0               </td></tr>\n",
       "</tbody>\n",
       "</table>\n"
      ],
      "text/latex": [
       "\\begin{tabular}{r|lllll}\n",
       " Year & Source & Dest & Monsoon & Parentage\\\\\n",
       "\\hline\n",
       "\t 2013              & Cabatoan          & Cabatoan          & NEM               &  3               \\\\\n",
       "\t 2013              & Cabatoan          & Cabatoan          & SWM               &  3               \\\\\n",
       "\t 2013              & Caridad Cemetery  & Caridad Cemetery  & NEM               &  0               \\\\\n",
       "\t 2013              & Caridad Cemetery  & Caridad Cemetery  & SWM               &  0               \\\\\n",
       "\t 2013              & Caridad Cemetery  & Magbangon         & NEM               &  1               \\\\\n",
       "\t 2013              & Caridad Cemetery  & Palanas           & SWM               &  1               \\\\\n",
       "\t 2013              & Caridad Proper    & Caridad Proper    & NEM               &  0               \\\\\n",
       "\t 2013              & Caridad Proper    & Caridad Proper    & SWM               &  0               \\\\\n",
       "\t 2013              & Elementary School & Elementary School & NEM               &  2               \\\\\n",
       "\t 2013              & Elementary School & Elementary School & SWM               &  2               \\\\\n",
       "\t 2013              & Elementary School & Hicgop South      & NEM               &  0               \\\\\n",
       "\t 2013              & Elementary School & Wangag            & NEM               &  1               \\\\\n",
       "\t 2013              & Gabas             & Poroc San Flower  & NEM               &  0               \\\\\n",
       "\t 2013              & Gabas             & Visca             & NEM               &  0               \\\\\n",
       "\t 2013              & Haina             & Haina             & NEM               &  0               \\\\\n",
       "\t 2013              & Haina             & Haina             & SWM               &  0               \\\\\n",
       "\t 2013              & Hicgop South      & Cabatoan          & NEM               &  0               \\\\\n",
       "\t 2013              & Hicgop South      & Haina             & NEM               &  0               \\\\\n",
       "\t 2013              & Hicgop South      & Hicgop South      & NEM               &  0               \\\\\n",
       "\t 2013              & Hicgop South      & Hicgop South      & SWM               &  0               \\\\\n",
       "\t 2013              & Magbangon         & Magbangon         & NEM               &  0               \\\\\n",
       "\t 2013              & Magbangon         & Magbangon         & SWM               &  0               \\\\\n",
       "\t 2013              & Magbangon         & Wangag            & NEM               & 56               \\\\\n",
       "\t 2013              & Magbangon         & Wangag            & NEM               & 56               \\\\\n",
       "\t 2013              & Other             & Caridad Cemetery  & NEM               &  0               \\\\\n",
       "\t 2013              & Other             & Elementary School & NEM               &  0               \\\\\n",
       "\t 2013              & Other             & Elementary School & NEM               &  0               \\\\\n",
       "\t 2013              & Other             & Elementary School & NEM               &  0               \\\\\n",
       "\t 2013              & Other             & Elementary School & NEM               &  0               \\\\\n",
       "\t 2013              & Other             & Elementary School & NEM               &  0               \\\\\n",
       "\t ... & ... & ... & ... & ...\\\\\n",
       "\t 2013              & Sitio Baybayon    & Sitio Baybayon    & SWM               &  2               \\\\\n",
       "\t 2013              & Sitio Baybayon    & Wangag            & NEM               & 80               \\\\\n",
       "\t 2013              & Sitio Baybayon    & Wangag            & NEM               & 80               \\\\\n",
       "\t 2013              & Sitio Baybayon    & Wangag            & NEM               & 80               \\\\\n",
       "\t 2013              & Sitio Baybayon    & Wangag            & NEM               & 80               \\\\\n",
       "\t 2013              & Sitio Baybayon    & Wangag            & NEM               & 80               \\\\\n",
       "\t 2013              & Sitio Lonas       & Caridad Proper    & NEM               &  1               \\\\\n",
       "\t 2013              & Sitio Lonas       & Sitio Lonas       & NEM               &  0               \\\\\n",
       "\t 2013              & Sitio Lonas       & Sitio Lonas       & SWM               &  0               \\\\\n",
       "\t 2013              & Sitio Tugas       & Elementary School & NEM               &  8               \\\\\n",
       "\t 2013              & Sitio Tugas       & Elementary School & NEM               &  8               \\\\\n",
       "\t 2013              & Sitio Tugas       & Sitio Tugas       & NEM               &  0               \\\\\n",
       "\t 2013              & Sitio Tugas       & Sitio Tugas       & SWM               &  0               \\\\\n",
       "\t 2013              & Tamakin Dacot     & Haina             & NEM               & 16               \\\\\n",
       "\t 2013              & Tamakin Dacot     & Haina             & NEM               & 16               \\\\\n",
       "\t 2013              & Tamakin Dacot     & Haina             & NEM               & 16               \\\\\n",
       "\t 2013              & Tamakin Dacot     & Tamakin Dacot     & NEM               &  0               \\\\\n",
       "\t 2013              & Tamakin Dacot     & Tamakin Dacot     & SWM               &  0               \\\\\n",
       "\t 2013              & Visca             & Haina             & NEM               &  1               \\\\\n",
       "\t 2013              & Visca             & Visca             & NEM               &  0               \\\\\n",
       "\t 2013              & Visca             & Visca             & SWM               &  0               \\\\\n",
       "\t 2013              & Wangag            & Caridad Proper    & NEM               &  0               \\\\\n",
       "\t 2013              & Wangag            & Magbangon         & NEM               &  0               \\\\\n",
       "\t 2013              & Wangag            & Magbangon         & NEM               &  0               \\\\\n",
       "\t 2013              & Wangag            & Sitio Baybayon    & NEM               & 21               \\\\\n",
       "\t 2013              & Wangag            & Sitio Baybayon    & NEM               & 21               \\\\\n",
       "\t 2013              & Wangag            & Sitio Baybayon    & NEM               & 21               \\\\\n",
       "\t 2013              & Wangag            & Sitio Baybayon    & NEM               & 21               \\\\\n",
       "\t 2013              & Wangag            & Wangag            & NEM               &  0               \\\\\n",
       "\t 2013              & Wangag            & Wangag            & SWM               &  0               \\\\\n",
       "\\end{tabular}\n"
      ],
      "text/markdown": [
       "\n",
       "| Year | Source | Dest | Monsoon | Parentage |\n",
       "|---|---|---|---|---|\n",
       "| 2013              | Cabatoan          | Cabatoan          | NEM               |  3                |\n",
       "| 2013              | Cabatoan          | Cabatoan          | SWM               |  3                |\n",
       "| 2013              | Caridad Cemetery  | Caridad Cemetery  | NEM               |  0                |\n",
       "| 2013              | Caridad Cemetery  | Caridad Cemetery  | SWM               |  0                |\n",
       "| 2013              | Caridad Cemetery  | Magbangon         | NEM               |  1                |\n",
       "| 2013              | Caridad Cemetery  | Palanas           | SWM               |  1                |\n",
       "| 2013              | Caridad Proper    | Caridad Proper    | NEM               |  0                |\n",
       "| 2013              | Caridad Proper    | Caridad Proper    | SWM               |  0                |\n",
       "| 2013              | Elementary School | Elementary School | NEM               |  2                |\n",
       "| 2013              | Elementary School | Elementary School | SWM               |  2                |\n",
       "| 2013              | Elementary School | Hicgop South      | NEM               |  0                |\n",
       "| 2013              | Elementary School | Wangag            | NEM               |  1                |\n",
       "| 2013              | Gabas             | Poroc San Flower  | NEM               |  0                |\n",
       "| 2013              | Gabas             | Visca             | NEM               |  0                |\n",
       "| 2013              | Haina             | Haina             | NEM               |  0                |\n",
       "| 2013              | Haina             | Haina             | SWM               |  0                |\n",
       "| 2013              | Hicgop South      | Cabatoan          | NEM               |  0                |\n",
       "| 2013              | Hicgop South      | Haina             | NEM               |  0                |\n",
       "| 2013              | Hicgop South      | Hicgop South      | NEM               |  0                |\n",
       "| 2013              | Hicgop South      | Hicgop South      | SWM               |  0                |\n",
       "| 2013              | Magbangon         | Magbangon         | NEM               |  0                |\n",
       "| 2013              | Magbangon         | Magbangon         | SWM               |  0                |\n",
       "| 2013              | Magbangon         | Wangag            | NEM               | 56                |\n",
       "| 2013              | Magbangon         | Wangag            | NEM               | 56                |\n",
       "| 2013              | Other             | Caridad Cemetery  | NEM               |  0                |\n",
       "| 2013              | Other             | Elementary School | NEM               |  0                |\n",
       "| 2013              | Other             | Elementary School | NEM               |  0                |\n",
       "| 2013              | Other             | Elementary School | NEM               |  0                |\n",
       "| 2013              | Other             | Elementary School | NEM               |  0                |\n",
       "| 2013              | Other             | Elementary School | NEM               |  0                |\n",
       "| ... | ... | ... | ... | ... |\n",
       "| 2013              | Sitio Baybayon    | Sitio Baybayon    | SWM               |  2                |\n",
       "| 2013              | Sitio Baybayon    | Wangag            | NEM               | 80                |\n",
       "| 2013              | Sitio Baybayon    | Wangag            | NEM               | 80                |\n",
       "| 2013              | Sitio Baybayon    | Wangag            | NEM               | 80                |\n",
       "| 2013              | Sitio Baybayon    | Wangag            | NEM               | 80                |\n",
       "| 2013              | Sitio Baybayon    | Wangag            | NEM               | 80                |\n",
       "| 2013              | Sitio Lonas       | Caridad Proper    | NEM               |  1                |\n",
       "| 2013              | Sitio Lonas       | Sitio Lonas       | NEM               |  0                |\n",
       "| 2013              | Sitio Lonas       | Sitio Lonas       | SWM               |  0                |\n",
       "| 2013              | Sitio Tugas       | Elementary School | NEM               |  8                |\n",
       "| 2013              | Sitio Tugas       | Elementary School | NEM               |  8                |\n",
       "| 2013              | Sitio Tugas       | Sitio Tugas       | NEM               |  0                |\n",
       "| 2013              | Sitio Tugas       | Sitio Tugas       | SWM               |  0                |\n",
       "| 2013              | Tamakin Dacot     | Haina             | NEM               | 16                |\n",
       "| 2013              | Tamakin Dacot     | Haina             | NEM               | 16                |\n",
       "| 2013              | Tamakin Dacot     | Haina             | NEM               | 16                |\n",
       "| 2013              | Tamakin Dacot     | Tamakin Dacot     | NEM               |  0                |\n",
       "| 2013              | Tamakin Dacot     | Tamakin Dacot     | SWM               |  0                |\n",
       "| 2013              | Visca             | Haina             | NEM               |  1                |\n",
       "| 2013              | Visca             | Visca             | NEM               |  0                |\n",
       "| 2013              | Visca             | Visca             | SWM               |  0                |\n",
       "| 2013              | Wangag            | Caridad Proper    | NEM               |  0                |\n",
       "| 2013              | Wangag            | Magbangon         | NEM               |  0                |\n",
       "| 2013              | Wangag            | Magbangon         | NEM               |  0                |\n",
       "| 2013              | Wangag            | Sitio Baybayon    | NEM               | 21                |\n",
       "| 2013              | Wangag            | Sitio Baybayon    | NEM               | 21                |\n",
       "| 2013              | Wangag            | Sitio Baybayon    | NEM               | 21                |\n",
       "| 2013              | Wangag            | Sitio Baybayon    | NEM               | 21                |\n",
       "| 2013              | Wangag            | Wangag            | NEM               |  0                |\n",
       "| 2013              | Wangag            | Wangag            | SWM               |  0                |\n",
       "\n"
      ],
      "text/plain": [
       "    Year Source            Dest              Monsoon Parentage\n",
       "1   2013 Cabatoan          Cabatoan          NEM      3       \n",
       "2   2013 Cabatoan          Cabatoan          SWM      3       \n",
       "3   2013 Caridad Cemetery  Caridad Cemetery  NEM      0       \n",
       "4   2013 Caridad Cemetery  Caridad Cemetery  SWM      0       \n",
       "5   2013 Caridad Cemetery  Magbangon         NEM      1       \n",
       "6   2013 Caridad Cemetery  Palanas           SWM      1       \n",
       "7   2013 Caridad Proper    Caridad Proper    NEM      0       \n",
       "8   2013 Caridad Proper    Caridad Proper    SWM      0       \n",
       "9   2013 Elementary School Elementary School NEM      2       \n",
       "10  2013 Elementary School Elementary School SWM      2       \n",
       "11  2013 Elementary School Hicgop South      NEM      0       \n",
       "12  2013 Elementary School Wangag            NEM      1       \n",
       "13  2013 Gabas             Poroc San Flower  NEM      0       \n",
       "14  2013 Gabas             Visca             NEM      0       \n",
       "15  2013 Haina             Haina             NEM      0       \n",
       "16  2013 Haina             Haina             SWM      0       \n",
       "17  2013 Hicgop South      Cabatoan          NEM      0       \n",
       "18  2013 Hicgop South      Haina             NEM      0       \n",
       "19  2013 Hicgop South      Hicgop South      NEM      0       \n",
       "20  2013 Hicgop South      Hicgop South      SWM      0       \n",
       "21  2013 Magbangon         Magbangon         NEM      0       \n",
       "22  2013 Magbangon         Magbangon         SWM      0       \n",
       "23  2013 Magbangon         Wangag            NEM     56       \n",
       "24  2013 Magbangon         Wangag            NEM     56       \n",
       "25  2013 Other             Caridad Cemetery  NEM      0       \n",
       "26  2013 Other             Elementary School NEM      0       \n",
       "27  2013 Other             Elementary School NEM      0       \n",
       "28  2013 Other             Elementary School NEM      0       \n",
       "29  2013 Other             Elementary School NEM      0       \n",
       "30  2013 Other             Elementary School NEM      0       \n",
       "... ...  ...               ...               ...     ...      \n",
       "149 2013 Sitio Baybayon    Sitio Baybayon    SWM      2       \n",
       "150 2013 Sitio Baybayon    Wangag            NEM     80       \n",
       "151 2013 Sitio Baybayon    Wangag            NEM     80       \n",
       "152 2013 Sitio Baybayon    Wangag            NEM     80       \n",
       "153 2013 Sitio Baybayon    Wangag            NEM     80       \n",
       "154 2013 Sitio Baybayon    Wangag            NEM     80       \n",
       "155 2013 Sitio Lonas       Caridad Proper    NEM      1       \n",
       "156 2013 Sitio Lonas       Sitio Lonas       NEM      0       \n",
       "157 2013 Sitio Lonas       Sitio Lonas       SWM      0       \n",
       "158 2013 Sitio Tugas       Elementary School NEM      8       \n",
       "159 2013 Sitio Tugas       Elementary School NEM      8       \n",
       "160 2013 Sitio Tugas       Sitio Tugas       NEM      0       \n",
       "161 2013 Sitio Tugas       Sitio Tugas       SWM      0       \n",
       "162 2013 Tamakin Dacot     Haina             NEM     16       \n",
       "163 2013 Tamakin Dacot     Haina             NEM     16       \n",
       "164 2013 Tamakin Dacot     Haina             NEM     16       \n",
       "165 2013 Tamakin Dacot     Tamakin Dacot     NEM      0       \n",
       "166 2013 Tamakin Dacot     Tamakin Dacot     SWM      0       \n",
       "167 2013 Visca             Haina             NEM      1       \n",
       "168 2013 Visca             Visca             NEM      0       \n",
       "169 2013 Visca             Visca             SWM      0       \n",
       "170 2013 Wangag            Caridad Proper    NEM      0       \n",
       "171 2013 Wangag            Magbangon         NEM      0       \n",
       "172 2013 Wangag            Magbangon         NEM      0       \n",
       "173 2013 Wangag            Sitio Baybayon    NEM     21       \n",
       "174 2013 Wangag            Sitio Baybayon    NEM     21       \n",
       "175 2013 Wangag            Sitio Baybayon    NEM     21       \n",
       "176 2013 Wangag            Sitio Baybayon    NEM     21       \n",
       "177 2013 Wangag            Wangag            NEM      0       \n",
       "178 2013 Wangag            Wangag            SWM      0       "
      ]
     },
     "metadata": {},
     "output_type": "display_data"
    }
   ],
   "source": [
    "sim_sample[Year==2013]#[, Parentage := sum(Parentage), by=c(\"Year\", \"Source\", \"Dest\")][]"
   ]
  },
  {
   "cell_type": "code",
   "execution_count": null,
   "metadata": {},
   "outputs": [],
   "source": []
  }
 ],
 "metadata": {
  "kernelspec": {
   "display_name": "R",
   "language": "R",
   "name": "ir"
  },
  "language_info": {
   "codemirror_mode": "r",
   "file_extension": ".r",
   "mimetype": "text/x-r-source",
   "name": "R",
   "pygments_lexer": "r",
   "version": "3.6.1"
  }
 },
 "nbformat": 4,
 "nbformat_minor": 4
}
