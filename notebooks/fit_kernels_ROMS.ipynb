{
 "cells": [
  {
   "cell_type": "code",
   "execution_count": 1,
   "metadata": {},
   "outputs": [],
   "source": [
    "Packages <- c(\"dplyr\", \"geosphere\",\"fields\",\"lattice\", \"ggplot2\", \"bbmle\", \"ncdf4\",\"dplyr\",\"tidyr\", \"stringr\", \"tidyverse\", \"raster\", \"lubridate\", \"RColorBrewer\")\n",
    "\n",
    "invisible(suppressPackageStartupMessages(lapply(Packages, library, character.only = TRUE)))\n",
    "\n",
    "setwd('/local/home/katrinac/oceanography')\n",
    "\"%!in%\" <- function(x,table) match(x,table, nomatch = 0) == 0\n",
    "source(\"~/parentage/kernel_fitting/1340_loci/functions/ll_kt_both_bbmle.R\")\n"
   ]
  },
  {
   "cell_type": "code",
   "execution_count": 2,
   "metadata": {},
   "outputs": [
    {
     "name": "stdout",
     "output_type": "stream",
     "text": [
      "[1] \"vobjtovarid4: **** WARNING **** I was asked to get a varid for dimension named sink BUT this dimension HAS NO DIMVAR! Code will probably fail at this point\"\n",
      "[1] \"vobjtovarid4: **** WARNING **** I was asked to get a varid for dimension named source BUT this dimension HAS NO DIMVAR! Code will probably fail at this point\"\n",
      "[1] \"vobjtovarid4: **** WARNING **** I was asked to get a varid for dimension named time BUT this dimension HAS NO DIMVAR! Code will probably fail at this point\"\n"
     ]
    }
   ],
   "source": [
    "#read in data and add site names\n",
    "conn_mat_all <- brick(\"~/oceanography/ROMS/data/Camotes_Sea_Connectivity_Matrices_08_day_PLD_integer.nc\", values=T) \n",
    "#read in the data for the number of grid cells per site (site ids are North- South, as in, Palanas is number 1)\n",
    "sites_n <- read.table(\"~/oceanography/ROMS/input//camotes_vertices_sites_results_water_only.txt\", sep=\" \", header=T, stringsAsFactors = F)\n",
    "#the order of sites in the connectivity matrix\n",
    "sites_order <- read.table(\"~/oceanography/ROMS/input/sites_order_as_in_roms.txt\", sep=\" \", header=T, stringsAsFactors = F)\n",
    "\n",
    "sites <- as.character(c(\"Palanas\", \"Wangag\", \"Magbangon\", \"Cabatoan\", \"Caridad Cemetery\", \"Caridad Proper\", \"Hicgop\", \"Hicgop South\", \"Sitio Tugas\", \"Elementary School\", \"Sitio Lonas\", \"San Agustin\", \"Poroc San Flower\", \"Poroc Rose\", \"Pangasugan\", \"Visca\", \"Gabas\", \"Tamakin Dacot\", \"Haina\", \"Sitio Baybayon\", \"SF1\", \"SF2\", \"SF3\", \"SF4\", \"SF5\", \"SF6\", \"CAI\", \"Other\"))\n",
    "site_ind <- c(seq(1,28, 1))\n",
    "site_id <- as.data.frame(cbind(sites, site_ind), stringsAsFactors = F)\n",
    "site_id$site_ind <- as.numeric(site_id$site_ind)\n"
   ]
  },
  {
   "cell_type": "code",
   "execution_count": 3,
   "metadata": {},
   "outputs": [
    {
     "data": {
      "text/html": [
       "<ol class=list-inline>\n",
       "\t<li>930</li>\n",
       "\t<li>2</li>\n",
       "</ol>\n"
      ],
      "text/latex": [
       "\\begin{enumerate*}\n",
       "\\item 930\n",
       "\\item 2\n",
       "\\end{enumerate*}\n"
      ],
      "text/markdown": [
       "1. 930\n",
       "2. 2\n",
       "\n",
       "\n"
      ],
      "text/plain": [
       "[1] 930   2"
      ]
     },
     "metadata": {},
     "output_type": "display_data"
    }
   ],
   "source": [
    "#add in dates (seasons here are field seasons, not monsoon seasons)\n",
    "col <- \"date\"\n",
    "col2 <- \"index\"\n",
    "\n",
    "season1 <- as.data.frame(seq(as.Date(\"2010/10/01\"), as.Date(\"2011/05/31\"), by=\"days\"))\n",
    "names(season1) <- col\n",
    "\n",
    "season2 <- as.data.frame(seq(as.Date(\"2011/10/01\"), as.Date(\"2012/05/31\"), by=\"days\"))\n",
    "names(season2) <- col\n",
    "\n",
    "season3 <- as.data.frame(seq(as.Date(\"2012/10/01\"), as.Date(\"2013/05/31\"), by=\"days\"))\n",
    "names(season3) <- col\n",
    "\n",
    "season4 <- as.data.frame(seq(as.Date(\"2013/10/01\"), as.Date(\"2014/04/18\"), by=\"days\"))\n",
    "names(season4) <- col\n",
    "\n",
    "all_dates <- bind_rows(season1, season2, season3, season4)\n",
    "time_step <- as.data.frame(seq(1,930,1))\n",
    "names(time_step)<- col2\n",
    "all_dates2 <- bind_cols(time_step, all_dates)\n",
    "dim(all_dates2)\n"
   ]
  },
  {
   "cell_type": "code",
   "execution_count": 4,
   "metadata": {},
   "outputs": [
    {
     "data": {
      "text/html": [
       "<table>\n",
       "<thead><tr><th scope=col>date</th></tr></thead>\n",
       "<tbody>\n",
       "\t<tr><td>2012-10-01</td></tr>\n",
       "\t<tr><td>2012-10-02</td></tr>\n",
       "\t<tr><td>2012-10-03</td></tr>\n",
       "\t<tr><td>2012-10-04</td></tr>\n",
       "\t<tr><td>2012-10-05</td></tr>\n",
       "\t<tr><td>2012-10-06</td></tr>\n",
       "</tbody>\n",
       "</table>\n"
      ],
      "text/latex": [
       "\\begin{tabular}{r|l}\n",
       " date\\\\\n",
       "\\hline\n",
       "\t 2012-10-01\\\\\n",
       "\t 2012-10-02\\\\\n",
       "\t 2012-10-03\\\\\n",
       "\t 2012-10-04\\\\\n",
       "\t 2012-10-05\\\\\n",
       "\t 2012-10-06\\\\\n",
       "\\end{tabular}\n"
      ],
      "text/markdown": [
       "\n",
       "| date |\n",
       "|---|\n",
       "| 2012-10-01 |\n",
       "| 2012-10-02 |\n",
       "| 2012-10-03 |\n",
       "| 2012-10-04 |\n",
       "| 2012-10-05 |\n",
       "| 2012-10-06 |\n",
       "\n"
      ],
      "text/plain": [
       "  date      \n",
       "1 2012-10-01\n",
       "2 2012-10-02\n",
       "3 2012-10-03\n",
       "4 2012-10-04\n",
       "5 2012-10-05\n",
       "6 2012-10-06"
      ]
     },
     "metadata": {},
     "output_type": "display_data"
    }
   ],
   "source": [
    "head(season3)"
   ]
  },
  {
   "cell_type": "code",
   "execution_count": 5,
   "metadata": {},
   "outputs": [],
   "source": [
    "#make each daily connectivity matrix into a df and then pull them all together into a list\n",
    "#conn_mat_list <- vector(\"list\", nrow(all_dates2))\n",
    "\n",
    "#date_df <- do.call(\"rbind\", replicate(784, date, simplify = FALSE))\n",
    "\n",
    "conn_mat_full <- as.data.frame(matrix(nrow=0, ncol=4))\n",
    "\n",
    "cols_conn_mat <- c(\"date\",\"sink\", \"source\", \"number\")\n",
    "cols_tmp <- c(\"sink\", \"source\", \"number\")\n",
    "\n",
    "names(conn_mat_full) <- cols_conn_mat\n",
    "\n",
    "for(i in 1:nrow(all_dates2)){\n",
    "    \n",
    "    index_eval <- all_dates2$index[i]\n",
    "    \n",
    "    tmp <- as.data.frame(conn_mat_all[[i]], xy=T)   #pull out a data frame for each date\n",
    "    names(tmp) <- cols_tmp\n",
    "    \n",
    "    date <- filter(all_dates2, index==index_eval)[2] #grab the date\n",
    "    date_df <- do.call(\"rbind\", replicate(784, date, simplify = FALSE)) #make a df of the date\n",
    "    tmp2 <- bind_cols(date_df, tmp)\n",
    "\n",
    " \n",
    "    conn_mat_full <- rbind(conn_mat_full, tmp2) \n",
    "}\n",
    "\n"
   ]
  },
  {
   "cell_type": "code",
   "execution_count": 6,
   "metadata": {},
   "outputs": [],
   "source": [
    "#connect site names\n",
    "conn_mat_full2 <- left_join(conn_mat_full, site_id, by=c(source=\"site_ind\")) %>%\n",
    "    dplyr::select(-source) %>%\n",
    "    rename(source=\"sites\")\n",
    "    \n",
    "conn_mat_full3 <- left_join(conn_mat_full2, site_id, by=c(sink=\"site_ind\")) %>%\n",
    "    dplyr::select(-sink) %>%\n",
    "    rename(destination=\"sites\")\n",
    "\n",
    "    "
   ]
  },
  {
   "cell_type": "code",
   "execution_count": 132,
   "metadata": {},
   "outputs": [],
   "source": [
    "#make all versions of Hicgop \"Hicgop South\" to match empirical data\n",
    "conn_mat_full3 <- conn_mat_full3 %>%\n",
    "    mutate(source=ifelse(source==\"Hicgop\", \"Hicgop South\", source)) %>%\n",
    "    mutate(destination=ifelse(destination==\"Hicgop\", \"Hicgop South\", destination))\n",
    "\n",
    "#mark which sources/destinations were sampled in real life\n",
    "UnsampledSites <- c(\"SF1\", \"SF2\", \"SF3\", \"SF4\", \"SF5\", \"SF6\", \"Pangasugan\", \"Other\", \"CAI\" )\n",
    "#mark the monsoon seasons in which they dispersed, based on the same criteria I used for the parentage indirectly through the growth estimates\n",
    "NEM <- c(11, 12, 1, 2, 3, 4, 5, 6)\n",
    "SWM <- c(7, 8, 9, 10)\n",
    "\n",
    "#add a column showing which sources and destinations were empirically sampled, and corresponding date/year/season data\n",
    "conn_mat_full4 <- conn_mat_full3 %>%\n",
    "    mutate(SourceSampled= ifelse(source %!in% UnsampledSites, \"yes\", \"no\")) %>%\n",
    "    mutate(DestSampled= ifelse(destination %!in% UnsampledSites, \"yes\", \"no\")) %>%\n",
    "    mutate(SimMonth=month(ymd(date))) %>%\n",
    "    mutate(SimDay=month(ymd(date))) %>%\n",
    "    mutate(SimYear=year(ymd(date))) %>%\n",
    "    mutate(YearSampled=ifelse(date %in% season1$date, \"2011\", ifelse(date %in% season2$date, \"2012\", ifelse(date %in% season3$date, \"2013\", \"2014\")))) %>%\n",
    "    mutate(YearSampled=as.factor(YearSampled)) %>%\n",
    "    mutate(SimMonsoon=ifelse(SimMonth %in% NEM, \"NEM\", \"SWM\")) %>%\n",
    "    rename(DailyParticles=\"number\") %>%\n",
    "    relocate(DailyParticles,.after=SimMonsoon)\n",
    "    \n",
    "#note to self, I think I messed up sources/destinations in the orginal for loop!!!! so I'm grouping by source below, but that's because the true destination column is misnamed \"source\" in the code and I haven't figured it out yet\n",
    "#!!!!\n",
    "\n",
    "##for unassigned, you want to keep these sites 2/8/2021 maybe delete this chunk\n",
    "#ConnMatTotalRec <- conn_mat_full3 %>%     \n",
    "#    filter(date %in% season3$date) %>%\n",
    "#    group_by(destination) %>%\n",
    "#    #dplyr::select(-date) %>%\n",
    "#    mutate(TotalParticlesRec= sum(number)) %>%\n",
    "#    distinct(destination, date, .keep_all = T) %>%\n",
    "#    dplyr::select(destination, date, TotalParticlesRec) %>%\n",
    "#    mutate(SimMonth=month(ymd(date))) %>%\n",
    "#    mutate(SimYear=year(ymd(date))) %>%\n",
    "#    mutate(YearSampled=ifelse(date %in% season1$date, \"2011\", ifelse(date %in% season2$date, \"2012\", ifelse(date %in% season3$date, \"2013\", \"2014\")))) %>%\n",
    "#    mutate(YearSampled=as.factor(YearSampled))\n",
    "#\n",
    "#nrow(ConnMatTotalRec) "
   ]
  },
  {
   "cell_type": "code",
   "execution_count": 133,
   "metadata": {},
   "outputs": [
    {
     "data": {
      "text/html": [
       "<table>\n",
       "<thead><tr><th scope=col>date</th><th scope=col>source</th><th scope=col>destination</th><th scope=col>SourceSampled</th><th scope=col>DestSampled</th><th scope=col>SimMonth</th><th scope=col>SimDay</th><th scope=col>SimYear</th><th scope=col>YearSampled</th><th scope=col>SimMonsoon</th><th scope=col>DailyParticles</th></tr></thead>\n",
       "<tbody>\n",
       "\t<tr><td>2010-10-01      </td><td>Other           </td><td>Palanas         </td><td>no              </td><td>yes             </td><td>10              </td><td>10              </td><td>2010            </td><td>2011            </td><td>SWM             </td><td> 9              </td></tr>\n",
       "\t<tr><td>2010-10-01      </td><td>Other           </td><td>Wangag          </td><td>no              </td><td>yes             </td><td>10              </td><td>10              </td><td>2010            </td><td>2011            </td><td>SWM             </td><td> 4              </td></tr>\n",
       "\t<tr><td>2010-10-01      </td><td>Other           </td><td>Magbangon       </td><td>no              </td><td>yes             </td><td>10              </td><td>10              </td><td>2010            </td><td>2011            </td><td>SWM             </td><td>11              </td></tr>\n",
       "\t<tr><td>2010-10-01      </td><td>Other           </td><td>Cabatoan        </td><td>no              </td><td>yes             </td><td>10              </td><td>10              </td><td>2010            </td><td>2011            </td><td>SWM             </td><td>12              </td></tr>\n",
       "\t<tr><td>2010-10-01      </td><td>Other           </td><td>Caridad Cemetery</td><td>no              </td><td>yes             </td><td>10              </td><td>10              </td><td>2010            </td><td>2011            </td><td>SWM             </td><td> 0              </td></tr>\n",
       "\t<tr><td>2010-10-01      </td><td>Other           </td><td>Caridad Proper  </td><td>no              </td><td>yes             </td><td>10              </td><td>10              </td><td>2010            </td><td>2011            </td><td>SWM             </td><td> 1              </td></tr>\n",
       "</tbody>\n",
       "</table>\n"
      ],
      "text/latex": [
       "\\begin{tabular}{r|lllllllllll}\n",
       " date & source & destination & SourceSampled & DestSampled & SimMonth & SimDay & SimYear & YearSampled & SimMonsoon & DailyParticles\\\\\n",
       "\\hline\n",
       "\t 2010-10-01       & Other            & Palanas          & no               & yes              & 10               & 10               & 2010             & 2011             & SWM              &  9              \\\\\n",
       "\t 2010-10-01       & Other            & Wangag           & no               & yes              & 10               & 10               & 2010             & 2011             & SWM              &  4              \\\\\n",
       "\t 2010-10-01       & Other            & Magbangon        & no               & yes              & 10               & 10               & 2010             & 2011             & SWM              & 11              \\\\\n",
       "\t 2010-10-01       & Other            & Cabatoan         & no               & yes              & 10               & 10               & 2010             & 2011             & SWM              & 12              \\\\\n",
       "\t 2010-10-01       & Other            & Caridad Cemetery & no               & yes              & 10               & 10               & 2010             & 2011             & SWM              &  0              \\\\\n",
       "\t 2010-10-01       & Other            & Caridad Proper   & no               & yes              & 10               & 10               & 2010             & 2011             & SWM              &  1              \\\\\n",
       "\\end{tabular}\n"
      ],
      "text/markdown": [
       "\n",
       "| date | source | destination | SourceSampled | DestSampled | SimMonth | SimDay | SimYear | YearSampled | SimMonsoon | DailyParticles |\n",
       "|---|---|---|---|---|---|---|---|---|---|---|\n",
       "| 2010-10-01       | Other            | Palanas          | no               | yes              | 10               | 10               | 2010             | 2011             | SWM              |  9               |\n",
       "| 2010-10-01       | Other            | Wangag           | no               | yes              | 10               | 10               | 2010             | 2011             | SWM              |  4               |\n",
       "| 2010-10-01       | Other            | Magbangon        | no               | yes              | 10               | 10               | 2010             | 2011             | SWM              | 11               |\n",
       "| 2010-10-01       | Other            | Cabatoan         | no               | yes              | 10               | 10               | 2010             | 2011             | SWM              | 12               |\n",
       "| 2010-10-01       | Other            | Caridad Cemetery | no               | yes              | 10               | 10               | 2010             | 2011             | SWM              |  0               |\n",
       "| 2010-10-01       | Other            | Caridad Proper   | no               | yes              | 10               | 10               | 2010             | 2011             | SWM              |  1               |\n",
       "\n"
      ],
      "text/plain": [
       "  date       source destination      SourceSampled DestSampled SimMonth SimDay\n",
       "1 2010-10-01 Other  Palanas          no            yes         10       10    \n",
       "2 2010-10-01 Other  Wangag           no            yes         10       10    \n",
       "3 2010-10-01 Other  Magbangon        no            yes         10       10    \n",
       "4 2010-10-01 Other  Cabatoan         no            yes         10       10    \n",
       "5 2010-10-01 Other  Caridad Cemetery no            yes         10       10    \n",
       "6 2010-10-01 Other  Caridad Proper   no            yes         10       10    \n",
       "  SimYear YearSampled SimMonsoon DailyParticles\n",
       "1 2010    2011        SWM         9            \n",
       "2 2010    2011        SWM         4            \n",
       "3 2010    2011        SWM        11            \n",
       "4 2010    2011        SWM        12            \n",
       "5 2010    2011        SWM         0            \n",
       "6 2010    2011        SWM         1            "
      ]
     },
     "metadata": {},
     "output_type": "display_data"
    }
   ],
   "source": [
    "head(conn_mat_full4)\n",
    "#write.csv(conn_mat_full4, file=\"~/oceanography/script_output/SimConnectivityTable.csv\", row.names=F)"
   ]
  },
  {
   "cell_type": "code",
   "execution_count": 134,
   "metadata": {},
   "outputs": [],
   "source": [
    "#add together all of the particles for each season. At some point need to consider matching times that we sampled, from the fish meta-data\n",
    "#replace XN with years\n",
    "SimDispInt <- conn_mat_full4 %>%\n",
    "    group_by(destination, YearSampled) %>%\n",
    "    mutate(AnnTotalRec=sum(DailyParticles)) %>%\n",
    "    mutate(AnnTotalRecFromSampSites=ifelse(DestSampled==\"yes\" & SourceSampled==\"yes\",sum(DailyParticles), 0))\n",
    "\n",
    "#\n",
    "#SimDispXNInt2 <- left_join(SitesNS, SimDispXNInt, by=c(site=\"source\")) %>%\n",
    "#    rename(source=\"site\")\n",
    "#SimDispXN <- left_join(SitesNS, SimDispXNInt2, by=c(site=\"destination\")) %>%\n",
    "#    rename(destination=\"site\") #%>% #drop this for fitting the kernel, use for the model\n",
    "#    #mutate(year=\"XN\")\n",
    "\n",
    "#SimDispXNRecSampInt <- ConnMatTotalRec %>%#the total recruits in the simulation for each destination site we empirically sampled\n",
    "#    filter(destination %in% SimDispXN$destination) #%>%\n",
    "#    #mutate(source=\"unsampled\") #not really, just unsampled empirically. Use this to get the unassigned row?\n",
    "\n",
    "#SimDispXNRecSamp <- SimDispXNInt %>% #left_join(SimDispXNInt, SimDispXNRecSampInt, by=\"destination\") %>%\n",
    "#    group_by(destination, date) %>%\n",
    "#    mutate(TotalParticlesAssignedDaily=sum(ParticlesDaily)) %>% #Create a column for the total particles recruiting to a given destination for a given date, from a source we empirically sampled. ParticlesDaily should be less than or equal to TotalParticlesAssignedDaily\n",
    "#    group_by(destination) %>%\n",
    "#    mutate(TotalParticlesRec=sum(ParticlesDaily)) #%>% #Create a column for the total particles recruiting to a given destination across the simulations\n",
    "#    #mutate(TotalUnassignedDaily=TotalParticlesRec-TotalParticlesAssignedDaily) #%>%\n",
    "#    #dplyr::select(source, -Particles) \n"
   ]
  },
  {
   "cell_type": "code",
   "execution_count": 139,
   "metadata": {},
   "outputs": [
    {
     "data": {
      "text/html": [
       "<table>\n",
       "<thead><tr><th scope=col>date</th><th scope=col>source</th><th scope=col>destination</th><th scope=col>SourceSampled</th><th scope=col>DestSampled</th><th scope=col>SimMonth</th><th scope=col>SimDay</th><th scope=col>SimYear</th><th scope=col>YearSampled</th><th scope=col>SimMonsoon</th><th scope=col>DailyParticles</th><th scope=col>AnnTotalRec</th><th scope=col>AnnTotalRecFromSampSites</th></tr></thead>\n",
       "<tbody>\n",
       "\t<tr><td>2014-04-18    </td><td>Pangasugan    </td><td>Poroc Rose    </td><td>no            </td><td>yes           </td><td>4             </td><td>4             </td><td>2014          </td><td>2014          </td><td>NEM           </td><td>0             </td><td> 5520         </td><td>0             </td></tr>\n",
       "\t<tr><td>2014-04-18    </td><td>Pangasugan    </td><td>Visca         </td><td>no            </td><td>yes           </td><td>4             </td><td>4             </td><td>2014          </td><td>2014          </td><td>NEM           </td><td>0             </td><td>16186         </td><td>0             </td></tr>\n",
       "\t<tr><td>2014-04-18    </td><td>Pangasugan    </td><td>Gabas         </td><td>no            </td><td>yes           </td><td>4             </td><td>4             </td><td>2014          </td><td>2014          </td><td>NEM           </td><td>1             </td><td>18547         </td><td>0             </td></tr>\n",
       "\t<tr><td>2014-04-18    </td><td>Pangasugan    </td><td>Tamakin Dacot </td><td>no            </td><td>yes           </td><td>4             </td><td>4             </td><td>2014          </td><td>2014          </td><td>NEM           </td><td>0             </td><td>96006         </td><td>0             </td></tr>\n",
       "\t<tr><td>2014-04-18    </td><td>Pangasugan    </td><td>Haina         </td><td>no            </td><td>yes           </td><td>4             </td><td>4             </td><td>2014          </td><td>2014          </td><td>NEM           </td><td>0             </td><td>41826         </td><td>0             </td></tr>\n",
       "\t<tr><td>2014-04-18    </td><td>Pangasugan    </td><td>Sitio Baybayon</td><td>no            </td><td>yes           </td><td>4             </td><td>4             </td><td>2014          </td><td>2014          </td><td>NEM           </td><td>0             </td><td>23995         </td><td>0             </td></tr>\n",
       "</tbody>\n",
       "</table>\n"
      ],
      "text/latex": [
       "\\begin{tabular}{r|lllllllllllll}\n",
       " date & source & destination & SourceSampled & DestSampled & SimMonth & SimDay & SimYear & YearSampled & SimMonsoon & DailyParticles & AnnTotalRec & AnnTotalRecFromSampSites\\\\\n",
       "\\hline\n",
       "\t 2014-04-18     & Pangasugan     & Poroc Rose     & no             & yes            & 4              & 4              & 2014           & 2014           & NEM            & 0              &  5520          & 0             \\\\\n",
       "\t 2014-04-18     & Pangasugan     & Visca          & no             & yes            & 4              & 4              & 2014           & 2014           & NEM            & 0              & 16186          & 0             \\\\\n",
       "\t 2014-04-18     & Pangasugan     & Gabas          & no             & yes            & 4              & 4              & 2014           & 2014           & NEM            & 1              & 18547          & 0             \\\\\n",
       "\t 2014-04-18     & Pangasugan     & Tamakin Dacot  & no             & yes            & 4              & 4              & 2014           & 2014           & NEM            & 0              & 96006          & 0             \\\\\n",
       "\t 2014-04-18     & Pangasugan     & Haina          & no             & yes            & 4              & 4              & 2014           & 2014           & NEM            & 0              & 41826          & 0             \\\\\n",
       "\t 2014-04-18     & Pangasugan     & Sitio Baybayon & no             & yes            & 4              & 4              & 2014           & 2014           & NEM            & 0              & 23995          & 0             \\\\\n",
       "\\end{tabular}\n"
      ],
      "text/markdown": [
       "\n",
       "| date | source | destination | SourceSampled | DestSampled | SimMonth | SimDay | SimYear | YearSampled | SimMonsoon | DailyParticles | AnnTotalRec | AnnTotalRecFromSampSites |\n",
       "|---|---|---|---|---|---|---|---|---|---|---|---|---|\n",
       "| 2014-04-18     | Pangasugan     | Poroc Rose     | no             | yes            | 4              | 4              | 2014           | 2014           | NEM            | 0              |  5520          | 0              |\n",
       "| 2014-04-18     | Pangasugan     | Visca          | no             | yes            | 4              | 4              | 2014           | 2014           | NEM            | 0              | 16186          | 0              |\n",
       "| 2014-04-18     | Pangasugan     | Gabas          | no             | yes            | 4              | 4              | 2014           | 2014           | NEM            | 1              | 18547          | 0              |\n",
       "| 2014-04-18     | Pangasugan     | Tamakin Dacot  | no             | yes            | 4              | 4              | 2014           | 2014           | NEM            | 0              | 96006          | 0              |\n",
       "| 2014-04-18     | Pangasugan     | Haina          | no             | yes            | 4              | 4              | 2014           | 2014           | NEM            | 0              | 41826          | 0              |\n",
       "| 2014-04-18     | Pangasugan     | Sitio Baybayon | no             | yes            | 4              | 4              | 2014           | 2014           | NEM            | 0              | 23995          | 0              |\n",
       "\n"
      ],
      "text/plain": [
       "  date       source     destination    SourceSampled DestSampled SimMonth\n",
       "1 2014-04-18 Pangasugan Poroc Rose     no            yes         4       \n",
       "2 2014-04-18 Pangasugan Visca          no            yes         4       \n",
       "3 2014-04-18 Pangasugan Gabas          no            yes         4       \n",
       "4 2014-04-18 Pangasugan Tamakin Dacot  no            yes         4       \n",
       "5 2014-04-18 Pangasugan Haina          no            yes         4       \n",
       "6 2014-04-18 Pangasugan Sitio Baybayon no            yes         4       \n",
       "  SimDay SimYear YearSampled SimMonsoon DailyParticles AnnTotalRec\n",
       "1 4      2014    2014        NEM        0               5520      \n",
       "2 4      2014    2014        NEM        0              16186      \n",
       "3 4      2014    2014        NEM        1              18547      \n",
       "4 4      2014    2014        NEM        0              96006      \n",
       "5 4      2014    2014        NEM        0              41826      \n",
       "6 4      2014    2014        NEM        0              23995      \n",
       "  AnnTotalRecFromSampSites\n",
       "1 0                       \n",
       "2 0                       \n",
       "3 0                       \n",
       "4 0                       \n",
       "5 0                       \n",
       "6 0                       "
      ]
     },
     "metadata": {},
     "output_type": "display_data"
    }
   ],
   "source": [
    "tail(SimDispInt %>% filter(DestSampled==\"yes\" & SourceSampled==\"no\"))\n"
   ]
  },
  {
   "cell_type": "code",
   "execution_count": 42,
   "metadata": {},
   "outputs": [
    {
     "data": {
      "text/html": [
       "324"
      ],
      "text/latex": [
       "324"
      ],
      "text/markdown": [
       "324"
      ],
      "text/plain": [
       "[1] 324"
      ]
     },
     "metadata": {},
     "output_type": "display_data"
    },
    {
     "data": {
      "text/html": [
       "<strong>png:</strong> 2"
      ],
      "text/latex": [
       "\\textbf{png:} 2"
      ],
      "text/markdown": [
       "**png:** 2"
      ],
      "text/plain": [
       "png \n",
       "  2 "
      ]
     },
     "metadata": {},
     "output_type": "display_data"
    }
   ],
   "source": [
    "#check that everything looks correct\n",
    "test <- SimDispXN %>% filter(SumParticles >1)\n",
    "18*18 #this should be the rows\n",
    "#pdf(\"~/oceanography/script_output/HistNumParticlesRecruiting.pdf\")\n",
    "hist(test$SumParticles, breaks=50, xlab=\"Number of particles recruiting daily\", main=NULL)\n",
    "#dev.off()\n",
    "#write.csv(SimDispXNRecSamp, file=\"~/oceanography/script_output/SimConnectivitySummaryTable.csv\", row.names=F)"
   ]
  },
  {
   "cell_type": "code",
   "execution_count": 46,
   "metadata": {},
   "outputs": [
    {
     "data": {
      "text/html": [
       "<table>\n",
       "<thead><tr><th scope=col>destination</th><th scope=col>source</th><th scope=col>date</th><th scope=col>month</th><th scope=col>year</th><th scope=col>SumParticles</th><th scope=col>SumParticlesRec</th><th scope=col>TotalParticlesAssigned</th><th scope=col>TotalUnassigned</th></tr></thead>\n",
       "<tbody>\n",
       "\t<tr><td>Palanas   </td><td>Palanas   </td><td>2010-10-01</td><td>10        </td><td>2011      </td><td>0         </td><td>11299     </td><td>0         </td><td>11299     </td></tr>\n",
       "\t<tr><td>Palanas   </td><td>Palanas   </td><td>2010-10-02</td><td>10        </td><td>2011      </td><td>0         </td><td>11299     </td><td>0         </td><td>11299     </td></tr>\n",
       "\t<tr><td>Palanas   </td><td>Palanas   </td><td>2010-10-03</td><td>10        </td><td>2011      </td><td>0         </td><td>11299     </td><td>0         </td><td>11299     </td></tr>\n",
       "\t<tr><td>Palanas   </td><td>Palanas   </td><td>2010-10-04</td><td>10        </td><td>2011      </td><td>0         </td><td>11299     </td><td>0         </td><td>11299     </td></tr>\n",
       "\t<tr><td>Palanas   </td><td>Palanas   </td><td>2010-10-05</td><td>10        </td><td>2011      </td><td>0         </td><td>11299     </td><td>0         </td><td>11299     </td></tr>\n",
       "\t<tr><td>Palanas   </td><td>Palanas   </td><td>2010-10-06</td><td>10        </td><td>2011      </td><td>0         </td><td>11299     </td><td>0         </td><td>11299     </td></tr>\n",
       "</tbody>\n",
       "</table>\n"
      ],
      "text/latex": [
       "\\begin{tabular}{r|lllllllll}\n",
       " destination & source & date & month & year & SumParticles & SumParticlesRec & TotalParticlesAssigned & TotalUnassigned\\\\\n",
       "\\hline\n",
       "\t Palanas    & Palanas    & 2010-10-01 & 10         & 2011       & 0          & 11299      & 0          & 11299     \\\\\n",
       "\t Palanas    & Palanas    & 2010-10-02 & 10         & 2011       & 0          & 11299      & 0          & 11299     \\\\\n",
       "\t Palanas    & Palanas    & 2010-10-03 & 10         & 2011       & 0          & 11299      & 0          & 11299     \\\\\n",
       "\t Palanas    & Palanas    & 2010-10-04 & 10         & 2011       & 0          & 11299      & 0          & 11299     \\\\\n",
       "\t Palanas    & Palanas    & 2010-10-05 & 10         & 2011       & 0          & 11299      & 0          & 11299     \\\\\n",
       "\t Palanas    & Palanas    & 2010-10-06 & 10         & 2011       & 0          & 11299      & 0          & 11299     \\\\\n",
       "\\end{tabular}\n"
      ],
      "text/markdown": [
       "\n",
       "| destination | source | date | month | year | SumParticles | SumParticlesRec | TotalParticlesAssigned | TotalUnassigned |\n",
       "|---|---|---|---|---|---|---|---|---|\n",
       "| Palanas    | Palanas    | 2010-10-01 | 10         | 2011       | 0          | 11299      | 0          | 11299      |\n",
       "| Palanas    | Palanas    | 2010-10-02 | 10         | 2011       | 0          | 11299      | 0          | 11299      |\n",
       "| Palanas    | Palanas    | 2010-10-03 | 10         | 2011       | 0          | 11299      | 0          | 11299      |\n",
       "| Palanas    | Palanas    | 2010-10-04 | 10         | 2011       | 0          | 11299      | 0          | 11299      |\n",
       "| Palanas    | Palanas    | 2010-10-05 | 10         | 2011       | 0          | 11299      | 0          | 11299      |\n",
       "| Palanas    | Palanas    | 2010-10-06 | 10         | 2011       | 0          | 11299      | 0          | 11299      |\n",
       "\n"
      ],
      "text/plain": [
       "  destination source  date       month year SumParticles SumParticlesRec\n",
       "1 Palanas     Palanas 2010-10-01 10    2011 0            11299          \n",
       "2 Palanas     Palanas 2010-10-02 10    2011 0            11299          \n",
       "3 Palanas     Palanas 2010-10-03 10    2011 0            11299          \n",
       "4 Palanas     Palanas 2010-10-04 10    2011 0            11299          \n",
       "5 Palanas     Palanas 2010-10-05 10    2011 0            11299          \n",
       "6 Palanas     Palanas 2010-10-06 10    2011 0            11299          \n",
       "  TotalParticlesAssigned TotalUnassigned\n",
       "1 0                      11299          \n",
       "2 0                      11299          \n",
       "3 0                      11299          \n",
       "4 0                      11299          \n",
       "5 0                      11299          \n",
       "6 0                      11299          "
      ]
     },
     "metadata": {},
     "output_type": "display_data"
    }
   ],
   "source": [
    "head(SimDispXNRecSamp)"
   ]
  },
  {
   "cell_type": "code",
   "execution_count": 9,
   "metadata": {},
   "outputs": [],
   "source": [
    "#put in North-South order for kernel fitting\n",
    "SitesNS <- read.csv(\"~/parentage/text_file/sites_NS.txt\", stringsAsFactors = F) %>%\n",
    "    mutate(site=ifelse(site ==\"S. Magbangon\" , \"Magbangon\", site)) %>%\n",
    "    filter(site != \"N. Magbangon\") %>%\n",
    "    dplyr::select( -index)\n",
    "\n",
    "#SitesNS$index <- seq(1,18, 1) #might not need this....\n",
    "#SitesNS$destination <- SitesNS$source\n"
   ]
  },
  {
   "cell_type": "code",
   "execution_count": 18,
   "metadata": {},
   "outputs": [
    {
     "data": {
      "text/html": [
       "324"
      ],
      "text/latex": [
       "324"
      ],
      "text/markdown": [
       "324"
      ],
      "text/plain": [
       "[1] 324"
      ]
     },
     "metadata": {},
     "output_type": "display_data"
    }
   ],
   "source": [
    "#try predicting the occurence of dispersal numbers with some kind of regression model\n",
    "#put in North-South order for kernel fitting\n",
    "SitesNS <- read.csv(\"~/parentage/text_file/sites_NS.txt\", stringsAsFactors = F) %>%\n",
    "    mutate(site=ifelse(site ==\"S. Magbangon\" , \"Magbangon\", site)) %>%\n",
    "    filter(site != \"N. Magbangon\") %>%\n",
    "    dplyr::select( -index)\n",
    "\n",
    "#SitesNS$index <- seq(1,18, 1) #might not need this....\n",
    "#SitesNS$destination <- SitesNS$source\n",
    "\n",
    "#join together all of the data first\n",
    "\n",
    "#get a data frame with number of genetic observations and number of simulated for each site to site pair, as well as a pairwise distance matrix\n",
    "centroids <- read.csv(\"~/parentage/kernel_fitting/1340_loci/input/site_centroids.csv\", header=TRUE, stringsAsFactors = F) %>%\n",
    "    mutate(site=ifelse(site ==\"S.Magbangon\" , \"Magbangon\", site)) %>%\n",
    "    filter(site != \"N.Magbangon\") %>%\n",
    "    filter(site %in% SitesNS$site)\n",
    "\n",
    "\n",
    "##calculate the distance from all potential parents and all potential offspring\n",
    "all_possible_dists <- as.data.frame(rdist.earth(as.matrix(centroids[,c('lon', 'lat')]), as.matrix(centroids[,c('lon', 'lat')]), miles=FALSE, R=6371))\n",
    "#\n",
    "##attach the sample_ids to each distance, so you can also get site and year\n",
    "colnames(all_possible_dists) <- centroids$site\n",
    "all_possible_dists$site_i <- centroids$site\n",
    "#\n",
    "##gather into tidy \n",
    "all_possible_dists_tidy <- all_possible_dists %>%\n",
    "    dplyr::select(site_i, everything()) %>%\n",
    "    gather(2:19, key=site_j, value=dist_km) \n",
    "nrow(all_possible_dists_tidy)\n",
    "\n",
    "\n"
   ]
  },
  {
   "cell_type": "code",
   "execution_count": 20,
   "metadata": {},
   "outputs": [
    {
     "data": {
      "text/html": [
       "<table>\n",
       "<thead><tr><th scope=col>Cabatoan</th><th scope=col>Caridad Cemetery</th><th scope=col>Caridad Proper</th><th scope=col>Elementary School</th><th scope=col>Gabas</th><th scope=col>Haina</th><th scope=col>Hicgop South</th><th scope=col>Magbangon</th><th scope=col>Palanas</th><th scope=col>Poroc Rose</th><th scope=col>Poroc San Flower</th><th scope=col>San Agustin</th><th scope=col>Sitio Baybayon</th><th scope=col>Sitio Lonas</th><th scope=col>Sitio Tugas</th><th scope=col>Tamakin Dacot</th><th scope=col>Visca</th><th scope=col>Wangag</th><th scope=col>site_i</th></tr></thead>\n",
       "<tbody>\n",
       "\t<tr><td> 0.000000        </td><td>3.038692e+00     </td><td>3.789504e+00     </td><td> 7.740421        </td><td>15.924821        </td><td>24.577900        </td><td> 6.114777        </td><td> 0.2495696       </td><td> 2.660843        </td><td>12.798627        </td><td>11.983814        </td><td>11.424317        </td><td>24.9105625       </td><td>10.887220        </td><td> 6.9777870       </td><td>23.388433        </td><td>13.968751        </td><td> 2.134203        </td><td>Cabatoan         </td></tr>\n",
       "\t<tr><td> 3.038692        </td><td>9.493530e-05     </td><td>7.636321e-01     </td><td> 4.775854        </td><td>13.080011        </td><td>22.050107        </td><td> 3.098730        </td><td> 3.2880591       </td><td> 5.692889        </td><td> 9.910745        </td><td> 9.057865        </td><td> 8.489400        </td><td>22.4353814       </td><td> 7.932351        </td><td> 3.9858954       </td><td>20.820482        </td><td>11.117050        </td><td> 5.159038        </td><td>Caridad Cemetery </td></tr>\n",
       "\t<tr><td> 3.789504        </td><td>7.636321e-01     </td><td>9.493530e-05     </td><td> 4.014960        </td><td>12.331398        </td><td>21.355234        </td><td> 2.335660        </td><td> 4.0382676       </td><td> 6.447918        </td><td> 9.157139        </td><td> 8.299290        </td><td> 7.729948        </td><td>21.7509720       </td><td> 7.170873        </td><td> 3.2226326       </td><td>20.118346        </td><td>10.368474        </td><td> 5.915797        </td><td>Caridad Proper   </td></tr>\n",
       "\t<tr><td> 7.740421        </td><td>4.775854e+00     </td><td>4.014960e+00     </td><td> 0.000000        </td><td> 8.353842        </td><td>17.625239        </td><td> 1.730523        </td><td> 7.9844248       </td><td>10.395512        </td><td> 5.163004        </td><td> 4.287362        </td><td> 3.716243        </td><td>18.0747093       </td><td> 3.156729        </td><td> 0.8191489       </td><td>16.354591        </td><td> 6.395648        </td><td> 9.874129        </td><td>Elementary School</td></tr>\n",
       "\t<tr><td>15.924821        </td><td>1.308001e+01     </td><td>1.233140e+01     </td><td> 8.353842        </td><td> 0.000000        </td><td> 9.763888        </td><td>10.084115        </td><td>16.1581187       </td><td>18.527005        </td><td> 3.197051        </td><td> 4.121372        </td><td> 4.693835        </td><td>10.3497100       </td><td> 5.293913        </td><td> 9.1715042       </td><td> 8.438427        </td><td> 1.962985        </td><td>18.030177        </td><td>Gabas            </td></tr>\n",
       "\t<tr><td>24.577900        </td><td>2.205011e+01     </td><td>2.135523e+01     </td><td>17.625239        </td><td> 9.763888        </td><td> 0.000000        </td><td>19.312642        </td><td>24.7849757       </td><td>26.992011        </td><td>12.750061        </td><td>13.706185        </td><td>14.246287        </td><td> 0.8007074       </td><td>14.845685        </td><td>18.4303146       </td><td> 1.329357        </td><td>11.500480        </td><td>26.553263        </td><td>Haina            </td></tr>\n",
       "</tbody>\n",
       "</table>\n"
      ],
      "text/latex": [
       "\\begin{tabular}{r|lllllllllllllllllll}\n",
       " Cabatoan & Caridad Cemetery & Caridad Proper & Elementary School & Gabas & Haina & Hicgop South & Magbangon & Palanas & Poroc Rose & Poroc San Flower & San Agustin & Sitio Baybayon & Sitio Lonas & Sitio Tugas & Tamakin Dacot & Visca & Wangag & site\\_i\\\\\n",
       "\\hline\n",
       "\t  0.000000         & 3.038692e+00      & 3.789504e+00      &  7.740421         & 15.924821         & 24.577900         &  6.114777         &  0.2495696        &  2.660843         & 12.798627         & 11.983814         & 11.424317         & 24.9105625        & 10.887220         &  6.9777870        & 23.388433         & 13.968751         &  2.134203         & Cabatoan         \\\\\n",
       "\t  3.038692         & 9.493530e-05      & 7.636321e-01      &  4.775854         & 13.080011         & 22.050107         &  3.098730         &  3.2880591        &  5.692889         &  9.910745         &  9.057865         &  8.489400         & 22.4353814        &  7.932351         &  3.9858954        & 20.820482         & 11.117050         &  5.159038         & Caridad Cemetery \\\\\n",
       "\t  3.789504         & 7.636321e-01      & 9.493530e-05      &  4.014960         & 12.331398         & 21.355234         &  2.335660         &  4.0382676        &  6.447918         &  9.157139         &  8.299290         &  7.729948         & 21.7509720        &  7.170873         &  3.2226326        & 20.118346         & 10.368474         &  5.915797         & Caridad Proper   \\\\\n",
       "\t  7.740421         & 4.775854e+00      & 4.014960e+00      &  0.000000         &  8.353842         & 17.625239         &  1.730523         &  7.9844248        & 10.395512         &  5.163004         &  4.287362         &  3.716243         & 18.0747093        &  3.156729         &  0.8191489        & 16.354591         &  6.395648         &  9.874129         & Elementary School\\\\\n",
       "\t 15.924821         & 1.308001e+01      & 1.233140e+01      &  8.353842         &  0.000000         &  9.763888         & 10.084115         & 16.1581187        & 18.527005         &  3.197051         &  4.121372         &  4.693835         & 10.3497100        &  5.293913         &  9.1715042        &  8.438427         &  1.962985         & 18.030177         & Gabas            \\\\\n",
       "\t 24.577900         & 2.205011e+01      & 2.135523e+01      & 17.625239         &  9.763888         &  0.000000         & 19.312642         & 24.7849757        & 26.992011         & 12.750061         & 13.706185         & 14.246287         &  0.8007074        & 14.845685         & 18.4303146        &  1.329357         & 11.500480         & 26.553263         & Haina            \\\\\n",
       "\\end{tabular}\n"
      ],
      "text/markdown": [
       "\n",
       "| Cabatoan | Caridad Cemetery | Caridad Proper | Elementary School | Gabas | Haina | Hicgop South | Magbangon | Palanas | Poroc Rose | Poroc San Flower | San Agustin | Sitio Baybayon | Sitio Lonas | Sitio Tugas | Tamakin Dacot | Visca | Wangag | site_i |\n",
       "|---|---|---|---|---|---|---|---|---|---|---|---|---|---|---|---|---|---|---|\n",
       "|  0.000000         | 3.038692e+00      | 3.789504e+00      |  7.740421         | 15.924821         | 24.577900         |  6.114777         |  0.2495696        |  2.660843         | 12.798627         | 11.983814         | 11.424317         | 24.9105625        | 10.887220         |  6.9777870        | 23.388433         | 13.968751         |  2.134203         | Cabatoan          |\n",
       "|  3.038692         | 9.493530e-05      | 7.636321e-01      |  4.775854         | 13.080011         | 22.050107         |  3.098730         |  3.2880591        |  5.692889         |  9.910745         |  9.057865         |  8.489400         | 22.4353814        |  7.932351         |  3.9858954        | 20.820482         | 11.117050         |  5.159038         | Caridad Cemetery  |\n",
       "|  3.789504         | 7.636321e-01      | 9.493530e-05      |  4.014960         | 12.331398         | 21.355234         |  2.335660         |  4.0382676        |  6.447918         |  9.157139         |  8.299290         |  7.729948         | 21.7509720        |  7.170873         |  3.2226326        | 20.118346         | 10.368474         |  5.915797         | Caridad Proper    |\n",
       "|  7.740421         | 4.775854e+00      | 4.014960e+00      |  0.000000         |  8.353842         | 17.625239         |  1.730523         |  7.9844248        | 10.395512         |  5.163004         |  4.287362         |  3.716243         | 18.0747093        |  3.156729         |  0.8191489        | 16.354591         |  6.395648         |  9.874129         | Elementary School |\n",
       "| 15.924821         | 1.308001e+01      | 1.233140e+01      |  8.353842         |  0.000000         |  9.763888         | 10.084115         | 16.1581187        | 18.527005         |  3.197051         |  4.121372         |  4.693835         | 10.3497100        |  5.293913         |  9.1715042        |  8.438427         |  1.962985         | 18.030177         | Gabas             |\n",
       "| 24.577900         | 2.205011e+01      | 2.135523e+01      | 17.625239         |  9.763888         |  0.000000         | 19.312642         | 24.7849757        | 26.992011         | 12.750061         | 13.706185         | 14.246287         |  0.8007074        | 14.845685         | 18.4303146        |  1.329357         | 11.500480         | 26.553263         | Haina             |\n",
       "\n"
      ],
      "text/plain": [
       "  Cabatoan  Caridad Cemetery Caridad Proper Elementary School Gabas    \n",
       "1  0.000000 3.038692e+00     3.789504e+00    7.740421         15.924821\n",
       "2  3.038692 9.493530e-05     7.636321e-01    4.775854         13.080011\n",
       "3  3.789504 7.636321e-01     9.493530e-05    4.014960         12.331398\n",
       "4  7.740421 4.775854e+00     4.014960e+00    0.000000          8.353842\n",
       "5 15.924821 1.308001e+01     1.233140e+01    8.353842          0.000000\n",
       "6 24.577900 2.205011e+01     2.135523e+01   17.625239          9.763888\n",
       "  Haina     Hicgop South Magbangon  Palanas   Poroc Rose Poroc San Flower\n",
       "1 24.577900  6.114777     0.2495696  2.660843 12.798627  11.983814       \n",
       "2 22.050107  3.098730     3.2880591  5.692889  9.910745   9.057865       \n",
       "3 21.355234  2.335660     4.0382676  6.447918  9.157139   8.299290       \n",
       "4 17.625239  1.730523     7.9844248 10.395512  5.163004   4.287362       \n",
       "5  9.763888 10.084115    16.1581187 18.527005  3.197051   4.121372       \n",
       "6  0.000000 19.312642    24.7849757 26.992011 12.750061  13.706185       \n",
       "  San Agustin Sitio Baybayon Sitio Lonas Sitio Tugas Tamakin Dacot Visca    \n",
       "1 11.424317   24.9105625     10.887220    6.9777870  23.388433     13.968751\n",
       "2  8.489400   22.4353814      7.932351    3.9858954  20.820482     11.117050\n",
       "3  7.729948   21.7509720      7.170873    3.2226326  20.118346     10.368474\n",
       "4  3.716243   18.0747093      3.156729    0.8191489  16.354591      6.395648\n",
       "5  4.693835   10.3497100      5.293913    9.1715042   8.438427      1.962985\n",
       "6 14.246287    0.8007074     14.845685   18.4303146   1.329357     11.500480\n",
       "  Wangag    site_i           \n",
       "1  2.134203 Cabatoan         \n",
       "2  5.159038 Caridad Cemetery \n",
       "3  5.915797 Caridad Proper   \n",
       "4  9.874129 Elementary School\n",
       "5 18.030177 Gabas            \n",
       "6 26.553263 Haina            "
      ]
     },
     "metadata": {},
     "output_type": "display_data"
    }
   ],
   "source": [
    "head(all_possible_dists)"
   ]
  },
  {
   "cell_type": "code",
   "execution_count": 67,
   "metadata": {},
   "outputs": [
    {
     "name": "stderr",
     "output_type": "stream",
     "text": [
      "`summarise()` regrouping output by 'offs_site' (override with `.groups` argument)\n"
     ]
    },
    {
     "data": {
      "text/html": [
       "37"
      ],
      "text/latex": [
       "37"
      ],
      "text/markdown": [
       "37"
      ],
      "text/plain": [
       "[1] 37"
      ]
     },
     "metadata": {},
     "output_type": "display_data"
    }
   ],
   "source": [
    "disp_dist <- read.csv(file=\"~/parentage/colony2/20200605_1340loci/results/20200624colony_dispersaldirection.csv\", header=T, stringsAsFactors=F) %>%\n",
    "    #filter(year==\"2014\") %>%#testing effect of time\n",
    "    filter(year %in% c(\"2012\", \"2013\", \"2014\")) %>% #, \"2014\"\n",
    "    dplyr::select(year, dist_par_km, offs_site, par_site) %>%\n",
    "    group_by(offs_site, par_site) %>%\n",
    "    summarise(obs_disp=n())\n",
    "\n",
    "sum(disp_dist$obs_disp)#should be 37 for years of overlap between model and genetics, 21 for 2013\n",
    "#read in empirical kernel data\n",
    "load(\"~/parentage/r_data/cumulative_prop_hab_sampled_by_site.RData\")\n",
    "kernels <- read.csv(file=\"~/parentage/kernel_fitting/1340_loci/final_results/tables/kernel_fitting_summary.csv\", header=T)\n",
    "RecruitsSampled <- read.csv(file=\"~/oceanography/empirical_data/genetics/NumSampledRecruits.csv\", header=T)\n",
    "PropSamp <- cumulative_prop_hab_sampled_by_site %>%\n",
    "    mutate(total_possible_sample_anems = ifelse(site==\"Caridad Proper\", 4, total_possible_sample_anems) ) %>%\n",
    "    mutate(total_prop_hab_sampled_anems_tidied= ifelse(site==\"Caridad Proper\" & total_anems_sampled==4, 1, total_prop_hab_sampled_anems_tidied) ) %>%\n",
    "    mutate(total_possible_sample_anems = ifelse(site==\"Sitio Lonas\", total_anems_sampled, total_possible_sample_anems) ) %>%\n",
    "    mutate(total_prop_hab_sampled_anems_tidied= ifelse(site==\"Sitio Lonas\", 1, total_prop_hab_sampled_anems_tidied) )%>%\n",
    "    mutate(total_prop_hab_sampled_anems_tidied= ifelse(is.nan(total_prop_hab_sampled_anems_tidied), 0, total_prop_hab_sampled_anems_tidied) ) %>%\n",
    "    dplyr::select(site, time_frame, end_year, total_prop_hab_sampled_anems_tidied) %>%\n",
    "    filter(time_frame==end_year)\n",
    "\n",
    "PropSamp$site <- gsub(\". \", \".\", PropSamp$site, fixed=TRUE)\n",
    "\n"
   ]
  },
  {
   "cell_type": "code",
   "execution_count": 72,
   "metadata": {
    "scrolled": false
   },
   "outputs": [
    {
     "data": {
      "text/html": [
       "<table>\n",
       "<thead><tr><th scope=col>site</th><th scope=col>time_frame</th><th scope=col>end_year</th><th scope=col>total_prop_hab_sampled_anems_tidied</th></tr></thead>\n",
       "<tbody>\n",
       "\t<tr><td>Cabatoan         </td><td>2012             </td><td>2012             </td><td>0.4230769        </td></tr>\n",
       "\t<tr><td>Caridad Cemetery </td><td>2012             </td><td>2012             </td><td>0.0000000        </td></tr>\n",
       "\t<tr><td>Caridad Proper   </td><td>2012             </td><td>2012             </td><td>0.0000000        </td></tr>\n",
       "\t<tr><td>Elementary School</td><td>2012             </td><td>2012             </td><td>0.0000000        </td></tr>\n",
       "\t<tr><td>Gabas            </td><td>2012             </td><td>2012             </td><td>0.0000000        </td></tr>\n",
       "\t<tr><td>Haina            </td><td>2012             </td><td>2012             </td><td>0.0000000        </td></tr>\n",
       "</tbody>\n",
       "</table>\n"
      ],
      "text/latex": [
       "\\begin{tabular}{r|llll}\n",
       " site & time\\_frame & end\\_year & total\\_prop\\_hab\\_sampled\\_anems\\_tidied\\\\\n",
       "\\hline\n",
       "\t Cabatoan          & 2012              & 2012              & 0.4230769        \\\\\n",
       "\t Caridad Cemetery  & 2012              & 2012              & 0.0000000        \\\\\n",
       "\t Caridad Proper    & 2012              & 2012              & 0.0000000        \\\\\n",
       "\t Elementary School & 2012              & 2012              & 0.0000000        \\\\\n",
       "\t Gabas             & 2012              & 2012              & 0.0000000        \\\\\n",
       "\t Haina             & 2012              & 2012              & 0.0000000        \\\\\n",
       "\\end{tabular}\n"
      ],
      "text/markdown": [
       "\n",
       "| site | time_frame | end_year | total_prop_hab_sampled_anems_tidied |\n",
       "|---|---|---|---|\n",
       "| Cabatoan          | 2012              | 2012              | 0.4230769         |\n",
       "| Caridad Cemetery  | 2012              | 2012              | 0.0000000         |\n",
       "| Caridad Proper    | 2012              | 2012              | 0.0000000         |\n",
       "| Elementary School | 2012              | 2012              | 0.0000000         |\n",
       "| Gabas             | 2012              | 2012              | 0.0000000         |\n",
       "| Haina             | 2012              | 2012              | 0.0000000         |\n",
       "\n"
      ],
      "text/plain": [
       "  site              time_frame end_year total_prop_hab_sampled_anems_tidied\n",
       "1 Cabatoan          2012       2012     0.4230769                          \n",
       "2 Caridad Cemetery  2012       2012     0.0000000                          \n",
       "3 Caridad Proper    2012       2012     0.0000000                          \n",
       "4 Elementary School 2012       2012     0.0000000                          \n",
       "5 Gabas             2012       2012     0.0000000                          \n",
       "6 Haina             2012       2012     0.0000000                          "
      ]
     },
     "metadata": {},
     "output_type": "display_data"
    }
   ],
   "source": [
    "head(PropSamp)\n"
   ]
  },
  {
   "cell_type": "code",
   "execution_count": 69,
   "metadata": {},
   "outputs": [],
   "source": [
    "SimPlusGenWithDistInt <- left_join(SimDispXN, all_possible_dists_tidy, by=c(destination=\"site_j\", source=\"site_i\")) %>%\n",
    "    rename(ExpDisp=\"SumParticles\")\n",
    "\n",
    "SimPlusGenWithDist <- left_join(SimPlusGenWithDistInt, disp_dist, by=c(destination=\"offs_site\", source=\"par_site\")) %>%\n",
    "    mutate(obs_disp=ifelse(is.na(obs_disp), 0, obs_disp))\n"
   ]
  },
  {
   "cell_type": "code",
   "execution_count": 84,
   "metadata": {},
   "outputs": [],
   "source": [
    "SimGenMetaInt <- left_join(SimPlusGenWithDist, PropSamp, by=c(destination=\"site\", year=\"end_year\")) %>%\n",
    "    dplyr::select(-time_frame) %>%\n",
    "    mutate(prop_samp=ifelse(is.na(total_prop_hab_sampled_anems_tidied), 0, total_prop_hab_sampled_anems_tidied))\n",
    "#SimGenMeta <- left_join(SimGenMetaInt, , by=c(destination=\"site\"))\n",
    "\n",
    "#(SimGenMetaInt)\n"
   ]
  },
  {
   "cell_type": "code",
   "execution_count": 51,
   "metadata": {},
   "outputs": [
    {
     "data": {
      "text/html": [
       "0.0895061728395062"
      ],
      "text/latex": [
       "0.0895061728395062"
      ],
      "text/markdown": [
       "0.0895061728395062"
      ],
      "text/plain": [
       "[1] 0.08950617"
      ]
     },
     "metadata": {},
     "output_type": "display_data"
    },
    {
     "data": {
      "text/html": [
       "0.260708327374994"
      ],
      "text/latex": [
       "0.260708327374994"
      ],
      "text/markdown": [
       "0.260708327374994"
      ],
      "text/plain": [
       "[1] 0.2607083"
      ]
     },
     "metadata": {},
     "output_type": "display_data"
    }
   ],
   "source": [
    "mean(SimPlusGenWithDist$obs_disp)\n",
    "var(SimPlusGenWithDist$obs_disp)\n",
    "#overdispersion?\n",
    "#no, because residual deviance of the model is not greater than the df\n",
    "#Residual deviance: 774.21  on 1287  degrees of freedom"
   ]
  },
  {
   "cell_type": "code",
   "execution_count": 87,
   "metadata": {},
   "outputs": [
    {
     "data": {
      "text/plain": [
       "\n",
       "Call:\n",
       "glm(formula = obs_disp ~ ExpDisp * year + prop_samp + dist_km, \n",
       "    family = \"poisson\", data = SimGenMetaInt)\n",
       "\n",
       "Deviance Residuals: \n",
       "    Min       1Q   Median       3Q      Max  \n",
       "-1.7876  -0.4492  -0.4089  -0.3718   5.1993  \n",
       "\n",
       "Coefficients:\n",
       "                   Estimate Std. Error z value Pr(>|z|)    \n",
       "(Intercept)      -2.163e+00  2.222e-01  -9.734   <2e-16 ***\n",
       "ExpDisp           1.709e-05  2.557e-05   0.668   0.5038    \n",
       "year2012          1.118e-01  2.953e-01   0.379   0.7050    \n",
       "year2013         -1.127e-01  2.733e-01  -0.412   0.6800    \n",
       "year2014         -2.395e-02  2.678e-01  -0.089   0.9287    \n",
       "prop_samp        -5.593e-01  4.898e-01  -1.142   0.2534    \n",
       "dist_km          -2.908e-02  1.395e-02  -2.084   0.0371 *  \n",
       "ExpDisp:year2012  4.773e-05  4.117e-05   1.159   0.2463    \n",
       "ExpDisp:year2013  1.153e-04  4.583e-05   2.516   0.0119 *  \n",
       "ExpDisp:year2014  2.997e-05  4.272e-05   0.702   0.4829    \n",
       "---\n",
       "Signif. codes:  0 ‘***’ 0.001 ‘**’ 0.01 ‘*’ 0.05 ‘.’ 0.1 ‘ ’ 1\n",
       "\n",
       "(Dispersion parameter for poisson family taken to be 1)\n",
       "\n",
       "    Null deviance: 792.12  on 1295  degrees of freedom\n",
       "Residual deviance: 772.79  on 1286  degrees of freedom\n",
       "AIC: 921.5\n",
       "\n",
       "Number of Fisher Scoring iterations: 11\n"
      ]
     },
     "metadata": {},
     "output_type": "display_data"
    }
   ],
   "source": [
    "test_mod_int <- glm(obs_disp ~ ExpDisp* year + prop_samp + dist_km  , data=SimGenMetaInt, family=\"poisson\")\n",
    "summary(test_mod_int)\n"
   ]
  },
  {
   "cell_type": "code",
   "execution_count": 24,
   "metadata": {},
   "outputs": [
    {
     "data": {
      "text/plain": [
       "\n",
       "Call:\n",
       "glm(formula = obs_disp ~ ExpDisp + year + dist_km, family = \"poisson\", \n",
       "    data = SimPlusGenWithDist)\n",
       "\n",
       "Deviance Residuals: \n",
       "    Min       1Q   Median       3Q      Max  \n",
       "-1.5963  -0.4546  -0.4150  -0.3795   5.1143  \n",
       "\n",
       "Coefficients:\n",
       "              Estimate Std. Error z value Pr(>|z|)    \n",
       "(Intercept) -2.181e+00  2.237e-01  -9.749  < 2e-16 ***\n",
       "ExpDisp      3.666e-05  1.271e-05   2.885  0.00392 ** \n",
       "year2012     2.729e-02  2.642e-01   0.103  0.91774    \n",
       "year2013     3.267e-02  2.646e-01   0.123  0.90174    \n",
       "year2014     2.718e-02  2.641e-01   0.103  0.91804    \n",
       "dist_km     -3.168e-02  1.393e-02  -2.275  0.02293 *  \n",
       "---\n",
       "Signif. codes:  0 ‘***’ 0.001 ‘**’ 0.01 ‘*’ 0.05 ‘.’ 0.1 ‘ ’ 1\n",
       "\n",
       "(Dispersion parameter for poisson family taken to be 1)\n",
       "\n",
       "    Null deviance: 792.12  on 1295  degrees of freedom\n",
       "Residual deviance: 780.03  on 1290  degrees of freedom\n",
       "AIC: 920.74\n",
       "\n",
       "Number of Fisher Scoring iterations: 15\n"
      ]
     },
     "metadata": {},
     "output_type": "display_data"
    }
   ],
   "source": [
    "test_mod <- glm(obs_disp ~ ExpDisp +year+ dist_km, data=SimPlusGenWithDist, family=\"poisson\")\n",
    "summary(test_mod)\n",
    "\n",
    "#following this tutorial\n",
    "#https://stats.idre.ucla.edu/r/dae/poisson-regression/\n",
    "#the median is not quite 0, but close. if the median deviance is 0, then the deviance residuals are approximately normal and the model is specified correctly\n"
   ]
  },
  {
   "cell_type": "code",
   "execution_count": 25,
   "metadata": {},
   "outputs": [
    {
     "data": {
      "text/html": [
       "<table>\n",
       "<thead><tr><th></th><th scope=col>df</th><th scope=col>AIC</th></tr></thead>\n",
       "<tbody>\n",
       "\t<tr><th scope=row>test_mod</th><td>6       </td><td>920.7388</td></tr>\n",
       "\t<tr><th scope=row>test_mod_int</th><td>9       </td><td>920.9138</td></tr>\n",
       "</tbody>\n",
       "</table>\n"
      ],
      "text/latex": [
       "\\begin{tabular}{r|ll}\n",
       "  & df & AIC\\\\\n",
       "\\hline\n",
       "\ttest\\_mod & 6        & 920.7388\\\\\n",
       "\ttest\\_mod\\_int & 9        & 920.9138\\\\\n",
       "\\end{tabular}\n"
      ],
      "text/markdown": [
       "\n",
       "| <!--/--> | df | AIC |\n",
       "|---|---|---|\n",
       "| test_mod | 6        | 920.7388 |\n",
       "| test_mod_int | 9        | 920.9138 |\n",
       "\n"
      ],
      "text/plain": [
       "             df AIC     \n",
       "test_mod     6  920.7388\n",
       "test_mod_int 9  920.9138"
      ]
     },
     "metadata": {},
     "output_type": "display_data"
    }
   ],
   "source": [
    "AIC(test_mod, test_mod_int)"
   ]
  },
  {
   "cell_type": "code",
   "execution_count": 26,
   "metadata": {},
   "outputs": [
    {
     "data": {
      "text/html": [
       "<table>\n",
       "<thead><tr><th scope=col>res.deviance</th><th scope=col>df</th><th scope=col>p</th></tr></thead>\n",
       "<tbody>\n",
       "\t<tr><td>780.0319</td><td>1290    </td><td>1       </td></tr>\n",
       "</tbody>\n",
       "</table>\n"
      ],
      "text/latex": [
       "\\begin{tabular}{lll}\n",
       " res.deviance & df & p\\\\\n",
       "\\hline\n",
       "\t 780.0319 & 1290     & 1       \\\\\n",
       "\\end{tabular}\n"
      ],
      "text/markdown": [
       "\n",
       "| res.deviance | df | p |\n",
       "|---|---|---|\n",
       "| 780.0319 | 1290     | 1        |\n",
       "\n"
      ],
      "text/plain": [
       "     res.deviance df   p\n",
       "[1,] 780.0319     1290 1"
      ]
     },
     "metadata": {},
     "output_type": "display_data"
    }
   ],
   "source": [
    "#this isn't significant, which means the residual difference is small enough here to say the model fits reasonably well\n",
    "with(test_mod, cbind(res.deviance = deviance, df = df.residual,\n",
    "  p = pchisq(deviance, df.residual, lower.tail=FALSE)))\n"
   ]
  },
  {
   "cell_type": "code",
   "execution_count": null,
   "metadata": {},
   "outputs": [],
   "source": [
    "#how much devience is explained here?"
   ]
  },
  {
   "cell_type": "code",
   "execution_count": 27,
   "metadata": {},
   "outputs": [
    {
     "data": {
      "image/png": "[encoded data removed]",
      "text/plain": [
       "plot without title"
      ]
     },
     "metadata": {},
     "output_type": "display_data"
    }
   ],
   "source": [
    "plot(obs_disp ~ ExpDisp, data=SimPlusGenWithDist)"
   ]
  },
  {
   "cell_type": "code",
   "execution_count": 29,
   "metadata": {
    "scrolled": false
   },
   "outputs": [],
   "source": [
    "#plot(test_mod_int)"
   ]
  },
  {
   "cell_type": "code",
   "execution_count": 32,
   "metadata": {},
   "outputs": [
    {
     "data": {
      "text/html": [
       "<ol class=list-inline>\n",
       "\t<li>0</li>\n",
       "\t<li>66114</li>\n",
       "</ol>\n"
      ],
      "text/latex": [
       "\\begin{enumerate*}\n",
       "\\item 0\n",
       "\\item 66114\n",
       "\\end{enumerate*}\n"
      ],
      "text/markdown": [
       "1. 0\n",
       "2. 66114\n",
       "\n",
       "\n"
      ],
      "text/plain": [
       "[1]     0 66114"
      ]
     },
     "metadata": {},
     "output_type": "display_data"
    }
   ],
   "source": [
    "#plot predicted model\n",
    "range(SimPlusGenWithDist$ExpDisp)"
   ]
  },
  {
   "cell_type": "code",
   "execution_count": 33,
   "metadata": {},
   "outputs": [],
   "source": [
    "exp_disp_range <- seq(0, 66114, 1)"
   ]
  },
  {
   "cell_type": "code",
   "execution_count": 36,
   "metadata": {},
   "outputs": [],
   "source": [
    "obs_disp_pred <- predict(test_mod_int,type=\"response\")"
   ]
  },
  {
   "cell_type": "code",
   "execution_count": 39,
   "metadata": {},
   "outputs": [
    {
     "data": {
      "image/png": "[encoded data removed]",
      "text/plain": [
       "plot without title"
      ]
     },
     "metadata": {},
     "output_type": "display_data"
    }
   ],
   "source": [
    "plot( SimPlusGenWithDist$ExpDisp, SimPlusGenWithDist$obs_disp, pch = 16)#, xlab = \"WEIGHT (g)\", ylab = \"VS\")\n",
    "\n",
    "lines(obs_disp_pred)"
   ]
  },
  {
   "cell_type": "code",
   "execution_count": null,
   "metadata": {},
   "outputs": [],
   "source": []
  },
  {
   "cell_type": "code",
   "execution_count": 85,
   "metadata": {},
   "outputs": [
    {
     "name": "stderr",
     "output_type": "stream",
     "text": [
      "Warning message:\n",
      "“Setting row names on a tibble is deprecated.”"
     ]
    }
   ],
   "source": [
    "#sources are rows, columns are destinations, checked this? check again\n",
    "#also check if it matters that these are in alphabetical order YES it should be alphabetical\n",
    "SimDisp2013Mat <- SimDisp2013 %>%\n",
    "    group_by(destination, source) %>%\n",
    "    spread(destination, SumParticles)\n",
    "#\n",
    "rownames(SimDisp2013Mat) <- SimDisp2013Mat$source\n",
    "SimDisp2013Mat$source <- NULL"
   ]
  },
  {
   "cell_type": "code",
   "execution_count": 86,
   "metadata": {},
   "outputs": [],
   "source": [
    "#add in unassigned \n",
    "RowtoAddInt <- SimDisp2013RecSamp %>%\n",
    "    ungroup() %>%\n",
    "    arrange(destination) %>%\n",
    "    dplyr::select(TotalUnassigned)\n",
    "\n",
    "RowtoAdd <- as.data.frame(t(RowtoAddInt))\n",
    "colnames(RowtoAdd) <- colnames(SimDisp2013Mat)\n",
    "\n",
    "FullSimDisp2013 <- rbind(SimDisp2013Mat, RowtoAdd)\n",
    "rownames(FullSimDisp2013) <- NULL"
   ]
  },
  {
   "cell_type": "code",
   "execution_count": 71,
   "metadata": {},
   "outputs": [
    {
     "data": {
      "text/html": [
       "<table>\n",
       "<thead><tr><th scope=col>NA</th><th scope=col>NA</th><th scope=col>NA</th><th scope=col>NA</th><th scope=col>NA</th><th scope=col>NA</th><th scope=col>NA</th><th scope=col>NA</th><th scope=col>NA</th><th scope=col>NA</th><th scope=col>NA</th><th scope=col>NA</th><th scope=col>NA</th><th scope=col>NA</th><th scope=col>NA</th><th scope=col>NA</th><th scope=col>NA</th><th scope=col>NA</th></tr></thead>\n",
       "<tbody>\n",
       "\t<tr><td>  454</td><td>  699</td><td>  877</td><td>    8</td><td>   0 </td><td>    0</td><td>  651</td><td>  429</td><td>  66 </td><td>  13 </td><td>  22 </td><td>   87</td><td>  416</td><td>   87</td><td>   59</td><td>    0</td><td>    0</td><td> 126 </td></tr>\n",
       "\t<tr><td>  310</td><td> 1761</td><td> 1132</td><td>   44</td><td>   0 </td><td>    0</td><td>   84</td><td>  354</td><td>  57 </td><td>  10 </td><td>  32 </td><td>  199</td><td>  357</td><td>  166</td><td>   54</td><td>    0</td><td>    0</td><td>  69 </td></tr>\n",
       "\t<tr><td>  404</td><td>  563</td><td>  784</td><td>   11</td><td>   0 </td><td>    0</td><td>   77</td><td>  291</td><td>  35 </td><td>  19 </td><td>  92 </td><td>  325</td><td>  442</td><td>  307</td><td>   71</td><td>    0</td><td>    0</td><td>  53 </td></tr>\n",
       "\t<tr><td>  185</td><td>  360</td><td>  769</td><td>  524</td><td>   0 </td><td>    5</td><td> 1536</td><td>  246</td><td>  31 </td><td>  42 </td><td>  70 </td><td>  176</td><td>  193</td><td>  252</td><td>  652</td><td>    0</td><td>    0</td><td>  31 </td></tr>\n",
       "\t<tr><td>   48</td><td>   35</td><td>   95</td><td>  961</td><td>6253 </td><td>   38</td><td>  654</td><td>   73</td><td>   8 </td><td> 172 </td><td> 448 </td><td> 2136</td><td>  102</td><td> 3555</td><td>  912</td><td>   25</td><td> 2843</td><td>   5 </td></tr>\n",
       "\t<tr><td>   16</td><td>    1</td><td>    9</td><td>  127</td><td>  20 </td><td> 1366</td><td>   40</td><td>    9</td><td>   1 </td><td>  27 </td><td>  36 </td><td>   78</td><td>   10</td><td>   19</td><td>   49</td><td>  827</td><td>   41</td><td>   0 </td></tr>\n",
       "\t<tr><td>  554</td><td>  862</td><td> 1587</td><td>  531</td><td>   4 </td><td>   19</td><td> 1208</td><td>  337</td><td>  90 </td><td> 174 </td><td> 353 </td><td>  484</td><td>  615</td><td>  677</td><td>  513</td><td>   12</td><td>    4</td><td> 140 </td></tr>\n",
       "\t<tr><td>  400</td><td> 1034</td><td> 1146</td><td>   12</td><td>   0 </td><td>    0</td><td>  343</td><td>  175</td><td> 177 </td><td>   6 </td><td>  15 </td><td>   71</td><td>  688</td><td>   71</td><td>   45</td><td>    0</td><td>    0</td><td> 215 </td></tr>\n",
       "\t<tr><td>  209</td><td>  161</td><td>  190</td><td>    1</td><td>   0 </td><td>    0</td><td>   12</td><td>  143</td><td>  42 </td><td>   0 </td><td>   0 </td><td>    0</td><td> 1406</td><td>    0</td><td>   13</td><td>    0</td><td>    0</td><td> 239 </td></tr>\n",
       "\t<tr><td>   63</td><td>  180</td><td>  418</td><td>  419</td><td>   1 </td><td>   36</td><td>  179</td><td>    7</td><td>   6 </td><td> 273 </td><td> 506 </td><td>  811</td><td>   75</td><td> 2011</td><td>  440</td><td>   32</td><td>   99</td><td>  13 </td></tr>\n",
       "\t<tr><td>   17</td><td>   72</td><td>  278</td><td>  508</td><td>   0 </td><td>   46</td><td>  289</td><td>   16</td><td>   7 </td><td> 594 </td><td> 788 </td><td> 1768</td><td>   35</td><td> 3255</td><td>  615</td><td>   29</td><td>  163</td><td>  16 </td></tr>\n",
       "\t<tr><td>  114</td><td>   64</td><td>  426</td><td>  655</td><td>   0 </td><td>    5</td><td>  378</td><td>   86</td><td>   9 </td><td>1006 </td><td> 993 </td><td> 2159</td><td>   68</td><td> 4072</td><td>  562</td><td>    7</td><td>   61</td><td>  15 </td></tr>\n",
       "\t<tr><td> 1025</td><td> 2131</td><td> 2998</td><td>    4</td><td>   0 </td><td>    8</td><td>  351</td><td> 1221</td><td> 624 </td><td>  10 </td><td>  28 </td><td>  217</td><td> 8017</td><td>   71</td><td>  173</td><td>    4</td><td>    0</td><td>1080 </td></tr>\n",
       "\t<tr><td>  207</td><td>  202</td><td>  860</td><td>  218</td><td>   0 </td><td>    0</td><td> 2869</td><td>  163</td><td>  28 </td><td>   6 </td><td>  18 </td><td>  278</td><td>  191</td><td> 8805</td><td> 1270</td><td>    0</td><td>    9</td><td>  18 </td></tr>\n",
       "\t<tr><td>  212</td><td>  249</td><td>  431</td><td>   32</td><td>   0 </td><td>    0</td><td>   27</td><td>  112</td><td>  30 </td><td>  29 </td><td>  43 </td><td>  121</td><td>  561</td><td>  211</td><td>   90</td><td>    0</td><td>    0</td><td>  66 </td></tr>\n",
       "\t<tr><td>    1</td><td>    3</td><td>    5</td><td>    0</td><td>  42 </td><td> 6920</td><td>   11</td><td>    1</td><td>   0 </td><td>  10 </td><td>   3 </td><td>   10</td><td>    1</td><td>   20</td><td>    4</td><td>31582</td><td>  220</td><td>   0 </td></tr>\n",
       "\t<tr><td>   33</td><td>   19</td><td>  198</td><td>  507</td><td>   3 </td><td>   33</td><td>  162</td><td>   28</td><td>   3 </td><td> 388 </td><td> 736 </td><td> 1615</td><td>   32</td><td> 2608</td><td>  344</td><td>   50</td><td>  115</td><td>   1 </td></tr>\n",
       "\t<tr><td>  412</td><td>  680</td><td>  885</td><td>    0</td><td>   0 </td><td>    0</td><td>   95</td><td>  593</td><td> 221 </td><td>   4 </td><td>   0 </td><td>    4</td><td> 3334</td><td>    7</td><td>   12</td><td>    0</td><td>    0</td><td> 447 </td></tr>\n",
       "\t<tr><td>12514</td><td>17433</td><td>19984</td><td>10327</td><td>5747 </td><td>20442</td><td>14864</td><td>11597</td><td>8038 </td><td>3638 </td><td>7093 </td><td>21278</td><td>21814</td><td>23219</td><td>10309</td><td>63981</td><td>14064</td><td>8777 </td></tr>\n",
       "</tbody>\n",
       "</table>\n"
      ],
      "text/latex": [
       "\\begin{tabular}{r|llllllllllllllllll}\n",
       " NA & NA & NA & NA & NA & NA & NA & NA & NA & NA & NA & NA & NA & NA & NA & NA & NA & NA\\\\\n",
       "\\hline\n",
       "\t   454 &   699 &   877 &     8 &    0  &     0 &   651 &   429 &   66  &   13  &   22  &    87 &   416 &    87 &    59 &     0 &     0 &  126 \\\\\n",
       "\t   310 &  1761 &  1132 &    44 &    0  &     0 &    84 &   354 &   57  &   10  &   32  &   199 &   357 &   166 &    54 &     0 &     0 &   69 \\\\\n",
       "\t   404 &   563 &   784 &    11 &    0  &     0 &    77 &   291 &   35  &   19  &   92  &   325 &   442 &   307 &    71 &     0 &     0 &   53 \\\\\n",
       "\t   185 &   360 &   769 &   524 &    0  &     5 &  1536 &   246 &   31  &   42  &   70  &   176 &   193 &   252 &   652 &     0 &     0 &   31 \\\\\n",
       "\t    48 &    35 &    95 &   961 & 6253  &    38 &   654 &    73 &    8  &  172  &  448  &  2136 &   102 &  3555 &   912 &    25 &  2843 &    5 \\\\\n",
       "\t    16 &     1 &     9 &   127 &   20  &  1366 &    40 &     9 &    1  &   27  &   36  &    78 &    10 &    19 &    49 &   827 &    41 &    0 \\\\\n",
       "\t   554 &   862 &  1587 &   531 &    4  &    19 &  1208 &   337 &   90  &  174  &  353  &   484 &   615 &   677 &   513 &    12 &     4 &  140 \\\\\n",
       "\t   400 &  1034 &  1146 &    12 &    0  &     0 &   343 &   175 &  177  &    6  &   15  &    71 &   688 &    71 &    45 &     0 &     0 &  215 \\\\\n",
       "\t   209 &   161 &   190 &     1 &    0  &     0 &    12 &   143 &   42  &    0  &    0  &     0 &  1406 &     0 &    13 &     0 &     0 &  239 \\\\\n",
       "\t    63 &   180 &   418 &   419 &    1  &    36 &   179 &     7 &    6  &  273  &  506  &   811 &    75 &  2011 &   440 &    32 &    99 &   13 \\\\\n",
       "\t    17 &    72 &   278 &   508 &    0  &    46 &   289 &    16 &    7  &  594  &  788  &  1768 &    35 &  3255 &   615 &    29 &   163 &   16 \\\\\n",
       "\t   114 &    64 &   426 &   655 &    0  &     5 &   378 &    86 &    9  & 1006  &  993  &  2159 &    68 &  4072 &   562 &     7 &    61 &   15 \\\\\n",
       "\t  1025 &  2131 &  2998 &     4 &    0  &     8 &   351 &  1221 &  624  &   10  &   28  &   217 &  8017 &    71 &   173 &     4 &     0 & 1080 \\\\\n",
       "\t   207 &   202 &   860 &   218 &    0  &     0 &  2869 &   163 &   28  &    6  &   18  &   278 &   191 &  8805 &  1270 &     0 &     9 &   18 \\\\\n",
       "\t   212 &   249 &   431 &    32 &    0  &     0 &    27 &   112 &   30  &   29  &   43  &   121 &   561 &   211 &    90 &     0 &     0 &   66 \\\\\n",
       "\t     1 &     3 &     5 &     0 &   42  &  6920 &    11 &     1 &    0  &   10  &    3  &    10 &     1 &    20 &     4 & 31582 &   220 &    0 \\\\\n",
       "\t    33 &    19 &   198 &   507 &    3  &    33 &   162 &    28 &    3  &  388  &  736  &  1615 &    32 &  2608 &   344 &    50 &   115 &    1 \\\\\n",
       "\t   412 &   680 &   885 &     0 &    0  &     0 &    95 &   593 &  221  &    4  &    0  &     4 &  3334 &     7 &    12 &     0 &     0 &  447 \\\\\n",
       "\t 12514 & 17433 & 19984 & 10327 & 5747  & 20442 & 14864 & 11597 & 8038  & 3638  & 7093  & 21278 & 21814 & 23219 & 10309 & 63981 & 14064 & 8777 \\\\\n",
       "\\end{tabular}\n"
      ],
      "text/markdown": [
       "\n",
       "| NA | NA | NA | NA | NA | NA | NA | NA | NA | NA | NA | NA | NA | NA | NA | NA | NA | NA |\n",
       "|---|---|---|---|---|---|---|---|---|---|---|---|---|---|---|---|---|---|\n",
       "|   454 |   699 |   877 |     8 |    0  |     0 |   651 |   429 |   66  |   13  |   22  |    87 |   416 |    87 |    59 |     0 |     0 |  126  |\n",
       "|   310 |  1761 |  1132 |    44 |    0  |     0 |    84 |   354 |   57  |   10  |   32  |   199 |   357 |   166 |    54 |     0 |     0 |   69  |\n",
       "|   404 |   563 |   784 |    11 |    0  |     0 |    77 |   291 |   35  |   19  |   92  |   325 |   442 |   307 |    71 |     0 |     0 |   53  |\n",
       "|   185 |   360 |   769 |   524 |    0  |     5 |  1536 |   246 |   31  |   42  |   70  |   176 |   193 |   252 |   652 |     0 |     0 |   31  |\n",
       "|    48 |    35 |    95 |   961 | 6253  |    38 |   654 |    73 |    8  |  172  |  448  |  2136 |   102 |  3555 |   912 |    25 |  2843 |    5  |\n",
       "|    16 |     1 |     9 |   127 |   20  |  1366 |    40 |     9 |    1  |   27  |   36  |    78 |    10 |    19 |    49 |   827 |    41 |    0  |\n",
       "|   554 |   862 |  1587 |   531 |    4  |    19 |  1208 |   337 |   90  |  174  |  353  |   484 |   615 |   677 |   513 |    12 |     4 |  140  |\n",
       "|   400 |  1034 |  1146 |    12 |    0  |     0 |   343 |   175 |  177  |    6  |   15  |    71 |   688 |    71 |    45 |     0 |     0 |  215  |\n",
       "|   209 |   161 |   190 |     1 |    0  |     0 |    12 |   143 |   42  |    0  |    0  |     0 |  1406 |     0 |    13 |     0 |     0 |  239  |\n",
       "|    63 |   180 |   418 |   419 |    1  |    36 |   179 |     7 |    6  |  273  |  506  |   811 |    75 |  2011 |   440 |    32 |    99 |   13  |\n",
       "|    17 |    72 |   278 |   508 |    0  |    46 |   289 |    16 |    7  |  594  |  788  |  1768 |    35 |  3255 |   615 |    29 |   163 |   16  |\n",
       "|   114 |    64 |   426 |   655 |    0  |     5 |   378 |    86 |    9  | 1006  |  993  |  2159 |    68 |  4072 |   562 |     7 |    61 |   15  |\n",
       "|  1025 |  2131 |  2998 |     4 |    0  |     8 |   351 |  1221 |  624  |   10  |   28  |   217 |  8017 |    71 |   173 |     4 |     0 | 1080  |\n",
       "|   207 |   202 |   860 |   218 |    0  |     0 |  2869 |   163 |   28  |    6  |   18  |   278 |   191 |  8805 |  1270 |     0 |     9 |   18  |\n",
       "|   212 |   249 |   431 |    32 |    0  |     0 |    27 |   112 |   30  |   29  |   43  |   121 |   561 |   211 |    90 |     0 |     0 |   66  |\n",
       "|     1 |     3 |     5 |     0 |   42  |  6920 |    11 |     1 |    0  |   10  |    3  |    10 |     1 |    20 |     4 | 31582 |   220 |    0  |\n",
       "|    33 |    19 |   198 |   507 |    3  |    33 |   162 |    28 |    3  |  388  |  736  |  1615 |    32 |  2608 |   344 |    50 |   115 |    1  |\n",
       "|   412 |   680 |   885 |     0 |    0  |     0 |    95 |   593 |  221  |    4  |    0  |     4 |  3334 |     7 |    12 |     0 |     0 |  447  |\n",
       "| 12514 | 17433 | 19984 | 10327 | 5747  | 20442 | 14864 | 11597 | 8038  | 3638  | 7093  | 21278 | 21814 | 23219 | 10309 | 63981 | 14064 | 8777  |\n",
       "\n"
      ],
      "text/plain": [
       "   <NA>  <NA>  <NA>  <NA>  <NA> <NA>  <NA>  <NA>  <NA> <NA> <NA> <NA>  <NA> \n",
       "1    454   699   877     8    0     0   651   429   66   13   22    87   416\n",
       "2    310  1761  1132    44    0     0    84   354   57   10   32   199   357\n",
       "3    404   563   784    11    0     0    77   291   35   19   92   325   442\n",
       "4    185   360   769   524    0     5  1536   246   31   42   70   176   193\n",
       "5     48    35    95   961 6253    38   654    73    8  172  448  2136   102\n",
       "6     16     1     9   127   20  1366    40     9    1   27   36    78    10\n",
       "7    554   862  1587   531    4    19  1208   337   90  174  353   484   615\n",
       "8    400  1034  1146    12    0     0   343   175  177    6   15    71   688\n",
       "9    209   161   190     1    0     0    12   143   42    0    0     0  1406\n",
       "10    63   180   418   419    1    36   179     7    6  273  506   811    75\n",
       "11    17    72   278   508    0    46   289    16    7  594  788  1768    35\n",
       "12   114    64   426   655    0     5   378    86    9 1006  993  2159    68\n",
       "13  1025  2131  2998     4    0     8   351  1221  624   10   28   217  8017\n",
       "14   207   202   860   218    0     0  2869   163   28    6   18   278   191\n",
       "15   212   249   431    32    0     0    27   112   30   29   43   121   561\n",
       "16     1     3     5     0   42  6920    11     1    0   10    3    10     1\n",
       "17    33    19   198   507    3    33   162    28    3  388  736  1615    32\n",
       "18   412   680   885     0    0     0    95   593  221    4    0     4  3334\n",
       "19 12514 17433 19984 10327 5747 20442 14864 11597 8038 3638 7093 21278 21814\n",
       "   <NA>  <NA>  <NA>  <NA>  <NA>\n",
       "1     87    59     0     0  126\n",
       "2    166    54     0     0   69\n",
       "3    307    71     0     0   53\n",
       "4    252   652     0     0   31\n",
       "5   3555   912    25  2843    5\n",
       "6     19    49   827    41    0\n",
       "7    677   513    12     4  140\n",
       "8     71    45     0     0  215\n",
       "9      0    13     0     0  239\n",
       "10  2011   440    32    99   13\n",
       "11  3255   615    29   163   16\n",
       "12  4072   562     7    61   15\n",
       "13    71   173     4     0 1080\n",
       "14  8805  1270     0     9   18\n",
       "15   211    90     0     0   66\n",
       "16    20     4 31582   220    0\n",
       "17  2608   344    50   115    1\n",
       "18     7    12     0     0  447\n",
       "19 23219 10309 63981 14064 8777"
      ]
     },
     "metadata": {},
     "output_type": "display_data"
    }
   ],
   "source": [
    "FullSimDisp2012"
   ]
  },
  {
   "cell_type": "code",
   "execution_count": 35,
   "metadata": {},
   "outputs": [
    {
     "data": {
      "text/html": [
       "<table>\n",
       "<thead><tr><th scope=col>Cabatoan</th><th scope=col>Caridad Cemetery</th><th scope=col>Caridad Proper</th><th scope=col>Elementary School</th><th scope=col>Gabas</th><th scope=col>Haina</th><th scope=col>Hicgop South</th><th scope=col>Magbangon</th><th scope=col>Palanas</th><th scope=col>Poroc Rose</th><th scope=col>Poroc San Flower</th><th scope=col>San Agustin</th><th scope=col>Sitio Baybayon</th><th scope=col>Sitio Lonas</th><th scope=col>Sitio Tugas</th><th scope=col>Tamakin Dacot</th><th scope=col>Visca</th><th scope=col>Wangag</th></tr></thead>\n",
       "<tbody>\n",
       "\t<tr><td> 454 </td><td> 699 </td><td> 877 </td><td>  8  </td><td>   0 </td><td>   0 </td><td> 651 </td><td> 429 </td><td> 66  </td><td>  13 </td><td> 22  </td><td>  87 </td><td> 416 </td><td>  87 </td><td>  59 </td><td>    0</td><td>   0 </td><td> 126 </td></tr>\n",
       "\t<tr><td> 310 </td><td>1761 </td><td>1132 </td><td> 44  </td><td>   0 </td><td>   0 </td><td>  84 </td><td> 354 </td><td> 57  </td><td>  10 </td><td> 32  </td><td> 199 </td><td> 357 </td><td> 166 </td><td>  54 </td><td>    0</td><td>   0 </td><td>  69 </td></tr>\n",
       "\t<tr><td> 404 </td><td> 563 </td><td> 784 </td><td> 11  </td><td>   0 </td><td>   0 </td><td>  77 </td><td> 291 </td><td> 35  </td><td>  19 </td><td> 92  </td><td> 325 </td><td> 442 </td><td> 307 </td><td>  71 </td><td>    0</td><td>   0 </td><td>  53 </td></tr>\n",
       "\t<tr><td> 185 </td><td> 360 </td><td> 769 </td><td>524  </td><td>   0 </td><td>   5 </td><td>1536 </td><td> 246 </td><td> 31  </td><td>  42 </td><td> 70  </td><td> 176 </td><td> 193 </td><td> 252 </td><td> 652 </td><td>    0</td><td>   0 </td><td>  31 </td></tr>\n",
       "\t<tr><td>  48 </td><td>  35 </td><td>  95 </td><td>961  </td><td>6253 </td><td>  38 </td><td> 654 </td><td>  73 </td><td>  8  </td><td> 172 </td><td>448  </td><td>2136 </td><td> 102 </td><td>3555 </td><td> 912 </td><td>   25</td><td>2843 </td><td>   5 </td></tr>\n",
       "\t<tr><td>  16 </td><td>   1 </td><td>   9 </td><td>127  </td><td>  20 </td><td>1366 </td><td>  40 </td><td>   9 </td><td>  1  </td><td>  27 </td><td> 36  </td><td>  78 </td><td>  10 </td><td>  19 </td><td>  49 </td><td>  827</td><td>  41 </td><td>   0 </td></tr>\n",
       "\t<tr><td> 554 </td><td> 862 </td><td>1587 </td><td>531  </td><td>   4 </td><td>  19 </td><td>1208 </td><td> 337 </td><td> 90  </td><td> 174 </td><td>353  </td><td> 484 </td><td> 615 </td><td> 677 </td><td> 513 </td><td>   12</td><td>   4 </td><td> 140 </td></tr>\n",
       "\t<tr><td> 400 </td><td>1034 </td><td>1146 </td><td> 12  </td><td>   0 </td><td>   0 </td><td> 343 </td><td> 175 </td><td>177  </td><td>   6 </td><td> 15  </td><td>  71 </td><td> 688 </td><td>  71 </td><td>  45 </td><td>    0</td><td>   0 </td><td> 215 </td></tr>\n",
       "\t<tr><td> 209 </td><td> 161 </td><td> 190 </td><td>  1  </td><td>   0 </td><td>   0 </td><td>  12 </td><td> 143 </td><td> 42  </td><td>   0 </td><td>  0  </td><td>   0 </td><td>1406 </td><td>   0 </td><td>  13 </td><td>    0</td><td>   0 </td><td> 239 </td></tr>\n",
       "\t<tr><td>  63 </td><td> 180 </td><td> 418 </td><td>419  </td><td>   1 </td><td>  36 </td><td> 179 </td><td>   7 </td><td>  6  </td><td> 273 </td><td>506  </td><td> 811 </td><td>  75 </td><td>2011 </td><td> 440 </td><td>   32</td><td>  99 </td><td>  13 </td></tr>\n",
       "\t<tr><td>  17 </td><td>  72 </td><td> 278 </td><td>508  </td><td>   0 </td><td>  46 </td><td> 289 </td><td>  16 </td><td>  7  </td><td> 594 </td><td>788  </td><td>1768 </td><td>  35 </td><td>3255 </td><td> 615 </td><td>   29</td><td> 163 </td><td>  16 </td></tr>\n",
       "\t<tr><td> 114 </td><td>  64 </td><td> 426 </td><td>655  </td><td>   0 </td><td>   5 </td><td> 378 </td><td>  86 </td><td>  9  </td><td>1006 </td><td>993  </td><td>2159 </td><td>  68 </td><td>4072 </td><td> 562 </td><td>    7</td><td>  61 </td><td>  15 </td></tr>\n",
       "\t<tr><td>1025 </td><td>2131 </td><td>2998 </td><td>  4  </td><td>   0 </td><td>   8 </td><td> 351 </td><td>1221 </td><td>624  </td><td>  10 </td><td> 28  </td><td> 217 </td><td>8017 </td><td>  71 </td><td> 173 </td><td>    4</td><td>   0 </td><td>1080 </td></tr>\n",
       "\t<tr><td> 207 </td><td> 202 </td><td> 860 </td><td>218  </td><td>   0 </td><td>   0 </td><td>2869 </td><td> 163 </td><td> 28  </td><td>   6 </td><td> 18  </td><td> 278 </td><td> 191 </td><td>8805 </td><td>1270 </td><td>    0</td><td>   9 </td><td>  18 </td></tr>\n",
       "\t<tr><td> 212 </td><td> 249 </td><td> 431 </td><td> 32  </td><td>   0 </td><td>   0 </td><td>  27 </td><td> 112 </td><td> 30  </td><td>  29 </td><td> 43  </td><td> 121 </td><td> 561 </td><td> 211 </td><td>  90 </td><td>    0</td><td>   0 </td><td>  66 </td></tr>\n",
       "\t<tr><td>   1 </td><td>   3 </td><td>   5 </td><td>  0  </td><td>  42 </td><td>6920 </td><td>  11 </td><td>   1 </td><td>  0  </td><td>  10 </td><td>  3  </td><td>  10 </td><td>   1 </td><td>  20 </td><td>   4 </td><td>31582</td><td> 220 </td><td>   0 </td></tr>\n",
       "\t<tr><td>  33 </td><td>  19 </td><td> 198 </td><td>507  </td><td>   3 </td><td>  33 </td><td> 162 </td><td>  28 </td><td>  3  </td><td> 388 </td><td>736  </td><td>1615 </td><td>  32 </td><td>2608 </td><td> 344 </td><td>   50</td><td> 115 </td><td>   1 </td></tr>\n",
       "\t<tr><td> 412 </td><td> 680 </td><td> 885 </td><td>  0  </td><td>   0 </td><td>   0 </td><td>  95 </td><td> 593 </td><td>221  </td><td>   4 </td><td>  0  </td><td>   4 </td><td>3334 </td><td>   7 </td><td>  12 </td><td>    0</td><td>   0 </td><td> 447 </td></tr>\n",
       "</tbody>\n",
       "</table>\n"
      ],
      "text/latex": [
       "\\begin{tabular}{r|llllllllllllllllll}\n",
       " Cabatoan & Caridad Cemetery & Caridad Proper & Elementary School & Gabas & Haina & Hicgop South & Magbangon & Palanas & Poroc Rose & Poroc San Flower & San Agustin & Sitio Baybayon & Sitio Lonas & Sitio Tugas & Tamakin Dacot & Visca & Wangag\\\\\n",
       "\\hline\n",
       "\t  454  &  699  &  877  &   8   &    0  &    0  &  651  &  429  &  66   &   13  &  22   &   87  &  416  &   87  &   59  &     0 &    0  &  126 \\\\\n",
       "\t  310  & 1761  & 1132  &  44   &    0  &    0  &   84  &  354  &  57   &   10  &  32   &  199  &  357  &  166  &   54  &     0 &    0  &   69 \\\\\n",
       "\t  404  &  563  &  784  &  11   &    0  &    0  &   77  &  291  &  35   &   19  &  92   &  325  &  442  &  307  &   71  &     0 &    0  &   53 \\\\\n",
       "\t  185  &  360  &  769  & 524   &    0  &    5  & 1536  &  246  &  31   &   42  &  70   &  176  &  193  &  252  &  652  &     0 &    0  &   31 \\\\\n",
       "\t   48  &   35  &   95  & 961   & 6253  &   38  &  654  &   73  &   8   &  172  & 448   & 2136  &  102  & 3555  &  912  &    25 & 2843  &    5 \\\\\n",
       "\t   16  &    1  &    9  & 127   &   20  & 1366  &   40  &    9  &   1   &   27  &  36   &   78  &   10  &   19  &   49  &   827 &   41  &    0 \\\\\n",
       "\t  554  &  862  & 1587  & 531   &    4  &   19  & 1208  &  337  &  90   &  174  & 353   &  484  &  615  &  677  &  513  &    12 &    4  &  140 \\\\\n",
       "\t  400  & 1034  & 1146  &  12   &    0  &    0  &  343  &  175  & 177   &    6  &  15   &   71  &  688  &   71  &   45  &     0 &    0  &  215 \\\\\n",
       "\t  209  &  161  &  190  &   1   &    0  &    0  &   12  &  143  &  42   &    0  &   0   &    0  & 1406  &    0  &   13  &     0 &    0  &  239 \\\\\n",
       "\t   63  &  180  &  418  & 419   &    1  &   36  &  179  &    7  &   6   &  273  & 506   &  811  &   75  & 2011  &  440  &    32 &   99  &   13 \\\\\n",
       "\t   17  &   72  &  278  & 508   &    0  &   46  &  289  &   16  &   7   &  594  & 788   & 1768  &   35  & 3255  &  615  &    29 &  163  &   16 \\\\\n",
       "\t  114  &   64  &  426  & 655   &    0  &    5  &  378  &   86  &   9   & 1006  & 993   & 2159  &   68  & 4072  &  562  &     7 &   61  &   15 \\\\\n",
       "\t 1025  & 2131  & 2998  &   4   &    0  &    8  &  351  & 1221  & 624   &   10  &  28   &  217  & 8017  &   71  &  173  &     4 &    0  & 1080 \\\\\n",
       "\t  207  &  202  &  860  & 218   &    0  &    0  & 2869  &  163  &  28   &    6  &  18   &  278  &  191  & 8805  & 1270  &     0 &    9  &   18 \\\\\n",
       "\t  212  &  249  &  431  &  32   &    0  &    0  &   27  &  112  &  30   &   29  &  43   &  121  &  561  &  211  &   90  &     0 &    0  &   66 \\\\\n",
       "\t    1  &    3  &    5  &   0   &   42  & 6920  &   11  &    1  &   0   &   10  &   3   &   10  &    1  &   20  &    4  & 31582 &  220  &    0 \\\\\n",
       "\t   33  &   19  &  198  & 507   &    3  &   33  &  162  &   28  &   3   &  388  & 736   & 1615  &   32  & 2608  &  344  &    50 &  115  &    1 \\\\\n",
       "\t  412  &  680  &  885  &   0   &    0  &    0  &   95  &  593  & 221   &    4  &   0   &    4  & 3334  &    7  &   12  &     0 &    0  &  447 \\\\\n",
       "\\end{tabular}\n"
      ],
      "text/markdown": [
       "\n",
       "| Cabatoan | Caridad Cemetery | Caridad Proper | Elementary School | Gabas | Haina | Hicgop South | Magbangon | Palanas | Poroc Rose | Poroc San Flower | San Agustin | Sitio Baybayon | Sitio Lonas | Sitio Tugas | Tamakin Dacot | Visca | Wangag |\n",
       "|---|---|---|---|---|---|---|---|---|---|---|---|---|---|---|---|---|---|\n",
       "|  454  |  699  |  877  |   8   |    0  |    0  |  651  |  429  |  66   |   13  |  22   |   87  |  416  |   87  |   59  |     0 |    0  |  126  |\n",
       "|  310  | 1761  | 1132  |  44   |    0  |    0  |   84  |  354  |  57   |   10  |  32   |  199  |  357  |  166  |   54  |     0 |    0  |   69  |\n",
       "|  404  |  563  |  784  |  11   |    0  |    0  |   77  |  291  |  35   |   19  |  92   |  325  |  442  |  307  |   71  |     0 |    0  |   53  |\n",
       "|  185  |  360  |  769  | 524   |    0  |    5  | 1536  |  246  |  31   |   42  |  70   |  176  |  193  |  252  |  652  |     0 |    0  |   31  |\n",
       "|   48  |   35  |   95  | 961   | 6253  |   38  |  654  |   73  |   8   |  172  | 448   | 2136  |  102  | 3555  |  912  |    25 | 2843  |    5  |\n",
       "|   16  |    1  |    9  | 127   |   20  | 1366  |   40  |    9  |   1   |   27  |  36   |   78  |   10  |   19  |   49  |   827 |   41  |    0  |\n",
       "|  554  |  862  | 1587  | 531   |    4  |   19  | 1208  |  337  |  90   |  174  | 353   |  484  |  615  |  677  |  513  |    12 |    4  |  140  |\n",
       "|  400  | 1034  | 1146  |  12   |    0  |    0  |  343  |  175  | 177   |    6  |  15   |   71  |  688  |   71  |   45  |     0 |    0  |  215  |\n",
       "|  209  |  161  |  190  |   1   |    0  |    0  |   12  |  143  |  42   |    0  |   0   |    0  | 1406  |    0  |   13  |     0 |    0  |  239  |\n",
       "|   63  |  180  |  418  | 419   |    1  |   36  |  179  |    7  |   6   |  273  | 506   |  811  |   75  | 2011  |  440  |    32 |   99  |   13  |\n",
       "|   17  |   72  |  278  | 508   |    0  |   46  |  289  |   16  |   7   |  594  | 788   | 1768  |   35  | 3255  |  615  |    29 |  163  |   16  |\n",
       "|  114  |   64  |  426  | 655   |    0  |    5  |  378  |   86  |   9   | 1006  | 993   | 2159  |   68  | 4072  |  562  |     7 |   61  |   15  |\n",
       "| 1025  | 2131  | 2998  |   4   |    0  |    8  |  351  | 1221  | 624   |   10  |  28   |  217  | 8017  |   71  |  173  |     4 |    0  | 1080  |\n",
       "|  207  |  202  |  860  | 218   |    0  |    0  | 2869  |  163  |  28   |    6  |  18   |  278  |  191  | 8805  | 1270  |     0 |    9  |   18  |\n",
       "|  212  |  249  |  431  |  32   |    0  |    0  |   27  |  112  |  30   |   29  |  43   |  121  |  561  |  211  |   90  |     0 |    0  |   66  |\n",
       "|    1  |    3  |    5  |   0   |   42  | 6920  |   11  |    1  |   0   |   10  |   3   |   10  |    1  |   20  |    4  | 31582 |  220  |    0  |\n",
       "|   33  |   19  |  198  | 507   |    3  |   33  |  162  |   28  |   3   |  388  | 736   | 1615  |   32  | 2608  |  344  |    50 |  115  |    1  |\n",
       "|  412  |  680  |  885  |   0   |    0  |    0  |   95  |  593  | 221   |    4  |   0   |    4  | 3334  |    7  |   12  |     0 |    0  |  447  |\n",
       "\n"
      ],
      "text/plain": [
       "   Cabatoan Caridad Cemetery Caridad Proper Elementary School Gabas Haina\n",
       "1   454      699              877             8                  0     0 \n",
       "2   310     1761             1132            44                  0     0 \n",
       "3   404      563              784            11                  0     0 \n",
       "4   185      360              769           524                  0     5 \n",
       "5    48       35               95           961               6253    38 \n",
       "6    16        1                9           127                 20  1366 \n",
       "7   554      862             1587           531                  4    19 \n",
       "8   400     1034             1146            12                  0     0 \n",
       "9   209      161              190             1                  0     0 \n",
       "10   63      180              418           419                  1    36 \n",
       "11   17       72              278           508                  0    46 \n",
       "12  114       64              426           655                  0     5 \n",
       "13 1025     2131             2998             4                  0     8 \n",
       "14  207      202              860           218                  0     0 \n",
       "15  212      249              431            32                  0     0 \n",
       "16    1        3                5             0                 42  6920 \n",
       "17   33       19              198           507                  3    33 \n",
       "18  412      680              885             0                  0     0 \n",
       "   Hicgop South Magbangon Palanas Poroc Rose Poroc San Flower San Agustin\n",
       "1   651          429       66       13        22                87       \n",
       "2    84          354       57       10        32               199       \n",
       "3    77          291       35       19        92               325       \n",
       "4  1536          246       31       42        70               176       \n",
       "5   654           73        8      172       448              2136       \n",
       "6    40            9        1       27        36                78       \n",
       "7  1208          337       90      174       353               484       \n",
       "8   343          175      177        6        15                71       \n",
       "9    12          143       42        0         0                 0       \n",
       "10  179            7        6      273       506               811       \n",
       "11  289           16        7      594       788              1768       \n",
       "12  378           86        9     1006       993              2159       \n",
       "13  351         1221      624       10        28               217       \n",
       "14 2869          163       28        6        18               278       \n",
       "15   27          112       30       29        43               121       \n",
       "16   11            1        0       10         3                10       \n",
       "17  162           28        3      388       736              1615       \n",
       "18   95          593      221        4         0                 4       \n",
       "   Sitio Baybayon Sitio Lonas Sitio Tugas Tamakin Dacot Visca Wangag\n",
       "1   416             87          59            0            0   126  \n",
       "2   357            166          54            0            0    69  \n",
       "3   442            307          71            0            0    53  \n",
       "4   193            252         652            0            0    31  \n",
       "5   102           3555         912           25         2843     5  \n",
       "6    10             19          49          827           41     0  \n",
       "7   615            677         513           12            4   140  \n",
       "8   688             71          45            0            0   215  \n",
       "9  1406              0          13            0            0   239  \n",
       "10   75           2011         440           32           99    13  \n",
       "11   35           3255         615           29          163    16  \n",
       "12   68           4072         562            7           61    15  \n",
       "13 8017             71         173            4            0  1080  \n",
       "14  191           8805        1270            0            9    18  \n",
       "15  561            211          90            0            0    66  \n",
       "16    1             20           4        31582          220     0  \n",
       "17   32           2608         344           50          115     1  \n",
       "18 3334              7          12            0            0   447  "
      ]
     },
     "metadata": {},
     "output_type": "display_data"
    }
   ],
   "source": [
    "SimDisp2012Mat"
   ]
  },
  {
   "cell_type": "code",
   "execution_count": 87,
   "metadata": {},
   "outputs": [],
   "source": [
    "#turn into parentage matrix\n",
    "\n",
    "#SimDisp2012Mat <- SimDisp2012 %>%\n",
    "#    ungroup() %>%\n",
    "#    spread(source, destination, SumParticles)\n",
    "    \n",
    "\n",
    "#make the rest of the kernel input files\n",
    "Assignments <- FullSimDisp2013\n",
    "Adult_sample_proportions <- matrix(nrow=18, ncol=1, 1) #we sampled all sites completely because we are working with simulated data\n",
    "Sampled_reefs <- as.matrix(read.csv(\"~/parentage/kernel_fitting/1340_loci/input/site_index_all.csv\", header=FALSE))[,18] #sampled all reefs in the distance matrix/area/centroid files\n",
    "Distances <- as.matrix(read.csv(\"~/parentage/kernel_fitting/1340_loci/input/distance_matrix_unsurveyed.csv\", header=FALSE))[-2, -2]  #drop a magbangon row  \n",
    "Reef_sizes <- as.matrix(read.csv(\"~/parentage/kernel_fitting/894_loci/area_unsurveyed.csv\", header=FALSE))[]\n",
    "Centroids <- as.matrix(read.csv(\"~/parentage/kernel_fitting/894_loci/centroids_unsurveyed.csv\", header=T))\n",
    "\n"
   ]
  },
  {
   "cell_type": "code",
   "execution_count": 88,
   "metadata": {},
   "outputs": [
    {
     "data": {
      "text/plain": [
       "\n",
       "Call:\n",
       "mle2(minuslogl = LL_kt_bbmle, start = list(k = -3, theta = 1), \n",
       "    method = \"L-BFGS-B\", data = x, lower = c(-10, 0.15), upper = c(10, \n",
       "        8), control = list(maxit = 500))\n",
       "\n",
       "Coefficients:\n",
       "    k theta \n",
       "   10     8 \n",
       "\n",
       "Log-likelihood: -47193.78 "
      ]
     },
     "metadata": {},
     "output_type": "display_data"
    }
   ],
   "source": [
    "a=-10\n",
    "b=10\n",
    "\n",
    "\n",
    "x <- list(Distances=Distances, Assignments=Assignments, Sampled_reefs=Sampled_reefs, Reef_sizes=Reef_sizes, Adult_sample_proportions=Adult_sample_proportions) #put inputs into a list because that's the bbmle format\n",
    "\n",
    "Sim2013Fit <- suppressWarnings(mle2(LL_kt_bbmle, start=list(k=-3, theta=1), lower=c(-10, 0.15), upper=c(10, 8), method=\"L-BFGS-B\", data=x, control=list(maxit=500)))\n",
    "Sim2013Fit\n",
    "\n",
    "#doen't look right. Maybe fix theta, optimize k"
   ]
  },
  {
   "cell_type": "code",
   "execution_count": null,
   "metadata": {},
   "outputs": [],
   "source": []
  },
  {
   "cell_type": "code",
   "execution_count": null,
   "metadata": {},
   "outputs": [],
   "source": []
  },
  {
   "cell_type": "code",
   "execution_count": null,
   "metadata": {},
   "outputs": [],
   "source": []
  },
  {
   "cell_type": "code",
   "execution_count": null,
   "metadata": {},
   "outputs": [],
   "source": [
    "#monsoon season prep\n",
    "NEM_months <- c(11, 12, 1, 2, 3, 4)\n",
    "SWM_months <- c(5, 6, 7, 8, 9, 10)\n",
    "\n",
    "NEM <- conn_mat_full4 %>%\n",
    "    filter(month %in% NEM_months) %>%\n",
    "    group_by(source, destination) %>%\n",
    "    summarise(conn=max(fraction))\n",
    "\n",
    "SWM <- conn_mat_full4 %>%\n",
    "    filter(month %in% SWM_months) %>%\n",
    "    group_by(source, destination) %>%\n",
    "    summarise(conn=max(fraction))"
   ]
  }
 ],
 "metadata": {
  "kernelspec": {
   "display_name": "R",
   "language": "R",
   "name": "ir"
  },
  "language_info": {
   "codemirror_mode": "r",
   "file_extension": ".r",
   "mimetype": "text/x-r-source",
   "name": "R",
   "pygments_lexer": "r",
   "version": "3.6.1"
  }
 },
 "nbformat": 4,
 "nbformat_minor": 4
}
