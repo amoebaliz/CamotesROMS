{
 "cells": [
  {
   "cell_type": "code",
   "execution_count": 93,
   "metadata": {},
   "outputs": [],
   "source": [
    "Packages <- c(\"dplyr\", \"geosphere\", \"fields\",\"lattice\", \"ggplot2\", \"bbmle\", \"ncdf4\",\"dplyr\",\"tidyr\", \"stringr\", \"tidyverse\", \"raster\", \"lubridate\", \"RColorBrewer\")\n",
    "\n",
    "invisible(suppressPackageStartupMessages(lapply(Packages, library, character.only = TRUE)))\n",
    "\n",
    "setwd('/local/home/katrinac/oceanography')\n",
    "\"%!in%\" <- function(x,table) match(x,table, nomatch = 0) == 0\n",
    "source(\"~/parentage/kernel_fitting/1340_loci/functions/ll_kt_both_bbmle.R\")\n"
   ]
  },
  {
   "cell_type": "code",
   "execution_count": 2,
   "metadata": {},
   "outputs": [
    {
     "name": "stdout",
     "output_type": "stream",
     "text": [
      "[1] \"vobjtovarid4: **** WARNING **** I was asked to get a varid for dimension named sink BUT this dimension HAS NO DIMVAR! Code will probably fail at this point\"\n",
      "[1] \"vobjtovarid4: **** WARNING **** I was asked to get a varid for dimension named source BUT this dimension HAS NO DIMVAR! Code will probably fail at this point\"\n",
      "[1] \"vobjtovarid4: **** WARNING **** I was asked to get a varid for dimension named time BUT this dimension HAS NO DIMVAR! Code will probably fail at this point\"\n"
     ]
    }
   ],
   "source": [
    "#read in data and add site names\n",
    "conn_mat_all <- brick(\"~/oceanography/ROMS/data/Camotes_Sea_Connectivity_Matrices_08_day_PLD_integer.nc\", values=T) \n",
    "#read in the data for the number of grid cells per site (site ids are North- South, as in, Palanas is number 1)\n",
    "sites_n <- read.table(\"~/oceanography/ROMS/input//camotes_vertices_sites_results_water_only.txt\", sep=\" \", header=T, stringsAsFactors = F)\n",
    "#the order of sites in the connectivity matrix\n",
    "sites_order <- read.table(\"~/oceanography/ROMS/input/sites_order_as_in_roms.txt\", sep=\" \", header=T, stringsAsFactors = F)\n",
    "\n",
    "sites <- as.character(c(\"Palanas\", \"Wangag\", \"Magbangon\", \"Cabatoan\", \"Caridad Cemetery\", \"Caridad Proper\", \"Hicgop\", \"Hicgop South\", \"Sitio Tugas\", \"Elementary School\", \"Sitio Lonas\", \"San Agustin\", \"Poroc San Flower\", \"Poroc Rose\", \"Pangasugan\", \"Visca\", \"Gabas\", \"Tamakin Dacot\", \"Haina\", \"Sitio Baybayon\", \"SF1\", \"SF2\", \"SF3\", \"SF4\", \"SF5\", \"SF6\", \"CAI\", \"Other\"))\n",
    "site_ind <- c(seq(1,28, 1))\n",
    "site_id <- as.data.frame(cbind(sites, site_ind), stringsAsFactors = F)\n",
    "site_id$site_ind <- as.numeric(site_id$site_ind)\n"
   ]
  },
  {
   "cell_type": "code",
   "execution_count": null,
   "metadata": {},
   "outputs": [],
   "source": []
  },
  {
   "cell_type": "code",
   "execution_count": 3,
   "metadata": {},
   "outputs": [
    {
     "data": {
      "text/html": [
       "<ol class=list-inline>\n",
       "\t<li>930</li>\n",
       "\t<li>2</li>\n",
       "</ol>\n"
      ],
      "text/latex": [
       "\\begin{enumerate*}\n",
       "\\item 930\n",
       "\\item 2\n",
       "\\end{enumerate*}\n"
      ],
      "text/markdown": [
       "1. 930\n",
       "2. 2\n",
       "\n",
       "\n"
      ],
      "text/plain": [
       "[1] 930   2"
      ]
     },
     "metadata": {},
     "output_type": "display_data"
    }
   ],
   "source": [
    "#add in dates (seasons here are field seasons, not monsoon seasons)\n",
    "col <- \"date\"\n",
    "col2 <- \"index\"\n",
    "\n",
    "season1 <- as.data.frame(seq(as.Date(\"2010/10/01\"), as.Date(\"2011/05/31\"), by=\"days\"))\n",
    "names(season1) <- col\n",
    "\n",
    "season2 <- as.data.frame(seq(as.Date(\"2011/10/01\"), as.Date(\"2012/05/31\"), by=\"days\"))\n",
    "names(season2) <- col\n",
    "\n",
    "season3 <- as.data.frame(seq(as.Date(\"2012/10/01\"), as.Date(\"2013/05/31\"), by=\"days\"))\n",
    "names(season3) <- col\n",
    "\n",
    "season4 <- as.data.frame(seq(as.Date(\"2013/10/01\"), as.Date(\"2014/04/18\"), by=\"days\"))\n",
    "names(season4) <- col\n",
    "\n",
    "all_dates <- bind_rows(season1, season2, season3, season4)\n",
    "time_step <- as.data.frame(seq(1,930,1))\n",
    "names(time_step)<- col2\n",
    "all_dates2 <- bind_cols(time_step, all_dates)\n",
    "dim(all_dates2)\n"
   ]
  },
  {
   "cell_type": "code",
   "execution_count": 4,
   "metadata": {},
   "outputs": [],
   "source": [
    "#make each daily connectivity matrix into a df and then pull them all together into a list\n",
    "#conn_mat_list <- vector(\"list\", nrow(all_dates2))\n",
    "\n",
    "#date_df <- do.call(\"rbind\", replicate(784, date, simplify = FALSE))\n",
    "\n",
    "conn_mat_full <- as.data.frame(matrix(nrow=0, ncol=4))\n",
    "\n",
    "cols_conn_mat <- c(\"date\",\"sink\", \"source\", \"number\")\n",
    "cols_tmp <- c(\"sink\", \"source\", \"number\")\n",
    "\n",
    "names(conn_mat_full) <- cols_conn_mat\n",
    "\n",
    "for(i in 1:nrow(all_dates2)){\n",
    "    \n",
    "    index_eval <- all_dates2$index[i]\n",
    "    \n",
    "    tmp <- as.data.frame(conn_mat_all[[i]], xy=T)   #pull out a data frame for each date\n",
    "    names(tmp) <- cols_tmp\n",
    "    \n",
    "    date <- filter(all_dates2, index==index_eval)[2] #grab the date\n",
    "    date_df <- do.call(\"rbind\", replicate(784, date, simplify = FALSE)) #make a df of the date\n",
    "    tmp2 <- bind_cols(date_df, tmp)\n",
    "\n",
    " \n",
    "    conn_mat_full <- rbind(conn_mat_full, tmp2) \n",
    "}\n",
    "\n"
   ]
  },
  {
   "cell_type": "code",
   "execution_count": 5,
   "metadata": {},
   "outputs": [],
   "source": [
    "#connect site names\n",
    "conn_mat_full2 <- left_join(conn_mat_full, site_id, by=c(source=\"site_ind\")) %>%\n",
    "    dplyr::select(-source) %>%\n",
    "    rename(source=\"sites\")\n",
    "    \n",
    "conn_mat_full3 <- left_join(conn_mat_full2, site_id, by=c(sink=\"site_ind\")) %>%\n",
    "    dplyr::select(-sink) %>%\n",
    "    rename(destination=\"sites\")\n",
    "\n",
    "    "
   ]
  },
  {
   "cell_type": "code",
   "execution_count": 83,
   "metadata": {},
   "outputs": [
    {
     "data": {
      "text/html": [
       "27"
      ],
      "text/latex": [
       "27"
      ],
      "text/markdown": [
       "27"
      ],
      "text/plain": [
       "[1] 27"
      ]
     },
     "metadata": {},
     "output_type": "display_data"
    }
   ],
   "source": [
    "#make all versions of Hicgop \"Hicgop South\" to match empirical data\n",
    "conn_mat_full3 <- conn_mat_full3 %>%\n",
    "    mutate(source=ifelse(source==\"Hicgop\", \"Hicgop South\", source)) %>%\n",
    "    mutate(destination=ifelse(destination==\"Hicgop\", \"Hicgop South\", destination))\n",
    "    \n",
    "\n",
    "#trim out sand flats and other sites not represented in our sampling\n",
    "conn_mat_full4 <- conn_mat_full3 %>%\n",
    "    filter(source != \"SF1\" & source != \"SF2\" & source != \"SF3\"\n",
    "           & source != \"SF4\" & source != \"SF5\" & source != \"SF6\" & source != \"Pangasugan\"  & source != \"Other\"& source != \"CAI\") %>%\n",
    "    filter(destination != \"SF1\" & destination!= \"SF2\" & destination != \"SF3\"\n",
    "           & destination != \"SF4\" & destination!= \"SF5\" & destination != \"SF6\"  & \n",
    "           destination!= \"Pangasugan\" & destination != \"Other\" & destination != \"CAI\") %>%\n",
    "    mutate(month=month(ymd(date)))\n",
    "\n",
    "#note to self, I think I messed up sources/destinations in the orginal for loop!!!! so I'm grouping by source below, but that's because the true destination column is misnamed \"source\" in the code and I haven't figured it out yet\n",
    "#!!!!\n",
    "\n",
    "#for unassigned, you want to keep these sites\n",
    "ConnMatTotalRec <- conn_mat_full3 %>%     \n",
    "    filter(date %in% season3$date) %>%\n",
    "    group_by(destination) %>%\n",
    "    #dplyr::select(-date) %>%\n",
    "    mutate(SumParticlesRec= sum(number)) %>%\n",
    "    distinct(destination, .keep_all = T) %>%\n",
    "    dplyr::select(destination, SumParticlesRec)\n",
    "\n",
    "nrow(ConnMatTotalRec) #should be 28-1, the total number of sites simulated after accounting for the Hicgop Merge\n"
   ]
  },
  {
   "cell_type": "code",
   "execution_count": null,
   "metadata": {},
   "outputs": [],
   "source": []
  },
  {
   "cell_type": "code",
   "execution_count": 7,
   "metadata": {},
   "outputs": [],
   "source": [
    "#put in North-South order for kernel fitting\n",
    "SitesNS <- read.csv(\"~/parentage/text_file/sites_NS.txt\", stringsAsFactors = F) %>%\n",
    "    mutate(site=ifelse(site ==\"S. Magbangon\" , \"Magbangon\", site)) %>%\n",
    "    filter(site != \"N. Magbangon\") %>%\n",
    "    dplyr::select( -index)\n",
    "\n",
    "#SitesNS$index <- seq(1,18, 1) #might not need this....\n",
    "#SitesNS$destination <- SitesNS$source\n"
   ]
  },
  {
   "cell_type": "code",
   "execution_count": null,
   "metadata": {},
   "outputs": [],
   "source": [
    "which(SitesNS$site %!in% SimDisp2013$source)\n",
    "SitesNS[9,]"
   ]
  },
  {
   "cell_type": "code",
   "execution_count": 175,
   "metadata": {},
   "outputs": [],
   "source": [
    "#add together all of the particles for each season. At some point need to consider matching times that we sampled, from the fish meta-data\n",
    "#replace XN with years\n",
    "SimDispXNInt <- conn_mat_full4 %>%\n",
    "    filter(date %in% season3$date | date %in% season2$date) %>%\n",
    "    dplyr::select(-date, -month) %>%\n",
    "    group_by(source, destination) %>%\n",
    "    mutate(SumParticles= sum(number)) %>%\n",
    "    distinct(source, destination, .keep_all = T) %>%\n",
    "    dplyr::select(-number)\n",
    "\n",
    "SimDispXNInt2 <- left_join(SitesNS, SimDispXNInt, by=c(site=\"source\")) %>%\n",
    "    rename(source=\"site\")\n",
    "SimDispXN <- left_join(SitesNS, SimDispXNInt2, by=c(site=\"destination\")) %>%\n",
    "    rename(destination=\"site\") #%>% #drop this for fitting the kernel, use for the model\n",
    "    #mutate(year=\"XN\")\n",
    "\n",
    "SimDispXNRecSampInt <- ConnMatTotalRec %>%#the total recruits in the simulation for each destination site we empirically sampled\n",
    "    filter(destination %in% SimDispXN$destination) #%>%\n",
    "    #mutate(source=\"unsampled\") #not really, just unsampled empirically. Use this to get the unassigned row?\n",
    "\n",
    "SimDispXNRecSamp <- left_join(SimDispXN, SimDispXNRecSampInt, by=\"destination\") %>%\n",
    "    group_by(destination) %>%\n",
    "    mutate(TotalParticlesAssigned=sum(SumParticles)) %>%\n",
    "    distinct(destination, .keep_all = T) %>%\n",
    "    mutate(TotalUnassigned=SumParticlesRec-TotalParticlesAssigned) %>%\n",
    "    dplyr::select(-source, -SumParticles) \n"
   ]
  },
  {
   "cell_type": "code",
   "execution_count": 11,
   "metadata": {},
   "outputs": [
    {
     "data": {
      "text/html": [
       "324"
      ],
      "text/latex": [
       "324"
      ],
      "text/markdown": [
       "324"
      ],
      "text/plain": [
       "[1] 324"
      ]
     },
     "metadata": {},
     "output_type": "display_data"
    },
    {
     "data": {
      "text/html": [
       "324"
      ],
      "text/latex": [
       "324"
      ],
      "text/markdown": [
       "324"
      ],
      "text/plain": [
       "[1] 324"
      ]
     },
     "metadata": {},
     "output_type": "display_data"
    },
    {
     "data": {
      "text/html": [
       "18"
      ],
      "text/latex": [
       "18"
      ],
      "text/markdown": [
       "18"
      ],
      "text/plain": [
       "[1] 18"
      ]
     },
     "metadata": {},
     "output_type": "display_data"
    }
   ],
   "source": [
    "#check that everything looks correct\n",
    "\n",
    "18*18 #this should be the rows\n",
    "nrow(SimDisp2012)\n",
    "nrow(SimDisp2012RecSamp)#should be 18 after the Hicgop merge"
   ]
  },
  {
   "cell_type": "code",
   "execution_count": 85,
   "metadata": {},
   "outputs": [
    {
     "name": "stderr",
     "output_type": "stream",
     "text": [
      "Warning message:\n",
      "“Setting row names on a tibble is deprecated.”"
     ]
    }
   ],
   "source": [
    "#sources are rows, columns are destinations, checked this? check again\n",
    "#also check if it matters that these are in alphabetical order YES it should be alphabetical\n",
    "SimDisp2013Mat <- SimDisp2013 %>%\n",
    "    group_by(destination, source) %>%\n",
    "    spread(destination, SumParticles)\n",
    "#\n",
    "rownames(SimDisp2013Mat) <- SimDisp2013Mat$source\n",
    "SimDisp2013Mat$source <- NULL"
   ]
  },
  {
   "cell_type": "code",
   "execution_count": 86,
   "metadata": {},
   "outputs": [],
   "source": [
    "#add in unassigned \n",
    "RowtoAddInt <- SimDisp2013RecSamp %>%\n",
    "    ungroup() %>%\n",
    "    arrange(destination) %>%\n",
    "    dplyr::select(TotalUnassigned)\n",
    "\n",
    "RowtoAdd <- as.data.frame(t(RowtoAddInt))\n",
    "colnames(RowtoAdd) <- colnames(SimDisp2013Mat)\n",
    "\n",
    "FullSimDisp2013 <- rbind(SimDisp2013Mat, RowtoAdd)\n",
    "rownames(FullSimDisp2013) <- NULL"
   ]
  },
  {
   "cell_type": "code",
   "execution_count": 71,
   "metadata": {},
   "outputs": [
    {
     "data": {
      "text/html": [
       "<table>\n",
       "<thead><tr><th scope=col>NA</th><th scope=col>NA</th><th scope=col>NA</th><th scope=col>NA</th><th scope=col>NA</th><th scope=col>NA</th><th scope=col>NA</th><th scope=col>NA</th><th scope=col>NA</th><th scope=col>NA</th><th scope=col>NA</th><th scope=col>NA</th><th scope=col>NA</th><th scope=col>NA</th><th scope=col>NA</th><th scope=col>NA</th><th scope=col>NA</th><th scope=col>NA</th></tr></thead>\n",
       "<tbody>\n",
       "\t<tr><td>  454</td><td>  699</td><td>  877</td><td>    8</td><td>   0 </td><td>    0</td><td>  651</td><td>  429</td><td>  66 </td><td>  13 </td><td>  22 </td><td>   87</td><td>  416</td><td>   87</td><td>   59</td><td>    0</td><td>    0</td><td> 126 </td></tr>\n",
       "\t<tr><td>  310</td><td> 1761</td><td> 1132</td><td>   44</td><td>   0 </td><td>    0</td><td>   84</td><td>  354</td><td>  57 </td><td>  10 </td><td>  32 </td><td>  199</td><td>  357</td><td>  166</td><td>   54</td><td>    0</td><td>    0</td><td>  69 </td></tr>\n",
       "\t<tr><td>  404</td><td>  563</td><td>  784</td><td>   11</td><td>   0 </td><td>    0</td><td>   77</td><td>  291</td><td>  35 </td><td>  19 </td><td>  92 </td><td>  325</td><td>  442</td><td>  307</td><td>   71</td><td>    0</td><td>    0</td><td>  53 </td></tr>\n",
       "\t<tr><td>  185</td><td>  360</td><td>  769</td><td>  524</td><td>   0 </td><td>    5</td><td> 1536</td><td>  246</td><td>  31 </td><td>  42 </td><td>  70 </td><td>  176</td><td>  193</td><td>  252</td><td>  652</td><td>    0</td><td>    0</td><td>  31 </td></tr>\n",
       "\t<tr><td>   48</td><td>   35</td><td>   95</td><td>  961</td><td>6253 </td><td>   38</td><td>  654</td><td>   73</td><td>   8 </td><td> 172 </td><td> 448 </td><td> 2136</td><td>  102</td><td> 3555</td><td>  912</td><td>   25</td><td> 2843</td><td>   5 </td></tr>\n",
       "\t<tr><td>   16</td><td>    1</td><td>    9</td><td>  127</td><td>  20 </td><td> 1366</td><td>   40</td><td>    9</td><td>   1 </td><td>  27 </td><td>  36 </td><td>   78</td><td>   10</td><td>   19</td><td>   49</td><td>  827</td><td>   41</td><td>   0 </td></tr>\n",
       "\t<tr><td>  554</td><td>  862</td><td> 1587</td><td>  531</td><td>   4 </td><td>   19</td><td> 1208</td><td>  337</td><td>  90 </td><td> 174 </td><td> 353 </td><td>  484</td><td>  615</td><td>  677</td><td>  513</td><td>   12</td><td>    4</td><td> 140 </td></tr>\n",
       "\t<tr><td>  400</td><td> 1034</td><td> 1146</td><td>   12</td><td>   0 </td><td>    0</td><td>  343</td><td>  175</td><td> 177 </td><td>   6 </td><td>  15 </td><td>   71</td><td>  688</td><td>   71</td><td>   45</td><td>    0</td><td>    0</td><td> 215 </td></tr>\n",
       "\t<tr><td>  209</td><td>  161</td><td>  190</td><td>    1</td><td>   0 </td><td>    0</td><td>   12</td><td>  143</td><td>  42 </td><td>   0 </td><td>   0 </td><td>    0</td><td> 1406</td><td>    0</td><td>   13</td><td>    0</td><td>    0</td><td> 239 </td></tr>\n",
       "\t<tr><td>   63</td><td>  180</td><td>  418</td><td>  419</td><td>   1 </td><td>   36</td><td>  179</td><td>    7</td><td>   6 </td><td> 273 </td><td> 506 </td><td>  811</td><td>   75</td><td> 2011</td><td>  440</td><td>   32</td><td>   99</td><td>  13 </td></tr>\n",
       "\t<tr><td>   17</td><td>   72</td><td>  278</td><td>  508</td><td>   0 </td><td>   46</td><td>  289</td><td>   16</td><td>   7 </td><td> 594 </td><td> 788 </td><td> 1768</td><td>   35</td><td> 3255</td><td>  615</td><td>   29</td><td>  163</td><td>  16 </td></tr>\n",
       "\t<tr><td>  114</td><td>   64</td><td>  426</td><td>  655</td><td>   0 </td><td>    5</td><td>  378</td><td>   86</td><td>   9 </td><td>1006 </td><td> 993 </td><td> 2159</td><td>   68</td><td> 4072</td><td>  562</td><td>    7</td><td>   61</td><td>  15 </td></tr>\n",
       "\t<tr><td> 1025</td><td> 2131</td><td> 2998</td><td>    4</td><td>   0 </td><td>    8</td><td>  351</td><td> 1221</td><td> 624 </td><td>  10 </td><td>  28 </td><td>  217</td><td> 8017</td><td>   71</td><td>  173</td><td>    4</td><td>    0</td><td>1080 </td></tr>\n",
       "\t<tr><td>  207</td><td>  202</td><td>  860</td><td>  218</td><td>   0 </td><td>    0</td><td> 2869</td><td>  163</td><td>  28 </td><td>   6 </td><td>  18 </td><td>  278</td><td>  191</td><td> 8805</td><td> 1270</td><td>    0</td><td>    9</td><td>  18 </td></tr>\n",
       "\t<tr><td>  212</td><td>  249</td><td>  431</td><td>   32</td><td>   0 </td><td>    0</td><td>   27</td><td>  112</td><td>  30 </td><td>  29 </td><td>  43 </td><td>  121</td><td>  561</td><td>  211</td><td>   90</td><td>    0</td><td>    0</td><td>  66 </td></tr>\n",
       "\t<tr><td>    1</td><td>    3</td><td>    5</td><td>    0</td><td>  42 </td><td> 6920</td><td>   11</td><td>    1</td><td>   0 </td><td>  10 </td><td>   3 </td><td>   10</td><td>    1</td><td>   20</td><td>    4</td><td>31582</td><td>  220</td><td>   0 </td></tr>\n",
       "\t<tr><td>   33</td><td>   19</td><td>  198</td><td>  507</td><td>   3 </td><td>   33</td><td>  162</td><td>   28</td><td>   3 </td><td> 388 </td><td> 736 </td><td> 1615</td><td>   32</td><td> 2608</td><td>  344</td><td>   50</td><td>  115</td><td>   1 </td></tr>\n",
       "\t<tr><td>  412</td><td>  680</td><td>  885</td><td>    0</td><td>   0 </td><td>    0</td><td>   95</td><td>  593</td><td> 221 </td><td>   4 </td><td>   0 </td><td>    4</td><td> 3334</td><td>    7</td><td>   12</td><td>    0</td><td>    0</td><td> 447 </td></tr>\n",
       "\t<tr><td>12514</td><td>17433</td><td>19984</td><td>10327</td><td>5747 </td><td>20442</td><td>14864</td><td>11597</td><td>8038 </td><td>3638 </td><td>7093 </td><td>21278</td><td>21814</td><td>23219</td><td>10309</td><td>63981</td><td>14064</td><td>8777 </td></tr>\n",
       "</tbody>\n",
       "</table>\n"
      ],
      "text/latex": [
       "\\begin{tabular}{r|llllllllllllllllll}\n",
       " NA & NA & NA & NA & NA & NA & NA & NA & NA & NA & NA & NA & NA & NA & NA & NA & NA & NA\\\\\n",
       "\\hline\n",
       "\t   454 &   699 &   877 &     8 &    0  &     0 &   651 &   429 &   66  &   13  &   22  &    87 &   416 &    87 &    59 &     0 &     0 &  126 \\\\\n",
       "\t   310 &  1761 &  1132 &    44 &    0  &     0 &    84 &   354 &   57  &   10  &   32  &   199 &   357 &   166 &    54 &     0 &     0 &   69 \\\\\n",
       "\t   404 &   563 &   784 &    11 &    0  &     0 &    77 &   291 &   35  &   19  &   92  &   325 &   442 &   307 &    71 &     0 &     0 &   53 \\\\\n",
       "\t   185 &   360 &   769 &   524 &    0  &     5 &  1536 &   246 &   31  &   42  &   70  &   176 &   193 &   252 &   652 &     0 &     0 &   31 \\\\\n",
       "\t    48 &    35 &    95 &   961 & 6253  &    38 &   654 &    73 &    8  &  172  &  448  &  2136 &   102 &  3555 &   912 &    25 &  2843 &    5 \\\\\n",
       "\t    16 &     1 &     9 &   127 &   20  &  1366 &    40 &     9 &    1  &   27  &   36  &    78 &    10 &    19 &    49 &   827 &    41 &    0 \\\\\n",
       "\t   554 &   862 &  1587 &   531 &    4  &    19 &  1208 &   337 &   90  &  174  &  353  &   484 &   615 &   677 &   513 &    12 &     4 &  140 \\\\\n",
       "\t   400 &  1034 &  1146 &    12 &    0  &     0 &   343 &   175 &  177  &    6  &   15  &    71 &   688 &    71 &    45 &     0 &     0 &  215 \\\\\n",
       "\t   209 &   161 &   190 &     1 &    0  &     0 &    12 &   143 &   42  &    0  &    0  &     0 &  1406 &     0 &    13 &     0 &     0 &  239 \\\\\n",
       "\t    63 &   180 &   418 &   419 &    1  &    36 &   179 &     7 &    6  &  273  &  506  &   811 &    75 &  2011 &   440 &    32 &    99 &   13 \\\\\n",
       "\t    17 &    72 &   278 &   508 &    0  &    46 &   289 &    16 &    7  &  594  &  788  &  1768 &    35 &  3255 &   615 &    29 &   163 &   16 \\\\\n",
       "\t   114 &    64 &   426 &   655 &    0  &     5 &   378 &    86 &    9  & 1006  &  993  &  2159 &    68 &  4072 &   562 &     7 &    61 &   15 \\\\\n",
       "\t  1025 &  2131 &  2998 &     4 &    0  &     8 &   351 &  1221 &  624  &   10  &   28  &   217 &  8017 &    71 &   173 &     4 &     0 & 1080 \\\\\n",
       "\t   207 &   202 &   860 &   218 &    0  &     0 &  2869 &   163 &   28  &    6  &   18  &   278 &   191 &  8805 &  1270 &     0 &     9 &   18 \\\\\n",
       "\t   212 &   249 &   431 &    32 &    0  &     0 &    27 &   112 &   30  &   29  &   43  &   121 &   561 &   211 &    90 &     0 &     0 &   66 \\\\\n",
       "\t     1 &     3 &     5 &     0 &   42  &  6920 &    11 &     1 &    0  &   10  &    3  &    10 &     1 &    20 &     4 & 31582 &   220 &    0 \\\\\n",
       "\t    33 &    19 &   198 &   507 &    3  &    33 &   162 &    28 &    3  &  388  &  736  &  1615 &    32 &  2608 &   344 &    50 &   115 &    1 \\\\\n",
       "\t   412 &   680 &   885 &     0 &    0  &     0 &    95 &   593 &  221  &    4  &    0  &     4 &  3334 &     7 &    12 &     0 &     0 &  447 \\\\\n",
       "\t 12514 & 17433 & 19984 & 10327 & 5747  & 20442 & 14864 & 11597 & 8038  & 3638  & 7093  & 21278 & 21814 & 23219 & 10309 & 63981 & 14064 & 8777 \\\\\n",
       "\\end{tabular}\n"
      ],
      "text/markdown": [
       "\n",
       "| NA | NA | NA | NA | NA | NA | NA | NA | NA | NA | NA | NA | NA | NA | NA | NA | NA | NA |\n",
       "|---|---|---|---|---|---|---|---|---|---|---|---|---|---|---|---|---|---|\n",
       "|   454 |   699 |   877 |     8 |    0  |     0 |   651 |   429 |   66  |   13  |   22  |    87 |   416 |    87 |    59 |     0 |     0 |  126  |\n",
       "|   310 |  1761 |  1132 |    44 |    0  |     0 |    84 |   354 |   57  |   10  |   32  |   199 |   357 |   166 |    54 |     0 |     0 |   69  |\n",
       "|   404 |   563 |   784 |    11 |    0  |     0 |    77 |   291 |   35  |   19  |   92  |   325 |   442 |   307 |    71 |     0 |     0 |   53  |\n",
       "|   185 |   360 |   769 |   524 |    0  |     5 |  1536 |   246 |   31  |   42  |   70  |   176 |   193 |   252 |   652 |     0 |     0 |   31  |\n",
       "|    48 |    35 |    95 |   961 | 6253  |    38 |   654 |    73 |    8  |  172  |  448  |  2136 |   102 |  3555 |   912 |    25 |  2843 |    5  |\n",
       "|    16 |     1 |     9 |   127 |   20  |  1366 |    40 |     9 |    1  |   27  |   36  |    78 |    10 |    19 |    49 |   827 |    41 |    0  |\n",
       "|   554 |   862 |  1587 |   531 |    4  |    19 |  1208 |   337 |   90  |  174  |  353  |   484 |   615 |   677 |   513 |    12 |     4 |  140  |\n",
       "|   400 |  1034 |  1146 |    12 |    0  |     0 |   343 |   175 |  177  |    6  |   15  |    71 |   688 |    71 |    45 |     0 |     0 |  215  |\n",
       "|   209 |   161 |   190 |     1 |    0  |     0 |    12 |   143 |   42  |    0  |    0  |     0 |  1406 |     0 |    13 |     0 |     0 |  239  |\n",
       "|    63 |   180 |   418 |   419 |    1  |    36 |   179 |     7 |    6  |  273  |  506  |   811 |    75 |  2011 |   440 |    32 |    99 |   13  |\n",
       "|    17 |    72 |   278 |   508 |    0  |    46 |   289 |    16 |    7  |  594  |  788  |  1768 |    35 |  3255 |   615 |    29 |   163 |   16  |\n",
       "|   114 |    64 |   426 |   655 |    0  |     5 |   378 |    86 |    9  | 1006  |  993  |  2159 |    68 |  4072 |   562 |     7 |    61 |   15  |\n",
       "|  1025 |  2131 |  2998 |     4 |    0  |     8 |   351 |  1221 |  624  |   10  |   28  |   217 |  8017 |    71 |   173 |     4 |     0 | 1080  |\n",
       "|   207 |   202 |   860 |   218 |    0  |     0 |  2869 |   163 |   28  |    6  |   18  |   278 |   191 |  8805 |  1270 |     0 |     9 |   18  |\n",
       "|   212 |   249 |   431 |    32 |    0  |     0 |    27 |   112 |   30  |   29  |   43  |   121 |   561 |   211 |    90 |     0 |     0 |   66  |\n",
       "|     1 |     3 |     5 |     0 |   42  |  6920 |    11 |     1 |    0  |   10  |    3  |    10 |     1 |    20 |     4 | 31582 |   220 |    0  |\n",
       "|    33 |    19 |   198 |   507 |    3  |    33 |   162 |    28 |    3  |  388  |  736  |  1615 |    32 |  2608 |   344 |    50 |   115 |    1  |\n",
       "|   412 |   680 |   885 |     0 |    0  |     0 |    95 |   593 |  221  |    4  |    0  |     4 |  3334 |     7 |    12 |     0 |     0 |  447  |\n",
       "| 12514 | 17433 | 19984 | 10327 | 5747  | 20442 | 14864 | 11597 | 8038  | 3638  | 7093  | 21278 | 21814 | 23219 | 10309 | 63981 | 14064 | 8777  |\n",
       "\n"
      ],
      "text/plain": [
       "   <NA>  <NA>  <NA>  <NA>  <NA> <NA>  <NA>  <NA>  <NA> <NA> <NA> <NA>  <NA> \n",
       "1    454   699   877     8    0     0   651   429   66   13   22    87   416\n",
       "2    310  1761  1132    44    0     0    84   354   57   10   32   199   357\n",
       "3    404   563   784    11    0     0    77   291   35   19   92   325   442\n",
       "4    185   360   769   524    0     5  1536   246   31   42   70   176   193\n",
       "5     48    35    95   961 6253    38   654    73    8  172  448  2136   102\n",
       "6     16     1     9   127   20  1366    40     9    1   27   36    78    10\n",
       "7    554   862  1587   531    4    19  1208   337   90  174  353   484   615\n",
       "8    400  1034  1146    12    0     0   343   175  177    6   15    71   688\n",
       "9    209   161   190     1    0     0    12   143   42    0    0     0  1406\n",
       "10    63   180   418   419    1    36   179     7    6  273  506   811    75\n",
       "11    17    72   278   508    0    46   289    16    7  594  788  1768    35\n",
       "12   114    64   426   655    0     5   378    86    9 1006  993  2159    68\n",
       "13  1025  2131  2998     4    0     8   351  1221  624   10   28   217  8017\n",
       "14   207   202   860   218    0     0  2869   163   28    6   18   278   191\n",
       "15   212   249   431    32    0     0    27   112   30   29   43   121   561\n",
       "16     1     3     5     0   42  6920    11     1    0   10    3    10     1\n",
       "17    33    19   198   507    3    33   162    28    3  388  736  1615    32\n",
       "18   412   680   885     0    0     0    95   593  221    4    0     4  3334\n",
       "19 12514 17433 19984 10327 5747 20442 14864 11597 8038 3638 7093 21278 21814\n",
       "   <NA>  <NA>  <NA>  <NA>  <NA>\n",
       "1     87    59     0     0  126\n",
       "2    166    54     0     0   69\n",
       "3    307    71     0     0   53\n",
       "4    252   652     0     0   31\n",
       "5   3555   912    25  2843    5\n",
       "6     19    49   827    41    0\n",
       "7    677   513    12     4  140\n",
       "8     71    45     0     0  215\n",
       "9      0    13     0     0  239\n",
       "10  2011   440    32    99   13\n",
       "11  3255   615    29   163   16\n",
       "12  4072   562     7    61   15\n",
       "13    71   173     4     0 1080\n",
       "14  8805  1270     0     9   18\n",
       "15   211    90     0     0   66\n",
       "16    20     4 31582   220    0\n",
       "17  2608   344    50   115    1\n",
       "18     7    12     0     0  447\n",
       "19 23219 10309 63981 14064 8777"
      ]
     },
     "metadata": {},
     "output_type": "display_data"
    }
   ],
   "source": [
    "FullSimDisp2012"
   ]
  },
  {
   "cell_type": "code",
   "execution_count": 35,
   "metadata": {},
   "outputs": [
    {
     "data": {
      "text/html": [
       "<table>\n",
       "<thead><tr><th scope=col>Cabatoan</th><th scope=col>Caridad Cemetery</th><th scope=col>Caridad Proper</th><th scope=col>Elementary School</th><th scope=col>Gabas</th><th scope=col>Haina</th><th scope=col>Hicgop South</th><th scope=col>Magbangon</th><th scope=col>Palanas</th><th scope=col>Poroc Rose</th><th scope=col>Poroc San Flower</th><th scope=col>San Agustin</th><th scope=col>Sitio Baybayon</th><th scope=col>Sitio Lonas</th><th scope=col>Sitio Tugas</th><th scope=col>Tamakin Dacot</th><th scope=col>Visca</th><th scope=col>Wangag</th></tr></thead>\n",
       "<tbody>\n",
       "\t<tr><td> 454 </td><td> 699 </td><td> 877 </td><td>  8  </td><td>   0 </td><td>   0 </td><td> 651 </td><td> 429 </td><td> 66  </td><td>  13 </td><td> 22  </td><td>  87 </td><td> 416 </td><td>  87 </td><td>  59 </td><td>    0</td><td>   0 </td><td> 126 </td></tr>\n",
       "\t<tr><td> 310 </td><td>1761 </td><td>1132 </td><td> 44  </td><td>   0 </td><td>   0 </td><td>  84 </td><td> 354 </td><td> 57  </td><td>  10 </td><td> 32  </td><td> 199 </td><td> 357 </td><td> 166 </td><td>  54 </td><td>    0</td><td>   0 </td><td>  69 </td></tr>\n",
       "\t<tr><td> 404 </td><td> 563 </td><td> 784 </td><td> 11  </td><td>   0 </td><td>   0 </td><td>  77 </td><td> 291 </td><td> 35  </td><td>  19 </td><td> 92  </td><td> 325 </td><td> 442 </td><td> 307 </td><td>  71 </td><td>    0</td><td>   0 </td><td>  53 </td></tr>\n",
       "\t<tr><td> 185 </td><td> 360 </td><td> 769 </td><td>524  </td><td>   0 </td><td>   5 </td><td>1536 </td><td> 246 </td><td> 31  </td><td>  42 </td><td> 70  </td><td> 176 </td><td> 193 </td><td> 252 </td><td> 652 </td><td>    0</td><td>   0 </td><td>  31 </td></tr>\n",
       "\t<tr><td>  48 </td><td>  35 </td><td>  95 </td><td>961  </td><td>6253 </td><td>  38 </td><td> 654 </td><td>  73 </td><td>  8  </td><td> 172 </td><td>448  </td><td>2136 </td><td> 102 </td><td>3555 </td><td> 912 </td><td>   25</td><td>2843 </td><td>   5 </td></tr>\n",
       "\t<tr><td>  16 </td><td>   1 </td><td>   9 </td><td>127  </td><td>  20 </td><td>1366 </td><td>  40 </td><td>   9 </td><td>  1  </td><td>  27 </td><td> 36  </td><td>  78 </td><td>  10 </td><td>  19 </td><td>  49 </td><td>  827</td><td>  41 </td><td>   0 </td></tr>\n",
       "\t<tr><td> 554 </td><td> 862 </td><td>1587 </td><td>531  </td><td>   4 </td><td>  19 </td><td>1208 </td><td> 337 </td><td> 90  </td><td> 174 </td><td>353  </td><td> 484 </td><td> 615 </td><td> 677 </td><td> 513 </td><td>   12</td><td>   4 </td><td> 140 </td></tr>\n",
       "\t<tr><td> 400 </td><td>1034 </td><td>1146 </td><td> 12  </td><td>   0 </td><td>   0 </td><td> 343 </td><td> 175 </td><td>177  </td><td>   6 </td><td> 15  </td><td>  71 </td><td> 688 </td><td>  71 </td><td>  45 </td><td>    0</td><td>   0 </td><td> 215 </td></tr>\n",
       "\t<tr><td> 209 </td><td> 161 </td><td> 190 </td><td>  1  </td><td>   0 </td><td>   0 </td><td>  12 </td><td> 143 </td><td> 42  </td><td>   0 </td><td>  0  </td><td>   0 </td><td>1406 </td><td>   0 </td><td>  13 </td><td>    0</td><td>   0 </td><td> 239 </td></tr>\n",
       "\t<tr><td>  63 </td><td> 180 </td><td> 418 </td><td>419  </td><td>   1 </td><td>  36 </td><td> 179 </td><td>   7 </td><td>  6  </td><td> 273 </td><td>506  </td><td> 811 </td><td>  75 </td><td>2011 </td><td> 440 </td><td>   32</td><td>  99 </td><td>  13 </td></tr>\n",
       "\t<tr><td>  17 </td><td>  72 </td><td> 278 </td><td>508  </td><td>   0 </td><td>  46 </td><td> 289 </td><td>  16 </td><td>  7  </td><td> 594 </td><td>788  </td><td>1768 </td><td>  35 </td><td>3255 </td><td> 615 </td><td>   29</td><td> 163 </td><td>  16 </td></tr>\n",
       "\t<tr><td> 114 </td><td>  64 </td><td> 426 </td><td>655  </td><td>   0 </td><td>   5 </td><td> 378 </td><td>  86 </td><td>  9  </td><td>1006 </td><td>993  </td><td>2159 </td><td>  68 </td><td>4072 </td><td> 562 </td><td>    7</td><td>  61 </td><td>  15 </td></tr>\n",
       "\t<tr><td>1025 </td><td>2131 </td><td>2998 </td><td>  4  </td><td>   0 </td><td>   8 </td><td> 351 </td><td>1221 </td><td>624  </td><td>  10 </td><td> 28  </td><td> 217 </td><td>8017 </td><td>  71 </td><td> 173 </td><td>    4</td><td>   0 </td><td>1080 </td></tr>\n",
       "\t<tr><td> 207 </td><td> 202 </td><td> 860 </td><td>218  </td><td>   0 </td><td>   0 </td><td>2869 </td><td> 163 </td><td> 28  </td><td>   6 </td><td> 18  </td><td> 278 </td><td> 191 </td><td>8805 </td><td>1270 </td><td>    0</td><td>   9 </td><td>  18 </td></tr>\n",
       "\t<tr><td> 212 </td><td> 249 </td><td> 431 </td><td> 32  </td><td>   0 </td><td>   0 </td><td>  27 </td><td> 112 </td><td> 30  </td><td>  29 </td><td> 43  </td><td> 121 </td><td> 561 </td><td> 211 </td><td>  90 </td><td>    0</td><td>   0 </td><td>  66 </td></tr>\n",
       "\t<tr><td>   1 </td><td>   3 </td><td>   5 </td><td>  0  </td><td>  42 </td><td>6920 </td><td>  11 </td><td>   1 </td><td>  0  </td><td>  10 </td><td>  3  </td><td>  10 </td><td>   1 </td><td>  20 </td><td>   4 </td><td>31582</td><td> 220 </td><td>   0 </td></tr>\n",
       "\t<tr><td>  33 </td><td>  19 </td><td> 198 </td><td>507  </td><td>   3 </td><td>  33 </td><td> 162 </td><td>  28 </td><td>  3  </td><td> 388 </td><td>736  </td><td>1615 </td><td>  32 </td><td>2608 </td><td> 344 </td><td>   50</td><td> 115 </td><td>   1 </td></tr>\n",
       "\t<tr><td> 412 </td><td> 680 </td><td> 885 </td><td>  0  </td><td>   0 </td><td>   0 </td><td>  95 </td><td> 593 </td><td>221  </td><td>   4 </td><td>  0  </td><td>   4 </td><td>3334 </td><td>   7 </td><td>  12 </td><td>    0</td><td>   0 </td><td> 447 </td></tr>\n",
       "</tbody>\n",
       "</table>\n"
      ],
      "text/latex": [
       "\\begin{tabular}{r|llllllllllllllllll}\n",
       " Cabatoan & Caridad Cemetery & Caridad Proper & Elementary School & Gabas & Haina & Hicgop South & Magbangon & Palanas & Poroc Rose & Poroc San Flower & San Agustin & Sitio Baybayon & Sitio Lonas & Sitio Tugas & Tamakin Dacot & Visca & Wangag\\\\\n",
       "\\hline\n",
       "\t  454  &  699  &  877  &   8   &    0  &    0  &  651  &  429  &  66   &   13  &  22   &   87  &  416  &   87  &   59  &     0 &    0  &  126 \\\\\n",
       "\t  310  & 1761  & 1132  &  44   &    0  &    0  &   84  &  354  &  57   &   10  &  32   &  199  &  357  &  166  &   54  &     0 &    0  &   69 \\\\\n",
       "\t  404  &  563  &  784  &  11   &    0  &    0  &   77  &  291  &  35   &   19  &  92   &  325  &  442  &  307  &   71  &     0 &    0  &   53 \\\\\n",
       "\t  185  &  360  &  769  & 524   &    0  &    5  & 1536  &  246  &  31   &   42  &  70   &  176  &  193  &  252  &  652  &     0 &    0  &   31 \\\\\n",
       "\t   48  &   35  &   95  & 961   & 6253  &   38  &  654  &   73  &   8   &  172  & 448   & 2136  &  102  & 3555  &  912  &    25 & 2843  &    5 \\\\\n",
       "\t   16  &    1  &    9  & 127   &   20  & 1366  &   40  &    9  &   1   &   27  &  36   &   78  &   10  &   19  &   49  &   827 &   41  &    0 \\\\\n",
       "\t  554  &  862  & 1587  & 531   &    4  &   19  & 1208  &  337  &  90   &  174  & 353   &  484  &  615  &  677  &  513  &    12 &    4  &  140 \\\\\n",
       "\t  400  & 1034  & 1146  &  12   &    0  &    0  &  343  &  175  & 177   &    6  &  15   &   71  &  688  &   71  &   45  &     0 &    0  &  215 \\\\\n",
       "\t  209  &  161  &  190  &   1   &    0  &    0  &   12  &  143  &  42   &    0  &   0   &    0  & 1406  &    0  &   13  &     0 &    0  &  239 \\\\\n",
       "\t   63  &  180  &  418  & 419   &    1  &   36  &  179  &    7  &   6   &  273  & 506   &  811  &   75  & 2011  &  440  &    32 &   99  &   13 \\\\\n",
       "\t   17  &   72  &  278  & 508   &    0  &   46  &  289  &   16  &   7   &  594  & 788   & 1768  &   35  & 3255  &  615  &    29 &  163  &   16 \\\\\n",
       "\t  114  &   64  &  426  & 655   &    0  &    5  &  378  &   86  &   9   & 1006  & 993   & 2159  &   68  & 4072  &  562  &     7 &   61  &   15 \\\\\n",
       "\t 1025  & 2131  & 2998  &   4   &    0  &    8  &  351  & 1221  & 624   &   10  &  28   &  217  & 8017  &   71  &  173  &     4 &    0  & 1080 \\\\\n",
       "\t  207  &  202  &  860  & 218   &    0  &    0  & 2869  &  163  &  28   &    6  &  18   &  278  &  191  & 8805  & 1270  &     0 &    9  &   18 \\\\\n",
       "\t  212  &  249  &  431  &  32   &    0  &    0  &   27  &  112  &  30   &   29  &  43   &  121  &  561  &  211  &   90  &     0 &    0  &   66 \\\\\n",
       "\t    1  &    3  &    5  &   0   &   42  & 6920  &   11  &    1  &   0   &   10  &   3   &   10  &    1  &   20  &    4  & 31582 &  220  &    0 \\\\\n",
       "\t   33  &   19  &  198  & 507   &    3  &   33  &  162  &   28  &   3   &  388  & 736   & 1615  &   32  & 2608  &  344  &    50 &  115  &    1 \\\\\n",
       "\t  412  &  680  &  885  &   0   &    0  &    0  &   95  &  593  & 221   &    4  &   0   &    4  & 3334  &    7  &   12  &     0 &    0  &  447 \\\\\n",
       "\\end{tabular}\n"
      ],
      "text/markdown": [
       "\n",
       "| Cabatoan | Caridad Cemetery | Caridad Proper | Elementary School | Gabas | Haina | Hicgop South | Magbangon | Palanas | Poroc Rose | Poroc San Flower | San Agustin | Sitio Baybayon | Sitio Lonas | Sitio Tugas | Tamakin Dacot | Visca | Wangag |\n",
       "|---|---|---|---|---|---|---|---|---|---|---|---|---|---|---|---|---|---|\n",
       "|  454  |  699  |  877  |   8   |    0  |    0  |  651  |  429  |  66   |   13  |  22   |   87  |  416  |   87  |   59  |     0 |    0  |  126  |\n",
       "|  310  | 1761  | 1132  |  44   |    0  |    0  |   84  |  354  |  57   |   10  |  32   |  199  |  357  |  166  |   54  |     0 |    0  |   69  |\n",
       "|  404  |  563  |  784  |  11   |    0  |    0  |   77  |  291  |  35   |   19  |  92   |  325  |  442  |  307  |   71  |     0 |    0  |   53  |\n",
       "|  185  |  360  |  769  | 524   |    0  |    5  | 1536  |  246  |  31   |   42  |  70   |  176  |  193  |  252  |  652  |     0 |    0  |   31  |\n",
       "|   48  |   35  |   95  | 961   | 6253  |   38  |  654  |   73  |   8   |  172  | 448   | 2136  |  102  | 3555  |  912  |    25 | 2843  |    5  |\n",
       "|   16  |    1  |    9  | 127   |   20  | 1366  |   40  |    9  |   1   |   27  |  36   |   78  |   10  |   19  |   49  |   827 |   41  |    0  |\n",
       "|  554  |  862  | 1587  | 531   |    4  |   19  | 1208  |  337  |  90   |  174  | 353   |  484  |  615  |  677  |  513  |    12 |    4  |  140  |\n",
       "|  400  | 1034  | 1146  |  12   |    0  |    0  |  343  |  175  | 177   |    6  |  15   |   71  |  688  |   71  |   45  |     0 |    0  |  215  |\n",
       "|  209  |  161  |  190  |   1   |    0  |    0  |   12  |  143  |  42   |    0  |   0   |    0  | 1406  |    0  |   13  |     0 |    0  |  239  |\n",
       "|   63  |  180  |  418  | 419   |    1  |   36  |  179  |    7  |   6   |  273  | 506   |  811  |   75  | 2011  |  440  |    32 |   99  |   13  |\n",
       "|   17  |   72  |  278  | 508   |    0  |   46  |  289  |   16  |   7   |  594  | 788   | 1768  |   35  | 3255  |  615  |    29 |  163  |   16  |\n",
       "|  114  |   64  |  426  | 655   |    0  |    5  |  378  |   86  |   9   | 1006  | 993   | 2159  |   68  | 4072  |  562  |     7 |   61  |   15  |\n",
       "| 1025  | 2131  | 2998  |   4   |    0  |    8  |  351  | 1221  | 624   |   10  |  28   |  217  | 8017  |   71  |  173  |     4 |    0  | 1080  |\n",
       "|  207  |  202  |  860  | 218   |    0  |    0  | 2869  |  163  |  28   |    6  |  18   |  278  |  191  | 8805  | 1270  |     0 |    9  |   18  |\n",
       "|  212  |  249  |  431  |  32   |    0  |    0  |   27  |  112  |  30   |   29  |  43   |  121  |  561  |  211  |   90  |     0 |    0  |   66  |\n",
       "|    1  |    3  |    5  |   0   |   42  | 6920  |   11  |    1  |   0   |   10  |   3   |   10  |    1  |   20  |    4  | 31582 |  220  |    0  |\n",
       "|   33  |   19  |  198  | 507   |    3  |   33  |  162  |   28  |   3   |  388  | 736   | 1615  |   32  | 2608  |  344  |    50 |  115  |    1  |\n",
       "|  412  |  680  |  885  |   0   |    0  |    0  |   95  |  593  | 221   |    4  |   0   |    4  | 3334  |    7  |   12  |     0 |    0  |  447  |\n",
       "\n"
      ],
      "text/plain": [
       "   Cabatoan Caridad Cemetery Caridad Proper Elementary School Gabas Haina\n",
       "1   454      699              877             8                  0     0 \n",
       "2   310     1761             1132            44                  0     0 \n",
       "3   404      563              784            11                  0     0 \n",
       "4   185      360              769           524                  0     5 \n",
       "5    48       35               95           961               6253    38 \n",
       "6    16        1                9           127                 20  1366 \n",
       "7   554      862             1587           531                  4    19 \n",
       "8   400     1034             1146            12                  0     0 \n",
       "9   209      161              190             1                  0     0 \n",
       "10   63      180              418           419                  1    36 \n",
       "11   17       72              278           508                  0    46 \n",
       "12  114       64              426           655                  0     5 \n",
       "13 1025     2131             2998             4                  0     8 \n",
       "14  207      202              860           218                  0     0 \n",
       "15  212      249              431            32                  0     0 \n",
       "16    1        3                5             0                 42  6920 \n",
       "17   33       19              198           507                  3    33 \n",
       "18  412      680              885             0                  0     0 \n",
       "   Hicgop South Magbangon Palanas Poroc Rose Poroc San Flower San Agustin\n",
       "1   651          429       66       13        22                87       \n",
       "2    84          354       57       10        32               199       \n",
       "3    77          291       35       19        92               325       \n",
       "4  1536          246       31       42        70               176       \n",
       "5   654           73        8      172       448              2136       \n",
       "6    40            9        1       27        36                78       \n",
       "7  1208          337       90      174       353               484       \n",
       "8   343          175      177        6        15                71       \n",
       "9    12          143       42        0         0                 0       \n",
       "10  179            7        6      273       506               811       \n",
       "11  289           16        7      594       788              1768       \n",
       "12  378           86        9     1006       993              2159       \n",
       "13  351         1221      624       10        28               217       \n",
       "14 2869          163       28        6        18               278       \n",
       "15   27          112       30       29        43               121       \n",
       "16   11            1        0       10         3                10       \n",
       "17  162           28        3      388       736              1615       \n",
       "18   95          593      221        4         0                 4       \n",
       "   Sitio Baybayon Sitio Lonas Sitio Tugas Tamakin Dacot Visca Wangag\n",
       "1   416             87          59            0            0   126  \n",
       "2   357            166          54            0            0    69  \n",
       "3   442            307          71            0            0    53  \n",
       "4   193            252         652            0            0    31  \n",
       "5   102           3555         912           25         2843     5  \n",
       "6    10             19          49          827           41     0  \n",
       "7   615            677         513           12            4   140  \n",
       "8   688             71          45            0            0   215  \n",
       "9  1406              0          13            0            0   239  \n",
       "10   75           2011         440           32           99    13  \n",
       "11   35           3255         615           29          163    16  \n",
       "12   68           4072         562            7           61    15  \n",
       "13 8017             71         173            4            0  1080  \n",
       "14  191           8805        1270            0            9    18  \n",
       "15  561            211          90            0            0    66  \n",
       "16    1             20           4        31582          220     0  \n",
       "17   32           2608         344           50          115     1  \n",
       "18 3334              7          12            0            0   447  "
      ]
     },
     "metadata": {},
     "output_type": "display_data"
    }
   ],
   "source": [
    "SimDisp2012Mat"
   ]
  },
  {
   "cell_type": "code",
   "execution_count": 87,
   "metadata": {},
   "outputs": [],
   "source": [
    "#turn into parentage matrix\n",
    "\n",
    "#SimDisp2012Mat <- SimDisp2012 %>%\n",
    "#    ungroup() %>%\n",
    "#    spread(source, destination, SumParticles)\n",
    "    \n",
    "\n",
    "#make the rest of the kernel input files\n",
    "Assignments <- FullSimDisp2013\n",
    "Adult_sample_proportions <- matrix(nrow=18, ncol=1, 1) #we sampled all sites completely because we are working with simulated data\n",
    "Sampled_reefs <- as.matrix(read.csv(\"~/parentage/kernel_fitting/1340_loci/input/site_index_all.csv\", header=FALSE))[,18] #sampled all reefs in the distance matrix/area/centroid files\n",
    "Distances <- as.matrix(read.csv(\"~/parentage/kernel_fitting/1340_loci/input/distance_matrix_unsurveyed.csv\", header=FALSE))[-2, -2]  #drop a magbangon row  \n",
    "Reef_sizes <- as.matrix(read.csv(\"~/parentage/kernel_fitting/894_loci/area_unsurveyed.csv\", header=FALSE))[]\n",
    "Centroids <- as.matrix(read.csv(\"~/parentage/kernel_fitting/894_loci/centroids_unsurveyed.csv\", header=T))\n",
    "\n"
   ]
  },
  {
   "cell_type": "code",
   "execution_count": 88,
   "metadata": {},
   "outputs": [
    {
     "data": {
      "text/plain": [
       "\n",
       "Call:\n",
       "mle2(minuslogl = LL_kt_bbmle, start = list(k = -3, theta = 1), \n",
       "    method = \"L-BFGS-B\", data = x, lower = c(-10, 0.15), upper = c(10, \n",
       "        8), control = list(maxit = 500))\n",
       "\n",
       "Coefficients:\n",
       "    k theta \n",
       "   10     8 \n",
       "\n",
       "Log-likelihood: -47193.78 "
      ]
     },
     "metadata": {},
     "output_type": "display_data"
    }
   ],
   "source": [
    "a=-10\n",
    "b=10\n",
    "\n",
    "\n",
    "x <- list(Distances=Distances, Assignments=Assignments, Sampled_reefs=Sampled_reefs, Reef_sizes=Reef_sizes, Adult_sample_proportions=Adult_sample_proportions) #put inputs into a list because that's the bbmle format\n",
    "\n",
    "Sim2013Fit <- suppressWarnings(mle2(LL_kt_bbmle, start=list(k=-3, theta=1), lower=c(-10, 0.15), upper=c(10, 8), method=\"L-BFGS-B\", data=x, control=list(maxit=500)))\n",
    "Sim2013Fit\n",
    "\n",
    "#doen't look right. Maybe fix theta, optimize k"
   ]
  },
  {
   "cell_type": "code",
   "execution_count": 110,
   "metadata": {},
   "outputs": [
    {
     "data": {
      "text/html": [
       "324"
      ],
      "text/latex": [
       "324"
      ],
      "text/markdown": [
       "324"
      ],
      "text/plain": [
       "[1] 324"
      ]
     },
     "metadata": {},
     "output_type": "display_data"
    }
   ],
   "source": [
    "#try predicting the occurence of dispersal numbers with some kind of regression model\n",
    "#join together all of the data first\n",
    "\n",
    "#get a data frame with number of genetic observations and number of simulated for each site to site pair, as well as a pairwise distance matrix\n",
    "centroids <- read.csv(\"~/parentage/kernel_fitting/1340_loci/input/site_centroids.csv\", header=TRUE, stringsAsFactors = F) %>%\n",
    "    mutate(site=ifelse(site ==\"S.Magbangon\" , \"Magbangon\", site)) %>%\n",
    "    filter(site != \"N.Magbangon\") %>%\n",
    "    filter(site %in% SitesNS$site)\n",
    "\n",
    "\n",
    "##calculate the distance from all potential parents and all potential offspring\n",
    "all_possible_dists <- as.data.frame(rdist.earth(as.matrix(centroids[,c('lon', 'lat')]), as.matrix(centroids[,c('lon', 'lat')]), miles=FALSE, R=6371))\n",
    "#\n",
    "##attach the sample_ids to each distance, so you can also get site and year\n",
    "colnames(all_possible_dists) <- centroids$site\n",
    "all_possible_dists$site_i <- centroids$site\n",
    "#\n",
    "##gather into tidy \n",
    "all_possible_dists_tidy <- all_possible_dists %>%\n",
    "    dplyr::select(site_i, everything()) %>%\n",
    "    gather(2:19, key=site_j, value=dist_km) \n",
    "nrow(all_possible_dists_tidy)\n",
    "\n",
    "\n"
   ]
  },
  {
   "cell_type": "code",
   "execution_count": 120,
   "metadata": {},
   "outputs": [
    {
     "data": {
      "text/html": [
       "<table>\n",
       "<thead><tr><th scope=col>site_i</th><th scope=col>site_j</th><th scope=col>dist_km</th></tr></thead>\n",
       "<tbody>\n",
       "\t<tr><td>Cabatoan         </td><td>Cabatoan         </td><td> 0.000000        </td></tr>\n",
       "\t<tr><td>Caridad Cemetery </td><td>Cabatoan         </td><td> 3.038692        </td></tr>\n",
       "\t<tr><td>Caridad Proper   </td><td>Cabatoan         </td><td> 3.789504        </td></tr>\n",
       "\t<tr><td>Elementary School</td><td>Cabatoan         </td><td> 7.740421        </td></tr>\n",
       "\t<tr><td>Gabas            </td><td>Cabatoan         </td><td>15.924821        </td></tr>\n",
       "\t<tr><td>Haina            </td><td>Cabatoan         </td><td>24.577900        </td></tr>\n",
       "</tbody>\n",
       "</table>\n"
      ],
      "text/latex": [
       "\\begin{tabular}{r|lll}\n",
       " site\\_i & site\\_j & dist\\_km\\\\\n",
       "\\hline\n",
       "\t Cabatoan          & Cabatoan          &  0.000000        \\\\\n",
       "\t Caridad Cemetery  & Cabatoan          &  3.038692        \\\\\n",
       "\t Caridad Proper    & Cabatoan          &  3.789504        \\\\\n",
       "\t Elementary School & Cabatoan          &  7.740421        \\\\\n",
       "\t Gabas             & Cabatoan          & 15.924821        \\\\\n",
       "\t Haina             & Cabatoan          & 24.577900        \\\\\n",
       "\\end{tabular}\n"
      ],
      "text/markdown": [
       "\n",
       "| site_i | site_j | dist_km |\n",
       "|---|---|---|\n",
       "| Cabatoan          | Cabatoan          |  0.000000         |\n",
       "| Caridad Cemetery  | Cabatoan          |  3.038692         |\n",
       "| Caridad Proper    | Cabatoan          |  3.789504         |\n",
       "| Elementary School | Cabatoan          |  7.740421         |\n",
       "| Gabas             | Cabatoan          | 15.924821         |\n",
       "| Haina             | Cabatoan          | 24.577900         |\n",
       "\n"
      ],
      "text/plain": [
       "  site_i            site_j   dist_km  \n",
       "1 Cabatoan          Cabatoan  0.000000\n",
       "2 Caridad Cemetery  Cabatoan  3.038692\n",
       "3 Caridad Proper    Cabatoan  3.789504\n",
       "4 Elementary School Cabatoan  7.740421\n",
       "5 Gabas             Cabatoan 15.924821\n",
       "6 Haina             Cabatoan 24.577900"
      ]
     },
     "metadata": {},
     "output_type": "display_data"
    },
    {
     "data": {
      "text/html": [
       "<table>\n",
       "<thead><tr><th scope=col>destination</th><th scope=col>source</th><th scope=col>SumParticles</th></tr></thead>\n",
       "<tbody>\n",
       "\t<tr><td>Palanas         </td><td>Palanas         </td><td> 42             </td></tr>\n",
       "\t<tr><td>Palanas         </td><td>Wangag          </td><td>221             </td></tr>\n",
       "\t<tr><td>Palanas         </td><td>Magbangon       </td><td>177             </td></tr>\n",
       "\t<tr><td>Palanas         </td><td>Cabatoan        </td><td> 66             </td></tr>\n",
       "\t<tr><td>Palanas         </td><td>Caridad Cemetery</td><td> 57             </td></tr>\n",
       "\t<tr><td>Palanas         </td><td>Caridad Proper  </td><td> 35             </td></tr>\n",
       "</tbody>\n",
       "</table>\n"
      ],
      "text/latex": [
       "\\begin{tabular}{r|lll}\n",
       " destination & source & SumParticles\\\\\n",
       "\\hline\n",
       "\t Palanas          & Palanas          &  42             \\\\\n",
       "\t Palanas          & Wangag           & 221             \\\\\n",
       "\t Palanas          & Magbangon        & 177             \\\\\n",
       "\t Palanas          & Cabatoan         &  66             \\\\\n",
       "\t Palanas          & Caridad Cemetery &  57             \\\\\n",
       "\t Palanas          & Caridad Proper   &  35             \\\\\n",
       "\\end{tabular}\n"
      ],
      "text/markdown": [
       "\n",
       "| destination | source | SumParticles |\n",
       "|---|---|---|\n",
       "| Palanas          | Palanas          |  42              |\n",
       "| Palanas          | Wangag           | 221              |\n",
       "| Palanas          | Magbangon        | 177              |\n",
       "| Palanas          | Cabatoan         |  66              |\n",
       "| Palanas          | Caridad Cemetery |  57              |\n",
       "| Palanas          | Caridad Proper   |  35              |\n",
       "\n"
      ],
      "text/plain": [
       "  destination source           SumParticles\n",
       "1 Palanas     Palanas           42         \n",
       "2 Palanas     Wangag           221         \n",
       "3 Palanas     Magbangon        177         \n",
       "4 Palanas     Cabatoan          66         \n",
       "5 Palanas     Caridad Cemetery  57         \n",
       "6 Palanas     Caridad Proper    35         "
      ]
     },
     "metadata": {},
     "output_type": "display_data"
    }
   ],
   "source": [
    "head(all_possible_dists_tidy)\n",
    "head(SimDisp2012)"
   ]
  },
  {
   "cell_type": "code",
   "execution_count": 178,
   "metadata": {},
   "outputs": [
    {
     "name": "stderr",
     "output_type": "stream",
     "text": [
      "`summarise()` regrouping output by 'offs_site' (override with `.groups` argument)\n"
     ]
    },
    {
     "data": {
      "text/html": [
       "24"
      ],
      "text/latex": [
       "24"
      ],
      "text/markdown": [
       "24"
      ],
      "text/plain": [
       "[1] 24"
      ]
     },
     "metadata": {},
     "output_type": "display_data"
    }
   ],
   "source": [
    "disp_dist <- read.csv(file=\"~/parentage/colony2/20200605_1340loci/results//20200624colony_dispersaldirection.csv\", header=T, stringsAsFactors=F) %>%\n",
    "    #filter(year==\"2014\") %>%#testing effect of time\n",
    "    filter(year %in% c(\"2012\", \"2013\")) %>% #, \"2014\"\n",
    "    dplyr::select(year, dist_par_km, offs_site, par_site) %>%\n",
    "    group_by(offs_site, par_site) %>%\n",
    "    summarise(obs_disp=n())\n",
    "\n",
    "sum(disp_dist$obs_disp)#should be 37 for years of overlap between model and genetics, 21 for 2013"
   ]
  },
  {
   "cell_type": "code",
   "execution_count": 171,
   "metadata": {},
   "outputs": [
    {
     "data": {
      "text/html": [
       "<table>\n",
       "<thead><tr><th scope=col>offs_site</th><th scope=col>par_site</th><th scope=col>obs_disp</th></tr></thead>\n",
       "<tbody>\n",
       "\t<tr><td>Cabatoan         </td><td>S. Magbangon     </td><td>1                </td></tr>\n",
       "\t<tr><td>Elementary School</td><td>Palanas          </td><td>2                </td></tr>\n",
       "\t<tr><td>Haina            </td><td>S. Magbangon     </td><td>1                </td></tr>\n",
       "\t<tr><td>N. Magbangon     </td><td>N. Magbangon     </td><td>2                </td></tr>\n",
       "\t<tr><td>N. Magbangon     </td><td>Palanas          </td><td>1                </td></tr>\n",
       "\t<tr><td>Palanas          </td><td>Palanas          </td><td>3                </td></tr>\n",
       "\t<tr><td>Palanas          </td><td>Sitio Baybayon   </td><td>3                </td></tr>\n",
       "\t<tr><td>Palanas          </td><td>Visca            </td><td>2                </td></tr>\n",
       "\t<tr><td>Palanas          </td><td>Wangag           </td><td>3                </td></tr>\n",
       "\t<tr><td>Poroc San Flower </td><td>S. Magbangon     </td><td>1                </td></tr>\n",
       "\t<tr><td>Poroc San Flower </td><td>Wangag           </td><td>1                </td></tr>\n",
       "\t<tr><td>S. Magbangon     </td><td>Cabatoan         </td><td>1                </td></tr>\n",
       "\t<tr><td>S. Magbangon     </td><td>Palanas          </td><td>1                </td></tr>\n",
       "\t<tr><td>Sitio Baybayon   </td><td>Sitio Baybayon   </td><td>5                </td></tr>\n",
       "\t<tr><td>Visca            </td><td>Visca            </td><td>1                </td></tr>\n",
       "\t<tr><td>Wangag           </td><td>Haina            </td><td>1                </td></tr>\n",
       "\t<tr><td>Wangag           </td><td>Palanas          </td><td>4                </td></tr>\n",
       "\t<tr><td>Wangag           </td><td>Sitio Baybayon   </td><td>2                </td></tr>\n",
       "\t<tr><td>Wangag           </td><td>Wangag           </td><td>2                </td></tr>\n",
       "</tbody>\n",
       "</table>\n"
      ],
      "text/latex": [
       "\\begin{tabular}{r|lll}\n",
       " offs\\_site & par\\_site & obs\\_disp\\\\\n",
       "\\hline\n",
       "\t Cabatoan          & S. Magbangon      & 1                \\\\\n",
       "\t Elementary School & Palanas           & 2                \\\\\n",
       "\t Haina             & S. Magbangon      & 1                \\\\\n",
       "\t N. Magbangon      & N. Magbangon      & 2                \\\\\n",
       "\t N. Magbangon      & Palanas           & 1                \\\\\n",
       "\t Palanas           & Palanas           & 3                \\\\\n",
       "\t Palanas           & Sitio Baybayon    & 3                \\\\\n",
       "\t Palanas           & Visca             & 2                \\\\\n",
       "\t Palanas           & Wangag            & 3                \\\\\n",
       "\t Poroc San Flower  & S. Magbangon      & 1                \\\\\n",
       "\t Poroc San Flower  & Wangag            & 1                \\\\\n",
       "\t S. Magbangon      & Cabatoan          & 1                \\\\\n",
       "\t S. Magbangon      & Palanas           & 1                \\\\\n",
       "\t Sitio Baybayon    & Sitio Baybayon    & 5                \\\\\n",
       "\t Visca             & Visca             & 1                \\\\\n",
       "\t Wangag            & Haina             & 1                \\\\\n",
       "\t Wangag            & Palanas           & 4                \\\\\n",
       "\t Wangag            & Sitio Baybayon    & 2                \\\\\n",
       "\t Wangag            & Wangag            & 2                \\\\\n",
       "\\end{tabular}\n"
      ],
      "text/markdown": [
       "\n",
       "| offs_site | par_site | obs_disp |\n",
       "|---|---|---|\n",
       "| Cabatoan          | S. Magbangon      | 1                 |\n",
       "| Elementary School | Palanas           | 2                 |\n",
       "| Haina             | S. Magbangon      | 1                 |\n",
       "| N. Magbangon      | N. Magbangon      | 2                 |\n",
       "| N. Magbangon      | Palanas           | 1                 |\n",
       "| Palanas           | Palanas           | 3                 |\n",
       "| Palanas           | Sitio Baybayon    | 3                 |\n",
       "| Palanas           | Visca             | 2                 |\n",
       "| Palanas           | Wangag            | 3                 |\n",
       "| Poroc San Flower  | S. Magbangon      | 1                 |\n",
       "| Poroc San Flower  | Wangag            | 1                 |\n",
       "| S. Magbangon      | Cabatoan          | 1                 |\n",
       "| S. Magbangon      | Palanas           | 1                 |\n",
       "| Sitio Baybayon    | Sitio Baybayon    | 5                 |\n",
       "| Visca             | Visca             | 1                 |\n",
       "| Wangag            | Haina             | 1                 |\n",
       "| Wangag            | Palanas           | 4                 |\n",
       "| Wangag            | Sitio Baybayon    | 2                 |\n",
       "| Wangag            | Wangag            | 2                 |\n",
       "\n"
      ],
      "text/plain": [
       "   offs_site         par_site       obs_disp\n",
       "1  Cabatoan          S. Magbangon   1       \n",
       "2  Elementary School Palanas        2       \n",
       "3  Haina             S. Magbangon   1       \n",
       "4  N. Magbangon      N. Magbangon   2       \n",
       "5  N. Magbangon      Palanas        1       \n",
       "6  Palanas           Palanas        3       \n",
       "7  Palanas           Sitio Baybayon 3       \n",
       "8  Palanas           Visca          2       \n",
       "9  Palanas           Wangag         3       \n",
       "10 Poroc San Flower  S. Magbangon   1       \n",
       "11 Poroc San Flower  Wangag         1       \n",
       "12 S. Magbangon      Cabatoan       1       \n",
       "13 S. Magbangon      Palanas        1       \n",
       "14 Sitio Baybayon    Sitio Baybayon 5       \n",
       "15 Visca             Visca          1       \n",
       "16 Wangag            Haina          1       \n",
       "17 Wangag            Palanas        4       \n",
       "18 Wangag            Sitio Baybayon 2       \n",
       "19 Wangag            Wangag         2       "
      ]
     },
     "metadata": {},
     "output_type": "display_data"
    }
   ],
   "source": [
    "disp_dist"
   ]
  },
  {
   "cell_type": "code",
   "execution_count": null,
   "metadata": {},
   "outputs": [],
   "source": [
    "#the all year is SimDispXN"
   ]
  },
  {
   "cell_type": "code",
   "execution_count": 179,
   "metadata": {},
   "outputs": [],
   "source": [
    "SimPlusGenWithDistInt <- left_join(SimDispXN, all_possible_dists_tidy, by=c(destination=\"site_j\", source=\"site_i\")) %>%\n",
    "    rename(ExpDisp=\"SumParticles\")\n",
    "\n",
    "SimPlusGenWithDist <- left_join(SimPlusGenWithDistInt, disp_dist, by=c(destination=\"offs_site\", source=\"par_site\")) %>%\n",
    "    mutate(obs_disp=ifelse(is.na(obs_disp), 0, obs_disp))\n"
   ]
  },
  {
   "cell_type": "code",
   "execution_count": 180,
   "metadata": {},
   "outputs": [
    {
     "data": {
      "text/plain": [
       "\n",
       "Call:\n",
       "glm(formula = obs_disp ~ ExpDisp + dist_km, family = \"poisson\", \n",
       "    data = SimPlusGenWithDist)\n",
       "\n",
       "Deviance Residuals: \n",
       "    Min       1Q   Median       3Q      Max  \n",
       "-0.5035  -0.3880  -0.3447  -0.2931   3.9476  \n",
       "\n",
       "Coefficients:\n",
       "              Estimate Std. Error z value Pr(>|z|)    \n",
       "(Intercept) -2.0074902  0.4398954  -4.564 5.03e-06 ***\n",
       "ExpDisp     -0.0003584  0.0003448  -1.040   0.2985    \n",
       "dist_km     -0.0665931  0.0390462  -1.705   0.0881 .  \n",
       "---\n",
       "Signif. codes:  0 ‘***’ 0.001 ‘**’ 0.01 ‘*’ 0.05 ‘.’ 0.1 ‘ ’ 1\n",
       "\n",
       "(Dispersion parameter for poisson family taken to be 1)\n",
       "\n",
       "    Null deviance: 142.27  on 323  degrees of freedom\n",
       "Residual deviance: 137.85  on 321  degrees of freedom\n",
       "AIC: 169.28\n",
       "\n",
       "Number of Fisher Scoring iterations: 7\n"
      ]
     },
     "metadata": {},
     "output_type": "display_data"
    }
   ],
   "source": [
    "test_mod <- glm(obs_disp ~ ExpDisp + dist_km, data=SimPlusGenWithDist, family=\"poisson\")\n",
    "summary(test_mod)\n"
   ]
  },
  {
   "cell_type": "code",
   "execution_count": 150,
   "metadata": {},
   "outputs": [
    {
     "data": {
      "text/plain": [
       "\n",
       "Call:\n",
       "glm(formula = obs_disp ~ ExpDisp + dist_km, family = \"poisson\", \n",
       "    data = SimPlusGenWithDist)\n",
       "\n",
       "Deviance Residuals: \n",
       "    Min       1Q   Median       3Q      Max  \n",
       "-1.6338  -0.5901  -0.5535  -0.5168   6.2259  \n",
       "\n",
       "Coefficients:\n",
       "              Estimate Std. Error z value Pr(>|z|)    \n",
       "(Intercept) -1.678e+00  2.301e-01  -7.291 3.09e-13 ***\n",
       "ExpDisp      1.267e-05  5.805e-06   2.183    0.029 *  \n",
       "dist_km     -2.103e-02  2.035e-02  -1.033    0.301    \n",
       "---\n",
       "Signif. codes:  0 ‘***’ 0.001 ‘**’ 0.01 ‘*’ 0.05 ‘.’ 0.1 ‘ ’ 1\n",
       "\n",
       "(Dispersion parameter for poisson family taken to be 1)\n",
       "\n",
       "    Null deviance: 298.09  on 323  degrees of freedom\n",
       "Residual deviance: 293.28  on 321  degrees of freedom\n",
       "AIC: 358.84\n",
       "\n",
       "Number of Fisher Scoring iterations: 13\n"
      ]
     },
     "metadata": {},
     "output_type": "display_data"
    }
   ],
   "source": [
    "test_mod <- glm(obs_disp ~ ExpDisp + dist_km, data=SimPlusGenWithDist, family=\"poisson\")\n",
    "summary(test_mod)\n",
    "\n",
    "#following this tutorial\n",
    "#https://stats.idre.ucla.edu/r/dae/poisson-regression/\n",
    "#the median is not quite 0, but close. if the median deviance is 0, then the deviance residuals are approximately normal and the model is specified correctly\n"
   ]
  },
  {
   "cell_type": "code",
   "execution_count": 149,
   "metadata": {},
   "outputs": [
    {
     "data": {
      "text/html": [
       "<table>\n",
       "<thead><tr><th scope=col>res.deviance</th><th scope=col>df</th><th scope=col>p</th></tr></thead>\n",
       "<tbody>\n",
       "\t<tr><td>294.389  </td><td>322      </td><td>0.8630909</td></tr>\n",
       "</tbody>\n",
       "</table>\n"
      ],
      "text/latex": [
       "\\begin{tabular}{lll}\n",
       " res.deviance & df & p\\\\\n",
       "\\hline\n",
       "\t 294.389   & 322       & 0.8630909\\\\\n",
       "\\end{tabular}\n"
      ],
      "text/markdown": [
       "\n",
       "| res.deviance | df | p |\n",
       "|---|---|---|\n",
       "| 294.389   | 322       | 0.8630909 |\n",
       "\n"
      ],
      "text/plain": [
       "     res.deviance df  p        \n",
       "[1,] 294.389      322 0.8630909"
      ]
     },
     "metadata": {},
     "output_type": "display_data"
    }
   ],
   "source": [
    "#this isn't significant, which means the residual difference is small enough here to say the model fits reasonably well\n",
    "with(test_mod, cbind(res.deviance = deviance, df = df.residual,\n",
    "  p = pchisq(deviance, df.residual, lower.tail=FALSE)))\n"
   ]
  },
  {
   "cell_type": "code",
   "execution_count": null,
   "metadata": {},
   "outputs": [],
   "source": [
    "#how much devience is explained here?"
   ]
  },
  {
   "cell_type": "code",
   "execution_count": 147,
   "metadata": {},
   "outputs": [
    {
     "data": {
      "image/png": "[encoded data removed]",
      "text/plain": [
       "plot without title"
      ]
     },
     "metadata": {},
     "output_type": "display_data"
    }
   ],
   "source": [
    "plot(obs_disp ~ ExpDisp, data=SimPlusGenWithDist)"
   ]
  },
  {
   "cell_type": "code",
   "execution_count": 148,
   "metadata": {
    "scrolled": false
   },
   "outputs": [
    {
     "data": {
      "image/png": "[encoded data removed]",
      "text/plain": [
       "Plot with title “”"
      ]
     },
     "metadata": {},
     "output_type": "display_data"
    },
    {
     "data": {
      "image/png": "[encoded data removed]",
      "text/plain": [
       "Plot with title “”"
      ]
     },
     "metadata": {},
     "output_type": "display_data"
    },
    {
     "name": "stderr",
     "output_type": "stream",
     "text": [
      "Warning message in sqrt(crit * p * (1 - hh)/hh):\n",
      "“NaNs produced”Warning message in sqrt(crit * p * (1 - hh)/hh):\n",
      "“NaNs produced”"
     ]
    },
    {
     "data": {
      "image/png": "[encoded data removed]",
      "text/plain": [
       "Plot with title “”"
      ]
     },
     "metadata": {},
     "output_type": "display_data"
    },
    {
     "data": {
      "image/png": "[encoded data removed]",
      "text/plain": [
       "Plot with title “”"
      ]
     },
     "metadata": {},
     "output_type": "display_data"
    }
   ],
   "source": [
    "plot(test_mod)"
   ]
  },
  {
   "cell_type": "code",
   "execution_count": null,
   "metadata": {},
   "outputs": [],
   "source": []
  },
  {
   "cell_type": "code",
   "execution_count": null,
   "metadata": {},
   "outputs": [],
   "source": []
  },
  {
   "cell_type": "code",
   "execution_count": null,
   "metadata": {},
   "outputs": [],
   "source": []
  },
  {
   "cell_type": "code",
   "execution_count": null,
   "metadata": {},
   "outputs": [],
   "source": []
  },
  {
   "cell_type": "code",
   "execution_count": null,
   "metadata": {},
   "outputs": [],
   "source": []
  },
  {
   "cell_type": "code",
   "execution_count": null,
   "metadata": {},
   "outputs": [],
   "source": []
  },
  {
   "cell_type": "code",
   "execution_count": null,
   "metadata": {},
   "outputs": [],
   "source": []
  },
  {
   "cell_type": "code",
   "execution_count": null,
   "metadata": {},
   "outputs": [],
   "source": []
  },
  {
   "cell_type": "code",
   "execution_count": null,
   "metadata": {},
   "outputs": [],
   "source": [
    "#monsoon season prep\n",
    "NEM_months <- c(11, 12, 1, 2, 3, 4)\n",
    "SWM_months <- c(5, 6, 7, 8, 9, 10)\n",
    "\n",
    "NEM <- conn_mat_full4 %>%\n",
    "    filter(month %in% NEM_months) %>%\n",
    "    group_by(source, destination) %>%\n",
    "    summarise(conn=max(fraction))\n",
    "\n",
    "SWM <- conn_mat_full4 %>%\n",
    "    filter(month %in% SWM_months) %>%\n",
    "    group_by(source, destination) %>%\n",
    "    summarise(conn=max(fraction))"
   ]
  }
 ],
 "metadata": {
  "kernelspec": {
   "display_name": "R",
   "language": "R",
   "name": "ir"
  },
  "language_info": {
   "codemirror_mode": "r",
   "file_extension": ".r",
   "mimetype": "text/x-r-source",
   "name": "R",
   "pygments_lexer": "r",
   "version": "3.6.1"
  }
 },
 "nbformat": 4,
 "nbformat_minor": 4
}
