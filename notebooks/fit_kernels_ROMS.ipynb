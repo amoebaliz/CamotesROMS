{
 "cells": [
  {
   "cell_type": "code",
   "execution_count": 1,
   "metadata": {},
   "outputs": [],
   "source": [
    "Packages <- c(\"dplyr\",\"lattice\", \"ggplot2\", \"bbmle\", \"ncdf4\",\"dplyr\",\"tidyr\", \"stringr\", \"tidyverse\", \"raster\", \"lubridate\", \"RColorBrewer\")\n",
    "\n",
    "invisible(suppressPackageStartupMessages(lapply(Packages, library, character.only = TRUE)))\n",
    "\n",
    "setwd('/local/home/katrinac/oceanography')\n",
    "\"%!in%\" <- function(x,table) match(x,table, nomatch = 0) == 0"
   ]
  },
  {
   "cell_type": "code",
   "execution_count": 2,
   "metadata": {},
   "outputs": [
    {
     "name": "stdout",
     "output_type": "stream",
     "text": [
      "[1] \"vobjtovarid4: **** WARNING **** I was asked to get a varid for dimension named sink BUT this dimension HAS NO DIMVAR! Code will probably fail at this point\"\n",
      "[1] \"vobjtovarid4: **** WARNING **** I was asked to get a varid for dimension named source BUT this dimension HAS NO DIMVAR! Code will probably fail at this point\"\n",
      "[1] \"vobjtovarid4: **** WARNING **** I was asked to get a varid for dimension named time BUT this dimension HAS NO DIMVAR! Code will probably fail at this point\"\n"
     ]
    }
   ],
   "source": [
    "#read in data and add site names\n",
    "conn_mat_all <- brick(\"~/oceanography/ROMS/data/Camotes_Sea_Connectivity_Matrices_08_day_PLD_integer.nc\", values=T) \n",
    "#read in the data for the number of grid cells per site (site ids are North- South, as in, Palanas is number 1)\n",
    "sites_n <- read.table(\"~/oceanography/ROMS/input//camotes_vertices_sites_results_water_only.txt\", sep=\" \", header=T, stringsAsFactors = F)\n",
    "#the order of sites in the connectivity matrix\n",
    "sites_order <- read.table(\"~/oceanography/ROMS/input/sites_order_as_in_roms.txt\", sep=\" \", header=T, stringsAsFactors = F)\n",
    "\n",
    "sites <- as.character(c(\"Palanas\", \"Wangag\", \"Magbangon\", \"Cabatoan\", \"Caridad Cemetery\", \"Caridad Proper\", \"Hicgop\", \"Hicgop South\", \"Sitio Tugas\", \"Elementary School\", \"Sitio Lonas\", \"San Agustin\", \"Poroc San Flower\", \"Poroc Rose\", \"Pangasugan\", \"Visca\", \"Gabas\", \"Tamakin Dacot\", \"Haina\", \"Sitio Baybayon\", \"SF1\", \"SF2\", \"SF3\", \"SF4\", \"SF5\", \"SF6\", \"CAI\", \"Other\"))\n",
    "site_ind <- c(seq(1,28, 1))\n",
    "site_id <- as.data.frame(cbind(sites, site_ind), stringsAsFactors = F)\n",
    "site_id$site_ind <- as.numeric(site_id$site_ind)\n"
   ]
  },
  {
   "cell_type": "code",
   "execution_count": null,
   "metadata": {},
   "outputs": [],
   "source": []
  },
  {
   "cell_type": "code",
   "execution_count": 3,
   "metadata": {},
   "outputs": [
    {
     "data": {
      "text/html": [
       "<ol class=list-inline>\n",
       "\t<li>930</li>\n",
       "\t<li>2</li>\n",
       "</ol>\n"
      ],
      "text/latex": [
       "\\begin{enumerate*}\n",
       "\\item 930\n",
       "\\item 2\n",
       "\\end{enumerate*}\n"
      ],
      "text/markdown": [
       "1. 930\n",
       "2. 2\n",
       "\n",
       "\n"
      ],
      "text/plain": [
       "[1] 930   2"
      ]
     },
     "metadata": {},
     "output_type": "display_data"
    }
   ],
   "source": [
    "#add in dates (seasons here are field seasons, not monsoon seasons)\n",
    "col <- \"date\"\n",
    "col2 <- \"index\"\n",
    "\n",
    "season1 <- as.data.frame(seq(as.Date(\"2010/10/01\"), as.Date(\"2011/05/31\"), by=\"days\"))\n",
    "names(season1) <- col\n",
    "\n",
    "season2 <- as.data.frame(seq(as.Date(\"2011/10/01\"), as.Date(\"2012/05/31\"), by=\"days\"))\n",
    "names(season2) <- col\n",
    "\n",
    "season3 <- as.data.frame(seq(as.Date(\"2012/10/01\"), as.Date(\"2013/05/31\"), by=\"days\"))\n",
    "names(season3) <- col\n",
    "\n",
    "season4 <- as.data.frame(seq(as.Date(\"2013/10/01\"), as.Date(\"2014/04/18\"), by=\"days\"))\n",
    "names(season4) <- col\n",
    "\n",
    "all_dates <- bind_rows(season1, season2, season3, season4)\n",
    "time_step <- as.data.frame(seq(1,930,1))\n",
    "names(time_step)<- col2\n",
    "all_dates2 <- bind_cols(time_step, all_dates)\n",
    "dim(all_dates2)\n"
   ]
  },
  {
   "cell_type": "code",
   "execution_count": 4,
   "metadata": {},
   "outputs": [],
   "source": [
    "#make each daily connectivity matrix into a df and then pull them all together into a list\n",
    "#conn_mat_list <- vector(\"list\", nrow(all_dates2))\n",
    "\n",
    "#date_df <- do.call(\"rbind\", replicate(784, date, simplify = FALSE))\n",
    "\n",
    "conn_mat_full <- as.data.frame(matrix(nrow=0, ncol=4))\n",
    "\n",
    "cols_conn_mat <- c(\"date\",\"sink\", \"source\", \"number\")\n",
    "cols_tmp <- c(\"sink\", \"source\", \"number\")\n",
    "\n",
    "names(conn_mat_full) <- cols_conn_mat\n",
    "\n",
    "for(i in 1:nrow(all_dates2)){\n",
    "    \n",
    "    index_eval <- all_dates2$index[i]\n",
    "    \n",
    "    tmp <- as.data.frame(conn_mat_all[[i]], xy=T)   #pull out a data frame for each date\n",
    "    names(tmp) <- cols_tmp\n",
    "    \n",
    "    date <- filter(all_dates2, index==index_eval)[2] #grab the date\n",
    "    date_df <- do.call(\"rbind\", replicate(784, date, simplify = FALSE)) #make a df of the date\n",
    "    tmp2 <- bind_cols(date_df, tmp)\n",
    "\n",
    " \n",
    "    conn_mat_full <- rbind(conn_mat_full, tmp2) \n",
    "}\n",
    "\n"
   ]
  },
  {
   "cell_type": "code",
   "execution_count": 5,
   "metadata": {},
   "outputs": [],
   "source": [
    "#connect site names\n",
    "conn_mat_full2 <- left_join(conn_mat_full, site_id, by=c(source=\"site_ind\")) %>%\n",
    "    dplyr::select(-source) %>%\n",
    "    rename(source=\"sites\")\n",
    "    \n",
    "conn_mat_full3 <- left_join(conn_mat_full2, site_id, by=c(sink=\"site_ind\")) %>%\n",
    "    dplyr::select(-sink) %>%\n",
    "    rename(destination=\"sites\")\n",
    "\n",
    "    "
   ]
  },
  {
   "cell_type": "code",
   "execution_count": 6,
   "metadata": {},
   "outputs": [
    {
     "data": {
      "text/html": [
       "27"
      ],
      "text/latex": [
       "27"
      ],
      "text/markdown": [
       "27"
      ],
      "text/plain": [
       "[1] 27"
      ]
     },
     "metadata": {},
     "output_type": "display_data"
    }
   ],
   "source": [
    "#make all versions of Hicgop \"Hicgop South\" to match empirical data\n",
    "conn_mat_full3 <- conn_mat_full3 %>%\n",
    "    mutate(source=ifelse(source==\"Hicgop\", \"Hicgop South\", source)) %>%\n",
    "    mutate(destination=ifelse(destination==\"Hicgop\", \"Hicgop South\", destination))\n",
    "    \n",
    "\n",
    "#trim out sand flats and other sites not represented in our sampling\n",
    "conn_mat_full4 <- conn_mat_full3 %>%\n",
    "    filter(source != \"SF1\" & source != \"SF2\" & source != \"SF3\"\n",
    "           & source != \"SF4\" & source != \"SF5\" & source != \"SF6\" & source != \"Pangasugan\"  & source != \"Other\"& source != \"CAI\") %>%\n",
    "    filter(destination != \"SF1\" & destination!= \"SF2\" & destination != \"SF3\"\n",
    "           & destination != \"SF4\" & destination!= \"SF5\" & destination != \"SF6\"  & \n",
    "           destination!= \"Pangasugan\" & destination != \"Other\" & destination != \"CAI\") %>%\n",
    "    mutate(month=month(ymd(date)))\n",
    "\n",
    "#note to self, I think I messed up sources/destinations in the orginal for loop!!!! so I'm grouping by source below, but that's because the true destination column is misnamed \"source\" in the code and I haven't figured it out yet\n",
    "#!!!!\n",
    "\n",
    "#for unassigned, you want to keep these sites\n",
    "ConnMatTotalRec <- conn_mat_full3 %>%     \n",
    "    filter(date %in% season2$date) %>%\n",
    "    group_by(destination) %>%\n",
    "    #dplyr::select(-date) %>%\n",
    "    mutate(SumParticlesRec= sum(number)) %>%\n",
    "    distinct(destination, .keep_all = T) %>%\n",
    "    dplyr::select(destination, SumParticlesRec)\n",
    "\n",
    "nrow(ConnMatTotalRec) #should be 28-1, the total number of sites simulated after accounting for the Hicgop Merge\n"
   ]
  },
  {
   "cell_type": "code",
   "execution_count": null,
   "metadata": {},
   "outputs": [],
   "source": []
  },
  {
   "cell_type": "code",
   "execution_count": 7,
   "metadata": {},
   "outputs": [],
   "source": [
    "#put in North-South order for kernel fitting\n",
    "SitesNS <- read.csv(\"~/parentage/text_file/sites_NS.txt\", stringsAsFactors = F) %>%\n",
    "    mutate(site=ifelse(site ==\"S. Magbangon\" , \"Magbangon\", site)) %>%\n",
    "    filter(site != \"N. Magbangon\") %>%\n",
    "    dplyr::select( -index)\n",
    "\n",
    "#SitesNS$index <- seq(1,18, 1) #might not need this....\n",
    "#SitesNS$destination <- SitesNS$source\n"
   ]
  },
  {
   "cell_type": "code",
   "execution_count": null,
   "metadata": {},
   "outputs": [],
   "source": [
    "which(SitesNS$site %!in% SimDisp2012$source)\n",
    "SitesNS[9,]"
   ]
  },
  {
   "cell_type": "code",
   "execution_count": 8,
   "metadata": {},
   "outputs": [],
   "source": [
    "#add together all of the particles for each season. At some point need to consider matching times that we sampled, from the fish meta-data\n",
    "\n",
    "SimDisp2012Int <- conn_mat_full4 %>%\n",
    "    filter(date %in% season2$date) %>%\n",
    "    dplyr::select(-date, -month) %>%\n",
    "    group_by(source, destination) %>%\n",
    "    mutate(SumParticles= sum(number)) %>%\n",
    "    distinct(source, destination, .keep_all = T) %>%\n",
    "    dplyr::select(-number)\n",
    "\n",
    "SimDisp2012Int2 <- left_join(SitesNS, SimDisp2012Int, by=c(site=\"source\")) %>%\n",
    "    rename(source=\"site\")\n",
    "SimDisp2012 <- left_join(SitesNS, SimDisp2012Int2, by=c(site=\"destination\")) %>%\n",
    "    rename(destination=\"site\")\n",
    "\n",
    "\n",
    "\n",
    "SimDisp2012RecSampInt <- ConnMatTotalRec %>%#the total recruits in the simulation for each destination site we empirically sampled\n",
    "    filter(destination %in% SimDisp2012$destination) #%>%\n",
    "    #mutate(source=\"unsampled\") #not really, just unsampled empirically. Use this to get the unassigned row?\n",
    "\n",
    "SimDisp2012RecSamp <- left_join(SimDisp2012, SimDisp2012RecSampInt, by=\"destination\") %>%\n",
    "    group_by(destination) %>%\n",
    "    mutate(TotalParticlesAssigned=sum(SumParticles)) %>%\n",
    "    distinct(destination, .keep_all = T) %>%\n",
    "    mutate(TotalUnassigned=SumParticlesRec-TotalParticlesAssigned) %>%\n",
    "    dplyr::select(-source, -SumParticles) \n"
   ]
  },
  {
   "cell_type": "code",
   "execution_count": 9,
   "metadata": {},
   "outputs": [
    {
     "data": {
      "text/html": [
       "<table>\n",
       "<thead><tr><th scope=col>destination</th><th scope=col>source</th><th scope=col>SumParticles</th></tr></thead>\n",
       "<tbody>\n",
       "\t<tr><td>Palanas         </td><td>Palanas         </td><td> 42             </td></tr>\n",
       "\t<tr><td>Palanas         </td><td>Wangag          </td><td>221             </td></tr>\n",
       "\t<tr><td>Palanas         </td><td>Magbangon       </td><td>177             </td></tr>\n",
       "\t<tr><td>Palanas         </td><td>Cabatoan        </td><td> 66             </td></tr>\n",
       "\t<tr><td>Palanas         </td><td>Caridad Cemetery</td><td> 57             </td></tr>\n",
       "\t<tr><td>Palanas         </td><td>Caridad Proper  </td><td> 35             </td></tr>\n",
       "</tbody>\n",
       "</table>\n"
      ],
      "text/latex": [
       "\\begin{tabular}{r|lll}\n",
       " destination & source & SumParticles\\\\\n",
       "\\hline\n",
       "\t Palanas          & Palanas          &  42             \\\\\n",
       "\t Palanas          & Wangag           & 221             \\\\\n",
       "\t Palanas          & Magbangon        & 177             \\\\\n",
       "\t Palanas          & Cabatoan         &  66             \\\\\n",
       "\t Palanas          & Caridad Cemetery &  57             \\\\\n",
       "\t Palanas          & Caridad Proper   &  35             \\\\\n",
       "\\end{tabular}\n"
      ],
      "text/markdown": [
       "\n",
       "| destination | source | SumParticles |\n",
       "|---|---|---|\n",
       "| Palanas          | Palanas          |  42              |\n",
       "| Palanas          | Wangag           | 221              |\n",
       "| Palanas          | Magbangon        | 177              |\n",
       "| Palanas          | Cabatoan         |  66              |\n",
       "| Palanas          | Caridad Cemetery |  57              |\n",
       "| Palanas          | Caridad Proper   |  35              |\n",
       "\n"
      ],
      "text/plain": [
       "  destination source           SumParticles\n",
       "1 Palanas     Palanas           42         \n",
       "2 Palanas     Wangag           221         \n",
       "3 Palanas     Magbangon        177         \n",
       "4 Palanas     Cabatoan          66         \n",
       "5 Palanas     Caridad Cemetery  57         \n",
       "6 Palanas     Caridad Proper    35         "
      ]
     },
     "metadata": {},
     "output_type": "display_data"
    },
    {
     "data": {
      "text/html": [
       "<table>\n",
       "<thead><tr><th scope=col>destination</th><th scope=col>SumParticlesRec</th><th scope=col>TotalParticlesAssigned</th><th scope=col>TotalUnassigned</th></tr></thead>\n",
       "<tbody>\n",
       "\t<tr><td>Palanas         </td><td> 9473           </td><td> 1435           </td><td> 8038           </td></tr>\n",
       "\t<tr><td>Wangag          </td><td>11311           </td><td> 2534           </td><td> 8777           </td></tr>\n",
       "\t<tr><td>Magbangon       </td><td>15881           </td><td> 4284           </td><td>11597           </td></tr>\n",
       "\t<tr><td>Cabatoan        </td><td>17178           </td><td> 4664           </td><td>12514           </td></tr>\n",
       "\t<tr><td>Caridad Cemetery</td><td>26509           </td><td> 9076           </td><td>17433           </td></tr>\n",
       "\t<tr><td>Caridad Proper  </td><td>33072           </td><td>13088           </td><td>19984           </td></tr>\n",
       "</tbody>\n",
       "</table>\n"
      ],
      "text/latex": [
       "\\begin{tabular}{r|llll}\n",
       " destination & SumParticlesRec & TotalParticlesAssigned & TotalUnassigned\\\\\n",
       "\\hline\n",
       "\t Palanas          &  9473            &  1435            &  8038           \\\\\n",
       "\t Wangag           & 11311            &  2534            &  8777           \\\\\n",
       "\t Magbangon        & 15881            &  4284            & 11597           \\\\\n",
       "\t Cabatoan         & 17178            &  4664            & 12514           \\\\\n",
       "\t Caridad Cemetery & 26509            &  9076            & 17433           \\\\\n",
       "\t Caridad Proper   & 33072            & 13088            & 19984           \\\\\n",
       "\\end{tabular}\n"
      ],
      "text/markdown": [
       "\n",
       "| destination | SumParticlesRec | TotalParticlesAssigned | TotalUnassigned |\n",
       "|---|---|---|---|\n",
       "| Palanas          |  9473            |  1435            |  8038            |\n",
       "| Wangag           | 11311            |  2534            |  8777            |\n",
       "| Magbangon        | 15881            |  4284            | 11597            |\n",
       "| Cabatoan         | 17178            |  4664            | 12514            |\n",
       "| Caridad Cemetery | 26509            |  9076            | 17433            |\n",
       "| Caridad Proper   | 33072            | 13088            | 19984            |\n",
       "\n"
      ],
      "text/plain": [
       "  destination      SumParticlesRec TotalParticlesAssigned TotalUnassigned\n",
       "1 Palanas           9473            1435                   8038          \n",
       "2 Wangag           11311            2534                   8777          \n",
       "3 Magbangon        15881            4284                  11597          \n",
       "4 Cabatoan         17178            4664                  12514          \n",
       "5 Caridad Cemetery 26509            9076                  17433          \n",
       "6 Caridad Proper   33072           13088                  19984          "
      ]
     },
     "metadata": {},
     "output_type": "display_data"
    }
   ],
   "source": [
    "head(SimDisp2012)\n",
    "head(SimDisp2012RecSamp)"
   ]
  },
  {
   "cell_type": "code",
   "execution_count": 11,
   "metadata": {},
   "outputs": [
    {
     "data": {
      "text/html": [
       "324"
      ],
      "text/latex": [
       "324"
      ],
      "text/markdown": [
       "324"
      ],
      "text/plain": [
       "[1] 324"
      ]
     },
     "metadata": {},
     "output_type": "display_data"
    },
    {
     "data": {
      "text/html": [
       "324"
      ],
      "text/latex": [
       "324"
      ],
      "text/markdown": [
       "324"
      ],
      "text/plain": [
       "[1] 324"
      ]
     },
     "metadata": {},
     "output_type": "display_data"
    },
    {
     "data": {
      "text/html": [
       "18"
      ],
      "text/latex": [
       "18"
      ],
      "text/markdown": [
       "18"
      ],
      "text/plain": [
       "[1] 18"
      ]
     },
     "metadata": {},
     "output_type": "display_data"
    }
   ],
   "source": [
    "#check that everything looks correct\n",
    "\n",
    "18*18 #this should be the rows\n",
    "nrow(SimDisp2012)\n",
    "nrow(SimDisp2012RecSamp)#should be 18 after the Hicgop merge"
   ]
  },
  {
   "cell_type": "code",
   "execution_count": null,
   "metadata": {},
   "outputs": [],
   "source": [
    "#sources are rows, columns are destinations, checked this? check again\n",
    "#also check if it matters that these are in alphabetical order\n",
    "SimDisp2012Mat <- SimDisp2012 %>%\n",
    "    group_by(destination, source) %>%\n",
    "    spread(destination, SumParticles)\n",
    "#\n",
    "rownames(SimDisp2012Mat) <- SimDisp2012Mat$source\n",
    "SimDisp2012Mat$source <- NULL"
   ]
  },
  {
   "cell_type": "code",
   "execution_count": 32,
   "metadata": {},
   "outputs": [],
   "source": [
    "#turn into parentage matrix\n",
    "\n",
    "#SimDisp2012Mat <- SimDisp2012 %>%\n",
    "#    ungroup() %>%\n",
    "#    spread(source, destination, SumParticles)\n",
    "    \n",
    "\n",
    "#make the rest of the kernel input files\n",
    "Adult_sample_proportions <- matrix(nrow=18, ncol=1, 1) #we sampled all sites completely because we are working with simulated data\n",
    "Sampled_reefs <- as.matrix(read.csv(\"~/parentage/kernel_fitting/1340_loci/input/site_index_all.csv\", header=FALSE))[,18] #sampled all reefs in the distance matrix/area/centroid files\n",
    "Distances <- as.matrix(read.csv(\"~/parentage/kernel_fitting/1340_loci/input/distance_matrix_unsurveyed.csv\", header=FALSE))[-2, -2]  #drop a magbangon row  \n",
    "Reef_sizes <- as.matrix(read.csv(\"~/parentage/kernel_fitting/894_loci/area_unsurveyed.c.csv\", header=FALSE))[]\n",
    "Centroids <- as.matrix(read.csv(\"~/parentage/kernel_fitting/894_loci/centroids_unsurveyed.csv\", header=T))\n",
    "\n"
   ]
  },
  {
   "cell_type": "code",
   "execution_count": 33,
   "metadata": {},
   "outputs": [
    {
     "data": {
      "text/html": [
       "35"
      ],
      "text/latex": [
       "35"
      ],
      "text/markdown": [
       "35"
      ],
      "text/plain": [
       "[1] 35"
      ]
     },
     "metadata": {},
     "output_type": "display_data"
    },
    {
     "data": {
      "text/html": [
       "<ol class=list-inline>\n",
       "\t<li>18</li>\n",
       "\t<li>18</li>\n",
       "</ol>\n"
      ],
      "text/latex": [
       "\\begin{enumerate*}\n",
       "\\item 18\n",
       "\\item 18\n",
       "\\end{enumerate*}\n"
      ],
      "text/markdown": [
       "1. 18\n",
       "2. 18\n",
       "\n",
       "\n"
      ],
      "text/plain": [
       "[1] 18 18"
      ]
     },
     "metadata": {},
     "output_type": "display_data"
    }
   ],
   "source": [
    "nrow(Reef_sizes)\n",
    "dim(SimDisp2012Mat)"
   ]
  },
  {
   "cell_type": "code",
   "execution_count": null,
   "metadata": {},
   "outputs": [],
   "source": [
    "#monsoon season prep\n",
    "NEM_months <- c(11, 12, 1, 2, 3, 4)\n",
    "SWM_months <- c(5, 6, 7, 8, 9, 10)\n",
    "\n",
    "NEM <- conn_mat_full4 %>%\n",
    "    filter(month %in% NEM_months) %>%\n",
    "    group_by(source, destination) %>%\n",
    "    summarise(conn=max(fraction))\n",
    "\n",
    "SWM <- conn_mat_full4 %>%\n",
    "    filter(month %in% SWM_months) %>%\n",
    "    group_by(source, destination) %>%\n",
    "    summarise(conn=max(fraction))"
   ]
  }
 ],
 "metadata": {
  "kernelspec": {
   "display_name": "R",
   "language": "R",
   "name": "ir"
  },
  "language_info": {
   "codemirror_mode": "r",
   "file_extension": ".r",
   "mimetype": "text/x-r-source",
   "name": "R",
   "pygments_lexer": "r",
   "version": "3.6.1"
  }
 },
 "nbformat": 4,
 "nbformat_minor": 4
}
