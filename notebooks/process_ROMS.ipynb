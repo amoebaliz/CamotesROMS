{
 "cells": [
  {
   "cell_type": "code",
   "execution_count": 13,
   "metadata": {},
   "outputs": [
    {
     "name": "stderr",
     "output_type": "stream",
     "text": [
      "Warning message:\n",
      "“package ‘R.utils’ was built under R version 3.6.3”Warning message:\n",
      "“package ‘R.oo’ was built under R version 3.6.3”Warning message:\n",
      "“package ‘R.methodsS3’ was built under R version 3.6.3”"
     ]
    }
   ],
   "source": [
    "Packages <- c(\"dplyr\",\"R.utils\", \"viridis\", \"splitstackshape\", \"data.table\",\"ggmap\", \"broom\",\"geosphere\",\"swfscMisc\", \"geosphere\", \"fields\",\"lattice\", \"ggplot2\", \"bbmle\", \"ncdf4\",\"tidyr\", \"stringr\", \"tidyverse\", \"raster\", \"lubridate\", \"RColorBrewer\")\n",
    "\n",
    "invisible(suppressPackageStartupMessages(lapply(Packages, library, character.only = TRUE)))\n",
    "\n",
    "setwd('/local/home/katrinac/oceanography')\n",
    "\"%!in%\" <- function(x,table) match(x,table, nomatch = 0) == 0\n",
    "source(\"~/parentage/kernel_fitting/1340_loci/functions/ll_kt_both_bbmle.R\")\n"
   ]
  },
  {
   "cell_type": "code",
   "execution_count": 3,
   "metadata": {},
   "outputs": [
    {
     "name": "stdout",
     "output_type": "stream",
     "text": [
      "[1] \"vobjtovarid4: **** WARNING **** I was asked to get a varid for dimension named sink BUT this dimension HAS NO DIMVAR! Code will probably fail at this point\"\n",
      "[1] \"vobjtovarid4: **** WARNING **** I was asked to get a varid for dimension named source BUT this dimension HAS NO DIMVAR! Code will probably fail at this point\"\n",
      "[1] \"vobjtovarid4: **** WARNING **** I was asked to get a varid for dimension named time BUT this dimension HAS NO DIMVAR! Code will probably fail at this point\"\n"
     ]
    }
   ],
   "source": [
    "#read in data and add site names\n",
    "conn_mat_all <- brick(\"~/oceanography/ROMS/data/Camotes_Sea_Connectivity_Matrices_08_day_PLD_integer.nc\", values=T) \n",
    "#read in the data for the number of grid cells per site (site ids are North- South, as in, Palanas is number 1)\n",
    "sites_n <- read.table(\"~/oceanography/ROMS/input//camotes_vertices_sites_results_water_only.txt\", sep=\" \", header=T, stringsAsFactors = F)\n",
    "#the order of sites in the connectivity matrix\n",
    "sites_order <- read.table(\"~/oceanography/ROMS/input/sites_order_as_in_roms.txt\", sep=\" \", header=T, stringsAsFactors = F)\n",
    "\n",
    "sites <- as.character(c(\"Palanas\", \"Wangag\", \"Magbangon\", \"Cabatoan\", \"Caridad Cemetery\", \"Caridad Proper\", \"Hicgop\", \"Hicgop South\", \"Sitio Tugas\", \"Elementary School\", \"Sitio Lonas\", \"San Agustin\", \"Poroc San Flower\", \"Poroc Rose\", \"Pangasugan\", \"Visca\", \"Gabas\", \"Tamakin Dacot\", \"Haina\", \"Sitio Baybayon\", \"SF1\", \"SF2\", \"SF3\", \"SF4\", \"SF5\", \"SF6\", \"CAI\", \"Other\"))\n",
    "site_ind <- c(seq(1,28, 1))\n",
    "site_id <- as.data.frame(cbind(sites, site_ind), stringsAsFactors = F)\n",
    "site_id$site_ind <- as.numeric(site_id$site_ind)\n"
   ]
  },
  {
   "cell_type": "code",
   "execution_count": 4,
   "metadata": {},
   "outputs": [
    {
     "data": {
      "text/html": [
       "<ol class=list-inline>\n",
       "\t<li>930</li>\n",
       "\t<li>2</li>\n",
       "</ol>\n"
      ],
      "text/latex": [
       "\\begin{enumerate*}\n",
       "\\item 930\n",
       "\\item 2\n",
       "\\end{enumerate*}\n"
      ],
      "text/markdown": [
       "1. 930\n",
       "2. 2\n",
       "\n",
       "\n"
      ],
      "text/plain": [
       "[1] 930   2"
      ]
     },
     "metadata": {},
     "output_type": "display_data"
    }
   ],
   "source": [
    "#add in dates (seasons here are field seasons, not monsoon seasons)\n",
    "col <- \"date\"\n",
    "col2 <- \"index\"\n",
    "\n",
    "season1 <- as.data.frame(seq(as.Date(\"2010/10/01\"), as.Date(\"2011/05/31\"), by=\"days\"))\n",
    "names(season1) <- col\n",
    "\n",
    "season2 <- as.data.frame(seq(as.Date(\"2011/10/01\"), as.Date(\"2012/05/31\"), by=\"days\"))\n",
    "names(season2) <- col\n",
    "\n",
    "season3 <- as.data.frame(seq(as.Date(\"2012/10/01\"), as.Date(\"2013/05/31\"), by=\"days\"))\n",
    "names(season3) <- col\n",
    "\n",
    "season4 <- as.data.frame(seq(as.Date(\"2013/10/01\"), as.Date(\"2014/04/18\"), by=\"days\"))\n",
    "names(season4) <- col\n",
    "\n",
    "all_dates <- bind_rows(season1, season2, season3, season4)\n",
    "time_step <- as.data.frame(seq(1,930,1))\n",
    "names(time_step)<- col2\n",
    "all_dates2 <- bind_cols(time_step, all_dates)\n",
    "dim(all_dates2)\n"
   ]
  },
  {
   "cell_type": "code",
   "execution_count": 5,
   "metadata": {},
   "outputs": [],
   "source": [
    "#make each daily connectivity matrix into a df and then pull them all together into a list\n",
    "#conn_mat_list <- vector(\"list\", nrow(all_dates2))\n",
    "\n",
    "#date_df <- do.call(\"rbind\", replicate(784, date, simplify = FALSE))\n",
    "\n",
    "conn_mat_full <- as.data.frame(matrix(nrow=0, ncol=4))\n",
    "\n",
    "cols_conn_mat <- c(\"date\",\"sink\", \"source\", \"number\")\n",
    "cols_tmp <- c(\"sink\", \"source\", \"number\")\n",
    "\n",
    "names(conn_mat_full) <- cols_conn_mat\n",
    "\n",
    "for(i in 1:nrow(all_dates2)){\n",
    "    \n",
    "    index_eval <- all_dates2$index[i]\n",
    "    \n",
    "    tmp <- as.data.frame(conn_mat_all[[i]], xy=T)   #pull out a data frame for each date\n",
    "    names(tmp) <- cols_tmp\n",
    "    \n",
    "    date <- filter(all_dates2, index==index_eval)[2] #grab the date\n",
    "    date_df <- do.call(\"rbind\", replicate(784, date, simplify = FALSE)) #make a df of the date\n",
    "    tmp2 <- bind_cols(date_df, tmp)\n",
    "\n",
    " \n",
    "    conn_mat_full <- rbind(conn_mat_full, tmp2) \n",
    "}\n",
    "\n"
   ]
  },
  {
   "cell_type": "code",
   "execution_count": 6,
   "metadata": {},
   "outputs": [],
   "source": [
    "#connect site names\n",
    "conn_mat_full2 <- left_join(conn_mat_full, site_id, by=c(source=\"site_ind\")) %>%\n",
    "    dplyr::select(-source) %>%\n",
    "    rename(source=\"sites\")\n",
    "    \n",
    "conn_mat_full3 <- left_join(conn_mat_full2, site_id, by=c(sink=\"site_ind\")) %>%\n",
    "    dplyr::select(-sink) %>%\n",
    "    rename(destination=\"sites\")\n",
    "\n",
    "    "
   ]
  },
  {
   "cell_type": "code",
   "execution_count": 7,
   "metadata": {},
   "outputs": [],
   "source": [
    "#make all versions of Hicgop \"Hicgop South\" to match empirical data\n",
    "conn_mat_full3 <- conn_mat_full3 %>%\n",
    "    mutate(source=ifelse(source==\"Hicgop\", \"Hicgop South\", source)) %>%\n",
    "    mutate(destination=ifelse(destination==\"Hicgop\", \"Hicgop South\", destination))\n",
    "\n",
    "#mark which sources/destinations were sampled in real life\n",
    "UnsampledSites <- c(\"SF1\", \"SF2\", \"SF3\", \"SF4\", \"SF5\", \"SF6\", \"Pangasugan\", \"Other\") #although we didn't sample the Camotes Islands, I'm going to leave it in the simulation results for now to use it in the GLM of ROMS model. It will be remove in filtering to produce the df that will be used for comparisons to genetic observations\n",
    "#mark the monsoon seasons in which they dispersed, based on the same criteria I used for the parentage indirectly through the growth estimates\n",
    "NEM <- c(11, 12, 1, 2, 3, 4, 5, 6)\n",
    "SWM <- c(7, 8, 9, 10)\n",
    "\n",
    "#add a column showing which sources and destinations were empirically sampled, and corresponding date/year/season data\n",
    "conn_mat_full4 <- conn_mat_full3 %>%\n",
    "    mutate(SourceSampled= ifelse(source %!in% UnsampledSites, \"yes\", \"no\")) %>%\n",
    "    mutate(DestSampled= ifelse(destination %!in% UnsampledSites, \"yes\", \"no\")) %>%\n",
    "    mutate(SimMonth=month(ymd(date))) %>%\n",
    "    mutate(SimDay=month(ymd(date))) %>%\n",
    "    mutate(SimYear=year(ymd(date))) %>%\n",
    "    mutate(YearSampled=ifelse(date %in% season1$date, \"2011\", ifelse(date %in% season2$date, \"2012\", ifelse(date %in% season3$date, \"2013\", \"2014\")))) %>%\n",
    "    mutate(YearSampled=as.factor(YearSampled)) %>%\n",
    "    mutate(SimMonsoon=ifelse(SimMonth %in% NEM, \"NEM\", \"SWM\")) %>%\n",
    "    rename(DailyParticles=\"number\") %>%\n",
    "    relocate(DailyParticles,.after=SimMonsoon)\n",
    "    \n",
    "#note to self, I think I messed up sources/destinations in the orginal for loop!!!! so I'm grouping by source below, but that's because the true destination column is misnamed \"source\" in the code and I haven't figured it out yet\n",
    "#!!!!\n",
    " "
   ]
  },
  {
   "cell_type": "code",
   "execution_count": 8,
   "metadata": {},
   "outputs": [
    {
     "data": {
      "text/html": [
       "<table>\n",
       "<thead><tr><th scope=col>date</th><th scope=col>source</th><th scope=col>destination</th><th scope=col>SourceSampled</th><th scope=col>DestSampled</th><th scope=col>SimMonth</th><th scope=col>SimDay</th><th scope=col>SimYear</th><th scope=col>YearSampled</th><th scope=col>SimMonsoon</th><th scope=col>DailyParticles</th></tr></thead>\n",
       "<tbody>\n",
       "\t<tr><td>2010-10-01      </td><td>Other           </td><td>Palanas         </td><td>no              </td><td>yes             </td><td>10              </td><td>10              </td><td>2010            </td><td>2011            </td><td>SWM             </td><td> 9              </td></tr>\n",
       "\t<tr><td>2010-10-01      </td><td>Other           </td><td>Wangag          </td><td>no              </td><td>yes             </td><td>10              </td><td>10              </td><td>2010            </td><td>2011            </td><td>SWM             </td><td> 4              </td></tr>\n",
       "\t<tr><td>2010-10-01      </td><td>Other           </td><td>Magbangon       </td><td>no              </td><td>yes             </td><td>10              </td><td>10              </td><td>2010            </td><td>2011            </td><td>SWM             </td><td>11              </td></tr>\n",
       "\t<tr><td>2010-10-01      </td><td>Other           </td><td>Cabatoan        </td><td>no              </td><td>yes             </td><td>10              </td><td>10              </td><td>2010            </td><td>2011            </td><td>SWM             </td><td>12              </td></tr>\n",
       "\t<tr><td>2010-10-01      </td><td>Other           </td><td>Caridad Cemetery</td><td>no              </td><td>yes             </td><td>10              </td><td>10              </td><td>2010            </td><td>2011            </td><td>SWM             </td><td> 0              </td></tr>\n",
       "\t<tr><td>2010-10-01      </td><td>Other           </td><td>Caridad Proper  </td><td>no              </td><td>yes             </td><td>10              </td><td>10              </td><td>2010            </td><td>2011            </td><td>SWM             </td><td> 1              </td></tr>\n",
       "</tbody>\n",
       "</table>\n"
      ],
      "text/latex": [
       "\\begin{tabular}{r|lllllllllll}\n",
       " date & source & destination & SourceSampled & DestSampled & SimMonth & SimDay & SimYear & YearSampled & SimMonsoon & DailyParticles\\\\\n",
       "\\hline\n",
       "\t 2010-10-01       & Other            & Palanas          & no               & yes              & 10               & 10               & 2010             & 2011             & SWM              &  9              \\\\\n",
       "\t 2010-10-01       & Other            & Wangag           & no               & yes              & 10               & 10               & 2010             & 2011             & SWM              &  4              \\\\\n",
       "\t 2010-10-01       & Other            & Magbangon        & no               & yes              & 10               & 10               & 2010             & 2011             & SWM              & 11              \\\\\n",
       "\t 2010-10-01       & Other            & Cabatoan         & no               & yes              & 10               & 10               & 2010             & 2011             & SWM              & 12              \\\\\n",
       "\t 2010-10-01       & Other            & Caridad Cemetery & no               & yes              & 10               & 10               & 2010             & 2011             & SWM              &  0              \\\\\n",
       "\t 2010-10-01       & Other            & Caridad Proper   & no               & yes              & 10               & 10               & 2010             & 2011             & SWM              &  1              \\\\\n",
       "\\end{tabular}\n"
      ],
      "text/markdown": [
       "\n",
       "| date | source | destination | SourceSampled | DestSampled | SimMonth | SimDay | SimYear | YearSampled | SimMonsoon | DailyParticles |\n",
       "|---|---|---|---|---|---|---|---|---|---|---|\n",
       "| 2010-10-01       | Other            | Palanas          | no               | yes              | 10               | 10               | 2010             | 2011             | SWM              |  9               |\n",
       "| 2010-10-01       | Other            | Wangag           | no               | yes              | 10               | 10               | 2010             | 2011             | SWM              |  4               |\n",
       "| 2010-10-01       | Other            | Magbangon        | no               | yes              | 10               | 10               | 2010             | 2011             | SWM              | 11               |\n",
       "| 2010-10-01       | Other            | Cabatoan         | no               | yes              | 10               | 10               | 2010             | 2011             | SWM              | 12               |\n",
       "| 2010-10-01       | Other            | Caridad Cemetery | no               | yes              | 10               | 10               | 2010             | 2011             | SWM              |  0               |\n",
       "| 2010-10-01       | Other            | Caridad Proper   | no               | yes              | 10               | 10               | 2010             | 2011             | SWM              |  1               |\n",
       "\n"
      ],
      "text/plain": [
       "  date       source destination      SourceSampled DestSampled SimMonth SimDay\n",
       "1 2010-10-01 Other  Palanas          no            yes         10       10    \n",
       "2 2010-10-01 Other  Wangag           no            yes         10       10    \n",
       "3 2010-10-01 Other  Magbangon        no            yes         10       10    \n",
       "4 2010-10-01 Other  Cabatoan         no            yes         10       10    \n",
       "5 2010-10-01 Other  Caridad Cemetery no            yes         10       10    \n",
       "6 2010-10-01 Other  Caridad Proper   no            yes         10       10    \n",
       "  SimYear YearSampled SimMonsoon DailyParticles\n",
       "1 2010    2011        SWM         9            \n",
       "2 2010    2011        SWM         4            \n",
       "3 2010    2011        SWM        11            \n",
       "4 2010    2011        SWM        12            \n",
       "5 2010    2011        SWM         0            \n",
       "6 2010    2011        SWM         1            "
      ]
     },
     "metadata": {},
     "output_type": "display_data"
    }
   ],
   "source": [
    "head(conn_mat_full4)"
   ]
  },
  {
   "cell_type": "code",
   "execution_count": 15,
   "metadata": {},
   "outputs": [
    {
     "ename": "ERROR",
     "evalue": "Error in fwrite(conn_mat_full4, file = \"~/oceanography/script_output/ROMSDataTables/SimConnectivityTable.gz\", : unused argument (compression = \"gzip\")\n",
     "output_type": "error",
     "traceback": [
      "Error in fwrite(conn_mat_full4, file = \"~/oceanography/script_output/ROMSDataTables/SimConnectivityTable.gz\", : unused argument (compression = \"gzip\")\nTraceback:\n"
     ]
    }
   ],
   "source": [
    "fwrite(conn_mat_full4, file=\"~/oceanography/script_output/ROMSDataTables/SimConnectivityTable.csv\")\n",
    "#fwrite(conn_mat_full4, file=\"~/oceanography/script_output/ROMSDataTables/SimConnectivityTable.gz\")#this doesn't actually compress dangit.\n"
   ]
  },
  {
   "cell_type": "markdown",
   "metadata": {},
   "source": [
    "__Skip above and read the tidied data frame below__"
   ]
  },
  {
   "cell_type": "code",
   "execution_count": 57,
   "metadata": {},
   "outputs": [],
   "source": [
    "#head(conn_mat_full4)\n",
    "SimConnDF <- read.csv(file=\"~/oceanography/script_output/ROMSDataTables/SimulationSummaryTables/SimConnectivityTable.csv\", header=T) %>%\n",
    "    mutate(YearSampled=as.character(YearSampled))\n",
    "UnsampledSites <- c(\"SF1\", \"SF2\", \"SF3\", \"SF4\", \"SF5\", \"SF6\", \"Pangasugan\", \"Other\") #although we didn't sample the Camotes Islands, I'm going to leave it in the simulation results for now to use it in the GLM of ROMS model. It will be remove in filtering to produce the df that will be used for comparisons to genetic observations\n",
    "SandFlats <- c(\"SF1\", \"SF2\", \"SF3\", \"SF4\", \"SF5\", \"SF6\") #although we didn't sample the Camotes Islands, I'm going to leave it in the simulation results for now to use it in the GLM of ROMS model. It will be remove in filtering to produce the df that will be used for comparisons to genetic observations\n",
    "\n",
    "#add in the numbers of particles seeded at each site\n",
    "SeededParticles <- read.csv(\"~/oceanography/ROMS/data/Particles_Per_Release_Site_Renamed.csv\", header=F)\n",
    "col <- c(\"site\", \"ParticlesReleasedDaily\")\n",
    "colnames(SeededParticles) <- col\n",
    "SimConnDF <- left_join(SimConnDF, SeededParticles, by=c(source=\"site\")) #%>% \n",
    "    #filter(source != c(\"SF1\", \"SF2\", \"SF3\", \"SF4\", \"SF5\", \"SF6\"))#sand flat sites shouldn't be releasing particles, they should only be destinations. Remove rows where they are sources"
   ]
  },
  {
   "cell_type": "code",
   "execution_count": 41,
   "metadata": {},
   "outputs": [
    {
     "data": {
      "text/html": [
       "<table>\n",
       "<thead><tr><th scope=col>date</th><th scope=col>source</th><th scope=col>destination</th><th scope=col>SourceSampled</th><th scope=col>DestSampled</th><th scope=col>SimMonth</th><th scope=col>SimDay</th><th scope=col>SimYear</th><th scope=col>YearSampled</th><th scope=col>SimMonsoon</th><th scope=col>DailyParticles</th><th scope=col>ParticlesReleasedDaily</th></tr></thead>\n",
       "<tbody>\n",
       "\t<tr><td>2010-10-01      </td><td>Other           </td><td>Palanas         </td><td>no              </td><td>yes             </td><td>10              </td><td>10              </td><td>2010            </td><td>2011            </td><td>SWM             </td><td> 9              </td><td>4497728         </td></tr>\n",
       "\t<tr><td>2010-10-01      </td><td>Other           </td><td>Wangag          </td><td>no              </td><td>yes             </td><td>10              </td><td>10              </td><td>2010            </td><td>2011            </td><td>SWM             </td><td> 4              </td><td>4497728         </td></tr>\n",
       "\t<tr><td>2010-10-01      </td><td>Other           </td><td>Magbangon       </td><td>no              </td><td>yes             </td><td>10              </td><td>10              </td><td>2010            </td><td>2011            </td><td>SWM             </td><td>11              </td><td>4497728         </td></tr>\n",
       "\t<tr><td>2010-10-01      </td><td>Other           </td><td>Cabatoan        </td><td>no              </td><td>yes             </td><td>10              </td><td>10              </td><td>2010            </td><td>2011            </td><td>SWM             </td><td>12              </td><td>4497728         </td></tr>\n",
       "\t<tr><td>2010-10-01      </td><td>Other           </td><td>Caridad Cemetery</td><td>no              </td><td>yes             </td><td>10              </td><td>10              </td><td>2010            </td><td>2011            </td><td>SWM             </td><td> 0              </td><td>4497728         </td></tr>\n",
       "\t<tr><td>2010-10-01      </td><td>Other           </td><td>Caridad Proper  </td><td>no              </td><td>yes             </td><td>10              </td><td>10              </td><td>2010            </td><td>2011            </td><td>SWM             </td><td> 1              </td><td>4497728         </td></tr>\n",
       "</tbody>\n",
       "</table>\n"
      ],
      "text/latex": [
       "\\begin{tabular}{r|llllllllllll}\n",
       " date & source & destination & SourceSampled & DestSampled & SimMonth & SimDay & SimYear & YearSampled & SimMonsoon & DailyParticles & ParticlesReleasedDaily\\\\\n",
       "\\hline\n",
       "\t 2010-10-01       & Other            & Palanas          & no               & yes              & 10               & 10               & 2010             & 2011             & SWM              &  9               & 4497728         \\\\\n",
       "\t 2010-10-01       & Other            & Wangag           & no               & yes              & 10               & 10               & 2010             & 2011             & SWM              &  4               & 4497728         \\\\\n",
       "\t 2010-10-01       & Other            & Magbangon        & no               & yes              & 10               & 10               & 2010             & 2011             & SWM              & 11               & 4497728         \\\\\n",
       "\t 2010-10-01       & Other            & Cabatoan         & no               & yes              & 10               & 10               & 2010             & 2011             & SWM              & 12               & 4497728         \\\\\n",
       "\t 2010-10-01       & Other            & Caridad Cemetery & no               & yes              & 10               & 10               & 2010             & 2011             & SWM              &  0               & 4497728         \\\\\n",
       "\t 2010-10-01       & Other            & Caridad Proper   & no               & yes              & 10               & 10               & 2010             & 2011             & SWM              &  1               & 4497728         \\\\\n",
       "\\end{tabular}\n"
      ],
      "text/markdown": [
       "\n",
       "| date | source | destination | SourceSampled | DestSampled | SimMonth | SimDay | SimYear | YearSampled | SimMonsoon | DailyParticles | ParticlesReleasedDaily |\n",
       "|---|---|---|---|---|---|---|---|---|---|---|---|\n",
       "| 2010-10-01       | Other            | Palanas          | no               | yes              | 10               | 10               | 2010             | 2011             | SWM              |  9               | 4497728          |\n",
       "| 2010-10-01       | Other            | Wangag           | no               | yes              | 10               | 10               | 2010             | 2011             | SWM              |  4               | 4497728          |\n",
       "| 2010-10-01       | Other            | Magbangon        | no               | yes              | 10               | 10               | 2010             | 2011             | SWM              | 11               | 4497728          |\n",
       "| 2010-10-01       | Other            | Cabatoan         | no               | yes              | 10               | 10               | 2010             | 2011             | SWM              | 12               | 4497728          |\n",
       "| 2010-10-01       | Other            | Caridad Cemetery | no               | yes              | 10               | 10               | 2010             | 2011             | SWM              |  0               | 4497728          |\n",
       "| 2010-10-01       | Other            | Caridad Proper   | no               | yes              | 10               | 10               | 2010             | 2011             | SWM              |  1               | 4497728          |\n",
       "\n"
      ],
      "text/plain": [
       "  date       source destination      SourceSampled DestSampled SimMonth SimDay\n",
       "1 2010-10-01 Other  Palanas          no            yes         10       10    \n",
       "2 2010-10-01 Other  Wangag           no            yes         10       10    \n",
       "3 2010-10-01 Other  Magbangon        no            yes         10       10    \n",
       "4 2010-10-01 Other  Cabatoan         no            yes         10       10    \n",
       "5 2010-10-01 Other  Caridad Cemetery no            yes         10       10    \n",
       "6 2010-10-01 Other  Caridad Proper   no            yes         10       10    \n",
       "  SimYear YearSampled SimMonsoon DailyParticles ParticlesReleasedDaily\n",
       "1 2010    2011        SWM         9             4497728               \n",
       "2 2010    2011        SWM         4             4497728               \n",
       "3 2010    2011        SWM        11             4497728               \n",
       "4 2010    2011        SWM        12             4497728               \n",
       "5 2010    2011        SWM         0             4497728               \n",
       "6 2010    2011        SWM         1             4497728               "
      ]
     },
     "metadata": {},
     "output_type": "display_data"
    }
   ],
   "source": [
    "head(SimConnDF)"
   ]
  },
  {
   "cell_type": "code",
   "execution_count": 27,
   "metadata": {},
   "outputs": [],
   "source": [
    "#don't really know if I want to do what's in this cell...\n",
    "##add together all of the particles for each season. At some point need to consider matching times that we sampled, from the fish meta-data?\n",
    "##replace XN with years\n",
    "#SimConnDF <- SimConnDF %>%\n",
    "#    group_by(destination, YearSampled) %>%\n",
    "#    mutate(AnnTotalRec=sum(DailyParticles)) %>% #Annual here means the year that would be considered one year in the genetic analysis\n",
    "#    mutate(AnnTotalRecFromSampSites=ifelse(DestSampled==\"yes\" & SourceSampled==\"yes\",sum(DailyParticles), 0)) #this comes up at NA otherwise...maybe that's important for the GLM though. Expect the unsampled sites won't be used for the GLM. think more about this.\n",
    "#\n",
    "#"
   ]
  },
  {
   "cell_type": "code",
   "execution_count": 106,
   "metadata": {},
   "outputs": [
    {
     "data": {
      "image/png": "[encoded data removed]",
      "text/plain": [
       "plot without title"
      ]
     },
     "metadata": {},
     "output_type": "display_data"
    }
   ],
   "source": [
    "#check that everything looks correct\n",
    "test <- SimConnDF %>% filter(DailyParticles >1 & \n",
    "                             SourceSampled==\"yes\" & DestSampled==\"yes\")\n",
    "#pdf(\"~/oceanography/figures/HistNumParticlesRecruiting.pdf\")\n",
    "hist(test$DailyParticles, breaks=100, xlab=\"Number of particles recruiting daily\", main=NULL)\n",
    "#dev.off()\n"
   ]
  },
  {
   "cell_type": "code",
   "execution_count": 42,
   "metadata": {},
   "outputs": [
    {
     "name": "stderr",
     "output_type": "stream",
     "text": [
      "`summarise()` ungrouping output (override with `.groups` argument)\n",
      "`summarise()` ungrouping output (override with `.groups` argument)\n",
      "`summarise()` ungrouping output (override with `.groups` argument)\n"
     ]
    },
    {
     "data": {
      "text/html": [
       "625"
      ],
      "text/latex": [
       "625"
      ],
      "text/markdown": [
       "625"
      ],
      "text/plain": [
       "[1] 625"
      ]
     },
     "metadata": {},
     "output_type": "display_data"
    }
   ],
   "source": [
    "##put in North-South order for kernel fitting, also used for GLM connectivity data frame?\n",
    "SitesNS <- read.csv(\"~/parentage/text_file/sites_NS.txt\", stringsAsFactors = F) %>%\n",
    "    mutate(site=ifelse(site ==\"S. Magbangon\" , \"Magbangon\", site)) %>%\n",
    "    filter(site != \"N. Magbangon\") \n",
    "\n",
    "###add site size - is this worth adding? It would be a random effect, I already know that it affects the number of particles...\n",
    "##Reef_sizes <- read.csv(\"~/parentage/kernel_fitting/894_loci/area_unsurveyed.\", header=FALSE)\n",
    "\n",
    "#add the distances between sites, calculated from the site centroids\n",
    "centroidsSamp <- read.csv(\"~/parentage/kernel_fitting/1340_loci/input/site_centroids.csv\", header=TRUE, stringsAsFactors = F) %>%\n",
    "    mutate(site=ifelse(site ==\"S.Magbangon\" , \"Magbangon\", site)) %>%\n",
    "    filter(site != \"N.Magbangon\") %>%\n",
    "    filter(site %in% SitesNS$site)\n",
    "\n",
    "#I want to average the Camotes Islands values and add those in. That way I can use that distance in the GLM of the simulated ROMS as response variable. this can be subsetted out for the observed data by using the \"source/dests sampled\" columns\n",
    "#pull out the camotes centroids for a df with just them, to average lat/lon points with (centroids)\n",
    "CAI <- c(\"camotes_central1\", \"camotes_central2\", \"camotes_east1\", \"camotes_east2\", \"camotes_west1\", \"camotes_west2\")\n",
    "\n",
    "centroidsSim <- read.csv(\"~/parentage/kernel_fitting/1340_loci/input/site_centroids.csv\", header=TRUE, stringsAsFactors =F)\n",
    "CamotesAvg <- centroidsSim %>%\n",
    "    filter(site %in% CAI) %>%\n",
    "    mutate(lon=mean(lon)) %>% #take the average lon\n",
    "    mutate(lat=mean(lat)) %>% #take the average lat\n",
    "    slice_head()\n",
    "\n",
    "CamotesAvg$site <- \"CAI\"#make a one row DF for this value that can be added to centroids so it's distances are calculated\n",
    "\n",
    "#add to tidy distance\n",
    "centroids <- bind_rows(centroidsSamp, CamotesAvg) \n",
    "\n",
    "#add in the sand flats to the centroids, using the average location in the ROMS vertices\n",
    "SandFlats <- c(\"Sand_Flat1\", \"Sand_Flat2\", \"Sand_Flat3\", \"Sand_Flat4\", \"Sand_Flat5\", \"Sand_Flat6\")\n",
    "SFROMSVerts <-read.table(\"~/oceanography/ROMS//input/camotes_vertices_sites_results_water_only.txt\", sep=\" \", header=T) %>%\n",
    "    group_by(site) %>%\n",
    "    summarise(AvgOneLon=mean(one_lon), AvgTwoLon=mean(two_lon), AvgThreeLon=mean(three_lon), AvgFourLon=mean(four_lon),\n",
    "             AvgOneLat=mean(one_lat), AvgTwoLat=mean(two_lat), AvgThreeLat=mean(three_lat), AvgFourLat=mean(three_lat)) %>%\n",
    "    gather(LonVertice, LonValue, 2:5) %>% # make all of the longitudes a key value combination\n",
    "    gather(LatVertice, LatValue, 2:5) %>%# make all of the latitudes a key value combination\n",
    "    filter(site %in% SandFlats)#retain only the sand flat locations\n",
    "\n",
    "#average the sand flat vertices\n",
    "\n",
    "SFAvg <- left_join(SFROMSVerts %>% \n",
    "                         group_by(site) %>%\n",
    "                        summarise(AvgLon=mean(LonValue)),\n",
    "                        SFROMSVerts %>% \n",
    "                         group_by(site) %>%\n",
    "                        summarise(AvgLat=mean(LatValue)), by=\"site\") %>%\n",
    "                        mutate(site=str_replace(site, \"Sand_Flat\", \"SF\")) %>% #replace Sand_Flat with SF to match later code\n",
    "                        rename(lat=\"AvgLat\", lon=\"AvgLon\") #rename columns to match centroids\n",
    "#add into centroids\n",
    "centroids <- bind_rows(centroids, SFAvg) \n",
    "\n",
    "\n",
    "all_possible_dists <- as.data.frame(rdist.earth(as.matrix(centroids[,c('lon', 'lat')]), as.matrix(centroids[,c('lon', 'lat')]), miles=FALSE, R=6371))\n",
    "\n",
    "##attach the sample_ids to each distance, so you can also get site and year\n",
    "colnames(all_possible_dists) <- centroids$site\n",
    "all_possible_dists$site_i <- centroids$site\n",
    "\n",
    "##gather into tidy df\n",
    "all_possible_dists_tidy <- all_possible_dists %>%\n",
    "    dplyr::select(site_i, everything()) %>%\n",
    "    gather(2:26, key=site_j, value=dist_km) \n",
    "nrow(all_possible_dists_tidy)\n",
    "\n",
    "\n",
    "SimConnDFDist <- left_join(SimConnDF, all_possible_dists_tidy, by=c(source=\"site_i\", destination=\"site_j\"))\n",
    "\n",
    "#write out the combined centroids file and distances file, these will be used in kernel fitting for simulation\n",
    "#write.csv(centroids, file=\"~/oceanography/script_output/SurveyData/SimulationCentroids.csv\", row.names=F)\n",
    "#write.csv(all_possible_dists_tidy, file=\"~/oceanography/script_output/SurveyData/SimulationAllDistances.csv\", row.names=F)\n",
    "\n"
   ]
  },
  {
   "cell_type": "code",
   "execution_count": 4,
   "metadata": {},
   "outputs": [
    {
     "data": {
      "image/png": "[encoded data removed]",
      "text/plain": [
       "Plot with title “Possible distances”"
      ]
     },
     "metadata": {},
     "output_type": "display_data"
    }
   ],
   "source": [
    "#png(\"~/oceanography/figures/HistPossibleDistances.png\")\n",
    "hist(all_possible_dists_tidy$dist_km, breaks=70, main=\"Possible distances\", ylab=\"Distance (km)\", col=\"gray\")\n",
    "#dev.off()"
   ]
  },
  {
   "cell_type": "code",
   "execution_count": 43,
   "metadata": {},
   "outputs": [
    {
     "data": {
      "text/html": [
       "625"
      ],
      "text/latex": [
       "625"
      ],
      "text/markdown": [
       "625"
      ],
      "text/plain": [
       "[1] 625"
      ]
     },
     "metadata": {},
     "output_type": "display_data"
    },
    {
     "data": {
      "text/html": [
       "25"
      ],
      "text/latex": [
       "25"
      ],
      "text/markdown": [
       "25"
      ],
      "text/plain": [
       "[1] 25"
      ]
     },
     "metadata": {},
     "output_type": "display_data"
    },
    {
     "data": {
      "text/html": [
       "625"
      ],
      "text/latex": [
       "625"
      ],
      "text/markdown": [
       "625"
      ],
      "text/plain": [
       "[1] 625"
      ]
     },
     "metadata": {},
     "output_type": "display_data"
    }
   ],
   "source": [
    "\n",
    "\n",
    "#add a continuous value for direction in the form of a bearing\n",
    "#col <- c(\"site_i\", \"site_j\", \"bearing\")\n",
    "AllBearings <- matrix(nrow=0, ncol=3)\n",
    "#colnames(AllBearings) <- col\n",
    "\n",
    "for(i in 1:nrow(centroids)) {\n",
    "    \n",
    "    site_i <- centroids[i,] #take the site name\n",
    "    site_i_coords <- as.matrix(site_i[,2:3]) #get the lon/lat\n",
    "\n",
    "    #now compare this site to all other sites for bearing\n",
    "    \n",
    "    bearings <- matrix(nrow=nrow(centroids), ncol=3)\n",
    "\n",
    "    for(j in 1:nrow(centroids)){\n",
    "        \n",
    "\n",
    "\n",
    "        site_j <- centroids[j,]\n",
    "        site_j_coords <- as.matrix(site_j[,2:3]) #get the lon/lat\n",
    "\n",
    "        bearing <- geosphere::bearing(site_i_coords, site_j_coords)\n",
    "        bearings[j,1] <- site_i[1,1] #add to data frame\n",
    "        bearings[j,2] <- site_j[1,1]\n",
    "        bearings[j,3] <- as.character(bearing)\n",
    "\n",
    "    }\n",
    "    AllBearings <- rbind(AllBearings, bearings)\n",
    "\n",
    "}\n",
    "nrow(AllBearings)#should be 625\n",
    "nrow(centroids)\n",
    "25*25\n",
    "\n",
    "col <- c(\"site_i\", \"site_j\", \"bearing\")\n",
    "AllBearings <- as.data.frame(AllBearings)\n",
    "colnames(AllBearings) <- col\n",
    "\n",
    "AllBearings <- AllBearings %>%\n",
    "        mutate(site_i=as.character(site_i)) %>%\n",
    "        mutate(site_j=as.character(site_j)) %>%\n",
    "        mutate(bearing=as.numeric(as.character(bearing))) %>%\n",
    "        #mutate(bearing=ifelse(bearing==-180, -1, bearing)) %>% #for self-recruitment routes\n",
    "        mutate(direction=(bearing+360)%% 360) %>% # from https://stackoverflow.com/questions/51030060/in-geosphere-package-in-r-why-arent-bearings-in-0-360-degrees\n",
    "        mutate(direction=ifelse(site_i==site_j, -10, direction)) #for self-recruitment routes\n",
    "\n",
    "#write.csv(AllBearings, file=\"~/oceanography/script_output/SurveyData/AllBearings.csv\", row.names=F)\n",
    "\n",
    "SimConnDFDir <- left_join(SimConnDFDist, AllBearings, by=c(source=\"site_i\", destination=\"site_j\")) \n",
    "\n",
    "#write.csv(SimConnDFDir, file=\"~/oceanography/script_output/SimConnectivityTableWithMeta.csv\", row.names=F)"
   ]
  },
  {
   "cell_type": "code",
   "execution_count": 6,
   "metadata": {},
   "outputs": [
    {
     "data": {
      "text/html": [
       "-1"
      ],
      "text/latex": [
       "-1"
      ],
      "text/markdown": [
       "-1"
      ],
      "text/plain": [
       "[1] -1"
      ]
     },
     "metadata": {},
     "output_type": "display_data"
    }
   ],
   "source": [
    "-1 + 360 %% 360"
   ]
  },
  {
   "cell_type": "code",
   "execution_count": 7,
   "metadata": {},
   "outputs": [
    {
     "data": {
      "image/png": "[encoded data removed]",
      "text/plain": [
       "Plot with title “Possible directions”"
      ]
     },
     "metadata": {},
     "output_type": "display_data"
    }
   ],
   "source": [
    "#png(\"~/oceanography/figures/HistPossibleDirections.png\")\n",
    "hist(AllBearings$direction, breaks=70, main=\"Possible directions\", ylab=\"Direction\", col=\"gray\")\n",
    "#dev.off()"
   ]
  },
  {
   "cell_type": "code",
   "execution_count": 5,
   "metadata": {},
   "outputs": [
    {
     "name": "stderr",
     "output_type": "stream",
     "text": [
      "`summarise()` regrouping output by 'source', 'destination', 'SimYear', 'dist_km' (override with `.groups` argument)\n",
      "`summarise()` regrouping output by 'source' (override with `.groups` argument)\n",
      "`summarise()` regrouping output by 'source', 'destination', 'dist_km' (override with `.groups` argument)\n"
     ]
    }
   ],
   "source": [
    "#make summary tables for SimYear recruitment and CV across simulated year values\n",
    "SimAnnualNormRecruit <- left_join((SimConnDFDir %>%\n",
    "        group_by(source,destination, SimYear, dist_km, direction) %>%\n",
    "        summarise(SumParticles=sum(DailyParticles))), \n",
    "              (SimConnDFDir %>%\n",
    "                group_by(source, SimYear) %>%\n",
    "                summarise(SumParticlesReleasedSource=sum(DailyParticles))), by=c(\"source\", \"SimYear\")) %>%\n",
    "    mutate(SourceNormRecruitment=SumParticles/SumParticlesReleasedSource) %>%\n",
    "    arrange(desc(SourceNormRecruitment)) \n",
    "\n",
    "#write.csv(SimAnnualNormRecruit, file=\"~/oceanography/script_output/SimAnnualNormRecruit.csv\", row.names=F)\n",
    "\n",
    "\n",
    "SimAnnualNormRecruitCV <- SimAnnualNormRecruit %>%\n",
    "    group_by(source, destination, dist_km, direction) %>%\n",
    "    summarise(CV=sd(SourceNormRecruitment)/mean(SourceNormRecruitment)) %>%\n",
    "    mutate(CV=ifelse(is.nan(CV), 0, CV)) %>%#NANs show up when there was always zero recruitment, so just manually write those in as zeros\n",
    "    arrange(CV)\n",
    "#write.csv(SimAnnualNormRecruitCV, file=\"~/oceanography/script_output/SimAnnualNormRecruitCV.csv\", row.names=F)\n"
   ]
  },
  {
   "cell_type": "code",
   "execution_count": 16,
   "metadata": {},
   "outputs": [
    {
     "name": "stdout",
     "output_type": "stream",
     "text": [
      "'data.frame':\t625 obs. of  3 variables:\n",
      " $ site_i : chr  \"Cabatoan\" \"Caridad Cemetery\" \"Caridad Proper\" \"Elementary School\" ...\n",
      " $ site_j : chr  \"Cabatoan\" \"Cabatoan\" \"Cabatoan\" \"Cabatoan\" ...\n",
      " $ dist_km: num  0 3.04 3.79 7.74 15.92 ...\n"
     ]
    }
   ],
   "source": [
    "str(all_possible_dists_tidy)"
   ]
  },
  {
   "cell_type": "code",
   "execution_count": 21,
   "metadata": {
    "scrolled": false
   },
   "outputs": [],
   "source": [
    "SimYearDistCV <- ggplot(data=SimAnnualNormRecruitCV, aes(x=dist_km, y=CV)) +\n",
    "           geom_point(size=0.35)+\n",
    "            geom_smooth() +\n",
    "            #geom_histogram(data=all_possible_dists_tidy, aes(x=dist_km))+\n",
    "            ggtitle(\"Simulation Year\") \n",
    "#ggsave(filename=\"SimYearDistCV.png\", plot=SimYearDistCV, path=\"~/oceanography/figures\")\n",
    "\n",
    "SimYearDirCV <- ggplot(data=SimAnnualNormRecruitCV, aes(x=direction, y=CV)) +\n",
    "        geom_point(size=0.35)+\n",
    "        geom_smooth() +\n",
    "        ggtitle(\"Simulation Year\") +\n",
    "        geom_vline(xintercept=0, colour=\"black\", linetype=\"dashed\") + #add in lines for compass bearings so it's easier to read NORTH 0\n",
    "        geom_text(aes(x=0, label=\"N\", y=.1, hjust=-0.25), colour=\"black\", text=element_text(size=11)) +\n",
    "        geom_vline(xintercept=360, colour=\"black\", linetype=\"dashed\") + #NORTH 360\n",
    "        geom_text(aes(x=360, label=\"N\", y=.1, hjust=-0.25), colour=\"black\", text=element_text(size=11)) +        \n",
    "        geom_vline(xintercept=90, colour=\"black\", linetype=\"dashed\") + #East\n",
    "        geom_text(aes(x=90, label=\"E\", y=.1, hjust=-0.25), colour=\"black\", text=element_text(size=11)) +        \n",
    "        geom_vline(xintercept=180, colour=\"black\", linetype=\"dashed\") + #South\n",
    "        geom_text(aes(x=180, label=\"S\", y=.1, hjust=-0.25), colour=\"black\", text=element_text(size=11)) +        \n",
    "        geom_vline(xintercept=270, colour=\"black\", linetype=\"dashed\") + #West\n",
    "        geom_text(aes(x=270, label=\"W\", y=.1, hjust=-0.25), colour=\"black\", text=element_text(size=11)) +        \n",
    "        geom_vline(xintercept=-10, colour=\"black\", linetype=\"dashed\") + #self-recruitment\n",
    "        geom_text(aes(x=-10, label=\"Self\", y=.1, angle=90, vjust=-1), colour=\"black\", text=element_text(size=11))\n",
    "#ggsave(filename=\"SimYearDirectionCV.png\", plot=SimYearDirCV, path=\"~/oceanography/figures\")\n"
   ]
  },
  {
   "cell_type": "code",
   "execution_count": 22,
   "metadata": {},
   "outputs": [
    {
     "name": "stderr",
     "output_type": "stream",
     "text": [
      "`summarise()` regrouping output by 'source', 'destination', 'YearSampled', 'dist_km' (override with `.groups` argument)\n",
      "`summarise()` regrouping output by 'source' (override with `.groups` argument)\n",
      "`summarise()` regrouping output by 'source', 'destination', 'dist_km' (override with `.groups` argument)\n"
     ]
    }
   ],
   "source": [
    "#make summary tables for YearSampled recruitment and CV across simulated year values\n",
    "SampAnnualNormRecruit <- left_join((SimConnDFDir %>%\n",
    "        group_by(source,destination, YearSampled, dist_km, direction) %>%\n",
    "        summarise(SumParticles=sum(DailyParticles))), \n",
    "              (SimConnDFDir %>%\n",
    "                group_by(source, YearSampled) %>%\n",
    "                summarise(SumParticlesReleasedSource=sum(DailyParticles))), by=c(\"source\", \"YearSampled\")) %>%\n",
    "    mutate(SourceNormRecruitment=SumParticles/SumParticlesReleasedSource) %>%\n",
    "    arrange(desc(SourceNormRecruitment)) \n",
    "\n",
    "#write.csv(SampAnnualNormRecruit, file=\"~/oceanography/script_output/SampAnnualNormRecruit.csv\", row.names=F)\n",
    "\n",
    "\n",
    "SampAnnualNormRecruitCV <- SampAnnualNormRecruit %>%\n",
    "    group_by(source, destination, dist_km, direction) %>%\n",
    "    summarise(CV=sd(SourceNormRecruitment)/mean(SourceNormRecruitment)) %>%\n",
    "    mutate(CV=ifelse(is.nan(CV), 0, CV)) %>%#NANs show up when there was always zero recruitment, so just manually write those in as zeros\n",
    "    arrange(CV)\n",
    "#write.csv(SampAnnualNormRecruitCV, file=\"~/oceanography/script_output/SampAnnualNormRecruitCV.csv\", row.names=F)\n",
    "\n"
   ]
  },
  {
   "cell_type": "code",
   "execution_count": 40,
   "metadata": {},
   "outputs": [],
   "source": [
    "#SampYearDistCV <- ggplot(data=SampAnnualNormRecruitCV, aes(x=dist_km, y=CV)) +\n",
    "#           geom_point(size=0.35)+\n",
    "#           geom_smooth() +\n",
    "#           ggtitle(\"Sampling Year\")\n",
    "#ggsave(filename=\"SampYearDistCV.png\", plot=SampYearDistCV, path=\"~/oceanography/figures\")\n",
    "#\n",
    "#SampYearDirCV <- ggplot(data=SampAnnualNormRecruitCV, aes(x=direction, y=CV)) +\n",
    "#        geom_point(size=0.35)+\n",
    "#        geom_smooth() +\n",
    "#        ggtitle(\"Sampling Year\") +\n",
    "#        geom_vline(xintercept=0, colour=\"black\", linetype=\"dashed\") + #add in lines for compass bearings so it's easier to read NORTH 0\n",
    "#        geom_text(aes(x=0, label=\"N\", y=.1, hjust=-0.25), colour=\"black\", text=element_text(size=11)) +\n",
    "#        geom_vline(xintercept=360, colour=\"black\", linetype=\"dashed\") + #NORTH 360\n",
    "#        geom_text(aes(x=360, label=\"N\", y=.1, hjust=-0.25), colour=\"black\", text=element_text(size=11)) +        \n",
    "#        geom_vline(xintercept=90, colour=\"black\", linetype=\"dashed\") + #East\n",
    "#        geom_text(aes(x=90, label=\"E\", y=.1, hjust=-0.25), colour=\"black\", text=element_text(size=11)) +        \n",
    "#        geom_vline(xintercept=180, colour=\"black\", linetype=\"dashed\") + #South\n",
    "#        geom_text(aes(x=180, label=\"S\", y=.1, hjust=-0.25), colour=\"black\", text=element_text(size=11)) +        \n",
    "#        geom_vline(xintercept=270, colour=\"black\", linetype=\"dashed\") + #West\n",
    "#        geom_text(aes(x=270, label=\"W\", y=.1, hjust=-0.25), colour=\"black\", text=element_text(size=11)) +        \n",
    "#        geom_vline(xintercept=-10, colour=\"black\", linetype=\"dashed\") + #self-recruitment\n",
    "#        geom_text(aes(x=-10, label=\"Self\", y=.1, angle=90, vjust=-1), colour=\"black\", text=element_text(size=11))\n",
    "#ggsave(filename=\"SampYearDirectionCV.png\", plot=SampYearDirCV, path=\"~/oceanography/figures\")\n",
    "#"
   ]
  },
  {
   "cell_type": "code",
   "execution_count": 38,
   "metadata": {
    "scrolled": false
   },
   "outputs": [],
   "source": [
    "#the two ways of breaking up year look really different, but they aren't\n",
    "#SampYearDistCV\n",
    "#SimYearDistCV\n",
    "#head(SampAnnualNormRecruit)\n",
    "#head(SimAnnualNormRecruit)"
   ]
  },
  {
   "cell_type": "code",
   "execution_count": 23,
   "metadata": {},
   "outputs": [
    {
     "name": "stderr",
     "output_type": "stream",
     "text": [
      "`summarise()` regrouping output by 'SimMonsoon', 'source', 'destination', 'dist_km' (override with `.groups` argument)\n",
      "`summarise()` regrouping output by 'source' (override with `.groups` argument)\n",
      "`summarise()` regrouping output by 'source', 'destination', 'dist_km' (override with `.groups` argument)\n"
     ]
    }
   ],
   "source": [
    "#make summary tables for SimMonsoon recruitment and CV across simulated year values\n",
    "SimMonsoonNormRecruit <- left_join((SimConnDFDir %>%\n",
    "        group_by(SimMonsoon, source,destination, dist_km, direction) %>%\n",
    "        summarise(SumParticles=sum(DailyParticles))), \n",
    "              (SimConnDFDir %>%\n",
    "                group_by(source, SimMonsoon) %>%\n",
    "                summarise(SumParticlesReleasedSource=sum(DailyParticles))), by=c(\"source\", \"SimMonsoon\")) %>%\n",
    "    mutate(SourceNormRecruitment=SumParticles/SumParticlesReleasedSource) %>%\n",
    "    arrange(SourceNormRecruitment, SimMonsoon) \n",
    "\n",
    "#write.csv(SimMonsoonNormRecruit, file=\"~/oceanography/script_output/SimMonsoonNormRecruit.csv\", row.names=F)\n",
    "\n",
    "\n",
    "SimMonsoonNormRecruitCV <- SimMonsoonNormRecruit %>%\n",
    "    group_by(source, destination, dist_km, direction) %>%\n",
    "    summarise(CV=sd(SourceNormRecruitment)/mean(SourceNormRecruitment)) %>%\n",
    "    mutate(CV=ifelse(is.nan(CV), 0, CV)) %>%#NANs show up when there was always zero recruitment, so just manually write those in as zeros\n",
    "    arrange(CV)\n",
    "#write.csv(SimMonsoonNormRecruitCV, file=\"~/oceanography/script_output/SimMonsoonNormRecruitCV.csv\", row.names=F)\n"
   ]
  },
  {
   "cell_type": "code",
   "execution_count": 43,
   "metadata": {},
   "outputs": [
    {
     "data": {
      "text/plain": [
       "     Min.   1st Qu.    Median      Mean   3rd Qu.      Max. \n",
       "0.0000000 0.0000375 0.0003464 0.0370370 0.0023513 0.9872998 "
      ]
     },
     "metadata": {},
     "output_type": "display_data"
    },
    {
     "data": {
      "text/plain": [
       "     Min.   1st Qu.    Median      Mean   3rd Qu.      Max. \n",
       "0.0000000 0.0000000 0.0000228 0.0370370 0.0006626 0.9992521 "
      ]
     },
     "metadata": {},
     "output_type": "display_data"
    }
   ],
   "source": [
    "#COME BACK TO THIS CELL AFTER MAKING PLOTS\n",
    "NEM <- SimMonsoonNormRecruit %>% filter(SimMonsoon==\"NEM\")\n",
    "summary(NEM$SourceNormRecruitment)\n",
    "SWM <- SimMonsoonNormRecruit %>% filter(SimMonsoon==\"SWM\") \n",
    "summary(SWM$SourceNormRecruitment)"
   ]
  },
  {
   "cell_type": "code",
   "execution_count": 25,
   "metadata": {},
   "outputs": [
    {
     "name": "stderr",
     "output_type": "stream",
     "text": [
      "Warning message:\n",
      "“Ignoring unknown parameters: text”Warning message:\n",
      "“Ignoring unknown parameters: text”Warning message:\n",
      "“Ignoring unknown parameters: text”Warning message:\n",
      "“Ignoring unknown parameters: text”Warning message:\n",
      "“Ignoring unknown parameters: text”Warning message:\n",
      "“Ignoring unknown parameters: text”"
     ]
    }
   ],
   "source": [
    "SimMonsoonDistCV <- ggplot(data=SimMonsoonNormRecruitCV, aes(x=dist_km, y=CV)) +\n",
    "           geom_point(size=0.35)+\n",
    "           geom_smooth() +\n",
    "           ggtitle(\"Simulation Year\")\n",
    "#ggsave(filename=\"SimMonsoonDistCV.png\", plot=SimMonsoonDistCV, path=\"~/oceanography/figures\")\n",
    "\n",
    "SimMonsoonDirCV <- ggplot(data=SimMonsoonNormRecruitCV, aes(x=direction, y=CV)) +\n",
    "        geom_point(size=0.35)+\n",
    "        geom_smooth() +\n",
    "        ggtitle(\"Simulation Monsoon\") +\n",
    "        geom_vline(xintercept=0, colour=\"black\", linetype=\"dashed\") + #add in lines for compass bearings so it's easier to read NORTH 0\n",
    "        geom_text(aes(x=0, label=\"N\", y=.1, hjust=-0.25), colour=\"black\", text=element_text(size=11)) +\n",
    "        geom_vline(xintercept=360, colour=\"black\", linetype=\"dashed\") + #NORTH 360\n",
    "        geom_text(aes(x=360, label=\"N\", y=.1, hjust=-0.25), colour=\"black\", text=element_text(size=11)) +        \n",
    "        geom_vline(xintercept=90, colour=\"black\", linetype=\"dashed\") + #East\n",
    "        geom_text(aes(x=90, label=\"E\", y=.1, hjust=-0.25), colour=\"black\", text=element_text(size=11)) +        \n",
    "        geom_vline(xintercept=180, colour=\"black\", linetype=\"dashed\") + #South\n",
    "        geom_text(aes(x=180, label=\"S\", y=.1, hjust=-0.25), colour=\"black\", text=element_text(size=11)) +        \n",
    "        geom_vline(xintercept=270, colour=\"black\", linetype=\"dashed\") + #West\n",
    "        geom_text(aes(x=270, label=\"W\", y=.1, hjust=-0.25), colour=\"black\", text=element_text(size=11)) +        \n",
    "        geom_vline(xintercept=-10, colour=\"black\", linetype=\"dashed\") + #self-recruitment\n",
    "        geom_text(aes(x=-10, label=\"Self\", y=.1, angle=90, vjust=-1), colour=\"black\", text=element_text(size=11))\n",
    "#ggsave(filename=\"SimMonsoonDirectionCV.png\", plot=SimMonsoonDirCV, path=\"~/oceanography/figures\")\n"
   ]
  },
  {
   "cell_type": "markdown",
   "metadata": {},
   "source": [
    "__At this point SimConnDFDir has all the available information about just the simulated data__"
   ]
  },
  {
   "cell_type": "code",
   "execution_count": 7,
   "metadata": {},
   "outputs": [
    {
     "data": {
      "text/html": [
       "0"
      ],
      "text/latex": [
       "0"
      ],
      "text/markdown": [
       "0"
      ],
      "text/plain": [
       "[1] 0"
      ]
     },
     "metadata": {},
     "output_type": "display_data"
    }
   ],
   "source": [
    "\n",
    "#add how well we sampled sites- proportion of habitat sampled\n",
    "load(\"~/parentage/r_data/cumulative_prop_hab_sampled_by_site.RData\")\n",
    "PropSamp <- cumulative_prop_hab_sampled_by_site %>%\n",
    "    mutate(total_possible_sample_anems = ifelse(site==\"Caridad Proper\", 4, total_possible_sample_anems) ) %>%\n",
    "    mutate(total_prop_hab_sampled_anems_tidied= ifelse(site==\"Caridad Proper\" & total_anems_sampled==4, 1, total_prop_hab_sampled_anems_tidied) ) %>%\n",
    "    mutate(total_possible_sample_anems = ifelse(site==\"Sitio Lonas\", total_anems_sampled, total_possible_sample_anems) ) %>%\n",
    "    mutate(total_prop_hab_sampled_anems_tidied= ifelse(site==\"Sitio Lonas\", 1, total_prop_hab_sampled_anems_tidied) )%>%\n",
    "    mutate(total_prop_hab_sampled_anems_tidied= ifelse(is.nan(total_prop_hab_sampled_anems_tidied), 0, total_prop_hab_sampled_anems_tidied) ) %>%\n",
    "    dplyr::select(site, time_frame, end_year, total_prop_hab_sampled_anems_tidied) \n",
    "\n",
    "PropSamp$site <- gsub(\". \", \".\", PropSamp$site, fixed=TRUE) #fix spaces in Magbangon names\n",
    "\n",
    "S.Mag <- PropSamp %>%#make a table for all of the S. Mabangon years/prop sampled. Then join to the DF, make a column adding S.Magbangon values to all rows of prop sampled, but only sub that value in for PropSamp in N.Magbangon rows, then rename N.Magbangon as Magbangon\n",
    "    filter(site==\"S.Magbangon\") %>%\n",
    "    dplyr::select(site, end_year, total_prop_hab_sampled_anems_tidied) %>%\n",
    "    rename(S.MagVal=\"total_prop_hab_sampled_anems_tidied\", extra=\"site\")\n",
    "\n",
    "PropSamp <- left_join(PropSamp, S.Mag, by=c(\"end_year\")) %>%\n",
    "    mutate(S.MagSum=total_prop_hab_sampled_anems_tidied+S.MagVal) %>% #create col adding the S.Mag values to prop hab - keep in mind values could be greater than 1- if so change them to 1\n",
    "    mutate(total_prop_hab_sampled_anems_tidied= ifelse(site==\"N.Magbangon\", S.MagSum, total_prop_hab_sampled_anems_tidied)) %>%#sub this value in for only N.Mag\n",
    "    mutate(site=ifelse(site==\"N.Magbangon\", \"Magbangon\", site)) %>%#change N.Mag name to generic Mag\n",
    "    filter(site !=\"S.Magbangon\") %>%#eliminate the S.Mag rows, they are now repeats\n",
    "    dplyr::select(-S.MagVal,-extra, -S.MagSum, -time_frame) %>%\n",
    "    rename(PropSamp=\"total_prop_hab_sampled_anems_tidied\")\n",
    "\n",
    "\n",
    "#check if there are values>1, should be none\n",
    "sum(which(PropSamp$total_prop_hab_sampled_anems_tidied >1)) #zero, that's good\n",
    "\n",
    "#first, summarize the simulated data to the level of a sampling year, remember, this data frame DOES NOT include unsampled sites at the moment\n",
    "SimConnDFInt <- SimConnDFDir %>%\n",
    "    ungroup() %>%\n",
    "    group_by(source, destination, YearSampled) %>%\n",
    "    mutate(AnnRecPart=sum(DailyParticles)) %>% # this is a really confusing column name, so drop the similar ones from earlier that are for the purposes of figuring out the unassigned juveniles for kernel fitting\n",
    "    ungroup() \n",
    "\n",
    "#last piece to explore ROMS model GLM- the Camotes don't fit into the North/South paradigm I have going, so manually say the direction is \n",
    "SimConnDFProp <- left_join(SimConnDFInt, PropSamp, by=c(source=\"site\", YearSampled=\"end_year\")) %>%#use end year here, remembering that it's cumulative prop hab sampled that is relevant to the parentage analysis\n",
    "    rename(SourcePropSamp=\"PropSamp\")\n",
    "SimConnDFMeta <- left_join(SimConnDFProp, PropSamp, by=c(destination=\"site\", YearSampled=\"end_year\")) %>% #use end year here, remembering that it's cumulative prop hab sampled that is relevant to the parentage analysis\n",
    "    rename(DestPropSamp=\"PropSamp\") %>%\n",
    "    ungroup() %>% #ungroup by year, otherwise grouping will override year filtering\n",
    "    filter(YearSampled %in% c(\"2012\", \"2013\", \"2014\")) %>% #remove 2011 simulation results, we didn't sampled that year    \n",
    "    filter(source %!in% UnsampledSites & source !=\"CAI\") %>% #we narrow down to only sampled sites at this point, because this is the data frame that will be joined to the observed data\n",
    "    filter(destination%!in% UnsampledSites & destination!= \"CAI\") \n"
   ]
  },
  {
   "cell_type": "markdown",
   "metadata": {},
   "source": [
    "__add in genetic data__"
   ]
  },
  {
   "cell_type": "markdown",
   "metadata": {},
   "source": [
    "__CELL BELOW IS WORKING FOR GLM OF OBSERVED DATA BY SIMULATED DATA__"
   ]
  },
  {
   "cell_type": "code",
   "execution_count": 6,
   "metadata": {},
   "outputs": [
    {
     "name": "stderr",
     "output_type": "stream",
     "text": [
      "`summarise()` regrouping output by 'offs_site', 'par_site' (override with `.groups` argument)\n"
     ]
    },
    {
     "data": {
      "text/html": [
       "24"
      ],
      "text/latex": [
       "24"
      ],
      "text/markdown": [
       "24"
      ],
      "text/plain": [
       "[1] 24"
      ]
     },
     "metadata": {},
     "output_type": "display_data"
    }
   ],
   "source": [
    "##add in the empirical dispersal data from the genetics\n",
    "ObsDisp <- read.csv(file=\"~/parentage/colony2/20200605_1340loci/results/20200624colony_dispersaldirection.csv\", header=T, stringsAsFactors=F)\n",
    "#\n",
    "ObsDisp$offs_site <- gsub(\". \", \".\", ObsDisp$offs_site, fixed=TRUE) #fix spaces in Magbangon names\n",
    "ObsDisp$par_site <- gsub(\". \", \".\", ObsDisp$par_site, fixed=TRUE) #fix spaces in Magbangon names\n",
    "\n",
    "##just like in PropSamp, combine Magbangons to match simulation\n",
    "###for the observed parentage, there's only one case of a disp obs to/from the same site in the same year from both N and S Mag. So that's the only obs to combine, do it manually\n",
    "ObsDisp <- ObsDisp %>%\n",
    "    #filter(year %in% c(\"2012\", \"2013\", \"2014\")) %>% #, \"2014\"  #only use the data from the years that overlap between simulations and empirical sampling\n",
    "    dplyr::select(year, dist_par_km, offs_site, par_site) %>%\n",
    "    group_by(offs_site, par_site, year) %>%\n",
    "    summarise(obs_disp=n()) %>%\n",
    "    mutate(obs_disp=ifelse(offs_site==\"N.Magbangon\" & par_site==\"Palanas\" & year==\"2013\", 2, obs_disp)) %>% #manually change the 1 to 2 to combine N/S Mag\n",
    "    filter(par_site !=\"S.Magbangon\" & offs_site !=\"Palanas\") %>% #drop the S.Mag obs so we don't double count\n",
    "    mutate(offs_site=ifelse(offs_site==\"N.Magbangon\", \"Magbangon\", offs_site)) %>%#change N.Mag name to generic Mag\n",
    "    mutate(par_site=ifelse(par_site==\"N.Magbangon\", \"Magbangon\", par_site)) %>%#change N.Mag name to generic Mag  \n",
    "    mutate(offs_site=ifelse(offs_site==\"S.Magbangon\", \"Magbangon\", offs_site)) %>%#change S.Mag name to generic Mag\n",
    "    mutate(par_site=ifelse(par_site==\"S.Magbangon\", \"Magbangon\", par_site)) %>% #change S.Mag name to generic Mag    \n",
    "    mutate(year=as.character(year)) %>%\n",
    "    ungroup() \n",
    "\n",
    "#first, summarize the simulated data to the level of a sampling year and remove duplicates (daily rows, now that it's already summarized)\n",
    "SimConnDFMetaAnn <- SimConnDFMeta %>%\n",
    "    ungroup() %>%\n",
    "    distinct(YearSampled, source, destination, .keep_all = T) %>%\n",
    "    dplyr::select(-date)\n",
    "GenSimConn <- left_join(SimConnDFMetaAnn, ObsDisp, by=c(source=\"par_site\", destination=\"offs_site\", YearSampled=\"year\"))%>%\n",
    "    mutate(obs_disp=ifelse(is.na(obs_disp), 0, obs_disp)) %>%\n",
    "    mutate(direction=as.numeric(direction)) \n",
    "sum(GenSimConn$obs_disp) #should be 24\n",
    "#add a column for binomial 1/0 if dispersal occured along that route\n",
    "\n",
    "#write out the table with all of the genetic sampling and simulated data\n",
    "#write.csv(GenSimConn, file=\"~/oceanography/script_output/GenSimConnectivityFullTable.csv\", row.names=F)\n"
   ]
  },
  {
   "cell_type": "markdown",
   "metadata": {},
   "source": [
    "__Can skip above and read in the data frame made from the above code__"
   ]
  },
  {
   "cell_type": "code",
   "execution_count": 14,
   "metadata": {},
   "outputs": [],
   "source": [
    "#GenSimConn <- read.csv(file=\"~/oceanography/script_output/GenSimConnectivityFullTable.csv\", header=T)\n"
   ]
  },
  {
   "cell_type": "markdown",
   "metadata": {},
   "source": [
    "__Make some plots__"
   ]
  },
  {
   "cell_type": "code",
   "execution_count": null,
   "metadata": {},
   "outputs": [],
   "source": [
    "#what are the routes that create these peaks in direction annually?\n",
    "\n",
    "#are there similar patterns seasonally?\n",
    "\n",
    "#plot the connectivity matrix with of the roms model"
   ]
  },
  {
   "cell_type": "code",
   "execution_count": 7,
   "metadata": {},
   "outputs": [],
   "source": [
    "SimConnDFDir2 <- SimConnDFDir %>% #summarise to plot the distribution of directions and distances in time periods\n",
    "    filter(!is.na(direction)) %>%     #exclude the \"other\" sites, for which distance and direction are unknown\n",
    "    group_by(direction) %>%\n",
    "    mutate(DirTotalParticlesAll=sum(DailyParticles)) %>% #total in each direction class in all years combined\n",
    "    ungroup() %>%\n",
    "    group_by(SimYear, direction) %>%\n",
    "    mutate(DirTotalParticlesAnnual=sum(DailyParticles)) %>% #total in each direction class in each year separately\n",
    "    ungroup() %>%\n",
    "    group_by(SimMonsoon, direction) %>%\n",
    "    mutate(DirTotalParticlesSeasonal=sum(DailyParticles)) %>% #total in each direction class in each monsoon season separately\n",
    "    ungroup() %>% \n",
    "    group_by(dist_km) %>%\n",
    "    mutate(DistTotalParticlesAll=sum(DailyParticles)) %>% #total in each distance class in all years combined\n",
    "    ungroup() %>%\n",
    "    group_by(SimYear, dist_km) %>%\n",
    "    mutate(DistTotalParticlesAnnual=sum(DailyParticles)) %>% #total in each distance class in each year separately\n",
    "    ungroup() %>%\n",
    "    group_by(SimMonsoon, dist_km) %>%\n",
    "    mutate(DistTotalParticlesSeasonal=sum(DailyParticles)) %>% #total in each distance class in each monsoon season separately\n",
    "    ungroup()\n",
    "    \n",
    "    "
   ]
  },
  {
   "cell_type": "code",
   "execution_count": 19,
   "metadata": {},
   "outputs": [
    {
     "data": {
      "text/html": [
       "<table>\n",
       "<thead><tr><th scope=col>date</th><th scope=col>source</th><th scope=col>destination</th><th scope=col>SourceSampled</th><th scope=col>DestSampled</th><th scope=col>SimMonth</th><th scope=col>SimDay</th><th scope=col>SimYear</th><th scope=col>YearSampled</th><th scope=col>SimMonsoon</th><th scope=col>DailyParticles</th><th scope=col>ParticlesReleasedDaily</th><th scope=col>dist_km</th><th scope=col>bearing</th><th scope=col>direction</th></tr></thead>\n",
       "<tbody>\n",
       "\t<tr><td>2010-10-01      </td><td>Other           </td><td>Palanas         </td><td>no              </td><td>yes             </td><td>10              </td><td>10              </td><td>2010            </td><td>2011            </td><td>SWM             </td><td> 9              </td><td>4497728         </td><td>NA              </td><td>NA              </td><td>NA              </td></tr>\n",
       "\t<tr><td>2010-10-01      </td><td>Other           </td><td>Wangag          </td><td>no              </td><td>yes             </td><td>10              </td><td>10              </td><td>2010            </td><td>2011            </td><td>SWM             </td><td> 4              </td><td>4497728         </td><td>NA              </td><td>NA              </td><td>NA              </td></tr>\n",
       "\t<tr><td>2010-10-01      </td><td>Other           </td><td>Magbangon       </td><td>no              </td><td>yes             </td><td>10              </td><td>10              </td><td>2010            </td><td>2011            </td><td>SWM             </td><td>11              </td><td>4497728         </td><td>NA              </td><td>NA              </td><td>NA              </td></tr>\n",
       "\t<tr><td>2010-10-01      </td><td>Other           </td><td>Cabatoan        </td><td>no              </td><td>yes             </td><td>10              </td><td>10              </td><td>2010            </td><td>2011            </td><td>SWM             </td><td>12              </td><td>4497728         </td><td>NA              </td><td>NA              </td><td>NA              </td></tr>\n",
       "\t<tr><td>2010-10-01      </td><td>Other           </td><td>Caridad Cemetery</td><td>no              </td><td>yes             </td><td>10              </td><td>10              </td><td>2010            </td><td>2011            </td><td>SWM             </td><td> 0              </td><td>4497728         </td><td>NA              </td><td>NA              </td><td>NA              </td></tr>\n",
       "\t<tr><td>2010-10-01      </td><td>Other           </td><td>Caridad Proper  </td><td>no              </td><td>yes             </td><td>10              </td><td>10              </td><td>2010            </td><td>2011            </td><td>SWM             </td><td> 1              </td><td>4497728         </td><td>NA              </td><td>NA              </td><td>NA              </td></tr>\n",
       "</tbody>\n",
       "</table>\n"
      ],
      "text/latex": [
       "\\begin{tabular}{r|lllllllllllllll}\n",
       " date & source & destination & SourceSampled & DestSampled & SimMonth & SimDay & SimYear & YearSampled & SimMonsoon & DailyParticles & ParticlesReleasedDaily & dist\\_km & bearing & direction\\\\\n",
       "\\hline\n",
       "\t 2010-10-01       & Other            & Palanas          & no               & yes              & 10               & 10               & 2010             & 2011             & SWM              &  9               & 4497728          & NA               & NA               & NA              \\\\\n",
       "\t 2010-10-01       & Other            & Wangag           & no               & yes              & 10               & 10               & 2010             & 2011             & SWM              &  4               & 4497728          & NA               & NA               & NA              \\\\\n",
       "\t 2010-10-01       & Other            & Magbangon        & no               & yes              & 10               & 10               & 2010             & 2011             & SWM              & 11               & 4497728          & NA               & NA               & NA              \\\\\n",
       "\t 2010-10-01       & Other            & Cabatoan         & no               & yes              & 10               & 10               & 2010             & 2011             & SWM              & 12               & 4497728          & NA               & NA               & NA              \\\\\n",
       "\t 2010-10-01       & Other            & Caridad Cemetery & no               & yes              & 10               & 10               & 2010             & 2011             & SWM              &  0               & 4497728          & NA               & NA               & NA              \\\\\n",
       "\t 2010-10-01       & Other            & Caridad Proper   & no               & yes              & 10               & 10               & 2010             & 2011             & SWM              &  1               & 4497728          & NA               & NA               & NA              \\\\\n",
       "\\end{tabular}\n"
      ],
      "text/markdown": [
       "\n",
       "| date | source | destination | SourceSampled | DestSampled | SimMonth | SimDay | SimYear | YearSampled | SimMonsoon | DailyParticles | ParticlesReleasedDaily | dist_km | bearing | direction |\n",
       "|---|---|---|---|---|---|---|---|---|---|---|---|---|---|---|\n",
       "| 2010-10-01       | Other            | Palanas          | no               | yes              | 10               | 10               | 2010             | 2011             | SWM              |  9               | 4497728          | NA               | NA               | NA               |\n",
       "| 2010-10-01       | Other            | Wangag           | no               | yes              | 10               | 10               | 2010             | 2011             | SWM              |  4               | 4497728          | NA               | NA               | NA               |\n",
       "| 2010-10-01       | Other            | Magbangon        | no               | yes              | 10               | 10               | 2010             | 2011             | SWM              | 11               | 4497728          | NA               | NA               | NA               |\n",
       "| 2010-10-01       | Other            | Cabatoan         | no               | yes              | 10               | 10               | 2010             | 2011             | SWM              | 12               | 4497728          | NA               | NA               | NA               |\n",
       "| 2010-10-01       | Other            | Caridad Cemetery | no               | yes              | 10               | 10               | 2010             | 2011             | SWM              |  0               | 4497728          | NA               | NA               | NA               |\n",
       "| 2010-10-01       | Other            | Caridad Proper   | no               | yes              | 10               | 10               | 2010             | 2011             | SWM              |  1               | 4497728          | NA               | NA               | NA               |\n",
       "\n"
      ],
      "text/plain": [
       "  date       source destination      SourceSampled DestSampled SimMonth SimDay\n",
       "1 2010-10-01 Other  Palanas          no            yes         10       10    \n",
       "2 2010-10-01 Other  Wangag           no            yes         10       10    \n",
       "3 2010-10-01 Other  Magbangon        no            yes         10       10    \n",
       "4 2010-10-01 Other  Cabatoan         no            yes         10       10    \n",
       "5 2010-10-01 Other  Caridad Cemetery no            yes         10       10    \n",
       "6 2010-10-01 Other  Caridad Proper   no            yes         10       10    \n",
       "  SimYear YearSampled SimMonsoon DailyParticles ParticlesReleasedDaily dist_km\n",
       "1 2010    2011        SWM         9             4497728                NA     \n",
       "2 2010    2011        SWM         4             4497728                NA     \n",
       "3 2010    2011        SWM        11             4497728                NA     \n",
       "4 2010    2011        SWM        12             4497728                NA     \n",
       "5 2010    2011        SWM         0             4497728                NA     \n",
       "6 2010    2011        SWM         1             4497728                NA     \n",
       "  bearing direction\n",
       "1 NA      NA       \n",
       "2 NA      NA       \n",
       "3 NA      NA       \n",
       "4 NA      NA       \n",
       "5 NA      NA       \n",
       "6 NA      NA       "
      ]
     },
     "metadata": {},
     "output_type": "display_data"
    }
   ],
   "source": [
    " "
   ]
  },
  {
   "cell_type": "code",
   "execution_count": 19,
   "metadata": {},
   "outputs": [
    {
     "data": {
      "text/html": [
       "<table>\n",
       "<thead><tr><th scope=col>date</th><th scope=col>source</th><th scope=col>destination</th><th scope=col>SourceSampled</th><th scope=col>DestSampled</th><th scope=col>SimMonth</th><th scope=col>SimDay</th><th scope=col>SimYear</th><th scope=col>YearSampled</th><th scope=col>SimMonsoon</th><th scope=col>DailyParticles</th><th scope=col>ParticlesReleasedDaily</th><th scope=col>dist_km</th><th scope=col>bearing</th><th scope=col>direction</th></tr></thead>\n",
       "<tbody>\n",
       "\t<tr><td>2010-10-01      </td><td>SF6             </td><td>Palanas         </td><td>no              </td><td>yes             </td><td>10              </td><td>10              </td><td>2010            </td><td>2011            </td><td>SWM             </td><td>0               </td><td>11904           </td><td>23.70449        </td><td>-9.3254106      </td><td>350.6745894     </td></tr>\n",
       "\t<tr><td>2010-10-01      </td><td>SF6             </td><td>Wangag          </td><td>no              </td><td>yes             </td><td>10              </td><td>10              </td><td>2010            </td><td>2011            </td><td>SWM             </td><td>0               </td><td>11904           </td><td>23.30953        </td><td>-8.4187632      </td><td>351.5812368     </td></tr>\n",
       "\t<tr><td>2010-10-01      </td><td>SF6             </td><td>Magbangon       </td><td>no              </td><td>yes             </td><td>10              </td><td>10              </td><td>2010            </td><td>2011            </td><td>SWM             </td><td>0               </td><td>11904           </td><td>21.64823        </td><td>-6.1068241      </td><td>353.8931759     </td></tr>\n",
       "\t<tr><td>2010-10-01      </td><td>SF6             </td><td>Cabatoan        </td><td>no              </td><td>yes             </td><td>10              </td><td>10              </td><td>2010            </td><td>2011            </td><td>SWM             </td><td>0               </td><td>11904           </td><td>21.46339        </td><td>-5.6582703      </td><td>354.3417297     </td></tr>\n",
       "\t<tr><td>2010-10-01      </td><td>SF6             </td><td>Caridad Cemetery</td><td>no              </td><td>yes             </td><td>10              </td><td>10              </td><td>2010            </td><td>2011            </td><td>SWM             </td><td>0               </td><td>11904           </td><td>19.23639        </td><td> 0.2115218      </td><td>  0.2115218     </td></tr>\n",
       "\t<tr><td>2010-10-01      </td><td>SF6             </td><td>Caridad Proper  </td><td>no              </td><td>yes             </td><td>10              </td><td>10              </td><td>2010            </td><td>2011            </td><td>SWM             </td><td>0               </td><td>11904           </td><td>18.60908        </td><td> 1.5387880      </td><td>  1.5387880     </td></tr>\n",
       "</tbody>\n",
       "</table>\n"
      ],
      "text/latex": [
       "\\begin{tabular}{r|lllllllllllllll}\n",
       " date & source & destination & SourceSampled & DestSampled & SimMonth & SimDay & SimYear & YearSampled & SimMonsoon & DailyParticles & ParticlesReleasedDaily & dist\\_km & bearing & direction\\\\\n",
       "\\hline\n",
       "\t 2010-10-01       & SF6              & Palanas          & no               & yes              & 10               & 10               & 2010             & 2011             & SWM              & 0                & 11904            & 23.70449         & -9.3254106       & 350.6745894     \\\\\n",
       "\t 2010-10-01       & SF6              & Wangag           & no               & yes              & 10               & 10               & 2010             & 2011             & SWM              & 0                & 11904            & 23.30953         & -8.4187632       & 351.5812368     \\\\\n",
       "\t 2010-10-01       & SF6              & Magbangon        & no               & yes              & 10               & 10               & 2010             & 2011             & SWM              & 0                & 11904            & 21.64823         & -6.1068241       & 353.8931759     \\\\\n",
       "\t 2010-10-01       & SF6              & Cabatoan         & no               & yes              & 10               & 10               & 2010             & 2011             & SWM              & 0                & 11904            & 21.46339         & -5.6582703       & 354.3417297     \\\\\n",
       "\t 2010-10-01       & SF6              & Caridad Cemetery & no               & yes              & 10               & 10               & 2010             & 2011             & SWM              & 0                & 11904            & 19.23639         &  0.2115218       &   0.2115218     \\\\\n",
       "\t 2010-10-01       & SF6              & Caridad Proper   & no               & yes              & 10               & 10               & 2010             & 2011             & SWM              & 0                & 11904            & 18.60908         &  1.5387880       &   1.5387880     \\\\\n",
       "\\end{tabular}\n"
      ],
      "text/markdown": [
       "\n",
       "| date | source | destination | SourceSampled | DestSampled | SimMonth | SimDay | SimYear | YearSampled | SimMonsoon | DailyParticles | ParticlesReleasedDaily | dist_km | bearing | direction |\n",
       "|---|---|---|---|---|---|---|---|---|---|---|---|---|---|---|\n",
       "| 2010-10-01       | SF6              | Palanas          | no               | yes              | 10               | 10               | 2010             | 2011             | SWM              | 0                | 11904            | 23.70449         | -9.3254106       | 350.6745894      |\n",
       "| 2010-10-01       | SF6              | Wangag           | no               | yes              | 10               | 10               | 2010             | 2011             | SWM              | 0                | 11904            | 23.30953         | -8.4187632       | 351.5812368      |\n",
       "| 2010-10-01       | SF6              | Magbangon        | no               | yes              | 10               | 10               | 2010             | 2011             | SWM              | 0                | 11904            | 21.64823         | -6.1068241       | 353.8931759      |\n",
       "| 2010-10-01       | SF6              | Cabatoan         | no               | yes              | 10               | 10               | 2010             | 2011             | SWM              | 0                | 11904            | 21.46339         | -5.6582703       | 354.3417297      |\n",
       "| 2010-10-01       | SF6              | Caridad Cemetery | no               | yes              | 10               | 10               | 2010             | 2011             | SWM              | 0                | 11904            | 19.23639         |  0.2115218       |   0.2115218      |\n",
       "| 2010-10-01       | SF6              | Caridad Proper   | no               | yes              | 10               | 10               | 2010             | 2011             | SWM              | 0                | 11904            | 18.60908         |  1.5387880       |   1.5387880      |\n",
       "\n"
      ],
      "text/plain": [
       "  date       source destination      SourceSampled DestSampled SimMonth SimDay\n",
       "1 2010-10-01 SF6    Palanas          no            yes         10       10    \n",
       "2 2010-10-01 SF6    Wangag           no            yes         10       10    \n",
       "3 2010-10-01 SF6    Magbangon        no            yes         10       10    \n",
       "4 2010-10-01 SF6    Cabatoan         no            yes         10       10    \n",
       "5 2010-10-01 SF6    Caridad Cemetery no            yes         10       10    \n",
       "6 2010-10-01 SF6    Caridad Proper   no            yes         10       10    \n",
       "  SimYear YearSampled SimMonsoon DailyParticles ParticlesReleasedDaily dist_km \n",
       "1 2010    2011        SWM        0              11904                  23.70449\n",
       "2 2010    2011        SWM        0              11904                  23.30953\n",
       "3 2010    2011        SWM        0              11904                  21.64823\n",
       "4 2010    2011        SWM        0              11904                  21.46339\n",
       "5 2010    2011        SWM        0              11904                  19.23639\n",
       "6 2010    2011        SWM        0              11904                  18.60908\n",
       "  bearing    direction  \n",
       "1 -9.3254106 350.6745894\n",
       "2 -8.4187632 351.5812368\n",
       "3 -6.1068241 353.8931759\n",
       "4 -5.6582703 354.3417297\n",
       "5  0.2115218   0.2115218\n",
       "6  1.5387880   1.5387880"
      ]
     },
     "metadata": {},
     "output_type": "display_data"
    },
    {
     "data": {
      "text/html": [
       "<table>\n",
       "<thead><tr><th scope=col>date</th><th scope=col>source</th><th scope=col>destination</th><th scope=col>SourceSampled</th><th scope=col>DestSampled</th><th scope=col>SimMonth</th><th scope=col>SimDay</th><th scope=col>SimYear</th><th scope=col>YearSampled</th><th scope=col>SimMonsoon</th><th scope=col>DailyParticles</th><th scope=col>ParticlesReleasedDaily</th><th scope=col>dist_km</th><th scope=col>bearing</th><th scope=col>direction</th></tr></thead>\n",
       "<tbody>\n",
       "\t<tr><td>2012-12-20</td><td>CAI       </td><td>SF3       </td><td>no        </td><td>no        </td><td>12        </td><td>12        </td><td>2012      </td><td>2013      </td><td>NEM       </td><td>0         </td><td>247008    </td><td>37.39691  </td><td>66.84182  </td><td>66.84182  </td></tr>\n",
       "\t<tr><td>2011-01-05</td><td>CAI       </td><td>Poroc Rose</td><td>no        </td><td>yes       </td><td> 1        </td><td> 1        </td><td>2011      </td><td>2011      </td><td>NEM       </td><td>0         </td><td>247008    </td><td>38.59711  </td><td>78.71367  </td><td>78.71367  </td></tr>\n",
       "\t<tr><td>2014-03-06</td><td>CAI       </td><td>Cabatoan  </td><td>no        </td><td>yes       </td><td> 3        </td><td> 3        </td><td>2014      </td><td>2014      </td><td>NEM       </td><td>0         </td><td>247008    </td><td>36.61075  </td><td>59.44175  </td><td>59.44175  </td></tr>\n",
       "\t<tr><td>2011-05-16</td><td>CAI       </td><td>Wangag    </td><td>no        </td><td>yes       </td><td> 5        </td><td> 5        </td><td>2011      </td><td>2011      </td><td>NEM       </td><td>0         </td><td>247008    </td><td>36.43192  </td><td>56.11409  </td><td>56.11409  </td></tr>\n",
       "\t<tr><td>2012-03-01</td><td>CAI       </td><td>Visca     </td><td>no        </td><td>yes       </td><td> 3        </td><td> 3        </td><td>2012      </td><td>2012      </td><td>NEM       </td><td>0         </td><td>247008    </td><td>38.51093  </td><td>80.57726  </td><td>80.57726  </td></tr>\n",
       "\t<tr><td>2011-03-20</td><td>CAI       </td><td>Cabatoan  </td><td>no        </td><td>yes       </td><td> 3        </td><td> 3        </td><td>2011      </td><td>2011      </td><td>NEM       </td><td>0         </td><td>247008    </td><td>36.61075  </td><td>59.44175  </td><td>59.44175  </td></tr>\n",
       "</tbody>\n",
       "</table>\n"
      ],
      "text/latex": [
       "\\begin{tabular}{r|lllllllllllllll}\n",
       " date & source & destination & SourceSampled & DestSampled & SimMonth & SimDay & SimYear & YearSampled & SimMonsoon & DailyParticles & ParticlesReleasedDaily & dist\\_km & bearing & direction\\\\\n",
       "\\hline\n",
       "\t 2012-12-20 & CAI        & SF3        & no         & no         & 12         & 12         & 2012       & 2013       & NEM        & 0          & 247008     & 37.39691   & 66.84182   & 66.84182  \\\\\n",
       "\t 2011-01-05 & CAI        & Poroc Rose & no         & yes        &  1         &  1         & 2011       & 2011       & NEM        & 0          & 247008     & 38.59711   & 78.71367   & 78.71367  \\\\\n",
       "\t 2014-03-06 & CAI        & Cabatoan   & no         & yes        &  3         &  3         & 2014       & 2014       & NEM        & 0          & 247008     & 36.61075   & 59.44175   & 59.44175  \\\\\n",
       "\t 2011-05-16 & CAI        & Wangag     & no         & yes        &  5         &  5         & 2011       & 2011       & NEM        & 0          & 247008     & 36.43192   & 56.11409   & 56.11409  \\\\\n",
       "\t 2012-03-01 & CAI        & Visca      & no         & yes        &  3         &  3         & 2012       & 2012       & NEM        & 0          & 247008     & 38.51093   & 80.57726   & 80.57726  \\\\\n",
       "\t 2011-03-20 & CAI        & Cabatoan   & no         & yes        &  3         &  3         & 2011       & 2011       & NEM        & 0          & 247008     & 36.61075   & 59.44175   & 59.44175  \\\\\n",
       "\\end{tabular}\n"
      ],
      "text/markdown": [
       "\n",
       "| date | source | destination | SourceSampled | DestSampled | SimMonth | SimDay | SimYear | YearSampled | SimMonsoon | DailyParticles | ParticlesReleasedDaily | dist_km | bearing | direction |\n",
       "|---|---|---|---|---|---|---|---|---|---|---|---|---|---|---|\n",
       "| 2012-12-20 | CAI        | SF3        | no         | no         | 12         | 12         | 2012       | 2013       | NEM        | 0          | 247008     | 37.39691   | 66.84182   | 66.84182   |\n",
       "| 2011-01-05 | CAI        | Poroc Rose | no         | yes        |  1         |  1         | 2011       | 2011       | NEM        | 0          | 247008     | 38.59711   | 78.71367   | 78.71367   |\n",
       "| 2014-03-06 | CAI        | Cabatoan   | no         | yes        |  3         |  3         | 2014       | 2014       | NEM        | 0          | 247008     | 36.61075   | 59.44175   | 59.44175   |\n",
       "| 2011-05-16 | CAI        | Wangag     | no         | yes        |  5         |  5         | 2011       | 2011       | NEM        | 0          | 247008     | 36.43192   | 56.11409   | 56.11409   |\n",
       "| 2012-03-01 | CAI        | Visca      | no         | yes        |  3         |  3         | 2012       | 2012       | NEM        | 0          | 247008     | 38.51093   | 80.57726   | 80.57726   |\n",
       "| 2011-03-20 | CAI        | Cabatoan   | no         | yes        |  3         |  3         | 2011       | 2011       | NEM        | 0          | 247008     | 36.61075   | 59.44175   | 59.44175   |\n",
       "\n"
      ],
      "text/plain": [
       "  date       source destination SourceSampled DestSampled SimMonth SimDay\n",
       "1 2012-12-20 CAI    SF3         no            no          12       12    \n",
       "2 2011-01-05 CAI    Poroc Rose  no            yes          1        1    \n",
       "3 2014-03-06 CAI    Cabatoan    no            yes          3        3    \n",
       "4 2011-05-16 CAI    Wangag      no            yes          5        5    \n",
       "5 2012-03-01 CAI    Visca       no            yes          3        3    \n",
       "6 2011-03-20 CAI    Cabatoan    no            yes          3        3    \n",
       "  SimYear YearSampled SimMonsoon DailyParticles ParticlesReleasedDaily dist_km \n",
       "1 2012    2013        NEM        0              247008                 37.39691\n",
       "2 2011    2011        NEM        0              247008                 38.59711\n",
       "3 2014    2014        NEM        0              247008                 36.61075\n",
       "4 2011    2011        NEM        0              247008                 36.43192\n",
       "5 2012    2012        NEM        0              247008                 38.51093\n",
       "6 2011    2011        NEM        0              247008                 36.61075\n",
       "  bearing  direction\n",
       "1 66.84182 66.84182 \n",
       "2 78.71367 78.71367 \n",
       "3 59.44175 59.44175 \n",
       "4 56.11409 56.11409 \n",
       "5 80.57726 80.57726 \n",
       "6 59.44175 59.44175 "
      ]
     },
     "metadata": {},
     "output_type": "display_data"
    }
   ],
   "source": [
    "head(SimConnDFDir)\n",
    "tail(SimConnDFDir)"
   ]
  },
  {
   "cell_type": "code",
   "execution_count": 58,
   "metadata": {},
   "outputs": [
    {
     "data": {
      "text/plain": [
       "   user  system elapsed \n",
       " 11.143  36.439   9.330 "
      ]
     },
     "metadata": {},
     "output_type": "display_data"
    }
   ],
   "source": [
    "#make a long format data frame for particles, use that to sample for kernels and get rough summary stats. this takes forever and makes big files\n",
    "#convert df to a data table so it goes quicker\n",
    "#sample 10% of the \"other\" and Camotes source particles\n",
    "SandFlats <- c(\"SF1\", \"SF2\", \"SF3\", \"SF4\", \"SF5\", \"SF6\") #although we didn't sample the Camotes Islands, I'm going to leave it in the simulation results for now to use it in the GLM of ROMS model. It will be remove in filtering to produce the df that will be used for comparisons to genetic observations\n",
    "\n",
    "SimConnDTDir <- setDT(SimConnDFDir)\n",
    "\n",
    "Subset <- SimConnDTDir[destination !=\"Other\" & source %!in% SandFlats] #source !=\"Other\" \n",
    "\n",
    "system.time(SimConnDTDir2 <- Subset[rep(seq_len(nrow(Subset)), Subset$DailyParticles), 1:ncol(Subset)])\n",
    "\n",
    "SimConnDTDir3 <- SimConnDTDir2[c(SimConnDTDir2[, .I[source != \"Other\"]], sample(SimConnDTDir2[, .I[source == \"Other\"]], length(SimConnDTDir2[, .I[source == \"Other\"]])*.1))]\n",
    "SimConnDTDir3 <- SimConnDTDir2[c(SimConnDTDir3[, .I[source != \"CAI\"]], sample(SimConnDTDir3[, .I[source == \"CAI\"]], length(SimConnDTDir3[, .I[source == \"CAI\"]])*.1))]\n",
    "\n",
    "#fwrite(SampExp, file=\"~/oceanography/script_output/SimConnLongFormYearSampled.csv\", row.names=F)\n"
   ]
  },
  {
   "cell_type": "code",
   "execution_count": 59,
   "metadata": {},
   "outputs": [
    {
     "data": {
      "text/html": [
       "<ol class=list-inline>\n",
       "\t<li>'SF1'</li>\n",
       "\t<li>'SF2'</li>\n",
       "\t<li>'SF3'</li>\n",
       "\t<li>'SF4'</li>\n",
       "\t<li>'SF5'</li>\n",
       "\t<li>'SF6'</li>\n",
       "</ol>\n"
      ],
      "text/latex": [
       "\\begin{enumerate*}\n",
       "\\item 'SF1'\n",
       "\\item 'SF2'\n",
       "\\item 'SF3'\n",
       "\\item 'SF4'\n",
       "\\item 'SF5'\n",
       "\\item 'SF6'\n",
       "\\end{enumerate*}\n"
      ],
      "text/markdown": [
       "1. 'SF1'\n",
       "2. 'SF2'\n",
       "3. 'SF3'\n",
       "4. 'SF4'\n",
       "5. 'SF5'\n",
       "6. 'SF6'\n",
       "\n",
       "\n"
      ],
      "text/plain": [
       "[1] \"SF1\" \"SF2\" \"SF3\" \"SF4\" \"SF5\" \"SF6\""
      ]
     },
     "metadata": {},
     "output_type": "display_data"
    }
   ],
   "source": [
    "SandFlats"
   ]
  },
  {
   "cell_type": "code",
   "execution_count": 50,
   "metadata": {},
   "outputs": [
    {
     "data": {
      "text/html": [
       "<dl class=dl-horizontal>\n",
       "\t<dt>user.self</dt>\n",
       "\t\t<dd>18.79</dd>\n",
       "\t<dt>sys.self</dt>\n",
       "\t\t<dd>37.289</dd>\n",
       "\t<dt>elapsed</dt>\n",
       "\t\t<dd>15.3299999999999</dd>\n",
       "\t<dt>user.child</dt>\n",
       "\t\t<dd>0</dd>\n",
       "\t<dt>sys.child</dt>\n",
       "\t\t<dd>0</dd>\n",
       "</dl>\n"
      ],
      "text/latex": [
       "\\begin{description*}\n",
       "\\item[user.self] 18.79\n",
       "\\item[sys.self] 37.289\n",
       "\\item[elapsed] 15.3299999999999\n",
       "\\item[user.child] 0\n",
       "\\item[sys.child] 0\n",
       "\\end{description*}\n"
      ],
      "text/markdown": [
       "user.self\n",
       ":   18.79sys.self\n",
       ":   37.289elapsed\n",
       ":   15.3299999999999user.child\n",
       ":   0sys.child\n",
       ":   0\n",
       "\n"
      ],
      "text/plain": [
       " user.self   sys.self    elapsed user.child  sys.child \n",
       "    18.790     37.289     15.330      0.000      0.000 "
      ]
     },
     "metadata": {},
     "output_type": "display_data"
    }
   ],
   "source": []
  },
  {
   "cell_type": "code",
   "execution_count": 27,
   "metadata": {},
   "outputs": [
    {
     "data": {
      "text/html": [
       "<table>\n",
       "<thead><tr><th scope=col>YearSampled</th><th scope=col>N</th></tr></thead>\n",
       "<tbody>\n",
       "\t<tr><td>2011  </td><td>386440</td></tr>\n",
       "\t<tr><td>2012  </td><td>411668</td></tr>\n",
       "\t<tr><td>2013  </td><td>338528</td></tr>\n",
       "\t<tr><td>2014  </td><td>356584</td></tr>\n",
       "</tbody>\n",
       "</table>\n"
      ],
      "text/latex": [
       "\\begin{tabular}{r|ll}\n",
       " YearSampled & N\\\\\n",
       "\\hline\n",
       "\t 2011   & 386440\\\\\n",
       "\t 2012   & 411668\\\\\n",
       "\t 2013   & 338528\\\\\n",
       "\t 2014   & 356584\\\\\n",
       "\\end{tabular}\n"
      ],
      "text/markdown": [
       "\n",
       "| YearSampled | N |\n",
       "|---|---|\n",
       "| 2011   | 386440 |\n",
       "| 2012   | 411668 |\n",
       "| 2013   | 338528 |\n",
       "| 2014   | 356584 |\n",
       "\n"
      ],
      "text/plain": [
       "  YearSampled N     \n",
       "1 2011        386440\n",
       "2 2012        411668\n",
       "3 2013        338528\n",
       "4 2014        356584"
      ]
     },
     "metadata": {},
     "output_type": "display_data"
    },
    {
     "data": {
      "text/html": [
       "<table>\n",
       "<thead><tr><th scope=col>source</th><th scope=col>N</th></tr></thead>\n",
       "<tbody>\n",
       "\t<tr><td>SF6              </td><td>26040            </td></tr>\n",
       "\t<tr><td>SF5              </td><td>26040            </td></tr>\n",
       "\t<tr><td>SF4              </td><td>26040            </td></tr>\n",
       "\t<tr><td>SF3              </td><td>26040            </td></tr>\n",
       "\t<tr><td>SF2              </td><td>26040            </td></tr>\n",
       "\t<tr><td>SF1              </td><td>26040            </td></tr>\n",
       "\t<tr><td>Sitio Baybayon   </td><td>26040            </td></tr>\n",
       "\t<tr><td>Haina            </td><td>26040            </td></tr>\n",
       "\t<tr><td>Tamakin Dacot    </td><td>26040            </td></tr>\n",
       "\t<tr><td>Gabas            </td><td>26040            </td></tr>\n",
       "\t<tr><td>Visca            </td><td>26040            </td></tr>\n",
       "\t<tr><td>Pangasugan       </td><td>26040            </td></tr>\n",
       "\t<tr><td>Poroc Rose       </td><td>26040            </td></tr>\n",
       "\t<tr><td>Poroc San Flower </td><td>26040            </td></tr>\n",
       "\t<tr><td>San Agustin      </td><td>26040            </td></tr>\n",
       "\t<tr><td>Sitio Lonas      </td><td>26040            </td></tr>\n",
       "\t<tr><td>Elementary School</td><td>26040            </td></tr>\n",
       "\t<tr><td>Sitio Tugas      </td><td>26040            </td></tr>\n",
       "\t<tr><td>Hicgop South     </td><td>52080            </td></tr>\n",
       "\t<tr><td>Caridad Proper   </td><td>26040            </td></tr>\n",
       "\t<tr><td>Caridad Cemetery </td><td>26040            </td></tr>\n",
       "\t<tr><td>Cabatoan         </td><td>26040            </td></tr>\n",
       "\t<tr><td>Magbangon        </td><td>26040            </td></tr>\n",
       "\t<tr><td>Wangag           </td><td>26040            </td></tr>\n",
       "\t<tr><td>Palanas          </td><td>26040            </td></tr>\n",
       "\t<tr><td>Other            </td><td>    2            </td></tr>\n",
       "\t<tr><td>CAI              </td><td>    2            </td></tr>\n",
       "</tbody>\n",
       "</table>\n"
      ],
      "text/latex": [
       "\\begin{tabular}{r|ll}\n",
       " source & N\\\\\n",
       "\\hline\n",
       "\t SF6               & 26040            \\\\\n",
       "\t SF5               & 26040            \\\\\n",
       "\t SF4               & 26040            \\\\\n",
       "\t SF3               & 26040            \\\\\n",
       "\t SF2               & 26040            \\\\\n",
       "\t SF1               & 26040            \\\\\n",
       "\t Sitio Baybayon    & 26040            \\\\\n",
       "\t Haina             & 26040            \\\\\n",
       "\t Tamakin Dacot     & 26040            \\\\\n",
       "\t Gabas             & 26040            \\\\\n",
       "\t Visca             & 26040            \\\\\n",
       "\t Pangasugan        & 26040            \\\\\n",
       "\t Poroc Rose        & 26040            \\\\\n",
       "\t Poroc San Flower  & 26040            \\\\\n",
       "\t San Agustin       & 26040            \\\\\n",
       "\t Sitio Lonas       & 26040            \\\\\n",
       "\t Elementary School & 26040            \\\\\n",
       "\t Sitio Tugas       & 26040            \\\\\n",
       "\t Hicgop South      & 52080            \\\\\n",
       "\t Caridad Proper    & 26040            \\\\\n",
       "\t Caridad Cemetery  & 26040            \\\\\n",
       "\t Cabatoan          & 26040            \\\\\n",
       "\t Magbangon         & 26040            \\\\\n",
       "\t Wangag            & 26040            \\\\\n",
       "\t Palanas           & 26040            \\\\\n",
       "\t Other             &     2            \\\\\n",
       "\t CAI               &     2            \\\\\n",
       "\\end{tabular}\n"
      ],
      "text/markdown": [
       "\n",
       "| source | N |\n",
       "|---|---|\n",
       "| SF6               | 26040             |\n",
       "| SF5               | 26040             |\n",
       "| SF4               | 26040             |\n",
       "| SF3               | 26040             |\n",
       "| SF2               | 26040             |\n",
       "| SF1               | 26040             |\n",
       "| Sitio Baybayon    | 26040             |\n",
       "| Haina             | 26040             |\n",
       "| Tamakin Dacot     | 26040             |\n",
       "| Gabas             | 26040             |\n",
       "| Visca             | 26040             |\n",
       "| Pangasugan        | 26040             |\n",
       "| Poroc Rose        | 26040             |\n",
       "| Poroc San Flower  | 26040             |\n",
       "| San Agustin       | 26040             |\n",
       "| Sitio Lonas       | 26040             |\n",
       "| Elementary School | 26040             |\n",
       "| Sitio Tugas       | 26040             |\n",
       "| Hicgop South      | 52080             |\n",
       "| Caridad Proper    | 26040             |\n",
       "| Caridad Cemetery  | 26040             |\n",
       "| Cabatoan          | 26040             |\n",
       "| Magbangon         | 26040             |\n",
       "| Wangag            | 26040             |\n",
       "| Palanas           | 26040             |\n",
       "| Other             |     2             |\n",
       "| CAI               |     2             |\n",
       "\n"
      ],
      "text/plain": [
       "   source            N    \n",
       "1  SF6               26040\n",
       "2  SF5               26040\n",
       "3  SF4               26040\n",
       "4  SF3               26040\n",
       "5  SF2               26040\n",
       "6  SF1               26040\n",
       "7  Sitio Baybayon    26040\n",
       "8  Haina             26040\n",
       "9  Tamakin Dacot     26040\n",
       "10 Gabas             26040\n",
       "11 Visca             26040\n",
       "12 Pangasugan        26040\n",
       "13 Poroc Rose        26040\n",
       "14 Poroc San Flower  26040\n",
       "15 San Agustin       26040\n",
       "16 Sitio Lonas       26040\n",
       "17 Elementary School 26040\n",
       "18 Sitio Tugas       26040\n",
       "19 Hicgop South      52080\n",
       "20 Caridad Proper    26040\n",
       "21 Caridad Cemetery  26040\n",
       "22 Cabatoan          26040\n",
       "23 Magbangon         26040\n",
       "24 Wangag            26040\n",
       "25 Palanas           26040\n",
       "26 Other                 2\n",
       "27 CAI                   2"
      ]
     },
     "metadata": {},
     "output_type": "display_data"
    }
   ],
   "source": [
    "#make sure all years are represented. looks good.\n",
    "SampExp[, .(.N), by = .(YearSampled)]\n",
    "SimConnDTDir[, .(.N), by = .(source)]"
   ]
  },
  {
   "cell_type": "markdown",
   "metadata": {},
   "source": [
    "__plot distances in each year (simulated and sampled) and season__"
   ]
  },
  {
   "cell_type": "code",
   "execution_count": 30,
   "metadata": {},
   "outputs": [],
   "source": [
    "#plot, can filter for only one year too- %>% filter(DistTotalParticlesAll < 5e7)\n",
    "AnnualDistanceScatterSimYear <- ggplot(data=SimConnDFDir2 , aes(x=dist_km, y=DistTotalParticlesAnnual, color=as.character(SimYear), fill=as.character(SimYear)), alpha=0.5) +\n",
    "    geom_point(size=0.2)+\n",
    "    scale_y_log10() +\n",
    "    geom_smooth() +\n",
    "    xlab(\"Distance (km)\") +\n",
    "    ylab(\"Log10 Total particles recruiting\") \n",
    "#ggsave(filename=\"AnnualDistanceScatterSimYear.png\", plot=AnnualDistanceScatterSimYear, path=\"~/oceanography/figures\")\n",
    "#AnnualDistanceScatterSimYear"
   ]
  },
  {
   "cell_type": "code",
   "execution_count": 31,
   "metadata": {},
   "outputs": [],
   "source": [
    "#plot, can filter for only one year too- %>% filter(DistTotalParticlesAll < 5e7)\n",
    "AnnualDistanceScatterSampYear <- ggplot(data=SimConnDFDir2 , aes(x=dist_km, y=DistTotalParticlesAnnual, color=as.character(YearSampled), fill=as.character(YearSampled)), alpha=0.5) +\n",
    "    geom_point(size=0.2)+\n",
    "    scale_y_log10() +\n",
    "    geom_smooth() +\n",
    "    xlab(\"Distance (km)\") +\n",
    "    ylab(\"Log10 Total particles recruiting\") \n",
    "#ggsave(filename=\"AnnualDistanceScatterSampYear.png\", plot=AnnualDistanceScatterSampYear, path=\"~/oceanography/figures\")\n",
    "#AnnualDistanceScatterSampYear"
   ]
  },
  {
   "cell_type": "code",
   "execution_count": 32,
   "metadata": {},
   "outputs": [],
   "source": [
    "#plot, can filter for only one year too- %>% filter(DistTotalParticlesAll < 5e7)\n",
    "DistanceScatterSimMonsoon <- ggplot(data=SimConnDFDir2 , aes(x=dist_km, y=DistTotalParticlesSeasonal, color=as.character(SimMonsoon), fill=as.character(SimMonsoon)), alpha=0.5) +\n",
    "    geom_point(size=0.2)+\n",
    "    scale_y_log10() +\n",
    "    geom_smooth() +\n",
    "    xlab(\"Distance (km)\") +\n",
    "    ylab(\"Log10 Total particles recruiting\") \n",
    "#ggsave(filename=\"DistanceScatterSimMonsoon.png\", plot=DistanceScatterSimMonsoon, path=\"~/oceanography/figures\")\n",
    "#DistanceScatterSimMonsoon"
   ]
  },
  {
   "cell_type": "markdown",
   "metadata": {},
   "source": [
    "__plot directions in each year (simulated and sampled) and season__"
   ]
  },
  {
   "cell_type": "code",
   "execution_count": 33,
   "metadata": {},
   "outputs": [
    {
     "name": "stderr",
     "output_type": "stream",
     "text": [
      "Warning message:\n",
      "“Ignoring unknown parameters: text”Warning message:\n",
      "“Ignoring unknown parameters: text”Warning message:\n",
      "“Ignoring unknown parameters: text”Warning message:\n",
      "“Ignoring unknown parameters: text”Warning message:\n",
      "“Ignoring unknown parameters: text”Warning message:\n",
      "“Ignoring unknown parameters: text”"
     ]
    }
   ],
   "source": [
    "DirScatterSimMonsoon <- ggplot(data=SimConnDFDir2 , aes(x=direction, y=DirTotalParticlesSeasonal, color=as.character(SimMonsoon), fill=as.character(SimMonsoon)), alpha=0.5) +\n",
    "    geom_point(size=0.2)+\n",
    "    scale_y_log10() +\n",
    "    geom_smooth() +\n",
    "    xlab(\"Compass bearing\") +\n",
    "    ylab(\"Log10 Total particles recruiting\") +\n",
    "    geom_vline(xintercept=0, colour=\"black\", linetype=\"dashed\") + #add in lines for compass bearings so it's easier to read NORTH 0\n",
    "    geom_text(aes(x=0, label=\"N\", y=.1, hjust=-0.25), colour=\"black\", text=element_text(size=11)) +\n",
    "    geom_vline(xintercept=360, colour=\"black\", linetype=\"dashed\") + #NORTH 360\n",
    "    geom_text(aes(x=360, label=\"N\", y=.1, hjust=-0.25), colour=\"black\", text=element_text(size=11)) +        \n",
    "    geom_vline(xintercept=90, colour=\"black\", linetype=\"dashed\") + #East\n",
    "    geom_text(aes(x=90, label=\"E\", y=.1, hjust=-0.25), colour=\"black\", text=element_text(size=11)) +        \n",
    "    geom_vline(xintercept=180, colour=\"black\", linetype=\"dashed\") + #South\n",
    "    geom_text(aes(x=180, label=\"S\", y=.1, hjust=-0.25), colour=\"black\", text=element_text(size=11)) +        \n",
    "    geom_vline(xintercept=270, colour=\"black\", linetype=\"dashed\") + #West\n",
    "    geom_text(aes(x=270, label=\"W\", y=.1, hjust=-0.25), colour=\"black\", text=element_text(size=11)) +        \n",
    "    geom_vline(xintercept=-10, colour=\"black\", linetype=\"dashed\") + #self-recruitment\n",
    "    geom_text(aes(x=-10, label=\"Self\", y=.1, angle=90, vjust=-1), colour=\"black\", text=element_text(size=11))\n",
    "#DirScatterSimMonsoon\n",
    "\n",
    "#ggsave(filename=\"DirScatterSimMonsoon.png\", plot=DirScatterSimMonsoon, path=\"~/oceanography/figures\")\n"
   ]
  },
  {
   "cell_type": "code",
   "execution_count": 35,
   "metadata": {},
   "outputs": [
    {
     "name": "stderr",
     "output_type": "stream",
     "text": [
      "Warning message:\n",
      "“Ignoring unknown parameters: text”Warning message:\n",
      "“Ignoring unknown parameters: text”Warning message:\n",
      "“Ignoring unknown parameters: text”Warning message:\n",
      "“Ignoring unknown parameters: text”Warning message:\n",
      "“Ignoring unknown parameters: text”Warning message:\n",
      "“Ignoring unknown parameters: text”"
     ]
    }
   ],
   "source": [
    "\n",
    "DirScatterSimYear <- ggplot(data=SimConnDFDir2 , aes(x=direction, y=DirTotalParticlesAnnual, color=as.character(SimYear), fill=as.character(SimYear)), alpha=0.5) +\n",
    "    geom_point(size=0.2)+\n",
    "    scale_y_log10() +\n",
    "    geom_smooth() +\n",
    "    xlab(\"Compass bearing\") +\n",
    "    ylab(\"Log10 Total particles recruiting\") +\n",
    "    geom_vline(xintercept=0, colour=\"black\", linetype=\"dashed\") + #add in lines for compass bearings so it's easier to read NORTH 0\n",
    "    geom_text(aes(x=0, label=\"N\", y=.1, hjust=-0.25), colour=\"black\", text=element_text(size=11)) +\n",
    "    geom_vline(xintercept=360, colour=\"black\", linetype=\"dashed\") + #NORTH 360\n",
    "    geom_text(aes(x=360, label=\"N\", y=.1, hjust=-0.25), colour=\"black\", text=element_text(size=11)) +        \n",
    "    geom_vline(xintercept=90, colour=\"black\", linetype=\"dashed\") + #East\n",
    "    geom_text(aes(x=90, label=\"E\", y=.1, hjust=-0.25), colour=\"black\", text=element_text(size=11)) +        \n",
    "    geom_vline(xintercept=180, colour=\"black\", linetype=\"dashed\") + #South\n",
    "    geom_text(aes(x=180, label=\"S\", y=.1, hjust=-0.25), colour=\"black\", text=element_text(size=11)) +        \n",
    "    geom_vline(xintercept=270, colour=\"black\", linetype=\"dashed\") + #West\n",
    "    geom_text(aes(x=270, label=\"W\", y=.1, hjust=-0.25), colour=\"black\", text=element_text(size=11)) +        \n",
    "    geom_vline(xintercept=-10, colour=\"black\", linetype=\"dashed\") + #self-recruitment\n",
    "    geom_text(aes(x=-10, label=\"Self\", y=.1, angle=90, vjust=-1), colour=\"black\", text=element_text(size=11))\n",
    "#DirScatterSimYear\n",
    "#ggsave(filename=\"DirScatterSimYear.png\", plot=DirScatterSimYear, path=\"~/oceanography/figures\")\n"
   ]
  },
  {
   "cell_type": "code",
   "execution_count": 36,
   "metadata": {},
   "outputs": [
    {
     "name": "stderr",
     "output_type": "stream",
     "text": [
      "Warning message:\n",
      "“Ignoring unknown parameters: text”Warning message:\n",
      "“Ignoring unknown parameters: text”Warning message:\n",
      "“Ignoring unknown parameters: text”Warning message:\n",
      "“Ignoring unknown parameters: text”Warning message:\n",
      "“Ignoring unknown parameters: text”Warning message:\n",
      "“Ignoring unknown parameters: text”"
     ]
    }
   ],
   "source": [
    "\n",
    "DirScatterSampYear <- ggplot(data=SimConnDFDir2 , aes(x=direction, y=DirTotalParticlesAnnual, color=as.character(YearSampled), fill=as.character(YearSampled)), alpha=0.5) +\n",
    "    geom_point(size=0.2)+\n",
    "    scale_y_log10() +\n",
    "    geom_smooth() +\n",
    "    xlab(\"Compass bearing\") +\n",
    "    ylab(\"Log10 Total particles recruiting\") +\n",
    "    geom_vline(xintercept=0, colour=\"black\", linetype=\"dashed\") + #add in lines for compass bearings so it's easier to read NORTH 0\n",
    "    geom_text(aes(x=0, label=\"N\", y=.1, hjust=-0.25), colour=\"black\", text=element_text(size=11)) +\n",
    "    geom_vline(xintercept=360, colour=\"black\", linetype=\"dashed\") + #NORTH 360\n",
    "    geom_text(aes(x=360, label=\"N\", y=.1, hjust=-0.25), colour=\"black\", text=element_text(size=11)) +        \n",
    "    geom_vline(xintercept=90, colour=\"black\", linetype=\"dashed\") + #East\n",
    "    geom_text(aes(x=90, label=\"E\", y=.1, hjust=-0.25), colour=\"black\", text=element_text(size=11)) +        \n",
    "    geom_vline(xintercept=180, colour=\"black\", linetype=\"dashed\") + #South\n",
    "    geom_text(aes(x=180, label=\"S\", y=.1, hjust=-0.25), colour=\"black\", text=element_text(size=11)) +        \n",
    "    geom_vline(xintercept=270, colour=\"black\", linetype=\"dashed\") + #West\n",
    "    geom_text(aes(x=270, label=\"W\", y=.1, hjust=-0.25), colour=\"black\", text=element_text(size=11)) +        \n",
    "    geom_vline(xintercept=-10, colour=\"black\", linetype=\"dashed\") + #self-recruitment\n",
    "    geom_text(aes(x=-10, label=\"Self\", y=.1, angle=90, vjust=-1), colour=\"black\", text=element_text(size=11))\n",
    "#DirScatterSimYear\n",
    "#ggsave(filename=\"DirScatterSampYear.png\", plot=DirScatterSampYear, path=\"~/oceanography/figures\")\n"
   ]
  },
  {
   "cell_type": "code",
   "execution_count": 37,
   "metadata": {
    "scrolled": false
   },
   "outputs": [],
   "source": [
    "#find and replace NEM/SWM\n",
    "SimMonsoonNormRecruit$source <-factor(SimMonsoonNormRecruit$source, levels=c(\"Palanas\", \"Wangag\", \"SF1\", \"Magbangon\", \"Cabatoan\",\"SF2\", \"Caridad Cemetery\", \"Caridad Proper\", \"SF3\", \"Hicgop South\",  \"Sitio Tugas\", \"Elementary School\", \"SF4\", \"Sitio Lonas\", \"San Agustin\", \"Poroc San Flower\", \"Poroc Rose\", \"Visca\", \"SF5\", \"Gabas\", \"SF6\", \"Tamakin Dacot\", \"Haina\", \"Sitio Baybayon\", \"CAI\"))\n",
    "SimMonsoonNormRecruit$destination <-factor(SimMonsoonNormRecruit$destination, levels=c(\"Palanas\", \"Wangag\", \"SF1\", \"Magbangon\", \"Cabatoan\",\"SF2\", \"Caridad Cemetery\", \"Caridad Proper\", \"SF3\", \"Hicgop South\",  \"Sitio Tugas\", \"Elementary School\", \"SF4\", \"Sitio Lonas\", \"San Agustin\", \"Poroc San Flower\", \"Poroc Rose\", \"Visca\", \"SF5\", \"Gabas\", \"SF6\", \"Tamakin Dacot\", \"Haina\", \"Sitio Baybayon\", \"CAI\"))\n",
    "\n",
    "SWMTotal <- ggplot(SimMonsoonNormRecruit %>% group_by(source, destination) %>% filter(SimMonsoon==\"SWM\" & source !=\"Other\" & destination != \"Other\", source !=\"CAI\" & destination != \"CAI\"), aes(source, destination)) + #filter SimMonsoon==\"SWM\" & \n",
    "    geom_tile(aes(fill = SourceNormRecruitment), color = \"grey40\")+\n",
    "    coord_fixed(ratio = 1) +\n",
    "    theme(axis.text.x=element_text(angle=45,hjust=1))+\n",
    "    scale_fill_viridis(option=\"viridis\", name=\"Source norm frac\") +\n",
    "ggtitle(\"Southwest Monsoon\")\n",
    "#SWMTotal\n",
    "#ggsave(filename=\"SWMTotalNoCAI.png\", plot=SWMTotal, path=\"~/oceanography/figures\")\n"
   ]
  },
  {
   "cell_type": "code",
   "execution_count": 38,
   "metadata": {},
   "outputs": [],
   "source": [
    "\n",
    "SimMonsoonNormRecruitCV$source <-factor(SimMonsoonNormRecruitCV$source, levels=c(\"Palanas\", \"Wangag\", \"SF1\", \"Magbangon\", \"Cabatoan\",\"SF2\", \"Caridad Cemetery\", \"Caridad Proper\", \"SF3\", \"Hicgop South\",  \"Sitio Tugas\", \"Elementary School\", \"SF4\", \"Sitio Lonas\", \"San Agustin\", \"Poroc San Flower\", \"Poroc Rose\", \"Visca\", \"SF5\", \"Gabas\", \"SF6\", \"Tamakin Dacot\", \"Haina\", \"Sitio Baybayon\", \"CAI\"))\n",
    "SimMonsoonNormRecruitCV$destination <-factor(SimMonsoonNormRecruitCV$destination, levels=c(\"Palanas\", \"Wangag\", \"SF1\", \"Magbangon\", \"Cabatoan\",\"SF2\", \"Caridad Cemetery\", \"Caridad Proper\", \"SF3\", \"Hicgop South\",  \"Sitio Tugas\", \"Elementary School\", \"SF4\", \"Sitio Lonas\", \"San Agustin\", \"Poroc San Flower\", \"Poroc Rose\", \"Visca\", \"SF5\", \"Gabas\", \"SF6\", \"Tamakin Dacot\", \"Haina\", \"Sitio Baybayon\", \"CAI\"))\n",
    "\n",
    "MonsoonCV <- ggplot(SimMonsoonNormRecruitCV %>% group_by(source, destination) %>% filter(source !=\"Other\" & destination != \"Other\", source !=\"CAI\" & destination != \"CAI\"), aes(source, destination)) + #filter SimMonsoon==\"SWM\" & \n",
    "    geom_tile(aes(fill = CV), color = \"grey40\")+\n",
    "    coord_fixed(ratio = 1) +\n",
    "    theme(axis.text.x=element_text(angle=45,hjust=1))+\n",
    "    scale_fill_viridis(option=\"viridis\", name=\"CV\") +\n",
    "ggtitle(\"Monsoon CV\")\n",
    "#MonsoonCV \n",
    "#ggsave(filename=\"MonsoonCVNoCAI.png\", plot=MonsoonCV, path=\"~/oceanography/figures\")\n"
   ]
  },
  {
   "cell_type": "code",
   "execution_count": 39,
   "metadata": {
    "scrolled": true
   },
   "outputs": [
    {
     "name": "stderr",
     "output_type": "stream",
     "text": [
      "`summarise()` regrouping output by 'source' (override with `.groups` argument)\n"
     ]
    }
   ],
   "source": [
    "SimAnnualNormRecruit$source <-factor(SimAnnualNormRecruit$source, levels=c(\"Palanas\", \"Wangag\", \"SF1\", \"Magbangon\", \"Cabatoan\",\"SF2\", \"Caridad Cemetery\", \"Caridad Proper\", \"SF3\", \"Hicgop South\",  \"Sitio Tugas\", \"Elementary School\", \"SF4\", \"Sitio Lonas\", \"San Agustin\", \"Poroc San Flower\", \"Poroc Rose\", \"Visca\", \"SF5\", \"Gabas\", \"SF6\", \"Tamakin Dacot\", \"Haina\", \"Sitio Baybayon\", \"CAI\"))\n",
    "SimAnnualNormRecruit$destination <-factor(SimAnnualNormRecruit$destination, levels=c(\"Palanas\", \"Wangag\", \"SF1\", \"Magbangon\", \"Cabatoan\",\"SF2\", \"Caridad Cemetery\", \"Caridad Proper\", \"SF3\", \"Hicgop South\",  \"Sitio Tugas\", \"Elementary School\", \"SF4\", \"Sitio Lonas\", \"San Agustin\", \"Poroc San Flower\", \"Poroc Rose\", \"Visca\", \"SF5\", \"Gabas\", \"SF6\", \"Tamakin Dacot\", \"Haina\", \"Sitio Baybayon\", \"CAI\"))\n",
    "\n",
    "AnnualRec <- ggplot(SimAnnualNormRecruit %>% group_by(source, destination) %>% filter(source !=\"Other\" & destination != \"Other\", source !=\"CAI\" & destination != \"CAI\")%>% summarise(AvgRec=mean(SourceNormRecruitment)), aes(source, destination)) + #filter SimYear==\"SWM\" & \n",
    "    geom_tile(aes(fill = AvgRec), color = \"grey40\")+\n",
    "    coord_fixed(ratio = 1) +\n",
    "    theme(axis.text.x=element_text(angle=45,hjust=1))+\n",
    "    scale_fill_viridis(option=\"viridis\", name=\"Source norm frac\") +\n",
    "ggtitle(\"Annual\")\n",
    "#AnnualRec\n",
    "#ggsave(filename=\"AnnualRecNoCAI.png\", plot=AnnualRec, path=\"~/oceanography/figures\")\n"
   ]
  },
  {
   "cell_type": "code",
   "execution_count": 40,
   "metadata": {},
   "outputs": [],
   "source": [
    "test <- SimConnDFMeta %>% filter(SourceSampled==\"yes\" & DestSampled==\"yes\") %>% distinct(source, destination)"
   ]
  },
  {
   "cell_type": "code",
   "execution_count": 41,
   "metadata": {},
   "outputs": [
    {
     "name": "stderr",
     "output_type": "stream",
     "text": [
      "`summarise()` regrouping output by 'source' (override with `.groups` argument)\n"
     ]
    },
    {
     "data": {
      "text/html": [
       "49"
      ],
      "text/latex": [
       "49"
      ],
      "text/markdown": [
       "49"
      ],
      "text/plain": [
       "[1] 49"
      ]
     },
     "metadata": {},
     "output_type": "display_data"
    }
   ],
   "source": [
    "AllSitesPar <- left_join(test, ObsDisp, by=c(source=\"par_site\", destination=\"offs_site\")) %>%\n",
    "    dplyr::select(-year) %>%\n",
    "    mutate(obs_disp=ifelse(is.na(obs_disp), 0, obs_disp)) %>%\n",
    "    group_by(source, destination) %>%\n",
    "    summarise(TotalObsDisp=sum(obs_disp))\n",
    "sum(AllSitesPar$TotalObsDisp)"
   ]
  },
  {
   "cell_type": "code",
   "execution_count": 43,
   "metadata": {},
   "outputs": [],
   "source": [
    "#parentage observations\n",
    "\n",
    "AnnualParentage <- ggplot(AllSitesPar, aes(source, destination)) + #filter SimYear==\"SWM\" & \n",
    "    geom_tile(aes(fill = TotalObsDisp), color = \"grey40\")+\n",
    "    coord_fixed(ratio = 1) +\n",
    "    theme(axis.text.x=element_text(angle=45,hjust=1))+\n",
    "    scale_fill_viridis(option=\"viridis\", name=\"Total observations\") +\n",
    "ggtitle(\"Parentage 2012-2018\")\n",
    "#AnnualParentage\n",
    "#ggsave(filename=\"AnnualParentage.png\", plot=AnnualParentage, path=\"~/oceanography/figures\")\n"
   ]
  },
  {
   "cell_type": "code",
   "execution_count": null,
   "metadata": {},
   "outputs": [],
   "source": []
  },
  {
   "cell_type": "code",
   "execution_count": null,
   "metadata": {},
   "outputs": [],
   "source": []
  },
  {
   "cell_type": "code",
   "execution_count": null,
   "metadata": {},
   "outputs": [],
   "source": []
  },
  {
   "cell_type": "code",
   "execution_count": null,
   "metadata": {},
   "outputs": [],
   "source": []
  },
  {
   "cell_type": "code",
   "execution_count": null,
   "metadata": {},
   "outputs": [],
   "source": []
  },
  {
   "cell_type": "code",
   "execution_count": null,
   "metadata": {},
   "outputs": [],
   "source": []
  },
  {
   "cell_type": "code",
   "execution_count": null,
   "metadata": {},
   "outputs": [],
   "source": [
    "cv_df <- cv_df %>%\n",
    "    mutate(org_site= ifelse(org_site==\"Tamakin Dacot\", \"Tomakin Dako\", org_site)) %>%\n",
    "    mutate(dest_site= ifelse(dest_site==\"Tamakin Dacot\", \"Tomakin Dako\", dest_site))\n",
    "#\n",
    "#big-small\n",
    "cv_df$org_site <-factor(cv_df$org_site, levels=sites)\n",
    "cv_df$dest_site <-factor(cv_df$dest_site, levels=sites)\n",
    "\n",
    "\n",
    "#name <- expression(r ^2)\n",
    "#sd <- sd_df4_dist$dist_mid_to_mid_km\n",
    "#plot\n",
    "cv_plot <- ggplot(cv_df, aes(org_site, dest_site)) +\n",
    "    geom_tile(aes(fill=cv)) + \n",
    "    coord_fixed() +\n",
    "    scale_fill_viridis(option=\"viridis\", name=\"CV\")+#name=\"Standard\\ndeviation\\n\") + \n",
    "    ylab(\"Destination Site\") +\n",
    "    xlab(\"Origin Site\") +\n",
    "    coord_fixed(ratio = 1) +\n",
    "    theme(axis.text.x=element_text(angle=45,hjust=1)) +\n",
    "    theme(plot.title = element_text(hjust = 1))+\n",
    "    theme(legend.text=element_text(size=10))+\n",
    "    theme(legend.title=element_text(size=10))+ \n",
    "    theme(panel.border = element_blank(), panel.grid.major = element_blank(),\n",
    "    panel.grid.minor = element_blank())\n",
    "\n",
    "   # scale_x_continuous(breaks=c(0, 10, 20, 27))    #scale_colour_continuous(guide = \"colorbar\", guides(fill = guide_legend(\"title\")))\n",
    "    \n",
    "cv_plot"
   ]
  },
  {
   "cell_type": "code",
   "execution_count": null,
   "metadata": {},
   "outputs": [],
   "source": []
  }
 ],
 "metadata": {
  "kernelspec": {
   "display_name": "R",
   "language": "R",
   "name": "ir"
  },
  "language_info": {
   "codemirror_mode": "r",
   "file_extension": ".r",
   "mimetype": "text/x-r-source",
   "name": "R",
   "pygments_lexer": "r",
   "version": "3.6.1"
  }
 },
 "nbformat": 4,
 "nbformat_minor": 4
}
