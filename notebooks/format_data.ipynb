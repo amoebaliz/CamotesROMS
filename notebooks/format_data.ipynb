{
 "cells": [
  {
   "cell_type": "code",
   "execution_count": 1,
   "metadata": {},
   "outputs": [
    {
     "data": {
      "text/html": [
       "0"
      ],
      "text/latex": [
       "0"
      ],
      "text/markdown": [
       "0"
      ],
      "text/plain": [
       "[1] 0"
      ]
     },
     "metadata": {},
     "output_type": "display_data"
    },
    {
     "data": {
      "text/html": [
       "0"
      ],
      "text/latex": [
       "0"
      ],
      "text/markdown": [
       "0"
      ],
      "text/plain": [
       "[1] 0"
      ]
     },
     "metadata": {},
     "output_type": "display_data"
    }
   ],
   "source": [
    "Packages <- c(\"dplyr\",  \"nleqslv\", \"broom\",\"cubature\", \"geosphere\", \"data.table\",  \"ggplot2\", \"bbmle\", \"stringr\",  \"lubridate\", \"RColorBrewer\", \"viridis\")\n",
    "\n",
    "invisible(suppressPackageStartupMessages(lapply(Packages, library, character.only = TRUE)))\n",
    "\n",
    "setwd('/local/home/katrinac/oceanography')\n",
    "\"%!in%\" <- function(x,table) match(x,table, nomatch = 0) == 0\n",
    "source(\"~/parentage/kernel_fitting/1340_loci/functions/ll_kt_both_bbmle.R\")\n",
    "source(\"~/parentage/kernel_fitting/1340_loci/functions/ll_kt_both_grid_search.R\")\n",
    "source(\"~/oceanography/scripts/neg_LL_biophys.R\")\n",
    "source(\"~/parentage/kernel_fitting/1340_loci/functions/GenGausKernInt_sum0.5.R\") #integrate_kernel_sum1\n",
    "source(\"~/parentage/kernel_fitting/1340_loci/functions/GenGausKernInt_sum1.R\")\n",
    "source(\"~/parentage/kernel_fitting/1340_loci/functions/cdf_solve.R\") #median\n",
    "source(\"~/parentage/kernel_fitting/1340_loci/functions/cdf_solve90.R\") #dist 90% retained\n",
    "\n",
    "#source(\"~/oceanography/scripts/PredictedProportions.R\")\n",
    "\n",
    "#read in the kernel fitting summary\n",
    "kernels <- fread(file=\"~/parentage/kernel_fitting/1340_loci/final_results/tables/kernel_fitting_summary.csv\")\n",
    "kernel2012_14 <- fread(file=\"~/oceanography/empirical_data/genetics/GenKernelsForROMSComp2012-14.csv\")\n",
    "\n",
    "#read in the centroids adjusted for the simulation, so the Magbangons combined \n",
    "#centroids <- fread(file=\"~/oceanography/script_output/SurveyData/SimulationCentroids.csv\")\n",
    "Centroids <- fread(file=\"~/oceanography/empirical_data/site_centroids_SimTest.csv\") %>%\n",
    "    arrange(site)\n",
    "#setorder(Centroids, site)#warning! This sets order based on site, and then lat/lon. So the table is not alphabetical by site, but that's fine as long as all of the \"sampled_reef\" vectors reflect this, so that reef_sizes, distance, and sampled_reefs match up by row/col index \n",
    "#read in the table with number of recruits sampled at each site for each year\n",
    "AnnualRecsSamp <- fread(file=\"~/oceanography/script_output/SurveyData/AnnualRecruitsSampled.csv\")\n",
    "#read in the table of the proportion of anemones sampled at each site for each year\n",
    "PropSamp <- unique(fread(file=\"~/oceanography/script_output/SurveyData/ProportionHabitatSampled.csv\")[\n",
    "    , .(site, year=end_year, prop_anem_samp=total_prop_hab_sampled_anems_tidied)][ #select and rename columns with the tideied data to use\n",
    "    site %like% \"Magbangon\", site := \"Magbangon\"][ #collapse Magbangon values\n",
    "    , prop_anem_samp := sum(prop_anem_samp), by=c(\"site\", \"year\")], by=c(\"site\", \"year\"))[ #collapse magbangons to match ROMS data\n",
    "    site==\"Sitio Lonas\" & year %in% c(2012, 2013, 2014), prop_anem_samp :=1][site==\"Caridad Proper\" & year %in% c(2013, 2014), prop_anem_samp :=1]\n",
    "#add in the numbers of particles seeded at each site\n",
    "SeededParticles <- fread(\"~/oceanography/ROMS/data/Particles_Per_Release_Site_Renamed.csv\")\n",
    "setnames(SeededParticles,c(\"source\", \"daily_particles_released\")) \n",
    "#DateJoin <- SeededParticles[DateJoin, on=\"source\"][, particles_released_daily := as.numeric(particles_released_daily)] \n",
    "\n",
    "#make vectors defining sites we didn't sample, but that are in the model, and the sandflats specifically \n",
    "unsampled_sites <- c(\"SF1\", \"SF2\", \"SF3\", \"SF4\", \"SF5\", \"SF6\", \"Pangasugan\", \"Other\", \"CAI\") \n",
    "sand_flats <- c(\"SF1\", \"SF2\", \"SF3\", \"SF4\", \"SF5\", \"SF6\") \n",
    "unrealistic_sources <- c(\"SF1\", \"SF2\", \"SF3\", \"SF4\", \"SF5\", \"SF6\", \"Pangasugan\") \n",
    "#make the constant inputs for the kernel fitting function\n",
    "#distance matrix using the centroids with combined Magbangon\n",
    "### List of source locations\n",
    "SitesSource <- Centroids\n",
    "\n",
    "### List of destination locations\n",
    "SitesDest <- Centroids\n",
    "\n",
    "DistMatm <- distm(SitesSource[,c('lon','lat')], SitesSource[,c('lon','lat')], fun=distVincentyEllipsoid)\n",
    "Distances <- DistMatm*10^-3\n",
    "#read in the reef areas for the kernel fitting\n",
    "Area <- fread(\"~/oceanography/empirical_data/site_area_header_nonsurveyed_simulation_kernels_test.csv\") %>%\n",
    "    arrange(site) %>%\n",
    "    filter(site %!in% c(\"near_north_full1\", \"near_north_full2\", \"near_north_full3\", \"near_south_full1\", \"near_south_full2\", \"near_south_full3\")) %>%\n",
    "    mutate(kmsq=msq*10^-6)# %>%\n",
    "    #select(kmsq) #need to uncomment for functions to work\n",
    "#setorder(Area, site)\n",
    "reef_sizes <- as.matrix(Area$kmsq)\n",
    "\n",
    "#make a site index table, use this for Sampled_reefs input in kernel fitting\n",
    "SiteIndex <- unique(Centroids %>% arrange(site), by=\"site\")[, index := .I] #add the row number as the unique site index, leave CAI in if fitting a kernel \n",
    "SiteIndexBioPhys <- unique(Centroids %>% arrange(site), by=\"site\")[site != \"CAI\"][, index := .I] #add the row number as the unique site index, take CAI out for biophysical likelihood function\n",
    "\n",
    "#make a table with the survey information for each site (how many fish sampled, prop anems sampled, total number of anems at site)\n",
    "SurveyData <- AnnualRecsSamp[PropSamp, on=.(year, site)][#join the sampling tables together\n",
    "    is.na(n_offs_gen), n_offs_gen := 0]#change NA's to 0\n",
    "#setnames(SurveyData, c(\"PropAnemSamp\", \"TotalAnems\"), c(\"prop_anem_samp\", \"total_anems\"))\n",
    "#setkey(SurveyData, site)\n",
    "#check all sites are represented in centroids and area (and indirectly distances, which comes from centroids)\n",
    "#Area[site %!in% centroids$site] #should be nothing\n",
    "\n",
    "#Allison's abundance time series data \n",
    "#download.file(url = \"https://github.com/pinskylab/Clownfish_persistence/blob/master/Data/Script_outputs/females_df_F.RData?raw=true\", destfile = \"~/oceanography/empirical_data/genetics/females_df_F.RData\")\n",
    "load(\"~/oceanography/empirical_data/genetics/females_df_F.RData\")\n",
    "Abundance <- as.data.table(females_df_F)\n",
    "setnames(Abundance, \"nF\", \"num_females\")\n",
    "Abundance <- unique(Abundance[site %like% \"Magbangon\", site := \"Magbangon\"][ #collapse Magbangon values\n",
    "            , num_females := sum(num_females), by=c(\"site\", \"year\")], by=c(\"site\", \"year\"))\n",
    "#join the survey sampling tables together\n",
    "SurveyData <- AnnualRecsSamp[PropSamp, on=.(year, site)][\n",
    "    is.na(n_offs_gen), n_offs_gen := 0]#change NA's to 0\n",
    "\n",
    "\n",
    "SurveyData <- Abundance[, c(\"year\", \"site\", \"num_females\")][SurveyData, on=.(year, site)]#join in Allison's estimate of female abundance. There are NA values, but that's okay we can figure those out when we start thinking about incorporating uncertainty in this\n",
    "#quick check that all components are in the same, alphabetical order\n",
    "sum(which(SiteIndex$site==Area$site)==FALSE) #needs to be 0!! sites have to be in the same order\n",
    "sum(which(Area$site==Centroids$site)==FALSE) #needs to be 0!! sites have to be in the same order\n",
    "\n"
   ]
  },
  {
   "cell_type": "code",
   "execution_count": 2,
   "metadata": {
    "scrolled": true
   },
   "outputs": [],
   "source": [
    "#read in the genetic parentage data and format for comparison\n",
    "TotalPar2012_4 <- fread(file=\"~/oceanography/empirical_data/genetics/parentage_table_2012-14.csv\")\n",
    "TotalPar2012_4 <- unique(TotalPar2012_4[offs_site %like% \"Magbangon\", offs_site := \"Magbangon\"][par_site %like% \"Magbangon\", par_site := \"Magbangon\"][ #collapse Magbangon values\n",
    "            , n_matches := sum(n_matches), by=c(\"offs_site\", \"par_site\", \"year\")], by=c(\"offs_site\", \"par_site\", \"year\"))\n",
    "\n",
    "#add in all the sampled sites and numbers of recruits sampled at each site\n",
    "TotalParInt <- unique(TotalPar2012_4[, num_matches := sum(n_matches), by=c(\"year\", \"offs_site\")][, -\"par_site\"], by=c(\"year\", \"offs_site\"))[, -\"n_matches\"]\n",
    "#sum(TotalParInt$num_matches) #should be 37\n",
    "\n",
    "TotalUnassigned2012_4 <- TotalParInt[SurveyData[year %in% c(2012, 2013, 2014)], on=.(offs_site=site, year)]\n",
    "TotalUnassigned2012_4 [is.na(TotalUnassigned2012_4 )] <- 0\n",
    "\n",
    "#sum(TotalUnassigned2012_4 $n_offs_gen) #should be 394\n",
    "#sum(TotalUnassigned2012_4 $num_matches) #should be 37\n",
    "#nrow(unique(TotalUnassigned2012_4 , by=\"offs_site\"))#should be 18, so that every site is represented so that the years are all 18*18 sites\n",
    "TotalUnassigned2012_4 <- TotalUnassigned2012_4[, num_unassigned := n_offs_gen-num_matches, by=c(\"year\", \"offs_site\")][\n",
    "    , .(offs_site, year, num_unassigned)]\n",
    "#sum(TotalUnassigned2012_4$num_unassigned) #should be 357\n",
    "\n",
    "#add in sites that aren't represented in as both parent and offspring possible site, based on assignments\n",
    "AddDestGen <- rbindlist(list(unique(cbind(SurveyData[year %in% c(2012, 2013, 2014) ][, .(offs_site=site)], \n",
    "                  SurveyData[year %in% c(2012, 2013, 2014)][ , .(par_site=site)]), by=c(\"offs_site\", \"par_site\"))[, year := 2012],  #what destinations were sampled, for use with unassigned table\n",
    "unique(cbind(SurveyData[year %in% c(2012, 2013, 2014) ][, .(offs_site=site)], \n",
    "                  SurveyData[year %in% c(2012, 2013, 2014)][ , .(par_site=site)]), by=c(\"offs_site\", \"par_site\"))[, year := 2013],\n",
    "unique(cbind(SurveyData[year %in% c(2012, 2013, 2014) ][, .(offs_site=site)], \n",
    "                  SurveyData[year %in% c(2012, 2013, 2014)][ , .(par_site=site)]), by=c(\"offs_site\", \"par_site\"))[, year := 2014]))\n",
    "\n",
    "TotalPar2012_4 <- rbind(AddDestGen[!TotalPar2012_4, on =.(par_site, offs_site, year)][ #what combos are not appearing because we didn't sample particles, but the route is possible based on our survey sampling\n",
    "    , n_matches:=0 ], TotalPar2012_4[,-\"num_matches\"])  #add the parentage column, add back into the parentage table but drop the num_matches column that's a summary column I used to make the unassigned table \n",
    "#sum(TotalPar2012_4$n_matches)#should be 37 still\n",
    "\n",
    "#format genetic parentage matrices for each year and all years combined\n",
    "GenMat2012 <- as.matrix(rbind(dcast(TotalPar2012_4[year==2012, .(par_site, offs_site, n_matches)][ #for assigned particles (not from \"Other\") keep the source/dest columns that will be expanded into wide form to become the connectivity matrix. Filtering for time period etc can be done in i here.\n",
    "    order(par_site, offs_site)] #keep sites in alphabetical order so the matrix is correctly formatted!\n",
    "        , par_site ~ offs_site, value.var=\"n_matches\")[\n",
    "    ,-\"par_site\"], #remove the source column after casting\n",
    "      t(as.matrix(TotalUnassigned2012_4[year==2012][order(offs_site)][, .(num_unassigned)])), use.names=FALSE))\n",
    "GenMat2012[is.na(GenMat2012)] <- 0\n",
    "\n",
    "GenMat2013 <- as.matrix(rbind(dcast(TotalPar2012_4[year==2013, .(par_site, offs_site, n_matches)][ #for assigned particles (not from \"Other\") keep the source/dest columns that will be expanded into wide form to become the connectivity matrix. Filtering for time period etc can be done in i here.\n",
    "    order(par_site, offs_site)] #keep sites in alphabetical order so the matrix is correctly formatted!\n",
    "        , par_site ~ offs_site, value.var=\"n_matches\")[\n",
    "    ,-\"par_site\"], #remove the source column after casting\n",
    "      t(as.matrix(TotalUnassigned2012_4[year==2013][order(offs_site)][, .(num_unassigned)])), use.names=FALSE))\n",
    "GenMat2013[is.na(GenMat2013)] <- 0\n",
    "\n",
    "GenMat2014 <- as.matrix(rbind(dcast(TotalPar2012_4[year==2014, .(par_site, offs_site, n_matches)][ #for assigned particles (not from \"Other\") keep the source/dest columns that will be expanded into wide form to become the connectivity matrix. Filtering for time period etc can be done in i here.\n",
    "    order(par_site, offs_site)] #keep sites in alphabetical order so the matrix is correctly formatted!\n",
    "        , par_site ~ offs_site, value.var=\"n_matches\")[\n",
    "    ,-\"par_site\"], #remove the source column after casting\n",
    "      t(as.matrix(TotalUnassigned2012_4[year==2014][order(offs_site)][, .(num_unassigned)])), use.names=FALSE))\n",
    "GenMat2014[is.na(GenMat2014)] <- 0\n",
    "\n",
    "GenMat2012_4 <- as.matrix(rbind(dcast(TotalPar2012_4[, .(par_site, offs_site, n_matches)][ #for assigned particles (not from \"Other\") keep the source/dest columns that will be expanded into wide form to become the connectivity matrix. Filtering for time period etc can be done in i here.\n",
    "    order(par_site, offs_site)] #keep sites in alphabetical order so the matrix is correctly formatted!\n",
    "        , par_site ~ offs_site, value.var=\"n_matches\", fun.aggregate = sum)[\n",
    "    ,-\"par_site\"], #remove the source column after casting\n",
    "      t(as.matrix(TotalUnassigned2012_4[, .(num_unassigned=sum(num_unassigned)), by=\"offs_site\"][order(offs_site)][, .(num_unassigned)])), use.names=FALSE))\n",
    "GenMat2012_4[is.na(GenMat2012_4)] <- 0\n",
    "\n",
    "#testing\n",
    "#for monsoon seasons\n",
    "MonsoonRecSampPar <- unique(fread(file=\"~/parentage/kernel_fitting/1340_loci/final_results/tables/RecruitsByMonsoon2012-14ForROMSComp.csv\")[\n",
    "    , .(offs_site=site, par_site, monsoon=season)][offs_site %like% \"Magbangon\", offs_site := \"Magbangon\"][par_site %like% \"Magbangon\", par_site := \"Magbangon\"][ #collapse Magbangon values\n",
    "    , num_gen := (.N), by=c(\"offs_site\", \"monsoon\")][\n",
    "    !is.na(par_site), n_matches := as.numeric((.N)), by=c(\"offs_site\", \"par_site\", \"monsoon\")], by=c(\"offs_site\", \"par_site\", \"monsoon\"))\n",
    "\n",
    "#sum(unique(MonsoonRecSamp, by=c(\"offs_site\",\"monsoon\"))[, num_gen]) #should be 256MonsoonRecSamp <- unique(MonsoonRecSamp, by=c(\"site\", \"par_site\", \"monsoon\", \"year\"))[\n",
    "MonsoonRecSampPar <- unique(MonsoonRecSampPar, by=c(\"offs_site\", \"par_site\", \"monsoon\"))[\n",
    "    is.na(par_site), n_matches := 0, by=c(\"offs_site\", \"par_site\", \"monsoon\")][\n",
    "    , .(offs_site, par_site, monsoon, num_gen, n_matches)]\n",
    "#sum(unique(MonsoonRecSampPar, by=c(\"offs_site\",\"monsoon\"))[, num_gen]) #should be 256\n",
    "#sum(unique(MonsoonRecSampPar, by=c(\"offs_site\", \"par_site\",\"monsoon\"))[, n_matches]) #should be 17\n",
    "\n",
    "#total recruits genotyped in each year and season at each site\n",
    "MonsoonRecSamp <- unique(MonsoonRecSampPar, by=c(\"offs_site\",\"monsoon\"))[,-c(\"par_site\", \"n_matches\")] #should be 256\n",
    "\n",
    "#total parentage matches along each route in each year and season\n",
    "ParMonsoon <- MonsoonRecSampPar[n_matches >0, -\"num_gen\"]\n",
    "#print a summary table to check \n",
    "#ParMonsoon[, .(n_matches=sum(n_matches)) , by=c(\"monsoon\")]\n",
    "#sum(AnnualParMonsoon$n_matches) #should be 17\n",
    "\n",
    "MonsoonParInt <- ParMonsoon[, .(num_matches = sum(n_matches)), by=c(\"monsoon\", \"offs_site\")]#sum(MonsoonParInt$num_matches) #should be 17\n",
    "\n",
    "#join all genotyped and assigned to get unassigned\n",
    "\n",
    "MonsoonUnassigned <- MonsoonParInt[MonsoonRecSamp, on=.(offs_site, monsoon)]\n",
    "MonsoonUnassigned[is.na(MonsoonUnassigned)] <- 0\n",
    "MonsoonUnassigned[, num_unassigned := num_gen-num_matches]\n",
    "#sum(MonsoonUnassigned$num_gen) #should be 256\n",
    "#sum(MonsoonUnassigned$num_matches) #should be 17\n",
    "MonsoonUnassigned <- MonsoonUnassigned[, .(offs_site,monsoon, num_unassigned)]\n",
    "\n",
    "#AnnualParMonsoon #for assigned in matrix\n",
    "#MonsoonUnassigned #for unassigned in matrix\n",
    "\n",
    "#add in sites that aren't represented in every year\n",
    "AddDestGen <- unique(cbind(SurveyData[year %in% c(2012, 2013, 2014) ][, .(offs_site=site)], \n",
    "                  SurveyData[year %in% c(2012, 2013, 2014)][ , .(par_site=site)]), by=c(\"offs_site\", \"par_site\"))\n",
    "\n",
    "AddDestGenMonsoon <- rbind(cbind(AddDestGen, data.table(monsoon = rep(\"NEM\",nrow(AddDestGen)))), cbind(AddDestGen, data.table(monsoon = rep(\"SWM\",nrow(AddDestGen)))))\n",
    "\n",
    "ParMonsoon <- rbind(AddDestGenMonsoon[!ParMonsoon, on =.(par_site, offs_site, monsoon)][ #what combos are not appearing because we didn't sample particles, but the route is possible based on our survey sampling\n",
    "    , n_matches:=0 ], ParMonsoon)  #add the parentage column, add back into the parentage table but drop the num_matches column that's a summary column I used to make the unassigned table \n",
    "#ParMonsoon <- unique(ParMonsoon[, n_matches := sum(n_matches), by=c(\"par_site\", \"offs_site\", \"monsoon\")], by=c(\"par_site\", \"offs_site\", \"monsoon\"))\n",
    "#sum(ParMonsoon$n_matches)#should be 17 still\n",
    "\n",
    "MonsoonUnassigned <- rbind(AddDestGenMonsoon[!MonsoonUnassigned, on =.( offs_site, monsoon)][ #what combos are not appearing because we didn't sample particles, but the route is possible based on our survey sampling\n",
    "    , num_unassigned:=0 ][, -\"par_site\"], MonsoonUnassigned)  #add the parentage column, add back into the parentage table but drop the num_matches column that's a summary column I used to make the unassigned table \n",
    "#MonsoonUnassigned <- unique(MonsoonUnassigned[, num_unassigned := sum(num_unassigned), by=c(\"offs_site\", \"monsoon\")], by=c(\"offs_site\", \"monsoon\"))\n",
    "\n",
    "#sum(MonsoonUnassigned$num_unassigned)#should be 256-17=239\n",
    "\n",
    "#make into parentage matrices\n",
    "GenMatNEM <- rbind(dcast(ParMonsoon[monsoon==\"NEM\"][, .(par_site, offs_site, n_matches)][ #for assigned particles (not from \"Other\") keep the source/dest columns that will be expanded into wide form to become the connectivity matrix. Filtering for time period etc can be done in i here.\n",
    "    order(par_site, offs_site)] #keep sites in alphabetical order so the matrix is correctly formatted!\n",
    "        , par_site ~ offs_site, value.var=\"n_matches\")[\n",
    "    ,-\"par_site\"], #remove the source column after casting\n",
    "      t(as.matrix(MonsoonUnassigned[monsoon==\"NEM\"][order(offs_site)][, .(num_unassigned)])), use.names=FALSE)\n",
    "GenMatNEM[is.na(GenMatNEM)] <- 0\n",
    "#dim(KernelGenMatNEM)\n",
    "#sum(KernelGenMatNEM)\n",
    "GenMatSWM <- rbind(dcast(ParMonsoon[monsoon==\"SWM\"][, .(par_site, offs_site, n_matches)][ #for assigned particles (not from \"Other\") keep the source/dest columns that will be expanded into wide form to become the connectivity matrix. Filtering for time period etc can be done in i here.\n",
    "    order(par_site, offs_site)] #keep sites in alphabetical order so the matrix is correctly formatted!\n",
    "        , par_site ~ offs_site, value.var=\"n_matches\")[\n",
    "    ,-\"par_site\"], #remove the source column after casting\n",
    "      t(as.matrix(MonsoonUnassigned[monsoon==\"SWM\"][order(offs_site)][, .(num_unassigned)])), use.names=FALSE)\n",
    "GenMatSWM[is.na(GenMatSWM)] <- 0\n",
    "\n",
    "#fwrite(GenMat2012_4, file=\"~/oceanography/script_output/SurveyData/20210701_ParentageMatrix2012-14ForROMSComp.csv\")\n",
    "#fwrite(GenMat2012, file=\"~/oceanography/script_output/SurveyData/20210701_ParentageMatrix2012ForROMSComp.csv\")\n",
    "#fwrite(GenMat2013, file=\"~/oceanography/script_output/SurveyData/20210701_ParentageMatrix2013ForROMSComp.csv\")\n",
    "#fwrite(GenMat2014, file=\"~/oceanography/script_output/SurveyData/20210701_ParentageMatrix2014ForROMSComp.csv\")\n",
    "#fwrite(GenMatNEM, file=\"~/oceanography/script_output/SurveyData/20210701_ParentageMatrixNEM2012-14ForROMSComp.csv\")\n",
    "#fwrite(GenMatSWM, file=\"~/oceanography/script_output/SurveyData/20210701_ParentageMatrixSWM2012-14ForROMSComp.csv\")\n"
   ]
  },
  {
   "cell_type": "code",
   "execution_count": 3,
   "metadata": {},
   "outputs": [],
   "source": [
    "#read in the genetic parentage data and format for comparison\n",
    "TotalPar2012_4 <- fread(file=\"~/oceanography/empirical_data/genetics/parentage_table_2012-14.csv\")\n",
    "TotalPar2012_4 <- unique(TotalPar2012_4[offs_site %like% \"Magbangon\", offs_site := \"Magbangon\"][par_site %like% \"Magbangon\", par_site := \"Magbangon\"][ #collapse Magbangon values\n",
    "            , n_matches := sum(n_matches), by=c(\"offs_site\", \"par_site\", \"year\")], by=c(\"offs_site\", \"par_site\", \"year\"))\n",
    "\n",
    "#add in all the sampled sites and numbers of recruits sampled at each site\n",
    "TotalParInt <- unique(TotalPar2012_4[, num_matches := sum(n_matches), by=c(\"year\", \"offs_site\")][, -\"par_site\"], by=c(\"year\", \"offs_site\"))[, -\"n_matches\"]\n",
    "#sum(TotalParInt$num_matches) #should be 37\n",
    "\n",
    "TotalUnassigned2012_4 <- TotalParInt[SurveyData[year %in% c(2012, 2013, 2014) & prop_anem_samp > 0 ], on=.(offs_site=site, year)]\n",
    "TotalUnassigned2012_4 [is.na(TotalUnassigned2012_4 )] <- 0\n",
    "\n",
    "#sum(TotalUnassigned2012_4 $n_offs_gen) #should be 394\n",
    "#sum(TotalUnassigned2012_4 $num_matches) #should be 37\n",
    "#nrow(unique(TotalUnassigned2012_4 , by=\"offs_site\"))#should be 18, so that every site is represented so that the years are all 18*18 sites\n",
    "TotalUnassigned2012_4 <- TotalUnassigned2012_4[, num_unassigned := n_offs_gen-num_matches, by=c(\"year\", \"offs_site\")][\n",
    "    , .(offs_site, year, num_unassigned)]\n",
    "#sum(TotalUnassigned2012_4$num_unassigned) #should be 357\n",
    "\n",
    "#add in sites that aren't represented in every year\n",
    "AddDestGen <- rbindlist(list(unique(cbind(SurveyData[year==2012 & prop_anem_samp >0 ][, .(offs_site=site)], \n",
    "                  SurveyData[year==2012 & prop_anem_samp >0 ][ , .(par_site=site)]), by=c(\"offs_site\", \"par_site\"))[, year := 2012],  #what destinations were sampled, for use with unassigned table\n",
    "unique(cbind(SurveyData[year==2013 & prop_anem_samp >0 ][, .(offs_site=site)], \n",
    "                  SurveyData[year==2013 & prop_anem_samp >0 ][ , .(par_site=site)]), by=c(\"offs_site\", \"par_site\"))[, year := 2013],\n",
    "unique(cbind(SurveyData[year==2014 & prop_anem_samp >0 ][, .(offs_site=site)], \n",
    "                  SurveyData[year==2014 & prop_anem_samp >0 ][ , .(par_site=site)]), by=c(\"offs_site\", \"par_site\"))[, year := 2014]))\n",
    "\n",
    "TotalPar2012_4 <- rbind(AddDestGen[!TotalPar2012_4, on =.(par_site, offs_site, year)][ #what combos are not appearing because we didn't sample particles, but the route is possible based on our survey sampling\n",
    "    , n_matches:=0 ], TotalPar2012_4[,-\"num_matches\"])  #add the parentage column, add back into the parentage table but drop the num_matches column that's a summary column I used to make the unassigned table \n",
    "#sum(TotalPar2012_4$n_matches)#should be 37 still\n",
    "\n",
    "#format genetic parentage matrices for each year and all years combined\n",
    "KernelGenMat2012 <- as.matrix(rbind(dcast(TotalPar2012_4[year==2012, .(par_site, offs_site, n_matches)][ #for assigned particles (not from \"Other\") keep the source/dest columns that will be expanded into wide form to become the connectivity matrix. Filtering for time period etc can be done in i here.\n",
    "    order(par_site, offs_site)] #keep sites in alphabetical order so the matrix is correctly formatted!\n",
    "        , par_site ~ offs_site, value.var=\"n_matches\")[\n",
    "    ,-\"par_site\"], #remove the source column after casting\n",
    "      t(as.matrix(TotalUnassigned2012_4[year==2012][order(offs_site)][, .(num_unassigned)])), use.names=FALSE))\n",
    "KernelGenMat2012[is.na(KernelGenMat2012)] <- 0\n",
    "\n",
    "KernelGenMat2013 <- as.matrix(rbind(dcast(TotalPar2012_4[year==2013, .(par_site, offs_site, n_matches)][ #for assigned particles (not from \"Other\") keep the source/dest columns that will be expanded into wide form to become the connectivity matrix. Filtering for time period etc can be done in i here.\n",
    "    order(par_site, offs_site)] #keep sites in alphabetical order so the matrix is correctly formatted!\n",
    "        , par_site ~ offs_site, value.var=\"n_matches\")[\n",
    "    ,-\"par_site\"], #remove the source column after casting\n",
    "      t(as.matrix(TotalUnassigned2012_4[year==2013][order(offs_site)][, .(num_unassigned)])), use.names=FALSE))\n",
    "KernelGenMat2013[is.na(KernelGenMat2013)] <- 0\n",
    "#for monsoon seasons\n",
    "MonsoonRecSampPar <- unique(fread(file=\"~/parentage/kernel_fitting/1340_loci/final_results/tables/RecruitsByMonsoon2012-14ForROMSComp.csv\")[\n",
    "    , .(offs_site=site, par_site, monsoon=season)][offs_site %like% \"Magbangon\", offs_site := \"Magbangon\"][par_site %like% \"Magbangon\", par_site := \"Magbangon\"][ #collapse Magbangon values\n",
    "    , num_gen := (.N), by=c(\"offs_site\", \"monsoon\")][\n",
    "    !is.na(par_site), n_matches := as.numeric((.N)), by=c(\"offs_site\", \"par_site\", \"monsoon\")], by=c(\"offs_site\", \"par_site\", \"monsoon\"))\n",
    "\n",
    "#sum(unique(MonsoonRecSamp, by=c(\"offs_site\",\"monsoon\"))[, num_gen]) #should be 256MonsoonRecSamp <- unique(MonsoonRecSamp, by=c(\"site\", \"par_site\", \"monsoon\", \"year\"))[\n",
    "MonsoonRecSampPar <- unique(MonsoonRecSampPar, by=c(\"offs_site\", \"par_site\", \"monsoon\"))[\n",
    "    is.na(par_site), n_matches := 0, by=c(\"offs_site\", \"par_site\", \"monsoon\")][\n",
    "    , .(offs_site, par_site, monsoon, num_gen, n_matches)]\n",
    "#sum(unique(MonsoonRecSampPar, by=c(\"offs_site\",\"monsoon\"))[, num_gen]) #should be 256\n",
    "#sum(unique(MonsoonRecSampPar, by=c(\"offs_site\", \"par_site\",\"monsoon\"))[, n_matches]) #should be 17\n",
    "\n",
    "#total recruits genotyped in each year and season at each site\n",
    "MonsoonRecSamp <- unique(MonsoonRecSampPar, by=c(\"offs_site\",\"monsoon\"))[,-c(\"par_site\", \"n_matches\")] #should be 256\n",
    "\n",
    "#total parentage matches along each route in each year and season\n",
    "ParMonsoon <- MonsoonRecSampPar[n_matches >0, -\"num_gen\"]\n",
    "#print a summary table to check \n",
    "#ParMonsoon[, .(n_matches=sum(n_matches)) , by=c(\"monsoon\")]\n",
    "#sum(AnnualParMonsoon$n_matches) #should be 17\n",
    "\n",
    "MonsoonParInt <- ParMonsoon[, .(num_matches = sum(n_matches)), by=c(\"monsoon\", \"offs_site\")]#sum(MonsoonParInt$num_matches) #should be 17\n",
    "\n",
    "#join all genotyped and assigned to get unassigned\n",
    "\n",
    "MonsoonUnassigned <- MonsoonParInt[MonsoonRecSamp, on=.(offs_site, monsoon)]\n",
    "MonsoonUnassigned[is.na(MonsoonUnassigned)] <- 0\n",
    "MonsoonUnassigned[, num_unassigned := num_gen-num_matches]\n",
    "#sum(MonsoonUnassigned$num_gen) #should be 256\n",
    "#sum(MonsoonUnassigned$num_matches) #should be 17\n",
    "MonsoonUnassigned <- MonsoonUnassigned[, .(offs_site,monsoon, num_unassigned)]\n",
    "\n",
    "#AnnualParMonsoon #for assigned in matrix\n",
    "#MonsoonUnassigned #for unassigned in matrix\n",
    "\n",
    "#add in sites that aren't represented in every year\n",
    "AddDestGen <- cbind(PropSamp[prop_anem_samp > 0 & year==2014, .(site)][, .(offs_site=site)], PropSamp[prop_anem_samp > 0 & year==2014, .(site)][, .(par_site=site)])\n",
    "\n",
    "AddDestGenMonsoon <- rbind(cbind(AddDestGen, data.table(monsoon = rep(\"NEM\",nrow(AddDestGen)))), cbind(AddDestGen, data.table(monsoon = rep(\"SWM\",nrow(AddDestGen)))))\n",
    "\n",
    "ParMonsoon <- rbind(AddDestGenMonsoon[!ParMonsoon, on =.(par_site, offs_site, monsoon)][ #what combos are not appearing because we didn't sample particles, but the route is possible based on our survey sampling\n",
    "    , n_matches:=0 ], ParMonsoon)  #add the parentage column, add back into the parentage table but drop the num_matches column that's a summary column I used to make the unassigned table \n",
    "#ParMonsoon <- unique(ParMonsoon[, n_matches := sum(n_matches), by=c(\"par_site\", \"offs_site\", \"monsoon\")], by=c(\"par_site\", \"offs_site\", \"monsoon\"))\n",
    "#sum(ParMonsoon$n_matches)#should be 17 still\n",
    "\n",
    "MonsoonUnassigned <- rbind(AddDestGenMonsoon[!MonsoonUnassigned, on =.( offs_site, monsoon)][ #what combos are not appearing because we didn't sample particles, but the route is possible based on our survey sampling\n",
    "    , num_unassigned:=0 ][, -\"par_site\"], MonsoonUnassigned)  #add the parentage column, add back into the parentage table but drop the num_matches column that's a summary column I used to make the unassigned table \n",
    "#MonsoonUnassigned <- unique(MonsoonUnassigned[, num_unassigned := sum(num_unassigned), by=c(\"offs_site\", \"monsoon\")], by=c(\"offs_site\", \"monsoon\"))\n",
    "\n",
    "#sum(MonsoonUnassigned$num_unassigned)#should be 256-17=239\n",
    "\n",
    "#make into parentage matrices\n",
    "KernelGenMatNEM <- rbind(dcast(ParMonsoon[monsoon==\"NEM\"][, .(par_site, offs_site, n_matches)][ #for assigned particles (not from \"Other\") keep the source/dest columns that will be expanded into wide form to become the connectivity matrix. Filtering for time period etc can be done in i here.\n",
    "    order(par_site, offs_site)] #keep sites in alphabetical order so the matrix is correctly formatted!\n",
    "        , par_site ~ offs_site, value.var=\"n_matches\")[\n",
    "    ,-\"par_site\"], #remove the source column after casting\n",
    "      t(as.matrix(MonsoonUnassigned[monsoon==\"NEM\"][order(offs_site)][, .(num_unassigned)])), use.names=FALSE)\n",
    "KernelGenMatNEM[is.na(KernelGenMatNEM)] <- 0\n",
    "#dim(KernelGenMatNEM)\n",
    "#sum(KernelGenMatNEM)\n",
    "\n",
    "KernelGenMatSWM <- rbind(dcast(ParMonsoon[monsoon==\"SWM\"][, .(par_site, offs_site, n_matches)][ #for assigned particles (not from \"Other\") keep the source/dest columns that will be expanded into wide form to become the connectivity matrix. Filtering for time period etc can be done in i here.\n",
    "    order(par_site, offs_site)] #keep sites in alphabetical order so the matrix is correctly formatted!\n",
    "        , par_site ~ offs_site, value.var=\"n_matches\")[\n",
    "    ,-\"par_site\"], #remove the source column after casting\n",
    "      t(as.matrix(MonsoonUnassigned[monsoon==\"SWM\"][order(offs_site)][, .(num_unassigned)])), use.names=FALSE)\n",
    "KernelGenMatSWM[is.na(KernelGenMatSWM)] <- 0\n",
    "KernelGenMat2014 <- as.matrix(rbind(dcast(TotalPar2012_4[year==2014, .(par_site, offs_site, n_matches)][ #for assigned particles (not from \"Other\") keep the source/dest columns that will be expanded into wide form to become the connectivity matrix. Filtering for time period etc can be done in i here.\n",
    "    order(par_site, offs_site)] #keep sites in alphabetical order so the matrix is correctly formatted!\n",
    "        , par_site ~ offs_site, value.var=\"n_matches\")[\n",
    "    ,-\"par_site\"], #remove the source column after casting\n",
    "      t(as.matrix(TotalUnassigned2012_4[year==2014][order(offs_site)][, .(num_unassigned)])), use.names=FALSE))\n",
    "KernelGenMat2014[is.na(KernelGenMat2014)] <- 0\n",
    "\n",
    "KernelGenMat2012_4 <- as.matrix(rbind(dcast(TotalPar2012_4[, .(par_site, offs_site, n_matches)][ #for assigned particles (not from \"Other\") keep the source/dest columns that will be expanded into wide form to become the connectivity matrix. Filtering for time period etc can be done in i here.\n",
    "    order(par_site, offs_site)] #keep sites in alphabetical order so the matrix is correctly formatted!\n",
    "        , par_site ~ offs_site, value.var=\"n_matches\", fun.aggregate = sum)[\n",
    "    ,-\"par_site\"], #remove the source column after casting\n",
    "      t(as.matrix(TotalUnassigned2012_4[, .(num_unassigned=sum(num_unassigned)), by=\"offs_site\"][order(offs_site)][, .(num_unassigned)])), use.names=FALSE))\n",
    "KernelGenMat2012_4[is.na(KernelGenMat2012_4)] <- 0\n",
    "\n",
    "\n",
    "#fwrite(KernelGenMat2012_4, file=\"~/oceanography/script_output/SurveyData/20210701_KernelParentageMatrix2012-14ForROMSComp.csv\")\n",
    "#fwrite(KernelGenMat2012, file=\"~/oceanography/script_output/SurveyData/20210701_KernelParentageMatrix2012ForROMSComp.csv\")\n",
    "#fwrite(KernelGenMat2013, file=\"~/oceanography/script_output/SurveyData/20210701_KernelParentageMatrix2013ForROMSComp.csv\")\n",
    "#fwrite(KernelGenMat2014, file=\"~/oceanography/script_output/SurveyData/20210701_KernelParentageMatrix2014ForROMSComp.csv\")\n",
    "#fwrite(KernelGenMatNEM, file=\"~/oceanography/script_output/SurveyData/20210701_KernelParentageMatrixNEM2012-14ForROMSComp.csv\")\n",
    "#fwrite(KernelGenMatSWM, file=\"~/oceanography/script_output/SurveyData/20210701_KernelParentageMatrixSWM2012-14ForROMSComp.csv\")\n"
   ]
  },
  {
   "cell_type": "code",
   "execution_count": 4,
   "metadata": {},
   "outputs": [],
   "source": [
    "#format biophysical simulation matrices"
   ]
  },
  {
   "cell_type": "code",
   "execution_count": 2,
   "metadata": {},
   "outputs": [
    {
     "data": {
      "text/html": [
       "687"
      ],
      "text/latex": [
       "687"
      ],
      "text/markdown": [
       "687"
      ],
      "text/plain": [
       "[1] 687"
      ]
     },
     "metadata": {},
     "output_type": "display_data"
    }
   ],
   "source": [
    "#make a table of the dates of release for simulations, for calculating the number of particles released in each time frame\n",
    "season1 <- data.table(date=seq(as.Date(\"2010-10-01\"), as.Date(\"2011-05-31\"), by=\"days\"))\n",
    "\n",
    "season2 <- data.table(date=seq(as.Date(\"2011-10-01\"), as.Date(\"2012-05-31\"), by=\"days\"))\n",
    "\n",
    "season3 <- data.table(date=seq(as.Date(\"2012-10-01\"), as.Date(\"2013-05-31\"), by=\"days\"))\n",
    "\n",
    "season4 <- data.table(date=seq(as.Date(\"2013-10-01\"), as.Date(\"2014-04-18\"), by=\"days\"))\n",
    "\n",
    "AllDates <- rbind(season1, season2, season3, season4)\n",
    "\n",
    "#mark the monsoon seasons, based on the same criteria I used for the parentage indirectly through the growth estimates\n",
    "NEM <- c(11, 12, 1, 2, 3, 4, 5, 6)\n",
    "SWM <- c(7, 8, 9, 10)\n",
    "\n",
    "AllDates[,date := ymd(date)][, #format as ymd\n",
    "             sim_monsoon := ifelse(month(date) %in% NEM, \"NEM\", \"SWM\")][,#mark monsoon season based on month\n",
    "             sim_year:=year(date)][,#add year column\n",
    "            year_sampled:= ifelse(date %in% season1$date, 2011, ifelse(date %in% season2$date, 2012, ifelse(date %in% season3$date, 2013, 2014)))]#and then add a year_sampled for the empircal sampling season of that particle\n",
    "\n",
    "ReleaseDays <- AllDates[, .(num_release_days_seasonal=.N), by=c(\"year_sampled\", \"sim_monsoon\")][, num_release_days_annual:= sum(num_release_days_seasonal), by=year_sampled]\n",
    "\n",
    "total_release_days <- AllDates[year_sampled %in% c(2012, 2013, 2014), .N]#for the all year kernel- how many days of the simulation conincide with our particle sampling?\n",
    "total_release_days #should be 687\n"
   ]
  },
  {
   "cell_type": "code",
   "execution_count": 28,
   "metadata": {},
   "outputs": [],
   "source": [
    "##prep biophysical connectivity matrix\n",
    "SimConn <- fread(file=\"~/oceanography/script_output/ROMSDataTables/SimConnectivityTableWithMetaLongForm08DayPLD.csv\")[dest != \"CAI\"] #filter out CAI as a destination for now, not very well spatially defined\n",
    "#outside of the loop, trim this to only be the destinations we sampled\n",
    "SourceJoin <- SurveyData[SimConn, on = .(site = source, year=year_sampled)]\n",
    "setnames(SourceJoin, skip_absent=TRUE, c(\"site\", \"n_offs_gen\", \"prop_anem_samp\", \"total_anems\", \"num_females\"), c(\"source\", \"source_num_rec_sampled_annual\",  \"source_prop_anem_samp\", \"source_total_anems\", \"source_num_females\"))\n",
    "DestJoin <- SurveyData[SourceJoin, on = .(site = dest, year)]\n",
    "setnames(DestJoin, skip_absent=TRUE, c(\"site\", \"n_offs_gen\", \"prop_anem_samp\", \"total_anems\", \"num_females\"), c(\"dest\", \"dest_num_rec_sampled_annual\",  \"dest_prop_samp\", \"dest_total_anems\", \"dest_num_females\"))\n",
    "\n",
    "SimConn <- DestJoin[source %!in% unrealistic_sources & dest %!in% unrealistic_sources ][#& year %in% c(2012, 2013, 2014)#sand flats and Pangasugan are not realistic source or destination sites because there's almost no habitat. Safe to drop, but keep the rest of the possibilities so we can subsample iteratively all possibilities.\n",
    "    , daily_particles_released := as.numeric(daily_particles_released)] #change from integer to numeric\n",
    "SimConn <- ReleaseDays[SimConn, on=.(year_sampled=year, sim_monsoon)]#join in the info for number of release days in the time frame\n",
    "SimConn <- kernels[Year %in% c(\"2012\", \"2013\", \"2014\")][, year:=as.integer(Year)][,c(\"year\", \"NumParentageMatches\")][SimConn, on=.(year=year_sampled)]#add in a column for the observed number of parentage matches\n",
    "#rename the monsoon column in the full table for consistency\n",
    "setnames(SimConn, c(\"sim_monsoon\", \"NumParentageMatches\"), c(\"monsoon\", \"num_route_parentage_matches\")) #get rid of upper case and inconsistent naming\n",
    "setcolorder(SimConn, c(\"particle_id\", \"source\", \"dest\", \"year\", \"monsoon\", \"date\"))\n",
    "\n",
    "#at this point, we can make the raw number assignment matrix, but we want to make a normalized version that is num assigned from a source to a destination/ num released from that source\n",
    "#fwrite(SimConn, file=\"~/oceanography/script_output/ROMSDataTables/SimConnectivityTableCompleteMetaLongForm08DayPLD.csv\")"
   ]
  },
  {
   "cell_type": "markdown",
   "metadata": {
    "scrolled": true
   },
   "source": [
    "__Skip the joining of tables that takes forever and read in the__ "
   ]
  },
  {
   "cell_type": "code",
   "execution_count": 3,
   "metadata": {},
   "outputs": [],
   "source": [
    "SimConn <- fread(file=\"~/oceanography/script_output/ROMSDataTables/SimConnectivityTableCompleteMetaLongForm08DayPLD.csv\")[year %in% c(2012, 2013, 2014) & dest != \"CAI\"] #filter out CAI as a destination for now, not very well spatially defined\n"
   ]
  },
  {
   "cell_type": "code",
   "execution_count": 8,
   "metadata": {},
   "outputs": [
    {
     "data": {
      "text/html": [
       "<table>\n",
       "<thead><tr><th scope=col>particle_id</th><th scope=col>source</th><th scope=col>dest</th><th scope=col>year</th><th scope=col>monsoon</th><th scope=col>date</th><th scope=col>num_route_parentage_matches</th><th scope=col>num_release_days_seasonal</th><th scope=col>num_release_days_annual</th><th scope=col>dest_num_females</th><th scope=col>...</th><th scope=col>source_num_rec_sampled_annual</th><th scope=col>source_prop_anem_samp</th><th scope=col>sim_month</th><th scope=col>sim_day</th><th scope=col>sim_year</th><th scope=col>daily_particles_rec</th><th scope=col>daily_particles_released</th><th scope=col>dist_km</th><th scope=col>bearing</th><th scope=col>direction</th></tr></thead>\n",
       "<tbody>\n",
       "\t<tr><td>P54642131 </td><td>Other     </td><td>Palanas   </td><td>2012      </td><td>SWM       </td><td>2011-10-01</td><td>3         </td><td>31        </td><td>244       </td><td>49        </td><td>...       </td><td>NA        </td><td>NA        </td><td>10        </td><td>10        </td><td>2011      </td><td>69        </td><td>4497728   </td><td>NA        </td><td>NA        </td><td>NA        </td></tr>\n",
       "\t<tr><td>P54642132 </td><td>Other     </td><td>Palanas   </td><td>2012      </td><td>SWM       </td><td>2011-10-01</td><td>3         </td><td>31        </td><td>244       </td><td>49        </td><td>...       </td><td>NA        </td><td>NA        </td><td>10        </td><td>10        </td><td>2011      </td><td>69        </td><td>4497728   </td><td>NA        </td><td>NA        </td><td>NA        </td></tr>\n",
       "\t<tr><td>P54642133 </td><td>Other     </td><td>Palanas   </td><td>2012      </td><td>SWM       </td><td>2011-10-01</td><td>3         </td><td>31        </td><td>244       </td><td>49        </td><td>...       </td><td>NA        </td><td>NA        </td><td>10        </td><td>10        </td><td>2011      </td><td>69        </td><td>4497728   </td><td>NA        </td><td>NA        </td><td>NA        </td></tr>\n",
       "\t<tr><td>P54642134 </td><td>Other     </td><td>Palanas   </td><td>2012      </td><td>SWM       </td><td>2011-10-01</td><td>3         </td><td>31        </td><td>244       </td><td>49        </td><td>...       </td><td>NA        </td><td>NA        </td><td>10        </td><td>10        </td><td>2011      </td><td>69        </td><td>4497728   </td><td>NA        </td><td>NA        </td><td>NA        </td></tr>\n",
       "\t<tr><td>P54642135 </td><td>Other     </td><td>Palanas   </td><td>2012      </td><td>SWM       </td><td>2011-10-01</td><td>3         </td><td>31        </td><td>244       </td><td>49        </td><td>...       </td><td>NA        </td><td>NA        </td><td>10        </td><td>10        </td><td>2011      </td><td>69        </td><td>4497728   </td><td>NA        </td><td>NA        </td><td>NA        </td></tr>\n",
       "\t<tr><td>P54642136 </td><td>Other     </td><td>Palanas   </td><td>2012      </td><td>SWM       </td><td>2011-10-01</td><td>3         </td><td>31        </td><td>244       </td><td>49        </td><td>...       </td><td>NA        </td><td>NA        </td><td>10        </td><td>10        </td><td>2011      </td><td>69        </td><td>4497728   </td><td>NA        </td><td>NA        </td><td>NA        </td></tr>\n",
       "</tbody>\n",
       "</table>\n"
      ],
      "text/latex": [
       "\\begin{tabular}{r|lllllllllllllllllllllll}\n",
       " particle\\_id & source & dest & year & monsoon & date & num\\_route\\_parentage\\_matches & num\\_release\\_days\\_seasonal & num\\_release\\_days\\_annual & dest\\_num\\_females & ... & source\\_num\\_rec\\_sampled\\_annual & source\\_prop\\_anem\\_samp & sim\\_month & sim\\_day & sim\\_year & daily\\_particles\\_rec & daily\\_particles\\_released & dist\\_km & bearing & direction\\\\\n",
       "\\hline\n",
       "\t P54642131  & Other      & Palanas    & 2012       & SWM        & 2011-10-01 & 3          & 31         & 244        & 49         & ...        & NA         & NA         & 10         & 10         & 2011       & 69         & 4497728    & NA         & NA         & NA        \\\\\n",
       "\t P54642132  & Other      & Palanas    & 2012       & SWM        & 2011-10-01 & 3          & 31         & 244        & 49         & ...        & NA         & NA         & 10         & 10         & 2011       & 69         & 4497728    & NA         & NA         & NA        \\\\\n",
       "\t P54642133  & Other      & Palanas    & 2012       & SWM        & 2011-10-01 & 3          & 31         & 244        & 49         & ...        & NA         & NA         & 10         & 10         & 2011       & 69         & 4497728    & NA         & NA         & NA        \\\\\n",
       "\t P54642134  & Other      & Palanas    & 2012       & SWM        & 2011-10-01 & 3          & 31         & 244        & 49         & ...        & NA         & NA         & 10         & 10         & 2011       & 69         & 4497728    & NA         & NA         & NA        \\\\\n",
       "\t P54642135  & Other      & Palanas    & 2012       & SWM        & 2011-10-01 & 3          & 31         & 244        & 49         & ...        & NA         & NA         & 10         & 10         & 2011       & 69         & 4497728    & NA         & NA         & NA        \\\\\n",
       "\t P54642136  & Other      & Palanas    & 2012       & SWM        & 2011-10-01 & 3          & 31         & 244        & 49         & ...        & NA         & NA         & 10         & 10         & 2011       & 69         & 4497728    & NA         & NA         & NA        \\\\\n",
       "\\end{tabular}\n"
      ],
      "text/markdown": [
       "\n",
       "| particle_id | source | dest | year | monsoon | date | num_route_parentage_matches | num_release_days_seasonal | num_release_days_annual | dest_num_females | ... | source_num_rec_sampled_annual | source_prop_anem_samp | sim_month | sim_day | sim_year | daily_particles_rec | daily_particles_released | dist_km | bearing | direction |\n",
       "|---|---|---|---|---|---|---|---|---|---|---|---|---|---|---|---|---|---|---|---|---|\n",
       "| P54642131  | Other      | Palanas    | 2012       | SWM        | 2011-10-01 | 3          | 31         | 244        | 49         | ...        | NA         | NA         | 10         | 10         | 2011       | 69         | 4497728    | NA         | NA         | NA         |\n",
       "| P54642132  | Other      | Palanas    | 2012       | SWM        | 2011-10-01 | 3          | 31         | 244        | 49         | ...        | NA         | NA         | 10         | 10         | 2011       | 69         | 4497728    | NA         | NA         | NA         |\n",
       "| P54642133  | Other      | Palanas    | 2012       | SWM        | 2011-10-01 | 3          | 31         | 244        | 49         | ...        | NA         | NA         | 10         | 10         | 2011       | 69         | 4497728    | NA         | NA         | NA         |\n",
       "| P54642134  | Other      | Palanas    | 2012       | SWM        | 2011-10-01 | 3          | 31         | 244        | 49         | ...        | NA         | NA         | 10         | 10         | 2011       | 69         | 4497728    | NA         | NA         | NA         |\n",
       "| P54642135  | Other      | Palanas    | 2012       | SWM        | 2011-10-01 | 3          | 31         | 244        | 49         | ...        | NA         | NA         | 10         | 10         | 2011       | 69         | 4497728    | NA         | NA         | NA         |\n",
       "| P54642136  | Other      | Palanas    | 2012       | SWM        | 2011-10-01 | 3          | 31         | 244        | 49         | ...        | NA         | NA         | 10         | 10         | 2011       | 69         | 4497728    | NA         | NA         | NA         |\n",
       "\n"
      ],
      "text/plain": [
       "  particle_id source dest    year monsoon date      \n",
       "1 P54642131   Other  Palanas 2012 SWM     2011-10-01\n",
       "2 P54642132   Other  Palanas 2012 SWM     2011-10-01\n",
       "3 P54642133   Other  Palanas 2012 SWM     2011-10-01\n",
       "4 P54642134   Other  Palanas 2012 SWM     2011-10-01\n",
       "5 P54642135   Other  Palanas 2012 SWM     2011-10-01\n",
       "6 P54642136   Other  Palanas 2012 SWM     2011-10-01\n",
       "  num_route_parentage_matches num_release_days_seasonal num_release_days_annual\n",
       "1 3                           31                        244                    \n",
       "2 3                           31                        244                    \n",
       "3 3                           31                        244                    \n",
       "4 3                           31                        244                    \n",
       "5 3                           31                        244                    \n",
       "6 3                           31                        244                    \n",
       "  dest_num_females ... source_num_rec_sampled_annual source_prop_anem_samp\n",
       "1 49               ... NA                            NA                   \n",
       "2 49               ... NA                            NA                   \n",
       "3 49               ... NA                            NA                   \n",
       "4 49               ... NA                            NA                   \n",
       "5 49               ... NA                            NA                   \n",
       "6 49               ... NA                            NA                   \n",
       "  sim_month sim_day sim_year daily_particles_rec daily_particles_released\n",
       "1 10        10      2011     69                  4497728                 \n",
       "2 10        10      2011     69                  4497728                 \n",
       "3 10        10      2011     69                  4497728                 \n",
       "4 10        10      2011     69                  4497728                 \n",
       "5 10        10      2011     69                  4497728                 \n",
       "6 10        10      2011     69                  4497728                 \n",
       "  dist_km bearing direction\n",
       "1 NA      NA      NA       \n",
       "2 NA      NA      NA       \n",
       "3 NA      NA      NA       \n",
       "4 NA      NA      NA       \n",
       "5 NA      NA      NA       \n",
       "6 NA      NA      NA       "
      ]
     },
     "metadata": {},
     "output_type": "display_data"
    }
   ],
   "source": [
    "head(SimConn)"
   ]
  },
  {
   "cell_type": "code",
   "execution_count": null,
   "metadata": {},
   "outputs": [],
   "source": []
  },
  {
   "cell_type": "code",
   "execution_count": 4,
   "metadata": {},
   "outputs": [],
   "source": [
    "##each year will require a different set of survey data, so make a list of each and index by site for fast look up\n",
    "#SampledTable <- SurveyData[prop_anem_samp >0, c(\"year\", \"site\")]#previously named PropSampTable\n",
    "#\n",
    "##make sure all sampled sites are represented when joining the survey data to the sampled simulation- this chunk has the tables to add to a subsampled particle table. no need for the full\n",
    "#SampTable <- rbind(SurveyData[prop_anem_samp >0 & year %in% c(2012, 2013, 2014), c(\"year\", \"site\")][, .(source=site, dest=site, year=year)][, #will join to the simulated sampling table by source and dest, so make those each a column from site and preserve the year variable as a key\n",
    "#     c(\"year\", \"source\", \"dest\")][, monsoon := \"NEM\"], SurveyData[prop_anem_samp >0 & year %in% c(2012, 2013, 2014), c(\"year\", \"site\")][, .(source=site, dest=site, year=year)][, #will join to the simulated sampling table by source and dest, so make those each a column from site and preserve the year variable as a key\n",
    "#     c(\"year\", \"source\", \"dest\")][, monsoon := \"SWM\"])\n",
    "#\n",
    "#UnqSurvey <- unique(SampTable, by=c(\"source\", \"dest\", \"year\", \"monsoon\"))#add in the diff Monsoon seasons so there are complete parentage matrices later\n",
    "#\n",
    "#make sure all possible routes are represented\n",
    "AddDestSim <- rbind(rbindlist(list(unique(SimConn[, .(source, dest)], by=c(\"source\", \"dest\"))[, year := 2012],\n",
    "        unique(SimConn[, .(source, dest)], by=c(\"source\", \"dest\"))[, year := 2013], \n",
    "        unique(SimConn[, .(source, dest)], by=c(\"source\", \"dest\"))[, year := 2014]))[, monsoon := \"NEM\"],\n",
    "    rbindlist(list(unique(SimConn[, .(source, dest)], by=c(\"source\", \"dest\"))[, year := 2012],\n",
    "        unique(SimConn[, .(source, dest)], by=c(\"source\", \"dest\"))[, year := 2013], \n",
    "        unique(SimConn[, .(source, dest)], by=c(\"source\", \"dest\"))[, year := 2014]))[, monsoon := \"SWM\"])\n",
    "\n",
    "AddDestAllYearsSim <- unique(AddDestSim, by=c(\"source\",\"dest\"))[, -c(\"year\",\"monsoon\")] \n",
    "\n",
    "AddDestAnnualSim <- unique(AddDestSim, by=c(\"source\",\"dest\", \"year\"))[, -\"monsoon\"] \n",
    "\n",
    "AddDestMonsoonSim <- unique(AddDestSim[, -\"year\"], by=c(\"source\", \"dest\", \"monsoon\"))\n",
    "AddDestAnnualMonsoonSim <- unique(rbind(rbindlist(list(unique(SimConn[, .(source, dest)], by=c(\"source\", \"dest\"))[, year := 2011],\n",
    "        unique(SimConn[, .(source, dest)], by=c(\"source\", \"dest\"))[, year := 2012],\n",
    "        unique(SimConn[, .(source, dest)], by=c(\"source\", \"dest\"))[, year := 2013], \n",
    "        unique(SimConn[, .(source, dest)], by=c(\"source\", \"dest\"))[, year := 2014]))[, monsoon := \"NEM\"],\n",
    "    rbindlist(list(unique(SimConn[, .(source, dest)], by=c(\"source\", \"dest\"))[, year := 2011],\n",
    "        unique(SimConn[, .(source, dest)], by=c(\"source\", \"dest\"))[, year := 2012],\n",
    "        unique(SimConn[, .(source, dest)], by=c(\"source\", \"dest\"))[, year := 2013], \n",
    "        unique(SimConn[, .(source, dest)], by=c(\"source\", \"dest\"))[, year := 2014]))[, monsoon := \"SWM\"])\n",
    "    , by=c(\"source\", \"dest\",\"year\", \"monsoon\"))\n",
    "\n",
    "\n",
    "##add in sites that aren't represented in every year by the genetics for the biophysical PARENTAGE matrix used to fit the biophysical kernel\n",
    "AddDestGenAnnual <- rbindlist(list(unique(cbind(SurveyData[year==2012 & prop_anem_samp >0 ][, .(offs_site=site)], \n",
    "                  SurveyData[year==2012 & prop_anem_samp >0 ][ , .(par_site=site)]), by=c(\"offs_site\", \"par_site\"))[, year := 2012],  #what destinations were sampled, for use with unassigned table\n",
    "unique(cbind(SurveyData[year==2013 & prop_anem_samp >0 ][, .(offs_site=site)], \n",
    "                  SurveyData[year==2013 & prop_anem_samp >0 ][ , .(par_site=site)]), by=c(\"offs_site\", \"par_site\"))[, year := 2013],\n",
    "unique(cbind(SurveyData[year==2014 & prop_anem_samp >0 ][, .(offs_site=site)], \n",
    "                  SurveyData[year==2014 & prop_anem_samp >0 ][ , .(par_site=site)]), by=c(\"offs_site\", \"par_site\"))[, year := 2014]))\n",
    "\n",
    "AddDestGen <- cbind(PropSamp[prop_anem_samp > 0 & year==2014, .(site)][, .(offs_site=site)], PropSamp[prop_anem_samp > 0 & year==2014, .(site)][, .(par_site=site)])\n",
    "\n",
    "AddDestGenMonsoon <- rbind(cbind(AddDestGen, data.table(monsoon = rep(\"NEM\",nrow(AddDestGen)))), cbind(AddDestGen, data.table(monsoon = rep(\"SWM\",nrow(AddDestGen)))))\n"
   ]
  },
  {
   "cell_type": "code",
   "execution_count": null,
   "metadata": {},
   "outputs": [],
   "source": []
  },
  {
   "cell_type": "code",
   "execution_count": 5,
   "metadata": {},
   "outputs": [
    {
     "data": {
      "text/plain": [
       "   Min. 1st Qu.  Median    Mean 3rd Qu.    Max. \n",
       "0.00015 0.01297 0.02003 0.03276 0.03575 0.23132 "
      ]
     },
     "metadata": {},
     "output_type": "display_data"
    }
   ],
   "source": [
    "#make a normalized version that is num assigned from a source to a destination/ num released from that source\n",
    "total_release_days <- 687\n",
    "\n",
    "AllYearsRec <- SimConn[ , .(total_particles_rec = .N), by= c(\"source\",\"dest\")] #all particles recruiting along each route FILTER HERE FOR TIME PERIOD***\n",
    "AllYearsRelease <- unique(SimConn[, .(total_particles_released = as.numeric(daily_particles_released)*as.numeric(total_release_days)), by= c(\"source\")], by=\"source\") #calculate the number of particles released over the time frame by multiplyig the release days by the number of particles released daily. fread() converts big numbers to integers so specify as numeric to avoid integer overflow NAs\n",
    "\n",
    "AllYearsRecInt <- rbind(AddDestAllYearsSim[!AllYearsRec, on =.(source, dest)][ #what combos are not appearing because we didn't sample particles, but the route is possible based on our survey sampling\n",
    "    , total_particles_rec:=0 ], AllYearsRec) \n",
    "\n",
    "AllYearsReleaseInt <- rbind(AddDestAllYearsSim[!AllYearsRelease, on =.(source)][ #what combos are not appearing because we didn't sample particles, but the route is possible based on our survey sampling\n",
    "    , total_particles_released:=0 ][, -\"dest\"], AllYearsRelease) \n",
    "\n",
    "#collapse CAI and \"Other\" together into \"unknown\" before making the normalized matrices\n",
    "AllYearsRec <- unique(AllYearsRecInt[source== \"Other\" | source == \"CAI\", source := \"unknown\"][\n",
    "    , total_particles_rec := sum(total_particles_rec),  by=c(\"source\", \"dest\")], by=c(\"source\", \"dest\"))\n",
    "AllYearsRelease <- unique(AllYearsReleaseInt[source== \"Other\" | source == \"CAI\", source := \"unknown\"][\n",
    "    , total_particles_released := sum(total_particles_released), by=\"source\"], by=\"source\")\n",
    "\n",
    "#join recruited and released tables together and make a column for the normalized values\n",
    "AllYearsNormConn <-  AllYearsRelease[AllYearsRec, on=\"source\"][\n",
    "    , source_norm_rec := total_particles_rec/total_particles_released]\n",
    "\n",
    "#check that they sum to =< 1\n",
    "#AllYearsNormConn[,sum(source_norm_rec), by=\"source\"]#nothing should be greater than 1. It isn't- great\n",
    "\n",
    "#make sure all possible routes are represented!!*\n",
    "#cast into wide format\n",
    "FullBiophysMatNorm <- as.matrix(rbind(dcast(AllYearsNormConn[source !=\"unknown\", .(source, dest, source_norm_rec)][ #for assigned particles (not from \"Other\") keep the source/dest columns that will be expanded into wide form to become the connectivity matrix. Filtering for time period etc can be done in i here.\n",
    "    order(source, dest)] #keep sites in alphabetical order so the matrix is correctly formatted!\n",
    "        , source ~ dest, value.var=\"source_norm_rec\")[\n",
    "    ,-\"source\"], #remove the source column after casting\n",
    "      dcast(AllYearsNormConn[source == \"unknown\", .(source, dest, source_norm_rec)][ #this is to cast the \"unassigned row for the model parentage, which is anyting from \"Other\"\n",
    "          order(source, dest)], source ~ dest, value.var=\"source_norm_rec\")[,-\"source\"]))#bind these two cast wide form data tables (assigned and unassigned particles) and then turn into a matrix to be used in the likelihood functions\n",
    "#dim(FullBiophysMatNorm )\n",
    "FullBiophysMatNorm[is.na(FullBiophysMatNorm)] <- 0 #change NAs to zeros\n",
    "\n",
    "#make annual matrices with all of the particle data\n",
    "AnnualRec <- SimConn[ , .(annual_particles_rec = .N), by= c(\"source\",\"dest\", \"year\")] #all particles recruiting along each route FILTER HERE FOR TIME PERIOD***\n",
    "AnnualRelease <- unique(SimConn[, .(annual_particles_released = as.numeric(daily_particles_released)*as.numeric(num_release_days_annual)), by= c(\"source\", \"year\")], by= c(\"source\", \"year\")) #calculate the number of particles released over the time frame by multiplyig the release days by the number of particles released daily. fread() converts big numbers to integers so specify as numeric to avoid integer overflow NAs\n",
    "\n",
    "AnnualRecInt <- rbind(AddDestAnnualSim[!AnnualRec, on =.(source, dest, year)][ #what combos are not appearing because we didn't sample particles, but the route is possible based on our survey sampling\n",
    "    , annual_particles_rec:=0 ], AnnualRec) \n",
    "\n",
    "AnnualReleaseInt <- rbind(AddDestAnnualSim[!AnnualRelease, on =.(source, year)][ #what combos are not appearing because we didn't sample particles, but the route is possible based on our survey sampling\n",
    "    , annual_particles_released:=0 ][, -\"dest\"], AnnualRelease) \n",
    "\n",
    "#collapse CAI and \"Other\" together into \"unknown\" before making the normalized matrices\n",
    "AnnualRec <- unique(AnnualRecInt[source== \"Other\" | source == \"CAI\", source := \"unknown\"][\n",
    "    , annual_particles_rec := sum(annual_particles_rec), by=c(\"source\", \"dest\", \"year\")], by=c(\"source\", \"dest\", \"year\"))\n",
    "AnnualRelease <- unique(AnnualReleaseInt[source== \"Other\" | source == \"CAI\", source := \"unknown\"][\n",
    "    , annual_particles_released := sum(annual_particles_released), by=c(\"source\", \"year\")], by=c(\"source\", \"year\"))\n",
    "\n",
    "#join recruited and released tables together and make a column for the normalized values\n",
    "AnnualNormConn <-  AnnualRelease[AnnualRec, on=c(\"source\", \"year\")][\n",
    "    , source_norm_rec := annual_particles_rec/annual_particles_released]\n",
    "#check that they sum to =< 1\n",
    "summary(AnnualNormConn[, .(sum=sum(source_norm_rec)), by=c(\"year\", \"source\")][, sum])#nothing should exceed 1, it doesn't- great\n",
    "\n",
    "#cast into wide format for each year\n",
    "\n",
    "AnnualBiophysMatNorm2012 <- as.matrix(rbind(dcast(AnnualNormConn[year==2012 & source != \"unknown\", .(source, dest, source_norm_rec)][ #for assigned particles (not from \"Other\") keep the source/dest columns that will be expanded into wide form to become the connectivity matrix. Filtering for time period etc can be done in i here.\n",
    "    order(source, dest)] #keep sites in alphabetical order so the matrix is correctly formatted!\n",
    "        , source ~ dest, value.var=\"source_norm_rec\")[\n",
    "    ,-\"source\"], #remove the source column after casting\n",
    "      dcast(AnnualNormConn[year==2012][source == \"unknown\", .(source, dest, source_norm_rec)][ #this is to cast the \"unassigned row for the model parentage, which is anyting from \"Other\"\n",
    "          order(source, dest)], source ~ dest, value.var=\"source_norm_rec\")[,-\"source\"]))#bind these two cast wide form data tables (assigned and unassigned particles) and then turn into a matrix to be used in the likelihood functions\n",
    "#dim(AnnualBiophysMatNorm2012)\n",
    "AnnualBiophysMatNorm2012[is.na(AnnualBiophysMatNorm2012)] <- 0 #change NAs to zeros\n",
    "\n",
    "AnnualBiophysMatNorm2013 <- as.matrix(rbind(dcast(AnnualNormConn[year==2013 & source != \"unknown\", .(source, dest, source_norm_rec)][ #for assigned particles (not from \"Other\") keep the source/dest columns that will be expanded into wide form to become the connectivity matrix. Filtering for time period etc can be done in i here.\n",
    "    order(source, dest)] #keep sites in alphabetical order so the matrix is correctly formatted!\n",
    "        , source ~ dest, value.var=\"source_norm_rec\")[\n",
    "    ,-\"source\"], #remove the source column after casting\n",
    "      dcast(AnnualNormConn[year==2013][source == \"unknown\", .(source, dest, source_norm_rec)][ #this is to cast the \"unassigned row for the model parentage, which is anyting from \"Other\"\n",
    "          order(source, dest)], source ~ dest, value.var=\"source_norm_rec\")[,-\"source\"]))#bind these two cast wide form data tables (assigned and unassigned particles) and then turn into a matrix to be used in the likelihood functions\n",
    "#dim(AnnualBiophysMatNorm2013)\n",
    "AnnualBiophysMatNorm2013[is.na(AnnualBiophysMatNorm2013)] <- 0 #change NAs to zeros\n",
    "\n",
    "AnnualBiophysMatNorm2014 <- as.matrix(rbind(dcast(AnnualNormConn[year==2014 & source != \"unknown\", .(source, dest, source_norm_rec)][ #for assigned particles (not from \"Other\") keep the source/dest columns that will be expanded into wide form to become the connectivity matrix. Filtering for time period etc can be done in i here.\n",
    "    order(source, dest)] #keep sites in alphabetical order so the matrix is correctly formatted!\n",
    "        , source ~ dest, value.var=\"source_norm_rec\")[\n",
    "    ,-\"source\"], #remove the source column after casting\n",
    "      dcast(AnnualNormConn[year==2014][source == \"unknown\", .(source, dest, source_norm_rec)][ #this is to cast the \"unassigned row for the model parentage, which is anyting from \"Other\"\n",
    "          order(source, dest)], source ~ dest, value.var=\"source_norm_rec\")[,-\"source\"]))#bind these two cast wide form data tables (assigned and unassigned particles) and then turn into a matrix to be used in the likelihood functions\n",
    "#dim(AnnualBiophysMatNorm2014)\n",
    "AnnualBiophysMatNorm2014[is.na(AnnualBiophysMatNorm2014)] <- 0 #change NAs to zeros\n",
    "\n",
    "#make monsoon matrices with all of the particle data\n",
    "MonsoonRec <- SimConn[ , .(monsoon_particles_rec = .N), by= c(\"source\",\"dest\", \"monsoon\")] #all particles recruiting along each route FILTER HERE FOR TIME PERIOD***\n",
    "MonsoonRelease <- unique(SimConn[, .(monsoon_particles_released = as.numeric(daily_particles_released)*as.numeric(num_release_days_seasonal)), by= c(\"source\", \"monsoon\")], by= c(\"source\", \"monsoon\")) #calculate the number of particles released over the time frame by multiplyig the release days by the number of particles released daily. fread() converts big numbers to integers so specify as numeric to avoid integer overflow NAs\n",
    "\n",
    "MonsoonRec <- SimConn[ , .(monsoon_particles_rec = .N), by= c(\"source\",\"dest\", \"monsoon\")] #all particles recruiting along each route FILTER HERE FOR TIME PERIOD***\n",
    "MonsoonRelease <- unique(SimConn[, .(monsoon_particles_released = as.numeric(daily_particles_released)*as.numeric(num_release_days_seasonal)), by= c(\"source\", \"monsoon\")], by= c(\"source\", \"monsoon\")) #calculate the number of particles released over the time frame by multiplyig the release days by the number of particles released daily. fread() converts big numbers to integers so specify as numeric to avoid integer overflow NAs\n",
    "\n",
    "MonsoonRecInt <- rbind(AddDestMonsoonSim[!MonsoonRec, on =.(source, dest, monsoon)][ #what combos are not appearing because we didn't sample particles, but the route is possible based on our survey sampling\n",
    "    , monsoon_particles_rec:=0 ], MonsoonRec) \n",
    "\n",
    "MonsoonReleaseInt <- rbind(AddDestMonsoonSim[!MonsoonRelease, on =.(source, monsoon)][ #what combos are not appearing because we didn't sample particles, but the route is possible based on our survey sampling\n",
    "    , monsoon_particles_released:=0 ][, -\"dest\"], MonsoonRelease) \n",
    "\n",
    "#collapse CAI and \"Other\" together into \"unknown\" before making the normalized matrices\n",
    "MonsoonRec <- unique(MonsoonRecInt[source== \"Other\" | source == \"CAI\", source := \"unknown\"][\n",
    "    , monsoon_particles_rec := sum(monsoon_particles_rec), by=c(\"source\", \"dest\", \"monsoon\")], by=c(\"source\", \"dest\", \"monsoon\"))\n",
    "MonsoonRelease <- unique(MonsoonReleaseInt[source== \"Other\" | source == \"CAI\", source := \"unknown\"][\n",
    "    , monsoon_particles_released := sum(monsoon_particles_released), by=c(\"source\", \"monsoon\")], by=c(\"source\", \"monsoon\"))\n",
    "\n",
    "#join recruited and released tables together and make a column for the normalized values\n",
    "MonsoonNormConn <-  MonsoonRelease[MonsoonRec, on=c(\"source\", \"monsoon\")][\n",
    "    , source_norm_rec := monsoon_particles_rec/monsoon_particles_released]\n",
    "#check that they sum to =< 1\n",
    "#summary(MonsoonNormConn[, .(sum=sum(source_norm_rec)), by=c(\"monsoon\", \"source\")][, sum])#nothing should exceed 1, it doesn't- great\n",
    "\n",
    "MonsoonBiophysMatNormNEM <- as.matrix(rbind(dcast(MonsoonNormConn[monsoon==\"NEM\" & source != \"unknown\", .(source, dest, source_norm_rec)][ #for assigned particles (not from \"Other\") keep the source/dest columns that will be expanded into wide form to become the connectivity matrix. Filtering for time period etc can be done in i here.\n",
    "    order(source, dest)] #keep sites in alphabetical order so the matrix is correctly formatted!\n",
    "        , source ~ dest, value.var=\"source_norm_rec\")[\n",
    "    ,-\"source\"], #remove the source column after casting\n",
    "      dcast(MonsoonNormConn[monsoon==\"NEM\"][source == \"unknown\", .(source, dest, source_norm_rec)][ #this is to cast the \"unassigned row for the model parentage, which is anyting from \"Other\"\n",
    "          order(source, dest)], source ~ dest, value.var=\"source_norm_rec\")[,-\"source\"]))#bind these two cast wide form data tables (assigned and unassigned particles) and then turn into a matrix to be used in the likelihood functions\n",
    "#dim(MonsoonBiophysMatNormNEM)\n",
    "MonsoonBiophysMatNormNEM[is.na(MonsoonBiophysMatNormNEM)] <- 0 #change NAs to zeros\n",
    "\n",
    "MonsoonBiophysMatNormSWM <- as.matrix(rbind(dcast(MonsoonNormConn[monsoon==\"SWM\" & source != \"unknown\", .(source, dest, source_norm_rec)][ #for assigned particles (not from \"Other\") keep the source/dest columns that will be expanded into wide form to become the connectivity matrix. Filtering for time period etc can be done in i here.\n",
    "    order(source, dest)] #keep sites in alphabetical order so the matrix is correctly formatted!\n",
    "        , source ~ dest, value.var=\"source_norm_rec\")[\n",
    "    ,-\"source\"], #remove the source column after casting\n",
    "      dcast(MonsoonNormConn[monsoon==\"SWM\"][source == \"unknown\", .(source, dest, source_norm_rec)][ #this is to cast the \"unassigned row for the model parentage, which is anyting from \"Other\"\n",
    "          order(source, dest)], source ~ dest, value.var=\"source_norm_rec\")[,-\"source\"]))#bind these two cast wide form data tables (assigned and unassigned particles) and then turn into a matrix to be used in the likelihood functions\n",
    "#dim(MonsoonBiophysMatNormSWM)\n",
    "MonsoonBiophysMatNormSWM[is.na(MonsoonBiophysMatNormSWM)] <- 0 #change NAs to zeros\n",
    "\n",
    "#fwrite(FullBiophysMatNorm, file=\"~/oceanography/script_output/ROMSDataTables/20210917_BioPhysNormConnMatrix2012-14ForROMSComp15DayPLD.csv\")\n",
    "#fwrite(AnnualBiophysMatNorm2012, file=\"~/oceanography/script_output/ROMSDataTables/20210917_BioPhysNormConnMatrix2012ForROMSComp15DayPLD.csv\")\n",
    "#fwrite(AnnualBiophysMatNorm2013, file=\"~/oceanography/script_output/ROMSDataTables/20210917_BioPhysNormConnMatrix2013ForROMSComp15DayPLD.csv\")\n",
    "#fwrite(AnnualBiophysMatNorm2014, file=\"~/oceanography/script_output/ROMSDataTables/20210917_BioPhysNormConnMatrix2014ForROMSComp15DayPLD.csv\")\n",
    "#fwrite(MonsoonBiophysMatNormNEM, file=\"~/oceanography/script_output/ROMSDataTables/20210917_BioPhysNormConnMatrixNEM2012-14ForROMSComp15DayPLD.csv\")\n",
    "#fwrite(MonsoonBiophysMatNormSWM, file=\"~/oceanography/script_output/ROMSDataTables/20210917_BioPhysNormConnMatrixSWM2012-14ForROMSComp15DayPLD.csv\")"
   ]
  },
  {
   "cell_type": "code",
   "execution_count": 9,
   "metadata": {},
   "outputs": [
    {
     "data": {
      "text/html": [
       "<dl class=dl-horizontal>\n",
       "\t<dt>Cabatoan</dt>\n",
       "\t\t<dd>0.0479442853144667</dd>\n",
       "\t<dt>Caridad Cemetery</dt>\n",
       "\t\t<dd>0.0774373835160806</dd>\n",
       "\t<dt>Caridad Proper</dt>\n",
       "\t\t<dd>0.120927625820365</dd>\n",
       "\t<dt>Elementary School</dt>\n",
       "\t\t<dd>0.0626281855455751</dd>\n",
       "\t<dt>Gabas</dt>\n",
       "\t\t<dd>0.0731125011869838</dd>\n",
       "\t<dt>Haina</dt>\n",
       "\t\t<dd>0.126744606482447</dd>\n",
       "\t<dt>Hicgop South</dt>\n",
       "\t\t<dd>0.106969542054437</dd>\n",
       "\t<dt>Magbangon</dt>\n",
       "\t\t<dd>0.0458949393374086</dd>\n",
       "\t<dt>Palanas</dt>\n",
       "\t\t<dd>0.0166199504029951</dd>\n",
       "\t<dt>Poroc Rose</dt>\n",
       "\t\t<dd>0.0270241174254798</dd>\n",
       "\t<dt>Poroc San Flower</dt>\n",
       "\t\t<dd>0.0362325674465661</dd>\n",
       "\t<dt>San Agustin</dt>\n",
       "\t\t<dd>0.132848013782248</dd>\n",
       "\t<dt>Sitio Baybayon</dt>\n",
       "\t\t<dd>0.151061462263857</dd>\n",
       "\t<dt>Sitio Lonas</dt>\n",
       "\t\t<dd>0.321753102421086</dd>\n",
       "\t<dt>Sitio Tugas</dt>\n",
       "\t\t<dd>0.07227723206866</dd>\n",
       "\t<dt>Tamakin Dacot</dt>\n",
       "\t\t<dd>0.402665851087271</dd>\n",
       "\t<dt>Visca</dt>\n",
       "\t\t<dd>0.0461357409133242</dd>\n",
       "\t<dt>Wangag</dt>\n",
       "\t\t<dd>0.0214433075588048</dd>\n",
       "</dl>\n"
      ],
      "text/latex": [
       "\\begin{description*}\n",
       "\\item[Cabatoan] 0.0479442853144667\n",
       "\\item[Caridad Cemetery] 0.0774373835160806\n",
       "\\item[Caridad Proper] 0.120927625820365\n",
       "\\item[Elementary School] 0.0626281855455751\n",
       "\\item[Gabas] 0.0731125011869838\n",
       "\\item[Haina] 0.126744606482447\n",
       "\\item[Hicgop South] 0.106969542054437\n",
       "\\item[Magbangon] 0.0458949393374086\n",
       "\\item[Palanas] 0.0166199504029951\n",
       "\\item[Poroc Rose] 0.0270241174254798\n",
       "\\item[Poroc San Flower] 0.0362325674465661\n",
       "\\item[San Agustin] 0.132848013782248\n",
       "\\item[Sitio Baybayon] 0.151061462263857\n",
       "\\item[Sitio Lonas] 0.321753102421086\n",
       "\\item[Sitio Tugas] 0.07227723206866\n",
       "\\item[Tamakin Dacot] 0.402665851087271\n",
       "\\item[Visca] 0.0461357409133242\n",
       "\\item[Wangag] 0.0214433075588048\n",
       "\\end{description*}\n"
      ],
      "text/markdown": [
       "Cabatoan\n",
       ":   0.0479442853144667Caridad Cemetery\n",
       ":   0.0774373835160806Caridad Proper\n",
       ":   0.120927625820365Elementary School\n",
       ":   0.0626281855455751Gabas\n",
       ":   0.0731125011869838Haina\n",
       ":   0.126744606482447Hicgop South\n",
       ":   0.106969542054437Magbangon\n",
       ":   0.0458949393374086Palanas\n",
       ":   0.0166199504029951Poroc Rose\n",
       ":   0.0270241174254798Poroc San Flower\n",
       ":   0.0362325674465661San Agustin\n",
       ":   0.132848013782248Sitio Baybayon\n",
       ":   0.151061462263857Sitio Lonas\n",
       ":   0.321753102421086Sitio Tugas\n",
       ":   0.07227723206866Tamakin Dacot\n",
       ":   0.402665851087271Visca\n",
       ":   0.0461357409133242Wangag\n",
       ":   0.0214433075588048\n",
       "\n"
      ],
      "text/plain": [
       "         Cabatoan  Caridad Cemetery    Caridad Proper Elementary School \n",
       "       0.04794429        0.07743738        0.12092763        0.06262819 \n",
       "            Gabas             Haina      Hicgop South         Magbangon \n",
       "       0.07311250        0.12674461        0.10696954        0.04589494 \n",
       "          Palanas        Poroc Rose  Poroc San Flower       San Agustin \n",
       "       0.01661995        0.02702412        0.03623257        0.13284801 \n",
       "   Sitio Baybayon       Sitio Lonas       Sitio Tugas     Tamakin Dacot \n",
       "       0.15106146        0.32175310        0.07227723        0.40266585 \n",
       "            Visca            Wangag \n",
       "       0.04613574        0.02144331 "
      ]
     },
     "metadata": {},
     "output_type": "display_data"
    },
    {
     "data": {
      "text/html": [
       "<ol class=list-inline>\n",
       "\t<li>19</li>\n",
       "\t<li>18</li>\n",
       "</ol>\n"
      ],
      "text/latex": [
       "\\begin{enumerate*}\n",
       "\\item 19\n",
       "\\item 18\n",
       "\\end{enumerate*}\n"
      ],
      "text/markdown": [
       "1. 19\n",
       "2. 18\n",
       "\n",
       "\n"
      ],
      "text/plain": [
       "[1] 19 18"
      ]
     },
     "metadata": {},
     "output_type": "display_data"
    }
   ],
   "source": [
    "colSums(MonsoonBiophysMatNormNEM)\n",
    "dim(MonsoonBiophysMatNormNEM)"
   ]
  },
  {
   "cell_type": "code",
   "execution_count": 12,
   "metadata": {},
   "outputs": [
    {
     "data": {
      "text/html": [
       "<ol class=list-inline>\n",
       "\t<li>17</li>\n",
       "\t<li>16</li>\n",
       "</ol>\n"
      ],
      "text/latex": [
       "\\begin{enumerate*}\n",
       "\\item 17\n",
       "\\item 16\n",
       "\\end{enumerate*}\n"
      ],
      "text/markdown": [
       "1. 17\n",
       "2. 16\n",
       "\n",
       "\n"
      ],
      "text/plain": [
       "[1] 17 16"
      ]
     },
     "metadata": {},
     "output_type": "display_data"
    },
    {
     "data": {
      "text/html": [
       "<ol class=list-inline>\n",
       "\t<li>17</li>\n",
       "\t<li>16</li>\n",
       "</ol>\n"
      ],
      "text/latex": [
       "\\begin{enumerate*}\n",
       "\\item 17\n",
       "\\item 16\n",
       "\\end{enumerate*}\n"
      ],
      "text/markdown": [
       "1. 17\n",
       "2. 16\n",
       "\n",
       "\n"
      ],
      "text/plain": [
       "[1] 17 16"
      ]
     },
     "metadata": {},
     "output_type": "display_data"
    },
    {
     "data": {
      "text/html": [
       "<ol class=list-inline>\n",
       "\t<li>17</li>\n",
       "\t<li>16</li>\n",
       "</ol>\n"
      ],
      "text/latex": [
       "\\begin{enumerate*}\n",
       "\\item 17\n",
       "\\item 16\n",
       "\\end{enumerate*}\n"
      ],
      "text/markdown": [
       "1. 17\n",
       "2. 16\n",
       "\n",
       "\n"
      ],
      "text/plain": [
       "[1] 17 16"
      ]
     },
     "metadata": {},
     "output_type": "display_data"
    },
    {
     "data": {
      "text/html": [
       "<ol class=list-inline>\n",
       "\t<li>17</li>\n",
       "\t<li>16</li>\n",
       "</ol>\n"
      ],
      "text/latex": [
       "\\begin{enumerate*}\n",
       "\\item 17\n",
       "\\item 16\n",
       "\\end{enumerate*}\n"
      ],
      "text/markdown": [
       "1. 17\n",
       "2. 16\n",
       "\n",
       "\n"
      ],
      "text/plain": [
       "[1] 17 16"
      ]
     },
     "metadata": {},
     "output_type": "display_data"
    },
    {
     "data": {
      "text/html": [
       "<ol class=list-inline>\n",
       "\t<li>17</li>\n",
       "\t<li>16</li>\n",
       "</ol>\n"
      ],
      "text/latex": [
       "\\begin{enumerate*}\n",
       "\\item 17\n",
       "\\item 16\n",
       "\\end{enumerate*}\n"
      ],
      "text/markdown": [
       "1. 17\n",
       "2. 16\n",
       "\n",
       "\n"
      ],
      "text/plain": [
       "[1] 17 16"
      ]
     },
     "metadata": {},
     "output_type": "display_data"
    }
   ],
   "source": [
    "#make a parentage matrix for the whole biophysical results- CAI included with Other as \"unknown\", use this to fit a kernel\n",
    "FullBiophysMat <- as.matrix(rbind(dcast(AllYearsNormConn[source %in% AddDestGenAnnual[, par_site] & dest %in% AddDestGenAnnual[, offs_site]][source !=\"unknown\", .(source, dest, total_particles_rec)][ #for assigned particles (not from \"Other\") keep the source/dest columns that will be expanded into wide form to become the connectivity matrix. Filtering for time period etc can be done in i here.\n",
    "    order(source, dest)] #keep sites in alphabetical order so the matrix is correctly formatted!\n",
    "        , source ~ dest, value.var=\"total_particles_rec\")[#use sum to count the matches for each id variable combo, that populated the cells of the matrix\n",
    "    ,-\"source\"], #remove the source column after casting\n",
    "      dcast(AllYearsNormConn[dest %in% AddDestGenAnnual[, offs_site]][source  == \"unknown\", .(source, dest, total_particles_rec)][ #this is to cast the \"unassigned row for the model parentage, which is anyting from \"Other\"\n",
    "        order(source, dest)], source ~ dest, value.var=\"total_particles_rec\")[,-\"source\"]))#bind these two cast wide form data tables (assigned and unassigned particles) and then turn into a matrix to be used in the likelihood functions\n",
    "FullBiophysMat[is.na(FullBiophysMat)] <- 0 #change NAs to zerosdim(FullBiophysMat)\n",
    "dim(FullBiophysMat)\n",
    "#parentage matrix by years and monsoons\n",
    "AnnualBiophysMat2012 <- as.matrix(rbind(dcast(AnnualNormConn[year==2012][source %in% AddDestGenAnnual[year==2012, par_site] & dest %in% AddDestGenAnnual[year==2012, offs_site]][source !=\"unknown\", .(source, dest, annual_particles_rec)][ #for assigned particles (not from \"Other\") keep the source/dest columns that will be expanded into wide form to become the connectivity matrix. Filtering for time period etc can be done in i here.\n",
    "    order(source, dest)] #keep sites in alphabetical order so the matrix is correctly formatted!\n",
    "        , source ~ dest, value.var=\"annual_particles_rec\")[#use sum to count the matches for each id variable combo, that populated the cells of the matrix\n",
    "    ,-\"source\"], #remove the source column after casting\n",
    "dcast(AnnualNormConn[year==2012][dest %in% AddDestGenAnnual[year==2012, offs_site]][source  == \"unknown\", .(source, dest, annual_particles_rec)][ #this is to cast the \"unassigned row for the model parentage, which is anyting from \"Other\"\n",
    "        order(source, dest)], source ~ dest, value.var=\"annual_particles_rec\")[,-\"source\"]))#bind these two cast wide form data tables (assigned and unassigned particles) and then turn into a matrix to be used in the likelihood functions\n",
    "AnnualBiophysMat2012[is.na(AnnualBiophysMat2012)] <- 0 #change NAs to zerosdim(AnnualBiophysMat2012)\n",
    "\n",
    "AnnualBiophysMat2013 <- as.matrix(rbind(dcast(AnnualNormConn[year==2013][source %in% AddDestGenAnnual[year==2013, par_site] & dest %in% AddDestGenAnnual[year==2013, offs_site]][source !=\"unknown\", .(source, dest, annual_particles_rec)][ #for assigned particles (not from \"Other\") keep the source/dest columns that will be expanded into wide form to become the connectivity matrix. Filtering for time period etc can be done in i here.\n",
    "    order(source, dest)] #keep sites in alphabetical order so the matrix is correctly formatted!\n",
    "        , source ~ dest, value.var=\"annual_particles_rec\")[#use sum to count the matches for each id variable combo, that populated the cells of the matrix\n",
    "    ,-\"source\"], #remove the source column after casting\n",
    "dcast(AnnualNormConn[year==2013][dest %in% AddDestGenAnnual[year==2013, offs_site]][source  == \"unknown\", .(source, dest, annual_particles_rec)][ #this is to cast the \"unassigned row for the model parentage, which is anyting from \"Other\"\n",
    "        order(source, dest)], source ~ dest, value.var=\"annual_particles_rec\")[,-\"source\"]))#bind these two cast wide form data tables (assigned and unassigned particles) and then turn into a matrix to be used in the likelihood functions\n",
    "AnnualBiophysMat2013[is.na(AnnualBiophysMat2013)] <- 0 #change NAs to zeros\n",
    "dim(AnnualBiophysMat2013)\n",
    "\n",
    "AnnualBiophysMat2014 <- as.matrix(rbind(dcast(AnnualNormConn[year==2014][source %in% AddDestGenAnnual[year==2014, par_site] & dest %in% AddDestGenAnnual[year==2014, offs_site]][source !=\"unknown\", .(source, dest, annual_particles_rec)][ #for assigned particles (not from \"Other\") keep the source/dest columns that will be expanded into wide form to become the connectivity matrix. Filtering for time period etc can be done in i here.\n",
    "    order(source, dest)] #keep sites in alphabetical order so the matrix is correctly formatted!\n",
    "        , source ~ dest, value.var=\"annual_particles_rec\")[#use sum to count the matches for each id variable combo, that populated the cells of the matrix\n",
    "    ,-\"source\"], #remove the source column after casting\n",
    "dcast(AnnualNormConn[year==2014][dest %in% AddDestGenAnnual[year==2014, offs_site]][source  == \"unknown\", .(source, dest, annual_particles_rec)][ #this is to cast the \"unassigned row for the model parentage, which is anyting from \"Other\"\n",
    "        order(source, dest)], source ~ dest, value.var=\"annual_particles_rec\")[,-\"source\"]))#bind these two cast wide form data tables (assigned and unassigned particles) and then turn into a matrix to be used in the likelihood functions\n",
    "AnnualBiophysMat2014[is.na(AnnualBiophysMat2014)] <- 0 #change NAs to zeros\n",
    "dim(AnnualBiophysMat2014)\n",
    "\n",
    "MonsoonBiophysMatNEM <- as.matrix(rbind(dcast(MonsoonNormConn[source %in% AddDestGenAnnual[year==2014, par_site] & dest %in% AddDestGenAnnual[year==2014, offs_site]][monsoon==\"NEM\" & source != \"unknown\", .(source, dest, monsoon_particles_rec)][ #for assigned particles (not from \"Other\") keep the source/dest columns that will be expanded into wide form to become the connectivity matrix. Filtering for time period etc can be done in i here.\n",
    "    order(source, dest)] #keep sites in alphabetical order so the matrix is correctly formatted!\n",
    "        , source ~ dest, value.var=\"monsoon_particles_rec\")[\n",
    "    ,-\"source\"], #remove the source column after casting\n",
    "      dcast(MonsoonNormConn[monsoon==\"NEM\"][dest %in% AddDestGenAnnual[year==2014, offs_site]][source == \"unknown\", .(source, dest, monsoon_particles_rec)][ #this is to cast the \"unassigned row for the model parentage, which is anyting from \"Other\"\n",
    "          order(source, dest)], source ~ dest, value.var=\"monsoon_particles_rec\")[,-\"source\"]))#bind these two cast wide form data tables (assigned and unassigned particles) and then turn into a matrix to be used in the likelihood functions\n",
    "MonsoonBiophysMatNEM[is.na(MonsoonBiophysMatNEM)] <- 0 #change NAs to zeros\n",
    "dim(MonsoonBiophysMatNEM)\n",
    "\n",
    "MonsoonBiophysMatSWM <- as.matrix(rbind(dcast(MonsoonNormConn[source %in% AddDestGenAnnual[year==2014, par_site] & dest %in% AddDestGenAnnual[year==2014, offs_site]][monsoon==\"SWM\" & source != \"unknown\", .(source, dest, monsoon_particles_rec)][ #for assigned particles (not from \"Other\") keep the source/dest columns that will be expanded into wide form to become the connectivity matrix. Filtering for time period etc can be done in i here.\n",
    "    order(source, dest)] #keep sites in alphabetical order so the matrix is correctly formatted!\n",
    "        , source ~ dest, value.var=\"monsoon_particles_rec\")[\n",
    "    ,-\"source\"], #remove the source column after casting\n",
    "      dcast(MonsoonNormConn[monsoon==\"SWM\"][dest %in% AddDestGenAnnual[year==2014, offs_site]][source == \"unknown\", .(source, dest, monsoon_particles_rec)][ #this is to cast the \"unassigned row for the model parentage, which is anyting from \"Other\"\n",
    "          order(source, dest)], source ~ dest, value.var=\"monsoon_particles_rec\")[,-\"source\"]))#bind these two cast wide form data tables (assigned and unassigned particles) and then turn into a matrix to be used in the likelihood functions\n",
    "MonsoonBiophysMatSWM[is.na(MonsoonBiophysMatSWM)] <- 0 #change NAs to zeros\n",
    "dim(MonsoonBiophysMatSWM)\n",
    "#fwrite(FullBiophysMat, file=\"~/oceanography/script_output/ROMSDataTables/20210917_BioPhysParentageMatrix2012-14ForROMSComp15DayPLD.csv\")\n",
    "#fwrite(AnnualBiophysMat2012, file=\"~/oceanography/script_output/ROMSDataTables/20210917_BioPhysParentageMatrix2012ForROMSComp15DayPLD.csv\")\n",
    "#fwrite(AnnualBiophysMat2013, file=\"~/oceanography/script_output/ROMSDataTables/20210917_BioPhysParentageMatrix2013ForROMSComp15DayPLD.csv\")\n",
    "#fwrite(AnnualBiophysMat2014, file=\"~/oceanography/script_output/ROMSDataTables/20210917_BioPhysParentageMatrix2014ForROMSComp15DayPLD.csv\")\n",
    "#fwrite(MonsoonBiophysMatNEM, file=\"~/oceanography/script_output/ROMSDataTables/20210917_BioPhysParentageMatrixNEM2012-14ForROMSComp15DayPLD.csv\")\n",
    "#fwrite(MonsoonBiophysMatSWM, file=\"~/oceanography/script_output/ROMSDataTables/20210917_BioPhysParentageMatrixSWM2012-14ForROMSComp15DayPLD.csv\")"
   ]
  },
  {
   "cell_type": "code",
   "execution_count": null,
   "metadata": {},
   "outputs": [],
   "source": [
    "#get the best-fit kernels in fit_data.ipynb"
   ]
  },
  {
   "cell_type": "code",
   "execution_count": null,
   "metadata": {},
   "outputs": [
    {
     "data": {
      "text/html": [
       "0"
      ],
      "text/latex": [
       "0"
      ],
      "text/markdown": [
       "0"
      ],
      "text/plain": [
       "[1] 0"
      ]
     },
     "metadata": {},
     "output_type": "display_data"
    },
    {
     "data": {
      "text/html": [
       "0"
      ],
      "text/latex": [
       "0"
      ],
      "text/markdown": [
       "0"
      ],
      "text/plain": [
       "[1] 0"
      ]
     },
     "metadata": {},
     "output_type": "display_data"
    },
    {
     "name": "stdout",
     "output_type": "stream",
     "text": [
      "  |============                                                          |  18%"
     ]
    }
   ],
   "source": [
    "#bootstrap the particle data and re-fit kernels\n",
    "num <- nrow(SimConn)\n",
    "\n",
    "#make sure all possible routes are represented\n",
    "AddDestSim <- rbind(rbindlist(list(unique(SimConn[, .(source, dest)], by=c(\"source\", \"dest\"))[, year := 2012],\n",
    "        unique(SimConn[, .(source, dest)], by=c(\"source\", \"dest\"))[, year := 2013], \n",
    "        unique(SimConn[, .(source, dest)], by=c(\"source\", \"dest\"))[, year := 2014]))[, monsoon := \"NEM\"],\n",
    "    rbindlist(list(unique(SimConn[, .(source, dest)], by=c(\"source\", \"dest\"))[, year := 2012],\n",
    "        unique(SimConn[, .(source, dest)], by=c(\"source\", \"dest\"))[, year := 2013], \n",
    "        unique(SimConn[, .(source, dest)], by=c(\"source\", \"dest\"))[, year := 2014]))[, monsoon := \"SWM\"])\n",
    "\n",
    "AddDestAllYearsSim <- unique(AddDestSim, by=c(\"source\",\"dest\"))[, -c(\"year\",\"monsoon\")] \n",
    "\n",
    "AddDestAnnualSim <- unique(AddDestSim, by=c(\"source\",\"dest\", \"year\"))[, -\"monsoon\"] \n",
    "\n",
    "AddDestMonsoonSim <- unique(AddDestSim[, -\"year\"], by=c(\"source\", \"dest\", \"monsoon\"))\n",
    "AddDestAnuualMonsoonSim <- unique(AddDestSim, by=c(\"source\", \"dest\",\"year\", \"monsoon\"))\n",
    "\n",
    "##add in sites that aren't represented in every year by the genetics for the biophysical PARENTAGE matrix used to fit the biophysical kernel\n",
    "AddDestGenAnnual <- rbindlist(list(unique(cbind(SurveyData[year==2012 & prop_anem_samp >0 ][, .(offs_site=site)], \n",
    "                  SurveyData[year==2012 & prop_anem_samp >0 ][ , .(par_site=site)]), by=c(\"offs_site\", \"par_site\"))[, year := 2012],  #what destinations were sampled, for use with unassigned table\n",
    "unique(cbind(SurveyData[year==2013 & prop_anem_samp >0 ][, .(offs_site=site)], \n",
    "                  SurveyData[year==2013 & prop_anem_samp >0 ][ , .(par_site=site)]), by=c(\"offs_site\", \"par_site\"))[, year := 2013],\n",
    "unique(cbind(SurveyData[year==2014 & prop_anem_samp >0 ][, .(offs_site=site)], \n",
    "                  SurveyData[year==2014 & prop_anem_samp >0 ][ , .(par_site=site)]), by=c(\"offs_site\", \"par_site\"))[, year := 2014]))\n",
    "\n",
    "AddDestGen <- cbind(PropSamp[prop_anem_samp > 0 & year==2014, .(site)][, .(offs_site=site)], PropSamp[prop_anem_samp > 0 & year==2014, .(site)][, .(par_site=site)])\n",
    "\n",
    "AddDestGenMonsoon <- rbind(cbind(AddDestGen, data.table(monsoon = rep(\"NEM\",nrow(AddDestGen)))), cbind(AddDestGen, data.table(monsoon = rep(\"SWM\",nrow(AddDestGen)))))\n",
    "\n",
    "#read in all data needed for kernel fitting\n",
    "#read in the centroids adjusted for the simulation, so the Magbangons combined \n",
    "#centroids <- fread(file=\"~/oceanography/script_output/SurveyData/SimulationCentroids.csv\")\n",
    "Centroids <- fread(file=\"~/oceanography/empirical_data/site_centroids_SimTest.csv\") \n",
    "Centroids$site <- gsub(\"_full\", \"\", Centroids$site, fixed=TRUE)\n",
    "Centroids$site <- gsub(\"_ten_per_cover\", \"\", Centroids$site, fixed=TRUE)\n",
    "\n",
    "Centroids <- Centroids %>%\n",
    "    arrange(site)\n",
    "\n",
    "#setorder(Centroids, site)#warning! This sets order based on site, and then lat/lon. So the table is not alphabetical by site, but that's fine as long as all of the \"sampled_reef\" vectors reflect this, so that reef_sizes, distance, and sampled_reefs match up by row/col index \n",
    "#read in the table with number of recruits sampled at each site for each year\n",
    "AnnualRecsSamp <- fread(file=\"~/oceanography/script_output/SurveyData/AnnualRecruitsSampled.csv\")\n",
    "#read in the table of the proportion of anemones sampled at each site for each year\n",
    "PropSamp <- unique(fread(file=\"~/oceanography/script_output/SurveyData/ProportionHabitatSampled.csv\")[\n",
    "    , .(site, year=end_year, prop_anem_samp=total_prop_hab_sampled_anems_tidied)][ #select and rename columns with the tideied data to use\n",
    "    site %like% \"Magbangon\", site := \"Magbangon\"][ #collapse Magbangon values\n",
    "    , prop_anem_samp := sum(prop_anem_samp), by=c(\"site\", \"year\")], by=c(\"site\", \"year\"))[ #collapse magbangons to match ROMS data\n",
    "    site==\"Sitio Lonas\" & year %in% c(2012, 2013, 2014), prop_anem_samp :=1][site==\"Caridad Proper\" & year %in% c(2013, 2014), prop_anem_samp :=1]\n",
    "\n",
    "### List of source locations\n",
    "SitesSource <- Centroids\n",
    "\n",
    "### List of destination locations\n",
    "SitesDest <- Centroids\n",
    "\n",
    "DistMatm <- distm(SitesSource[,c('lon','lat')], SitesSource[,c('lon','lat')], fun=distVincentyEllipsoid)\n",
    "Distances <- DistMatm*10^-3\n",
    "#read in the reef areas for the kernel fitting\n",
    "Area <- fread(\"~/oceanography/empirical_data/site_area_header_nonsurveyed_simulation_kernels_test.csv\") %>%\n",
    "    arrange(site) %>%\n",
    "    filter(site %!in% c(\"near_north_full1\", \"near_north_full2\", \"near_north_full3\", \"near_south_full1\", \"near_south_full2\", \"near_south_full3\")) %>%\n",
    "    mutate(kmsq=msq*10^-6)# %>%\n",
    "    #select(kmsq) #need to uncomment for functions to work\n",
    "Area$site <- gsub(\"_ten_per_cover\", \"\", Area$site, fixed=TRUE)\n",
    "\n",
    "reef_sizes <- as.matrix(Area$kmsq)\n",
    "\n",
    "#make a site index table, use this for Sampled_reefs input in kernel fitting\n",
    "SiteIndex <- unique(Centroids %>% arrange(site), by=\"site\")[, index := .I] #add the row number as the unique site index, leave CAI in if fitting a kernel \n",
    "SiteIndexBioPhys <- unique(Centroids %>% arrange(site), by=\"site\")[site != \"CAI\"][, index := .I] #add the row number as the unique site index, take CAI out for biophysical likelihood function\n",
    "\n",
    "#make a table with the survey information for each site (how many fish sampled, prop anems sampled, total number of anems at site)\n",
    "SurveyData <- AnnualRecsSamp[PropSamp, on=.(year, site)][#join the sampling tables together\n",
    "    is.na(n_offs_gen), n_offs_gen := 0]#change NA's to 0\n",
    "#setnames(SurveyData, c(\"PropAnemSamp\", \"TotalAnems\"), c(\"prop_anem_samp\", \"total_anems\"))\n",
    "#setkey(SurveyData, site)\n",
    "#check all sites are represented in centroids and area (and indirectly distances, which comes from centroids)\n",
    "#Area[site %!in% centroids$site] #should be nothing\n",
    "\n",
    "#Allison's abundance time series data \n",
    "#download.file(url = \"https://github.com/pinskylab/Clownfish_persistence/blob/master/Data/Script_outputs/females_df_F.RData?raw=true\", destfile = \"~/oceanography/empirical_data/genetics/females_df_F.RData\")\n",
    "load(\"~/oceanography/empirical_data/genetics/females_df_F.RData\")\n",
    "Abundance <- as.data.table(females_df_F)\n",
    "setnames(Abundance, \"nF\", \"num_females\")\n",
    "Abundance <- unique(Abundance[site %like% \"Magbangon\", site := \"Magbangon\"][ #collapse Magbangon values\n",
    "            , num_females := sum(num_females), by=c(\"site\", \"year\")], by=c(\"site\", \"year\"))\n",
    "#join the survey sampling tables together\n",
    "SurveyData <- AnnualRecsSamp[PropSamp, on=.(year, site)][\n",
    "    is.na(n_offs_gen), n_offs_gen := 0]#change NA's to 0\n",
    "\n",
    "\n",
    "SurveyData <- Abundance[, c(\"year\", \"site\", \"num_females\")][SurveyData, on=.(year, site)]#join in Allison's estimate of female abundance. There are NA values, but that's okay we can figure those out when we start thinking about incorporating uncertainty in this\n",
    "#quick check that all components are in the same, alphabetical order\n",
    "sum(which(SiteIndex$site==Area$site)==FALSE) #needs to be 0!! sites have to be in the same order\n",
    "sum(which(Area$site==Centroids$site)==FALSE) #needs to be 0!! sites have to be in the same order\n",
    "\n",
    "#start bootstrapping\n",
    "SimKernels <- data.table(time_scale=character(), time_id=character(), k=numeric(), theta=numeric(), mdd=numeric(), med=numeric(), dist90=numeric(), log_like=numeric(), iteration=numeric())\n",
    "\n",
    "pb <- txtProgressBar(min = 0, max = 1000, style = 3)\n",
    "\n",
    "for(i in 1:1000){\n",
    "    \n",
    "    SimConnInt <- SimConn[, .SD[sample(.N, num, replace=TRUE)]] #sample the particle data\n",
    "    \n",
    "#format the matrices\n",
    "\n",
    "    AllYearsRec <- SimConnInt[ , .(total_particles_rec = .N), by= c(\"source\",\"dest\")] #all particles recruiting along each route FILTER HERE FOR TIME PERIOD***\n",
    "    AllYearsRelease <- unique(SimConnInt[, .(total_particles_released = as.numeric(daily_particles_released)*as.numeric(total_release_days)), by= c(\"source\")], by=\"source\") #calculate the number of particles released over the time frame by multiplyig the release days by the number of particles released daily. fread() converts big numbers to integers so specify as numeric to avoid integer overflow NAs\n",
    "    \n",
    "    AllYearsRecInt <- rbind(AddDestAllYearsSim[!AllYearsRec, on =.(source, dest)][ #what combos are not appearing because we didn't sample particles, but the route is possible based on our survey sampling\n",
    "        , total_particles_rec:=0 ], AllYearsRec) \n",
    "    \n",
    "    AllYearsReleaseInt <- rbind(AddDestAllYearsSim[!AllYearsRelease, on =.(source)][ #what combos are not appearing because we didn't sample particles, but the route is possible based on our survey sampling\n",
    "        , total_particles_released:=0 ][, -\"dest\"], AllYearsRelease) \n",
    "    \n",
    "    #collapse CAI and \"Other\" together into \"unknown\" before making the normalized matrices\n",
    "    AllYearsRec <- unique(AllYearsRecInt[source== \"Other\" | source == \"CAI\", source := \"unknown\"][\n",
    "        , total_particles_rec := sum(total_particles_rec),  by=c(\"source\", \"dest\")], by=c(\"source\", \"dest\"))\n",
    "    AllYearsRelease <- unique(AllYearsReleaseInt[source== \"Other\" | source == \"CAI\", source := \"unknown\"][\n",
    "        , total_particles_released := sum(total_particles_released), by=\"source\"], by=\"source\")\n",
    "    \n",
    "    #join recruited and released tables together and make a column for the normalized values\n",
    "    AllYearsNormConn <-  AllYearsRelease[AllYearsRec, on=\"source\"][\n",
    "        , source_norm_rec := total_particles_rec/total_particles_released]\n",
    "\n",
    "    #make a parentage matrix for the whole biophysical results- CAI included with Other as \"unknown\", use this to fit a kernel\n",
    "FullBiophysMat <- as.matrix(rbind(dcast(AllYearsNormConn[source %in% AddDestGenAnnual[, par_site] & dest %in% AddDestGenAnnual[, offs_site]][source !=\"unknown\", .(source, dest, total_particles_rec)][ #for assigned particles (not from \"Other\") keep the source/dest columns that will be expanded into wide form to become the connectivity matrix. Filtering for time period etc can be done in i here.\n",
    "    order(source, dest)] #keep sites in alphabetical order so the matrix is correctly formatted!\n",
    "        , source ~ dest, value.var=\"total_particles_rec\")[#use sum to count the matches for each id variable combo, that populated the cells of the matrix\n",
    "    ,-\"source\"], #remove the source column after casting\n",
    "      dcast(AllYearsNormConn[dest %in% AddDestGenAnnual[, offs_site]][source  == \"unknown\", .(source, dest, total_particles_rec)][ #this is to cast the \"unassigned row for the model parentage, which is anyting from \"Other\"\n",
    "        order(source, dest)], source ~ dest, value.var=\"total_particles_rec\")[,-\"source\"]))#bind these two cast wide form data tables (assigned and unassigned particles) and then turn into a matrix to be used in the likelihood functions\n",
    "FullBiophysMat[is.na(FullBiophysMat)] <- 0 #change NAs to zerosdim(FullBiophysMat)\n",
    "#dim(FullBiophysMat)\n",
    "#parentage matrix by years and monsoons\n",
    "    \n",
    "#make annual matrices with all of the particle data\n",
    "AnnualRec <- SimConnInt[ , .(annual_particles_rec = .N), by= c(\"source\",\"dest\", \"year\")] #all particles recruiting along each route FILTER HERE FOR TIME PERIOD***\n",
    "AnnualRelease <- unique(SimConnInt[, .(annual_particles_released = as.numeric(daily_particles_released)*as.numeric(num_release_days_annual)), by= c(\"source\", \"year\")], by= c(\"source\", \"year\")) #calculate the number of particles released over the time frame by multiplyig the release days by the number of particles released daily. fread() converts big numbers to integers so specify as numeric to avoid integer overflow NAs\n",
    "\n",
    "AnnualRecInt <- rbind(AddDestAnnualSim[!AnnualRec, on =.(source, dest, year)][ #what combos are not appearing because we didn't sample particles, but the route is possible based on our survey sampling\n",
    "    , annual_particles_rec:=0 ], AnnualRec) \n",
    "\n",
    "AnnualReleaseInt <- rbind(AddDestAnnualSim[!AnnualRelease, on =.(source, year)][ #what combos are not appearing because we didn't sample particles, but the route is possible based on our survey sampling\n",
    "    , annual_particles_released:=0 ][, -\"dest\"], AnnualRelease) \n",
    "\n",
    "#collapse CAI and \"Other\" together into \"unknown\" before making the normalized matrices\n",
    "AnnualRec <- unique(AnnualRecInt[source== \"Other\" | source == \"CAI\", source := \"unknown\"][\n",
    "    , annual_particles_rec := sum(annual_particles_rec), by=c(\"source\", \"dest\", \"year\")], by=c(\"source\", \"dest\", \"year\"))\n",
    "AnnualRelease <- unique(AnnualReleaseInt[source== \"Other\" | source == \"CAI\", source := \"unknown\"][\n",
    "    , annual_particles_released := sum(annual_particles_released), by=c(\"source\", \"year\")], by=c(\"source\", \"year\"))\n",
    "\n",
    "#join recruited and released tables together and make a column for the normalized values\n",
    "AnnualNormConn <-  AnnualRelease[AnnualRec, on=c(\"source\", \"year\")][\n",
    "    , source_norm_rec := annual_particles_rec/annual_particles_released]\n",
    "\n",
    "AnnualBiophysMat2012 <- as.matrix(rbind(dcast(AnnualNormConn[year==2012][source %in% AddDestGenAnnual[year==2012, par_site] & dest %in% AddDestGenAnnual[year==2012, offs_site]][source !=\"unknown\", .(source, dest, annual_particles_rec)][ #for assigned particles (not from \"Other\") keep the source/dest columns that will be expanded into wide form to become the connectivity matrix. Filtering for time period etc can be done in i here.\n",
    "    order(source, dest)] #keep sites in alphabetical order so the matrix is correctly formatted!\n",
    "        , source ~ dest, value.var=\"annual_particles_rec\")[#use sum to count the matches for each id variable combo, that populated the cells of the matrix\n",
    "    ,-\"source\"], #remove the source column after casting\n",
    "dcast(AnnualNormConn[year==2012][dest %in% AddDestGenAnnual[year==2012, offs_site]][source  == \"unknown\", .(source, dest, annual_particles_rec)][ #this is to cast the \"unassigned row for the model parentage, which is anyting from \"Other\"\n",
    "        order(source, dest)], source ~ dest, value.var=\"annual_particles_rec\")[,-\"source\"]))#bind these two cast wide form data tables (assigned and unassigned particles) and then turn into a matrix to be used in the likelihood functions\n",
    "AnnualBiophysMat2012[is.na(AnnualBiophysMat2012)] <- 0 #change NAs to zerosdim(AnnualBiophysMat2012)\n",
    "\n",
    "AnnualBiophysMat2013 <- as.matrix(rbind(dcast(AnnualNormConn[year==2013][source %in% AddDestGenAnnual[year==2013, par_site] & dest %in% AddDestGenAnnual[year==2013, offs_site]][source !=\"unknown\", .(source, dest, annual_particles_rec)][ #for assigned particles (not from \"Other\") keep the source/dest columns that will be expanded into wide form to become the connectivity matrix. Filtering for time period etc can be done in i here.\n",
    "    order(source, dest)] #keep sites in alphabetical order so the matrix is correctly formatted!\n",
    "        , source ~ dest, value.var=\"annual_particles_rec\")[#use sum to count the matches for each id variable combo, that populated the cells of the matrix\n",
    "    ,-\"source\"], #remove the source column after casting\n",
    "dcast(AnnualNormConn[year==2013][dest %in% AddDestGenAnnual[year==2013, offs_site]][source  == \"unknown\", .(source, dest, annual_particles_rec)][ #this is to cast the \"unassigned row for the model parentage, which is anyting from \"Other\"\n",
    "        order(source, dest)], source ~ dest, value.var=\"annual_particles_rec\")[,-\"source\"]))#bind these two cast wide form data tables (assigned and unassigned particles) and then turn into a matrix to be used in the likelihood functions\n",
    "AnnualBiophysMat2013[is.na(AnnualBiophysMat2013)] <- 0 #change NAs to zeros\n",
    "#dim(AnnualBiophysMat2013)\n",
    "\n",
    "AnnualBiophysMat2014 <- as.matrix(rbind(dcast(AnnualNormConn[year==2014][source %in% AddDestGenAnnual[year==2014, par_site] & dest %in% AddDestGenAnnual[year==2014, offs_site]][source !=\"unknown\", .(source, dest, annual_particles_rec)][ #for assigned particles (not from \"Other\") keep the source/dest columns that will be expanded into wide form to become the connectivity matrix. Filtering for time period etc can be done in i here.\n",
    "    order(source, dest)] #keep sites in alphabetical order so the matrix is correctly formatted!\n",
    "        , source ~ dest, value.var=\"annual_particles_rec\")[#use sum to count the matches for each id variable combo, that populated the cells of the matrix\n",
    "    ,-\"source\"], #remove the source column after casting\n",
    "dcast(AnnualNormConn[year==2014][dest %in% AddDestGenAnnual[year==2014, offs_site]][source  == \"unknown\", .(source, dest, annual_particles_rec)][ #this is to cast the \"unassigned row for the model parentage, which is anyting from \"Other\"\n",
    "        order(source, dest)], source ~ dest, value.var=\"annual_particles_rec\")[,-\"source\"]))#bind these two cast wide form data tables (assigned and unassigned particles) and then turn into a matrix to be used in the likelihood functions\n",
    "AnnualBiophysMat2014[is.na(AnnualBiophysMat2014)] <- 0 #change NAs to zeros\n",
    "#dim(AnnualBiophysMat2014)\n",
    "\n",
    "MonsoonRec <- SimConnInt[ , .(monsoon_particles_rec = .N), by= c(\"source\",\"dest\", \"monsoon\")] #all particles recruiting along each route FILTER HERE FOR TIME PERIOD***\n",
    "MonsoonRelease <- unique(SimConnInt[, .(monsoon_particles_released = as.numeric(daily_particles_released)*as.numeric(num_release_days_seasonal)), by= c(\"source\", \"monsoon\")], by= c(\"source\", \"monsoon\")) #calculate the number of particles released over the time frame by multiplyig the release days by the number of particles released daily. fread() converts big numbers to integers so specify as numeric to avoid integer overflow NAs\n",
    "\n",
    "MonsoonRec <- SimConnInt[ , .(monsoon_particles_rec = .N), by= c(\"source\",\"dest\", \"monsoon\")] #all particles recruiting along each route FILTER HERE FOR TIME PERIOD***\n",
    "MonsoonRelease <- unique(SimConnInt[, .(monsoon_particles_released = as.numeric(daily_particles_released)*as.numeric(num_release_days_seasonal)), by= c(\"source\", \"monsoon\")], by= c(\"source\", \"monsoon\")) #calculate the number of particles released over the time frame by multiplyig the release days by the number of particles released daily. fread() converts big numbers to integers so specify as numeric to avoid integer overflow NAs\n",
    "\n",
    "MonsoonRecInt <- rbind(AddDestMonsoonSim[!MonsoonRec, on =.(source, dest, monsoon)][ #what combos are not appearing because we didn't sample particles, but the route is possible based on our survey sampling\n",
    "    , monsoon_particles_rec:=0 ], MonsoonRec) \n",
    "\n",
    "MonsoonReleaseInt <- rbind(AddDestMonsoonSim[!MonsoonRelease, on =.(source, monsoon)][ #what combos are not appearing because we didn't sample particles, but the route is possible based on our survey sampling\n",
    "    , monsoon_particles_released:=0 ][, -\"dest\"], MonsoonRelease) \n",
    "\n",
    "#collapse CAI and \"Other\" together into \"unknown\" before making the normalized matrices\n",
    "MonsoonRec <- unique(MonsoonRecInt[source== \"Other\" | source == \"CAI\", source := \"unknown\"][\n",
    "    , monsoon_particles_rec := sum(monsoon_particles_rec), by=c(\"source\", \"dest\", \"monsoon\")], by=c(\"source\", \"dest\", \"monsoon\"))\n",
    "MonsoonRelease <- unique(MonsoonReleaseInt[source== \"Other\" | source == \"CAI\", source := \"unknown\"][\n",
    "    , monsoon_particles_released := sum(monsoon_particles_released), by=c(\"source\", \"monsoon\")], by=c(\"source\", \"monsoon\"))\n",
    "\n",
    "#join recruited and released tables together and make a column for the normalized values\n",
    "MonsoonNormConn <-  MonsoonRelease[MonsoonRec, on=c(\"source\", \"monsoon\")][\n",
    "    , source_norm_rec := monsoon_particles_rec/monsoon_particles_released]\n",
    "  \n",
    "    \n",
    "MonsoonBiophysMatNEM <- as.matrix(rbind(dcast(MonsoonNormConn[source %in% AddDestGenAnnual[year==2014, par_site] & dest %in% AddDestGenAnnual[year==2014, offs_site]][monsoon==\"NEM\" & source != \"unknown\", .(source, dest, monsoon_particles_rec)][ #for assigned particles (not from \"Other\") keep the source/dest columns that will be expanded into wide form to become the connectivity matrix. Filtering for time period etc can be done in i here.\n",
    "    order(source, dest)] #keep sites in alphabetical order so the matrix is correctly formatted!\n",
    "        , source ~ dest, value.var=\"monsoon_particles_rec\")[\n",
    "    ,-\"source\"], #remove the source column after casting\n",
    "      dcast(MonsoonNormConn[monsoon==\"NEM\"][dest %in% AddDestGenAnnual[year==2014, offs_site]][source == \"unknown\", .(source, dest, monsoon_particles_rec)][ #this is to cast the \"unassigned row for the model parentage, which is anyting from \"Other\"\n",
    "          order(source, dest)], source ~ dest, value.var=\"monsoon_particles_rec\")[,-\"source\"]))#bind these two cast wide form data tables (assigned and unassigned particles) and then turn into a matrix to be used in the likelihood functions\n",
    "MonsoonBiophysMatNEM[is.na(MonsoonBiophysMatNEM)] <- 0 #change NAs to zeros\n",
    "#dim(MonsoonBiophysMatNEM)\n",
    "\n",
    "MonsoonBiophysMatSWM <- as.matrix(rbind(dcast(MonsoonNormConn[source %in% AddDestGenAnnual[year==2014, par_site] & dest %in% AddDestGenAnnual[year==2014, offs_site]][monsoon==\"SWM\" & source != \"unknown\", .(source, dest, monsoon_particles_rec)][ #for assigned particles (not from \"Other\") keep the source/dest columns that will be expanded into wide form to become the connectivity matrix. Filtering for time period etc can be done in i here.\n",
    "    order(source, dest)] #keep sites in alphabetical order so the matrix is correctly formatted!\n",
    "        , source ~ dest, value.var=\"monsoon_particles_rec\")[\n",
    "    ,-\"source\"], #remove the source column after casting\n",
    "      dcast(MonsoonNormConn[monsoon==\"SWM\"][dest %in% AddDestGenAnnual[year==2014, offs_site]][source == \"unknown\", .(source, dest, monsoon_particles_rec)][ #this is to cast the \"unassigned row for the model parentage, which is anyting from \"Other\"\n",
    "          order(source, dest)], source ~ dest, value.var=\"monsoon_particles_rec\")[,-\"source\"]))#bind these two cast wide form data tables (assigned and unassigned particles) and then turn into a matrix to be used in the likelihood functions\n",
    "MonsoonBiophysMatSWM[is.na(MonsoonBiophysMatSWM)] <- 0 #change NAs to zeros\n",
    "#dim(MonsoonBiophysMatSWM)\n",
    "\n",
    "#fit the kernels\n",
    "    #fit the kernels, get the biophysical data together\n",
    "biophys_par_data2012 <- list(Distances=Distances, Assignments=AnnualBiophysMat2012, Sampled_reefs=t(as.matrix(SiteIndex[site %in% SurveyData[year==2012 & prop_anem_samp >0 , site], .(index)])), \n",
    "                  Reef_sizes=reef_sizes, Adult_sample_proportions=matrix(nrow=ncol(AnnualBiophysMat2012), ncol=1, 1))\n",
    "Sim2012Fit <- suppressWarnings(mle2(LL_kt_bbmle, start=list(k=-3, theta=1), lower=c(-10, 0.15), upper=c(10, 5), method=\"L-BFGS-B\", data=biophys_par_data2012, control=list(maxit=500)))\n",
    "\n",
    "biophys_par_data2013 <- list(Distances=Distances, Assignments=AnnualBiophysMat2013, Sampled_reefs=t(as.matrix(SiteIndex[site %in% SurveyData[year==2013 & prop_anem_samp >0 , site], .(index)])), \n",
    "                  Reef_sizes=reef_sizes, Adult_sample_proportions=matrix(nrow=ncol(AnnualBiophysMat2013), ncol=1, 1))\n",
    "Sim2013Fit <- suppressWarnings(mle2(LL_kt_bbmle, start=list(k=-3, theta=1), lower=c(-10, 0.15), upper=c(10, 5), method=\"L-BFGS-B\", data=biophys_par_data2013, control=list(maxit=500)))\n",
    "\n",
    "biophys_par_data2014 <- list(Distances=Distances, Assignments=AnnualBiophysMat2014, Sampled_reefs=t(as.matrix(SiteIndex[site %in% SurveyData[year==2014 & prop_anem_samp >0 , site], .(index)])), \n",
    "                  Reef_sizes=reef_sizes, Adult_sample_proportions=matrix(nrow=ncol(AnnualBiophysMat2014), ncol=1, 1))\n",
    "Sim2014Fit <- suppressWarnings(mle2(LL_kt_bbmle, start=list(k=-3, theta=1), lower=c(-10, 0.15), upper=c(10, 5), method=\"L-BFGS-B\", data=biophys_par_data2014, control=list(maxit=500)))\n",
    "\n",
    "biophys_par_data2012_4 <- list(Distances=Distances, Assignments=FullBiophysMat, Sampled_reefs=t(as.matrix(SiteIndex[site %in% SurveyData[year==2014 & prop_anem_samp >0 , site], .(index)])), \n",
    "                  Reef_sizes=reef_sizes, Adult_sample_proportions=matrix(nrow=ncol(FullBiophysMat), ncol=1, 1))\n",
    "Sim2012_4Fit <- suppressWarnings(mle2(LL_kt_bbmle, start=list(k=-3, theta=1), lower=c(-10, 0.15), upper=c(10, 5), method=\"L-BFGS-B\", data=biophys_par_data2012_4, control=list(maxit=500)))\n",
    "\n",
    "biophys_par_dataNEM <- list(Distances=Distances, Assignments=MonsoonBiophysMatNEM, Sampled_reefs=t(as.matrix(SiteIndex[site %in% SurveyData[year==2014 & prop_anem_samp >0 , site], .(index)])), \n",
    "                  Reef_sizes=reef_sizes, Adult_sample_proportions=matrix(nrow=ncol(MonsoonBiophysMatNEM), ncol=1, 1))\n",
    "SimNEMFit <- suppressWarnings(mle2(LL_kt_bbmle, start=list(k=-3, theta=1), lower=c(-10, 0.15), upper=c(10, 5), method=\"L-BFGS-B\", data=biophys_par_dataNEM, control=list(maxit=500)))\n",
    "\n",
    "biophys_par_dataSWM <- list(Distances=Distances, Assignments=MonsoonBiophysMatSWM, Sampled_reefs=t(as.matrix(SiteIndex[site %in% SurveyData[year==2014 & prop_anem_samp >0 , site], .(index)])), \n",
    "                  Reef_sizes=reef_sizes, Adult_sample_proportions=matrix(nrow=ncol(MonsoonBiophysMatSWM), ncol=1, 1))\n",
    "SimSWMFit <- suppressWarnings(mle2(LL_kt_bbmle, start=list(k=-3, theta=1), lower=c(-10, 0.15), upper=c(10, 5), method=\"L-BFGS-B\", data=biophys_par_dataSWM, control=list(maxit=500)))\n",
    "\n",
    "#make a summary table for all time frames of simulation data\n",
    "SimKernelsInt <- as.data.frame(matrix(NA, nrow = 6, ncol = 8))\n",
    "setDT(SimKernelsInt)\n",
    "setnames(SimKernelsInt, c(\"time_scale\", \"time_id\", \"k\", \"theta\", \"mdd\", \"med\", \"dist90\", \"log_like\"))\n",
    "\n",
    "\n",
    "BestK2012 <- as.numeric(coef(Sim2012Fit)[1])\n",
    "BestTheta2012 <- as.numeric(coef(Sim2012Fit)[2])\n",
    "MDD2012 <- as.numeric(cubintegrate(integrate_kernel_sum1, lower = 0, upper = Inf, k=BestK2012, theta=BestTheta2012, , method = \"pcubature\")$integral)\n",
    "k_eval <- BestK2012\n",
    "theta_eval <- BestTheta2012\n",
    "Med2012  <- round(nleqslv(x = 7, fn = cdf_solve)$x, 2) \n",
    "Dist90_2012 <- round(nleqslv(x = 7, fn = cdf_solve90)$x, 2)\n",
    "\n",
    "SimKernelsInt$time_scale[1] <- \"annual\"\n",
    "SimKernelsInt$time_id[1] <- \"2012\"\n",
    "SimKernelsInt$k[1] <-  BestK2012\n",
    "SimKernelsInt$theta[1] <- BestTheta2012\n",
    "SimKernelsInt$mdd[1] <- MDD2012\n",
    "SimKernelsInt$med[1] <- Med2012\n",
    "SimKernelsInt$dist90[1] <- Dist90_2012\n",
    "SimKernelsInt$log_like[1] <- logLik(Sim2012Fit)[1]\n",
    "\n",
    "BestK2013 <- as.numeric(coef(Sim2013Fit)[1])\n",
    "BestTheta2013 <- as.numeric(coef(Sim2013Fit)[2])\n",
    "MDD2013 <- as.numeric(cubintegrate(integrate_kernel_sum1, lower = 0, upper = Inf, k=BestK2013, theta=BestTheta2013, , method = \"pcubature\")$integral)\n",
    "k_eval <- BestK2013\n",
    "theta_eval <- BestTheta2013\n",
    "Med2013  <- round(nleqslv(x = 7, fn = cdf_solve)$x, 2) \n",
    "Dist90_2013 <- round(nleqslv(x = 7, fn = cdf_solve90)$x, 2)\n",
    "\n",
    "SimKernelsInt$time_scale[2] <- \"annual\"\n",
    "SimKernelsInt$time_id[2] <- \"2013\"\n",
    "SimKernelsInt$k[2] <-  BestK2013\n",
    "SimKernelsInt$theta[2] <- BestTheta2013\n",
    "SimKernelsInt$mdd[2] <- MDD2013\n",
    "SimKernelsInt$med[2] <- Med2013\n",
    "SimKernelsInt$dist90[2] <- Dist90_2013\n",
    "SimKernelsInt$log_like[2] <- logLik(Sim2013Fit)[1]\n",
    "\n",
    "\n",
    "BestK2014 <- as.numeric(coef(Sim2014Fit)[1])\n",
    "BestTheta2014 <- as.numeric(coef(Sim2014Fit)[2])\n",
    "MDD2014 <- as.numeric(cubintegrate(integrate_kernel_sum1, lower = 0, upper = Inf, k=BestK2014, theta=BestTheta2014, , method = \"pcubature\")$integral)\n",
    "k_eval <- BestK2014\n",
    "theta_eval <- BestTheta2014\n",
    "Med2014  <- round(nleqslv(x = 7, fn = cdf_solve)$x, 2) \n",
    "Dist90_2014 <- round(nleqslv(x = 7, fn = cdf_solve90)$x, 2)\n",
    "\n",
    "SimKernelsInt$time_scale[3] <- \"annual\"\n",
    "SimKernelsInt$time_id[3] <- \"2014\"\n",
    "SimKernelsInt$k[3] <-  BestK2014\n",
    "SimKernelsInt$theta[3] <- BestTheta2014\n",
    "SimKernelsInt$mdd[3] <- MDD2014\n",
    "SimKernelsInt$med[3] <- Med2014\n",
    "SimKernelsInt$dist90[3] <- Dist90_2014\n",
    "SimKernelsInt$log_like[3] <- logLik(Sim2014Fit)[1]\n",
    "\n",
    "BestK2012_4 <- as.numeric(coef(Sim2012_4Fit)[1])\n",
    "BestTheta2012_4 <- as.numeric(coef(Sim2012_4Fit)[2])\n",
    "MDD2012_4 <- as.numeric(cubintegrate(integrate_kernel_sum1, lower = 0, upper = Inf, k=BestK2012_4, theta=BestTheta2012_4, , method = \"pcubature\")$integral)\n",
    "k_eval <- BestK2012_4\n",
    "theta_eval <- BestTheta2012_4\n",
    "Med2012_4  <- round(nleqslv(x = 7, fn = cdf_solve)$x, 2) \n",
    "Dist90_2012_4 <- round(nleqslv(x = 7, fn = cdf_solve90)$x, 2)\n",
    "\n",
    "SimKernelsInt$time_scale[4] <- \"interannual\"\n",
    "SimKernelsInt$time_id[4] <- \"2012-4\"\n",
    "SimKernelsInt$k[4] <-  BestK2012_4\n",
    "SimKernelsInt$theta[4] <- BestTheta2012_4\n",
    "SimKernelsInt$mdd[4] <- MDD2012_4\n",
    "SimKernelsInt$med[4] <- Med2012_4\n",
    "SimKernelsInt$dist90[4] <- Dist90_2012_4\n",
    "SimKernelsInt$log_like[4] <- logLik(Sim2012_4Fit)[1]\n",
    "\n",
    "BestKNEM <- as.numeric(coef(SimNEMFit)[1])\n",
    "BestThetaNEM <- as.numeric(coef(SimNEMFit)[2])\n",
    "MDDNEM <- as.numeric(cubintegrate(integrate_kernel_sum1, lower = 0, upper = Inf, k=BestKNEM, theta=BestThetaNEM, , method = \"pcubature\")$integral)\n",
    "k_eval <- BestKNEM\n",
    "theta_eval <- BestThetaNEM\n",
    "MedNEM  <- round(nleqslv(x = 7, fn = cdf_solve)$x, 2) \n",
    "Dist90_NEM <- round(nleqslv(x = 7, fn = cdf_solve90)$x, 2)\n",
    "\n",
    "SimKernelsInt$time_scale[5] <- \"season\"\n",
    "SimKernelsInt$time_id[5] <- \"NEM\"\n",
    "SimKernelsInt$k[5] <-  BestKNEM\n",
    "SimKernelsInt$theta[5] <- BestThetaNEM\n",
    "SimKernelsInt$mdd[5] <- MDDNEM\n",
    "SimKernelsInt$med[5] <- MedNEM\n",
    "SimKernelsInt$dist90[5] <- Dist90_NEM\n",
    "SimKernelsInt$log_like[5] <- logLik(SimNEMFit)[1]\n",
    "\n",
    "BestKSWM <- as.numeric(coef(SimSWMFit)[1])\n",
    "BestThetaSWM <- as.numeric(coef(SimSWMFit)[2])\n",
    "MDDSWM <- as.numeric(cubintegrate(integrate_kernel_sum1, lower = 0, upper = Inf, k=BestKSWM, theta=BestThetaSWM, , method = \"pcubature\")$integral)\n",
    "k_eval <- BestKSWM\n",
    "theta_eval <- BestThetaSWM\n",
    "MedSWM  <- round(nleqslv(x = 7, fn = cdf_solve)$x, 2) \n",
    "Dist90_SWM <- round(nleqslv(x = 7, fn = cdf_solve90)$x, 2)\n",
    "\n",
    "SimKernelsInt$time_scale[6] <- \"season\"\n",
    "SimKernelsInt$time_id[6] <- \"SWM\"\n",
    "SimKernelsInt$k[6] <-  BestKSWM\n",
    "SimKernelsInt$theta[6] <- BestThetaSWM\n",
    "SimKernelsInt$mdd[6] <- MDDSWM\n",
    "SimKernelsInt$med[6] <- MedSWM\n",
    "SimKernelsInt$dist90[6] <- Dist90_SWM\n",
    "SimKernelsInt$log_like[6] <- logLik(SimSWMFit)[1]\n",
    "\n",
    "    SimKernelsInt$iteration <- i\n",
    "    SimKernels <- rbind(SimKernels, SimKernelsInt)\n",
    "    setTxtProgressBar(pb, i)\n",
    "    \n",
    "    }\n",
    "close(pb)\n",
    "\n",
    "fwrite(SimKernels, \"~/oceanography/script_output/KernelFits/summary_tables/BootstrappedBiophysicalKernels08DayPLD.csv\")"
   ]
  },
  {
   "cell_type": "code",
   "execution_count": 11,
   "metadata": {},
   "outputs": [
    {
     "data": {
      "text/html": [
       "<table>\n",
       "<thead><tr><th scope=col>source</th><th scope=col>monsoon</th><th scope=col>monsoon_particles_released</th><th scope=col>dest</th><th scope=col>monsoon_particles_rec</th><th scope=col>source_norm_rec</th></tr></thead>\n",
       "<tbody>\n",
       "\t<tr><td>Elementary School</td><td>SWM              </td><td>30752            </td><td>Elementary School</td><td>0                </td><td>0                </td></tr>\n",
       "\t<tr><td>San Agustin      </td><td>SWM              </td><td>30752            </td><td>Cabatoan         </td><td>0                </td><td>0                </td></tr>\n",
       "\t<tr><td>Sitio Lonas      </td><td>SWM              </td><td>30752            </td><td>Magbangon        </td><td>0                </td><td>0                </td></tr>\n",
       "\t<tr><td>Sitio Lonas      </td><td>SWM              </td><td>30752            </td><td>Cabatoan         </td><td>0                </td><td>0                </td></tr>\n",
       "\t<tr><td>Sitio Lonas      </td><td>SWM              </td><td>30752            </td><td>Sitio Baybayon   </td><td>0                </td><td>0                </td></tr>\n",
       "\t<tr><td>Cabatoan         </td><td>SWM              </td><td>30752            </td><td>Caridad Proper   </td><td>0                </td><td>0                </td></tr>\n",
       "</tbody>\n",
       "</table>\n"
      ],
      "text/latex": [
       "\\begin{tabular}{r|llllll}\n",
       " source & monsoon & monsoon\\_particles\\_released & dest & monsoon\\_particles\\_rec & source\\_norm\\_rec\\\\\n",
       "\\hline\n",
       "\t Elementary School & SWM               & 30752             & Elementary School & 0                 & 0                \\\\\n",
       "\t San Agustin       & SWM               & 30752             & Cabatoan          & 0                 & 0                \\\\\n",
       "\t Sitio Lonas       & SWM               & 30752             & Magbangon         & 0                 & 0                \\\\\n",
       "\t Sitio Lonas       & SWM               & 30752             & Cabatoan          & 0                 & 0                \\\\\n",
       "\t Sitio Lonas       & SWM               & 30752             & Sitio Baybayon    & 0                 & 0                \\\\\n",
       "\t Cabatoan          & SWM               & 30752             & Caridad Proper    & 0                 & 0                \\\\\n",
       "\\end{tabular}\n"
      ],
      "text/markdown": [
       "\n",
       "| source | monsoon | monsoon_particles_released | dest | monsoon_particles_rec | source_norm_rec |\n",
       "|---|---|---|---|---|---|\n",
       "| Elementary School | SWM               | 30752             | Elementary School | 0                 | 0                 |\n",
       "| San Agustin       | SWM               | 30752             | Cabatoan          | 0                 | 0                 |\n",
       "| Sitio Lonas       | SWM               | 30752             | Magbangon         | 0                 | 0                 |\n",
       "| Sitio Lonas       | SWM               | 30752             | Cabatoan          | 0                 | 0                 |\n",
       "| Sitio Lonas       | SWM               | 30752             | Sitio Baybayon    | 0                 | 0                 |\n",
       "| Cabatoan          | SWM               | 30752             | Caridad Proper    | 0                 | 0                 |\n",
       "\n"
      ],
      "text/plain": [
       "  source            monsoon monsoon_particles_released dest             \n",
       "1 Elementary School SWM     30752                      Elementary School\n",
       "2 San Agustin       SWM     30752                      Cabatoan         \n",
       "3 Sitio Lonas       SWM     30752                      Magbangon        \n",
       "4 Sitio Lonas       SWM     30752                      Cabatoan         \n",
       "5 Sitio Lonas       SWM     30752                      Sitio Baybayon   \n",
       "6 Cabatoan          SWM     30752                      Caridad Proper   \n",
       "  monsoon_particles_rec source_norm_rec\n",
       "1 0                     0              \n",
       "2 0                     0              \n",
       "3 0                     0              \n",
       "4 0                     0              \n",
       "5 0                     0              \n",
       "6 0                     0              "
      ]
     },
     "metadata": {},
     "output_type": "display_data"
    }
   ],
   "source": [
    "head(MonsoonNormConn)"
   ]
  },
  {
   "cell_type": "code",
   "execution_count": 48,
   "metadata": {},
   "outputs": [
    {
     "name": "stderr",
     "output_type": "stream",
     "text": [
      "x being coerced from class: matrix to data.table\n",
      "x being coerced from class: matrix to data.table\n",
      "x being coerced from class: matrix to data.table\n",
      "x being coerced from class: matrix to data.table\n",
      "x being coerced from class: matrix to data.table\n",
      "x being coerced from class: matrix to data.table\n",
      "x being coerced from class: matrix to data.table\n",
      "x being coerced from class: matrix to data.table\n"
     ]
    }
   ],
   "source": [
    "#testing annual/seasonal kernels WITH SIMULATION RATHER THAN SAMPLING YEAR!!\n",
    "#make monsoon matrices with all of the particle data\n",
    "MonsoonRec <- SimConn[ , .(monsoon_particles_rec = .N), by= c(\"source\",\"dest\", \"monsoon\", \"year\")] #all particles recruiting along each route FILTER HERE FOR TIME PERIOD***\n",
    "MonsoonRelease <- unique(SimConn[, .(monsoon_particles_released = as.numeric(daily_particles_released)*as.numeric(num_release_days_seasonal)), by= c(\"source\", \"monsoon\", \"year\")], by= c(\"source\", \"monsoon\", \"year\")) #calculate the number of particles released over the time frame by multiplyig the release days by the number of particles released daily. fread() converts big numbers to integers so specify as numeric to avoid integer overflow NAs\n",
    "\n",
    "MonsoonRec <- SimConn[ , .(monsoon_particles_rec = .N), by= c(\"source\",\"dest\", \"monsoon\", \"year\")] #all particles recruiting along each route FILTER HERE FOR TIME PERIOD***\n",
    "MonsoonRelease <- unique(SimConn[, .(monsoon_particles_released = as.numeric(daily_particles_released)*as.numeric(num_release_days_seasonal)), by= c(\"source\", \"monsoon\",\"year\")], by= c(\"source\", \"monsoon\",\"year\")) #calculate the number of particles released over the time frame by multiplyig the release days by the number of particles released daily. fread() converts big numbers to integers so specify as numeric to avoid integer overflow NAs\n",
    "\n",
    "MonsoonRecInt <- rbind(AddDestAnnualMonsoonSim[!MonsoonRec, on =.(source, dest, monsoon, year)][ #what combos are not appearing because we didn't sample particles, but the route is possible based on our survey sampling\n",
    "    , monsoon_particles_rec:=0 ], MonsoonRec) \n",
    "\n",
    "MonsoonReleaseInt <- rbind(AddDestAnnualMonsoonSim[!MonsoonRelease, on =.(source, monsoon, year)][ #what combos are not appearing because we didn't sample particles, but the route is possible based on our survey sampling\n",
    "    , monsoon_particles_released:=0 ][, -\"dest\"], MonsoonRelease) \n",
    "\n",
    "#collapse CAI and \"Other\" together into \"unknown\" before making the normalized matrices\n",
    "MonsoonRec <- unique(MonsoonRecInt[source== \"Other\" | source == \"CAI\", source := \"unknown\"][\n",
    "    , monsoon_particles_rec := sum(monsoon_particles_rec), by=c(\"source\", \"dest\", \"monsoon\", \"year\")], by=c(\"source\", \"dest\", \"monsoon\", \"year\"))\n",
    "MonsoonRelease <- unique(MonsoonReleaseInt[source== \"Other\" | source == \"CAI\", source := \"unknown\"][\n",
    "    , annual_monsoon_particles_released := sum(monsoon_particles_released), by=c(\"source\", \"monsoon\", \"year\")], by=c(\"source\", \"monsoon\", \"year\"))\n",
    "#something isn't right with the monsoon release table, but we don't need that for the kernel so ignore for now- wait okay replacing released particiles with 0 for sites not getting any recruitment doesn't matter, those are zeros anyways. \n",
    "\n",
    "\n",
    "#something isn't right with the monsoon release table, but we don't need that for the kernel so ignore for now\n",
    "SWMBiophysMat2011 <- as.matrix(rbind(dcast(MonsoonRec[year==2011 & monsoon==\"SWM\" & dest != \"CAI\"][source !=\"unknown\", .(source, dest, monsoon_particles_rec)][ #pulling this bit out for annual monsoon kernels: [source %in% AddDestGenAnnual[year==2011, par_site] & dest %in% AddDestGenAnnual[year==2011, offs_site]]#for assigned particles (not from \"Other\") keep the source/dest columns that will be expanded into wide form to become the connectivity matrix. Filtering for time period etc can be done in i here.\n",
    "    order(source, dest)] #keep sites in alphabetical order so the matrix is correctly formatted!\n",
    "        , source ~ dest, value.var=\"monsoon_particles_rec\")[#use sum to count the matches for each id variable combo, that populated the cells of the matrix\n",
    "    ,-\"source\"], #remove the source column after casting\n",
    "dcast(MonsoonRec[year==2011 & monsoon==\"SWM\" & dest != \"CAI\"][source  == \"unknown\", .(source, dest, monsoon_particles_rec)][ #this is to cast the \"unassigned row for the model parentage, which is anyting from \"Other\"\n",
    "        order(source, dest)], source ~ dest, value.var=\"monsoon_particles_rec\")[,-\"source\"]))\n",
    "SWMBiophysMat2011[is.na(SWMBiophysMat2011)] <- 0 #change NAs to zerosdim(AnnualBiophysMat2011)\n",
    "\n",
    "SWMBiophysMat2012 <- as.matrix(rbind(dcast(MonsoonRec[year==2012 & monsoon==\"SWM\" & dest != \"CAI\"][source !=\"unknown\", .(source, dest, monsoon_particles_rec)][ #pulling this bit out for annual monsoon kernels: [source %in% AddDestGenAnnual[year==2012, par_site] & dest %in% AddDestGenAnnual[year==2012, offs_site]]#for assigned particles (not from \"Other\") keep the source/dest columns that will be expanded into wide form to become the connectivity matrix. Filtering for time period etc can be done in i here.\n",
    "    order(source, dest)] #keep sites in alphabetical order so the matrix is correctly formatted!\n",
    "        , source ~ dest, value.var=\"monsoon_particles_rec\")[#use sum to count the matches for each id variable combo, that populated the cells of the matrix\n",
    "    ,-\"source\"], #remove the source column after casting\n",
    "dcast(MonsoonRec[year==2012 & monsoon==\"SWM\" & dest != \"CAI\"][source  == \"unknown\", .(source, dest, monsoon_particles_rec)][ #this is to cast the \"unassigned row for the model parentage, which is anyting from \"Other\"\n",
    "        order(source, dest)], source ~ dest, value.var=\"monsoon_particles_rec\")[,-\"source\"]))\n",
    "SWMBiophysMat2012[is.na(SWMBiophysMat2012)] <- 0 #change NAs to zerosdim(AnnualBiophysMat2012)\n",
    "\n",
    "SWMBiophysMat2013 <- as.matrix(rbind(dcast(MonsoonRec[year==2013 & monsoon==\"SWM\" & dest != \"CAI\"][source !=\"unknown\", .(source, dest, monsoon_particles_rec)][ #pulling this bit out for annual monsoon kernels: [source %in% AddDestGenAnnual[year==2013, par_site] & dest %in% AddDestGenAnnual[year==2013, offs_site]]#for assigned particles (not from \"Other\") keep the source/dest columns that will be expanded into wide form to become the connectivity matrix. Filtering for time period etc can be done in i here.\n",
    "    order(source, dest)] #keep sites in alphabetical order so the matrix is correctly formatted!\n",
    "        , source ~ dest, value.var=\"monsoon_particles_rec\")[#use sum to count the matches for each id variable combo, that populated the cells of the matrix\n",
    "    ,-\"source\"], #remove the source column after casting\n",
    "dcast(MonsoonRec[year==2013 & monsoon==\"SWM\" & dest != \"CAI\"][source  == \"unknown\", .(source, dest, monsoon_particles_rec)][ #this is to cast the \"unassigned row for the model parentage, which is anyting from \"Other\"\n",
    "        order(source, dest)], source ~ dest, value.var=\"monsoon_particles_rec\")[,-\"source\"]))\n",
    "SWMBiophysMat2013[is.na(SWMBiophysMat2013)] <- 0 #change NAs to zerosdim(AnnualBiophysMat2013)\n",
    "\n",
    "SWMBiophysMat2014 <- as.matrix(rbind(dcast(MonsoonRec[year==2014 & monsoon==\"SWM\" & dest != \"CAI\"][source !=\"unknown\", .(source, dest, monsoon_particles_rec)][ #pulling this bit out for annual monsoon kernels: [source %in% AddDestGenAnnual[year==2014, par_site] & dest %in% AddDestGenAnnual[year==2014, offs_site]]#for assigned particles (not from \"Other\") keep the source/dest columns that will be expanded into wide form to become the connectivity matrix. Filtering for time period etc can be done in i here.\n",
    "    order(source, dest)] #keep sites in alphabetical order so the matrix is correctly formatted!\n",
    "        , source ~ dest, value.var=\"monsoon_particles_rec\")[#use sum to count the matches for each id variable combo, that populated the cells of the matrix\n",
    "    ,-\"source\"], #remove the source column after casting\n",
    "dcast(MonsoonRec[year==2014 & monsoon==\"SWM\" & dest != \"CAI\"][source  == \"unknown\", .(source, dest, monsoon_particles_rec)][ #this is to cast the \"unassigned row for the model parentage, which is anyting from \"Other\"\n",
    "        order(source, dest)], source ~ dest, value.var=\"monsoon_particles_rec\")[,-\"source\"]))\n",
    "SWMBiophysMat2014[is.na(SWMBiophysMat2014)] <- 0 #change NAs to zerosdim(AnnualBiophysMat2014)\n",
    "\n",
    "\n",
    "\n",
    "NEMBiophysMat2011 <- as.matrix(rbind(dcast(MonsoonRec[year==2011 & monsoon==\"NEM\" & dest != \"CAI\"][source !=\"unknown\", .(source, dest, monsoon_particles_rec)][ #pulling this bit out for annual monsoon kernels: [source %in% AddDestGenAnnual[year==2011, par_site] & dest %in% AddDestGenAnnual[year==2011, offs_site]]#for assigned particles (not from \"Other\") keep the source/dest columns that will be expanded into wide form to become the connectivity matrix. Filtering for time period etc can be done in i here.\n",
    "    order(source, dest)] #keep sites in alphabetical order so the matrix is correctly formatted!\n",
    "        , source ~ dest, value.var=\"monsoon_particles_rec\")[#use sum to count the matches for each id variable combo, that populated the cells of the matrix\n",
    "    ,-\"source\"], #remove the source column after casting\n",
    "dcast(MonsoonRec[year==2011 & monsoon==\"NEM\" & dest != \"CAI\"][source  == \"unknown\", .(source, dest, monsoon_particles_rec)][ #this is to cast the \"unassigned row for the model parentage, which is anyting from \"Other\"\n",
    "        order(source, dest)], source ~ dest, value.var=\"monsoon_particles_rec\")[,-\"source\"]))\n",
    "NEMBiophysMat2011[is.na(NEMBiophysMat2011)] <- 0 #change NAs to zerosdim(AnnualBiophysMat2011)\n",
    "\n",
    "NEMBiophysMat2012 <- as.matrix(rbind(dcast(MonsoonRec[year==2012 & monsoon==\"NEM\" & dest != \"CAI\"][source !=\"unknown\", .(source, dest, monsoon_particles_rec)][ #pulling this bit out for annual monsoon kernels: [source %in% AddDestGenAnnual[year==2012, par_site] & dest %in% AddDestGenAnnual[year==2012, offs_site]]#for assigned particles (not from \"Other\") keep the source/dest columns that will be expanded into wide form to become the connectivity matrix. Filtering for time period etc can be done in i here.\n",
    "    order(source, dest)] #keep sites in alphabetical order so the matrix is correctly formatted!\n",
    "        , source ~ dest, value.var=\"monsoon_particles_rec\")[#use sum to count the matches for each id variable combo, that populated the cells of the matrix\n",
    "    ,-\"source\"], #remove the source column after casting\n",
    "dcast(MonsoonRec[year==2012 & monsoon==\"NEM\" & dest != \"CAI\"][source  == \"unknown\", .(source, dest, monsoon_particles_rec)][ #this is to cast the \"unassigned row for the model parentage, which is anyting from \"Other\"\n",
    "        order(source, dest)], source ~ dest, value.var=\"monsoon_particles_rec\")[,-\"source\"]))\n",
    "NEMBiophysMat2012[is.na(NEMBiophysMat2012)] <- 0 #change NAs to zerosdim(AnnualBiophysMat2012)\n",
    "\n",
    "NEMBiophysMat2013 <- as.matrix(rbind(dcast(MonsoonRec[year==2013 & monsoon==\"NEM\" & dest != \"CAI\"][source !=\"unknown\", .(source, dest, monsoon_particles_rec)][ #pulling this bit out for annual monsoon kernels: [source %in% AddDestGenAnnual[year==2013, par_site] & dest %in% AddDestGenAnnual[year==2013, offs_site]]#for assigned particles (not from \"Other\") keep the source/dest columns that will be expanded into wide form to become the connectivity matrix. Filtering for time period etc can be done in i here.\n",
    "    order(source, dest)] #keep sites in alphabetical order so the matrix is correctly formatted!\n",
    "        , source ~ dest, value.var=\"monsoon_particles_rec\")[#use sum to count the matches for each id variable combo, that populated the cells of the matrix\n",
    "    ,-\"source\"], #remove the source column after casting\n",
    "dcast(MonsoonRec[year==2013 & monsoon==\"NEM\" & dest != \"CAI\"][source  == \"unknown\", .(source, dest, monsoon_particles_rec)][ #this is to cast the \"unassigned row for the model parentage, which is anyting from \"Other\"\n",
    "        order(source, dest)], source ~ dest, value.var=\"monsoon_particles_rec\")[,-\"source\"]))\n",
    "NEMBiophysMat2013[is.na(NEMBiophysMat2013)] <- 0 #change NAs to zerosdim(AnnualBiophysMat2013)\n",
    "\n",
    "NEMBiophysMat2014 <- as.matrix(rbind(dcast(MonsoonRec[year==2014 & monsoon==\"NEM\" & dest != \"CAI\"][source !=\"unknown\", .(source, dest, monsoon_particles_rec)][ #pulling this bit out for annual monsoon kernels: [source %in% AddDestGenAnnual[year==2014, par_site] & dest %in% AddDestGenAnnual[year==2014, offs_site]]#for assigned particles (not from \"Other\") keep the source/dest columns that will be expanded into wide form to become the connectivity matrix. Filtering for time period etc can be done in i here.\n",
    "    order(source, dest)] #keep sites in alphabetical order so the matrix is correctly formatted!\n",
    "        , source ~ dest, value.var=\"monsoon_particles_rec\")[#use sum to count the matches for each id variable combo, that populated the cells of the matrix\n",
    "    ,-\"source\"], #remove the source column after casting\n",
    "dcast(MonsoonRec[year==2014 & monsoon==\"NEM\" & dest != \"CAI\"][source  == \"unknown\", .(source, dest, monsoon_particles_rec)][ #this is to cast the \"unassigned row for the model parentage, which is anyting from \"Other\"\n",
    "        order(source, dest)], source ~ dest, value.var=\"monsoon_particles_rec\")[,-\"source\"]))\n",
    "NEMBiophysMat2014[is.na(NEMBiophysMat2014)] <- 0 #change NAs to zerosdim(AnnualBiophysMat2014)\n",
    "###SWM\n",
    "#fwrite(SWMBiophysMat2011, file=\"~/oceanography/script_output/ROMSDataTables/20210917_BioPhysParentageMatrixSWM2011ForROMSComp08DayPLD.csv\")\n",
    "#fwrite(SWMBiophysMat2012, file=\"~/oceanography/script_output/ROMSDataTables/20210917_BioPhysParentageMatrixSWM2012ForROMSComp08DayPLD.csv\")\n",
    "#fwrite(SWMBiophysMat2013, file=\"~/oceanography/script_output/ROMSDataTables/20210917_BioPhysParentageMatrixSWM2013ForROMSComp08DayPLD.csv\")\n",
    "#fwrite(SWMBiophysMat2014, file=\"~/oceanography/script_output/ROMSDataTables/20210917_BioPhysParentageMatrixSWM2014ForROMSComp08DayPLD.csv\")\n",
    "#\n",
    "##NEM\n",
    "#fwrite(NEMBiophysMat2011, file=\"~/oceanography/script_output/ROMSDataTables/20210917_BioPhysParentageMatrixNEM2011ForROMSComp08DayPLD.csv\")\n",
    "#fwrite(NEMBiophysMat2012, file=\"~/oceanography/script_output/ROMSDataTables/20210917_BioPhysParentageMatrixNEM2012ForROMSComp08DayPLD.csv\")\n",
    "#fwrite(NEMBiophysMat2013, file=\"~/oceanography/script_output/ROMSDataTables/20210917_BioPhysParentageMatrixNEM2013ForROMSComp08DayPLD.csv\")\n",
    "#fwrite(NEMBiophysMat2014, file=\"~/oceanography/script_output/ROMSDataTables/20210917_BioPhysParentageMatrixNEM2014ForROMSComp08DayPLD.csv\")\n"
   ]
  },
  {
   "cell_type": "code",
   "execution_count": 105,
   "metadata": {
    "scrolled": true
   },
   "outputs": [
    {
     "data": {
      "text/html": [
       "<table>\n",
       "<thead><tr><th scope=col>source</th><th scope=col>total_particles_released</th><th scope=col>dest</th><th scope=col>total_particles_rec</th><th scope=col>source_norm_rec</th></tr></thead>\n",
       "<tbody>\n",
       "\t<tr><td>unknown       </td><td>3259633632    </td><td>Palanas       </td><td>28899         </td><td>8.865720e-06  </td></tr>\n",
       "\t<tr><td>unknown       </td><td>3259633632    </td><td>Wangag        </td><td>25810         </td><td>7.918068e-06  </td></tr>\n",
       "\t<tr><td>unknown       </td><td>3259633632    </td><td>Magbangon     </td><td>25166         </td><td>7.720500e-06  </td></tr>\n",
       "\t<tr><td>unknown       </td><td>3259633632    </td><td>Cabatoan      </td><td>24949         </td><td>7.653928e-06  </td></tr>\n",
       "\t<tr><td>unknown       </td><td>3259633632    </td><td>Caridad Proper</td><td>31047         </td><td>9.524690e-06  </td></tr>\n",
       "\t<tr><td>unknown       </td><td>3259633632    </td><td>Sitio Tugas   </td><td>16670         </td><td>5.114072e-06  </td></tr>\n",
       "</tbody>\n",
       "</table>\n"
      ],
      "text/latex": [
       "\\begin{tabular}{r|lllll}\n",
       " source & total\\_particles\\_released & dest & total\\_particles\\_rec & source\\_norm\\_rec\\\\\n",
       "\\hline\n",
       "\t unknown        & 3259633632     & Palanas        & 28899          & 8.865720e-06  \\\\\n",
       "\t unknown        & 3259633632     & Wangag         & 25810          & 7.918068e-06  \\\\\n",
       "\t unknown        & 3259633632     & Magbangon      & 25166          & 7.720500e-06  \\\\\n",
       "\t unknown        & 3259633632     & Cabatoan       & 24949          & 7.653928e-06  \\\\\n",
       "\t unknown        & 3259633632     & Caridad Proper & 31047          & 9.524690e-06  \\\\\n",
       "\t unknown        & 3259633632     & Sitio Tugas    & 16670          & 5.114072e-06  \\\\\n",
       "\\end{tabular}\n"
      ],
      "text/markdown": [
       "\n",
       "| source | total_particles_released | dest | total_particles_rec | source_norm_rec |\n",
       "|---|---|---|---|---|\n",
       "| unknown        | 3259633632     | Palanas        | 28899          | 8.865720e-06   |\n",
       "| unknown        | 3259633632     | Wangag         | 25810          | 7.918068e-06   |\n",
       "| unknown        | 3259633632     | Magbangon      | 25166          | 7.720500e-06   |\n",
       "| unknown        | 3259633632     | Cabatoan       | 24949          | 7.653928e-06   |\n",
       "| unknown        | 3259633632     | Caridad Proper | 31047          | 9.524690e-06   |\n",
       "| unknown        | 3259633632     | Sitio Tugas    | 16670          | 5.114072e-06   |\n",
       "\n"
      ],
      "text/plain": [
       "  source  total_particles_released dest           total_particles_rec\n",
       "1 unknown 3259633632               Palanas        28899              \n",
       "2 unknown 3259633632               Wangag         25810              \n",
       "3 unknown 3259633632               Magbangon      25166              \n",
       "4 unknown 3259633632               Cabatoan       24949              \n",
       "5 unknown 3259633632               Caridad Proper 31047              \n",
       "6 unknown 3259633632               Sitio Tugas    16670              \n",
       "  source_norm_rec\n",
       "1 8.865720e-06   \n",
       "2 7.918068e-06   \n",
       "3 7.720500e-06   \n",
       "4 7.653928e-06   \n",
       "5 9.524690e-06   \n",
       "6 5.114072e-06   "
      ]
     },
     "metadata": {},
     "output_type": "display_data"
    },
    {
     "data": {
      "text/html": [
       "<table>\n",
       "<thead><tr><th scope=col>source</th><th scope=col>year</th><th scope=col>annual_particles_released</th><th scope=col>dest</th><th scope=col>annual_particles_rec</th><th scope=col>source_norm_rec</th></tr></thead>\n",
       "<tbody>\n",
       "\t<tr><td>Wangag           </td><td>2012             </td><td>242048           </td><td>Elementary School</td><td>0                </td><td>0                </td></tr>\n",
       "\t<tr><td>Palanas          </td><td>2012             </td><td>242048           </td><td>Poroc Rose       </td><td>0                </td><td>0                </td></tr>\n",
       "\t<tr><td>Poroc San Flower </td><td>2012             </td><td>242048           </td><td>Gabas            </td><td>0                </td><td>0                </td></tr>\n",
       "\t<tr><td>Sitio Tugas      </td><td>2012             </td><td>242048           </td><td>Haina            </td><td>0                </td><td>0                </td></tr>\n",
       "\t<tr><td>Magbangon        </td><td>2012             </td><td>242048           </td><td>Haina            </td><td>0                </td><td>0                </td></tr>\n",
       "\t<tr><td>Wangag           </td><td>2012             </td><td>242048           </td><td>Haina            </td><td>0                </td><td>0                </td></tr>\n",
       "</tbody>\n",
       "</table>\n"
      ],
      "text/latex": [
       "\\begin{tabular}{r|llllll}\n",
       " source & year & annual\\_particles\\_released & dest & annual\\_particles\\_rec & source\\_norm\\_rec\\\\\n",
       "\\hline\n",
       "\t Wangag            & 2012              & 242048            & Elementary School & 0                 & 0                \\\\\n",
       "\t Palanas           & 2012              & 242048            & Poroc Rose        & 0                 & 0                \\\\\n",
       "\t Poroc San Flower  & 2012              & 242048            & Gabas             & 0                 & 0                \\\\\n",
       "\t Sitio Tugas       & 2012              & 242048            & Haina             & 0                 & 0                \\\\\n",
       "\t Magbangon         & 2012              & 242048            & Haina             & 0                 & 0                \\\\\n",
       "\t Wangag            & 2012              & 242048            & Haina             & 0                 & 0                \\\\\n",
       "\\end{tabular}\n"
      ],
      "text/markdown": [
       "\n",
       "| source | year | annual_particles_released | dest | annual_particles_rec | source_norm_rec |\n",
       "|---|---|---|---|---|---|\n",
       "| Wangag            | 2012              | 242048            | Elementary School | 0                 | 0                 |\n",
       "| Palanas           | 2012              | 242048            | Poroc Rose        | 0                 | 0                 |\n",
       "| Poroc San Flower  | 2012              | 242048            | Gabas             | 0                 | 0                 |\n",
       "| Sitio Tugas       | 2012              | 242048            | Haina             | 0                 | 0                 |\n",
       "| Magbangon         | 2012              | 242048            | Haina             | 0                 | 0                 |\n",
       "| Wangag            | 2012              | 242048            | Haina             | 0                 | 0                 |\n",
       "\n"
      ],
      "text/plain": [
       "  source           year annual_particles_released dest             \n",
       "1 Wangag           2012 242048                    Elementary School\n",
       "2 Palanas          2012 242048                    Poroc Rose       \n",
       "3 Poroc San Flower 2012 242048                    Gabas            \n",
       "4 Sitio Tugas      2012 242048                    Haina            \n",
       "5 Magbangon        2012 242048                    Haina            \n",
       "6 Wangag           2012 242048                    Haina            \n",
       "  annual_particles_rec source_norm_rec\n",
       "1 0                    0              \n",
       "2 0                    0              \n",
       "3 0                    0              \n",
       "4 0                    0              \n",
       "5 0                    0              \n",
       "6 0                    0              "
      ]
     },
     "metadata": {},
     "output_type": "display_data"
    },
    {
     "data": {
      "text/html": [
       "<table>\n",
       "<thead><tr><th scope=col>source</th><th scope=col>monsoon</th><th scope=col>monsoon_particles_released</th><th scope=col>dest</th><th scope=col>monsoon_particles_rec</th><th scope=col>source_norm_rec</th></tr></thead>\n",
       "<tbody>\n",
       "\t<tr><td>Sitio Tugas      </td><td>SWM              </td><td>30752            </td><td>Elementary School</td><td>0                </td><td>  0              </td></tr>\n",
       "\t<tr><td>Wangag           </td><td>SWM              </td><td>30752            </td><td>Magbangon        </td><td>0                </td><td>  0              </td></tr>\n",
       "\t<tr><td>Wangag           </td><td>SWM              </td><td>30752            </td><td>Caridad Cemetery </td><td>0                </td><td>  0              </td></tr>\n",
       "\t<tr><td>Palanas          </td><td>SWM              </td><td>    0            </td><td>Magbangon        </td><td>0                </td><td>NaN              </td></tr>\n",
       "\t<tr><td>Palanas          </td><td>SWM              </td><td>    0            </td><td>Cabatoan         </td><td>0                </td><td>NaN              </td></tr>\n",
       "\t<tr><td>Palanas          </td><td>SWM              </td><td>    0            </td><td>Caridad Cemetery </td><td>0                </td><td>NaN              </td></tr>\n",
       "</tbody>\n",
       "</table>\n"
      ],
      "text/latex": [
       "\\begin{tabular}{r|llllll}\n",
       " source & monsoon & monsoon\\_particles\\_released & dest & monsoon\\_particles\\_rec & source\\_norm\\_rec\\\\\n",
       "\\hline\n",
       "\t Sitio Tugas       & SWM               & 30752             & Elementary School & 0                 &   0              \\\\\n",
       "\t Wangag            & SWM               & 30752             & Magbangon         & 0                 &   0              \\\\\n",
       "\t Wangag            & SWM               & 30752             & Caridad Cemetery  & 0                 &   0              \\\\\n",
       "\t Palanas           & SWM               &     0             & Magbangon         & 0                 & NaN              \\\\\n",
       "\t Palanas           & SWM               &     0             & Cabatoan          & 0                 & NaN              \\\\\n",
       "\t Palanas           & SWM               &     0             & Caridad Cemetery  & 0                 & NaN              \\\\\n",
       "\\end{tabular}\n"
      ],
      "text/markdown": [
       "\n",
       "| source | monsoon | monsoon_particles_released | dest | monsoon_particles_rec | source_norm_rec |\n",
       "|---|---|---|---|---|---|\n",
       "| Sitio Tugas       | SWM               | 30752             | Elementary School | 0                 |   0               |\n",
       "| Wangag            | SWM               | 30752             | Magbangon         | 0                 |   0               |\n",
       "| Wangag            | SWM               | 30752             | Caridad Cemetery  | 0                 |   0               |\n",
       "| Palanas           | SWM               |     0             | Magbangon         | 0                 | NaN               |\n",
       "| Palanas           | SWM               |     0             | Cabatoan          | 0                 | NaN               |\n",
       "| Palanas           | SWM               |     0             | Caridad Cemetery  | 0                 | NaN               |\n",
       "\n"
      ],
      "text/plain": [
       "  source      monsoon monsoon_particles_released dest             \n",
       "1 Sitio Tugas SWM     30752                      Elementary School\n",
       "2 Wangag      SWM     30752                      Magbangon        \n",
       "3 Wangag      SWM     30752                      Caridad Cemetery \n",
       "4 Palanas     SWM         0                      Magbangon        \n",
       "5 Palanas     SWM         0                      Cabatoan         \n",
       "6 Palanas     SWM         0                      Caridad Cemetery \n",
       "  monsoon_particles_rec source_norm_rec\n",
       "1 0                       0            \n",
       "2 0                       0            \n",
       "3 0                       0            \n",
       "4 0                     NaN            \n",
       "5 0                     NaN            \n",
       "6 0                     NaN            "
      ]
     },
     "metadata": {},
     "output_type": "display_data"
    }
   ],
   "source": [
    "#plot source normalized connectivity\n",
    "head(AllYearsNormConn)\n",
    "head(AnnualNormConn)\n",
    "head(MonsoonNormConn)"
   ]
  },
  {
   "cell_type": "code",
   "execution_count": 173,
   "metadata": {},
   "outputs": [
    {
     "data": {
      "text/html": [
       "<table>\n",
       "<thead><tr><th scope=col>source</th><th scope=col>total_particles_released</th><th scope=col>dest</th><th scope=col>total_particles_rec</th><th scope=col>source_norm_rec</th></tr></thead>\n",
       "<tbody>\n",
       "\t<tr><td>Other           </td><td>3089939136      </td><td>Palanas         </td><td>20264           </td><td>6.558058e-06    </td></tr>\n",
       "\t<tr><td>Other           </td><td>3089939136      </td><td>Wangag          </td><td>18382           </td><td>5.948984e-06    </td></tr>\n",
       "\t<tr><td>Other           </td><td>3089939136      </td><td>Magbangon       </td><td>18567           </td><td>6.008856e-06    </td></tr>\n",
       "\t<tr><td>Other           </td><td>3089939136      </td><td>Cabatoan        </td><td>18851           </td><td>6.100767e-06    </td></tr>\n",
       "\t<tr><td>Other           </td><td>3089939136      </td><td>Caridad Cemetery</td><td>21764           </td><td>7.043504e-06    </td></tr>\n",
       "\t<tr><td>Other           </td><td>3089939136      </td><td>Caridad Proper  </td><td>24084           </td><td>7.794328e-06    </td></tr>\n",
       "</tbody>\n",
       "</table>\n"
      ],
      "text/latex": [
       "\\begin{tabular}{r|lllll}\n",
       " source & total\\_particles\\_released & dest & total\\_particles\\_rec & source\\_norm\\_rec\\\\\n",
       "\\hline\n",
       "\t Other            & 3089939136       & Palanas          & 20264            & 6.558058e-06    \\\\\n",
       "\t Other            & 3089939136       & Wangag           & 18382            & 5.948984e-06    \\\\\n",
       "\t Other            & 3089939136       & Magbangon        & 18567            & 6.008856e-06    \\\\\n",
       "\t Other            & 3089939136       & Cabatoan         & 18851            & 6.100767e-06    \\\\\n",
       "\t Other            & 3089939136       & Caridad Cemetery & 21764            & 7.043504e-06    \\\\\n",
       "\t Other            & 3089939136       & Caridad Proper   & 24084            & 7.794328e-06    \\\\\n",
       "\\end{tabular}\n"
      ],
      "text/markdown": [
       "\n",
       "| source | total_particles_released | dest | total_particles_rec | source_norm_rec |\n",
       "|---|---|---|---|---|\n",
       "| Other            | 3089939136       | Palanas          | 20264            | 6.558058e-06     |\n",
       "| Other            | 3089939136       | Wangag           | 18382            | 5.948984e-06     |\n",
       "| Other            | 3089939136       | Magbangon        | 18567            | 6.008856e-06     |\n",
       "| Other            | 3089939136       | Cabatoan         | 18851            | 6.100767e-06     |\n",
       "| Other            | 3089939136       | Caridad Cemetery | 21764            | 7.043504e-06     |\n",
       "| Other            | 3089939136       | Caridad Proper   | 24084            | 7.794328e-06     |\n",
       "\n"
      ],
      "text/plain": [
       "  source total_particles_released dest             total_particles_rec\n",
       "1 Other  3089939136               Palanas          20264              \n",
       "2 Other  3089939136               Wangag           18382              \n",
       "3 Other  3089939136               Magbangon        18567              \n",
       "4 Other  3089939136               Cabatoan         18851              \n",
       "5 Other  3089939136               Caridad Cemetery 21764              \n",
       "6 Other  3089939136               Caridad Proper   24084              \n",
       "  source_norm_rec\n",
       "1 6.558058e-06   \n",
       "2 5.948984e-06   \n",
       "3 6.008856e-06   \n",
       "4 6.100767e-06   \n",
       "5 7.043504e-06   \n",
       "6 7.794328e-06   "
      ]
     },
     "metadata": {},
     "output_type": "display_data"
    }
   ],
   "source": [
    "head(AllYearsNormConn)"
   ]
  },
  {
   "cell_type": "code",
   "execution_count": 13,
   "metadata": {},
   "outputs": [
    {
     "data": {
      "text/html": [
       "<table>\n",
       "<thead><tr><th scope=col>year_sampled</th><th scope=col>sim_monsoon</th><th scope=col>num_release_days_seasonal</th><th scope=col>num_release_days_annual</th><th scope=col>date</th><th scope=col>source</th><th scope=col>dest</th><th scope=col>sim_month</th><th scope=col>sim_day</th><th scope=col>sim_year</th><th scope=col>daily_particles_rec</th><th scope=col>daily_particles_released</th><th scope=col>dist_km</th><th scope=col>bearing</th><th scope=col>direction</th></tr></thead>\n",
       "<tbody>\n",
       "\t<tr><td>2012            </td><td>SWM             </td><td>31              </td><td>244             </td><td>2011-10-01      </td><td>Other           </td><td>Palanas         </td><td>10              </td><td>10              </td><td>2011            </td><td> 69             </td><td>4497728         </td><td>NA              </td><td>NA              </td><td>NA              </td></tr>\n",
       "\t<tr><td>2012            </td><td>SWM             </td><td>31              </td><td>244             </td><td>2011-10-01      </td><td>Other           </td><td>Wangag          </td><td>10              </td><td>10              </td><td>2011            </td><td> 68             </td><td>4497728         </td><td>NA              </td><td>NA              </td><td>NA              </td></tr>\n",
       "\t<tr><td>2012            </td><td>SWM             </td><td>31              </td><td>244             </td><td>2011-10-01      </td><td>Other           </td><td>Magbangon       </td><td>10              </td><td>10              </td><td>2011            </td><td> 84             </td><td>4497728         </td><td>NA              </td><td>NA              </td><td>NA              </td></tr>\n",
       "\t<tr><td>2012            </td><td>SWM             </td><td>31              </td><td>244             </td><td>2011-10-01      </td><td>Other           </td><td>Cabatoan        </td><td>10              </td><td>10              </td><td>2011            </td><td> 59             </td><td>4497728         </td><td>NA              </td><td>NA              </td><td>NA              </td></tr>\n",
       "\t<tr><td>2012            </td><td>SWM             </td><td>31              </td><td>244             </td><td>2011-10-01      </td><td>Other           </td><td>Caridad Cemetery</td><td>10              </td><td>10              </td><td>2011            </td><td> 54             </td><td>4497728         </td><td>NA              </td><td>NA              </td><td>NA              </td></tr>\n",
       "\t<tr><td>2012            </td><td>SWM             </td><td>31              </td><td>244             </td><td>2011-10-01      </td><td>Other           </td><td>Caridad Proper  </td><td>10              </td><td>10              </td><td>2011            </td><td>101             </td><td>4497728         </td><td>NA              </td><td>NA              </td><td>NA              </td></tr>\n",
       "</tbody>\n",
       "</table>\n"
      ],
      "text/latex": [
       "\\begin{tabular}{r|lllllllllllllll}\n",
       " year\\_sampled & sim\\_monsoon & num\\_release\\_days\\_seasonal & num\\_release\\_days\\_annual & date & source & dest & sim\\_month & sim\\_day & sim\\_year & daily\\_particles\\_rec & daily\\_particles\\_released & dist\\_km & bearing & direction\\\\\n",
       "\\hline\n",
       "\t 2012             & SWM              & 31               & 244              & 2011-10-01       & Other            & Palanas          & 10               & 10               & 2011             &  69              & 4497728          & NA               & NA               & NA              \\\\\n",
       "\t 2012             & SWM              & 31               & 244              & 2011-10-01       & Other            & Wangag           & 10               & 10               & 2011             &  68              & 4497728          & NA               & NA               & NA              \\\\\n",
       "\t 2012             & SWM              & 31               & 244              & 2011-10-01       & Other            & Magbangon        & 10               & 10               & 2011             &  84              & 4497728          & NA               & NA               & NA              \\\\\n",
       "\t 2012             & SWM              & 31               & 244              & 2011-10-01       & Other            & Cabatoan         & 10               & 10               & 2011             &  59              & 4497728          & NA               & NA               & NA              \\\\\n",
       "\t 2012             & SWM              & 31               & 244              & 2011-10-01       & Other            & Caridad Cemetery & 10               & 10               & 2011             &  54              & 4497728          & NA               & NA               & NA              \\\\\n",
       "\t 2012             & SWM              & 31               & 244              & 2011-10-01       & Other            & Caridad Proper   & 10               & 10               & 2011             & 101              & 4497728          & NA               & NA               & NA              \\\\\n",
       "\\end{tabular}\n"
      ],
      "text/markdown": [
       "\n",
       "| year_sampled | sim_monsoon | num_release_days_seasonal | num_release_days_annual | date | source | dest | sim_month | sim_day | sim_year | daily_particles_rec | daily_particles_released | dist_km | bearing | direction |\n",
       "|---|---|---|---|---|---|---|---|---|---|---|---|---|---|---|\n",
       "| 2012             | SWM              | 31               | 244              | 2011-10-01       | Other            | Palanas          | 10               | 10               | 2011             |  69              | 4497728          | NA               | NA               | NA               |\n",
       "| 2012             | SWM              | 31               | 244              | 2011-10-01       | Other            | Wangag           | 10               | 10               | 2011             |  68              | 4497728          | NA               | NA               | NA               |\n",
       "| 2012             | SWM              | 31               | 244              | 2011-10-01       | Other            | Magbangon        | 10               | 10               | 2011             |  84              | 4497728          | NA               | NA               | NA               |\n",
       "| 2012             | SWM              | 31               | 244              | 2011-10-01       | Other            | Cabatoan         | 10               | 10               | 2011             |  59              | 4497728          | NA               | NA               | NA               |\n",
       "| 2012             | SWM              | 31               | 244              | 2011-10-01       | Other            | Caridad Cemetery | 10               | 10               | 2011             |  54              | 4497728          | NA               | NA               | NA               |\n",
       "| 2012             | SWM              | 31               | 244              | 2011-10-01       | Other            | Caridad Proper   | 10               | 10               | 2011             | 101              | 4497728          | NA               | NA               | NA               |\n",
       "\n"
      ],
      "text/plain": [
       "  year_sampled sim_monsoon num_release_days_seasonal num_release_days_annual\n",
       "1 2012         SWM         31                        244                    \n",
       "2 2012         SWM         31                        244                    \n",
       "3 2012         SWM         31                        244                    \n",
       "4 2012         SWM         31                        244                    \n",
       "5 2012         SWM         31                        244                    \n",
       "6 2012         SWM         31                        244                    \n",
       "  date       source dest             sim_month sim_day sim_year\n",
       "1 2011-10-01 Other  Palanas          10        10      2011    \n",
       "2 2011-10-01 Other  Wangag           10        10      2011    \n",
       "3 2011-10-01 Other  Magbangon        10        10      2011    \n",
       "4 2011-10-01 Other  Cabatoan         10        10      2011    \n",
       "5 2011-10-01 Other  Caridad Cemetery 10        10      2011    \n",
       "6 2011-10-01 Other  Caridad Proper   10        10      2011    \n",
       "  daily_particles_rec daily_particles_released dist_km bearing direction\n",
       "1  69                 4497728                  NA      NA      NA       \n",
       "2  68                 4497728                  NA      NA      NA       \n",
       "3  84                 4497728                  NA      NA      NA       \n",
       "4  59                 4497728                  NA      NA      NA       \n",
       "5  54                 4497728                  NA      NA      NA       \n",
       "6 101                 4497728                  NA      NA      NA       "
      ]
     },
     "metadata": {},
     "output_type": "display_data"
    }
   ],
   "source": [
    "SimConn<- fread(file=\"~/oceanography/script_output/ROMSDataTables/SimConnectivityTableWithMeta08DayPLD.csv\")[year_sampled != 2011] #& dest %!in% unsampled_sites & source %!in% unsampled_sites][ \n",
    "SimConn <- ReleaseDays[SimConn, on=.(year_sampled, sim_monsoon)]#join in the info for number of release days in the time frame\n",
    "\n",
    "head(SimConn)"
   ]
  },
  {
   "cell_type": "code",
   "execution_count": 29,
   "metadata": {},
   "outputs": [
    {
     "data": {
      "text/html": [
       "<table>\n",
       "<thead><tr><th scope=col>source</th><th scope=col>total_particles_released</th></tr></thead>\n",
       "<tbody>\n",
       "\t<tr><td>Other     </td><td>3089939136</td></tr>\n",
       "\t<tr><td>CAI       </td><td> 169694496</td></tr>\n",
       "\t<tr><td>SF6       </td><td>   8178048</td></tr>\n",
       "\t<tr><td>SF5       </td><td>   1363008</td></tr>\n",
       "\t<tr><td>SF4       </td><td>   3407520</td></tr>\n",
       "\t<tr><td>SF3       </td><td>   2044512</td></tr>\n",
       "</tbody>\n",
       "</table>\n"
      ],
      "text/latex": [
       "\\begin{tabular}{r|ll}\n",
       " source & total\\_particles\\_released\\\\\n",
       "\\hline\n",
       "\t Other      & 3089939136\\\\\n",
       "\t CAI        &  169694496\\\\\n",
       "\t SF6        &    8178048\\\\\n",
       "\t SF5        &    1363008\\\\\n",
       "\t SF4        &    3407520\\\\\n",
       "\t SF3        &    2044512\\\\\n",
       "\\end{tabular}\n"
      ],
      "text/markdown": [
       "\n",
       "| source | total_particles_released |\n",
       "|---|---|\n",
       "| Other      | 3089939136 |\n",
       "| CAI        |  169694496 |\n",
       "| SF6        |    8178048 |\n",
       "| SF5        |    1363008 |\n",
       "| SF4        |    3407520 |\n",
       "| SF3        |    2044512 |\n",
       "\n"
      ],
      "text/plain": [
       "  source total_particles_released\n",
       "1 Other  3089939136              \n",
       "2 CAI     169694496              \n",
       "3 SF6       8178048              \n",
       "4 SF5       1363008              \n",
       "5 SF4       3407520              \n",
       "6 SF3       2044512              "
      ]
     },
     "metadata": {},
     "output_type": "display_data"
    },
    {
     "data": {
      "text/html": [
       "<table>\n",
       "<thead><tr><th scope=col>source</th><th scope=col>dest</th><th scope=col>total_particles_rec</th></tr></thead>\n",
       "<tbody>\n",
       "\t<tr><td>Other           </td><td>Palanas         </td><td>20264           </td></tr>\n",
       "\t<tr><td>Other           </td><td>Wangag          </td><td>18382           </td></tr>\n",
       "\t<tr><td>Other           </td><td>Magbangon       </td><td>18567           </td></tr>\n",
       "\t<tr><td>Other           </td><td>Cabatoan        </td><td>18851           </td></tr>\n",
       "\t<tr><td>Other           </td><td>Caridad Cemetery</td><td>21764           </td></tr>\n",
       "\t<tr><td>Other           </td><td>Caridad Proper  </td><td>24084           </td></tr>\n",
       "</tbody>\n",
       "</table>\n"
      ],
      "text/latex": [
       "\\begin{tabular}{r|lll}\n",
       " source & dest & total\\_particles\\_rec\\\\\n",
       "\\hline\n",
       "\t Other            & Palanas          & 20264           \\\\\n",
       "\t Other            & Wangag           & 18382           \\\\\n",
       "\t Other            & Magbangon        & 18567           \\\\\n",
       "\t Other            & Cabatoan         & 18851           \\\\\n",
       "\t Other            & Caridad Cemetery & 21764           \\\\\n",
       "\t Other            & Caridad Proper   & 24084           \\\\\n",
       "\\end{tabular}\n"
      ],
      "text/markdown": [
       "\n",
       "| source | dest | total_particles_rec |\n",
       "|---|---|---|\n",
       "| Other            | Palanas          | 20264            |\n",
       "| Other            | Wangag           | 18382            |\n",
       "| Other            | Magbangon        | 18567            |\n",
       "| Other            | Cabatoan         | 18851            |\n",
       "| Other            | Caridad Cemetery | 21764            |\n",
       "| Other            | Caridad Proper   | 24084            |\n",
       "\n"
      ],
      "text/plain": [
       "  source dest             total_particles_rec\n",
       "1 Other  Palanas          20264              \n",
       "2 Other  Wangag           18382              \n",
       "3 Other  Magbangon        18567              \n",
       "4 Other  Cabatoan         18851              \n",
       "5 Other  Caridad Cemetery 21764              \n",
       "6 Other  Caridad Proper   24084              "
      ]
     },
     "metadata": {},
     "output_type": "display_data"
    }
   ],
   "source": [
    "head(AllYearsReleaseInt)\n",
    "head(AllYearsRecInt)"
   ]
  },
  {
   "cell_type": "code",
   "execution_count": 55,
   "metadata": {},
   "outputs": [
    {
     "name": "stderr",
     "output_type": "stream",
     "text": [
      "Warning message in `[.data.table`(right_join(SitesNS[, .(dest_index = index, dest = site)], :\n",
      "“Invalid .internal.selfref detected and fixed by taking a (shallow) copy of the data.table so that := can add this new column by reference. At an earlier point, this data.table has been copied by R (or was created manually using structure() or similar). Avoid names<- and attr<- which in R currently (and oddly) may copy the whole data.table. Use set* syntax instead to avoid copying: ?set, ?setnames and ?setattr. If this message doesn't help, please report your use case to the data.table issue tracker so the root cause can be fixed or this message improved.”"
     ]
    }
   ],
   "source": [
    "SitesNS <- read.csv(\"~/parentage/text_file/sites_NS.txt\", stringsAsFactors = F) %>%\n",
    "    mutate(site=ifelse(site ==\"S. Magbangon\" , \"Magbangon\", site)) %>%\n",
    "    filter(site != \"N. Magbangon\") \n",
    "setDT(SitesNS)\n",
    "\n",
    "WithIndex <- right_join(SitesNS[, .(source_index=index, source=site)], AllYearsNormConn, by=\"source\")\n",
    "AllYearsNormConnWithIndex <- right_join(SitesNS[, .(dest_index=index, dest=site)], WithIndex, by=\"dest\")[\n",
    "    , direction := ifelse(dest_index < source_index, \"north\", ifelse(dest_index> source_index, \"south\", \"self\"))]"
   ]
  },
  {
   "cell_type": "code",
   "execution_count": 72,
   "metadata": {},
   "outputs": [
    {
     "data": {
      "text/plain": [
       "     Min.   1st Qu.    Median      Mean   3rd Qu.      Max. \n",
       "0.0005040 0.0010081 0.0010081 0.0009652 0.0010081 0.0020161 "
      ]
     },
     "metadata": {},
     "output_type": "display_data"
    },
    {
     "data": {
      "text/plain": [
       "    Min.  1st Qu.   Median     Mean  3rd Qu.     Max. \n",
       "0.000504 0.001008 0.001008 0.001044 0.001008 0.002016 "
      ]
     },
     "metadata": {},
     "output_type": "display_data"
    },
    {
     "data": {
      "text/plain": [
       "    Min.  1st Qu.   Median     Mean  3rd Qu.     Max. \n",
       "0.000504 0.001008 0.001008 0.001008 0.001008 0.002016 "
      ]
     },
     "metadata": {},
     "output_type": "display_data"
    }
   ],
   "source": [
    "summary(AllYearsNormConnWithIndex[direction==\"north\", source_norm_rec])\n",
    "summary(AllYearsNormConnWithIndex[direction==\"south\", source_norm_rec])\n",
    "summary(AllYearsNormConnWithIndex[direction==\"self\", source_norm_rec])"
   ]
  },
  {
   "cell_type": "code",
   "execution_count": 69,
   "metadata": {},
   "outputs": [
    {
     "data": {
      "text/plain": [
       "\n",
       "Call:\n",
       "glm(formula = total_particles_rec ~ direction, family = \"poisson\", \n",
       "    data = AllYearsNormConnWithIndex)\n",
       "\n",
       "Deviance Residuals: \n",
       "   Min      1Q  Median      3Q     Max  \n",
       "-4.147  -2.811  -2.811  -2.811  53.655  \n",
       "\n",
       "Coefficients:\n",
       "                 Estimate Std. Error  z value Pr(>|z|)    \n",
       "(Intercept)     6.638e+00  2.926e-03 2268.403  < 2e-16 ***\n",
       "directionself   4.879e-02  8.825e-03    5.529 3.22e-08 ***\n",
       "directionsouth -7.504e-18  4.138e-03    0.000        1    \n",
       "---\n",
       "Signif. codes:  0 ‘***’ 0.001 ‘**’ 0.01 ‘*’ 0.05 ‘.’ 0.1 ‘ ’ 1\n",
       "\n",
       "(Dispersion parameter for poisson family taken to be 1)\n",
       "\n",
       "    Null deviance: 18745  on 323  degrees of freedom\n",
       "Residual deviance: 18713  on 321  degrees of freedom\n",
       "  (56 observations deleted due to missingness)\n",
       "AIC: 21456\n",
       "\n",
       "Number of Fisher Scoring iterations: 4\n"
      ]
     },
     "metadata": {},
     "output_type": "display_data"
    },
    {
     "name": "stderr",
     "output_type": "stream",
     "text": [
      "Warning message in eval(family$initialize):\n",
      "“non-integer #successes in a binomial glm!”"
     ]
    },
    {
     "data": {
      "text/plain": [
       "\n",
       "Call:\n",
       "glm(formula = source_norm_rec ~ direction, family = \"binomial\", \n",
       "    data = AllYearsNormConnWithIndex)\n",
       "\n",
       "Deviance Residuals: \n",
       "      Min         1Q     Median         3Q        Max  \n",
       "-0.018614  -0.001128  -0.001128   0.001369   0.029484  \n",
       "\n",
       "Coefficients:\n",
       "               Estimate Std. Error z value Pr(>|z|)   \n",
       "(Intercept)    -6.94217    2.60343  -2.667  0.00766 **\n",
       "directionself   0.04346    7.87049   0.006  0.99559   \n",
       "directionsouth  0.07881    3.61152   0.022  0.98259   \n",
       "---\n",
       "Signif. codes:  0 ‘***’ 0.001 ‘**’ 0.01 ‘*’ 0.05 ‘.’ 0.1 ‘ ’ 1\n",
       "\n",
       "(Dispersion parameter for binomial family taken to be 1)\n",
       "\n",
       "    Null deviance: 0.023000  on 323  degrees of freedom\n",
       "Residual deviance: 0.022523  on 321  degrees of freedom\n",
       "  (56 observations deleted due to missingness)\n",
       "AIC: 6.6515\n",
       "\n",
       "Number of Fisher Scoring iterations: 10\n"
      ]
     },
     "metadata": {},
     "output_type": "display_data"
    }
   ],
   "source": [
    "test_mod <- glm(data=AllYearsNormConnWithIndex, total_particles_rec ~ direction, family=\"poisson\")\n",
    "summary(test_mod)\n",
    "test_mod <- glm(data=AllYearsNormConnWithIndex, source_norm_rec ~ direction, family=\"binomial\")\n",
    "summary(test_mod)"
   ]
  },
  {
   "cell_type": "code",
   "execution_count": 91,
   "metadata": {},
   "outputs": [
    {
     "data": {
      "text/plain": [
       "      Min.    1st Qu.     Median       Mean    3rd Qu.       Max. \n",
       "0.00000000 0.00002892 0.00027267 0.00191726 0.00145219 0.13047825 "
      ]
     },
     "metadata": {},
     "output_type": "display_data"
    },
    {
     "data": {
      "text/plain": [
       "      Min.    1st Qu.     Median       Mean    3rd Qu.       Max. \n",
       "0.00000000 0.00007052 0.00032565 0.00166240 0.00111437 0.08598002 "
      ]
     },
     "metadata": {},
     "output_type": "display_data"
    },
    {
     "data": {
      "text/plain": [
       "      Min.    1st Qu.     Median       Mean    3rd Qu.       Max. \n",
       "0.00000000 0.00001008 0.00026462 0.00214842 0.00129221 0.18512097 "
      ]
     },
     "metadata": {},
     "output_type": "display_data"
    },
    {
     "data": {
      "text/plain": [
       "     Min.   1st Qu.    Median      Mean   3rd Qu.      Max. \n",
       "0.0001735 0.0013076 0.0026586 0.0136675 0.0085086 0.1304782 "
      ]
     },
     "metadata": {},
     "output_type": "display_data"
    },
    {
     "data": {
      "text/plain": [
       "     Min.   1st Qu.    Median      Mean   3rd Qu.      Max. \n",
       "0.0005144 0.0008556 0.0015515 0.0105683 0.0056029 0.0859800 "
      ]
     },
     "metadata": {},
     "output_type": "display_data"
    },
    {
     "data": {
      "text/plain": [
       "     Min.   1st Qu.    Median      Mean   3rd Qu.      Max. \n",
       "0.0001714 0.0013092 0.0025693 0.0166641 0.0065423 0.1851210 "
      ]
     },
     "metadata": {},
     "output_type": "display_data"
    },
    {
     "data": {
      "text/plain": [
       "    Min.  1st Qu.   Median     Mean  3rd Qu.     Max. \n",
       "0.001883 0.005391 0.010487 0.061454 0.029670 0.679435 "
      ]
     },
     "metadata": {},
     "output_type": "display_data"
    },
    {
     "data": {
      "text/plain": [
       "     Min.   1st Qu.    Median      Mean   3rd Qu.      Max.      NA's \n",
       "0.0000976 0.0005853 0.0033819 0.0326827 0.0133975 0.3987383         1 "
      ]
     },
     "metadata": {},
     "output_type": "display_data"
    }
   ],
   "source": [
    "options(scipen = 999)\n",
    "summary(AnnualNormConn[year==2012, source_norm_rec])\n",
    "summary(AnnualNormConn[year==2013, source_norm_rec])\n",
    "summary(AnnualNormConn[year==2014, source_norm_rec])\n",
    "\n",
    "summary(AnnualNormConn[source==dest & year==2012, source_norm_rec])\n",
    "summary(AnnualNormConn[source==dest &year==2013, source_norm_rec])\n",
    "summary(AnnualNormConn[source==dest &year==2014, source_norm_rec])\n",
    "\n",
    "summary(MonsoonNormConn[source==dest & monsoon==\"NEM\", source_norm_rec])\n",
    "summary(MonsoonNormConn[source==dest &monsoon==\"SWM\", source_norm_rec])"
   ]
  },
  {
   "cell_type": "code",
   "execution_count": 84,
   "metadata": {},
   "outputs": [
    {
     "data": {
      "image/png": "[encoded data removed]",
      "text/plain": [
       "plot without title"
      ]
     },
     "metadata": {},
     "output_type": "display_data"
    }
   ],
   "source": [
    "#AllYearsNormConn$source <-factor(AllYearsNormConn$source, levels=c(\"Palanas\", \"Wangag\",  \"Magbangon\", \"Cabatoan\", \"Caridad Cemetery\", \"Caridad Proper\", \"Hicgop South\",  \"Sitio Tugas\", \"Elementary School\",  \"Sitio Lonas\", \"San Agustin\", \"Poroc San Flower\", \"Poroc Rose\", \"Visca\",  \"Gabas\",  \"Tamakin Dacot\", \"Haina\", \"Sitio Baybayon\", \"CAI\", \"Other\"))\n",
    "#AllYearsNormConn$dest <-factor(AllYearsNormConn$dest, levels=c(\"Palanas\", \"Wangag\", \"Magbangon\", \"Cabatoan\", \"Caridad Cemetery\", \"Caridad Proper\", \"Hicgop South\",  \"Sitio Tugas\", \"Elementary School\", \"Sitio Lonas\", \"San Agustin\", \"Poroc San Flower\", \"Poroc Rose\", \"Visca\", \"Gabas\", \"Tamakin Dacot\", \"Haina\", \"Sitio Baybayon\", \"CAI\", \"Other\"))\n",
    "\n",
    "AllYearNorm <- ggplot(AllYearsNormConn[source != \"Other\" & dest != \"Other\" & source != \"CAI\" & dest != \"CAI\" ], aes(source, dest)) + \n",
    "    geom_tile(aes(fill = source_norm_rec), color = \"grey40\")+\n",
    "    coord_fixed(ratio = 1) +\n",
    "    theme(axis.text.x=element_text(angle=45,hjust=1))+\n",
    "    scale_fill_viridis(option=\"plasma\", name=\"Normalized \\nproportion of particles \\nrecruiting\", na.value=\"black\") +\n",
    "    geom_abline(slope=1,color = \"grey40\")#+\n",
    "  #scale_fill_continuous(na.value = 'salmon')\n",
    "AllYearNorm\n",
    "#ggsave(filename=\"SimmConnMatAllYearsNormSurveyedSites.png\", plot= AllYearNorm, path=\"~/oceanography/script_output/plots/\" )\n"
   ]
  },
  {
   "cell_type": "code",
   "execution_count": 81,
   "metadata": {},
   "outputs": [
    {
     "data": {
      "text/html": [
       "<table>\n",
       "<thead><tr><th scope=col>source</th><th scope=col>total_particles_released</th><th scope=col>dest</th><th scope=col>total_particles_rec</th><th scope=col>source_norm_rec</th></tr></thead>\n",
       "<tbody>\n",
       "</tbody>\n",
       "</table>\n"
      ],
      "text/latex": [
       "\\begin{tabular}{r|lllll}\n",
       " source & total\\_particles\\_released & dest & total\\_particles\\_rec & source\\_norm\\_rec\\\\\n",
       "\\hline\n",
       "\\end{tabular}\n"
      ],
      "text/markdown": [
       "\n",
       "| source | total_particles_released | dest | total_particles_rec | source_norm_rec |\n",
       "|---|---|---|---|---|\n",
       "\n"
      ],
      "text/plain": [
       "     source total_particles_released dest total_particles_rec source_norm_rec"
      ]
     },
     "metadata": {},
     "output_type": "display_data"
    }
   ],
   "source": [
    "AllYearsNormConn[source==\"Wangag\" & dest==\"Gabas\"]"
   ]
  },
  {
   "cell_type": "code",
   "execution_count": null,
   "metadata": {},
   "outputs": [],
   "source": []
  },
  {
   "cell_type": "code",
   "execution_count": null,
   "metadata": {},
   "outputs": [],
   "source": []
  },
  {
   "cell_type": "code",
   "execution_count": null,
   "metadata": {},
   "outputs": [],
   "source": []
  }
 ],
 "metadata": {
  "kernelspec": {
   "display_name": "R",
   "language": "R",
   "name": "ir"
  },
  "language_info": {
   "codemirror_mode": "r",
   "file_extension": ".r",
   "mimetype": "text/x-r-source",
   "name": "R",
   "pygments_lexer": "r",
   "version": "3.6.1"
  }
 },
 "nbformat": 4,
 "nbformat_minor": 4
}
