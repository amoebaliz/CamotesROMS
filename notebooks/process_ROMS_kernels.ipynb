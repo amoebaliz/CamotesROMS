{
 "cells": [
  {
   "cell_type": "code",
   "execution_count": 5,
   "metadata": {},
   "outputs": [],
   "source": [
    "Packages <- c(\"dplyr\",\"broom\",\"cubature\", \"geosphere\", \"data.table\",  \"ggplot2\", \"bbmle\", \"dplyr\",\"tidyr\", \"stringr\", \"tidyverse\", \"lubridate\", \"RColorBrewer\")\n",
    "\n",
    "invisible(suppressPackageStartupMessages(lapply(Packages, library, character.only = TRUE)))\n",
    "\n",
    "setwd('/local/home/katrinac/oceanography')\n",
    "\"%!in%\" <- function(x,table) match(x,table, nomatch = 0) == 0\n",
    "source(\"~/parentage/kernel_fitting/1340_loci/functions/ll_kt_both_bbmle.R\")\n",
    "source(\"~/parentage/kernel_fitting/1340_loci/functions/GenGausKernInt_sum0.5.R\") #integrate_kernel_sum1\n",
    "source(\"~/parentage/kernel_fitting/1340_loci/functions/GenGausKernInt_sum1.R\") #integrate_kernel_sum0.5\n",
    "source(\"~/parentage/kernel_fitting/1340_loci/functions/cdf_solve.R\") #median\n",
    "source(\"~/parentage/kernel_fitting/1340_loci/functions/cdf_solve90.R\") #dist 90% retained\n",
    "source(\"~/parentage/kernel_fitting/1340_loci/functions/GenGausKernPDF.R\")\n"
   ]
  },
  {
   "cell_type": "code",
   "execution_count": null,
   "metadata": {},
   "outputs": [],
   "source": []
  },
  {
   "cell_type": "code",
   "execution_count": null,
   "metadata": {},
   "outputs": [],
   "source": [
    "#calculate summary stats like mdd, median, kerutosis, and dist 90 retained\n",
    "#plot summary stats with overlays of empirical fits\n",
    "#test for rank ordered correlations\n"
   ]
  },
  {
   "cell_type": "code",
   "execution_count": 60,
   "metadata": {},
   "outputs": [],
   "source": [
    "#read in the kernel ensembles with no adjustments\n",
    "SimKernels2012 <- read.csv(file=\"~/oceanography/script_output/KernelFits/NoAdjust/1000SimulatedKernels2012.csv\", header=T) %>%\n",
    "    mutate(year=as.character(year)) %>%\n",
    "    mutate(Adj=\"no\")\n",
    "SimKernels2013 <- read.csv(file=\"~/oceanography/script_output/KernelFits/NoAdjust/1000SimulatedKernels2013.csv\", header=T) %>%\n",
    "    mutate(year=as.character(year)) %>%\n",
    "    mutate(Adj=\"no\")\n",
    "SimKernels2014 <- read.csv(file=\"~/oceanography/script_output/KernelFits/NoAdjust/1000SimulatedKernels2014.csv\", header=T) %>%\n",
    "    mutate(year=as.character(year)) %>%\n",
    "    mutate(Adj=\"no\")\n",
    "SimKernelsAll <- read.csv(file=\"~/oceanography/script_output/KernelFits/NoAdjust/1000SimulatedKernelsAll.csv\", header=T) %>%\n",
    "    mutate(year=\"2012-14\") %>%\n",
    "    mutate(Adj=\"no\") \n",
    "\n",
    "\n",
    "#read in the kernel ensembles with survival and NoRecentRec adjustments\n",
    "SimKernels2012SurvNoRecentRec <- read.csv(file=\"~/oceanography/script_output/KernelFits/Adjust_Survival_NoRecentRecruits/1000SimulatedKernels2012SurvNoRecentRec.csv\", header=T) %>%\n",
    "    mutate(year=as.character(year)) %>%\n",
    "    mutate(Adj=\"SurvNoRecentRec\")\n",
    "SimKernels2013SurvNoRecentRec <- read.csv(file=\"~/oceanography/script_output/KernelFits/Adjust_Survival_NoRecentRecruits/1000SimulatedKernels2013SurvNoRecentRec.csv\", header=T) %>%\n",
    "    mutate(year=as.character(year)) %>%\n",
    "    mutate(Adj=\"SurvNoRecentRec\")\n",
    "SimKernels2014SurvNoRecentRec <- read.csv(file=\"~/oceanography/script_output/KernelFits/Adjust_Survival_NoRecentRecruits/1000SimulatedKernels2014SurvNoRecentRec.csv\", header=T) %>%\n",
    "    mutate(year=as.character(year)) %>%\n",
    "    mutate(Adj=\"SurvNoRecentRec\")\n",
    "#SimKernelsAllSurvNoRecentRec <- read.csv(file=\"~/oceanography/script_output/KernelFits/Adjust_Survival_NoRecentRecruits/1000SimulatedKernelsAllSurvNoRecentRec.csv\", header=T) %>%\n",
    "#    mutate(year=\"2012-14\") %>%\n",
    "#    mutate(Adj=\"SurvNoRecentRec\")\n",
    "\n",
    "\n",
    "#read in the kernel ensembles with only NoRecentRec adjustments\n",
    "SimKernels2012NoRecentRec <- read.csv(file=\"~/oceanography/script_output/KernelFits/Adjust_NoRecentRecruits/1000SimulatedKernels2012NoRecentRec.csv\", header=T) %>%\n",
    "    mutate(year=as.character(year)) %>%\n",
    "    mutate(Adj=\"NoRecentRec\")\n",
    "SimKernels2013NoRecentRec <- read.csv(file=\"~/oceanography/script_output/KernelFits/Adjust_NoRecentRecruits/1000SimulatedKernels2013NoRecentRec.csv\", header=T) %>%\n",
    "    mutate(year=as.character(year)) %>%\n",
    "    mutate(Adj=\"NoRecentRec\")\n",
    "SimKernels2014NoRecentRec <- read.csv(file=\"~/oceanography/script_output/KernelFits/Adjust_NoRecentRecruits/1000SimulatedKernels2014NoRecentRec.csv\", header=T) %>%\n",
    "    mutate(year=as.character(year)) %>%\n",
    "    mutate(Adj=\"NoRecentRec\")\n",
    "#SimKernelsAllNoRecentRec <- read.csv(file=\"~/oceanography/script_output/KernelFits/Adjust_NoRecentRecruits/1000SimulatedKernelsAllNoRecentRec.csv\", header=T) %>%\n",
    "#    mutate(year=\"2012-14\") %>%\n",
    "#    mutate(Adj=\"NoRecentRec\")\n",
    "\n",
    "#read in the kernel ensembles with only NoRecentRec adjustments\n",
    "SimKernels2012Surv <- read.csv(file=\"~/oceanography/script_output/KernelFits/Adjust_Survival/1000SimulatedKernels2012Surv.csv\", header=T) %>%\n",
    "    mutate(year=as.character(year)) %>%\n",
    "    mutate(Adj=\"Surv\")\n",
    "SimKernels2013Surv <- read.csv(file=\"~/oceanography/script_output/KernelFits/Adjust_Survival/1000SimulatedKernels2013Surv.csv\", header=T) %>%\n",
    "    mutate(year=as.character(year)) %>%\n",
    "    mutate(Adj=\"Surv\")\n",
    "SimKernels2014Surv <- read.csv(file=\"~/oceanography/script_output/KernelFits/Adjust_Survival/1000SimulatedKernels2014Surv.csv\", header=T) %>%\n",
    "    mutate(year=as.character(year)) %>%\n",
    "    mutate(Adj=\"Surv\")\n",
    "#SimKernelsAllSurv <- read.csv(file=\"~/oceanography/script_output/KernelFits/Adjust_Survival/1000SimulatedKernelsAllSurv.csv\", header=T) %>%\n",
    "#    mutate(year=\"2012-14\") %>%\n",
    "#    mutate(Adj=\"Surv\")\n",
    "\n",
    "\n",
    "CombinedSims <- bind_rows(SimKernels2012, SimKernels2013, SimKernels2014,  SimKernelsAll, \n",
    "                          SimKernels2012SurvNoRecentRec, SimKernels2013SurvNoRecentRec, SimKernels2014SurvNoRecentRec,\n",
    "                            \n",
    "                             \n",
    "                          SimKernels2012NoRecentRec, SimKernels2013NoRecentRec, SimKernels2014NoRecentRec,  \n",
    "                              \n",
    "                          \n",
    "                          SimKernels2012Surv, SimKernels2013Surv, SimKernels2014Surv \n",
    "                              ) \n",
    "\n",
    "#SimKernelsAllSurv, SimKernelsAllNoRecentRec,  SimKernelsAllSurvNoRecentRec,\n",
    "#write.csv(CombinedSims, file=\"~/oceanography/script_output/KernelFits/CombinedSimulationKernelFits.csv\", row.names=F)"
   ]
  },
  {
   "cell_type": "code",
   "execution_count": 61,
   "metadata": {},
   "outputs": [],
   "source": [
    "CombinedSims <- read.csv(file=\"~/oceanography/script_output/KernelFits/CombinedSimulationKernelFitsNoOther.csv\", header=T, stringsAsFactors = F)"
   ]
  },
  {
   "cell_type": "code",
   "execution_count": 62,
   "metadata": {},
   "outputs": [
    {
     "data": {
      "text/html": [
       "<table>\n",
       "<thead><tr><th scope=col>year</th><th scope=col>k</th><th scope=col>theta</th><th scope=col>mdd</th><th scope=col>med</th><th scope=col>dist90</th><th scope=col>iteration</th><th scope=col>Adj</th></tr></thead>\n",
       "<tbody>\n",
       "\t<tr><td>2012      </td><td>-2.8047543</td><td>2.4693966 </td><td> 8.699709 </td><td>7.64      </td><td>17.43     </td><td>1         </td><td>no        </td></tr>\n",
       "\t<tr><td>2012      </td><td>-2.8511524</td><td>2.7437224 </td><td> 8.893662 </td><td>7.94      </td><td>17.59     </td><td>2         </td><td>no        </td></tr>\n",
       "\t<tr><td>2012      </td><td>-1.5418595</td><td>0.6919798 </td><td> 9.559210 </td><td>5.57      </td><td>23.29     </td><td>3         </td><td>no        </td></tr>\n",
       "\t<tr><td>2012      </td><td>-2.1396522</td><td>1.0090828 </td><td> 8.388683 </td><td>5.84      </td><td>19.29     </td><td>4         </td><td>no        </td></tr>\n",
       "\t<tr><td>2012      </td><td>-2.1590598</td><td>1.0295803 </td><td> 8.319246 </td><td>5.83      </td><td>19.06     </td><td>5         </td><td>no        </td></tr>\n",
       "\t<tr><td>2012      </td><td>-0.8263778</td><td>0.5313308 </td><td>10.753144 </td><td>5.28      </td><td>26.99     </td><td>6         </td><td>no        </td></tr>\n",
       "</tbody>\n",
       "</table>\n"
      ],
      "text/latex": [
       "\\begin{tabular}{r|llllllll}\n",
       " year & k & theta & mdd & med & dist90 & iteration & Adj\\\\\n",
       "\\hline\n",
       "\t 2012       & -2.8047543 & 2.4693966  &  8.699709  & 7.64       & 17.43      & 1          & no        \\\\\n",
       "\t 2012       & -2.8511524 & 2.7437224  &  8.893662  & 7.94       & 17.59      & 2          & no        \\\\\n",
       "\t 2012       & -1.5418595 & 0.6919798  &  9.559210  & 5.57       & 23.29      & 3          & no        \\\\\n",
       "\t 2012       & -2.1396522 & 1.0090828  &  8.388683  & 5.84       & 19.29      & 4          & no        \\\\\n",
       "\t 2012       & -2.1590598 & 1.0295803  &  8.319246  & 5.83       & 19.06      & 5          & no        \\\\\n",
       "\t 2012       & -0.8263778 & 0.5313308  & 10.753144  & 5.28       & 26.99      & 6          & no        \\\\\n",
       "\\end{tabular}\n"
      ],
      "text/markdown": [
       "\n",
       "| year | k | theta | mdd | med | dist90 | iteration | Adj |\n",
       "|---|---|---|---|---|---|---|---|\n",
       "| 2012       | -2.8047543 | 2.4693966  |  8.699709  | 7.64       | 17.43      | 1          | no         |\n",
       "| 2012       | -2.8511524 | 2.7437224  |  8.893662  | 7.94       | 17.59      | 2          | no         |\n",
       "| 2012       | -1.5418595 | 0.6919798  |  9.559210  | 5.57       | 23.29      | 3          | no         |\n",
       "| 2012       | -2.1396522 | 1.0090828  |  8.388683  | 5.84       | 19.29      | 4          | no         |\n",
       "| 2012       | -2.1590598 | 1.0295803  |  8.319246  | 5.83       | 19.06      | 5          | no         |\n",
       "| 2012       | -0.8263778 | 0.5313308  | 10.753144  | 5.28       | 26.99      | 6          | no         |\n",
       "\n"
      ],
      "text/plain": [
       "  year k          theta     mdd       med  dist90 iteration Adj\n",
       "1 2012 -2.8047543 2.4693966  8.699709 7.64 17.43  1         no \n",
       "2 2012 -2.8511524 2.7437224  8.893662 7.94 17.59  2         no \n",
       "3 2012 -1.5418595 0.6919798  9.559210 5.57 23.29  3         no \n",
       "4 2012 -2.1396522 1.0090828  8.388683 5.84 19.29  4         no \n",
       "5 2012 -2.1590598 1.0295803  8.319246 5.83 19.06  5         no \n",
       "6 2012 -0.8263778 0.5313308 10.753144 5.28 26.99  6         no "
      ]
     },
     "metadata": {},
     "output_type": "display_data"
    },
    {
     "data": {
      "text/html": [
       "<table>\n",
       "<thead><tr><th></th><th scope=col>year</th><th scope=col>k</th><th scope=col>theta</th><th scope=col>mdd</th><th scope=col>med</th><th scope=col>dist90</th><th scope=col>iteration</th><th scope=col>Adj</th></tr></thead>\n",
       "<tbody>\n",
       "\t<tr><th scope=row>15995</th><td>2012-14  </td><td>-2.632233</td><td>1.539844 </td><td>9.006121 </td><td>7.17     </td><td>19.32    </td><td> 995     </td><td>Surv     </td></tr>\n",
       "\t<tr><th scope=row>15996</th><td>2012-14  </td><td>-2.539874</td><td>1.305963 </td><td>9.338749 </td><td>7.10     </td><td>20.57    </td><td> 996     </td><td>Surv     </td></tr>\n",
       "\t<tr><th scope=row>15997</th><td>2012-14  </td><td>-2.606416</td><td>1.322245 </td><td>9.871634 </td><td>7.53     </td><td>21.70    </td><td> 997     </td><td>Surv     </td></tr>\n",
       "\t<tr><th scope=row>15998</th><td>2012-14  </td><td>-2.419790</td><td>1.115747 </td><td>9.751124 </td><td>7.04     </td><td>22.05    </td><td> 998     </td><td>Surv     </td></tr>\n",
       "\t<tr><th scope=row>15999</th><td>2012-14  </td><td>-2.757454</td><td>1.600655 </td><td>9.955226 </td><td>8.00     </td><td>21.22    </td><td> 999     </td><td>Surv     </td></tr>\n",
       "\t<tr><th scope=row>16000</th><td>2012-14  </td><td>-2.671965</td><td>1.478654 </td><td>9.639114 </td><td>7.59     </td><td>20.81    </td><td>1000     </td><td>Surv     </td></tr>\n",
       "</tbody>\n",
       "</table>\n"
      ],
      "text/latex": [
       "\\begin{tabular}{r|llllllll}\n",
       "  & year & k & theta & mdd & med & dist90 & iteration & Adj\\\\\n",
       "\\hline\n",
       "\t15995 & 2012-14   & -2.632233 & 1.539844  & 9.006121  & 7.17      & 19.32     &  995      & Surv     \\\\\n",
       "\t15996 & 2012-14   & -2.539874 & 1.305963  & 9.338749  & 7.10      & 20.57     &  996      & Surv     \\\\\n",
       "\t15997 & 2012-14   & -2.606416 & 1.322245  & 9.871634  & 7.53      & 21.70     &  997      & Surv     \\\\\n",
       "\t15998 & 2012-14   & -2.419790 & 1.115747  & 9.751124  & 7.04      & 22.05     &  998      & Surv     \\\\\n",
       "\t15999 & 2012-14   & -2.757454 & 1.600655  & 9.955226  & 8.00      & 21.22     &  999      & Surv     \\\\\n",
       "\t16000 & 2012-14   & -2.671965 & 1.478654  & 9.639114  & 7.59      & 20.81     & 1000      & Surv     \\\\\n",
       "\\end{tabular}\n"
      ],
      "text/markdown": [
       "\n",
       "| <!--/--> | year | k | theta | mdd | med | dist90 | iteration | Adj |\n",
       "|---|---|---|---|---|---|---|---|---|\n",
       "| 15995 | 2012-14   | -2.632233 | 1.539844  | 9.006121  | 7.17      | 19.32     |  995      | Surv      |\n",
       "| 15996 | 2012-14   | -2.539874 | 1.305963  | 9.338749  | 7.10      | 20.57     |  996      | Surv      |\n",
       "| 15997 | 2012-14   | -2.606416 | 1.322245  | 9.871634  | 7.53      | 21.70     |  997      | Surv      |\n",
       "| 15998 | 2012-14   | -2.419790 | 1.115747  | 9.751124  | 7.04      | 22.05     |  998      | Surv      |\n",
       "| 15999 | 2012-14   | -2.757454 | 1.600655  | 9.955226  | 8.00      | 21.22     |  999      | Surv      |\n",
       "| 16000 | 2012-14   | -2.671965 | 1.478654  | 9.639114  | 7.59      | 20.81     | 1000      | Surv      |\n",
       "\n"
      ],
      "text/plain": [
       "      year    k         theta    mdd      med  dist90 iteration Adj \n",
       "15995 2012-14 -2.632233 1.539844 9.006121 7.17 19.32   995      Surv\n",
       "15996 2012-14 -2.539874 1.305963 9.338749 7.10 20.57   996      Surv\n",
       "15997 2012-14 -2.606416 1.322245 9.871634 7.53 21.70   997      Surv\n",
       "15998 2012-14 -2.419790 1.115747 9.751124 7.04 22.05   998      Surv\n",
       "15999 2012-14 -2.757454 1.600655 9.955226 8.00 21.22   999      Surv\n",
       "16000 2012-14 -2.671965 1.478654 9.639114 7.59 20.81  1000      Surv"
      ]
     },
     "metadata": {},
     "output_type": "display_data"
    }
   ],
   "source": [
    "head(CombinedSims)\n",
    "tail(CombinedSims)"
   ]
  },
  {
   "cell_type": "code",
   "execution_count": 52,
   "metadata": {},
   "outputs": [
    {
     "data": {
      "image/png": "[encoded data removed]",
      "text/plain": [
       "plot without title"
      ]
     },
     "metadata": {},
     "output_type": "display_data"
    },
    {
     "data": {
      "image/png": "[encoded data removed]",
      "text/plain": [
       "plot without title"
      ]
     },
     "metadata": {},
     "output_type": "display_data"
    }
   ],
   "source": [
    "#check for obvious bias based on iteration, which would point to a problem in the for loop. Seems fine to me though 03/23/2021\n",
    "plot(CombinedSims$mdd ~ CombinedSims$iteration)\n",
    "plot(CombinedSims$theta ~ CombinedSims$iteration)"
   ]
  },
  {
   "cell_type": "code",
   "execution_count": 63,
   "metadata": {},
   "outputs": [
    {
     "name": "stderr",
     "output_type": "stream",
     "text": [
      "`summarise()` regrouping output by 'Adj' (override with `.groups` argument)\n"
     ]
    },
    {
     "data": {
      "text/html": [
       "<table>\n",
       "<thead><tr><th scope=col>NObsBoundary2014</th></tr></thead>\n",
       "<tbody>\n",
       "\t<tr><td>1187</td></tr>\n",
       "</tbody>\n",
       "</table>\n"
      ],
      "text/latex": [
       "\\begin{tabular}{r|l}\n",
       " NObsBoundary2014\\\\\n",
       "\\hline\n",
       "\t 1187\\\\\n",
       "\\end{tabular}\n"
      ],
      "text/markdown": [
       "\n",
       "| NObsBoundary2014 |\n",
       "|---|\n",
       "| 1187 |\n",
       "\n"
      ],
      "text/plain": [
       "  NObsBoundary2014\n",
       "1 1187            "
      ]
     },
     "metadata": {},
     "output_type": "display_data"
    },
    {
     "data": {
      "text/html": [
       "1172"
      ],
      "text/latex": [
       "1172"
      ],
      "text/markdown": [
       "1172"
      ],
      "text/plain": [
       "[1] 1172"
      ]
     },
     "metadata": {},
     "output_type": "display_data"
    }
   ],
   "source": [
    "#FROM AFTER 1000 SIMS AND SAND FLATS excluded\n",
    "\n",
    "#that's a fit where theta is at the boundary, not a good fit\n",
    "CombinedSims %>%\n",
    "    group_by(Adj, year) %>%\n",
    "    filter(k==10 |k==-10 | theta==0.15 |theta== 8) %>% #how often are the fits at the boundary? as in, bad\n",
    "    summarise(NObsBoundary=n()) %>%\n",
    "    arrange(NObsBoundary) %>%\n",
    "    filter(year==\"2014\") %>% #zero in on 2014\n",
    "    ungroup() %>%\n",
    "    summarise(NObsBoundary2014=sum(NObsBoundary))\n",
    "\n",
    "nrow(CombinedSims %>% filter(year==\"2014\" & theta==8))\n"
   ]
  },
  {
   "cell_type": "code",
   "execution_count": 64,
   "metadata": {
    "scrolled": true
   },
   "outputs": [],
   "source": [
    "MeanFits <-  CombinedSims %>% \n",
    "    select(-iteration) %>%\n",
    "    group_by(year, Adj) %>%\n",
    "    summarise_each(funs(mean)) %>%\n",
    "    #rename(Year=\"year\", AvgSimK=\"k\", AvgSimTheta=\"theta\", AvgSimMDD=\"mdd\", AvgSimMed=\"med\", AvgSimDist90=\"dist90\") %>%\n",
    "    mutate(DataType=\"Sim\", Stat=\"Mean\")#mark these as simulations\n",
    "\n",
    "MinFits <-  CombinedSims %>% \n",
    "    select(-iteration) %>%\n",
    "    group_by(year, Adj) %>%\n",
    "    summarise_each(funs(min)) %>%\n",
    "    #rename(Year=\"year\", MinSimK=\"k\", MinSimTheta=\"theta\", MinSimMDD=\"mdd\", MinSimMed=\"med\", MinSimDist90=\"dist90\")\n",
    "    mutate(DataType=\"Sim\", Stat=\"Min\")#mark these as simulations\n",
    "\n",
    "MaxFits <-  CombinedSims %>% \n",
    "    select(-iteration) %>%\n",
    "    group_by(year, Adj) %>%\n",
    "    summarise_each(funs(max)) %>%\n",
    "    #rename(Year=\"year\", MaxSimK=\"k\", MaxSimTheta=\"theta\", MaxSimMDD=\"mdd\", MaxSimMed=\"med\", MaxSimDist90=\"dist90\")\n",
    "    mutate(DataType=\"Sim\", Stat=\"Max\")#mark these as simulations\n",
    "\n",
    "MedFits <-  CombinedSims %>% \n",
    "    select(-iteration) %>%\n",
    "    group_by(year, Adj) %>%\n",
    "    summarise_each(funs(median)) %>%\n",
    "    #rename(Year=\"year\", MedSimK=\"k\", MedSimTheta=\"theta\", MedSimMDD=\"mdd\", MedSimMed=\"med\", MedSimDist90=\"dist90\")\n",
    "    mutate(DataType=\"Sim\", Stat=\"Med\")#mark these as simulations\n",
    "\n",
    "SDFits <-  CombinedSims %>% \n",
    "    select(-iteration) %>%\n",
    "    group_by(year, Adj) %>%\n",
    "    summarise_each(funs(sd)) %>%\n",
    "    #rename(Year=\"year\", SDSimK=\"k\", SDSimTheta=\"theta\", SDSimMDD=\"mdd\", SDSimMed=\"med\", SDSimDist90=\"dist90\")\n",
    "    mutate(DataType=\"Sim\", Stat=\"SD\")#mark these as simulations\n",
    "\n",
    "CVWithin <- CombinedSims %>% #make a data frame that has the CV for select parameters/summary stats WITHIN an ensemble\n",
    "    select(-iteration) %>%\n",
    "    group_by(year, Adj) %>%\n",
    "    mutate(mdd=sd(mdd)/mean(mdd)) %>%\n",
    "    mutate(k=sd(k)/mean(k)) %>%\n",
    "    mutate(theta=sd(theta)/mean(theta)) %>%\n",
    "    mutate(med=sd(med)/mean(med)) %>%\n",
    "    distinct(year, Adj, .keep_all = T) %>%\n",
    "    mutate(DataType=\"Sim\", Stat=\"CVWithin\")#mark these as simulations\n",
    "\n",
    "CVAmongAnnual <- CombinedSims %>% #make a data frame that has the CV for select parameters/summary stats among a case (as in, ensembles correcting for no recent recruits)\n",
    "    select(-iteration) %>%\n",
    "    filter(year %in% c(\"2012\", \"2013\", \"2014\")) %>%\n",
    "    group_by(Adj) %>%\n",
    "    mutate(mdd=sd(mdd)/mean(mdd)) %>%\n",
    "    mutate(k=sd(k)/mean(k)) %>%\n",
    "    mutate(theta=sd(theta)/mean(theta)) %>%\n",
    "    mutate(med=sd(med)/mean(med)) %>%\n",
    "    distinct(year, Adj, .keep_all = T) %>%\n",
    "    mutate(DataType=\"Sim\", Stat=\"CVAmongAnnual\")#mark these as simulations\n",
    " \n",
    "\n",
    "SimSummary <- bind_rows(MeanFits, MinFits, MaxFits, MedFits, SDFits, CVWithin, CVAmongAnnual) %>%\n",
    "    select(year, Adj, DataType, Stat, everything()) %>%\n",
    "    rename(Year=\"year\")\n",
    "\n",
    "#gather into long form\n",
    "SimSummary <- SimSummary %>% \n",
    "    gather(5:9, key=\"metric\", value=\"value\") \n",
    "SimSummary$value <- round(SimSummary$value, digits=2)\n",
    "    \n",
    "                        \n",
    "#write.csv(SimSummary, file=\"~/oceanography/script_output/KernelFits/SimulationKernelFitsSummary.csv\", row.names=F)"
   ]
  },
  {
   "cell_type": "code",
   "execution_count": 65,
   "metadata": {},
   "outputs": [
    {
     "data": {
      "text/html": [
       "<table>\n",
       "<thead><tr><th scope=col>Year</th><th scope=col>Adj</th><th scope=col>DataType</th><th scope=col>Stat</th><th scope=col>metric</th><th scope=col>value</th></tr></thead>\n",
       "<tbody>\n",
       "\t<tr><td>2012           </td><td>no             </td><td>Sim            </td><td>Mean           </td><td>k              </td><td>-1.38          </td></tr>\n",
       "\t<tr><td>2012           </td><td>NoRecentRec    </td><td>Sim            </td><td>Mean           </td><td>k              </td><td>-1.29          </td></tr>\n",
       "\t<tr><td>2012           </td><td>Surv           </td><td>Sim            </td><td>Mean           </td><td>k              </td><td>-1.47          </td></tr>\n",
       "\t<tr><td>2012           </td><td>SurvNoRecentRec</td><td>Sim            </td><td>Mean           </td><td>k              </td><td>-1.11          </td></tr>\n",
       "\t<tr><td>2012-14        </td><td>no             </td><td>Sim            </td><td>Mean           </td><td>k              </td><td>-2.14          </td></tr>\n",
       "\t<tr><td>2012-14        </td><td>NoRecentRec    </td><td>Sim            </td><td>Mean           </td><td>k              </td><td>-1.69          </td></tr>\n",
       "</tbody>\n",
       "</table>\n"
      ],
      "text/latex": [
       "\\begin{tabular}{r|llllll}\n",
       " Year & Adj & DataType & Stat & metric & value\\\\\n",
       "\\hline\n",
       "\t 2012            & no              & Sim             & Mean            & k               & -1.38          \\\\\n",
       "\t 2012            & NoRecentRec     & Sim             & Mean            & k               & -1.29          \\\\\n",
       "\t 2012            & Surv            & Sim             & Mean            & k               & -1.47          \\\\\n",
       "\t 2012            & SurvNoRecentRec & Sim             & Mean            & k               & -1.11          \\\\\n",
       "\t 2012-14         & no              & Sim             & Mean            & k               & -2.14          \\\\\n",
       "\t 2012-14         & NoRecentRec     & Sim             & Mean            & k               & -1.69          \\\\\n",
       "\\end{tabular}\n"
      ],
      "text/markdown": [
       "\n",
       "| Year | Adj | DataType | Stat | metric | value |\n",
       "|---|---|---|---|---|---|\n",
       "| 2012            | no              | Sim             | Mean            | k               | -1.38           |\n",
       "| 2012            | NoRecentRec     | Sim             | Mean            | k               | -1.29           |\n",
       "| 2012            | Surv            | Sim             | Mean            | k               | -1.47           |\n",
       "| 2012            | SurvNoRecentRec | Sim             | Mean            | k               | -1.11           |\n",
       "| 2012-14         | no              | Sim             | Mean            | k               | -2.14           |\n",
       "| 2012-14         | NoRecentRec     | Sim             | Mean            | k               | -1.69           |\n",
       "\n"
      ],
      "text/plain": [
       "  Year    Adj             DataType Stat metric value\n",
       "1 2012    no              Sim      Mean k      -1.38\n",
       "2 2012    NoRecentRec     Sim      Mean k      -1.29\n",
       "3 2012    Surv            Sim      Mean k      -1.47\n",
       "4 2012    SurvNoRecentRec Sim      Mean k      -1.11\n",
       "5 2012-14 no              Sim      Mean k      -2.14\n",
       "6 2012-14 NoRecentRec     Sim      Mean k      -1.69"
      ]
     },
     "metadata": {},
     "output_type": "display_data"
    }
   ],
   "source": [
    "head(SimSummary)"
   ]
  },
  {
   "cell_type": "code",
   "execution_count": 133,
   "metadata": {},
   "outputs": [],
   "source": [
    "#read in the empirical data\n",
    "kernels <- read.csv(file=\"~/parentage/kernel_fitting/1340_loci/final_results/tables/kernel_fitting_summary.csv\", header=T, stringsAsFactors = F)  %>%\n",
    "    rename(k=\"best_k\", theta=\"best_theta\", mdd=\"MeanDispDist\", med=\"MedianDispDist\", dist90=\"Dist90Retained\") %>%\n",
    "    select(Year, k, theta, mdd, med, dist90) %>%\n",
    "    mutate(Adj=NA, DataType=\"Gen\")\n",
    "\n",
    "kernel2012_14 <- read.csv(file=\"~/oceanography/empirical_data/genetics/GenKernelsForROMSComp2012-14.csv\", header=T, stringsAsFactors = F) %>%\n",
    "    rename(Year=\"year\")\n",
    "\n",
    "kernels2 <- bind_rows(kernels, kernel2012_14) %>% \n",
    "    mutate(Adj=NA, DataType=\"Gen\") %>%\n",
    "    filter(Year %in% c(\"2012\", \"2013\", \"2014\", \"2012-14\")) %>% #exclude to only years matching the ROMS model for now\n",
    "    mutate(Stat=\"MLE\") %>%\n",
    "    select(Year, Adj, DataType, Stat, everything()) %>%\n",
    "    gather(5:9, key=\"metric\", value=\"value\")\n",
    "\n",
    "kernels2$value <- round(kernels2$value, digits=2)\n",
    "\n",
    "SimPlusGenFits <- bind_rows(SimSummary, kernels2)\n",
    "\n",
    "#\n",
    "#write.csv(SimPlusGenFits, file=\"~/oceanography/script_output/KernelFits/SimPlusGenKernelFits.csv\", row.names=F)"
   ]
  },
  {
   "cell_type": "code",
   "execution_count": 141,
   "metadata": {},
   "outputs": [
    {
     "data": {
      "text/html": [
       "<table>\n",
       "<thead><tr><th scope=col>Year</th><th scope=col>GenDist90</th><th scope=col>GenK</th><th scope=col>GenMDD</th><th scope=col>GenMed</th><th scope=col>GenTheta</th><th scope=col>Adj</th><th scope=col>SimDist90</th><th scope=col>SimK</th><th scope=col>SimMDD</th><th scope=col>SimMed</th><th scope=col>SimTheta</th><th scope=col>MDDDiffGenVSim</th></tr></thead>\n",
       "<tbody>\n",
       "\t<tr><td>2012           </td><td> 23.29         </td><td>-2.36          </td><td>10.17          </td><td> 7.13          </td><td>1.03           </td><td>NoRecentRec    </td><td>77.89          </td><td>-1.29          </td><td>40.07          </td><td> 8.44          </td><td>1.01           </td><td>29.90          </td></tr>\n",
       "\t<tr><td>2012-14        </td><td> 68.69         </td><td> 1.68          </td><td>27.77          </td><td> 7.71          </td><td>0.30           </td><td>NoRecentRec    </td><td>27.35          </td><td>-1.69          </td><td>11.58          </td><td> 6.84          </td><td>1.20           </td><td>16.19          </td></tr>\n",
       "\t<tr><td>2013           </td><td>157.36         </td><td> 4.04          </td><td>69.59          </td><td>12.20          </td><td>0.22           </td><td>SurvNoRecentRec</td><td>20.69          </td><td>-0.61          </td><td> 8.36          </td><td> 4.14          </td><td>0.60           </td><td>61.23          </td></tr>\n",
       "\t<tr><td>2014           </td><td> 38.13         </td><td> 0.49          </td><td>15.04          </td><td> 5.53          </td><td>0.38           </td><td>Surv           </td><td>38.50          </td><td>-2.40          </td><td>17.77          </td><td>10.03          </td><td>3.06           </td><td> 2.73          </td></tr>\n",
       "</tbody>\n",
       "</table>\n"
      ],
      "text/latex": [
       "\\begin{tabular}{r|lllllllllllll}\n",
       " Year & GenDist90 & GenK & GenMDD & GenMed & GenTheta & Adj & SimDist90 & SimK & SimMDD & SimMed & SimTheta & MDDDiffGenVSim\\\\\n",
       "\\hline\n",
       "\t 2012            &  23.29          & -2.36           & 10.17           &  7.13           & 1.03            & NoRecentRec     & 77.89           & -1.29           & 40.07           &  8.44           & 1.01            & 29.90          \\\\\n",
       "\t 2012-14         &  68.69          &  1.68           & 27.77           &  7.71           & 0.30            & NoRecentRec     & 27.35           & -1.69           & 11.58           &  6.84           & 1.20            & 16.19          \\\\\n",
       "\t 2013            & 157.36          &  4.04           & 69.59           & 12.20           & 0.22            & SurvNoRecentRec & 20.69           & -0.61           &  8.36           &  4.14           & 0.60            & 61.23          \\\\\n",
       "\t 2014            &  38.13          &  0.49           & 15.04           &  5.53           & 0.38            & Surv            & 38.50           & -2.40           & 17.77           & 10.03           & 3.06            &  2.73          \\\\\n",
       "\\end{tabular}\n"
      ],
      "text/markdown": [
       "\n",
       "| Year | GenDist90 | GenK | GenMDD | GenMed | GenTheta | Adj | SimDist90 | SimK | SimMDD | SimMed | SimTheta | MDDDiffGenVSim |\n",
       "|---|---|---|---|---|---|---|---|---|---|---|---|---|\n",
       "| 2012            |  23.29          | -2.36           | 10.17           |  7.13           | 1.03            | NoRecentRec     | 77.89           | -1.29           | 40.07           |  8.44           | 1.01            | 29.90           |\n",
       "| 2012-14         |  68.69          |  1.68           | 27.77           |  7.71           | 0.30            | NoRecentRec     | 27.35           | -1.69           | 11.58           |  6.84           | 1.20            | 16.19           |\n",
       "| 2013            | 157.36          |  4.04           | 69.59           | 12.20           | 0.22            | SurvNoRecentRec | 20.69           | -0.61           |  8.36           |  4.14           | 0.60            | 61.23           |\n",
       "| 2014            |  38.13          |  0.49           | 15.04           |  5.53           | 0.38            | Surv            | 38.50           | -2.40           | 17.77           | 10.03           | 3.06            |  2.73           |\n",
       "\n"
      ],
      "text/plain": [
       "  Year    GenDist90 GenK  GenMDD GenMed GenTheta Adj             SimDist90\n",
       "1 2012     23.29    -2.36 10.17   7.13  1.03     NoRecentRec     77.89    \n",
       "2 2012-14  68.69     1.68 27.77   7.71  0.30     NoRecentRec     27.35    \n",
       "3 2013    157.36     4.04 69.59  12.20  0.22     SurvNoRecentRec 20.69    \n",
       "4 2014     38.13     0.49 15.04   5.53  0.38     Surv            38.50    \n",
       "  SimK  SimMDD SimMed SimTheta MDDDiffGenVSim\n",
       "1 -1.29 40.07   8.44  1.01     29.90         \n",
       "2 -1.69 11.58   6.84  1.20     16.19         \n",
       "3 -0.61  8.36   4.14  0.60     61.23         \n",
       "4 -2.40 17.77  10.03  3.06      2.73         "
      ]
     },
     "metadata": {},
     "output_type": "display_data"
    }
   ],
   "source": [
    "#make the sim summary table wide format, then join with the wide kernels and make columns with the differences between average simulation parameters and genetic results\n",
    "\n",
    "CompareFits <- left_join((kernels2 %>% \n",
    "               spread(metric, value) %>% \n",
    "               select(-Adj, -DataType, -Stat) %>%\n",
    "                rename(GenK=\"k\", GenTheta=\"theta\", GenMDD=\"mdd\", GenMed=\"med\", GenDist90=\"dist90\")) , \n",
    "          \n",
    "          (SimSummary %>% \n",
    "               spread(metric, value) %>% \n",
    "               filter(DataType==\"Sim\" & Stat== \"Mean\" ) %>% \n",
    "               select(-DataType, -Stat) %>% \n",
    "               rename(SimK=\"k\", SimTheta=\"theta\", SimMDD=\"mdd\", SimMed=\"med\", SimDist90=\"dist90\")), \n",
    "              by=\"Year\") \n",
    "\n",
    "CompareFits %>%\n",
    "        mutate(MDDDiffGenVSim=abs(GenMDD-SimMDD)) %>%\n",
    "        group_by(Year) %>%\n",
    "        arrange(Year, MDDDiffGenVSim) %>%\n",
    "        filter(MDDDiffGenVSim==min(MDDDiffGenVSim))\n",
    "    \n",
    "CompareFits <- CompareFits %>%\n",
    "        mutate(MDDDiffGenVSim=abs(GenMDD-SimMDD)) %>%\n",
    "        mutate(ThetaDiffGenVSim=abs(GenTheta-SimTheta)) %>%\n",
    "        group_by(Year) %>%\n",
    "        arrange(Year, ThetaDiffGenVSim) #%>%\n",
    "        #filter(ThetaDiffGenVSim==min(ThetaDiffGenVSim))\n",
    "#write.csv(CompareFits, file=\"~/oceanography/script_output/KernelFits/SimPlusGenKernelFitComparisonTable.csv\", row.names=F)\n"
   ]
  },
  {
   "cell_type": "code",
   "execution_count": 67,
   "metadata": {},
   "outputs": [
    {
     "data": {
      "text/html": [
       "<table>\n",
       "<thead><tr><th scope=col>Year</th><th scope=col>GenDist90</th><th scope=col>GenK</th><th scope=col>GenMDD</th><th scope=col>GenMed</th><th scope=col>GenTheta</th><th scope=col>Adj</th><th scope=col>SimDist90</th><th scope=col>SimK</th><th scope=col>SimMDD</th><th scope=col>SimMed</th><th scope=col>SimTheta</th><th scope=col>MDDDiffGenVSim</th><th scope=col>ThetaDiffGenVSim</th></tr></thead>\n",
       "<tbody>\n",
       "\t<tr><td>2012           </td><td> 23.29         </td><td>-2.36          </td><td>10.17          </td><td> 7.13          </td><td>1.03           </td><td>SurvNoRecentRec</td><td>39.49          </td><td>-1.80          </td><td>19.23          </td><td> 7.18          </td><td>1.51           </td><td> 9.06          </td><td>0.48           </td></tr>\n",
       "\t<tr><td>2012-14        </td><td> 68.69         </td><td> 1.68          </td><td>27.77          </td><td> 7.71          </td><td>0.30           </td><td>no             </td><td>21.64          </td><td>-2.24          </td><td> 9.68          </td><td> 6.88          </td><td>1.42           </td><td>18.09          </td><td>1.12           </td></tr>\n",
       "\t<tr><td>2013           </td><td>157.36         </td><td> 4.04          </td><td>69.59          </td><td>12.20          </td><td>0.22           </td><td>NoRecentRec    </td><td>19.17          </td><td>-1.03          </td><td> 7.90          </td><td> 4.35          </td><td>0.73           </td><td>61.69          </td><td>0.51           </td></tr>\n",
       "\t<tr><td>2014           </td><td> 38.13         </td><td> 0.49          </td><td>15.04          </td><td> 5.53          </td><td>0.38           </td><td>Surv           </td><td>62.66          </td><td>-2.31          </td><td>30.89          </td><td>11.43          </td><td>3.41           </td><td>15.85          </td><td>3.03           </td></tr>\n",
       "</tbody>\n",
       "</table>\n"
      ],
      "text/latex": [
       "\\begin{tabular}{r|llllllllllllll}\n",
       " Year & GenDist90 & GenK & GenMDD & GenMed & GenTheta & Adj & SimDist90 & SimK & SimMDD & SimMed & SimTheta & MDDDiffGenVSim & ThetaDiffGenVSim\\\\\n",
       "\\hline\n",
       "\t 2012            &  23.29          & -2.36           & 10.17           &  7.13           & 1.03            & SurvNoRecentRec & 39.49           & -1.80           & 19.23           &  7.18           & 1.51            &  9.06           & 0.48           \\\\\n",
       "\t 2012-14         &  68.69          &  1.68           & 27.77           &  7.71           & 0.30            & no              & 21.64           & -2.24           &  9.68           &  6.88           & 1.42            & 18.09           & 1.12           \\\\\n",
       "\t 2013            & 157.36          &  4.04           & 69.59           & 12.20           & 0.22            & NoRecentRec     & 19.17           & -1.03           &  7.90           &  4.35           & 0.73            & 61.69           & 0.51           \\\\\n",
       "\t 2014            &  38.13          &  0.49           & 15.04           &  5.53           & 0.38            & Surv            & 62.66           & -2.31           & 30.89           & 11.43           & 3.41            & 15.85           & 3.03           \\\\\n",
       "\\end{tabular}\n"
      ],
      "text/markdown": [
       "\n",
       "| Year | GenDist90 | GenK | GenMDD | GenMed | GenTheta | Adj | SimDist90 | SimK | SimMDD | SimMed | SimTheta | MDDDiffGenVSim | ThetaDiffGenVSim |\n",
       "|---|---|---|---|---|---|---|---|---|---|---|---|---|---|\n",
       "| 2012            |  23.29          | -2.36           | 10.17           |  7.13           | 1.03            | SurvNoRecentRec | 39.49           | -1.80           | 19.23           |  7.18           | 1.51            |  9.06           | 0.48            |\n",
       "| 2012-14         |  68.69          |  1.68           | 27.77           |  7.71           | 0.30            | no              | 21.64           | -2.24           |  9.68           |  6.88           | 1.42            | 18.09           | 1.12            |\n",
       "| 2013            | 157.36          |  4.04           | 69.59           | 12.20           | 0.22            | NoRecentRec     | 19.17           | -1.03           |  7.90           |  4.35           | 0.73            | 61.69           | 0.51            |\n",
       "| 2014            |  38.13          |  0.49           | 15.04           |  5.53           | 0.38            | Surv            | 62.66           | -2.31           | 30.89           | 11.43           | 3.41            | 15.85           | 3.03            |\n",
       "\n"
      ],
      "text/plain": [
       "  Year    GenDist90 GenK  GenMDD GenMed GenTheta Adj             SimDist90\n",
       "1 2012     23.29    -2.36 10.17   7.13  1.03     SurvNoRecentRec 39.49    \n",
       "2 2012-14  68.69     1.68 27.77   7.71  0.30     no              21.64    \n",
       "3 2013    157.36     4.04 69.59  12.20  0.22     NoRecentRec     19.17    \n",
       "4 2014     38.13     0.49 15.04   5.53  0.38     Surv            62.66    \n",
       "  SimK  SimMDD SimMed SimTheta MDDDiffGenVSim ThetaDiffGenVSim\n",
       "1 -1.80 19.23   7.18  1.51      9.06          0.48            \n",
       "2 -2.24  9.68   6.88  1.42     18.09          1.12            \n",
       "3 -1.03  7.90   4.35  0.73     61.69          0.51            \n",
       "4 -2.31 30.89  11.43  3.41     15.85          3.03            "
      ]
     },
     "metadata": {},
     "output_type": "display_data"
    }
   ],
   "source": [
    "CompareFits %>%\n",
    "        mutate(MDDDiffGenVSim=abs(GenMDD-SimMDD)) %>%\n",
    "        group_by(Year) %>%\n",
    "        arrange(Year, MDDDiffGenVSim) %>%\n",
    "        filter(MDDDiffGenVSim==min(MDDDiffGenVSim))"
   ]
  },
  {
   "cell_type": "code",
   "execution_count": 122,
   "metadata": {},
   "outputs": [
    {
     "data": {
      "text/html": [
       "<table>\n",
       "<thead><tr><th scope=col>k</th><th scope=col>mdd</th><th scope=col>med</th><th scope=col>theta</th><th scope=col>DataType</th><th scope=col>Stat</th></tr></thead>\n",
       "<tbody>\n",
       "\t<tr><td>4.432775     </td><td>1.043997     </td><td>0.4202158    </td><td>0.7895541    </td><td>Gen          </td><td>CVAmongAnnual</td></tr>\n",
       "</tbody>\n",
       "</table>\n"
      ],
      "text/latex": [
       "\\begin{tabular}{r|llllll}\n",
       " k & mdd & med & theta & DataType & Stat\\\\\n",
       "\\hline\n",
       "\t 4.432775      & 1.043997      & 0.4202158     & 0.7895541     & Gen           & CVAmongAnnual\\\\\n",
       "\\end{tabular}\n"
      ],
      "text/markdown": [
       "\n",
       "| k | mdd | med | theta | DataType | Stat |\n",
       "|---|---|---|---|---|---|\n",
       "| 4.432775      | 1.043997      | 0.4202158     | 0.7895541     | Gen           | CVAmongAnnual |\n",
       "\n"
      ],
      "text/plain": [
       "  k        mdd      med       theta     DataType Stat         \n",
       "1 4.432775 1.043997 0.4202158 0.7895541 Gen      CVAmongAnnual"
      ]
     },
     "metadata": {},
     "output_type": "display_data"
    }
   ],
   "source": [
    "#look at the CV among years in the genetics and three cases\n",
    "RealKernelVar <- kernels2 %>% \n",
    "    spread(metric, value) %>%\n",
    "    filter(Year %in% c(\"2012\", \"2013\", \"2014\")) %>%\n",
    "    mutate(mdd=sd(mdd)/mean(mdd))%>%\n",
    "    mutate(med=sd(med)/mean(med))%>%\n",
    "    mutate(theta=sd(theta)/mean(theta)) %>%\n",
    "    mutate(k=sd(k)/mean(k)) %>%\n",
    "    distinct(mdd, med, theta, k) %>%\n",
    "    mutate(DataType=\"Gen\", Stat=\"CVAmongAnnual\")\n",
    "RealKernelVar"
   ]
  },
  {
   "cell_type": "code",
   "execution_count": 116,
   "metadata": {},
   "outputs": [],
   "source": [
    "#do the CV calculations\n",
    "SimCV <-(SimSummary %>% \n",
    "               spread(metric, value) %>% \n",
    "               #filter(DataType==\"Sim\" & Stat== \"Mean\" ) %>% \n",
    "               #select(-DataType, -Stat) %>% \n",
    "               #rename(SimK=\"k\", SimTheta=\"theta\", SimMDD=\"mdd\", SimMed=\"med\", SimDist90=\"dist90\") %>%\n",
    "                filter(Stat==\"CVAmongAnnual\") %>%\n",
    "            ungroup() %>%\n",
    "            distinct(Adj, .keep_all = T) %>%\n",
    "            select(-Year)) "
   ]
  },
  {
   "cell_type": "code",
   "execution_count": 117,
   "metadata": {
    "scrolled": true
   },
   "outputs": [
    {
     "data": {
      "text/html": [
       "<table>\n",
       "<thead><tr><th scope=col>Adj</th><th scope=col>DataType</th><th scope=col>Stat</th><th scope=col>metric</th><th scope=col>value</th></tr></thead>\n",
       "<tbody>\n",
       "\t<tr><td>no             </td><td>Sim            </td><td>CVAmongAnnual  </td><td>dist90         </td><td>17.43          </td></tr>\n",
       "\t<tr><td>NoRecentRec    </td><td>Sim            </td><td>CVAmongAnnual  </td><td>dist90         </td><td>16.70          </td></tr>\n",
       "\t<tr><td>Surv           </td><td>Sim            </td><td>CVAmongAnnual  </td><td>dist90         </td><td>16.73          </td></tr>\n",
       "\t<tr><td>SurvNoRecentRec</td><td>Sim            </td><td>CVAmongAnnual  </td><td>dist90         </td><td>24.73          </td></tr>\n",
       "\t<tr><td>no             </td><td>Sim            </td><td>CVAmongAnnual  </td><td>k              </td><td>-0.89          </td></tr>\n",
       "\t<tr><td>NoRecentRec    </td><td>Sim            </td><td>CVAmongAnnual  </td><td>k              </td><td>-1.19          </td></tr>\n",
       "\t<tr><td>Surv           </td><td>Sim            </td><td>CVAmongAnnual  </td><td>k              </td><td>-0.80          </td></tr>\n",
       "\t<tr><td>SurvNoRecentRec</td><td>Sim            </td><td>CVAmongAnnual  </td><td>k              </td><td>-1.51          </td></tr>\n",
       "\t<tr><td>no             </td><td>Sim            </td><td>CVAmongAnnual  </td><td>mdd            </td><td> 8.87          </td></tr>\n",
       "\t<tr><td>NoRecentRec    </td><td>Sim            </td><td>CVAmongAnnual  </td><td>mdd            </td><td> 8.28          </td></tr>\n",
       "\t<tr><td>Surv           </td><td>Sim            </td><td>CVAmongAnnual  </td><td>mdd            </td><td> 7.62          </td></tr>\n",
       "\t<tr><td>SurvNoRecentRec</td><td>Sim            </td><td>CVAmongAnnual  </td><td>mdd            </td><td> 7.54          </td></tr>\n",
       "\t<tr><td>no             </td><td>Sim            </td><td>CVAmongAnnual  </td><td>med            </td><td> 2.71          </td></tr>\n",
       "\t<tr><td>NoRecentRec    </td><td>Sim            </td><td>CVAmongAnnual  </td><td>med            </td><td> 2.98          </td></tr>\n",
       "\t<tr><td>Surv           </td><td>Sim            </td><td>CVAmongAnnual  </td><td>med            </td><td> 2.35          </td></tr>\n",
       "\t<tr><td>SurvNoRecentRec</td><td>Sim            </td><td>CVAmongAnnual  </td><td>med            </td><td> 3.05          </td></tr>\n",
       "\t<tr><td>no             </td><td>Sim            </td><td>CVAmongAnnual  </td><td>theta          </td><td> 1.23          </td></tr>\n",
       "\t<tr><td>NoRecentRec    </td><td>Sim            </td><td>CVAmongAnnual  </td><td>theta          </td><td> 1.41          </td></tr>\n",
       "\t<tr><td>Surv           </td><td>Sim            </td><td>CVAmongAnnual  </td><td>theta          </td><td> 1.16          </td></tr>\n",
       "\t<tr><td>SurvNoRecentRec</td><td>Sim            </td><td>CVAmongAnnual  </td><td>theta          </td><td> 1.49          </td></tr>\n",
       "</tbody>\n",
       "</table>\n"
      ],
      "text/latex": [
       "\\begin{tabular}{r|lllll}\n",
       " Adj & DataType & Stat & metric & value\\\\\n",
       "\\hline\n",
       "\t no              & Sim             & CVAmongAnnual   & dist90          & 17.43          \\\\\n",
       "\t NoRecentRec     & Sim             & CVAmongAnnual   & dist90          & 16.70          \\\\\n",
       "\t Surv            & Sim             & CVAmongAnnual   & dist90          & 16.73          \\\\\n",
       "\t SurvNoRecentRec & Sim             & CVAmongAnnual   & dist90          & 24.73          \\\\\n",
       "\t no              & Sim             & CVAmongAnnual   & k               & -0.89          \\\\\n",
       "\t NoRecentRec     & Sim             & CVAmongAnnual   & k               & -1.19          \\\\\n",
       "\t Surv            & Sim             & CVAmongAnnual   & k               & -0.80          \\\\\n",
       "\t SurvNoRecentRec & Sim             & CVAmongAnnual   & k               & -1.51          \\\\\n",
       "\t no              & Sim             & CVAmongAnnual   & mdd             &  8.87          \\\\\n",
       "\t NoRecentRec     & Sim             & CVAmongAnnual   & mdd             &  8.28          \\\\\n",
       "\t Surv            & Sim             & CVAmongAnnual   & mdd             &  7.62          \\\\\n",
       "\t SurvNoRecentRec & Sim             & CVAmongAnnual   & mdd             &  7.54          \\\\\n",
       "\t no              & Sim             & CVAmongAnnual   & med             &  2.71          \\\\\n",
       "\t NoRecentRec     & Sim             & CVAmongAnnual   & med             &  2.98          \\\\\n",
       "\t Surv            & Sim             & CVAmongAnnual   & med             &  2.35          \\\\\n",
       "\t SurvNoRecentRec & Sim             & CVAmongAnnual   & med             &  3.05          \\\\\n",
       "\t no              & Sim             & CVAmongAnnual   & theta           &  1.23          \\\\\n",
       "\t NoRecentRec     & Sim             & CVAmongAnnual   & theta           &  1.41          \\\\\n",
       "\t Surv            & Sim             & CVAmongAnnual   & theta           &  1.16          \\\\\n",
       "\t SurvNoRecentRec & Sim             & CVAmongAnnual   & theta           &  1.49          \\\\\n",
       "\\end{tabular}\n"
      ],
      "text/markdown": [
       "\n",
       "| Adj | DataType | Stat | metric | value |\n",
       "|---|---|---|---|---|\n",
       "| no              | Sim             | CVAmongAnnual   | dist90          | 17.43           |\n",
       "| NoRecentRec     | Sim             | CVAmongAnnual   | dist90          | 16.70           |\n",
       "| Surv            | Sim             | CVAmongAnnual   | dist90          | 16.73           |\n",
       "| SurvNoRecentRec | Sim             | CVAmongAnnual   | dist90          | 24.73           |\n",
       "| no              | Sim             | CVAmongAnnual   | k               | -0.89           |\n",
       "| NoRecentRec     | Sim             | CVAmongAnnual   | k               | -1.19           |\n",
       "| Surv            | Sim             | CVAmongAnnual   | k               | -0.80           |\n",
       "| SurvNoRecentRec | Sim             | CVAmongAnnual   | k               | -1.51           |\n",
       "| no              | Sim             | CVAmongAnnual   | mdd             |  8.87           |\n",
       "| NoRecentRec     | Sim             | CVAmongAnnual   | mdd             |  8.28           |\n",
       "| Surv            | Sim             | CVAmongAnnual   | mdd             |  7.62           |\n",
       "| SurvNoRecentRec | Sim             | CVAmongAnnual   | mdd             |  7.54           |\n",
       "| no              | Sim             | CVAmongAnnual   | med             |  2.71           |\n",
       "| NoRecentRec     | Sim             | CVAmongAnnual   | med             |  2.98           |\n",
       "| Surv            | Sim             | CVAmongAnnual   | med             |  2.35           |\n",
       "| SurvNoRecentRec | Sim             | CVAmongAnnual   | med             |  3.05           |\n",
       "| no              | Sim             | CVAmongAnnual   | theta           |  1.23           |\n",
       "| NoRecentRec     | Sim             | CVAmongAnnual   | theta           |  1.41           |\n",
       "| Surv            | Sim             | CVAmongAnnual   | theta           |  1.16           |\n",
       "| SurvNoRecentRec | Sim             | CVAmongAnnual   | theta           |  1.49           |\n",
       "\n"
      ],
      "text/plain": [
       "   Adj             DataType Stat          metric value\n",
       "1  no              Sim      CVAmongAnnual dist90 17.43\n",
       "2  NoRecentRec     Sim      CVAmongAnnual dist90 16.70\n",
       "3  Surv            Sim      CVAmongAnnual dist90 16.73\n",
       "4  SurvNoRecentRec Sim      CVAmongAnnual dist90 24.73\n",
       "5  no              Sim      CVAmongAnnual k      -0.89\n",
       "6  NoRecentRec     Sim      CVAmongAnnual k      -1.19\n",
       "7  Surv            Sim      CVAmongAnnual k      -0.80\n",
       "8  SurvNoRecentRec Sim      CVAmongAnnual k      -1.51\n",
       "9  no              Sim      CVAmongAnnual mdd     8.87\n",
       "10 NoRecentRec     Sim      CVAmongAnnual mdd     8.28\n",
       "11 Surv            Sim      CVAmongAnnual mdd     7.62\n",
       "12 SurvNoRecentRec Sim      CVAmongAnnual mdd     7.54\n",
       "13 no              Sim      CVAmongAnnual med     2.71\n",
       "14 NoRecentRec     Sim      CVAmongAnnual med     2.98\n",
       "15 Surv            Sim      CVAmongAnnual med     2.35\n",
       "16 SurvNoRecentRec Sim      CVAmongAnnual med     3.05\n",
       "17 no              Sim      CVAmongAnnual theta   1.23\n",
       "18 NoRecentRec     Sim      CVAmongAnnual theta   1.41\n",
       "19 Surv            Sim      CVAmongAnnual theta   1.16\n",
       "20 SurvNoRecentRec Sim      CVAmongAnnual theta   1.49"
      ]
     },
     "metadata": {},
     "output_type": "display_data"
    },
    {
     "data": {
      "text/html": [
       "<table>\n",
       "<thead><tr><th scope=col>DataType</th><th scope=col>Stat</th><th scope=col>Adj</th><th scope=col>metric</th><th scope=col>value</th></tr></thead>\n",
       "<tbody>\n",
       "\t<tr><td>Gen            </td><td>CVAmongAnnual  </td><td>no             </td><td>k              </td><td>4.432775       </td></tr>\n",
       "\t<tr><td>Gen            </td><td>CVAmongAnnual  </td><td>Surv           </td><td>k              </td><td>4.432775       </td></tr>\n",
       "\t<tr><td>Gen            </td><td>CVAmongAnnual  </td><td>SurvNoRecentRec</td><td>k              </td><td>4.432775       </td></tr>\n",
       "\t<tr><td>Gen            </td><td>CVAmongAnnual  </td><td>NoRecentRec    </td><td>k              </td><td>4.432775       </td></tr>\n",
       "\t<tr><td>Gen            </td><td>CVAmongAnnual  </td><td>no             </td><td>mdd            </td><td>1.043997       </td></tr>\n",
       "\t<tr><td>Gen            </td><td>CVAmongAnnual  </td><td>Surv           </td><td>mdd            </td><td>1.043997       </td></tr>\n",
       "</tbody>\n",
       "</table>\n"
      ],
      "text/latex": [
       "\\begin{tabular}{r|lllll}\n",
       " DataType & Stat & Adj & metric & value\\\\\n",
       "\\hline\n",
       "\t Gen             & CVAmongAnnual   & no              & k               & 4.432775       \\\\\n",
       "\t Gen             & CVAmongAnnual   & Surv            & k               & 4.432775       \\\\\n",
       "\t Gen             & CVAmongAnnual   & SurvNoRecentRec & k               & 4.432775       \\\\\n",
       "\t Gen             & CVAmongAnnual   & NoRecentRec     & k               & 4.432775       \\\\\n",
       "\t Gen             & CVAmongAnnual   & no              & mdd             & 1.043997       \\\\\n",
       "\t Gen             & CVAmongAnnual   & Surv            & mdd             & 1.043997       \\\\\n",
       "\\end{tabular}\n"
      ],
      "text/markdown": [
       "\n",
       "| DataType | Stat | Adj | metric | value |\n",
       "|---|---|---|---|---|\n",
       "| Gen             | CVAmongAnnual   | no              | k               | 4.432775        |\n",
       "| Gen             | CVAmongAnnual   | Surv            | k               | 4.432775        |\n",
       "| Gen             | CVAmongAnnual   | SurvNoRecentRec | k               | 4.432775        |\n",
       "| Gen             | CVAmongAnnual   | NoRecentRec     | k               | 4.432775        |\n",
       "| Gen             | CVAmongAnnual   | no              | mdd             | 1.043997        |\n",
       "| Gen             | CVAmongAnnual   | Surv            | mdd             | 1.043997        |\n",
       "\n"
      ],
      "text/plain": [
       "  DataType Stat          Adj             metric value   \n",
       "1 Gen      CVAmongAnnual no              k      4.432775\n",
       "2 Gen      CVAmongAnnual Surv            k      4.432775\n",
       "3 Gen      CVAmongAnnual SurvNoRecentRec k      4.432775\n",
       "4 Gen      CVAmongAnnual NoRecentRec     k      4.432775\n",
       "5 Gen      CVAmongAnnual no              mdd    1.043997\n",
       "6 Gen      CVAmongAnnual Surv            mdd    1.043997"
      ]
     },
     "metadata": {},
     "output_type": "display_data"
    }
   ],
   "source": [
    "SimCVToPlot <- SimCV %>% gather(4:8, key=metric, value=value)\n",
    "SimCVToPlot\n",
    "head(CVGenToPlot %>% gather(1:4, key=metric, value=value))"
   ]
  },
  {
   "cell_type": "code",
   "execution_count": 118,
   "metadata": {},
   "outputs": [
    {
     "data": {
      "text/html": [
       "<table>\n",
       "<thead><tr><th scope=col>k</th><th scope=col>mdd</th><th scope=col>med</th><th scope=col>theta</th><th scope=col>DataType</th><th scope=col>Stat</th><th scope=col>Adj</th></tr></thead>\n",
       "<tbody>\n",
       "\t<tr><td>4.432775       </td><td>1.043997       </td><td>0.4202158      </td><td>0.7895541      </td><td>Gen            </td><td>CVAmongAnnual  </td><td>no             </td></tr>\n",
       "\t<tr><td>4.432775       </td><td>1.043997       </td><td>0.4202158      </td><td>0.7895541      </td><td>Gen            </td><td>CVAmongAnnual  </td><td>Surv           </td></tr>\n",
       "\t<tr><td>4.432775       </td><td>1.043997       </td><td>0.4202158      </td><td>0.7895541      </td><td>Gen            </td><td>CVAmongAnnual  </td><td>SurvNoRecentRec</td></tr>\n",
       "\t<tr><td>4.432775       </td><td>1.043997       </td><td>0.4202158      </td><td>0.7895541      </td><td>Gen            </td><td>CVAmongAnnual  </td><td>NoRecentRec    </td></tr>\n",
       "</tbody>\n",
       "</table>\n"
      ],
      "text/latex": [
       "\\begin{tabular}{r|lllllll}\n",
       " k & mdd & med & theta & DataType & Stat & Adj\\\\\n",
       "\\hline\n",
       "\t 4.432775        & 1.043997        & 0.4202158       & 0.7895541       & Gen             & CVAmongAnnual   & no             \\\\\n",
       "\t 4.432775        & 1.043997        & 0.4202158       & 0.7895541       & Gen             & CVAmongAnnual   & Surv           \\\\\n",
       "\t 4.432775        & 1.043997        & 0.4202158       & 0.7895541       & Gen             & CVAmongAnnual   & SurvNoRecentRec\\\\\n",
       "\t 4.432775        & 1.043997        & 0.4202158       & 0.7895541       & Gen             & CVAmongAnnual   & NoRecentRec    \\\\\n",
       "\\end{tabular}\n"
      ],
      "text/markdown": [
       "\n",
       "| k | mdd | med | theta | DataType | Stat | Adj |\n",
       "|---|---|---|---|---|---|---|\n",
       "| 4.432775        | 1.043997        | 0.4202158       | 0.7895541       | Gen             | CVAmongAnnual   | no              |\n",
       "| 4.432775        | 1.043997        | 0.4202158       | 0.7895541       | Gen             | CVAmongAnnual   | Surv            |\n",
       "| 4.432775        | 1.043997        | 0.4202158       | 0.7895541       | Gen             | CVAmongAnnual   | SurvNoRecentRec |\n",
       "| 4.432775        | 1.043997        | 0.4202158       | 0.7895541       | Gen             | CVAmongAnnual   | NoRecentRec     |\n",
       "\n"
      ],
      "text/plain": [
       "  k        mdd      med       theta     DataType Stat          Adj            \n",
       "1 4.432775 1.043997 0.4202158 0.7895541 Gen      CVAmongAnnual no             \n",
       "2 4.432775 1.043997 0.4202158 0.7895541 Gen      CVAmongAnnual Surv           \n",
       "3 4.432775 1.043997 0.4202158 0.7895541 Gen      CVAmongAnnual SurvNoRecentRec\n",
       "4 4.432775 1.043997 0.4202158 0.7895541 Gen      CVAmongAnnual NoRecentRec    "
      ]
     },
     "metadata": {},
     "output_type": "display_data"
    },
    {
     "data": {
      "text/html": [
       "<table>\n",
       "<thead><tr><th scope=col>Adj</th><th scope=col>DataType</th><th scope=col>Stat</th><th scope=col>metric</th><th scope=col>value</th></tr></thead>\n",
       "<tbody>\n",
       "\t<tr><td>no             </td><td>Sim            </td><td>CVAmongAnnual  </td><td>dist90         </td><td>17.43          </td></tr>\n",
       "\t<tr><td>NoRecentRec    </td><td>Sim            </td><td>CVAmongAnnual  </td><td>dist90         </td><td>16.70          </td></tr>\n",
       "\t<tr><td>Surv           </td><td>Sim            </td><td>CVAmongAnnual  </td><td>dist90         </td><td>16.73          </td></tr>\n",
       "\t<tr><td>SurvNoRecentRec</td><td>Sim            </td><td>CVAmongAnnual  </td><td>dist90         </td><td>24.73          </td></tr>\n",
       "\t<tr><td>no             </td><td>Sim            </td><td>CVAmongAnnual  </td><td>k              </td><td>-0.89          </td></tr>\n",
       "\t<tr><td>NoRecentRec    </td><td>Sim            </td><td>CVAmongAnnual  </td><td>k              </td><td>-1.19          </td></tr>\n",
       "</tbody>\n",
       "</table>\n"
      ],
      "text/latex": [
       "\\begin{tabular}{r|lllll}\n",
       " Adj & DataType & Stat & metric & value\\\\\n",
       "\\hline\n",
       "\t no              & Sim             & CVAmongAnnual   & dist90          & 17.43          \\\\\n",
       "\t NoRecentRec     & Sim             & CVAmongAnnual   & dist90          & 16.70          \\\\\n",
       "\t Surv            & Sim             & CVAmongAnnual   & dist90          & 16.73          \\\\\n",
       "\t SurvNoRecentRec & Sim             & CVAmongAnnual   & dist90          & 24.73          \\\\\n",
       "\t no              & Sim             & CVAmongAnnual   & k               & -0.89          \\\\\n",
       "\t NoRecentRec     & Sim             & CVAmongAnnual   & k               & -1.19          \\\\\n",
       "\\end{tabular}\n"
      ],
      "text/markdown": [
       "\n",
       "| Adj | DataType | Stat | metric | value |\n",
       "|---|---|---|---|---|\n",
       "| no              | Sim             | CVAmongAnnual   | dist90          | 17.43           |\n",
       "| NoRecentRec     | Sim             | CVAmongAnnual   | dist90          | 16.70           |\n",
       "| Surv            | Sim             | CVAmongAnnual   | dist90          | 16.73           |\n",
       "| SurvNoRecentRec | Sim             | CVAmongAnnual   | dist90          | 24.73           |\n",
       "| no              | Sim             | CVAmongAnnual   | k               | -0.89           |\n",
       "| NoRecentRec     | Sim             | CVAmongAnnual   | k               | -1.19           |\n",
       "\n"
      ],
      "text/plain": [
       "  Adj             DataType Stat          metric value\n",
       "1 no              Sim      CVAmongAnnual dist90 17.43\n",
       "2 NoRecentRec     Sim      CVAmongAnnual dist90 16.70\n",
       "3 Surv            Sim      CVAmongAnnual dist90 16.73\n",
       "4 SurvNoRecentRec Sim      CVAmongAnnual dist90 24.73\n",
       "5 no              Sim      CVAmongAnnual k      -0.89\n",
       "6 NoRecentRec     Sim      CVAmongAnnual k      -1.19"
      ]
     },
     "metadata": {},
     "output_type": "display_data"
    }
   ],
   "source": [
    "CVGenToPlot\n",
    "head(SimCVToPlot)"
   ]
  },
  {
   "cell_type": "code",
   "execution_count": 125,
   "metadata": {},
   "outputs": [
    {
     "data": {
      "text/html": [
       "<table>\n",
       "<thead><tr><th scope=col>DataType</th><th scope=col>Stat</th><th scope=col>metric</th><th scope=col>value</th></tr></thead>\n",
       "<tbody>\n",
       "\t<tr><td>Gen          </td><td>CVAmongAnnual</td><td>k            </td><td>4.4327749    </td></tr>\n",
       "\t<tr><td>Gen          </td><td>CVAmongAnnual</td><td>mdd          </td><td>1.0439966    </td></tr>\n",
       "\t<tr><td>Gen          </td><td>CVAmongAnnual</td><td>med          </td><td>0.4202158    </td></tr>\n",
       "\t<tr><td>Gen          </td><td>CVAmongAnnual</td><td>theta        </td><td>0.7895541    </td></tr>\n",
       "</tbody>\n",
       "</table>\n"
      ],
      "text/latex": [
       "\\begin{tabular}{r|llll}\n",
       " DataType & Stat & metric & value\\\\\n",
       "\\hline\n",
       "\t Gen           & CVAmongAnnual & k             & 4.4327749    \\\\\n",
       "\t Gen           & CVAmongAnnual & mdd           & 1.0439966    \\\\\n",
       "\t Gen           & CVAmongAnnual & med           & 0.4202158    \\\\\n",
       "\t Gen           & CVAmongAnnual & theta         & 0.7895541    \\\\\n",
       "\\end{tabular}\n"
      ],
      "text/markdown": [
       "\n",
       "| DataType | Stat | metric | value |\n",
       "|---|---|---|---|\n",
       "| Gen           | CVAmongAnnual | k             | 4.4327749     |\n",
       "| Gen           | CVAmongAnnual | mdd           | 1.0439966     |\n",
       "| Gen           | CVAmongAnnual | med           | 0.4202158     |\n",
       "| Gen           | CVAmongAnnual | theta         | 0.7895541     |\n",
       "\n"
      ],
      "text/plain": [
       "  DataType Stat          metric value    \n",
       "1 Gen      CVAmongAnnual k      4.4327749\n",
       "2 Gen      CVAmongAnnual mdd    1.0439966\n",
       "3 Gen      CVAmongAnnual med    0.4202158\n",
       "4 Gen      CVAmongAnnual theta  0.7895541"
      ]
     },
     "metadata": {},
     "output_type": "display_data"
    }
   ],
   "source": [
    "\n",
    "CVGenToPlot <- RealKernelVar %>% gather(1:4, key=metric, value=value)\n",
    "CVGenToPlot\n",
    "\n",
    "#CVToPlot <- left_join((SimCV %>%\n",
    "#    select(-DataType)), CVGenToPlot)\n",
    "#CVToPlot"
   ]
  },
  {
   "cell_type": "code",
   "execution_count": 129,
   "metadata": {},
   "outputs": [
    {
     "name": "stderr",
     "output_type": "stream",
     "text": [
      "Saving 6.67 x 6.67 in image\n"
     ]
    }
   ],
   "source": [
    "CVComparison <- ggplot() +\n",
    "    geom_point(data=SimCVToPlot, aes(x=metric, y=value, color=Adj, fill=Adj)) +\n",
    "    geom_point(data=CVGenToPlot, aes(x=metric, y=value), color=\"black\", fill=\"black\") +\n",
    "\n",
    "    ylab(\"coefficient of varition among years\") +\n",
    "    ggtitle(\"black point is CV for genetic kernels 2012-14\")\n",
    "    #geom_point(aes(x=SimMDD, y=GenMDD), color=\"blue\")\n",
    "\n",
    "#ggsave(filename=\"SimulationGeneticFitsCVComparison.png\", plot= CVComparison, path=\"~/oceanography/script_output/KernelFits/Plots/\" )\n"
   ]
  },
  {
   "cell_type": "code",
   "execution_count": null,
   "metadata": {},
   "outputs": [],
   "source": []
  },
  {
   "cell_type": "code",
   "execution_count": null,
   "metadata": {},
   "outputs": [],
   "source": []
  },
  {
   "cell_type": "code",
   "execution_count": null,
   "metadata": {},
   "outputs": [],
   "source": []
  },
  {
   "cell_type": "code",
   "execution_count": null,
   "metadata": {},
   "outputs": [],
   "source": []
  },
  {
   "cell_type": "code",
   "execution_count": null,
   "metadata": {},
   "outputs": [],
   "source": []
  },
  {
   "cell_type": "code",
   "execution_count": null,
   "metadata": {},
   "outputs": [],
   "source": []
  },
  {
   "cell_type": "code",
   "execution_count": null,
   "metadata": {},
   "outputs": [],
   "source": [
    "ggplot(data=SimKernelVar, aes(x=Adj, y=mdd, color=year, fill=year), alpha=0.5) +\n",
    "    geom_point(data=SimPlusGenFits, aes(x=Year, y=AvgSimMDD, shape=Adj), fill=NA, color=\"black\", size=3) + \n",
    "    geom_point(data=SimPlusGenFits, aes(x=Year, y=GenMDD), fill=\"red\", color=\"red\") + # with all fits\n"
   ]
  },
  {
   "cell_type": "code",
   "execution_count": 137,
   "metadata": {},
   "outputs": [
    {
     "data": {
      "text/html": [
       "<table>\n",
       "<thead><tr><th scope=col>year</th><th scope=col>k</th><th scope=col>theta</th><th scope=col>mdd</th><th scope=col>med</th><th scope=col>dist90</th><th scope=col>iteration</th><th scope=col>Adj</th></tr></thead>\n",
       "<tbody>\n",
       "\t<tr><td>2012      </td><td>-2.8047543</td><td>2.4693966 </td><td> 8.699709 </td><td>7.64      </td><td>17.43     </td><td>1         </td><td>no        </td></tr>\n",
       "\t<tr><td>2012      </td><td>-2.8511524</td><td>2.7437224 </td><td> 8.893662 </td><td>7.94      </td><td>17.59     </td><td>2         </td><td>no        </td></tr>\n",
       "\t<tr><td>2012      </td><td>-1.5418595</td><td>0.6919798 </td><td> 9.559210 </td><td>5.57      </td><td>23.29     </td><td>3         </td><td>no        </td></tr>\n",
       "\t<tr><td>2012      </td><td>-2.1396522</td><td>1.0090828 </td><td> 8.388683 </td><td>5.84      </td><td>19.29     </td><td>4         </td><td>no        </td></tr>\n",
       "\t<tr><td>2012      </td><td>-2.1590598</td><td>1.0295803 </td><td> 8.319246 </td><td>5.83      </td><td>19.06     </td><td>5         </td><td>no        </td></tr>\n",
       "\t<tr><td>2012      </td><td>-0.8263778</td><td>0.5313308 </td><td>10.753144 </td><td>5.28      </td><td>26.99     </td><td>6         </td><td>no        </td></tr>\n",
       "</tbody>\n",
       "</table>\n"
      ],
      "text/latex": [
       "\\begin{tabular}{r|llllllll}\n",
       " year & k & theta & mdd & med & dist90 & iteration & Adj\\\\\n",
       "\\hline\n",
       "\t 2012       & -2.8047543 & 2.4693966  &  8.699709  & 7.64       & 17.43      & 1          & no        \\\\\n",
       "\t 2012       & -2.8511524 & 2.7437224  &  8.893662  & 7.94       & 17.59      & 2          & no        \\\\\n",
       "\t 2012       & -1.5418595 & 0.6919798  &  9.559210  & 5.57       & 23.29      & 3          & no        \\\\\n",
       "\t 2012       & -2.1396522 & 1.0090828  &  8.388683  & 5.84       & 19.29      & 4          & no        \\\\\n",
       "\t 2012       & -2.1590598 & 1.0295803  &  8.319246  & 5.83       & 19.06      & 5          & no        \\\\\n",
       "\t 2012       & -0.8263778 & 0.5313308  & 10.753144  & 5.28       & 26.99      & 6          & no        \\\\\n",
       "\\end{tabular}\n"
      ],
      "text/markdown": [
       "\n",
       "| year | k | theta | mdd | med | dist90 | iteration | Adj |\n",
       "|---|---|---|---|---|---|---|---|\n",
       "| 2012       | -2.8047543 | 2.4693966  |  8.699709  | 7.64       | 17.43      | 1          | no         |\n",
       "| 2012       | -2.8511524 | 2.7437224  |  8.893662  | 7.94       | 17.59      | 2          | no         |\n",
       "| 2012       | -1.5418595 | 0.6919798  |  9.559210  | 5.57       | 23.29      | 3          | no         |\n",
       "| 2012       | -2.1396522 | 1.0090828  |  8.388683  | 5.84       | 19.29      | 4          | no         |\n",
       "| 2012       | -2.1590598 | 1.0295803  |  8.319246  | 5.83       | 19.06      | 5          | no         |\n",
       "| 2012       | -0.8263778 | 0.5313308  | 10.753144  | 5.28       | 26.99      | 6          | no         |\n",
       "\n"
      ],
      "text/plain": [
       "  year k          theta     mdd       med  dist90 iteration Adj\n",
       "1 2012 -2.8047543 2.4693966  8.699709 7.64 17.43  1         no \n",
       "2 2012 -2.8511524 2.7437224  8.893662 7.94 17.59  2         no \n",
       "3 2012 -1.5418595 0.6919798  9.559210 5.57 23.29  3         no \n",
       "4 2012 -2.1396522 1.0090828  8.388683 5.84 19.29  4         no \n",
       "5 2012 -2.1590598 1.0295803  8.319246 5.83 19.06  5         no \n",
       "6 2012 -0.8263778 0.5313308 10.753144 5.28 26.99  6         no "
      ]
     },
     "metadata": {},
     "output_type": "display_data"
    },
    {
     "data": {
      "text/html": [
       "<table>\n",
       "<thead><tr><th scope=col>Year</th><th scope=col>Adj</th><th scope=col>DataType</th><th scope=col>Stat</th><th scope=col>dist90</th><th scope=col>k</th><th scope=col>mdd</th><th scope=col>med</th><th scope=col>theta</th></tr></thead>\n",
       "<tbody>\n",
       "\t<tr><td>2012         </td><td>no           </td><td>Sim          </td><td>CVAmongAnnual</td><td>  17.43      </td><td>-0.89        </td><td>   8.87      </td><td>  2.71       </td><td>1.23         </td></tr>\n",
       "\t<tr><td>2012         </td><td>no           </td><td>Sim          </td><td>CVWithin     </td><td>  17.43      </td><td>-1.32        </td><td>   6.31      </td><td>  2.66       </td><td>0.83         </td></tr>\n",
       "\t<tr><td>2012         </td><td>no           </td><td>Sim          </td><td>Max          </td><td>6952.24      </td><td> 7.26        </td><td>3983.21      </td><td>307.57       </td><td>8.00         </td></tr>\n",
       "\t<tr><td>2012         </td><td>no           </td><td>Sim          </td><td>Mean         </td><td> 103.09      </td><td>-1.38        </td><td>  54.32      </td><td>  9.88       </td><td>1.20         </td></tr>\n",
       "\t<tr><td>2012         </td><td>no           </td><td>Sim          </td><td>Med          </td><td>  20.07      </td><td>-2.01        </td><td>   8.92      </td><td>  6.05       </td><td>0.92         </td></tr>\n",
       "\t<tr><td>2012         </td><td>no           </td><td>Sim          </td><td>Min          </td><td>  16.16      </td><td>-3.12        </td><td>   7.72      </td><td>  4.92       </td><td>0.15         </td></tr>\n",
       "</tbody>\n",
       "</table>\n"
      ],
      "text/latex": [
       "\\begin{tabular}{r|lllllllll}\n",
       " Year & Adj & DataType & Stat & dist90 & k & mdd & med & theta\\\\\n",
       "\\hline\n",
       "\t 2012          & no            & Sim           & CVAmongAnnual &   17.43       & -0.89         &    8.87       &   2.71        & 1.23         \\\\\n",
       "\t 2012          & no            & Sim           & CVWithin      &   17.43       & -1.32         &    6.31       &   2.66        & 0.83         \\\\\n",
       "\t 2012          & no            & Sim           & Max           & 6952.24       &  7.26         & 3983.21       & 307.57        & 8.00         \\\\\n",
       "\t 2012          & no            & Sim           & Mean          &  103.09       & -1.38         &   54.32       &   9.88        & 1.20         \\\\\n",
       "\t 2012          & no            & Sim           & Med           &   20.07       & -2.01         &    8.92       &   6.05        & 0.92         \\\\\n",
       "\t 2012          & no            & Sim           & Min           &   16.16       & -3.12         &    7.72       &   4.92        & 0.15         \\\\\n",
       "\\end{tabular}\n"
      ],
      "text/markdown": [
       "\n",
       "| Year | Adj | DataType | Stat | dist90 | k | mdd | med | theta |\n",
       "|---|---|---|---|---|---|---|---|---|\n",
       "| 2012          | no            | Sim           | CVAmongAnnual |   17.43       | -0.89         |    8.87       |   2.71        | 1.23          |\n",
       "| 2012          | no            | Sim           | CVWithin      |   17.43       | -1.32         |    6.31       |   2.66        | 0.83          |\n",
       "| 2012          | no            | Sim           | Max           | 6952.24       |  7.26         | 3983.21       | 307.57        | 8.00          |\n",
       "| 2012          | no            | Sim           | Mean          |  103.09       | -1.38         |   54.32       |   9.88        | 1.20          |\n",
       "| 2012          | no            | Sim           | Med           |   20.07       | -2.01         |    8.92       |   6.05        | 0.92          |\n",
       "| 2012          | no            | Sim           | Min           |   16.16       | -3.12         |    7.72       |   4.92        | 0.15          |\n",
       "\n"
      ],
      "text/plain": [
       "  Year Adj DataType Stat          dist90  k     mdd     med    theta\n",
       "1 2012 no  Sim      CVAmongAnnual   17.43 -0.89    8.87   2.71 1.23 \n",
       "2 2012 no  Sim      CVWithin        17.43 -1.32    6.31   2.66 0.83 \n",
       "3 2012 no  Sim      Max           6952.24  7.26 3983.21 307.57 8.00 \n",
       "4 2012 no  Sim      Mean           103.09 -1.38   54.32   9.88 1.20 \n",
       "5 2012 no  Sim      Med             20.07 -2.01    8.92   6.05 0.92 \n",
       "6 2012 no  Sim      Min             16.16 -3.12    7.72   4.92 0.15 "
      ]
     },
     "metadata": {},
     "output_type": "display_data"
    }
   ],
   "source": [
    "head(CombinedSims)\n",
    "head(SimPlusGenFits %>% spread(metric, value))"
   ]
  },
  {
   "cell_type": "code",
   "execution_count": 168,
   "metadata": {},
   "outputs": [
    {
     "name": "stderr",
     "output_type": "stream",
     "text": [
      "Warning message:\n",
      "“Removed 80 rows containing non-finite values (stat_ydensity).”Saving 6.67 x 6.67 in image\n",
      "Warning message:\n",
      "“Removed 80 rows containing non-finite values (stat_ydensity).”"
     ]
    },
    {
     "data": {
      "image/png": "[encoded data removed]",
      "text/plain": [
       "plot without title"
      ]
     },
     "metadata": {},
     "output_type": "display_data"
    }
   ],
   "source": [
    "cbbPalette <- c(\"#000000\", \"#E69F00\", \"#56B4E9\", \"#009E73\", \"#F0E442\", \"#0072B2\", \"#D55E00\", \"#CC79A7\")\n",
    "cbbPalette_rev <- rev(cbbPalette)\n",
    "\n",
    "CombinedSims$year <- factor(CombinedSims$year, levels=c(\"2012\", \"2013\", \"2014\", \"2012-14\"))\n",
    "SimPlusGenFits$Year <- factor(SimPlusGenFits$Year, levels=c(\"2012\", \"2013\", \"2014\", \"2012-14\"))\n",
    "PointsToPlot <- CompareFits %>% filter(Adj==\"SurvNoRecentRec\")\n",
    "PointsToPlot$Year <- factor(PointsToPlot$Year, levels=c(\"2012\", \"2013\", \"2014\", \"2012-14\"))\n",
    "\n",
    "\n",
    "mdd_violin <- ggplot(data=CombinedSims %>% filter(Adj==\"SurvNoRecentRec\"), aes(x=year, y=mdd, color=year, fill=year), alpha=0.5) +\n",
    "    geom_violin() +\n",
    "    geom_point(data=PointsToPlot, aes(x=Year, y=SimMDD), fill=NA, color=\"black\", size=3) + \n",
    "    geom_point(data=PointsToPlot, aes(x=Year, y=GenMDD), fill=\"red\", color=\"red\") + # with all fits\n",
    "    #geom_point(data=kernels %>% filter(Year %in% c(\"2012\", \"2013\", \"2014\", \"all\")), aes(x=Year, y=MeanDispDist), fill=\"black\",color=\"darkgray\", shape=24) + #genetic estimates\n",
    "    coord_flip() +\n",
    "    scale_shape_discrete(name = \"Adjustment\", labels = c(\"only >3.5 cm\", \"none\", \"only >3.5 cm and survival weighting\"))+\n",
    "    #scale_x_continuous(limits = c(0, 100), expand=c(0,0)) +\n",
    "    scale_y_continuous(limits = c(0, 100), expand = c(0,0))+\n",
    "    theme(panel.grid.major = element_blank(),\n",
    "    plot.margin=unit(c(0.2,0.2,0.2,0.2),\"cm\"),\n",
    "    panel.grid.minor = element_blank(), \n",
    "    panel.background = element_blank(), #,\n",
    "    axis.line = element_line(colour = \"black\")) +\n",
    "    xlab(\"Year\") + \n",
    "    ylab(\"Mean dispersal distance (km)\") +\n",
    "    theme(axis.text.x = element_text(size=8, color=\"black\", family=\"Helvetica\"),#15 for publication, 20 for presentation #element_text(size=15, color=\"black\", family=\"Helvetica\"),\n",
    "    axis.text.y =  element_text(size=8, color=\"black\", family=\"Helvetica\"),\n",
    "    axis.title.y =  element_text(size=10, color=\"black\", family=\"Helvetica\"), \n",
    "    axis.title.x =  element_text(size=10, color=\"black\", family=\"Helvetica\")) + \n",
    "    scale_colour_manual(values=cbbPalette_rev)+\n",
    "    scale_fill_manual(values=cbbPalette_rev) +\n",
    "    theme(legend.position = \"none\") \n",
    "    #scale_y_continuous(breaks = 1:2000, labels = c(1:50,\"break\",1000:2000))\n",
    "mdd_violin \n",
    "ggplot2::ggsave(filename=\"SimMeanDispDistPlusGenPointsSurvNoRecentRec.png\",  plot=mdd_violin, path=\"~/oceanography/script_output/KernelFits/Plots/\")\n"
   ]
  },
  {
   "cell_type": "code",
   "execution_count": 167,
   "metadata": {},
   "outputs": [
    {
     "name": "stderr",
     "output_type": "stream",
     "text": [
      "Warning message:\n",
      "“Removed 344 rows containing non-finite values (stat_ydensity).”Saving 6.67 x 6.67 in image\n",
      "Warning message:\n",
      "“Removed 344 rows containing non-finite values (stat_ydensity).”"
     ]
    },
    {
     "data": {
      "image/png": "[encoded data removed]",
      "text/plain": [
       "plot without title"
      ]
     },
     "metadata": {},
     "output_type": "display_data"
    }
   ],
   "source": [
    "cbbPalette <- c(\"#000000\", \"#E69F00\", \"#56B4E9\", \"#009E73\", \"#F0E442\", \"#0072B2\", \"#D55E00\", \"#CC79A7\")\n",
    "cbbPalette_rev <- rev(cbbPalette)\n",
    "\n",
    "CombinedSims$year <- factor(CombinedSims$year, levels=c(\"2012\", \"2013\", \"2014\", \"2012-14\"))\n",
    "SimPlusGenFits$Year <- factor(SimPlusGenFits$Year, levels=c(\"2012\", \"2013\", \"2014\", \"2012-14\"))\n",
    "PointsToPlot <- CompareFits %>% filter(Adj==\"SurvNoRecentRec\")\n",
    "PointsToPlot$Year <- factor(PointsToPlot$Year, levels=c(\"2012\", \"2013\", \"2014\", \"2012-14\"))\n",
    "\n",
    "\n",
    "theta_violin <- ggplot(data=CombinedSims %>% filter(Adj==\"SurvNoRecentRec\"), aes(x=year, y=theta, color=year, fill=year), alpha=0.5) +\n",
    "    geom_violin() +\n",
    "    geom_point(data=PointsToPlot, aes(x=Year, y=SimTheta), fill=NA, color=\"black\", size=3) + \n",
    "    geom_point(data=PointsToPlot, aes(x=Year, y=GenTheta), fill=\"red\", color=\"red\") + # with all fits\n",
    "    #geom_point(data=kernels %>% filter(Year %in% c(\"2012\", \"2013\", \"2014\", \"all\")), aes(x=Year, y=MeanDispDist), fill=\"black\",color=\"darkgray\", shape=24) + #genetic estimates\n",
    "   # coord_flip() +\n",
    "    scale_shape_discrete(name = \"Adjustment\", labels = c(\"only >3.5 cm\", \"none\", \"only >3.5 cm and survival weighting\"))+\n",
    "    #scale_x_continuous(limits = c(0, 100), expand=c(0,0)) +\n",
    "    scale_y_continuous(limits = c(0, 5), expand = c(0,0))+\n",
    "    theme(panel.grid.major = element_blank(),\n",
    "    plot.margin=unit(c(0.2,0.2,0.2,0.2),\"cm\"),\n",
    "    panel.grid.minor = element_blank(), \n",
    "    panel.background = element_blank(), #,\n",
    "    axis.line = element_line(colour = \"black\")) +\n",
    "    xlab(\"Year\") + \n",
    "    ylab(\"Theta, shape parameter\") +\n",
    "    theme(axis.text.x = element_text(size=8, color=\"black\", family=\"Helvetica\"),#15 for publication, 20 for presentation #element_text(size=15, color=\"black\", family=\"Helvetica\"),\n",
    "    axis.text.y =  element_text(size=8, color=\"black\", family=\"Helvetica\"),\n",
    "    axis.title.y =  element_text(size=10, color=\"black\", family=\"Helvetica\"), \n",
    "    axis.title.x =  element_text(size=10, color=\"black\", family=\"Helvetica\")) + \n",
    "    scale_colour_manual(values=cbbPalette_rev)+\n",
    "    scale_fill_manual(values=cbbPalette_rev) +\n",
    "    theme(legend.position = \"none\") \n",
    "    #scale_y_continuous(breaks = 1:2000, labels = c(1:50,\"break\",1000:2000))\n",
    "theta_violin \n",
    "ggplot2::ggsave(filename=\"SimThetaPlusGenPointsSurvNoRecentRec.png\",  plot=theta_violin, path=\"~/oceanography/script_output/KernelFits/Plots/\")\n"
   ]
  },
  {
   "cell_type": "code",
   "execution_count": 154,
   "metadata": {},
   "outputs": [
    {
     "name": "stdout",
     "output_type": "stream",
     "text": [
      "tibble [4 × 14] (S3: grouped_df/tbl_df/tbl/data.frame)\n",
      " $ Year            : Factor w/ 4 levels \"2012\",\"2013\",..: 1 4 2 3\n",
      " $ GenDist90       : num [1:4] 23.3 68.7 157.4 38.1\n",
      " $ GenK            : num [1:4] -2.36 1.68 4.04 0.49\n",
      " $ GenMDD          : num [1:4] 10.2 27.8 69.6 15\n",
      " $ GenMed          : num [1:4] 7.13 7.71 12.2 5.53\n",
      " $ GenTheta        : num [1:4] 1.03 0.3 0.22 0.38\n",
      " $ Adj             : chr [1:4] \"SurvNoRecentRec\" \"SurvNoRecentRec\" \"SurvNoRecentRec\" \"SurvNoRecentRec\"\n",
      " $ SimDist90       : num [1:4] 107.2 22.9 20.7 173.1\n",
      " $ SimK            : num [1:4] -1.11 -2.14 -0.61 -1.61\n",
      " $ SimMDD          : num [1:4] 56.54 10.05 8.36 89.32\n",
      " $ SimMed          : num [1:4] 9.67 6.86 4.14 16.66\n",
      " $ SimTheta        : num [1:4] 0.95 1.29 0.6 3.08\n",
      " $ MDDDiffGenVSim  : num [1:4] 46.4 17.7 61.2 74.3\n",
      " $ ThetaDiffGenVSim: num [1:4] 0.08 0.99 0.38 2.7\n",
      " - attr(*, \"groups\")= tibble [4 × 2] (S3: tbl_df/tbl/data.frame)\n",
      "  ..$ Year : Factor w/ 4 levels \"2012\",\"2013\",..: 1 2 3 4\n",
      "  ..$ .rows: list<int> [1:4] \n",
      "  .. ..$ : int 1\n",
      "  .. ..$ : int 3\n",
      "  .. ..$ : int 4\n",
      "  .. ..$ : int 2\n",
      "  .. ..@ ptype: int(0) \n",
      "  ..- attr(*, \".drop\")= logi TRUE\n"
     ]
    }
   ],
   "source": [
    "str(PointsToPlot)"
   ]
  },
  {
   "cell_type": "code",
   "execution_count": 161,
   "metadata": {},
   "outputs": [],
   "source": [
    "#read in the seasonal simulation kernel fits\n",
    "\n",
    "#no adjustments\n",
    "SimulatedKernelsNEM <-  read.csv(file=\"~/oceanography/script_output/KernelFits/100SimulatedKernelsNEM.csv\", header=T) %>%\n",
    "    mutate(Adj=\"no\")\n",
    "SimulatedKernelsSWM <-  read.csv(file=\"~/oceanography/script_output/KernelFits/100SimulatedKernelsSWM.csv\", header=T) %>%\n",
    "    mutate(Adj=\"no\")\n",
    "\n",
    "#adjusting for survival and growth\n",
    "SimulatedKernelsNEMSurvGrowth <-  read.csv(file=\"~/oceanography/script_output/KernelFits/100SimulatedKernelsNEMSurvGrowth.csv\", header=T) %>%\n",
    "    mutate(Adj=\"SurvGrowth\")\n",
    "SimulatedKernelsSWMSurvGrowth <-  read.csv(file=\"~/oceanography/script_output/KernelFits/100SimulatedKernelsSWMSurvGrowth.csv\", header=T) %>%\n",
    "    mutate(Adj=\"SurvGrowth\")\n",
    "\n",
    "#adjusting for growth\n",
    "SimulatedKernelsNEMGrowth <-  read.csv(file=\"~/oceanography/script_output/KernelFits/100SimulatedKernelsNEMGrowth.csv\", header=T) %>%\n",
    "    mutate(Adj=\"Growth\")\n",
    "SimulatedKernelsSWMGrowth <-  read.csv(file=\"~/oceanography/script_output/KernelFits/100SimulatedKernelsSWMGrowth.csv\", header=T) %>%\n",
    "    mutate(Adj=\"Growth\")\n",
    "\n",
    "CombinedSeasons <- bind_rows(SimulatedKernelsNEM, SimulatedKernelsSWM, SimulatedKernelsNEMSurvGrowth, SimulatedKernelsSWMSurvGrowth, SimulatedKernelsNEMGrowth, SimulatedKernelsSWMGrowth) %>%\n",
    "    rename(Season=\"season\") \n",
    "\n",
    "#empirical seasons for 2012-2014\n",
    "SeasonalKernels2012_14 <- read.csv(file=\"~/oceanography/empirical_data/genetics/SeasonalGenKernelsForROMSComp.csv\", header=T) %>%\n",
    "    rename(Season=\"season\",GenK=\"k\", GenTheta=\"theta\", GenMDD=\"mdd\", GenMed=\"med\", GenDist90=\"dist90\") %>%\n",
    "    mutate(GenK=round(GenK, digits=2)) %>%\n",
    "    mutate(GenTheta=round(GenTheta, digits=2)) %>%\n",
    "    mutate(GenMDD=round(GenMDD, digits=2)) %>%\n",
    "    mutate(TimeFrame=\"2012-14\")#%>%\n",
    "    #mutate(JoinKey=\"all\")\n",
    "\n",
    "\n",
    "SeasonalKernels2012_18 <- read.csv(file=\"~/parentage/kernel_fitting/1340_loci/final_results/tables/RecruitSizeAsSeasonlity_summary.csv\", header=T) %>%\n",
    "    select(Season, best_k, best_theta, MeanDispersalDistance, MedianDispersalDistance, Dist90Retained) %>%    \n",
    "    rename(GenK=\"best_k\", GenTheta=\"best_theta\", GenMDD=\"MeanDispersalDistance\", GenMed=\"MedianDispersalDistance\", GenDist90=\"Dist90Retained\") %>%\n",
    "    mutate(GenMDD=round(GenMDD, digits=2)) %>%\n",
    "    mutate(TimeFrame=\"2012-18\")#%>%\n",
    "    #mutate(JoinKey=\"all\")\n",
    "\n",
    "GenSeasonalKernels <- bind_rows(SeasonalKernels2012_14, SeasonalKernels2012_18)"
   ]
  },
  {
   "cell_type": "code",
   "execution_count": 151,
   "metadata": {},
   "outputs": [
    {
     "data": {
      "text/html": [
       "<table>\n",
       "<thead><tr><th scope=col>Season</th><th scope=col>k</th><th scope=col>theta</th><th scope=col>mdd</th><th scope=col>med</th><th scope=col>dist90</th><th scope=col>iteration</th><th scope=col>Adj</th></tr></thead>\n",
       "<tbody>\n",
       "\t<tr><td>NEM  </td><td>-2.49</td><td>1.30 </td><td> 8.94</td><td>6.78 </td><td>19.71</td><td>1    </td><td>no   </td></tr>\n",
       "\t<tr><td>NEM  </td><td> 0.85</td><td>0.34 </td><td>21.84</td><td>7.14 </td><td>55.00</td><td>2    </td><td>no   </td></tr>\n",
       "\t<tr><td>NEM  </td><td>-1.38</td><td>0.64 </td><td>10.05</td><td>5.59 </td><td>24.73</td><td>3    </td><td>no   </td></tr>\n",
       "\t<tr><td>NEM  </td><td>-2.06</td><td>0.91 </td><td> 9.06</td><td>6.05 </td><td>21.17</td><td>4    </td><td>no   </td></tr>\n",
       "\t<tr><td>NEM  </td><td>-2.52</td><td>1.33 </td><td> 9.04</td><td>6.91 </td><td>19.86</td><td>5    </td><td>no   </td></tr>\n",
       "\t<tr><td>NEM  </td><td>-1.92</td><td>0.84 </td><td> 9.04</td><td>5.82 </td><td>21.40</td><td>6    </td><td>no   </td></tr>\n",
       "</tbody>\n",
       "</table>\n"
      ],
      "text/latex": [
       "\\begin{tabular}{r|llllllll}\n",
       " Season & k & theta & mdd & med & dist90 & iteration & Adj\\\\\n",
       "\\hline\n",
       "\t NEM   & -2.49 & 1.30  &  8.94 & 6.78  & 19.71 & 1     & no   \\\\\n",
       "\t NEM   &  0.85 & 0.34  & 21.84 & 7.14  & 55.00 & 2     & no   \\\\\n",
       "\t NEM   & -1.38 & 0.64  & 10.05 & 5.59  & 24.73 & 3     & no   \\\\\n",
       "\t NEM   & -2.06 & 0.91  &  9.06 & 6.05  & 21.17 & 4     & no   \\\\\n",
       "\t NEM   & -2.52 & 1.33  &  9.04 & 6.91  & 19.86 & 5     & no   \\\\\n",
       "\t NEM   & -1.92 & 0.84  &  9.04 & 5.82  & 21.40 & 6     & no   \\\\\n",
       "\\end{tabular}\n"
      ],
      "text/markdown": [
       "\n",
       "| Season | k | theta | mdd | med | dist90 | iteration | Adj |\n",
       "|---|---|---|---|---|---|---|---|\n",
       "| NEM   | -2.49 | 1.30  |  8.94 | 6.78  | 19.71 | 1     | no    |\n",
       "| NEM   |  0.85 | 0.34  | 21.84 | 7.14  | 55.00 | 2     | no    |\n",
       "| NEM   | -1.38 | 0.64  | 10.05 | 5.59  | 24.73 | 3     | no    |\n",
       "| NEM   | -2.06 | 0.91  |  9.06 | 6.05  | 21.17 | 4     | no    |\n",
       "| NEM   | -2.52 | 1.33  |  9.04 | 6.91  | 19.86 | 5     | no    |\n",
       "| NEM   | -1.92 | 0.84  |  9.04 | 5.82  | 21.40 | 6     | no    |\n",
       "\n"
      ],
      "text/plain": [
       "  Season k     theta mdd   med  dist90 iteration Adj\n",
       "1 NEM    -2.49 1.30   8.94 6.78 19.71  1         no \n",
       "2 NEM     0.85 0.34  21.84 7.14 55.00  2         no \n",
       "3 NEM    -1.38 0.64  10.05 5.59 24.73  3         no \n",
       "4 NEM    -2.06 0.91   9.06 6.05 21.17  4         no \n",
       "5 NEM    -2.52 1.33   9.04 6.91 19.86  5         no \n",
       "6 NEM    -1.92 0.84   9.04 5.82 21.40  6         no "
      ]
     },
     "metadata": {},
     "output_type": "display_data"
    }
   ],
   "source": [
    "head(CombinedSeasons)"
   ]
  },
  {
   "cell_type": "code",
   "execution_count": 162,
   "metadata": {},
   "outputs": [],
   "source": [
    "AvgSeasonalKernels <- CombinedSeasons %>% \n",
    "    select(-iteration) %>%\n",
    "    group_by(Season, Adj) %>%\n",
    "    summarise_each(funs(mean)) %>%\n",
    "    mutate(k=round(k, digits=2)) %>%\n",
    "    mutate(theta=round(theta, digits=2)) %>%\n",
    "    mutate(mdd=round(mdd, digits=2))%>%\n",
    "    mutate(med=round(med, digits=2))%>%\n",
    "    mutate(dist90=round(dist90, digits=2)) %>%\n",
    "    rename(AvgSimK=\"k\", AvgSimTheta=\"theta\", AvgSimMDD=\"mdd\", AvgSimMed=\"med\", AvgSimDist90=\"dist90\") %>%\n",
    "    mutate(TimeFrame=\"2012-14\")# %>%\n",
    "    #mutate(JoinKey=\"all\")"
   ]
  },
  {
   "cell_type": "code",
   "execution_count": 189,
   "metadata": {},
   "outputs": [
    {
     "data": {
      "text/html": [
       "<table>\n",
       "<thead><tr><th scope=col>Season</th><th scope=col>Adj</th><th scope=col>AvgSimK</th><th scope=col>AvgSimTheta</th><th scope=col>AvgSimMDD</th><th scope=col>AvgSimMed</th><th scope=col>AvgSimDist90</th><th scope=col>TimeFrame</th><th scope=col>GenK</th><th scope=col>GenTheta</th><th scope=col>GenMDD</th><th scope=col>GenMed</th><th scope=col>GenDist90</th><th scope=col>MDDDiffGenVSim</th></tr></thead>\n",
       "<tbody>\n",
       "\t<tr><td>SWM       </td><td>no        </td><td>-2.45     </td><td>1.39      </td><td> 8.58     </td><td>6.57      </td><td>18.77     </td><td>2012-14   </td><td>-1.62     </td><td>0.76      </td><td>   8.34   </td><td>  5.1     </td><td>  20.07   </td><td>   0.24   </td></tr>\n",
       "\t<tr><td>NEM       </td><td>SurvGrowth</td><td>-2.02     </td><td>1.17      </td><td>10.10     </td><td>6.69      </td><td>23.37     </td><td>2012-14   </td><td> 6.95     </td><td>0.15      </td><td>2755.86   </td><td>212.8     </td><td>4810.04   </td><td>2745.76   </td></tr>\n",
       "</tbody>\n",
       "</table>\n"
      ],
      "text/latex": [
       "\\begin{tabular}{r|llllllllllllll}\n",
       " Season & Adj & AvgSimK & AvgSimTheta & AvgSimMDD & AvgSimMed & AvgSimDist90 & TimeFrame & GenK & GenTheta & GenMDD & GenMed & GenDist90 & MDDDiffGenVSim\\\\\n",
       "\\hline\n",
       "\t SWM        & no         & -2.45      & 1.39       &  8.58      & 6.57       & 18.77      & 2012-14    & -1.62      & 0.76       &    8.34    &   5.1      &   20.07    &    0.24   \\\\\n",
       "\t NEM        & SurvGrowth & -2.02      & 1.17       & 10.10      & 6.69       & 23.37      & 2012-14    &  6.95      & 0.15       & 2755.86    & 212.8      & 4810.04    & 2745.76   \\\\\n",
       "\\end{tabular}\n"
      ],
      "text/markdown": [
       "\n",
       "| Season | Adj | AvgSimK | AvgSimTheta | AvgSimMDD | AvgSimMed | AvgSimDist90 | TimeFrame | GenK | GenTheta | GenMDD | GenMed | GenDist90 | MDDDiffGenVSim |\n",
       "|---|---|---|---|---|---|---|---|---|---|---|---|---|---|\n",
       "| SWM        | no         | -2.45      | 1.39       |  8.58      | 6.57       | 18.77      | 2012-14    | -1.62      | 0.76       |    8.34    |   5.1      |   20.07    |    0.24    |\n",
       "| NEM        | SurvGrowth | -2.02      | 1.17       | 10.10      | 6.69       | 23.37      | 2012-14    |  6.95      | 0.15       | 2755.86    | 212.8      | 4810.04    | 2745.76    |\n",
       "\n"
      ],
      "text/plain": [
       "  Season Adj        AvgSimK AvgSimTheta AvgSimMDD AvgSimMed AvgSimDist90\n",
       "1 SWM    no         -2.45   1.39         8.58     6.57      18.77       \n",
       "2 NEM    SurvGrowth -2.02   1.17        10.10     6.69      23.37       \n",
       "  TimeFrame GenK  GenTheta GenMDD  GenMed GenDist90 MDDDiffGenVSim\n",
       "1 2012-14   -1.62 0.76        8.34   5.1    20.07      0.24       \n",
       "2 2012-14    6.95 0.15     2755.86 212.8  4810.04   2745.76       "
      ]
     },
     "metadata": {},
     "output_type": "display_data"
    },
    {
     "data": {
      "text/html": [
       "<table>\n",
       "<thead><tr><th scope=col>Season</th><th scope=col>Adj</th><th scope=col>AvgSimK</th><th scope=col>AvgSimTheta</th><th scope=col>AvgSimMDD</th><th scope=col>AvgSimMed</th><th scope=col>AvgSimDist90</th><th scope=col>TimeFrame</th><th scope=col>GenK</th><th scope=col>GenTheta</th><th scope=col>GenMDD</th><th scope=col>GenMed</th><th scope=col>GenDist90</th><th scope=col>MDDDiffGenVSim</th></tr></thead>\n",
       "<tbody>\n",
       "\t<tr><td>SWM       </td><td>no        </td><td>-2.45     </td><td>1.39      </td><td> 8.58     </td><td>6.57      </td><td>18.77     </td><td>2012-14   </td><td>-1.62     </td><td>0.76      </td><td>   8.34   </td><td>  5.10    </td><td>  20.07   </td><td>   0.24   </td></tr>\n",
       "\t<tr><td>SWM       </td><td>SurvGrowth</td><td>-2.44     </td><td>1.37      </td><td> 8.63     </td><td>6.59      </td><td>18.94     </td><td>2012-14   </td><td>-1.62     </td><td>0.76      </td><td>   8.34   </td><td>  5.10    </td><td>  20.07   </td><td>   0.29   </td></tr>\n",
       "\t<tr><td>SWM       </td><td>Growth    </td><td>-2.40     </td><td>1.32      </td><td> 8.66     </td><td>6.52      </td><td>19.13     </td><td>2012-14   </td><td>-1.62     </td><td>0.76      </td><td>   8.34   </td><td>  5.10    </td><td>  20.07   </td><td>   0.32   </td></tr>\n",
       "\t<tr><td>NEM       </td><td>SurvGrowth</td><td>-2.02     </td><td>1.17      </td><td>10.10     </td><td>6.69      </td><td>23.37     </td><td>2012-14   </td><td> 6.95     </td><td>0.15      </td><td>2755.86   </td><td>212.80    </td><td>4810.04   </td><td>2745.76   </td></tr>\n",
       "\t<tr><td>NEM       </td><td>Growth    </td><td>-2.04     </td><td>1.17      </td><td>10.01     </td><td>6.66      </td><td>23.13     </td><td>2012-14   </td><td> 6.95     </td><td>0.15      </td><td>2755.86   </td><td>212.80    </td><td>4810.04   </td><td>2745.85   </td></tr>\n",
       "\t<tr><td>NEM       </td><td>no        </td><td>-2.08     </td><td>1.26      </td><td> 9.95     </td><td>6.72      </td><td>22.82     </td><td>2012-14   </td><td> 6.95     </td><td>0.15      </td><td>2755.86   </td><td>212.80    </td><td>4810.04   </td><td>2745.91   </td></tr>\n",
       "\t<tr><td>SWM       </td><td>NA        </td><td>   NA     </td><td>  NA      </td><td>   NA     </td><td>  NA      </td><td>   NA     </td><td>2012-18   </td><td>-2.60     </td><td>1.58      </td><td>   8.57   </td><td>  6.87    </td><td>  18.32   </td><td>     NA   </td></tr>\n",
       "\t<tr><td>NEM       </td><td>NA        </td><td>   NA     </td><td>  NA      </td><td>   NA     </td><td>  NA      </td><td>   NA     </td><td>2012-18   </td><td>-0.89     </td><td>0.56      </td><td>   9.45   </td><td>  4.82    </td><td>  23.60   </td><td>     NA   </td></tr>\n",
       "</tbody>\n",
       "</table>\n"
      ],
      "text/latex": [
       "\\begin{tabular}{r|llllllllllllll}\n",
       " Season & Adj & AvgSimK & AvgSimTheta & AvgSimMDD & AvgSimMed & AvgSimDist90 & TimeFrame & GenK & GenTheta & GenMDD & GenMed & GenDist90 & MDDDiffGenVSim\\\\\n",
       "\\hline\n",
       "\t SWM        & no         & -2.45      & 1.39       &  8.58      & 6.57       & 18.77      & 2012-14    & -1.62      & 0.76       &    8.34    &   5.10     &   20.07    &    0.24   \\\\\n",
       "\t SWM        & SurvGrowth & -2.44      & 1.37       &  8.63      & 6.59       & 18.94      & 2012-14    & -1.62      & 0.76       &    8.34    &   5.10     &   20.07    &    0.29   \\\\\n",
       "\t SWM        & Growth     & -2.40      & 1.32       &  8.66      & 6.52       & 19.13      & 2012-14    & -1.62      & 0.76       &    8.34    &   5.10     &   20.07    &    0.32   \\\\\n",
       "\t NEM        & SurvGrowth & -2.02      & 1.17       & 10.10      & 6.69       & 23.37      & 2012-14    &  6.95      & 0.15       & 2755.86    & 212.80     & 4810.04    & 2745.76   \\\\\n",
       "\t NEM        & Growth     & -2.04      & 1.17       & 10.01      & 6.66       & 23.13      & 2012-14    &  6.95      & 0.15       & 2755.86    & 212.80     & 4810.04    & 2745.85   \\\\\n",
       "\t NEM        & no         & -2.08      & 1.26       &  9.95      & 6.72       & 22.82      & 2012-14    &  6.95      & 0.15       & 2755.86    & 212.80     & 4810.04    & 2745.91   \\\\\n",
       "\t SWM        & NA         &    NA      &   NA       &    NA      &   NA       &    NA      & 2012-18    & -2.60      & 1.58       &    8.57    &   6.87     &   18.32    &      NA   \\\\\n",
       "\t NEM        & NA         &    NA      &   NA       &    NA      &   NA       &    NA      & 2012-18    & -0.89      & 0.56       &    9.45    &   4.82     &   23.60    &      NA   \\\\\n",
       "\\end{tabular}\n"
      ],
      "text/markdown": [
       "\n",
       "| Season | Adj | AvgSimK | AvgSimTheta | AvgSimMDD | AvgSimMed | AvgSimDist90 | TimeFrame | GenK | GenTheta | GenMDD | GenMed | GenDist90 | MDDDiffGenVSim |\n",
       "|---|---|---|---|---|---|---|---|---|---|---|---|---|---|\n",
       "| SWM        | no         | -2.45      | 1.39       |  8.58      | 6.57       | 18.77      | 2012-14    | -1.62      | 0.76       |    8.34    |   5.10     |   20.07    |    0.24    |\n",
       "| SWM        | SurvGrowth | -2.44      | 1.37       |  8.63      | 6.59       | 18.94      | 2012-14    | -1.62      | 0.76       |    8.34    |   5.10     |   20.07    |    0.29    |\n",
       "| SWM        | Growth     | -2.40      | 1.32       |  8.66      | 6.52       | 19.13      | 2012-14    | -1.62      | 0.76       |    8.34    |   5.10     |   20.07    |    0.32    |\n",
       "| NEM        | SurvGrowth | -2.02      | 1.17       | 10.10      | 6.69       | 23.37      | 2012-14    |  6.95      | 0.15       | 2755.86    | 212.80     | 4810.04    | 2745.76    |\n",
       "| NEM        | Growth     | -2.04      | 1.17       | 10.01      | 6.66       | 23.13      | 2012-14    |  6.95      | 0.15       | 2755.86    | 212.80     | 4810.04    | 2745.85    |\n",
       "| NEM        | no         | -2.08      | 1.26       |  9.95      | 6.72       | 22.82      | 2012-14    |  6.95      | 0.15       | 2755.86    | 212.80     | 4810.04    | 2745.91    |\n",
       "| SWM        | NA         |    NA      |   NA       |    NA      |   NA       |    NA      | 2012-18    | -2.60      | 1.58       |    8.57    |   6.87     |   18.32    |      NA    |\n",
       "| NEM        | NA         |    NA      |   NA       |    NA      |   NA       |    NA      | 2012-18    | -0.89      | 0.56       |    9.45    |   4.82     |   23.60    |      NA    |\n",
       "\n"
      ],
      "text/plain": [
       "  Season Adj        AvgSimK AvgSimTheta AvgSimMDD AvgSimMed AvgSimDist90\n",
       "1 SWM    no         -2.45   1.39         8.58     6.57      18.77       \n",
       "2 SWM    SurvGrowth -2.44   1.37         8.63     6.59      18.94       \n",
       "3 SWM    Growth     -2.40   1.32         8.66     6.52      19.13       \n",
       "4 NEM    SurvGrowth -2.02   1.17        10.10     6.69      23.37       \n",
       "5 NEM    Growth     -2.04   1.17        10.01     6.66      23.13       \n",
       "6 NEM    no         -2.08   1.26         9.95     6.72      22.82       \n",
       "7 SWM    NA            NA     NA           NA       NA         NA       \n",
       "8 NEM    NA            NA     NA           NA       NA         NA       \n",
       "  TimeFrame GenK  GenTheta GenMDD  GenMed GenDist90 MDDDiffGenVSim\n",
       "1 2012-14   -1.62 0.76        8.34   5.10   20.07      0.24       \n",
       "2 2012-14   -1.62 0.76        8.34   5.10   20.07      0.29       \n",
       "3 2012-14   -1.62 0.76        8.34   5.10   20.07      0.32       \n",
       "4 2012-14    6.95 0.15     2755.86 212.80 4810.04   2745.76       \n",
       "5 2012-14    6.95 0.15     2755.86 212.80 4810.04   2745.85       \n",
       "6 2012-14    6.95 0.15     2755.86 212.80 4810.04   2745.91       \n",
       "7 2012-18   -2.60 1.58        8.57   6.87   18.32        NA       \n",
       "8 2012-18   -0.89 0.56        9.45   4.82   23.60        NA       "
      ]
     },
     "metadata": {},
     "output_type": "display_data"
    }
   ],
   "source": [
    "SimPlusGenFitsSeasons <- right_join(AvgSeasonalKernels, GenSeasonalKernels, by=c(\"Season\", \"TimeFrame\"))%>%\n",
    "    mutate(MDDDiffGenVSim=abs(GenMDD-AvgSimMDD)) %>%\n",
    "    arrange(MDDDiffGenVSim) %>%\n",
    "    mutate(GenK=round(GenK, digits=2)) %>%\n",
    "    mutate(GenTheta=round(GenTheta, digits=2)) %>%\n",
    "    mutate(GenMDD=round(GenMDD, digits=2))\n",
    "\n",
    "SimPlusGenFitsSeasons %>%\n",
    "    group_by(Season) %>%\n",
    "    filter(MDDDiffGenVSim==min(MDDDiffGenVSim, na.rm=T))\n",
    "\n",
    "SimPlusGenFitsSeasons\n",
    "\n",
    "#write.csv(SimPlusGenFits, file=\"~/oceanography/script_output/KernelFits/SimPlusGenKernelFitsSeasons.csv\", row.names=F)"
   ]
  },
  {
   "cell_type": "code",
   "execution_count": null,
   "metadata": {},
   "outputs": [],
   "source": []
  },
  {
   "cell_type": "code",
   "execution_count": 193,
   "metadata": {},
   "outputs": [
    {
     "name": "stderr",
     "output_type": "stream",
     "text": [
      "Warning message:\n",
      "“Removed 2 rows containing missing values (geom_point).”Saving 6.67 x 6.67 in image\n",
      "Warning message:\n",
      "“Removed 2 rows containing missing values (geom_point).”"
     ]
    },
    {
     "data": {
      "image/png": "[encoded data removed]",
      "text/plain": [
       "plot without title"
      ]
     },
     "metadata": {},
     "output_type": "display_data"
    }
   ],
   "source": [
    "cbbPalette <- c(\"#000000\", \"#E69F00\", \"#56B4E9\", \"#009E73\", \"#F0E442\", \"#0072B2\", \"#D55E00\", \"#CC79A7\")\n",
    "cbbPalette_rev <- rev(cbbPalette)\n",
    "\n",
    "#CombinedSeasons$Season <- factor(CombinedSeasons$Season, levels=c(\"2012\", \"2013\", \"2014\", \"2012-14\"))\n",
    "#SimPlusGenFitsSeasons$Season <- factor(SimPlusGenFitsSeasons$Season, levels=c(\"2012\", \"2013\", \"2014\", \"2012-14\"))\n",
    "\n",
    "mdd_violin <- ggplot(data=CombinedSeasons, aes(x=Season, y=mdd, color=Season, fill=Season), alpha=0.5) +\n",
    "    geom_violin() +\n",
    "    geom_point(data=SimPlusGenFitsSeasons, aes(x=Season, y=AvgSimMDD, shape=Adj), fill=NA, color=\"black\", size=3) + \n",
    "    geom_point(data=SimPlusGenFitsSeasons, aes(x=Season, y=GenMDD), fill=\"red\", color=\"red\") + # with all fits\n",
    "    #geom_point(data=kernels %>% filter(Year %in% c(\"2012\", \"2013\", \"2014\", \"all\")), aes(x=Year, y=MeanDispDist), fill=\"black\",color=\"darkgray\", shape=24) + #genetic estimates\n",
    "    coord_flip() +\n",
    "    scale_shape_discrete(name = \"Adjustment\", labels = c(\"only >3.5 cm\", \"none\", \"only >3.5 cm and survival weighting\"))+\n",
    "    #scale_x_continuous(limits = c(0, 100), expand=c(0,0)) +\n",
    "    #scale_y_continuous(limits = c(0, 30), expand = c(0,0))+\n",
    "    theme(panel.grid.major = element_blank(),\n",
    "    plot.margin=unit(c(0.2,0.2,0.2,0.2),\"cm\"),\n",
    "    panel.grid.minor = element_blank(), \n",
    "    panel.background = element_blank(), #,\n",
    "    axis.line = element_line(colour = \"black\")) +\n",
    "    xlab(\"Year\") + \n",
    "    ylab(\"Mean dispersal distance (km)\") +\n",
    "    theme(axis.text.x = element_text(size=8, color=\"black\", family=\"Helvetica\"),#15 for publication, 20 for presentation #element_text(size=15, color=\"black\", family=\"Helvetica\"),\n",
    "    axis.text.y =  element_text(size=8, color=\"black\", family=\"Helvetica\"),\n",
    "    axis.title.y =  element_text(size=10, color=\"black\", family=\"Helvetica\"), \n",
    "    axis.title.x =  element_text(size=10, color=\"black\", family=\"Helvetica\")) + \n",
    "    scale_colour_manual(values=cbbPalette_rev)+\n",
    "    scale_fill_manual(values=cbbPalette_rev)\n",
    "    #scale_y_continuous(breaks = 1:2000, labels = c(1:50,\"break\",1000:2000))\n",
    "mdd_violin\n",
    "ggplot2::ggsave(filename=\"SimMeanDispDistPlusGenPointsSeasons.png\",  plot=mdd_violin, path=\"~/oceanography/script_output/KernelFits/Plots/\")\n"
   ]
  },
  {
   "cell_type": "code",
   "execution_count": null,
   "metadata": {},
   "outputs": [],
   "source": []
  },
  {
   "cell_type": "code",
   "execution_count": null,
   "metadata": {},
   "outputs": [],
   "source": []
  },
  {
   "cell_type": "code",
   "execution_count": null,
   "metadata": {},
   "outputs": [],
   "source": []
  },
  {
   "cell_type": "code",
   "execution_count": null,
   "metadata": {},
   "outputs": [],
   "source": []
  },
  {
   "cell_type": "code",
   "execution_count": null,
   "metadata": {},
   "outputs": [],
   "source": []
  },
  {
   "cell_type": "code",
   "execution_count": 192,
   "metadata": {
    "scrolled": true
   },
   "outputs": [
    {
     "ename": "ERROR",
     "evalue": "Error in ggplot(data = SimCombinedSummary, aes(x = year, y = mdd, color = year, : object 'SimCombinedSummary' not found\n",
     "output_type": "error",
     "traceback": [
      "Error in ggplot(data = SimCombinedSummary, aes(x = year, y = mdd, color = year, : object 'SimCombinedSummary' not found\nTraceback:\n",
      "1. ggplot(data = SimCombinedSummary, aes(x = year, y = mdd, color = year, \n .     fill = year), alpha = 0.5)"
     ]
    }
   ],
   "source": [
    "cbbPalette <- c(\"#000000\", \"#E69F00\", \"#56B4E9\", \"#009E73\", \"#F0E442\", \"#0072B2\", \"#D55E00\", \"#CC79A7\")\n",
    "cbbPalette_rev <- rev(cbbPalette)\n",
    "\n",
    "mdd_violin <- ggplot(data=SimCombinedSummary, aes(x=year, y=mdd, color=year, fill=year), alpha=0.5) +\n",
    "    geom_violin() +\n",
    "    #geom_point(data=AverageFits2, aes(x=year, y=mdd), fill=\"snow\",color=\"darkgray\", shape=21) + #without borderline fits\n",
    "    geom_point(data=AverageFits, aes(x=year, y=mdd), fill=\"black \",color=\"darkgray\", shape=21) + # with all fits\n",
    "    geom_point(data=kernels %>% filter(Year %in% c(\"2012\", \"2013\", \"2014\", \"all\")), aes(x=Year, y=MeanDispDist), fill=\"black\",color=\"darkgray\", shape=24) + #genetic estimates\n",
    "    coord_flip() +\n",
    "    #scale_x_continuous(limits = c(0, 100), expand=c(0,0)) +\n",
    "    scale_y_continuous(limits = c(0, 83), expand = c(0,0))+\n",
    "    theme(panel.grid.major = element_blank(),\n",
    "    plot.margin=unit(c(0.2,0.2,0.2,0.2),\"cm\"),\n",
    "    panel.grid.minor = element_blank(), \n",
    "    panel.background = element_blank(), #,\n",
    "    axis.line = element_line(colour = \"black\")) +\n",
    "    xlab(\"Year\") + \n",
    "    ylab(\"Mean dispersal distance (km)\") +\n",
    "    theme(axis.text.x = element_text(size=8, color=\"black\", family=\"Helvetica\"),#15 for publication, 20 for presentation #element_text(size=15, color=\"black\", family=\"Helvetica\"),\n",
    "    axis.text.y =  element_text(size=8, color=\"black\", family=\"Helvetica\"),\n",
    "    axis.title.y =  element_text(size=10, color=\"black\", family=\"Helvetica\"), \n",
    "    axis.title.x =  element_text(size=10, color=\"black\", family=\"Helvetica\"),    \n",
    "    legend.position = \"none\") + \n",
    "    scale_colour_manual(values=cbbPalette_rev)+\n",
    "    scale_fill_manual(values=cbbPalette_rev)\n",
    "    #scale_y_continuous(breaks = 1:2000, labels = c(1:50,\"break\",1000:2000))\n",
    "mdd_violin\n",
    "ggplot2::ggsave(filename=\"SimMeanDispDistPlusGenPoints.png\",  plot=mdd_violin, path=\"~/oceanography/script_output/KernelFits/Plots/\")\n"
   ]
  },
  {
   "cell_type": "code",
   "execution_count": null,
   "metadata": {},
   "outputs": [],
   "source": []
  },
  {
   "cell_type": "code",
   "execution_count": 115,
   "metadata": {},
   "outputs": [
    {
     "data": {
      "text/html": [
       "<table>\n",
       "<thead><tr><th scope=col>year</th><th scope=col>SimK</th><th scope=col>SimTheta</th><th scope=col>SimMDD</th><th scope=col>SimKurtosis</th><th scope=col>GenK</th><th scope=col>GenTheta</th><th scope=col>GenMDD</th><th scope=col>GenMedDispDist</th></tr></thead>\n",
       "<tbody>\n",
       "\t<tr><td>2012     </td><td>-1.828326</td><td>1.250510 </td><td>10.127328</td><td>15.518027</td><td>-2.36    </td><td>1.03     </td><td>10.165094</td><td> 7.13    </td></tr>\n",
       "\t<tr><td>2013     </td><td>-1.242150</td><td>0.804757 </td><td> 8.091848</td><td>13.967938</td><td> 4.04    </td><td>0.22     </td><td>69.586280</td><td>12.20    </td></tr>\n",
       "\t<tr><td>2014     </td><td>-1.926596</td><td>1.243059 </td><td>26.376964</td><td>86.415760</td><td> 0.49    </td><td>0.38     </td><td>15.037515</td><td> 5.53    </td></tr>\n",
       "\t<tr><td>all      </td><td>-1.919426</td><td>1.014670 </td><td>10.219857</td><td> 8.635482</td><td>-2.51    </td><td>1.49     </td><td> 8.153016</td><td> 6.44    </td></tr>\n",
       "</tbody>\n",
       "</table>\n"
      ],
      "text/latex": [
       "\\begin{tabular}{r|lllllllll}\n",
       " year & SimK & SimTheta & SimMDD & SimKurtosis & GenK & GenTheta & GenMDD & GenMedDispDist\\\\\n",
       "\\hline\n",
       "\t 2012      & -1.828326 & 1.250510  & 10.127328 & 15.518027 & -2.36     & 1.03      & 10.165094 &  7.13    \\\\\n",
       "\t 2013      & -1.242150 & 0.804757  &  8.091848 & 13.967938 &  4.04     & 0.22      & 69.586280 & 12.20    \\\\\n",
       "\t 2014      & -1.926596 & 1.243059  & 26.376964 & 86.415760 &  0.49     & 0.38      & 15.037515 &  5.53    \\\\\n",
       "\t all       & -1.919426 & 1.014670  & 10.219857 &  8.635482 & -2.51     & 1.49      &  8.153016 &  6.44    \\\\\n",
       "\\end{tabular}\n"
      ],
      "text/markdown": [
       "\n",
       "| year | SimK | SimTheta | SimMDD | SimKurtosis | GenK | GenTheta | GenMDD | GenMedDispDist |\n",
       "|---|---|---|---|---|---|---|---|---|\n",
       "| 2012      | -1.828326 | 1.250510  | 10.127328 | 15.518027 | -2.36     | 1.03      | 10.165094 |  7.13     |\n",
       "| 2013      | -1.242150 | 0.804757  |  8.091848 | 13.967938 |  4.04     | 0.22      | 69.586280 | 12.20     |\n",
       "| 2014      | -1.926596 | 1.243059  | 26.376964 | 86.415760 |  0.49     | 0.38      | 15.037515 |  5.53     |\n",
       "| all       | -1.919426 | 1.014670  | 10.219857 |  8.635482 | -2.51     | 1.49      |  8.153016 |  6.44     |\n",
       "\n"
      ],
      "text/plain": [
       "  year SimK      SimTheta SimMDD    SimKurtosis GenK  GenTheta GenMDD   \n",
       "1 2012 -1.828326 1.250510 10.127328 15.518027   -2.36 1.03     10.165094\n",
       "2 2013 -1.242150 0.804757  8.091848 13.967938    4.04 0.22     69.586280\n",
       "3 2014 -1.926596 1.243059 26.376964 86.415760    0.49 0.38     15.037515\n",
       "4 all  -1.919426 1.014670 10.219857  8.635482   -2.51 1.49      8.153016\n",
       "  GenMedDispDist\n",
       "1  7.13         \n",
       "2 12.20         \n",
       "3  5.53         \n",
       "4  6.44         "
      ]
     },
     "metadata": {},
     "output_type": "display_data"
    }
   ],
   "source": [
    "(SimPlusGenFits)"
   ]
  },
  {
   "cell_type": "code",
   "execution_count": 95,
   "metadata": {},
   "outputs": [
    {
     "data": {
      "image/png": "[encoded data removed]",
      "text/plain": [
       "plot without title"
      ]
     },
     "metadata": {},
     "output_type": "display_data"
    }
   ],
   "source": [
    "plot(SimPlusGenFits$SimMDD~SimPlusGenFits$MeanDispDist)"
   ]
  },
  {
   "cell_type": "code",
   "execution_count": 60,
   "metadata": {},
   "outputs": [
    {
     "name": "stderr",
     "output_type": "stream",
     "text": [
      "Warning message in min(x):\n",
      "“no non-missing arguments to min; returning Inf”Warning message in max(x):\n",
      "“no non-missing arguments to max; returning -Inf”"
     ]
    },
    {
     "ename": "ERROR",
     "evalue": "Error in hist.default(MDDAllYear$mdd, breaks = 100, main = NULL, xlab = \"Mean dispersal distance (km)\"): character(0)\n",
     "output_type": "error",
     "traceback": [
      "Error in hist.default(MDDAllYear$mdd, breaks = 100, main = NULL, xlab = \"Mean dispersal distance (km)\"): character(0)\nTraceback:\n",
      "1. hist(MDDAllYear$mdd, breaks = 100, main = NULL, xlab = \"Mean dispersal distance (km)\")",
      "2. hist.default(MDDAllYear$mdd, breaks = 100, main = NULL, xlab = \"Mean dispersal distance (km)\")",
      "3. stop(gettextf(\"hist.default: pretty() error, breaks=%s\", format(breaks)), \n .     domain = NA)"
     ]
    }
   ],
   "source": [
    "MDDAllYear <- CombinedSims %>% \n",
    "    filter(year==\"all\")\n",
    "#pdf(\"~/oceanography/script_output/KernelFits/Plots/MeanDispDistHist2012-14.pdf\")\n",
    "hist(MDDAllYear$mdd, breaks=100, main=NULL, xlab=\"Mean dispersal distance (km)\")\n",
    "#dev.off()\n",
    "summary(MDDAllYear$mdd)"
   ]
  },
  {
   "cell_type": "code",
   "execution_count": 97,
   "metadata": {},
   "outputs": [
    {
     "data": {
      "text/plain": [
       "\n",
       "\tPearson's product-moment correlation\n",
       "\n",
       "data:  SimPlusGenFits$SimMDD and SimPlusGenFits$MeanDispDist\n",
       "t = -0.53384, df = 2, p-value = 0.6468\n",
       "alternative hypothesis: true correlation is not equal to 0\n",
       "95 percent confidence interval:\n",
       " -0.9812079  0.9202897\n",
       "sample estimates:\n",
       "       cor \n",
       "-0.3531582 \n"
      ]
     },
     "metadata": {},
     "output_type": "display_data"
    },
    {
     "data": {
      "text/plain": [
       "\n",
       "\tPearson's product-moment correlation\n",
       "\n",
       "data:  SimPlusGenFits$SimTheta and SimPlusGenFits$GenTheta\n",
       "t = 0.32913, df = 2, p-value = 0.7733\n",
       "alternative hypothesis: true correlation is not equal to 0\n",
       "95 percent confidence interval:\n",
       " -0.9389710  0.9752907\n",
       "sample estimates:\n",
       "      cor \n",
       "0.2266754 \n"
      ]
     },
     "metadata": {},
     "output_type": "display_data"
    }
   ],
   "source": [
    "#test for correlations\n",
    "cor.test(SimPlusGenFits$SimMDD, SimPlusGenFits$MeanDispDist,  method = \"pearson\")\n",
    "cor.test(SimPlusGenFits$SimTheta, SimPlusGenFits$GenTheta,  method = \"pearson\")\n"
   ]
  },
  {
   "cell_type": "code",
   "execution_count": 17,
   "metadata": {},
   "outputs": [],
   "source": [
    "#seasons\n",
    "SimulatedKernelsNEM <-  read.csv(file=\"~/oceanography/script_output/KernelFits/100SimulatedKernelsNEM.csv\", header=T)\n",
    "SimulatedKernelsSWM <-  read.csv(file=\"~/oceanography/script_output/KernelFits/100SimulatedKernelsSWM.csv\", header=T)\n",
    "CombinedSeasons <- bind_rows(SimulatedKernelsNEM, SimulatedKernelsSWM) %>%\n",
    "    select(-iteration)"
   ]
  },
  {
   "cell_type": "code",
   "execution_count": 24,
   "metadata": {},
   "outputs": [
    {
     "data": {
      "text/html": [
       "<table>\n",
       "<thead><tr><th scope=col>Season</th><th scope=col>RecruitSizeAtSampling</th><th scope=col>best_k</th><th scope=col>best_theta</th><th scope=col>k_CI95_lower</th><th scope=col>k_CI95_upper</th><th scope=col>theta_CI95_lower</th><th scope=col>theta_CI95_upper</th><th scope=col>MeanDispersalDistance</th><th scope=col>MeanDispDist_CI95_lower</th><th scope=col>MeanDispDist_CI95_upper</th><th scope=col>MedianDispersalDistance</th><th scope=col>MedianDispDist_CI95_lower</th><th scope=col>MedianDispDist_CI95_upper</th><th scope=col>Dist90Retained</th></tr></thead>\n",
       "<tbody>\n",
       "\t<tr><td>SWM                                               </td><td>&gt; 4.5 cm                                       </td><td>-2.60                                             </td><td>1.58                                              </td><td>-2.63                                             </td><td>-2.47                                             </td><td>1.34                                              </td><td>1.59                                              </td><td>8.574871                                          </td><td>7.132250                                          </td><td><span style=white-space:pre-wrap>  10.39623</span></td><td>6.87                                              </td><td>4.93                                              </td><td><span style=white-space:pre-wrap>  9.28</span>    </td><td>18.32                                             </td></tr>\n",
       "\t<tr><td>NEM        </td><td>&lt; 3.5 cm</td><td>-0.89      </td><td>0.56       </td><td>-1.46      </td><td>-0.74      </td><td>0.54       </td><td>0.61       </td><td>9.446898   </td><td>6.014163   </td><td>4272.46841 </td><td>4.82       </td><td>3.24       </td><td>323.37     </td><td>23.60      </td></tr>\n",
       "</tbody>\n",
       "</table>\n"
      ],
      "text/latex": [
       "\\begin{tabular}{r|lllllllllllllll}\n",
       " Season & RecruitSizeAtSampling & best\\_k & best\\_theta & k\\_CI95\\_lower & k\\_CI95\\_upper & theta\\_CI95\\_lower & theta\\_CI95\\_upper & MeanDispersalDistance & MeanDispDist\\_CI95\\_lower & MeanDispDist\\_CI95\\_upper & MedianDispersalDistance & MedianDispDist\\_CI95\\_lower & MedianDispDist\\_CI95\\_upper & Dist90Retained\\\\\n",
       "\\hline\n",
       "\t SWM        & > 4.5 cm   & -2.60      & 1.58       & -2.63      & -2.47      & 1.34       & 1.59       & 8.574871   & 7.132250   &   10.39623 & 6.87       & 4.93       &   9.28     & 18.32     \\\\\n",
       "\t NEM        & < 3.5 cm   & -0.89      & 0.56       & -1.46      & -0.74      & 0.54       & 0.61       & 9.446898   & 6.014163   & 4272.46841 & 4.82       & 3.24       & 323.37     & 23.60     \\\\\n",
       "\\end{tabular}\n"
      ],
      "text/markdown": [
       "\n",
       "| Season | RecruitSizeAtSampling | best_k | best_theta | k_CI95_lower | k_CI95_upper | theta_CI95_lower | theta_CI95_upper | MeanDispersalDistance | MeanDispDist_CI95_lower | MeanDispDist_CI95_upper | MedianDispersalDistance | MedianDispDist_CI95_lower | MedianDispDist_CI95_upper | Dist90Retained |\n",
       "|---|---|---|---|---|---|---|---|---|---|---|---|---|---|---|\n",
       "| SWM        | > 4.5 cm   | -2.60      | 1.58       | -2.63      | -2.47      | 1.34       | 1.59       | 8.574871   | 7.132250   |   10.39623 | 6.87       | 4.93       |   9.28     | 18.32      |\n",
       "| NEM        | < 3.5 cm   | -0.89      | 0.56       | -1.46      | -0.74      | 0.54       | 0.61       | 9.446898   | 6.014163   | 4272.46841 | 4.82       | 3.24       | 323.37     | 23.60      |\n",
       "\n"
      ],
      "text/plain": [
       "  Season RecruitSizeAtSampling best_k best_theta k_CI95_lower k_CI95_upper\n",
       "1 SWM    > 4.5 cm              -2.60  1.58       -2.63        -2.47       \n",
       "2 NEM    < 3.5 cm              -0.89  0.56       -1.46        -0.74       \n",
       "  theta_CI95_lower theta_CI95_upper MeanDispersalDistance\n",
       "1 1.34             1.59             8.574871             \n",
       "2 0.54             0.61             9.446898             \n",
       "  MeanDispDist_CI95_lower MeanDispDist_CI95_upper MedianDispersalDistance\n",
       "1 7.132250                  10.39623              6.87                   \n",
       "2 6.014163                4272.46841              4.82                   \n",
       "  MedianDispDist_CI95_lower MedianDispDist_CI95_upper Dist90Retained\n",
       "1 4.93                        9.28                    18.32         \n",
       "2 3.24                      323.37                    23.60         "
      ]
     },
     "metadata": {},
     "output_type": "display_data"
    }
   ],
   "source": [
    "SeasonalKernels <- read.csv(file=\"~/parentage/kernel_fitting/1340_loci/final_results/tables/RecruitSizeAsSeasonlity_summary.csv\", header=T)\n",
    "head(SeasonalKernels)"
   ]
  },
  {
   "cell_type": "code",
   "execution_count": null,
   "metadata": {},
   "outputs": [],
   "source": []
  }
 ],
 "metadata": {
  "kernelspec": {
   "display_name": "R",
   "language": "R",
   "name": "ir"
  },
  "language_info": {
   "codemirror_mode": "r",
   "file_extension": ".r",
   "mimetype": "text/x-r-source",
   "name": "R",
   "pygments_lexer": "r",
   "version": "3.6.1"
  }
 },
 "nbformat": 4,
 "nbformat_minor": 4
}
