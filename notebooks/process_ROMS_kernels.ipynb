{
 "cells": [
  {
   "cell_type": "code",
   "execution_count": 2,
   "metadata": {},
   "outputs": [],
   "source": [
    "Packages <- c(\"dplyr\",\"broom\",\"cubature\", \"geosphere\", \"data.table\",  \"ggplot2\", \"bbmle\", \"dplyr\",\"tidyr\", \"stringr\", \"tidyverse\", \"lubridate\", \"RColorBrewer\")\n",
    "\n",
    "invisible(suppressPackageStartupMessages(lapply(Packages, library, character.only = TRUE)))\n",
    "\n",
    "setwd('/local/home/katrinac/oceanography')\n",
    "\"%!in%\" <- function(x,table) match(x,table, nomatch = 0) == 0\n",
    "source(\"~/parentage/kernel_fitting/1340_loci/functions/ll_kt_both_bbmle.R\")\n",
    "source(\"~/parentage/kernel_fitting/1340_loci/functions/GenGausKernInt_sum0.5.R\") #integrate_kernel_sum1\n",
    "source(\"~/parentage/kernel_fitting/1340_loci/functions/GenGausKernInt_sum1.R\") #integrate_kernel_sum0.5\n"
   ]
  },
  {
   "cell_type": "code",
   "execution_count": null,
   "metadata": {},
   "outputs": [],
   "source": [
    "#calculate summary stats like mdd, median, kerutosis, and dist 90 retained\n",
    "#plot summary stats with overlays of empirical fits\n",
    "#test for rank ordered correlations\n"
   ]
  },
  {
   "cell_type": "code",
   "execution_count": 3,
   "metadata": {},
   "outputs": [],
   "source": [
    "#read in the kernel ensembles\n",
    "SimKernels2012 <- read.csv(file=\"~/oceanography/script_output/KernelFits/100SimulatedKernels2012.csv\", header=T) %>%\n",
    "    mutate(year=as.character(year)) %>%\n",
    "    select(-mdd)\n",
    "SimKernels2013 <- read.csv(file=\"~/oceanography/script_output/KernelFits/100SimulatedKernels2013.csv\", header=T) %>%\n",
    "    mutate(year=as.character(year))%>%\n",
    "    select(-mdd)\n",
    "SimKernels2014 <- read.csv(file=\"~/oceanography/script_output/KernelFits/100SimulatedKernels2014.csv\", header=T) %>%\n",
    "    mutate(year=as.character(year))%>%\n",
    "    select(-mdd)\n",
    "SimKernels2014SurvGrow <- read.csv(file=\"~/oceanography/script_output/KernelFits/100SimulatedKernels2014SurvGrowth.csv\", header=T) %>%\n",
    "    mutate(year=as.character(year))%>%\n",
    "    select(-mdd)\n",
    "SimKernelsAll <- read.csv(file=\"~/oceanography/script_output/KernelFits/1000SimulatedKernelsAllStoppedEarly.csv\", header=T) %>%\n",
    "    mutate(year=\"all\")\n",
    "CombinedSims <- bind_rows(SimKernels2012, SimKernels2013, SimKernels2014,  SimKernelsAll) \n",
    "\n",
    "\n"
   ]
  },
  {
   "cell_type": "code",
   "execution_count": 26,
   "metadata": {},
   "outputs": [
    {
     "name": "stderr",
     "output_type": "stream",
     "text": [
      "`summarise()` ungrouping output (override with `.groups` argument)\n"
     ]
    },
    {
     "data": {
      "text/html": [
       "<table>\n",
       "<thead><tr><th scope=col>AdjSurv</th><th scope=col>NObsBad</th></tr></thead>\n",
       "<tbody>\n",
       "</tbody>\n",
       "</table>\n"
      ],
      "text/latex": [
       "\\begin{tabular}{r|ll}\n",
       " AdjSurv & NObsBad\\\\\n",
       "\\hline\n",
       "\\end{tabular}\n"
      ],
      "text/markdown": [
       "\n",
       "| AdjSurv | NObsBad |\n",
       "|---|---|\n",
       "\n"
      ],
      "text/plain": [
       "     AdjSurv NObsBad"
      ]
     },
     "metadata": {},
     "output_type": "display_data"
    }
   ],
   "source": [
    "SimKernels2014 <- read.csv(file=\"~/oceanography/script_output/KernelFits/100SimulatedKernels2014.csv\", header=T) %>%\n",
    "    mutate(year=as.character(year)) %>%\n",
    "    mutate(AdjSurv=\"no\")\n",
    "SimKernels2014SurvGrow <- read.csv(file=\"~/oceanography/script_output/KernelFits/100SimulatedKernels2014SurvGrowth.csv\", header=T) %>%\n",
    "    mutate(year=as.character(year)) %>%\n",
    "    mutate(AdjSurv=\"yes\")\n",
    "\n",
    "Test2014 <- bind_rows(SimKernels2014, SimKernels2014SurvGrow) %>%\n",
    "    select(-iteration, -year) %>%\n",
    "    group_by(AdjSurv) %>%\n",
    "    summarise_each(funs(mean))\n",
    "\n",
    "Test2014 %>%\n",
    "    group_by(AdjSurv) %>%\n",
    "    filter(k==10 |k==-10 | theta==0.15 |theta== 8) %>% #how often are the fits at the boundary? as in, bad\n",
    "    summarise(NObsBad=n())"
   ]
  },
  {
   "cell_type": "code",
   "execution_count": 65,
   "metadata": {},
   "outputs": [
    {
     "data": {
      "text/plain": [
       "Time difference of 0.7374122 secs"
      ]
     },
     "metadata": {},
     "output_type": "display_data"
    }
   ],
   "source": [
    "#get a distribution of MDD from the combinations of theta and k \n",
    "\n",
    "col= \"mdd\"\n",
    "MDDSimCombined <- as.data.frame(matrix(nrow=nrow(CombinedSims), ncol=1))\n",
    "colnames(MDDSimCombined) <- col\n",
    "\n",
    "\n",
    "start <- Sys.time()\n",
    "for(i in 1:nrow(CombinedSims)){\n",
    "    \n",
    "    k_eval <- as.numeric(CombinedSims$k)[i]\n",
    "    theta_eval <- as.numeric(CombinedSims$theta)[i]\n",
    "    mdd_eval <-  as.data.frame(as.matrix(cubintegrate(integrate_kernel_sum1, lower = 0, upper = Inf, k=k_eval, theta=theta_eval, relTol = 1e-05,  method = \"pcubature\")$integral))\n",
    "    MDDSimCombined[i,] <- mdd_eval\n",
    "    \n",
    "    }\n",
    "\n",
    "MDDSimCombined <- bind_cols(CombinedSims, MDDSimCombined)\n",
    "end <- Sys.time()\n",
    "end-start\n",
    "#write.csv(MDDSimCombined, file=\"~/oceanography/script_output/KernelFits/MDDSimulatedKernelsCombined.csv\", quote=FALSE, row.names=F )\n",
    "\n"
   ]
  },
  {
   "cell_type": "code",
   "execution_count": 66,
   "metadata": {},
   "outputs": [
    {
     "name": "stderr",
     "output_type": "stream",
     "text": [
      "`summarise()` ungrouping output (override with `.groups` argument)\n"
     ]
    },
    {
     "data": {
      "text/html": [
       "<table>\n",
       "<thead><tr><th scope=col>year</th><th scope=col>NObsBad</th></tr></thead>\n",
       "<tbody>\n",
       "\t<tr><td>2012</td><td> 6  </td></tr>\n",
       "\t<tr><td>2014</td><td>20  </td></tr>\n",
       "\t<tr><td>all </td><td> 4  </td></tr>\n",
       "</tbody>\n",
       "</table>\n"
      ],
      "text/latex": [
       "\\begin{tabular}{r|ll}\n",
       " year & NObsBad\\\\\n",
       "\\hline\n",
       "\t 2012 &  6  \\\\\n",
       "\t 2014 & 20  \\\\\n",
       "\t all  &  4  \\\\\n",
       "\\end{tabular}\n"
      ],
      "text/markdown": [
       "\n",
       "| year | NObsBad |\n",
       "|---|---|\n",
       "| 2012 |  6   |\n",
       "| 2014 | 20   |\n",
       "| all  |  4   |\n",
       "\n"
      ],
      "text/plain": [
       "  year NObsBad\n",
       "1 2012  6     \n",
       "2 2014 20     \n",
       "3 all   4     "
      ]
     },
     "metadata": {},
     "output_type": "display_data"
    }
   ],
   "source": [
    "#does the proportion of bad fits relate to the number of particles sampled for the fit?\n",
    "MDDSummary <- CombinedSims %>%\n",
    "    group_by(year) %>%\n",
    "    filter(k==10 |k==-10 | theta==0.15 |theta== 8) %>% #how often are the fits at the boundary? as in, bad\n",
    "    summarise(NObsBad=n())\n",
    "MDDSummary"
   ]
  },
  {
   "cell_type": "code",
   "execution_count": 67,
   "metadata": {},
   "outputs": [
    {
     "data": {
      "text/html": [
       "<table>\n",
       "<thead><tr><th></th><th scope=col>year</th><th scope=col>k</th><th scope=col>theta</th><th scope=col>iteration</th></tr></thead>\n",
       "<tbody>\n",
       "\t<tr><th scope=row>424</th><td>all       </td><td>-2.6081592</td><td>1.5342722 </td><td>124       </td></tr>\n",
       "\t<tr><th scope=row>425</th><td>all       </td><td>-2.1743071</td><td>0.9784108 </td><td>125       </td></tr>\n",
       "\t<tr><th scope=row>426</th><td>all       </td><td>-1.6680786</td><td>0.7328154 </td><td>126       </td></tr>\n",
       "\t<tr><th scope=row>427</th><td>all       </td><td>-0.4772289</td><td>0.4585350 </td><td>127       </td></tr>\n",
       "\t<tr><th scope=row>428</th><td>all       </td><td>-2.6440792</td><td>1.3604075 </td><td>128       </td></tr>\n",
       "\t<tr><th scope=row>429</th><td>all       </td><td>-2.5315923</td><td>1.3027950 </td><td>129       </td></tr>\n",
       "</tbody>\n",
       "</table>\n"
      ],
      "text/latex": [
       "\\begin{tabular}{r|llll}\n",
       "  & year & k & theta & iteration\\\\\n",
       "\\hline\n",
       "\t424 & all        & -2.6081592 & 1.5342722  & 124       \\\\\n",
       "\t425 & all        & -2.1743071 & 0.9784108  & 125       \\\\\n",
       "\t426 & all        & -1.6680786 & 0.7328154  & 126       \\\\\n",
       "\t427 & all        & -0.4772289 & 0.4585350  & 127       \\\\\n",
       "\t428 & all        & -2.6440792 & 1.3604075  & 128       \\\\\n",
       "\t429 & all        & -2.5315923 & 1.3027950  & 129       \\\\\n",
       "\\end{tabular}\n"
      ],
      "text/markdown": [
       "\n",
       "| <!--/--> | year | k | theta | iteration |\n",
       "|---|---|---|---|---|\n",
       "| 424 | all        | -2.6081592 | 1.5342722  | 124        |\n",
       "| 425 | all        | -2.1743071 | 0.9784108  | 125        |\n",
       "| 426 | all        | -1.6680786 | 0.7328154  | 126        |\n",
       "| 427 | all        | -0.4772289 | 0.4585350  | 127        |\n",
       "| 428 | all        | -2.6440792 | 1.3604075  | 128        |\n",
       "| 429 | all        | -2.5315923 | 1.3027950  | 129        |\n",
       "\n"
      ],
      "text/plain": [
       "    year k          theta     iteration\n",
       "424 all  -2.6081592 1.5342722 124      \n",
       "425 all  -2.1743071 0.9784108 125      \n",
       "426 all  -1.6680786 0.7328154 126      \n",
       "427 all  -0.4772289 0.4585350 127      \n",
       "428 all  -2.6440792 1.3604075 128      \n",
       "429 all  -2.5315923 1.3027950 129      "
      ]
     },
     "metadata": {},
     "output_type": "display_data"
    }
   ],
   "source": [
    "tail(CombinedSims)"
   ]
  },
  {
   "cell_type": "code",
   "execution_count": 60,
   "metadata": {},
   "outputs": [
    {
     "name": "stderr",
     "output_type": "stream",
     "text": [
      "Warning message in min(x):\n",
      "“no non-missing arguments to min; returning Inf”Warning message in max(x):\n",
      "“no non-missing arguments to max; returning -Inf”"
     ]
    },
    {
     "ename": "ERROR",
     "evalue": "Error in hist.default(MDDAllYear$mdd, breaks = 100, main = NULL, xlab = \"Mean dispersal distance (km)\"): character(0)\n",
     "output_type": "error",
     "traceback": [
      "Error in hist.default(MDDAllYear$mdd, breaks = 100, main = NULL, xlab = \"Mean dispersal distance (km)\"): character(0)\nTraceback:\n",
      "1. hist(MDDAllYear$mdd, breaks = 100, main = NULL, xlab = \"Mean dispersal distance (km)\")",
      "2. hist.default(MDDAllYear$mdd, breaks = 100, main = NULL, xlab = \"Mean dispersal distance (km)\")",
      "3. stop(gettextf(\"hist.default: pretty() error, breaks=%s\", format(breaks)), \n .     domain = NA)"
     ]
    }
   ],
   "source": [
    "MDDAllYear <- CombinedSims %>% \n",
    "    filter(year==\"all\")\n",
    "#pdf(\"~/oceanography/script_output/KernelFits/Plots/MeanDispDistHist2012-14.pdf\")\n",
    "hist(MDDAllYear$mdd, breaks=100, main=NULL, xlab=\"Mean dispersal distance (km)\")\n",
    "#dev.off()\n",
    "summary(MDDAllYear$mdd)"
   ]
  },
  {
   "cell_type": "code",
   "execution_count": 83,
   "metadata": {},
   "outputs": [],
   "source": [
    "SimCombinedSummary <- MDDSimCombined %>% \n",
    "    mutate(SimKurtosis = ((gamma(5/theta)*gamma(1/theta))/gamma(3/theta)^2)-3)\n",
    "\n"
   ]
  },
  {
   "cell_type": "code",
   "execution_count": 84,
   "metadata": {},
   "outputs": [],
   "source": [
    "AverageFits <- SimCombinedSummary %>%\n",
    "    select(-iteration) %>%\n",
    "    group_by(year) %>%\n",
    "    summarise_each(funs(mean))\n",
    "\n",
    "#what if we toss out the borderline fits\n",
    "AverageFits2 <- SimCombinedSummary %>% \n",
    "    select(-iteration) %>%\n",
    "    filter(k!=10 & k !=-10 & theta!=0.15 & theta!= 8)  %>%\n",
    "    group_by(year) %>%\n",
    "    summarise_each(funs(mean))"
   ]
  },
  {
   "cell_type": "code",
   "execution_count": 104,
   "metadata": {},
   "outputs": [],
   "source": [
    "#read in the empirical data\n",
    "kernels <- read.csv(file=\"~/parentage/kernel_fitting/1340_loci/final_results/tables/kernel_fitting_summary.csv\", header=T, stringsAsFactors = F) %>%\n",
    "    mutate(GenKurtosis = ((gamma(5/best_theta)*gamma(1/best_theta))/gamma(3/best_theta)^2)-3) %>%\n",
    "    mutate(Year=ifelse(Year==\"2012-18\", \"all\", Year))"
   ]
  },
  {
   "cell_type": "code",
   "execution_count": 105,
   "metadata": {},
   "outputs": [
    {
     "data": {
      "text/html": [
       "<table>\n",
       "<thead><tr><th scope=col>Year</th><th scope=col>best_k</th><th scope=col>best_theta</th><th scope=col>k_CI95_lower</th><th scope=col>k_CI95_upper</th><th scope=col>theta_CI95_lower</th><th scope=col>theta_CI95_upper</th><th scope=col>MeanDispDist</th><th scope=col>MeanDispDist_CI95_lower</th><th scope=col>MeanDispDist_CI95_upper</th><th scope=col>NumParentageMatches</th><th scope=col>NumOffsSampled</th><th scope=col>PercentAssigned</th><th scope=col>MedianDispDist</th><th scope=col>Dist90Retained</th><th scope=col>MedianDispDist_CI95_lower</th><th scope=col>MedianDispDist_CI95_upper</th><th scope=col>GenKurtosis</th></tr></thead>\n",
       "<tbody>\n",
       "\t<tr><td>2012        </td><td>-2.36       </td><td>1.03        </td><td>-7.22       </td><td>-1.90       </td><td>0.48        </td><td>1.10        </td><td>10.16509    </td><td>0.000000    </td><td>1.367946e+26</td><td> 3          </td><td> 63         </td><td> 4.76       </td><td> 7.13       </td><td> 23.29      </td><td>3.19        </td><td>1.530115e+13</td><td>   2.7576387</td></tr>\n",
       "\t<tr><td>2013        </td><td> 4.04       </td><td>0.22        </td><td> 3.59       </td><td> 4.06       </td><td>0.20        </td><td>0.24        </td><td>69.58628    </td><td>7.978681    </td><td>1.233879e+05</td><td>21          </td><td>150         </td><td>14.00       </td><td>12.20       </td><td>157.36      </td><td>2.57        </td><td>2.061640e+03</td><td>1008.9403696</td></tr>\n",
       "\t<tr><td>2014        </td><td> 0.49       </td><td>0.38        </td><td>-0.26       </td><td> 0.81       </td><td>0.37        </td><td>0.40        </td><td>15.03751    </td><td>5.646667    </td><td>2.204186e+05</td><td>13          </td><td>181         </td><td> 7.18       </td><td> 5.53       </td><td> 38.13      </td><td>3.02        </td><td>2.984700e+03</td><td>  59.8625346</td></tr>\n",
       "\t<tr><td>2015        </td><td>-1.52       </td><td>0.67        </td><td>-2.08       </td><td>-1.13       </td><td>0.56        </td><td>0.70        </td><td>10.18022    </td><td>6.149556    </td><td>2.404633e+02</td><td>11          </td><td>111         </td><td> 9.91       </td><td> 5.82       </td><td> 24.91      </td><td>2.31        </td><td>1.118000e+01</td><td>   9.1264042</td></tr>\n",
       "\t<tr><td>2016        </td><td>-3.04       </td><td>5.00        </td><td>-3.07       </td><td>-2.88       </td><td>2.16        </td><td>5.00        </td><td>10.10079    </td><td>7.600055    </td><td>1.311733e+01</td><td> 6          </td><td>111         </td><td> 5.41       </td><td> 9.63       </td><td> 18.91      </td><td>5.85        </td><td>4.458000e+01</td><td>  -0.9299017</td></tr>\n",
       "\t<tr><td>2017        </td><td> 2.94       </td><td>0.26        </td><td> 2.66       </td><td> 3.64       </td><td>0.23        </td><td>0.26        </td><td>29.06210    </td><td>5.920487    </td><td>1.172967e+04</td><td>13          </td><td>130         </td><td>10.00       </td><td> 6.68       </td><td> 69.72      </td><td>3.03        </td><td>5.452225e+05</td><td> 363.3327201</td></tr>\n",
       "</tbody>\n",
       "</table>\n"
      ],
      "text/latex": [
       "\\begin{tabular}{r|llllllllllllllllll}\n",
       " Year & best\\_k & best\\_theta & k\\_CI95\\_lower & k\\_CI95\\_upper & theta\\_CI95\\_lower & theta\\_CI95\\_upper & MeanDispDist & MeanDispDist\\_CI95\\_lower & MeanDispDist\\_CI95\\_upper & NumParentageMatches & NumOffsSampled & PercentAssigned & MedianDispDist & Dist90Retained & MedianDispDist\\_CI95\\_lower & MedianDispDist\\_CI95\\_upper & GenKurtosis\\\\\n",
       "\\hline\n",
       "\t 2012         & -2.36        & 1.03         & -7.22        & -1.90        & 0.48         & 1.10         & 10.16509     & 0.000000     & 1.367946e+26 &  3           &  63          &  4.76        &  7.13        &  23.29       & 3.19         & 1.530115e+13 &    2.7576387\\\\\n",
       "\t 2013         &  4.04        & 0.22         &  3.59        &  4.06        & 0.20         & 0.24         & 69.58628     & 7.978681     & 1.233879e+05 & 21           & 150          & 14.00        & 12.20        & 157.36       & 2.57         & 2.061640e+03 & 1008.9403696\\\\\n",
       "\t 2014         &  0.49        & 0.38         & -0.26        &  0.81        & 0.37         & 0.40         & 15.03751     & 5.646667     & 2.204186e+05 & 13           & 181          &  7.18        &  5.53        &  38.13       & 3.02         & 2.984700e+03 &   59.8625346\\\\\n",
       "\t 2015         & -1.52        & 0.67         & -2.08        & -1.13        & 0.56         & 0.70         & 10.18022     & 6.149556     & 2.404633e+02 & 11           & 111          &  9.91        &  5.82        &  24.91       & 2.31         & 1.118000e+01 &    9.1264042\\\\\n",
       "\t 2016         & -3.04        & 5.00         & -3.07        & -2.88        & 2.16         & 5.00         & 10.10079     & 7.600055     & 1.311733e+01 &  6           & 111          &  5.41        &  9.63        &  18.91       & 5.85         & 4.458000e+01 &   -0.9299017\\\\\n",
       "\t 2017         &  2.94        & 0.26         &  2.66        &  3.64        & 0.23         & 0.26         & 29.06210     & 5.920487     & 1.172967e+04 & 13           & 130          & 10.00        &  6.68        &  69.72       & 3.03         & 5.452225e+05 &  363.3327201\\\\\n",
       "\\end{tabular}\n"
      ],
      "text/markdown": [
       "\n",
       "| Year | best_k | best_theta | k_CI95_lower | k_CI95_upper | theta_CI95_lower | theta_CI95_upper | MeanDispDist | MeanDispDist_CI95_lower | MeanDispDist_CI95_upper | NumParentageMatches | NumOffsSampled | PercentAssigned | MedianDispDist | Dist90Retained | MedianDispDist_CI95_lower | MedianDispDist_CI95_upper | GenKurtosis |\n",
       "|---|---|---|---|---|---|---|---|---|---|---|---|---|---|---|---|---|---|\n",
       "| 2012         | -2.36        | 1.03         | -7.22        | -1.90        | 0.48         | 1.10         | 10.16509     | 0.000000     | 1.367946e+26 |  3           |  63          |  4.76        |  7.13        |  23.29       | 3.19         | 1.530115e+13 |    2.7576387 |\n",
       "| 2013         |  4.04        | 0.22         |  3.59        |  4.06        | 0.20         | 0.24         | 69.58628     | 7.978681     | 1.233879e+05 | 21           | 150          | 14.00        | 12.20        | 157.36       | 2.57         | 2.061640e+03 | 1008.9403696 |\n",
       "| 2014         |  0.49        | 0.38         | -0.26        |  0.81        | 0.37         | 0.40         | 15.03751     | 5.646667     | 2.204186e+05 | 13           | 181          |  7.18        |  5.53        |  38.13       | 3.02         | 2.984700e+03 |   59.8625346 |\n",
       "| 2015         | -1.52        | 0.67         | -2.08        | -1.13        | 0.56         | 0.70         | 10.18022     | 6.149556     | 2.404633e+02 | 11           | 111          |  9.91        |  5.82        |  24.91       | 2.31         | 1.118000e+01 |    9.1264042 |\n",
       "| 2016         | -3.04        | 5.00         | -3.07        | -2.88        | 2.16         | 5.00         | 10.10079     | 7.600055     | 1.311733e+01 |  6           | 111          |  5.41        |  9.63        |  18.91       | 5.85         | 4.458000e+01 |   -0.9299017 |\n",
       "| 2017         |  2.94        | 0.26         |  2.66        |  3.64        | 0.23         | 0.26         | 29.06210     | 5.920487     | 1.172967e+04 | 13           | 130          | 10.00        |  6.68        |  69.72       | 3.03         | 5.452225e+05 |  363.3327201 |\n",
       "\n"
      ],
      "text/plain": [
       "  Year best_k best_theta k_CI95_lower k_CI95_upper theta_CI95_lower\n",
       "1 2012 -2.36  1.03       -7.22        -1.90        0.48            \n",
       "2 2013  4.04  0.22        3.59         4.06        0.20            \n",
       "3 2014  0.49  0.38       -0.26         0.81        0.37            \n",
       "4 2015 -1.52  0.67       -2.08        -1.13        0.56            \n",
       "5 2016 -3.04  5.00       -3.07        -2.88        2.16            \n",
       "6 2017  2.94  0.26        2.66         3.64        0.23            \n",
       "  theta_CI95_upper MeanDispDist MeanDispDist_CI95_lower MeanDispDist_CI95_upper\n",
       "1 1.10             10.16509     0.000000                1.367946e+26           \n",
       "2 0.24             69.58628     7.978681                1.233879e+05           \n",
       "3 0.40             15.03751     5.646667                2.204186e+05           \n",
       "4 0.70             10.18022     6.149556                2.404633e+02           \n",
       "5 5.00             10.10079     7.600055                1.311733e+01           \n",
       "6 0.26             29.06210     5.920487                1.172967e+04           \n",
       "  NumParentageMatches NumOffsSampled PercentAssigned MedianDispDist\n",
       "1  3                   63             4.76            7.13         \n",
       "2 21                  150            14.00           12.20         \n",
       "3 13                  181             7.18            5.53         \n",
       "4 11                  111             9.91            5.82         \n",
       "5  6                  111             5.41            9.63         \n",
       "6 13                  130            10.00            6.68         \n",
       "  Dist90Retained MedianDispDist_CI95_lower MedianDispDist_CI95_upper\n",
       "1  23.29         3.19                      1.530115e+13             \n",
       "2 157.36         2.57                      2.061640e+03             \n",
       "3  38.13         3.02                      2.984700e+03             \n",
       "4  24.91         2.31                      1.118000e+01             \n",
       "5  18.91         5.85                      4.458000e+01             \n",
       "6  69.72         3.03                      5.452225e+05             \n",
       "  GenKurtosis \n",
       "1    2.7576387\n",
       "2 1008.9403696\n",
       "3   59.8625346\n",
       "4    9.1264042\n",
       "5   -0.9299017\n",
       "6  363.3327201"
      ]
     },
     "metadata": {},
     "output_type": "display_data"
    }
   ],
   "source": [
    "head(kernels)"
   ]
  },
  {
   "cell_type": "code",
   "execution_count": 111,
   "metadata": {},
   "outputs": [
    {
     "name": "stderr",
     "output_type": "stream",
     "text": [
      "Warning message:\n",
      "“Removed 9 rows containing non-finite values (stat_ydensity).”Warning message:\n",
      "“Removed 1 rows containing missing values (geom_point).”Warning message:\n",
      "“Removed 9 rows containing non-finite values (stat_ydensity).”Warning message:\n",
      "“Removed 1 rows containing missing values (geom_point).”"
     ]
    },
    {
     "data": {
      "image/png": "[encoded data removed]",
      "text/plain": [
       "plot without title"
      ]
     },
     "metadata": {},
     "output_type": "display_data"
    }
   ],
   "source": [
    "cbbPalette <- c(\"#000000\", \"#E69F00\", \"#56B4E9\", \"#009E73\", \"#F0E442\", \"#0072B2\", \"#D55E00\", \"#CC79A7\")\n",
    "cbbPalette_rev <- rev(cbbPalette)\n",
    "\n",
    "mdd_violin <- ggplot(data=SimCombinedSummary, aes(x=year, y=mdd, color=year, fill=year), alpha=0.5) +\n",
    "    geom_violin() +\n",
    "    #geom_point(data=AverageFits2, aes(x=year, y=mdd), fill=\"snow\",color=\"darkgray\", shape=21) + #without borderline fits\n",
    "    geom_point(data=AverageFits, aes(x=year, y=mdd), fill=\"black \",color=\"darkgray\", shape=21) + # with all fits\n",
    "    geom_point(data=kernels %>% filter(Year %in% c(\"2012\", \"2013\", \"2014\", \"all\")), aes(x=Year, y=MeanDispDist), fill=\"black\",color=\"darkgray\", shape=24) + #genetic estimates\n",
    "    coord_flip() +\n",
    "    #scale_x_continuous(limits = c(0, 100), expand=c(0,0)) +\n",
    "    scale_y_continuous(limits = c(0, 83), expand = c(0,0))+\n",
    "    theme(panel.grid.major = element_blank(),\n",
    "    plot.margin=unit(c(0.2,0.2,0.2,0.2),\"cm\"),\n",
    "    panel.grid.minor = element_blank(), \n",
    "    panel.background = element_blank(), #,\n",
    "    axis.line = element_line(colour = \"black\")) +\n",
    "    xlab(\"Year\") + \n",
    "    ylab(\"Mean dispersal distance (km)\") +\n",
    "    theme(axis.text.x = element_text(size=8, color=\"black\", family=\"Helvetica\"),#15 for publication, 20 for presentation #element_text(size=15, color=\"black\", family=\"Helvetica\"),\n",
    "    axis.text.y =  element_text(size=8, color=\"black\", family=\"Helvetica\"),\n",
    "    axis.title.y =  element_text(size=10, color=\"black\", family=\"Helvetica\"), \n",
    "    axis.title.x =  element_text(size=10, color=\"black\", family=\"Helvetica\"),    \n",
    "    legend.position = \"none\") + \n",
    "    scale_colour_manual(values=cbbPalette_rev)+\n",
    "    scale_fill_manual(values=cbbPalette_rev)\n",
    "    #scale_y_continuous(breaks = 1:2000, labels = c(1:50,\"break\",1000:2000))\n",
    "mdd_violin\n",
    "ggplot2::ggsave(filename=\"SimMeanDispDistPlusGenPoints.png\",  plot=mdd_violin, width=83, height=70, units=\"mm\", path=\"~/oceanography/script_output/KernelFits/Plots/\")\n"
   ]
  },
  {
   "cell_type": "code",
   "execution_count": 81,
   "metadata": {},
   "outputs": [
    {
     "data": {
      "text/html": [
       "<table>\n",
       "<thead><tr><th scope=col>year</th><th scope=col>k</th><th scope=col>theta</th><th scope=col>mdd</th><th scope=col>kurtosis</th></tr></thead>\n",
       "<tbody>\n",
       "\t<tr><td>2012       </td><td>-1.393954  </td><td>1.262979   </td><td>132.061691 </td><td>1120.152715</td></tr>\n",
       "\t<tr><td>2013       </td><td>-1.242150  </td><td>0.804757   </td><td>  8.091848 </td><td>  13.967938</td></tr>\n",
       "\t<tr><td>2014       </td><td>-2.205898  </td><td>2.594447   </td><td> 23.772475 </td><td>  68.917290</td></tr>\n",
       "\t<tr><td>all        </td><td>-1.962497  </td><td>1.231269   </td><td> 10.310988 </td><td>   8.334333</td></tr>\n",
       "</tbody>\n",
       "</table>\n"
      ],
      "text/latex": [
       "\\begin{tabular}{r|lllll}\n",
       " year & k & theta & mdd & kurtosis\\\\\n",
       "\\hline\n",
       "\t 2012        & -1.393954   & 1.262979    & 132.061691  & 1120.152715\\\\\n",
       "\t 2013        & -1.242150   & 0.804757    &   8.091848  &   13.967938\\\\\n",
       "\t 2014        & -2.205898   & 2.594447    &  23.772475  &   68.917290\\\\\n",
       "\t all         & -1.962497   & 1.231269    &  10.310988  &    8.334333\\\\\n",
       "\\end{tabular}\n"
      ],
      "text/markdown": [
       "\n",
       "| year | k | theta | mdd | kurtosis |\n",
       "|---|---|---|---|---|\n",
       "| 2012        | -1.393954   | 1.262979    | 132.061691  | 1120.152715 |\n",
       "| 2013        | -1.242150   | 0.804757    |   8.091848  |   13.967938 |\n",
       "| 2014        | -2.205898   | 2.594447    |  23.772475  |   68.917290 |\n",
       "| all         | -1.962497   | 1.231269    |  10.310988  |    8.334333 |\n",
       "\n"
      ],
      "text/plain": [
       "  year k         theta    mdd        kurtosis   \n",
       "1 2012 -1.393954 1.262979 132.061691 1120.152715\n",
       "2 2013 -1.242150 0.804757   8.091848   13.967938\n",
       "3 2014 -2.205898 2.594447  23.772475   68.917290\n",
       "4 all  -1.962497 1.231269  10.310988    8.334333"
      ]
     },
     "metadata": {},
     "output_type": "display_data"
    },
    {
     "data": {
      "text/html": [
       "<table>\n",
       "<thead><tr><th scope=col>year</th><th scope=col>k</th><th scope=col>theta</th><th scope=col>mdd</th><th scope=col>kurtosis</th></tr></thead>\n",
       "<tbody>\n",
       "\t<tr><td>2012     </td><td>-1.828326</td><td>1.250510 </td><td>10.127328</td><td>15.518027</td></tr>\n",
       "\t<tr><td>2013     </td><td>-1.242150</td><td>0.804757 </td><td> 8.091848</td><td>13.967938</td></tr>\n",
       "\t<tr><td>2014     </td><td>-1.926596</td><td>1.243059 </td><td>26.376964</td><td>86.415760</td></tr>\n",
       "\t<tr><td>all      </td><td>-1.919426</td><td>1.014670 </td><td>10.219857</td><td> 8.635482</td></tr>\n",
       "</tbody>\n",
       "</table>\n"
      ],
      "text/latex": [
       "\\begin{tabular}{r|lllll}\n",
       " year & k & theta & mdd & kurtosis\\\\\n",
       "\\hline\n",
       "\t 2012      & -1.828326 & 1.250510  & 10.127328 & 15.518027\\\\\n",
       "\t 2013      & -1.242150 & 0.804757  &  8.091848 & 13.967938\\\\\n",
       "\t 2014      & -1.926596 & 1.243059  & 26.376964 & 86.415760\\\\\n",
       "\t all       & -1.919426 & 1.014670  & 10.219857 &  8.635482\\\\\n",
       "\\end{tabular}\n"
      ],
      "text/markdown": [
       "\n",
       "| year | k | theta | mdd | kurtosis |\n",
       "|---|---|---|---|---|\n",
       "| 2012      | -1.828326 | 1.250510  | 10.127328 | 15.518027 |\n",
       "| 2013      | -1.242150 | 0.804757  |  8.091848 | 13.967938 |\n",
       "| 2014      | -1.926596 | 1.243059  | 26.376964 | 86.415760 |\n",
       "| all       | -1.919426 | 1.014670  | 10.219857 |  8.635482 |\n",
       "\n"
      ],
      "text/plain": [
       "  year k         theta    mdd       kurtosis \n",
       "1 2012 -1.828326 1.250510 10.127328 15.518027\n",
       "2 2013 -1.242150 0.804757  8.091848 13.967938\n",
       "3 2014 -1.926596 1.243059 26.376964 86.415760\n",
       "4 all  -1.919426 1.014670 10.219857  8.635482"
      ]
     },
     "metadata": {},
     "output_type": "display_data"
    }
   ],
   "source": [
    "AverageFits\n",
    "AverageFits2"
   ]
  },
  {
   "cell_type": "code",
   "execution_count": 116,
   "metadata": {},
   "outputs": [],
   "source": [
    "SimPlusGenFits <- inner_join(AverageFits2, kernels %>% select(Year, best_k, best_theta, MeanDispDist, MedianDispDist) , by=c(year=\"Year\")) %>%\n",
    "    rename(SimK=\"k\", SimTheta=\"theta\", SimMDD=\"mdd\", GenK=\"best_k\", GenTheta=\"best_theta\", GenMDD=\"MeanDispDist\", GenMedDispDist=\"MedianDispDist\")\n",
    "\n",
    "#write.csv(SimPlusGenFits, file=\"~/oceanography/script_output/KernelFits/SimPlusGenKernelFits.csv\", row.names=F)"
   ]
  },
  {
   "cell_type": "code",
   "execution_count": 115,
   "metadata": {},
   "outputs": [
    {
     "data": {
      "text/html": [
       "<table>\n",
       "<thead><tr><th scope=col>year</th><th scope=col>SimK</th><th scope=col>SimTheta</th><th scope=col>SimMDD</th><th scope=col>SimKurtosis</th><th scope=col>GenK</th><th scope=col>GenTheta</th><th scope=col>GenMDD</th><th scope=col>GenMedDispDist</th></tr></thead>\n",
       "<tbody>\n",
       "\t<tr><td>2012     </td><td>-1.828326</td><td>1.250510 </td><td>10.127328</td><td>15.518027</td><td>-2.36    </td><td>1.03     </td><td>10.165094</td><td> 7.13    </td></tr>\n",
       "\t<tr><td>2013     </td><td>-1.242150</td><td>0.804757 </td><td> 8.091848</td><td>13.967938</td><td> 4.04    </td><td>0.22     </td><td>69.586280</td><td>12.20    </td></tr>\n",
       "\t<tr><td>2014     </td><td>-1.926596</td><td>1.243059 </td><td>26.376964</td><td>86.415760</td><td> 0.49    </td><td>0.38     </td><td>15.037515</td><td> 5.53    </td></tr>\n",
       "\t<tr><td>all      </td><td>-1.919426</td><td>1.014670 </td><td>10.219857</td><td> 8.635482</td><td>-2.51    </td><td>1.49     </td><td> 8.153016</td><td> 6.44    </td></tr>\n",
       "</tbody>\n",
       "</table>\n"
      ],
      "text/latex": [
       "\\begin{tabular}{r|lllllllll}\n",
       " year & SimK & SimTheta & SimMDD & SimKurtosis & GenK & GenTheta & GenMDD & GenMedDispDist\\\\\n",
       "\\hline\n",
       "\t 2012      & -1.828326 & 1.250510  & 10.127328 & 15.518027 & -2.36     & 1.03      & 10.165094 &  7.13    \\\\\n",
       "\t 2013      & -1.242150 & 0.804757  &  8.091848 & 13.967938 &  4.04     & 0.22      & 69.586280 & 12.20    \\\\\n",
       "\t 2014      & -1.926596 & 1.243059  & 26.376964 & 86.415760 &  0.49     & 0.38      & 15.037515 &  5.53    \\\\\n",
       "\t all       & -1.919426 & 1.014670  & 10.219857 &  8.635482 & -2.51     & 1.49      &  8.153016 &  6.44    \\\\\n",
       "\\end{tabular}\n"
      ],
      "text/markdown": [
       "\n",
       "| year | SimK | SimTheta | SimMDD | SimKurtosis | GenK | GenTheta | GenMDD | GenMedDispDist |\n",
       "|---|---|---|---|---|---|---|---|---|\n",
       "| 2012      | -1.828326 | 1.250510  | 10.127328 | 15.518027 | -2.36     | 1.03      | 10.165094 |  7.13     |\n",
       "| 2013      | -1.242150 | 0.804757  |  8.091848 | 13.967938 |  4.04     | 0.22      | 69.586280 | 12.20     |\n",
       "| 2014      | -1.926596 | 1.243059  | 26.376964 | 86.415760 |  0.49     | 0.38      | 15.037515 |  5.53     |\n",
       "| all       | -1.919426 | 1.014670  | 10.219857 |  8.635482 | -2.51     | 1.49      |  8.153016 |  6.44     |\n",
       "\n"
      ],
      "text/plain": [
       "  year SimK      SimTheta SimMDD    SimKurtosis GenK  GenTheta GenMDD   \n",
       "1 2012 -1.828326 1.250510 10.127328 15.518027   -2.36 1.03     10.165094\n",
       "2 2013 -1.242150 0.804757  8.091848 13.967938    4.04 0.22     69.586280\n",
       "3 2014 -1.926596 1.243059 26.376964 86.415760    0.49 0.38     15.037515\n",
       "4 all  -1.919426 1.014670 10.219857  8.635482   -2.51 1.49      8.153016\n",
       "  GenMedDispDist\n",
       "1  7.13         \n",
       "2 12.20         \n",
       "3  5.53         \n",
       "4  6.44         "
      ]
     },
     "metadata": {},
     "output_type": "display_data"
    }
   ],
   "source": [
    "(SimPlusGenFits)"
   ]
  },
  {
   "cell_type": "code",
   "execution_count": 95,
   "metadata": {},
   "outputs": [
    {
     "data": {
      "image/png": "[encoded data removed]",
      "text/plain": [
       "plot without title"
      ]
     },
     "metadata": {},
     "output_type": "display_data"
    }
   ],
   "source": [
    "plot(SimPlusGenFits$SimMDD~SimPlusGenFits$MeanDispDist)"
   ]
  },
  {
   "cell_type": "code",
   "execution_count": 97,
   "metadata": {},
   "outputs": [
    {
     "data": {
      "text/plain": [
       "\n",
       "\tPearson's product-moment correlation\n",
       "\n",
       "data:  SimPlusGenFits$SimMDD and SimPlusGenFits$MeanDispDist\n",
       "t = -0.53384, df = 2, p-value = 0.6468\n",
       "alternative hypothesis: true correlation is not equal to 0\n",
       "95 percent confidence interval:\n",
       " -0.9812079  0.9202897\n",
       "sample estimates:\n",
       "       cor \n",
       "-0.3531582 \n"
      ]
     },
     "metadata": {},
     "output_type": "display_data"
    },
    {
     "data": {
      "text/plain": [
       "\n",
       "\tPearson's product-moment correlation\n",
       "\n",
       "data:  SimPlusGenFits$SimTheta and SimPlusGenFits$GenTheta\n",
       "t = 0.32913, df = 2, p-value = 0.7733\n",
       "alternative hypothesis: true correlation is not equal to 0\n",
       "95 percent confidence interval:\n",
       " -0.9389710  0.9752907\n",
       "sample estimates:\n",
       "      cor \n",
       "0.2266754 \n"
      ]
     },
     "metadata": {},
     "output_type": "display_data"
    }
   ],
   "source": [
    "#test for correlations\n",
    "cor.test(SimPlusGenFits$SimMDD, SimPlusGenFits$MeanDispDist,  method = \"pearson\")\n",
    "cor.test(SimPlusGenFits$SimTheta, SimPlusGenFits$GenTheta,  method = \"pearson\")\n"
   ]
  },
  {
   "cell_type": "code",
   "execution_count": 17,
   "metadata": {},
   "outputs": [],
   "source": [
    "#seasons\n",
    "SimulatedKernelsNEM <-  read.csv(file=\"~/oceanography/script_output/KernelFits/100SimulatedKernelsNEM.csv\", header=T)\n",
    "SimulatedKernelsSWM <-  read.csv(file=\"~/oceanography/script_output/KernelFits/100SimulatedKernelsSWM.csv\", header=T)\n",
    "CombinedSeasons <- bind_rows(SimulatedKernelsNEM, SimulatedKernelsSWM) %>%\n",
    "    select(-iteration)"
   ]
  },
  {
   "cell_type": "code",
   "execution_count": 21,
   "metadata": {},
   "outputs": [
    {
     "data": {
      "text/plain": [
       "Time difference of 0.2395151 secs"
      ]
     },
     "metadata": {},
     "output_type": "display_data"
    }
   ],
   "source": [
    "#get a distribution of MDD from the combinations of theta and k \n",
    "\n",
    "col= \"mdd\"\n",
    "MDDSimCombinedSeas <- as.data.frame(matrix(nrow=nrow(CombinedSeasons), ncol=1))\n",
    "colnames(MDDSimCombinedSeas) <- col\n",
    "\n",
    "\n",
    "start <- Sys.time()\n",
    "for(i in 1:nrow(CombinedSeasons)){\n",
    "    \n",
    "    k_eval <- as.numeric(CombinedSeasons$k)[i]\n",
    "    theta_eval <- as.numeric(CombinedSeasons$theta)[i]\n",
    "    mdd_eval <-  as.data.frame(as.matrix(cubintegrate(integrate_kernel_sum1, lower = 0, upper = Inf, k=k_eval, theta=theta_eval, relTol = 1e-05,  method = \"pcubature\")$integral))\n",
    "    MDDSimCombinedSeas[i,] <- mdd_eval\n",
    "    \n",
    "    }\n",
    "\n",
    "MDDSimCombinedSeas <- bind_cols(CombinedSeasons, MDDSimCombinedSeas)\n",
    "end <- Sys.time()\n",
    "end-start\n",
    "#write.csv(MDDSimCombinedSeas, file=\"~/oceanography/script_output/KernelFits/MDDSimulatedKernelsCombinedSeasons.csv\", quote=FALSE, row.names=F )\n",
    "\n"
   ]
  },
  {
   "cell_type": "code",
   "execution_count": 25,
   "metadata": {},
   "outputs": [
    {
     "data": {
      "text/html": [
       "<table>\n",
       "<thead><tr><th scope=col>season</th><th scope=col>k</th><th scope=col>theta</th><th scope=col>mdd</th></tr></thead>\n",
       "<tbody>\n",
       "\t<tr><td>NEM      </td><td>-2.005686</td><td>1.081461 </td><td>10.108771</td></tr>\n",
       "\t<tr><td>SWM      </td><td>-2.386560</td><td>1.337738 </td><td> 8.701934</td></tr>\n",
       "</tbody>\n",
       "</table>\n"
      ],
      "text/latex": [
       "\\begin{tabular}{r|llll}\n",
       " season & k & theta & mdd\\\\\n",
       "\\hline\n",
       "\t NEM       & -2.005686 & 1.081461  & 10.108771\\\\\n",
       "\t SWM       & -2.386560 & 1.337738  &  8.701934\\\\\n",
       "\\end{tabular}\n"
      ],
      "text/markdown": [
       "\n",
       "| season | k | theta | mdd |\n",
       "|---|---|---|---|\n",
       "| NEM       | -2.005686 | 1.081461  | 10.108771 |\n",
       "| SWM       | -2.386560 | 1.337738  |  8.701934 |\n",
       "\n"
      ],
      "text/plain": [
       "  season k         theta    mdd      \n",
       "1 NEM    -2.005686 1.081461 10.108771\n",
       "2 SWM    -2.386560 1.337738  8.701934"
      ]
     },
     "metadata": {},
     "output_type": "display_data"
    },
    {
     "name": "stderr",
     "output_type": "stream",
     "text": [
      "`summarise()` ungrouping output (override with `.groups` argument)\n"
     ]
    },
    {
     "data": {
      "text/html": [
       "<table>\n",
       "<thead><tr><th scope=col>season</th><th scope=col>NObsBad</th></tr></thead>\n",
       "<tbody>\n",
       "\t<tr><td>NEM</td><td>1  </td></tr>\n",
       "</tbody>\n",
       "</table>\n"
      ],
      "text/latex": [
       "\\begin{tabular}{r|ll}\n",
       " season & NObsBad\\\\\n",
       "\\hline\n",
       "\t NEM & 1  \\\\\n",
       "\\end{tabular}\n"
      ],
      "text/markdown": [
       "\n",
       "| season | NObsBad |\n",
       "|---|---|\n",
       "| NEM | 1   |\n",
       "\n"
      ],
      "text/plain": [
       "  season NObsBad\n",
       "1 NEM    1      "
      ]
     },
     "metadata": {},
     "output_type": "display_data"
    }
   ],
   "source": [
    "MDDSimCombinedSeas %>%\n",
    "    group_by(season) %>%\n",
    "    summarise_each(funs(mean))\n",
    "\n",
    "MDDSimCombinedSeas %>%\n",
    "    group_by(season) %>%\n",
    "    filter(k==10 |k==-10 | theta==0.15 |theta== 8) %>% #how often are the fits at the boundary? as in, bad\n",
    "    summarise(NObsBad=n())"
   ]
  },
  {
   "cell_type": "code",
   "execution_count": 24,
   "metadata": {},
   "outputs": [
    {
     "data": {
      "text/html": [
       "<table>\n",
       "<thead><tr><th scope=col>Season</th><th scope=col>RecruitSizeAtSampling</th><th scope=col>best_k</th><th scope=col>best_theta</th><th scope=col>k_CI95_lower</th><th scope=col>k_CI95_upper</th><th scope=col>theta_CI95_lower</th><th scope=col>theta_CI95_upper</th><th scope=col>MeanDispersalDistance</th><th scope=col>MeanDispDist_CI95_lower</th><th scope=col>MeanDispDist_CI95_upper</th><th scope=col>MedianDispersalDistance</th><th scope=col>MedianDispDist_CI95_lower</th><th scope=col>MedianDispDist_CI95_upper</th><th scope=col>Dist90Retained</th></tr></thead>\n",
       "<tbody>\n",
       "\t<tr><td>SWM                                               </td><td>&gt; 4.5 cm                                       </td><td>-2.60                                             </td><td>1.58                                              </td><td>-2.63                                             </td><td>-2.47                                             </td><td>1.34                                              </td><td>1.59                                              </td><td>8.574871                                          </td><td>7.132250                                          </td><td><span style=white-space:pre-wrap>  10.39623</span></td><td>6.87                                              </td><td>4.93                                              </td><td><span style=white-space:pre-wrap>  9.28</span>    </td><td>18.32                                             </td></tr>\n",
       "\t<tr><td>NEM        </td><td>&lt; 3.5 cm</td><td>-0.89      </td><td>0.56       </td><td>-1.46      </td><td>-0.74      </td><td>0.54       </td><td>0.61       </td><td>9.446898   </td><td>6.014163   </td><td>4272.46841 </td><td>4.82       </td><td>3.24       </td><td>323.37     </td><td>23.60      </td></tr>\n",
       "</tbody>\n",
       "</table>\n"
      ],
      "text/latex": [
       "\\begin{tabular}{r|lllllllllllllll}\n",
       " Season & RecruitSizeAtSampling & best\\_k & best\\_theta & k\\_CI95\\_lower & k\\_CI95\\_upper & theta\\_CI95\\_lower & theta\\_CI95\\_upper & MeanDispersalDistance & MeanDispDist\\_CI95\\_lower & MeanDispDist\\_CI95\\_upper & MedianDispersalDistance & MedianDispDist\\_CI95\\_lower & MedianDispDist\\_CI95\\_upper & Dist90Retained\\\\\n",
       "\\hline\n",
       "\t SWM        & > 4.5 cm   & -2.60      & 1.58       & -2.63      & -2.47      & 1.34       & 1.59       & 8.574871   & 7.132250   &   10.39623 & 6.87       & 4.93       &   9.28     & 18.32     \\\\\n",
       "\t NEM        & < 3.5 cm   & -0.89      & 0.56       & -1.46      & -0.74      & 0.54       & 0.61       & 9.446898   & 6.014163   & 4272.46841 & 4.82       & 3.24       & 323.37     & 23.60     \\\\\n",
       "\\end{tabular}\n"
      ],
      "text/markdown": [
       "\n",
       "| Season | RecruitSizeAtSampling | best_k | best_theta | k_CI95_lower | k_CI95_upper | theta_CI95_lower | theta_CI95_upper | MeanDispersalDistance | MeanDispDist_CI95_lower | MeanDispDist_CI95_upper | MedianDispersalDistance | MedianDispDist_CI95_lower | MedianDispDist_CI95_upper | Dist90Retained |\n",
       "|---|---|---|---|---|---|---|---|---|---|---|---|---|---|---|\n",
       "| SWM        | > 4.5 cm   | -2.60      | 1.58       | -2.63      | -2.47      | 1.34       | 1.59       | 8.574871   | 7.132250   |   10.39623 | 6.87       | 4.93       |   9.28     | 18.32      |\n",
       "| NEM        | < 3.5 cm   | -0.89      | 0.56       | -1.46      | -0.74      | 0.54       | 0.61       | 9.446898   | 6.014163   | 4272.46841 | 4.82       | 3.24       | 323.37     | 23.60      |\n",
       "\n"
      ],
      "text/plain": [
       "  Season RecruitSizeAtSampling best_k best_theta k_CI95_lower k_CI95_upper\n",
       "1 SWM    > 4.5 cm              -2.60  1.58       -2.63        -2.47       \n",
       "2 NEM    < 3.5 cm              -0.89  0.56       -1.46        -0.74       \n",
       "  theta_CI95_lower theta_CI95_upper MeanDispersalDistance\n",
       "1 1.34             1.59             8.574871             \n",
       "2 0.54             0.61             9.446898             \n",
       "  MeanDispDist_CI95_lower MeanDispDist_CI95_upper MedianDispersalDistance\n",
       "1 7.132250                  10.39623              6.87                   \n",
       "2 6.014163                4272.46841              4.82                   \n",
       "  MedianDispDist_CI95_lower MedianDispDist_CI95_upper Dist90Retained\n",
       "1 4.93                        9.28                    18.32         \n",
       "2 3.24                      323.37                    23.60         "
      ]
     },
     "metadata": {},
     "output_type": "display_data"
    }
   ],
   "source": [
    "SeasonalKernels <- read.csv(file=\"~/parentage/kernel_fitting/1340_loci/final_results/tables/RecruitSizeAsSeasonlity_summary.csv\", header=T)\n",
    "head(SeasonalKernels)"
   ]
  },
  {
   "cell_type": "code",
   "execution_count": null,
   "metadata": {},
   "outputs": [],
   "source": []
  }
 ],
 "metadata": {
  "kernelspec": {
   "display_name": "R",
   "language": "R",
   "name": "ir"
  },
  "language_info": {
   "codemirror_mode": "r",
   "file_extension": ".r",
   "mimetype": "text/x-r-source",
   "name": "R",
   "pygments_lexer": "r",
   "version": "3.6.1"
  }
 },
 "nbformat": 4,
 "nbformat_minor": 4
}
