{
 "cells": [
  {
   "cell_type": "code",
   "execution_count": 11,
   "metadata": {},
   "outputs": [],
   "source": [
    "Packages <- c(\"nleqslv\", \"broom\",\"cubature\", \"geosphere\", \"data.table\",  \"ggplot2\", \"bbmle\", \"dplyr\",\"tidyr\", \"stringr\", \"tidyverse\", \"lubridate\", \"RColorBrewer\")\n",
    "\n",
    "invisible(suppressPackageStartupMessages(lapply(Packages, library, character.only = TRUE)))\n",
    "\n",
    "setwd('/local/home/katrinac/oceanography')\n",
    "\"%!in%\" <- function(x,table) match(x,table, nomatch = 0) == 0\n",
    "source(\"~/parentage/kernel_fitting/1340_loci/functions/ll_kt_both_bbmle.R\")\n",
    "source(\"~/parentage/kernel_fitting/1340_loci/functions/GenGausKernInt_sum0.5.R\") #integrate_kernel_sum1\n",
    "source(\"~/parentage/kernel_fitting/1340_loci/functions/GenGausKernInt_sum1.R\") #integrate_kernel_sum0.5\n",
    "source(\"~/parentage/kernel_fitting/1340_loci/functions/cdf_solve.R\") #median\n",
    "source(\"~/parentage/kernel_fitting/1340_loci/functions/cdf_solve90.R\") #dist 90% retained\n",
    "source(\"~/parentage/kernel_fitting/1340_loci/functions/GenGausKernPDF.R\")\n",
    "#define my own cv function\n",
    "cv <- function(x){\n",
    "    sd(x)/mean(x)\n",
    "}\n",
    "#make a mean dispersal distance function that can be applied to a DT rather than for loop method I've used in the past\n",
    "\n",
    "mean_disp_dist <- function(k, theta){\n",
    "    \n",
    "x <- as.numeric(cubintegrate(integrate_kernel_sum1, lower = 0, upper = Inf, k=k, theta=theta, , method = \"pcubature\")$integral)\n",
    "\n",
    "return(x)\n",
    "\n",
    "}"
   ]
  },
  {
   "cell_type": "code",
   "execution_count": null,
   "metadata": {},
   "outputs": [],
   "source": []
  },
  {
   "cell_type": "code",
   "execution_count": null,
   "metadata": {},
   "outputs": [],
   "source": []
  },
  {
   "cell_type": "code",
   "execution_count": 12,
   "metadata": {},
   "outputs": [
    {
     "ename": "ERROR",
     "evalue": "Error in .checkTypos(e, names(x)): Object 'log_like' not found amongst V1, 0.1, 0.11, 0.12, 0.13 and 487 more\n",
     "output_type": "error",
     "traceback": [
      "Error in .checkTypos(e, names(x)): Object 'log_like' not found amongst V1, 0.1, 0.11, 0.12, 0.13 and 487 more\nTraceback:\n",
      "1. ProfileGen2012[log_like < cutoff_Gen2012]",
      "2. `[.data.table`(ProfileGen2012, log_like < cutoff_Gen2012)",
      "3. tryCatch(eval(.massagei(isub), x, parent.frame()), error = function(e) .checkTypos(e, \n .     names(x)))",
      "4. tryCatchList(expr, classes, parentenv, handlers)",
      "5. tryCatchOne(expr, names, parentenv, handlers[[1L]])",
      "6. value[[3L]](cond)",
      "7. .checkTypos(e, names(x))",
      "8. stop(\"Object '\", used, \"' not found amongst \", paste(head(ref, \n .     5L), collapse = \", \"), if (length(ref) <= 5L) \"\" else paste(\" and\", \n .     length(ref) - 5L, \"more\"))"
     ]
    }
   ],
   "source": [
    "#read in the simulation kernel fits\n",
    "SimKernels <- fread(\"~/oceanography/script_output/KernelFits/SimulationKernelFits.csv\")\n",
    "#setnames(SimKernels, c(\"TimeID\", \"TimeScale\"), c(\"time_id\", \"time_scale\")) #from now on, DTs will be named LikeThis, vectors (including colnames and row ids) will be like_this- until I get around to making that consistent in every script, rename here\n",
    "#read in the Genetics kernel fits with the same reef metadata structure\n",
    "GenKernels <- fread(\"~/oceanography/script_output/KernelFits/GeneticKernelFits.csv\")\n",
    "\n",
    "#read in the likelihood surfaces tables\n",
    "#Geneticss\n",
    "ProfileGen2012 <- fread(file=\"~/oceanography/script_output/KernelFits/LikelihoodProfileGenetic2012.csv\", header = T)\n",
    "#setnames(ProfileGen2012, \"V1\", \"k_eval\")\n",
    "#melt into long format\n",
    "#ProfileGen2012 <- melt(ProfileGen2012, id.vars = c(\"k_eval\"), variable.name = \"theta_eval\", value.name = \"log_like\")[, theta_eval := as.numeric(as.character(theta_eval))]\n",
    "\n",
    "ProfileGen2013 <- fread(file=\"~/oceanography/script_output/KernelFits/LikelihoodProfileGenetic2013.csv\", header = T)\n",
    "setnames(ProfileGen2013, \"V1\", \"k_eval\")\n",
    "#melt into long format\n",
    "ProfileGen2013 <- melt(ProfileGen2013, id.vars = c(\"k_eval\"), variable.name = \"theta_eval\", value.name = \"log_like\")[, theta_eval := as.numeric(as.character(theta_eval))]\n",
    "\n",
    "ProfileGen2014 <- fread(file=\"~/oceanography/script_output/KernelFits/LikelihoodProfileGenetic2014.csv\", header = T)\n",
    "setnames(ProfileGen2014, \"V1\", \"k_eval\")\n",
    "#melt into long format\n",
    "ProfileGen2014 <- melt(ProfileGen2014, id.vars = c(\"k_eval\"), variable.name = \"theta_eval\", value.name = \"log_like\")[, theta_eval := as.numeric(as.character(theta_eval))]\n",
    "\n",
    "ProfileGen2012_4 <- fread(file=\"~/oceanography/script_output/KernelFits/LikelihoodProfileGenetic2012-4.csv\", header = T)\n",
    "setnames(ProfileGen2012_4, \"V1\", \"k_eval\")\n",
    "#melt into long format\n",
    "ProfileGen2012_4 <- melt(ProfileGen2012_4, id.vars = c(\"k_eval\"), variable.name = \"theta_eval\", value.name = \"log_like\")[, theta_eval := as.numeric(as.character(theta_eval))]\n",
    "\n",
    "ProfileGenNEM <- fread(file=\"~/oceanography/script_output/KernelFits/LikelihoodProfileGeneticNEM.csv\", header = T)\n",
    "setnames(ProfileGenNEM, \"V1\", \"k_eval\")\n",
    "#melt into long format\n",
    "ProfileGenNEM <- melt(ProfileGenNEM, id.vars = c(\"k_eval\"), variable.name = \"theta_eval\", value.name = \"log_like\")[, theta_eval := as.numeric(as.character(theta_eval))]\n",
    "\n",
    "ProfileGenSWM <- fread(file=\"~/oceanography/script_output/KernelFits/LikelihoodProfileGeneticSWM.csv\", header = T)\n",
    "setnames(ProfileGenSWM, \"V1\", \"k_eval\")\n",
    "#melt into long format\n",
    "ProfileGenSWM <- melt(ProfileGenSWM, id.vars = c(\"k_eval\"), variable.name = \"theta_eval\", value.name = \"log_like\")[, theta_eval := as.numeric(as.character(theta_eval))]\n",
    "\n",
    "#ROMS simulations\n",
    "ProfileSim2012 <- fread(file=\"~/oceanography/script_output/KernelFits/LikelihoodProfileBiophysical2012NarrowSearch.csv\", header = T)\n",
    "setnames(ProfileSim2012, \"V1\", \"k_eval\")\n",
    "#melt into long format\n",
    "ProfileSim2012 <- melt(ProfileSim2012, id.vars = c(\"k_eval\"), variable.name = \"theta_eval\", value.name = \"log_like\")[, theta_eval := as.numeric(as.character(theta_eval))]#[, log_like := -log_like]\n",
    "\n",
    "ProfileSim2013 <- fread(file=\"~/oceanography/script_output/KernelFits/LikelihoodProfileBiophysical2013.csv\", header = T)\n",
    "setnames(ProfileSim2013, \"V1\", \"k_eval\")\n",
    "#melt into long format\n",
    "ProfileSim2013 <- melt(ProfileSim2013, id.vars = c(\"k_eval\"), variable.name = \"theta_eval\", value.name = \"log_like\")[, theta_eval := as.numeric(as.character(theta_eval))]\n",
    "\n",
    "ProfileSim2014 <- fread(file=\"~/oceanography/script_output/KernelFits/LikelihoodProfileBiophysical2014.csv\", header = T)\n",
    "setnames(ProfileSim2014, \"V1\", \"k_eval\")\n",
    "#melt into long format\n",
    "ProfileSim2014 <- melt(ProfileSim2014, id.vars = c(\"k_eval\"), variable.name = \"theta_eval\", value.name = \"log_like\")[, theta_eval := as.numeric(as.character(theta_eval))]\n",
    "\n",
    "ProfileSim2012_4 <- fread(file=\"~/oceanography/script_output/KernelFits/LikelihoodProfileBiophysical2012-4.csv\", header = T)\n",
    "setnames(ProfileSim2012_4, \"V1\", \"k_eval\")\n",
    "#melt into long format\n",
    "ProfileSim2012_4 <- melt(ProfileSim2012_4, id.vars = c(\"k_eval\"), variable.name = \"theta_eval\", value.name = \"log_like\")[, theta_eval := as.numeric(as.character(theta_eval))]\n",
    "\n",
    "ProfileSimNEM <- fread(file=\"~/oceanography/script_output/KernelFits/LikelihoodProfileBiophysicalNEM.csv\", header = T)\n",
    "setnames(ProfileSimNEM, \"V1\", \"k_eval\")\n",
    "#melt into long format\n",
    "ProfileSimNEM <- melt(ProfileSimNEM, id.vars = c(\"k_eval\"), variable.name = \"theta_eval\", value.name = \"log_like\")[, theta_eval := as.numeric(as.character(theta_eval))]\n",
    "\n",
    "ProfileSimSWM <- fread(file=\"~/oceanography/script_output/KernelFits/LikelihoodProfileBiophysicalSWM.csv\", header = T)\n",
    "setnames(ProfileSimSWM, \"V1\", \"k_eval\")\n",
    "#melt into long format\n",
    "ProfileSimSWM <- melt(ProfileSimSWM, id.vars = c(\"k_eval\"), variable.name = \"theta_eval\", value.name = \"log_like\")[, theta_eval := as.numeric(as.character(theta_eval))]\n",
    "\n",
    "#ensure the likelihood surfaces found the same best fit as the bbmle optimization for both simulation and Geneticss\n",
    "#done\n",
    "#calculate the 95% likelihood surface cutoffs. Use the log_like from the bbmle function because that's more precise. in the grid search function used for the surfaces, k/theta are limited to 2 decimal places because it's less computation time, but in some cases that means the MLE is from an artificial local optimum that only exists because decimal places are truncated\n",
    "#genetics\n",
    "cutoff_Gen2012 <- -(GenKernels[time_id==\"2012\", log_like]) + qchisq(0.95, 2)/2 #use the 95% quantile of the chi-sq distribution with two df because it's bivariate\n",
    "#pull out the values above the cutoff\n",
    "ProfileGen2012_CI95 <- ProfileGen2012[log_like < cutoff_Gen2012][, `:=`(data_source=\"genetics\", time_id=\"2012\", cutoff=cutoff_Gen2012, best_k=GenKernels[time_id==\"2012\", k], best_theta=GenKernels[time_id==\"2012\", theta])]\n",
    "\n",
    "cutoff_Gen2013 <- -(GenKernels[time_id==\"2013\", log_like]) + qchisq(0.95, 2)/2 #use the 95% quantile of the chi-sq distribution with two df because it's bivariate\n",
    "#pull out the values above the cutoff\n",
    "ProfileGen2013_CI95 <- ProfileGen2013[log_like < cutoff_Gen2013][, `:=`(data_source=\"genetics\", time_id=\"2013\", cutoff=cutoff_Gen2013, best_k=GenKernels[time_id==\"2013\", k], best_theta=GenKernels[time_id==\"2013\", theta])]\n",
    "\n",
    "cutoff_Gen2014 <- -(GenKernels[time_id==\"2014\", log_like]) + qchisq(0.95, 2)/2 #use the 95% quantile of the chi-sq distribution with two df because it's bivariate\n",
    "#pull out the values above the cutoff\n",
    "ProfileGen2014_CI95 <- ProfileGen2014[log_like < cutoff_Gen2014][, `:=`(data_source=\"genetics\", time_id=\"2014\", cutoff=cutoff_Gen2014, best_k=GenKernels[time_id==\"2014\", k], best_theta=GenKernels[time_id==\"2014\", theta])]\n",
    "\n",
    "cutoff_Gen2012_4 <- -(GenKernels[time_id==\"2012-4\", log_like]) + qchisq(0.95, 2)/2 #use the 95% quantile of the chi-sq distribution with two df because it's bivariate\n",
    "#pull out the values above the cutoff\n",
    "ProfileGen2012_4_CI95 <- ProfileGen2012_4[log_like < cutoff_Gen2012_4][, `:=`(data_source=\"genetics\", time_id=\"2012-4\", cutoff=cutoff_Gen2012_4,  best_k=GenKernels[time_id==\"2012-4\", k], best_theta=GenKernels[time_id==\"2012-4\", theta])]\n",
    "\n",
    "cutoff_GenNEM <- -(GenKernels[time_id==\"NEM\", log_like]) + qchisq(0.95, 2)/2 #use the 95% quantile of the chi-sq distribution with two df because it's bivariate\n",
    "#pull out the values above the cutoff\n",
    "ProfileGenNEM_CI95 <- ProfileGenNEM[log_like < cutoff_GenNEM][, `:=`(data_source=\"genetics\", time_id=\"NEM\", cutoff=cutoff_GenNEM, best_k=GenKernels[time_id==\"NEM\", k], best_theta=GenKernels[time_id==\"NEM\", theta])]\n",
    "\n",
    "cutoff_GenSWM <- -(GenKernels[time_id==\"SWM\", log_like]) + qchisq(0.95, 2)/2 #use the 95% quantile of the chi-sq distribution with two df because it's bivariate\n",
    "#pull out the values above the cutoff\n",
    "ProfileGenSWM_CI95 <- ProfileGenSWM[log_like < cutoff_GenSWM][, `:=`(data_source=\"genetics\", time_id=\"SWM\", cutoff=cutoff_GenSWM, best_k=GenKernels[time_id==\"SWM\", k], best_theta=GenKernels[time_id==\"SWM\", theta])]\n",
    "\n",
    "#biophysical simulation\n",
    "cutoff_Sim2012 <- -(SimKernels[time_id==\"2012\", log_like]) + qchisq(0.95, 2)/2 #use the 95% quantile of the chi-sq distribution with two df because it's bivariate\n",
    "#pull out the values above the cutoff\n",
    "#ProfileSim2012_CI95 <- ProfileSim2012[log_like < cutoff_Sim2012][, `:=`(data_source=\"simulation\", time_id=\"2012\", cutoff=cutoff_Sim2012, best_k=SimKernels[time_id==\"2012\", k], best_theta=SimKernels[time_id==\"2012\", theta])]\n",
    "ProfileSim2012_CI95 <- ProfileSim2012[, `:=`(data_source=\"simulation\", time_id=\"2012\", cutoff=cutoff_Sim2012, best_k=SimKernels[time_id==\"2012\", k], best_theta=SimKernels[time_id==\"2012\", theta])]\n",
    "\n",
    "cutoff_Sim2013 <- -(SimKernels[time_id==\"2013\", log_like]) + qchisq(0.95, 2)/2 #use the 95% quantile of the chi-sq distribution with two df because it's bivariate\n",
    "#pull out the values above the cutoff\n",
    "#ProfileSim2013_CI95 <- ProfileSim2013[log_like < cutoff_Sim2013][, `:=`(data_source=\"simulation\", time_id=\"2013\", cutoff=cutoff_Sim2013, best_k=SimKernels[time_id==\"2013\", k], best_theta=SimKernels[time_id==\"2013\", theta])]\n",
    "ProfileSim2013_CI95 <- ProfileSim2013[, `:=`(data_source=\"simulation\", time_id=\"2013\", cutoff=cutoff_Sim2013, best_k=SimKernels[time_id==\"2013\", k], best_theta=SimKernels[time_id==\"2013\", theta])]\n",
    "\n",
    "cutoff_Sim2014 <- -(SimKernels[time_id==\"2014\", log_like]) + qchisq(0.95, 2)/2 #use the 95% quantile of the chi-sq distribution with two df because it's bivariate\n",
    "#pull out the values above the cutoff\n",
    "#ProfileSim2014_CI95 <- ProfileSim2014[log_like < cutoff_Sim2014][, `:=`(data_source=\"simulation\", time_id=\"2014\", cutoff=cutoff_Sim2014,  best_k=SimKernels[time_id==\"2014\", k], best_theta=SimKernels[time_id==\"2014\", theta])]\n",
    "ProfileSim2014_CI95 <- ProfileSim2014[, `:=`(data_source=\"simulation\", time_id=\"2014\", cutoff=cutoff_Sim2014,  best_k=SimKernels[time_id==\"2014\", k], best_theta=SimKernels[time_id==\"2014\", theta])]\n",
    "\n",
    "cutoff_Sim2012_4 <- -(SimKernels[time_id==\"2012-4\", log_like]) + qchisq(0.95, 2)/2 #use the 95% quantile of the chi-sq distribution with two df because it's bivariate\n",
    "#pull out the values above the cutoff\n",
    "#ProfileSim2012_4_CI95 <- ProfileSim2012_4[log_like < cutoff_Sim2012_4][, `:=`(data_source=\"simulation\", time_id=\"2012-4\", cutoff=cutoff_Sim2012_4,  best_k=SimKernels[time_id==\"2012-4\", k], best_theta=SimKernels[time_id==\"2012-4\", theta])]\n",
    "ProfileSim2012_4_CI95 <- ProfileSim2012_4[, `:=`(data_source=\"simulation\", time_id=\"2012-4\", cutoff=cutoff_Sim2012_4,  best_k=SimKernels[time_id==\"2012-4\", k], best_theta=SimKernels[time_id==\"2012-4\", theta])]\n",
    "\n",
    "cutoff_SimNEM <- -(SimKernels[time_id==\"NEM\", log_like]) + qchisq(0.95, 2)/2 #use the 95% quantile of the chi-sq distribution with two df because it's bivariate\n",
    "#pull out the values above the cutoff\n",
    "#ProfileSimNEM_CI95 <- ProfileSimNEM[log_like < cutoff_SimNEM][, `:=`(data_source=\"simulation\", time_id=\"NEM\", cutoff=cutoff_SimNEM,  best_k=SimKernels[time_id==\"NEM\", k], best_theta=SimKernels[time_id==\"NEM\", theta])]\n",
    "ProfileSimNEM_CI95 <- ProfileSimNEM[, `:=`(data_source=\"simulation\", time_id=\"NEM\", cutoff=cutoff_SimNEM,  best_k=SimKernels[time_id==\"NEM\", k], best_theta=SimKernels[time_id==\"NEM\", theta])]\n",
    "\n",
    "cutoff_SimSWM <- -(SimKernels[time_id==\"SWM\", log_like]) + qchisq(0.95, 2)/2 #use the 95% quantile of the chi-sq distribution with two df because it's bivariate\n",
    "#pull out the values above the cutoff\n",
    "#ProfileSimSWM_CI95 <- ProfileSimSWM[log_like < cutoff_SimSWM][, `:=`(data_source=\"simulation\", time_id=\"SWM\", cutoff=cutoff_SimSWM,  best_k=SimKernels[time_id==\"SWM\", k], best_theta=SimKernels[time_id==\"SWM\", theta])]\n",
    "ProfileSimSWM_CI95 <- ProfileSimSWM[, `:=`(data_source=\"simulation\", time_id=\"SWM\", cutoff=cutoff_SimSWM,  best_k=SimKernels[time_id==\"SWM\", k], best_theta=SimKernels[time_id==\"SWM\", theta])]\n",
    "\n"
   ]
  },
  {
   "cell_type": "code",
   "execution_count": 23,
   "metadata": {},
   "outputs": [],
   "source": [
    "ProfileSim2012 <- fread(file=\"~/oceanography/script_output/KernelFits/LikelihoodProfileBiophysical2012.csv\", header = T)\n"
   ]
  },
  {
   "cell_type": "code",
   "execution_count": 24,
   "metadata": {},
   "outputs": [
    {
     "data": {
      "text/html": [
       "<table>\n",
       "<thead><tr><th scope=col>k_eval</th><th scope=col>theta_eval</th><th scope=col>log_like</th></tr></thead>\n",
       "<tbody>\n",
       "\t<tr><td>-10.000000</td><td>0.1       </td><td>358155.1  </td></tr>\n",
       "\t<tr><td> -9.989995</td><td>0.1       </td><td>358144.4  </td></tr>\n",
       "\t<tr><td> -9.979990</td><td>0.1       </td><td>358133.7  </td></tr>\n",
       "\t<tr><td> -9.969985</td><td>0.1       </td><td>358122.9  </td></tr>\n",
       "\t<tr><td> -9.959980</td><td>0.1       </td><td>358112.2  </td></tr>\n",
       "\t<tr><td> -9.949975</td><td>0.1       </td><td>358101.4  </td></tr>\n",
       "</tbody>\n",
       "</table>\n"
      ],
      "text/latex": [
       "\\begin{tabular}{r|lll}\n",
       " k\\_eval & theta\\_eval & log\\_like\\\\\n",
       "\\hline\n",
       "\t -10.000000 & 0.1        & 358155.1  \\\\\n",
       "\t  -9.989995 & 0.1        & 358144.4  \\\\\n",
       "\t  -9.979990 & 0.1        & 358133.7  \\\\\n",
       "\t  -9.969985 & 0.1        & 358122.9  \\\\\n",
       "\t  -9.959980 & 0.1        & 358112.2  \\\\\n",
       "\t  -9.949975 & 0.1        & 358101.4  \\\\\n",
       "\\end{tabular}\n"
      ],
      "text/markdown": [
       "\n",
       "| k_eval | theta_eval | log_like |\n",
       "|---|---|---|\n",
       "| -10.000000 | 0.1        | 358155.1   |\n",
       "|  -9.989995 | 0.1        | 358144.4   |\n",
       "|  -9.979990 | 0.1        | 358133.7   |\n",
       "|  -9.969985 | 0.1        | 358122.9   |\n",
       "|  -9.959980 | 0.1        | 358112.2   |\n",
       "|  -9.949975 | 0.1        | 358101.4   |\n",
       "\n"
      ],
      "text/plain": [
       "  k_eval     theta_eval log_like\n",
       "1 -10.000000 0.1        358155.1\n",
       "2  -9.989995 0.1        358144.4\n",
       "3  -9.979990 0.1        358133.7\n",
       "4  -9.969985 0.1        358122.9\n",
       "5  -9.959980 0.1        358112.2\n",
       "6  -9.949975 0.1        358101.4"
      ]
     },
     "metadata": {},
     "output_type": "display_data"
    }
   ],
   "source": [
    "head(ProfileSim2012)"
   ]
  },
  {
   "cell_type": "code",
   "execution_count": 15,
   "metadata": {},
   "outputs": [
    {
     "ename": "ERROR",
     "evalue": "Error in .checkTypos(e, names(x)): Object 'log_like' not found amongst V1, 2.99, 2.991, 2.992, 2.993 and 2007 more\n",
     "output_type": "error",
     "traceback": [
      "Error in .checkTypos(e, names(x)): Object 'log_like' not found amongst V1, 2.99, 2.991, 2.992, 2.993 and 2007 more\nTraceback:\n",
      "1. ProfileSim2012[log_like < cutoff_Sim2012]",
      "2. `[.data.table`(ProfileSim2012, log_like < cutoff_Sim2012)",
      "3. tryCatch(eval(.massagei(isub), x, parent.frame()), error = function(e) .checkTypos(e, \n .     names(x)))",
      "4. tryCatchList(expr, classes, parentenv, handlers)",
      "5. tryCatchOne(expr, names, parentenv, handlers[[1L]])",
      "6. value[[3L]](cond)",
      "7. .checkTypos(e, names(x))",
      "8. stop(\"Object '\", used, \"' not found amongst \", paste(head(ref, \n .     5L), collapse = \", \"), if (length(ref) <= 5L) \"\" else paste(\" and\", \n .     length(ref) - 5L, \"more\"))"
     ]
    }
   ],
   "source": [
    "cutoff_Sim2012 <- -(SimKernels[time_id==\"2012\", log_like]) + qchisq(0.95, 2)/2 #use the 95% quantile of the chi-sq distribution with two df because it's bivariate\n",
    "#pull out the values above the cutoff\n",
    "ProfileSim2012_CI95 <- ProfileSim2012[log_like < cutoff_Sim2012][, `:=`(data_source=\"simulation\", time_id=\"2012\", cutoff=cutoff_Sim2012, best_k=SimKernels[time_id==\"2012\", k], best_theta=SimKernels[time_id==\"2012\", theta])]\n"
   ]
  },
  {
   "cell_type": "code",
   "execution_count": 32,
   "metadata": {},
   "outputs": [
    {
     "data": {
      "text/html": [
       "148586.148516054"
      ],
      "text/latex": [
       "148586.148516054"
      ],
      "text/markdown": [
       "148586.148516054"
      ],
      "text/plain": [
       "[1] 148586.1"
      ]
     },
     "metadata": {},
     "output_type": "display_data"
    },
    {
     "data": {
      "image/png": "[encoded data removed]",
      "text/plain": [
       "Plot with title “Histogram of ProfileSim2012$log_like”"
      ]
     },
     "metadata": {},
     "output_type": "display_data"
    }
   ],
   "source": [
    "#check that cutoffs make sense\n",
    "cutoff_Sim2012\n",
    "#hist(ProfileSim2012_CI95$log_like)\n",
    "hist(ProfileSim2012$log_like)"
   ]
  },
  {
   "cell_type": "code",
   "execution_count": 33,
   "metadata": {},
   "outputs": [
    {
     "data": {
      "text/html": [
       "<table>\n",
       "<thead><tr><th scope=col>k_eval</th><th scope=col>theta_eval</th><th scope=col>log_like</th></tr></thead>\n",
       "<tbody>\n",
       "\t<tr><td>-10.00 </td><td>0.1    </td><td>3075751</td></tr>\n",
       "\t<tr><td> -9.99 </td><td>0.1    </td><td>3075648</td></tr>\n",
       "\t<tr><td> -9.98 </td><td>0.1    </td><td>3075544</td></tr>\n",
       "\t<tr><td> -9.97 </td><td>0.1    </td><td>3075440</td></tr>\n",
       "\t<tr><td> -9.96 </td><td>0.1    </td><td>3075336</td></tr>\n",
       "\t<tr><td> -9.95 </td><td>0.1    </td><td>3075232</td></tr>\n",
       "</tbody>\n",
       "</table>\n"
      ],
      "text/latex": [
       "\\begin{tabular}{r|lll}\n",
       " k\\_eval & theta\\_eval & log\\_like\\\\\n",
       "\\hline\n",
       "\t -10.00  & 0.1     & 3075751\\\\\n",
       "\t  -9.99  & 0.1     & 3075648\\\\\n",
       "\t  -9.98  & 0.1     & 3075544\\\\\n",
       "\t  -9.97  & 0.1     & 3075440\\\\\n",
       "\t  -9.96  & 0.1     & 3075336\\\\\n",
       "\t  -9.95  & 0.1     & 3075232\\\\\n",
       "\\end{tabular}\n"
      ],
      "text/markdown": [
       "\n",
       "| k_eval | theta_eval | log_like |\n",
       "|---|---|---|\n",
       "| -10.00  | 0.1     | 3075751 |\n",
       "|  -9.99  | 0.1     | 3075648 |\n",
       "|  -9.98  | 0.1     | 3075544 |\n",
       "|  -9.97  | 0.1     | 3075440 |\n",
       "|  -9.96  | 0.1     | 3075336 |\n",
       "|  -9.95  | 0.1     | 3075232 |\n",
       "\n"
      ],
      "text/plain": [
       "  k_eval theta_eval log_like\n",
       "1 -10.00 0.1        3075751 \n",
       "2  -9.99 0.1        3075648 \n",
       "3  -9.98 0.1        3075544 \n",
       "4  -9.97 0.1        3075440 \n",
       "5  -9.96 0.1        3075336 \n",
       "6  -9.95 0.1        3075232 "
      ]
     },
     "metadata": {},
     "output_type": "display_data"
    }
   ],
   "source": [
    "head(ProfileSimNEM)\n"
   ]
  },
  {
   "cell_type": "code",
   "execution_count": 15,
   "metadata": {},
   "outputs": [
    {
     "data": {
      "text/html": [
       "<table>\n",
       "<thead><tr><th scope=col>time_scale</th><th scope=col>time_id</th><th scope=col>k</th><th scope=col>theta</th><th scope=col>mdd</th><th scope=col>med</th><th scope=col>dist90</th><th scope=col>log_like</th><th scope=col>data_source</th></tr></thead>\n",
       "<tbody>\n",
       "\t<tr><td>annual     </td><td>2012       </td><td>-2.16      </td><td>4.99       </td><td>4.21       </td><td>4.01       </td><td> 7.88      </td><td> -148583.15</td><td>simulation </td></tr>\n",
       "\t<tr><td>annual     </td><td>2013       </td><td>-0.46      </td><td>0.63       </td><td>4.21       </td><td>2.32       </td><td>10.38      </td><td> -549040.28</td><td>simulation </td></tr>\n",
       "\t<tr><td>annual     </td><td>2014       </td><td> 0.28      </td><td>0.53       </td><td>3.65       </td><td>1.78       </td><td> 9.16      </td><td> -527734.31</td><td>simulation </td></tr>\n",
       "\t<tr><td>interannual</td><td>2012-4     </td><td>-0.10      </td><td>0.58       </td><td>3.90       </td><td>2.03       </td><td> 9.72      </td><td>-1682004.75</td><td>simulation </td></tr>\n",
       "\t<tr><td>season     </td><td>NEM        </td><td>-0.23      </td><td>0.61       </td><td>3.71       </td><td>2.00       </td><td> 9.19      </td><td>-1566546.34</td><td>simulation </td></tr>\n",
       "\t<tr><td>season     </td><td>SWM        </td><td> 0.60      </td><td>0.42       </td><td>7.89       </td><td>3.17       </td><td>20.02      </td><td>  -90949.14</td><td>simulation </td></tr>\n",
       "</tbody>\n",
       "</table>\n"
      ],
      "text/latex": [
       "\\begin{tabular}{r|lllllllll}\n",
       " time\\_scale & time\\_id & k & theta & mdd & med & dist90 & log\\_like & data\\_source\\\\\n",
       "\\hline\n",
       "\t annual      & 2012        & -2.16       & 4.99        & 4.21        & 4.01        &  7.88       &  -148583.15 & simulation \\\\\n",
       "\t annual      & 2013        & -0.46       & 0.63        & 4.21        & 2.32        & 10.38       &  -549040.28 & simulation \\\\\n",
       "\t annual      & 2014        &  0.28       & 0.53        & 3.65        & 1.78        &  9.16       &  -527734.31 & simulation \\\\\n",
       "\t interannual & 2012-4      & -0.10       & 0.58        & 3.90        & 2.03        &  9.72       & -1682004.75 & simulation \\\\\n",
       "\t season      & NEM         & -0.23       & 0.61        & 3.71        & 2.00        &  9.19       & -1566546.34 & simulation \\\\\n",
       "\t season      & SWM         &  0.60       & 0.42        & 7.89        & 3.17        & 20.02       &   -90949.14 & simulation \\\\\n",
       "\\end{tabular}\n"
      ],
      "text/markdown": [
       "\n",
       "| time_scale | time_id | k | theta | mdd | med | dist90 | log_like | data_source |\n",
       "|---|---|---|---|---|---|---|---|---|\n",
       "| annual      | 2012        | -2.16       | 4.99        | 4.21        | 4.01        |  7.88       |  -148583.15 | simulation  |\n",
       "| annual      | 2013        | -0.46       | 0.63        | 4.21        | 2.32        | 10.38       |  -549040.28 | simulation  |\n",
       "| annual      | 2014        |  0.28       | 0.53        | 3.65        | 1.78        |  9.16       |  -527734.31 | simulation  |\n",
       "| interannual | 2012-4      | -0.10       | 0.58        | 3.90        | 2.03        |  9.72       | -1682004.75 | simulation  |\n",
       "| season      | NEM         | -0.23       | 0.61        | 3.71        | 2.00        |  9.19       | -1566546.34 | simulation  |\n",
       "| season      | SWM         |  0.60       | 0.42        | 7.89        | 3.17        | 20.02       |   -90949.14 | simulation  |\n",
       "\n"
      ],
      "text/plain": [
       "  time_scale  time_id k     theta mdd  med  dist90 log_like    data_source\n",
       "1 annual      2012    -2.16 4.99  4.21 4.01  7.88   -148583.15 simulation \n",
       "2 annual      2013    -0.46 0.63  4.21 2.32 10.38   -549040.28 simulation \n",
       "3 annual      2014     0.28 0.53  3.65 1.78  9.16   -527734.31 simulation \n",
       "4 interannual 2012-4  -0.10 0.58  3.90 2.03  9.72  -1682004.75 simulation \n",
       "5 season      NEM     -0.23 0.61  3.71 2.00  9.19  -1566546.34 simulation \n",
       "6 season      SWM      0.60 0.42  7.89 3.17 20.02    -90949.14 simulation "
      ]
     },
     "metadata": {},
     "output_type": "display_data"
    }
   ],
   "source": [
    "SimKernels"
   ]
  },
  {
   "cell_type": "code",
   "execution_count": 20,
   "metadata": {},
   "outputs": [
    {
     "data": {
      "text/html": [
       "<table>\n",
       "<thead><tr><th scope=col>k_eval</th><th scope=col>theta_eval</th><th scope=col>log_like</th><th scope=col>data_source</th><th scope=col>time_id</th><th scope=col>cutoff</th><th scope=col>best_k</th><th scope=col>best_theta</th></tr></thead>\n",
       "<tbody>\n",
       "\t<tr><td>2.24    </td><td>0.26    </td><td>221.6008</td><td>genetics</td><td>2012-4  </td><td>221.61  </td><td>-0.23   </td><td>0.44    </td></tr>\n",
       "\t<tr><td>2.25    </td><td>0.26    </td><td>221.5890</td><td>genetics</td><td>2012-4  </td><td>221.61  </td><td>-0.23   </td><td>0.44    </td></tr>\n",
       "\t<tr><td>2.26    </td><td>0.26    </td><td>221.5793</td><td>genetics</td><td>2012-4  </td><td>221.61  </td><td>-0.23   </td><td>0.44    </td></tr>\n",
       "\t<tr><td>2.27    </td><td>0.26    </td><td>221.5719</td><td>genetics</td><td>2012-4  </td><td>221.61  </td><td>-0.23   </td><td>0.44    </td></tr>\n",
       "\t<tr><td>2.28    </td><td>0.26    </td><td>221.5668</td><td>genetics</td><td>2012-4  </td><td>221.61  </td><td>-0.23   </td><td>0.44    </td></tr>\n",
       "\t<tr><td>2.29    </td><td>0.26    </td><td>221.5640</td><td>genetics</td><td>2012-4  </td><td>221.61  </td><td>-0.23   </td><td>0.44    </td></tr>\n",
       "</tbody>\n",
       "</table>\n"
      ],
      "text/latex": [
       "\\begin{tabular}{r|llllllll}\n",
       " k\\_eval & theta\\_eval & log\\_like & data\\_source & time\\_id & cutoff & best\\_k & best\\_theta\\\\\n",
       "\\hline\n",
       "\t 2.24     & 0.26     & 221.6008 & genetics & 2012-4   & 221.61   & -0.23    & 0.44    \\\\\n",
       "\t 2.25     & 0.26     & 221.5890 & genetics & 2012-4   & 221.61   & -0.23    & 0.44    \\\\\n",
       "\t 2.26     & 0.26     & 221.5793 & genetics & 2012-4   & 221.61   & -0.23    & 0.44    \\\\\n",
       "\t 2.27     & 0.26     & 221.5719 & genetics & 2012-4   & 221.61   & -0.23    & 0.44    \\\\\n",
       "\t 2.28     & 0.26     & 221.5668 & genetics & 2012-4   & 221.61   & -0.23    & 0.44    \\\\\n",
       "\t 2.29     & 0.26     & 221.5640 & genetics & 2012-4   & 221.61   & -0.23    & 0.44    \\\\\n",
       "\\end{tabular}\n"
      ],
      "text/markdown": [
       "\n",
       "| k_eval | theta_eval | log_like | data_source | time_id | cutoff | best_k | best_theta |\n",
       "|---|---|---|---|---|---|---|---|\n",
       "| 2.24     | 0.26     | 221.6008 | genetics | 2012-4   | 221.61   | -0.23    | 0.44     |\n",
       "| 2.25     | 0.26     | 221.5890 | genetics | 2012-4   | 221.61   | -0.23    | 0.44     |\n",
       "| 2.26     | 0.26     | 221.5793 | genetics | 2012-4   | 221.61   | -0.23    | 0.44     |\n",
       "| 2.27     | 0.26     | 221.5719 | genetics | 2012-4   | 221.61   | -0.23    | 0.44     |\n",
       "| 2.28     | 0.26     | 221.5668 | genetics | 2012-4   | 221.61   | -0.23    | 0.44     |\n",
       "| 2.29     | 0.26     | 221.5640 | genetics | 2012-4   | 221.61   | -0.23    | 0.44     |\n",
       "\n"
      ],
      "text/plain": [
       "  k_eval theta_eval log_like data_source time_id cutoff best_k best_theta\n",
       "1 2.24   0.26       221.6008 genetics    2012-4  221.61 -0.23  0.44      \n",
       "2 2.25   0.26       221.5890 genetics    2012-4  221.61 -0.23  0.44      \n",
       "3 2.26   0.26       221.5793 genetics    2012-4  221.61 -0.23  0.44      \n",
       "4 2.27   0.26       221.5719 genetics    2012-4  221.61 -0.23  0.44      \n",
       "5 2.28   0.26       221.5668 genetics    2012-4  221.61 -0.23  0.44      \n",
       "6 2.29   0.26       221.5640 genetics    2012-4  221.61 -0.23  0.44      "
      ]
     },
     "metadata": {},
     "output_type": "display_data"
    }
   ],
   "source": [
    "head(ProfileGen2012_4_CI95)"
   ]
  },
  {
   "cell_type": "code",
   "execution_count": 35,
   "metadata": {},
   "outputs": [],
   "source": [
    "##combine into one table for plotting, maybe move to later after getting upper and lower profiles\n",
    "GenPlusSimKernels95CI <- rbindlist(list(ProfileGen2012_CI95, ProfileGen2013_CI95, ProfileGen2013_CI95, ProfileGen2014_CI95, ProfileGen2012_4_CI95, ProfileGenNEM_CI95, ProfileGenSWM_CI95,\n",
    "             ProfileSim2012_CI95, ProfileSim2013_CI95, ProfileSim2014_CI95, ProfileSim2012_4_CI95, ProfileSimNEM_CI95, ProfileSimSWM_CI95))\n",
    "##fwrite(GenPlusSimKernels95CI, \"~/oceanography/script_output/KernelFits/GenPlusSimKernels95CI.csv\")"
   ]
  },
  {
   "cell_type": "code",
   "execution_count": 36,
   "metadata": {},
   "outputs": [
    {
     "data": {
      "text/html": [
       "<table>\n",
       "<thead><tr><th scope=col>time_scale</th><th scope=col>time_id</th><th scope=col>k</th><th scope=col>theta</th><th scope=col>mdd</th><th scope=col>med</th><th scope=col>dist90</th><th scope=col>log_like</th><th scope=col>data_source</th></tr></thead>\n",
       "<tbody>\n",
       "\t<tr><td>annual     </td><td>2012       </td><td>-2.16      </td><td>4.99       </td><td>4.21       </td><td>4.01       </td><td> 7.88      </td><td> -148583.15</td><td>simulation </td></tr>\n",
       "\t<tr><td>annual     </td><td>2013       </td><td>-0.46      </td><td>0.63       </td><td>4.21       </td><td>2.32       </td><td>10.38      </td><td> -549040.28</td><td>simulation </td></tr>\n",
       "\t<tr><td>annual     </td><td>2014       </td><td> 0.28      </td><td>0.53       </td><td>3.65       </td><td>1.78       </td><td> 9.16      </td><td> -527734.31</td><td>simulation </td></tr>\n",
       "\t<tr><td>interannual</td><td>2012-4     </td><td>-0.10      </td><td>0.58       </td><td>3.90       </td><td>2.03       </td><td> 9.72      </td><td>-1682004.75</td><td>simulation </td></tr>\n",
       "\t<tr><td>season     </td><td>NEM        </td><td>-0.23      </td><td>0.61       </td><td>3.71       </td><td>2.00       </td><td> 9.19      </td><td>-1566546.34</td><td>simulation </td></tr>\n",
       "\t<tr><td>season     </td><td>SWM        </td><td> 0.60      </td><td>0.42       </td><td>7.89       </td><td>3.17       </td><td>20.02      </td><td>  -90949.14</td><td>simulation </td></tr>\n",
       "</tbody>\n",
       "</table>\n"
      ],
      "text/latex": [
       "\\begin{tabular}{r|lllllllll}\n",
       " time\\_scale & time\\_id & k & theta & mdd & med & dist90 & log\\_like & data\\_source\\\\\n",
       "\\hline\n",
       "\t annual      & 2012        & -2.16       & 4.99        & 4.21        & 4.01        &  7.88       &  -148583.15 & simulation \\\\\n",
       "\t annual      & 2013        & -0.46       & 0.63        & 4.21        & 2.32        & 10.38       &  -549040.28 & simulation \\\\\n",
       "\t annual      & 2014        &  0.28       & 0.53        & 3.65        & 1.78        &  9.16       &  -527734.31 & simulation \\\\\n",
       "\t interannual & 2012-4      & -0.10       & 0.58        & 3.90        & 2.03        &  9.72       & -1682004.75 & simulation \\\\\n",
       "\t season      & NEM         & -0.23       & 0.61        & 3.71        & 2.00        &  9.19       & -1566546.34 & simulation \\\\\n",
       "\t season      & SWM         &  0.60       & 0.42        & 7.89        & 3.17        & 20.02       &   -90949.14 & simulation \\\\\n",
       "\\end{tabular}\n"
      ],
      "text/markdown": [
       "\n",
       "| time_scale | time_id | k | theta | mdd | med | dist90 | log_like | data_source |\n",
       "|---|---|---|---|---|---|---|---|---|\n",
       "| annual      | 2012        | -2.16       | 4.99        | 4.21        | 4.01        |  7.88       |  -148583.15 | simulation  |\n",
       "| annual      | 2013        | -0.46       | 0.63        | 4.21        | 2.32        | 10.38       |  -549040.28 | simulation  |\n",
       "| annual      | 2014        |  0.28       | 0.53        | 3.65        | 1.78        |  9.16       |  -527734.31 | simulation  |\n",
       "| interannual | 2012-4      | -0.10       | 0.58        | 3.90        | 2.03        |  9.72       | -1682004.75 | simulation  |\n",
       "| season      | NEM         | -0.23       | 0.61        | 3.71        | 2.00        |  9.19       | -1566546.34 | simulation  |\n",
       "| season      | SWM         |  0.60       | 0.42        | 7.89        | 3.17        | 20.02       |   -90949.14 | simulation  |\n",
       "\n"
      ],
      "text/plain": [
       "  time_scale  time_id k     theta mdd  med  dist90 log_like    data_source\n",
       "1 annual      2012    -2.16 4.99  4.21 4.01  7.88   -148583.15 simulation \n",
       "2 annual      2013    -0.46 0.63  4.21 2.32 10.38   -549040.28 simulation \n",
       "3 annual      2014     0.28 0.53  3.65 1.78  9.16   -527734.31 simulation \n",
       "4 interannual 2012-4  -0.10 0.58  3.90 2.03  9.72  -1682004.75 simulation \n",
       "5 season      NEM     -0.23 0.61  3.71 2.00  9.19  -1566546.34 simulation \n",
       "6 season      SWM      0.60 0.42  7.89 3.17 20.02    -90949.14 simulation "
      ]
     },
     "metadata": {},
     "output_type": "display_data"
    },
    {
     "data": {
      "text/html": [
       "<table>\n",
       "<thead><tr><th scope=col>time_id</th><th scope=col>data_source</th><th scope=col>N</th></tr></thead>\n",
       "<tbody>\n",
       "\t<tr><td>2012      </td><td>genetics  </td><td>  32718   </td></tr>\n",
       "\t<tr><td>2013      </td><td>genetics  </td><td>   2054   </td></tr>\n",
       "\t<tr><td>2014      </td><td>genetics  </td><td>   7292   </td></tr>\n",
       "\t<tr><td>2012-4    </td><td>genetics  </td><td>   6585   </td></tr>\n",
       "\t<tr><td>NEM       </td><td>genetics  </td><td>  16008   </td></tr>\n",
       "\t<tr><td>SWM       </td><td>genetics  </td><td>   2846   </td></tr>\n",
       "\t<tr><td>2012      </td><td>simulation</td><td>1801099   </td></tr>\n",
       "\t<tr><td>2013      </td><td>simulation</td><td> 982491   </td></tr>\n",
       "\t<tr><td>2014      </td><td>simulation</td><td> 982491   </td></tr>\n",
       "\t<tr><td>2012-4    </td><td>simulation</td><td> 982491   </td></tr>\n",
       "\t<tr><td>NEM       </td><td>simulation</td><td> 982491   </td></tr>\n",
       "\t<tr><td>SWM       </td><td>simulation</td><td> 982491   </td></tr>\n",
       "</tbody>\n",
       "</table>\n"
      ],
      "text/latex": [
       "\\begin{tabular}{r|lll}\n",
       " time\\_id & data\\_source & N\\\\\n",
       "\\hline\n",
       "\t 2012       & genetics   &   32718   \\\\\n",
       "\t 2013       & genetics   &    2054   \\\\\n",
       "\t 2014       & genetics   &    7292   \\\\\n",
       "\t 2012-4     & genetics   &    6585   \\\\\n",
       "\t NEM        & genetics   &   16008   \\\\\n",
       "\t SWM        & genetics   &    2846   \\\\\n",
       "\t 2012       & simulation & 1801099   \\\\\n",
       "\t 2013       & simulation &  982491   \\\\\n",
       "\t 2014       & simulation &  982491   \\\\\n",
       "\t 2012-4     & simulation &  982491   \\\\\n",
       "\t NEM        & simulation &  982491   \\\\\n",
       "\t SWM        & simulation &  982491   \\\\\n",
       "\\end{tabular}\n"
      ],
      "text/markdown": [
       "\n",
       "| time_id | data_source | N |\n",
       "|---|---|---|\n",
       "| 2012       | genetics   |   32718    |\n",
       "| 2013       | genetics   |    2054    |\n",
       "| 2014       | genetics   |    7292    |\n",
       "| 2012-4     | genetics   |    6585    |\n",
       "| NEM        | genetics   |   16008    |\n",
       "| SWM        | genetics   |    2846    |\n",
       "| 2012       | simulation | 1801099    |\n",
       "| 2013       | simulation |  982491    |\n",
       "| 2014       | simulation |  982491    |\n",
       "| 2012-4     | simulation |  982491    |\n",
       "| NEM        | simulation |  982491    |\n",
       "| SWM        | simulation |  982491    |\n",
       "\n"
      ],
      "text/plain": [
       "   time_id data_source N      \n",
       "1  2012    genetics      32718\n",
       "2  2013    genetics       2054\n",
       "3  2014    genetics       7292\n",
       "4  2012-4  genetics       6585\n",
       "5  NEM     genetics      16008\n",
       "6  SWM     genetics       2846\n",
       "7  2012    simulation  1801099\n",
       "8  2013    simulation   982491\n",
       "9  2014    simulation   982491\n",
       "10 2012-4  simulation   982491\n",
       "11 NEM     simulation   982491\n",
       "12 SWM     simulation   982491"
      ]
     },
     "metadata": {},
     "output_type": "display_data"
    }
   ],
   "source": [
    "SimKernels\n",
    "GenPlusSimKernels95CI[, .N, by=.(time_id, data_source)]"
   ]
  },
  {
   "cell_type": "code",
   "execution_count": 39,
   "metadata": {},
   "outputs": [],
   "source": [
    "GenPlusSimKernels95CI <- GenPlusSimKernels95CI[, lower_profile :=ifelse(k_eval <= best_k & theta_eval <= best_theta, \"yes\", \"no\"), by=.(time_id, data_source)][ #mark k/theta combos that are in the lower profile with \"yes\"\n",
    "        , upper_profile :=ifelse(k_eval >= best_k & theta_eval >= best_theta, \"yes\", \"no\"), by=.(time_id, data_source)][ #mark the upper profile in the same way\n",
    "        , max_log_like := max(log_like), by=.(time_id, data_source, upper_profile, lower_profile)]\n"
   ]
  },
  {
   "cell_type": "code",
   "execution_count": 43,
   "metadata": {},
   "outputs": [
    {
     "data": {
      "text/html": [
       "<table>\n",
       "<thead><tr><th scope=col>k_eval</th><th scope=col>theta_eval</th><th scope=col>log_like</th><th scope=col>data_source</th><th scope=col>time_id</th><th scope=col>cutoff</th><th scope=col>best_k</th><th scope=col>best_theta</th><th scope=col>lower_profile</th><th scope=col>upper_profile</th><th scope=col>max_log_like</th></tr></thead>\n",
       "<tbody>\n",
       "\t<tr><td> 9.95     </td><td>5         </td><td>3008272   </td><td>simulation</td><td>SWM       </td><td>90952.14  </td><td>0.6       </td><td>0.42      </td><td>no        </td><td>yes       </td><td>3008272   </td></tr>\n",
       "\t<tr><td> 9.96     </td><td>5         </td><td>3008272   </td><td>simulation</td><td>SWM       </td><td>90952.14  </td><td>0.6       </td><td>0.42      </td><td>no        </td><td>yes       </td><td>3008272   </td></tr>\n",
       "\t<tr><td> 9.97     </td><td>5         </td><td>3008272   </td><td>simulation</td><td>SWM       </td><td>90952.14  </td><td>0.6       </td><td>0.42      </td><td>no        </td><td>yes       </td><td>3008272   </td></tr>\n",
       "\t<tr><td> 9.98     </td><td>5         </td><td>3008272   </td><td>simulation</td><td>SWM       </td><td>90952.14  </td><td>0.6       </td><td>0.42      </td><td>no        </td><td>yes       </td><td>3008272   </td></tr>\n",
       "\t<tr><td> 9.99     </td><td>5         </td><td>3008272   </td><td>simulation</td><td>SWM       </td><td>90952.14  </td><td>0.6       </td><td>0.42      </td><td>no        </td><td>yes       </td><td>3008272   </td></tr>\n",
       "\t<tr><td>10.00     </td><td>5         </td><td>3008272   </td><td>simulation</td><td>SWM       </td><td>90952.14  </td><td>0.6       </td><td>0.42      </td><td>no        </td><td>yes       </td><td>3008272   </td></tr>\n",
       "</tbody>\n",
       "</table>\n"
      ],
      "text/latex": [
       "\\begin{tabular}{r|lllllllllll}\n",
       " k\\_eval & theta\\_eval & log\\_like & data\\_source & time\\_id & cutoff & best\\_k & best\\_theta & lower\\_profile & upper\\_profile & max\\_log\\_like\\\\\n",
       "\\hline\n",
       "\t  9.95      & 5          & 3008272    & simulation & SWM        & 90952.14   & 0.6        & 0.42       & no         & yes        & 3008272   \\\\\n",
       "\t  9.96      & 5          & 3008272    & simulation & SWM        & 90952.14   & 0.6        & 0.42       & no         & yes        & 3008272   \\\\\n",
       "\t  9.97      & 5          & 3008272    & simulation & SWM        & 90952.14   & 0.6        & 0.42       & no         & yes        & 3008272   \\\\\n",
       "\t  9.98      & 5          & 3008272    & simulation & SWM        & 90952.14   & 0.6        & 0.42       & no         & yes        & 3008272   \\\\\n",
       "\t  9.99      & 5          & 3008272    & simulation & SWM        & 90952.14   & 0.6        & 0.42       & no         & yes        & 3008272   \\\\\n",
       "\t 10.00      & 5          & 3008272    & simulation & SWM        & 90952.14   & 0.6        & 0.42       & no         & yes        & 3008272   \\\\\n",
       "\\end{tabular}\n"
      ],
      "text/markdown": [
       "\n",
       "| k_eval | theta_eval | log_like | data_source | time_id | cutoff | best_k | best_theta | lower_profile | upper_profile | max_log_like |\n",
       "|---|---|---|---|---|---|---|---|---|---|---|\n",
       "|  9.95      | 5          | 3008272    | simulation | SWM        | 90952.14   | 0.6        | 0.42       | no         | yes        | 3008272    |\n",
       "|  9.96      | 5          | 3008272    | simulation | SWM        | 90952.14   | 0.6        | 0.42       | no         | yes        | 3008272    |\n",
       "|  9.97      | 5          | 3008272    | simulation | SWM        | 90952.14   | 0.6        | 0.42       | no         | yes        | 3008272    |\n",
       "|  9.98      | 5          | 3008272    | simulation | SWM        | 90952.14   | 0.6        | 0.42       | no         | yes        | 3008272    |\n",
       "|  9.99      | 5          | 3008272    | simulation | SWM        | 90952.14   | 0.6        | 0.42       | no         | yes        | 3008272    |\n",
       "| 10.00      | 5          | 3008272    | simulation | SWM        | 90952.14   | 0.6        | 0.42       | no         | yes        | 3008272    |\n",
       "\n"
      ],
      "text/plain": [
       "  k_eval theta_eval log_like data_source time_id cutoff   best_k best_theta\n",
       "1  9.95  5          3008272  simulation  SWM     90952.14 0.6    0.42      \n",
       "2  9.96  5          3008272  simulation  SWM     90952.14 0.6    0.42      \n",
       "3  9.97  5          3008272  simulation  SWM     90952.14 0.6    0.42      \n",
       "4  9.98  5          3008272  simulation  SWM     90952.14 0.6    0.42      \n",
       "5  9.99  5          3008272  simulation  SWM     90952.14 0.6    0.42      \n",
       "6 10.00  5          3008272  simulation  SWM     90952.14 0.6    0.42      \n",
       "  lower_profile upper_profile max_log_like\n",
       "1 no            yes           3008272     \n",
       "2 no            yes           3008272     \n",
       "3 no            yes           3008272     \n",
       "4 no            yes           3008272     \n",
       "5 no            yes           3008272     \n",
       "6 no            yes           3008272     "
      ]
     },
     "metadata": {},
     "output_type": "display_data"
    }
   ],
   "source": [
    "tail(GenPlusSimKernels95CI)"
   ]
  },
  {
   "cell_type": "code",
   "execution_count": 58,
   "metadata": {},
   "outputs": [],
   "source": [
    "#get the CIs and compare make sure they make sense\n",
    "GenPlusSimKernels95CISummaryLower <- GenPlusSimKernels95CI[\n",
    "    lower_profile==\"yes\"][log_like==max_log_like, .(lower_k=k_eval, lower_theta=theta_eval) ,by=c(\"time_id\", \"data_source\")]#[\n",
    "GenPlusSimKernels95CISummaryUpper <- GenPlusSimKernels95CI[\n",
    "    upper_profile==\"yes\"][log_like==max_log_like, .(upper_k=k_eval, upper_theta=theta_eval) ,by=c(\"time_id\", \"data_source\")]#[\n"
   ]
  },
  {
   "cell_type": "code",
   "execution_count": 66,
   "metadata": {},
   "outputs": [
    {
     "name": "stdout",
     "output_type": "stream",
     "text": [
      "Classes ‘data.table’ and 'data.frame':\t15 obs. of  4 variables:\n",
      " $ time_id    : chr  \"2012\" \"2012\" \"2014\" \"2014\" ...\n",
      " $ data_source: chr  \"genetics\" \"genetics\" \"genetics\" \"genetics\" ...\n",
      " $ lower_k    : num  -3.46 -3.27 1.24 1.97 -0.24 -0.23 0.56 0.76 -10 -10 ...\n",
      " $ lower_theta: num  1.71 3.53 0.24 0.26 0.4 0.44 0.31 0.37 0.63 0.53 ...\n",
      " - attr(*, \".internal.selfref\")=<externalptr> \n"
     ]
    },
    {
     "data": {
      "text/html": [
       "1545635"
      ],
      "text/latex": [
       "1545635"
      ],
      "text/markdown": [
       "1545635"
      ],
      "text/plain": [
       "[1] 1545635"
      ]
     },
     "metadata": {},
     "output_type": "display_data"
    }
   ],
   "source": [
    "str(GenPlusSimKernels95CISummaryLower)\n",
    "nrow(GenPlusSimKernels95CISummaryUpper)"
   ]
  },
  {
   "cell_type": "code",
   "execution_count": 64,
   "metadata": {},
   "outputs": [
    {
     "data": {
      "text/html": [
       "<table>\n",
       "<thead><tr><th scope=col>time_id</th><th scope=col>data_source</th><th scope=col>lower_k</th><th scope=col>lower_theta</th><th scope=col>upper_k</th><th scope=col>upper_theta</th></tr></thead>\n",
       "<tbody>\n",
       "\t<tr><td>2012      </td><td>genetics  </td><td> -3.46    </td><td>1.71      </td><td>-3.27     </td><td>3.53      </td></tr>\n",
       "\t<tr><td>2012      </td><td>genetics  </td><td> -3.27    </td><td>3.53      </td><td>-3.27     </td><td>3.53      </td></tr>\n",
       "\t<tr><td>2012      </td><td>genetics  </td><td> -3.46    </td><td>1.71      </td><td>-3.13     </td><td>3.66      </td></tr>\n",
       "\t<tr><td>2012      </td><td>genetics  </td><td> -3.27    </td><td>3.53      </td><td>-3.13     </td><td>3.66      </td></tr>\n",
       "\t<tr><td>2014      </td><td>genetics  </td><td>  1.24    </td><td>0.24      </td><td> 1.97     </td><td>0.26      </td></tr>\n",
       "\t<tr><td>2014      </td><td>genetics  </td><td>  1.97    </td><td>0.26      </td><td> 1.97     </td><td>0.26      </td></tr>\n",
       "\t<tr><td>2014      </td><td>genetics  </td><td>  1.24    </td><td>0.24      </td><td> 2.01     </td><td>0.29      </td></tr>\n",
       "\t<tr><td>2014      </td><td>genetics  </td><td>  1.97    </td><td>0.26      </td><td> 2.01     </td><td>0.29      </td></tr>\n",
       "\t<tr><td>2012-4    </td><td>genetics  </td><td> -0.24    </td><td>0.40      </td><td>-0.23     </td><td>0.44      </td></tr>\n",
       "\t<tr><td>2012-4    </td><td>genetics  </td><td> -0.23    </td><td>0.44      </td><td>-0.23     </td><td>0.44      </td></tr>\n",
       "\t<tr><td>2012-4    </td><td>genetics  </td><td> -0.24    </td><td>0.40      </td><td> 0.04     </td><td>0.44      </td></tr>\n",
       "\t<tr><td>2012-4    </td><td>genetics  </td><td> -0.23    </td><td>0.44      </td><td> 0.04     </td><td>0.44      </td></tr>\n",
       "\t<tr><td>NEM       </td><td>genetics  </td><td>  0.56    </td><td>0.31      </td><td> 0.76     </td><td>0.37      </td></tr>\n",
       "\t<tr><td>NEM       </td><td>genetics  </td><td>  0.76    </td><td>0.37      </td><td> 0.76     </td><td>0.37      </td></tr>\n",
       "\t<tr><td>NEM       </td><td>genetics  </td><td>  0.56    </td><td>0.31      </td><td> 1.14     </td><td>0.39      </td></tr>\n",
       "\t<tr><td>NEM       </td><td>genetics  </td><td>  0.76    </td><td>0.37      </td><td> 1.14     </td><td>0.39      </td></tr>\n",
       "\t<tr><td>2013      </td><td>simulation</td><td>-10.00    </td><td>0.63      </td><td> 6.82     </td><td>0.63      </td></tr>\n",
       "\t<tr><td>2013      </td><td>simulation</td><td>-10.00    </td><td>0.63      </td><td> 6.83     </td><td>0.63      </td></tr>\n",
       "\t<tr><td>2013      </td><td>simulation</td><td>-10.00    </td><td>0.63      </td><td> 6.84     </td><td>0.63      </td></tr>\n",
       "\t<tr><td>2013      </td><td>simulation</td><td>-10.00    </td><td>0.63      </td><td> 6.85     </td><td>0.63      </td></tr>\n",
       "\t<tr><td>2013      </td><td>simulation</td><td>-10.00    </td><td>0.63      </td><td> 6.86     </td><td>0.63      </td></tr>\n",
       "\t<tr><td>2013      </td><td>simulation</td><td>-10.00    </td><td>0.63      </td><td> 6.87     </td><td>0.63      </td></tr>\n",
       "\t<tr><td>2013      </td><td>simulation</td><td>-10.00    </td><td>0.63      </td><td> 6.88     </td><td>0.63      </td></tr>\n",
       "\t<tr><td>2013      </td><td>simulation</td><td>-10.00    </td><td>0.63      </td><td> 6.89     </td><td>0.63      </td></tr>\n",
       "\t<tr><td>2013      </td><td>simulation</td><td>-10.00    </td><td>0.63      </td><td> 6.90     </td><td>0.63      </td></tr>\n",
       "\t<tr><td>2013      </td><td>simulation</td><td>-10.00    </td><td>0.63      </td><td> 6.91     </td><td>0.63      </td></tr>\n",
       "\t<tr><td>2013      </td><td>simulation</td><td>-10.00    </td><td>0.63      </td><td> 6.92     </td><td>0.63      </td></tr>\n",
       "\t<tr><td>2013      </td><td>simulation</td><td>-10.00    </td><td>0.63      </td><td> 6.93     </td><td>0.63      </td></tr>\n",
       "\t<tr><td>2013      </td><td>simulation</td><td>-10.00    </td><td>0.63      </td><td> 6.94     </td><td>0.63      </td></tr>\n",
       "\t<tr><td>2013      </td><td>simulation</td><td>-10.00    </td><td>0.63      </td><td> 6.95     </td><td>0.63      </td></tr>\n",
       "\t<tr><td>...</td><td>...</td><td>...</td><td>...</td><td>...</td><td>...</td></tr>\n",
       "\t<tr><td>SWM       </td><td>simulation</td><td>-10.0     </td><td>0.42      </td><td> 9.86     </td><td>5         </td></tr>\n",
       "\t<tr><td>SWM       </td><td>simulation</td><td>  0.6     </td><td>0.42      </td><td> 9.86     </td><td>5         </td></tr>\n",
       "\t<tr><td>SWM       </td><td>simulation</td><td>-10.0     </td><td>0.42      </td><td> 9.87     </td><td>5         </td></tr>\n",
       "\t<tr><td>SWM       </td><td>simulation</td><td>  0.6     </td><td>0.42      </td><td> 9.87     </td><td>5         </td></tr>\n",
       "\t<tr><td>SWM       </td><td>simulation</td><td>-10.0     </td><td>0.42      </td><td> 9.88     </td><td>5         </td></tr>\n",
       "\t<tr><td>SWM       </td><td>simulation</td><td>  0.6     </td><td>0.42      </td><td> 9.88     </td><td>5         </td></tr>\n",
       "\t<tr><td>SWM       </td><td>simulation</td><td>-10.0     </td><td>0.42      </td><td> 9.89     </td><td>5         </td></tr>\n",
       "\t<tr><td>SWM       </td><td>simulation</td><td>  0.6     </td><td>0.42      </td><td> 9.89     </td><td>5         </td></tr>\n",
       "\t<tr><td>SWM       </td><td>simulation</td><td>-10.0     </td><td>0.42      </td><td> 9.90     </td><td>5         </td></tr>\n",
       "\t<tr><td>SWM       </td><td>simulation</td><td>  0.6     </td><td>0.42      </td><td> 9.90     </td><td>5         </td></tr>\n",
       "\t<tr><td>SWM       </td><td>simulation</td><td>-10.0     </td><td>0.42      </td><td> 9.91     </td><td>5         </td></tr>\n",
       "\t<tr><td>SWM       </td><td>simulation</td><td>  0.6     </td><td>0.42      </td><td> 9.91     </td><td>5         </td></tr>\n",
       "\t<tr><td>SWM       </td><td>simulation</td><td>-10.0     </td><td>0.42      </td><td> 9.92     </td><td>5         </td></tr>\n",
       "\t<tr><td>SWM       </td><td>simulation</td><td>  0.6     </td><td>0.42      </td><td> 9.92     </td><td>5         </td></tr>\n",
       "\t<tr><td>SWM       </td><td>simulation</td><td>-10.0     </td><td>0.42      </td><td> 9.93     </td><td>5         </td></tr>\n",
       "\t<tr><td>SWM       </td><td>simulation</td><td>  0.6     </td><td>0.42      </td><td> 9.93     </td><td>5         </td></tr>\n",
       "\t<tr><td>SWM       </td><td>simulation</td><td>-10.0     </td><td>0.42      </td><td> 9.94     </td><td>5         </td></tr>\n",
       "\t<tr><td>SWM       </td><td>simulation</td><td>  0.6     </td><td>0.42      </td><td> 9.94     </td><td>5         </td></tr>\n",
       "\t<tr><td>SWM       </td><td>simulation</td><td>-10.0     </td><td>0.42      </td><td> 9.95     </td><td>5         </td></tr>\n",
       "\t<tr><td>SWM       </td><td>simulation</td><td>  0.6     </td><td>0.42      </td><td> 9.95     </td><td>5         </td></tr>\n",
       "\t<tr><td>SWM       </td><td>simulation</td><td>-10.0     </td><td>0.42      </td><td> 9.96     </td><td>5         </td></tr>\n",
       "\t<tr><td>SWM       </td><td>simulation</td><td>  0.6     </td><td>0.42      </td><td> 9.96     </td><td>5         </td></tr>\n",
       "\t<tr><td>SWM       </td><td>simulation</td><td>-10.0     </td><td>0.42      </td><td> 9.97     </td><td>5         </td></tr>\n",
       "\t<tr><td>SWM       </td><td>simulation</td><td>  0.6     </td><td>0.42      </td><td> 9.97     </td><td>5         </td></tr>\n",
       "\t<tr><td>SWM       </td><td>simulation</td><td>-10.0     </td><td>0.42      </td><td> 9.98     </td><td>5         </td></tr>\n",
       "\t<tr><td>SWM       </td><td>simulation</td><td>  0.6     </td><td>0.42      </td><td> 9.98     </td><td>5         </td></tr>\n",
       "\t<tr><td>SWM       </td><td>simulation</td><td>-10.0     </td><td>0.42      </td><td> 9.99     </td><td>5         </td></tr>\n",
       "\t<tr><td>SWM       </td><td>simulation</td><td>  0.6     </td><td>0.42      </td><td> 9.99     </td><td>5         </td></tr>\n",
       "\t<tr><td>SWM       </td><td>simulation</td><td>-10.0     </td><td>0.42      </td><td>10.00     </td><td>5         </td></tr>\n",
       "\t<tr><td>SWM       </td><td>simulation</td><td>  0.6     </td><td>0.42      </td><td>10.00     </td><td>5         </td></tr>\n",
       "</tbody>\n",
       "</table>\n"
      ],
      "text/latex": [
       "\\begin{tabular}{r|llllll}\n",
       " time\\_id & data\\_source & lower\\_k & lower\\_theta & upper\\_k & upper\\_theta\\\\\n",
       "\\hline\n",
       "\t 2012       & genetics   &  -3.46     & 1.71       & -3.27      & 3.53      \\\\\n",
       "\t 2012       & genetics   &  -3.27     & 3.53       & -3.27      & 3.53      \\\\\n",
       "\t 2012       & genetics   &  -3.46     & 1.71       & -3.13      & 3.66      \\\\\n",
       "\t 2012       & genetics   &  -3.27     & 3.53       & -3.13      & 3.66      \\\\\n",
       "\t 2014       & genetics   &   1.24     & 0.24       &  1.97      & 0.26      \\\\\n",
       "\t 2014       & genetics   &   1.97     & 0.26       &  1.97      & 0.26      \\\\\n",
       "\t 2014       & genetics   &   1.24     & 0.24       &  2.01      & 0.29      \\\\\n",
       "\t 2014       & genetics   &   1.97     & 0.26       &  2.01      & 0.29      \\\\\n",
       "\t 2012-4     & genetics   &  -0.24     & 0.40       & -0.23      & 0.44      \\\\\n",
       "\t 2012-4     & genetics   &  -0.23     & 0.44       & -0.23      & 0.44      \\\\\n",
       "\t 2012-4     & genetics   &  -0.24     & 0.40       &  0.04      & 0.44      \\\\\n",
       "\t 2012-4     & genetics   &  -0.23     & 0.44       &  0.04      & 0.44      \\\\\n",
       "\t NEM        & genetics   &   0.56     & 0.31       &  0.76      & 0.37      \\\\\n",
       "\t NEM        & genetics   &   0.76     & 0.37       &  0.76      & 0.37      \\\\\n",
       "\t NEM        & genetics   &   0.56     & 0.31       &  1.14      & 0.39      \\\\\n",
       "\t NEM        & genetics   &   0.76     & 0.37       &  1.14      & 0.39      \\\\\n",
       "\t 2013       & simulation & -10.00     & 0.63       &  6.82      & 0.63      \\\\\n",
       "\t 2013       & simulation & -10.00     & 0.63       &  6.83      & 0.63      \\\\\n",
       "\t 2013       & simulation & -10.00     & 0.63       &  6.84      & 0.63      \\\\\n",
       "\t 2013       & simulation & -10.00     & 0.63       &  6.85      & 0.63      \\\\\n",
       "\t 2013       & simulation & -10.00     & 0.63       &  6.86      & 0.63      \\\\\n",
       "\t 2013       & simulation & -10.00     & 0.63       &  6.87      & 0.63      \\\\\n",
       "\t 2013       & simulation & -10.00     & 0.63       &  6.88      & 0.63      \\\\\n",
       "\t 2013       & simulation & -10.00     & 0.63       &  6.89      & 0.63      \\\\\n",
       "\t 2013       & simulation & -10.00     & 0.63       &  6.90      & 0.63      \\\\\n",
       "\t 2013       & simulation & -10.00     & 0.63       &  6.91      & 0.63      \\\\\n",
       "\t 2013       & simulation & -10.00     & 0.63       &  6.92      & 0.63      \\\\\n",
       "\t 2013       & simulation & -10.00     & 0.63       &  6.93      & 0.63      \\\\\n",
       "\t 2013       & simulation & -10.00     & 0.63       &  6.94      & 0.63      \\\\\n",
       "\t 2013       & simulation & -10.00     & 0.63       &  6.95      & 0.63      \\\\\n",
       "\t ... & ... & ... & ... & ... & ...\\\\\n",
       "\t SWM        & simulation & -10.0      & 0.42       &  9.86      & 5         \\\\\n",
       "\t SWM        & simulation &   0.6      & 0.42       &  9.86      & 5         \\\\\n",
       "\t SWM        & simulation & -10.0      & 0.42       &  9.87      & 5         \\\\\n",
       "\t SWM        & simulation &   0.6      & 0.42       &  9.87      & 5         \\\\\n",
       "\t SWM        & simulation & -10.0      & 0.42       &  9.88      & 5         \\\\\n",
       "\t SWM        & simulation &   0.6      & 0.42       &  9.88      & 5         \\\\\n",
       "\t SWM        & simulation & -10.0      & 0.42       &  9.89      & 5         \\\\\n",
       "\t SWM        & simulation &   0.6      & 0.42       &  9.89      & 5         \\\\\n",
       "\t SWM        & simulation & -10.0      & 0.42       &  9.90      & 5         \\\\\n",
       "\t SWM        & simulation &   0.6      & 0.42       &  9.90      & 5         \\\\\n",
       "\t SWM        & simulation & -10.0      & 0.42       &  9.91      & 5         \\\\\n",
       "\t SWM        & simulation &   0.6      & 0.42       &  9.91      & 5         \\\\\n",
       "\t SWM        & simulation & -10.0      & 0.42       &  9.92      & 5         \\\\\n",
       "\t SWM        & simulation &   0.6      & 0.42       &  9.92      & 5         \\\\\n",
       "\t SWM        & simulation & -10.0      & 0.42       &  9.93      & 5         \\\\\n",
       "\t SWM        & simulation &   0.6      & 0.42       &  9.93      & 5         \\\\\n",
       "\t SWM        & simulation & -10.0      & 0.42       &  9.94      & 5         \\\\\n",
       "\t SWM        & simulation &   0.6      & 0.42       &  9.94      & 5         \\\\\n",
       "\t SWM        & simulation & -10.0      & 0.42       &  9.95      & 5         \\\\\n",
       "\t SWM        & simulation &   0.6      & 0.42       &  9.95      & 5         \\\\\n",
       "\t SWM        & simulation & -10.0      & 0.42       &  9.96      & 5         \\\\\n",
       "\t SWM        & simulation &   0.6      & 0.42       &  9.96      & 5         \\\\\n",
       "\t SWM        & simulation & -10.0      & 0.42       &  9.97      & 5         \\\\\n",
       "\t SWM        & simulation &   0.6      & 0.42       &  9.97      & 5         \\\\\n",
       "\t SWM        & simulation & -10.0      & 0.42       &  9.98      & 5         \\\\\n",
       "\t SWM        & simulation &   0.6      & 0.42       &  9.98      & 5         \\\\\n",
       "\t SWM        & simulation & -10.0      & 0.42       &  9.99      & 5         \\\\\n",
       "\t SWM        & simulation &   0.6      & 0.42       &  9.99      & 5         \\\\\n",
       "\t SWM        & simulation & -10.0      & 0.42       & 10.00      & 5         \\\\\n",
       "\t SWM        & simulation &   0.6      & 0.42       & 10.00      & 5         \\\\\n",
       "\\end{tabular}\n"
      ],
      "text/markdown": [
       "\n",
       "| time_id | data_source | lower_k | lower_theta | upper_k | upper_theta |\n",
       "|---|---|---|---|---|---|\n",
       "| 2012       | genetics   |  -3.46     | 1.71       | -3.27      | 3.53       |\n",
       "| 2012       | genetics   |  -3.27     | 3.53       | -3.27      | 3.53       |\n",
       "| 2012       | genetics   |  -3.46     | 1.71       | -3.13      | 3.66       |\n",
       "| 2012       | genetics   |  -3.27     | 3.53       | -3.13      | 3.66       |\n",
       "| 2014       | genetics   |   1.24     | 0.24       |  1.97      | 0.26       |\n",
       "| 2014       | genetics   |   1.97     | 0.26       |  1.97      | 0.26       |\n",
       "| 2014       | genetics   |   1.24     | 0.24       |  2.01      | 0.29       |\n",
       "| 2014       | genetics   |   1.97     | 0.26       |  2.01      | 0.29       |\n",
       "| 2012-4     | genetics   |  -0.24     | 0.40       | -0.23      | 0.44       |\n",
       "| 2012-4     | genetics   |  -0.23     | 0.44       | -0.23      | 0.44       |\n",
       "| 2012-4     | genetics   |  -0.24     | 0.40       |  0.04      | 0.44       |\n",
       "| 2012-4     | genetics   |  -0.23     | 0.44       |  0.04      | 0.44       |\n",
       "| NEM        | genetics   |   0.56     | 0.31       |  0.76      | 0.37       |\n",
       "| NEM        | genetics   |   0.76     | 0.37       |  0.76      | 0.37       |\n",
       "| NEM        | genetics   |   0.56     | 0.31       |  1.14      | 0.39       |\n",
       "| NEM        | genetics   |   0.76     | 0.37       |  1.14      | 0.39       |\n",
       "| 2013       | simulation | -10.00     | 0.63       |  6.82      | 0.63       |\n",
       "| 2013       | simulation | -10.00     | 0.63       |  6.83      | 0.63       |\n",
       "| 2013       | simulation | -10.00     | 0.63       |  6.84      | 0.63       |\n",
       "| 2013       | simulation | -10.00     | 0.63       |  6.85      | 0.63       |\n",
       "| 2013       | simulation | -10.00     | 0.63       |  6.86      | 0.63       |\n",
       "| 2013       | simulation | -10.00     | 0.63       |  6.87      | 0.63       |\n",
       "| 2013       | simulation | -10.00     | 0.63       |  6.88      | 0.63       |\n",
       "| 2013       | simulation | -10.00     | 0.63       |  6.89      | 0.63       |\n",
       "| 2013       | simulation | -10.00     | 0.63       |  6.90      | 0.63       |\n",
       "| 2013       | simulation | -10.00     | 0.63       |  6.91      | 0.63       |\n",
       "| 2013       | simulation | -10.00     | 0.63       |  6.92      | 0.63       |\n",
       "| 2013       | simulation | -10.00     | 0.63       |  6.93      | 0.63       |\n",
       "| 2013       | simulation | -10.00     | 0.63       |  6.94      | 0.63       |\n",
       "| 2013       | simulation | -10.00     | 0.63       |  6.95      | 0.63       |\n",
       "| ... | ... | ... | ... | ... | ... |\n",
       "| SWM        | simulation | -10.0      | 0.42       |  9.86      | 5          |\n",
       "| SWM        | simulation |   0.6      | 0.42       |  9.86      | 5          |\n",
       "| SWM        | simulation | -10.0      | 0.42       |  9.87      | 5          |\n",
       "| SWM        | simulation |   0.6      | 0.42       |  9.87      | 5          |\n",
       "| SWM        | simulation | -10.0      | 0.42       |  9.88      | 5          |\n",
       "| SWM        | simulation |   0.6      | 0.42       |  9.88      | 5          |\n",
       "| SWM        | simulation | -10.0      | 0.42       |  9.89      | 5          |\n",
       "| SWM        | simulation |   0.6      | 0.42       |  9.89      | 5          |\n",
       "| SWM        | simulation | -10.0      | 0.42       |  9.90      | 5          |\n",
       "| SWM        | simulation |   0.6      | 0.42       |  9.90      | 5          |\n",
       "| SWM        | simulation | -10.0      | 0.42       |  9.91      | 5          |\n",
       "| SWM        | simulation |   0.6      | 0.42       |  9.91      | 5          |\n",
       "| SWM        | simulation | -10.0      | 0.42       |  9.92      | 5          |\n",
       "| SWM        | simulation |   0.6      | 0.42       |  9.92      | 5          |\n",
       "| SWM        | simulation | -10.0      | 0.42       |  9.93      | 5          |\n",
       "| SWM        | simulation |   0.6      | 0.42       |  9.93      | 5          |\n",
       "| SWM        | simulation | -10.0      | 0.42       |  9.94      | 5          |\n",
       "| SWM        | simulation |   0.6      | 0.42       |  9.94      | 5          |\n",
       "| SWM        | simulation | -10.0      | 0.42       |  9.95      | 5          |\n",
       "| SWM        | simulation |   0.6      | 0.42       |  9.95      | 5          |\n",
       "| SWM        | simulation | -10.0      | 0.42       |  9.96      | 5          |\n",
       "| SWM        | simulation |   0.6      | 0.42       |  9.96      | 5          |\n",
       "| SWM        | simulation | -10.0      | 0.42       |  9.97      | 5          |\n",
       "| SWM        | simulation |   0.6      | 0.42       |  9.97      | 5          |\n",
       "| SWM        | simulation | -10.0      | 0.42       |  9.98      | 5          |\n",
       "| SWM        | simulation |   0.6      | 0.42       |  9.98      | 5          |\n",
       "| SWM        | simulation | -10.0      | 0.42       |  9.99      | 5          |\n",
       "| SWM        | simulation |   0.6      | 0.42       |  9.99      | 5          |\n",
       "| SWM        | simulation | -10.0      | 0.42       | 10.00      | 5          |\n",
       "| SWM        | simulation |   0.6      | 0.42       | 10.00      | 5          |\n",
       "\n"
      ],
      "text/plain": [
       "        time_id data_source lower_k lower_theta upper_k upper_theta\n",
       "1       2012    genetics     -3.46  1.71        -3.27   3.53       \n",
       "2       2012    genetics     -3.27  3.53        -3.27   3.53       \n",
       "3       2012    genetics     -3.46  1.71        -3.13   3.66       \n",
       "4       2012    genetics     -3.27  3.53        -3.13   3.66       \n",
       "5       2014    genetics      1.24  0.24         1.97   0.26       \n",
       "6       2014    genetics      1.97  0.26         1.97   0.26       \n",
       "7       2014    genetics      1.24  0.24         2.01   0.29       \n",
       "8       2014    genetics      1.97  0.26         2.01   0.29       \n",
       "9       2012-4  genetics     -0.24  0.40        -0.23   0.44       \n",
       "10      2012-4  genetics     -0.23  0.44        -0.23   0.44       \n",
       "11      2012-4  genetics     -0.24  0.40         0.04   0.44       \n",
       "12      2012-4  genetics     -0.23  0.44         0.04   0.44       \n",
       "13      NEM     genetics      0.56  0.31         0.76   0.37       \n",
       "14      NEM     genetics      0.76  0.37         0.76   0.37       \n",
       "15      NEM     genetics      0.56  0.31         1.14   0.39       \n",
       "16      NEM     genetics      0.76  0.37         1.14   0.39       \n",
       "17      2013    simulation  -10.00  0.63         6.82   0.63       \n",
       "18      2013    simulation  -10.00  0.63         6.83   0.63       \n",
       "19      2013    simulation  -10.00  0.63         6.84   0.63       \n",
       "20      2013    simulation  -10.00  0.63         6.85   0.63       \n",
       "21      2013    simulation  -10.00  0.63         6.86   0.63       \n",
       "22      2013    simulation  -10.00  0.63         6.87   0.63       \n",
       "23      2013    simulation  -10.00  0.63         6.88   0.63       \n",
       "24      2013    simulation  -10.00  0.63         6.89   0.63       \n",
       "25      2013    simulation  -10.00  0.63         6.90   0.63       \n",
       "26      2013    simulation  -10.00  0.63         6.91   0.63       \n",
       "27      2013    simulation  -10.00  0.63         6.92   0.63       \n",
       "28      2013    simulation  -10.00  0.63         6.93   0.63       \n",
       "29      2013    simulation  -10.00  0.63         6.94   0.63       \n",
       "30      2013    simulation  -10.00  0.63         6.95   0.63       \n",
       "...     ...     ...         ...     ...         ...     ...        \n",
       "2165976 SWM     simulation  -10.0   0.42         9.86   5          \n",
       "2165977 SWM     simulation    0.6   0.42         9.86   5          \n",
       "2165978 SWM     simulation  -10.0   0.42         9.87   5          \n",
       "2165979 SWM     simulation    0.6   0.42         9.87   5          \n",
       "2165980 SWM     simulation  -10.0   0.42         9.88   5          \n",
       "2165981 SWM     simulation    0.6   0.42         9.88   5          \n",
       "2165982 SWM     simulation  -10.0   0.42         9.89   5          \n",
       "2165983 SWM     simulation    0.6   0.42         9.89   5          \n",
       "2165984 SWM     simulation  -10.0   0.42         9.90   5          \n",
       "2165985 SWM     simulation    0.6   0.42         9.90   5          \n",
       "2165986 SWM     simulation  -10.0   0.42         9.91   5          \n",
       "2165987 SWM     simulation    0.6   0.42         9.91   5          \n",
       "2165988 SWM     simulation  -10.0   0.42         9.92   5          \n",
       "2165989 SWM     simulation    0.6   0.42         9.92   5          \n",
       "2165990 SWM     simulation  -10.0   0.42         9.93   5          \n",
       "2165991 SWM     simulation    0.6   0.42         9.93   5          \n",
       "2165992 SWM     simulation  -10.0   0.42         9.94   5          \n",
       "2165993 SWM     simulation    0.6   0.42         9.94   5          \n",
       "2165994 SWM     simulation  -10.0   0.42         9.95   5          \n",
       "2165995 SWM     simulation    0.6   0.42         9.95   5          \n",
       "2165996 SWM     simulation  -10.0   0.42         9.96   5          \n",
       "2165997 SWM     simulation    0.6   0.42         9.96   5          \n",
       "2165998 SWM     simulation  -10.0   0.42         9.97   5          \n",
       "2165999 SWM     simulation    0.6   0.42         9.97   5          \n",
       "2166000 SWM     simulation  -10.0   0.42         9.98   5          \n",
       "2166001 SWM     simulation    0.6   0.42         9.98   5          \n",
       "2166002 SWM     simulation  -10.0   0.42         9.99   5          \n",
       "2166003 SWM     simulation    0.6   0.42         9.99   5          \n",
       "2166004 SWM     simulation  -10.0   0.42        10.00   5          \n",
       "2166005 SWM     simulation    0.6   0.42        10.00   5          "
      ]
     },
     "metadata": {},
     "output_type": "display_data"
    }
   ],
   "source": [
    "GenPlusSimKernels95CISummaryLower[GenPlusSimKernels95CISummaryUpper, on=.(time_id, data_source), allow.cartesian=T]"
   ]
  },
  {
   "cell_type": "code",
   "execution_count": 46,
   "metadata": {},
   "outputs": [
    {
     "data": {
      "text/html": [
       "<table>\n",
       "<thead><tr><th scope=col>time_scale</th><th scope=col>time_id</th><th scope=col>k</th><th scope=col>theta</th><th scope=col>mdd</th><th scope=col>med</th><th scope=col>dist90</th><th scope=col>log_like</th><th scope=col>data_source</th></tr></thead>\n",
       "<tbody>\n",
       "\t<tr><td>annual     </td><td>2012       </td><td>-3.27      </td><td>3.53       </td><td>13.02      </td><td>12.02      </td><td> 25.08     </td><td> -17.26499 </td><td>genetics   </td></tr>\n",
       "\t<tr><td>annual     </td><td>2013       </td><td>-3.38      </td><td>8.00       </td><td>14.20      </td><td>13.89      </td><td> 25.94     </td><td>-111.36299 </td><td>genetics   </td></tr>\n",
       "\t<tr><td>annual     </td><td>2014       </td><td> 1.97      </td><td>0.26       </td><td>76.17      </td><td>17.50      </td><td>182.75     </td><td> -78.48620 </td><td>genetics   </td></tr>\n",
       "\t<tr><td>interannual</td><td>2012-4     </td><td>-0.23      </td><td>0.44       </td><td>13.69      </td><td> 5.77      </td><td> 34.74     </td><td>-218.61429 </td><td>genetics   </td></tr>\n",
       "\t<tr><td>season     </td><td>NEM        </td><td> 0.76      </td><td>0.37       </td><td>12.87      </td><td> 4.64      </td><td> 32.61     </td><td> -27.26112 </td><td>genetics   </td></tr>\n",
       "\t<tr><td>season     </td><td>SWM        </td><td>-3.46      </td><td>8.00       </td><td>15.35      </td><td>15.02      </td><td> 28.05     </td><td> -70.92640 </td><td>genetics   </td></tr>\n",
       "</tbody>\n",
       "</table>\n"
      ],
      "text/latex": [
       "\\begin{tabular}{r|lllllllll}\n",
       " time\\_scale & time\\_id & k & theta & mdd & med & dist90 & log\\_like & data\\_source\\\\\n",
       "\\hline\n",
       "\t annual      & 2012        & -3.27       & 3.53        & 13.02       & 12.02       &  25.08      &  -17.26499  & genetics   \\\\\n",
       "\t annual      & 2013        & -3.38       & 8.00        & 14.20       & 13.89       &  25.94      & -111.36299  & genetics   \\\\\n",
       "\t annual      & 2014        &  1.97       & 0.26        & 76.17       & 17.50       & 182.75      &  -78.48620  & genetics   \\\\\n",
       "\t interannual & 2012-4      & -0.23       & 0.44        & 13.69       &  5.77       &  34.74      & -218.61429  & genetics   \\\\\n",
       "\t season      & NEM         &  0.76       & 0.37        & 12.87       &  4.64       &  32.61      &  -27.26112  & genetics   \\\\\n",
       "\t season      & SWM         & -3.46       & 8.00        & 15.35       & 15.02       &  28.05      &  -70.92640  & genetics   \\\\\n",
       "\\end{tabular}\n"
      ],
      "text/markdown": [
       "\n",
       "| time_scale | time_id | k | theta | mdd | med | dist90 | log_like | data_source |\n",
       "|---|---|---|---|---|---|---|---|---|\n",
       "| annual      | 2012        | -3.27       | 3.53        | 13.02       | 12.02       |  25.08      |  -17.26499  | genetics    |\n",
       "| annual      | 2013        | -3.38       | 8.00        | 14.20       | 13.89       |  25.94      | -111.36299  | genetics    |\n",
       "| annual      | 2014        |  1.97       | 0.26        | 76.17       | 17.50       | 182.75      |  -78.48620  | genetics    |\n",
       "| interannual | 2012-4      | -0.23       | 0.44        | 13.69       |  5.77       |  34.74      | -218.61429  | genetics    |\n",
       "| season      | NEM         |  0.76       | 0.37        | 12.87       |  4.64       |  32.61      |  -27.26112  | genetics    |\n",
       "| season      | SWM         | -3.46       | 8.00        | 15.35       | 15.02       |  28.05      |  -70.92640  | genetics    |\n",
       "\n"
      ],
      "text/plain": [
       "  time_scale  time_id k     theta mdd   med   dist90 log_like   data_source\n",
       "1 annual      2012    -3.27 3.53  13.02 12.02  25.08  -17.26499 genetics   \n",
       "2 annual      2013    -3.38 8.00  14.20 13.89  25.94 -111.36299 genetics   \n",
       "3 annual      2014     1.97 0.26  76.17 17.50 182.75  -78.48620 genetics   \n",
       "4 interannual 2012-4  -0.23 0.44  13.69  5.77  34.74 -218.61429 genetics   \n",
       "5 season      NEM      0.76 0.37  12.87  4.64  32.61  -27.26112 genetics   \n",
       "6 season      SWM     -3.46 8.00  15.35 15.02  28.05  -70.92640 genetics   "
      ]
     },
     "metadata": {},
     "output_type": "display_data"
    },
    {
     "data": {
      "text/html": [
       "<table>\n",
       "<thead><tr><th scope=col>time_scale</th><th scope=col>time_id</th><th scope=col>k</th><th scope=col>theta</th><th scope=col>mdd</th><th scope=col>med</th><th scope=col>dist90</th><th scope=col>log_like</th><th scope=col>data_source</th></tr></thead>\n",
       "<tbody>\n",
       "\t<tr><td>annual     </td><td>2012       </td><td>-2.16      </td><td>4.99       </td><td>4.21       </td><td>4.01       </td><td> 7.88      </td><td> -148583.15</td><td>simulation </td></tr>\n",
       "\t<tr><td>annual     </td><td>2013       </td><td>-0.46      </td><td>0.63       </td><td>4.21       </td><td>2.32       </td><td>10.38      </td><td> -549040.28</td><td>simulation </td></tr>\n",
       "\t<tr><td>annual     </td><td>2014       </td><td> 0.28      </td><td>0.53       </td><td>3.65       </td><td>1.78       </td><td> 9.16      </td><td> -527734.31</td><td>simulation </td></tr>\n",
       "\t<tr><td>interannual</td><td>2012-4     </td><td>-0.10      </td><td>0.58       </td><td>3.90       </td><td>2.03       </td><td> 9.72      </td><td>-1682004.75</td><td>simulation </td></tr>\n",
       "\t<tr><td>season     </td><td>NEM        </td><td>-0.23      </td><td>0.61       </td><td>3.71       </td><td>2.00       </td><td> 9.19      </td><td>-1566546.34</td><td>simulation </td></tr>\n",
       "\t<tr><td>season     </td><td>SWM        </td><td> 0.60      </td><td>0.42       </td><td>7.89       </td><td>3.17       </td><td>20.02      </td><td>  -90949.14</td><td>simulation </td></tr>\n",
       "</tbody>\n",
       "</table>\n"
      ],
      "text/latex": [
       "\\begin{tabular}{r|lllllllll}\n",
       " time\\_scale & time\\_id & k & theta & mdd & med & dist90 & log\\_like & data\\_source\\\\\n",
       "\\hline\n",
       "\t annual      & 2012        & -2.16       & 4.99        & 4.21        & 4.01        &  7.88       &  -148583.15 & simulation \\\\\n",
       "\t annual      & 2013        & -0.46       & 0.63        & 4.21        & 2.32        & 10.38       &  -549040.28 & simulation \\\\\n",
       "\t annual      & 2014        &  0.28       & 0.53        & 3.65        & 1.78        &  9.16       &  -527734.31 & simulation \\\\\n",
       "\t interannual & 2012-4      & -0.10       & 0.58        & 3.90        & 2.03        &  9.72       & -1682004.75 & simulation \\\\\n",
       "\t season      & NEM         & -0.23       & 0.61        & 3.71        & 2.00        &  9.19       & -1566546.34 & simulation \\\\\n",
       "\t season      & SWM         &  0.60       & 0.42        & 7.89        & 3.17        & 20.02       &   -90949.14 & simulation \\\\\n",
       "\\end{tabular}\n"
      ],
      "text/markdown": [
       "\n",
       "| time_scale | time_id | k | theta | mdd | med | dist90 | log_like | data_source |\n",
       "|---|---|---|---|---|---|---|---|---|\n",
       "| annual      | 2012        | -2.16       | 4.99        | 4.21        | 4.01        |  7.88       |  -148583.15 | simulation  |\n",
       "| annual      | 2013        | -0.46       | 0.63        | 4.21        | 2.32        | 10.38       |  -549040.28 | simulation  |\n",
       "| annual      | 2014        |  0.28       | 0.53        | 3.65        | 1.78        |  9.16       |  -527734.31 | simulation  |\n",
       "| interannual | 2012-4      | -0.10       | 0.58        | 3.90        | 2.03        |  9.72       | -1682004.75 | simulation  |\n",
       "| season      | NEM         | -0.23       | 0.61        | 3.71        | 2.00        |  9.19       | -1566546.34 | simulation  |\n",
       "| season      | SWM         |  0.60       | 0.42        | 7.89        | 3.17        | 20.02       |   -90949.14 | simulation  |\n",
       "\n"
      ],
      "text/plain": [
       "  time_scale  time_id k     theta mdd  med  dist90 log_like    data_source\n",
       "1 annual      2012    -2.16 4.99  4.21 4.01  7.88   -148583.15 simulation \n",
       "2 annual      2013    -0.46 0.63  4.21 2.32 10.38   -549040.28 simulation \n",
       "3 annual      2014     0.28 0.53  3.65 1.78  9.16   -527734.31 simulation \n",
       "4 interannual 2012-4  -0.10 0.58  3.90 2.03  9.72  -1682004.75 simulation \n",
       "5 season      NEM     -0.23 0.61  3.71 2.00  9.19  -1566546.34 simulation \n",
       "6 season      SWM      0.60 0.42  7.89 3.17 20.02    -90949.14 simulation "
      ]
     },
     "metadata": {},
     "output_type": "display_data"
    }
   ],
   "source": [
    "GenKernels\n",
    "SimKernels"
   ]
  },
  {
   "cell_type": "code",
   "execution_count": 42,
   "metadata": {},
   "outputs": [
    {
     "name": "stderr",
     "output_type": "stream",
     "text": [
      "Warning message in max(log_like):\n",
      "“no non-missing arguments to max; returning -Inf”"
     ]
    },
    {
     "data": {
      "text/html": [
       "<table>\n",
       "<thead><tr><th scope=col>lower_k</th><th scope=col>lower_theta</th><th scope=col>log_like</th><th scope=col>data_source</th><th scope=col>time_id</th><th scope=col>cutoff</th><th scope=col>best_k</th><th scope=col>best_theta</th></tr></thead>\n",
       "<tbody>\n",
       "</tbody>\n",
       "</table>\n"
      ],
      "text/latex": [
       "\\begin{tabular}{r|llllllll}\n",
       " lower\\_k & lower\\_theta & log\\_like & data\\_source & time\\_id & cutoff & best\\_k & best\\_theta\\\\\n",
       "\\hline\n",
       "\\end{tabular}\n"
      ],
      "text/markdown": [
       "\n",
       "| lower_k | lower_theta | log_like | data_source | time_id | cutoff | best_k | best_theta |\n",
       "|---|---|---|---|---|---|---|---|\n",
       "\n"
      ],
      "text/plain": [
       "     lower_k lower_theta log_like data_source time_id cutoff best_k best_theta"
      ]
     },
     "metadata": {},
     "output_type": "display_data"
    },
    {
     "name": "stderr",
     "output_type": "stream",
     "text": [
      "Warning message in max(log_like):\n",
      "“no non-missing arguments to max; returning -Inf”"
     ]
    },
    {
     "data": {
      "text/html": [
       "<table>\n",
       "<thead><tr><th scope=col>upper_k</th><th scope=col>upper_theta</th><th scope=col>log_like</th><th scope=col>data_source</th><th scope=col>time_id</th><th scope=col>cutoff</th><th scope=col>best_k</th><th scope=col>best_theta</th></tr></thead>\n",
       "<tbody>\n",
       "</tbody>\n",
       "</table>\n"
      ],
      "text/latex": [
       "\\begin{tabular}{r|llllllll}\n",
       " upper\\_k & upper\\_theta & log\\_like & data\\_source & time\\_id & cutoff & best\\_k & best\\_theta\\\\\n",
       "\\hline\n",
       "\\end{tabular}\n"
      ],
      "text/markdown": [
       "\n",
       "| upper_k | upper_theta | log_like | data_source | time_id | cutoff | best_k | best_theta |\n",
       "|---|---|---|---|---|---|---|---|\n",
       "\n"
      ],
      "text/plain": [
       "     upper_k upper_theta log_like data_source time_id cutoff best_k best_theta"
      ]
     },
     "metadata": {},
     "output_type": "display_data"
    }
   ],
   "source": [
    "GenPlusSimKernels95CI[time_id==\"2012\" & lower_profile==\"yes\" & data_source==\"simulation\"][log_like==max(log_like)][, .(lower_k=k_eval, lower_theta=theta_eval, log_like, data_source, time_id, cutoff, best_k, best_theta)]\n",
    "GenPlusSimKernels95CI[time_id==\"2012\" & upper_profile==\"yes\" & data_source==\"simulation\"][log_like==max(log_like)][, .(upper_k=k_eval, upper_theta=theta_eval, log_like, data_source, time_id, cutoff, best_k, best_theta)]\n"
   ]
  },
  {
   "cell_type": "code",
   "execution_count": 69,
   "metadata": {},
   "outputs": [
    {
     "data": {
      "text/html": [
       "<table>\n",
       "<thead><tr><th scope=col>upper_k</th><th scope=col>upper_theta</th><th scope=col>log_like</th><th scope=col>data_source</th><th scope=col>time_id</th><th scope=col>cutoff</th><th scope=col>best_k</th><th scope=col>best_theta</th></tr></thead>\n",
       "<tbody>\n",
       "\t<tr><td>-3.13   </td><td>3.66    </td><td>20.2601 </td><td>genetics</td><td>2012    </td><td>20.26073</td><td>-3.27   </td><td>3.53    </td></tr>\n",
       "</tbody>\n",
       "</table>\n"
      ],
      "text/latex": [
       "\\begin{tabular}{r|llllllll}\n",
       " upper\\_k & upper\\_theta & log\\_like & data\\_source & time\\_id & cutoff & best\\_k & best\\_theta\\\\\n",
       "\\hline\n",
       "\t -3.13    & 3.66     & 20.2601  & genetics & 2012     & 20.26073 & -3.27    & 3.53    \\\\\n",
       "\\end{tabular}\n"
      ],
      "text/markdown": [
       "\n",
       "| upper_k | upper_theta | log_like | data_source | time_id | cutoff | best_k | best_theta |\n",
       "|---|---|---|---|---|---|---|---|\n",
       "| -3.13    | 3.66     | 20.2601  | genetics | 2012     | 20.26073 | -3.27    | 3.53     |\n",
       "\n"
      ],
      "text/plain": [
       "  upper_k upper_theta log_like data_source time_id cutoff   best_k best_theta\n",
       "1 -3.13   3.66        20.2601  genetics    2012    20.26073 -3.27  3.53      "
      ]
     },
     "metadata": {},
     "output_type": "display_data"
    }
   ],
   "source": [
    "GenPlusSimKernels95CI[time_id==\"2012\" & upper_profile==\"yes\" & data_source==\"genetics\"][log_like==max(log_like)][, .(upper_k=k_eval, upper_theta=theta_eval, log_like, data_source, time_id, cutoff, best_k, best_theta)]\n"
   ]
  },
  {
   "cell_type": "code",
   "execution_count": null,
   "metadata": {},
   "outputs": [],
   "source": [
    "GenKernels[time_id==\"2012\", log_like])\n",
    "\n",
    "lower_profile_all <- ProfileGen2012_4_CI95 %>%\n",
    "    filter(k_eval <= best_k_all & theta_eval <= best_theta_all)\n",
    "\n",
    "\n",
    "#pull out the values above the cutoff\n",
    "upper_profile_all <- profile_all_df95 %>%\n",
    "    filter(k_eval >= best_k_all & theta_eval >= best_theta_all)\n",
    "\n",
    "upper_all <- upper_profile_all %>%\n",
    "    filter(log_like== max(log_like))\n",
    "lower_all <- lower_profile_all %>%\n",
    "    filter(log_like== max(log_like))\n",
    "\n",
    "upper_k_all <- as.numeric(upper_all %>%\n",
    "                          select(k_eval))\n",
    "upper_theta_all <- as.numeric(upper_all %>%\n",
    "                          select(theta_eval))\n",
    "lower_k_all <- as.numeric(lower_all %>%\n",
    "                          select(k_eval))\n",
    "lower_theta_all <- as.numeric(lower_all %>%\n",
    "                          select(theta_eval))\n",
    "upper_k_all"
   ]
  },
  {
   "cell_type": "code",
   "execution_count": 97,
   "metadata": {},
   "outputs": [
    {
     "data": {
      "text/html": [
       "<table>\n",
       "<thead><tr><th scope=col>k_eval</th><th scope=col>theta_eval</th><th scope=col>log_like</th><th scope=col>data_source</th><th scope=col>time_id</th><th scope=col>cutoff</th></tr></thead>\n",
       "<tbody>\n",
       "\t<tr><td>0.42    </td><td>0.31    </td><td>20.25926</td><td>genetics</td><td>2012    </td><td>20.26073</td></tr>\n",
       "\t<tr><td>0.43    </td><td>0.31    </td><td>20.25766</td><td>genetics</td><td>2012    </td><td>20.26073</td></tr>\n",
       "\t<tr><td>0.44    </td><td>0.31    </td><td>20.25617</td><td>genetics</td><td>2012    </td><td>20.26073</td></tr>\n",
       "\t<tr><td>0.45    </td><td>0.31    </td><td>20.25477</td><td>genetics</td><td>2012    </td><td>20.26073</td></tr>\n",
       "\t<tr><td>0.46    </td><td>0.31    </td><td>20.25348</td><td>genetics</td><td>2012    </td><td>20.26073</td></tr>\n",
       "\t<tr><td>0.47    </td><td>0.31    </td><td>20.25229</td><td>genetics</td><td>2012    </td><td>20.26073</td></tr>\n",
       "</tbody>\n",
       "</table>\n"
      ],
      "text/latex": [
       "\\begin{tabular}{r|llllll}\n",
       " k\\_eval & theta\\_eval & log\\_like & data\\_source & time\\_id & cutoff\\\\\n",
       "\\hline\n",
       "\t 0.42     & 0.31     & 20.25926 & genetics & 2012     & 20.26073\\\\\n",
       "\t 0.43     & 0.31     & 20.25766 & genetics & 2012     & 20.26073\\\\\n",
       "\t 0.44     & 0.31     & 20.25617 & genetics & 2012     & 20.26073\\\\\n",
       "\t 0.45     & 0.31     & 20.25477 & genetics & 2012     & 20.26073\\\\\n",
       "\t 0.46     & 0.31     & 20.25348 & genetics & 2012     & 20.26073\\\\\n",
       "\t 0.47     & 0.31     & 20.25229 & genetics & 2012     & 20.26073\\\\\n",
       "\\end{tabular}\n"
      ],
      "text/markdown": [
       "\n",
       "| k_eval | theta_eval | log_like | data_source | time_id | cutoff |\n",
       "|---|---|---|---|---|---|\n",
       "| 0.42     | 0.31     | 20.25926 | genetics | 2012     | 20.26073 |\n",
       "| 0.43     | 0.31     | 20.25766 | genetics | 2012     | 20.26073 |\n",
       "| 0.44     | 0.31     | 20.25617 | genetics | 2012     | 20.26073 |\n",
       "| 0.45     | 0.31     | 20.25477 | genetics | 2012     | 20.26073 |\n",
       "| 0.46     | 0.31     | 20.25348 | genetics | 2012     | 20.26073 |\n",
       "| 0.47     | 0.31     | 20.25229 | genetics | 2012     | 20.26073 |\n",
       "\n"
      ],
      "text/plain": [
       "  k_eval theta_eval log_like data_source time_id cutoff  \n",
       "1 0.42   0.31       20.25926 genetics    2012    20.26073\n",
       "2 0.43   0.31       20.25766 genetics    2012    20.26073\n",
       "3 0.44   0.31       20.25617 genetics    2012    20.26073\n",
       "4 0.45   0.31       20.25477 genetics    2012    20.26073\n",
       "5 0.46   0.31       20.25348 genetics    2012    20.26073\n",
       "6 0.47   0.31       20.25229 genetics    2012    20.26073"
      ]
     },
     "metadata": {},
     "output_type": "display_data"
    }
   ],
   "source": [
    "head(GenPlusSimKernels95CI)"
   ]
  },
  {
   "cell_type": "code",
   "execution_count": null,
   "metadata": {},
   "outputs": [],
   "source": []
  },
  {
   "cell_type": "code",
   "execution_count": 78,
   "metadata": {},
   "outputs": [],
   "source": [
    "#plot likelihood surface\n",
    "cbbPalette <- c(\"#D55E00\", \"#0072B2\", \"#F0E442\", \"#009E73\", \"#56B4E9\", \"#E69F00\", \"#CC79A7\") \n",
    "\n",
    "\n",
    "stat_contour <- ggplot(data=ProfileGen2012, aes(x=k_eval, y=theta_eval)) +\n",
    "    stat_contour(data=GenPlusSimKernels95CI[time_id==\"2012-4\" & data_source==\"genetics\"], aes(z = log_like), breaks = GenPlusSimKernels95CI[time_id==\"2012-4\" & data_source==\"genetics\", cutoff][1], size=1.5, colour=\"#D55E00\") +\n",
    "    #stat_contour(data=profile_13_df %>% filter(theta_eval <= 5 & k_eval <=10), aes(z = log_like), breaks = cutoff_Gen2013, size=1, colour=\"#0072B2\", alpha= 0.6) +\n",
    "    #stat_contour(data=profile_14_df %>% filter(theta_eval <= 5 & k_eval <=10), aes(z = log_like), breaks = cutoff_Gen2014, size=1, colour=\"#F0E442\", alpha= 0.6) +\n",
    "    #stat_contour(data=profile_15_df %>% filter(theta_eval <= 5 & k_eval <=10), aes(z = log_like), breaks = cutoff_Gen2012_4, size=1, colour=\"#009E73\", alpha= 0.6) +\n",
    "    #stat_contour(data=profile_16_df %>% filter(theta_eval <= 5 & k_eval <=10), aes(z = log_like), breaks = cutoff_Gen16, size=1, colour=\"#56B4E9\", alpha= 0.6) +\n",
    "    #stat_contour(data=profile_17_df %>% filter(theta_eval <= 5 & k_eval <=10), aes(z = log_like), breaks = cutoff_Gen17, size=1, colour=\"#E69F00\", alpha= 0.6) +\n",
    "    #stat_contour(data=profile_18_df %>% filter(theta_eval <= 5 & k_eval <=10), aes(z = log_like), breaks = cutoff_Gen18, size=1, colour=\"#CC79A7\", alpha= 0.6) +\n",
    "    scale_x_continuous(breaks = seq(-10, 10, by = 1), expand = c(0, 0)) + \n",
    "    scale_y_continuous(breaks = seq(0.1, 5.3, by = 1), expand = c(0, 0)) +\n",
    "    theme(legend.title=element_blank(),\n",
    "    axis.text.x = element_text(size=12, color=\"black\", family=\"Helvetica\"),#15 for publication, 20 for presentation #element_text(size=15, color=\"black\", family=\"Helvetica\"),\n",
    "    axis.text.y =  element_text(size=12, color=\"black\", family=\"Helvetica\"),\n",
    "    axis.title.y =  element_text(size=14, color=\"black\", family=\"Helvetica\"), \n",
    "    axis.title.x =  element_text(size=14, color=\"black\", family=\"Helvetica\")) +\n",
    "    xlab(\"k\") + ylab(expression(theta)) +\n",
    "    theme_bw()\n",
    "\n",
    "\n",
    "\n",
    "\n",
    "#ggplot2::ggsave(filename=\"All95CISurfacesCombined_contour.png\",  plot=stat_contour, path=\"~/parentage/kernel_fitting/1340_loci/final_results/likelihood_profiles_grid_search/\")\n",
    "#stat_contour\n"
   ]
  },
  {
   "cell_type": "code",
   "execution_count": null,
   "metadata": {},
   "outputs": [],
   "source": []
  },
  {
   "cell_type": "code",
   "execution_count": null,
   "metadata": {},
   "outputs": [],
   "source": []
  },
  {
   "cell_type": "code",
   "execution_count": null,
   "metadata": {},
   "outputs": [],
   "source": []
  },
  {
   "cell_type": "code",
   "execution_count": null,
   "metadata": {},
   "outputs": [],
   "source": []
  },
  {
   "cell_type": "code",
   "execution_count": null,
   "metadata": {},
   "outputs": [],
   "source": []
  },
  {
   "cell_type": "code",
   "execution_count": 51,
   "metadata": {},
   "outputs": [],
   "source": [
    "#calculate various summary stats that we will plot for 100 kernels in the CI of each time frame\n",
    "GenPlusSimKernels95CISamp <- GenPlusSimKernels95CI[, .SD[sample(.N, 100, prob=max(log_like)/log_like)], by = c(\"time_id\", \"data_source\")][ #weight the fits by distance from the best log like\n",
    "    , `:=`(mdd=round(mean_disp_dist(k = k_eval, theta=theta_eval), 2),\n",
    "                            med=round(nleqslv(x = 7, fn = cdf_solve, k=k_eval, theta=theta_eval)$x, 2),\n",
    "                            dist90=round(nleqslv(x = 7, fn = cdf_solve90, k=k_eval, theta=theta_eval)$x, 2)),\n",
    "                      by=c(\"k_eval\", \"theta_eval\")]"
   ]
  },
  {
   "cell_type": "code",
   "execution_count": 53,
   "metadata": {},
   "outputs": [],
   "source": [
    "#write out table with summary stats that are plotted to keep plots consistent\n",
    "#fwrite(GenPlusSimKernels95CISamp, \"~/oceanography/script_output/KernelFits/GenPlusSimKernels95CISummaryStatsSamp.csv\")"
   ]
  },
  {
   "cell_type": "code",
   "execution_count": 13,
   "metadata": {},
   "outputs": [],
   "source": [
    "GenPlusSimKernelsSummaryMLE <- rbind(SimKernels, GenKernels)#combine MLE from the bbmle optimization into one table, get CIs and write out again\n",
    "\n",
    "#GenPlusSimKernelsSummaryMLE[, `:=`(lower_k=min(GenPlusSimKernels95CI[time_id==GenPlusSimKernelsSummaryMLE$time_id]))] #get the min/max of k/theta from the likelihood surface"
   ]
  },
  {
   "cell_type": "code",
   "execution_count": 99,
   "metadata": {},
   "outputs": [],
   "source": [
    "CIs <- GenPlusSimKernels95CI[, .(lower_k=min(k_eval), upper_k=max(k_eval), lower_theta=min(theta_eval), upper_theta=max(theta_eval)), by=c(\"time_id\", \"data_source\")]\n",
    "GenPlusSimKernelsSummaryMLEWithCI <- CIs[GenPlusSimKernelsSummaryMLE, on=c(\"time_id\", \"data_source\")]"
   ]
  },
  {
   "cell_type": "code",
   "execution_count": 102,
   "metadata": {},
   "outputs": [
    {
     "data": {
      "text/html": [
       "<table>\n",
       "<thead><tr><th scope=col>time_id</th><th scope=col>data_source</th><th scope=col>lower_k</th><th scope=col>upper_k</th><th scope=col>lower_theta</th><th scope=col>upper_theta</th><th scope=col>time_scale</th><th scope=col>k</th><th scope=col>theta</th><th scope=col>mdd</th><th scope=col>med</th><th scope=col>dist90</th><th scope=col>log_like</th></tr></thead>\n",
       "<tbody>\n",
       "\t<tr><td>2012        </td><td>simulation  </td><td>-2.16       </td><td>-2.16       </td><td>4.86        </td><td>4.97        </td><td>annual      </td><td>-2.16       </td><td>4.99        </td><td> 4.21       </td><td> 4.01       </td><td> 7.88       </td><td>-148583.1528</td></tr>\n",
       "\t<tr><td>2013        </td><td>genetics    </td><td>-3.33       </td><td>-3.02       </td><td>2.64        </td><td>5.00        </td><td>annual      </td><td>-3.38       </td><td>8.00        </td><td>14.20       </td><td>13.89       </td><td>25.94       </td><td>   -111.3630</td></tr>\n",
       "\t<tr><td>SWM         </td><td>genetics    </td><td>-3.47       </td><td>-3.04       </td><td>1.90        </td><td>5.00        </td><td>season      </td><td>-3.46       </td><td>8.00        </td><td>15.35       </td><td>15.02       </td><td>28.05       </td><td>    -70.9264</td></tr>\n",
       "</tbody>\n",
       "</table>\n"
      ],
      "text/latex": [
       "\\begin{tabular}{r|lllllllllllll}\n",
       " time\\_id & data\\_source & lower\\_k & upper\\_k & lower\\_theta & upper\\_theta & time\\_scale & k & theta & mdd & med & dist90 & log\\_like\\\\\n",
       "\\hline\n",
       "\t 2012         & simulation   & -2.16        & -2.16        & 4.86         & 4.97         & annual       & -2.16        & 4.99         &  4.21        &  4.01        &  7.88        & -148583.1528\\\\\n",
       "\t 2013         & genetics     & -3.33        & -3.02        & 2.64         & 5.00         & annual       & -3.38        & 8.00         & 14.20        & 13.89        & 25.94        &    -111.3630\\\\\n",
       "\t SWM          & genetics     & -3.47        & -3.04        & 1.90         & 5.00         & season       & -3.46        & 8.00         & 15.35        & 15.02        & 28.05        &     -70.9264\\\\\n",
       "\\end{tabular}\n"
      ],
      "text/markdown": [
       "\n",
       "| time_id | data_source | lower_k | upper_k | lower_theta | upper_theta | time_scale | k | theta | mdd | med | dist90 | log_like |\n",
       "|---|---|---|---|---|---|---|---|---|---|---|---|---|\n",
       "| 2012         | simulation   | -2.16        | -2.16        | 4.86         | 4.97         | annual       | -2.16        | 4.99         |  4.21        |  4.01        |  7.88        | -148583.1528 |\n",
       "| 2013         | genetics     | -3.33        | -3.02        | 2.64         | 5.00         | annual       | -3.38        | 8.00         | 14.20        | 13.89        | 25.94        |    -111.3630 |\n",
       "| SWM          | genetics     | -3.47        | -3.04        | 1.90         | 5.00         | season       | -3.46        | 8.00         | 15.35        | 15.02        | 28.05        |     -70.9264 |\n",
       "\n"
      ],
      "text/plain": [
       "  time_id data_source lower_k upper_k lower_theta upper_theta time_scale k    \n",
       "1 2012    simulation  -2.16   -2.16   4.86        4.97        annual     -2.16\n",
       "2 2013    genetics    -3.33   -3.02   2.64        5.00        annual     -3.38\n",
       "3 SWM     genetics    -3.47   -3.04   1.90        5.00        season     -3.46\n",
       "  theta mdd   med   dist90 log_like    \n",
       "1 4.99   4.21  4.01  7.88  -148583.1528\n",
       "2 8.00  14.20 13.89 25.94     -111.3630\n",
       "3 8.00  15.35 15.02 28.05      -70.9264"
      ]
     },
     "metadata": {},
     "output_type": "display_data"
    },
    {
     "data": {
      "text/html": [
       "<table>\n",
       "<thead><tr><th scope=col>time_id</th><th scope=col>data_source</th><th scope=col>lower_k</th><th scope=col>upper_k</th><th scope=col>lower_theta</th><th scope=col>upper_theta</th><th scope=col>time_scale</th><th scope=col>k</th><th scope=col>theta</th><th scope=col>mdd</th><th scope=col>med</th><th scope=col>dist90</th><th scope=col>log_like</th></tr></thead>\n",
       "<tbody>\n",
       "\t<tr><td>2013        </td><td>simulation  </td><td>-0.46       </td><td>-0.46       </td><td>0.63        </td><td>0.63        </td><td>annual      </td><td>-0.46       </td><td>0.63        </td><td> 4.21       </td><td> 2.32       </td><td>10.38       </td><td> -549040.284</td></tr>\n",
       "\t<tr><td>2014        </td><td>simulation  </td><td> 0.26       </td><td> 0.27       </td><td>0.53        </td><td>0.53        </td><td>annual      </td><td> 0.28       </td><td>0.53        </td><td> 3.65       </td><td> 1.78       </td><td> 9.16       </td><td> -527734.314</td></tr>\n",
       "\t<tr><td>2012-4      </td><td>simulation  </td><td>-0.13       </td><td>-0.13       </td><td>0.58        </td><td>0.58        </td><td>interannual </td><td>-0.10       </td><td>0.58        </td><td> 3.90       </td><td> 2.03       </td><td> 9.72       </td><td>-1682004.749</td></tr>\n",
       "\t<tr><td>NEM         </td><td>simulation  </td><td>-0.24       </td><td>-0.24       </td><td>0.61        </td><td>0.61        </td><td>season      </td><td>-0.23       </td><td>0.61        </td><td> 3.71       </td><td> 2.00       </td><td> 9.19       </td><td>-1566546.337</td></tr>\n",
       "\t<tr><td>2013        </td><td>genetics    </td><td>-3.33       </td><td>-3.02       </td><td>2.64        </td><td>5.00        </td><td>annual      </td><td>-3.38       </td><td>8.00        </td><td>14.20       </td><td>13.89       </td><td>25.94       </td><td>    -111.363</td></tr>\n",
       "</tbody>\n",
       "</table>\n"
      ],
      "text/latex": [
       "\\begin{tabular}{r|lllllllllllll}\n",
       " time\\_id & data\\_source & lower\\_k & upper\\_k & lower\\_theta & upper\\_theta & time\\_scale & k & theta & mdd & med & dist90 & log\\_like\\\\\n",
       "\\hline\n",
       "\t 2013         & simulation   & -0.46        & -0.46        & 0.63         & 0.63         & annual       & -0.46        & 0.63         &  4.21        &  2.32        & 10.38        &  -549040.284\\\\\n",
       "\t 2014         & simulation   &  0.26        &  0.27        & 0.53         & 0.53         & annual       &  0.28        & 0.53         &  3.65        &  1.78        &  9.16        &  -527734.314\\\\\n",
       "\t 2012-4       & simulation   & -0.13        & -0.13        & 0.58         & 0.58         & interannual  & -0.10        & 0.58         &  3.90        &  2.03        &  9.72        & -1682004.749\\\\\n",
       "\t NEM          & simulation   & -0.24        & -0.24        & 0.61         & 0.61         & season       & -0.23        & 0.61         &  3.71        &  2.00        &  9.19        & -1566546.337\\\\\n",
       "\t 2013         & genetics     & -3.33        & -3.02        & 2.64         & 5.00         & annual       & -3.38        & 8.00         & 14.20        & 13.89        & 25.94        &     -111.363\\\\\n",
       "\\end{tabular}\n"
      ],
      "text/markdown": [
       "\n",
       "| time_id | data_source | lower_k | upper_k | lower_theta | upper_theta | time_scale | k | theta | mdd | med | dist90 | log_like |\n",
       "|---|---|---|---|---|---|---|---|---|---|---|---|---|\n",
       "| 2013         | simulation   | -0.46        | -0.46        | 0.63         | 0.63         | annual       | -0.46        | 0.63         |  4.21        |  2.32        | 10.38        |  -549040.284 |\n",
       "| 2014         | simulation   |  0.26        |  0.27        | 0.53         | 0.53         | annual       |  0.28        | 0.53         |  3.65        |  1.78        |  9.16        |  -527734.314 |\n",
       "| 2012-4       | simulation   | -0.13        | -0.13        | 0.58         | 0.58         | interannual  | -0.10        | 0.58         |  3.90        |  2.03        |  9.72        | -1682004.749 |\n",
       "| NEM          | simulation   | -0.24        | -0.24        | 0.61         | 0.61         | season       | -0.23        | 0.61         |  3.71        |  2.00        |  9.19        | -1566546.337 |\n",
       "| 2013         | genetics     | -3.33        | -3.02        | 2.64         | 5.00         | annual       | -3.38        | 8.00         | 14.20        | 13.89        | 25.94        |     -111.363 |\n",
       "\n"
      ],
      "text/plain": [
       "  time_id data_source lower_k upper_k lower_theta upper_theta time_scale  k    \n",
       "1 2013    simulation  -0.46   -0.46   0.63        0.63        annual      -0.46\n",
       "2 2014    simulation   0.26    0.27   0.53        0.53        annual       0.28\n",
       "3 2012-4  simulation  -0.13   -0.13   0.58        0.58        interannual -0.10\n",
       "4 NEM     simulation  -0.24   -0.24   0.61        0.61        season      -0.23\n",
       "5 2013    genetics    -3.33   -3.02   2.64        5.00        annual      -3.38\n",
       "  theta mdd   med   dist90 log_like    \n",
       "1 0.63   4.21  2.32 10.38   -549040.284\n",
       "2 0.53   3.65  1.78  9.16   -527734.314\n",
       "3 0.58   3.90  2.03  9.72  -1682004.749\n",
       "4 0.61   3.71  2.00  9.19  -1566546.337\n",
       "5 8.00  14.20 13.89 25.94      -111.363"
      ]
     },
     "metadata": {},
     "output_type": "display_data"
    }
   ],
   "source": [
    "GenPlusSimKernelsSummaryMLEWithCI[theta> upper_theta | theta < lower_theta]\n",
    "GenPlusSimKernelsSummaryMLEWithCI[k > upper_k | k < lower_k]"
   ]
  },
  {
   "cell_type": "code",
   "execution_count": 105,
   "metadata": {},
   "outputs": [
    {
     "data": {
      "text/html": [
       "<table>\n",
       "<thead><tr><th scope=col>k_eval</th><th scope=col>theta_eval</th><th scope=col>log_like</th><th scope=col>data_source</th><th scope=col>time_id</th><th scope=col>cutoff</th><th scope=col>k</th><th scope=col>theta</th></tr></thead>\n",
       "<tbody>\n",
       "\t<tr><td>-2.16     </td><td>4.86      </td><td>148587.2  </td><td>simulation</td><td>2012      </td><td>148587.5  </td><td>-2.16     </td><td>4.99      </td></tr>\n",
       "\t<tr><td>-2.16     </td><td>4.87      </td><td>148586.3  </td><td>simulation</td><td>2012      </td><td>148587.5  </td><td>-2.16     </td><td>4.99      </td></tr>\n",
       "\t<tr><td>-2.16     </td><td>4.88      </td><td>148585.6  </td><td>simulation</td><td>2012      </td><td>148587.5  </td><td>-2.16     </td><td>4.99      </td></tr>\n",
       "\t<tr><td>-2.16     </td><td>4.89      </td><td>148585.1  </td><td>simulation</td><td>2012      </td><td>148587.5  </td><td>-2.16     </td><td>4.99      </td></tr>\n",
       "\t<tr><td>-2.16     </td><td>4.90      </td><td>148584.9  </td><td>simulation</td><td>2012      </td><td>148587.5  </td><td>-2.16     </td><td>4.99      </td></tr>\n",
       "\t<tr><td>-2.16     </td><td>4.91      </td><td>148584.7  </td><td>simulation</td><td>2012      </td><td>148587.5  </td><td>-2.16     </td><td>4.99      </td></tr>\n",
       "</tbody>\n",
       "</table>\n"
      ],
      "text/latex": [
       "\\begin{tabular}{r|llllllll}\n",
       " k\\_eval & theta\\_eval & log\\_like & data\\_source & time\\_id & cutoff & k & theta\\\\\n",
       "\\hline\n",
       "\t -2.16      & 4.86       & 148587.2   & simulation & 2012       & 148587.5   & -2.16      & 4.99      \\\\\n",
       "\t -2.16      & 4.87       & 148586.3   & simulation & 2012       & 148587.5   & -2.16      & 4.99      \\\\\n",
       "\t -2.16      & 4.88       & 148585.6   & simulation & 2012       & 148587.5   & -2.16      & 4.99      \\\\\n",
       "\t -2.16      & 4.89       & 148585.1   & simulation & 2012       & 148587.5   & -2.16      & 4.99      \\\\\n",
       "\t -2.16      & 4.90       & 148584.9   & simulation & 2012       & 148587.5   & -2.16      & 4.99      \\\\\n",
       "\t -2.16      & 4.91       & 148584.7   & simulation & 2012       & 148587.5   & -2.16      & 4.99      \\\\\n",
       "\\end{tabular}\n"
      ],
      "text/markdown": [
       "\n",
       "| k_eval | theta_eval | log_like | data_source | time_id | cutoff | k | theta |\n",
       "|---|---|---|---|---|---|---|---|\n",
       "| -2.16      | 4.86       | 148587.2   | simulation | 2012       | 148587.5   | -2.16      | 4.99       |\n",
       "| -2.16      | 4.87       | 148586.3   | simulation | 2012       | 148587.5   | -2.16      | 4.99       |\n",
       "| -2.16      | 4.88       | 148585.6   | simulation | 2012       | 148587.5   | -2.16      | 4.99       |\n",
       "| -2.16      | 4.89       | 148585.1   | simulation | 2012       | 148587.5   | -2.16      | 4.99       |\n",
       "| -2.16      | 4.90       | 148584.9   | simulation | 2012       | 148587.5   | -2.16      | 4.99       |\n",
       "| -2.16      | 4.91       | 148584.7   | simulation | 2012       | 148587.5   | -2.16      | 4.99       |\n",
       "\n"
      ],
      "text/plain": [
       "  k_eval theta_eval log_like data_source time_id cutoff   k     theta\n",
       "1 -2.16  4.86       148587.2 simulation  2012    148587.5 -2.16 4.99 \n",
       "2 -2.16  4.87       148586.3 simulation  2012    148587.5 -2.16 4.99 \n",
       "3 -2.16  4.88       148585.6 simulation  2012    148587.5 -2.16 4.99 \n",
       "4 -2.16  4.89       148585.1 simulation  2012    148587.5 -2.16 4.99 \n",
       "5 -2.16  4.90       148584.9 simulation  2012    148587.5 -2.16 4.99 \n",
       "6 -2.16  4.91       148584.7 simulation  2012    148587.5 -2.16 4.99 "
      ]
     },
     "metadata": {},
     "output_type": "display_data"
    }
   ],
   "source": [
    "test <- GenPlusSimKernels95CI[GenPlusSimKernelsSummaryMLE[, .(time_id, data_source, k, theta)], on=c(\"time_id\", \"data_source\")]\n"
   ]
  },
  {
   "cell_type": "code",
   "execution_count": 112,
   "metadata": {},
   "outputs": [
    {
     "data": {
      "text/html": [
       "<table>\n",
       "<thead><tr><th scope=col>time_id</th><th scope=col>data_source</th><th scope=col>k_eval</th><th scope=col>theta_eval</th><th scope=col>log_like</th><th scope=col>cutoff</th></tr></thead>\n",
       "<tbody>\n",
       "\t<tr><td>2013      </td><td>simulation</td><td>-0.46     </td><td>0.63      </td><td>549042.3  </td><td>549045.3  </td></tr>\n",
       "</tbody>\n",
       "</table>\n"
      ],
      "text/latex": [
       "\\begin{tabular}{r|llllll}\n",
       " time\\_id & data\\_source & k\\_eval & theta\\_eval & log\\_like & cutoff\\\\\n",
       "\\hline\n",
       "\t 2013       & simulation & -0.46      & 0.63       & 549042.3   & 549045.3  \\\\\n",
       "\\end{tabular}\n"
      ],
      "text/markdown": [
       "\n",
       "| time_id | data_source | k_eval | theta_eval | log_like | cutoff |\n",
       "|---|---|---|---|---|---|\n",
       "| 2013       | simulation | -0.46      | 0.63       | 549042.3   | 549045.3   |\n",
       "\n"
      ],
      "text/plain": [
       "  time_id data_source k_eval theta_eval log_like cutoff  \n",
       "1 2013    simulation  -0.46  0.63       549042.3 549045.3"
      ]
     },
     "metadata": {},
     "output_type": "display_data"
    }
   ],
   "source": [
    "test[theta_eval >= theta & k_eval >= k, .(k_eval, theta_eval, log_like, cutoff), by=c(\"time_id\", \"data_source\")][\n",
    "    log_like==max(log_like), .(k_eval, theta_eval, log_like, cutoff), by=c(\"time_id\", \"data_source\")]"
   ]
  },
  {
   "cell_type": "code",
   "execution_count": null,
   "metadata": {},
   "outputs": [],
   "source": [
    "nrow(GenPlusSimKernels95CI)"
   ]
  },
  {
   "cell_type": "code",
   "execution_count": null,
   "metadata": {},
   "outputs": [],
   "source": []
  },
  {
   "cell_type": "code",
   "execution_count": null,
   "metadata": {},
   "outputs": [],
   "source": []
  },
  {
   "cell_type": "code",
   "execution_count": null,
   "metadata": {},
   "outputs": [],
   "source": [
    "#add the CI for k/theta in each case to the kernel summary tables and write out again as summary table\n",
    "SimKernels <- fwrite(\"~/oceanography/script_output/KernelFits/SimulationKernelFitsSummaryStats.csv\")\n",
    "#setnames(SimKernels, c(\"TimeID\", \"TimeScale\"), c(\"time_id\", \"time_scale\")) #from now on, DTs will be named LikeThis, vectors (including colnames and row ids) will be like_this- until I get around to making that consistent in every script, rename here\n",
    "#read in the Genetics kernel fits with the same reef metadata structure\n",
    "GenKernels <- fwrite(\"~/oceanography/script_output/KernelFits/GeneticKernelFits.csv\")[, data_source := \"genetics\"]\n"
   ]
  },
  {
   "cell_type": "code",
   "execution_count": 43,
   "metadata": {},
   "outputs": [
    {
     "data": {
      "text/plain": [
       "     k_eval           theta_eval       log_like        data_source       \n",
       " Min.   :-10.0000   Min.   :0.100   Min.   :    -222   Length:11465165   \n",
       " 1st Qu.: -4.7000   1st Qu.:1.250   1st Qu.:     172   Class :character  \n",
       " Median : -0.3820   Median :2.510   Median :  144259   Mode  :character  \n",
       " Mean   : -0.1112   Mean   :2.513   Mean   : 2505430                     \n",
       " 3rd Qu.:  4.7000   3rd Qu.:3.750   3rd Qu.: 3008272                     \n",
       " Max.   : 10.0000   Max.   :5.000   Max.   :19458732                     \n",
       "   time_id         \n",
       " Length:11465165   \n",
       " Class :character  \n",
       " Mode  :character  \n",
       "                   \n",
       "                   \n",
       "                   "
      ]
     },
     "metadata": {},
     "output_type": "display_data"
    }
   ],
   "source": [
    "#plot\n",
    "#make a df with the pdf values at each distance to plot for each kernel fit\n",
    "#get all the case k and theta averages to plot\n",
    "FitsToPlot <- SimPlusGenFits %>% \n",
    "    filter(variable %in% c(\"k\", \"theta\") ) %>%\n",
    "    filter(Stat==\"Mean\" | Stat==\"MLE\") #%>%\n",
    "   #mutate(Adj=ifelse(is.na(Adj), \"no\", Adj)) #change the NAs to no for the genetic\n",
    "\n",
    "SimCasesToPlot <- FitsToPlot %>% \n",
    "     distinct(Year, DataType)\n",
    "\n",
    "#distances to plot\n",
    "distances <- data.frame(dist=seq(0, 60, 0.1))\n",
    "\n",
    "SimCasesToPlot$distance <- NA\n",
    "SimCasesToPlot$dispersal <- NA\n",
    "\n",
    "\n",
    "SimToPlot <- SimCasesToPlot[FALSE,]\n",
    "\n",
    "#make a long form df for each combo to plot\n",
    "\n",
    "for(i in 1:nrow(SimCasesToPlot)){\n",
    "    \n",
    "    case_eval <- SimCasesToPlot[i,] #select row by position, each row represents the average fit for a given year and case combination\n",
    "    \n",
    "    k_eval <- as.numeric(FitsToPlot %>% #pull out the avg value of k that matches the year/case\n",
    "        ungroup() %>%\n",
    "        filter(Year==case_eval$Year & DataType==case_eval$DataType & variable==\"k\") %>%\n",
    "        select(value))\n",
    "    \n",
    "    theta_eval <- as.numeric(FitsToPlot %>% #pull out the avg value of theta that matches the year/case\n",
    "        ungroup() %>%\n",
    "        filter(Year==case_eval$Year & DataType==case_eval$DataType & variable==\"theta\") %>%\n",
    "        select(value))\n",
    "    \n",
    "    case_eval_build <- case_eval[FALSE,] #this will become the df with pdf at each distance for a given year/case combo\n",
    "\n",
    "    for(j in 1:nrow(distances)){ #go through each distance and compute the pdf value. append the original df so that there's a row for each year/case/distance combination\n",
    "        \n",
    "        case_eval_beta <- case_eval\n",
    "        \n",
    "        dist_eval <- distances[j,]\n",
    "        case_eval_beta$distance <- dist_eval\n",
    "        case_eval_beta$dispersal <- predicted_disp(k=k_eval, theta=theta_eval, d=dist_eval)\n",
    "        \n",
    "        case_eval_build <- bind_rows(case_eval_build, case_eval_beta)\n",
    "    \n",
    "    }\n",
    "    \n",
    "        SimToPlot <- bind_rows(SimToPlot, case_eval_build) #add to the larger df that will eventually have all year/case/dist/pdf combos\n",
    "\n",
    "}\n"
   ]
  },
  {
   "cell_type": "code",
   "execution_count": 26,
   "metadata": {},
   "outputs": [],
   "source": [
    "#BestFitGen2012_4 <- ProfileGen2012_4[neg_ll==max(neg_ll, na.rm = T)]\n",
    "\n",
    "\n",
    "##find 95% CI, using instructions from Ben Bolker's Ecological Models in R and https://public.wsu.edu/~jesse.brunner/classes/bio572/Lab6_Likelihood.html\n",
    "#best_ll_2012_4 <- as.numeric(BestFitGen2012_4$neg_ll)\n",
    "#best_k_2012_4 <- as.numeric(BestFitGen2012_4$k_eval)\n",
    "#best_theta_2012_4 <- as.numeric(BestFitGen2012_4$theta_eval)\n",
    "cutoff_2012_4 <- GenKernels[time_id == \"2012-4\", log_like] - qchisq(0.95, 2)/2 #use the 95% quantile of the chi-sq distribution with two df because it's bivariate- minus rather than plus because we are using the inverse of the log likelihood to work with MLE functions\n",
    "\n",
    "#pull out the values below the cutoff\n",
    "ProfileGen2012_4_CI95 <- ProfileGen2012_4[log_like > cutoff_2012_4]\n",
    "\n",
    "UpperProfileGen2012_4_CI95 <- ProfileGen2012_4_CI95[k_eval >= GenKernels[time_id == \"2012-4\", k] & theta_eval >= GenKernels[time_id == \"2012-4\", theta]]\n",
    "LowerProfileGen2012_4_CI95 <- ProfileGen2012_4_CI95[k_eval <= GenKernels[time_id == \"2012-4\", k] & theta_eval <= GenKernels[time_id == \"2012-4\", theta]]\n",
    "\n",
    "#extract the 95% CI for k and theta\n",
    "lower_95CI_k_Gen2012_4 <- LowerProfileGen2012_4_CI95[log_like == max(LowerProfileGen2012_4_CI95$log_like, k)"
   ]
  },
  {
   "cell_type": "code",
   "execution_count": null,
   "metadata": {},
   "outputs": [],
   "source": []
  },
  {
   "cell_type": "code",
   "execution_count": null,
   "metadata": {},
   "outputs": [],
   "source": [
    "\n"
   ]
  },
  {
   "cell_type": "code",
   "execution_count": null,
   "metadata": {},
   "outputs": [],
   "source": []
  },
  {
   "cell_type": "code",
   "execution_count": null,
   "metadata": {},
   "outputs": [],
   "source": []
  },
  {
   "cell_type": "code",
   "execution_count": null,
   "metadata": {},
   "outputs": [],
   "source": [
    "\n",
    "\n"
   ]
  },
  {
   "cell_type": "code",
   "execution_count": null,
   "metadata": {},
   "outputs": [],
   "source": []
  },
  {
   "cell_type": "code",
   "execution_count": null,
   "metadata": {},
   "outputs": [],
   "source": []
  },
  {
   "cell_type": "code",
   "execution_count": null,
   "metadata": {},
   "outputs": [],
   "source": []
  },
  {
   "cell_type": "code",
   "execution_count": null,
   "metadata": {
    "scrolled": false
   },
   "outputs": [],
   "source": []
  },
  {
   "cell_type": "code",
   "execution_count": 8,
   "metadata": {},
   "outputs": [
    {
     "data": {
      "text/html": [
       "<table>\n",
       "<thead><tr><th scope=col>time_id</th><th scope=col>N</th></tr></thead>\n",
       "<tbody>\n",
       "\t<tr><td>2014  </td><td>780   </td></tr>\n",
       "\t<tr><td>SWM   </td><td>333   </td></tr>\n",
       "\t<tr><td>2013  </td><td>196   </td></tr>\n",
       "\t<tr><td>NEM   </td><td>  9   </td></tr>\n",
       "\t<tr><td>2012-4</td><td>  5   </td></tr>\n",
       "\t<tr><td>2012  </td><td>  7   </td></tr>\n",
       "</tbody>\n",
       "</table>\n"
      ],
      "text/latex": [
       "\\begin{tabular}{r|ll}\n",
       " time\\_id & N\\\\\n",
       "\\hline\n",
       "\t 2014   & 780   \\\\\n",
       "\t SWM    & 333   \\\\\n",
       "\t 2013   & 196   \\\\\n",
       "\t NEM    &   9   \\\\\n",
       "\t 2012-4 &   5   \\\\\n",
       "\t 2012   &   7   \\\\\n",
       "\\end{tabular}\n"
      ],
      "text/markdown": [
       "\n",
       "| time_id | N |\n",
       "|---|---|\n",
       "| 2014   | 780    |\n",
       "| SWM    | 333    |\n",
       "| 2013   | 196    |\n",
       "| NEM    |   9    |\n",
       "| 2012-4 |   5    |\n",
       "| 2012   |   7    |\n",
       "\n"
      ],
      "text/plain": [
       "  time_id N  \n",
       "1 2014    780\n",
       "2 SWM     333\n",
       "3 2013    196\n",
       "4 NEM       9\n",
       "5 2012-4    5\n",
       "6 2012      7"
      ]
     },
     "metadata": {},
     "output_type": "display_data"
    }
   ],
   "source": [
    "\n"
   ]
  },
  {
   "cell_type": "code",
   "execution_count": 9,
   "metadata": {},
   "outputs": [],
   "source": [
    "#what if we throw out the boundary fits\n",
    "SimKernels_test <- SimKernels[k!=10 &k!=-10 & theta!=0.15 &theta!= 8]\n"
   ]
  },
  {
   "cell_type": "code",
   "execution_count": 10,
   "metadata": {},
   "outputs": [],
   "source": [
    "#make a summary table with means\n",
    "SimMean <- SimKernels[, lapply(.SD, mean), by=\"time_id\", #apply the mean function to get means of each column by time_id\n",
    "             .SDcols = -c(\"iteration\", \"time_scale\")] #but don't do that for iteration column\n",
    "StatCol <- \"Stat\" #make the column to hold the Stat type\n",
    "SimMean[,(StatCol):=\"mean\"]      \n",
    "\n",
    "SimMin <- SimKernels[, lapply(.SD, min), by=\"time_id\", #apply the mean function to get means of each column by time_id\n",
    "             .SDcols = -c(\"iteration\", \"time_scale\")]\n",
    "SimMin[,(StatCol):=\"min\"]   \n",
    "\n",
    "SimMax <- SimKernels[, lapply(.SD, max), by=\"time_id\", #apply the mean function to get means of each column by time_id\n",
    "             .SDcols = -c(\"iteration\", \"time_scale\")]\n",
    "SimMax[,(StatCol):=\"max\"]  \n",
    "\n",
    "SimCVWithin <- SimKernels[, lapply(.SD, cv), by=\"time_id\", #apply the mean function to get means of each column by time_id\n",
    "             .SDcols = -c(\"iteration\", \"time_scale\", \"k\")] #because k is negative sometimes we can't use CV\n",
    "SimCVWithin[,(StatCol):=\"cv_within\"]\n",
    "\n",
    "#bind together all Stats into one data.table\n",
    "Stats <- list(SimMean, SimMin, SimMax, SimCVWithin)\n",
    "SimSummary <- rbindlist(Stats, use.names=TRUE, fill=TRUE)\n",
    "\n",
    "#make new column to ID this as a table with summary of SIMULATED data\n",
    "\n",
    "data_typeCol <- \"data_type\" #make the column to hold data type\n",
    "SimSummary[,(data_typeCol):=\"Sim\"]\n",
    "#fwrite(SimSummary, file=\"~/oceanography/script_output/KernelFits/SimulationKernelFitsSummary.csv\")"
   ]
  },
  {
   "cell_type": "code",
   "execution_count": 11,
   "metadata": {},
   "outputs": [
    {
     "data": {
      "text/html": [
       "<table>\n",
       "<thead><tr><th scope=col>time_id</th><th scope=col>k</th><th scope=col>theta</th><th scope=col>mdd</th><th scope=col>med</th><th scope=col>dist90</th><th scope=col>Stat</th><th scope=col>data_type</th></tr></thead>\n",
       "<tbody>\n",
       "\t<tr><td>2012       </td><td>-1.1891536 </td><td>0.7535468  </td><td>  30.539566</td><td>   8.06433 </td><td>  62.85350 </td><td>mean       </td><td>Sim        </td></tr>\n",
       "\t<tr><td>2013       </td><td>-2.3319812 </td><td>2.8584211  </td><td>   9.887545</td><td>   7.94379 </td><td>  20.84536 </td><td>mean       </td><td>Sim        </td></tr>\n",
       "\t<tr><td>2014       </td><td>-2.8957345 </td><td>6.4497388  </td><td>  18.252179</td><td>  13.85952 </td><td>  36.77048 </td><td>mean       </td><td>Sim        </td></tr>\n",
       "\t<tr><td>2012-4     </td><td>-0.1968970 </td><td>0.5243050  </td><td>   9.601646</td><td>   4.34026 </td><td>  24.12354 </td><td>mean       </td><td>Sim        </td></tr>\n",
       "\t<tr><td>NEM        </td><td>-0.1767306 </td><td>0.5556930  </td><td>   9.138671</td><td>   4.17908 </td><td>  22.91547 </td><td>mean       </td><td>Sim        </td></tr>\n",
       "\t<tr><td>SWM        </td><td>-3.4311907 </td><td>2.3282754  </td><td>2617.288272</td><td>2282.45482 </td><td>5128.05446 </td><td>mean       </td><td>Sim        </td></tr>\n",
       "</tbody>\n",
       "</table>\n"
      ],
      "text/latex": [
       "\\begin{tabular}{r|llllllll}\n",
       " time\\_id & k & theta & mdd & med & dist90 & Stat & data\\_type\\\\\n",
       "\\hline\n",
       "\t 2012        & -1.1891536  & 0.7535468   &   30.539566 &    8.06433  &   62.85350  & mean        & Sim        \\\\\n",
       "\t 2013        & -2.3319812  & 2.8584211   &    9.887545 &    7.94379  &   20.84536  & mean        & Sim        \\\\\n",
       "\t 2014        & -2.8957345  & 6.4497388   &   18.252179 &   13.85952  &   36.77048  & mean        & Sim        \\\\\n",
       "\t 2012-4      & -0.1968970  & 0.5243050   &    9.601646 &    4.34026  &   24.12354  & mean        & Sim        \\\\\n",
       "\t NEM         & -0.1767306  & 0.5556930   &    9.138671 &    4.17908  &   22.91547  & mean        & Sim        \\\\\n",
       "\t SWM         & -3.4311907  & 2.3282754   & 2617.288272 & 2282.45482  & 5128.05446  & mean        & Sim        \\\\\n",
       "\\end{tabular}\n"
      ],
      "text/markdown": [
       "\n",
       "| time_id | k | theta | mdd | med | dist90 | Stat | data_type |\n",
       "|---|---|---|---|---|---|---|---|\n",
       "| 2012        | -1.1891536  | 0.7535468   |   30.539566 |    8.06433  |   62.85350  | mean        | Sim         |\n",
       "| 2013        | -2.3319812  | 2.8584211   |    9.887545 |    7.94379  |   20.84536  | mean        | Sim         |\n",
       "| 2014        | -2.8957345  | 6.4497388   |   18.252179 |   13.85952  |   36.77048  | mean        | Sim         |\n",
       "| 2012-4      | -0.1968970  | 0.5243050   |    9.601646 |    4.34026  |   24.12354  | mean        | Sim         |\n",
       "| NEM         | -0.1767306  | 0.5556930   |    9.138671 |    4.17908  |   22.91547  | mean        | Sim         |\n",
       "| SWM         | -3.4311907  | 2.3282754   | 2617.288272 | 2282.45482  | 5128.05446  | mean        | Sim         |\n",
       "\n"
      ],
      "text/plain": [
       "  time_id k          theta     mdd         med        dist90     Stat data_type\n",
       "1 2012    -1.1891536 0.7535468   30.539566    8.06433   62.85350 mean Sim      \n",
       "2 2013    -2.3319812 2.8584211    9.887545    7.94379   20.84536 mean Sim      \n",
       "3 2014    -2.8957345 6.4497388   18.252179   13.85952   36.77048 mean Sim      \n",
       "4 2012-4  -0.1968970 0.5243050    9.601646    4.34026   24.12354 mean Sim      \n",
       "5 NEM     -0.1767306 0.5556930    9.138671    4.17908   22.91547 mean Sim      \n",
       "6 SWM     -3.4311907 2.3282754 2617.288272 2282.45482 5128.05446 mean Sim      "
      ]
     },
     "metadata": {},
     "output_type": "display_data"
    }
   ],
   "source": [
    "head(SimSummary)"
   ]
  },
  {
   "cell_type": "code",
   "execution_count": 30,
   "metadata": {
    "scrolled": true
   },
   "outputs": [
    {
     "ename": "ERROR",
     "evalue": "Error in print(test): object 'test' not found\n",
     "output_type": "error",
     "traceback": [
      "Error in print(test): object 'test' not found\nTraceback:\n",
      "1. print(test)"
     ]
    }
   ],
   "source": [
    "print(test)"
   ]
  },
  {
   "cell_type": "code",
   "execution_count": 28,
   "metadata": {},
   "outputs": [],
   "source": [
    "#read in the empirical data\n",
    "kernels <- fread(file=\"~/parentage/kernel_fitting/1340_loci/final_results/tables/kernel_fitting_summary.csv\") \n",
    "setnames(kernels, c(\"best_k\", \"best_theta\", \"MeanDispDist\", \"MedianDispDist\", \"Dist90Retained\"), c(\"k\", \"theta\", \"mdd\", \"med\", \"dist90\"))\n",
    "kernels <- kernels[, c(\"Year\", \"k\", \"theta\", \"mdd\", \"med\", \"dist90\")][, data_type := \"Gen\"][]\n",
    "\n",
    "kernel2012_14 <- fread(file=\"~/oceanography/empirical_data/genetics/GenKernelsForROMSComp2012-14.csv\",)[, data_type := \"Gen\"]\n",
    "setnames(kernel2012_14, \"year\", \"Year\")\n",
    "\n",
    "GenKernels <- rbind(kernels, kernel2012_14)[, time_id :=Year][, -\"Year\"]\n",
    "\n",
    "seasonal_kernels <- fread(file=\"~/parentage/kernel_fitting/1340_loci/final_results/tables/RecruitSizeAsSeasonlity_summary.csv\")\n",
    "setnames(seasonal_kernels, c(\"best_k\", \"best_theta\", \"MeanDispersalDistance\", \"MedianDispersalDistance\", \"Dist90Retained\"), c(\"k\", \"theta\", \"mdd\", \"med\", \"dist90\"))\n",
    "seasonal_kernels <- seasonal_kernels[, c(\"Season\", \"k\", \"theta\", \"mdd\", \"med\", \"dist90\")][, `:=` (data_type= \"Gen\", time_id=Season)][, -\"Season\"]\n",
    "\n",
    "GenKernels <- rbind(GenKernels, seasonal_kernels)[time_id %in% c(\"2012\", \"2013\", \"2014\", \"2012-4\", \"NEM\", \"SWM\")][, Stat:=\"MLE\"][]\n",
    "\n",
    "SimPlusGenFits <- rbindlist(list(SimSummary, GenKernels), use.names=T)\n",
    "\n",
    "SimPlusGenFits <- melt(SimPlusGenFits, id.vars = c(\"time_id\", \"data_type\", \"Stat\"), #make into long format so each row is a variable mean in a time_id\n",
    "               measure.vars = c(\"k\", \"theta\", \"mdd\", \"med\", \"dist90\"), variable.factor=F)\n",
    "\n",
    "SimPlusGenFits$value <- round(SimPlusGenFits$value, digits=2)\n",
    "\n",
    "#fwrite(SimPlusGenFits, file=\"~/oceanography/script_output/KernelFits/SimPlusGenKernelFits.csv\")"
   ]
  },
  {
   "cell_type": "code",
   "execution_count": 16,
   "metadata": {},
   "outputs": [
    {
     "data": {
      "text/html": [
       "<table>\n",
       "<thead><tr><th scope=col>time_id</th><th scope=col>k</th><th scope=col>theta</th><th scope=col>mdd</th><th scope=col>med</th><th scope=col>dist90</th><th scope=col>Stat</th><th scope=col>data_type</th></tr></thead>\n",
       "<tbody>\n",
       "\t<tr><td>2012        </td><td> -1.1891536 </td><td>0.7535468   </td><td>3.053957e+01</td><td>8.064330e+00</td><td>6.285350e+01</td><td>mean        </td><td>Sim         </td></tr>\n",
       "\t<tr><td>2013        </td><td> -2.3319812 </td><td>2.8584211   </td><td>9.887545e+00</td><td>7.943790e+00</td><td>2.084536e+01</td><td>mean        </td><td>Sim         </td></tr>\n",
       "\t<tr><td>2014        </td><td> -2.8957345 </td><td>6.4497388   </td><td>1.825218e+01</td><td>1.385952e+01</td><td>3.677048e+01</td><td>mean        </td><td>Sim         </td></tr>\n",
       "\t<tr><td>2012-4      </td><td> -0.1968970 </td><td>0.5243050   </td><td>9.601646e+00</td><td>4.340260e+00</td><td>2.412354e+01</td><td>mean        </td><td>Sim         </td></tr>\n",
       "\t<tr><td>NEM         </td><td> -0.1767306 </td><td>0.5556930   </td><td>9.138671e+00</td><td>4.179080e+00</td><td>2.291547e+01</td><td>mean        </td><td>Sim         </td></tr>\n",
       "\t<tr><td>SWM         </td><td> -3.4311907 </td><td>2.3282754   </td><td>2.617288e+03</td><td>2.282455e+03</td><td>5.128054e+03</td><td>mean        </td><td>Sim         </td></tr>\n",
       "\t<tr><td>2012        </td><td> -3.3953744 </td><td>0.1500000   </td><td>9.730354e+00</td><td>5.680000e+00</td><td>2.223000e+01</td><td>min         </td><td>Sim         </td></tr>\n",
       "\t<tr><td>2013        </td><td> -3.4381256 </td><td>0.3461754   </td><td>6.704079e+00</td><td>3.510000e+00</td><td>1.621000e+01</td><td>min         </td><td>Sim         </td></tr>\n",
       "\t<tr><td>2014        </td><td> -3.4762988 </td><td>0.1993371   </td><td>1.008183e+01</td><td>6.030000e+00</td><td>2.218000e+01</td><td>min         </td><td>Sim         </td></tr>\n",
       "\t<tr><td>2012-4      </td><td> -3.4332257 </td><td>0.2988938   </td><td>8.076144e+00</td><td>3.510000e+00</td><td>1.996000e+01</td><td>min         </td><td>Sim         </td></tr>\n",
       "\t<tr><td>NEM         </td><td> -3.4290083 </td><td>0.2917199   </td><td>7.620328e+00</td><td>3.300000e+00</td><td>1.897000e+01</td><td>min         </td><td>Sim         </td></tr>\n",
       "\t<tr><td>SWM         </td><td>-10.0000000 </td><td>0.1500000   </td><td>6.268793e+00</td><td>2.750000e+00</td><td>1.588000e+01</td><td>min         </td><td>Sim         </td></tr>\n",
       "\t<tr><td>2012        </td><td>  7.2658789 </td><td>5.9234530   </td><td>3.802130e+03</td><td>2.935800e+02</td><td>6.636180e+03</td><td>max         </td><td>Sim         </td></tr>\n",
       "\t<tr><td>2013        </td><td>  1.1535231 </td><td>8.0000000   </td><td>1.498021e+01</td><td>1.466000e+01</td><td>3.626000e+01</td><td>max         </td><td>Sim         </td></tr>\n",
       "\t<tr><td>2014        </td><td>  3.9397144 </td><td>8.0000000   </td><td>3.091805e+02</td><td>4.770000e+01</td><td>6.661600e+02</td><td>max         </td><td>Sim         </td></tr>\n",
       "\t<tr><td>2012-4      </td><td>  2.3652214 </td><td>8.0000000   </td><td>1.502497e+01</td><td>1.459000e+01</td><td>3.768000e+01</td><td>max         </td><td>Sim         </td></tr>\n",
       "\t<tr><td>NEM         </td><td>  2.5657608 </td><td>8.0000000   </td><td>1.532064e+01</td><td>1.453000e+01</td><td>3.826000e+01</td><td>max         </td><td>Sim         </td></tr>\n",
       "\t<tr><td>SWM         </td><td>  8.2057035 </td><td>8.0000000   </td><td>1.126066e+04</td><td>1.009366e+04</td><td>2.220780e+04</td><td>max         </td><td>Sim         </td></tr>\n",
       "\t<tr><td>2012        </td><td>         NA </td><td>0.6131375   </td><td>6.465429e+00</td><td>1.843388e+00</td><td>5.479319e+00</td><td>cv_within   </td><td>Sim         </td></tr>\n",
       "\t<tr><td>2013        </td><td>         NA </td><td>1.0380108   </td><td>2.948963e-01</td><td>4.987807e-01</td><td>1.780833e-01</td><td>cv_within   </td><td>Sim         </td></tr>\n",
       "\t<tr><td>2014        </td><td>         NA </td><td>0.4619349   </td><td>1.154692e+00</td><td>2.567615e-01</td><td>1.320941e+00</td><td>cv_within   </td><td>Sim         </td></tr>\n",
       "\t<tr><td>2012-4      </td><td>         NA </td><td>1.0261970   </td><td>1.123258e-01</td><td>1.899280e-01</td><td>1.103879e-01</td><td>cv_within   </td><td>Sim         </td></tr>\n",
       "\t<tr><td>NEM         </td><td>         NA </td><td>1.2871251   </td><td>1.192628e-01</td><td>2.511508e-01</td><td>1.098841e-01</td><td>cv_within   </td><td>Sim         </td></tr>\n",
       "\t<tr><td>SWM         </td><td>         NA </td><td>0.9126737   </td><td>1.774282e+00</td><td>1.841654e+00</td><td>1.779275e+00</td><td>cv_within   </td><td>Sim         </td></tr>\n",
       "</tbody>\n",
       "</table>\n"
      ],
      "text/latex": [
       "\\begin{tabular}{r|llllllll}\n",
       " time\\_id & k & theta & mdd & med & dist90 & Stat & data\\_type\\\\\n",
       "\\hline\n",
       "\t 2012         &  -1.1891536  & 0.7535468    & 3.053957e+01 & 8.064330e+00 & 6.285350e+01 & mean         & Sim         \\\\\n",
       "\t 2013         &  -2.3319812  & 2.8584211    & 9.887545e+00 & 7.943790e+00 & 2.084536e+01 & mean         & Sim         \\\\\n",
       "\t 2014         &  -2.8957345  & 6.4497388    & 1.825218e+01 & 1.385952e+01 & 3.677048e+01 & mean         & Sim         \\\\\n",
       "\t 2012-4       &  -0.1968970  & 0.5243050    & 9.601646e+00 & 4.340260e+00 & 2.412354e+01 & mean         & Sim         \\\\\n",
       "\t NEM          &  -0.1767306  & 0.5556930    & 9.138671e+00 & 4.179080e+00 & 2.291547e+01 & mean         & Sim         \\\\\n",
       "\t SWM          &  -3.4311907  & 2.3282754    & 2.617288e+03 & 2.282455e+03 & 5.128054e+03 & mean         & Sim         \\\\\n",
       "\t 2012         &  -3.3953744  & 0.1500000    & 9.730354e+00 & 5.680000e+00 & 2.223000e+01 & min          & Sim         \\\\\n",
       "\t 2013         &  -3.4381256  & 0.3461754    & 6.704079e+00 & 3.510000e+00 & 1.621000e+01 & min          & Sim         \\\\\n",
       "\t 2014         &  -3.4762988  & 0.1993371    & 1.008183e+01 & 6.030000e+00 & 2.218000e+01 & min          & Sim         \\\\\n",
       "\t 2012-4       &  -3.4332257  & 0.2988938    & 8.076144e+00 & 3.510000e+00 & 1.996000e+01 & min          & Sim         \\\\\n",
       "\t NEM          &  -3.4290083  & 0.2917199    & 7.620328e+00 & 3.300000e+00 & 1.897000e+01 & min          & Sim         \\\\\n",
       "\t SWM          & -10.0000000  & 0.1500000    & 6.268793e+00 & 2.750000e+00 & 1.588000e+01 & min          & Sim         \\\\\n",
       "\t 2012         &   7.2658789  & 5.9234530    & 3.802130e+03 & 2.935800e+02 & 6.636180e+03 & max          & Sim         \\\\\n",
       "\t 2013         &   1.1535231  & 8.0000000    & 1.498021e+01 & 1.466000e+01 & 3.626000e+01 & max          & Sim         \\\\\n",
       "\t 2014         &   3.9397144  & 8.0000000    & 3.091805e+02 & 4.770000e+01 & 6.661600e+02 & max          & Sim         \\\\\n",
       "\t 2012-4       &   2.3652214  & 8.0000000    & 1.502497e+01 & 1.459000e+01 & 3.768000e+01 & max          & Sim         \\\\\n",
       "\t NEM          &   2.5657608  & 8.0000000    & 1.532064e+01 & 1.453000e+01 & 3.826000e+01 & max          & Sim         \\\\\n",
       "\t SWM          &   8.2057035  & 8.0000000    & 1.126066e+04 & 1.009366e+04 & 2.220780e+04 & max          & Sim         \\\\\n",
       "\t 2012         &          NA  & 0.6131375    & 6.465429e+00 & 1.843388e+00 & 5.479319e+00 & cv\\_within  & Sim         \\\\\n",
       "\t 2013         &          NA  & 1.0380108    & 2.948963e-01 & 4.987807e-01 & 1.780833e-01 & cv\\_within  & Sim         \\\\\n",
       "\t 2014         &          NA  & 0.4619349    & 1.154692e+00 & 2.567615e-01 & 1.320941e+00 & cv\\_within  & Sim         \\\\\n",
       "\t 2012-4       &          NA  & 1.0261970    & 1.123258e-01 & 1.899280e-01 & 1.103879e-01 & cv\\_within  & Sim         \\\\\n",
       "\t NEM          &          NA  & 1.2871251    & 1.192628e-01 & 2.511508e-01 & 1.098841e-01 & cv\\_within  & Sim         \\\\\n",
       "\t SWM          &          NA  & 0.9126737    & 1.774282e+00 & 1.841654e+00 & 1.779275e+00 & cv\\_within  & Sim         \\\\\n",
       "\\end{tabular}\n"
      ],
      "text/markdown": [
       "\n",
       "| time_id | k | theta | mdd | med | dist90 | Stat | data_type |\n",
       "|---|---|---|---|---|---|---|---|\n",
       "| 2012         |  -1.1891536  | 0.7535468    | 3.053957e+01 | 8.064330e+00 | 6.285350e+01 | mean         | Sim          |\n",
       "| 2013         |  -2.3319812  | 2.8584211    | 9.887545e+00 | 7.943790e+00 | 2.084536e+01 | mean         | Sim          |\n",
       "| 2014         |  -2.8957345  | 6.4497388    | 1.825218e+01 | 1.385952e+01 | 3.677048e+01 | mean         | Sim          |\n",
       "| 2012-4       |  -0.1968970  | 0.5243050    | 9.601646e+00 | 4.340260e+00 | 2.412354e+01 | mean         | Sim          |\n",
       "| NEM          |  -0.1767306  | 0.5556930    | 9.138671e+00 | 4.179080e+00 | 2.291547e+01 | mean         | Sim          |\n",
       "| SWM          |  -3.4311907  | 2.3282754    | 2.617288e+03 | 2.282455e+03 | 5.128054e+03 | mean         | Sim          |\n",
       "| 2012         |  -3.3953744  | 0.1500000    | 9.730354e+00 | 5.680000e+00 | 2.223000e+01 | min          | Sim          |\n",
       "| 2013         |  -3.4381256  | 0.3461754    | 6.704079e+00 | 3.510000e+00 | 1.621000e+01 | min          | Sim          |\n",
       "| 2014         |  -3.4762988  | 0.1993371    | 1.008183e+01 | 6.030000e+00 | 2.218000e+01 | min          | Sim          |\n",
       "| 2012-4       |  -3.4332257  | 0.2988938    | 8.076144e+00 | 3.510000e+00 | 1.996000e+01 | min          | Sim          |\n",
       "| NEM          |  -3.4290083  | 0.2917199    | 7.620328e+00 | 3.300000e+00 | 1.897000e+01 | min          | Sim          |\n",
       "| SWM          | -10.0000000  | 0.1500000    | 6.268793e+00 | 2.750000e+00 | 1.588000e+01 | min          | Sim          |\n",
       "| 2012         |   7.2658789  | 5.9234530    | 3.802130e+03 | 2.935800e+02 | 6.636180e+03 | max          | Sim          |\n",
       "| 2013         |   1.1535231  | 8.0000000    | 1.498021e+01 | 1.466000e+01 | 3.626000e+01 | max          | Sim          |\n",
       "| 2014         |   3.9397144  | 8.0000000    | 3.091805e+02 | 4.770000e+01 | 6.661600e+02 | max          | Sim          |\n",
       "| 2012-4       |   2.3652214  | 8.0000000    | 1.502497e+01 | 1.459000e+01 | 3.768000e+01 | max          | Sim          |\n",
       "| NEM          |   2.5657608  | 8.0000000    | 1.532064e+01 | 1.453000e+01 | 3.826000e+01 | max          | Sim          |\n",
       "| SWM          |   8.2057035  | 8.0000000    | 1.126066e+04 | 1.009366e+04 | 2.220780e+04 | max          | Sim          |\n",
       "| 2012         |          NA  | 0.6131375    | 6.465429e+00 | 1.843388e+00 | 5.479319e+00 | cv_within    | Sim          |\n",
       "| 2013         |          NA  | 1.0380108    | 2.948963e-01 | 4.987807e-01 | 1.780833e-01 | cv_within    | Sim          |\n",
       "| 2014         |          NA  | 0.4619349    | 1.154692e+00 | 2.567615e-01 | 1.320941e+00 | cv_within    | Sim          |\n",
       "| 2012-4       |          NA  | 1.0261970    | 1.123258e-01 | 1.899280e-01 | 1.103879e-01 | cv_within    | Sim          |\n",
       "| NEM          |          NA  | 1.2871251    | 1.192628e-01 | 2.511508e-01 | 1.098841e-01 | cv_within    | Sim          |\n",
       "| SWM          |          NA  | 0.9126737    | 1.774282e+00 | 1.841654e+00 | 1.779275e+00 | cv_within    | Sim          |\n",
       "\n"
      ],
      "text/plain": [
       "   time_id k           theta     mdd          med          dist90      \n",
       "1  2012     -1.1891536 0.7535468 3.053957e+01 8.064330e+00 6.285350e+01\n",
       "2  2013     -2.3319812 2.8584211 9.887545e+00 7.943790e+00 2.084536e+01\n",
       "3  2014     -2.8957345 6.4497388 1.825218e+01 1.385952e+01 3.677048e+01\n",
       "4  2012-4   -0.1968970 0.5243050 9.601646e+00 4.340260e+00 2.412354e+01\n",
       "5  NEM      -0.1767306 0.5556930 9.138671e+00 4.179080e+00 2.291547e+01\n",
       "6  SWM      -3.4311907 2.3282754 2.617288e+03 2.282455e+03 5.128054e+03\n",
       "7  2012     -3.3953744 0.1500000 9.730354e+00 5.680000e+00 2.223000e+01\n",
       "8  2013     -3.4381256 0.3461754 6.704079e+00 3.510000e+00 1.621000e+01\n",
       "9  2014     -3.4762988 0.1993371 1.008183e+01 6.030000e+00 2.218000e+01\n",
       "10 2012-4   -3.4332257 0.2988938 8.076144e+00 3.510000e+00 1.996000e+01\n",
       "11 NEM      -3.4290083 0.2917199 7.620328e+00 3.300000e+00 1.897000e+01\n",
       "12 SWM     -10.0000000 0.1500000 6.268793e+00 2.750000e+00 1.588000e+01\n",
       "13 2012      7.2658789 5.9234530 3.802130e+03 2.935800e+02 6.636180e+03\n",
       "14 2013      1.1535231 8.0000000 1.498021e+01 1.466000e+01 3.626000e+01\n",
       "15 2014      3.9397144 8.0000000 3.091805e+02 4.770000e+01 6.661600e+02\n",
       "16 2012-4    2.3652214 8.0000000 1.502497e+01 1.459000e+01 3.768000e+01\n",
       "17 NEM       2.5657608 8.0000000 1.532064e+01 1.453000e+01 3.826000e+01\n",
       "18 SWM       8.2057035 8.0000000 1.126066e+04 1.009366e+04 2.220780e+04\n",
       "19 2012             NA 0.6131375 6.465429e+00 1.843388e+00 5.479319e+00\n",
       "20 2013             NA 1.0380108 2.948963e-01 4.987807e-01 1.780833e-01\n",
       "21 2014             NA 0.4619349 1.154692e+00 2.567615e-01 1.320941e+00\n",
       "22 2012-4           NA 1.0261970 1.123258e-01 1.899280e-01 1.103879e-01\n",
       "23 NEM              NA 1.2871251 1.192628e-01 2.511508e-01 1.098841e-01\n",
       "24 SWM              NA 0.9126737 1.774282e+00 1.841654e+00 1.779275e+00\n",
       "   Stat      data_type\n",
       "1  mean      Sim      \n",
       "2  mean      Sim      \n",
       "3  mean      Sim      \n",
       "4  mean      Sim      \n",
       "5  mean      Sim      \n",
       "6  mean      Sim      \n",
       "7  min       Sim      \n",
       "8  min       Sim      \n",
       "9  min       Sim      \n",
       "10 min       Sim      \n",
       "11 min       Sim      \n",
       "12 min       Sim      \n",
       "13 max       Sim      \n",
       "14 max       Sim      \n",
       "15 max       Sim      \n",
       "16 max       Sim      \n",
       "17 max       Sim      \n",
       "18 max       Sim      \n",
       "19 cv_within Sim      \n",
       "20 cv_within Sim      \n",
       "21 cv_within Sim      \n",
       "22 cv_within Sim      \n",
       "23 cv_within Sim      \n",
       "24 cv_within Sim      "
      ]
     },
     "metadata": {},
     "output_type": "display_data"
    }
   ],
   "source": [
    "SimSummary"
   ]
  },
  {
   "cell_type": "code",
   "execution_count": 62,
   "metadata": {},
   "outputs": [],
   "source": [
    "#are the distributions of genetic and simulated kernels similar according to the K-S test? Use mean dispersal distance, because it combines k and theta (reasoning- are they similar enough that observations of each could have been drawn from the same distribution?)\n",
    "\n",
    "#read in the 95 CIs for the time frames of interest\n",
    "#annual, 2012-4\n",
    "MDDGen2012 <- fread(\"~/DispersalVariation/data/script_output/final_results/mean_disp_dist/MeanDispDist95CI_2012.csv\")[, `:=`(time_scale=\"annual\", time_id=\"2012\")] #make ID columns for the rows\n",
    "\n",
    "MDDGen2013 <- fread(\"~/DispersalVariation/data/script_output/final_results/mean_disp_dist/MeanDispDist95CI_2013.csv\")[, `:=`(time_scale=\"annual\", time_id=\"2013\")] #make ID columns for the rows\n",
    "MDDGen2014 <- fread(\"~/DispersalVariation/data/script_output/final_results/mean_disp_dist/MeanDispDist95CI_2014.csv\")[, `:=`(time_scale=\"annual\", time_id=\"2014\")] #make ID columns for the rows\n",
    "\n",
    "\n",
    "#average, 2012-4\n",
    "MDDGen2012_4 <- fread(\"~/DispersalVariation/data/script_output/final_results/likelihood_profiles_grid_search/profile95CI_2012-14.csv\")[, `:=`(time_scale=\"interannual\", time_id=\"2012-4\")][ #make ID columns for the rows\n",
    "    , mdd := mean_disp_dist(k=k_eval, theta=theta_eval), by=c(\"k_eval\", \"theta_eval\")] #add the mean dispersal distance column, missing from this output file as is\n",
    "\n",
    "#seasonal, NEM and SWM\n",
    "MDDGenNEM <- fread(\"~/DispersalVariation/data/script_output/final_results/likelihood_profiles_grid_search/profile95CI_NEM.csv\")[, V1 := NULL][, `:=`(time_scale=\"season\", time_id=\"NEM\")][ #make ID columns for the rows\n",
    "    , mdd := mean_disp_dist(k=k_eval, theta=theta_eval), by=c(\"k_eval\", \"theta_eval\")] #add the mean dispersal distance column, missing from this output file as is\n",
    "MDDGenSWM <- fread(\"~/DispersalVariation/data/script_output/final_results/likelihood_profiles_grid_search/profile95CI_SWM.csv\")[, V1 := NULL][, `:=`(time_scale=\"season\", time_id=\"SWM\")][ #make ID columns for the rows\n",
    "    , mdd := mean_disp_dist(k=k_eval, theta=theta_eval), by=c(\"k_eval\", \"theta_eval\")] #add the mean dispersal distance column, missing from this output file as is\n",
    "\n",
    "#bind together into one df\n",
    "l <- list(MDDGen2012, MDDGen2013, MDDGen2012_4, MDDGen2014, MDDGenNEM, MDDGenSWM)\n",
    "GenMDD <- rbindlist(l, use.names=TRUE)\n",
    "\n",
    "#bind together the simulated and genetic kernels\n",
    "GenMDD <- setnames(GenMDD, c(\"k_eval\", \"theta_eval\"), c(\"k\", \"theta\"))[, -\"log_like\"][, data_type := \"gen\"] #make columns conform between two\n",
    "\n",
    "SimMDD <- SimKernels[, -c(\"med\", \"dist90\", \"iteration\")][, data_type := \"sim\"] #make columns conform between two\n",
    "\n",
    "MDD <- rbindlist(list(GenMDD, SimMDD), use.names = TRUE)[, mdd := as.numeric(mdd)]\n",
    "#sample kernel fits the same number of times? throw out boundary fits for each?\n",
    "#if we remove the boundary fits, how many are we left with for each category?\n",
    "MDD[k!=10 & k!=-10 & theta!=0.15 & theta!= 8, .N, by=c(\"time_id\", \"data_type\")]\n",
    "\n",
    "#randomly sample the data to compare 100 of each time frame\n",
    "MDDSamp <- MDD[, .SD[sample(.N, 100)], by = c(\"time_id\", \"data_type\")]\n",
    "nrow(MDDSamp)\n",
    "head(MDDSamp)\n",
    "\n",
    "#compare  with K-S test\n",
    "#check for similarity, \"If y is numeric, a two-sample test of the null hypothesis that x and y were drawn from the same continuous distribution is performed\"\n",
    "ks.test(MDDSamp[time_id==\"NEM\" & data_type==\"sim\", mdd], MDDSamp[time_id==\"NEM\" & data_type==\"gen\", mdd])\n",
    "#so far, they are significantly different (just searching out and replacing the time_id). Revisit with the max likelihood kernels"
   ]
  },
  {
   "cell_type": "code",
   "execution_count": null,
   "metadata": {},
   "outputs": [],
   "source": []
  },
  {
   "cell_type": "code",
   "execution_count": 86,
   "metadata": {},
   "outputs": [],
   "source": []
  },
  {
   "cell_type": "code",
   "execution_count": null,
   "metadata": {},
   "outputs": [],
   "source": []
  },
  {
   "cell_type": "code",
   "execution_count": 17,
   "metadata": {},
   "outputs": [
    {
     "data": {
      "text/html": [
       "<table>\n",
       "<thead><tr><th scope=col>data_type</th><th scope=col>variable</th><th scope=col>value</th></tr></thead>\n",
       "<tbody>\n",
       "\t<tr><td>Sim      </td><td>theta    </td><td>1.0180362</td></tr>\n",
       "\t<tr><td>Gen      </td><td>theta    </td><td>0.7895541</td></tr>\n",
       "\t<tr><td>Sim      </td><td>mdd      </td><td>2.3651114</td></tr>\n",
       "\t<tr><td>Gen      </td><td>mdd      </td><td>1.0439966</td></tr>\n",
       "\t<tr><td>Sim      </td><td>med      </td><td>2.4008977</td></tr>\n",
       "\t<tr><td>Gen      </td><td>med      </td><td>0.4202158</td></tr>\n",
       "\t<tr><td>Sim      </td><td>dist90   </td><td>2.3565777</td></tr>\n",
       "\t<tr><td>Gen      </td><td>dist90   </td><td>1.0078195</td></tr>\n",
       "</tbody>\n",
       "</table>\n"
      ],
      "text/latex": [
       "\\begin{tabular}{r|lll}\n",
       " data\\_type & variable & value\\\\\n",
       "\\hline\n",
       "\t Sim       & theta     & 1.0180362\\\\\n",
       "\t Gen       & theta     & 0.7895541\\\\\n",
       "\t Sim       & mdd       & 2.3651114\\\\\n",
       "\t Gen       & mdd       & 1.0439966\\\\\n",
       "\t Sim       & med       & 2.4008977\\\\\n",
       "\t Gen       & med       & 0.4202158\\\\\n",
       "\t Sim       & dist90    & 2.3565777\\\\\n",
       "\t Gen       & dist90    & 1.0078195\\\\\n",
       "\\end{tabular}\n"
      ],
      "text/markdown": [
       "\n",
       "| data_type | variable | value |\n",
       "|---|---|---|\n",
       "| Sim       | theta     | 1.0180362 |\n",
       "| Gen       | theta     | 0.7895541 |\n",
       "| Sim       | mdd       | 2.3651114 |\n",
       "| Gen       | mdd       | 1.0439966 |\n",
       "| Sim       | med       | 2.4008977 |\n",
       "| Gen       | med       | 0.4202158 |\n",
       "| Sim       | dist90    | 2.3565777 |\n",
       "| Gen       | dist90    | 1.0078195 |\n",
       "\n"
      ],
      "text/plain": [
       "  data_type variable value    \n",
       "1 Sim       theta    1.0180362\n",
       "2 Gen       theta    0.7895541\n",
       "3 Sim       mdd      2.3651114\n",
       "4 Gen       mdd      1.0439966\n",
       "5 Sim       med      2.4008977\n",
       "6 Gen       med      0.4202158\n",
       "7 Sim       dist90   2.3565777\n",
       "8 Gen       dist90   1.0078195"
      ]
     },
     "metadata": {},
     "output_type": "display_data"
    },
    {
     "data": {
      "text/html": [
       "<table>\n",
       "<thead><tr><th scope=col>data_type</th><th scope=col>dist90</th><th scope=col>mdd</th><th scope=col>med</th><th scope=col>theta</th></tr></thead>\n",
       "<tbody>\n",
       "\t<tr><td>Gen      </td><td>1.007820 </td><td>1.043997 </td><td>0.4202158</td><td>0.7895541</td></tr>\n",
       "\t<tr><td>Sim      </td><td>2.356578 </td><td>2.365111 </td><td>2.4008977</td><td>1.0180362</td></tr>\n",
       "</tbody>\n",
       "</table>\n"
      ],
      "text/latex": [
       "\\begin{tabular}{r|lllll}\n",
       " data\\_type & dist90 & mdd & med & theta\\\\\n",
       "\\hline\n",
       "\t Gen       & 1.007820  & 1.043997  & 0.4202158 & 0.7895541\\\\\n",
       "\t Sim       & 2.356578  & 2.365111  & 2.4008977 & 1.0180362\\\\\n",
       "\\end{tabular}\n"
      ],
      "text/markdown": [
       "\n",
       "| data_type | dist90 | mdd | med | theta |\n",
       "|---|---|---|---|---|\n",
       "| Gen       | 1.007820  | 1.043997  | 0.4202158 | 0.7895541 |\n",
       "| Sim       | 2.356578  | 2.365111  | 2.4008977 | 1.0180362 |\n",
       "\n"
      ],
      "text/plain": [
       "  data_type dist90   mdd      med       theta    \n",
       "1 Gen       1.007820 1.043997 0.4202158 0.7895541\n",
       "2 Sim       2.356578 2.365111 2.4008977 1.0180362"
      ]
     },
     "metadata": {},
     "output_type": "display_data"
    }
   ],
   "source": [
    "#what's the amount of variation for mean, theta, and other variables across years in the simulations vs genetics? are we seeing the same magnitude of variability?\n",
    "CompareCV <- SimPlusGenFits[time_id %!in% c(\"2012-4\", \"NEM\", \"SWM\") & Stat==\"MLE\"| Stat==\"mean\"][variable !=\"k\"][, #don't include the all- years estimates for this, isolate the mean values for the simulations\n",
    "              lapply(.SD, cv), by=c(\"data_type\", \"variable\"), \n",
    "                .SDcols = -c(\"time_id\", \"Stat\")]\n",
    "CompareCV\n",
    "dcast(CompareCV, data_type ~ variable)"
   ]
  },
  {
   "cell_type": "code",
   "execution_count": null,
   "metadata": {},
   "outputs": [],
   "source": []
  },
  {
   "cell_type": "code",
   "execution_count": 120,
   "metadata": {},
   "outputs": [
    {
     "data": {
      "image/png": "[encoded data removed]",
      "text/plain": [
       "plot without title"
      ]
     },
     "metadata": {},
     "output_type": "display_data"
    }
   ],
   "source": [
    "CVPlot <- ggplot(data=CompareCV, aes(x=variable, y=value, color=data_type)) +\n",
    "    geom_point(size=2) +\n",
    "    ylab(\"coefficient of varition among years\") #+\n",
    "   # ggtitle()\n",
    "    #geom_point(aes(x=SimMDD, y=GenMDD), color=\"blue\")\n",
    "CVPlot\n",
    "#ggsave(filename=\"SimulationGeneticFitsCVComparison.png\", plot= CVPlot, path=\"~/oceanography/script_output/KernelFits/Plots/\" )\n"
   ]
  },
  {
   "cell_type": "code",
   "execution_count": null,
   "metadata": {},
   "outputs": [],
   "source": []
  },
  {
   "cell_type": "code",
   "execution_count": null,
   "metadata": {},
   "outputs": [],
   "source": []
  },
  {
   "cell_type": "code",
   "execution_count": null,
   "metadata": {},
   "outputs": [],
   "source": []
  },
  {
   "cell_type": "code",
   "execution_count": null,
   "metadata": {},
   "outputs": [],
   "source": []
  },
  {
   "cell_type": "code",
   "execution_count": null,
   "metadata": {},
   "outputs": [],
   "source": []
  },
  {
   "cell_type": "code",
   "execution_count": null,
   "metadata": {},
   "outputs": [],
   "source": []
  },
  {
   "cell_type": "code",
   "execution_count": null,
   "metadata": {},
   "outputs": [],
   "source": [
    "ggplot(data=SimKernelVar, aes(x=Adj, y=mdd, color=year, fill=year), alpha=0.5) +\n",
    "    geom_point(data=SimPlusGenFits, aes(x=Year, y=AvgSimMDD, shape=Adj), fill=NA, color=\"black\", size=3) + \n",
    "    geom_point(data=SimPlusGenFits, aes(x=Year, y=GenMDD), fill=\"red\", color=\"red\") + # with all fits\n"
   ]
  },
  {
   "cell_type": "code",
   "execution_count": 77,
   "metadata": {},
   "outputs": [
    {
     "data": {
      "text/html": [
       "<table>\n",
       "<thead><tr><th scope=col>Year</th><th scope=col>k</th><th scope=col>theta</th><th scope=col>mdd</th><th scope=col>med</th><th scope=col>dist90</th><th scope=col>iteration</th><th scope=col>Adj</th></tr></thead>\n",
       "<tbody>\n",
       "\t<tr><td>2012           </td><td> 2.263923      </td><td>0.2645823      </td><td>47.647397      </td><td>11.23          </td><td>114.86         </td><td>1              </td><td>SurvNoRecentRec</td></tr>\n",
       "\t<tr><td>2012           </td><td>-2.751382      </td><td>2.5443994      </td><td> 8.185826      </td><td> 7.23          </td><td> 16.34         </td><td>2              </td><td>SurvNoRecentRec</td></tr>\n",
       "\t<tr><td>2012           </td><td>-2.396769      </td><td>1.2721366      </td><td> 8.291947      </td><td> 6.25          </td><td> 18.34         </td><td>3              </td><td>SurvNoRecentRec</td></tr>\n",
       "\t<tr><td>2012           </td><td>-2.770307      </td><td>2.6547136      </td><td> 8.260620      </td><td> 7.34          </td><td> 16.40         </td><td>4              </td><td>SurvNoRecentRec</td></tr>\n",
       "\t<tr><td>2012           </td><td>-2.433092      </td><td>1.3359269      </td><td> 8.226354      </td><td> 6.30          </td><td> 18.05         </td><td>5              </td><td>SurvNoRecentRec</td></tr>\n",
       "\t<tr><td>2012           </td><td>-2.241767      </td><td>1.1622086      </td><td> 7.788861      </td><td> 5.70          </td><td> 17.49         </td><td>6              </td><td>SurvNoRecentRec</td></tr>\n",
       "</tbody>\n",
       "</table>\n"
      ],
      "text/latex": [
       "\\begin{tabular}{r|llllllll}\n",
       " Year & k & theta & mdd & med & dist90 & iteration & Adj\\\\\n",
       "\\hline\n",
       "\t 2012            &  2.263923       & 0.2645823       & 47.647397       & 11.23           & 114.86          & 1               & SurvNoRecentRec\\\\\n",
       "\t 2012            & -2.751382       & 2.5443994       &  8.185826       &  7.23           &  16.34          & 2               & SurvNoRecentRec\\\\\n",
       "\t 2012            & -2.396769       & 1.2721366       &  8.291947       &  6.25           &  18.34          & 3               & SurvNoRecentRec\\\\\n",
       "\t 2012            & -2.770307       & 2.6547136       &  8.260620       &  7.34           &  16.40          & 4               & SurvNoRecentRec\\\\\n",
       "\t 2012            & -2.433092       & 1.3359269       &  8.226354       &  6.30           &  18.05          & 5               & SurvNoRecentRec\\\\\n",
       "\t 2012            & -2.241767       & 1.1622086       &  7.788861       &  5.70           &  17.49          & 6               & SurvNoRecentRec\\\\\n",
       "\\end{tabular}\n"
      ],
      "text/markdown": [
       "\n",
       "| Year | k | theta | mdd | med | dist90 | iteration | Adj |\n",
       "|---|---|---|---|---|---|---|---|\n",
       "| 2012            |  2.263923       | 0.2645823       | 47.647397       | 11.23           | 114.86          | 1               | SurvNoRecentRec |\n",
       "| 2012            | -2.751382       | 2.5443994       |  8.185826       |  7.23           |  16.34          | 2               | SurvNoRecentRec |\n",
       "| 2012            | -2.396769       | 1.2721366       |  8.291947       |  6.25           |  18.34          | 3               | SurvNoRecentRec |\n",
       "| 2012            | -2.770307       | 2.6547136       |  8.260620       |  7.34           |  16.40          | 4               | SurvNoRecentRec |\n",
       "| 2012            | -2.433092       | 1.3359269       |  8.226354       |  6.30           |  18.05          | 5               | SurvNoRecentRec |\n",
       "| 2012            | -2.241767       | 1.1622086       |  7.788861       |  5.70           |  17.49          | 6               | SurvNoRecentRec |\n",
       "\n"
      ],
      "text/plain": [
       "  Year k         theta     mdd       med   dist90 iteration Adj            \n",
       "1 2012  2.263923 0.2645823 47.647397 11.23 114.86 1         SurvNoRecentRec\n",
       "2 2012 -2.751382 2.5443994  8.185826  7.23  16.34 2         SurvNoRecentRec\n",
       "3 2012 -2.396769 1.2721366  8.291947  6.25  18.34 3         SurvNoRecentRec\n",
       "4 2012 -2.770307 2.6547136  8.260620  7.34  16.40 4         SurvNoRecentRec\n",
       "5 2012 -2.433092 1.3359269  8.226354  6.30  18.05 5         SurvNoRecentRec\n",
       "6 2012 -2.241767 1.1622086  7.788861  5.70  17.49 6         SurvNoRecentRec"
      ]
     },
     "metadata": {},
     "output_type": "display_data"
    }
   ],
   "source": [
    "head(CombinedSims)\n",
    "#head(SimPlusGenFits %>% spread(metric, value))"
   ]
  },
  {
   "cell_type": "code",
   "execution_count": 168,
   "metadata": {},
   "outputs": [
    {
     "name": "stderr",
     "output_type": "stream",
     "text": [
      "Warning message:\n",
      "“Removed 80 rows containing non-finite values (stat_ydensity).”Saving 6.67 x 6.67 in image\n",
      "Warning message:\n",
      "“Removed 80 rows containing non-finite values (stat_ydensity).”"
     ]
    },
    {
     "data": {
      "image/png": "[encoded data removed]",
      "text/plain": [
       "plot without title"
      ]
     },
     "metadata": {},
     "output_type": "display_data"
    }
   ],
   "source": [
    "cbbPalette <- c(\"#000000\", \"#E69F00\", \"#56B4E9\", \"#009E73\", \"#F0E442\", \"#0072B2\", \"#D55E00\", \"#CC79A7\")\n",
    "cbbPalette_rev <- rev(cbbPalette)\n",
    "\n",
    "CombinedSims$Year <- factor(CombinedSims$Year, levels=c(\"2012\", \"2013\", \"2014\", \"2012-14\"))\n",
    "SimPlusGenFits$Year <- factor(SimPlusGenFits$Year, levels=c(\"2012\", \"2013\", \"2014\", \"2012-14\"))\n",
    "#PointsToPlot <- CompareFits %>% filter(Adj==\"SurvNoRecentRec\")\n",
    "#PointsToPlot$Year <- factor(PointsToPlot$Year, levels=c(\"2012\", \"2013\", \"2014\", \"2012-14\"))\n",
    "\n",
    "\n",
    "mdd_violin <- ggplot(data=CombinedSims, aes(x=Year, y=mdd, color=Year, fill=Year), alpha=0.5) +\n",
    "    geom_violin() +\n",
    "    geom_point(data=PointsToPlot, aes(x=Year, y=SimMDD), fill=NA, color=\"black\", size=3) + \n",
    "    geom_point(data=PointsToPlot, aes(x=Year, y=GenMDD), fill=\"red\", color=\"red\") + # with all fits\n",
    "    #geom_point(data=kernels %>% filter(Year %in% c(\"2012\", \"2013\", \"2014\", \"all\")), aes(x=Year, y=MeanDispDist), fill=\"black\",color=\"darkgray\", shape=24) + #genetic estimates\n",
    "    coord_flip() +\n",
    "    scale_shape_discrete(name = \"Adjustment\", labels = c(\"only >3.5 cm\", \"none\", \"only >3.5 cm and survival weighting\"))+\n",
    "    #scale_x_continuous(limits = c(0, 100), expand=c(0,0)) +\n",
    "    scale_y_continuous(limits = c(0, 100), expand = c(0,0))+\n",
    "    theme(panel.grid.major = element_blank(),\n",
    "    plot.margin=unit(c(0.2,0.2,0.2,0.2),\"cm\"),\n",
    "    panel.grid.minor = element_blank(), \n",
    "    panel.background = element_blank(), #,\n",
    "    axis.line = element_line(colour = \"black\")) +\n",
    "    xlab(\"Year\") + \n",
    "    ylab(\"Mean dispersal distance (km)\") +\n",
    "    theme(axis.text.x = element_text(size=8, color=\"black\", family=\"Helvetica\"),#15 for publication, 20 for presentation #element_text(size=15, color=\"black\", family=\"Helvetica\"),\n",
    "    axis.text.y =  element_text(size=8, color=\"black\", family=\"Helvetica\"),\n",
    "    axis.title.y =  element_text(size=10, color=\"black\", family=\"Helvetica\"), \n",
    "    axis.title.x =  element_text(size=10, color=\"black\", family=\"Helvetica\")) + \n",
    "    scale_colour_manual(values=cbbPalette_rev)+\n",
    "    scale_fill_manual(values=cbbPalette_rev) +\n",
    "    theme(legend.position = \"none\") \n",
    "    #scale_y_continuous(breaks = 1:2000, labels = c(1:50,\"break\",1000:2000))\n",
    "mdd_violin \n",
    "ggplot2::ggsave(filename=\"SimMeanDispDistPlusGenPointsSurvNoRecentRec.png\",  plot=mdd_violin, path=\"~/oceanography/script_output/KernelFits/Plots/\")\n"
   ]
  },
  {
   "cell_type": "code",
   "execution_count": 167,
   "metadata": {},
   "outputs": [
    {
     "name": "stderr",
     "output_type": "stream",
     "text": [
      "Warning message:\n",
      "“Removed 344 rows containing non-finite values (stat_ydensity).”Saving 6.67 x 6.67 in image\n",
      "Warning message:\n",
      "“Removed 344 rows containing non-finite values (stat_ydensity).”"
     ]
    },
    {
     "data": {
      "image/png": "[encoded data removed]",
      "text/plain": [
       "plot without title"
      ]
     },
     "metadata": {},
     "output_type": "display_data"
    }
   ],
   "source": [
    "cbbPalette <- c(\"#000000\", \"#E69F00\", \"#56B4E9\", \"#009E73\", \"#F0E442\", \"#0072B2\", \"#D55E00\", \"#CC79A7\")\n",
    "cbbPalette_rev <- rev(cbbPalette)\n",
    "\n",
    "CombinedSims$year <- factor(CombinedSims$year, levels=c(\"2012\", \"2013\", \"2014\", \"2012-14\"))\n",
    "SimPlusGenFits$Year <- factor(SimPlusGenFits$Year, levels=c(\"2012\", \"2013\", \"2014\", \"2012-14\"))\n",
    "PointsToPlot <- CompareFits %>% filter(Adj==\"SurvNoRecentRec\")\n",
    "PointsToPlot$Year <- factor(PointsToPlot$Year, levels=c(\"2012\", \"2013\", \"2014\", \"2012-14\"))\n",
    "\n",
    "\n",
    "theta_violin <- ggplot(data=CombinedSims %>% filter(Adj==\"SurvNoRecentRec\"), aes(x=year, y=theta, color=year, fill=year), alpha=0.5) +\n",
    "    geom_violin() +\n",
    "    geom_point(data=PointsToPlot, aes(x=Year, y=SimTheta), fill=NA, color=\"black\", size=3) + \n",
    "    geom_point(data=PointsToPlot, aes(x=Year, y=GenTheta), fill=\"red\", color=\"red\") + # with all fits\n",
    "    #geom_point(data=kernels %>% filter(Year %in% c(\"2012\", \"2013\", \"2014\", \"all\")), aes(x=Year, y=MeanDispDist), fill=\"black\",color=\"darkgray\", shape=24) + #genetic estimates\n",
    "   # coord_flip() +\n",
    "    scale_shape_discrete(name = \"Adjustment\", labels = c(\"only >3.5 cm\", \"none\", \"only >3.5 cm and survival weighting\"))+\n",
    "    #scale_x_continuous(limits = c(0, 100), expand=c(0,0)) +\n",
    "    scale_y_continuous(limits = c(0, 5), expand = c(0,0))+\n",
    "    theme(panel.grid.major = element_blank(),\n",
    "    plot.margin=unit(c(0.2,0.2,0.2,0.2),\"cm\"),\n",
    "    panel.grid.minor = element_blank(), \n",
    "    panel.background = element_blank(), #,\n",
    "    axis.line = element_line(colour = \"black\")) +\n",
    "    xlab(\"Year\") + \n",
    "    ylab(\"Theta, shape parameter\") +\n",
    "    theme(axis.text.x = element_text(size=8, color=\"black\", family=\"Helvetica\"),#15 for publication, 20 for presentation #element_text(size=15, color=\"black\", family=\"Helvetica\"),\n",
    "    axis.text.y =  element_text(size=8, color=\"black\", family=\"Helvetica\"),\n",
    "    axis.title.y =  element_text(size=10, color=\"black\", family=\"Helvetica\"), \n",
    "    axis.title.x =  element_text(size=10, color=\"black\", family=\"Helvetica\")) + \n",
    "    scale_colour_manual(values=cbbPalette_rev)+\n",
    "    scale_fill_manual(values=cbbPalette_rev) +\n",
    "    theme(legend.position = \"none\") \n",
    "    #scale_y_continuous(breaks = 1:2000, labels = c(1:50,\"break\",1000:2000))\n",
    "theta_violin \n",
    "ggplot2::ggsave(filename=\"SimThetaPlusGenPointsSurvNoRecentRec.png\",  plot=theta_violin, path=\"~/oceanography/script_output/KernelFits/Plots/\")\n"
   ]
  },
  {
   "cell_type": "code",
   "execution_count": 154,
   "metadata": {},
   "outputs": [
    {
     "name": "stdout",
     "output_type": "stream",
     "text": [
      "tibble [4 × 14] (S3: grouped_df/tbl_df/tbl/data.frame)\n",
      " $ Year            : Factor w/ 4 levels \"2012\",\"2013\",..: 1 4 2 3\n",
      " $ GenDist90       : num [1:4] 23.3 68.7 157.4 38.1\n",
      " $ GenK            : num [1:4] -2.36 1.68 4.04 0.49\n",
      " $ GenMDD          : num [1:4] 10.2 27.8 69.6 15\n",
      " $ GenMed          : num [1:4] 7.13 7.71 12.2 5.53\n",
      " $ GenTheta        : num [1:4] 1.03 0.3 0.22 0.38\n",
      " $ Adj             : chr [1:4] \"SurvNoRecentRec\" \"SurvNoRecentRec\" \"SurvNoRecentRec\" \"SurvNoRecentRec\"\n",
      " $ SimDist90       : num [1:4] 107.2 22.9 20.7 173.1\n",
      " $ SimK            : num [1:4] -1.11 -2.14 -0.61 -1.61\n",
      " $ SimMDD          : num [1:4] 56.54 10.05 8.36 89.32\n",
      " $ SimMed          : num [1:4] 9.67 6.86 4.14 16.66\n",
      " $ SimTheta        : num [1:4] 0.95 1.29 0.6 3.08\n",
      " $ MDDDiffGenVSim  : num [1:4] 46.4 17.7 61.2 74.3\n",
      " $ ThetaDiffGenVSim: num [1:4] 0.08 0.99 0.38 2.7\n",
      " - attr(*, \"groups\")= tibble [4 × 2] (S3: tbl_df/tbl/data.frame)\n",
      "  ..$ Year : Factor w/ 4 levels \"2012\",\"2013\",..: 1 2 3 4\n",
      "  ..$ .rows: list<int> [1:4] \n",
      "  .. ..$ : int 1\n",
      "  .. ..$ : int 3\n",
      "  .. ..$ : int 4\n",
      "  .. ..$ : int 2\n",
      "  .. ..@ ptype: int(0) \n",
      "  ..- attr(*, \".drop\")= logi TRUE\n"
     ]
    }
   ],
   "source": [
    "str(PointsToPlot)"
   ]
  },
  {
   "cell_type": "code",
   "execution_count": 161,
   "metadata": {},
   "outputs": [],
   "source": [
    "#read in the seasonal simulation kernel fits\n",
    "\n",
    "#no adjustments\n",
    "SimulatedKernelsNEM <-  read.csv(file=\"~/oceanography/script_output/KernelFits/100SimulatedKernelsNEM.csv\", header=T) %>%\n",
    "    mutate(Adj=\"no\")\n",
    "SimulatedKernelsSWM <-  read.csv(file=\"~/oceanography/script_output/KernelFits/100SimulatedKernelsSWM.csv\", header=T) %>%\n",
    "    mutate(Adj=\"no\")\n",
    "\n",
    "#adjusting for survival and growth\n",
    "SimulatedKernelsNEMSurvGrowth <-  read.csv(file=\"~/oceanography/script_output/KernelFits/100SimulatedKernelsNEMSurvGrowth.csv\", header=T) %>%\n",
    "    mutate(Adj=\"SurvGrowth\")\n",
    "SimulatedKernelsSWMSurvGrowth <-  read.csv(file=\"~/oceanography/script_output/KernelFits/100SimulatedKernelsSWMSurvGrowth.csv\", header=T) %>%\n",
    "    mutate(Adj=\"SurvGrowth\")\n",
    "\n",
    "#adjusting for growth\n",
    "SimulatedKernelsNEMGrowth <-  read.csv(file=\"~/oceanography/script_output/KernelFits/100SimulatedKernelsNEMGrowth.csv\", header=T) %>%\n",
    "    mutate(Adj=\"Growth\")\n",
    "SimulatedKernelsSWMGrowth <-  read.csv(file=\"~/oceanography/script_output/KernelFits/100SimulatedKernelsSWMGrowth.csv\", header=T) %>%\n",
    "    mutate(Adj=\"Growth\")\n",
    "\n",
    "CombinedSeasons <- bind_rows(SimulatedKernelsNEM, SimulatedKernelsSWM, SimulatedKernelsNEMSurvGrowth, SimulatedKernelsSWMSurvGrowth, SimulatedKernelsNEMGrowth, SimulatedKernelsSWMGrowth) %>%\n",
    "    rename(Season=\"season\") \n",
    "\n",
    "#empirical seasons for 2012-2014\n",
    "SeasonalKernels2012_14 <- read.csv(file=\"~/oceanography/empirical_data/genetics/SeasonalGenKernelsForROMSComp.csv\", header=T) %>%\n",
    "    rename(Season=\"season\",GenK=\"k\", GenTheta=\"theta\", GenMDD=\"mdd\", GenMed=\"med\", GenDist90=\"dist90\") %>%\n",
    "    mutate(GenK=round(GenK, digits=2)) %>%\n",
    "    mutate(GenTheta=round(GenTheta, digits=2)) %>%\n",
    "    mutate(GenMDD=round(GenMDD, digits=2)) %>%\n",
    "    mutate(TimeFrame=\"2012-14\")#%>%\n",
    "    #mutate(JoinKey=\"all\")\n",
    "\n",
    "\n",
    "SeasonalKernels2012_18 <- read.csv(file=\"~/parentage/kernel_fitting/1340_loci/final_results/tables/RecruitSizeAsSeasonlity_summary.csv\", header=T) %>%\n",
    "    select(Season, best_k, best_theta, MeanDispersalDistance, MedianDispersalDistance, Dist90Retained) %>%    \n",
    "    rename(GenK=\"best_k\", GenTheta=\"best_theta\", GenMDD=\"MeanDispersalDistance\", GenMed=\"MedianDispersalDistance\", GenDist90=\"Dist90Retained\") %>%\n",
    "    mutate(GenMDD=round(GenMDD, digits=2)) %>%\n",
    "    mutate(TimeFrame=\"2012-18\")#%>%\n",
    "    #mutate(JoinKey=\"all\")\n",
    "\n",
    "GenSeasonalKernels <- bind_rows(SeasonalKernels2012_14, SeasonalKernels2012_18)"
   ]
  },
  {
   "cell_type": "code",
   "execution_count": 151,
   "metadata": {},
   "outputs": [
    {
     "data": {
      "text/html": [
       "<table>\n",
       "<thead><tr><th scope=col>Season</th><th scope=col>k</th><th scope=col>theta</th><th scope=col>mdd</th><th scope=col>med</th><th scope=col>dist90</th><th scope=col>iteration</th><th scope=col>Adj</th></tr></thead>\n",
       "<tbody>\n",
       "\t<tr><td>NEM  </td><td>-2.49</td><td>1.30 </td><td> 8.94</td><td>6.78 </td><td>19.71</td><td>1    </td><td>no   </td></tr>\n",
       "\t<tr><td>NEM  </td><td> 0.85</td><td>0.34 </td><td>21.84</td><td>7.14 </td><td>55.00</td><td>2    </td><td>no   </td></tr>\n",
       "\t<tr><td>NEM  </td><td>-1.38</td><td>0.64 </td><td>10.05</td><td>5.59 </td><td>24.73</td><td>3    </td><td>no   </td></tr>\n",
       "\t<tr><td>NEM  </td><td>-2.06</td><td>0.91 </td><td> 9.06</td><td>6.05 </td><td>21.17</td><td>4    </td><td>no   </td></tr>\n",
       "\t<tr><td>NEM  </td><td>-2.52</td><td>1.33 </td><td> 9.04</td><td>6.91 </td><td>19.86</td><td>5    </td><td>no   </td></tr>\n",
       "\t<tr><td>NEM  </td><td>-1.92</td><td>0.84 </td><td> 9.04</td><td>5.82 </td><td>21.40</td><td>6    </td><td>no   </td></tr>\n",
       "</tbody>\n",
       "</table>\n"
      ],
      "text/latex": [
       "\\begin{tabular}{r|llllllll}\n",
       " Season & k & theta & mdd & med & dist90 & iteration & Adj\\\\\n",
       "\\hline\n",
       "\t NEM   & -2.49 & 1.30  &  8.94 & 6.78  & 19.71 & 1     & no   \\\\\n",
       "\t NEM   &  0.85 & 0.34  & 21.84 & 7.14  & 55.00 & 2     & no   \\\\\n",
       "\t NEM   & -1.38 & 0.64  & 10.05 & 5.59  & 24.73 & 3     & no   \\\\\n",
       "\t NEM   & -2.06 & 0.91  &  9.06 & 6.05  & 21.17 & 4     & no   \\\\\n",
       "\t NEM   & -2.52 & 1.33  &  9.04 & 6.91  & 19.86 & 5     & no   \\\\\n",
       "\t NEM   & -1.92 & 0.84  &  9.04 & 5.82  & 21.40 & 6     & no   \\\\\n",
       "\\end{tabular}\n"
      ],
      "text/markdown": [
       "\n",
       "| Season | k | theta | mdd | med | dist90 | iteration | Adj |\n",
       "|---|---|---|---|---|---|---|---|\n",
       "| NEM   | -2.49 | 1.30  |  8.94 | 6.78  | 19.71 | 1     | no    |\n",
       "| NEM   |  0.85 | 0.34  | 21.84 | 7.14  | 55.00 | 2     | no    |\n",
       "| NEM   | -1.38 | 0.64  | 10.05 | 5.59  | 24.73 | 3     | no    |\n",
       "| NEM   | -2.06 | 0.91  |  9.06 | 6.05  | 21.17 | 4     | no    |\n",
       "| NEM   | -2.52 | 1.33  |  9.04 | 6.91  | 19.86 | 5     | no    |\n",
       "| NEM   | -1.92 | 0.84  |  9.04 | 5.82  | 21.40 | 6     | no    |\n",
       "\n"
      ],
      "text/plain": [
       "  Season k     theta mdd   med  dist90 iteration Adj\n",
       "1 NEM    -2.49 1.30   8.94 6.78 19.71  1         no \n",
       "2 NEM     0.85 0.34  21.84 7.14 55.00  2         no \n",
       "3 NEM    -1.38 0.64  10.05 5.59 24.73  3         no \n",
       "4 NEM    -2.06 0.91   9.06 6.05 21.17  4         no \n",
       "5 NEM    -2.52 1.33   9.04 6.91 19.86  5         no \n",
       "6 NEM    -1.92 0.84   9.04 5.82 21.40  6         no "
      ]
     },
     "metadata": {},
     "output_type": "display_data"
    }
   ],
   "source": [
    "head(CombinedSeasons)"
   ]
  },
  {
   "cell_type": "code",
   "execution_count": 162,
   "metadata": {},
   "outputs": [],
   "source": [
    "AvgSeasonalKernels <- CombinedSeasons %>% \n",
    "    select(-iteration) %>%\n",
    "    group_by(Season, Adj) %>%\n",
    "    summarise_each(funs(mean)) %>%\n",
    "    mutate(k=round(k, digits=2)) %>%\n",
    "    mutate(theta=round(theta, digits=2)) %>%\n",
    "    mutate(mdd=round(mdd, digits=2))%>%\n",
    "    mutate(med=round(med, digits=2))%>%\n",
    "    mutate(dist90=round(dist90, digits=2)) %>%\n",
    "    rename(AvgSimK=\"k\", AvgSimTheta=\"theta\", AvgSimMDD=\"mdd\", AvgSimMed=\"med\", AvgSimDist90=\"dist90\") %>%\n",
    "    mutate(TimeFrame=\"2012-14\")# %>%\n",
    "    #mutate(JoinKey=\"all\")"
   ]
  },
  {
   "cell_type": "code",
   "execution_count": 189,
   "metadata": {},
   "outputs": [
    {
     "data": {
      "text/html": [
       "<table>\n",
       "<thead><tr><th scope=col>Season</th><th scope=col>Adj</th><th scope=col>AvgSimK</th><th scope=col>AvgSimTheta</th><th scope=col>AvgSimMDD</th><th scope=col>AvgSimMed</th><th scope=col>AvgSimDist90</th><th scope=col>TimeFrame</th><th scope=col>GenK</th><th scope=col>GenTheta</th><th scope=col>GenMDD</th><th scope=col>GenMed</th><th scope=col>GenDist90</th><th scope=col>MDDDiffGenVSim</th></tr></thead>\n",
       "<tbody>\n",
       "\t<tr><td>SWM       </td><td>no        </td><td>-2.45     </td><td>1.39      </td><td> 8.58     </td><td>6.57      </td><td>18.77     </td><td>2012-14   </td><td>-1.62     </td><td>0.76      </td><td>   8.34   </td><td>  5.1     </td><td>  20.07   </td><td>   0.24   </td></tr>\n",
       "\t<tr><td>NEM       </td><td>SurvGrowth</td><td>-2.02     </td><td>1.17      </td><td>10.10     </td><td>6.69      </td><td>23.37     </td><td>2012-14   </td><td> 6.95     </td><td>0.15      </td><td>2755.86   </td><td>212.8     </td><td>4810.04   </td><td>2745.76   </td></tr>\n",
       "</tbody>\n",
       "</table>\n"
      ],
      "text/latex": [
       "\\begin{tabular}{r|llllllllllllll}\n",
       " Season & Adj & AvgSimK & AvgSimTheta & AvgSimMDD & AvgSimMed & AvgSimDist90 & TimeFrame & GenK & GenTheta & GenMDD & GenMed & GenDist90 & MDDDiffGenVSim\\\\\n",
       "\\hline\n",
       "\t SWM        & no         & -2.45      & 1.39       &  8.58      & 6.57       & 18.77      & 2012-14    & -1.62      & 0.76       &    8.34    &   5.1      &   20.07    &    0.24   \\\\\n",
       "\t NEM        & SurvGrowth & -2.02      & 1.17       & 10.10      & 6.69       & 23.37      & 2012-14    &  6.95      & 0.15       & 2755.86    & 212.8      & 4810.04    & 2745.76   \\\\\n",
       "\\end{tabular}\n"
      ],
      "text/markdown": [
       "\n",
       "| Season | Adj | AvgSimK | AvgSimTheta | AvgSimMDD | AvgSimMed | AvgSimDist90 | TimeFrame | GenK | GenTheta | GenMDD | GenMed | GenDist90 | MDDDiffGenVSim |\n",
       "|---|---|---|---|---|---|---|---|---|---|---|---|---|---|\n",
       "| SWM        | no         | -2.45      | 1.39       |  8.58      | 6.57       | 18.77      | 2012-14    | -1.62      | 0.76       |    8.34    |   5.1      |   20.07    |    0.24    |\n",
       "| NEM        | SurvGrowth | -2.02      | 1.17       | 10.10      | 6.69       | 23.37      | 2012-14    |  6.95      | 0.15       | 2755.86    | 212.8      | 4810.04    | 2745.76    |\n",
       "\n"
      ],
      "text/plain": [
       "  Season Adj        AvgSimK AvgSimTheta AvgSimMDD AvgSimMed AvgSimDist90\n",
       "1 SWM    no         -2.45   1.39         8.58     6.57      18.77       \n",
       "2 NEM    SurvGrowth -2.02   1.17        10.10     6.69      23.37       \n",
       "  TimeFrame GenK  GenTheta GenMDD  GenMed GenDist90 MDDDiffGenVSim\n",
       "1 2012-14   -1.62 0.76        8.34   5.1    20.07      0.24       \n",
       "2 2012-14    6.95 0.15     2755.86 212.8  4810.04   2745.76       "
      ]
     },
     "metadata": {},
     "output_type": "display_data"
    },
    {
     "data": {
      "text/html": [
       "<table>\n",
       "<thead><tr><th scope=col>Season</th><th scope=col>Adj</th><th scope=col>AvgSimK</th><th scope=col>AvgSimTheta</th><th scope=col>AvgSimMDD</th><th scope=col>AvgSimMed</th><th scope=col>AvgSimDist90</th><th scope=col>TimeFrame</th><th scope=col>GenK</th><th scope=col>GenTheta</th><th scope=col>GenMDD</th><th scope=col>GenMed</th><th scope=col>GenDist90</th><th scope=col>MDDDiffGenVSim</th></tr></thead>\n",
       "<tbody>\n",
       "\t<tr><td>SWM       </td><td>no        </td><td>-2.45     </td><td>1.39      </td><td> 8.58     </td><td>6.57      </td><td>18.77     </td><td>2012-14   </td><td>-1.62     </td><td>0.76      </td><td>   8.34   </td><td>  5.10    </td><td>  20.07   </td><td>   0.24   </td></tr>\n",
       "\t<tr><td>SWM       </td><td>SurvGrowth</td><td>-2.44     </td><td>1.37      </td><td> 8.63     </td><td>6.59      </td><td>18.94     </td><td>2012-14   </td><td>-1.62     </td><td>0.76      </td><td>   8.34   </td><td>  5.10    </td><td>  20.07   </td><td>   0.29   </td></tr>\n",
       "\t<tr><td>SWM       </td><td>Growth    </td><td>-2.40     </td><td>1.32      </td><td> 8.66     </td><td>6.52      </td><td>19.13     </td><td>2012-14   </td><td>-1.62     </td><td>0.76      </td><td>   8.34   </td><td>  5.10    </td><td>  20.07   </td><td>   0.32   </td></tr>\n",
       "\t<tr><td>NEM       </td><td>SurvGrowth</td><td>-2.02     </td><td>1.17      </td><td>10.10     </td><td>6.69      </td><td>23.37     </td><td>2012-14   </td><td> 6.95     </td><td>0.15      </td><td>2755.86   </td><td>212.80    </td><td>4810.04   </td><td>2745.76   </td></tr>\n",
       "\t<tr><td>NEM       </td><td>Growth    </td><td>-2.04     </td><td>1.17      </td><td>10.01     </td><td>6.66      </td><td>23.13     </td><td>2012-14   </td><td> 6.95     </td><td>0.15      </td><td>2755.86   </td><td>212.80    </td><td>4810.04   </td><td>2745.85   </td></tr>\n",
       "\t<tr><td>NEM       </td><td>no        </td><td>-2.08     </td><td>1.26      </td><td> 9.95     </td><td>6.72      </td><td>22.82     </td><td>2012-14   </td><td> 6.95     </td><td>0.15      </td><td>2755.86   </td><td>212.80    </td><td>4810.04   </td><td>2745.91   </td></tr>\n",
       "\t<tr><td>SWM       </td><td>NA        </td><td>   NA     </td><td>  NA      </td><td>   NA     </td><td>  NA      </td><td>   NA     </td><td>2012-18   </td><td>-2.60     </td><td>1.58      </td><td>   8.57   </td><td>  6.87    </td><td>  18.32   </td><td>     NA   </td></tr>\n",
       "\t<tr><td>NEM       </td><td>NA        </td><td>   NA     </td><td>  NA      </td><td>   NA     </td><td>  NA      </td><td>   NA     </td><td>2012-18   </td><td>-0.89     </td><td>0.56      </td><td>   9.45   </td><td>  4.82    </td><td>  23.60   </td><td>     NA   </td></tr>\n",
       "</tbody>\n",
       "</table>\n"
      ],
      "text/latex": [
       "\\begin{tabular}{r|llllllllllllll}\n",
       " Season & Adj & AvgSimK & AvgSimTheta & AvgSimMDD & AvgSimMed & AvgSimDist90 & TimeFrame & GenK & GenTheta & GenMDD & GenMed & GenDist90 & MDDDiffGenVSim\\\\\n",
       "\\hline\n",
       "\t SWM        & no         & -2.45      & 1.39       &  8.58      & 6.57       & 18.77      & 2012-14    & -1.62      & 0.76       &    8.34    &   5.10     &   20.07    &    0.24   \\\\\n",
       "\t SWM        & SurvGrowth & -2.44      & 1.37       &  8.63      & 6.59       & 18.94      & 2012-14    & -1.62      & 0.76       &    8.34    &   5.10     &   20.07    &    0.29   \\\\\n",
       "\t SWM        & Growth     & -2.40      & 1.32       &  8.66      & 6.52       & 19.13      & 2012-14    & -1.62      & 0.76       &    8.34    &   5.10     &   20.07    &    0.32   \\\\\n",
       "\t NEM        & SurvGrowth & -2.02      & 1.17       & 10.10      & 6.69       & 23.37      & 2012-14    &  6.95      & 0.15       & 2755.86    & 212.80     & 4810.04    & 2745.76   \\\\\n",
       "\t NEM        & Growth     & -2.04      & 1.17       & 10.01      & 6.66       & 23.13      & 2012-14    &  6.95      & 0.15       & 2755.86    & 212.80     & 4810.04    & 2745.85   \\\\\n",
       "\t NEM        & no         & -2.08      & 1.26       &  9.95      & 6.72       & 22.82      & 2012-14    &  6.95      & 0.15       & 2755.86    & 212.80     & 4810.04    & 2745.91   \\\\\n",
       "\t SWM        & NA         &    NA      &   NA       &    NA      &   NA       &    NA      & 2012-18    & -2.60      & 1.58       &    8.57    &   6.87     &   18.32    &      NA   \\\\\n",
       "\t NEM        & NA         &    NA      &   NA       &    NA      &   NA       &    NA      & 2012-18    & -0.89      & 0.56       &    9.45    &   4.82     &   23.60    &      NA   \\\\\n",
       "\\end{tabular}\n"
      ],
      "text/markdown": [
       "\n",
       "| Season | Adj | AvgSimK | AvgSimTheta | AvgSimMDD | AvgSimMed | AvgSimDist90 | TimeFrame | GenK | GenTheta | GenMDD | GenMed | GenDist90 | MDDDiffGenVSim |\n",
       "|---|---|---|---|---|---|---|---|---|---|---|---|---|---|\n",
       "| SWM        | no         | -2.45      | 1.39       |  8.58      | 6.57       | 18.77      | 2012-14    | -1.62      | 0.76       |    8.34    |   5.10     |   20.07    |    0.24    |\n",
       "| SWM        | SurvGrowth | -2.44      | 1.37       |  8.63      | 6.59       | 18.94      | 2012-14    | -1.62      | 0.76       |    8.34    |   5.10     |   20.07    |    0.29    |\n",
       "| SWM        | Growth     | -2.40      | 1.32       |  8.66      | 6.52       | 19.13      | 2012-14    | -1.62      | 0.76       |    8.34    |   5.10     |   20.07    |    0.32    |\n",
       "| NEM        | SurvGrowth | -2.02      | 1.17       | 10.10      | 6.69       | 23.37      | 2012-14    |  6.95      | 0.15       | 2755.86    | 212.80     | 4810.04    | 2745.76    |\n",
       "| NEM        | Growth     | -2.04      | 1.17       | 10.01      | 6.66       | 23.13      | 2012-14    |  6.95      | 0.15       | 2755.86    | 212.80     | 4810.04    | 2745.85    |\n",
       "| NEM        | no         | -2.08      | 1.26       |  9.95      | 6.72       | 22.82      | 2012-14    |  6.95      | 0.15       | 2755.86    | 212.80     | 4810.04    | 2745.91    |\n",
       "| SWM        | NA         |    NA      |   NA       |    NA      |   NA       |    NA      | 2012-18    | -2.60      | 1.58       |    8.57    |   6.87     |   18.32    |      NA    |\n",
       "| NEM        | NA         |    NA      |   NA       |    NA      |   NA       |    NA      | 2012-18    | -0.89      | 0.56       |    9.45    |   4.82     |   23.60    |      NA    |\n",
       "\n"
      ],
      "text/plain": [
       "  Season Adj        AvgSimK AvgSimTheta AvgSimMDD AvgSimMed AvgSimDist90\n",
       "1 SWM    no         -2.45   1.39         8.58     6.57      18.77       \n",
       "2 SWM    SurvGrowth -2.44   1.37         8.63     6.59      18.94       \n",
       "3 SWM    Growth     -2.40   1.32         8.66     6.52      19.13       \n",
       "4 NEM    SurvGrowth -2.02   1.17        10.10     6.69      23.37       \n",
       "5 NEM    Growth     -2.04   1.17        10.01     6.66      23.13       \n",
       "6 NEM    no         -2.08   1.26         9.95     6.72      22.82       \n",
       "7 SWM    NA            NA     NA           NA       NA         NA       \n",
       "8 NEM    NA            NA     NA           NA       NA         NA       \n",
       "  TimeFrame GenK  GenTheta GenMDD  GenMed GenDist90 MDDDiffGenVSim\n",
       "1 2012-14   -1.62 0.76        8.34   5.10   20.07      0.24       \n",
       "2 2012-14   -1.62 0.76        8.34   5.10   20.07      0.29       \n",
       "3 2012-14   -1.62 0.76        8.34   5.10   20.07      0.32       \n",
       "4 2012-14    6.95 0.15     2755.86 212.80 4810.04   2745.76       \n",
       "5 2012-14    6.95 0.15     2755.86 212.80 4810.04   2745.85       \n",
       "6 2012-14    6.95 0.15     2755.86 212.80 4810.04   2745.91       \n",
       "7 2012-18   -2.60 1.58        8.57   6.87   18.32        NA       \n",
       "8 2012-18   -0.89 0.56        9.45   4.82   23.60        NA       "
      ]
     },
     "metadata": {},
     "output_type": "display_data"
    }
   ],
   "source": [
    "SimPlusGenFitsSeasons <- right_join(AvgSeasonalKernels, GenSeasonalKernels, by=c(\"Season\", \"TimeFrame\"))%>%\n",
    "    mutate(MDDDiffGenVSim=abs(GenMDD-AvgSimMDD)) %>%\n",
    "    arrange(MDDDiffGenVSim) %>%\n",
    "    mutate(GenK=round(GenK, digits=2)) %>%\n",
    "    mutate(GenTheta=round(GenTheta, digits=2)) %>%\n",
    "    mutate(GenMDD=round(GenMDD, digits=2))\n",
    "\n",
    "SimPlusGenFitsSeasons %>%\n",
    "    group_by(Season) %>%\n",
    "    filter(MDDDiffGenVSim==min(MDDDiffGenVSim, na.rm=T))\n",
    "\n",
    "SimPlusGenFitsSeasons\n",
    "\n",
    "#write.csv(SimPlusGenFits, file=\"~/oceanography/script_output/KernelFits/SimPlusGenKernelFitsSeasons.csv\", row.names=F)"
   ]
  },
  {
   "cell_type": "code",
   "execution_count": null,
   "metadata": {},
   "outputs": [],
   "source": []
  },
  {
   "cell_type": "code",
   "execution_count": 193,
   "metadata": {},
   "outputs": [
    {
     "name": "stderr",
     "output_type": "stream",
     "text": [
      "Warning message:\n",
      "“Removed 2 rows containing missing values (geom_point).”Saving 6.67 x 6.67 in image\n",
      "Warning message:\n",
      "“Removed 2 rows containing missing values (geom_point).”"
     ]
    },
    {
     "data": {
      "image/png": "[encoded data removed]",
      "text/plain": [
       "plot without title"
      ]
     },
     "metadata": {},
     "output_type": "display_data"
    }
   ],
   "source": [
    "cbbPalette <- c(\"#000000\", \"#E69F00\", \"#56B4E9\", \"#009E73\", \"#F0E442\", \"#0072B2\", \"#D55E00\", \"#CC79A7\")\n",
    "cbbPalette_rev <- rev(cbbPalette)\n",
    "\n",
    "#CombinedSeasons$Season <- factor(CombinedSeasons$Season, levels=c(\"2012\", \"2013\", \"2014\", \"2012-14\"))\n",
    "#SimPlusGenFitsSeasons$Season <- factor(SimPlusGenFitsSeasons$Season, levels=c(\"2012\", \"2013\", \"2014\", \"2012-14\"))\n",
    "\n",
    "mdd_violin <- ggplot(data=CombinedSeasons, aes(x=Season, y=mdd, color=Season, fill=Season), alpha=0.5) +\n",
    "    geom_violin() +\n",
    "    geom_point(data=SimPlusGenFitsSeasons, aes(x=Season, y=AvgSimMDD, shape=Adj), fill=NA, color=\"black\", size=3) + \n",
    "    geom_point(data=SimPlusGenFitsSeasons, aes(x=Season, y=GenMDD), fill=\"red\", color=\"red\") + # with all fits\n",
    "    #geom_point(data=kernels %>% filter(Year %in% c(\"2012\", \"2013\", \"2014\", \"all\")), aes(x=Year, y=MeanDispDist), fill=\"black\",color=\"darkgray\", shape=24) + #genetic estimates\n",
    "    coord_flip() +\n",
    "    scale_shape_discrete(name = \"Adjustment\", labels = c(\"only >3.5 cm\", \"none\", \"only >3.5 cm and survival weighting\"))+\n",
    "    #scale_x_continuous(limits = c(0, 100), expand=c(0,0)) +\n",
    "    #scale_y_continuous(limits = c(0, 30), expand = c(0,0))+\n",
    "    theme(panel.grid.major = element_blank(),\n",
    "    plot.margin=unit(c(0.2,0.2,0.2,0.2),\"cm\"),\n",
    "    panel.grid.minor = element_blank(), \n",
    "    panel.background = element_blank(), #,\n",
    "    axis.line = element_line(colour = \"black\")) +\n",
    "    xlab(\"Year\") + \n",
    "    ylab(\"Mean dispersal distance (km)\") +\n",
    "    theme(axis.text.x = element_text(size=8, color=\"black\", family=\"Helvetica\"),#15 for publication, 20 for presentation #element_text(size=15, color=\"black\", family=\"Helvetica\"),\n",
    "    axis.text.y =  element_text(size=8, color=\"black\", family=\"Helvetica\"),\n",
    "    axis.title.y =  element_text(size=10, color=\"black\", family=\"Helvetica\"), \n",
    "    axis.title.x =  element_text(size=10, color=\"black\", family=\"Helvetica\")) + \n",
    "    scale_colour_manual(values=cbbPalette_rev)+\n",
    "    scale_fill_manual(values=cbbPalette_rev)\n",
    "    #scale_y_continuous(breaks = 1:2000, labels = c(1:50,\"break\",1000:2000))\n",
    "mdd_violin\n",
    "ggplot2::ggsave(filename=\"SimMeanDispDistPlusGenPointsSeasons.png\",  plot=mdd_violin, path=\"~/oceanography/script_output/KernelFits/Plots/\")\n"
   ]
  },
  {
   "cell_type": "code",
   "execution_count": null,
   "metadata": {},
   "outputs": [],
   "source": []
  },
  {
   "cell_type": "code",
   "execution_count": null,
   "metadata": {},
   "outputs": [],
   "source": []
  },
  {
   "cell_type": "code",
   "execution_count": null,
   "metadata": {},
   "outputs": [],
   "source": []
  },
  {
   "cell_type": "code",
   "execution_count": null,
   "metadata": {},
   "outputs": [],
   "source": []
  },
  {
   "cell_type": "code",
   "execution_count": null,
   "metadata": {},
   "outputs": [],
   "source": []
  },
  {
   "cell_type": "code",
   "execution_count": 192,
   "metadata": {
    "scrolled": true
   },
   "outputs": [
    {
     "ename": "ERROR",
     "evalue": "Error in ggplot(data = SimCombinedSummary, aes(x = year, y = mdd, color = year, : object 'SimCombinedSummary' not found\n",
     "output_type": "error",
     "traceback": [
      "Error in ggplot(data = SimCombinedSummary, aes(x = year, y = mdd, color = year, : object 'SimCombinedSummary' not found\nTraceback:\n",
      "1. ggplot(data = SimCombinedSummary, aes(x = year, y = mdd, color = year, \n .     fill = year), alpha = 0.5)"
     ]
    }
   ],
   "source": [
    "cbbPalette <- c(\"#000000\", \"#E69F00\", \"#56B4E9\", \"#009E73\", \"#F0E442\", \"#0072B2\", \"#D55E00\", \"#CC79A7\")\n",
    "cbbPalette_rev <- rev(cbbPalette)\n",
    "\n",
    "mdd_violin <- ggplot(data=SimCombinedSummary, aes(x=year, y=mdd, color=year, fill=year), alpha=0.5) +\n",
    "    geom_violin() +\n",
    "    #geom_point(data=AverageFits2, aes(x=year, y=mdd), fill=\"snow\",color=\"darkgray\", shape=21) + #without borderline fits\n",
    "    geom_point(data=AverageFits, aes(x=year, y=mdd), fill=\"black \",color=\"darkgray\", shape=21) + # with all fits\n",
    "    geom_point(data=kernels %>% filter(Year %in% c(\"2012\", \"2013\", \"2014\", \"all\")), aes(x=Year, y=MeanDispDist), fill=\"black\",color=\"darkgray\", shape=24) + #genetic estimates\n",
    "    coord_flip() +\n",
    "    #scale_x_continuous(limits = c(0, 100), expand=c(0,0)) +\n",
    "    scale_y_continuous(limits = c(0, 83), expand = c(0,0))+\n",
    "    theme(panel.grid.major = element_blank(),\n",
    "    plot.margin=unit(c(0.2,0.2,0.2,0.2),\"cm\"),\n",
    "    panel.grid.minor = element_blank(), \n",
    "    panel.background = element_blank(), #,\n",
    "    axis.line = element_line(colour = \"black\")) +\n",
    "    xlab(\"Year\") + \n",
    "    ylab(\"Mean dispersal distance (km)\") +\n",
    "    theme(axis.text.x = element_text(size=8, color=\"black\", family=\"Helvetica\"),#15 for publication, 20 for presentation #element_text(size=15, color=\"black\", family=\"Helvetica\"),\n",
    "    axis.text.y =  element_text(size=8, color=\"black\", family=\"Helvetica\"),\n",
    "    axis.title.y =  element_text(size=10, color=\"black\", family=\"Helvetica\"), \n",
    "    axis.title.x =  element_text(size=10, color=\"black\", family=\"Helvetica\"),    \n",
    "    legend.position = \"none\") + \n",
    "    scale_colour_manual(values=cbbPalette_rev)+\n",
    "    scale_fill_manual(values=cbbPalette_rev)\n",
    "    #scale_y_continuous(breaks = 1:2000, labels = c(1:50,\"break\",1000:2000))\n",
    "mdd_violin\n",
    "ggplot2::ggsave(filename=\"SimMeanDispDistPlusGenPoints.png\",  plot=mdd_violin, path=\"~/oceanography/script_output/KernelFits/Plots/\")\n"
   ]
  },
  {
   "cell_type": "code",
   "execution_count": null,
   "metadata": {},
   "outputs": [],
   "source": []
  },
  {
   "cell_type": "code",
   "execution_count": 115,
   "metadata": {},
   "outputs": [
    {
     "data": {
      "text/html": [
       "<table>\n",
       "<thead><tr><th scope=col>year</th><th scope=col>SimK</th><th scope=col>SimTheta</th><th scope=col>SimMDD</th><th scope=col>SimKurtosis</th><th scope=col>GenK</th><th scope=col>GenTheta</th><th scope=col>GenMDD</th><th scope=col>GenMedDispDist</th></tr></thead>\n",
       "<tbody>\n",
       "\t<tr><td>2012     </td><td>-1.828326</td><td>1.250510 </td><td>10.127328</td><td>15.518027</td><td>-2.36    </td><td>1.03     </td><td>10.165094</td><td> 7.13    </td></tr>\n",
       "\t<tr><td>2013     </td><td>-1.242150</td><td>0.804757 </td><td> 8.091848</td><td>13.967938</td><td> 4.04    </td><td>0.22     </td><td>69.586280</td><td>12.20    </td></tr>\n",
       "\t<tr><td>2014     </td><td>-1.926596</td><td>1.243059 </td><td>26.376964</td><td>86.415760</td><td> 0.49    </td><td>0.38     </td><td>15.037515</td><td> 5.53    </td></tr>\n",
       "\t<tr><td>all      </td><td>-1.919426</td><td>1.014670 </td><td>10.219857</td><td> 8.635482</td><td>-2.51    </td><td>1.49     </td><td> 8.153016</td><td> 6.44    </td></tr>\n",
       "</tbody>\n",
       "</table>\n"
      ],
      "text/latex": [
       "\\begin{tabular}{r|lllllllll}\n",
       " year & SimK & SimTheta & SimMDD & SimKurtosis & GenK & GenTheta & GenMDD & GenMedDispDist\\\\\n",
       "\\hline\n",
       "\t 2012      & -1.828326 & 1.250510  & 10.127328 & 15.518027 & -2.36     & 1.03      & 10.165094 &  7.13    \\\\\n",
       "\t 2013      & -1.242150 & 0.804757  &  8.091848 & 13.967938 &  4.04     & 0.22      & 69.586280 & 12.20    \\\\\n",
       "\t 2014      & -1.926596 & 1.243059  & 26.376964 & 86.415760 &  0.49     & 0.38      & 15.037515 &  5.53    \\\\\n",
       "\t all       & -1.919426 & 1.014670  & 10.219857 &  8.635482 & -2.51     & 1.49      &  8.153016 &  6.44    \\\\\n",
       "\\end{tabular}\n"
      ],
      "text/markdown": [
       "\n",
       "| year | SimK | SimTheta | SimMDD | SimKurtosis | GenK | GenTheta | GenMDD | GenMedDispDist |\n",
       "|---|---|---|---|---|---|---|---|---|\n",
       "| 2012      | -1.828326 | 1.250510  | 10.127328 | 15.518027 | -2.36     | 1.03      | 10.165094 |  7.13     |\n",
       "| 2013      | -1.242150 | 0.804757  |  8.091848 | 13.967938 |  4.04     | 0.22      | 69.586280 | 12.20     |\n",
       "| 2014      | -1.926596 | 1.243059  | 26.376964 | 86.415760 |  0.49     | 0.38      | 15.037515 |  5.53     |\n",
       "| all       | -1.919426 | 1.014670  | 10.219857 |  8.635482 | -2.51     | 1.49      |  8.153016 |  6.44     |\n",
       "\n"
      ],
      "text/plain": [
       "  year SimK      SimTheta SimMDD    SimKurtosis GenK  GenTheta GenMDD   \n",
       "1 2012 -1.828326 1.250510 10.127328 15.518027   -2.36 1.03     10.165094\n",
       "2 2013 -1.242150 0.804757  8.091848 13.967938    4.04 0.22     69.586280\n",
       "3 2014 -1.926596 1.243059 26.376964 86.415760    0.49 0.38     15.037515\n",
       "4 all  -1.919426 1.014670 10.219857  8.635482   -2.51 1.49      8.153016\n",
       "  GenMedDispDist\n",
       "1  7.13         \n",
       "2 12.20         \n",
       "3  5.53         \n",
       "4  6.44         "
      ]
     },
     "metadata": {},
     "output_type": "display_data"
    }
   ],
   "source": [
    "(SimPlusGenFits)"
   ]
  },
  {
   "cell_type": "code",
   "execution_count": 95,
   "metadata": {},
   "outputs": [
    {
     "data": {
      "image/png": "[encoded data removed]",
      "text/plain": [
       "plot without title"
      ]
     },
     "metadata": {},
     "output_type": "display_data"
    }
   ],
   "source": [
    "plot(SimPlusGenFits$SimMDD~SimPlusGenFits$MeanDispDist)"
   ]
  },
  {
   "cell_type": "code",
   "execution_count": 60,
   "metadata": {},
   "outputs": [
    {
     "name": "stderr",
     "output_type": "stream",
     "text": [
      "Warning message in min(x):\n",
      "“no non-missing arguments to min; returning Inf”Warning message in max(x):\n",
      "“no non-missing arguments to max; returning -Inf”"
     ]
    },
    {
     "ename": "ERROR",
     "evalue": "Error in hist.default(MDDAllYear$mdd, breaks = 100, main = NULL, xlab = \"Mean dispersal distance (km)\"): character(0)\n",
     "output_type": "error",
     "traceback": [
      "Error in hist.default(MDDAllYear$mdd, breaks = 100, main = NULL, xlab = \"Mean dispersal distance (km)\"): character(0)\nTraceback:\n",
      "1. hist(MDDAllYear$mdd, breaks = 100, main = NULL, xlab = \"Mean dispersal distance (km)\")",
      "2. hist.default(MDDAllYear$mdd, breaks = 100, main = NULL, xlab = \"Mean dispersal distance (km)\")",
      "3. stop(gettextf(\"hist.default: pretty() error, breaks=%s\", format(breaks)), \n .     domain = NA)"
     ]
    }
   ],
   "source": [
    "MDDAllYear <- CombinedSims %>% \n",
    "    filter(year==\"all\")\n",
    "#pdf(\"~/oceanography/script_output/KernelFits/Plots/MeanDispDistHist2012-14.pdf\")\n",
    "hist(MDDAllYear$mdd, breaks=100, main=NULL, xlab=\"Mean dispersal distance (km)\")\n",
    "#dev.off()\n",
    "summary(MDDAllYear$mdd)"
   ]
  },
  {
   "cell_type": "code",
   "execution_count": 97,
   "metadata": {},
   "outputs": [
    {
     "data": {
      "text/plain": [
       "\n",
       "\tPearson's product-moment correlation\n",
       "\n",
       "data:  SimPlusGenFits$SimMDD and SimPlusGenFits$MeanDispDist\n",
       "t = -0.53384, df = 2, p-value = 0.6468\n",
       "alternative hypothesis: true correlation is not equal to 0\n",
       "95 percent confidence interval:\n",
       " -0.9812079  0.9202897\n",
       "sample estimates:\n",
       "       cor \n",
       "-0.3531582 \n"
      ]
     },
     "metadata": {},
     "output_type": "display_data"
    },
    {
     "data": {
      "text/plain": [
       "\n",
       "\tPearson's product-moment correlation\n",
       "\n",
       "data:  SimPlusGenFits$SimTheta and SimPlusGenFits$GenTheta\n",
       "t = 0.32913, df = 2, p-value = 0.7733\n",
       "alternative hypothesis: true correlation is not equal to 0\n",
       "95 percent confidence interval:\n",
       " -0.9389710  0.9752907\n",
       "sample estimates:\n",
       "      cor \n",
       "0.2266754 \n"
      ]
     },
     "metadata": {},
     "output_type": "display_data"
    }
   ],
   "source": [
    "#test for correlations\n",
    "cor.test(SimPlusGenFits$SimMDD, SimPlusGenFits$MeanDispDist,  method = \"pearson\")\n",
    "cor.test(SimPlusGenFits$SimTheta, SimPlusGenFits$GenTheta,  method = \"pearson\")\n"
   ]
  },
  {
   "cell_type": "code",
   "execution_count": 17,
   "metadata": {},
   "outputs": [],
   "source": [
    "#seasons\n",
    "SimulatedKernelsNEM <-  read.csv(file=\"~/oceanography/script_output/KernelFits/100SimulatedKernelsNEM.csv\", header=T)\n",
    "SimulatedKernelsSWM <-  read.csv(file=\"~/oceanography/script_output/KernelFits/100SimulatedKernelsSWM.csv\", header=T)\n",
    "CombinedSeasons <- bind_rows(SimulatedKernelsNEM, SimulatedKernelsSWM) %>%\n",
    "    select(-iteration)"
   ]
  },
  {
   "cell_type": "code",
   "execution_count": 24,
   "metadata": {},
   "outputs": [
    {
     "data": {
      "text/html": [
       "<table>\n",
       "<thead><tr><th scope=col>Season</th><th scope=col>RecruitSizeAtSampling</th><th scope=col>best_k</th><th scope=col>best_theta</th><th scope=col>k_CI95_lower</th><th scope=col>k_CI95_upper</th><th scope=col>theta_CI95_lower</th><th scope=col>theta_CI95_upper</th><th scope=col>MeanDispersalDistance</th><th scope=col>MeanDispDist_CI95_lower</th><th scope=col>MeanDispDist_CI95_upper</th><th scope=col>MedianDispersalDistance</th><th scope=col>MedianDispDist_CI95_lower</th><th scope=col>MedianDispDist_CI95_upper</th><th scope=col>Dist90Retained</th></tr></thead>\n",
       "<tbody>\n",
       "\t<tr><td>SWM                                               </td><td>&gt; 4.5 cm                                       </td><td>-2.60                                             </td><td>1.58                                              </td><td>-2.63                                             </td><td>-2.47                                             </td><td>1.34                                              </td><td>1.59                                              </td><td>8.574871                                          </td><td>7.132250                                          </td><td><span style=white-space:pre-wrap>  10.39623</span></td><td>6.87                                              </td><td>4.93                                              </td><td><span style=white-space:pre-wrap>  9.28</span>    </td><td>18.32                                             </td></tr>\n",
       "\t<tr><td>NEM        </td><td>&lt; 3.5 cm</td><td>-0.89      </td><td>0.56       </td><td>-1.46      </td><td>-0.74      </td><td>0.54       </td><td>0.61       </td><td>9.446898   </td><td>6.014163   </td><td>4272.46841 </td><td>4.82       </td><td>3.24       </td><td>323.37     </td><td>23.60      </td></tr>\n",
       "</tbody>\n",
       "</table>\n"
      ],
      "text/latex": [
       "\\begin{tabular}{r|lllllllllllllll}\n",
       " Season & RecruitSizeAtSampling & best\\_k & best\\_theta & k\\_CI95\\_lower & k\\_CI95\\_upper & theta\\_CI95\\_lower & theta\\_CI95\\_upper & MeanDispersalDistance & MeanDispDist\\_CI95\\_lower & MeanDispDist\\_CI95\\_upper & MedianDispersalDistance & MedianDispDist\\_CI95\\_lower & MedianDispDist\\_CI95\\_upper & Dist90Retained\\\\\n",
       "\\hline\n",
       "\t SWM        & > 4.5 cm   & -2.60      & 1.58       & -2.63      & -2.47      & 1.34       & 1.59       & 8.574871   & 7.132250   &   10.39623 & 6.87       & 4.93       &   9.28     & 18.32     \\\\\n",
       "\t NEM        & < 3.5 cm   & -0.89      & 0.56       & -1.46      & -0.74      & 0.54       & 0.61       & 9.446898   & 6.014163   & 4272.46841 & 4.82       & 3.24       & 323.37     & 23.60     \\\\\n",
       "\\end{tabular}\n"
      ],
      "text/markdown": [
       "\n",
       "| Season | RecruitSizeAtSampling | best_k | best_theta | k_CI95_lower | k_CI95_upper | theta_CI95_lower | theta_CI95_upper | MeanDispersalDistance | MeanDispDist_CI95_lower | MeanDispDist_CI95_upper | MedianDispersalDistance | MedianDispDist_CI95_lower | MedianDispDist_CI95_upper | Dist90Retained |\n",
       "|---|---|---|---|---|---|---|---|---|---|---|---|---|---|---|\n",
       "| SWM        | > 4.5 cm   | -2.60      | 1.58       | -2.63      | -2.47      | 1.34       | 1.59       | 8.574871   | 7.132250   |   10.39623 | 6.87       | 4.93       |   9.28     | 18.32      |\n",
       "| NEM        | < 3.5 cm   | -0.89      | 0.56       | -1.46      | -0.74      | 0.54       | 0.61       | 9.446898   | 6.014163   | 4272.46841 | 4.82       | 3.24       | 323.37     | 23.60      |\n",
       "\n"
      ],
      "text/plain": [
       "  Season RecruitSizeAtSampling best_k best_theta k_CI95_lower k_CI95_upper\n",
       "1 SWM    > 4.5 cm              -2.60  1.58       -2.63        -2.47       \n",
       "2 NEM    < 3.5 cm              -0.89  0.56       -1.46        -0.74       \n",
       "  theta_CI95_lower theta_CI95_upper MeanDispersalDistance\n",
       "1 1.34             1.59             8.574871             \n",
       "2 0.54             0.61             9.446898             \n",
       "  MeanDispDist_CI95_lower MeanDispDist_CI95_upper MedianDispersalDistance\n",
       "1 7.132250                  10.39623              6.87                   \n",
       "2 6.014163                4272.46841              4.82                   \n",
       "  MedianDispDist_CI95_lower MedianDispDist_CI95_upper Dist90Retained\n",
       "1 4.93                        9.28                    18.32         \n",
       "2 3.24                      323.37                    23.60         "
      ]
     },
     "metadata": {},
     "output_type": "display_data"
    }
   ],
   "source": [
    "SeasonalKernels <- read.csv(file=\"~/parentage/kernel_fitting/1340_loci/final_results/tables/RecruitSizeAsSeasonlity_summary.csv\", header=T)\n",
    "head(SeasonalKernels)"
   ]
  },
  {
   "cell_type": "code",
   "execution_count": null,
   "metadata": {},
   "outputs": [],
   "source": []
  }
 ],
 "metadata": {
  "kernelspec": {
   "display_name": "R",
   "language": "R",
   "name": "ir"
  },
  "language_info": {
   "codemirror_mode": "r",
   "file_extension": ".r",
   "mimetype": "text/x-r-source",
   "name": "R",
   "pygments_lexer": "r",
   "version": "3.6.1"
  }
 },
 "nbformat": 4,
 "nbformat_minor": 4
}
