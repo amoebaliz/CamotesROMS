{
 "cells": [
  {
   "cell_type": "markdown",
   "metadata": {},
   "source": [
    "## View the connectivity matrices in R to check for Liz to move on to more particles, longer releases"
   ]
  },
  {
   "cell_type": "code",
   "execution_count": 3,
   "metadata": {},
   "outputs": [],
   "source": [
    "Packages <- c(\"dplyr\",\"lattice\", \"ggplot2\", \"dplyr\",\"ncdf4\", \"tidyr\", \"stringr\", \"tidyverse\", \"raster\", \"lubridate\", \"RColorBrewer\")\n",
    "\n",
    "invisible(suppressPackageStartupMessages(lapply(Packages, library, character.only = TRUE)))\n",
    "\n",
    "setwd('/local/home/katrinac/oceanography')\n",
    "\n",
    "source(\"~/scripts/conleyte.R\")\n",
    "source(\"~/scripts/conlabor.R\")\n",
    "labor <- conlabor()\n",
    "leyte <- conleyte()\n"
   ]
  },
  {
   "cell_type": "code",
   "execution_count": 4,
   "metadata": {},
   "outputs": [],
   "source": [
    "#conn_mat <- raster(\"~/oceanography/ROMS/data/Camotes_Sea_Connectivity_Matrices_08_day_PLD.nc\", values=T, band=1)\n",
    "conn_mat_all <- brick(\"~/oceanography/ROMS/data/Camotes_Sea_Connectivity_Matrices_08_day_PLD.nc\", values=T) \n",
    "\n",
    "    "
   ]
  },
  {
   "cell_type": "code",
   "execution_count": 5,
   "metadata": {},
   "outputs": [],
   "source": [
    "sources <- c(\"palanas\", \"wangag\", \"magbangon\", \"cabatoan\", \"caridad_cem\", \"caridad_prop\", \"hicgop\", \"hicgop_south\", \"sitio_tugas\", \"el_school\", \"sitio_lonas\", \"san_agustin\", \"psf\", \"poroc_rose\", \"pangasugan\", \"visca\", \"gabas\", \"tamakin\", \"haina\", \"sitio_baybay\", \"sandflat1\", \"sandflat2\", \"sandflat3\", \"sandflat4\", \"sandflat5\", \"sandflat6\", \"camotes_islands\", \"other\")\n",
    "source_ind <- c(seq(1,28, 1))\n",
    "source_id <- cbind(sources, source_ind)\n"
   ]
  },
  {
   "cell_type": "code",
   "execution_count": 6,
   "metadata": {},
   "outputs": [
    {
     "data": {
      "text/html": [
       "<ol class=list-inline>\n",
       "\t<li>930</li>\n",
       "\t<li>2</li>\n",
       "</ol>\n"
      ],
      "text/latex": [
       "\\begin{enumerate*}\n",
       "\\item 930\n",
       "\\item 2\n",
       "\\end{enumerate*}\n"
      ],
      "text/markdown": [
       "1. 930\n",
       "2. 2\n",
       "\n",
       "\n"
      ],
      "text/plain": [
       "[1] 930   2"
      ]
     },
     "metadata": {},
     "output_type": "display_data"
    }
   ],
   "source": [
    "col <- \"date\"\n",
    "col2 <- \"index\"\n",
    "season1 <- as.data.frame(seq(as.Date(\"2010/10/01\"), as.Date(\"2011/05/31\"), by=\"days\"))\n",
    "names(season1) <- col\n",
    "\n",
    "season2 <- as.data.frame(seq(as.Date(\"2011/10/01\"), as.Date(\"2012/05/31\"), by=\"days\"))\n",
    "names(season2) <- col\n",
    "\n",
    "season3 <- as.data.frame(seq(as.Date(\"2012/10/01\"), as.Date(\"2013/05/31\"), by=\"days\"))\n",
    "names(season3) <- col\n",
    "\n",
    "season4 <- as.data.frame(seq(as.Date(\"2013/10/01\"), as.Date(\"2014/04/18\"), by=\"days\"))\n",
    "names(season4) <- col\n",
    "\n",
    "all_dates <- bind_rows(season1, season2, season3, season4)\n",
    "time_step <- as.data.frame(seq(1,930,1))\n",
    "names(time_step)<- col2\n",
    "all_dates2 <- bind_cols(time_step, all_dates)\n",
    "dim(all_dates2)\n"
   ]
  },
  {
   "cell_type": "code",
   "execution_count": 8,
   "metadata": {},
   "outputs": [
    {
     "data": {
      "text/html": [
       "<table>\n",
       "<thead><tr><th scope=col>index</th><th scope=col>date</th></tr></thead>\n",
       "<tbody>\n",
       "\t<tr><td>1         </td><td>2010-10-01</td></tr>\n",
       "\t<tr><td>2         </td><td>2010-10-02</td></tr>\n",
       "\t<tr><td>3         </td><td>2010-10-03</td></tr>\n",
       "\t<tr><td>4         </td><td>2010-10-04</td></tr>\n",
       "\t<tr><td>5         </td><td>2010-10-05</td></tr>\n",
       "\t<tr><td>6         </td><td>2010-10-06</td></tr>\n",
       "</tbody>\n",
       "</table>\n"
      ],
      "text/latex": [
       "\\begin{tabular}{r|ll}\n",
       " index & date\\\\\n",
       "\\hline\n",
       "\t 1          & 2010-10-01\\\\\n",
       "\t 2          & 2010-10-02\\\\\n",
       "\t 3          & 2010-10-03\\\\\n",
       "\t 4          & 2010-10-04\\\\\n",
       "\t 5          & 2010-10-05\\\\\n",
       "\t 6          & 2010-10-06\\\\\n",
       "\\end{tabular}\n"
      ],
      "text/markdown": [
       "\n",
       "index | date | \n",
       "|---|---|---|---|---|---|\n",
       "| 1          | 2010-10-01 | \n",
       "| 2          | 2010-10-02 | \n",
       "| 3          | 2010-10-03 | \n",
       "| 4          | 2010-10-04 | \n",
       "| 5          | 2010-10-05 | \n",
       "| 6          | 2010-10-06 | \n",
       "\n",
       "\n"
      ],
      "text/plain": [
       "  index date      \n",
       "1 1     2010-10-01\n",
       "2 2     2010-10-02\n",
       "3 3     2010-10-03\n",
       "4 4     2010-10-04\n",
       "5 5     2010-10-05\n",
       "6 6     2010-10-06"
      ]
     },
     "metadata": {},
     "output_type": "display_data"
    }
   ],
   "source": [
    "head(all_dates2)"
   ]
  },
  {
   "cell_type": "code",
   "execution_count": null,
   "metadata": {},
   "outputs": [],
   "source": []
  },
  {
   "cell_type": "code",
   "execution_count": null,
   "metadata": {},
   "outputs": [],
   "source": []
  },
  {
   "cell_type": "code",
   "execution_count": 22,
   "metadata": {},
   "outputs": [],
   "source": [
    "#make each daily connectivity matrix into a df and then pull them all together into a list\n",
    "conn_mat_list <- vector(\"list\", nrow(all_dates2))\n",
    "\n",
    "cols <- c(\"source\", \"sink\", \"fraction\")\n",
    "\n",
    "for(i in nrow(all_dates2)){\n",
    "    \n",
    "    index_eval <- all_dates2$index[i]\n",
    "    \n",
    "    tmp <- as.data.frame(conn_mat_all[[i]], xy=T)   #pull out a data frame for each date\n",
    "    names(tmp) <- cols\n",
    "    \n",
    "    date <- filter(all_dates2, index==index_eval)[2] #grab the date\n",
    "    date_df <- do.call(\"rbind\", replicate(784, date, simplify = FALSE)) #make a df of the date\n",
    "    tmp2 <- bind_cols(date_df, tmp)\n",
    "\n",
    " \n",
    "    conn_mat_list[[i]] <- tmp2 \n",
    "}\n",
    "\n"
   ]
  },
  {
   "cell_type": "code",
   "execution_count": 23,
   "metadata": {},
   "outputs": [
    {
     "data": {
      "text/html": [
       "<table>\n",
       "<thead><tr><th scope=col>date</th><th scope=col>source</th><th scope=col>sink</th><th scope=col>fraction</th></tr></thead>\n",
       "<tbody>\n",
       "\t<tr><td>2014-04-18  </td><td>1           </td><td>28          </td><td>0.000000e+00</td></tr>\n",
       "\t<tr><td>2014-04-18  </td><td>2           </td><td>28          </td><td>0.000000e+00</td></tr>\n",
       "\t<tr><td>2014-04-18  </td><td>3           </td><td>28          </td><td>4.411116e-06</td></tr>\n",
       "\t<tr><td>2014-04-18  </td><td>4           </td><td>28          </td><td>2.205558e-06</td></tr>\n",
       "\t<tr><td>2014-04-18  </td><td>5           </td><td>28          </td><td>2.205558e-06</td></tr>\n",
       "\t<tr><td>2014-04-18  </td><td>6           </td><td>28          </td><td>0.000000e+00</td></tr>\n",
       "</tbody>\n",
       "</table>\n"
      ],
      "text/latex": [
       "\\begin{tabular}{r|llll}\n",
       " date & source & sink & fraction\\\\\n",
       "\\hline\n",
       "\t 2014-04-18   & 1            & 28           & 0.000000e+00\\\\\n",
       "\t 2014-04-18   & 2            & 28           & 0.000000e+00\\\\\n",
       "\t 2014-04-18   & 3            & 28           & 4.411116e-06\\\\\n",
       "\t 2014-04-18   & 4            & 28           & 2.205558e-06\\\\\n",
       "\t 2014-04-18   & 5            & 28           & 2.205558e-06\\\\\n",
       "\t 2014-04-18   & 6            & 28           & 0.000000e+00\\\\\n",
       "\\end{tabular}\n"
      ],
      "text/markdown": [
       "\n",
       "date | source | sink | fraction | \n",
       "|---|---|---|---|---|---|\n",
       "| 2014-04-18   | 1            | 28           | 0.000000e+00 | \n",
       "| 2014-04-18   | 2            | 28           | 0.000000e+00 | \n",
       "| 2014-04-18   | 3            | 28           | 4.411116e-06 | \n",
       "| 2014-04-18   | 4            | 28           | 2.205558e-06 | \n",
       "| 2014-04-18   | 5            | 28           | 2.205558e-06 | \n",
       "| 2014-04-18   | 6            | 28           | 0.000000e+00 | \n",
       "\n",
       "\n"
      ],
      "text/plain": [
       "  date       source sink fraction    \n",
       "1 2014-04-18 1      28   0.000000e+00\n",
       "2 2014-04-18 2      28   0.000000e+00\n",
       "3 2014-04-18 3      28   4.411116e-06\n",
       "4 2014-04-18 4      28   2.205558e-06\n",
       "5 2014-04-18 5      28   2.205558e-06\n",
       "6 2014-04-18 6      28   0.000000e+00"
      ]
     },
     "metadata": {},
     "output_type": "display_data"
    }
   ],
   "source": [
    "head(tmp2)"
   ]
  },
  {
   "cell_type": "code",
   "execution_count": 146,
   "metadata": {},
   "outputs": [
    {
     "data": {
      "text/html": [
       "930"
      ],
      "text/latex": [
       "930"
      ],
      "text/markdown": [
       "930"
      ],
      "text/plain": [
       "[1] 930"
      ]
     },
     "metadata": {},
     "output_type": "display_data"
    }
   ],
   "source": [
    "nrow(all_dates)\n"
   ]
  },
  {
   "cell_type": "code",
   "execution_count": 144,
   "metadata": {},
   "outputs": [
    {
     "data": {
      "text/html": [
       "<table>\n",
       "<thead><tr><th scope=col>date</th></tr></thead>\n",
       "<tbody>\n",
       "\t<tr><td>2010-10-01</td></tr>\n",
       "\t<tr><td>2011-10-01</td></tr>\n",
       "\t<tr><td>2012-10-01</td></tr>\n",
       "\t<tr><td>2013-10-01</td></tr>\n",
       "</tbody>\n",
       "</table>\n"
      ],
      "text/latex": [
       "\\begin{tabular}{r|l}\n",
       " date\\\\\n",
       "\\hline\n",
       "\t 2010-10-01\\\\\n",
       "\t 2011-10-01\\\\\n",
       "\t 2012-10-01\\\\\n",
       "\t 2013-10-01\\\\\n",
       "\\end{tabular}\n"
      ],
      "text/markdown": [
       "\n",
       "date | \n",
       "|---|---|---|---|\n",
       "| 2010-10-01 | \n",
       "| 2011-10-01 | \n",
       "| 2012-10-01 | \n",
       "| 2013-10-01 | \n",
       "\n",
       "\n"
      ],
      "text/plain": [
       "  date      \n",
       "1 2010-10-01\n",
       "2 2011-10-01\n",
       "3 2012-10-01\n",
       "4 2013-10-01"
      ]
     },
     "metadata": {},
     "output_type": "display_data"
    }
   ],
   "source": [
    "date"
   ]
  },
  {
   "cell_type": "code",
   "execution_count": 99,
   "metadata": {},
   "outputs": [
    {
     "data": {
      "text/html": [
       "<table>\n",
       "<thead><tr><th scope=col>x</th><th scope=col>y</th><th scope=col>fraction</th><th scope=col>date</th></tr></thead>\n",
       "<tbody>\n",
       "\t<tr><td> 1          </td><td>28          </td><td>0.000000e+00</td><td>16178       </td></tr>\n",
       "\t<tr><td> 2          </td><td>28          </td><td>0.000000e+00</td><td>16178       </td></tr>\n",
       "\t<tr><td> 3          </td><td>28          </td><td>2.205558e-06</td><td>16178       </td></tr>\n",
       "\t<tr><td> 4          </td><td>28          </td><td>0.000000e+00</td><td>16178       </td></tr>\n",
       "\t<tr><td> 5          </td><td>28          </td><td>8.822232e-06</td><td>16178       </td></tr>\n",
       "\t<tr><td> 6          </td><td>28          </td><td>6.616674e-06</td><td>16178       </td></tr>\n",
       "\t<tr><td> 7          </td><td>28          </td><td>1.764446e-05</td><td>16178       </td></tr>\n",
       "\t<tr><td> 8          </td><td>28          </td><td>2.205558e-05</td><td>16178       </td></tr>\n",
       "\t<tr><td> 9          </td><td>28          </td><td>1.102779e-05</td><td>16178       </td></tr>\n",
       "\t<tr><td>10          </td><td>28          </td><td>1.102779e-05</td><td>16178       </td></tr>\n",
       "\t<tr><td>11          </td><td>28          </td><td>0.000000e+00</td><td>16178       </td></tr>\n",
       "\t<tr><td>12          </td><td>28          </td><td>0.000000e+00</td><td>16178       </td></tr>\n",
       "\t<tr><td>13          </td><td>28          </td><td>0.000000e+00</td><td>16178       </td></tr>\n",
       "\t<tr><td>14          </td><td>28          </td><td>1.102779e-05</td><td>16178       </td></tr>\n",
       "\t<tr><td>15          </td><td>28          </td><td>1.543891e-05</td><td>16178       </td></tr>\n",
       "\t<tr><td>16          </td><td>28          </td><td>6.616674e-06</td><td>16178       </td></tr>\n",
       "\t<tr><td>17          </td><td>28          </td><td>0.000000e+00</td><td>16178       </td></tr>\n",
       "\t<tr><td>18          </td><td>28          </td><td>0.000000e+00</td><td>16178       </td></tr>\n",
       "\t<tr><td>19          </td><td>28          </td><td>0.000000e+00</td><td>16178       </td></tr>\n",
       "\t<tr><td>20          </td><td>28          </td><td>2.205558e-06</td><td>16178       </td></tr>\n",
       "\t<tr><td>21          </td><td>28          </td><td>9.925011e-05</td><td>16178       </td></tr>\n",
       "\t<tr><td>22          </td><td>28          </td><td>4.190560e-05</td><td>16178       </td></tr>\n",
       "\t<tr><td>23          </td><td>28          </td><td>1.985002e-05</td><td>16178       </td></tr>\n",
       "\t<tr><td>24          </td><td>28          </td><td>0.000000e+00</td><td>16178       </td></tr>\n",
       "\t<tr><td>25          </td><td>28          </td><td>0.000000e+00</td><td>16178       </td></tr>\n",
       "\t<tr><td>26          </td><td>28          </td><td>0.000000e+00</td><td>16178       </td></tr>\n",
       "\t<tr><td>27          </td><td>28          </td><td>7.031319e-03</td><td>16178       </td></tr>\n",
       "\t<tr><td>28          </td><td>28          </td><td>9.926930e-01</td><td>16178       </td></tr>\n",
       "\t<tr><td> 1          </td><td>27          </td><td>0.000000e+00</td><td>16178       </td></tr>\n",
       "\t<tr><td> 2          </td><td>27          </td><td>0.000000e+00</td><td>16178       </td></tr>\n",
       "\t<tr><td>⋮</td><td>⋮</td><td>⋮</td><td>⋮</td></tr>\n",
       "\t<tr><td>27   </td><td>2    </td><td>0.00 </td><td>16178</td></tr>\n",
       "\t<tr><td>28   </td><td>2    </td><td>1.00 </td><td>16178</td></tr>\n",
       "\t<tr><td> 1   </td><td>1    </td><td>0.00 </td><td>16178</td></tr>\n",
       "\t<tr><td> 2   </td><td>1    </td><td>0.00 </td><td>16178</td></tr>\n",
       "\t<tr><td> 3   </td><td>1    </td><td>0.00 </td><td>16178</td></tr>\n",
       "\t<tr><td> 4   </td><td>1    </td><td>0.00 </td><td>16178</td></tr>\n",
       "\t<tr><td> 5   </td><td>1    </td><td>0.00 </td><td>16178</td></tr>\n",
       "\t<tr><td> 6   </td><td>1    </td><td>0.00 </td><td>16178</td></tr>\n",
       "\t<tr><td> 7   </td><td>1    </td><td>0.00 </td><td>16178</td></tr>\n",
       "\t<tr><td> 8   </td><td>1    </td><td>0.00 </td><td>16178</td></tr>\n",
       "\t<tr><td> 9   </td><td>1    </td><td>0.00 </td><td>16178</td></tr>\n",
       "\t<tr><td>10   </td><td>1    </td><td>0.00 </td><td>16178</td></tr>\n",
       "\t<tr><td>11   </td><td>1    </td><td>0.00 </td><td>16178</td></tr>\n",
       "\t<tr><td>12   </td><td>1    </td><td>0.00 </td><td>16178</td></tr>\n",
       "\t<tr><td>13   </td><td>1    </td><td>0.00 </td><td>16178</td></tr>\n",
       "\t<tr><td>14   </td><td>1    </td><td>0.03 </td><td>16178</td></tr>\n",
       "\t<tr><td>15   </td><td>1    </td><td>0.02 </td><td>16178</td></tr>\n",
       "\t<tr><td>16   </td><td>1    </td><td>0.01 </td><td>16178</td></tr>\n",
       "\t<tr><td>17   </td><td>1    </td><td>0.00 </td><td>16178</td></tr>\n",
       "\t<tr><td>18   </td><td>1    </td><td>0.00 </td><td>16178</td></tr>\n",
       "\t<tr><td>19   </td><td>1    </td><td>0.00 </td><td>16178</td></tr>\n",
       "\t<tr><td>20   </td><td>1    </td><td>0.00 </td><td>16178</td></tr>\n",
       "\t<tr><td>21   </td><td>1    </td><td>0.00 </td><td>16178</td></tr>\n",
       "\t<tr><td>22   </td><td>1    </td><td>0.00 </td><td>16178</td></tr>\n",
       "\t<tr><td>23   </td><td>1    </td><td>0.00 </td><td>16178</td></tr>\n",
       "\t<tr><td>24   </td><td>1    </td><td>0.00 </td><td>16178</td></tr>\n",
       "\t<tr><td>25   </td><td>1    </td><td>0.00 </td><td>16178</td></tr>\n",
       "\t<tr><td>26   </td><td>1    </td><td>0.00 </td><td>16178</td></tr>\n",
       "\t<tr><td>27   </td><td>1    </td><td>0.00 </td><td>16178</td></tr>\n",
       "\t<tr><td>28   </td><td>1    </td><td>0.94 </td><td>16178</td></tr>\n",
       "</tbody>\n",
       "</table>\n"
      ],
      "text/latex": [
       "\\begin{tabular}{r|llll}\n",
       " x & y & fraction & date\\\\\n",
       "\\hline\n",
       "\t  1           & 28           & 0.000000e+00 & 16178       \\\\\n",
       "\t  2           & 28           & 0.000000e+00 & 16178       \\\\\n",
       "\t  3           & 28           & 2.205558e-06 & 16178       \\\\\n",
       "\t  4           & 28           & 0.000000e+00 & 16178       \\\\\n",
       "\t  5           & 28           & 8.822232e-06 & 16178       \\\\\n",
       "\t  6           & 28           & 6.616674e-06 & 16178       \\\\\n",
       "\t  7           & 28           & 1.764446e-05 & 16178       \\\\\n",
       "\t  8           & 28           & 2.205558e-05 & 16178       \\\\\n",
       "\t  9           & 28           & 1.102779e-05 & 16178       \\\\\n",
       "\t 10           & 28           & 1.102779e-05 & 16178       \\\\\n",
       "\t 11           & 28           & 0.000000e+00 & 16178       \\\\\n",
       "\t 12           & 28           & 0.000000e+00 & 16178       \\\\\n",
       "\t 13           & 28           & 0.000000e+00 & 16178       \\\\\n",
       "\t 14           & 28           & 1.102779e-05 & 16178       \\\\\n",
       "\t 15           & 28           & 1.543891e-05 & 16178       \\\\\n",
       "\t 16           & 28           & 6.616674e-06 & 16178       \\\\\n",
       "\t 17           & 28           & 0.000000e+00 & 16178       \\\\\n",
       "\t 18           & 28           & 0.000000e+00 & 16178       \\\\\n",
       "\t 19           & 28           & 0.000000e+00 & 16178       \\\\\n",
       "\t 20           & 28           & 2.205558e-06 & 16178       \\\\\n",
       "\t 21           & 28           & 9.925011e-05 & 16178       \\\\\n",
       "\t 22           & 28           & 4.190560e-05 & 16178       \\\\\n",
       "\t 23           & 28           & 1.985002e-05 & 16178       \\\\\n",
       "\t 24           & 28           & 0.000000e+00 & 16178       \\\\\n",
       "\t 25           & 28           & 0.000000e+00 & 16178       \\\\\n",
       "\t 26           & 28           & 0.000000e+00 & 16178       \\\\\n",
       "\t 27           & 28           & 7.031319e-03 & 16178       \\\\\n",
       "\t 28           & 28           & 9.926930e-01 & 16178       \\\\\n",
       "\t  1           & 27           & 0.000000e+00 & 16178       \\\\\n",
       "\t  2           & 27           & 0.000000e+00 & 16178       \\\\\n",
       "\t ⋮ & ⋮ & ⋮ & ⋮\\\\\n",
       "\t 27    & 2     & 0.00  & 16178\\\\\n",
       "\t 28    & 2     & 1.00  & 16178\\\\\n",
       "\t  1    & 1     & 0.00  & 16178\\\\\n",
       "\t  2    & 1     & 0.00  & 16178\\\\\n",
       "\t  3    & 1     & 0.00  & 16178\\\\\n",
       "\t  4    & 1     & 0.00  & 16178\\\\\n",
       "\t  5    & 1     & 0.00  & 16178\\\\\n",
       "\t  6    & 1     & 0.00  & 16178\\\\\n",
       "\t  7    & 1     & 0.00  & 16178\\\\\n",
       "\t  8    & 1     & 0.00  & 16178\\\\\n",
       "\t  9    & 1     & 0.00  & 16178\\\\\n",
       "\t 10    & 1     & 0.00  & 16178\\\\\n",
       "\t 11    & 1     & 0.00  & 16178\\\\\n",
       "\t 12    & 1     & 0.00  & 16178\\\\\n",
       "\t 13    & 1     & 0.00  & 16178\\\\\n",
       "\t 14    & 1     & 0.03  & 16178\\\\\n",
       "\t 15    & 1     & 0.02  & 16178\\\\\n",
       "\t 16    & 1     & 0.01  & 16178\\\\\n",
       "\t 17    & 1     & 0.00  & 16178\\\\\n",
       "\t 18    & 1     & 0.00  & 16178\\\\\n",
       "\t 19    & 1     & 0.00  & 16178\\\\\n",
       "\t 20    & 1     & 0.00  & 16178\\\\\n",
       "\t 21    & 1     & 0.00  & 16178\\\\\n",
       "\t 22    & 1     & 0.00  & 16178\\\\\n",
       "\t 23    & 1     & 0.00  & 16178\\\\\n",
       "\t 24    & 1     & 0.00  & 16178\\\\\n",
       "\t 25    & 1     & 0.00  & 16178\\\\\n",
       "\t 26    & 1     & 0.00  & 16178\\\\\n",
       "\t 27    & 1     & 0.00  & 16178\\\\\n",
       "\t 28    & 1     & 0.94  & 16178\\\\\n",
       "\\end{tabular}\n"
      ],
      "text/markdown": [
       "\n",
       "x | y | fraction | date | \n",
       "|---|---|---|---|---|---|---|---|---|---|---|---|---|---|---|---|---|---|---|---|---|---|---|---|---|---|---|---|---|---|---|---|---|---|---|---|---|---|---|---|---|---|---|---|---|---|---|---|---|---|---|---|---|---|---|---|---|---|---|---|---|\n",
       "|  1           | 28           | 0.000000e+00 | 16178        | \n",
       "|  2           | 28           | 0.000000e+00 | 16178        | \n",
       "|  3           | 28           | 2.205558e-06 | 16178        | \n",
       "|  4           | 28           | 0.000000e+00 | 16178        | \n",
       "|  5           | 28           | 8.822232e-06 | 16178        | \n",
       "|  6           | 28           | 6.616674e-06 | 16178        | \n",
       "|  7           | 28           | 1.764446e-05 | 16178        | \n",
       "|  8           | 28           | 2.205558e-05 | 16178        | \n",
       "|  9           | 28           | 1.102779e-05 | 16178        | \n",
       "| 10           | 28           | 1.102779e-05 | 16178        | \n",
       "| 11           | 28           | 0.000000e+00 | 16178        | \n",
       "| 12           | 28           | 0.000000e+00 | 16178        | \n",
       "| 13           | 28           | 0.000000e+00 | 16178        | \n",
       "| 14           | 28           | 1.102779e-05 | 16178        | \n",
       "| 15           | 28           | 1.543891e-05 | 16178        | \n",
       "| 16           | 28           | 6.616674e-06 | 16178        | \n",
       "| 17           | 28           | 0.000000e+00 | 16178        | \n",
       "| 18           | 28           | 0.000000e+00 | 16178        | \n",
       "| 19           | 28           | 0.000000e+00 | 16178        | \n",
       "| 20           | 28           | 2.205558e-06 | 16178        | \n",
       "| 21           | 28           | 9.925011e-05 | 16178        | \n",
       "| 22           | 28           | 4.190560e-05 | 16178        | \n",
       "| 23           | 28           | 1.985002e-05 | 16178        | \n",
       "| 24           | 28           | 0.000000e+00 | 16178        | \n",
       "| 25           | 28           | 0.000000e+00 | 16178        | \n",
       "| 26           | 28           | 0.000000e+00 | 16178        | \n",
       "| 27           | 28           | 7.031319e-03 | 16178        | \n",
       "| 28           | 28           | 9.926930e-01 | 16178        | \n",
       "|  1           | 27           | 0.000000e+00 | 16178        | \n",
       "|  2           | 27           | 0.000000e+00 | 16178        | \n",
       "| ⋮ | ⋮ | ⋮ | ⋮ | \n",
       "| 27    | 2     | 0.00  | 16178 | \n",
       "| 28    | 2     | 1.00  | 16178 | \n",
       "|  1    | 1     | 0.00  | 16178 | \n",
       "|  2    | 1     | 0.00  | 16178 | \n",
       "|  3    | 1     | 0.00  | 16178 | \n",
       "|  4    | 1     | 0.00  | 16178 | \n",
       "|  5    | 1     | 0.00  | 16178 | \n",
       "|  6    | 1     | 0.00  | 16178 | \n",
       "|  7    | 1     | 0.00  | 16178 | \n",
       "|  8    | 1     | 0.00  | 16178 | \n",
       "|  9    | 1     | 0.00  | 16178 | \n",
       "| 10    | 1     | 0.00  | 16178 | \n",
       "| 11    | 1     | 0.00  | 16178 | \n",
       "| 12    | 1     | 0.00  | 16178 | \n",
       "| 13    | 1     | 0.00  | 16178 | \n",
       "| 14    | 1     | 0.03  | 16178 | \n",
       "| 15    | 1     | 0.02  | 16178 | \n",
       "| 16    | 1     | 0.01  | 16178 | \n",
       "| 17    | 1     | 0.00  | 16178 | \n",
       "| 18    | 1     | 0.00  | 16178 | \n",
       "| 19    | 1     | 0.00  | 16178 | \n",
       "| 20    | 1     | 0.00  | 16178 | \n",
       "| 21    | 1     | 0.00  | 16178 | \n",
       "| 22    | 1     | 0.00  | 16178 | \n",
       "| 23    | 1     | 0.00  | 16178 | \n",
       "| 24    | 1     | 0.00  | 16178 | \n",
       "| 25    | 1     | 0.00  | 16178 | \n",
       "| 26    | 1     | 0.00  | 16178 | \n",
       "| 27    | 1     | 0.00  | 16178 | \n",
       "| 28    | 1     | 0.94  | 16178 | \n",
       "\n",
       "\n"
      ],
      "text/plain": [
       "    x  y  fraction     date \n",
       "1    1 28 0.000000e+00 16178\n",
       "2    2 28 0.000000e+00 16178\n",
       "3    3 28 2.205558e-06 16178\n",
       "4    4 28 0.000000e+00 16178\n",
       "5    5 28 8.822232e-06 16178\n",
       "6    6 28 6.616674e-06 16178\n",
       "7    7 28 1.764446e-05 16178\n",
       "8    8 28 2.205558e-05 16178\n",
       "9    9 28 1.102779e-05 16178\n",
       "10  10 28 1.102779e-05 16178\n",
       "11  11 28 0.000000e+00 16178\n",
       "12  12 28 0.000000e+00 16178\n",
       "13  13 28 0.000000e+00 16178\n",
       "14  14 28 1.102779e-05 16178\n",
       "15  15 28 1.543891e-05 16178\n",
       "16  16 28 6.616674e-06 16178\n",
       "17  17 28 0.000000e+00 16178\n",
       "18  18 28 0.000000e+00 16178\n",
       "19  19 28 0.000000e+00 16178\n",
       "20  20 28 2.205558e-06 16178\n",
       "21  21 28 9.925011e-05 16178\n",
       "22  22 28 4.190560e-05 16178\n",
       "23  23 28 1.985002e-05 16178\n",
       "24  24 28 0.000000e+00 16178\n",
       "25  25 28 0.000000e+00 16178\n",
       "26  26 28 0.000000e+00 16178\n",
       "27  27 28 7.031319e-03 16178\n",
       "28  28 28 9.926930e-01 16178\n",
       "29   1 27 0.000000e+00 16178\n",
       "30   2 27 0.000000e+00 16178\n",
       "⋮   ⋮  ⋮  ⋮            ⋮    \n",
       "755 27 2  0.00         16178\n",
       "756 28 2  1.00         16178\n",
       "757  1 1  0.00         16178\n",
       "758  2 1  0.00         16178\n",
       "759  3 1  0.00         16178\n",
       "760  4 1  0.00         16178\n",
       "761  5 1  0.00         16178\n",
       "762  6 1  0.00         16178\n",
       "763  7 1  0.00         16178\n",
       "764  8 1  0.00         16178\n",
       "765  9 1  0.00         16178\n",
       "766 10 1  0.00         16178\n",
       "767 11 1  0.00         16178\n",
       "768 12 1  0.00         16178\n",
       "769 13 1  0.00         16178\n",
       "770 14 1  0.03         16178\n",
       "771 15 1  0.02         16178\n",
       "772 16 1  0.01         16178\n",
       "773 17 1  0.00         16178\n",
       "774 18 1  0.00         16178\n",
       "775 19 1  0.00         16178\n",
       "776 20 1  0.00         16178\n",
       "777 21 1  0.00         16178\n",
       "778 22 1  0.00         16178\n",
       "779 23 1  0.00         16178\n",
       "780 24 1  0.00         16178\n",
       "781 25 1  0.00         16178\n",
       "782 26 1  0.00         16178\n",
       "783 27 1  0.00         16178\n",
       "784 28 1  0.94         16178"
      ]
     },
     "metadata": {},
     "output_type": "display_data"
    }
   ],
   "source": [
    "tmp"
   ]
  },
  {
   "cell_type": "code",
   "execution_count": null,
   "metadata": {},
   "outputs": [],
   "source": []
  }
 ],
 "metadata": {
  "kernelspec": {
   "display_name": "R",
   "language": "R",
   "name": "ir"
  },
  "language_info": {
   "codemirror_mode": "r",
   "file_extension": ".r",
   "mimetype": "text/x-r-source",
   "name": "R",
   "pygments_lexer": "r",
   "version": "3.5.1"
  }
 },
 "nbformat": 4,
 "nbformat_minor": 2
}
