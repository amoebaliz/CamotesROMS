{
 "cells": [
  {
   "cell_type": "code",
   "execution_count": 2,
   "metadata": {},
   "outputs": [],
   "source": [
    "Packages <- c(\"dplyr\",\"nleqslv\", \"broom\",\"cubature\", \"geosphere\", \"data.table\",  \"ggplot2\", \"bbmle\", \"dplyr\",\"tidyr\", \"stringr\", \"tidyverse\", \"lubridate\", \"RColorBrewer\")\n",
    "\n",
    "invisible(suppressPackageStartupMessages(lapply(Packages, library, character.only = TRUE)))\n",
    "\n",
    "setwd('/local/home/katrinac/oceanography')\n",
    "\"%!in%\" <- function(x,table) match(x,table, nomatch = 0) == 0\n",
    "source(\"~/parentage/kernel_fitting/1340_loci/functions/ll_kt_both_bbmle.R\")\n",
    "source(\"~/parentage/kernel_fitting/1340_loci/functions/GenGausKernInt_sum0.5.R\") #integrate_kernel_sum1\n",
    "source(\"~/parentage/kernel_fitting/1340_loci/functions/GenGausKernInt_sum1.R\") #integrate_kernel_sum0.5\n",
    "source(\"~/parentage/kernel_fitting/1340_loci/functions/cdf_solve.R\") #median\n",
    "source(\"~/parentage/kernel_fitting/1340_loci/functions/cdf_solve90.R\") #dist 90% retained\n",
    "\n",
    "#clownfish metadata\n",
    "load(\"~/parentage/r_data/total_sampling_across_years.RData\")\n",
    "load(\"~/parentage/r_data/sampled_area_each_year.RData\")\n",
    "#https://github.com/pinskylab/Clownfish_persistence/blob/master/Data/Script_outputs/cumulative_prop_hab_sampled_by_site.RData)\n",
    "load(\"~/parentage/r_data/cumulative_prop_hab_sampled_by_site.RData\")\n",
    "#download.file(url = \"https://github.com/pinskylab/genomics/blob/master/data/fish-obs.RData?raw=true\", destfile = \"~/parentage/r_data/fish-obs.RData\")\n",
    "fish_obs <- readRDS(\"~/parentage/r_data/fish-obs.RData\") \n",
    "load(\"~/parentage/r_data/site_dist_info.RData\")\n",
    "#download.file(url = \"https://github.com/pinskylab/Clownfish_persistence/blob/master/Data/Data_from_database/anem_db.RData?raw=true\", destfile = \"~/parentage/r_data/anem_db.RData\")\n",
    "load(\"~/parentage/r_data/anem_db.RData\")\n",
    "#download.file(url = \"https://github.com/pinskylab/Clownfish_persistence/blob/master/Data/Data_from_database/dives_db.RData?raw=true\", destfile = \"~/parentage/r_data/dives_db.RData\")\n",
    "load(\"~/parentage/r_data/dives_db.RData\")\n",
    "#download.file(url = \"https://github.com/pinskylab/Clownfish_persistence/blob/master/Data/Data_from_database/fish_db.RData?raw=true\", destfile = \"~/parentage/r_data/dives_db.RData\")\n",
    "load(\"~/parentage/r_data/fish_db.RData\")\n",
    "load(\"~/parentage/r_data/gps_db.RData\")\n",
    "\n",
    "#stop dplyr's courtesy warnings about grouping variables and summarise()\n",
    "options(dplyr.summarise.inform=F) "
   ]
  },
  {
   "cell_type": "markdown",
   "metadata": {},
   "source": [
    "__Narrow down data to the year of interests__"
   ]
  },
  {
   "cell_type": "code",
   "execution_count": 6,
   "metadata": {},
   "outputs": [
    {
     "data": {
      "text/plain": [
       "   user  system elapsed \n",
       " 19.333  18.896  20.708 "
      ]
     },
     "metadata": {},
     "output_type": "display_data"
    }
   ],
   "source": [
    "SimConn <- fread(file=\"~/oceanography/script_output/SimulationSummaryTables/SimConnectivityTable.csv\", header=T)\n",
    "UnsampledSites <- c(\"SF1\", \"SF2\", \"SF3\", \"SF4\", \"SF5\", \"SF6\", \"Pangasugan\", \"Other\", \"CAI\") \n",
    "SandFlats <- c(\"SF1\", \"SF2\", \"SF3\", \"SF4\", \"SF5\", \"SF6\") \n",
    "\n",
    "#make the data long form\n",
    "Subset <- SimConn[destination !=\"Other\" & source %!in% SandFlats] #we don't care about \"other\" as a destination, and sand flats can't be a source\n",
    "\n",
    "system.time(SimConn2 <- Subset[rep(seq_len(nrow(Subset)), Subset$DailyParticles), 1:ncol(Subset)])\n",
    "\n",
    "#the below code is subsampling particles, but we want to do that within the loop of kernel fitting\n",
    "#SimConnDTDir3 <- SimConnDTDir2[c(SimConnDTDir2[, .I[source != \"Other\"]], sample(SimConnDTDir2[, .I[source == \"Other\"]], length(SimConnDTDir2[, .I[source == \"Other\"]])*.1))]\n",
    "#SimConnDTDir3 <- SimConnDTDir2[c(SimConnDTDir3[, .I[source != \"CAI\"]], sample(SimConnDTDir3[, .I[source == \"CAI\"]], length(SimConnDTDir3[, .I[source == \"CAI\"]])*.1))]\n"
   ]
  },
  {
   "cell_type": "code",
   "execution_count": 8,
   "metadata": {},
   "outputs": [
    {
     "data": {
      "text/html": [
       "TRUE"
      ],
      "text/latex": [
       "TRUE"
      ],
      "text/markdown": [
       "TRUE"
      ],
      "text/plain": [
       "[1] TRUE"
      ]
     },
     "metadata": {},
     "output_type": "display_data"
    },
    {
     "data": {
      "text/html": [
       "<table>\n",
       "<thead><tr><th scope=col>date</th><th scope=col>source</th><th scope=col>destination</th><th scope=col>SourceSampled</th><th scope=col>DestSampled</th><th scope=col>SimMonth</th><th scope=col>SimDay</th><th scope=col>SimYear</th><th scope=col>YearSampled</th><th scope=col>SimMonsoon</th><th scope=col>DailyParticles</th></tr></thead>\n",
       "<tbody>\n",
       "\t<tr><td>2010-10-01      </td><td>Other           </td><td>Palanas         </td><td>no              </td><td>yes             </td><td>10              </td><td>10              </td><td>2010            </td><td>2011            </td><td>SWM             </td><td> 9              </td></tr>\n",
       "\t<tr><td>2010-10-01      </td><td>Other           </td><td>Wangag          </td><td>no              </td><td>yes             </td><td>10              </td><td>10              </td><td>2010            </td><td>2011            </td><td>SWM             </td><td> 4              </td></tr>\n",
       "\t<tr><td>2010-10-01      </td><td>Other           </td><td>Magbangon       </td><td>no              </td><td>yes             </td><td>10              </td><td>10              </td><td>2010            </td><td>2011            </td><td>SWM             </td><td>11              </td></tr>\n",
       "\t<tr><td>2010-10-01      </td><td>Other           </td><td>Cabatoan        </td><td>no              </td><td>yes             </td><td>10              </td><td>10              </td><td>2010            </td><td>2011            </td><td>SWM             </td><td>12              </td></tr>\n",
       "\t<tr><td>2010-10-01      </td><td>Other           </td><td>Caridad Cemetery</td><td>no              </td><td>yes             </td><td>10              </td><td>10              </td><td>2010            </td><td>2011            </td><td>SWM             </td><td> 0              </td></tr>\n",
       "\t<tr><td>2010-10-01      </td><td>Other           </td><td>Caridad Proper  </td><td>no              </td><td>yes             </td><td>10              </td><td>10              </td><td>2010            </td><td>2011            </td><td>SWM             </td><td> 1              </td></tr>\n",
       "</tbody>\n",
       "</table>\n"
      ],
      "text/latex": [
       "\\begin{tabular}{r|lllllllllll}\n",
       " date & source & destination & SourceSampled & DestSampled & SimMonth & SimDay & SimYear & YearSampled & SimMonsoon & DailyParticles\\\\\n",
       "\\hline\n",
       "\t 2010-10-01       & Other            & Palanas          & no               & yes              & 10               & 10               & 2010             & 2011             & SWM              &  9              \\\\\n",
       "\t 2010-10-01       & Other            & Wangag           & no               & yes              & 10               & 10               & 2010             & 2011             & SWM              &  4              \\\\\n",
       "\t 2010-10-01       & Other            & Magbangon        & no               & yes              & 10               & 10               & 2010             & 2011             & SWM              & 11              \\\\\n",
       "\t 2010-10-01       & Other            & Cabatoan         & no               & yes              & 10               & 10               & 2010             & 2011             & SWM              & 12              \\\\\n",
       "\t 2010-10-01       & Other            & Caridad Cemetery & no               & yes              & 10               & 10               & 2010             & 2011             & SWM              &  0              \\\\\n",
       "\t 2010-10-01       & Other            & Caridad Proper   & no               & yes              & 10               & 10               & 2010             & 2011             & SWM              &  1              \\\\\n",
       "\\end{tabular}\n"
      ],
      "text/markdown": [
       "\n",
       "| date | source | destination | SourceSampled | DestSampled | SimMonth | SimDay | SimYear | YearSampled | SimMonsoon | DailyParticles |\n",
       "|---|---|---|---|---|---|---|---|---|---|---|\n",
       "| 2010-10-01       | Other            | Palanas          | no               | yes              | 10               | 10               | 2010             | 2011             | SWM              |  9               |\n",
       "| 2010-10-01       | Other            | Wangag           | no               | yes              | 10               | 10               | 2010             | 2011             | SWM              |  4               |\n",
       "| 2010-10-01       | Other            | Magbangon        | no               | yes              | 10               | 10               | 2010             | 2011             | SWM              | 11               |\n",
       "| 2010-10-01       | Other            | Cabatoan         | no               | yes              | 10               | 10               | 2010             | 2011             | SWM              | 12               |\n",
       "| 2010-10-01       | Other            | Caridad Cemetery | no               | yes              | 10               | 10               | 2010             | 2011             | SWM              |  0               |\n",
       "| 2010-10-01       | Other            | Caridad Proper   | no               | yes              | 10               | 10               | 2010             | 2011             | SWM              |  1               |\n",
       "\n"
      ],
      "text/plain": [
       "  date       source destination      SourceSampled DestSampled SimMonth SimDay\n",
       "1 2010-10-01 Other  Palanas          no            yes         10       10    \n",
       "2 2010-10-01 Other  Wangag           no            yes         10       10    \n",
       "3 2010-10-01 Other  Magbangon        no            yes         10       10    \n",
       "4 2010-10-01 Other  Cabatoan         no            yes         10       10    \n",
       "5 2010-10-01 Other  Caridad Cemetery no            yes         10       10    \n",
       "6 2010-10-01 Other  Caridad Proper   no            yes         10       10    \n",
       "  SimYear YearSampled SimMonsoon DailyParticles\n",
       "1 2010    2011        SWM         9            \n",
       "2 2010    2011        SWM         4            \n",
       "3 2010    2011        SWM        11            \n",
       "4 2010    2011        SWM        12            \n",
       "5 2010    2011        SWM         0            \n",
       "6 2010    2011        SWM         1            "
      ]
     },
     "metadata": {},
     "output_type": "display_data"
    },
    {
     "data": {
      "text/html": [
       "<table>\n",
       "<thead><tr><th scope=col>date</th><th scope=col>source</th><th scope=col>destination</th><th scope=col>SourceSampled</th><th scope=col>DestSampled</th><th scope=col>SimMonth</th><th scope=col>SimDay</th><th scope=col>SimYear</th><th scope=col>YearSampled</th><th scope=col>SimMonsoon</th><th scope=col>DailyParticles</th></tr></thead>\n",
       "<tbody>\n",
       "\t<tr><td>2010-10-01</td><td>Other     </td><td>Palanas   </td><td>no        </td><td>yes       </td><td>10        </td><td>10        </td><td>2010      </td><td>2011      </td><td>SWM       </td><td>9         </td></tr>\n",
       "\t<tr><td>2010-10-01</td><td>Other     </td><td>Palanas   </td><td>no        </td><td>yes       </td><td>10        </td><td>10        </td><td>2010      </td><td>2011      </td><td>SWM       </td><td>9         </td></tr>\n",
       "\t<tr><td>2010-10-01</td><td>Other     </td><td>Palanas   </td><td>no        </td><td>yes       </td><td>10        </td><td>10        </td><td>2010      </td><td>2011      </td><td>SWM       </td><td>9         </td></tr>\n",
       "\t<tr><td>2010-10-01</td><td>Other     </td><td>Palanas   </td><td>no        </td><td>yes       </td><td>10        </td><td>10        </td><td>2010      </td><td>2011      </td><td>SWM       </td><td>9         </td></tr>\n",
       "\t<tr><td>2010-10-01</td><td>Other     </td><td>Palanas   </td><td>no        </td><td>yes       </td><td>10        </td><td>10        </td><td>2010      </td><td>2011      </td><td>SWM       </td><td>9         </td></tr>\n",
       "\t<tr><td>2010-10-01</td><td>Other     </td><td>Palanas   </td><td>no        </td><td>yes       </td><td>10        </td><td>10        </td><td>2010      </td><td>2011      </td><td>SWM       </td><td>9         </td></tr>\n",
       "</tbody>\n",
       "</table>\n"
      ],
      "text/latex": [
       "\\begin{tabular}{r|lllllllllll}\n",
       " date & source & destination & SourceSampled & DestSampled & SimMonth & SimDay & SimYear & YearSampled & SimMonsoon & DailyParticles\\\\\n",
       "\\hline\n",
       "\t 2010-10-01 & Other      & Palanas    & no         & yes        & 10         & 10         & 2010       & 2011       & SWM        & 9         \\\\\n",
       "\t 2010-10-01 & Other      & Palanas    & no         & yes        & 10         & 10         & 2010       & 2011       & SWM        & 9         \\\\\n",
       "\t 2010-10-01 & Other      & Palanas    & no         & yes        & 10         & 10         & 2010       & 2011       & SWM        & 9         \\\\\n",
       "\t 2010-10-01 & Other      & Palanas    & no         & yes        & 10         & 10         & 2010       & 2011       & SWM        & 9         \\\\\n",
       "\t 2010-10-01 & Other      & Palanas    & no         & yes        & 10         & 10         & 2010       & 2011       & SWM        & 9         \\\\\n",
       "\t 2010-10-01 & Other      & Palanas    & no         & yes        & 10         & 10         & 2010       & 2011       & SWM        & 9         \\\\\n",
       "\\end{tabular}\n"
      ],
      "text/markdown": [
       "\n",
       "| date | source | destination | SourceSampled | DestSampled | SimMonth | SimDay | SimYear | YearSampled | SimMonsoon | DailyParticles |\n",
       "|---|---|---|---|---|---|---|---|---|---|---|\n",
       "| 2010-10-01 | Other      | Palanas    | no         | yes        | 10         | 10         | 2010       | 2011       | SWM        | 9          |\n",
       "| 2010-10-01 | Other      | Palanas    | no         | yes        | 10         | 10         | 2010       | 2011       | SWM        | 9          |\n",
       "| 2010-10-01 | Other      | Palanas    | no         | yes        | 10         | 10         | 2010       | 2011       | SWM        | 9          |\n",
       "| 2010-10-01 | Other      | Palanas    | no         | yes        | 10         | 10         | 2010       | 2011       | SWM        | 9          |\n",
       "| 2010-10-01 | Other      | Palanas    | no         | yes        | 10         | 10         | 2010       | 2011       | SWM        | 9          |\n",
       "| 2010-10-01 | Other      | Palanas    | no         | yes        | 10         | 10         | 2010       | 2011       | SWM        | 9          |\n",
       "\n"
      ],
      "text/plain": [
       "  date       source destination SourceSampled DestSampled SimMonth SimDay\n",
       "1 2010-10-01 Other  Palanas     no            yes         10       10    \n",
       "2 2010-10-01 Other  Palanas     no            yes         10       10    \n",
       "3 2010-10-01 Other  Palanas     no            yes         10       10    \n",
       "4 2010-10-01 Other  Palanas     no            yes         10       10    \n",
       "5 2010-10-01 Other  Palanas     no            yes         10       10    \n",
       "6 2010-10-01 Other  Palanas     no            yes         10       10    \n",
       "  SimYear YearSampled SimMonsoon DailyParticles\n",
       "1 2010    2011        SWM        9             \n",
       "2 2010    2011        SWM        9             \n",
       "3 2010    2011        SWM        9             \n",
       "4 2010    2011        SWM        9             \n",
       "5 2010    2011        SWM        9             \n",
       "6 2010    2011        SWM        9             "
      ]
     },
     "metadata": {},
     "output_type": "display_data"
    }
   ],
   "source": [
    "#are the correct number of particles retained?\n",
    "sum(Subset$DailyParticles)==nrow(SimConn2) #should be TRUE\n",
    "head(SimConn)\n",
    "head(SimConn2)"
   ]
  },
  {
   "cell_type": "code",
   "execution_count": 9,
   "metadata": {},
   "outputs": [
    {
     "data": {
      "text/html": [
       "<table>\n",
       "<thead><tr><th scope=col>source</th><th scope=col>N</th></tr></thead>\n",
       "<tbody>\n",
       "\t<tr><td>Other            </td><td> 51656092        </td></tr>\n",
       "\t<tr><td>CAI              </td><td>159712708        </td></tr>\n",
       "\t<tr><td>Haina            </td><td>    25118        </td></tr>\n",
       "\t<tr><td>Tamakin Dacot    </td><td>   226012        </td></tr>\n",
       "\t<tr><td>Gabas            </td><td>   171252        </td></tr>\n",
       "\t<tr><td>Visca            </td><td>    81160        </td></tr>\n",
       "\t<tr><td>Pangasugan       </td><td>    70481        </td></tr>\n",
       "\t<tr><td>Poroc Rose       </td><td>    84056        </td></tr>\n",
       "\t<tr><td>Poroc San Flower </td><td>    94236        </td></tr>\n",
       "\t<tr><td>San Agustin      </td><td>    82882        </td></tr>\n",
       "\t<tr><td>Sitio Lonas      </td><td>   114158        </td></tr>\n",
       "\t<tr><td>Caridad Proper   </td><td>    41151        </td></tr>\n",
       "\t<tr><td>Caridad Cemetery </td><td>    53395        </td></tr>\n",
       "\t<tr><td>Cabatoan         </td><td>    34587        </td></tr>\n",
       "\t<tr><td>Elementary School</td><td>    59973        </td></tr>\n",
       "\t<tr><td>Sitio Tugas      </td><td>    30366        </td></tr>\n",
       "\t<tr><td>Hicgop South     </td><td>   118287        </td></tr>\n",
       "\t<tr><td>Sitio Baybayon   </td><td>   112635        </td></tr>\n",
       "\t<tr><td>Wangag           </td><td>    35567        </td></tr>\n",
       "\t<tr><td>Palanas          </td><td>    16719        </td></tr>\n",
       "\t<tr><td>Magbangon        </td><td>    41017        </td></tr>\n",
       "</tbody>\n",
       "</table>\n"
      ],
      "text/latex": [
       "\\begin{tabular}{r|ll}\n",
       " source & N\\\\\n",
       "\\hline\n",
       "\t Other             &  51656092        \\\\\n",
       "\t CAI               & 159712708        \\\\\n",
       "\t Haina             &     25118        \\\\\n",
       "\t Tamakin Dacot     &    226012        \\\\\n",
       "\t Gabas             &    171252        \\\\\n",
       "\t Visca             &     81160        \\\\\n",
       "\t Pangasugan        &     70481        \\\\\n",
       "\t Poroc Rose        &     84056        \\\\\n",
       "\t Poroc San Flower  &     94236        \\\\\n",
       "\t San Agustin       &     82882        \\\\\n",
       "\t Sitio Lonas       &    114158        \\\\\n",
       "\t Caridad Proper    &     41151        \\\\\n",
       "\t Caridad Cemetery  &     53395        \\\\\n",
       "\t Cabatoan          &     34587        \\\\\n",
       "\t Elementary School &     59973        \\\\\n",
       "\t Sitio Tugas       &     30366        \\\\\n",
       "\t Hicgop South      &    118287        \\\\\n",
       "\t Sitio Baybayon    &    112635        \\\\\n",
       "\t Wangag            &     35567        \\\\\n",
       "\t Palanas           &     16719        \\\\\n",
       "\t Magbangon         &     41017        \\\\\n",
       "\\end{tabular}\n"
      ],
      "text/markdown": [
       "\n",
       "| source | N |\n",
       "|---|---|\n",
       "| Other             |  51656092         |\n",
       "| CAI               | 159712708         |\n",
       "| Haina             |     25118         |\n",
       "| Tamakin Dacot     |    226012         |\n",
       "| Gabas             |    171252         |\n",
       "| Visca             |     81160         |\n",
       "| Pangasugan        |     70481         |\n",
       "| Poroc Rose        |     84056         |\n",
       "| Poroc San Flower  |     94236         |\n",
       "| San Agustin       |     82882         |\n",
       "| Sitio Lonas       |    114158         |\n",
       "| Caridad Proper    |     41151         |\n",
       "| Caridad Cemetery  |     53395         |\n",
       "| Cabatoan          |     34587         |\n",
       "| Elementary School |     59973         |\n",
       "| Sitio Tugas       |     30366         |\n",
       "| Hicgop South      |    118287         |\n",
       "| Sitio Baybayon    |    112635         |\n",
       "| Wangag            |     35567         |\n",
       "| Palanas           |     16719         |\n",
       "| Magbangon         |     41017         |\n",
       "\n"
      ],
      "text/plain": [
       "   source            N        \n",
       "1  Other              51656092\n",
       "2  CAI               159712708\n",
       "3  Haina                 25118\n",
       "4  Tamakin Dacot        226012\n",
       "5  Gabas                171252\n",
       "6  Visca                 81160\n",
       "7  Pangasugan            70481\n",
       "8  Poroc Rose            84056\n",
       "9  Poroc San Flower      94236\n",
       "10 San Agustin           82882\n",
       "11 Sitio Lonas          114158\n",
       "12 Caridad Proper        41151\n",
       "13 Caridad Cemetery      53395\n",
       "14 Cabatoan              34587\n",
       "15 Elementary School     59973\n",
       "16 Sitio Tugas           30366\n",
       "17 Hicgop South         118287\n",
       "18 Sitio Baybayon       112635\n",
       "19 Wangag                35567\n",
       "20 Palanas               16719\n",
       "21 Magbangon             41017"
      ]
     },
     "metadata": {},
     "output_type": "display_data"
    }
   ],
   "source": [
    "SimConn2[, .(.N), by = .(source)]"
   ]
  },
  {
   "cell_type": "code",
   "execution_count": 10,
   "metadata": {
    "scrolled": true
   },
   "outputs": [],
   "source": []
  },
  {
   "cell_type": "code",
   "execution_count": 17,
   "metadata": {},
   "outputs": [
    {
     "data": {
      "text/html": [
       "0"
      ],
      "text/latex": [
       "0"
      ],
      "text/markdown": [
       "0"
      ],
      "text/plain": [
       "[1] 0"
      ]
     },
     "metadata": {},
     "output_type": "display_data"
    }
   ],
   "source": [
    "#read in the centroids adjusted for the simulation, so the Magbangons combined \n",
    "#centroids <- read.csv(file=\"~/oceanography/script_output/SurveyData/SimulationCentroids.csv\", header=T, stringsAsFactors = F)\n",
    "#read in the distance matrix adjusted for the simulation\n",
    "#distances <- read.csv(file=\"~/oceanography/script_output/SurveyData/SimulationAllDistances.csv\", header=T, stringsAsFactors = F)\n",
    "\n",
    "\n",
    "#proportion sampled\n",
    "\n",
    "PropSamp <- cumulative_prop_hab_sampled_by_site %>%\n",
    "    mutate(total_possible_sample_anems = ifelse(site==\"Caridad Proper\", 4, total_possible_sample_anems) ) %>%\n",
    "    mutate(total_prop_hab_sampled_anems_tidied= ifelse(site==\"Caridad Proper\" & total_anems_sampled==4, 1, total_prop_hab_sampled_anems_tidied) ) %>%\n",
    "    mutate(total_possible_sample_anems = ifelse(site==\"Sitio Lonas\", total_anems_sampled, total_possible_sample_anems) ) %>%\n",
    "    mutate(total_prop_hab_sampled_anems_tidied= ifelse(site==\"Sitio Lonas\", 1, total_prop_hab_sampled_anems_tidied) )%>%\n",
    "    mutate(total_prop_hab_sampled_anems_tidied= ifelse(is.nan(total_prop_hab_sampled_anems_tidied), 0, total_prop_hab_sampled_anems_tidied) ) %>%\n",
    "    dplyr::select(site, time_frame, end_year, total_prop_hab_sampled_anems_tidied) \n",
    "\n",
    "PropSamp$site <- gsub(\". \", \".\", PropSamp$site, fixed=TRUE) #fix spaces in Magbangon names\n",
    "\n",
    "S.Mag <- PropSamp %>%#make a table for all of the S. Mabangon years/prop sampled. Then join to the DF, make a column adding S.Magbangon values to all rows of prop sampled, but only sub that value in for PropSamp in N.Magbangon rows, then rename N.Magbangon as Magbangon\n",
    "    filter(site==\"S.Magbangon\") %>%\n",
    "    dplyr::select(site, end_year, total_prop_hab_sampled_anems_tidied) %>%\n",
    "    rename(S.MagVal=\"total_prop_hab_sampled_anems_tidied\", extra=\"site\")\n",
    "\n",
    "PropSamp <- left_join(PropSamp, S.Mag, by=c(\"end_year\")) %>%\n",
    "    mutate(S.MagSum=total_prop_hab_sampled_anems_tidied+S.MagVal) %>% #create col adding the S.Mag values to prop hab - keep in mind values could be greater than 1- if so change them to 1\n",
    "    mutate(total_prop_hab_sampled_anems_tidied= ifelse(site==\"N.Magbangon\", S.MagSum, total_prop_hab_sampled_anems_tidied)) %>%#sub this value in for only N.Mag\n",
    "    mutate(site=ifelse(site==\"N.Magbangon\", \"Magbangon\", site)) %>%#change N.Mag name to generic Mag\n",
    "    filter(site !=\"S.Magbangon\") %>%#eliminate the S.Mag rows, they are now repeats\n",
    "    dplyr::select(-S.MagVal,-extra, -S.MagSum, -time_frame) %>%\n",
    "    rename(PropSamp=\"total_prop_hab_sampled_anems_tidied\")\n",
    "\n",
    "\n",
    "#check if there are values>1, should be none\n",
    "sum(which(PropSamp$total_prop_hab_sampled_anems_tidied >1)) #zero, that's good"
   ]
  },
  {
   "cell_type": "code",
   "execution_count": 44,
   "metadata": {},
   "outputs": [
    {
     "data": {
      "text/html": [
       "791"
      ],
      "text/latex": [
       "791"
      ],
      "text/markdown": [
       "791"
      ],
      "text/plain": [
       "[1] 791"
      ]
     },
     "metadata": {},
     "output_type": "display_data"
    }
   ],
   "source": [
    "#load data from the genetic sampling in each year\n",
    "#read in the kernel fitting summary\n",
    "kernels <- fread(file=\"~/parentage/kernel_fitting/1340_loci/final_results/tables/kernel_fitting_summary.csv\")\n",
    "\n",
    "##read in the sites that we sampled each year\n",
    "N_gen_par <- read.table(file=\"~/parentage/colony2/20190523_1340loci/input/all_parents_corrected.txt\", header = TRUE, stringsAsFactors = F) %>%#not sure that I need the parents here\n",
    "    mutate(fish_indiv=as.character(fish_indiv))\n",
    "N_gen_offs <- read.table(file=\"~/parentage/colony2/20190523_1340loci/input/all_offspring_corrected.txt\", header=T, stringsAsFactors = F) %>%\n",
    "    mutate(fish_indiv=as.character(fish_indiv))\n",
    "\n",
    "\n",
    "\n",
    "#gather the summary of total offspring sampled\n",
    "#from Allison, putting all the meta data together (Constants_database_common_functions.R)\n",
    "##### Match up other relevant info (site, date, fish_indiv, etc.) to fish in the clownfish table\n",
    "# Pull out year and month into a separate column in dives_db\n",
    "dives_db_processed <- dives_db %>%\n",
    "  mutate(year = as.integer(substring(date,1,4))) %>%\n",
    "  mutate(month = as.integer(substring(date,6,7))) %>%\n",
    "  mutate(dive_date = date(date))\n",
    "\n",
    "# Pull all APCL caught or otherwise in the clownfish table\n",
    "allfish_fish <- fish_db %>%\n",
    "  select(fish_table_id, anem_table_id, fish_spp, sample_id, anem_table_id, recap, tag_id, color, sex, size, fish_obs_time, fish_notes) %>%\n",
    "  filter(fish_spp == 'APCL') %>%\n",
    "  mutate(size = as.numeric(size))  # make the size numeric (rather than chr) so can do means and such\n",
    "\n",
    "# and their corresponding anemones\n",
    "allfish_anems <- anem_db %>%\n",
    "  select(anem_table_id, dive_table_id, anem_obs, anem_id, old_anem_id, anem_notes) %>%\n",
    "  filter(anem_table_id %in% allfish_fish$anem_table_id)\n",
    "\n",
    "# and the corresponding dive info\n",
    "allfish_dives <- dives_db_processed %>%\n",
    "  select(dive_table_id, dive_type, date, year, month, site, gps, dive_notes) %>%\n",
    "  filter(dive_table_id %in% allfish_anems$dive_table_id) \n",
    "\n",
    "# join together\n",
    "allfish_caught <- left_join(allfish_fish, allfish_anems, by=\"anem_table_id\")\n",
    "allfish_caught <- left_join(allfish_caught, allfish_dives, by=\"dive_table_id\")\n",
    "\n",
    "# add in the gen_ids and fish_indiv (now in a separate gen_id table) - gen_id only comes in the time the fish was sequenced, not at all captures\n",
    "allfish_caught <- left_join(allfish_caught, (fish_obs %>% select(fish_table_id, gen_id, fish_indiv)), by = \"fish_table_id\") %>%\n",
    "    select(fish_indiv, sample_id, site) %>%\n",
    "    mutate()\n",
    "\n",
    "N_gen_offs_annual  <- left_join(N_gen_offs, allfish_caught, by=c(\"fish_indiv\", \"sample_id\")) %>% \n",
    "    group_by(year, site) %>%\n",
    "    summarise(n_offs_gen=n()) %>%\n",
    "    ungroup()\n",
    "\n",
    "N_gen_offs_annual$site <- gsub(\". \", \".\", N_gen_offs_annual$site, fixed=TRUE)\n",
    "\n",
    "\n",
    "#combine N/S Magbangon in the genetic sampling data\n",
    "\n",
    "AnnualRecsSamp <- bind_rows(N_gen_offs_annual %>%\n",
    "                        filter(site !=\"N.Magbangon\" & site!=\"S.Magbangon\"),\n",
    "                    N_gen_offs_annual %>%\n",
    "                        mutate(Magbangon=ifelse(site==\"N.Magbangon\" | site==\"S.Magbangon\", \"Magbangon\", \"no\")) %>%\n",
    "                        filter(Magbangon==\"Magbangon\") %>%\n",
    "                        group_by(year, Magbangon) %>%\n",
    "                        summarise(sum_offs=sum(n_offs_gen)) %>%\n",
    "                        rename(site=\"Magbangon\", n_offs_gen=\"sum_offs\")) %>%\n",
    "                        mutate(year=as.character(year)) %>%\n",
    "                        ungroup()\n",
    "sum(AnnualRecsSamp$n_offs_gen) #should be 791\n",
    "\n",
    "#add in ALL sites that we sampled, even though we didn't find recruits there\n",
    "AnnualRecsSamp <- left_join(PropSamp %>%  #add in all sampled sites as possible offs sites\n",
    "                            filter(PropSamp > 0),\n",
    "                          AnnualRecsSamp, \n",
    "                              by=c(\"site\", end_year=\"year\")) %>%\n",
    "                        rename(year=\"end_year\")  %>%\n",
    "                        mutate(n_offs_gen=ifelse(is.na(n_offs_gen), 0, n_offs_gen)) %>%#if we didn't sample a recruit at a site that we still visited, put a 0 in place of the NA\n",
    "                        filter(year %in% c(\"2012\", \"2013\", \"2014\")) %>%  #* restrict to what we can pick up combining all years of simulation data\n",
    "                        group_by(site) %>% #*\n",
    "                        mutate(n_offs_gen_all_years=sum(n_offs_gen)) #*\n",
    "#remove the intermeadiate files, not corrected for the Magbangons\n",
    "rm(N_gen_offs_annual)\n",
    "#AnnualRecsSamp is the df with the corrected values to be used in all the ROMS kernel fitting\n",
    "setDT(AnnualRecsSamp)[, year:=as.integer(year)]"
   ]
  },
  {
   "cell_type": "code",
   "execution_count": 45,
   "metadata": {},
   "outputs": [
    {
     "data": {
      "text/html": [
       "<table>\n",
       "<thead><tr><th scope=col>site</th><th scope=col>year</th><th scope=col>PropSamp</th><th scope=col>n_offs_gen</th><th scope=col>n_offs_gen_all_years</th></tr></thead>\n",
       "<tbody>\n",
       "\t<tr><td>Cabatoan        </td><td>2012            </td><td>0.4230769       </td><td> 4              </td><td>13              </td></tr>\n",
       "\t<tr><td>Magbangon       </td><td>2012            </td><td>0.4593838       </td><td>10              </td><td>63              </td></tr>\n",
       "\t<tr><td>Palanas         </td><td>2012            </td><td>0.2898551       </td><td>13              </td><td>94              </td></tr>\n",
       "\t<tr><td>Poroc Rose      </td><td>2012            </td><td>1.0000000       </td><td> 9              </td><td>11              </td></tr>\n",
       "\t<tr><td>Poroc San Flower</td><td>2012            </td><td>1.0000000       </td><td> 9              </td><td>11              </td></tr>\n",
       "\t<tr><td>San Agustin     </td><td>2012            </td><td>0.8888889       </td><td> 0              </td><td> 0              </td></tr>\n",
       "</tbody>\n",
       "</table>\n"
      ],
      "text/latex": [
       "\\begin{tabular}{r|lllll}\n",
       " site & year & PropSamp & n\\_offs\\_gen & n\\_offs\\_gen\\_all\\_years\\\\\n",
       "\\hline\n",
       "\t Cabatoan         & 2012             & 0.4230769        &  4               & 13              \\\\\n",
       "\t Magbangon        & 2012             & 0.4593838        & 10               & 63              \\\\\n",
       "\t Palanas          & 2012             & 0.2898551        & 13               & 94              \\\\\n",
       "\t Poroc Rose       & 2012             & 1.0000000        &  9               & 11              \\\\\n",
       "\t Poroc San Flower & 2012             & 1.0000000        &  9               & 11              \\\\\n",
       "\t San Agustin      & 2012             & 0.8888889        &  0               &  0              \\\\\n",
       "\\end{tabular}\n"
      ],
      "text/markdown": [
       "\n",
       "| site | year | PropSamp | n_offs_gen | n_offs_gen_all_years |\n",
       "|---|---|---|---|---|\n",
       "| Cabatoan         | 2012             | 0.4230769        |  4               | 13               |\n",
       "| Magbangon        | 2012             | 0.4593838        | 10               | 63               |\n",
       "| Palanas          | 2012             | 0.2898551        | 13               | 94               |\n",
       "| Poroc Rose       | 2012             | 1.0000000        |  9               | 11               |\n",
       "| Poroc San Flower | 2012             | 1.0000000        |  9               | 11               |\n",
       "| San Agustin      | 2012             | 0.8888889        |  0               |  0               |\n",
       "\n"
      ],
      "text/plain": [
       "  site             year PropSamp  n_offs_gen n_offs_gen_all_years\n",
       "1 Cabatoan         2012 0.4230769  4         13                  \n",
       "2 Magbangon        2012 0.4593838 10         63                  \n",
       "3 Palanas          2012 0.2898551 13         94                  \n",
       "4 Poroc Rose       2012 1.0000000  9         11                  \n",
       "5 Poroc San Flower 2012 1.0000000  9         11                  \n",
       "6 San Agustin      2012 0.8888889  0          0                  "
      ]
     },
     "metadata": {},
     "output_type": "display_data"
    }
   ],
   "source": [
    "head(AnnualRecsSamp)"
   ]
  },
  {
   "cell_type": "code",
   "execution_count": 42,
   "metadata": {},
   "outputs": [
    {
     "name": "stdout",
     "output_type": "stream",
     "text": [
      "Classes ‘data.table’ and 'data.frame':\t729120 obs. of  11 variables:\n",
      " $ date          : chr  \"2010-10-01\" \"2010-10-01\" \"2010-10-01\" \"2010-10-01\" ...\n",
      " $ source        : chr  \"Other\" \"Other\" \"Other\" \"Other\" ...\n",
      " $ destination   : chr  \"Palanas\" \"Wangag\" \"Magbangon\" \"Cabatoan\" ...\n",
      " $ SourceSampled : chr  \"no\" \"no\" \"no\" \"no\" ...\n",
      " $ DestSampled   : chr  \"yes\" \"yes\" \"yes\" \"yes\" ...\n",
      " $ SimMonth      : int  10 10 10 10 10 10 10 10 10 10 ...\n",
      " $ SimDay        : int  10 10 10 10 10 10 10 10 10 10 ...\n",
      " $ SimYear       : int  2010 2010 2010 2010 2010 2010 2010 2010 2010 2010 ...\n",
      " $ YearSampled   : int  2011 2011 2011 2011 2011 2011 2011 2011 2011 2011 ...\n",
      " $ SimMonsoon    : chr  \"SWM\" \"SWM\" \"SWM\" \"SWM\" ...\n",
      " $ DailyParticles: int  9 4 11 12 0 1 0 0 22 11 ...\n",
      " - attr(*, \".internal.selfref\")=<externalptr> \n"
     ]
    }
   ],
   "source": [
    "str(SimConn)"
   ]
  },
  {
   "cell_type": "markdown",
   "metadata": {},
   "source": [
    "__Narrow down data to the adjustments and year of interests__"
   ]
  },
  {
   "cell_type": "code",
   "execution_count": 74,
   "metadata": {},
   "outputs": [
    {
     "data": {
      "text/html": [
       "<table>\n",
       "<thead><tr><th scope=col>date</th><th scope=col>source</th><th scope=col>destination</th><th scope=col>SourceSampled</th><th scope=col>DestSampled</th><th scope=col>SimMonth</th><th scope=col>SimDay</th><th scope=col>SimYear</th><th scope=col>YearSampled</th><th scope=col>SimMonsoon</th><th scope=col>DailyParticles</th><th scope=col>SourcePropSamp</th><th scope=col>SourceNOffsAnnual</th><th scope=col>SourceNOffsTotal</th></tr></thead>\n",
       "<tbody>\n",
       "\t<tr><td>2011-10-06    </td><td>Cabatoan      </td><td>Cabatoan      </td><td>yes           </td><td>yes           </td><td>10            </td><td>10            </td><td>2011          </td><td>2012          </td><td>SWM           </td><td> 1            </td><td>0.4230769     </td><td>4             </td><td>13            </td></tr>\n",
       "\t<tr><td>2011-10-08    </td><td>Cabatoan      </td><td>Magbangon     </td><td>yes           </td><td>yes           </td><td>10            </td><td>10            </td><td>2011          </td><td>2012          </td><td>SWM           </td><td> 2            </td><td>0.4230769     </td><td>4             </td><td>13            </td></tr>\n",
       "\t<tr><td>2011-10-08    </td><td>Cabatoan      </td><td>Magbangon     </td><td>yes           </td><td>yes           </td><td>10            </td><td>10            </td><td>2011          </td><td>2012          </td><td>SWM           </td><td> 2            </td><td>0.4230769     </td><td>4             </td><td>13            </td></tr>\n",
       "\t<tr><td>2011-10-08    </td><td>Cabatoan      </td><td>Sitio Baybayon</td><td>yes           </td><td>yes           </td><td>10            </td><td>10            </td><td>2011          </td><td>2012          </td><td>SWM           </td><td>27            </td><td>0.4230769     </td><td>4             </td><td>13            </td></tr>\n",
       "\t<tr><td>2011-10-08    </td><td>Cabatoan      </td><td>Sitio Baybayon</td><td>yes           </td><td>yes           </td><td>10            </td><td>10            </td><td>2011          </td><td>2012          </td><td>SWM           </td><td>27            </td><td>0.4230769     </td><td>4             </td><td>13            </td></tr>\n",
       "\t<tr><td>2011-10-08    </td><td>Cabatoan      </td><td>Sitio Baybayon</td><td>yes           </td><td>yes           </td><td>10            </td><td>10            </td><td>2011          </td><td>2012          </td><td>SWM           </td><td>27            </td><td>0.4230769     </td><td>4             </td><td>13            </td></tr>\n",
       "</tbody>\n",
       "</table>\n"
      ],
      "text/latex": [
       "\\begin{tabular}{r|llllllllllllll}\n",
       " date & source & destination & SourceSampled & DestSampled & SimMonth & SimDay & SimYear & YearSampled & SimMonsoon & DailyParticles & SourcePropSamp & SourceNOffsAnnual & SourceNOffsTotal\\\\\n",
       "\\hline\n",
       "\t 2011-10-06     & Cabatoan       & Cabatoan       & yes            & yes            & 10             & 10             & 2011           & 2012           & SWM            &  1             & 0.4230769      & 4              & 13            \\\\\n",
       "\t 2011-10-08     & Cabatoan       & Magbangon      & yes            & yes            & 10             & 10             & 2011           & 2012           & SWM            &  2             & 0.4230769      & 4              & 13            \\\\\n",
       "\t 2011-10-08     & Cabatoan       & Magbangon      & yes            & yes            & 10             & 10             & 2011           & 2012           & SWM            &  2             & 0.4230769      & 4              & 13            \\\\\n",
       "\t 2011-10-08     & Cabatoan       & Sitio Baybayon & yes            & yes            & 10             & 10             & 2011           & 2012           & SWM            & 27             & 0.4230769      & 4              & 13            \\\\\n",
       "\t 2011-10-08     & Cabatoan       & Sitio Baybayon & yes            & yes            & 10             & 10             & 2011           & 2012           & SWM            & 27             & 0.4230769      & 4              & 13            \\\\\n",
       "\t 2011-10-08     & Cabatoan       & Sitio Baybayon & yes            & yes            & 10             & 10             & 2011           & 2012           & SWM            & 27             & 0.4230769      & 4              & 13            \\\\\n",
       "\\end{tabular}\n"
      ],
      "text/markdown": [
       "\n",
       "| date | source | destination | SourceSampled | DestSampled | SimMonth | SimDay | SimYear | YearSampled | SimMonsoon | DailyParticles | SourcePropSamp | SourceNOffsAnnual | SourceNOffsTotal |\n",
       "|---|---|---|---|---|---|---|---|---|---|---|---|---|---|\n",
       "| 2011-10-06     | Cabatoan       | Cabatoan       | yes            | yes            | 10             | 10             | 2011           | 2012           | SWM            |  1             | 0.4230769      | 4              | 13             |\n",
       "| 2011-10-08     | Cabatoan       | Magbangon      | yes            | yes            | 10             | 10             | 2011           | 2012           | SWM            |  2             | 0.4230769      | 4              | 13             |\n",
       "| 2011-10-08     | Cabatoan       | Magbangon      | yes            | yes            | 10             | 10             | 2011           | 2012           | SWM            |  2             | 0.4230769      | 4              | 13             |\n",
       "| 2011-10-08     | Cabatoan       | Sitio Baybayon | yes            | yes            | 10             | 10             | 2011           | 2012           | SWM            | 27             | 0.4230769      | 4              | 13             |\n",
       "| 2011-10-08     | Cabatoan       | Sitio Baybayon | yes            | yes            | 10             | 10             | 2011           | 2012           | SWM            | 27             | 0.4230769      | 4              | 13             |\n",
       "| 2011-10-08     | Cabatoan       | Sitio Baybayon | yes            | yes            | 10             | 10             | 2011           | 2012           | SWM            | 27             | 0.4230769      | 4              | 13             |\n",
       "\n"
      ],
      "text/plain": [
       "  date       source   destination    SourceSampled DestSampled SimMonth SimDay\n",
       "1 2011-10-06 Cabatoan Cabatoan       yes           yes         10       10    \n",
       "2 2011-10-08 Cabatoan Magbangon      yes           yes         10       10    \n",
       "3 2011-10-08 Cabatoan Magbangon      yes           yes         10       10    \n",
       "4 2011-10-08 Cabatoan Sitio Baybayon yes           yes         10       10    \n",
       "5 2011-10-08 Cabatoan Sitio Baybayon yes           yes         10       10    \n",
       "6 2011-10-08 Cabatoan Sitio Baybayon yes           yes         10       10    \n",
       "  SimYear YearSampled SimMonsoon DailyParticles SourcePropSamp\n",
       "1 2011    2012        SWM         1             0.4230769     \n",
       "2 2011    2012        SWM         2             0.4230769     \n",
       "3 2011    2012        SWM         2             0.4230769     \n",
       "4 2011    2012        SWM        27             0.4230769     \n",
       "5 2011    2012        SWM        27             0.4230769     \n",
       "6 2011    2012        SWM        27             0.4230769     \n",
       "  SourceNOffsAnnual SourceNOffsTotal\n",
       "1 4                 13              \n",
       "2 4                 13              \n",
       "3 4                 13              \n",
       "4 4                 13              \n",
       "5 4                 13              \n",
       "6 4                 13              "
      ]
     },
     "metadata": {},
     "output_type": "display_data"
    }
   ],
   "source": [
    "source_join <- AnnualRecsSamp[SimConn2, on = .(site = source, year=YearSampled)]\n",
    "setnames(source_join, c(\"site\", \"year\", \"n_offs_gen\", \"n_offs_gen_all_years\", \"PropSamp\"), c(\"Source\",\"YearSampled\", \"SourceNOffsAnnual\", \"SourceNOffsTotal\", \"SourcePropSamp\"))\n",
    "\n"
   ]
  },
  {
   "cell_type": "code",
   "execution_count": 77,
   "metadata": {},
   "outputs": [
    {
     "data": {
      "text/html": [
       "<table>\n",
       "<thead><tr><th scope=col>date</th><th scope=col>source</th><th scope=col>destination</th><th scope=col>SourceSampled</th><th scope=col>DestSampled</th><th scope=col>SimMonth</th><th scope=col>SimDay</th><th scope=col>SimYear</th><th scope=col>YearSampled</th><th scope=col>SimMonsoon</th><th scope=col>DailyParticles</th><th scope=col>SourcePropSamp</th><th scope=col>SourceNOffsAnnual</th><th scope=col>SourceNOffsTotal</th></tr></thead>\n",
       "<tbody>\n",
       "\t<tr><td>2012-03-31</td><td>Cabatoan  </td><td>CAI       </td><td>yes       </td><td>no        </td><td>3         </td><td>3         </td><td>2012      </td><td>2012      </td><td>NEM       </td><td>307       </td><td>0.4230769 </td><td>4         </td><td>13        </td></tr>\n",
       "\t<tr><td>2012-03-31</td><td>Cabatoan  </td><td>CAI       </td><td>yes       </td><td>no        </td><td>3         </td><td>3         </td><td>2012      </td><td>2012      </td><td>NEM       </td><td>307       </td><td>0.4230769 </td><td>4         </td><td>13        </td></tr>\n",
       "\t<tr><td>2012-03-31</td><td>Cabatoan  </td><td>CAI       </td><td>yes       </td><td>no        </td><td>3         </td><td>3         </td><td>2012      </td><td>2012      </td><td>NEM       </td><td>307       </td><td>0.4230769 </td><td>4         </td><td>13        </td></tr>\n",
       "\t<tr><td>2012-03-31</td><td>Cabatoan  </td><td>CAI       </td><td>yes       </td><td>no        </td><td>3         </td><td>3         </td><td>2012      </td><td>2012      </td><td>NEM       </td><td>307       </td><td>0.4230769 </td><td>4         </td><td>13        </td></tr>\n",
       "\t<tr><td>2012-03-31</td><td>Cabatoan  </td><td>CAI       </td><td>yes       </td><td>no        </td><td>3         </td><td>3         </td><td>2012      </td><td>2012      </td><td>NEM       </td><td>307       </td><td>0.4230769 </td><td>4         </td><td>13        </td></tr>\n",
       "\t<tr><td>2012-03-31</td><td>Cabatoan  </td><td>CAI       </td><td>yes       </td><td>no        </td><td>3         </td><td>3         </td><td>2012      </td><td>2012      </td><td>NEM       </td><td>307       </td><td>0.4230769 </td><td>4         </td><td>13        </td></tr>\n",
       "</tbody>\n",
       "</table>\n"
      ],
      "text/latex": [
       "\\begin{tabular}{r|llllllllllllll}\n",
       " date & source & destination & SourceSampled & DestSampled & SimMonth & SimDay & SimYear & YearSampled & SimMonsoon & DailyParticles & SourcePropSamp & SourceNOffsAnnual & SourceNOffsTotal\\\\\n",
       "\\hline\n",
       "\t 2012-03-31 & Cabatoan   & CAI        & yes        & no         & 3          & 3          & 2012       & 2012       & NEM        & 307        & 0.4230769  & 4          & 13        \\\\\n",
       "\t 2012-03-31 & Cabatoan   & CAI        & yes        & no         & 3          & 3          & 2012       & 2012       & NEM        & 307        & 0.4230769  & 4          & 13        \\\\\n",
       "\t 2012-03-31 & Cabatoan   & CAI        & yes        & no         & 3          & 3          & 2012       & 2012       & NEM        & 307        & 0.4230769  & 4          & 13        \\\\\n",
       "\t 2012-03-31 & Cabatoan   & CAI        & yes        & no         & 3          & 3          & 2012       & 2012       & NEM        & 307        & 0.4230769  & 4          & 13        \\\\\n",
       "\t 2012-03-31 & Cabatoan   & CAI        & yes        & no         & 3          & 3          & 2012       & 2012       & NEM        & 307        & 0.4230769  & 4          & 13        \\\\\n",
       "\t 2012-03-31 & Cabatoan   & CAI        & yes        & no         & 3          & 3          & 2012       & 2012       & NEM        & 307        & 0.4230769  & 4          & 13        \\\\\n",
       "\\end{tabular}\n"
      ],
      "text/markdown": [
       "\n",
       "| date | source | destination | SourceSampled | DestSampled | SimMonth | SimDay | SimYear | YearSampled | SimMonsoon | DailyParticles | SourcePropSamp | SourceNOffsAnnual | SourceNOffsTotal |\n",
       "|---|---|---|---|---|---|---|---|---|---|---|---|---|---|\n",
       "| 2012-03-31 | Cabatoan   | CAI        | yes        | no         | 3          | 3          | 2012       | 2012       | NEM        | 307        | 0.4230769  | 4          | 13         |\n",
       "| 2012-03-31 | Cabatoan   | CAI        | yes        | no         | 3          | 3          | 2012       | 2012       | NEM        | 307        | 0.4230769  | 4          | 13         |\n",
       "| 2012-03-31 | Cabatoan   | CAI        | yes        | no         | 3          | 3          | 2012       | 2012       | NEM        | 307        | 0.4230769  | 4          | 13         |\n",
       "| 2012-03-31 | Cabatoan   | CAI        | yes        | no         | 3          | 3          | 2012       | 2012       | NEM        | 307        | 0.4230769  | 4          | 13         |\n",
       "| 2012-03-31 | Cabatoan   | CAI        | yes        | no         | 3          | 3          | 2012       | 2012       | NEM        | 307        | 0.4230769  | 4          | 13         |\n",
       "| 2012-03-31 | Cabatoan   | CAI        | yes        | no         | 3          | 3          | 2012       | 2012       | NEM        | 307        | 0.4230769  | 4          | 13         |\n",
       "\n"
      ],
      "text/plain": [
       "  date       source   destination SourceSampled DestSampled SimMonth SimDay\n",
       "1 2012-03-31 Cabatoan CAI         yes           no          3        3     \n",
       "2 2012-03-31 Cabatoan CAI         yes           no          3        3     \n",
       "3 2012-03-31 Cabatoan CAI         yes           no          3        3     \n",
       "4 2012-03-31 Cabatoan CAI         yes           no          3        3     \n",
       "5 2012-03-31 Cabatoan CAI         yes           no          3        3     \n",
       "6 2012-03-31 Cabatoan CAI         yes           no          3        3     \n",
       "  SimYear YearSampled SimMonsoon DailyParticles SourcePropSamp\n",
       "1 2012    2012        NEM        307            0.4230769     \n",
       "2 2012    2012        NEM        307            0.4230769     \n",
       "3 2012    2012        NEM        307            0.4230769     \n",
       "4 2012    2012        NEM        307            0.4230769     \n",
       "5 2012    2012        NEM        307            0.4230769     \n",
       "6 2012    2012        NEM        307            0.4230769     \n",
       "  SourceNOffsAnnual SourceNOffsTotal\n",
       "1 4                 13              \n",
       "2 4                 13              \n",
       "3 4                 13              \n",
       "4 4                 13              \n",
       "5 4                 13              \n",
       "6 4                 13              "
      ]
     },
     "metadata": {},
     "output_type": "display_data"
    },
    {
     "data": {
      "text/html": [
       "<table>\n",
       "<thead><tr><th scope=col>date</th><th scope=col>source</th><th scope=col>destination</th><th scope=col>SourceSampled</th><th scope=col>DestSampled</th><th scope=col>SimMonth</th><th scope=col>SimDay</th><th scope=col>SimYear</th><th scope=col>YearSampled</th><th scope=col>SimMonsoon</th><th scope=col>DailyParticles</th></tr></thead>\n",
       "<tbody>\n",
       "\t<tr><td>2010-10-01</td><td>CAI       </td><td>CAI       </td><td>no        </td><td>no        </td><td>10        </td><td>10        </td><td>2010      </td><td>2011      </td><td>SWM       </td><td>201718    </td></tr>\n",
       "\t<tr><td>2010-10-01</td><td>CAI       </td><td>CAI       </td><td>no        </td><td>no        </td><td>10        </td><td>10        </td><td>2010      </td><td>2011      </td><td>SWM       </td><td>201718    </td></tr>\n",
       "\t<tr><td>2010-10-01</td><td>CAI       </td><td>CAI       </td><td>no        </td><td>no        </td><td>10        </td><td>10        </td><td>2010      </td><td>2011      </td><td>SWM       </td><td>201718    </td></tr>\n",
       "\t<tr><td>2010-10-01</td><td>CAI       </td><td>CAI       </td><td>no        </td><td>no        </td><td>10        </td><td>10        </td><td>2010      </td><td>2011      </td><td>SWM       </td><td>201718    </td></tr>\n",
       "\t<tr><td>2010-10-01</td><td>CAI       </td><td>CAI       </td><td>no        </td><td>no        </td><td>10        </td><td>10        </td><td>2010      </td><td>2011      </td><td>SWM       </td><td>201718    </td></tr>\n",
       "\t<tr><td>2010-10-01</td><td>CAI       </td><td>CAI       </td><td>no        </td><td>no        </td><td>10        </td><td>10        </td><td>2010      </td><td>2011      </td><td>SWM       </td><td>201718    </td></tr>\n",
       "</tbody>\n",
       "</table>\n"
      ],
      "text/latex": [
       "\\begin{tabular}{r|lllllllllll}\n",
       " date & source & destination & SourceSampled & DestSampled & SimMonth & SimDay & SimYear & YearSampled & SimMonsoon & DailyParticles\\\\\n",
       "\\hline\n",
       "\t 2010-10-01 & CAI        & CAI        & no         & no         & 10         & 10         & 2010       & 2011       & SWM        & 201718    \\\\\n",
       "\t 2010-10-01 & CAI        & CAI        & no         & no         & 10         & 10         & 2010       & 2011       & SWM        & 201718    \\\\\n",
       "\t 2010-10-01 & CAI        & CAI        & no         & no         & 10         & 10         & 2010       & 2011       & SWM        & 201718    \\\\\n",
       "\t 2010-10-01 & CAI        & CAI        & no         & no         & 10         & 10         & 2010       & 2011       & SWM        & 201718    \\\\\n",
       "\t 2010-10-01 & CAI        & CAI        & no         & no         & 10         & 10         & 2010       & 2011       & SWM        & 201718    \\\\\n",
       "\t 2010-10-01 & CAI        & CAI        & no         & no         & 10         & 10         & 2010       & 2011       & SWM        & 201718    \\\\\n",
       "\\end{tabular}\n"
      ],
      "text/markdown": [
       "\n",
       "| date | source | destination | SourceSampled | DestSampled | SimMonth | SimDay | SimYear | YearSampled | SimMonsoon | DailyParticles |\n",
       "|---|---|---|---|---|---|---|---|---|---|---|\n",
       "| 2010-10-01 | CAI        | CAI        | no         | no         | 10         | 10         | 2010       | 2011       | SWM        | 201718     |\n",
       "| 2010-10-01 | CAI        | CAI        | no         | no         | 10         | 10         | 2010       | 2011       | SWM        | 201718     |\n",
       "| 2010-10-01 | CAI        | CAI        | no         | no         | 10         | 10         | 2010       | 2011       | SWM        | 201718     |\n",
       "| 2010-10-01 | CAI        | CAI        | no         | no         | 10         | 10         | 2010       | 2011       | SWM        | 201718     |\n",
       "| 2010-10-01 | CAI        | CAI        | no         | no         | 10         | 10         | 2010       | 2011       | SWM        | 201718     |\n",
       "| 2010-10-01 | CAI        | CAI        | no         | no         | 10         | 10         | 2010       | 2011       | SWM        | 201718     |\n",
       "\n"
      ],
      "text/plain": [
       "  date       source destination SourceSampled DestSampled SimMonth SimDay\n",
       "1 2010-10-01 CAI    CAI         no            no          10       10    \n",
       "2 2010-10-01 CAI    CAI         no            no          10       10    \n",
       "3 2010-10-01 CAI    CAI         no            no          10       10    \n",
       "4 2010-10-01 CAI    CAI         no            no          10       10    \n",
       "5 2010-10-01 CAI    CAI         no            no          10       10    \n",
       "6 2010-10-01 CAI    CAI         no            no          10       10    \n",
       "  SimYear YearSampled SimMonsoon DailyParticles\n",
       "1 2010    2011        SWM        201718        \n",
       "2 2010    2011        SWM        201718        \n",
       "3 2010    2011        SWM        201718        \n",
       "4 2010    2011        SWM        201718        \n",
       "5 2010    2011        SWM        201718        \n",
       "6 2010    2011        SWM        201718        "
      ]
     },
     "metadata": {},
     "output_type": "display_data"
    }
   ],
   "source": [
    "head(source_join[order(source, destination)])\n",
    "head(SimConn2[order(source, destination)])"
   ]
  },
  {
   "cell_type": "code",
   "execution_count": 86,
   "metadata": {},
   "outputs": [],
   "source": [
    "#join in the proportion sampled for each source and destination\n",
    "\n",
    "source_join <- AnnualRecsSamp[SimConn2, on = .(site = source, year=YearSampled)]\n",
    "setnames(source_join, c(\"site\", \"year\", \"n_offs_gen\", \"n_offs_gen_all_years\", \"PropSamp\"), c(\"Source\",\"YearSampled\", \"SourceNOffsAnnual\", \"SourceNOffsTotal\", \"SourcePropSamp\"))\n",
    "\n",
    "destination_join <- AnnualRecsSamp[source_join, on = .( site= destination, year=YearSampled)]\n",
    "setnames(destination_join, c(\"site\", \"year\", \"n_offs_gen\", \"n_offs_gen_all_years\", \"PropSamp\"), c(\"Dest\", \"YearSampled\",\"DestNOffsAnnual\", \"DestNOffsTotal\", \"DestPropSamp\"))\n",
    "\n",
    "#lets see if we can do all the kernel fitting in one loop! be ambitious!\n",
    "SimDates <- destination_join[,.(date= unique(date)), by=.(YearSampled)][ #make a data.table of dates in that year-\n",
    "    , DateSeqLin := ((0.25/2)/5)*.I, by=.(YearSampled)][ #then add a column of row number mulitplied by the linear survival model slope\n",
    "        , SurvWeight := DateSeqLin/max(DateSeqLin), by=.(YearSampled)] #then add a column normalizing that as the survival probability, BUT if not eliminating new recruits (months 4/5) multiply the denominator by 1.25 so that nothing is an arbitrary prob=1\n",
    "\n",
    "#check this looks right- 2014 has fewer dates than the other years because the simulation is truncated for that time, and should see the SurvWeight column get low again when the year changes\n",
    "SimDates[, .(.N), by = .(YearSampled)]\n",
    "SimDates[240:250,]\n",
    "\n",
    "#now join with the simulation data table\n",
    "date_join <- SimDates[destination_join, on=.(date, YearSampled)][#joining with YearSampled too is redundant, can otherwise drop the column from SimDates before joining\n",
    "    SimMonth != c(4,5)] #filter out particles recruiting in April/May, they would be new recruits\n",
    " \n",
    "nrow(date_join)==nrow(SimConn2[SimMonth != c(4,5)]) #should be TRUE"
   ]
  },
  {
   "cell_type": "code",
   "execution_count": 90,
   "metadata": {},
   "outputs": [
    {
     "data": {
      "text/html": [
       "<table>\n",
       "<thead><tr><th scope=col>YearSampled</th><th scope=col>N</th></tr></thead>\n",
       "<tbody>\n",
       "\t<tr><td>2011</td><td>243 </td></tr>\n",
       "\t<tr><td>2012</td><td>243 </td></tr>\n",
       "\t<tr><td>2013</td><td>243 </td></tr>\n",
       "\t<tr><td>2014</td><td>200 </td></tr>\n",
       "</tbody>\n",
       "</table>\n"
      ],
      "text/latex": [
       "\\begin{tabular}{r|ll}\n",
       " YearSampled & N\\\\\n",
       "\\hline\n",
       "\t 2011 & 243 \\\\\n",
       "\t 2012 & 243 \\\\\n",
       "\t 2013 & 243 \\\\\n",
       "\t 2014 & 200 \\\\\n",
       "\\end{tabular}\n"
      ],
      "text/markdown": [
       "\n",
       "| YearSampled | N |\n",
       "|---|---|\n",
       "| 2011 | 243  |\n",
       "| 2012 | 243  |\n",
       "| 2013 | 243  |\n",
       "| 2014 | 200  |\n",
       "\n"
      ],
      "text/plain": [
       "  YearSampled N  \n",
       "1 2011        243\n",
       "2 2012        243\n",
       "3 2013        243\n",
       "4 2014        200"
      ]
     },
     "metadata": {},
     "output_type": "display_data"
    },
    {
     "data": {
      "text/html": [
       "<table>\n",
       "<thead><tr><th scope=col>YearSampled</th><th scope=col>date</th><th scope=col>DateSeqLin</th><th scope=col>SurvWeight</th></tr></thead>\n",
       "<tbody>\n",
       "\t<tr><td>2011      </td><td>2011-05-28</td><td>6.000     </td><td>0.9876543 </td></tr>\n",
       "\t<tr><td>2011      </td><td>2011-05-29</td><td>6.025     </td><td>0.9917695 </td></tr>\n",
       "\t<tr><td>2011      </td><td>2011-05-30</td><td>6.050     </td><td>0.9958848 </td></tr>\n",
       "\t<tr><td>2011      </td><td>2011-05-31</td><td>6.075     </td><td>1.0000000 </td></tr>\n",
       "\t<tr><td>2012      </td><td>2011-10-01</td><td>6.100     </td><td>0.5020576 </td></tr>\n",
       "\t<tr><td>2012      </td><td>2011-10-02</td><td>6.125     </td><td>0.5041152 </td></tr>\n",
       "\t<tr><td>2012      </td><td>2011-10-03</td><td>6.150     </td><td>0.5061728 </td></tr>\n",
       "\t<tr><td>2012      </td><td>2011-10-04</td><td>6.175     </td><td>0.5082305 </td></tr>\n",
       "\t<tr><td>2012      </td><td>2011-10-05</td><td>6.200     </td><td>0.5102881 </td></tr>\n",
       "\t<tr><td>2012      </td><td>2011-10-06</td><td>6.225     </td><td>0.5123457 </td></tr>\n",
       "\t<tr><td>2012      </td><td>2011-10-07</td><td>6.250     </td><td>0.5144033 </td></tr>\n",
       "</tbody>\n",
       "</table>\n"
      ],
      "text/latex": [
       "\\begin{tabular}{r|llll}\n",
       " YearSampled & date & DateSeqLin & SurvWeight\\\\\n",
       "\\hline\n",
       "\t 2011       & 2011-05-28 & 6.000      & 0.9876543 \\\\\n",
       "\t 2011       & 2011-05-29 & 6.025      & 0.9917695 \\\\\n",
       "\t 2011       & 2011-05-30 & 6.050      & 0.9958848 \\\\\n",
       "\t 2011       & 2011-05-31 & 6.075      & 1.0000000 \\\\\n",
       "\t 2012       & 2011-10-01 & 6.100      & 0.5020576 \\\\\n",
       "\t 2012       & 2011-10-02 & 6.125      & 0.5041152 \\\\\n",
       "\t 2012       & 2011-10-03 & 6.150      & 0.5061728 \\\\\n",
       "\t 2012       & 2011-10-04 & 6.175      & 0.5082305 \\\\\n",
       "\t 2012       & 2011-10-05 & 6.200      & 0.5102881 \\\\\n",
       "\t 2012       & 2011-10-06 & 6.225      & 0.5123457 \\\\\n",
       "\t 2012       & 2011-10-07 & 6.250      & 0.5144033 \\\\\n",
       "\\end{tabular}\n"
      ],
      "text/markdown": [
       "\n",
       "| YearSampled | date | DateSeqLin | SurvWeight |\n",
       "|---|---|---|---|\n",
       "| 2011       | 2011-05-28 | 6.000      | 0.9876543  |\n",
       "| 2011       | 2011-05-29 | 6.025      | 0.9917695  |\n",
       "| 2011       | 2011-05-30 | 6.050      | 0.9958848  |\n",
       "| 2011       | 2011-05-31 | 6.075      | 1.0000000  |\n",
       "| 2012       | 2011-10-01 | 6.100      | 0.5020576  |\n",
       "| 2012       | 2011-10-02 | 6.125      | 0.5041152  |\n",
       "| 2012       | 2011-10-03 | 6.150      | 0.5061728  |\n",
       "| 2012       | 2011-10-04 | 6.175      | 0.5082305  |\n",
       "| 2012       | 2011-10-05 | 6.200      | 0.5102881  |\n",
       "| 2012       | 2011-10-06 | 6.225      | 0.5123457  |\n",
       "| 2012       | 2011-10-07 | 6.250      | 0.5144033  |\n",
       "\n"
      ],
      "text/plain": [
       "   YearSampled date       DateSeqLin SurvWeight\n",
       "1  2011        2011-05-28 6.000      0.9876543 \n",
       "2  2011        2011-05-29 6.025      0.9917695 \n",
       "3  2011        2011-05-30 6.050      0.9958848 \n",
       "4  2011        2011-05-31 6.075      1.0000000 \n",
       "5  2012        2011-10-01 6.100      0.5020576 \n",
       "6  2012        2011-10-02 6.125      0.5041152 \n",
       "7  2012        2011-10-03 6.150      0.5061728 \n",
       "8  2012        2011-10-04 6.175      0.5082305 \n",
       "9  2012        2011-10-05 6.200      0.5102881 \n",
       "10 2012        2011-10-06 6.225      0.5123457 \n",
       "11 2012        2011-10-07 6.250      0.5144033 "
      ]
     },
     "metadata": {},
     "output_type": "display_data"
    },
    {
     "data": {
      "text/html": [
       "TRUE"
      ],
      "text/latex": [
       "TRUE"
      ],
      "text/markdown": [
       "TRUE"
      ],
      "text/plain": [
       "[1] TRUE"
      ]
     },
     "metadata": {},
     "output_type": "display_data"
    }
   ],
   "source": [
    "#make the empty data.table to fill\n",
    "\n"
   ]
  },
  {
   "cell_type": "code",
   "execution_count": 105,
   "metadata": {},
   "outputs": [],
   "source": [
    "#now how to do all the kernels in the same loop with data.table...\n",
    "\n",
    "\n",
    "SimulatedKernels <- data.table(year=integer(), k=numeric(), theta=numeric(), mdd=numeric(), dist90=numeric(), iteration=numeric())[1:(4*1000)] #3 annual ensembles, 1 all year"
   ]
  },
  {
   "cell_type": "code",
   "execution_count": null,
   "metadata": {},
   "outputs": [],
   "source": []
  },
  {
   "cell_type": "markdown",
   "metadata": {},
   "source": [
    "__Get all the components of the kernel fitting process together__"
   ]
  },
  {
   "cell_type": "code",
   "execution_count": 17,
   "metadata": {},
   "outputs": [
    {
     "name": "stdout",
     "output_type": "stream",
     "text": [
      "  |======================================================================| 100%\n"
     ]
    },
    {
     "data": {
      "text/plain": [
       "Time difference of 1.845821 hours"
      ]
     },
     "metadata": {},
     "output_type": "display_data"
    },
    {
     "name": "stdout",
     "output_type": "stream",
     "text": [
      "  |======================================================================| 100%\n"
     ]
    },
    {
     "data": {
      "text/plain": [
       "Time difference of 3.361985 hours"
      ]
     },
     "metadata": {},
     "output_type": "display_data"
    },
    {
     "name": "stdout",
     "output_type": "stream",
     "text": [
      "  |======================================================================| 100%\n"
     ]
    },
    {
     "data": {
      "text/plain": [
       "Time difference of 3.195373 hours"
      ]
     },
     "metadata": {},
     "output_type": "display_data"
    }
   ],
   "source": [
    "\n",
    "#awesome! everything works! let's rip with a 1000 iteration for loop\n",
    "SimulatedKernels <- data.table(year=integer(), k=numeric(), theta=numeric(), mdd=numeric(), dist90=numeric(), iteration=numeric())\n",
    "\n",
    "#don't print warnings for this loop, they are only for setting row names in a tibble which is depracated. But it works. \n",
    "options(warn=-1)\n",
    "\n",
    "pb <- txtProgressBar(min = 0, max = 1000, style = 3)\n",
    "\n",
    "StartTime <- Sys.time()\n",
    "\n",
    "for(n in 1:1000){\n",
    "        \n",
    "    #SAMPLE THE SIMULATION DATA, then fit a kernel\n",
    "    \n",
    "    #make an empty dataframe with the same columns as original, this will be sampled particles\n",
    "    SimulatedSampling2012 = Simulation2012[FALSE,]\n",
    "    \n",
    "    for(i in 1:nrow(NGenOffs2012)){ \n",
    "        \n",
    "        destination_eval <- as.character(NGenOffs2012$site[i]) #pick out a destination site\n",
    "        \n",
    "        SimSampDestination <- Simulation2012Surv %>% \n",
    "                                filter(destination==destination_eval) %>%\n",
    "                                sample_n(as.numeric(NGenOffs2012$n_offs_gen[i]), weight=SurvivalWeightLin, replace=F) %>% #sample particles that landed at that destination, number corresponding to the actual number sampled at that site in this year\n",
    "                                select(one_of(names(Simulation2012)))\n",
    "        \n",
    "        SimulatedSampling2012 <- bind_rows(SimulatedSampling2012, SimSampDestination) #build into a sampled particle df\n",
    "    }\n",
    "    \n",
    "    #assign a numeric ID for each row (which is a sampled particle)\n",
    "    SimulatedSampling2012 <- SimulatedSampling2012 %>%\n",
    "        mutate(ParticleSampID=paste (\"P\", row_number(), sep = \"\", collapse = NULL))\n",
    "    \n",
    "    #nrow(SimulatedSampling2012)==sum(NGenOffs2012$n_offs_gen) #should be TRUE\n",
    "    \n",
    "    #now randomly assign parentage match status to some of these rows\n",
    "    NumPar <- as.numeric(kernels %>%\n",
    "        filter(Year==\"2012\") %>%\n",
    "        select(NumParentageMatches))\n",
    "    \n",
    "    SimulatedSampling2012Par <- SimulatedSampling2012 %>%\n",
    "        ungroup() %>%\n",
    "        filter(source %in% NGenOffs2012$site) %>% #we can only assign parentage if we sampled the source site, we've already ensured that we sampled the destination site in the for loop by indexing destination sites to evaluate \n",
    "        sample_n(NumPar, replace=F) %>% #sample number of rows consitent with numbers of parentage matches\n",
    "        mutate(Parentage=1) #%>% #assign these rows a positive match value\n",
    "        #arrange(date, source, destination) %>%#arrange by the same order as the orginal df, then bind columns together to avoid unexpected repeats from a join\n",
    "        #select(date, source, destination, Parentage) #drop columns that will result in repeats \n",
    "    \n",
    "    #find the rows that haven't been assigned parentage\n",
    "    SimulatedSampling2012_2 <- anti_join((SimulatedSampling2012 %>% ungroup()), SimulatedSampling2012Par, by=c(\"ParticleSampID\")) \n",
    "    \n",
    "    SimulatedSampling2012_2$Parentage <- 0 #add in the column for parentage\n",
    "    \n",
    "    #combine parentage and non-parentage dfs\n",
    "    SimulatedSampling2012Par3 <- bind_rows(SimulatedSampling2012Par, SimulatedSampling2012_2) %>%\n",
    "        mutate(YearSampled=as.character(YearSampled))\n",
    "    \n",
    "    \n",
    "    #NOW FORMAT INTO PARENTAGE MATRIX\n",
    "    \n",
    "                PropSamp2012 <- PropSamp %>%  #add in all sampled sites as possible parent sites\n",
    "                            filter(end_year ==\"2012\" & PropSamp > 0) %>%\n",
    "                            #rename(source=\"site\") %>%\n",
    "                            select(-end_year, -PropSamp)\n",
    "\n",
    "                #PropSamp2012$destination <- PropSamp2012$source #make another column for destination\n",
    "                \n",
    "                #make a table with the total number of particles sampled at each site\n",
    "                TotalSimSamp <- SimulatedSampling2012Par3 %>% \n",
    "                            select(source, destination) %>%\n",
    "                            group_by(destination) %>%\n",
    "                            summarise(NumSimSampRec=n()) %>%\n",
    "                            ungroup()\n",
    "               \n",
    "                \n",
    "                #add in all surveyed sites\n",
    "                TotalSimSamp2 <- left_join(PropSamp2012, TotalSimSamp, by=c(site=\"destination\")) %>% #join sites to destination, which will add a row for the surveyed sites with no samples\n",
    "                    mutate(NumSimSampRec=ifelse(is.na(NumSimSampRec), 0, NumSimSampRec)) %>% #change the Na's that result to 0s, because we didn't get samples there\n",
    "                    rename(destination=\"site\")#rename sites to destination after joining\n",
    "                \n",
    "                \n",
    "                \n",
    "                #make a table with the total number of parentage matches found in the simulated loop\n",
    "                TotalSimPar <- SimulatedSampling2012Par3 %>% \n",
    "                            select(source, destination, Parentage) %>%\n",
    "                            group_by(source,destination) %>%\n",
    "                            mutate(NumPar=sum(Parentage)) %>% #sum all the parentage observations along each ROUTE\n",
    "                            select(-Parentage) %>%\n",
    "                            ungroup() %>%\n",
    "                            distinct(source, destination, .keep_all = T)\n",
    "                \n",
    "                \n",
    "                #combine for a summary table BY DESTINATION, this below will be for UNASSIGNED ROWS\n",
    "                SimSampSummary2012 <- left_join(TotalSimSamp2, TotalSimPar, by=\"destination\") %>%\n",
    "                    distinct(source, destination, .keep_all = T) %>%\n",
    "                    group_by(destination) %>%\n",
    "                    mutate(NumPar=ifelse(is.na(NumPar), 0, NumPar)) %>% #change the Na's that result to 0s, because we didn't get samples there\n",
    "                    mutate(NumPar=sum(NumPar)) %>% #sum all the parentage observations at each DESTINATION\n",
    "                    distinct(destination, .keep_all = T) %>%\n",
    "                    select(-source) %>%\n",
    "                    mutate(NumUnassigned=NumSimSampRec-NumPar)\n",
    "                                \n",
    "                \n",
    "                #finally, join all of the sites surveyed for a complete parentage matrix\n",
    "                #for this, need to have a source/destination column for all sites\n",
    "                PropSamp2012 <- PropSamp2012 %>%\n",
    "                                rename(source=\"site\")\n",
    "                \n",
    "                PropSamp2012$destination <- PropSamp2012$source #make another column for destination\n",
    "                \n",
    "                #this below will become parentage matrix! \n",
    "                TotalSimPar2 <- full_join(TotalSimPar,PropSamp2012, by=c(\"source\", \"destination\")) %>%\n",
    "                    mutate(NumPar=ifelse(is.na(NumPar), 0, NumPar))\n",
    "        \n",
    "                \n",
    "                #spread into matrix format\n",
    "                SimDispMat <- TotalSimPar2 %>%\n",
    "                    filter(source %in% NGenOffs2012$site) %>%\n",
    "                    arrange(source, destination)  %>%\n",
    "                    spread(destination, NumPar) %>%\n",
    "                    select(-source)\n",
    "                SimDispMat[is.na(SimDispMat)] <- 0\n",
    "                \n",
    "                #add in unassigned row\n",
    "                unassigned <- t(as.matrix(SimSampSummary2012 %>% arrange(destination) %>% ungroup() %>% select(NumUnassigned)))\n",
    "                rownames(unassigned)<-NULL\n",
    "                colnames(unassigned)<-names(SimDispMat)\n",
    "                \n",
    "                SimDispMatFull2012 <- rbind(SimDispMat, unassigned)\n",
    "                colnames(SimDispMatFull2012) <- NULL\n",
    "\n",
    "        #The full remade parentage matrix\n",
    "        Assignments2012 <- SimDispMatFull2012\n",
    "    \n",
    "    #NOW FIT THE KERNEL\n",
    "\n",
    "\n",
    "x <- list(Distances=Distances, Assignments=Assignments2012, Sampled_reefs=Sampled_reefs2012, Reef_sizes=Reef_sizes, Adult_sample_proportions=Adult_sample_proportions2012) #put inputs into a list because that's the bbmle format\n",
    "\n",
    "Sim2012Fit <- suppressWarnings(mle2(LL_kt_bbmle, start=list(k=-3, theta=1), lower=c(-10, 0.15), upper=c(10, 8), method=\"L-BFGS-B\", data=x, control=list(maxit=500)))\n",
    "\n",
    "BestK2012 <- as.numeric(coef(Sim2012Fit)[1])\n",
    "BestTheta2012 <- as.numeric(coef(Sim2012Fit)[2])\n",
    "MDD2012 <- as.numeric(cubintegrate(integrate_kernel_sum1, lower = 0, upper = Inf, k=BestK2012, theta=BestTheta2012, , method = \"pcubature\")$integral)\n",
    "k_eval <- BestK2012\n",
    "theta_eval <- BestTheta2012\n",
    "Med2012  <- round(nleqslv(x = 7, fn = cdf_solve)$x, 2) \n",
    "Dist90_2012 <- round(nleqslv(x = 7, fn = cdf_solve90)$x, 2)\n",
    "    \n",
    "    #store the info in this df\n",
    "    SimulatedKernels2012_beta <- as.data.frame(matrix(nrow=1, ncol=7), stringsAsFactors = FALSE)\n",
    "    colnames(SimulatedKernels2012_beta) <- col\n",
    "    \n",
    "    SimulatedKernels2012_beta$year <- 2012\n",
    "    SimulatedKernels2012_beta$k <- BestK2012\n",
    "    SimulatedKernels2012_beta$theta <- BestTheta2012\n",
    "    SimulatedKernels2012_beta$mdd <- MDD2012\n",
    "    SimulatedKernels2012_beta$med <- Med2012\n",
    "    SimulatedKernels2012_beta$dist90 <- Dist90_2012\n",
    "    SimulatedKernels2012_beta$iteration <- n\n",
    "    \n",
    "    \n",
    "#join results into larger df\n",
    "SimulatedKernels2012 <- bind_rows(SimulatedKernels2012, SimulatedKernels2012_beta)\n",
    "    \n",
    "setTxtProgressBar(pb, n)\n",
    "\n",
    "\n",
    "}\n",
    "close(pb)\n",
    "EndTime <- Sys.time()\n",
    "EndTime-StartTime\n",
    "options(warn=0) #turn warnings back on\n",
    "\n",
    "\n",
    "write.csv(SimulatedKernels2012, file=\"~/oceanography/script_output/KernelFits/Adjust_Survival_NoRecentRecruits/1000SimulatedKernels2012SurvNoRecentRec.csv\", row.names=F)\n",
    "SimulatedKernels2013 <- as.data.frame(matrix(nrow=0, ncol=7), stringsAsFactors = FALSE)\n",
    "colnames(SimulatedKernels2013) <- col\n",
    "\n",
    "#don't print warnings for this loop, they are only for setting row names in a tibble which is depracated. But it works. \n",
    "options(warn=-1)\n",
    "\n",
    "pb <- txtProgressBar(min = 0, max = 1000, style = 3)\n",
    "\n",
    "StartTime <- Sys.time()\n",
    "\n",
    "for(n in 1:1000){\n",
    "        \n",
    "    #SAMPLE THE SIMULATION DATA, then fit a kernel\n",
    "    \n",
    "    #make an empty dataframe with the same columns as original, this will be sampled particles\n",
    "    SimulatedSampling2013 = Simulation2013[FALSE,]\n",
    "    \n",
    "    for(i in 1:nrow(NGenOffs2013)){ \n",
    "        \n",
    "        destination_eval <- as.character(NGenOffs2013$site[i]) #pick out a destination site\n",
    "        \n",
    "        SimSampDestination <- Simulation2013Surv %>% \n",
    "                                filter(destination==destination_eval) %>%\n",
    "                                sample_n(as.numeric(NGenOffs2013$n_offs_gen[i]), weight=SurvivalWeightLin, replace=F) %>% #sample particles that landed at that destination, number corresponding to the actual number sampled at that site in this year\n",
    "                                select(one_of(names(Simulation2013)))\n",
    "        \n",
    "        SimulatedSampling2013 <- bind_rows(SimulatedSampling2013, SimSampDestination) #build into a sampled particle df\n",
    "    }\n",
    "    \n",
    "    #assign a numeric ID for each row (which is a sampled particle)\n",
    "    SimulatedSampling2013 <- SimulatedSampling2013 %>%\n",
    "        mutate(ParticleSampID=paste (\"P\", row_number(), sep = \"\", collapse = NULL))\n",
    "    \n",
    "    #nrow(SimulatedSampling2013)==sum(NGenOffs2013$n_offs_gen) #should be TRUE\n",
    "    \n",
    "    #now randomly assign parentage match status to some of these rows\n",
    "    NumPar <- as.numeric(kernels %>%\n",
    "        filter(Year==\"2013\") %>%\n",
    "        select(NumParentageMatches))\n",
    "    \n",
    "    SimulatedSampling2013Par <- SimulatedSampling2013 %>%\n",
    "        ungroup() %>%\n",
    "        filter(source %in% NGenOffs2013$site) %>% #we can only assign parentage if we sampled the source site, we've already ensured that we sampled the destination site in the for loop by indexing destination sites to evaluate \n",
    "        sample_n(NumPar, replace=F) %>% #sample number of rows consitent with numbers of parentage matches\n",
    "        mutate(Parentage=1) #%>% #assign these rows a positive match value\n",
    "        #arrange(date, source, destination) %>%#arrange by the same order as the orginal df, then bind columns together to avoid unexpected repeats from a join\n",
    "        #select(date, source, destination, Parentage) #drop columns that will result in repeats \n",
    "    \n",
    "    #find the rows that haven't been assigned parentage\n",
    "    SimulatedSampling2013_2 <- anti_join((SimulatedSampling2013 %>% ungroup()), SimulatedSampling2013Par, by=c(\"ParticleSampID\")) \n",
    "    \n",
    "    SimulatedSampling2013_2$Parentage <- 0 #add in the column for parentage\n",
    "    \n",
    "    #combine parentage and non-parentage dfs\n",
    "    SimulatedSampling2013Par3 <- bind_rows(SimulatedSampling2013Par, SimulatedSampling2013_2) %>%\n",
    "        mutate(YearSampled=as.character(YearSampled))\n",
    "    \n",
    "    \n",
    "    #NOW FORMAT INTO PARENTAGE MATRIX\n",
    "    \n",
    "                PropSamp2013 <- PropSamp %>%  #add in all sampled sites as possible parent sites\n",
    "                            filter(end_year ==\"2013\" & PropSamp > 0) %>%\n",
    "                            #rename(source=\"site\") %>%\n",
    "                            select(-end_year, -PropSamp)\n",
    "\n",
    "                #PropSamp2013$destination <- PropSamp2013$source #make another column for destination\n",
    "                \n",
    "                #make a table with the total number of particles sampled at each site\n",
    "                TotalSimSamp <- SimulatedSampling2013Par3 %>% \n",
    "                            select(source, destination) %>%\n",
    "                            group_by(destination) %>%\n",
    "                            summarise(NumSimSampRec=n()) %>%\n",
    "                            ungroup()\n",
    "               \n",
    "                \n",
    "                #add in all surveyed sites\n",
    "                TotalSimSamp2 <- left_join(PropSamp2013, TotalSimSamp, by=c(site=\"destination\")) %>% #join sites to destination, which will add a row for the surveyed sites with no samples\n",
    "                    mutate(NumSimSampRec=ifelse(is.na(NumSimSampRec), 0, NumSimSampRec)) %>% #change the Na's that result to 0s, because we didn't get samples there\n",
    "                    rename(destination=\"site\")#rename sites to destination after joining\n",
    "                \n",
    "                \n",
    "                \n",
    "                #make a table with the total number of parentage matches found in the simulated loop\n",
    "                TotalSimPar <- SimulatedSampling2013Par3 %>% \n",
    "                            select(source, destination, Parentage) %>%\n",
    "                            group_by(source,destination) %>%\n",
    "                            mutate(NumPar=sum(Parentage)) %>% #sum all the parentage observations along each ROUTE\n",
    "                            select(-Parentage) %>%\n",
    "                            ungroup() %>%\n",
    "                            distinct(source, destination, .keep_all = T)\n",
    "                \n",
    "                \n",
    "                #combine for a summary table BY DESTINATION, this below will be for UNASSIGNED ROWS\n",
    "                SimSampSummary2013 <- left_join(TotalSimSamp2, TotalSimPar, by=\"destination\") %>%\n",
    "                    distinct(source, destination, .keep_all = T) %>%\n",
    "                    group_by(destination) %>%\n",
    "                    mutate(NumPar=ifelse(is.na(NumPar), 0, NumPar)) %>% #change the Na's that result to 0s, because we didn't get samples there\n",
    "                    mutate(NumPar=sum(NumPar)) %>% #sum all the parentage observations at each DESTINATION\n",
    "                    distinct(destination, .keep_all = T) %>%\n",
    "                    select(-source) %>%\n",
    "                    mutate(NumUnassigned=NumSimSampRec-NumPar)\n",
    "                                \n",
    "                \n",
    "                #finally, join all of the sites surveyed for a complete parentage matrix\n",
    "                #for this, need to have a source/destination column for all sites\n",
    "                PropSamp2013 <- PropSamp2013 %>%\n",
    "                                rename(source=\"site\")\n",
    "                \n",
    "                PropSamp2013$destination <- PropSamp2013$source #make another column for destination\n",
    "                \n",
    "                #this below will become parentage matrix! \n",
    "                TotalSimPar2 <- full_join(TotalSimPar,PropSamp2013, by=c(\"source\", \"destination\")) %>%\n",
    "                    mutate(NumPar=ifelse(is.na(NumPar), 0, NumPar))\n",
    "        \n",
    "                \n",
    "                #spread into matrix format\n",
    "                SimDispMat <- TotalSimPar2 %>%\n",
    "                    filter(source %in% NGenOffs2013$site) %>%\n",
    "                    arrange(source, destination)  %>%\n",
    "                    spread(destination, NumPar) %>%\n",
    "                    select(-source)\n",
    "                SimDispMat[is.na(SimDispMat)] <- 0\n",
    "                \n",
    "                #add in unassigned row\n",
    "                unassigned <- t(as.matrix(SimSampSummary2013 %>% arrange(destination) %>% ungroup() %>% select(NumUnassigned)))\n",
    "                rownames(unassigned)<-NULL\n",
    "                colnames(unassigned)<-names(SimDispMat)\n",
    "                \n",
    "                SimDispMatFull2013 <- rbind(SimDispMat, unassigned)\n",
    "                colnames(SimDispMatFull2013) <- NULL\n",
    "\n",
    "        #The full remade parentage matrix\n",
    "        Assignments2013 <- SimDispMatFull2013\n",
    "    \n",
    "    #NOW FIT THE KERNEL\n",
    "\n",
    "\n",
    "x <- list(Distances=Distances, Assignments=Assignments2013, Sampled_reefs=Sampled_reefs2013, Reef_sizes=Reef_sizes, Adult_sample_proportions=Adult_sample_proportions2013) #put inputs into a list because that's the bbmle format\n",
    "\n",
    "Sim2013Fit <- suppressWarnings(mle2(LL_kt_bbmle, start=list(k=-3, theta=1), lower=c(-10, 0.15), upper=c(10, 8), method=\"L-BFGS-B\", data=x, control=list(maxit=500)))\n",
    "\n",
    "BestK2013 <- as.numeric(coef(Sim2013Fit)[1])\n",
    "BestTheta2013 <- as.numeric(coef(Sim2013Fit)[2])\n",
    "MDD2013 <- as.numeric(cubintegrate(integrate_kernel_sum1, lower = 0, upper = Inf, k=BestK2013, theta=BestTheta2013, , method = \"pcubature\")$integral)\n",
    "k_eval <- BestK2013\n",
    "theta_eval <- BestTheta2013\n",
    "Med2013  <- round(nleqslv(x = 7, fn = cdf_solve)$x, 2) \n",
    "Dist90_2013 <- round(nleqslv(x = 7, fn = cdf_solve90)$x, 2)\n",
    "    \n",
    "    #store the info in this df\n",
    "    SimulatedKernels2013_beta <- as.data.frame(matrix(nrow=1, ncol=7), stringsAsFactors = FALSE)\n",
    "    colnames(SimulatedKernels2013_beta) <- col\n",
    "    \n",
    "    SimulatedKernels2013_beta$year <- 2013\n",
    "    SimulatedKernels2013_beta$k <- BestK2013\n",
    "    SimulatedKernels2013_beta$theta <- BestTheta2013\n",
    "    SimulatedKernels2013_beta$mdd <- MDD2013\n",
    "    SimulatedKernels2013_beta$med <- Med2013\n",
    "    SimulatedKernels2013_beta$dist90 <- Dist90_2013\n",
    "    SimulatedKernels2013_beta$iteration <- n\n",
    "    \n",
    "    \n",
    "#join results into larger df\n",
    "SimulatedKernels2013 <- bind_rows(SimulatedKernels2013, SimulatedKernels2013_beta)\n",
    "    \n",
    "setTxtProgressBar(pb, n)\n",
    "\n",
    "\n",
    "}\n",
    "close(pb)\n",
    "EndTime <- Sys.time()\n",
    "EndTime-StartTime\n",
    "options(warn=0) #turn warnings back on\n",
    "\n",
    "\n",
    "write.csv(SimulatedKernels2013, file=\"~/oceanography/script_output/KernelFits/Adjust_Survival_NoRecentRecruits/1000SimulatedKernels2013SurvNoRecentRec.csv\", row.names=F)\n",
    "\n",
    "SimulatedKernels2014 <- as.data.frame(matrix(nrow=0, ncol=7), stringsAsFactors = FALSE)\n",
    "colnames(SimulatedKernels2014) <- col\n",
    "\n",
    "#don't print warnings for this loop, they are only for setting row names in a tibble which is depracated. But it works. \n",
    "options(warn=-1)\n",
    "\n",
    "pb <- txtProgressBar(min = 0, max = 1000, style = 3)\n",
    "\n",
    "StartTime <- Sys.time()\n",
    "\n",
    "for(n in 1:1000){\n",
    "        \n",
    "    #SAMPLE THE SIMULATION DATA, then fit a kernel\n",
    "    \n",
    "    #make an empty dataframe with the same columns as original, this will be sampled particles\n",
    "    SimulatedSampling2014 = Simulation2014[FALSE,]\n",
    "    \n",
    "    for(i in 1:nrow(NGenOffs2014)){ \n",
    "        \n",
    "        destination_eval <- as.character(NGenOffs2014$site[i]) #pick out a destination site\n",
    "        \n",
    "        SimSampDestination <- Simulation2014Surv %>% \n",
    "                                filter(destination==destination_eval) %>%\n",
    "                                sample_n(as.numeric(NGenOffs2014$n_offs_gen[i]), weight=SurvivalWeightLin, replace=F) %>% #sample particles that landed at that destination, number corresponding to the actual number sampled at that site in this year\n",
    "                                select(one_of(names(Simulation2014)))  \n",
    "        \n",
    "        SimulatedSampling2014 <- bind_rows(SimulatedSampling2014, SimSampDestination) #build into a sampled particle df\n",
    "    }\n",
    "    \n",
    "    #assign a numeric ID for each row (which is a sampled particle)\n",
    "    SimulatedSampling2014 <- SimulatedSampling2014 %>%\n",
    "        mutate(ParticleSampID=paste (\"P\", row_number(), sep = \"\", collapse = NULL))\n",
    "    \n",
    "    #nrow(SimulatedSampling2014)==sum(NGenOffs2014$n_offs_gen) #should be TRUE\n",
    "    \n",
    "    #now randomly assign parentage match status to some of these rows\n",
    "    NumPar <- as.numeric(kernels %>%\n",
    "        filter(Year==\"2014\") %>%\n",
    "        select(NumParentageMatches))\n",
    "    \n",
    "    SimulatedSampling2014Par <- SimulatedSampling2014 %>%\n",
    "        ungroup() %>%\n",
    "        filter(source %in% NGenOffs2014$site) %>% #we can only assign parentage if we sampled the source site, we've already ensured that we sampled the destination site in the for loop by indexing destination sites to evaluate \n",
    "        sample_n(NumPar, replace=F) %>% #sample number of rows consitent with numbers of parentage matches\n",
    "        mutate(Parentage=1) #%>% #assign these rows a positive match value\n",
    "        #arrange(date, source, destination) %>%#arrange by the same order as the orginal df, then bind columns together to avoid unexpected repeats from a join\n",
    "        #select(date, source, destination, Parentage) #drop columns that will result in repeats \n",
    "    \n",
    "    #find the rows that haven't been assigned parentage\n",
    "    SimulatedSampling2014_2 <- anti_join((SimulatedSampling2014 %>% ungroup()), SimulatedSampling2014Par, by=c(\"ParticleSampID\")) \n",
    "    \n",
    "    SimulatedSampling2014_2$Parentage <- 0 #add in the column for parentage\n",
    "    \n",
    "    #combine parentage and non-parentage dfs\n",
    "    SimulatedSampling2014Par3 <- bind_rows(SimulatedSampling2014Par, SimulatedSampling2014_2) %>%\n",
    "        mutate(YearSampled=as.character(YearSampled))\n",
    "    \n",
    "    \n",
    "    #NOW FORMAT INTO PARENTAGE MATRIX\n",
    "    \n",
    "                PropSamp2014 <- PropSamp %>%  #add in all sampled sites as possible parent sites\n",
    "                            filter(end_year ==\"2014\" & PropSamp > 0) %>%\n",
    "                            #rename(source=\"site\") %>%\n",
    "                            select(-end_year, -PropSamp)\n",
    "\n",
    "                #PropSamp2014$destination <- PropSamp2014$source #make another column for destination\n",
    "                \n",
    "                #make a table with the total number of particles sampled at each site\n",
    "                TotalSimSamp <- SimulatedSampling2014Par3 %>% \n",
    "                            select(source, destination) %>%\n",
    "                            group_by(destination) %>%\n",
    "                            summarise(NumSimSampRec=n()) %>%\n",
    "                            ungroup()\n",
    "               \n",
    "                \n",
    "                #add in all surveyed sites\n",
    "                TotalSimSamp2 <- left_join(PropSamp2014, TotalSimSamp, by=c(site=\"destination\")) %>% #join sites to destination, which will add a row for the surveyed sites with no samples\n",
    "                    mutate(NumSimSampRec=ifelse(is.na(NumSimSampRec), 0, NumSimSampRec)) %>% #change the Na's that result to 0s, because we didn't get samples there\n",
    "                    rename(destination=\"site\")#rename sites to destination after joining\n",
    "                \n",
    "                \n",
    "                \n",
    "                #make a table with the total number of parentage matches found in the simulated loop\n",
    "                TotalSimPar <- SimulatedSampling2014Par3 %>% \n",
    "                            select(source, destination, Parentage) %>%\n",
    "                            group_by(source,destination) %>%\n",
    "                            mutate(NumPar=sum(Parentage)) %>% #sum all the parentage observations along each ROUTE\n",
    "                            select(-Parentage) %>%\n",
    "                            ungroup() %>%\n",
    "                            distinct(source, destination, .keep_all = T)\n",
    "                \n",
    "                \n",
    "                #combine for a summary table BY DESTINATION, this below will be for UNASSIGNED ROWS\n",
    "                SimSampSummary2014 <- left_join(TotalSimSamp2, TotalSimPar, by=\"destination\") %>%\n",
    "                    distinct(source, destination, .keep_all = T) %>%\n",
    "                    group_by(destination) %>%\n",
    "                    mutate(NumPar=ifelse(is.na(NumPar), 0, NumPar)) %>% #change the Na's that result to 0s, because we didn't get samples there\n",
    "                    mutate(NumPar=sum(NumPar)) %>% #sum all the parentage observations at each DESTINATION\n",
    "                    distinct(destination, .keep_all = T) %>%\n",
    "                    select(-source) %>%\n",
    "                    mutate(NumUnassigned=NumSimSampRec-NumPar)\n",
    "                                \n",
    "                \n",
    "                #finally, join all of the sites surveyed for a complete parentage matrix\n",
    "                #for this, need to have a source/destination column for all sites\n",
    "                PropSamp2014 <- PropSamp2014 %>%\n",
    "                                rename(source=\"site\")\n",
    "                \n",
    "                PropSamp2014$destination <- PropSamp2014$source #make another column for destination\n",
    "                \n",
    "                #this below will become parentage matrix! \n",
    "                TotalSimPar2 <- full_join(TotalSimPar,PropSamp2014, by=c(\"source\", \"destination\")) %>%\n",
    "                    mutate(NumPar=ifelse(is.na(NumPar), 0, NumPar))\n",
    "        \n",
    "                \n",
    "                #spread into matrix format\n",
    "                SimDispMat <- TotalSimPar2 %>%\n",
    "                    filter(source %in% NGenOffs2014$site) %>%\n",
    "                    arrange(source, destination)  %>%\n",
    "                    spread(destination, NumPar) %>%\n",
    "                    select(-source)\n",
    "                SimDispMat[is.na(SimDispMat)] <- 0\n",
    "                \n",
    "                #add in unassigned row\n",
    "                unassigned <- t(as.matrix(SimSampSummary2014 %>% arrange(destination) %>% ungroup() %>% select(NumUnassigned)))\n",
    "                rownames(unassigned)<-NULL\n",
    "                colnames(unassigned)<-names(SimDispMat)\n",
    "                \n",
    "                SimDispMatFull2014 <- rbind(SimDispMat, unassigned)\n",
    "                colnames(SimDispMatFull2014) <- NULL\n",
    "\n",
    "        #The full remade parentage matrix\n",
    "        Assignments2014 <- SimDispMatFull2014\n",
    "    \n",
    "    #NOW FIT THE KERNEL\n",
    "\n",
    "\n",
    "x <- list(Distances=Distances, Assignments=Assignments2014, Sampled_reefs=Sampled_reefs2014, Reef_sizes=Reef_sizes, Adult_sample_proportions=Adult_sample_proportions2014) #put inputs into a list because that's the bbmle format\n",
    "\n",
    "Sim2014Fit <- suppressWarnings(mle2(LL_kt_bbmle, start=list(k=-3, theta=1), lower=c(-10, 0.15), upper=c(10, 8), method=\"L-BFGS-B\", data=x, control=list(maxit=500)))\n",
    "\n",
    "BestK2014 <- as.numeric(coef(Sim2014Fit)[1])\n",
    "BestTheta2014 <- as.numeric(coef(Sim2014Fit)[2])\n",
    "MDD2014 <- as.numeric(cubintegrate(integrate_kernel_sum1, lower = 0, upper = Inf, k=BestK2014, theta=BestTheta2014, , method = \"pcubature\")$integral)\n",
    "k_eval <- BestK2014\n",
    "theta_eval <- BestTheta2014\n",
    "Med2014  <- round(nleqslv(x = 7, fn = cdf_solve)$x, 2) \n",
    "Dist90_2014 <- round(nleqslv(x = 7, fn = cdf_solve90)$x, 2)\n",
    "    \n",
    "    #store the info in this df\n",
    "    SimulatedKernels2014_beta <- as.data.frame(matrix(nrow=1, ncol=7), stringsAsFactors = FALSE)\n",
    "    colnames(SimulatedKernels2014_beta) <- col\n",
    "    \n",
    "    SimulatedKernels2014_beta$year <- 2014\n",
    "    SimulatedKernels2014_beta$k <- BestK2014\n",
    "    SimulatedKernels2014_beta$theta <- BestTheta2014\n",
    "    SimulatedKernels2014_beta$mdd <- MDD2014\n",
    "    SimulatedKernels2014_beta$med <- Med2014\n",
    "    SimulatedKernels2014_beta$dist90 <- Dist90_2014\n",
    "    SimulatedKernels2014_beta$iteration <- n\n",
    "    \n",
    "    \n",
    "#join results into larger df\n",
    "SimulatedKernels2014 <- bind_rows(SimulatedKernels2014, SimulatedKernels2014_beta)\n",
    "    \n",
    "setTxtProgressBar(pb, n)\n",
    "\n",
    "\n",
    "}\n",
    "close(pb)\n",
    "EndTime <- Sys.time()\n",
    "EndTime-StartTime\n",
    "options(warn=0) #turn warnings back on\n",
    "\n",
    "\n",
    "write.csv(SimulatedKernels2014, file=\"~/oceanography/script_output/KernelFits/Adjust_Survival_NoRecentRecruits/1000SimulatedKernels2014SurvNoRecentRec.csv\", row.names=F)\n",
    "\n"
   ]
  },
  {
   "cell_type": "code",
   "execution_count": 14,
   "metadata": {
    "scrolled": true
   },
   "outputs": [
    {
     "data": {
      "text/html": [
       "16"
      ],
      "text/latex": [
       "16"
      ],
      "text/markdown": [
       "16"
      ],
      "text/plain": [
       "[1] 16"
      ]
     },
     "metadata": {},
     "output_type": "display_data"
    },
    {
     "data": {
      "text/html": [
       "34"
      ],
      "text/latex": [
       "34"
      ],
      "text/markdown": [
       "34"
      ],
      "text/plain": [
       "[1] 34"
      ]
     },
     "metadata": {},
     "output_type": "display_data"
    },
    {
     "data": {
      "text/html": [
       "TRUE"
      ],
      "text/latex": [
       "TRUE"
      ],
      "text/markdown": [
       "TRUE"
      ],
      "text/plain": [
       "[1] TRUE"
      ]
     },
     "metadata": {},
     "output_type": "display_data"
    },
    {
     "data": {
      "text/html": [
       "16"
      ],
      "text/latex": [
       "16"
      ],
      "text/markdown": [
       "16"
      ],
      "text/plain": [
       "[1] 16"
      ]
     },
     "metadata": {},
     "output_type": "display_data"
    },
    {
     "data": {
      "text/html": [
       "16"
      ],
      "text/latex": [
       "16"
      ],
      "text/markdown": [
       "16"
      ],
      "text/plain": [
       "[1] 16"
      ]
     },
     "metadata": {},
     "output_type": "display_data"
    }
   ],
   "source": [
    "#assemble all of the components for annual kernel fitting, search and replace for the years\n",
    "NGenOffs2014 <- AnnualRecsSamp %>%\n",
    "    filter(year==\"2014\")\n",
    "\n",
    "nrow(NGenOffs2014) #should be 9 sites sampled for 2014\n",
    "\n",
    "#***\n",
    "PropSamp2014 <- PropSamp %>%  #add in all sampled sites as possible parent sites\n",
    "                filter(end_year ==\"2014\" & PropSamp > 0) %>%\n",
    "                #rename(source=\"site\") %>%\n",
    "                select(-end_year, -PropSamp)\n",
    "\n",
    "PropSamp2014 <- PropSamp2014 %>%\n",
    "                rename(source=\"site\")\n",
    "\n",
    "#PropSamp2014$destination <- PropSamp2014$source #make another column for destination\n",
    "#***\n",
    "centroids <- read.csv(\"~/oceanography/empirical_data/site_centroids_simulation_kernels.csv\", header=TRUE, stringsAsFactors = F)\n",
    "\n",
    "Area <- read.csv(\"~/oceanography/empirical_data/site_area_header_nonsurveyed_simulation_kernels.csv\", header=TRUE, stringsAsFactors = F) %>%\n",
    "    arrange(site) %>%\n",
    "    filter(site %!in% c(\"near_north_full1\", \"near_north_full2\", \"near_north_full3\", \"near_south_full1\", \"near_south_full2\", \"near_south_full3\")) %>%\n",
    "    mutate(kmsq=msq*10^-6) %>%\n",
    "    select(kmsq)\n",
    "Reef_sizes <- as.matrix(Area)\n",
    "\n",
    "#give every site in the distance matrix of the simulation (even if we didn't sample there) an index number\n",
    "AllSites <- centroids %>%\n",
    "    select(site) %>%\n",
    "    arrange(site)\n",
    "nrow(AllSites) #should be 34x1\n",
    "AllSites$index <- seq(from=1, to=34, by=1)\n",
    "\n",
    "SampledSites2014 <- inner_join(PropSamp2014 %>% select(source), AllSites, by=c(source=\"site\")) \n",
    "\n",
    "#check for correct number of rows\n",
    "nrow(SampledSites2014)==nrow(PropSamp2014) #should be true\n",
    "SampledSites2014Index <- t(as.matrix(SampledSites2014$index))\n",
    "ncol(SampledSites2014Index)\n",
    "\n",
    "Sampled_reefs2014 <- SampledSites2014Index\n",
    "\n",
    "#proportion sampled matrix for kernel fitting\n",
    "\n",
    "#for annual\n",
    "Adult_sample_proportions2014 <- PropSamp %>%  #add in all sampled sites as possible parent sites\n",
    "                filter(end_year ==\"2014\" & PropSamp > 0) \n",
    "\n",
    "Adult_sample_proportions2014 <- as.matrix(Adult_sample_proportions2014$PropSamp)\n",
    "nrow(Adult_sample_proportions2014) #should be 9 for 2014\n",
    "\n",
    "#distance matrix using the centroids with combined Magbangon\n",
    "### List of source locations\n",
    "sites_source <- centroids\n",
    "\n",
    "### List of destination locations\n",
    "sites_dest <- centroids\n",
    "\n",
    "dist_mat_m <- distm(sites_source[,c('lon','lat')], sites_source[,c('lon','lat')], fun=distVincentyEllipsoid)\n",
    "Distances <- dist_mat_m*10^-3\n",
    "\n",
    "Centroids <- centroids %>%\n",
    "    select(-site)\n",
    "\n"
   ]
  },
  {
   "cell_type": "code",
   "execution_count": 15,
   "metadata": {},
   "outputs": [
    {
     "data": {
      "text/html": [
       "16"
      ],
      "text/latex": [
       "16"
      ],
      "text/markdown": [
       "16"
      ],
      "text/plain": [
       "[1] 16"
      ]
     },
     "metadata": {},
     "output_type": "display_data"
    },
    {
     "data": {
      "text/html": [
       "TRUE"
      ],
      "text/latex": [
       "TRUE"
      ],
      "text/markdown": [
       "TRUE"
      ],
      "text/plain": [
       "[1] TRUE"
      ]
     },
     "metadata": {},
     "output_type": "display_data"
    },
    {
     "data": {
      "text/html": [
       "16"
      ],
      "text/latex": [
       "16"
      ],
      "text/markdown": [
       "16"
      ],
      "text/plain": [
       "[1] 16"
      ]
     },
     "metadata": {},
     "output_type": "display_data"
    },
    {
     "data": {
      "text/html": [
       "16"
      ],
      "text/latex": [
       "16"
      ],
      "text/markdown": [
       "16"
      ],
      "text/plain": [
       "[1] 16"
      ]
     },
     "metadata": {},
     "output_type": "display_data"
    }
   ],
   "source": [
    "#assemble all of the components for annual kernel fitting, search and replace for the years\n",
    "NGenOffs2013 <- AnnualRecsSamp %>%\n",
    "    filter(year==\"2013\")\n",
    "\n",
    "nrow(NGenOffs2013) #should be 9 sites sampled for 2013\n",
    "\n",
    "#***\n",
    "PropSamp2013 <- PropSamp %>%  #add in all sampled sites as possible parent sites\n",
    "                filter(end_year ==\"2013\" & PropSamp > 0) %>%\n",
    "                #rename(source=\"site\") %>%\n",
    "                select(-end_year, -PropSamp)\n",
    "\n",
    "PropSamp2013 <- PropSamp2013 %>%\n",
    "                rename(source=\"site\")\n",
    "\n",
    "\n",
    "SampledSites2013 <- inner_join(PropSamp2013 %>% select(source), AllSites, by=c(source=\"site\")) \n",
    "\n",
    "#check for correct number of rows\n",
    "nrow(SampledSites2013)==nrow(PropSamp2013) #should be true\n",
    "SampledSites2013Index <- t(as.matrix(SampledSites2013$index))\n",
    "ncol(SampledSites2013Index)\n",
    "\n",
    "Sampled_reefs2013 <- SampledSites2013Index\n",
    "\n",
    "#proportion sampled matrix for kernel fitting\n",
    "\n",
    "#for annual\n",
    "Adult_sample_proportions2013 <- PropSamp %>%  #add in all sampled sites as possible parent sites\n",
    "                filter(end_year ==\"2013\" & PropSamp > 0) \n",
    "\n",
    "Adult_sample_proportions2013 <- as.matrix(Adult_sample_proportions2013$PropSamp)\n",
    "nrow(Adult_sample_proportions2013) #should be 9 for 2013\n",
    "\n",
    "\n"
   ]
  },
  {
   "cell_type": "code",
   "execution_count": 16,
   "metadata": {},
   "outputs": [
    {
     "data": {
      "text/html": [
       "9"
      ],
      "text/latex": [
       "9"
      ],
      "text/markdown": [
       "9"
      ],
      "text/plain": [
       "[1] 9"
      ]
     },
     "metadata": {},
     "output_type": "display_data"
    },
    {
     "data": {
      "text/html": [
       "TRUE"
      ],
      "text/latex": [
       "TRUE"
      ],
      "text/markdown": [
       "TRUE"
      ],
      "text/plain": [
       "[1] TRUE"
      ]
     },
     "metadata": {},
     "output_type": "display_data"
    },
    {
     "data": {
      "text/html": [
       "9"
      ],
      "text/latex": [
       "9"
      ],
      "text/markdown": [
       "9"
      ],
      "text/plain": [
       "[1] 9"
      ]
     },
     "metadata": {},
     "output_type": "display_data"
    },
    {
     "data": {
      "text/html": [
       "9"
      ],
      "text/latex": [
       "9"
      ],
      "text/markdown": [
       "9"
      ],
      "text/plain": [
       "[1] 9"
      ]
     },
     "metadata": {},
     "output_type": "display_data"
    }
   ],
   "source": [
    "#assemble all of the components for annual kernel fitting, search and replace for the years\n",
    "NGenOffs2012 <- AnnualRecsSamp %>%\n",
    "    filter(year==\"2012\")\n",
    "\n",
    "nrow(NGenOffs2012) #should be 9 sites sampled for 2012\n",
    "\n",
    "#***\n",
    "PropSamp2012 <- PropSamp %>%  #add in all sampled sites as possible parent sites\n",
    "                filter(end_year ==\"2012\" & PropSamp > 0) %>%\n",
    "                #rename(source=\"site\") %>%\n",
    "                select(-end_year, -PropSamp)\n",
    "\n",
    "PropSamp2012 <- PropSamp2012 %>%\n",
    "                rename(source=\"site\")\n",
    "\n",
    "\n",
    "SampledSites2012 <- inner_join(PropSamp2012 %>% select(source), AllSites, by=c(source=\"site\")) \n",
    "\n",
    "#check for correct number of rows\n",
    "nrow(SampledSites2012)==nrow(PropSamp2012) #should be true\n",
    "SampledSites2012Index <- t(as.matrix(SampledSites2012$index))\n",
    "ncol(SampledSites2012Index)\n",
    "\n",
    "Sampled_reefs2012 <- SampledSites2012Index\n",
    "\n",
    "#proportion sampled matrix for kernel fitting\n",
    "\n",
    "#for annual\n",
    "Adult_sample_proportions2012 <- PropSamp %>%  #add in all sampled sites as possible parent sites\n",
    "                filter(end_year ==\"2012\" & PropSamp > 0) \n",
    "\n",
    "Adult_sample_proportions2012 <- as.matrix(Adult_sample_proportions2012$PropSamp)\n",
    "nrow(Adult_sample_proportions2012) #should be 9 for 2012\n",
    "\n",
    "\n"
   ]
  },
  {
   "cell_type": "code",
   "execution_count": 18,
   "metadata": {},
   "outputs": [
    {
     "data": {
      "text/html": [
       "394"
      ],
      "text/latex": [
       "394"
      ],
      "text/markdown": [
       "394"
      ],
      "text/plain": [
       "[1] 394"
      ]
     },
     "metadata": {},
     "output_type": "display_data"
    }
   ],
   "source": [
    "#combine simulations\n",
    "SimulationAll <- bind_rows(Simulation2012, Simulation2013, Simulation2014)\n",
    "\n",
    "#make a DF of all of the sampled fish over 2012-2014\n",
    "AllYearsRecruits <- AnnualRecsSamp %>% distinct(site, .keep_all = T)\n",
    "sum(AllYearsRecruits$n_offs_gen_all_years) #should be 394 for 2012-2014"
   ]
  },
  {
   "cell_type": "code",
   "execution_count": 19,
   "metadata": {},
   "outputs": [],
   "source": [
    "#what if we account for post-settlement mortality?\n",
    "#make a df with weighted values for the days of the simluation oldest to most recent\n",
    "SimDates <- SimulationAll %>%\n",
    "    distinct(date) %>%\n",
    "    mutate(DateSeq=row_number()) %>% #assign row numbers, so more recent dates are higher than older\n",
    "    mutate(SurvivalWeightExp=exp(DateSeq)) %>% #apply the exponential function to get a survival column\n",
    "    mutate(SurvivalWeightExp=SurvivalWeightExp/max(SurvivalWeightExp))%>%#normalize as a survival \"probability\"\n",
    "    mutate(SurvivalWeightLin=(((0.25/2)/5)*DateSeq)) %>%#maybe a linear survival function (y=mx)is more appropriate (eyeball from Allison's Fig 3C because what the hell why not we're just thinking here)\n",
    "    mutate(SurvivalWeightLin=SurvivalWeightLin/(max(SurvivalWeightLin)*1.1)) #normalize as a survival \"probability\"\n",
    "\n",
    "SimulationAllSurv <- left_join(SimulationAll, SimDates, by=\"date\") "
   ]
  },
  {
   "cell_type": "code",
   "execution_count": 20,
   "metadata": {},
   "outputs": [
    {
     "data": {
      "text/html": [
       "34"
      ],
      "text/latex": [
       "34"
      ],
      "text/markdown": [
       "34"
      ],
      "text/plain": [
       "[1] 34"
      ]
     },
     "metadata": {},
     "output_type": "display_data"
    },
    {
     "data": {
      "text/html": [
       "TRUE"
      ],
      "text/latex": [
       "TRUE"
      ],
      "text/markdown": [
       "TRUE"
      ],
      "text/plain": [
       "[1] TRUE"
      ]
     },
     "metadata": {},
     "output_type": "display_data"
    },
    {
     "data": {
      "text/html": [
       "16"
      ],
      "text/latex": [
       "16"
      ],
      "text/markdown": [
       "16"
      ],
      "text/plain": [
       "[1] 16"
      ]
     },
     "metadata": {},
     "output_type": "display_data"
    },
    {
     "data": {
      "text/html": [
       "16"
      ],
      "text/latex": [
       "16"
      ],
      "text/markdown": [
       "16"
      ],
      "text/plain": [
       "[1] 16"
      ]
     },
     "metadata": {},
     "output_type": "display_data"
    }
   ],
   "source": [
    "#get together kernel fitting components for all years/seasonal\n",
    "\n",
    "#assemble all of the components for annual kernel fitting\n",
    "centroids <- read.csv(\"~/oceanography/empirical_data/site_centroids_simulation_kernels.csv\", header=TRUE)\n",
    "\n",
    "Area <- read.csv(\"~/oceanography/empirical_data/site_area_header_nonsurveyed_simulation_kernels.csv\", header=TRUE) %>%\n",
    "    arrange(site) %>%\n",
    "    filter(site %!in% c(\"near_north_full1\", \"near_north_full2\", \"near_north_full3\", \"near_south_full1\", \"near_south_full2\", \"near_south_full3\")) %>%\n",
    "    mutate(kmsq=msq*10^-6) %>%\n",
    "    select(kmsq)\n",
    "Reef_sizes <- as.matrix(Area)\n",
    "\n",
    "#give every site in the distance matrix of the simulation (even if we didn't sample there) an index number\n",
    "AllSites <- centroids %>%\n",
    "    select(site) %>%\n",
    "    arrange(site)\n",
    "nrow(AllSites) #should be 34x1\n",
    "AllSites$index <- seq(from=1, to=34, by=1)\n",
    "\n",
    "PropSampAll <- PropSamp %>%  #add in all sampled sites as possible parent sites\n",
    "            filter(end_year ==\"2014\" & PropSamp > 0) %>%\n",
    "            rename(source=\"site\") %>%\n",
    "            select(-end_year, -PropSamp)\n",
    "\n",
    "SampledSitesAll <- inner_join(PropSampAll %>% select(source), AllSites, by=c(source=\"site\")) \n",
    "\n",
    "#check for correct number of rows\n",
    "nrow(SampledSitesAll)==nrow(PropSampAll) #should be true\n",
    "SampledSitesAllIndex <- t(as.matrix(SampledSitesAll$index))\n",
    "ncol(SampledSitesAllIndex)\n",
    "\n",
    "Sampled_reefsAll <- SampledSitesAllIndex\n",
    "\n",
    "#proportion sampled matrix for kernel fitting\n",
    "\n",
    "Adult_sample_proportionsAll <- PropSamp %>%  #add in all sampled sites as possible parent sites\n",
    "                filter(end_year ==\"2014\" & PropSamp > 0) \n",
    "\n",
    "Adult_sample_proportionsAll <- as.matrix(Adult_sample_proportionsAll$PropSamp)\n",
    "nrow(Adult_sample_proportionsAll) \n",
    "\n",
    "#distance matrix using the centroids with combined Magbangon\n",
    "### List of source locations\n",
    "sites_source <- centroids\n",
    "\n",
    "### List of destination locations\n",
    "sites_dest <- centroids\n",
    "\n",
    "dist_mat_m <- distm(sites_source[,c('lon','lat')], sites_source[,c('lon','lat')], fun=distVincentyEllipsoid)\n",
    "Distances <- dist_mat_m*10^-3\n",
    "\n",
    "Centroids <- centroids %>%\n",
    "    select(-site)\n",
    "\n",
    "#for the all years sites sampled in the simulation, it's a total of 16. That's lower than the all year used in kernel fitting because we didn't sample Sitio Tugas or Gabas until after 2014. We also combined the Magbangons, so 19-16=3 accounted for"
   ]
  },
  {
   "cell_type": "code",
   "execution_count": 21,
   "metadata": {},
   "outputs": [
    {
     "name": "stdout",
     "output_type": "stream",
     "text": [
      "  |======================================================================| 100%\n"
     ]
    },
    {
     "data": {
      "text/plain": [
       "Time difference of 11.05399 hours"
      ]
     },
     "metadata": {},
     "output_type": "display_data"
    }
   ],
   "source": [
    "#All of the corresponding simulation years combined (2011-14)\n",
    "\n",
    "col <- c(\"year\", \"k\", \"theta\", \"mdd\", \"med\", \"dist90\", \"iteration\")\n",
    "SimulatedKernelsAll <- as.data.frame(matrix(nrow=0, ncol=7), stringsAsFactors = FALSE)\n",
    "colnames(SimulatedKernelsAll) <- col\n",
    "\n",
    "#don't print warnings for this loop, they are only for setting row names in a tibble which is depracated. But it works. \n",
    "options(warn=-1)\n",
    "\n",
    "pb <- txtProgressBar(min = 0, max = 1000, style = 3)#7 years in each interation\n",
    "\n",
    "StartTime <- Sys.time()\n",
    "\n",
    "\n",
    "for(n in 1:1000){\n",
    "        \n",
    "    #SAMPLE THE SIMULATION DATA, then fit a kernel\n",
    "    \n",
    "    SimulatedSamplingAll = SimulationAll[FALSE,]\n",
    "    \n",
    "    for(i in 1:nrow(AllYearsRecruits)){ \n",
    "        \n",
    "        destination_eval <- as.character(AllYearsRecruits$site[i]) #pick out a destination site\n",
    "        \n",
    "        SimSampDestination <- SimulationAllSurv %>%\n",
    "                                    filter(destination==destination_eval) %>%\n",
    "                                    sample_n(as.numeric(AllYearsRecruits$n_offs_gen_all_years[i]), weight=SurvivalWeightLin, replace=F) %>% #sample particles that landed at that destination, number corresponding to the actual number sampled at that site in this year\n",
    "                                    select(one_of(names(SimulationAll)))\n",
    "        \n",
    "        SimulatedSamplingAll <- bind_rows(SimulatedSamplingAll, SimSampDestination) #build into a sampled particle df\n",
    "    }\n",
    "\n",
    "    #assign a numeric ID for each row (which is a sampled particle)\n",
    "    SimulatedSamplingAll <- SimulatedSamplingAll %>%\n",
    "        mutate(ParticleSampID=paste (\"P\", row_number(), sep = \"\", collapse = NULL))\n",
    "    \n",
    "    #nrow(SimulatedSamplingAll)==sum(NGenOffsAll$n_offs_gen) #should be TRUE\n",
    "    \n",
    "    #now randomly assign parentage match status to some of these rows\n",
    "    NumPar <- as.numeric(kernels %>% #should be 37 for 2012-2014\n",
    "        filter(Year %in% c(\"2012\", \"2013\", \"2014\")) %>%\n",
    "        select(NumParentageMatches) %>%\n",
    "        summarise(NumParentageMatches=sum(NumParentageMatches)))\n",
    "    \n",
    "    SimulatedSamplingAllPar <- SimulatedSamplingAll %>%\n",
    "        ungroup() %>%\n",
    "        filter(source %in% NGenOffsAll$site) %>% #we can only assign parentage if we sampled the source site, we've already ensured that we sampled the destination site in the for loop by indexing destination sites to evaluate \n",
    "        sample_n(NumPar, replace=F) %>% #sample number of rows consitent with numbers of parentage matches\n",
    "        mutate(Parentage=1) #%>% #assign these rows a positive match value\n",
    "        #arrange(date, source, destination) %>%#arrange by the same order as the orginal df, then bind columns together to avoid unexpected repeats from a join\n",
    "        #select(date, source, destination, Parentage) #drop columns that will result in repeats \n",
    "    \n",
    "    #find the rows that haven't been assigned parentage\n",
    "    SimulatedSamplingAll_2 <- anti_join((SimulatedSamplingAll %>% ungroup()), SimulatedSamplingAllPar, by=c(\"ParticleSampID\")) \n",
    "    \n",
    "    SimulatedSamplingAll_2$Parentage <- 0 #add in the column for parentage\n",
    "    \n",
    "    #combine parentage and non-parentage dfs\n",
    "    SimulatedSamplingAllPar3 <- bind_rows(SimulatedSamplingAllPar, SimulatedSamplingAll_2) %>%\n",
    "        mutate(YearSampled=as.character(YearSampled))\n",
    "    \n",
    "    \n",
    "    #NOW FORMAT INTO PARENTAGE MATRIX\n",
    "    \n",
    "                PropSampAll <- PropSamp %>%  #add in all sampled sites as possible parent sites\n",
    "                            filter(end_year ==\"2014\" & PropSamp > 0) %>%\n",
    "                            #rename(source=\"site\") %>%\n",
    "                            select(-end_year, -PropSamp)\n",
    "\n",
    "                #PropSampAll$destination <- PropSampAll$source #make another column for destination\n",
    "                \n",
    "                #make a table with the total number of particles sampled at each site\n",
    "                TotalSimSamp <- SimulatedSamplingAllPar3 %>% \n",
    "                            select(source, destination) %>%\n",
    "                            group_by(destination) %>%\n",
    "                            summarise(NumSimSampRec=n()) %>%\n",
    "                            ungroup()\n",
    "               \n",
    "                \n",
    "                #add in all surveyed sites\n",
    "                TotalSimSamp2 <- left_join(PropSampAll, TotalSimSamp, by=c(site=\"destination\")) %>% #join sites to destination, which will add a row for the surveyed sites with no samples\n",
    "                    mutate(NumSimSampRec=ifelse(is.na(NumSimSampRec), 0, NumSimSampRec)) %>% #change the Na's that result to 0s, because we didn't get samples there\n",
    "                    rename(destination=\"site\")#rename sites to destination after joining\n",
    "                \n",
    "                \n",
    "                \n",
    "                #make a table with the total number of parentage matches found in the simulated loop\n",
    "                TotalSimPar <- SimulatedSamplingAllPar3 %>% \n",
    "                            select(source, destination, Parentage) %>%\n",
    "                            group_by(source,destination) %>%\n",
    "                            mutate(NumPar=sum(Parentage)) %>% #sum all the parentage observations along each ROUTE\n",
    "                            select(-Parentage) %>%\n",
    "                            ungroup() %>%\n",
    "                            distinct(source, destination, .keep_all = T)\n",
    "                \n",
    "                \n",
    "                #combine for a summary table BY DESTINATION, this below will be for UNASSIGNED ROWS\n",
    "                SimSampSummaryAll <- left_join(TotalSimSamp2, TotalSimPar, by=\"destination\") %>%\n",
    "                    distinct(source, destination, .keep_all = T) %>%\n",
    "                    group_by(destination) %>%\n",
    "                    mutate(NumPar=ifelse(is.na(NumPar), 0, NumPar)) %>% #change the Na's that result to 0s, because we didn't get samples there\n",
    "                    mutate(NumPar=sum(NumPar)) %>% #sum all the parentage observations at each DESTINATION\n",
    "                    distinct(destination, .keep_all = T) %>%\n",
    "                    select(-source) %>%\n",
    "                    mutate(NumUnassigned=NumSimSampRec-NumPar)\n",
    "                                \n",
    "                \n",
    "                #finally, join all of the sites surveyed for a complete parentage matrix\n",
    "                #for this, need to have a source/destination column for all sites\n",
    "                PropSampAll <- PropSampAll %>%\n",
    "                                rename(source=\"site\")\n",
    "                \n",
    "                PropSampAll$destination <- PropSampAll$source #make another column for destination\n",
    "                \n",
    "                #this below will become parentage matrix! \n",
    "                TotalSimPar2 <- full_join(TotalSimPar,PropSampAll, by=c(\"source\", \"destination\")) %>%\n",
    "                    mutate(NumPar=ifelse(is.na(NumPar), 0, NumPar))\n",
    "        \n",
    "                \n",
    "                #spread into matrix format\n",
    "                SimDispMat <- TotalSimPar2 %>%\n",
    "                    filter(source %in% NGenOffsAll$site) %>%\n",
    "                    arrange(source, destination)  %>%\n",
    "                    spread(destination, NumPar) %>%\n",
    "                    select(-source)\n",
    "                SimDispMat[is.na(SimDispMat)] <- 0\n",
    "                \n",
    "                #add in unassigned row\n",
    "                unassigned <- t(as.matrix(SimSampSummaryAll %>% arrange(destination) %>% ungroup() %>% select(NumUnassigned)))\n",
    "                rownames(unassigned)<-NULL\n",
    "                colnames(unassigned)<-names(SimDispMat)\n",
    "                \n",
    "                SimDispMatFullAll <- rbind(SimDispMat, unassigned)\n",
    "                colnames(SimDispMatFullAll) <- NULL\n",
    "\n",
    "        #The full remade parentage matrix\n",
    "        AssignmentsAll <- SimDispMatFullAll\n",
    "    \n",
    "    #NOW FIT THE KERNEL\n",
    "\n",
    "\n",
    "x <- list(Distances=Distances, Assignments=AssignmentsAll, Sampled_reefs=Sampled_reefsAll, Reef_sizes=Reef_sizes, Adult_sample_proportions=Adult_sample_proportionsAll) #put inputs into a list because that's the bbmle format\n",
    "\n",
    "SimAllFit <- suppressWarnings(mle2(LL_kt_bbmle, start=list(k=-3, theta=1), lower=c(-10, 0.15), upper=c(10, 8), method=\"L-BFGS-B\", data=x, control=list(maxit=500)))\n",
    "\n",
    "BestKAll <- as.numeric(coef(SimAllFit)[1])\n",
    "BestThetaAll <- as.numeric(coef(SimAllFit)[2])\n",
    "MDDAll <- as.numeric(cubintegrate(integrate_kernel_sum1, lower = 0, upper = Inf, k=BestKAll, theta=BestThetaAll, , method = \"pcubature\")$integral)\n",
    "k_eval <- BestKAll\n",
    "theta_eval <- BestThetaAll\n",
    "MedAll  <- round(nleqslv(x = 7, fn = cdf_solve)$x, 2) \n",
    "Dist90_All <- round(nleqslv(x = 7, fn = cdf_solve90)$x, 2)\n",
    "    \n",
    "    #store the info in this df\n",
    "    SimulatedKernelsAll_beta <- as.data.frame(matrix(nrow=1, ncol=7), stringsAsFactors = FALSE)\n",
    "    colnames(SimulatedKernelsAll_beta) <- col\n",
    "    \n",
    "    SimulatedKernelsAll_beta$year <- NA\n",
    "    SimulatedKernelsAll_beta$k <- BestKAll\n",
    "    SimulatedKernelsAll_beta$theta <- BestThetaAll\n",
    "    SimulatedKernelsAll_beta$med <- MedAll\n",
    "    SimulatedKernelsAll_beta$mdd <- MDDAll\n",
    "    SimulatedKernelsAll_beta$dist90 <- Dist90_All\n",
    "    SimulatedKernelsAll_beta$iteration <- n\n",
    "    \n",
    "    \n",
    "#join results into larger df\n",
    "SimulatedKernelsAll <- bind_rows(SimulatedKernelsAll, SimulatedKernelsAll_beta)\n",
    "    \n",
    "setTxtProgressBar(pb, n)\n",
    "\n",
    "\n",
    "}\n",
    "close(pb)\n",
    "EndTime <- Sys.time()\n",
    "EndTime-StartTime\n",
    "options(warn=0) #turn warnings back on\n",
    "\n",
    "\n",
    "write.csv(SimulatedKernelsAll, file=\"~/oceanography/script_output/KernelFits/Adjust_Survival_NoRecentRecruits/1000SimulatedKernelsAllSurvNoRecentRec.csv\", row.names=F)"
   ]
  },
  {
   "cell_type": "markdown",
   "metadata": {},
   "source": [
    "__Seasonal kernel fits__"
   ]
  },
  {
   "cell_type": "code",
   "execution_count": 22,
   "metadata": {},
   "outputs": [],
   "source": [
    "SimulationSWM <- SimulationAllSurv %>% \n",
    "    filter(SimMonsoon==\"SWM\")\n",
    "SimulationNEM <- SimulationAllSurv %>%\n",
    "    filter(SimMonsoon==\"NEM\")"
   ]
  },
  {
   "cell_type": "code",
   "execution_count": 23,
   "metadata": {},
   "outputs": [
    {
     "name": "stdout",
     "output_type": "stream",
     "text": [
      "\r",
      "  |                                                                            \r",
      "  |                                                                      |   0%"
     ]
    },
    {
     "ename": "ERROR",
     "evalue": "Error: `size` must be less or equal than 21 (size of data), set `replace` = TRUE to use sampling with replacement.\n",
     "output_type": "error",
     "traceback": [
      "Error: `size` must be less or equal than 21 (size of data), set `replace` = TRUE to use sampling with replacement.\nTraceback:\n",
      "1. SimulatedSamplingSWM %>% ungroup() %>% filter(source %in% AllYearsRecruits$site) %>% \n .     sample_n(NumPar, replace = F) %>% mutate(Parentage = 1)",
      "2. withVisible(eval(quote(`_fseq`(`_lhs`)), env, env))",
      "3. eval(quote(`_fseq`(`_lhs`)), env, env)",
      "4. eval(quote(`_fseq`(`_lhs`)), env, env)",
      "5. `_fseq`(`_lhs`)",
      "6. freduce(value, `_function_list`)",
      "7. function_list[[i]](value)",
      "8. sample_n(., NumPar, replace = F)",
      "9. sample_n.data.frame(., NumPar, replace = F)",
      "10. slice(tbl, sample.int(n(), check_size(!!size, n(), replace = replace), \n  .     replace = replace, prob = !!weight))",
      "11. slice.data.frame(tbl, sample.int(n(), check_size(!!size, n(), \n  .     replace = replace), replace = replace, prob = !!weight))",
      "12. slice_rows(.data, ...)",
      "13. mask$eval_all(quo)",
      "14. ~sample.int(n(), check_size(~NumPar, n(), replace = replace), \n  .     replace = replace, prob = ~NULL)",
      "15. sample.int(n(), check_size(~NumPar, n(), replace = replace), \n  .     replace = replace, prob = ~NULL)",
      "16. check_size(~NumPar, n(), replace = replace)",
      "17. bad_args(\"size\", \"must be less or equal than {n} (size of data), \", \n  .     \"set `replace` = TRUE to use sampling with replacement.\")",
      "18. glubort(fmt_args(args), ..., .envir = .envir)",
      "19. .abort(text)",
      "20. signal_abort(cnd)"
     ]
    }
   ],
   "source": [
    "#SWM of the corresponding simulation years combined (2011-SWM)\n",
    "\n",
    "col <- c(\"season\", \"k\", \"theta\", \"mdd\", \"med\", \"dist90\", \"iteration\")\n",
    "SimulatedKernelsSWM <- as.data.frame(matrix(nrow=0, ncol=7), stringsAsFactors = FALSE)\n",
    "colnames(SimulatedKernelsSWM) <- col\n",
    "\n",
    "#don't print warnings for this loop, they are only for setting row names in a tibble which is depracated. But it works. \n",
    "options(warn=-1)\n",
    "\n",
    "pb <- txtProgressBar(min = 0, max = 1000, style = 3)\n",
    "\n",
    "StartTime <- Sys.time()\n",
    "\n",
    "\n",
    "for(n in 1:1000){\n",
    "        \n",
    "    #SAMPLE THE SIMULATION DATA, then fit a kernel\n",
    "    \n",
    "    SimulatedSamplingSWM = SimulationSWM[FALSE,]\n",
    "    \n",
    "    \n",
    "    for(i in 1:nrow(AllYearsRecruits)){ \n",
    "        \n",
    "        destination_eval <- as.character(AllYearsRecruits$site[i]) #pick out a destination site\n",
    "        \n",
    "        SimSampDestination <- SimulationSWM %>%\n",
    "                                    filter(destination==destination_eval) %>%\n",
    "                                    sample_n(as.numeric(AllYearsRecruits$n_offs_gen_all_years[i]), weight=SurvivalWeightLin, replace=F) %>% #sample particles that landed at that destination, number corresponding to the actual number sampled at that site in this year\n",
    "                                    select(one_of(names(SimulationAll)))\n",
    "        \n",
    "        SimulatedSamplingSWM <- bind_rows(SimulatedSamplingSWM, SimSampDestination) #build into a sampled particle df\n",
    "    }\n",
    "\n",
    "    #assign a numeric ID for each row (which is a sampled particle)\n",
    "    SimulatedSamplingSWM <- SimulatedSamplingSWM %>%\n",
    "        mutate(ParticleSampID=paste (\"P\", row_number(), sep = \"\", collapse = NULL))\n",
    "    \n",
    "    #nrow(SimulatedSamplingSWM)==sum(NGenOffsSWM$n_offs_gen) #should be TRUE\n",
    "    \n",
    "   #now randomly assign parentage match status to some of these rows\n",
    "    NumPar <- as.numeric(kernels %>% #should be 37 for 2012-2014\n",
    "        filter(Year %in% c(\"2012\", \"2013\", \"2014\")) %>%\n",
    "        select(NumParentageMatches) %>%\n",
    "        summarise(NumParentageMatches=sum(NumParentageMatches)))\n",
    "    \n",
    "    SimulatedSamplingSWMPar <- SimulatedSamplingSWM %>%\n",
    "        ungroup() %>%\n",
    "        filter(source %in% AllYearsRecruits$site) %>% #we can only assign parentage if we sampled the source site, we've already ensured that we sampled the destination site in the for loop by indexing destination sites to evaluate \n",
    "        sample_n(NumPar, replace=F) %>% #sample number of rows consitent with numbers of parentage matches\n",
    "        mutate(Parentage=1) #%>% #assign these rows a positive match value\n",
    "        #arrange(date, source, destination) %>%#arrange by the same order as the orginal df, then bind columns together to avoid unexpected repeats from a join\n",
    "        #select(date, source, destination, Parentage) #drop columns that will result in repeats \n",
    "    \n",
    "    #find the rows that haven't been assigned parentage\n",
    "    SimulatedSamplingSWM_2 <- anti_join((SimulatedSamplingSWM %>% ungroup()), SimulatedSamplingSWMPar, by=c(\"ParticleSampID\")) \n",
    "    \n",
    "    SimulatedSamplingSWM_2$Parentage <- 0 #add in the column for parentage\n",
    "    \n",
    "    #combine parentage and non-parentage dfs\n",
    "    SimulatedSamplingSWMPar3 <- bind_rows(SimulatedSamplingSWMPar, SimulatedSamplingSWM_2) %>%\n",
    "        mutate(YearSampled=as.character(YearSampled))\n",
    "    \n",
    "    \n",
    "    #NOW FORMAT INTO PARENTAGE MATRIX\n",
    "    \n",
    "                PropSampSWM <- PropSamp %>%  #add in SWM sampled sites as possible parent sites\n",
    "                            filter(end_year ==\"2014\" & PropSamp > 0) %>%\n",
    "                            #rename(source=\"site\") %>%\n",
    "                            select(-end_year, -PropSamp)\n",
    "\n",
    "                #PropSampSWM$destination <- PropSampSWM$source #make another column for destination\n",
    "                \n",
    "                #make a table with the total number of particles sampled at each site\n",
    "                TotalSimSamp <- SimulatedSamplingSWMPar3 %>% \n",
    "                            select(source, destination) %>%\n",
    "                            group_by(destination) %>%\n",
    "                            summarise(NumSimSampRec=n()) %>%\n",
    "                            ungroup()\n",
    "               \n",
    "                \n",
    "                #add in SWM surveyed sites\n",
    "                TotalSimSamp2 <- left_join(PropSampSWM, TotalSimSamp, by=c(site=\"destination\")) %>% #join sites to destination, which will add a row for the surveyed sites with no samples\n",
    "                    mutate(NumSimSampRec=ifelse(is.na(NumSimSampRec), 0, NumSimSampRec)) %>% #change the Na's that result to 0s, because we didn't get samples there\n",
    "                    rename(destination=\"site\")#rename sites to destination after joining\n",
    "                \n",
    "                \n",
    "                \n",
    "                #make a table with the total number of parentage matches found in the simulated loop\n",
    "                TotalSimPar <- SimulatedSamplingSWMPar3 %>% \n",
    "                            select(source, destination, Parentage) %>%\n",
    "                            group_by(source,destination) %>%\n",
    "                            mutate(NumPar=sum(Parentage)) %>% #sum SWM the parentage observations along each ROUTE\n",
    "                            select(-Parentage) %>%\n",
    "                            ungroup() %>%\n",
    "                            distinct(source, destination, .keep_all = T)\n",
    "                \n",
    "                \n",
    "                #combine for a summary table BY DESTINATION, this below will be for UNASSIGNED ROWS\n",
    "                SimSampSummarySWM <- left_join(TotalSimSamp2, TotalSimPar, by=\"destination\") %>%\n",
    "                    distinct(source, destination, .keep_all = T) %>%\n",
    "                    group_by(destination) %>%\n",
    "                    mutate(NumPar=ifelse(is.na(NumPar), 0, NumPar)) %>% #change the Na's that result to 0s, because we didn't get samples there\n",
    "                    mutate(NumPar=sum(NumPar)) %>% #sum SWM the parentage observations at each DESTINATION\n",
    "                    distinct(destination, .keep_all = T) %>%\n",
    "                    select(-source) %>%\n",
    "                    mutate(NumUnassigned=NumSimSampRec-NumPar)\n",
    "                                \n",
    "                \n",
    "                #finSWMy, join SWM of the sites surveyed for a complete parentage matrix\n",
    "                #for this, need to have a source/destination column for SWM sites\n",
    "                PropSampSWM <- PropSampSWM %>%\n",
    "                                rename(source=\"site\")\n",
    "                \n",
    "                PropSampSWM$destination <- PropSampSWM$source #make another column for destination\n",
    "                \n",
    "                #this below will become parentage matrix! \n",
    "                TotalSimPar2 <- full_join(TotalSimPar,PropSampSWM, by=c(\"source\", \"destination\")) %>%\n",
    "                    mutate(NumPar=ifelse(is.na(NumPar), 0, NumPar))\n",
    "        \n",
    "                \n",
    "                #spread into matrix format\n",
    "                SimDispMat <- TotalSimPar2 %>%\n",
    "                    filter(source %in% AllYearsRecruits$site) %>%\n",
    "                    arrange(source, destination)  %>%\n",
    "                    spread(destination, NumPar) %>%\n",
    "                    select(-source)\n",
    "                SimDispMat[is.na(SimDispMat)] <- 0\n",
    "                \n",
    "                #add in unassigned row\n",
    "                unassigned <- t(as.matrix(SimSampSummarySWM %>% arrange(destination) %>% ungroup() %>% select(NumUnassigned)))\n",
    "                rownames(unassigned)<-NULL\n",
    "                colnames(unassigned)<-names(SimDispMat)\n",
    "                \n",
    "                SimDispMatFullSWM <- rbind(SimDispMat, unassigned)\n",
    "                colnames(SimDispMatFullSWM) <- NULL\n",
    "\n",
    "        #The full remade parentage matrix\n",
    "        AssignmentsSWM <- SimDispMatFullSWM\n",
    "    \n",
    "    #NOW FIT THE KERNEL\n",
    "\n",
    "\n",
    "x <- list(Distances=Distances, Assignments=AssignmentsSWM, Sampled_reefs=Sampled_reefsAll, Reef_sizes=Reef_sizes, Adult_sample_proportions=Adult_sample_proportionsAll) #put inputs into a list because that's the bbmle format\n",
    "\n",
    "SimSWMFit <- suppressWarnings(mle2(LL_kt_bbmle, start=list(k=-3, theta=1), lower=c(-10, 0.15), upper=c(10, 8), method=\"L-BFGS-B\", data=x, control=list(maxit=500)))\n",
    "\n",
    "BestKSWM <- as.numeric(coef(SimSWMFit)[1])\n",
    "BestThetaSWM <- as.numeric(coef(SimSWMFit)[2])\n",
    "MDDSWM <- as.numeric(cubintegrate(integrate_kernel_sum1, lower = 0, upper = Inf, k=BestKSWM, theta=BestThetaSWM, , method = \"pcubature\")$integral)\n",
    "k_eval <- BestKSWM\n",
    "theta_eval <- BestThetaSWM\n",
    "MedSWM  <- round(nleqslv(x = 7, fn = cdf_solve)$x, 2) \n",
    "Dist90_SWM <- round(nleqslv(x = 7, fn = cdf_solve90)$x, 2)\n",
    "    \n",
    "    #store the info in this df\n",
    "    SimulatedKernelsSWM_beta <- as.data.frame(matrix(nrow=1, ncol=7), stringsAsFactors = FALSE)\n",
    "    colnames(SimulatedKernelsSWM_beta) <- col\n",
    "    \n",
    "    SimulatedKernelsSWM_beta$season <- NA\n",
    "    SimulatedKernelsSWM_beta$k <- BestKSWM\n",
    "    SimulatedKernelsSWM_beta$theta <- BestThetaSWM\n",
    "    SimulatedKernelsSWM_beta$med <- MedSWM\n",
    "    SimulatedKernelsSWM_beta$mdd <- MDDSWM\n",
    "    SimulatedKernelsSWM_beta$dist90 <- Dist90_SWM\n",
    "    SimulatedKernelsSWM_beta$iteration <- n\n",
    "\n",
    "    \n",
    "#join results into larger df\n",
    "SimulatedKernelsSWM <- bind_rows(SimulatedKernelsSWM, SimulatedKernelsSWM_beta) %>%\n",
    "    mutate(season=\"SWM\")\n",
    "    \n",
    "setTxtProgressBar(pb, n)\n",
    "\n",
    "\n",
    "}\n",
    "close(pb)\n",
    "EndTime <- Sys.time()\n",
    "EndTime-StartTime\n",
    "options(warn=0) #turn warnings back on\n",
    "\n",
    "\n",
    "write.csv(SimulatedKernelsSWM, file=\"~/oceanography/script_output/KernelFits/Adjust_Survival_NoRecentRecruits/1000SimulatedKernelsSWMSurvNoRecentRec.csv\", row.names=F)"
   ]
  },
  {
   "cell_type": "code",
   "execution_count": null,
   "metadata": {},
   "outputs": [
    {
     "name": "stdout",
     "output_type": "stream",
     "text": [
      "  |==========================                                            |  37%"
     ]
    }
   ],
   "source": [
    "#NEM of the corresponding simulation years combined (2011-NEM)\n",
    "\n",
    "col <- c(\"season\", \"k\", \"theta\", \"mdd\", \"med\", \"dist90\", \"iteration\")\n",
    "SimulatedKernelsNEM <- as.data.frame(matrix(nrow=0, ncol=7), stringsAsFactors = FALSE)\n",
    "colnames(SimulatedKernelsNEM) <- col\n",
    "\n",
    "#don't print warnings for this loop, they are only for setting row names in a tibble which is depracated. But it works. \n",
    "options(warn=-1)\n",
    "\n",
    "pb <- txtProgressBar(min = 0, max = 1000, style = 3)\n",
    "\n",
    "StartTime <- Sys.time()\n",
    "\n",
    "\n",
    "for(n in 1:1000){\n",
    "        \n",
    "    #SAMPLE THE SIMULATION DATA, then fit a kernel\n",
    "    \n",
    "    SimulatedSamplingNEM = SimulationNEM[FALSE,]\n",
    "    \n",
    "    \n",
    "    for(i in 1:nrow(AllYearsRecruits)){ \n",
    "        \n",
    "        destination_eval <- as.character(AllYearsRecruits$site[i]) #pick out a destination site\n",
    "        \n",
    "        SimSampDestination <- SimulationNEM %>%\n",
    "                                    filter(destination==destination_eval) %>%\n",
    "                                    sample_n(as.numeric(AllYearsRecruits$n_offs_gen_all_years[i]), weight=SurvivalWeightLin, replace=F) %>% #sample particles that landed at that destination, number corresponding to the actual number sampled at that site in this year\n",
    "                                    select(one_of(names(SimulationAll)))\n",
    "        \n",
    "        SimulatedSamplingNEM <- bind_rows(SimulatedSamplingNEM, SimSampDestination) #build into a sampled particle df\n",
    "    }\n",
    "\n",
    "    #assign a numeric ID for each row (which is a sampled particle)\n",
    "    SimulatedSamplingNEM <- SimulatedSamplingNEM %>%\n",
    "        mutate(ParticleSampID=paste (\"P\", row_number(), sep = \"\", collapse = NULL))\n",
    "    \n",
    "    #nrow(SimulatedSamplingNEM)==sum(NGenOffsNEM$n_offs_gen) #should be TRUE\n",
    "    \n",
    "   #now randomly assign parentage match status to some of these rows\n",
    "    NumPar <- as.numeric(kernels %>% #should be 37 for 2012-2014\n",
    "        filter(Year %in% c(\"2012\", \"2013\", \"2014\")) %>%\n",
    "        select(NumParentageMatches) %>%\n",
    "        summarise(NumParentageMatches=sum(NumParentageMatches)))\n",
    "    \n",
    "    SimulatedSamplingNEMPar <- SimulatedSamplingNEM %>%\n",
    "        ungroup() %>%\n",
    "        filter(source %in% AllYearsRecruits$site) %>% #we can only assign parentage if we sampled the source site, we've already ensured that we sampled the destination site in the for loop by indexing destination sites to evaluate \n",
    "        sample_n(NumPar, replace=F) %>% #sample number of rows consitent with numbers of parentage matches\n",
    "        mutate(Parentage=1) #%>% #assign these rows a positive match value\n",
    "        #arrange(date, source, destination) %>%#arrange by the same order as the orginal df, then bind columns together to avoid unexpected repeats from a join\n",
    "        #select(date, source, destination, Parentage) #drop columns that will result in repeats \n",
    "    \n",
    "    #find the rows that haven't been assigned parentage\n",
    "    SimulatedSamplingNEM_2 <- anti_join((SimulatedSamplingNEM %>% ungroup()), SimulatedSamplingNEMPar, by=c(\"ParticleSampID\")) \n",
    "    \n",
    "    SimulatedSamplingNEM_2$Parentage <- 0 #add in the column for parentage\n",
    "    \n",
    "    #combine parentage and non-parentage dfs\n",
    "    SimulatedSamplingNEMPar3 <- bind_rows(SimulatedSamplingNEMPar, SimulatedSamplingNEM_2) %>%\n",
    "        mutate(YearSampled=as.character(YearSampled))\n",
    "    \n",
    "    \n",
    "    #NOW FORMAT INTO PARENTAGE MATRIX\n",
    "    \n",
    "                PropSampNEM <- PropSamp %>%  #add in NEM sampled sites as possible parent sites\n",
    "                            filter(end_year ==\"2014\" & PropSamp > 0) %>%\n",
    "                            #rename(source=\"site\") %>%\n",
    "                            select(-end_year, -PropSamp)\n",
    "\n",
    "                #PropSampNEM$destination <- PropSampNEM$source #make another column for destination\n",
    "                \n",
    "                #make a table with the total number of particles sampled at each site\n",
    "                TotalSimSamp <- SimulatedSamplingNEMPar3 %>% \n",
    "                            select(source, destination) %>%\n",
    "                            group_by(destination) %>%\n",
    "                            summarise(NumSimSampRec=n()) %>%\n",
    "                            ungroup()\n",
    "               \n",
    "                \n",
    "                #add in NEM surveyed sites\n",
    "                TotalSimSamp2 <- left_join(PropSampNEM, TotalSimSamp, by=c(site=\"destination\")) %>% #join sites to destination, which will add a row for the surveyed sites with no samples\n",
    "                    mutate(NumSimSampRec=ifelse(is.na(NumSimSampRec), 0, NumSimSampRec)) %>% #change the Na's that result to 0s, because we didn't get samples there\n",
    "                    rename(destination=\"site\")#rename sites to destination after joining\n",
    "                \n",
    "                \n",
    "                \n",
    "                #make a table with the total number of parentage matches found in the simulated loop\n",
    "                TotalSimPar <- SimulatedSamplingNEMPar3 %>% \n",
    "                            select(source, destination, Parentage) %>%\n",
    "                            group_by(source,destination) %>%\n",
    "                            mutate(NumPar=sum(Parentage)) %>% #sum NEM the parentage observations along each ROUTE\n",
    "                            select(-Parentage) %>%\n",
    "                            ungroup() %>%\n",
    "                            distinct(source, destination, .keep_all = T)\n",
    "                \n",
    "                \n",
    "                #combine for a summary table BY DESTINATION, this below will be for UNASSIGNED ROWS\n",
    "                SimSampSummaryNEM <- left_join(TotalSimSamp2, TotalSimPar, by=\"destination\") %>%\n",
    "                    distinct(source, destination, .keep_all = T) %>%\n",
    "                    group_by(destination) %>%\n",
    "                    mutate(NumPar=ifelse(is.na(NumPar), 0, NumPar)) %>% #change the Na's that result to 0s, because we didn't get samples there\n",
    "                    mutate(NumPar=sum(NumPar)) %>% #sum NEM the parentage observations at each DESTINATION\n",
    "                    distinct(destination, .keep_all = T) %>%\n",
    "                    select(-source) %>%\n",
    "                    mutate(NumUnassigned=NumSimSampRec-NumPar)\n",
    "                                \n",
    "                \n",
    "                #finNEMy, join NEM of the sites surveyed for a complete parentage matrix\n",
    "                #for this, need to have a source/destination column for NEM sites\n",
    "                PropSampNEM <- PropSampNEM %>%\n",
    "                                rename(source=\"site\")\n",
    "                \n",
    "                PropSampNEM$destination <- PropSampNEM$source #make another column for destination\n",
    "                \n",
    "                #this below will become parentage matrix! \n",
    "                TotalSimPar2 <- full_join(TotalSimPar,PropSampNEM, by=c(\"source\", \"destination\")) %>%\n",
    "                    mutate(NumPar=ifelse(is.na(NumPar), 0, NumPar))\n",
    "        \n",
    "                \n",
    "                #spread into matrix format\n",
    "                SimDispMat <- TotalSimPar2 %>%\n",
    "                    filter(source %in% AllYearsRecruits$site) %>%\n",
    "                    arrange(source, destination)  %>%\n",
    "                    spread(destination, NumPar) %>%\n",
    "                    select(-source)\n",
    "                SimDispMat[is.na(SimDispMat)] <- 0\n",
    "                \n",
    "                #add in unassigned row\n",
    "                unassigned <- t(as.matrix(SimSampSummaryNEM %>% arrange(destination) %>% ungroup() %>% select(NumUnassigned)))\n",
    "                rownames(unassigned)<-NULL\n",
    "                colnames(unassigned)<-names(SimDispMat)\n",
    "                \n",
    "                SimDispMatFullNEM <- rbind(SimDispMat, unassigned)\n",
    "                colnames(SimDispMatFullNEM) <- NULL\n",
    "\n",
    "        #The full remade parentage matrix\n",
    "        AssignmentsNEM <- SimDispMatFullNEM\n",
    "    \n",
    "    #NOW FIT THE KERNEL\n",
    "\n",
    "\n",
    "x <- list(Distances=Distances, Assignments=AssignmentsNEM, Sampled_reefs=Sampled_reefsAll, Reef_sizes=Reef_sizes, Adult_sample_proportions=Adult_sample_proportionsAll) #put inputs into a list because that's the bbmle format\n",
    "\n",
    "SimNEMFit <- suppressWarnings(mle2(LL_kt_bbmle, start=list(k=-3, theta=1), lower=c(-10, 0.15), upper=c(10, 8), method=\"L-BFGS-B\", data=x, control=list(maxit=500)))\n",
    "\n",
    "BestKNEM <- as.numeric(coef(SimNEMFit)[1])\n",
    "BestThetaNEM <- as.numeric(coef(SimNEMFit)[2])\n",
    "MDDNEM <- as.numeric(cubintegrate(integrate_kernel_sum1, lower = 0, upper = Inf, k=BestKNEM, theta=BestThetaNEM, , method = \"pcubature\")$integral)\n",
    "k_eval <- BestKNEM\n",
    "theta_eval <- BestThetaNEM\n",
    "MedNEM  <- round(nleqslv(x = 7, fn = cdf_solve)$x, 2) \n",
    "Dist90_NEM <- round(nleqslv(x = 7, fn = cdf_solve90)$x, 2)\n",
    "    \n",
    "    #store the info in this df\n",
    "    SimulatedKernelsNEM_beta <- as.data.frame(matrix(nrow=1, ncol=7), stringsAsFactors = FALSE)\n",
    "    colnames(SimulatedKernelsNEM_beta) <- col\n",
    "    \n",
    "    SimulatedKernelsNEM_beta$season <- NA\n",
    "    SimulatedKernelsNEM_beta$k <- BestKNEM\n",
    "    SimulatedKernelsNEM_beta$theta <- BestThetaNEM\n",
    "    SimulatedKernelsNEM_beta$med <- MedNEM\n",
    "    SimulatedKernelsNEM_beta$mdd <- MDDNEM\n",
    "    SimulatedKernelsNEM_beta$dist90 <- Dist90_NEM\n",
    "    SimulatedKernelsNEM_beta$iteration <- n\n",
    "\n",
    "    \n",
    "#join results into larger df\n",
    "SimulatedKernelsNEM <- bind_rows(SimulatedKernelsNEM, SimulatedKernelsNEM_beta) %>%\n",
    "    mutate(season=\"NEM\")\n",
    "    \n",
    "setTxtProgressBar(pb, n)\n",
    "\n",
    "\n",
    "}\n",
    "close(pb)\n",
    "EndTime <- Sys.time()\n",
    "EndTime-StartTime\n",
    "options(warn=0) #turn warnings back on\n",
    "\n",
    "\n",
    "write.csv(SimulatedKernelsNEM, file=\"~/oceanography/script_output/KernelFits/Adjust_Survival_NoRecentRecruits/1000SimulatedKernelsNEMSurvNoRecentRec.csv\", row.names=F)"
   ]
  },
  {
   "cell_type": "code",
   "execution_count": 16,
   "metadata": {},
   "outputs": [
    {
     "ename": "ERROR",
     "evalue": "Error in head(SimulatedKernels2012): object 'SimulatedKernels2012' not found\n",
     "output_type": "error",
     "traceback": [
      "Error in head(SimulatedKernels2012): object 'SimulatedKernels2012' not found\nTraceback:\n",
      "1. head(SimulatedKernels2012)"
     ]
    }
   ],
   "source": [
    "head(SimulatedKernels2012)\n",
    "head(SimulatedKernels2013)\n",
    "head(SimulatedKernels2014)\n",
    "head(SimulatedKernelsAll)\n",
    "head(SimulatedKernelsNEM)\n",
    "head(SimulatedKernelsSWM)"
   ]
  },
  {
   "cell_type": "code",
   "execution_count": null,
   "metadata": {},
   "outputs": [],
   "source": []
  },
  {
   "cell_type": "code",
   "execution_count": null,
   "metadata": {},
   "outputs": [],
   "source": []
  },
  {
   "cell_type": "code",
   "execution_count": null,
   "metadata": {},
   "outputs": [],
   "source": []
  },
  {
   "cell_type": "code",
   "execution_count": null,
   "metadata": {},
   "outputs": [],
   "source": []
  },
  {
   "cell_type": "code",
   "execution_count": null,
   "metadata": {},
   "outputs": [],
   "source": []
  },
  {
   "cell_type": "code",
   "execution_count": null,
   "metadata": {},
   "outputs": [],
   "source": []
  }
 ],
 "metadata": {
  "kernelspec": {
   "display_name": "R",
   "language": "R",
   "name": "ir"
  },
  "language_info": {
   "codemirror_mode": "r",
   "file_extension": ".r",
   "mimetype": "text/x-r-source",
   "name": "R",
   "pygments_lexer": "r",
   "version": "3.6.1"
  }
 },
 "nbformat": 4,
 "nbformat_minor": 4
}
