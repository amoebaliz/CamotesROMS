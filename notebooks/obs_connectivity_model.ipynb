{
 "cells": [
  {
   "cell_type": "code",
   "execution_count": 32,
   "metadata": {},
   "outputs": [],
   "source": [
    "#load packages\n",
    "#.libPaths(\"/local/home/katrinac/miniconda3/envs/r4.0/lib/R/library\") #rgdal won't work with the older version of R, so specify libpaths to the more current R version \n",
    "Packages <- c(\"tidyr\", \"dplyr\", \"data.table\", \"lubridate\", \"broom\")\n",
    "invisible(suppressPackageStartupMessages(lapply(Packages, library, character.only = TRUE)))\n",
    "\n",
    "#define functions\n",
    "\"%!in%\" <- function(x,table) match(x,table, nomatch = 0) == 0\n",
    "\n",
    "#read in data\n",
    "SimConnMeta <- fread(file=\"~/oceanography/script_output/ROMSDataTables/SimConnectivityTableWithMeta.csv\") #this is all of the simulated data plus the meta data for each site\n",
    "#GenSimConn <- fread(file=\"~/oceanography/script_output/ROMSDataTables/GenSimConnectivityFullTable.csv\")[, -\"AnnRecPart\"] #this is the simulated data AND the observations of parentage matches and other field surveying data\n",
    "#rename the data.table so that columns names are clear and verbose!\n",
    "#setnames(GenSimConn, c(\"SourceSampled\", \"DestSampled\", \"SimMonth\", \"SimDay\", \"SimYear\", \"YearSampled\", \"SimMonsoon\", \"DailyParticles\", \"ParticlesReleasedDaily\", \"SourcePropSamp\", \"DestPropSamp\"), c(\"source_sampled\", \"dest_sampled\", \"sim_month\", \"sim_day\", \"sim_year\", \"year_sampled\", \"sim_monsoon\", \"daily_particles_recruited\", \"daily_particles_released\", \"source_prop_samp\", \"dest_prop_samp\") )\n",
    "\n",
    "#read in the discretized dispersal kernel connectivity matrices from the genetics\n",
    "#GenConnMat <- fread(file=\"~/DispersalVariation/data/script_output/final_results/dispersal_route_correlation/KernelConnMatrices.csv\")[, -c(\"prob_disp15\", \"prob_disp16\", \"prob_disp17\", \"prob_disp18\")] #drop the years not coinciding with model  ]\n",
    "#setnames(GenConnMat, c(\"org_site\", \"dest_site\", \"prob_disp12\", \"prob_disp13\", \"prob_disp14\"), c(\"source\", \"destination\", \"2012\", \"2013\", \"2014\"))\n",
    "\n",
    "#read in environmental data\n",
    "ENSO<- fread(\"~/oceanography/empirical_data/environment/enso/meiv2.csv\")\n",
    "#reformat to match month ID in ROMs data. MEI has overlapping 2 month seasons\n",
    "setnames(ENSO, c(\"YEAR\",\"DJ\", \"JF\", \"FM\", \"MA\", \"AM\", \"MJ\", \"JJ\", \"JA\", \"AS\", \"SO\", \"ON\", \"ND\"), c(\"year\",\"12,1\", \"1,2\", \"2,3\", \"3,4\", \"4,5\", \"5,6\", \"6,7\", \"7,8\", \"8,9\", \"9,10\", \"10,11\", \"11,12\"))\n",
    "\n",
    "#read in the centroids adjusted for the simulation, so the Magbangons combined \n",
    "centroids <- fread(file=\"~/oceanography/empirical_data/site_centroids_SimTest.csv\")\n",
    "setorder(centroids, site)\n",
    "\n",
    "UnsampledSites <- c(\"SF1\", \"SF2\", \"SF3\", \"SF4\", \"SF5\", \"SF6\", \"Pangasugan\", \"Other\", \"CAI\") \n"
   ]
  },
  {
   "cell_type": "code",
   "execution_count": 13,
   "metadata": {},
   "outputs": [
    {
     "data": {
      "text/html": [
       "<table>\n",
       "<thead><tr><th scope=col>year</th><th scope=col>mei</th><th scope=col>month</th></tr></thead>\n",
       "<tbody>\n",
       "\t<tr><td>1979 </td><td> 0.47</td><td>12   </td></tr>\n",
       "\t<tr><td>1979 </td><td> 0.47</td><td> 1   </td></tr>\n",
       "\t<tr><td>1980 </td><td> 0.35</td><td>12   </td></tr>\n",
       "\t<tr><td>1980 </td><td> 0.35</td><td> 1   </td></tr>\n",
       "\t<tr><td>1981 </td><td>-0.33</td><td>12   </td></tr>\n",
       "\t<tr><td>1981 </td><td>-0.33</td><td> 1   </td></tr>\n",
       "</tbody>\n",
       "</table>\n"
      ],
      "text/latex": [
       "\\begin{tabular}{r|lll}\n",
       " year & mei & month\\\\\n",
       "\\hline\n",
       "\t 1979  &  0.47 & 12   \\\\\n",
       "\t 1979  &  0.47 &  1   \\\\\n",
       "\t 1980  &  0.35 & 12   \\\\\n",
       "\t 1980  &  0.35 &  1   \\\\\n",
       "\t 1981  & -0.33 & 12   \\\\\n",
       "\t 1981  & -0.33 &  1   \\\\\n",
       "\\end{tabular}\n"
      ],
      "text/markdown": [
       "\n",
       "| year | mei | month |\n",
       "|---|---|---|\n",
       "| 1979  |  0.47 | 12    |\n",
       "| 1979  |  0.47 |  1    |\n",
       "| 1980  |  0.35 | 12    |\n",
       "| 1980  |  0.35 |  1    |\n",
       "| 1981  | -0.33 | 12    |\n",
       "| 1981  | -0.33 |  1    |\n",
       "\n"
      ],
      "text/plain": [
       "  year mei   month\n",
       "1 1979  0.47 12   \n",
       "2 1979  0.47  1   \n",
       "3 1980  0.35 12   \n",
       "4 1980  0.35  1   \n",
       "5 1981 -0.33 12   \n",
       "6 1981 -0.33  1   "
      ]
     },
     "metadata": {},
     "output_type": "display_data"
    }
   ],
   "source": [
    "head(Enso)"
   ]
  },
  {
   "cell_type": "code",
   "execution_count": null,
   "metadata": {},
   "outputs": [],
   "source": []
  },
  {
   "cell_type": "code",
   "execution_count": null,
   "metadata": {},
   "outputs": [],
   "source": []
  },
  {
   "cell_type": "code",
   "execution_count": null,
   "metadata": {},
   "outputs": [],
   "source": [
    "##add in the discretized kernel connectivity matrix from the genetics\n",
    "##reformat to be long form and fixed discrepancies in Magbangon names\n",
    "#GenConnMat <- unique(melt(GenConnMat, id.vars=c(\"source\", \"destination\"), variable.name=\"year\", value.name=\"prob_disp\")[#make long format\n",
    "#    grep(\"N. Magbangon|S. Magbangon\", GenConnMat$source), source :=\"Magbangon\"][ #replace the S/N Magbangons with just Magbangon in the source column\n",
    "#    grep(\"N. Magbangon|S. Magbangon\", GenConnMat$destination), destination :=\"Magbangon\"][ #then the destination\n",
    "#    , prob_disp := sum(prob_disp), by=c(\"source\", \"destination\", \"year\")], by=c(\"source\", \"destination\", \"year\"))[#finally aggregate and sum the data by source/dest and only the rows with Magbangons will be collapsed into one upon using unique to get rid of repeats\n",
    "#    , year := as.numeric(as.character(year))]#melt turns year into a factor for a reason I don't understand. change back to a number\n",
    "#                                                                                                                  #note to self, I checked this code worked as expected by making sure the combined Magbangon prob_disp values added to what the prob_disp column ends up saying after the unique()\n",
    "#\n",
    "#GenSimConn <- GenConnMat[GenSimConn, on=.(source, destination, year=year_sampled)] #join discretized kernels into sim connectivity table\n",
    "#setnames(GenSimConn, \"year\", \"year_sampled\")\n",
    "##for each source, what is the normalized recruitment at each destination? \n",
    "#GenSimConn[, annual_source_normalized_recruitment := sum(daily_particles_recruited)/sum(daily_particles_released), by=c(\"source\", \"destination\",\"year_sampled\")]\n",
    "#\n",
    "##check that it worked as expected \n",
    "#sum(unique(GenSimConn[source==\"Sitio Baybayon\" & year_sampled ==2014], by=c(\"source\", \"destination\"))[, annual_source_normalized_recruitment]) #should equal 1\n",
    "\n",
    "\n"
   ]
  },
  {
   "cell_type": "code",
   "execution_count": null,
   "metadata": {},
   "outputs": [],
   "source": []
  },
  {
   "cell_type": "code",
   "execution_count": 37,
   "metadata": {},
   "outputs": [
    {
     "data": {
      "text/html": [
       "1008"
      ],
      "text/latex": [
       "1008"
      ],
      "text/markdown": [
       "1008"
      ],
      "text/plain": [
       "[1] 1008"
      ]
     },
     "metadata": {},
     "output_type": "display_data"
    }
   ],
   "source": [
    "#add in all of the physical environmental data\n",
    "#read in environmental data\n",
    "ENSO<- fread(\"~/oceanography/empirical_data/environment/enso/meiv2.csv\")\n",
    "#reformat to match month ID in ROMs data. MEI has overlapping 2 month seasons\n",
    "setnames(ENSO, c(\"YEAR\",\"DJ\", \"JF\", \"FM\", \"MA\", \"AM\", \"MJ\", \"JJ\", \"JA\", \"AS\", \"SO\", \"ON\", \"ND\"), c(\"year\",\"12,1\", \"1,2\", \"2,3\", \"3,4\", \"4,5\", \"5,6\", \"6,7\", \"7,8\", \"8,9\", \"9,10\", \"10,11\", \"11,12\"))\n",
    "\n",
    "#add in the ENSO data\n",
    "#convert to long form\n",
    "ENSO <- melt(ENSO, id.vars=c(\"year\"), variable.name=\"month\", value.name=\"mei\")[#make long form with month id column to house what were column headers\n",
    "    , lapply(.SD, function(x) unlist(tstrsplit(x, \",\"))), #split the comma separated month numbers into separate rows\n",
    "   .SDcols = \"month\",by = c(\"year\",\"mei\")][, month := as.numeric(month)] #change month column from character to number\n",
    "\n",
    "#ENSO <- unique(ENSO, by=c(\"year\", \"month\"))      #mei is calculated in 2 month overlapping windows... not sure how to deal with this if MEI is two values for one month. I will just pick the first row and be consistent with using that, but follow up later with others to think if that is fine.\n",
    "\n",
    "nrow(ENSO) #should be 504\n",
    "ENSO <- ENSO[year %in% c(2011, 2012, 2013, 2014)][, annual_avg_mei := mean(mei), by=c(\"year\")][\n",
    "    , monsoon := ifelse(month %in% c(11, 12, 1, 2, 3, 4, 5), \"NEM\", \"SWM\")][\n",
    "    , annual_monsoon_avg_mei := mean(mei), by=c(\"year\", \"monsoon\")][, monsoon_avg_mei := mean(mei), by=c(\"monsoon\")][ \n",
    "    , annual_monsoon_max_mei := max(mei), by=c(\"year\",\"monsoon\")][\n",
    "    , annual_monsoon_min_mei := min(mei), by=c(\"year\",\"monsoon\")]\n",
    "ConnPhysMeta <- right_join(ENSO, SimConnMeta, by=c(year=\"sim_year\", month=\"sim_month\"))[source %!in% UnsampledSites & dest %!in% UnsampledSites]"
   ]
  },
  {
   "cell_type": "code",
   "execution_count": 39,
   "metadata": {},
   "outputs": [
    {
     "data": {
      "text/html": [
       "<table>\n",
       "<thead><tr><th scope=col>year</th><th scope=col>mei</th><th scope=col>month</th><th scope=col>annual_avg_mei</th><th scope=col>monsoon</th><th scope=col>annual_monsoon_avg_mei</th><th scope=col>monsoon_avg_mei</th><th scope=col>annual_monsoon_max_mei</th><th scope=col>annual_monsoon_min_mei</th></tr></thead>\n",
       "<tbody>\n",
       "\t<tr><td>2011      </td><td>-1.83     </td><td>12        </td><td>-1.3400000</td><td>NEM       </td><td>-1.5235714</td><td>-0.61625  </td><td>-1.08     </td><td>-1.83     </td></tr>\n",
       "\t<tr><td>2011      </td><td>-1.83     </td><td> 1        </td><td>-1.3400000</td><td>NEM       </td><td>-1.5235714</td><td>-0.61625  </td><td>-1.08     </td><td>-1.83     </td></tr>\n",
       "\t<tr><td>2012      </td><td>-1.08     </td><td>12        </td><td>-0.3200000</td><td>NEM       </td><td>-0.4807143</td><td>-0.61625  </td><td>-0.07     </td><td>-1.08     </td></tr>\n",
       "\t<tr><td>2012      </td><td>-1.08     </td><td> 1        </td><td>-0.3200000</td><td>NEM       </td><td>-0.4807143</td><td>-0.61625  </td><td>-0.07     </td><td>-1.08     </td></tr>\n",
       "\t<tr><td>2013      </td><td>-0.05     </td><td>12        </td><td>-0.4116667</td><td>NEM       </td><td>-0.3385714</td><td>-0.61625  </td><td>-0.05     </td><td>-1.18     </td></tr>\n",
       "\t<tr><td>2013      </td><td>-0.05     </td><td> 1        </td><td>-0.4116667</td><td>NEM       </td><td>-0.3385714</td><td>-0.61625  </td><td>-0.05     </td><td>-1.18     </td></tr>\n",
       "</tbody>\n",
       "</table>\n"
      ],
      "text/latex": [
       "\\begin{tabular}{r|lllllllll}\n",
       " year & mei & month & annual\\_avg\\_mei & monsoon & annual\\_monsoon\\_avg\\_mei & monsoon\\_avg\\_mei & annual\\_monsoon\\_max\\_mei & annual\\_monsoon\\_min\\_mei\\\\\n",
       "\\hline\n",
       "\t 2011       & -1.83      & 12         & -1.3400000 & NEM        & -1.5235714 & -0.61625   & -1.08      & -1.83     \\\\\n",
       "\t 2011       & -1.83      &  1         & -1.3400000 & NEM        & -1.5235714 & -0.61625   & -1.08      & -1.83     \\\\\n",
       "\t 2012       & -1.08      & 12         & -0.3200000 & NEM        & -0.4807143 & -0.61625   & -0.07      & -1.08     \\\\\n",
       "\t 2012       & -1.08      &  1         & -0.3200000 & NEM        & -0.4807143 & -0.61625   & -0.07      & -1.08     \\\\\n",
       "\t 2013       & -0.05      & 12         & -0.4116667 & NEM        & -0.3385714 & -0.61625   & -0.05      & -1.18     \\\\\n",
       "\t 2013       & -0.05      &  1         & -0.4116667 & NEM        & -0.3385714 & -0.61625   & -0.05      & -1.18     \\\\\n",
       "\\end{tabular}\n"
      ],
      "text/markdown": [
       "\n",
       "| year | mei | month | annual_avg_mei | monsoon | annual_monsoon_avg_mei | monsoon_avg_mei | annual_monsoon_max_mei | annual_monsoon_min_mei |\n",
       "|---|---|---|---|---|---|---|---|---|\n",
       "| 2011       | -1.83      | 12         | -1.3400000 | NEM        | -1.5235714 | -0.61625   | -1.08      | -1.83      |\n",
       "| 2011       | -1.83      |  1         | -1.3400000 | NEM        | -1.5235714 | -0.61625   | -1.08      | -1.83      |\n",
       "| 2012       | -1.08      | 12         | -0.3200000 | NEM        | -0.4807143 | -0.61625   | -0.07      | -1.08      |\n",
       "| 2012       | -1.08      |  1         | -0.3200000 | NEM        | -0.4807143 | -0.61625   | -0.07      | -1.08      |\n",
       "| 2013       | -0.05      | 12         | -0.4116667 | NEM        | -0.3385714 | -0.61625   | -0.05      | -1.18      |\n",
       "| 2013       | -0.05      |  1         | -0.4116667 | NEM        | -0.3385714 | -0.61625   | -0.05      | -1.18      |\n",
       "\n"
      ],
      "text/plain": [
       "  year mei   month annual_avg_mei monsoon annual_monsoon_avg_mei\n",
       "1 2011 -1.83 12    -1.3400000     NEM     -1.5235714            \n",
       "2 2011 -1.83  1    -1.3400000     NEM     -1.5235714            \n",
       "3 2012 -1.08 12    -0.3200000     NEM     -0.4807143            \n",
       "4 2012 -1.08  1    -0.3200000     NEM     -0.4807143            \n",
       "5 2013 -0.05 12    -0.4116667     NEM     -0.3385714            \n",
       "6 2013 -0.05  1    -0.4116667     NEM     -0.3385714            \n",
       "  monsoon_avg_mei annual_monsoon_max_mei annual_monsoon_min_mei\n",
       "1 -0.61625        -1.08                  -1.83                 \n",
       "2 -0.61625        -1.08                  -1.83                 \n",
       "3 -0.61625        -0.07                  -1.08                 \n",
       "4 -0.61625        -0.07                  -1.08                 \n",
       "5 -0.61625        -0.05                  -1.18                 \n",
       "6 -0.61625        -0.05                  -1.18                 "
      ]
     },
     "metadata": {},
     "output_type": "display_data"
    },
    {
     "data": {
      "text/html": [
       "<table>\n",
       "<thead><tr><th scope=col>date</th><th scope=col>source</th><th scope=col>dest</th><th scope=col>sim_month</th><th scope=col>sim_day</th><th scope=col>sim_year</th><th scope=col>year_sampled</th><th scope=col>sim_monsoon</th><th scope=col>daily_particles_rec</th><th scope=col>daily_particles_released</th><th scope=col>dist_km</th><th scope=col>bearing</th><th scope=col>direction</th></tr></thead>\n",
       "<tbody>\n",
       "\t<tr><td>2010-10-01      </td><td>Other           </td><td>Palanas         </td><td>10              </td><td>10              </td><td>2010            </td><td>2011            </td><td>SWM             </td><td> 9              </td><td>4497728         </td><td>NA              </td><td>NA              </td><td>NA              </td></tr>\n",
       "\t<tr><td>2010-10-01      </td><td>Other           </td><td>Wangag          </td><td>10              </td><td>10              </td><td>2010            </td><td>2011            </td><td>SWM             </td><td> 4              </td><td>4497728         </td><td>NA              </td><td>NA              </td><td>NA              </td></tr>\n",
       "\t<tr><td>2010-10-01      </td><td>Other           </td><td>Magbangon       </td><td>10              </td><td>10              </td><td>2010            </td><td>2011            </td><td>SWM             </td><td>11              </td><td>4497728         </td><td>NA              </td><td>NA              </td><td>NA              </td></tr>\n",
       "\t<tr><td>2010-10-01      </td><td>Other           </td><td>Cabatoan        </td><td>10              </td><td>10              </td><td>2010            </td><td>2011            </td><td>SWM             </td><td>12              </td><td>4497728         </td><td>NA              </td><td>NA              </td><td>NA              </td></tr>\n",
       "\t<tr><td>2010-10-01      </td><td>Other           </td><td>Caridad Cemetery</td><td>10              </td><td>10              </td><td>2010            </td><td>2011            </td><td>SWM             </td><td> 0              </td><td>4497728         </td><td>NA              </td><td>NA              </td><td>NA              </td></tr>\n",
       "\t<tr><td>2010-10-01      </td><td>Other           </td><td>Caridad Proper  </td><td>10              </td><td>10              </td><td>2010            </td><td>2011            </td><td>SWM             </td><td> 1              </td><td>4497728         </td><td>NA              </td><td>NA              </td><td>NA              </td></tr>\n",
       "</tbody>\n",
       "</table>\n"
      ],
      "text/latex": [
       "\\begin{tabular}{r|lllllllllllll}\n",
       " date & source & dest & sim\\_month & sim\\_day & sim\\_year & year\\_sampled & sim\\_monsoon & daily\\_particles\\_rec & daily\\_particles\\_released & dist\\_km & bearing & direction\\\\\n",
       "\\hline\n",
       "\t 2010-10-01       & Other            & Palanas          & 10               & 10               & 2010             & 2011             & SWM              &  9               & 4497728          & NA               & NA               & NA              \\\\\n",
       "\t 2010-10-01       & Other            & Wangag           & 10               & 10               & 2010             & 2011             & SWM              &  4               & 4497728          & NA               & NA               & NA              \\\\\n",
       "\t 2010-10-01       & Other            & Magbangon        & 10               & 10               & 2010             & 2011             & SWM              & 11               & 4497728          & NA               & NA               & NA              \\\\\n",
       "\t 2010-10-01       & Other            & Cabatoan         & 10               & 10               & 2010             & 2011             & SWM              & 12               & 4497728          & NA               & NA               & NA              \\\\\n",
       "\t 2010-10-01       & Other            & Caridad Cemetery & 10               & 10               & 2010             & 2011             & SWM              &  0               & 4497728          & NA               & NA               & NA              \\\\\n",
       "\t 2010-10-01       & Other            & Caridad Proper   & 10               & 10               & 2010             & 2011             & SWM              &  1               & 4497728          & NA               & NA               & NA              \\\\\n",
       "\\end{tabular}\n"
      ],
      "text/markdown": [
       "\n",
       "| date | source | dest | sim_month | sim_day | sim_year | year_sampled | sim_monsoon | daily_particles_rec | daily_particles_released | dist_km | bearing | direction |\n",
       "|---|---|---|---|---|---|---|---|---|---|---|---|---|\n",
       "| 2010-10-01       | Other            | Palanas          | 10               | 10               | 2010             | 2011             | SWM              |  9               | 4497728          | NA               | NA               | NA               |\n",
       "| 2010-10-01       | Other            | Wangag           | 10               | 10               | 2010             | 2011             | SWM              |  4               | 4497728          | NA               | NA               | NA               |\n",
       "| 2010-10-01       | Other            | Magbangon        | 10               | 10               | 2010             | 2011             | SWM              | 11               | 4497728          | NA               | NA               | NA               |\n",
       "| 2010-10-01       | Other            | Cabatoan         | 10               | 10               | 2010             | 2011             | SWM              | 12               | 4497728          | NA               | NA               | NA               |\n",
       "| 2010-10-01       | Other            | Caridad Cemetery | 10               | 10               | 2010             | 2011             | SWM              |  0               | 4497728          | NA               | NA               | NA               |\n",
       "| 2010-10-01       | Other            | Caridad Proper   | 10               | 10               | 2010             | 2011             | SWM              |  1               | 4497728          | NA               | NA               | NA               |\n",
       "\n"
      ],
      "text/plain": [
       "  date       source dest             sim_month sim_day sim_year year_sampled\n",
       "1 2010-10-01 Other  Palanas          10        10      2010     2011        \n",
       "2 2010-10-01 Other  Wangag           10        10      2010     2011        \n",
       "3 2010-10-01 Other  Magbangon        10        10      2010     2011        \n",
       "4 2010-10-01 Other  Cabatoan         10        10      2010     2011        \n",
       "5 2010-10-01 Other  Caridad Cemetery 10        10      2010     2011        \n",
       "6 2010-10-01 Other  Caridad Proper   10        10      2010     2011        \n",
       "  sim_monsoon daily_particles_rec daily_particles_released dist_km bearing\n",
       "1 SWM          9                  4497728                  NA      NA     \n",
       "2 SWM          4                  4497728                  NA      NA     \n",
       "3 SWM         11                  4497728                  NA      NA     \n",
       "4 SWM         12                  4497728                  NA      NA     \n",
       "5 SWM          0                  4497728                  NA      NA     \n",
       "6 SWM          1                  4497728                  NA      NA     \n",
       "  direction\n",
       "1 NA       \n",
       "2 NA       \n",
       "3 NA       \n",
       "4 NA       \n",
       "5 NA       \n",
       "6 NA       "
      ]
     },
     "metadata": {},
     "output_type": "display_data"
    },
    {
     "data": {
      "text/html": [
       "<table>\n",
       "<thead><tr><th scope=col>year</th><th scope=col>mei</th><th scope=col>month</th><th scope=col>annual_avg_mei</th><th scope=col>monsoon</th><th scope=col>annual_monsoon_avg_mei</th><th scope=col>monsoon_avg_mei</th><th scope=col>annual_monsoon_max_mei</th><th scope=col>annual_monsoon_min_mei</th><th scope=col>date</th><th scope=col>source</th><th scope=col>dest</th><th scope=col>sim_day</th><th scope=col>year_sampled</th><th scope=col>sim_monsoon</th><th scope=col>daily_particles_rec</th><th scope=col>daily_particles_released</th><th scope=col>dist_km</th><th scope=col>bearing</th><th scope=col>direction</th></tr></thead>\n",
       "<tbody>\n",
       "\t<tr><td>2011            </td><td>-1.83           </td><td>12              </td><td>-1.34           </td><td>NEM             </td><td>-1.523571       </td><td>-0.61625        </td><td>-1.08           </td><td>-1.83           </td><td>2011-12-01      </td><td>Sitio Baybayon  </td><td>Palanas         </td><td>12              </td><td>2012            </td><td>NEM             </td><td> 0              </td><td>1984            </td><td>27.29194        </td><td>-14.977111      </td><td>345.0229        </td></tr>\n",
       "\t<tr><td>2011            </td><td>-1.83           </td><td>12              </td><td>-1.34           </td><td>NEM             </td><td>-1.523571       </td><td>-0.61625        </td><td>-1.08           </td><td>-1.83           </td><td>2011-12-01      </td><td>Sitio Baybayon  </td><td>Wangag          </td><td>12              </td><td>2012            </td><td>NEM             </td><td> 0              </td><td>1984            </td><td>26.86207        </td><td>-14.278206      </td><td>345.7218        </td></tr>\n",
       "\t<tr><td>2011            </td><td>-1.83           </td><td>12              </td><td>-1.34           </td><td>NEM             </td><td>-1.523571       </td><td>-0.61625        </td><td>-1.08           </td><td>-1.83           </td><td>2011-12-01      </td><td>Sitio Baybayon  </td><td>Magbangon       </td><td>12              </td><td>2012            </td><td>NEM             </td><td>32              </td><td>1984            </td><td>25.11346        </td><td>-12.688177      </td><td>347.3118        </td></tr>\n",
       "\t<tr><td>2011            </td><td>-1.83           </td><td>12              </td><td>-1.34           </td><td>NEM             </td><td>-1.523571       </td><td>-0.61625        </td><td>-1.08           </td><td>-1.83           </td><td>2011-12-01      </td><td>Sitio Baybayon  </td><td>Cabatoan        </td><td>12              </td><td>2012            </td><td>NEM             </td><td> 0              </td><td>1984            </td><td>24.91056        </td><td>-12.353326      </td><td>347.6467        </td></tr>\n",
       "\t<tr><td>2011            </td><td>-1.83           </td><td>12              </td><td>-1.34           </td><td>NEM             </td><td>-1.523571       </td><td>-0.61625        </td><td>-1.08           </td><td>-1.83           </td><td>2011-12-01      </td><td>Sitio Baybayon  </td><td>Caridad Cemetery</td><td>12              </td><td>2012            </td><td>NEM             </td><td> 0              </td><td>1984            </td><td>22.43538        </td><td> -8.054163      </td><td>351.9458        </td></tr>\n",
       "\t<tr><td>2011            </td><td>-1.83           </td><td>12              </td><td>-1.34           </td><td>NEM             </td><td>-1.523571       </td><td>-0.61625        </td><td>-1.08           </td><td>-1.83           </td><td>2011-12-01      </td><td>Sitio Baybayon  </td><td>Caridad Proper  </td><td>12              </td><td>2012            </td><td>NEM             </td><td> 0              </td><td>1984            </td><td>21.75097        </td><td> -7.170156      </td><td>352.8298        </td></tr>\n",
       "</tbody>\n",
       "</table>\n"
      ],
      "text/latex": [
       "\\begin{tabular}{r|llllllllllllllllllll}\n",
       " year & mei & month & annual\\_avg\\_mei & monsoon & annual\\_monsoon\\_avg\\_mei & monsoon\\_avg\\_mei & annual\\_monsoon\\_max\\_mei & annual\\_monsoon\\_min\\_mei & date & source & dest & sim\\_day & year\\_sampled & sim\\_monsoon & daily\\_particles\\_rec & daily\\_particles\\_released & dist\\_km & bearing & direction\\\\\n",
       "\\hline\n",
       "\t 2011             & -1.83            & 12               & -1.34            & NEM              & -1.523571        & -0.61625         & -1.08            & -1.83            & 2011-12-01       & Sitio Baybayon   & Palanas          & 12               & 2012             & NEM              &  0               & 1984             & 27.29194         & -14.977111       & 345.0229        \\\\\n",
       "\t 2011             & -1.83            & 12               & -1.34            & NEM              & -1.523571        & -0.61625         & -1.08            & -1.83            & 2011-12-01       & Sitio Baybayon   & Wangag           & 12               & 2012             & NEM              &  0               & 1984             & 26.86207         & -14.278206       & 345.7218        \\\\\n",
       "\t 2011             & -1.83            & 12               & -1.34            & NEM              & -1.523571        & -0.61625         & -1.08            & -1.83            & 2011-12-01       & Sitio Baybayon   & Magbangon        & 12               & 2012             & NEM              & 32               & 1984             & 25.11346         & -12.688177       & 347.3118        \\\\\n",
       "\t 2011             & -1.83            & 12               & -1.34            & NEM              & -1.523571        & -0.61625         & -1.08            & -1.83            & 2011-12-01       & Sitio Baybayon   & Cabatoan         & 12               & 2012             & NEM              &  0               & 1984             & 24.91056         & -12.353326       & 347.6467        \\\\\n",
       "\t 2011             & -1.83            & 12               & -1.34            & NEM              & -1.523571        & -0.61625         & -1.08            & -1.83            & 2011-12-01       & Sitio Baybayon   & Caridad Cemetery & 12               & 2012             & NEM              &  0               & 1984             & 22.43538         &  -8.054163       & 351.9458        \\\\\n",
       "\t 2011             & -1.83            & 12               & -1.34            & NEM              & -1.523571        & -0.61625         & -1.08            & -1.83            & 2011-12-01       & Sitio Baybayon   & Caridad Proper   & 12               & 2012             & NEM              &  0               & 1984             & 21.75097         &  -7.170156       & 352.8298        \\\\\n",
       "\\end{tabular}\n"
      ],
      "text/markdown": [
       "\n",
       "| year | mei | month | annual_avg_mei | monsoon | annual_monsoon_avg_mei | monsoon_avg_mei | annual_monsoon_max_mei | annual_monsoon_min_mei | date | source | dest | sim_day | year_sampled | sim_monsoon | daily_particles_rec | daily_particles_released | dist_km | bearing | direction |\n",
       "|---|---|---|---|---|---|---|---|---|---|---|---|---|---|---|---|---|---|---|---|\n",
       "| 2011             | -1.83            | 12               | -1.34            | NEM              | -1.523571        | -0.61625         | -1.08            | -1.83            | 2011-12-01       | Sitio Baybayon   | Palanas          | 12               | 2012             | NEM              |  0               | 1984             | 27.29194         | -14.977111       | 345.0229         |\n",
       "| 2011             | -1.83            | 12               | -1.34            | NEM              | -1.523571        | -0.61625         | -1.08            | -1.83            | 2011-12-01       | Sitio Baybayon   | Wangag           | 12               | 2012             | NEM              |  0               | 1984             | 26.86207         | -14.278206       | 345.7218         |\n",
       "| 2011             | -1.83            | 12               | -1.34            | NEM              | -1.523571        | -0.61625         | -1.08            | -1.83            | 2011-12-01       | Sitio Baybayon   | Magbangon        | 12               | 2012             | NEM              | 32               | 1984             | 25.11346         | -12.688177       | 347.3118         |\n",
       "| 2011             | -1.83            | 12               | -1.34            | NEM              | -1.523571        | -0.61625         | -1.08            | -1.83            | 2011-12-01       | Sitio Baybayon   | Cabatoan         | 12               | 2012             | NEM              |  0               | 1984             | 24.91056         | -12.353326       | 347.6467         |\n",
       "| 2011             | -1.83            | 12               | -1.34            | NEM              | -1.523571        | -0.61625         | -1.08            | -1.83            | 2011-12-01       | Sitio Baybayon   | Caridad Cemetery | 12               | 2012             | NEM              |  0               | 1984             | 22.43538         |  -8.054163       | 351.9458         |\n",
       "| 2011             | -1.83            | 12               | -1.34            | NEM              | -1.523571        | -0.61625         | -1.08            | -1.83            | 2011-12-01       | Sitio Baybayon   | Caridad Proper   | 12               | 2012             | NEM              |  0               | 1984             | 21.75097         |  -7.170156       | 352.8298         |\n",
       "\n"
      ],
      "text/plain": [
       "  year mei   month annual_avg_mei monsoon annual_monsoon_avg_mei\n",
       "1 2011 -1.83 12    -1.34          NEM     -1.523571             \n",
       "2 2011 -1.83 12    -1.34          NEM     -1.523571             \n",
       "3 2011 -1.83 12    -1.34          NEM     -1.523571             \n",
       "4 2011 -1.83 12    -1.34          NEM     -1.523571             \n",
       "5 2011 -1.83 12    -1.34          NEM     -1.523571             \n",
       "6 2011 -1.83 12    -1.34          NEM     -1.523571             \n",
       "  monsoon_avg_mei annual_monsoon_max_mei annual_monsoon_min_mei date      \n",
       "1 -0.61625        -1.08                  -1.83                  2011-12-01\n",
       "2 -0.61625        -1.08                  -1.83                  2011-12-01\n",
       "3 -0.61625        -1.08                  -1.83                  2011-12-01\n",
       "4 -0.61625        -1.08                  -1.83                  2011-12-01\n",
       "5 -0.61625        -1.08                  -1.83                  2011-12-01\n",
       "6 -0.61625        -1.08                  -1.83                  2011-12-01\n",
       "  source         dest             sim_day year_sampled sim_monsoon\n",
       "1 Sitio Baybayon Palanas          12      2012         NEM        \n",
       "2 Sitio Baybayon Wangag           12      2012         NEM        \n",
       "3 Sitio Baybayon Magbangon        12      2012         NEM        \n",
       "4 Sitio Baybayon Cabatoan         12      2012         NEM        \n",
       "5 Sitio Baybayon Caridad Cemetery 12      2012         NEM        \n",
       "6 Sitio Baybayon Caridad Proper   12      2012         NEM        \n",
       "  daily_particles_rec daily_particles_released dist_km  bearing    direction\n",
       "1  0                  1984                     27.29194 -14.977111 345.0229 \n",
       "2  0                  1984                     26.86207 -14.278206 345.7218 \n",
       "3 32                  1984                     25.11346 -12.688177 347.3118 \n",
       "4  0                  1984                     24.91056 -12.353326 347.6467 \n",
       "5  0                  1984                     22.43538  -8.054163 351.9458 \n",
       "6  0                  1984                     21.75097  -7.170156 352.8298 "
      ]
     },
     "metadata": {},
     "output_type": "display_data"
    }
   ],
   "source": [
    "head(ENSO)\n",
    "head(SimConnMeta)\n",
    "head(ConnPhysMeta[year != 2010])"
   ]
  },
  {
   "cell_type": "code",
   "execution_count": 41,
   "metadata": {},
   "outputs": [],
   "source": [
    "test_mod <- glm(data=ConnPhysMeta, daily_particles_rec ~ as.factor(year), family=\"poisson\")"
   ]
  },
  {
   "cell_type": "code",
   "execution_count": 42,
   "metadata": {},
   "outputs": [
    {
     "data": {
      "text/plain": [
       "\n",
       "Call:\n",
       "glm(formula = daily_particles_rec ~ as.factor(year), family = \"poisson\", \n",
       "    data = ConnPhysMeta)\n",
       "\n",
       "Deviance Residuals: \n",
       "    Min       1Q   Median       3Q      Max  \n",
       " -2.614   -2.028   -1.843   -1.590  113.871  \n",
       "\n",
       "Coefficients:\n",
       "                     Estimate Std. Error z value Pr(>|z|)    \n",
       "(Intercept)          0.441482   0.004400  100.33   <2e-16 ***\n",
       "as.factor(year)2011  0.279416   0.004705   59.39   <2e-16 ***\n",
       "as.factor(year)2012  0.088072   0.004765   18.48   <2e-16 ***\n",
       "as.factor(year)2013 -0.207551   0.004886  -42.48   <2e-16 ***\n",
       "as.factor(year)2014  0.787378   0.004808  163.77   <2e-16 ***\n",
       "---\n",
       "Signif. codes:  0 ‘***’ 0.001 ‘**’ 0.01 ‘*’ 0.05 ‘.’ 0.1 ‘ ’ 1\n",
       "\n",
       "(Dispersion parameter for poisson family taken to be 1)\n",
       "\n",
       "    Null deviance: 8912114  on 638247  degrees of freedom\n",
       "Residual deviance: 8785250  on 638243  degrees of freedom\n",
       "AIC: 8998284\n",
       "\n",
       "Number of Fisher Scoring iterations: 9\n"
      ]
     },
     "metadata": {},
     "output_type": "display_data"
    }
   ],
   "source": [
    "summary(test_mod)"
   ]
  },
  {
   "cell_type": "code",
   "execution_count": null,
   "metadata": {},
   "outputs": [],
   "source": []
  },
  {
   "cell_type": "code",
   "execution_count": null,
   "metadata": {},
   "outputs": [],
   "source": [
    "\n",
    "head(GenSimConn)"
   ]
  },
  {
   "cell_type": "code",
   "execution_count": null,
   "metadata": {
    "scrolled": false
   },
   "outputs": [],
   "source": [
    "#add in MARSPEC data\n",
    "test <- list_layers(marine=TRUE)\n",
    "setDT(test)\n",
    "\n",
    "test[ end_year >=2014]"
   ]
  },
  {
   "cell_type": "code",
   "execution_count": null,
   "metadata": {},
   "outputs": [],
   "source": [
    "bath_mean <- load_layers(\"BO_bathymean\", datadir = \"~/oceanography/empirical_data/environment/\") \n",
    "bath_mean\n",
    "max_vel <- load_layers(\"BO2_curvelmax_bdmin\", datadir = \"~/oceanography/empirical_data/environment/\")\n",
    "max_vel\n",
    "sst <- load_layers(\"BO21_tempmean_ss\" , datadir = \"~/oceanography/empirical_data/environment/\")\n",
    "sst"
   ]
  },
  {
   "cell_type": "code",
   "execution_count": null,
   "metadata": {},
   "outputs": [],
   "source": [
    "sst$year"
   ]
  },
  {
   "cell_type": "code",
   "execution_count": null,
   "metadata": {},
   "outputs": [],
   "source": [
    "#geographic extent of our area\n",
    "extent <-c(min(centroids$lon), max(centroids$lon), min(centroids$lat), max(centroids$lat))"
   ]
  },
  {
   "cell_type": "code",
   "execution_count": null,
   "metadata": {},
   "outputs": [],
   "source": []
  },
  {
   "cell_type": "code",
   "execution_count": null,
   "metadata": {},
   "outputs": [],
   "source": [
    "install.packages(\"oce\", dependencies = TRUE)"
   ]
  },
  {
   "cell_type": "code",
   "execution_count": null,
   "metadata": {},
   "outputs": [],
   "source": [
    "library(\"ncdf4\")"
   ]
  },
  {
   "cell_type": "code",
   "execution_count": null,
   "metadata": {},
   "outputs": [],
   "source": [
    "nc <- nc_open(\"~/oceanography/empirical_data/environment/noaa_sst/sst.wkmean.1990-present.nc\")"
   ]
  },
  {
   "cell_type": "code",
   "execution_count": null,
   "metadata": {},
   "outputs": [],
   "source": [
    "print(nc)"
   ]
  },
  {
   "cell_type": "code",
   "execution_count": null,
   "metadata": {},
   "outputs": [],
   "source": [
    "sst <- data.table(lat = ncvar_get(nc, \"lat\"),\n",
    "lon = ncvar_get(nc, \"lon\"),\n",
    "time = ncvar_get(nc, \"time\"),\n",
    "sst = ncvar_get(nc, \"sst\"))[, time := as.POSIXct(time, origin = '1981-01-01 00:00:00', tz = 'UTC')]\n"
   ]
  },
  {
   "cell_type": "code",
   "execution_count": null,
   "metadata": {},
   "outputs": [],
   "source": [
    "summary(sst$time)"
   ]
  },
  {
   "cell_type": "code",
   "execution_count": null,
   "metadata": {},
   "outputs": [],
   "source": [
    "\n",
    "SST_DT <- setDT(matrix(nrow=0, ncol=4))\n",
    "\n",
    "cols_conn_mat <- c(\"date\",\"lat\", \"lon\", \"weekly_mean\")\n",
    "cols_tmp <- c(\"lat\", \"lon\", \"weekly_mean\")\n",
    "\n",
    "names(conn_mat_full) <- cols_conn_mat\n",
    "\n",
    "for(i in 1:nrow(all_dates2)){\n",
    "    \n",
    "    index_eval <- all_dates2$index[i]\n",
    "    \n",
    "    tmp <- as.data.frame(conn_mat_all[[i]], xy=T)   #pull out a data frame for each date\n",
    "    names(tmp) <- cols_tmp\n",
    "    \n",
    "    date <- filter(all_dates2, index==index_eval)[2] #grab the date\n",
    "    date_df <- do.call(\"rbind\", replicate(784, date, simplify = FALSE)) #make a df of the date\n",
    "    tmp2 <- bind_cols(date_df, tmp)\n",
    "\n",
    " \n",
    "    conn_mat_full <- rbind(conn_mat_full, tmp2) \n",
    "}\n"
   ]
  }
 ],
 "metadata": {
  "kernelspec": {
   "display_name": "R",
   "language": "R",
   "name": "ir"
  },
  "language_info": {
   "codemirror_mode": "r",
   "file_extension": ".r",
   "mimetype": "text/x-r-source",
   "name": "R",
   "pygments_lexer": "r",
   "version": "3.6.1"
  }
 },
 "nbformat": 4,
 "nbformat_minor": 4
}
